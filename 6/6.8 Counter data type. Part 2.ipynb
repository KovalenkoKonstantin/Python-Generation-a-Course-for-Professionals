{
 "cells": [
  {
   "cell_type": "markdown",
   "source": [
    "Тема урока: тип данных Counter\n",
    "Методы most_common(), elements()\n",
    "Методы total(), subtract()\n",
    "Операторы +, -, &, |\n",
    "Аннотация. Урок посвящен типу данных Counter."
   ],
   "metadata": {
    "collapsed": false
   },
   "id": "26e7d3034fbc9820"
  },
  {
   "cell_type": "markdown",
   "source": [
    "Методы Counter"
   ],
   "metadata": {
    "collapsed": false
   },
   "id": "7ab6550b766a8e97"
  },
  {
   "cell_type": "markdown",
   "source": [
    "Помимо доступных для всех словарей методов, словарь Counter поддерживает еще четыре дополнительных:\n",
    "\n",
    "most_common()\n",
    "elements()\n",
    "total() (начиная с Python 3.10)\n",
    "subtract()"
   ],
   "metadata": {
    "collapsed": false
   },
   "id": "d5412203d23a9065"
  },
  {
   "cell_type": "markdown",
   "source": [
    "Метод most_common()"
   ],
   "metadata": {
    "collapsed": false
   },
   "id": "4ae18d83daa9f5d"
  },
  {
   "cell_type": "markdown",
   "source": [
    "Метод most_common() из библиотеки collections.Counter по умолчанию возвращает список кортежей, где каждый кортеж состоит из элемента и его частоты (счётчика) в убывающем порядке частоты.\n",
    "\n",
    "По умолчанию метод most_common() возвращает все элементы в словаре, отсортированные по убыванию их частоты."
   ],
   "metadata": {
    "collapsed": false
   },
   "id": "c229e73ab370e6d"
  },
  {
   "cell_type": "code",
   "execution_count": 1,
   "outputs": [
    {
     "name": "stdout",
     "output_type": "stream",
     "text": [
      "[('i', 4), ('s', 4), ('p', 2), ('m', 1)]\n",
      "[(5, 3), (7, 3), (9, 3), (1, 2), (6, 1), (3, 1), (2, 1)]\n"
     ]
    }
   ],
   "source": [
    "from collections import Counter\n",
    "\n",
    "letters = Counter('mississippi')\n",
    "numbers = Counter([5, 6, 7, 1, 3, 9, 9, 1, 2, 5, 5, 7, 7, 9])\n",
    "\n",
    "print(letters.most_common())\n",
    "print(numbers.most_common())"
   ],
   "metadata": {
    "collapsed": false,
    "ExecuteTime": {
     "end_time": "2024-11-20T05:56:48.480149700Z",
     "start_time": "2024-11-20T05:56:48.474695300Z"
    }
   },
   "id": "6ff1cd34a8e96761"
  },
  {
   "cell_type": "markdown",
   "source": [
    "Если методу most_common() передать целочисленный аргумент n, то он вернет n самых часто повторяющихся элементов."
   ],
   "metadata": {
    "collapsed": false
   },
   "id": "e016dea62e12673f"
  },
  {
   "cell_type": "code",
   "execution_count": 2,
   "outputs": [
    {
     "name": "stdout",
     "output_type": "stream",
     "text": [
      "[('i', 4), ('s', 4), ('p', 2)]\n",
      "[(5, 3), (7, 3), (9, 3), (1, 2)]\n"
     ]
    }
   ],
   "source": [
    "from collections import Counter\n",
    "\n",
    "letters = Counter('mississippi')\n",
    "numbers = Counter([5, 6, 7, 1, 3, 9, 9, 1, 2, 5, 5, 7, 7, 9])\n",
    "\n",
    "print(letters.most_common(3))\n",
    "print(numbers.most_common(4))"
   ],
   "metadata": {
    "collapsed": false,
    "ExecuteTime": {
     "end_time": "2024-11-20T05:57:38.571647Z",
     "start_time": "2024-11-20T05:57:38.567871800Z"
    }
   },
   "id": "5751cb94a853ae74"
  },
  {
   "cell_type": "markdown",
   "source": [
    "Для поиска самых редких элементов, можно использовать срезы с отрицательным шагом."
   ],
   "metadata": {
    "collapsed": false
   },
   "id": "e87ef81886bf3902"
  },
  {
   "cell_type": "code",
   "execution_count": 3,
   "outputs": [
    {
     "name": "stdout",
     "output_type": "stream",
     "text": [
      "('m', 1)\n",
      "[('m', 1), ('p', 2), ('s', 4), ('i', 4)]\n",
      "[(6, 1), (3, 1)]\n"
     ]
    }
   ],
   "source": [
    "from collections import Counter\n",
    "\n",
    "letters = Counter('mississippi')\n",
    "numbers = Counter([5, 6, 7, 1, 3, 9, 9, 1, 2, 5, 5, 7, 7, 9])\n",
    "\n",
    "print(letters.most_common()[-1])\n",
    "print(letters.most_common()[::-1])\n",
    "print(numbers.most_common()[-3:-1])"
   ],
   "metadata": {
    "collapsed": false,
    "ExecuteTime": {
     "end_time": "2024-11-20T06:07:21.907697700Z",
     "start_time": "2024-11-20T06:07:21.904473300Z"
    }
   },
   "id": "7189d67da0d180ef"
  },
  {
   "cell_type": "markdown",
   "source": [
    "Для корректной работы метода most_common() нужно, чтобы значения в Counter словаре поддерживали сортировку."
   ],
   "metadata": {
    "collapsed": false
   },
   "id": "cf4026477f2ccc15"
  },
  {
   "cell_type": "markdown",
   "source": [
    "Метод elements()"
   ],
   "metadata": {
    "collapsed": false
   },
   "id": "3fe0d01921617ac3"
  },
  {
   "cell_type": "markdown",
   "source": [
    "Метод elements() возвращает итератор по элементам, в котором каждый элемент повторяется столько раз, во сколько установлено его значение. Элементы возвращаются в порядке их появления."
   ],
   "metadata": {
    "collapsed": false
   },
   "id": "78b328aa2d0ca08"
  },
  {
   "cell_type": "code",
   "execution_count": 10,
   "outputs": [
    {
     "name": "stdout",
     "output_type": "stream",
     "text": [
      "<itertools.chain object at 0x0000012858617790>\n",
      "['m', 'i', 'i', 'i', 'i', 's', 's', 's', 's', 'p', 'p']\n",
      "[5, 5, 5, 6, 7, 7, 7, 1, 1, 3, 9, 9, 9, 2]\n"
     ]
    }
   ],
   "source": [
    "from collections import Counter\n",
    "\n",
    "letters = Counter('mississippi')\n",
    "numbers = Counter([5, 6, 7, 1, 3, 9, 9, 1, 2, 5, 5, 7, 7, 9])\n",
    "\n",
    "print(letters.elements())\n",
    "print(list(letters.elements()))\n",
    "print(list(numbers.elements()))"
   ],
   "metadata": {
    "collapsed": false,
    "ExecuteTime": {
     "end_time": "2024-11-20T06:18:09.292542900Z",
     "start_time": "2024-11-20T06:18:09.282894400Z"
    }
   },
   "id": "4cf013013addf87e"
  },
  {
   "cell_type": "markdown",
   "source": [
    "Если количество элементов по некоторому ключу меньше единицы, то метод elements() проигнорирует его."
   ],
   "metadata": {
    "collapsed": false
   },
   "id": "54dae44944d07f1d"
  },
  {
   "cell_type": "code",
   "execution_count": 11,
   "outputs": [
    {
     "name": "stdout",
     "output_type": "stream",
     "text": [
      "['i', 'i', 'i', 'i', 's', 's', 's', 's', 'p', 'p', 'm']\n"
     ]
    }
   ],
   "source": [
    "from collections import Counter\n",
    "\n",
    "letters = Counter(i=4, s=4, a=0, p=2, b=-98, m=1)\n",
    "\n",
    "print(list(letters.elements()))"
   ],
   "metadata": {
    "collapsed": false,
    "ExecuteTime": {
     "end_time": "2024-11-20T06:19:43.343959200Z",
     "start_time": "2024-11-20T06:19:43.336757400Z"
    }
   },
   "id": "67cc17488da39e9"
  },
  {
   "cell_type": "markdown",
   "source": [
    "Метод total()"
   ],
   "metadata": {
    "collapsed": false
   },
   "id": "7722ece2778eda9"
  },
  {
   "cell_type": "markdown",
   "source": [
    "В Python 3.10 появился метод total(), который вычисляет сумму всех значений Counter словаря, включая отрицательные."
   ],
   "metadata": {
    "collapsed": false
   },
   "id": "8e17d3ad69b833b4"
  },
  {
   "cell_type": "code",
   "execution_count": 12,
   "outputs": [
    {
     "name": "stdout",
     "output_type": "stream",
     "text": [
      "-87\n"
     ]
    }
   ],
   "source": [
    "from collections import Counter\n",
    "\n",
    "letters = Counter(i=4, s=4, a=0, p=2, b=-98, m=1)\n",
    "\n",
    "print(letters.total())"
   ],
   "metadata": {
    "collapsed": false,
    "ExecuteTime": {
     "end_time": "2024-11-20T06:21:05.565472300Z",
     "start_time": "2024-11-20T06:21:05.557711600Z"
    }
   },
   "id": "7d9a9b37a2f21167"
  },
  {
   "cell_type": "markdown",
   "source": [
    "Метод subtract()"
   ],
   "metadata": {
    "collapsed": false
   },
   "id": "3fef31226818f953"
  },
  {
   "cell_type": "markdown",
   "source": [
    "Метод subtract() вычитает из значений элементов одного словаря Counter значения элементов другого словаря. Метод subtract() подобен методу update(), но вычитает количества, а не складывает их. При этом у результирующего словаря значения ключей могут быть нулевыми или отрицательными."
   ],
   "metadata": {
    "collapsed": false
   },
   "id": "9b087bd53f581f21"
  },
  {
   "cell_type": "code",
   "execution_count": 13,
   "outputs": [
    {
     "name": "stdout",
     "output_type": "stream",
     "text": [
      "Counter({'b': 98, 's': 20, 'p': 8, 'i': 2, 'z': 0, 'm': -1, 'a': -5})\n"
     ]
    }
   ],
   "source": [
    "from collections import Counter\n",
    "\n",
    "counter1 = Counter(i=4, s=40, a=1, p=20, b=98, z=69)\n",
    "counter2 = Counter(i=2, s=20, a=6, p=12, m=1, z=69)\n",
    "\n",
    "counter1.subtract(counter2)  # обновляем значения в counter1\n",
    "\n",
    "print(counter1)"
   ],
   "metadata": {
    "collapsed": false,
    "ExecuteTime": {
     "end_time": "2024-11-20T06:22:24.269390700Z",
     "start_time": "2024-11-20T06:22:24.265662200Z"
    }
   },
   "id": "51bbcab9b07a3fe5"
  },
  {
   "cell_type": "markdown",
   "source": [
    "Помимо словарей, метод subtract() может принимать любой итерируемый объект: список, строку, кортеж и т.д."
   ],
   "metadata": {
    "collapsed": false
   },
   "id": "7c403554621d99ae"
  },
  {
   "cell_type": "code",
   "execution_count": 14,
   "outputs": [
    {
     "name": "stdout",
     "output_type": "stream",
     "text": [
      "Counter({'b': 98, 'z': 68, 's': 35, 'p': 17, 'i': 2, 'a': 0})\n"
     ]
    }
   ],
   "source": [
    "from collections import Counter\n",
    "\n",
    "counter = Counter(i=4, s=40, a=1, p=20, b=98, z=69)\n",
    "letters = 'iisssssapppz'\n",
    "\n",
    "counter.subtract(letters)  # обновляем значения в counter\n",
    "\n",
    "print(counter)"
   ],
   "metadata": {
    "collapsed": false,
    "ExecuteTime": {
     "end_time": "2024-11-20T06:25:41.827948200Z",
     "start_time": "2024-11-20T06:25:41.820538500Z"
    }
   },
   "id": "3dba0766b9593983"
  },
  {
   "cell_type": "markdown",
   "source": [
    "Операторы +, -, &, |"
   ],
   "metadata": {
    "collapsed": false
   },
   "id": "f207e8db2e8ff7a7"
  },
  {
   "cell_type": "markdown",
   "source": [
    "Как мы уже знаем, методы update() и subtract() объединяют Counter словари путем сложения и вычитания количества соответствующих элементов. Python предоставляет удобные операторы сложения (+) и вычитания (-), которые могут заменить вызовы данных методов."
   ],
   "metadata": {
    "collapsed": false
   },
   "id": "c6a7e176425606f2"
  },
  {
   "cell_type": "code",
   "execution_count": 15,
   "outputs": [
    {
     "name": "stdout",
     "output_type": "stream",
     "text": [
      "Counter({'s': 48, 'p': 20, 'i': 12, 'm': 4})\n",
      "Counter({'s': 32, 'i': 8})\n",
      "Counter({'m': 2})\n"
     ]
    }
   ],
   "source": [
    "from collections import Counter\n",
    "\n",
    "counter1 = Counter(i=10, s=40, p=10, m=1)\n",
    "counter2 = Counter(i=2, s=8, p=10, m=3)\n",
    "\n",
    "print(counter1 + counter2)\n",
    "print(counter1 - counter2)\n",
    "print(counter2 - counter1)"
   ],
   "metadata": {
    "collapsed": false,
    "ExecuteTime": {
     "end_time": "2024-11-20T06:28:29.215007600Z",
     "start_time": "2024-11-20T06:28:29.208488900Z"
    }
   },
   "id": "8efeb665bfe9cc45"
  },
  {
   "cell_type": "markdown",
   "source": [
    "Обратите внимание на то, что при использовании операторов + и - из результирующего словаря исключаются элементы с нулевыми и отрицательными значениями."
   ],
   "metadata": {
    "collapsed": false
   },
   "id": "224146e13c982353"
  },
  {
   "cell_type": "markdown",
   "source": [
    "Помимо указанных выше операторов, Python также предоставляет операторы пересечения (&) и объединения (|), которые возвращают минимум и максимум из соответствующих значений."
   ],
   "metadata": {
    "collapsed": false
   },
   "id": "d44928bc0ef00f5c"
  },
  {
   "cell_type": "code",
   "execution_count": 16,
   "outputs": [
    {
     "name": "stdout",
     "output_type": "stream",
     "text": [
      "Counter({'p': 10, 's': 8, 'i': 2, 'm': 1})\n",
      "Counter({'s': 40, 'i': 10, 'p': 10, 'm': 3})\n"
     ]
    }
   ],
   "source": [
    "from collections import Counter\n",
    "\n",
    "counter1 = Counter(i=10, s=40, p=10, m=1)\n",
    "counter2 = Counter(i=2, s=8, p=10, m=3)\n",
    "\n",
    "print(counter1 & counter2)\n",
    "print(counter1 | counter2)"
   ],
   "metadata": {
    "collapsed": false,
    "ExecuteTime": {
     "end_time": "2024-11-20T06:29:36.408780300Z",
     "start_time": "2024-11-20T06:29:36.400628900Z"
    }
   },
   "id": "aebfa851abdd747"
  },
  {
   "cell_type": "markdown",
   "source": [
    "Операторы сложения (+) и вычитания (-) работают только с Counter словарями, в то время как методы update() и subtract() с любым итерируемым объектом: списком, строкой, кортежем и т.д."
   ],
   "metadata": {
    "collapsed": false
   },
   "id": "d9ca8ba52be5cd6"
  },
  {
   "cell_type": "markdown",
   "source": [
    "Примечания"
   ],
   "metadata": {
    "collapsed": false
   },
   "id": "269e6d6a354bb0a2"
  },
  {
   "cell_type": "markdown",
   "source": [
    "Примечание 1. В математике мультимножество — модификация понятия множества, допускающая включение одного и того же элемента в совокупность по нескольку раз. Особенностью мультимножества является понятие кратности вхождения элемента. К примеру, мультимножеством является совокупность чисел {1, 1, 2, 3, 3, 3, 4, 4}, при этом обычное множество будет иметь вид {1, 2, 3, 4}.\n",
    "\n",
    "Тип Counter позволяет реализовать концепцию мультимножеств."
   ],
   "metadata": {
    "collapsed": false
   },
   "id": "adfa52f14adf0461"
  },
  {
   "cell_type": "code",
   "execution_count": 17,
   "outputs": [
    {
     "name": "stdout",
     "output_type": "stream",
     "text": [
      "Counter({3: 3, 1: 2, 4: 2, 2: 1})\n",
      "{1, 2, 3, 4}\n"
     ]
    }
   ],
   "source": [
    "from collections import Counter\n",
    "\n",
    "multiset = Counter([1, 1, 2, 3, 3, 3, 4, 4])\n",
    "\n",
    "print(multiset)  # мультимножество\n",
    "print(set(multiset.keys()))  # обычное множество"
   ],
   "metadata": {
    "collapsed": false,
    "ExecuteTime": {
     "end_time": "2024-11-20T06:30:52.869093800Z",
     "start_time": "2024-11-20T06:30:52.861113Z"
    }
   },
   "id": "ada8236455305c1f"
  },
  {
   "cell_type": "markdown",
   "source": [
    "Примечание 2. Тип Counter позволяет также использовать унарные операторы сложения (+) и вычитания (-)."
   ],
   "metadata": {
    "collapsed": false
   },
   "id": "90b0508fc8318c3a"
  },
  {
   "cell_type": "code",
   "execution_count": 18,
   "outputs": [
    {
     "name": "stdout",
     "output_type": "stream",
     "text": [
      "Counter({'a': 5})\n",
      "Counter({'b': 9})\n"
     ]
    }
   ],
   "source": [
    "from collections import Counter\n",
    "\n",
    "counter = Counter(a=5, b=-9, c=0)\n",
    "\n",
    "print(+counter)\n",
    "print(-counter)"
   ],
   "metadata": {
    "collapsed": false,
    "ExecuteTime": {
     "end_time": "2024-11-20T06:31:22.577174100Z",
     "start_time": "2024-11-20T06:31:22.574536600Z"
    }
   },
   "id": "17d38ef26bda5e22"
  },
  {
   "cell_type": "markdown",
   "source": [
    "Когда мы используем оператор сложения (+) в качестве унарного, мы получаем новый Counter словарь, содержащий элементы, значения которых больше нуля. Аналогично, при использовании унарного оператора (-), мы получаем новый Counter словарь, содержащий элементы, значения которых меньше нуля."
   ],
   "metadata": {
    "collapsed": false
   },
   "id": "344082d7dff012f9"
  },
  {
   "cell_type": "markdown",
   "source": [
    "Другими словами, операторы унарного сложения и вычитания прибавляют пустой Counter словарь или вычитают исходный из пустого."
   ],
   "metadata": {
    "collapsed": false
   },
   "id": "14390b3138110c3f"
  },
  {
   "cell_type": "code",
   "execution_count": 19,
   "outputs": [
    {
     "name": "stdout",
     "output_type": "stream",
     "text": [
      "Counter({'a': 5})\n",
      "Counter({'b': 9})\n"
     ]
    }
   ],
   "source": [
    "from collections import Counter\n",
    "\n",
    "counter = Counter(a=5, b=-9, c=0)\n",
    "\n",
    "print(Counter() + counter)\n",
    "print(Counter() - counter)"
   ],
   "metadata": {
    "collapsed": false,
    "ExecuteTime": {
     "end_time": "2024-11-20T06:32:22.665016800Z",
     "start_time": "2024-11-20T06:32:22.661593600Z"
    }
   },
   "id": "4ea7727d2632d6fb"
  },
  {
   "cell_type": "markdown",
   "source": [
    "Примечание 3. С версии Python 3.10 тип Counter поддерживает расширенные операторы сравнения для отношений подмножества и надмножества: <, <=, >, >=. Все эти сравнения рассматривают отсутствующие элементы как имеющие нулевое количество."
   ],
   "metadata": {
    "collapsed": false
   },
   "id": "1b7ff1df4b22a5f2"
  },
  {
   "cell_type": "code",
   "execution_count": 20,
   "outputs": [
    {
     "name": "stdout",
     "output_type": "stream",
     "text": [
      "True\n",
      "True\n",
      "False\n",
      "False\n"
     ]
    }
   ],
   "source": [
    "from collections import Counter\n",
    "\n",
    "counter1 = Counter('aabc')\n",
    "counter2 = Counter('abc')\n",
    "\n",
    "print(counter1 > counter2)\n",
    "\n",
    "counter1 = Counter('abcde')\n",
    "counter2 = Counter('abc')\n",
    "\n",
    "print(counter1 > counter2)\n",
    "\n",
    "counter1 = Counter('abcde')\n",
    "counter2 = Counter('abcdf')\n",
    "\n",
    "print(counter1 > counter2)\n",
    "print(counter1 < counter2)"
   ],
   "metadata": {
    "collapsed": false,
    "ExecuteTime": {
     "end_time": "2024-11-20T06:33:35.454732Z",
     "start_time": "2024-11-20T06:33:35.447514900Z"
    }
   },
   "id": "73920b2f624066b1"
  },
  {
   "cell_type": "markdown",
   "source": [
    "Примечание 4. Объекты типа Counter, аналогично объектам типа OrderedDict, содержат дополнительный атрибут __dict__, который используется для динамического наделения объектов дополнительным функционалом."
   ],
   "metadata": {
    "collapsed": false
   },
   "id": "25f65614ee2db719"
  },
  {
   "cell_type": "code",
   "execution_count": 21,
   "outputs": [
    {
     "name": "stdout",
     "output_type": "stream",
     "text": [
      "{}\n",
      "5\n",
      "25\n"
     ]
    }
   ],
   "source": [
    "from collections import Counter\n",
    "\n",
    "counter = Counter(green=10, red=25, blue=5)\n",
    "\n",
    "print(counter.__dict__)\n",
    "\n",
    "counter.__dict__['min_value'] = lambda: min(counter.values())\n",
    "counter.max_value = lambda: max(counter.values())\n",
    "\n",
    "print(counter.min_value())\n",
    "print(counter.max_value())"
   ],
   "metadata": {
    "collapsed": false,
    "ExecuteTime": {
     "end_time": "2024-11-20T06:34:09.901681300Z",
     "start_time": "2024-11-20T06:34:09.899667800Z"
    }
   },
   "id": "94cea498d688e497"
  },
  {
   "cell_type": "markdown",
   "source": [
    "В поисках слов 😇\n",
    "Дана последовательность слов. Напишите программу, которая выводит наиболее часто встречаемое слово в этой последовательности.\n",
    "\n",
    "Формат входных данных\n",
    "На вход программе подается последовательность слов, разделенных пробелом.\n",
    "\n",
    "Формат выходных данных\n",
    "Программа должна определить наиболее часто встречаемое слово в введенной последовательности и вывести его в нижнем регистре.\n",
    "\n",
    "Примечание 1. Гарантируется, что искомое слово единственное.\n",
    "\n",
    "Примечание 2. Программа должна игнорировать регистр. То есть, например, слова Python и python считаются одинаковыми."
   ],
   "metadata": {
    "collapsed": false
   },
   "id": "15ce971f91187241"
  },
  {
   "cell_type": "code",
   "execution_count": null,
   "outputs": [],
   "source": [
    "from collections import Counter\n",
    "\n",
    "seq = Counter(list(input().lower().split()))\n",
    "print(seq.most_common()[0][0])"
   ],
   "metadata": {
    "collapsed": false
   },
   "id": "77e41cf6ad0c65"
  },
  {
   "cell_type": "code",
   "execution_count": null,
   "outputs": [],
   "source": [
    "from collections import Counter\n",
    "\n",
    "letters = Counter('mississippi')\n",
    "numbers = Counter([5, 6, 7, 1, 3, 9, 9, 1, 2, 5, 5, 7, 7, 9])\n",
    "\n",
    "print(letters.most_common())\n",
    "print(numbers.most_common())"
   ],
   "metadata": {
    "collapsed": false
   },
   "id": "f16afc4331b87ab0"
  },
  {
   "cell_type": "markdown",
   "source": [
    "В поисках слов 😋\n",
    "Дана последовательность слов. Напишите программу, которая выводит наименее часто встречаемое слово в этой последовательности. Если таких слов несколько, программа должна вывести их все.\n",
    "\n",
    "Формат входных данных\n",
    "На вход программе подается последовательность слов, разделенных пробелом.\n",
    "\n",
    "Формат выходных данных\n",
    "Программа должна определить наименее часто встречаемое слово в введенной последовательности и вывести его в нижнем регистре. Если таких слов несколько, программа должна вывести их все в лексикографическом порядке, в нижнем регистре, разделяя запятой и пробелом.\n",
    "\n",
    "Примечание 1. Программа должна игнорировать регистр. То есть, например, слова Python и python считаются одинаковыми."
   ],
   "metadata": {
    "collapsed": false
   },
   "id": "91d2301b5b1ba8f0"
  },
  {
   "cell_type": "code",
   "execution_count": 61,
   "outputs": [
    {
     "name": "stdout",
     "output_type": "stream",
     "text": [
      "Counter({'арбуз': 4, 'малина': 3, 'вишня': 2, 'клубника': 1, 'банан': 1, 'черешня': 1})\n",
      "1\n",
      "Counter({'арбуз': 4, 'малина': 3, 'вишня': 2, 'клубника': 1, 'банан': 1, 'черешня': 1})\n",
      "банан, клубника, черешня\n"
     ]
    }
   ],
   "source": [
    "from collections import Counter\n",
    "\n",
    "x = input()\n",
    "# x = 'Арбуз Малина Малина Арбуз Клубника арбуз банан малина вишня черешня вишня арбуЗ'\n",
    "# x = 'арбуз черешня малина малина арбуз арбуз Банан малина вишня черешня вишня арбуз'\n",
    "seq = Counter(list(x.lower().split()))\n",
    "# print(seq)\n",
    "search = sorted(seq.values())[0]\n",
    "# print(search)\n",
    "# print(seq)\n",
    "\n",
    "lst = sorted([key for key, value in seq.items() if value == search])\n",
    "\n",
    "print(*lst, sep=', ')"
   ],
   "metadata": {
    "collapsed": false,
    "ExecuteTime": {
     "end_time": "2024-11-20T07:28:42.309071600Z",
     "start_time": "2024-11-20T07:28:42.306548800Z"
    }
   },
   "id": "26e4afb85f949541"
  },
  {
   "cell_type": "code",
   "execution_count": null,
   "outputs": [],
   "source": [
    "from collections import Counter\n",
    "\n",
    "text = input().lower().split()\n",
    "text_counter = Counter(text).most_common()\n",
    "minn = text_counter[-1][1]\n",
    "result = [x[0] for x in text_counter if x[1] == minn]\n",
    "print(', '.join(sorted(result)))"
   ],
   "metadata": {
    "collapsed": false
   },
   "id": "148734a09e294644"
  },
  {
   "cell_type": "markdown",
   "source": [
    "В поисках слов 🥳\n",
    "Дана последовательность слов. Напишите программу, которая выводит наиболее часто встречаемое слово в этой последовательности. Если таких слов несколько, программа должна вывести то, которое больше в лексикографическом сравнении.\n",
    "\n",
    "Формат входных данных\n",
    "На вход программе подается последовательность слов, разделенных пробелом.\n",
    "\n",
    "Формат выходных данных\n",
    "Программа должна определить наиболее часто встречаемое слово в введенной строке и вывести его в нижнем регистре. Если таких слов несколько, программа должна вывести то, которое больше в лексикографическом сравнении, также в нижнем регистре.\n",
    "\n",
    "Примечание 1. Программа должна игнорировать регистр. То есть, например, слова Python и python считаются одинаковыми."
   ],
   "metadata": {
    "collapsed": false
   },
   "id": "1c8e8257abdef604"
  },
  {
   "cell_type": "code",
   "execution_count": 128,
   "outputs": [
    {
     "name": "stdout",
     "output_type": "stream",
     "text": [
      "['арбуз', 'банан', 'клубника', 'вишня', 'малина']\n",
      "[('арбуз', 1), ('банан', 1), ('клубника', 1), ('вишня', 1), ('малина', 1)]\n",
      "1\n",
      "[('арбуз', 1), ('банан', 1), ('клубника', 1), ('вишня', 1), ('малина', 1)]\n",
      "[('малина', 1), ('клубника', 1), ('вишня', 1), ('банан', 1), ('арбуз', 1)]\n",
      "малина\n"
     ]
    }
   ],
   "source": [
    "from collections import Counter\n",
    "\n",
    "# x = input()\n",
    "# x = 'Арбуз Малина арбуЗ Клубника арбуз банан малина черешня вишня арбуз клубника Банан'\n",
    "x = 'арбуз банан клубника вишня малина'\n",
    "\n",
    "text = x.lower().split()\n",
    "print(text)\n",
    "sorted_text = Counter(text).most_common()\n",
    "print(sorted_text)\n",
    "sorted_text_value = sorted_text[0][1]\n",
    "print(sorted_text_value)\n",
    "new_list = [item for item in sorted_text if item[1] == sorted_text_value]\n",
    "print(new_list)\n",
    "sorted_new_list = sorted(new_list, key=lambda x: x[0], reverse=True)\n",
    "print(sorted_new_list)\n",
    "print(sorted_new_list[0][0])"
   ],
   "metadata": {
    "collapsed": false,
    "ExecuteTime": {
     "end_time": "2024-11-20T08:58:03.878866400Z",
     "start_time": "2024-11-20T08:58:03.876345500Z"
    }
   },
   "id": "3dad8d7a12c6ea06"
  },
  {
   "cell_type": "markdown",
   "source": [
    "c — это объект Counter, который представляет собой словарь, где ключами являются слова, а значениями — их частота.\n",
    "\n",
    "c = Counter(input().lower().split())\n",
    "\n",
    "Counter({'арбуз': 4, 'малина': 2, 'клубника': 2, 'банан': 2, 'черешня': 1, 'вишня': 1})\n",
    "\n",
    "max(c, key=lambda x: (c[x], x))\n",
    "\n",
    "x — это переменная, которая представляет собой ключ из коллекции Counter. В нашем случае, Counter хранит слова, и при использовании max() эта переменная x будет представлять одно из слов, находящихся в словаре Counter. То есть на каждом шаге итерации max() переменная x будет равна одному из слов, содержащихся в Counter.\n",
    "\n",
    "x — это ключ в словаре, который является словом в вашем случае.\n",
    "\n",
    "c[x] — это частота слова x.\n",
    "\n",
    "max() сначала ищет слово с максимальной частотой.\n",
    "\n",
    "Если несколько слов имеют одинаковую частоту, сортировка будет выполнена по самому слову, и поскольку используется лексикографический порядок, более ранние в алфавите слова будут выбраны при равенстве частот."
   ],
   "metadata": {
    "collapsed": false
   },
   "id": "cd5d294fc1de6dd3"
  },
  {
   "cell_type": "code",
   "execution_count": 129,
   "outputs": [
    {
     "name": "stdout",
     "output_type": "stream",
     "text": [
      "Counter({'арбуз': 1, 'банан': 1, 'клубника': 1, 'вишня': 1, 'малина': 1})\n",
      "малина\n"
     ]
    }
   ],
   "source": [
    "from collections import Counter\n",
    "\n",
    "x = 'арбуз банан клубника вишня малина'\n",
    "\n",
    "c = Counter(x.lower().split())\n",
    "print(c)\n",
    "print(max(c, key=lambda x: (c[x], x)))"
   ],
   "metadata": {
    "collapsed": false,
    "ExecuteTime": {
     "end_time": "2024-11-20T08:58:18.341878500Z",
     "start_time": "2024-11-20T08:58:18.339864800Z"
    }
   },
   "id": "c3c557729770a70f"
  },
  {
   "cell_type": "code",
   "execution_count": null,
   "outputs": [],
   "source": [
    "from collections import Counter\n",
    "\n",
    "print(Counter(sorted(input().lower().split(), reverse=True)).most_common()[0][0])"
   ],
   "metadata": {
    "collapsed": false
   },
   "id": "bad0cacc22479e5e"
  },
  {
   "cell_type": "markdown",
   "source": [
    "Статистика длин слов\n",
    "Дана последовательность слов. Напишите программу, которая группирует слова из этой последовательности по их длине и определяет количество слов в каждой полученной группе.\n",
    "\n",
    "Формат входных данных\n",
    "На вход программе подается последовательность слов, разделенных пробелом.\n",
    "\n",
    "Формат выходных данных\n",
    "Программа должна сгруппировать слова из введенной последовательности по их длине и определить количество слов в каждой полученной группе. Каждую группу характеризуют два числа — длина слов в этой группе и количество слов в этой группе. Например, для группы {is, to, hi, no} это числа 2 и 4. Программа должна вывести данные о каждой группе, расположив их в порядке увеличения количества слов в них, каждые на отдельной строке, в следующем формате:\n",
    "\n",
    "Слов длины <длина слов в группе>: <количество слов в группе>\n",
    "Примечание 1. Если две разные группы имеют равное количество слов, то первой должна следовать та группа, слово которой в исходной последовательности встречается раньше."
   ],
   "metadata": {
    "collapsed": false
   },
   "id": "5cfe0a6dd1f032f3"
  },
  {
   "cell_type": "code",
   "execution_count": 164,
   "outputs": [
    {
     "name": "stdout",
     "output_type": "stream",
     "text": [
      "Слов длины 7: 1\n",
      "Слов длины 11: 1\n",
      "Слов длины 2: 2\n",
      "Слов длины 6: 3\n"
     ]
    }
   ],
   "source": [
    "from collections import Counter\n",
    "\n",
    "x = input()\n",
    "# x = 'Любимой песни слог Знакомый ритм слов Панацея от всего'\n",
    "# x = 'Не сможет больше мальчик дотронуться до солнца'\n",
    "\n",
    "words = [len(word) for word in x.split()]\n",
    "# print(words)\n",
    "\n",
    "count_words = Counter(words)\n",
    "# print(count_words)\n",
    "\n",
    "sorted_words = sorted(count_words.items(), key=lambda x: (-x[1], [0]), reverse=True)\n",
    "# print(sorted_words)\n",
    "\n",
    "for i, j in sorted_words:\n",
    "    print(f'Слов длины {i}: {j}')"
   ],
   "metadata": {
    "collapsed": false,
    "ExecuteTime": {
     "end_time": "2024-11-20T11:09:41.654705200Z",
     "start_time": "2024-11-20T11:09:41.652550500Z"
    }
   },
   "id": "ce5ec67b3e428506"
  },
  {
   "cell_type": "code",
   "execution_count": null,
   "outputs": [],
   "source": [
    "from collections import defaultdict\n",
    "\n",
    "words = input().split()\n",
    "\n",
    "res = defaultdict(int)\n",
    "for word in words:\n",
    "    res[len(word)] += 1\n",
    "\n",
    "for k, v in sorted(res.items(), key=lambda x: x[1]):\n",
    "    print(f'Слов длины {k}: {v}')"
   ],
   "metadata": {
    "collapsed": false
   },
   "id": "5062d0367b45c9b6"
  },
  {
   "cell_type": "code",
   "execution_count": null,
   "outputs": [],
   "source": [
    "from collections import Counter\n",
    "\n",
    "words = list(map(len, input().split()))\n",
    "count = Counter(words).most_common()\n",
    "count_sort = sorted(count, key=lambda x: x[1])\n",
    "for length, count in count_sort:\n",
    "    print(f'Слов длины {length}: {count}')"
   ],
   "metadata": {
    "collapsed": false
   },
   "id": "e037859f4395a70f"
  },
  {
   "cell_type": "code",
   "execution_count": null,
   "outputs": [],
   "source": [
    "from collections import Counter\n",
    "\n",
    "res = Counter(len(word) for word in input().split())\n",
    "\n",
    "for k, v in sorted(res.items(), key=lambda t: t[1]):\n",
    "    print(f'Слов длины {k}: {v}')"
   ],
   "metadata": {
    "collapsed": false
   },
   "id": "7962f7570b3a9b1"
  },
  {
   "cell_type": "markdown",
   "source": [
    "Все еще достоин\n",
    "Дан список имен учеников и их оценок за экзамен. Напишите программу, которая определяет второго по счету ученика, имеющего самую низкую оценку.\n",
    "\n",
    "Формат входных данных\n",
    "На вход программе подается произвольное количество строк, в каждой из которых записаны имя очередного ученика и его оценка, разделенные пробелом.\n",
    "\n",
    "Формат выходных данных\n",
    "Программа должна определить второго по счету ученика, который имеет самую низкую оценку, и вывести его имя.\n",
    "\n",
    "Примечание 1. Гарантируется, что все ученики имеют различные имена и оценки."
   ],
   "metadata": {
    "collapsed": false
   },
   "id": "2a405278a4bf9a86"
  },
  {
   "cell_type": "code",
   "execution_count": null,
   "outputs": [],
   "source": [
    "from sys import stdin\n",
    "from collections import Counter\n",
    "\n",
    "data = stdin.read().splitlines()\n",
    "print(data)\n",
    "\n",
    "handled_data = {i.split()[0]: int(i.split()[1]) for i in data}\n",
    "print(handled_data)\n",
    "\n",
    "counted_data = Counter(handled_data)\n",
    "print(counted_data.most_common()[-2][0])"
   ],
   "metadata": {
    "collapsed": false
   },
   "id": "43d7c25b2c565119"
  },
  {
   "cell_type": "code",
   "execution_count": null,
   "outputs": [],
   "source": [
    "from collections import Counter\n",
    "\n",
    "c = Counter({i: int(j) for i, j in (s.split() for s in open(0))})\n",
    "print(c.most_common()[-2][0])"
   ],
   "metadata": {
    "collapsed": false
   },
   "id": "fffe524b276374fd"
  },
  {
   "cell_type": "markdown",
   "source": [
    "Вам доступна переменная data, содержащая Counter словарь. Дополните приведенный ниже код, чтобы он добавил этому словарю два атрибута:\n",
    "\n",
    "min_values() — функция, которая возвращает список элементов, имеющих наименьшее значение\n",
    "max_values() — функция, которая возвращает список элементов, имеющих наибольшее значение\n",
    "Обе функции не должны принимать никаких аргументов.\n",
    "\n",
    "Примечание 1. Элементом словаря будем считать кортеж (ключ, значение).\n",
    "\n",
    "Примечание 2. Элементы словаря в возвращаемых функциями списках должны располагаться в своем исходном порядке.\n",
    "\n",
    "Примечание 3. Функции data.min_values() и data.max_values() должны учитывать содержимое словаря. Например, если в словарь data будет добавлена новая пара ключ-значение, то и в возвращаемых функциями списках данные ключ и значение должны присутствовать.\n",
    "\n",
    "Примечание 4. Программа ничего не должна выводить."
   ],
   "metadata": {
    "collapsed": false
   },
   "id": "41e72fb23a8d6140"
  },
  {
   "cell_type": "code",
   "execution_count": 178,
   "outputs": [
    {
     "name": "stdout",
     "output_type": "stream",
     "text": [
      "[('t', 1)]\n",
      "[('j', 8), ('q', 8)]\n"
     ]
    }
   ],
   "source": [
    "from collections import Counter\n",
    "\n",
    "data = Counter('aksjaskfjsklfjdslkfjajfopewtoieqpwdpqworiiqjskanvmcxbmpewrqopkqwlmdzczmxvmvlnjpjqpkqzxvmbowiqeorewi')\n",
    "\n",
    "\n",
    "# print(data)\n",
    "\n",
    "def min_values():\n",
    "    mi = min(data.values())\n",
    "    return [(key, value) for key, value in data.items() if value == mi]\n",
    "\n",
    "\n",
    "def max_values():\n",
    "    ma = max(data.values())\n",
    "    return [(key, value) for key, value in data.items() if value == ma]\n",
    "\n",
    "\n",
    "data.min_values = min_values\n",
    "data.max_values = max_values\n",
    "\n",
    "print(data.min_values())\n",
    "print(data.max_values())"
   ],
   "metadata": {
    "collapsed": false,
    "ExecuteTime": {
     "end_time": "2024-11-21T06:08:35.330214Z",
     "start_time": "2024-11-21T06:08:35.325317600Z"
    }
   },
   "id": "b84ab46fdebb237e"
  },
  {
   "cell_type": "code",
   "execution_count": 180,
   "outputs": [
    {
     "name": "stdout",
     "output_type": "stream",
     "text": [
      "[('t', 1)]\n",
      "[('j', 8), ('q', 8)]\n"
     ]
    }
   ],
   "source": [
    "from collections import Counter\n",
    "\n",
    "data = Counter('aksjaskfjsklfjdslkfjajfopewtoieqpwdpqworiiqjskanvmcxbmpewrqopkqwlmdzczmxvmvlnjpjqpkqzxvmbowiqeorewi')\n",
    "data.min_values = lambda: [i for i in data.items() if i[1] == min(data.values())]\n",
    "data.max_values = lambda: [i for i in data.items() if i[1] == max(data.values())]\n",
    "\n",
    "print(data.min_values())\n",
    "print(data.max_values())"
   ],
   "metadata": {
    "collapsed": false,
    "ExecuteTime": {
     "end_time": "2024-11-21T06:09:39.737559800Z",
     "start_time": "2024-11-21T06:09:39.732495800Z"
    }
   },
   "id": "88b434cdf6e75f9f"
  },
  {
   "cell_type": "markdown",
   "source": [
    "Here we go again\n",
    "Вам доступен файл name_log.csv, в котором находятся логи изменения имени пользователя. В первом столбце записано измененное имя пользователя, во втором — адрес электронной почты, в третьем — дата и время изменения. При этом email пользователь менять не может, только имя:\n",
    "\n",
    "username,email,dtime\n",
    "rare_charles6,charlesthompson@inbox.ru,15/11/2021 08:15\n",
    "busy_patricia5,patriciasmith@bk.ru,07/11/2021 08:07\n",
    "...\n",
    "Напишите программу, которая определяет, сколько раз пользователь менял имя. Программа должна вывести адреса электронных почт пользователей, указав для каждого соответствующее количество смененных имен. Почтовые ящики должны быть расположены в лексикографическом порядке, каждый на отдельной строке, в следующем формате:\n",
    "\n",
    "<адрес электронной почты>: <количество изменений имен>\n",
    "Примечание 1. Начальная часть ответа выглядит так:\n",
    "\n",
    "barbaraanderson@bk.ru: 3\n",
    "barbarabrown@rambler.ru: 3\n",
    "..."
   ],
   "metadata": {
    "collapsed": false
   },
   "id": "c0b18e8a3f83c696"
  },
  {
   "cell_type": "code",
   "execution_count": 42,
   "outputs": [
    {
     "name": "stdout",
     "output_type": "stream",
     "text": [
      "barbaraanderson@bk.ru: 3\n",
      "barbarabrown@rambler.ru: 3\n",
      "barbaradavis@aol.com: 2\n",
      "barbaragarcia@inbox.ru: 2\n",
      "barbarajackson@bk.ru: 1\n",
      "barbarajohnson@yandex.ru: 2\n",
      "barbarajones@mail.ru: 2\n",
      "barbaralee@gmail.com: 2\n",
      "barbaramartin@internet.ru: 3\n",
      "barbaramartinez@bk.ru: 2\n",
      "barbaramiller@yahoo.com: 1\n",
      "barbaramoore@yahoo.com: 2\n",
      "barbararodriguez@internet.ru: 1\n",
      "barbarasmith@gmail.com: 1\n",
      "barbarataylor@yahoo.com: 3\n",
      "barbarathomas@internet.ru: 3\n",
      "barbarathompson@bk.ru: 1\n",
      "barbarawhite@yandex.ru: 1\n",
      "barbarawilliams@aol.com: 3\n",
      "barbarawilson@yandex.ru: 3\n",
      "charlesanderson@outlook.com: 1\n",
      "charlesbrown@inbox.ru: 1\n",
      "charlesdavis@gmail.com: 2\n",
      "charlesgarcia@mail.ru: 2\n",
      "charlesjackson@gmail.com: 2\n",
      "charlesjohnson@list.ru: 1\n",
      "charlesjones@gmail.com: 1\n",
      "charleslee@yahoo.com: 3\n",
      "charlesmartin@rambler.ru: 3\n",
      "charlesmartinez@aol.com: 3\n",
      "charlesmiller@gmail.com: 1\n",
      "charlesmoore@bk.ru: 3\n",
      "charlesrodriguez@outlook.com: 3\n",
      "charlessmith@mail.ru: 3\n",
      "charlestaylor@yahoo.com: 1\n",
      "charlesthomas@yandex.ru: 1\n",
      "charlesthompson@inbox.ru: 2\n",
      "charleswhite@inbox.ru: 3\n",
      "charleswilliams@gmail.com: 1\n",
      "charleswilson@inbox.ru: 1\n",
      "danielanderson@internet.ru: 3\n",
      "danielbrown@bk.ru: 2\n",
      "danieldavis@gmail.com: 3\n",
      "danielgarcia@mail.ru: 1\n",
      "danieljackson@bk.ru: 2\n",
      "danieljohnson@inbox.ru: 1\n",
      "danieljones@aol.com: 1\n",
      "daniellee@bk.ru: 1\n",
      "danielmartin@inbox.ru: 1\n",
      "danielmartinez@gmail.com: 1\n",
      "danielmiller@aol.com: 1\n",
      "danielmoore@bk.ru: 3\n",
      "danielrodriguez@yahoo.com: 2\n",
      "danielsmith@list.ru: 2\n",
      "danieltaylor@bk.ru: 3\n",
      "danielthomas@inbox.ru: 2\n",
      "danielthompson@aol.com: 1\n",
      "danielwhite@yandex.ru: 3\n",
      "danielwilliams@iCloud.com: 1\n",
      "danielwilson@yandex.ru: 1\n",
      "davidanderson@rambler.ru: 3\n",
      "davidbrown@mail.ru: 2\n",
      "daviddavis@aol.com: 2\n",
      "davidgarcia@yahoo.com: 1\n",
      "davidjackson@bk.ru: 3\n",
      "davidjohnson@mail.ru: 2\n",
      "davidjones@list.ru: 1\n",
      "davidlee@internet.ru: 2\n",
      "davidmartin@list.ru: 1\n",
      "davidmartinez@iCloud.com: 3\n",
      "davidmiller@aol.com: 1\n",
      "davidmoore@list.ru: 1\n",
      "davidrodriguez@yandex.ru: 2\n",
      "davidsmith@gmail.com: 2\n",
      "davidtaylor@outlook.com: 2\n",
      "davidthomas@mail.ru: 3\n",
      "davidthompson@yahoo.com: 2\n",
      "davidwhite@mail.ru: 1\n",
      "davidwilliams@list.ru: 3\n",
      "davidwilson@iCloud.com: 2\n",
      "elizabethanderson@outlook.com: 3\n",
      "elizabethbrown@bk.ru: 2\n",
      "elizabethdavis@outlook.com: 3\n",
      "elizabethgarcia@inbox.ru: 3\n",
      "elizabethjackson@rambler.ru: 3\n",
      "elizabethjohnson@rambler.ru: 2\n",
      "elizabethjones@mail.ru: 2\n",
      "elizabethlee@mail.ru: 1\n",
      "elizabethmartin@gmail.com: 3\n",
      "elizabethmartinez@rambler.ru: 2\n",
      "elizabethmiller@list.ru: 2\n",
      "elizabethmoore@outlook.com: 2\n",
      "elizabethrodriguez@inbox.ru: 2\n",
      "elizabethsmith@mail.ru: 3\n",
      "elizabethtaylor@internet.ru: 1\n",
      "elizabeththomas@aol.com: 3\n",
      "elizabeththompson@outlook.com: 3\n",
      "elizabethwhite@gmail.com: 2\n",
      "elizabethwilliams@gmail.com: 1\n",
      "elizabethwilson@yandex.ru: 2\n",
      "jamesanderson@list.ru: 1\n",
      "jamesbrown@inbox.ru: 1\n",
      "jamesdavis@internet.ru: 1\n",
      "jamesgarcia@internet.ru: 1\n",
      "jamesjackson@yandex.ru: 2\n",
      "jamesjohnson@internet.ru: 1\n",
      "jamesjones@yahoo.com: 1\n",
      "jameslee@list.ru: 1\n",
      "jamesmartin@gmail.com: 1\n",
      "jamesmartinez@list.ru: 1\n",
      "jamesmiller@outlook.com: 3\n",
      "jamesmoore@gmail.com: 2\n",
      "jamesrodriguez@gmail.com: 1\n",
      "jamessmith@aol.com: 1\n",
      "jamestaylor@rambler.ru: 1\n",
      "jamesthomas@gmail.com: 2\n",
      "jamesthompson@internet.ru: 2\n",
      "jameswhite@aol.com: 1\n",
      "jameswilliams@gmail.com: 3\n",
      "jameswilson@yahoo.com: 1\n",
      "jenniferanderson@yahoo.com: 2\n",
      "jenniferbrown@iCloud.com: 1\n",
      "jenniferdavis@outlook.com: 3\n",
      "jennifergarcia@aol.com: 1\n",
      "jenniferjackson@yahoo.com: 1\n",
      "jenniferjohnson@yahoo.com: 2\n",
      "jenniferjones@yandex.ru: 3\n",
      "jenniferlee@yandex.ru: 2\n",
      "jennifermartin@mail.ru: 2\n",
      "jennifermartinez@outlook.com: 2\n",
      "jennifermiller@yahoo.com: 1\n",
      "jennifermoore@iCloud.com: 3\n",
      "jenniferrodriguez@rambler.ru: 2\n",
      "jennifersmith@yandex.ru: 1\n",
      "jennifertaylor@yandex.ru: 1\n",
      "jenniferthomas@iCloud.com: 3\n",
      "jenniferthompson@yahoo.com: 3\n",
      "jenniferwhite@yandex.ru: 1\n",
      "jenniferwilliams@outlook.com: 1\n",
      "jenniferwilson@aol.com: 2\n",
      "johnanderson@outlook.com: 3\n",
      "johnbrown@iCloud.com: 2\n",
      "johndavis@list.ru: 1\n",
      "johngarcia@mail.ru: 1\n",
      "johnjackson@gmail.com: 3\n",
      "johnjohnson@internet.ru: 1\n",
      "johnjones@aol.com: 3\n",
      "johnlee@inbox.ru: 1\n",
      "johnmartin@list.ru: 2\n",
      "johnmartinez@inbox.ru: 2\n",
      "johnmiller@bk.ru: 1\n",
      "johnmoore@iCloud.com: 3\n",
      "johnrodriguez@bk.ru: 3\n",
      "johnsmith@inbox.ru: 1\n",
      "johntaylor@internet.ru: 2\n",
      "johnthomas@bk.ru: 3\n",
      "johnthompson@inbox.ru: 3\n",
      "johnwhite@bk.ru: 3\n",
      "johnwilliams@rambler.ru: 2\n",
      "johnwilson@outlook.com: 3\n",
      "josephanderson@mail.ru: 1\n",
      "josephbrown@list.ru: 3\n",
      "josephdavis@yahoo.com: 3\n",
      "josephgarcia@iCloud.com: 1\n",
      "josephjackson@outlook.com: 2\n",
      "josephjohnson@rambler.ru: 2\n",
      "josephjones@mail.ru: 1\n",
      "josephlee@list.ru: 2\n",
      "josephmartin@internet.ru: 3\n",
      "josephmartinez@bk.ru: 1\n",
      "josephmiller@gmail.com: 1\n",
      "josephmoore@mail.ru: 2\n",
      "josephrodriguez@rambler.ru: 3\n",
      "josephsmith@mail.ru: 3\n",
      "josephtaylor@aol.com: 3\n",
      "josephthomas@gmail.com: 1\n",
      "josephthompson@gmail.com: 3\n",
      "josephwhite@bk.ru: 3\n",
      "josephwilliams@outlook.com: 3\n",
      "josephwilson@rambler.ru: 1\n",
      "lindaanderson@list.ru: 3\n",
      "lindabrown@gmail.com: 3\n",
      "lindadavis@rambler.ru: 2\n",
      "lindagarcia@outlook.com: 2\n",
      "lindajackson@list.ru: 3\n",
      "lindajohnson@gmail.com: 1\n",
      "lindajones@yahoo.com: 2\n",
      "lindalee@bk.ru: 2\n",
      "lindamartin@mail.ru: 2\n",
      "lindamartinez@aol.com: 2\n",
      "lindamiller@mail.ru: 3\n",
      "lindamoore@internet.ru: 1\n",
      "lindarodriguez@bk.ru: 1\n",
      "lindasmith@mail.ru: 2\n",
      "lindataylor@yahoo.com: 1\n",
      "lindathomas@aol.com: 1\n",
      "lindathompson@yahoo.com: 2\n",
      "lindawhite@yandex.ru: 1\n",
      "lindawilliams@list.ru: 2\n",
      "lindawilson@inbox.ru: 1\n",
      "mariaanderson@internet.ru: 1\n",
      "mariabrown@list.ru: 3\n",
      "mariadavis@mail.ru: 3\n",
      "mariagarcia@bk.ru: 3\n",
      "mariajackson@yahoo.com: 2\n",
      "mariajohnson@list.ru: 3\n",
      "mariajones@bk.ru: 2\n",
      "marialee@outlook.com: 2\n",
      "mariamartin@iCloud.com: 1\n",
      "mariamartinez@outlook.com: 2\n",
      "mariamiller@iCloud.com: 2\n",
      "mariamoore@aol.com: 1\n",
      "mariarodriguez@outlook.com: 2\n",
      "mariasmith@aol.com: 3\n",
      "mariataylor@gmail.com: 1\n",
      "mariathomas@yahoo.com: 2\n",
      "mariathompson@aol.com: 1\n",
      "mariawhite@aol.com: 2\n",
      "mariawilliams@rambler.ru: 1\n",
      "mariawilson@bk.ru: 2\n",
      "markanderson@bk.ru: 3\n",
      "markbrown@iCloud.com: 1\n",
      "markdavis@internet.ru: 3\n",
      "markgarcia@yandex.ru: 3\n",
      "markjackson@internet.ru: 1\n",
      "markjohnson@rambler.ru: 1\n",
      "markjones@internet.ru: 3\n",
      "marklee@gmail.com: 3\n",
      "markmartin@rambler.ru: 2\n",
      "markmartinez@list.ru: 3\n",
      "markmiller@gmail.com: 1\n",
      "markmoore@bk.ru: 1\n",
      "markrodriguez@iCloud.com: 1\n",
      "marksmith@yahoo.com: 2\n",
      "marktaylor@iCloud.com: 2\n",
      "markthomas@rambler.ru: 3\n",
      "markthompson@iCloud.com: 1\n",
      "markwhite@gmail.com: 1\n",
      "markwilliams@yandex.ru: 3\n",
      "markwilson@inbox.ru: 3\n",
      "maryanderson@yandex.ru: 1\n",
      "marybrown@yandex.ru: 2\n",
      "marydavis@gmail.com: 3\n",
      "marygarcia@gmail.com: 2\n",
      "maryjackson@internet.ru: 1\n",
      "maryjohnson@iCloud.com: 3\n",
      "maryjones@yandex.ru: 1\n",
      "marylee@yahoo.com: 3\n",
      "marymartin@yahoo.com: 1\n",
      "marymartinez@internet.ru: 1\n",
      "marymiller@inbox.ru: 2\n",
      "marymoore@aol.com: 1\n",
      "maryrodriguez@gmail.com: 2\n",
      "marysmith@aol.com: 1\n",
      "marytaylor@iCloud.com: 1\n",
      "marythomas@iCloud.com: 2\n",
      "marythompson@yandex.ru: 1\n",
      "marywhite@yandex.ru: 3\n",
      "marywilliams@list.ru: 2\n",
      "marywilson@list.ru: 2\n",
      "michaelanderson@mail.ru: 2\n",
      "michaelbrown@internet.ru: 1\n",
      "michaeldavis@aol.com: 2\n",
      "michaelgarcia@iCloud.com: 3\n",
      "michaeljackson@outlook.com: 1\n",
      "michaeljohnson@inbox.ru: 2\n",
      "michaeljones@gmail.com: 3\n",
      "michaellee@mail.ru: 2\n",
      "michaelmartin@internet.ru: 1\n",
      "michaelmartinez@rambler.ru: 2\n",
      "michaelmiller@aol.com: 3\n",
      "michaelmoore@bk.ru: 2\n",
      "michaelrodriguez@list.ru: 1\n",
      "michaelsmith@gmail.com: 3\n",
      "michaeltaylor@mail.ru: 3\n",
      "michaelthomas@mail.ru: 3\n",
      "michaelthompson@mail.ru: 2\n",
      "michaelwhite@rambler.ru: 3\n",
      "michaelwilliams@inbox.ru: 1\n",
      "michaelwilson@yandex.ru: 1\n",
      "patriciaanderson@yandex.ru: 1\n",
      "patriciabrown@rambler.ru: 1\n",
      "patriciadavis@mail.ru: 2\n",
      "patriciagarcia@gmail.com: 1\n",
      "patriciajackson@gmail.com: 3\n",
      "patriciajohnson@yahoo.com: 1\n",
      "patriciajones@yandex.ru: 3\n",
      "patricialee@bk.ru: 2\n",
      "patriciamartin@iCloud.com: 1\n",
      "patriciamartinez@inbox.ru: 3\n",
      "patriciamiller@list.ru: 3\n",
      "patriciamoore@gmail.com: 2\n",
      "patriciarodriguez@bk.ru: 3\n",
      "patriciasmith@bk.ru: 1\n",
      "patriciataylor@outlook.com: 2\n",
      "patriciathomas@iCloud.com: 2\n",
      "patriciathompson@aol.com: 2\n",
      "patriciawhite@bk.ru: 1\n",
      "patriciawilliams@yandex.ru: 2\n",
      "patriciawilson@mail.ru: 2\n",
      "richardanderson@iCloud.com: 1\n",
      "richardbrown@yahoo.com: 3\n",
      "richarddavis@gmail.com: 1\n",
      "richardgarcia@inbox.ru: 2\n",
      "richardjackson@bk.ru: 2\n",
      "richardjohnson@mail.ru: 2\n",
      "richardjones@inbox.ru: 2\n",
      "richardlee@mail.ru: 2\n",
      "richardmartin@outlook.com: 2\n",
      "richardmartinez@yahoo.com: 1\n",
      "richardmiller@list.ru: 3\n",
      "richardmoore@iCloud.com: 3\n",
      "richardrodriguez@yandex.ru: 3\n",
      "richardsmith@yahoo.com: 1\n",
      "richardtaylor@gmail.com: 2\n",
      "richardthomas@internet.ru: 3\n",
      "richardthompson@gmail.com: 2\n",
      "richardwhite@gmail.com: 3\n",
      "richardwilliams@bk.ru: 3\n",
      "richardwilson@inbox.ru: 2\n",
      "robertanderson@yandex.ru: 2\n",
      "robertbrown@internet.ru: 3\n",
      "robertdavis@yandex.ru: 2\n",
      "robertgarcia@rambler.ru: 2\n",
      "robertjackson@mail.ru: 2\n",
      "robertjohnson@rambler.ru: 1\n",
      "robertjones@yahoo.com: 1\n",
      "robertlee@outlook.com: 1\n",
      "robertmartin@mail.ru: 2\n",
      "robertmartinez@internet.ru: 3\n",
      "robertmiller@outlook.com: 3\n",
      "robertmoore@mail.ru: 3\n",
      "robertrodriguez@gmail.com: 1\n",
      "robertsmith@list.ru: 3\n",
      "roberttaylor@inbox.ru: 2\n",
      "robertthomas@mail.ru: 3\n",
      "robertthompson@outlook.com: 2\n",
      "robertwhite@outlook.com: 1\n",
      "robertwilliams@list.ru: 2\n",
      "robertwilson@iCloud.com: 3\n",
      "susananderson@aol.com: 2\n",
      "susanbrown@yahoo.com: 3\n",
      "susandavis@outlook.com: 2\n",
      "susangarcia@rambler.ru: 1\n",
      "susanjackson@mail.ru: 1\n",
      "susanjohnson@mail.ru: 2\n",
      "susanjones@mail.ru: 3\n",
      "susanlee@internet.ru: 2\n",
      "susanmartin@gmail.com: 2\n",
      "susanmartinez@yahoo.com: 2\n",
      "susanmiller@outlook.com: 3\n",
      "susanmoore@outlook.com: 3\n",
      "susanrodriguez@inbox.ru: 2\n",
      "susansmith@yahoo.com: 2\n",
      "susantaylor@aol.com: 1\n",
      "susanthomas@mail.ru: 3\n",
      "susanthompson@inbox.ru: 3\n",
      "susanwhite@inbox.ru: 1\n",
      "susanwilliams@yandex.ru: 1\n",
      "susanwilson@bk.ru: 1\n",
      "thomasanderson@internet.ru: 1\n",
      "thomasbrown@yandex.ru: 2\n",
      "thomasdavis@gmail.com: 2\n",
      "thomasgarcia@internet.ru: 2\n",
      "thomasjackson@yahoo.com: 2\n",
      "thomasjohnson@bk.ru: 3\n",
      "thomasjones@outlook.com: 3\n",
      "thomaslee@iCloud.com: 2\n",
      "thomasmartin@outlook.com: 1\n",
      "thomasmartinez@outlook.com: 2\n",
      "thomasmiller@aol.com: 2\n",
      "thomasmoore@list.ru: 2\n",
      "thomasrodriguez@bk.ru: 3\n",
      "thomassmith@yahoo.com: 2\n",
      "thomastaylor@internet.ru: 3\n",
      "thomasthomas@aol.com: 3\n",
      "thomasthompson@rambler.ru: 2\n",
      "thomaswhite@iCloud.com: 3\n",
      "thomaswilliams@iCloud.com: 3\n",
      "thomaswilson@yahoo.com: 3\n",
      "williamanderson@inbox.ru: 1\n",
      "williambrown@outlook.com: 1\n",
      "williamdavis@internet.ru: 2\n",
      "williamgarcia@inbox.ru: 2\n",
      "williamjackson@bk.ru: 3\n",
      "williamjohnson@internet.ru: 2\n",
      "williamjones@bk.ru: 3\n",
      "williamlee@yandex.ru: 3\n",
      "williammartin@iCloud.com: 2\n",
      "williammartinez@inbox.ru: 3\n",
      "williammiller@aol.com: 2\n",
      "williammoore@yandex.ru: 3\n",
      "williamrodriguez@gmail.com: 1\n",
      "williamsmith@yahoo.com: 3\n",
      "williamtaylor@yandex.ru: 1\n",
      "williamthomas@internet.ru: 2\n",
      "williamthompson@bk.ru: 1\n",
      "williamwhite@outlook.com: 2\n",
      "williamwilliams@iCloud.com: 3\n",
      "williamwilson@list.ru: 2\n"
     ]
    }
   ],
   "source": [
    "import csv\n",
    "from collections import Counter\n",
    "from collections import defaultdict\n",
    "\n",
    "new_dic = defaultdict(int)\n",
    "with open('name_log.csv') as file:\n",
    "    data = list(csv.DictReader(file))\n",
    "    # print(data[:5])\n",
    "    emails = [i['email'] for i in data]\n",
    "    # print(emails)\n",
    "    counter = Counter(emails)\n",
    "    # print(counter)\n",
    "    sorted_counter = sorted(counter.items(), key=lambda x: x[0])\n",
    "    print(*[f'{i[0]}: {i[1]}' for i in sorted_counter], sep='\\n')\n",
    "\n",
    "\n"
   ],
   "metadata": {
    "collapsed": false,
    "ExecuteTime": {
     "end_time": "2024-11-21T08:23:52.935463500Z",
     "start_time": "2024-11-21T08:23:52.925600700Z"
    }
   },
   "id": "406ab0e92706cab1"
  },
  {
   "cell_type": "markdown",
   "source": [
    "Функция scrabble()\n",
    "Реализуйте функцию scrabble(), которая принимает два аргумента в следующем порядке:\n",
    "\n",
    "symbols — набор символов\n",
    "word — слово\n",
    "Функция должна возвращать True, если из набора символов symbols можно составить слово word, или False в противном случае.\n",
    "\n",
    "Примечание 1. При проверке учитывается количество символов, которые нужны для составления слова, и не учитывается их регистр.\n",
    "\n",
    "Примечание 2. В тестирующую систему сдайте программу, содержащую только необходимую функцию scrabble(), но не код, вызывающий ее."
   ],
   "metadata": {
    "collapsed": false
   },
   "id": "6f635e0957d65227"
  },
  {
   "cell_type": "code",
   "execution_count": 46,
   "outputs": [
    {
     "name": "stdout",
     "output_type": "stream",
     "text": [
      "True\n"
     ]
    }
   ],
   "source": [
    "from collections import Counter\n",
    "\n",
    "\n",
    "def scrabble(symbols: str, word: str) -> bool:\n",
    "    data = Counter(word.lower())  # Приводим символы к нижнему регистру\n",
    "    search_data = Counter(symbols.lower())  # Приводим символы к нижнему регистру\n",
    "\n",
    "    # Проверяем, достаточно ли символов для составления слова\n",
    "    for char, count in data.items():\n",
    "        if search_data[char] < count:\n",
    "            return False\n",
    "    return True\n",
    "\n",
    "\n",
    "print(scrabble('bbbbbeeeeegggggggeeeeeekkkkk', 'Beegeek'))"
   ],
   "metadata": {
    "collapsed": false,
    "ExecuteTime": {
     "end_time": "2024-11-21T11:27:23.703862300Z",
     "start_time": "2024-11-21T11:27:23.697928100Z"
    }
   },
   "id": "7ea4e3d9bd38e17f"
  },
  {
   "cell_type": "code",
   "execution_count": null,
   "outputs": [],
   "source": [
    "from collections import Counter\n",
    "\n",
    "\n",
    "def scrabble(symbols, word):\n",
    "    return Counter(word.lower()) <= Counter(symbols.lower())"
   ],
   "metadata": {
    "collapsed": false
   },
   "id": "89a045afc800bfde"
  },
  {
   "cell_type": "code",
   "execution_count": null,
   "outputs": [],
   "source": [
    "from collections import Counter\n",
    "\n",
    "\n",
    "def scrabble(symbols, word):\n",
    "    return Counter(word.lower()) <= Counter(symbols.lower())"
   ],
   "metadata": {
    "collapsed": false
   },
   "id": "6ed3ad893074a4db"
  },
  {
   "cell_type": "markdown",
   "source": [
    "Функция print_bar_chart()\n",
    "Реализуйте функцию print_bar_chart(), которая принимает два аргумента в следующем порядке:\n",
    "\n",
    "data — строка или список строк\n",
    "mark — одиночный символ\n",
    "Функция должна определять:\n",
    "\n",
    "сколько раз встречается каждый символ в строке, если data является строкой\n",
    "сколько раз встречается каждая строка в списке, если data является списком\n",
    "Затем функция должна выводить результат в виде столбчатой диаграммы, указывая каждый символ (строку) и его количество. Количество отображается как повторение символа mark соответствующее число раз, например, если mark='+', то количество, равное четырем, будет отображено как ++++. Символы (строки) в диаграмме должны быть расположены в порядке уменьшения количества, при равных количествах — в своем исходном порядке, каждая на отдельной строке, в следующем формате:\n",
    "\n",
    "<символ или строка> |<количество>\n",
    "Примечание 1. Обратите внимание на второй тест, функция должна добавлять нужное количество пробелов, если строка имеет меньшую длину, чем другие.\n",
    "\n",
    "Примечание 2. Программа должна учитывать регистр. То есть, например, строки Python и python считаются различными.\n",
    "\n",
    "Примечание 3. В тестирующую систему сдайте программу, содержащую только необходимую функцию print_bar_chart(), но не код, вызывающий ее."
   ],
   "metadata": {
    "collapsed": false
   },
   "id": "d3590dae983f8aed"
  },
  {
   "cell_type": "code",
   "execution_count": 81,
   "outputs": [
    {
     "name": "stdout",
     "output_type": "stream",
     "text": [
      "e |++++\n",
      "b |+\n",
      "g |+\n",
      "k |+\n",
      "java      |####\n",
      "C++       |###\n",
      "pascal    |##\n",
      "python    |#\n",
      "assembler |#\n",
      "C         |#\n"
     ]
    }
   ],
   "source": [
    "from collections import Counter\n",
    "\n",
    "\n",
    "def print_bar_chart(data, mark: str):\n",
    "    data = Counter(data)\n",
    "    # print(data)\n",
    "    sorted_data = sorted(Counter(data).items(), key=lambda x: -x[1])\n",
    "    max_len = max([len(i[0]) for i in sorted_data])\n",
    "    # print(max_len)\n",
    "    for k, v in sorted(Counter(data).items(), key=lambda x: -x[1]):\n",
    "        dif = max_len - len(k) + 1\n",
    "        # print(dif)\n",
    "        print(f'{k}{' ' * dif}|{v * mark}')\n",
    "\n",
    "\n",
    "print_bar_chart('beegeek', '+')\n",
    "languages = ['java', 'java', 'python', 'C++', 'assembler', 'java', 'C++', 'C', 'pascal', 'C++', 'pascal', 'java']\n",
    "\n",
    "print_bar_chart(languages, '#')"
   ],
   "metadata": {
    "collapsed": false,
    "ExecuteTime": {
     "end_time": "2024-11-22T06:36:55.977434600Z",
     "start_time": "2024-11-22T06:36:55.971910300Z"
    }
   },
   "id": "e94f2c9d6eb201e6"
  },
  {
   "cell_type": "code",
   "execution_count": null,
   "outputs": [],
   "source": [
    "from collections import Counter\n",
    "\n",
    "\n",
    "def print_bar_chart(data: (str, list[str]), mark: str):\n",
    "    counter = Counter(data)\n",
    "    spaces = max(map(len, counter.keys()))\n",
    "    for item, count in counter.most_common():\n",
    "        print(f'{item:{spaces + 1}}|{mark * count}')"
   ],
   "metadata": {
    "collapsed": false
   },
   "id": "9ec3c4fea90bda0e"
  },
  {
   "cell_type": "code",
   "execution_count": null,
   "outputs": [],
   "source": [
    "from collections import Counter\n",
    "\n",
    "\n",
    "def print_bar_chart(data, mark):\n",
    "    data = Counter(data)\n",
    "    max_l = len(max(data, key=len))\n",
    "\n",
    "    for name, cnt in data.most_common():\n",
    "        print(f'{name:{max_l}} |{mark * cnt}')"
   ],
   "metadata": {
    "collapsed": false
   },
   "id": "68707a4b53919414"
  },
  {
   "cell_type": "markdown",
   "source": [
    "Бесплатные курсы берут свое 😢\n",
    "Для дополнительного заработка Тимур решил заняться продажей овощей. У него имеются данные о продажах за год, разделенные на четыре файла по кварталам: quarter1.csv, quarter2.csv, quarter3.csv и quarter4.csv. В каждом файле в первом столбце указывается название продукта, а в последующих — количество проданного продукта в килограммах за определенный месяц:\n",
    "\n",
    "продукт,январь,февраль,март\n",
    "Картофель,39,61,3\n",
    "Дайкон,51,96,83\n",
    "...\n",
    "Также присутствует файл prices.json, содержащий словарь, в котором ключом является название продукта, а значением — цена за килограмм в рублях:\n",
    "\n",
    "{\n",
    "   \"Картофель\": 53,\n",
    "   \"Дайкон\": 55,\n",
    "...\n",
    "}\n",
    "Напишите программу, которая выводит единственное число — сумму, заработанную Тимуром за год на продаже овощей."
   ],
   "metadata": {
    "collapsed": false
   },
   "id": "422f32d110e7d150"
  },
  {
   "cell_type": "code",
   "execution_count": 151,
   "outputs": [
    {
     "name": "stdout",
     "output_type": "stream",
     "text": [
      "924593\n"
     ]
    }
   ],
   "source": [
    "import csv\n",
    "import json\n",
    "from collections import Counter\n",
    "from collections import defaultdict\n",
    "\n",
    "\n",
    "def handling_csv(name: str):\n",
    "    with open(name, encoding='utf-8') as file:\n",
    "        data = csv.DictReader(file)\n",
    "        # lst = [{i['продукт']: int(i['январь'])+int(i['февраль'])+int(i['март'])} for i in data]\n",
    "        lst = [list(i.items()) for i in data]\n",
    "        # print(lst)\n",
    "        new_list = [(i[0][1], int(i[1][1]) + int(i[2][1]) + int(i[3][1])) for i in lst]\n",
    "        # print(new_list)\n",
    "\n",
    "        return dict(new_list)\n",
    "\n",
    "\n",
    "l1 = handling_csv('quarter1.csv')\n",
    "l2 = handling_csv('quarter2.csv')\n",
    "l3 = handling_csv('quarter3.csv')\n",
    "l4 = handling_csv('quarter4.csv')\n",
    "\n",
    "\n",
    "def sum_list(*lists):\n",
    "    final_sum = defaultdict(int)\n",
    "    for product_data in lists:\n",
    "        for product, total in product_data.items():\n",
    "            final_sum[product] += total\n",
    "\n",
    "    return final_sum\n",
    "\n",
    "veg = sum_list(l1, l2, l3, l4)\n",
    "\n",
    "def get_json(name):\n",
    "    with open(name, encoding='utf-8') as file:\n",
    "        data = json.load(file)\n",
    "        # print(data)\n",
    "    return data\n",
    "\n",
    "price = get_json('prices.json')\n",
    "\n",
    "# print(veg)\n",
    "# print(price)\n",
    "\n",
    "result = {product: veg[product] * price[product] for product in veg if product in price}\n",
    "\n",
    "print(sum(result.values()))"
   ],
   "metadata": {
    "collapsed": false,
    "ExecuteTime": {
     "end_time": "2024-11-22T08:17:29.458075Z",
     "start_time": "2024-11-22T08:17:29.450799900Z"
    }
   },
   "id": "f266961fa71edd0a"
  },
  {
   "cell_type": "code",
   "execution_count": null,
   "outputs": [],
   "source": [
    "from collections import Counter\n",
    "import csv\n",
    "import json\n",
    "\n",
    "files = 'quarter1.csv, quarter2.csv, quarter3.csv, quarter4.csv'\n",
    "counts = Counter()\n",
    "for name in files.split(', '):\n",
    "    with open(name, encoding='utf-8') as f:\n",
    "        _, *rows = csv.reader(f)\n",
    "    counts += Counter({i[0]: sum(map(int, i[1:])) for i in rows})\n",
    "\n",
    "with open('prices.json', encoding='utf-8') as f:\n",
    "    price = json.load(f)\n",
    "\n",
    "print(sum(j * price[i] for i, j in counts.items()))"
   ],
   "metadata": {
    "collapsed": false
   },
   "id": "3abab045e10f3ea1"
  },
  {
   "cell_type": "code",
   "execution_count": null,
   "outputs": [],
   "source": [
    "import csv\n",
    "import json\n",
    "\n",
    "\n",
    "csv_files = [f\"quarter{i}.csv\" for i in range(1, 5)]\n",
    "json_file = \"prices.json\"\n",
    "\n",
    "\n",
    "with open(json_file, encoding=\"utf-8\") as file:\n",
    "    prices = json.load(file)\n",
    "\n",
    "\n",
    "total = 0\n",
    "for csv_file in csv_files:\n",
    "    with open(csv_file, encoding=\"utf-8\") as file:\n",
    "        header, *rows = csv.reader(file)\n",
    "        for row in rows:\n",
    "            total += prices[row[0]] * sum(map(int, row[1:4]))\n",
    "print(total)"
   ],
   "metadata": {
    "collapsed": false
   },
   "id": "ffc6a234379ac8a3"
  },
  {
   "cell_type": "markdown",
   "source": [
    "Бесплатные курсы берут свое 😭\n",
    "Тимур продает книги по математике за 1—11 класс. У него есть список, в котором указаны все книги, имеющиеся в наличии. К Тимуру приходят n покупателей, называют номер класса, за который они хотят приобрести книгу, и сумму, которую они готовы заплатить, и если книга есть в наличии, Тимур ее продает.\n",
    "\n",
    "Напишите программу, которая вычисляет общую сумму денег, которую Тимур заработает на продаже книг.\n",
    "\n",
    "Формат входных данных\n",
    "На вход программе в первой строке подается последовательность чисел, разделенных пробелом, представляющих набор книг, которые имеются в наличии. Каждое число последовательности — книга за указанный класс, например, последовательность 1 1 4 представляет набор из двух книг за первый класс и одной книги за четвертый класс. Вторая строка содержит число n — количество покупателей. В последующих n строках вводятся два числа, разделенные пробелом, где первое число является номером класса, второе — суммой, предлагаемой покупателем.\n",
    "\n",
    "Формат выходных данных\n",
    "Программа должна вывести единственное число — общую сумму денег, которую заработал Тимур.\n",
    "\n",
    "Примечание. Рассмотрим первый тест. В первой строке указан список книг, которые есть в наличии:\n",
    "2 книги за 1-й класс\n",
    "1 книга за 11-й класс\n",
    "3 книги за 9-й класс\n",
    "2 книги за 5-й класс\n",
    "1 книга за 7-й класс\n",
    "В следующей строке указано число \n",
    "7 — количество покупателей. Последующие 7 строк содержат номер класса и некоторую сумму:\n",
    "\n",
    "первый покупатель приобретает книгу за 1-й класс за 300р\n",
    "второй покупатель приобретает книгу за 1-й класс за 250р\n",
    "третий покупатель приобретает книгу за 11-й класс за 400р\n",
    "книг за 1-й класс больше нет в наличии, поэтому покупка невозможна\n",
    "пятый покупатель приобретает книгу за 7-й класс за 200р\n",
    "шестой покупатель приобретает книгу за 9-й класс за 400р\n",
    "книг за 7-й класс больше нет в наличии, поэтому покупка невозможна\n",
    "Итого Тимур заработал 300+250+400+200+400=1550р."
   ],
   "metadata": {
    "collapsed": false
   },
   "id": "82c51e4c7e722953"
  },
  {
   "cell_type": "code",
   "execution_count": null,
   "outputs": [],
   "source": [
    "from collections import OrderedDict\n",
    "from collections import Counter\n",
    "\n",
    "\n",
    "initial_store = list(map(int, input().split()))\n",
    "print(initial_store)\n",
    "n = int(input())\n",
    "\n",
    "orders = []\n",
    "prices = []\n",
    "for i in range(n):\n",
    "    k, v = map(int, input().split())\n",
    "    l1 = {k:v}\n",
    "    orders.append(k)\n",
    "    prices.append(l1)\n",
    "print(orders)\n",
    "print(prices)\n",
    "\n",
    "# order = Counter(orders)\n",
    "# print(order)\n",
    "# \n",
    "# remain = initial_store - order\n",
    "# print(remain)\n",
    "# \n",
    "# approved_order = initial_store - remain\n",
    "# print(approved_order)\n",
    "\n",
    "result = []\n",
    "for i in prices:\n",
    "    for k, v in i.items():\n",
    "        if k in initial_store:\n",
    "            initial_store.remove(k)\n",
    "            result.append(v)\n",
    "print(sum(result))"
   ],
   "metadata": {
    "collapsed": false
   },
   "id": "6186546cb6f5af52"
  },
  {
   "cell_type": "markdown",
   "source": [
    "Counter({9: 3, 1: 2, 5: 2, 11: 1, 7: 1})\n",
    "[{1: 300}, {1: 250}, {11: 400}, {1: 300}, {7: 200}, {9: 400}, {7: 250}]\n",
    "[1, 1, 11, 1, 7, 9, 7]\n",
    "Counter({1: 3, 7: 2, 11: 1, 9: 1})\n",
    "Counter({9: 2, 5: 2})\n",
    "Counter({1: 2, 11: 1, 9: 1, 7: 1})"
   ],
   "metadata": {
    "collapsed": false
   },
   "id": "8987477c2f665254"
  },
  {
   "cell_type": "code",
   "execution_count": null,
   "outputs": [],
   "source": [
    "from collections import Counter\n",
    "\n",
    "books = Counter(map(int, input().split()))\n",
    "total = 0\n",
    "\n",
    "for _ in range(int(input())):\n",
    "    book, price = map(int, input().split())\n",
    "    total += bool(books[book]) * price\n",
    "    books -= Counter({book: 1})\n",
    "    \n",
    "print(total)"
   ],
   "metadata": {
    "collapsed": false
   },
   "id": "b2ad1fec76d9343e"
  },
  {
   "cell_type": "code",
   "execution_count": null,
   "outputs": [],
   "source": [
    "from collections import Counter\n",
    "\n",
    "initial_store = Counter(map(int, input().split()))\n",
    "\n",
    "n = int(input())\n",
    "\n",
    "total_value = 0\n",
    "\n",
    "for _ in range(n):\n",
    "    k, v = map(int, input().split())\n",
    "    \n",
    "    if initial_store[k] > 0:\n",
    "        initial_store[k] -= 1\n",
    "        total_value += v\n",
    "\n",
    "print(total_value)"
   ],
   "metadata": {
    "collapsed": false
   },
   "id": "bde39ddd7ba44c8f"
  }
 ],
 "metadata": {
  "kernelspec": {
   "display_name": "Python 3",
   "language": "python",
   "name": "python3"
  },
  "language_info": {
   "codemirror_mode": {
    "name": "ipython",
    "version": 2
   },
   "file_extension": ".py",
   "mimetype": "text/x-python",
   "name": "python",
   "nbconvert_exporter": "python",
   "pygments_lexer": "ipython2",
   "version": "2.7.6"
  }
 },
 "nbformat": 4,
 "nbformat_minor": 5
}

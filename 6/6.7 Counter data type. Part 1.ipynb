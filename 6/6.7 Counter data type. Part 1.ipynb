{
 "cells": [
  {
   "cell_type": "markdown",
   "source": [
    "Тема урока: тип данных Counter\n",
    "Модуль collections\n",
    "Подсчет объектов\n",
    "Тип данных Counter\n",
    "Аннотация. Урок посвящен типу данных Counter."
   ],
   "metadata": {
    "collapsed": false
   },
   "id": "8d085498a62b4a11"
  },
  {
   "cell_type": "markdown",
   "source": [
    "Подсчет объектов"
   ],
   "metadata": {
    "collapsed": false
   },
   "id": "173ecad456079b"
  },
  {
   "cell_type": "markdown",
   "source": [
    "Иногда нам нужно узнать, как часто некоторый объект встречается в каком-либо источнике данных (список, кортеж, строка и т.д). Другими словами, нам нужно посчитать количество вхождений объекта. Обычно для таких целей используется переменная-счетчик, значение которой увеличивается на единицу при каждом обнаружении нужного объекта."
   ],
   "metadata": {
    "collapsed": false
   },
   "id": "638071374866f100"
  },
  {
   "cell_type": "code",
   "execution_count": 1,
   "outputs": [
    {
     "name": "stdout",
     "output_type": "stream",
     "text": [
      "4\n"
     ]
    }
   ],
   "source": [
    "data = 'mississippi'\n",
    "counter = 0\n",
    "\n",
    "for letter in data:\n",
    "    if letter == 's':\n",
    "        counter += 1\n",
    "\n",
    "print(counter)"
   ],
   "metadata": {
    "collapsed": false,
    "ExecuteTime": {
     "end_time": "2024-11-19T07:13:51.507410600Z",
     "start_time": "2024-11-19T07:13:51.496895600Z"
    }
   },
   "id": "dabc33328de8d006"
  },
  {
   "cell_type": "markdown",
   "source": [
    "Если нам нужно посчитать количество нескольких объектов, то нам нужно создать большое количество счетчиков. Однако вместо этого куда удобнее воспользоваться одним словарем. В ключах такого словаря будут храниться объекты, которые мы считаем, а значения по этим ключам будут содержать количество повторений данного объекта."
   ],
   "metadata": {
    "collapsed": false
   },
   "id": "c0de825cd24c02b9"
  },
  {
   "cell_type": "code",
   "execution_count": 1,
   "outputs": [
    {
     "name": "stdout",
     "output_type": "stream",
     "text": [
      "{'m': 1, 'i': 4, 's': 4, 'p': 2}\n"
     ]
    }
   ],
   "source": [
    "data = 'mississippi'\n",
    "counter = {}\n",
    "\n",
    "for letter in data:\n",
    "     if letter not in counter:\n",
    "         counter[letter] = 0\n",
    "     counter[letter] += 1\n",
    "\n",
    "print(counter)"
   ],
   "metadata": {
    "collapsed": false,
    "ExecuteTime": {
     "end_time": "2024-11-19T08:24:08.640052200Z",
     "start_time": "2024-11-19T08:24:08.629953Z"
    }
   },
   "id": "21e64808663704f4"
  },
  {
   "cell_type": "markdown",
   "source": [
    "Использования словаря для решения задачи подсчета накладывает некоторые ограничения на ключи. Ключами словаря должны быть хешируемые значения. В Python неизменяемые объекты являются хешируемыми."
   ],
   "metadata": {
    "collapsed": false
   },
   "id": "7bcd19cd4a49ba38"
  },
  {
   "cell_type": "markdown",
   "source": [
    "Для упрощения предыдущего кода мы можем использовать словарный метод get()."
   ],
   "metadata": {
    "collapsed": false
   },
   "id": "9b0f0c9ef8c4f23b"
  },
  {
   "cell_type": "code",
   "execution_count": 2,
   "outputs": [
    {
     "name": "stdout",
     "output_type": "stream",
     "text": [
      "{'m': 1, 'i': 4, 's': 4, 'p': 2}\n"
     ]
    }
   ],
   "source": [
    "data = 'mississippi'\n",
    "counter = {}\n",
    "\n",
    "for letter in data:\n",
    "     counter[letter] = counter.get(letter, 0) + 1\n",
    "\n",
    "print(counter)"
   ],
   "metadata": {
    "collapsed": false,
    "ExecuteTime": {
     "end_time": "2024-11-19T08:25:52.383922900Z",
     "start_time": "2024-11-19T08:25:52.381804400Z"
    }
   },
   "id": "640949395e18d9a8"
  },
  {
   "cell_type": "code",
   "execution_count": 6,
   "outputs": [
    {
     "name": "stdout",
     "output_type": "stream",
     "text": [
      "{'m': 1, 'i': 4, 's': 4, 'p': 2}\n"
     ]
    }
   ],
   "source": [
    "data = 'mississippi'\n",
    "counter = {}\n",
    "\n",
    "for letter in data:\n",
    "     counter[letter] = counter.setdefault(letter, 0) + 1\n",
    "\n",
    "print(counter)"
   ],
   "metadata": {
    "collapsed": false,
    "ExecuteTime": {
     "end_time": "2024-11-19T08:35:23.043921500Z",
     "start_time": "2024-11-19T08:35:23.039405Z"
    }
   },
   "id": "e3dccbb0b2783f23"
  },
  {
   "cell_type": "markdown",
   "source": [
    "Мы также можем использовать уже изученный ранее тип словаря defaultdict."
   ],
   "metadata": {
    "collapsed": false
   },
   "id": "1114ca0c387d9dea"
  },
  {
   "cell_type": "code",
   "execution_count": 4,
   "outputs": [
    {
     "name": "stdout",
     "output_type": "stream",
     "text": [
      "{'m': 1, 'i': 4, 's': 4, 'p': 2}\n"
     ]
    }
   ],
   "source": [
    "from collections import defaultdict\n",
    "\n",
    "data = 'mississippi'\n",
    "counter = defaultdict(int)\n",
    "\n",
    "for letter in data:\n",
    "     counter[letter] += 1\n",
    "\n",
    "print(dict(counter))"
   ],
   "metadata": {
    "collapsed": false,
    "ExecuteTime": {
     "end_time": "2024-11-19T08:30:53.069713700Z",
     "start_time": "2024-11-19T08:30:53.063923300Z"
    }
   },
   "id": "18b24b11c1d62632"
  },
  {
   "cell_type": "markdown",
   "source": [
    "Из приведенных трех решений последнее, пожалуй, является наиболее читабельным, коротким и лаконичным. Тем не менее, учитывая, что задача подсчета объектов является достаточно распространенной в программировании, язык Python предлагает лучший способ ее решения. Для подсчета объектов в модуле collections есть специальный тип данных под названием Counter, о котором пойдет речь далее."
   ],
   "metadata": {
    "collapsed": false
   },
   "id": "872dcd4bc767c654"
  },
  {
   "cell_type": "markdown",
   "source": [
    "Тип данных Counter"
   ],
   "metadata": {
    "collapsed": false
   },
   "id": "8bed7a5f2803a346"
  },
  {
   "cell_type": "markdown",
   "source": [
    "Тип Counter является подтипом типа dict, специально разработанный для подсчета хешируемых объектов в Python. Counter хранит объекты в качестве ключей, а их количество — в качестве значений."
   ],
   "metadata": {
    "collapsed": false
   },
   "id": "4e3e730c27629be8"
  },
  {
   "cell_type": "markdown",
   "source": [
    "Создание Counter"
   ],
   "metadata": {
    "collapsed": false
   },
   "id": "6f8574b4ee349d5e"
  },
  {
   "cell_type": "markdown",
   "source": [
    "Существует несколько способов создания объектов типа Counter. Самый простой и распространенный способ основан на передаче коллекции с данными (список, строка, кортеж и т.д.) в конструктор типа."
   ],
   "metadata": {
    "collapsed": false
   },
   "id": "f234d7819b58d1e7"
  },
  {
   "cell_type": "code",
   "execution_count": 11,
   "outputs": [
    {
     "name": "stdout",
     "output_type": "stream",
     "text": [
      "Counter({'i': 4, 's': 4, 'p': 2, 'm': 1})\n",
      "4\n",
      "dict_keys(['m', 'i', 's', 'p'])\n",
      "4\n"
     ]
    }
   ],
   "source": [
    "from collections import Counter\n",
    "\n",
    "counter = Counter('mississippi')     # создаем счетчик на основе строки\n",
    "print(counter)\n",
    "print(counter['i'])\n",
    "print(counter.keys())\n",
    "print(len(counter.keys()))"
   ],
   "metadata": {
    "collapsed": false,
    "ExecuteTime": {
     "end_time": "2024-11-19T08:47:37.398132900Z",
     "start_time": "2024-11-19T08:47:37.395299100Z"
    }
   },
   "id": "b6b35c1e3bc5b2ea"
  },
  {
   "cell_type": "markdown",
   "source": [
    "Мы можем преобразовать объект типа Counter в обычный словарь с помощью функции dict()"
   ],
   "metadata": {
    "collapsed": false
   },
   "id": "ce40dfe2555b322c"
  },
  {
   "cell_type": "markdown",
   "source": [
    "Мы можем создавать объекты типа Counter, явно указывая начальные значения количества объектов."
   ],
   "metadata": {
    "collapsed": false
   },
   "id": "63ad69794120ed6c"
  },
  {
   "cell_type": "code",
   "execution_count": 8,
   "outputs": [
    {
     "name": "stdout",
     "output_type": "stream",
     "text": [
      "Counter({'i': 4, 's': 4, 'p': 2, 'm': 1})\n",
      "Counter({'i': 4, 's': 4, 'p': 2, 'm': 1})\n"
     ]
    }
   ],
   "source": [
    "from collections import Counter\n",
    "\n",
    "counter1 = Counter({'i': 4, 's': 4, 'p': 2, 'm': 1})\n",
    "counter2 = Counter(i=4, s=4, p=2, m=1)\n",
    "\n",
    "print(counter1)\n",
    "print(counter2)"
   ],
   "metadata": {
    "collapsed": false,
    "ExecuteTime": {
     "end_time": "2024-11-19T08:45:21.981792700Z",
     "start_time": "2024-11-19T08:45:21.978969600Z"
    }
   },
   "id": "c5e708c3fb3638de"
  },
  {
   "cell_type": "markdown",
   "source": [
    "Тип Counter, будучи подтипом типа dict, наследует все методы, предоставляемые обычным словарем. При этом вызов метода fromkeys() всегда будет приводить к возникновению ошибки:\n",
    "NotImplementedError: Counter.fromkeys() is undefined.  Use Counter(iterable) instead."
   ],
   "metadata": {
    "collapsed": false
   },
   "id": "f4819a2a8feb5466"
  },
  {
   "cell_type": "markdown",
   "source": [
    "Такое поведение не случайно, оно позволяет избежать ошибок неоднозначности при создании объектов типа Counter."
   ],
   "metadata": {
    "collapsed": false
   },
   "id": "a0bb89b7f127893c"
  },
  {
   "cell_type": "markdown",
   "source": [
    "Например, код:"
   ],
   "metadata": {
    "collapsed": false
   },
   "id": "24cf2dba25b38d3e"
  },
  {
   "cell_type": "code",
   "execution_count": 12,
   "outputs": [
    {
     "ename": "NotImplementedError",
     "evalue": "Counter.fromkeys() is undefined.  Use Counter(iterable) instead.",
     "output_type": "error",
     "traceback": [
      "\u001B[1;31m---------------------------------------------------------------------------\u001B[0m",
      "\u001B[1;31mNotImplementedError\u001B[0m                       Traceback (most recent call last)",
      "Cell \u001B[1;32mIn[12], line 3\u001B[0m\n\u001B[0;32m      1\u001B[0m \u001B[38;5;28;01mfrom\u001B[39;00m \u001B[38;5;21;01mcollections\u001B[39;00m \u001B[38;5;28;01mimport\u001B[39;00m Counter\n\u001B[1;32m----> 3\u001B[0m counter \u001B[38;5;241m=\u001B[39m \u001B[43mCounter\u001B[49m\u001B[38;5;241;43m.\u001B[39;49m\u001B[43mfromkeys\u001B[49m\u001B[43m(\u001B[49m\u001B[38;5;124;43m'\u001B[39;49m\u001B[38;5;124;43mmississippi\u001B[39;49m\u001B[38;5;124;43m'\u001B[39;49m\u001B[43m,\u001B[49m\u001B[43m \u001B[49m\u001B[38;5;241;43m2\u001B[39;49m\u001B[43m)\u001B[49m\n",
      "File \u001B[1;32m~\\AppData\\Local\\Programs\\Python\\Python312\\Lib\\collections\\__init__.py:666\u001B[0m, in \u001B[0;36mCounter.fromkeys\u001B[1;34m(cls, iterable, v)\u001B[0m\n\u001B[0;32m    657\u001B[0m \u001B[38;5;129m@classmethod\u001B[39m\n\u001B[0;32m    658\u001B[0m \u001B[38;5;28;01mdef\u001B[39;00m \u001B[38;5;21mfromkeys\u001B[39m(\u001B[38;5;28mcls\u001B[39m, iterable, v\u001B[38;5;241m=\u001B[39m\u001B[38;5;28;01mNone\u001B[39;00m):\n\u001B[0;32m    659\u001B[0m     \u001B[38;5;66;03m# There is no equivalent method for counters because the semantics\u001B[39;00m\n\u001B[1;32m   (...)\u001B[0m\n\u001B[0;32m    664\u001B[0m     \u001B[38;5;66;03m# more exotic cases, create a dictionary first using a dictionary\u001B[39;00m\n\u001B[0;32m    665\u001B[0m     \u001B[38;5;66;03m# comprehension or dict.fromkeys().\u001B[39;00m\n\u001B[1;32m--> 666\u001B[0m     \u001B[38;5;28;01mraise\u001B[39;00m \u001B[38;5;167;01mNotImplementedError\u001B[39;00m(\n\u001B[0;32m    667\u001B[0m         \u001B[38;5;124m'\u001B[39m\u001B[38;5;124mCounter.fromkeys() is undefined.  Use Counter(iterable) instead.\u001B[39m\u001B[38;5;124m'\u001B[39m)\n",
      "\u001B[1;31mNotImplementedError\u001B[0m: Counter.fromkeys() is undefined.  Use Counter(iterable) instead."
     ]
    }
   ],
   "source": [
    "from collections import Counter\n",
    "\n",
    "counter = Counter.fromkeys('mississippi', 2)"
   ],
   "metadata": {
    "collapsed": false,
    "ExecuteTime": {
     "end_time": "2024-11-19T08:49:38.625931800Z",
     "start_time": "2024-11-19T08:49:38.345983700Z"
    }
   },
   "id": "505fa5b883d6635b"
  },
  {
   "cell_type": "markdown",
   "source": [
    "мог бы создать объект типа Counter на основе строки mississippi со значением по умолчанию равным 2 для всех символов строки, несмотря на реальное количество вхождений символов в строке mississippi."
   ],
   "metadata": {
    "collapsed": false
   },
   "id": "c39e3325a04130c"
  },
  {
   "cell_type": "markdown",
   "source": [
    "Тип данных Counter накладывает такие же ограничения на ключи, как и обычные словари (тип dict): ключи должны быть хешируемыми. При этом нет никаких ограничений на объекты, которые мы будем хранить в качестве значений."
   ],
   "metadata": {
    "collapsed": false
   },
   "id": "ffbe4bcdef48e7a"
  },
  {
   "cell_type": "code",
   "execution_count": 13,
   "outputs": [
    {
     "name": "stdout",
     "output_type": "stream",
     "text": [
      "Counter({'apple': 5, 'orange': 7, 'banana': 0, 'tomato': -2, 'watermelon': 'N/A'})\n"
     ]
    }
   ],
   "source": [
    "from collections import Counter\n",
    "\n",
    "inventory = Counter(apple=5, orange=7, banana=0, tomato=-2, watermelon='N/A')\n",
    "\n",
    "print(inventory)"
   ],
   "metadata": {
    "collapsed": false,
    "ExecuteTime": {
     "end_time": "2024-11-19T08:52:39.866248700Z",
     "start_time": "2024-11-19T08:52:39.863609600Z"
    }
   },
   "id": "96473c79a82729fe"
  },
  {
   "cell_type": "markdown",
   "source": [
    "Тип Counter позволяет нам писать такой код, однако нужно понимать, что для правильной работы в качестве подсчета объектов значения должны быть целыми неотрицательными числами, представляющими количество."
   ],
   "metadata": {
    "collapsed": false
   },
   "id": "671505a742946f17"
  },
  {
   "cell_type": "markdown",
   "source": [
    "Обновление данных"
   ],
   "metadata": {
    "collapsed": false
   },
   "id": "ada63f3b15e23f7e"
  },
  {
   "cell_type": "markdown",
   "source": [
    "Для изменения объектов типа Counter мы можем использовать метод update(). Реализация данного метода не заменяет значения как у обычных словарей (тип dict), а суммирует существующие значения. При этом для новых объектов метод update() создает новые пары ключ: количество."
   ],
   "metadata": {
    "collapsed": false
   },
   "id": "a21135164aa55415"
  },
  {
   "cell_type": "code",
   "execution_count": 14,
   "outputs": [
    {
     "name": "stdout",
     "output_type": "stream",
     "text": [
      "Counter({'i': 4, 's': 4, 'p': 2, 'm': 1})\n",
      "Counter({'i': 6, 's': 6, 'p': 2, 'm': 2, 'o': 1, 'u': 1, 'r': 1})\n"
     ]
    }
   ],
   "source": [
    "from collections import Counter\n",
    "\n",
    "letters = Counter({'i': 4, 's': 4, 'p': 2, 'm': 1})\n",
    "print(letters)\n",
    "\n",
    "letters.update('missouri')\n",
    "print(letters)"
   ],
   "metadata": {
    "collapsed": false,
    "ExecuteTime": {
     "end_time": "2024-11-19T08:53:51.158812900Z",
     "start_time": "2024-11-19T08:53:51.154113400Z"
    }
   },
   "id": "a629a3c9ede7c21d"
  },
  {
   "cell_type": "markdown",
   "source": [
    "Метод update() принимает любой итерируемый объект: список, строку, кортеж и т.д."
   ],
   "metadata": {
    "collapsed": false
   },
   "id": "6f74b0e55006ccde"
  },
  {
   "cell_type": "markdown",
   "source": [
    "Мы также можем передавать методу update() другой объект типа Counter, либо обычный словарь (тип dict)."
   ],
   "metadata": {
    "collapsed": false
   },
   "id": "80746a3f288d0cdd"
  },
  {
   "cell_type": "code",
   "execution_count": 15,
   "outputs": [
    {
     "name": "stdout",
     "output_type": "stream",
     "text": [
      "Counter({'apple': 20, 'banana': 10, 'orange': 5})\n",
      "Counter({'apple': 23, 'orange': 17, 'banana': 17})\n",
      "Counter({'apple': 27, 'orange': 22, 'banana': 17, 'tomato': 6})\n"
     ]
    }
   ],
   "source": [
    "from collections import Counter\n",
    "\n",
    "sales = Counter(apple=20, orange=5, banana=10)\n",
    "monday_sales = Counter(apple=3, orange=12, banana=7)\n",
    "tuesday_sales = {'apple': 4, 'orange': 5, 'tomato': 6}\n",
    "\n",
    "print(sales)\n",
    "\n",
    "sales.update(monday_sales)\n",
    "print(sales)\n",
    "\n",
    "sales.update(tuesday_sales)\n",
    "print(sales)"
   ],
   "metadata": {
    "collapsed": false,
    "ExecuteTime": {
     "end_time": "2024-11-19T08:56:12.728283400Z",
     "start_time": "2024-11-19T08:56:12.724160600Z"
    }
   },
   "id": "f1b4b96f1d76b96b"
  },
  {
   "cell_type": "markdown",
   "source": [
    "Мы также можем использовать метод update() с именованными аргументами. К примеру, вызов метода sales.update(apple=3, orange=12, banana=7) равнозначен вызову метода sales.update(monday_sales)."
   ],
   "metadata": {
    "collapsed": false
   },
   "id": "dc4dff3a4a846918"
  },
  {
   "cell_type": "markdown",
   "source": [
    "Доступ к элементам и итерирование"
   ],
   "metadata": {
    "collapsed": false
   },
   "id": "d738b339e0b0f04e"
  },
  {
   "cell_type": "markdown",
   "source": [
    "Доступ к элементам и итерирование по Counter словарям работает так же, как и у обычных словарей. Мы можем перебирать ключи напрямую или можем использовать словарные методы items(), keys() и values()"
   ],
   "metadata": {
    "collapsed": false
   },
   "id": "6f5b56c209845d7d"
  },
  {
   "cell_type": "code",
   "execution_count": 16,
   "outputs": [
    {
     "name": "stdout",
     "output_type": "stream",
     "text": [
      "2\n",
      "4\n",
      "\n",
      "m -> 1\n",
      "i -> 4\n",
      "s -> 4\n",
      "p -> 2\n",
      "\n",
      "m -> 1\n",
      "i -> 4\n",
      "s -> 4\n",
      "p -> 2\n",
      "\n",
      "1\n",
      "4\n",
      "4\n",
      "2\n",
      "\n",
      "m -> 1\n",
      "i -> 4\n",
      "s -> 4\n",
      "p -> 2\n"
     ]
    }
   ],
   "source": [
    "from collections import Counter\n",
    "\n",
    "letters = Counter('mississippi')\n",
    "\n",
    "# обращение по ключу\n",
    "print(letters['p'])\n",
    "print(letters['i'])\n",
    "\n",
    "print()\n",
    "\n",
    "# перебор ключей напрямую\n",
    "for letter in letters:\n",
    "    print(letter, '->', letters[letter])\n",
    "\n",
    "print()\n",
    "\n",
    "# перебор ключей через метод\n",
    "for letter in letters.keys():\n",
    "    print(letter, '->', letters[letter])\n",
    "\n",
    "print()\n",
    "\n",
    "# перебор значений через метод\n",
    "for count in letters.values():\n",
    "    print(count)\n",
    "\n",
    "print()\n",
    "\n",
    "# перебор пар (ключ, значение) через метод\n",
    "for letter, count in letters.items():\n",
    "    print(letter, '->', count)"
   ],
   "metadata": {
    "collapsed": false,
    "ExecuteTime": {
     "end_time": "2024-11-19T08:57:44.482369900Z",
     "start_time": "2024-11-19T08:57:44.479444800Z"
    }
   },
   "id": "edf20a865e45c045"
  },
  {
   "cell_type": "markdown",
   "source": [
    "Если обратиться по ключу, которого нет в Counter словаре, то ошибка KeyError возникать не будет. Будет возвращено нулевое значение. При этом ключ создан не будет."
   ],
   "metadata": {
    "collapsed": false
   },
   "id": "5dc8755ae87c8934"
  },
  {
   "cell_type": "markdown",
   "source": [
    "Примечания"
   ],
   "metadata": {
    "collapsed": false
   },
   "id": "8ee004f095d1015e"
  },
  {
   "cell_type": "markdown",
   "source": [
    "Примечание 1. Для подсчета объектов тип Counter использует высокооптимизированную функцию, написанную на языке C. Поэтому беспокоиться об эффективности использования данного типа не стоит."
   ],
   "metadata": {
    "collapsed": false
   },
   "id": "11a8dce1aed44a0a"
  },
  {
   "cell_type": "markdown",
   "source": [
    "Примечание 2. Для удаления всех элементов из Counter словаря используется уже знакомый нам метод clear()."
   ],
   "metadata": {
    "collapsed": false
   },
   "id": "16fd16a9de86d8a0"
  },
  {
   "cell_type": "code",
   "execution_count": 17,
   "outputs": [
    {
     "name": "stdout",
     "output_type": "stream",
     "text": [
      "Counter()\n"
     ]
    }
   ],
   "source": [
    "from collections import Counter\n",
    "\n",
    "counter = Counter(i=4, s=40, a=1, p=20, b=98, z=69)\n",
    "\n",
    "counter.clear()\n",
    "\n",
    "print(counter)"
   ],
   "metadata": {
    "collapsed": false,
    "ExecuteTime": {
     "end_time": "2024-11-19T08:59:41.149934900Z",
     "start_time": "2024-11-19T08:59:41.146116200Z"
    }
   },
   "id": "80b63b7f3ab6ea42"
  },
  {
   "cell_type": "markdown",
   "source": [
    "Примечание 3. Объекты типа Counter можно сравнивать между собой. Равные объекты имеют одинаковое количество элементов и содержат равные элементы (ключ: количество). Для сравнения используются операторы == и !=."
   ],
   "metadata": {
    "collapsed": false
   },
   "id": "7008bf590eec6831"
  },
  {
   "cell_type": "code",
   "execution_count": 18,
   "outputs": [
    {
     "name": "stdout",
     "output_type": "stream",
     "text": [
      "True\n",
      "False\n"
     ]
    }
   ],
   "source": [
    "from collections import Counter\n",
    "\n",
    "counter1 = Counter({'i': 4, 's': 4, 'p': 2, 'm': 1})\n",
    "counter2 = Counter(m=1, s=4, i=4, p=2)\n",
    "counter3 = Counter('iiiisspm')\n",
    "\n",
    "print(counter1 == counter2)\n",
    "print(counter1 == counter3)"
   ],
   "metadata": {
    "collapsed": false,
    "ExecuteTime": {
     "end_time": "2024-11-19T09:00:04.182484800Z",
     "start_time": "2024-11-19T09:00:04.179803300Z"
    }
   },
   "id": "59599876cf677190"
  },
  {
   "cell_type": "markdown",
   "source": [
    "До версии Python 3.10 словари Counter(i=4) и Counter(i=4, s=0) считались разными. Начиная с Python 3.10 сравнение рассматривает отсутствующие элементы как имеющие нулевое значение"
   ],
   "metadata": {
    "collapsed": false
   },
   "id": "eb5db2b13962c44d"
  },
  {
   "cell_type": "code",
   "execution_count": 19,
   "outputs": [
    {
     "name": "stdout",
     "output_type": "stream",
     "text": [
      "True\n"
     ]
    }
   ],
   "source": [
    "from collections import Counter\n",
    "\n",
    "counter1 = Counter(i=4)\n",
    "counter2 = Counter(i=4, s=0)\n",
    "\n",
    "print(counter1 == counter2)"
   ],
   "metadata": {
    "collapsed": false,
    "ExecuteTime": {
     "end_time": "2024-11-19T09:00:44.285383900Z",
     "start_time": "2024-11-19T09:00:44.282760400Z"
    }
   },
   "id": "29d39955ace99fc1"
  },
  {
   "cell_type": "markdown",
   "source": [
    "Примечание 4. Обратите внимание на то, что если значения по ключам будут иметь тип, отличный от числового, но при этом допускающий сложение (например, строки), то ошибок при вызове метода update() возникать не будет."
   ],
   "metadata": {
    "collapsed": false
   },
   "id": "db1381bc816111d2"
  },
  {
   "cell_type": "code",
   "execution_count": 33,
   "outputs": [
    {
     "name": "stdout",
     "output_type": "stream",
     "text": [
      "2\n"
     ]
    }
   ],
   "source": [
    "from collections import Counter\n",
    "\n",
    "browsers = Counter(['Firefox', 'Chrome', 'Edge', 'Edge' 'Chrome', 'Firefox', 'Opera', 'Yandex', 'Chrome'])\n",
    "\n",
    "print(browsers['Firefox'])"
   ],
   "metadata": {
    "collapsed": false,
    "ExecuteTime": {
     "end_time": "2024-11-19T09:26:21.453176200Z",
     "start_time": "2024-11-19T09:26:21.450452500Z"
    }
   },
   "id": "9a38e3fd6efd2d18"
  },
  {
   "cell_type": "code",
   "execution_count": 36,
   "outputs": [
    {
     "name": "stdout",
     "output_type": "stream",
     "text": [
      "3\n",
      "11\n",
      "14\n"
     ]
    }
   ],
   "source": [
    "from collections import Counter\n",
    "\n",
    "counter = Counter({1: 11, 2: 22, 3: 33})\n",
    "\n",
    "print(max(counter.keys()))\n",
    "print(min(counter.values()))\n",
    "print(max(counter.keys()) + min(counter.values()))"
   ],
   "metadata": {
    "collapsed": false,
    "ExecuteTime": {
     "end_time": "2024-11-19T09:28:51.180629600Z",
     "start_time": "2024-11-19T09:28:51.177248900Z"
    }
   },
   "id": "d588fbb0970b1b79"
  },
  {
   "cell_type": "code",
   "execution_count": 37,
   "outputs": [
    {
     "name": "stdout",
     "output_type": "stream",
     "text": [
      "True\n"
     ]
    }
   ],
   "source": [
    "from collections import Counter\n",
    "\n",
    "letters1 = Counter('earth')\n",
    "letters2 = Counter('heart')\n",
    "\n",
    "print(letters1 == letters2)"
   ],
   "metadata": {
    "collapsed": false,
    "ExecuteTime": {
     "end_time": "2024-11-19T09:29:11.453223700Z",
     "start_time": "2024-11-19T09:29:11.448644200Z"
    }
   },
   "id": "45fb9657764fcc9d"
  },
  {
   "cell_type": "code",
   "execution_count": 38,
   "outputs": [
    {
     "ename": "TypeError",
     "evalue": "unsupported operand type(s) for +: 'int' and 'str'",
     "output_type": "error",
     "traceback": [
      "\u001B[1;31m---------------------------------------------------------------------------\u001B[0m",
      "\u001B[1;31mTypeError\u001B[0m                                 Traceback (most recent call last)",
      "Cell \u001B[1;32mIn[38], line 6\u001B[0m\n\u001B[0;32m      3\u001B[0m vegetables1 \u001B[38;5;241m=\u001B[39m Counter({\u001B[38;5;124m'\u001B[39m\u001B[38;5;124mcabbage\u001B[39m\u001B[38;5;124m'\u001B[39m: \u001B[38;5;124m'\u001B[39m\u001B[38;5;124mten\u001B[39m\u001B[38;5;124m'\u001B[39m, \u001B[38;5;124m'\u001B[39m\u001B[38;5;124mpepper\u001B[39m\u001B[38;5;124m'\u001B[39m: \u001B[38;5;124m'\u001B[39m\u001B[38;5;124mseven\u001B[39m\u001B[38;5;124m'\u001B[39m, \u001B[38;5;124m'\u001B[39m\u001B[38;5;124mpumpkin\u001B[39m\u001B[38;5;124m'\u001B[39m: \u001B[38;5;124m'\u001B[39m\u001B[38;5;124mfour\u001B[39m\u001B[38;5;124m'\u001B[39m})\n\u001B[0;32m      4\u001B[0m vegetables2 \u001B[38;5;241m=\u001B[39m Counter({\u001B[38;5;124m'\u001B[39m\u001B[38;5;124mcabbage\u001B[39m\u001B[38;5;124m'\u001B[39m: \u001B[38;5;241m3\u001B[39m, \u001B[38;5;124m'\u001B[39m\u001B[38;5;124mpepper\u001B[39m\u001B[38;5;124m'\u001B[39m: \u001B[38;5;241m2\u001B[39m})\n\u001B[1;32m----> 6\u001B[0m \u001B[43mvegetables1\u001B[49m\u001B[38;5;241;43m.\u001B[39;49m\u001B[43mupdate\u001B[49m\u001B[43m(\u001B[49m\u001B[43mvegetables2\u001B[49m\u001B[43m)\u001B[49m\n\u001B[0;32m      8\u001B[0m \u001B[38;5;28mprint\u001B[39m(vegetables1[\u001B[38;5;124m'\u001B[39m\u001B[38;5;124mpepper\u001B[39m\u001B[38;5;124m'\u001B[39m])\n",
      "File \u001B[1;32m~\\AppData\\Local\\Programs\\Python\\Python312\\Lib\\collections\\__init__.py:694\u001B[0m, in \u001B[0;36mCounter.update\u001B[1;34m(self, iterable, **kwds)\u001B[0m\n\u001B[0;32m    692\u001B[0m     self_get \u001B[38;5;241m=\u001B[39m \u001B[38;5;28mself\u001B[39m\u001B[38;5;241m.\u001B[39mget\n\u001B[0;32m    693\u001B[0m     \u001B[38;5;28;01mfor\u001B[39;00m elem, count \u001B[38;5;129;01min\u001B[39;00m iterable\u001B[38;5;241m.\u001B[39mitems():\n\u001B[1;32m--> 694\u001B[0m         \u001B[38;5;28mself\u001B[39m[elem] \u001B[38;5;241m=\u001B[39m \u001B[43mcount\u001B[49m\u001B[43m \u001B[49m\u001B[38;5;241;43m+\u001B[39;49m\u001B[43m \u001B[49m\u001B[43mself_get\u001B[49m\u001B[43m(\u001B[49m\u001B[43melem\u001B[49m\u001B[43m,\u001B[49m\u001B[43m \u001B[49m\u001B[38;5;241;43m0\u001B[39;49m\u001B[43m)\u001B[49m\n\u001B[0;32m    695\u001B[0m \u001B[38;5;28;01melse\u001B[39;00m:\n\u001B[0;32m    696\u001B[0m     \u001B[38;5;66;03m# fast path when counter is empty\u001B[39;00m\n\u001B[0;32m    697\u001B[0m     \u001B[38;5;28msuper\u001B[39m()\u001B[38;5;241m.\u001B[39mupdate(iterable)\n",
      "\u001B[1;31mTypeError\u001B[0m: unsupported operand type(s) for +: 'int' and 'str'"
     ]
    }
   ],
   "source": [
    "from collections import Counter\n",
    "\n",
    "vegetables1 = Counter({'cabbage': 'ten', 'pepper': 'seven', 'pumpkin': 'four'})\n",
    "vegetables2 = Counter({'cabbage': 3, 'pepper': 2})\n",
    "\n",
    "vegetables1.update(vegetables2)\n",
    "\n",
    "print(vegetables1['pepper'])"
   ],
   "metadata": {
    "collapsed": false,
    "ExecuteTime": {
     "end_time": "2024-11-19T11:18:58.521552300Z",
     "start_time": "2024-11-19T11:18:58.499362Z"
    }
   },
   "id": "2f338cbfceac2607"
  },
  {
   "cell_type": "markdown",
   "source": [
    "Вам доступен список files, содержащий названия различных файлов. Дополните приведенный ниже код, чтобы он вывел все расширения файлов, присутствующие в списке files, указав для каждого количество файлов с данным расширением. Расширения должны быть расположены в лексикографическом порядке, каждый на отдельной строке, в следующем формате:\n",
    "\n",
    "<расширение>: <количество файлов>"
   ],
   "metadata": {
    "collapsed": false
   },
   "id": "9b5ebef0eedd6970"
  },
  {
   "cell_type": "code",
   "execution_count": 56,
   "outputs": [
    {
     "name": "stdout",
     "output_type": "stream",
     "text": [
      "csv: 5\n",
      "exe: 12\n",
      "jpeg: 7\n",
      "json: 4\n",
      "mp3: 5\n",
      "mp4: 6\n",
      "pkl: 1\n",
      "py: 4\n",
      "xml: 4\n",
      "zip: 4\n"
     ]
    }
   ],
   "source": [
    "from collections import Counter\n",
    "\n",
    "files = ['emoji_smile.jpeg', 'city-of-the-sun.mp3', 'dhook_hw.json', 'sample.xml',\n",
    "         'teamspeak3.exe', 'project_module3.py', 'math_lesson3.mp4', 'old_memories.mp4',\n",
    "         'spiritfarer.exe', 'backups.json', 'python_for_beg1.mp4', 'emoji_angry.jpeg',\n",
    "         'exam_results.csv', 'project_main.py', 'classes.csv', 'plants.xml',\n",
    "         'cant-help-myself.mp3', 'microsoft_edge.exe', 'steam.exe', 'math_lesson4.mp4',\n",
    "         'city.jpeg', 'bad-disease.mp3', 'beauty.jpeg', 'hollow_knight_silksong.exe',\n",
    "         'whatsapp.exe', 'photoshop.exe', 'telegram.exe', 'yandex_browser.exe',\n",
    "         'math_lesson7.mp4', 'students.csv', 'emojis.zip', '7z.zip',\n",
    "         'bones.mp3', 'python3.zip', 'dhook_lsns.json', 'carl_backups.json',\n",
    "         'forest.jpeg', 'python_for_pro8.mp4', 'yandexdisc.exe', 'but-you.mp3',\n",
    "         'project_module1.py', 'nothing.xml', 'flowers.jpeg', 'grades.csv',\n",
    "         'nvidia_gf.exe', 'small_txt.zip', 'project_module2.py', 'tab.csv',\n",
    "         'note.xml', 'sony_vegas11.exe', 'friends.jpeg', 'data.pkl']\n",
    "files = [i.split('.')[1] for i in files]\n",
    "# print(files)\n",
    "counter = Counter(files)\n",
    "# print(counter)\n",
    "for k, v in sorted(counter.items()):\n",
    "    print(f'{k}: {v}')"
   ],
   "metadata": {
    "collapsed": false,
    "ExecuteTime": {
     "end_time": "2024-11-19T11:30:59.590839500Z",
     "start_time": "2024-11-19T11:30:59.585644600Z"
    }
   },
   "id": "f5b2c56ef2a74793"
  },
  {
   "cell_type": "markdown",
   "source": [
    "Функция count_occurences()\n",
    "Реализуйте функцию count_occurences(), которая принимает два аргумента в следующем порядке:\n",
    "\n",
    "word — слово\n",
    "words — последовательность слов, разделенных пробелом\n",
    "Функция должна определять, сколько раз слово word встречается в последовательности words, и возвращать полученный результат.\n",
    "\n",
    "Примечание 1. Функция должна игнорировать регистр. То есть, например, слова Python и python считаются одинаковыми.\n",
    "\n",
    "Примечание 2. В тестирующую систему сдайте программу, содержащую только необходимую функцию count_occurences(), но не код, вызывающий ее."
   ],
   "metadata": {
    "collapsed": false
   },
   "id": "b91abedf4055a813"
  },
  {
   "cell_type": "code",
   "execution_count": 73,
   "outputs": [
    {
     "name": "stdout",
     "output_type": "stream",
     "text": [
      "3\n",
      "4\n"
     ]
    }
   ],
   "source": [
    "from collections import Counter\n",
    "\n",
    "def count_occurences(word: str, words: str) -> int:\n",
    "    word_list = words.lower().split()\n",
    "    # print(word_list)\n",
    "    # print(word.lower())\n",
    "    result = Counter([i for i in word_list if i == word.lower()])\n",
    "    # print(result)\n",
    "    return result[word.lower()]\n",
    "\n",
    "word = 'python'\n",
    "words = 'Python Conferences python training python events'\n",
    "\n",
    "print(count_occurences(word, words))\n",
    "\n",
    "word = 'Se'\n",
    "words = 'se sdsf sds SE sdfsdg Se dhgf gfd asd se'\n",
    "\n",
    "print(count_occurences(word, words))"
   ],
   "metadata": {
    "collapsed": false,
    "ExecuteTime": {
     "end_time": "2024-11-19T11:50:04.979622200Z",
     "start_time": "2024-11-19T11:50:04.976028800Z"
    }
   },
   "id": "d1db8ff886bb339f"
  },
  {
   "cell_type": "markdown",
   "source": [
    "Не поленимся и запишем\n",
    "Тимур составляет список покупок, но так как на его клавиатуре перестал работать блок с цифрами, то вместо указания количества товара числом, он добавляет его в список столько раз, сколько планирует купить. Все товары Тимур записывает в нижнем регистре через запятую.\n",
    "\n",
    "Напишите программу, которая выводит все товары из данного списка покупок, указывая для каждого его количество.\n",
    "\n",
    "Формат входных данных\n",
    "На вход программе подается последовательность товаров, разделенных запятой без пробелов.\n",
    "\n",
    "Формат выходных данных\n",
    "Программа должны вывести все введенные товары, указывая для каждого, сколько раз он встречается в данной последовательности. Товары должны быть расположены в лексикографическом порядке, каждый на отдельной строке, в следующем формате:\n",
    "\n",
    "<товар>: <количество>"
   ],
   "metadata": {
    "collapsed": false
   },
   "id": "62510849e74c515e"
  },
  {
   "cell_type": "code",
   "execution_count": null,
   "outputs": [],
   "source": [
    "from collections import Counter\n",
    "\n",
    "result = Counter(input().split(','))\n",
    "print(result)\n",
    "for i, j in sorted(result.items()):\n",
    "    print(f'{i}: {j}', end='\\n')"
   ],
   "metadata": {
    "collapsed": false
   },
   "id": "2b3bd94bce6d917d"
  },
  {
   "cell_type": "markdown",
   "source": [
    "А сколько стоит курс?\n",
    "Тимур живет в мире, в котором цена товара определяется как сумма Unicode кодов букв его названия. Буквенным обозначением данной валюты являются две заглавные латинские буквы UC. Например, ручка в его мире стоит:\n",
    "1088+1091+1095+1082+1072=5428UC\n",
    "Тимур составляет список покупок, но так как на его клавиатуре перестал работать блок с цифрами, то вместо указания количества товара числом, он добавляет его в список столько раз, сколько планирует купить. Все товары Тимур записывает в нижнем регистре через запятую.\n",
    "\n",
    "Напишите программу, которая группирует одинаковые товары из данного списка покупок и определяет стоимость каждой группы.\n",
    "\n",
    "Формат входных данных\n",
    "На вход программе подается последовательность товаров, разделенных запятой без пробелов.\n",
    "\n",
    "Формат выходных данных\n",
    "Программа должна сгруппировать одинаковые товары, определить общую стоимость каждой группы и вывести полученный результат. Товары должны быть расположены в лексикографическом порядке, каждый на отдельной строке, в следующем формате:\n",
    "\n",
    "<товар>: <цена за единицу товара> UC x <количество товаров в группе> = <общая стоимость группы> UC\n",
    "Примечание 1. Программа должна добавлять нужное количество пробелов, если название товара имеет меньшую длину, чем другие.\n",
    "\n",
    "Примечание 2. Получить Unicode код символа можно с помощью функции ord()."
   ],
   "metadata": {
    "collapsed": false
   },
   "id": "5e02d80616d5757c"
  },
  {
   "cell_type": "code",
   "execution_count": null,
   "outputs": [],
   "source": [
    "from collections import Counter\n",
    "\n",
    "def count_words(inp: str) -> dict:\n",
    "    return dict(Counter(map(str.strip, inp.split(','))))\n",
    "\n",
    "def count_unicode(word:str) -> int:\n",
    "    return sum([ord(i) for i in word.replace(' ', '')])\n",
    "\n",
    "def count_addition(word: str, inp:str) -> int:\n",
    "    mx = max([len(word) for word in inp.split(',')])        \n",
    "    return mx-len(word)\n",
    "\n",
    "inp = input()\n",
    "\n",
    "print(*[f'{key}{' '*count_addition(key, inp)}: {count_unicode(key)} UC x {value} = {count_unicode(key)*value} UC' for key, value in sorted(count_words(inp).items())], sep='\\n')"
   ],
   "metadata": {
    "collapsed": false
   },
   "id": "78b93d4765fcc56a"
  },
  {
   "cell_type": "markdown",
   "source": [
    "The Zen of Python\n",
    "Вам доступен текстовый файл pythonzen.txt, содержащий текст на английском языке:\n",
    "\n",
    "The Zen of Python, by Tim Peters\n",
    "\n",
    "Beautiful is better than ugly.\n",
    "Explicit is better than implicit.\n",
    "...\n",
    "Напишите программу, которая определяет, сколько раз встречается каждая буква в этом тексте. Буквы и их количество должны выводиться в лексикографическом порядке, каждая на отдельной строке, в следующем формате:\n",
    "\n",
    "<буква>: <количество>\n",
    "Примечание 1. Начальная часть ответа выглядит так:\n",
    "\n",
    "a: 53\n",
    "b: 21\n",
    "...\n",
    "Примечание 2. Программа не должна учитывать регистр, то есть, например, буквы a и A считаются одинаковыми.\n",
    "\n",
    "Примечание 3. Программа должна игнорировать все небуквенные символы."
   ],
   "metadata": {
    "collapsed": false
   },
   "id": "f885bb87dc239214"
  },
  {
   "cell_type": "code",
   "execution_count": 109,
   "outputs": [
    {
     "name": "stdout",
     "output_type": "stream",
     "text": [
      "a: 53\n",
      "b: 21\n",
      "c: 17\n",
      "d: 17\n",
      "e: 92\n",
      "f: 12\n",
      "g: 11\n",
      "h: 31\n",
      "i: 53\n",
      "k: 2\n",
      "l: 33\n",
      "m: 16\n",
      "n: 42\n",
      "o: 43\n",
      "p: 22\n",
      "r: 33\n",
      "s: 46\n",
      "t: 79\n",
      "u: 21\n",
      "v: 5\n",
      "w: 4\n",
      "x: 6\n",
      "y: 17\n",
      "z: 1\n"
     ]
    }
   ],
   "source": [
    "from collections import Counter\n",
    "\n",
    "with open('pythonzen.txt') as file:\n",
    "    data = file.read()\n",
    "    count = Counter(data.lower())\n",
    "    \n",
    "# print(count)\n",
    "\n",
    "for key, value in sorted(count.items()):\n",
    "    if key.isalpha():\n",
    "        print(f'{key}: {value}')"
   ],
   "metadata": {
    "collapsed": false,
    "ExecuteTime": {
     "end_time": "2024-11-20T05:46:30.791980200Z",
     "start_time": "2024-11-20T05:46:30.786968700Z"
    }
   },
   "id": "fa2a6a128852efc8"
  }
 ],
 "metadata": {
  "kernelspec": {
   "display_name": "Python 3",
   "language": "python",
   "name": "python3"
  },
  "language_info": {
   "codemirror_mode": {
    "name": "ipython",
    "version": 2
   },
   "file_extension": ".py",
   "mimetype": "text/x-python",
   "name": "python",
   "nbconvert_exporter": "python",
   "pygments_lexer": "ipython2",
   "version": "2.7.6"
  }
 },
 "nbformat": 4,
 "nbformat_minor": 5
}

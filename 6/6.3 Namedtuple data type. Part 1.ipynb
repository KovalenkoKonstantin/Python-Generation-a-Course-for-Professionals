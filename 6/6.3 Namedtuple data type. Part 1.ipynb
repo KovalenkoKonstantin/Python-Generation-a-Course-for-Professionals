{
 "cells": [
  {
   "cell_type": "markdown",
   "source": [
    "Тема урока: именованные кортежи\n",
    "Модуль collections\n",
    "Именованные кортежи\n",
    "Аннотация. Урок посвящен модулю collections, а именно именованным кортежам (тип namedtuple)."
   ],
   "metadata": {
    "collapsed": false
   },
   "id": "bbef9706f05bc811"
  },
  {
   "cell_type": "markdown",
   "source": [
    "Модуль collections"
   ],
   "metadata": {
    "collapsed": false
   },
   "id": "b12f2fd67c8bf890"
  },
  {
   "cell_type": "markdown",
   "source": [
    "Python содержит встроенный модуль collections, который содержит специализированные типы коллекций, альтернативных традиционным list, tuple, dict:\n",
    "\n",
    "namedtuple\n",
    "defaultdict\n",
    "OrderedDict\n",
    "Counter\n",
    "ChainMap\n",
    "deque"
   ],
   "metadata": {
    "collapsed": false
   },
   "id": "66613e03efd822db"
  },
  {
   "cell_type": "markdown",
   "source": [
    "Уверенное владение встроенными модулями, такими как collections, – одна из черт, отличающих продвинутых программистов от начинающих."
   ],
   "metadata": {
    "collapsed": false
   },
   "id": "f7363d49113defc"
  },
  {
   "cell_type": "markdown",
   "source": [
    "Именованные кортежи"
   ],
   "metadata": {
    "collapsed": false
   },
   "id": "cd02b6f59ad8cef5"
  },
  {
   "cell_type": "markdown",
   "source": [
    "Именованные кортежи (тип namedtuple) — это подтип обычных кортежей в Python. У них те же функции, что и у обычных, но их значения можно получать как с помощью индекса (например, [0]), так и с помощью имени через точку (например, .name)."
   ],
   "metadata": {
    "collapsed": false
   },
   "id": "73745aae969f1b2f"
  },
  {
   "cell_type": "markdown",
   "source": [
    "Основное предназначение именованных кортежей — это улучшение читаемости программного кода."
   ],
   "metadata": {
    "collapsed": false
   },
   "id": "530e0d36a21fe617"
  },
  {
   "cell_type": "markdown",
   "source": [
    "Рассмотрим пример, в котором происходит работа с точкой на плоскости, имеющей две координаты x и y."
   ],
   "metadata": {
    "collapsed": false
   },
   "id": "ddc8b33d8d5cd4ed"
  },
  {
   "cell_type": "markdown",
   "source": [
    "Приведенный ниже код использует функционал обычных кортежей (тип tuple):"
   ],
   "metadata": {
    "collapsed": false
   },
   "id": "8e5eed5efeef3965"
  },
  {
   "cell_type": "code",
   "execution_count": 1,
   "outputs": [
    {
     "name": "stdout",
     "output_type": "stream",
     "text": [
      "(3, 7)\n",
      "3 7\n",
      "<class 'tuple'>\n"
     ]
    }
   ],
   "source": [
    "point = (3, 7)\n",
    "\n",
    "print(point)\n",
    "print(point[0], point[1])\n",
    "print(type(point))"
   ],
   "metadata": {
    "collapsed": false,
    "ExecuteTime": {
     "end_time": "2024-11-05T08:47:31.006298600Z",
     "start_time": "2024-11-05T08:47:31.002880600Z"
    }
   },
   "id": "85644ee3eb1c5bd0"
  },
  {
   "cell_type": "markdown",
   "source": [
    "Не забывайте, что кортежи являются неизменяемыми, при попытке изменить значение кортежа мы получим ошибку TypeError"
   ],
   "metadata": {
    "collapsed": false
   },
   "id": "509d99749dfec712"
  },
  {
   "cell_type": "markdown",
   "source": [
    "Приведенный выше код работает как и полагается: он создает точку с двумя координатами. Однако является ли данный код читабельным? Можно ли заранее сказать, за что отвечают индексы 0 и 1? Всегда ли нулевой индекс — это значение x, а первый индекс — значение y?"
   ],
   "metadata": {
    "collapsed": false
   },
   "id": "955bbfb3717c84dd"
  },
  {
   "cell_type": "markdown",
   "source": [
    "Чтобы предотвратить эту двусмысленность и сделать код читабельнее, мы можем использовать именованный кортеж."
   ],
   "metadata": {
    "collapsed": false
   },
   "id": "146d793a055ef12a"
  },
  {
   "cell_type": "code",
   "execution_count": 2,
   "outputs": [
    {
     "name": "stdout",
     "output_type": "stream",
     "text": [
      "Point(x=3, y=7)\n",
      "3 7\n",
      "3 7\n",
      "<class '__main__.Point'>\n"
     ]
    }
   ],
   "source": [
    "from collections import namedtuple\n",
    "\n",
    "Point = namedtuple('Point', ['x', 'y'])     # объявляем тип Point именованного кортежа\n",
    "\n",
    "point = Point(3, 7)                         # создаем именованный кортеж Point\n",
    "\n",
    "print(point)\n",
    "print(point.x, point.y)\n",
    "print(point[0], point[1])\n",
    "print(type(point))"
   ],
   "metadata": {
    "collapsed": false,
    "ExecuteTime": {
     "end_time": "2024-11-05T08:51:30.746653300Z",
     "start_time": "2024-11-05T08:51:30.743421500Z"
    }
   },
   "id": "5f4ce5b38144f124"
  },
  {
   "cell_type": "markdown",
   "source": [
    "В приведенном выше коде мы создали объект типа Point, который является именованным кортежем. Обратиться к полям именованного кортежа можно через точку (point.x, point.y) или по индексу (point[0], point[1]), как и в обычных кортежах."
   ],
   "metadata": {
    "collapsed": false
   },
   "id": "9fc7f2c96e819ce2"
  },
  {
   "cell_type": "markdown",
   "source": [
    "Важно отметить, что, хотя кортежи и именованные кортежи неизменяемы, сохраняемые в них значения не обязательно должны быть неизменяемыми. Совершенно законно создать кортеж или именованный кортеж, содержащий изменяемые значения."
   ],
   "metadata": {
    "collapsed": false
   },
   "id": "8de46c3d8fbe29c0"
  },
  {
   "cell_type": "code",
   "execution_count": 3,
   "outputs": [
    {
     "name": "stdout",
     "output_type": "stream",
     "text": [
      "Person(name='Sveta Gueva', children=['Larisa', 'Timur'])\n",
      "Person(name='Sveta Gueva', children=['Larisa', 'Timur', 'Soslan'])\n"
     ]
    }
   ],
   "source": [
    "from collections import namedtuple\n",
    "\n",
    "Person = namedtuple('Person', ['name', 'children'])\n",
    "\n",
    "sveta = Person('Sveta Gueva', ['Larisa', 'Timur'])\n",
    "print(sveta)\n",
    "\n",
    "sveta.children.append('Soslan')\n",
    "print(sveta)"
   ],
   "metadata": {
    "collapsed": false,
    "ExecuteTime": {
     "end_time": "2024-11-05T08:52:51.201696900Z",
     "start_time": "2024-11-05T08:52:51.195700Z"
    }
   },
   "id": "81443588ed624f1b"
  },
  {
   "cell_type": "code",
   "execution_count": 4,
   "outputs": [
    {
     "ename": "AttributeError",
     "evalue": "can't set attribute",
     "output_type": "error",
     "traceback": [
      "\u001B[1;31m---------------------------------------------------------------------------\u001B[0m",
      "\u001B[1;31mAttributeError\u001B[0m                            Traceback (most recent call last)",
      "Cell \u001B[1;32mIn[4], line 6\u001B[0m\n\u001B[0;32m      3\u001B[0m Person \u001B[38;5;241m=\u001B[39m namedtuple(\u001B[38;5;124m'\u001B[39m\u001B[38;5;124mPerson\u001B[39m\u001B[38;5;124m'\u001B[39m, [\u001B[38;5;124m'\u001B[39m\u001B[38;5;124mname\u001B[39m\u001B[38;5;124m'\u001B[39m, \u001B[38;5;124m'\u001B[39m\u001B[38;5;124mchildren\u001B[39m\u001B[38;5;124m'\u001B[39m])\n\u001B[0;32m      5\u001B[0m sveta \u001B[38;5;241m=\u001B[39m Person(\u001B[38;5;124m'\u001B[39m\u001B[38;5;124mSveta Gueva\u001B[39m\u001B[38;5;124m'\u001B[39m, [\u001B[38;5;124m'\u001B[39m\u001B[38;5;124mLarisa\u001B[39m\u001B[38;5;124m'\u001B[39m, \u001B[38;5;124m'\u001B[39m\u001B[38;5;124mTimur\u001B[39m\u001B[38;5;124m'\u001B[39m])\n\u001B[1;32m----> 6\u001B[0m \u001B[43msveta\u001B[49m\u001B[38;5;241;43m.\u001B[39;49m\u001B[43mchildren\u001B[49m \u001B[38;5;241m=\u001B[39m [\u001B[38;5;124m'\u001B[39m\u001B[38;5;124mLarisa\u001B[39m\u001B[38;5;124m'\u001B[39m, \u001B[38;5;124m'\u001B[39m\u001B[38;5;124mTimur\u001B[39m\u001B[38;5;124m'\u001B[39m, \u001B[38;5;124m'\u001B[39m\u001B[38;5;124mSoslan\u001B[39m\u001B[38;5;124m'\u001B[39m]\n",
      "\u001B[1;31mAttributeError\u001B[0m: can't set attribute"
     ]
    }
   ],
   "source": [
    "from collections import namedtuple\n",
    "\n",
    "Person = namedtuple('Person', ['name', 'children'])\n",
    "\n",
    "sveta = Person('Sveta Gueva', ['Larisa', 'Timur'])\n",
    "sveta.children = ['Larisa', 'Timur', 'Soslan']"
   ],
   "metadata": {
    "collapsed": false,
    "ExecuteTime": {
     "end_time": "2024-11-05T08:56:07.809655500Z",
     "start_time": "2024-11-05T08:56:07.555874600Z"
    }
   },
   "id": "d87f16002471864a"
  },
  {
   "cell_type": "markdown",
   "source": [
    "Таким образом, мы можем создавать именованные кортежи, содержащие изменяемые объекты. Мы можем изменять изменяемые объекты в исходном кортеже. Однако это не означает, что мы изменяем сам кортеж. Кортеж продолжит содержать те же ссылки на память."
   ],
   "metadata": {
    "collapsed": false
   },
   "id": "442cd511e9e009b1"
  },
  {
   "cell_type": "markdown",
   "source": [
    "Кортежи и именованные кортежи с изменяемыми значениями не могут быть хешированы, поэтому не могут быть элементами множеств и ключами в словарях. Кортежи и именованные кортежи без изменяемых значений могут быть хешированы, поэтому могут быть элементами множеств и ключами в словарях."
   ],
   "metadata": {
    "collapsed": false
   },
   "id": "99ac91c978e2675b"
  },
  {
   "cell_type": "markdown",
   "source": [
    "Функция namedtuple()"
   ],
   "metadata": {
    "collapsed": false
   },
   "id": "fc0bd3a0461797be"
  },
  {
   "cell_type": "markdown",
   "source": [
    "Функция namedtuple() выступает в роли фабричной функции, порождающей новые типы данных."
   ],
   "metadata": {
    "collapsed": false
   },
   "id": "16b84de019457af2"
  },
  {
   "cell_type": "markdown",
   "source": [
    "namedtuple(typename, field_names, *, rename=False, defaults=None, module=None)"
   ],
   "metadata": {
    "collapsed": false
   },
   "id": "ddc30eb51391dd9c"
  },
  {
   "cell_type": "markdown",
   "source": [
    "То есть функция принимает два обязательных параметра typename и field_names и три необязательных rename, defaults, module, имеющих значения по умолчанию False, None, None соответственно."
   ],
   "metadata": {
    "collapsed": false
   },
   "id": "30b87845ff1005c2"
  },
  {
   "cell_type": "markdown",
   "source": [
    "Параметры typename и field_names"
   ],
   "metadata": {
    "collapsed": false
   },
   "id": "a1dbb157bf80bd47"
  },
  {
   "cell_type": "markdown",
   "source": [
    "Параметр typename отвечает за имя создаваемого типа, параметр field_names за названия полей. Имя типа — это строка с типом, который нужно сделать именованным кортежем. В качестве параметра field_names можно использовать:\n",
    "\n",
    "список\n",
    "словарь\n",
    "кортеж\n",
    "строка\n",
    "множество"
   ],
   "metadata": {
    "collapsed": false
   },
   "id": "7378edd81cb1fea4"
  },
  {
   "cell_type": "markdown",
   "source": [
    "Параметр field_names является списком:"
   ],
   "metadata": {
    "collapsed": false
   },
   "id": "89346bcf74b723ec"
  },
  {
   "cell_type": "code",
   "execution_count": null,
   "outputs": [],
   "source": [
    "from collections import namedtuple\n",
    "\n",
    "Point = namedtuple('Point', ['x', 'y'])    # в качестве второго параметра передаем список\n",
    "point =  Point(2, 4)\n",
    "print(point)                               # выводит Point(x=2, y=4)"
   ],
   "metadata": {
    "collapsed": false
   },
   "id": "8a18e964c9f4ee57"
  },
  {
   "cell_type": "markdown",
   "source": [
    "Параметр field_names является кортежем:"
   ],
   "metadata": {
    "collapsed": false
   },
   "id": "5a0210aa865b1822"
  },
  {
   "cell_type": "code",
   "execution_count": null,
   "outputs": [],
   "source": [
    "from collections import namedtuple\n",
    "\n",
    "Point = namedtuple('Point', ('x', 'y'))    # в качестве второго параметра передаем кортеж\n",
    "point =  Point(2, 4)\n",
    "print(point)                               # выводит Point(x=2, y=4)"
   ],
   "metadata": {
    "collapsed": false
   },
   "id": "80b4b0388bc036b7"
  },
  {
   "cell_type": "markdown",
   "source": [
    "Параметр field_names является словарем:"
   ],
   "metadata": {
    "collapsed": false
   },
   "id": "5cbb1587c6861884"
  },
  {
   "cell_type": "markdown",
   "source": [
    "В этом случае для полей именованного кортежа используются ключи словаря, поэтому в качестве значений можно указать, все что угодно."
   ],
   "metadata": {
    "collapsed": false
   },
   "id": "2f2ba6ca2f6b85fc"
  },
  {
   "cell_type": "code",
   "execution_count": null,
   "outputs": [],
   "source": [
    "from collections import namedtuple\n",
    "\n",
    "Point = namedtuple('Point', {'x': 0, 'y': 69})    # в качестве второго параметра передаем словарь\n",
    "point =  Point(2, 4)\n",
    "print(point)                                      # выводит Point(x=2, y=4)"
   ],
   "metadata": {
    "collapsed": false
   },
   "id": "95766c76b7fdcdef"
  },
  {
   "cell_type": "markdown",
   "source": [
    "Параметр field_names является строкой:"
   ],
   "metadata": {
    "collapsed": false
   },
   "id": "bfd68cd65ce78016"
  },
  {
   "cell_type": "markdown",
   "source": [
    "При создании именованного кортежа с помощью строки мы указываем поля либо через символ пробела, либо разделяя их символом ,"
   ],
   "metadata": {
    "collapsed": false
   },
   "id": "d789cde07d290ede"
  },
  {
   "cell_type": "code",
   "execution_count": 7,
   "outputs": [
    {
     "name": "stdout",
     "output_type": "stream",
     "text": [
      "Point(x=2, y=4)\n"
     ]
    }
   ],
   "source": [
    "from collections import namedtuple\n",
    "\n",
    "Point = namedtuple('Point', 'x y')    # в качестве второго параметра передаем строку\n",
    "point =  Point(2, 4)\n",
    "print(point)                          # выводит Point(x=2, y=4)"
   ],
   "metadata": {
    "collapsed": false,
    "ExecuteTime": {
     "end_time": "2024-11-05T09:05:48.852123100Z",
     "start_time": "2024-11-05T09:05:48.848103300Z"
    }
   },
   "id": "1375d0289ce94059"
  },
  {
   "cell_type": "markdown",
   "source": [
    "либо:"
   ],
   "metadata": {
    "collapsed": false
   },
   "id": "85f3ec5c9845da09"
  },
  {
   "cell_type": "code",
   "execution_count": 8,
   "outputs": [
    {
     "name": "stdout",
     "output_type": "stream",
     "text": [
      "Point(x=2, y=4)\n"
     ]
    }
   ],
   "source": [
    "from collections import namedtuple\n",
    "\n",
    "Point = namedtuple('Point', 'x,y')     # в качестве второго параметра передаем строку\n",
    "point =  Point(2, 4)\n",
    "print(point)                           # выводит Point(x=2, y=4)"
   ],
   "metadata": {
    "collapsed": false,
    "ExecuteTime": {
     "end_time": "2024-11-05T09:06:32.664231800Z",
     "start_time": "2024-11-05T09:06:32.661834200Z"
    }
   },
   "id": "cf23366b301e8547"
  },
  {
   "cell_type": "markdown",
   "source": [
    "Параметр field_names является множеством:"
   ],
   "metadata": {
    "collapsed": false
   },
   "id": "b8a9634b3fee4b8f"
  },
  {
   "cell_type": "markdown",
   "source": [
    "Мы можем создать именованный кортеж с помощью множества, однако делать это не рекомендуется. Как мы знаем, множество – это неупорядоченный набор данных. Когда мы используем неупорядоченный набор данных для предоставления полей именованному кортежу, мы можем получить неожиданный результат."
   ],
   "metadata": {
    "collapsed": false
   },
   "id": "db6cda686d3bfae8"
  },
  {
   "cell_type": "code",
   "execution_count": 24,
   "outputs": [
    {
     "name": "stdout",
     "output_type": "stream",
     "text": [
      "Point(x=2, y=4)\n"
     ]
    }
   ],
   "source": [
    "from collections import namedtuple\n",
    "\n",
    "Point = namedtuple('Point', {'x', 'y'})    # в качестве второго параметра передаем множество\n",
    "point =  Point(2, 4)\n",
    "print(point)"
   ],
   "metadata": {
    "collapsed": false,
    "ExecuteTime": {
     "end_time": "2024-11-05T09:07:58.505750400Z",
     "start_time": "2024-11-05T09:07:58.501664200Z"
    }
   },
   "id": "5c918f07032321e8"
  },
  {
   "cell_type": "markdown",
   "source": [
    "В качестве параметра field_names можно передавать любой итерируемый объект, например, результат вызова функций map() и filter()"
   ],
   "metadata": {
    "collapsed": false
   },
   "id": "d59e9114bba9b3ea"
  },
  {
   "cell_type": "markdown",
   "source": [
    "Обратите также внимание на то, что создавать именованные кортежи можно не только с помощью позиционных аргументов, но и с помощью именованных."
   ],
   "metadata": {
    "collapsed": false
   },
   "id": "d5975fd7706cdbbd"
  },
  {
   "cell_type": "code",
   "execution_count": 25,
   "outputs": [
    {
     "name": "stdout",
     "output_type": "stream",
     "text": [
      "Point(x=2, y=4)\n",
      "Point(x=3, y=10)\n"
     ]
    }
   ],
   "source": [
    "from collections import namedtuple\n",
    "\n",
    "Point = namedtuple('Point', ['x', 'y'])\n",
    "point1 = Point(2, 4)                          # позиционные аргументы\n",
    "point2 = Point(y=10, x=3)                     # именованные аргументы\n",
    "\n",
    "print(point1)\n",
    "print(point2)"
   ],
   "metadata": {
    "collapsed": false,
    "ExecuteTime": {
     "end_time": "2024-11-05T09:09:03.500201600Z",
     "start_time": "2024-11-05T09:09:03.492159600Z"
    }
   },
   "id": "926f9c66e0a31de2"
  },
  {
   "cell_type": "markdown",
   "source": [
    "В качестве названия полей для именованных кортежей мы можем использовать любое корректное название имени переменной, за исключением:\n",
    "\n",
    "имен, начинающихся с подчеркивания (_)\n",
    "ключевых слов языка Python (if, with, else, class, ...)"
   ],
   "metadata": {
    "collapsed": false
   },
   "id": "ff9dbd936d53c26e"
  },
  {
   "cell_type": "code",
   "execution_count": 26,
   "outputs": [
    {
     "ename": "ValueError",
     "evalue": "Field names cannot start with an underscore: '_y'",
     "output_type": "error",
     "traceback": [
      "\u001B[1;31m---------------------------------------------------------------------------\u001B[0m",
      "\u001B[1;31mValueError\u001B[0m                                Traceback (most recent call last)",
      "Cell \u001B[1;32mIn[26], line 3\u001B[0m\n\u001B[0;32m      1\u001B[0m \u001B[38;5;28;01mfrom\u001B[39;00m \u001B[38;5;21;01mcollections\u001B[39;00m \u001B[38;5;28;01mimport\u001B[39;00m namedtuple\n\u001B[1;32m----> 3\u001B[0m Point \u001B[38;5;241m=\u001B[39m \u001B[43mnamedtuple\u001B[49m\u001B[43m(\u001B[49m\u001B[38;5;124;43m'\u001B[39;49m\u001B[38;5;124;43mPoint\u001B[39;49m\u001B[38;5;124;43m'\u001B[39;49m\u001B[43m,\u001B[49m\u001B[43m \u001B[49m\u001B[43m[\u001B[49m\u001B[38;5;124;43m'\u001B[39;49m\u001B[38;5;124;43mx\u001B[39;49m\u001B[38;5;124;43m'\u001B[39;49m\u001B[43m,\u001B[49m\u001B[43m \u001B[49m\u001B[38;5;124;43m'\u001B[39;49m\u001B[38;5;124;43m_y\u001B[39;49m\u001B[38;5;124;43m'\u001B[39;49m\u001B[43m]\u001B[49m\u001B[43m)\u001B[49m\n",
      "File \u001B[1;32m~\\AppData\\Local\\Programs\\Python\\Python312\\Lib\\collections\\__init__.py:409\u001B[0m, in \u001B[0;36mnamedtuple\u001B[1;34m(typename, field_names, rename, defaults, module)\u001B[0m\n\u001B[0;32m    407\u001B[0m \u001B[38;5;28;01mfor\u001B[39;00m name \u001B[38;5;129;01min\u001B[39;00m field_names:\n\u001B[0;32m    408\u001B[0m     \u001B[38;5;28;01mif\u001B[39;00m name\u001B[38;5;241m.\u001B[39mstartswith(\u001B[38;5;124m'\u001B[39m\u001B[38;5;124m_\u001B[39m\u001B[38;5;124m'\u001B[39m) \u001B[38;5;129;01mand\u001B[39;00m \u001B[38;5;129;01mnot\u001B[39;00m rename:\n\u001B[1;32m--> 409\u001B[0m         \u001B[38;5;28;01mraise\u001B[39;00m \u001B[38;5;167;01mValueError\u001B[39;00m(\u001B[38;5;124m'\u001B[39m\u001B[38;5;124mField names cannot start with an underscore: \u001B[39m\u001B[38;5;124m'\u001B[39m\n\u001B[0;32m    410\u001B[0m                          \u001B[38;5;124mf\u001B[39m\u001B[38;5;124m'\u001B[39m\u001B[38;5;132;01m{\u001B[39;00mname\u001B[38;5;132;01m!r}\u001B[39;00m\u001B[38;5;124m'\u001B[39m)\n\u001B[0;32m    411\u001B[0m     \u001B[38;5;28;01mif\u001B[39;00m name \u001B[38;5;129;01min\u001B[39;00m seen:\n\u001B[0;32m    412\u001B[0m         \u001B[38;5;28;01mraise\u001B[39;00m \u001B[38;5;167;01mValueError\u001B[39;00m(\u001B[38;5;124mf\u001B[39m\u001B[38;5;124m'\u001B[39m\u001B[38;5;124mEncountered duplicate field name: \u001B[39m\u001B[38;5;132;01m{\u001B[39;00mname\u001B[38;5;132;01m!r}\u001B[39;00m\u001B[38;5;124m'\u001B[39m)\n",
      "\u001B[1;31mValueError\u001B[0m: Field names cannot start with an underscore: '_y'"
     ]
    }
   ],
   "source": [
    "from collections import namedtuple\n",
    "\n",
    "Point = namedtuple('Point', ['x', '_y'])"
   ],
   "metadata": {
    "collapsed": false,
    "ExecuteTime": {
     "end_time": "2024-11-05T09:09:41.648511500Z",
     "start_time": "2024-11-05T09:09:41.580535100Z"
    }
   },
   "id": "ed179b950ca201b1"
  },
  {
   "cell_type": "code",
   "execution_count": 27,
   "outputs": [
    {
     "ename": "ValueError",
     "evalue": "Type names and field names cannot be a keyword: 'if'",
     "output_type": "error",
     "traceback": [
      "\u001B[1;31m---------------------------------------------------------------------------\u001B[0m",
      "\u001B[1;31mValueError\u001B[0m                                Traceback (most recent call last)",
      "Cell \u001B[1;32mIn[27], line 3\u001B[0m\n\u001B[0;32m      1\u001B[0m \u001B[38;5;28;01mfrom\u001B[39;00m \u001B[38;5;21;01mcollections\u001B[39;00m \u001B[38;5;28;01mimport\u001B[39;00m namedtuple\n\u001B[1;32m----> 3\u001B[0m Point \u001B[38;5;241m=\u001B[39m \u001B[43mnamedtuple\u001B[49m\u001B[43m(\u001B[49m\u001B[38;5;124;43m'\u001B[39;49m\u001B[38;5;124;43mPoint\u001B[39;49m\u001B[38;5;124;43m'\u001B[39;49m\u001B[43m,\u001B[49m\u001B[43m \u001B[49m\u001B[43m[\u001B[49m\u001B[38;5;124;43m'\u001B[39;49m\u001B[38;5;124;43mx\u001B[39;49m\u001B[38;5;124;43m'\u001B[39;49m\u001B[43m,\u001B[49m\u001B[43m \u001B[49m\u001B[38;5;124;43m'\u001B[39;49m\u001B[38;5;124;43mif\u001B[39;49m\u001B[38;5;124;43m'\u001B[39;49m\u001B[43m]\u001B[49m\u001B[43m)\u001B[49m\n",
      "File \u001B[1;32m~\\AppData\\Local\\Programs\\Python\\Python312\\Lib\\collections\\__init__.py:403\u001B[0m, in \u001B[0;36mnamedtuple\u001B[1;34m(typename, field_names, rename, defaults, module)\u001B[0m\n\u001B[0;32m    400\u001B[0m         \u001B[38;5;28;01mraise\u001B[39;00m \u001B[38;5;167;01mValueError\u001B[39;00m(\u001B[38;5;124m'\u001B[39m\u001B[38;5;124mType names and field names must be valid \u001B[39m\u001B[38;5;124m'\u001B[39m\n\u001B[0;32m    401\u001B[0m                          \u001B[38;5;124mf\u001B[39m\u001B[38;5;124m'\u001B[39m\u001B[38;5;124midentifiers: \u001B[39m\u001B[38;5;132;01m{\u001B[39;00mname\u001B[38;5;132;01m!r}\u001B[39;00m\u001B[38;5;124m'\u001B[39m)\n\u001B[0;32m    402\u001B[0m     \u001B[38;5;28;01mif\u001B[39;00m _iskeyword(name):\n\u001B[1;32m--> 403\u001B[0m         \u001B[38;5;28;01mraise\u001B[39;00m \u001B[38;5;167;01mValueError\u001B[39;00m(\u001B[38;5;124m'\u001B[39m\u001B[38;5;124mType names and field names cannot be a \u001B[39m\u001B[38;5;124m'\u001B[39m\n\u001B[0;32m    404\u001B[0m                          \u001B[38;5;124mf\u001B[39m\u001B[38;5;124m'\u001B[39m\u001B[38;5;124mkeyword: \u001B[39m\u001B[38;5;132;01m{\u001B[39;00mname\u001B[38;5;132;01m!r}\u001B[39;00m\u001B[38;5;124m'\u001B[39m)\n\u001B[0;32m    406\u001B[0m seen \u001B[38;5;241m=\u001B[39m \u001B[38;5;28mset\u001B[39m()\n\u001B[0;32m    407\u001B[0m \u001B[38;5;28;01mfor\u001B[39;00m name \u001B[38;5;129;01min\u001B[39;00m field_names:\n",
      "\u001B[1;31mValueError\u001B[0m: Type names and field names cannot be a keyword: 'if'"
     ]
    }
   ],
   "source": [
    "from collections import namedtuple\n",
    "\n",
    "Point = namedtuple('Point', ['x', 'if'])"
   ],
   "metadata": {
    "collapsed": false,
    "ExecuteTime": {
     "end_time": "2024-11-05T09:09:51.529811500Z",
     "start_time": "2024-11-05T09:09:51.492735300Z"
    }
   },
   "id": "10e5560d3d40523c"
  },
  {
   "cell_type": "markdown",
   "source": [
    "Параметр rename"
   ],
   "metadata": {
    "collapsed": false
   },
   "id": "deeef7c4dd0fb2e7"
  },
  {
   "cell_type": "markdown",
   "source": [
    "Допустим, мы импортируем данные из CSV-файла и превращаем каждую строку в именованный кортеж. Структура файла имеет вид:"
   ],
   "metadata": {
    "collapsed": false
   },
   "id": "ba117a48b14985e3"
  },
  {
   "cell_type": "markdown",
   "source": [
    "name,surname,age,class\n",
    "Timur,Guev,28,11\n",
    "Ruslan,Chaniev,22,9\n",
    "..."
   ],
   "metadata": {
    "collapsed": false
   },
   "id": "e17c6e319efe5788"
  },
  {
   "cell_type": "markdown",
   "source": [
    "Названия полей мы берем из заголовка CSV-файла:"
   ],
   "metadata": {
    "collapsed": false
   },
   "id": "18eb941fa0885d65"
  },
  {
   "cell_type": "code",
   "execution_count": null,
   "outputs": [],
   "source": [
    "from collections import namedtuple\n",
    "\n",
    "headers = ('name', 'surname', 'age', 'class')\n",
    "\n",
    "Student = namedtuple('Student', headers)"
   ],
   "metadata": {
    "collapsed": false
   },
   "id": "50b567ed28750e9a"
  },
  {
   "cell_type": "markdown",
   "source": [
    "Поскольку одно поле имеет название class (ключевое слово языка Python) мы получаем ошибку: ValueError: Type names and field names cannot be a keyword: 'class'."
   ],
   "metadata": {
    "collapsed": false
   },
   "id": "63bd0dd3bf5eb24e"
  },
  {
   "cell_type": "markdown",
   "source": [
    "Проблема заключается в том, что мы не знаем, будут ли в качестве названий полей у нас ключевые слова языка Python или нет. Для решения данной проблемы можно использовать параметр rename со значением True."
   ],
   "metadata": {
    "collapsed": false
   },
   "id": "9447140d83fccea7"
  },
  {
   "cell_type": "code",
   "execution_count": 28,
   "outputs": [
    {
     "name": "stdout",
     "output_type": "stream",
     "text": [
      "Student(name='Роман', surname='Белых', age=26, _3=10)\n"
     ]
    }
   ],
   "source": [
    "from collections import namedtuple\n",
    "\n",
    "headers = ('name', 'surname', 'age', 'class')\n",
    "\n",
    "Student = namedtuple('Student', headers, rename=True)\n",
    "\n",
    "stud = Student('Роман', 'Белых', 26, 10)\n",
    "print(stud)"
   ],
   "metadata": {
    "collapsed": false,
    "ExecuteTime": {
     "end_time": "2024-11-05T09:11:52.575001100Z",
     "start_time": "2024-11-05T09:11:52.572049200Z"
    }
   },
   "id": "7d41777be18ff9dc"
  },
  {
   "cell_type": "markdown",
   "source": [
    "Обратите внимание на то, что Python автоматически переименовал поле class в _3."
   ],
   "metadata": {
    "collapsed": false
   },
   "id": "a2afc7e6f83c7956"
  },
  {
   "cell_type": "code",
   "execution_count": 29,
   "outputs": [
    {
     "name": "stdout",
     "output_type": "stream",
     "text": [
      "Student(name='Тимур', surname='Гуев', age=28, _3=11, _4='sister', color='green', _6='Tim', _7='11A', _8='else')\n"
     ]
    }
   ],
   "source": [
    "from collections import namedtuple\n",
    "\n",
    "headers = ('name', 'surname', 'age', 'class', 'with', 'color', 'name', 'class', 'if')\n",
    "\n",
    "Student = namedtuple('Student', headers, rename=True)\n",
    "\n",
    "stud = Student('Тимур', 'Гуев', 28, 11, 'sister', 'green', 'Tim', '11A', 'else')\n",
    "print(stud)"
   ],
   "metadata": {
    "collapsed": false,
    "ExecuteTime": {
     "end_time": "2024-11-05T09:12:25.677343900Z",
     "start_time": "2024-11-05T09:12:25.668072900Z"
    }
   },
   "id": "2ac525421055133e"
  },
  {
   "cell_type": "markdown",
   "source": [
    "Как мы видим, неудачные имена полей переименовались в соответствии с их порядковыми номерами, причем перед порядковым номером используется символ подчеркивания."
   ],
   "metadata": {
    "collapsed": false
   },
   "id": "b31a493ca1ec18cd"
  },
  {
   "cell_type": "markdown",
   "source": [
    "Параметр defaults"
   ],
   "metadata": {
    "collapsed": false
   },
   "id": "923519b29650bdf2"
  },
  {
   "cell_type": "markdown",
   "source": [
    "Параметр defaults используется для того, чтобы установить значения по умолчанию для полей именованного кортежа."
   ],
   "metadata": {
    "collapsed": false
   },
   "id": "44eddfc40ca7886a"
  },
  {
   "cell_type": "code",
   "execution_count": 30,
   "outputs": [
    {
     "name": "stdout",
     "output_type": "stream",
     "text": [
      "Point(x=0, y=0)\n",
      "Point(x=1, y=9)\n"
     ]
    }
   ],
   "source": [
    "from collections import namedtuple\n",
    "\n",
    "Point = namedtuple('Point', ['x', 'y'], defaults=(0, 0))\n",
    "point1 = Point()      # используем значения по умолчанию\n",
    "point2 = Point(1, 9)\n",
    "\n",
    "print(point1)\n",
    "print(point2)"
   ],
   "metadata": {
    "collapsed": false,
    "ExecuteTime": {
     "end_time": "2024-11-05T09:14:36.204939500Z",
     "start_time": "2024-11-05T09:14:36.201417500Z"
    }
   },
   "id": "55598dec4ad6bff6"
  },
  {
   "cell_type": "markdown",
   "source": [
    "Можно указать значение по умолчанию только для некоторых полей, при этом defaults присваивает значения по умолчанию с конца."
   ],
   "metadata": {
    "collapsed": false
   },
   "id": "9db5832edff8245"
  },
  {
   "cell_type": "code",
   "execution_count": 31,
   "outputs": [
    {
     "name": "stdout",
     "output_type": "stream",
     "text": [
      "Point(x=7, y=0)\n"
     ]
    }
   ],
   "source": [
    "from collections import namedtuple\n",
    "\n",
    "Point = namedtuple('Point', ['x', 'y'], defaults=(0,))\n",
    "point =  Point(7)      # используем значения по умолчанию для y\n",
    "print(point)"
   ],
   "metadata": {
    "collapsed": false,
    "ExecuteTime": {
     "end_time": "2024-11-05T09:15:09.276944800Z",
     "start_time": "2024-11-05T09:15:09.273511800Z"
    }
   },
   "id": "be2fa31cce5d1e2c"
  },
  {
   "cell_type": "markdown",
   "source": [
    "Имейте в виду, что параметр defaults работает только в Python 3.7+."
   ],
   "metadata": {
    "collapsed": false
   },
   "id": "a43b34dd3aecf956"
  },
  {
   "cell_type": "markdown",
   "source": [
    "Параметр module"
   ],
   "metadata": {
    "collapsed": false
   },
   "id": "d4c0aee9d0358301"
  },
  {
   "cell_type": "code",
   "execution_count": 33,
   "outputs": [
    {
     "name": "stdout",
     "output_type": "stream",
     "text": [
      "<class '__main__.jopa'>\n"
     ]
    }
   ],
   "source": [
    "from collections import namedtuple\n",
    "\n",
    "Point = namedtuple('jopa', ['x', 'y'])\n",
    "point = Point(1, 2)\n",
    "print(type(point))"
   ],
   "metadata": {
    "collapsed": false,
    "ExecuteTime": {
     "end_time": "2024-11-05T09:16:44.148923100Z",
     "start_time": "2024-11-05T09:16:44.144227500Z"
    }
   },
   "id": "18b8b4143aa81e80"
  },
  {
   "cell_type": "markdown",
   "source": [
    "Если мы укажем допустимое имя модуля для этого аргумента, тогда атрибуту .__ module__ результирующего именованного кортежа будет присвоено это значение."
   ],
   "metadata": {
    "collapsed": false
   },
   "id": "db039074fdf66cfb"
  },
  {
   "cell_type": "code",
   "execution_count": 34,
   "outputs": [
    {
     "name": "stdout",
     "output_type": "stream",
     "text": [
      "<class 'customtypes.Point'>\n"
     ]
    }
   ],
   "source": [
    "from collections import namedtuple\n",
    "\n",
    "Point = namedtuple('Point', ['x', 'y'], module='customtypes')\n",
    "point = Point(1, 2)\n",
    "print(type(point))"
   ],
   "metadata": {
    "collapsed": false,
    "ExecuteTime": {
     "end_time": "2024-11-05T09:17:52.780804300Z",
     "start_time": "2024-11-05T09:17:52.777924800Z"
    }
   },
   "id": "e6512de5477932a1"
  },
  {
   "cell_type": "markdown",
   "source": [
    "Параметр module был добавлен в Python 3.6 для того, чтобы появилась возможность сериализовать/десериализовать именованные кортежи с помощью модуля pickle в разных реализациях Python (IronPython, Jython и т.д.)"
   ],
   "metadata": {
    "collapsed": false
   },
   "id": "9e74a15bc2838fb7"
  },
  {
   "cell_type": "markdown",
   "source": [
    "Распаковка именованного кортежа"
   ],
   "metadata": {
    "collapsed": false
   },
   "id": "96af9c2696eb6c4d"
  },
  {
   "cell_type": "markdown",
   "source": [
    "Мы можем распаковывать именованный кортеж, также как и обычный."
   ],
   "metadata": {
    "collapsed": false
   },
   "id": "91b32a5b2dbeeb70"
  },
  {
   "cell_type": "code",
   "execution_count": 35,
   "outputs": [
    {
     "name": "stdout",
     "output_type": "stream",
     "text": [
      "Тимур\n",
      "29\n",
      "170\n"
     ]
    }
   ],
   "source": [
    "from collections import namedtuple\n",
    "\n",
    "Person = namedtuple('Person', ['name', 'age', 'height'])\n",
    "\n",
    "timur = Person('Тимур', 29, 170)\n",
    "\n",
    "name, age, height = timur\n",
    "\n",
    "print(name)\n",
    "print(age)\n",
    "print(height)"
   ],
   "metadata": {
    "collapsed": false,
    "ExecuteTime": {
     "end_time": "2024-11-05T09:19:07.519368600Z",
     "start_time": "2024-11-05T09:19:07.514802900Z"
    }
   },
   "id": "7dc0c2d209ec65d4"
  },
  {
   "cell_type": "markdown",
   "source": [
    "Примечания"
   ],
   "metadata": {
    "collapsed": false
   },
   "id": "2aecee69eb5a7791"
  },
  {
   "cell_type": "markdown",
   "source": [
    "Примечание 5. При работе с именованным кортежами мы можем использовать срезы."
   ],
   "metadata": {
    "collapsed": false
   },
   "id": "e573466c6c20ae67"
  },
  {
   "cell_type": "code",
   "execution_count": 36,
   "outputs": [
    {
     "name": "stdout",
     "output_type": "stream",
     "text": [
      "(54, -34)\n",
      "(89, 54)\n",
      "(54,)\n"
     ]
    }
   ],
   "source": [
    "from collections import namedtuple\n",
    "\n",
    "Point = namedtuple('Point3D', ['x', 'y', 'z'])\n",
    "\n",
    "point = Point(89, 54, -34)\n",
    "\n",
    "print(point[1:])\n",
    "print(point[:2])\n",
    "print(point[1:2])"
   ],
   "metadata": {
    "collapsed": false,
    "ExecuteTime": {
     "end_time": "2024-11-05T09:20:58.176306Z",
     "start_time": "2024-11-05T09:20:58.171235Z"
    }
   },
   "id": "78c3d8060c4de5e3"
  },
  {
   "cell_type": "markdown",
   "source": [
    "Примечание 6. Как уже упоминалось, функция namedtuple() является фабричной, то есть порождающей новые типы данных. Важно понимать, что названием типа является строка, передаваемая в функцию в качестве  первого аргумента, а не название переменной, в которой содержится результат вызова функции."
   ],
   "metadata": {
    "collapsed": false
   },
   "id": "5ebd257bf2092243"
  },
  {
   "cell_type": "code",
   "execution_count": 37,
   "outputs": [
    {
     "name": "stdout",
     "output_type": "stream",
     "text": [
      "<class '__main__.Point'>\n"
     ]
    }
   ],
   "source": [
    "from collections import namedtuple\n",
    "\n",
    "unknowntype = namedtuple('Point', ['x', 'y'])\n",
    "\n",
    "point = unknowntype(2, 4)\n",
    "\n",
    "print(type(point))"
   ],
   "metadata": {
    "collapsed": false,
    "ExecuteTime": {
     "end_time": "2024-11-05T09:21:34.686436Z",
     "start_time": "2024-11-05T09:21:34.682342800Z"
    }
   },
   "id": "bd4d6ced08f0dae1"
  },
  {
   "cell_type": "markdown",
   "source": [
    "Дабы избежать путаницы, старайтесь давать переменным название типа."
   ],
   "metadata": {
    "collapsed": false
   },
   "id": "8ebc49a27a8de5ec"
  },
  {
   "cell_type": "code",
   "execution_count": 46,
   "outputs": [
    {
     "name": "stdout",
     "output_type": "stream",
     "text": [
      "[Point(x=75, y=1), Point(x=76, y=45), Point(x=78, y=12), Point(x=83, y=11), Point(x=65, y=4), Point(x=11, y=19), Point(x=15, y=44), Point(x=77, y=48), Point(x=19, y=14), Point(x=68, y=28), Point(x=11, y=23), Point(x=9, y=13), Point(x=65, y=65), Point(x=46, y=29), Point(x=31, y=73), Point(x=46, y=88), Point(x=100, y=79), Point(x=6, y=36), Point(x=21, y=21), Point(x=90, y=80)]\n"
     ]
    }
   ],
   "source": [
    "import csv\n",
    "import random\n",
    "from collections import namedtuple\n",
    "\n",
    "Point = namedtuple('Point', ('x', 'y'))\n",
    "\n",
    "# Запись данных в CSV\n",
    "with open('points.csv', mode='w', encoding='utf-8', newline='') as file_out:\n",
    "    data = [[random.randint(0, 100), random.randint(0, 100)] for _ in range(20)]\n",
    "    writer = csv.writer(file_out)\n",
    "    writer.writerows(data)\n",
    "\n",
    "# Чтение данных из CSV и создание списка точек\n",
    "with open('points.csv', mode='r', encoding='utf-8') as file_in:\n",
    "    rows = csv.reader(file_in)\n",
    "    points = []\n",
    "    for row in rows:\n",
    "        # Пропускаем пустые строки (если такие есть)\n",
    "        if row:\n",
    "            x, y = map(int, row)  # Преобразуем строки в числа\n",
    "            points.append(Point(x, y))\n",
    "\n",
    "# Печать списка точек\n",
    "print(points)"
   ],
   "metadata": {
    "collapsed": false,
    "ExecuteTime": {
     "end_time": "2024-11-05T09:37:47.661582600Z",
     "start_time": "2024-11-05T09:37:47.653503800Z"
    }
   },
   "id": "d8f4458c912e99fd"
  },
  {
   "cell_type": "code",
   "execution_count": 78,
   "outputs": [
    {
     "ename": "SyntaxError",
     "evalue": "invalid syntax (2688458173.py, line 15)",
     "output_type": "error",
     "traceback": [
      "\u001B[1;36m  Cell \u001B[1;32mIn[78], line 15\u001B[1;36m\u001B[0m\n\u001B[1;33m    movie.0 # SyntaxError\u001B[0m\n\u001B[1;37m         ^\u001B[0m\n\u001B[1;31mSyntaxError\u001B[0m\u001B[1;31m:\u001B[0m invalid syntax\n"
     ]
    }
   ],
   "source": [
    "from collections import namedtuple\n",
    "\n",
    "Movie = namedtuple('Movie', ['name', 'genres', 'director', 'imdb_rating'])\n",
    "\n",
    "movie = Movie('La La Land', ['comedy', 'drama', 'musical'], 'Damien Chazelle', 8)\n",
    "\n",
    "\n",
    "\n",
    "movie['name'] # TypeError\n",
    "\n",
    "movie('name') # TypeError\n",
    "\n",
    "movie[0] # 'La La Land'\n",
    "\n",
    "movie.0 # SyntaxError\n",
    "\n",
    "movie[1] # ['comedy', 'drama', 'musical']\n",
    "\n",
    "movie.name # 'La La Land'"
   ],
   "metadata": {
    "collapsed": false,
    "ExecuteTime": {
     "end_time": "2024-11-05T10:45:27.750984800Z",
     "start_time": "2024-11-05T10:45:27.747374200Z"
    }
   },
   "id": "e6dd7bc782de3d25"
  },
  {
   "cell_type": "code",
   "execution_count": 79,
   "outputs": [
    {
     "name": "stdout",
     "output_type": "stream",
     "text": [
      "11\n",
      "6\n",
      "0.0\n",
      "25\n"
     ]
    }
   ],
   "source": [
    "from collections import namedtuple\n",
    "\n",
    "Weather = namedtuple('Weather', ['temp', 'wind', 'rain', 'cloud'])\n",
    "\n",
    "tokyo_weather = Weather(11, 6, 0.0, 25)\n",
    "\n",
    "for x in tokyo_weather:\n",
    "    print(x)"
   ],
   "metadata": {
    "collapsed": false,
    "ExecuteTime": {
     "end_time": "2024-11-05T10:57:30.823072100Z",
     "start_time": "2024-11-05T10:57:30.818555700Z"
    }
   },
   "id": "b7c81052a680bcfc"
  },
  {
   "cell_type": "code",
   "execution_count": 80,
   "outputs": [
    {
     "name": "stdout",
     "output_type": "stream",
     "text": [
      "['Gwydni Jouhannesson', 'Icelandic', 'Iceland krona']\n"
     ]
    }
   ],
   "source": [
    "from collections import namedtuple\n",
    "\n",
    "Country = namedtuple('Country', 'name,capital,president,language,currency')\n",
    "\n",
    "iceland = Country('Iceland', 'Reykjavik', 'Gwydni Jouhannesson', 'Icelandic', 'Iceland krona')\n",
    "\n",
    "_, _, *data = iceland\n",
    "\n",
    "print(data)"
   ],
   "metadata": {
    "collapsed": false,
    "ExecuteTime": {
     "end_time": "2024-11-05T11:03:20.206348700Z",
     "start_time": "2024-11-05T11:03:20.188665500Z"
    }
   },
   "id": "f88b0226a5f2878a"
  }
 ],
 "metadata": {
  "kernelspec": {
   "display_name": "Python 3",
   "language": "python",
   "name": "python3"
  },
  "language_info": {
   "codemirror_mode": {
    "name": "ipython",
    "version": 2
   },
   "file_extension": ".py",
   "mimetype": "text/x-python",
   "name": "python",
   "nbconvert_exporter": "python",
   "pygments_lexer": "ipython2",
   "version": "2.7.6"
  }
 },
 "nbformat": 4,
 "nbformat_minor": 5
}

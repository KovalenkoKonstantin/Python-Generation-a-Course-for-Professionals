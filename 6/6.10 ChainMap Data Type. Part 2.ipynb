{
 "cells": [
  {
   "cell_type": "markdown",
   "source": [
    "Тема урока: тип данных ChainMap\n",
    "Тип данных ChainMap\n",
    "Атрибуты maps и parents\n",
    "Метод new_child()\n",
    "Аннотация. Урок посвящен типу данных ChainMap."
   ],
   "metadata": {
    "collapsed": false
   },
   "id": "8f7d4ef0a4ff0635"
  },
  {
   "cell_type": "markdown",
   "source": [
    "Атрибут maps"
   ],
   "metadata": {
    "collapsed": false
   },
   "id": "7b27114c48efeb4d"
  },
  {
   "cell_type": "markdown",
   "source": [
    "Объект ChainMap хранит все объединяемые словари во внутреннем списке. Этот список доступен через атрибут maps и может быть изменен. Порядок словарей в списке maps соответствует порядку, в котором словари были указаны при создании объекта ChainMap."
   ],
   "metadata": {
    "collapsed": false
   },
   "id": "500d603e5c91e88"
  },
  {
   "cell_type": "code",
   "execution_count": 1,
   "outputs": [
    {
     "name": "stdout",
     "output_type": "stream",
     "text": [
      "ChainMap({'dogs': 15, 'cats': 8, 'pythons': 9}, {'dogs': 7, 'cats': 2, 'tigers': 3})\n",
      "[{'dogs': 15, 'cats': 8, 'pythons': 9}, {'dogs': 7, 'cats': 2, 'tigers': 3}]\n",
      "<class 'list'>\n"
     ]
    }
   ],
   "source": [
    "from collections import ChainMap\n",
    "\n",
    "for_adoption = {'dogs': 15, 'cats': 8, 'pythons': 9}\n",
    "vet_treatment = {'dogs': 7, 'cats': 2, 'tigers': 3}\n",
    "\n",
    "pets = ChainMap(for_adoption, vet_treatment)\n",
    "\n",
    "print(pets)\n",
    "print(pets.maps)\n",
    "print(type(pets.maps))"
   ],
   "metadata": {
    "collapsed": false,
    "ExecuteTime": {
     "end_time": "2024-11-25T09:58:16.892737900Z",
     "start_time": "2024-11-25T09:58:16.888914Z"
    }
   },
   "id": "33dfe69d4621c049"
  },
  {
   "cell_type": "markdown",
   "source": [
    "Атрибут maps является обычным списком, поэтому он поддерживает все основные операции со списками. Мы можем добавлять в него новые словари, удалять уже добавленные, а также изменять их порядок."
   ],
   "metadata": {
    "collapsed": false
   },
   "id": "1a15bf5fc537bcb5"
  },
  {
   "cell_type": "code",
   "execution_count": 2,
   "outputs": [
    {
     "name": "stdout",
     "output_type": "stream",
     "text": [
      "ChainMap({'dogs': 7, 'cats': 2, 'tigers': 3, 'lions': 10}, {'dogs': 15, 'pythons': 9})\n",
      "[{'dogs': 7, 'cats': 2, 'tigers': 3, 'lions': 10}, {'dogs': 15, 'pythons': 9}]\n"
     ]
    }
   ],
   "source": [
    "from collections import ChainMap\n",
    "\n",
    "for_adoption = {'dogs': 15, 'cats': 8, 'pythons': 9}\n",
    "vet_treatment = {'dogs': 7, 'cats': 2, 'tigers': 3}\n",
    "\n",
    "pets = ChainMap(for_adoption, vet_treatment)\n",
    "\n",
    "pets.maps.reverse()\n",
    "pets.maps[0]['lions'] = 10\n",
    "del pets.maps[1]['cats']\n",
    "\n",
    "print(pets)\n",
    "print(pets.maps)"
   ],
   "metadata": {
    "collapsed": false,
    "ExecuteTime": {
     "end_time": "2024-11-25T09:59:02.071981600Z",
     "start_time": "2024-11-25T09:59:02.064514600Z"
    }
   },
   "id": "83879816fab6475a"
  },
  {
   "cell_type": "markdown",
   "source": [
    "Обратите внимание, что изменяя порядок словарей в списке атрибута maps, мы также меняем сами объединяемые словари, а также порядок поиска в объекте ChainMap."
   ],
   "metadata": {
    "collapsed": false
   },
   "id": "1e96d10a8fcca677"
  },
  {
   "cell_type": "markdown",
   "source": [
    "Атрибут maps можно использовать для обработки абсолютно всех значений во всех словарях. С помощью этого атрибута мы можем обойти поведение по умолчанию, заключающееся в получении (изменении) первого значения из первого словаря."
   ],
   "metadata": {
    "collapsed": false
   },
   "id": "855eb65617b6796f"
  },
  {
   "cell_type": "code",
   "execution_count": 3,
   "outputs": [
    {
     "name": "stdout",
     "output_type": "stream",
     "text": [
      "dogs -> 15\n",
      "cats -> 8\n",
      "pythons -> 9\n",
      "dogs -> 7\n",
      "cats -> 2\n",
      "tigers -> 3\n"
     ]
    }
   ],
   "source": [
    "from collections import ChainMap\n",
    "\n",
    "for_adoption = {'dogs': 15, 'cats': 8, 'pythons': 9}\n",
    "vet_treatment = {'dogs': 7, 'cats': 2, 'tigers': 3}\n",
    "\n",
    "pets = ChainMap(for_adoption, vet_treatment)\n",
    "\n",
    "for animals in pets.maps:\n",
    "    for key, value in animals.items():\n",
    "        print(key, '->', value)"
   ],
   "metadata": {
    "collapsed": false,
    "ExecuteTime": {
     "end_time": "2024-11-25T10:00:36.559533300Z",
     "start_time": "2024-11-25T10:00:36.551203700Z"
    }
   },
   "id": "e3c3bf4ad8813f41"
  },
  {
   "cell_type": "markdown",
   "source": [
    "Метод new_child()"
   ],
   "metadata": {
    "collapsed": false
   },
   "id": "49fafd3a1f3b9ee7"
  },
  {
   "cell_type": "markdown",
   "source": [
    "Метод new_child(m=None) возвращает новый объект ChainMap(), содержащий новый словарь m, за которым следуют все словари текущего объекта:\n",
    "\n",
    "если указан словарь m, то он вставляется первым в списке существующих словарей текущего объекта ChainMap\n",
    "если m не указан, то используется пустой словарь, который также вставляется первым"
   ],
   "metadata": {
    "collapsed": false
   },
   "id": "3fc9c5bc198e8797"
  },
  {
   "cell_type": "code",
   "execution_count": 4,
   "outputs": [
    {
     "name": "stdout",
     "output_type": "stream",
     "text": [
      "ChainMap({'name': 'Timur', 'age': 29}, {'name': 'Rosaly', 'age': 28})\n",
      "ChainMap({'name': 'Soslan', 'age': 0}, {'name': 'Timur', 'age': 29}, {'name': 'Rosaly', 'age': 28})\n"
     ]
    }
   ],
   "source": [
    "from collections import ChainMap\n",
    "\n",
    "dad = {'name': 'Timur', 'age': 29}\n",
    "mom = {'name': 'Rosaly', 'age': 28}\n",
    "\n",
    "old_family = ChainMap(dad, mom)\n",
    "\n",
    "son = {'name': 'Soslan', 'age': 0}\n",
    "\n",
    "new_family = old_family.new_child(son)\n",
    "\n",
    "print(old_family)\n",
    "print(new_family)"
   ],
   "metadata": {
    "collapsed": false,
    "ExecuteTime": {
     "end_time": "2024-11-25T10:01:32.643199700Z",
     "start_time": "2024-11-25T10:01:32.636539300Z"
    }
   },
   "id": "bc58243225ae4920"
  },
  {
   "cell_type": "code",
   "execution_count": 5,
   "outputs": [
    {
     "name": "stdout",
     "output_type": "stream",
     "text": [
      "ChainMap({'name': 'Timur', 'age': 29}, {'name': 'Rosaly', 'age': 28})\n",
      "ChainMap({}, {'name': 'Timur', 'age': 29}, {'name': 'Rosaly', 'age': 28})\n"
     ]
    }
   ],
   "source": [
    "from collections import ChainMap\n",
    "\n",
    "dad = {'name': 'Timur', 'age': 29}\n",
    "mom = {'name': 'Rosaly', 'age': 28}\n",
    "\n",
    "old_family = ChainMap(dad, mom)\n",
    "new_family = old_family.new_child()\n",
    "\n",
    "print(old_family)\n",
    "print(new_family)"
   ],
   "metadata": {
    "collapsed": false,
    "ExecuteTime": {
     "end_time": "2024-11-25T10:02:07.450638200Z",
     "start_time": "2024-11-25T10:02:07.442146200Z"
    }
   },
   "id": "f291a291bfa181f6"
  },
  {
   "cell_type": "markdown",
   "source": [
    " Обратите внимание, что метод new_child() не обновляет старый объект ChainMap, а создаёт и возвращает новый."
   ],
   "metadata": {
    "collapsed": false
   },
   "id": "7a74795bfc201c8"
  },
  {
   "cell_type": "markdown",
   "source": [
    "Атрибут parents"
   ],
   "metadata": {
    "collapsed": false
   },
   "id": "830cfee1040f38b4"
  },
  {
   "cell_type": "markdown",
   "source": [
    "Атрибут parents возвращает новый объект ChainMap, содержащий все словари, кроме первого. Это полезно для пропуска первого словаря при поиске ключей."
   ],
   "metadata": {
    "collapsed": false
   },
   "id": "ce4bc72c131d55e"
  },
  {
   "cell_type": "code",
   "execution_count": 6,
   "outputs": [
    {
     "name": "stdout",
     "output_type": "stream",
     "text": [
      "ChainMap({'name': 'Soslan', 'age': 0}, {'name': 'Timur', 'age': 29}, {'name': 'Rosaly', 'age': 28})\n",
      "ChainMap({'name': 'Timur', 'age': 29}, {'name': 'Rosaly', 'age': 28})\n",
      "<class 'collections.ChainMap'>\n"
     ]
    }
   ],
   "source": [
    "from collections import ChainMap\n",
    "\n",
    "dad = {'name': 'Timur', 'age': 29}\n",
    "mom = {'name': 'Rosaly', 'age': 28}\n",
    "son = {'name': 'Soslan', 'age': 0}\n",
    "\n",
    "family = ChainMap(son, dad, mom)\n",
    "\n",
    "print(family)\n",
    "print(family.parents)\n",
    "print(type(family.parents))"
   ],
   "metadata": {
    "collapsed": false,
    "ExecuteTime": {
     "end_time": "2024-11-25T10:03:18.859487700Z",
     "start_time": "2024-11-25T10:03:18.852874Z"
    }
   },
   "id": "e27103a26c65fc24"
  },
  {
   "cell_type": "markdown",
   "source": [
    "В некотором смысле атрибут parents выполняет обратную функцию методу new_child(). Первый удаляет словарь, а второй добавляет новый словарь в начало списка. В обоих случаях вы получаете новый объект ChainMap."
   ],
   "metadata": {
    "collapsed": false
   },
   "id": "abcebb27b4870221"
  },
  {
   "cell_type": "markdown",
   "source": [
    "Примечания"
   ],
   "metadata": {
    "collapsed": false
   },
   "id": "8fbc477f91f6bdb2"
  },
  {
   "cell_type": "markdown",
   "source": [
    "Примечание 1. При создании пустого ChainMap объекта его атрибут maps будет содержать пустой словарь."
   ],
   "metadata": {
    "collapsed": false
   },
   "id": "75e74c84840f0165"
  },
  {
   "cell_type": "code",
   "execution_count": 7,
   "outputs": [
    {
     "name": "stdout",
     "output_type": "stream",
     "text": [
      "[{}]\n"
     ]
    }
   ],
   "source": [
    "from collections import ChainMap\n",
    "\n",
    "empty_chain = ChainMap()\n",
    "\n",
    "print(empty_chain.maps)"
   ],
   "metadata": {
    "collapsed": false,
    "ExecuteTime": {
     "end_time": "2024-11-25T10:04:23.097726700Z",
     "start_time": "2024-11-25T10:04:23.090485200Z"
    }
   },
   "id": "4b1f0b0107dfc07a"
  },
  {
   "cell_type": "markdown",
   "source": [
    "Примечание 2. Вызов метода d.new_child() эквивалентен вызову ChainMap({}, *d.maps)."
   ],
   "metadata": {
    "collapsed": false
   },
   "id": "fc355beb9d531724"
  },
  {
   "cell_type": "markdown",
   "source": [
    "Примечание 3. Обращение к атрибуту d.parents эквивалентно вызову ChainMap(*d.maps[1:])."
   ],
   "metadata": {
    "collapsed": false
   },
   "id": "c28583f7f51e66c9"
  },
  {
   "cell_type": "markdown",
   "source": [
    "Примечание 4. Два объекта типа ChainMap chainmap1 и chainmap2 считаются равными, если значение следующего выражения равно True:"
   ],
   "metadata": {
    "collapsed": false
   },
   "id": "ec34f190ce6e6c32"
  },
  {
   "cell_type": "code",
   "execution_count": null,
   "outputs": [],
   "source": [
    "dict(chainmap1.items()) == dict(chainmap2.items())"
   ],
   "metadata": {
    "collapsed": false
   },
   "id": "2e4e714dcdc3323f"
  },
  {
   "cell_type": "markdown",
   "source": [
    "Учитывая специфику работы метода items(), равенство двух объектов типа ChainMap не гарантирует того, что эти объекты в точности совпадают."
   ],
   "metadata": {
    "collapsed": false
   },
   "id": "28fb6f11cef59756"
  },
  {
   "cell_type": "code",
   "execution_count": 8,
   "outputs": [
    {
     "name": "stdout",
     "output_type": "stream",
     "text": [
      "True\n",
      "True\n"
     ]
    }
   ],
   "source": [
    "from collections import ChainMap\n",
    "\n",
    "chainmap1 = ChainMap({'a': 10, 'b': 20})\n",
    "chainmap2 = ChainMap({'a': 10, 'b': 20})\n",
    "\n",
    "print(chainmap1 == chainmap2)\n",
    "\n",
    "chainmap1 = ChainMap({'a': 10, 'b': 20}, {'a': 1, 'b': 2})\n",
    "chainmap2 = ChainMap({'a': 10, 'b': 20})\n",
    "\n",
    "print(chainmap1 == chainmap2)"
   ],
   "metadata": {
    "collapsed": false,
    "ExecuteTime": {
     "end_time": "2024-11-25T10:05:45.902663400Z",
     "start_time": "2024-11-25T10:05:45.899823100Z"
    }
   },
   "id": "d52c35159721d9ac"
  },
  {
   "cell_type": "markdown",
   "source": [
    "Примечание 5. Тип данных ChainMap удобен в том случае, когда мы уже имеем некоторую коллекцию с большим количеством словарей и нам требуется производить поиск по всем словарям одновременно."
   ],
   "metadata": {
    "collapsed": false
   },
   "id": "a47cdd8db7b5ea23"
  },
  {
   "cell_type": "code",
   "execution_count": 9,
   "outputs": [
    {
     "name": "stdout",
     "output_type": "stream",
     "text": [
      "4\n"
     ]
    }
   ],
   "source": [
    "from collections import ChainMap\n",
    "\n",
    "dicts = [{'math': 4, 'physics': 5, 'geometry': 4},\n",
    "         {'biology': 3, 'chemistry': 3},\n",
    "         {'literature': 4, 'languages': 4},\n",
    "         {'history': 3, 'music': 3}]\n",
    "\n",
    "lessons = ChainMap(*dicts)\n",
    "\n",
    "print(lessons['literature'])"
   ],
   "metadata": {
    "collapsed": false,
    "ExecuteTime": {
     "end_time": "2024-11-25T10:06:33.072900400Z",
     "start_time": "2024-11-25T10:06:33.065380500Z"
    }
   },
   "id": "7a1afb17ab19a9be"
  },
  {
   "cell_type": "code",
   "execution_count": 10,
   "outputs": [
    {
     "name": "stdout",
     "output_type": "stream",
     "text": [
      "ChainMap({'kiwi': 15, 'lime': 5}, {'lemon': 10, 'pineapple': 15}, {'apple': 10, 'banana': 20})\n"
     ]
    }
   ],
   "source": [
    "from collections import ChainMap\n",
    "\n",
    "fruits = ChainMap({'apple': 10, 'banana': 20},\n",
    "                  {'lemon': 10, 'pineapple': 15},\n",
    "                  {'kiwi': 15, 'lime': 5})\n",
    "\n",
    "fruits.maps.reverse()\n",
    "\n",
    "print(fruits)"
   ],
   "metadata": {
    "collapsed": false,
    "ExecuteTime": {
     "end_time": "2024-11-25T10:13:49.052087500Z",
     "start_time": "2024-11-25T10:13:49.048180500Z"
    }
   },
   "id": "aca246e11bb71585"
  },
  {
   "cell_type": "code",
   "execution_count": 11,
   "outputs": [
    {
     "name": "stdout",
     "output_type": "stream",
     "text": [
      "ChainMap({'lemon': 10, 'pineapple': 15}, {'mango': 20, 'melon': 20})\n"
     ]
    }
   ],
   "source": [
    "from collections import ChainMap\n",
    "\n",
    "fruits = ChainMap({'apple': 10, 'banana': 20},\n",
    "                  {'lemon': 10, 'pineapple': 15},\n",
    "                  {'kiwi': 15, 'lime': 5})\n",
    "\n",
    "fruits.maps.append({'mango': 20, 'melon': 20})\n",
    "\n",
    "del fruits.maps[0]\n",
    "del fruits.maps[1]\n",
    "\n",
    "print(fruits)"
   ],
   "metadata": {
    "collapsed": false,
    "ExecuteTime": {
     "end_time": "2024-11-25T10:14:40.324538300Z",
     "start_time": "2024-11-25T10:14:40.321693400Z"
    }
   },
   "id": "9f29457a6d8f4fb2"
  },
  {
   "cell_type": "code",
   "execution_count": 12,
   "outputs": [
    {
     "name": "stdout",
     "output_type": "stream",
     "text": [
      "apple banana\n",
      "lemon pineapple\n",
      "kiwi lime\n"
     ]
    }
   ],
   "source": [
    "from collections import ChainMap\n",
    "\n",
    "fruits = ChainMap({'apple': 10, 'banana': 20},\n",
    "                  {'lemon': 10, 'pineapple': 15},\n",
    "                  {'kiwi': 15, 'lime': 5})\n",
    "\n",
    "for mapping in fruits.maps:\n",
    "    print(*mapping)"
   ],
   "metadata": {
    "collapsed": false,
    "ExecuteTime": {
     "end_time": "2024-11-25T10:14:58.700144900Z",
     "start_time": "2024-11-25T10:14:58.697805800Z"
    }
   },
   "id": "562911ecd519ec57"
  },
  {
   "cell_type": "code",
   "execution_count": 13,
   "outputs": [
    {
     "name": "stdout",
     "output_type": "stream",
     "text": [
      "1\n"
     ]
    }
   ],
   "source": [
    "from collections import ChainMap\n",
    "\n",
    "chainmap = ChainMap()\n",
    "\n",
    "print(len(chainmap.maps))"
   ],
   "metadata": {
    "collapsed": false,
    "ExecuteTime": {
     "end_time": "2024-11-25T10:15:14.355059800Z",
     "start_time": "2024-11-25T10:15:14.351475200Z"
    }
   },
   "id": "174476e198e69317"
  },
  {
   "cell_type": "code",
   "execution_count": 14,
   "outputs": [
    {
     "name": "stdout",
     "output_type": "stream",
     "text": [
      "ChainMap({'name': 'Timur', 'city': 'Moscow'})\n"
     ]
    }
   ],
   "source": [
    "from collections import ChainMap\n",
    "\n",
    "authors = ChainMap({'name': 'Timur', 'city': 'Moscow'})\n",
    "\n",
    "authors.new_child({'name': 'Arthur', 'city': 'Almetyevsk'})\n",
    "\n",
    "print(authors)"
   ],
   "metadata": {
    "collapsed": false,
    "ExecuteTime": {
     "end_time": "2024-11-25T10:15:34.905228400Z",
     "start_time": "2024-11-25T10:15:34.903657700Z"
    }
   },
   "id": "f389889c66756333"
  },
  {
   "cell_type": "code",
   "execution_count": 15,
   "outputs": [
    {
     "name": "stdout",
     "output_type": "stream",
     "text": [
      "ChainMap({'name': 'Arthur', 'city': 'Almetyevsk'}, {'name': 'Timur', 'city': 'Moscow'})\n"
     ]
    }
   ],
   "source": [
    "from collections import ChainMap\n",
    "\n",
    "authors = ChainMap({'name': 'Timur', 'city': 'Moscow'})\n",
    "\n",
    "new_authors = authors.new_child({'name': 'Arthur', 'city': 'Almetyevsk'})\n",
    "\n",
    "print(new_authors)"
   ],
   "metadata": {
    "collapsed": false,
    "ExecuteTime": {
     "end_time": "2024-11-25T10:17:09.347000900Z",
     "start_time": "2024-11-25T10:17:09.345291500Z"
    }
   },
   "id": "2387789012b5f205"
  },
  {
   "cell_type": "code",
   "execution_count": 16,
   "outputs": [
    {
     "name": "stdout",
     "output_type": "stream",
     "text": [
      "ChainMap({}, {'name': 'Timur', 'city': 'Moscow'})\n"
     ]
    }
   ],
   "source": [
    "from collections import ChainMap\n",
    "\n",
    "authors = ChainMap({'name': 'Timur', 'city': 'Moscow'})\n",
    "\n",
    "new_authors = authors.new_child()\n",
    "\n",
    "print(new_authors)"
   ],
   "metadata": {
    "collapsed": false,
    "ExecuteTime": {
     "end_time": "2024-11-25T10:17:48.187899700Z",
     "start_time": "2024-11-25T10:17:48.185235300Z"
    }
   },
   "id": "fdbe11362df42389"
  },
  {
   "cell_type": "code",
   "execution_count": 17,
   "outputs": [
    {
     "name": "stdout",
     "output_type": "stream",
     "text": [
      "True\n"
     ]
    }
   ],
   "source": [
    "from collections import ChainMap\n",
    "\n",
    "team = ChainMap({'name': 'Timur', 'city': 'Moscow'},\n",
    "                {'name': 'Anri', 'city': 'Saint-Petersburg'},\n",
    "                {'name': 'Arthur', 'city': 'Almetyevsk'})\n",
    "\n",
    "print(team.parents == ChainMap(*team.maps[1:]))"
   ],
   "metadata": {
    "collapsed": false,
    "ExecuteTime": {
     "end_time": "2024-11-25T10:18:11.874033Z",
     "start_time": "2024-11-25T10:18:11.872003700Z"
    }
   },
   "id": "2e03a41b2e02e894"
  },
  {
   "cell_type": "code",
   "execution_count": 18,
   "outputs": [
    {
     "name": "stdout",
     "output_type": "stream",
     "text": [
      "True\n"
     ]
    }
   ],
   "source": [
    "from collections import ChainMap\n",
    "\n",
    "chainmap1 = ChainMap({'a': 1}, {'b': 2}, {'c': 3})\n",
    "chainmap2 = ChainMap({'a': 1, 'b': 2}, {'c': 3}, {'a': 10, 'b': 20, 'c': 30})\n",
    "\n",
    "print(chainmap1 == chainmap2)"
   ],
   "metadata": {
    "collapsed": false,
    "ExecuteTime": {
     "end_time": "2024-11-25T10:18:22.947959400Z",
     "start_time": "2024-11-25T10:18:22.944683600Z"
    }
   },
   "id": "2ac7ca57825832d5"
  },
  {
   "cell_type": "markdown",
   "source": [
    "Функция get_all_values()\n",
    "Реализуйте функцию get_all_values(), которая принимает два аргумента в следующем порядке:\n",
    "\n",
    "chainmap — объект типа ChainMap, элементами которого являются словари\n",
    "key — произвольный объект\n",
    "Функция должна возвращать множество, элементами которого являются все значения по ключу key из всех словарей в chainmap. Если ключ key отсутствует в chainmap, функция должна вернуть пустое множество.\n",
    "\n",
    "Примечание 1. Гарантируется, что передаваемый в функцию объект типа ChainMap содержит словари с хешируемыми значениями.\n",
    "\n",
    "Примечание 2. В тестирующую систему сдайте программу, содержащую только необходимую функцию get_all_values(), но не код, вызывающий ее."
   ],
   "metadata": {
    "collapsed": false
   },
   "id": "78d8cc995d87e03b"
  },
  {
   "cell_type": "code",
   "execution_count": 35,
   "outputs": [
    {
     "name": "stdout",
     "output_type": "stream",
     "text": [
      "Arthur Timur\n"
     ]
    }
   ],
   "source": [
    "from collections import ChainMap\n",
    "\n",
    "def get_all_values(chainmap: ChainMap, key: object):\n",
    "    return set(mapping.get(key) for mapping in chainmap.maps if key in mapping)\n",
    "\n",
    "chainmap = ChainMap({'name': 'Arthur'}, {'name': 'Timur'})\n",
    "result = get_all_values(chainmap, 'name')\n",
    "\n",
    "print(*sorted(result))"
   ],
   "metadata": {
    "collapsed": false,
    "ExecuteTime": {
     "end_time": "2024-11-25T11:16:31.693654900Z",
     "start_time": "2024-11-25T11:16:31.690637300Z"
    }
   },
   "id": "391d1eb3e7a12c3d"
  },
  {
   "cell_type": "markdown",
   "source": [
    "Функция deep_update()\n",
    "Реализуйте функцию deep_update(), которая принимает три аргумента в следующем порядке:\n",
    "\n",
    "chainmap — объект типа ChainMap, элементами которого являются словари\n",
    "key — хешируемый объект\n",
    "value — произвольный объект\n",
    "Функция должна изменять все значения по ключу key во всех словарях в chainmap на value. Если ключ key отсутствует в chainmap, функция должна добавить пару key: value в первый словарь.\n",
    "\n",
    "Примечание 1. Функция должна изменять передаваемый объект типа ChainMap и возвращать значение None.\n",
    "\n",
    "Примечание 2. Гарантируется, что передаваемый в функцию объект типа ChainMap содержит хотя бы один словарь.\n",
    "\n",
    "Примечание 3. В тестирующую систему сдайте программу, содержащую только необходимую функцию deep_update(), но не код, вызывающий ее."
   ],
   "metadata": {
    "collapsed": false
   },
   "id": "fce4378325cf55b8"
  },
  {
   "cell_type": "code",
   "execution_count": 64,
   "outputs": [
    {
     "name": "stdout",
     "output_type": "stream",
     "text": [
      "ChainMap({'city': 'Moscow'}, {'name': 'Dima'}, {'name': 'Dima'})\n",
      "ChainMap({'name': 'Arthur', 'age': 20}, {'name': 'Timur'})\n"
     ]
    }
   ],
   "source": [
    "from collections import ChainMap\n",
    "\n",
    "\n",
    "def deep_update(chainmap: ChainMap, key: object, value: object):\n",
    "    for i in chainmap.maps:\n",
    "        if key in i:\n",
    "            i[key] = value\n",
    "    if key not in chainmap:\n",
    "        chainmap.maps[0][key] = value\n",
    "\n",
    "\n",
    "chainmap = ChainMap({'city': 'Moscow'}, {'name': 'Arthur'}, {'name': 'Timur'})\n",
    "deep_update(chainmap, 'name', 'Dima')\n",
    "\n",
    "print(chainmap)\n",
    "\n",
    "chainmap = ChainMap({'name': 'Arthur'}, {'name': 'Timur'})\n",
    "deep_update(chainmap, 'age', 20)\n",
    "\n",
    "print(chainmap)"
   ],
   "metadata": {
    "collapsed": false,
    "ExecuteTime": {
     "end_time": "2024-11-25T11:44:29.228052Z",
     "start_time": "2024-11-25T11:44:29.224245Z"
    }
   },
   "id": "402ec30a588c4e56"
  },
  {
   "cell_type": "code",
   "execution_count": 65,
   "outputs": [
    {
     "name": "stdout",
     "output_type": "stream",
     "text": [
      "ChainMap({'city': 'Moscow'}, {'name': 'Dima'}, {'name': 'Dima'})\n",
      "ChainMap({'name': 'Arthur', 'age': 20}, {'name': 'Timur'})\n"
     ]
    }
   ],
   "source": [
    "from collections import ChainMap\n",
    "def deep_update(chainmap, key, value):\n",
    "    for i in chainmap.maps:\n",
    "        if key in i:\n",
    "            i[key] = value\n",
    "    chainmap.setdefault(key, value)\n",
    "    \n",
    "chainmap = ChainMap({'city': 'Moscow'}, {'name': 'Arthur'}, {'name': 'Timur'})\n",
    "deep_update(chainmap, 'name', 'Dima')\n",
    "\n",
    "print(chainmap)\n",
    "\n",
    "chainmap = ChainMap({'name': 'Arthur'}, {'name': 'Timur'})\n",
    "deep_update(chainmap, 'age', 20)\n",
    "\n",
    "print(chainmap)"
   ],
   "metadata": {
    "collapsed": false,
    "ExecuteTime": {
     "end_time": "2024-11-25T11:45:44.315336700Z",
     "start_time": "2024-11-25T11:45:44.312765500Z"
    }
   },
   "id": "cfea64514067bfca"
  },
  {
   "cell_type": "markdown",
   "source": [
    "Update в генераторе"
   ],
   "metadata": {
    "collapsed": false
   },
   "id": "fd44366806085f02"
  },
  {
   "cell_type": "code",
   "execution_count": 66,
   "outputs": [
    {
     "name": "stdout",
     "output_type": "stream",
     "text": [
      "ChainMap({'city': 'Moscow'}, {'name': 'Dima'}, {'name': 'Dima'})\n",
      "ChainMap({'name': 'Arthur', 'age': 20}, {'name': 'Timur'})\n"
     ]
    }
   ],
   "source": [
    "from collections import ChainMap\n",
    "def deep_update(chainmap, key, value):\n",
    "    [i.update({key: value}) for i in chainmap.maps if key in i]\n",
    "    chainmap.setdefault(key, value)\n",
    "    \n",
    "chainmap = ChainMap({'city': 'Moscow'}, {'name': 'Arthur'}, {'name': 'Timur'})\n",
    "deep_update(chainmap, 'name', 'Dima')\n",
    "\n",
    "print(chainmap)\n",
    "\n",
    "chainmap = ChainMap({'name': 'Arthur'}, {'name': 'Timur'})\n",
    "deep_update(chainmap, 'age', 20)\n",
    "\n",
    "print(chainmap)"
   ],
   "metadata": {
    "collapsed": false,
    "ExecuteTime": {
     "end_time": "2024-11-25T11:47:16.173124800Z",
     "start_time": "2024-11-25T11:47:16.162336Z"
    }
   },
   "id": "b695ea18e0cd1b"
  },
  {
   "cell_type": "markdown",
   "source": [
    "Функция get_value()\n",
    "Реализуйте функцию get_value(), которая принимает три аргумента в следующем порядке:\n",
    "\n",
    "chainmap — объект типа ChainMap, элементами которого являются словари\n",
    "key — произвольный объект\n",
    "from_left — булево значение, по умолчанию равное True\n",
    "Функция должна возвращать значение по ключу key из chainmap, причем:\n",
    "\n",
    "если from_left имеет значение True, поиск ключа в chainmap должен происходить от первого словаря к последнему\n",
    "если from_left имеет значение False, поиск ключа в chainmap должен происходить от последнего словаря к первому\n",
    "Если ключ key отсутствует в chainmap, функция должна вернуть значение None.\n",
    "\n",
    "Примечание 1. В тестирующую систему сдайте программу, содержащую только необходимую функцию get_value(), но не код, вызывающий ее."
   ],
   "metadata": {
    "collapsed": false
   },
   "id": "938de88d277339cb"
  },
  {
   "cell_type": "code",
   "execution_count": 75,
   "outputs": [
    {
     "name": "stdout",
     "output_type": "stream",
     "text": [
      "Arthur\n",
      "Timur\n",
      "None\n"
     ]
    }
   ],
   "source": [
    "from collections import ChainMap\n",
    "\n",
    "def get_value(chainmap: ChainMap, key: object, from_left = True):\n",
    "    if from_left:\n",
    "        for i in chainmap.maps:\n",
    "            if key in i:\n",
    "                return i[key]\n",
    "    else:\n",
    "        for i in reversed(chainmap.maps):\n",
    "            if key in i:\n",
    "                return i[key]\n",
    "    return None\n",
    "\n",
    "chainmap = ChainMap({'name': 'Arthur'}, {'name': 'Timur'})\n",
    "print(get_value(chainmap, 'name'))      \n",
    "\n",
    "chainmap = ChainMap({'name': 'Arthur'}, {'name': 'Timur'})\n",
    "print(get_value(chainmap, 'name', False))   \n",
    "    \n",
    "chainmap = ChainMap({'name': 'Arthur'}, {'name': 'Timur'})\n",
    "print(get_value(chainmap, 'age'))"
   ],
   "metadata": {
    "collapsed": false,
    "ExecuteTime": {
     "end_time": "2024-11-25T11:59:48.313600200Z",
     "start_time": "2024-11-25T11:59:48.309485100Z"
    }
   },
   "id": "91f55e80a459c2fc"
  }
 ],
 "metadata": {
  "kernelspec": {
   "display_name": "Python 3",
   "language": "python",
   "name": "python3"
  },
  "language_info": {
   "codemirror_mode": {
    "name": "ipython",
    "version": 2
   },
   "file_extension": ".py",
   "mimetype": "text/x-python",
   "name": "python",
   "nbconvert_exporter": "python",
   "pygments_lexer": "ipython2",
   "version": "2.7.6"
  }
 },
 "nbformat": 4,
 "nbformat_minor": 5
}

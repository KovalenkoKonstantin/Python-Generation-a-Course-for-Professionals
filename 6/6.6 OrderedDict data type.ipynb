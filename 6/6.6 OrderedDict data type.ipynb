{
 "cells": [
  {
   "cell_type": "markdown",
   "source": [
    "Тема урока: тип данных OrderedDict\n",
    "Модуль collections\n",
    "Тип данных OrderedDict\n",
    "Аннотация. Урок посвящен типу данныхOrderedDict."
   ],
   "metadata": {
    "collapsed": false
   },
   "id": "e71cab4fccb8e3eb"
  },
  {
   "cell_type": "markdown",
   "source": [
    "тип данных OrderedDict"
   ],
   "metadata": {
    "collapsed": false
   },
   "id": "404135c75d48cfd9"
  },
  {
   "cell_type": "markdown",
   "source": [
    "Историческая справка"
   ],
   "metadata": {
    "collapsed": false
   },
   "id": "55ab52e27bd4952a"
  },
  {
   "cell_type": "markdown",
   "source": [
    "В Python 3.6 словари (тип dict) были переработаны так, чтобы повысилась их производительность. Следствием такой переработки явился один очень интересный побочный эффект — словари стали упорядоченными, то есть стали сохранять порядок вставки элементов, хотя на тот момент официально этот порядок не гарантировался. «Официально не гарантируется» означает, что это была просто деталь реализации, которая могла быть изменена в будущих версиях Python. Но начиная с Python 3.7, в спецификации языка гарантируется сохранение порядка вставки элементов в словарь."
   ],
   "metadata": {
    "collapsed": false
   },
   "id": "399c976912a8a380"
  },
  {
   "cell_type": "markdown",
   "source": [
    "После переработки тип dict стал использовать на 20-25% меньше памяти."
   ],
   "metadata": {
    "collapsed": false
   },
   "id": "13a9f63f1532b113"
  },
  {
   "cell_type": "markdown",
   "source": [
    "В далеком 2008 году, задолго до переработки устройства словарей в рамках релиза Python 3.1 в стандартную библиотеку был добавлен тип OrderedDict, который на тот момент решал проблему неупорядоченности обычных словарей (тип dict)."
   ],
   "metadata": {
    "collapsed": false
   },
   "id": "e7108f7e7d3fee48"
  },
  {
   "cell_type": "markdown",
   "source": [
    "Тип данных OrderedDict"
   ],
   "metadata": {
    "collapsed": false
   },
   "id": "cce3c96f544bbc5b"
  },
  {
   "cell_type": "markdown",
   "source": [
    "Тип OrderedDict является подтипом типа dict, сохраняющий порядок, в котором пары \"ключ-значение\" вставляются в словарь. Когда мы перебираем объект типа OrderedDict, его элементы перебираются в исходном порядке. Если мы обновим значение существующего ключа, то порядок останется неизменным. Если мы удалим элемент и вставим его снова, то этот элемент будет добавлен в конец словаря."
   ],
   "metadata": {
    "collapsed": false
   },
   "id": "ca90bcbad34beea5"
  },
  {
   "cell_type": "markdown",
   "source": [
    "Тип OrderedDict будучи подтипом dict наследует все методы, предоставляемые обычным словарем. При этом в OrderedDict также есть дополнительные методы, о которых мы поговорим ниже."
   ],
   "metadata": {
    "collapsed": false
   },
   "id": "1a0490259a4258a5"
  },
  {
   "cell_type": "markdown",
   "source": [
    "В отличие от dict, тип OrderedDict не является встроенным типом и для использования его необходимо импортировать из модуля collections."
   ],
   "metadata": {
    "collapsed": false
   },
   "id": "afeabd2604e1f247"
  },
  {
   "cell_type": "code",
   "execution_count": 1,
   "outputs": [
    {
     "name": "stdout",
     "output_type": "stream",
     "text": [
      "OrderedDict({'one': 1, 'two': 2, 'three': 3})\n"
     ]
    }
   ],
   "source": [
    "from collections import OrderedDict\n",
    "\n",
    "numbers = OrderedDict()\n",
    "\n",
    "numbers['one'] = 1\n",
    "numbers['two'] = 2\n",
    "numbers['three'] = 3\n",
    "\n",
    "print(numbers)"
   ],
   "metadata": {
    "collapsed": false,
    "ExecuteTime": {
     "end_time": "2024-11-18T07:54:50.008518300Z",
     "start_time": "2024-11-18T07:54:50.003382400Z"
    }
   },
   "id": "37f0756daf48669b"
  },
  {
   "cell_type": "markdown",
   "source": [
    "Как и defaultdict, эти словари можно создавать любым из доступных способов, как и обычные словари:"
   ],
   "metadata": {
    "collapsed": false
   },
   "id": "f4652639a429790d"
  },
  {
   "cell_type": "code",
   "execution_count": 2,
   "outputs": [],
   "source": [
    "from collections import OrderedDict\n",
    "\n",
    "numbers1 = OrderedDict({'one': 1, 'two': 2, 'three': 3})\n",
    "numbers2 = OrderedDict([('one', 1), ('two', 2), ('three', 3)])\n",
    "numbers3 = OrderedDict(one=1, two=2, three=3)"
   ],
   "metadata": {
    "collapsed": false,
    "ExecuteTime": {
     "end_time": "2024-11-18T07:55:08.491495Z",
     "start_time": "2024-11-18T07:55:08.488786200Z"
    }
   },
   "id": "325a39ea6cc5c4f9"
  },
  {
   "cell_type": "markdown",
   "source": [
    "Изменение OrderedDict словаря"
   ],
   "metadata": {
    "collapsed": false
   },
   "id": "aac4efa046285c22"
  },
  {
   "cell_type": "markdown",
   "source": [
    "Тип OrderedDict является изменяемым. Мы можем вставлять новые элементы, обновлять и удалять существующие элементы. Если мы вставим новый элемент в существующий OrderedDict словарь, то этот элемент добавится в конец словаря."
   ],
   "metadata": {
    "collapsed": false
   },
   "id": "e6acba7eacd14140"
  },
  {
   "cell_type": "code",
   "execution_count": 6,
   "outputs": [
    {
     "name": "stdout",
     "output_type": "stream",
     "text": [
      "OrderedDict({'one': 1, 'two': 2, 'three': 3})\n",
      "2144881024192\n",
      "OrderedDict({'one': 1, 'two': 2, 'three': 3, 'four': 4})\n",
      "2144881024192\n"
     ]
    }
   ],
   "source": [
    "from collections import OrderedDict\n",
    "\n",
    "numbers = OrderedDict(one=1, two=2, three=3)\n",
    "\n",
    "print(numbers)\n",
    "print(id(numbers))\n",
    "\n",
    "numbers['four'] = 4\n",
    "\n",
    "print(numbers)\n",
    "print(id(numbers))"
   ],
   "metadata": {
    "collapsed": false,
    "ExecuteTime": {
     "end_time": "2024-11-18T07:58:52.036583400Z",
     "start_time": "2024-11-18T07:58:52.029641200Z"
    }
   },
   "id": "52c5a2b36c7b5049"
  },
  {
   "cell_type": "markdown",
   "source": [
    "Если мы удалим элемент из существующего OrderedDict словаря и снова вставим его, то он будет помещен в конец словаря."
   ],
   "metadata": {
    "collapsed": false
   },
   "id": "6b942e45e5bf5683"
  },
  {
   "cell_type": "code",
   "execution_count": 7,
   "outputs": [
    {
     "name": "stdout",
     "output_type": "stream",
     "text": [
      "OrderedDict({'one': 1, 'two': 2, 'three': 3})\n",
      "OrderedDict({'two': 2, 'three': 3})\n",
      "OrderedDict({'two': 2, 'three': 3, 'one': 1})\n"
     ]
    }
   ],
   "source": [
    "from collections import OrderedDict\n",
    "\n",
    "numbers = OrderedDict(one=1, two=2, three=3)\n",
    "print(numbers)\n",
    "\n",
    "del numbers['one']\n",
    "\n",
    "print(numbers)\n",
    "numbers['one'] = 1\n",
    "print(numbers)"
   ],
   "metadata": {
    "collapsed": false,
    "ExecuteTime": {
     "end_time": "2024-11-18T08:04:55.774067500Z",
     "start_time": "2024-11-18T08:04:55.762336400Z"
    }
   },
   "id": "d78b8c70575bbec1"
  },
  {
   "cell_type": "markdown",
   "source": [
    "Если мы обновляем значение по существующему ключу, то ключ сохраняет свою позицию."
   ],
   "metadata": {
    "collapsed": false
   },
   "id": "ef809677aa84b4f"
  },
  {
   "cell_type": "code",
   "execution_count": 8,
   "outputs": [
    {
     "name": "stdout",
     "output_type": "stream",
     "text": [
      "OrderedDict({'one': 1, 'two': 2, 'three': 3})\n",
      "OrderedDict({'one': 1.0, 'two': 2, 'three': 3})\n",
      "OrderedDict({'one': 1.0, 'two': 2.0, 'three': 3})\n"
     ]
    }
   ],
   "source": [
    "from collections import OrderedDict\n",
    "\n",
    "numbers = OrderedDict(one=1, two=2, three=3)\n",
    "print(numbers)\n",
    "\n",
    "numbers['one'] = 1.0\n",
    "print(numbers)\n",
    "\n",
    "numbers.update(two=2.0)\n",
    "print(numbers)"
   ],
   "metadata": {
    "collapsed": false,
    "ExecuteTime": {
     "end_time": "2024-11-18T08:05:28.280104800Z",
     "start_time": "2024-11-18T08:05:28.277903300Z"
    }
   },
   "id": "4e42ee204c46e9e4"
  },
  {
   "cell_type": "markdown",
   "source": [
    "Обновить значение по нужному ключу можно либо с помощью квадратных скобок, либо с помощью словарного метода update()."
   ],
   "metadata": {
    "collapsed": false
   },
   "id": "4b4f91d1aeeb3213"
  },
  {
   "cell_type": "markdown",
   "source": [
    "Итерирование по OrderedDict словарю"
   ],
   "metadata": {
    "collapsed": false
   },
   "id": "6e2f1b3dd02a8e8e"
  },
  {
   "cell_type": "markdown",
   "source": [
    "Доступ к элементам и итерирование по OrderedDict словарям работает так же, как и у обычных словарей. Мы можем перебирать ключи напрямую или можем использовать словарные методы items(), keys() и values()."
   ],
   "metadata": {
    "collapsed": false
   },
   "id": "725a515c3ca79f18"
  },
  {
   "cell_type": "code",
   "execution_count": 9,
   "outputs": [
    {
     "name": "stdout",
     "output_type": "stream",
     "text": [
      "1\n",
      "3\n",
      "\n",
      "one -> 1\n",
      "two -> 2\n",
      "three -> 3\n",
      "\n",
      "one -> 1\n",
      "two -> 2\n",
      "three -> 3\n",
      "\n",
      "one -> 1\n",
      "two -> 2\n",
      "three -> 3\n",
      "\n",
      "1\n",
      "2\n",
      "3\n"
     ]
    }
   ],
   "source": [
    "from collections import OrderedDict\n",
    "\n",
    "numbers = OrderedDict(one=1, two=2, three=3)\n",
    "\n",
    "# обращение по ключу\n",
    "print(numbers['one'])\n",
    "print(numbers['three'])\n",
    "\n",
    "print()\n",
    "\n",
    "# перебор ключей напрямую\n",
    "for key in numbers:\n",
    "    print(key, '->', numbers[key])\n",
    "\n",
    "print()\n",
    "\n",
    "# перебор пар (ключ, значение) через метод\n",
    "for key, value in numbers.items():\n",
    "    print(key, '->', value)\n",
    "\n",
    "print()\n",
    "\n",
    "# перебор ключей через метод\n",
    "for key in numbers.keys():\n",
    "    print(key, '->', numbers[key])\n",
    "\n",
    "print()\n",
    "\n",
    "# перебор значений через метод\n",
    "for value in numbers.values():\n",
    "    print(value)"
   ],
   "metadata": {
    "collapsed": false,
    "ExecuteTime": {
     "end_time": "2024-11-18T08:07:03.927911200Z",
     "start_time": "2024-11-18T08:07:03.921500500Z"
    }
   },
   "id": "f842c149a9b9668f"
  },
  {
   "cell_type": "markdown",
   "source": [
    "При итерировании по OrderedDict словарям мы можем использовать встроенную функцию reversed()."
   ],
   "metadata": {
    "collapsed": false
   },
   "id": "bac1b6c732c5664b"
  },
  {
   "cell_type": "code",
   "execution_count": 10,
   "outputs": [
    {
     "name": "stdout",
     "output_type": "stream",
     "text": [
      "three -> 3\n",
      "two -> 2\n",
      "one -> 1\n",
      "\n",
      "three -> 3\n",
      "two -> 2\n",
      "one -> 1\n",
      "\n",
      "three -> 3\n",
      "two -> 2\n",
      "one -> 1\n",
      "\n",
      "3\n",
      "2\n",
      "1\n"
     ]
    }
   ],
   "source": [
    "from collections import OrderedDict\n",
    "\n",
    "numbers = OrderedDict(one=1, two=2, three=3)\n",
    "\n",
    "# перебор ключей напрямую\n",
    "for key in reversed(numbers):\n",
    "    print(key, '->', numbers[key])\n",
    "\n",
    "print()\n",
    "\n",
    "# перебор пар (ключ, значение) через метод\n",
    "for key, value in reversed(numbers.items()):\n",
    "    print(key, '->', value)\n",
    "\n",
    "print()\n",
    "\n",
    "# перебор ключей через метод\n",
    "for key in reversed(numbers.keys()):\n",
    "    print(key, '->', numbers[key])\n",
    "\n",
    "print()\n",
    "\n",
    "# перебор значений через метод\n",
    "for value in reversed(numbers.values()):\n",
    "    print(value)"
   ],
   "metadata": {
    "collapsed": false,
    "ExecuteTime": {
     "end_time": "2024-11-18T08:08:11.700319600Z",
     "start_time": "2024-11-18T08:08:11.693673500Z"
    }
   },
   "id": "c6ed3504d9b88d0b"
  },
  {
   "cell_type": "markdown",
   "source": [
    "Обычные словари (тип dict) начиная с Python 3.8 также поддерживают использование встроенной функции reversed()"
   ],
   "metadata": {
    "collapsed": false
   },
   "id": "1b5f86ecf72a5dd6"
  },
  {
   "cell_type": "markdown",
   "source": [
    "Методы popitem() и move_to_end()"
   ],
   "metadata": {
    "collapsed": false
   },
   "id": "b59524fc7ae1f517"
  },
  {
   "cell_type": "markdown",
   "source": [
    "OrderedDict словари имеют два полезных метода:\n",
    "\n",
    "метод move_to_end() позволяет переместить существующий элемент либо в конец, либо в начало словаря\n",
    "метод popitem() позволяет удалить и вернуть элемент либо из конца, либо из начала словаря"
   ],
   "metadata": {
    "collapsed": false
   },
   "id": "97f9ec1ba891c8c"
  },
  {
   "cell_type": "markdown",
   "source": [
    "Метод move_to_end()"
   ],
   "metadata": {
    "collapsed": false
   },
   "id": "57aab5a89b44a130"
  },
  {
   "cell_type": "markdown",
   "source": [
    "Методу move_to_end() можно передать два аргумента:\n",
    "\n",
    "key (обязательный аргумент) – ключ, который идентифицирует перемещаемый элемент\n",
    "\n",
    "last (необязательный аргумент) – логическое значение (тип bool), которое определяет, в какой конец словаря мы перемещаем элемент, значение True (по умолчанию) перемещает элемент в конец, значение False – в начало"
   ],
   "metadata": {
    "collapsed": false
   },
   "id": "b79e0ab143fac3bb"
  },
  {
   "cell_type": "markdown",
   "source": [
    "Если при вызове метода move_to_end() переданный ключ отсутствует в словаре, то возникает ошибка KeyError."
   ],
   "metadata": {
    "collapsed": false
   },
   "id": "2866b6dfd8a55e67"
  },
  {
   "cell_type": "code",
   "execution_count": 11,
   "outputs": [
    {
     "name": "stdout",
     "output_type": "stream",
     "text": [
      "OrderedDict({'one': 1, 'two': 2, 'three': 3})\n",
      "OrderedDict({'two': 2, 'three': 3, 'one': 1})\n",
      "OrderedDict({'three': 3, 'two': 2, 'one': 1})\n"
     ]
    }
   ],
   "source": [
    "from collections import OrderedDict\n",
    "\n",
    "numbers = OrderedDict(one=1, two=2, three=3)\n",
    "print(numbers)\n",
    "\n",
    "numbers.move_to_end('one')  # last=True\n",
    "print(numbers)\n",
    "\n",
    "numbers.move_to_end('three', last=False)  # last=False\n",
    "print(numbers)"
   ],
   "metadata": {
    "collapsed": false,
    "ExecuteTime": {
     "end_time": "2024-11-18T08:11:12.117483600Z",
     "start_time": "2024-11-18T08:11:12.115807500Z"
    }
   },
   "id": "4b92cd5f20d6f1a2"
  },
  {
   "cell_type": "markdown",
   "source": [
    "С помощью метода move_to_end() мы можем сортировать OrderedDict словарь по ключам."
   ],
   "metadata": {
    "collapsed": false
   },
   "id": "37faf1689b4c4e31"
  },
  {
   "cell_type": "code",
   "execution_count": 13,
   "outputs": [
    {
     "name": "stdout",
     "output_type": "stream",
     "text": [
      "OrderedDict({'b': 2, 'd': 4, 'a': 1, 'c': 3})\n",
      "['a', 'b', 'c', 'd']\n",
      "OrderedDict({'a': 1, 'b': 2, 'c': 3, 'd': 4})\n"
     ]
    }
   ],
   "source": [
    "from collections import OrderedDict\n",
    "\n",
    "letters = OrderedDict(b=2, d=4, a=1, c=3)\n",
    "print(letters)\n",
    "print(sorted(letters))\n",
    "\n",
    "for key in sorted(letters):\n",
    "    letters.move_to_end(key)\n",
    "\n",
    "print(letters)"
   ],
   "metadata": {
    "collapsed": false,
    "ExecuteTime": {
     "end_time": "2024-11-18T08:17:32.924120500Z",
     "start_time": "2024-11-18T08:17:32.917544300Z"
    }
   },
   "id": "d4056cba68c3a29f"
  },
  {
   "cell_type": "markdown",
   "source": [
    "Метод popitem()"
   ],
   "metadata": {
    "collapsed": false
   },
   "id": "49c65f7fe38fd400"
  },
  {
   "cell_type": "markdown",
   "source": [
    "Метод popitem() по умолчанию удаляет и возвращает элемент в порядке LIFO (Last-In/First-Out, последний пришел/первый ушел). Другими словами, метод popitem() удаляет элементы с конца словаря."
   ],
   "metadata": {
    "collapsed": false
   },
   "id": "569e887ba267fb15"
  },
  {
   "cell_type": "code",
   "execution_count": 14,
   "outputs": [
    {
     "name": "stdout",
     "output_type": "stream",
     "text": [
      "('three', 3)\n",
      "OrderedDict({'one': 1, 'two': 2})\n",
      "('two', 2)\n",
      "OrderedDict({'one': 1})\n"
     ]
    }
   ],
   "source": [
    "from collections import OrderedDict\n",
    "\n",
    "numbers = OrderedDict(one=1, two=2, three=3)\n",
    "\n",
    "print(numbers.popitem())\n",
    "print(numbers)\n",
    "\n",
    "print(numbers.popitem())\n",
    "print(numbers)"
   ],
   "metadata": {
    "collapsed": false,
    "ExecuteTime": {
     "end_time": "2024-11-18T08:25:27.799388300Z",
     "start_time": "2024-11-18T08:25:27.797512800Z"
    }
   },
   "id": "777a8cd953adfa21"
  },
  {
   "cell_type": "markdown",
   "source": [
    "Если методу popitem() передать необязательный аргумент last=False, то он начнет удалять и возвращать элементы в порядке FIFO (First-In/First-Out, первый пришел/первый ушел)."
   ],
   "metadata": {
    "collapsed": false
   },
   "id": "f3781f16bcf5c86c"
  },
  {
   "cell_type": "code",
   "execution_count": 15,
   "outputs": [
    {
     "name": "stdout",
     "output_type": "stream",
     "text": [
      "('one', 1)\n",
      "OrderedDict({'two': 2, 'three': 3})\n",
      "('two', 2)\n",
      "OrderedDict({'three': 3})\n"
     ]
    }
   ],
   "source": [
    "from collections import OrderedDict\n",
    "\n",
    "numbers = OrderedDict(one=1, two=2, three=3)\n",
    "\n",
    "print(numbers.popitem(last=False))\n",
    "print(numbers)\n",
    "\n",
    "print(numbers.popitem(last=False))\n",
    "print(numbers)"
   ],
   "metadata": {
    "collapsed": false,
    "ExecuteTime": {
     "end_time": "2024-11-18T08:25:55.943911400Z",
     "start_time": "2024-11-18T08:25:55.941242700Z"
    }
   },
   "id": "4a8499155fc90e26"
  },
  {
   "cell_type": "markdown",
   "source": [
    "Сравнение словарей"
   ],
   "metadata": {
    "collapsed": false
   },
   "id": "e09a8918f6573953"
  },
  {
   "cell_type": "markdown",
   "source": [
    "При сравнении на равенство обычных словарей (тип dict) порядок расположения их элементов неважен."
   ],
   "metadata": {
    "collapsed": false
   },
   "id": "c700de2d2b2fbf80"
  },
  {
   "cell_type": "code",
   "execution_count": 16,
   "outputs": [
    {
     "name": "stdout",
     "output_type": "stream",
     "text": [
      "True\n",
      "True\n"
     ]
    }
   ],
   "source": [
    "letters1 = dict(a=1, b=2, c=3, d=4)\n",
    "letters2 = {'b': 2, 'a': 1, 'c': 3, 'd': 4}\n",
    "letters3 = dict([('a', 1), ('b', 2), ('c', 3), ('d', 4)])\n",
    "\n",
    "print(letters1 == letters2)\n",
    "print(letters1 == letters3)"
   ],
   "metadata": {
    "collapsed": false,
    "ExecuteTime": {
     "end_time": "2024-11-18T08:26:28.302287700Z",
     "start_time": "2024-11-18T08:26:28.299644400Z"
    }
   },
   "id": "5bb8c6befb49937a"
  },
  {
   "cell_type": "markdown",
   "source": [
    "При сравнение на равенство OrderedDict словарей порядок расположения их элементов важен."
   ],
   "metadata": {
    "collapsed": false
   },
   "id": "795f50d249e32c44"
  },
  {
   "cell_type": "code",
   "execution_count": 17,
   "outputs": [
    {
     "name": "stdout",
     "output_type": "stream",
     "text": [
      "False\n",
      "True\n"
     ]
    }
   ],
   "source": [
    "from collections import OrderedDict\n",
    "\n",
    "letters1 = OrderedDict(a=1, b=2, c=3, d=4)\n",
    "letters2 = OrderedDict({'b': 2, 'a': 1, 'c': 3, 'd': 4})\n",
    "letters3 = OrderedDict([('a', 1), ('b', 2), ('c', 3), ('d', 4)])\n",
    "\n",
    "print(letters1 == letters2)\n",
    "print(letters1 == letters3)"
   ],
   "metadata": {
    "collapsed": false,
    "ExecuteTime": {
     "end_time": "2024-11-18T08:27:00.609340Z",
     "start_time": "2024-11-18T08:27:00.605867Z"
    }
   },
   "id": "36336d6926f35f6f"
  },
  {
   "cell_type": "markdown",
   "source": [
    "При сравнении на равенство обычного словаря (тип dict) и OrderedDict словаря порядок расположения их элементов неважен."
   ],
   "metadata": {
    "collapsed": false
   },
   "id": "c5543c7d37a34225"
  },
  {
   "cell_type": "code",
   "execution_count": 18,
   "outputs": [
    {
     "name": "stdout",
     "output_type": "stream",
     "text": [
      "True\n"
     ]
    }
   ],
   "source": [
    "from collections import OrderedDict\n",
    "\n",
    "letters1 = OrderedDict(a=1, b=2, c=3, d=4)\n",
    "letters2 = {'b': 2, 'a': 1, 'c': 3, 'd': 4}\n",
    "\n",
    "print(letters1 == letters2)"
   ],
   "metadata": {
    "collapsed": false,
    "ExecuteTime": {
     "end_time": "2024-11-18T08:27:25.362324500Z",
     "start_time": "2024-11-18T08:27:25.340728500Z"
    }
   },
   "id": "7c18e747e3386067"
  },
  {
   "cell_type": "markdown",
   "source": [
    "Примечания"
   ],
   "metadata": {
    "collapsed": false
   },
   "id": "5521abff4eab6307"
  },
  {
   "cell_type": "markdown",
   "source": [
    " Мы можем использовать метод fromkeys() для создания OrderedDict словарей."
   ],
   "metadata": {
    "collapsed": false
   },
   "id": "546f1d184cfbd2c1"
  },
  {
   "cell_type": "code",
   "execution_count": 19,
   "outputs": [
    {
     "name": "stdout",
     "output_type": "stream",
     "text": [
      "OrderedDict({'one': 0, 'two': 0, 'three': 0})\n"
     ]
    }
   ],
   "source": [
    "from collections import OrderedDict\n",
    "\n",
    "keys = ['one', 'two', 'three']\n",
    "numbers = OrderedDict.fromkeys(keys, 0)\n",
    "print(numbers)"
   ],
   "metadata": {
    "collapsed": false,
    "ExecuteTime": {
     "end_time": "2024-11-18T11:33:43.891194900Z",
     "start_time": "2024-11-18T11:33:43.885656Z"
    }
   },
   "id": "e06f8b8d0cbf40a2"
  },
  {
   "cell_type": "markdown",
   "source": [
    "В Python 3.9 появились операторы | и |= которые реализуют операцию конкатенации словарей, как обычных, так и OrderedDict"
   ],
   "metadata": {
    "collapsed": false
   },
   "id": "d558680980e14aad"
  },
  {
   "cell_type": "code",
   "execution_count": 20,
   "outputs": [
    {
     "name": "stdout",
     "output_type": "stream",
     "text": [
      "OrderedDict({'newton': '1642-1726', 'einstein': '1879-1955', 'darwin': '1809-1882', 'mendel': '1822-1884'})\n"
     ]
    }
   ],
   "source": [
    "from collections import OrderedDict\n",
    "\n",
    "physicists = OrderedDict(newton='1642-1726', einstein='1879-1955')\n",
    "biologists = OrderedDict(darwin='1809-1882', mendel='1822-1884')\n",
    "\n",
    "scientists = physicists | biologists\n",
    "print(scientists)"
   ],
   "metadata": {
    "collapsed": false,
    "ExecuteTime": {
     "end_time": "2024-11-18T11:34:13.146957600Z",
     "start_time": "2024-11-18T11:34:13.141804900Z"
    }
   },
   "id": "801e80766dd3d9cd"
  },
  {
   "cell_type": "code",
   "execution_count": 21,
   "outputs": [
    {
     "name": "stdout",
     "output_type": "stream",
     "text": [
      "OrderedDict({'newton': '1642-1726/1727', 'einstein': '1879-1955', 'hawking': '1942-2018'})\n"
     ]
    }
   ],
   "source": [
    "from collections import OrderedDict\n",
    "\n",
    "physicists = OrderedDict(newton='1642-1726', einstein='1879-1955')\n",
    "physicists1 = OrderedDict(newton='1642-1726/1727', hawking='1942-2018')\n",
    "\n",
    "physicists |= physicists1\n",
    "\n",
    "print(physicists)"
   ],
   "metadata": {
    "collapsed": false,
    "ExecuteTime": {
     "end_time": "2024-11-18T11:50:37.576242800Z",
     "start_time": "2024-11-18T11:50:37.572548900Z"
    }
   },
   "id": "b28c7829eba4b615"
  },
  {
   "cell_type": "markdown",
   "source": [
    "Примечание 6. Тип данных OrderedDict написан на языке C и реализован в виде двусвязного списка для сохранения порядка элементов."
   ],
   "metadata": {
    "collapsed": false
   },
   "id": "a1c531a199f7ee5b"
  },
  {
   "cell_type": "markdown",
   "source": [
    "Примечание 7. Тип данных OrderedDict проигрывает типу dict по производительности:\n",
    "\n",
    "примерно на 40% медленнее\n",
    "примерно на 50% занимает больше памяти"
   ],
   "metadata": {
    "collapsed": false
   },
   "id": "6b1cc02ced3c2cab"
  },
  {
   "cell_type": "markdown",
   "source": [
    "Примечание 8. OrderedDict словари содержат дополнительный атрибут __dict__, которого нет у обычного словаря. Данный атрибут используется для динамического наделения объектов дополнительным функционалом."
   ],
   "metadata": {
    "collapsed": false
   },
   "id": "51cf52c6851692bb"
  },
  {
   "cell_type": "code",
   "execution_count": 22,
   "outputs": [
    {
     "name": "stdout",
     "output_type": "stream",
     "text": [
      "OrderedDict({'b': 2, 'd': 4, 'a': 1, 'c': 3})\n",
      "{}\n",
      "OrderedDict({'b': 2, 'd': 4, 'a': 1, 'c': 3})\n",
      "{'advanced': '144'}\n"
     ]
    }
   ],
   "source": [
    "from collections import OrderedDict\n",
    "\n",
    "letters = OrderedDict(b=2, d=4, a=1, c=3)\n",
    "print(letters)\n",
    "print(letters.__dict__)\n",
    "\n",
    "letters.__dict__['advanced'] = '144'\n",
    "print(letters)\n",
    "print(letters.__dict__)"
   ],
   "metadata": {
    "collapsed": false,
    "ExecuteTime": {
     "end_time": "2024-11-18T11:53:47.548904200Z",
     "start_time": "2024-11-18T11:53:47.545166300Z"
    }
   },
   "id": "e74bb0f2d7440d34"
  },
  {
   "cell_type": "code",
   "execution_count": 23,
   "outputs": [
    {
     "ename": "AttributeError",
     "evalue": "'dict' object has no attribute '__dict__'",
     "output_type": "error",
     "traceback": [
      "\u001B[1;31m---------------------------------------------------------------------------\u001B[0m",
      "\u001B[1;31mAttributeError\u001B[0m                            Traceback (most recent call last)",
      "Cell \u001B[1;32mIn[23], line 3\u001B[0m\n\u001B[0;32m      1\u001B[0m letters \u001B[38;5;241m=\u001B[39m \u001B[38;5;28mdict\u001B[39m(b\u001B[38;5;241m=\u001B[39m\u001B[38;5;241m2\u001B[39m, d\u001B[38;5;241m=\u001B[39m\u001B[38;5;241m4\u001B[39m, a\u001B[38;5;241m=\u001B[39m\u001B[38;5;241m1\u001B[39m, c\u001B[38;5;241m=\u001B[39m\u001B[38;5;241m3\u001B[39m)\n\u001B[1;32m----> 3\u001B[0m \u001B[38;5;28mprint\u001B[39m(\u001B[43mletters\u001B[49m\u001B[38;5;241;43m.\u001B[39;49m\u001B[38;5;18;43m__dict__\u001B[39;49m)    \u001B[38;5;66;03m# у обычных словарей нет атрибута __dict__\u001B[39;00m\n",
      "\u001B[1;31mAttributeError\u001B[0m: 'dict' object has no attribute '__dict__'"
     ]
    }
   ],
   "source": [
    "letters = dict(b=2, d=4, a=1, c=3)\n",
    "\n",
    "print(letters.__dict__)  # у обычных словарей нет атрибута __dict__"
   ],
   "metadata": {
    "collapsed": false,
    "ExecuteTime": {
     "end_time": "2024-11-18T11:54:37.402482600Z",
     "start_time": "2024-11-18T11:54:37.153616800Z"
    }
   },
   "id": "3dce46257b6c3588"
  },
  {
   "cell_type": "markdown",
   "source": [
    "Для динамического задания новых атрибутов мы можем использовать два синтаксиса:\n",
    "\n",
    "в стиле словаря: ordered_dict.__dict__['attr'] = value\n",
    "через точечную нотацию: ordered_dict.attr = value"
   ],
   "metadata": {
    "collapsed": false
   },
   "id": "c60b5d6a77938668"
  },
  {
   "cell_type": "code",
   "execution_count": 24,
   "outputs": [
    {
     "name": "stdout",
     "output_type": "stream",
     "text": [
      "OrderedDict({'b': 2, 'd': 4, 'a': 1, 'c': 3})\n",
      "['a', 'b', 'c', 'd']\n",
      "OrderedDict({'b': 2, 'd': 4, 'a': 1, 'c': 3, 'e': 5})\n",
      "['a', 'b', 'c', 'd', 'e']\n",
      "a -> 1\n",
      "b -> 2\n",
      "c -> 3\n",
      "d -> 4\n",
      "e -> 5\n"
     ]
    }
   ],
   "source": [
    "from collections import OrderedDict\n",
    "\n",
    "letters = OrderedDict(b=2, d=4, a=1, c=3)\n",
    "\n",
    "letters.sorted_keys = lambda: sorted(letters.keys())\n",
    "\n",
    "print(letters)\n",
    "print(letters.sorted_keys())\n",
    "\n",
    "letters['e'] = 5\n",
    "print(letters)\n",
    "print(letters.sorted_keys())\n",
    "\n",
    "for key in letters.sorted_keys():\n",
    "    print(key, '->', letters[key])"
   ],
   "metadata": {
    "collapsed": false,
    "ExecuteTime": {
     "end_time": "2024-11-18T11:55:05.297852600Z",
     "start_time": "2024-11-18T11:55:05.292973400Z"
    }
   },
   "id": "f35afdba9dde23d0"
  },
  {
   "cell_type": "markdown",
   "source": [
    "Таким образом, мы наделили  OrderedDict словарь (переменная letters) дополнительным методом (атрибутом) sorted_keys(), который возвращает список упорядоченных ключей."
   ],
   "metadata": {
    "collapsed": false
   },
   "id": "991a408a29737cd4"
  },
  {
   "cell_type": "markdown",
   "source": [
    "Различия и особенности типов dict и OrderedDict отражены в таблице:"
   ],
   "metadata": {
    "collapsed": false
   },
   "id": "d6b482153d8a4b96"
  },
  {
   "cell_type": "code",
   "execution_count": 25,
   "outputs": [
    {
     "data": {
      "image/png": "[encoded data removed]",
      "text/plain": "<IPython.core.display.Image object>"
     },
     "metadata": {},
     "output_type": "display_data"
    }
   ],
   "source": [
    "from functions import picture\n",
    "\n",
    "picture('fffБез имени.png')"
   ],
   "metadata": {
    "collapsed": false,
    "ExecuteTime": {
     "end_time": "2024-11-18T11:57:21.319715200Z",
     "start_time": "2024-11-18T11:57:21.280310600Z"
    }
   },
   "id": "9c022a2b13f94399"
  },
  {
   "cell_type": "markdown",
   "source": [
    "Примечание 11. С релизом Python 3.12 тип OrderedDict был обновлен. Так в новой версии языка объект типа OrderedDict получил новое строковое представление."
   ],
   "metadata": {
    "collapsed": false
   },
   "id": "3748d2ace144879c"
  },
  {
   "cell_type": "code",
   "execution_count": 26,
   "outputs": [
    {
     "name": "stdout",
     "output_type": "stream",
     "text": [
      "OrderedDict({'one': 1, 'two': 2, 'three': 3})\n"
     ]
    }
   ],
   "source": [
    "from collections import OrderedDict\n",
    "\n",
    "numbers = OrderedDict()\n",
    "\n",
    "numbers['one'] = 1\n",
    "numbers['two'] = 2\n",
    "numbers['three'] = 3\n",
    "\n",
    "print(numbers)"
   ],
   "metadata": {
    "collapsed": false,
    "ExecuteTime": {
     "end_time": "2024-11-18T12:00:54.876317500Z",
     "start_time": "2024-11-18T12:00:54.870794900Z"
    }
   },
   "id": "cb7587c7ec32d47d"
  },
  {
   "cell_type": "code",
   "execution_count": null,
   "outputs": [],
   "source": [
    "OrderedDict()\n",
    "OrderedDict(name='Timur', surname='Guev', hobby='math')\n",
    "OrderedDict({'name': 'Timur', 'surname': 'Guev', 'hobby': 'math'})\n",
    "OrderedDict((['name', 'Timur'], ['surname', 'Guev'], ['hobby', 'math']))\n",
    "OrderedDict(int, {'name': 'Timur', 'surname': 'Guev', 'hobby': 'math'})\n",
    "OrderedDict.fromkeys(('name', 'surname', 'hobby'), 'Empty')"
   ],
   "metadata": {
    "collapsed": false
   },
   "id": "d62e60782f73c512"
  },
  {
   "cell_type": "code",
   "execution_count": 27,
   "outputs": [
    {
     "name": "stdout",
     "output_type": "stream",
     "text": [
      "key1 -> value1\n",
      "key2 -> value2\n",
      "key3 -> value3\n"
     ]
    }
   ],
   "source": [
    "from collections import OrderedDict\n",
    "\n",
    "data = OrderedDict(key1='value1')\n",
    "\n",
    "data['key2'] = 'value2'\n",
    "data['key3'] = 'value3'\n",
    "\n",
    "for key, value in data.items():\n",
    "    print(f'{key} -> {value}')"
   ],
   "metadata": {
    "collapsed": false,
    "ExecuteTime": {
     "end_time": "2024-11-18T12:09:12.941064600Z",
     "start_time": "2024-11-18T12:09:12.935542600Z"
    }
   },
   "id": "7eb468e3fc40e34e"
  },
  {
   "cell_type": "code",
   "execution_count": 28,
   "outputs": [
    {
     "name": "stdout",
     "output_type": "stream",
     "text": [
      "name: shirt\n",
      "size: s\n",
      "color: grey\n"
     ]
    }
   ],
   "source": [
    "from collections import OrderedDict\n",
    "\n",
    "cloth = OrderedDict({'name': 'pants', 'size': 'm', 'color': 'grey'})\n",
    "\n",
    "cloth['name'] = 'shirt'\n",
    "cloth.update(size='s')\n",
    "\n",
    "for key, value in cloth.items():\n",
    "    print(f'{key}: {value}')"
   ],
   "metadata": {
    "collapsed": false,
    "ExecuteTime": {
     "end_time": "2024-11-18T12:09:44.500074200Z",
     "start_time": "2024-11-18T12:09:44.494254300Z"
    }
   },
   "id": "a5ebde2e1fc08a3e"
  },
  {
   "cell_type": "code",
   "execution_count": 29,
   "outputs": [
    {
     "name": "stdout",
     "output_type": "stream",
     "text": [
      "True\n"
     ]
    }
   ],
   "source": [
    "country1 = dict(name='Finland', capital='Helsinki', currency='euro')\n",
    "country2 = dict(capital='Helsinki', name='Finland', currency='euro')\n",
    "\n",
    "print(country1 == country2)"
   ],
   "metadata": {
    "collapsed": false,
    "ExecuteTime": {
     "end_time": "2024-11-18T12:10:24.797949900Z",
     "start_time": "2024-11-18T12:10:24.790383100Z"
    }
   },
   "id": "28edcd7cb127c0a1"
  },
  {
   "cell_type": "code",
   "execution_count": 30,
   "outputs": [
    {
     "name": "stdout",
     "output_type": "stream",
     "text": [
      "False\n"
     ]
    }
   ],
   "source": [
    "from collections import OrderedDict\n",
    "\n",
    "country1 = OrderedDict(name='Finland', capital='Helsinki', currency='euro')\n",
    "country2 = OrderedDict(name='Finland', capital='Helsinki', currency='euro')\n",
    "\n",
    "country2.move_to_end('name')\n",
    "\n",
    "print(country1 == country2)"
   ],
   "metadata": {
    "collapsed": false,
    "ExecuteTime": {
     "end_time": "2024-11-18T12:10:34.684644700Z",
     "start_time": "2024-11-18T12:10:34.678465300Z"
    }
   },
   "id": "52ea3211b715799f"
  },
  {
   "cell_type": "code",
   "execution_count": 31,
   "outputs": [
    {
     "name": "stdout",
     "output_type": "stream",
     "text": [
      "True\n"
     ]
    }
   ],
   "source": [
    "from collections import OrderedDict\n",
    "\n",
    "country1 = dict(name='Finland', capital='Helsinki', currency='euro')\n",
    "country2 = OrderedDict(currency='euro', capital='Helsinki', name='Finland')\n",
    "\n",
    "print(country1 == country2)"
   ],
   "metadata": {
    "collapsed": false,
    "ExecuteTime": {
     "end_time": "2024-11-18T12:10:42.934266900Z",
     "start_time": "2024-11-18T12:10:42.913486800Z"
    }
   },
   "id": "1528c3aaf04009bc"
  },
  {
   "cell_type": "code",
   "execution_count": 32,
   "outputs": [
    {
     "name": "stdout",
     "output_type": "stream",
     "text": [
      "Mercury Venues Earth Mars Jupiter Saturn Uranus Neptune\n"
     ]
    }
   ],
   "source": [
    "from collections import OrderedDict\n",
    "\n",
    "planets1 = OrderedDict(Mercury=None, Venues=2, Earth=None, Mars=4, Jupiter=5)\n",
    "planets2 = OrderedDict(Mercury=1, Saturn=6, Uranus=7, Neptune=8, Earth=3)\n",
    "\n",
    "solar_system = planets1 | planets2\n",
    "\n",
    "print(*solar_system)"
   ],
   "metadata": {
    "collapsed": false,
    "ExecuteTime": {
     "end_time": "2024-11-18T12:10:58.156790Z",
     "start_time": "2024-11-18T12:10:58.149736600Z"
    }
   },
   "id": "4382895222bdeb99"
  },
  {
   "cell_type": "code",
   "execution_count": 33,
   "outputs": [
    {
     "name": "stdout",
     "output_type": "stream",
     "text": [
      "name: Rose\n",
      "kingdom: Plantae\n",
      "family: Rosaceae\n"
     ]
    }
   ],
   "source": [
    "from collections import OrderedDict\n",
    "\n",
    "flower = OrderedDict([('name', 'Rose'), ('family', 'Rosaceae'), ('kingdom', 'Plantae')])\n",
    "\n",
    "flower.move_to_end('family')\n",
    "\n",
    "for key, value in flower.items():\n",
    "    print(f'{key}: {value}')"
   ],
   "metadata": {
    "collapsed": false,
    "ExecuteTime": {
     "end_time": "2024-11-18T12:12:06.099439900Z",
     "start_time": "2024-11-18T12:12:06.091281500Z"
    }
   },
   "id": "7446d7a260646e87"
  },
  {
   "cell_type": "code",
   "execution_count": 34,
   "outputs": [
    {
     "name": "stdout",
     "output_type": "stream",
     "text": [
      "kingdom: Plantae\n",
      "name: Viola\n",
      "family: Violaceae\n"
     ]
    }
   ],
   "source": [
    "from collections import OrderedDict\n",
    "\n",
    "flower = OrderedDict([('name', 'Viola'), ('family', 'Violaceae'), ('kingdom', 'Plantae')])\n",
    "\n",
    "flower.move_to_end('kingdom', last=False)\n",
    "\n",
    "for key, value in flower.items():\n",
    "    print(f'{key}: {value}')"
   ],
   "metadata": {
    "collapsed": false,
    "ExecuteTime": {
     "end_time": "2024-11-18T12:12:21.391678800Z",
     "start_time": "2024-11-18T12:12:21.384853700Z"
    }
   },
   "id": "3e0adf22ef4047fc"
  },
  {
   "cell_type": "code",
   "execution_count": 35,
   "outputs": [
    {
     "name": "stdout",
     "output_type": "stream",
     "text": [
      "Dima Timur Arthur Anri\n"
     ]
    }
   ],
   "source": [
    "from collections import OrderedDict\n",
    "\n",
    "grades = OrderedDict(Timur=100, Arthur=84, Anri=94, Dima=98)\n",
    "new_grades = OrderedDict()\n",
    "\n",
    "for rule in (True, False, False, True):\n",
    "    name, grade = grades.popitem(last=rule)\n",
    "    new_grades[name] = grade\n",
    "\n",
    "print(*new_grades)"
   ],
   "metadata": {
    "collapsed": false,
    "ExecuteTime": {
     "end_time": "2024-11-18T12:12:32.507886Z",
     "start_time": "2024-11-18T12:12:32.494933800Z"
    }
   },
   "id": "fd3a0ce461ca539d"
  },
  {
   "cell_type": "code",
   "execution_count": 36,
   "outputs": [
    {
     "name": "stdout",
     "output_type": "stream",
     "text": [
      "module y x\n"
     ]
    }
   ],
   "source": [
    "from collections import OrderedDict\n",
    "\n",
    "vector = OrderedDict(x=3, y=4, module=5)\n",
    "\n",
    "print(*reversed(vector))"
   ],
   "metadata": {
    "collapsed": false,
    "ExecuteTime": {
     "end_time": "2024-11-18T12:13:26.985421400Z",
     "start_time": "2024-11-18T12:13:26.977496700Z"
    }
   },
   "id": "e890729c3b667272"
  },
  {
   "cell_type": "markdown",
   "source": [
    "Вам доступен словарь data. Дополните приведенный ниже код, чтобы он вывел данный словарь, расположив его элементы в обратном порядке.\n",
    "\n",
    "Примечание. Например, если бы словарь data имел вид:\n",
    "\n",
    "data = OrderedDict(key1='value1', key2='value2', key3='value3')\n",
    "то программа должна была бы вывести (до Python 3.12):\n",
    "\n",
    "OrderedDict([('key3', 'value3'), ('key2', 'value2'), ('key1', 'value1')])\n",
    "в Python 3.12:\n",
    "\n",
    "OrderedDict({('key3', 'value3'), ('key2', 'value2'), ('key1', 'value1')})"
   ],
   "metadata": {
    "collapsed": false
   },
   "id": "c5e9680a7b9f6026"
  },
  {
   "cell_type": "code",
   "execution_count": 65,
   "outputs": [
    {
     "name": "stdout",
     "output_type": "stream",
     "text": [
      "OrderedDict({'SeatsCount': '10', 'Address': 'город Москва, переулок Сивцев Вражек, дом 6/2', 'District': 'район Арбат', 'AdmArea': 'Центральный административный округ', 'TypeObject': 'кафе', 'OperatingCompany': 'Брусника', 'IsNetObject': 'да', 'Name': 'Брусника'})\n"
     ]
    }
   ],
   "source": [
    "from collections import OrderedDict\n",
    "\n",
    "data = OrderedDict({'Name': 'Брусника', 'IsNetObject': 'да', 'OperatingCompany': 'Брусника', 'TypeObject': 'кафе',\n",
    "                    'AdmArea': 'Центральный административный округ', 'District': 'район Арбат',\n",
    "                    'Address': 'город Москва, переулок Сивцев Вражек, дом 6/2', 'SeatsCount': '10'})\n",
    "\n",
    "# print(data)\n",
    "data = OrderedDict(reversed(data.items()))\n",
    "print(data)"
   ],
   "metadata": {
    "collapsed": false,
    "ExecuteTime": {
     "end_time": "2024-11-18T13:13:06.087593400Z",
     "start_time": "2024-11-18T13:13:06.079500600Z"
    }
   },
   "id": "9aac8ddf8b4d2df2"
  },
  {
   "cell_type": "markdown",
   "source": [
    "Вам доступен словарь data с четным количеством элементов. Дополните приведенный ниже код, чтобы он вывел данный словарь, расположив его элементы по следующему правилу: первый, последний, второй, предпоследний, третий, и так далее.\n",
    "\n",
    "Примечание. Например, если бы словарь data имел вид:\n",
    "\n",
    "data = OrderedDict(key1='value1', key2='value2', key3='value3', key4='value4')\n",
    "то программа должна была бы вывести (до Python 3.12):\n",
    "\n",
    "OrderedDict([('key1', 'value1'), ('key4', 'value4'), ('key2', 'value2'), ('key3', 'value3')])\n",
    "в Python 3.12:\n",
    "\n",
    "OrderedDict({('key1', 'value1'), ('key4', 'value4'), ('key2', 'value2'), ('key3', 'value3')})"
   ],
   "metadata": {
    "collapsed": false
   },
   "id": "189643f2c15c0640"
  },
  {
   "cell_type": "code",
   "execution_count": 94,
   "outputs": [
    {
     "name": "stdout",
     "output_type": "stream",
     "text": [
      "OrderedDict({'Name': 'Брусника', 'SeatsCount': '10', 'IsNetObject': 'да', 'Address': 'город Москва, переулок Сивцев Вражек, дом 6/2', 'OperatingCompany': 'Брусника', 'District': 'район Арбат', 'TypeObject': 'кафе', 'AdmArea': 'Центральный административный округ'})\n"
     ]
    }
   ],
   "source": [
    "from collections import OrderedDict\n",
    "\n",
    "data = OrderedDict({'Name': 'Брусника', 'IsNetObject': 'да', 'OperatingCompany': 'Брусника', 'TypeObject': 'кафе',\n",
    "                    'AdmArea': 'Центральный административный округ', 'District': 'район Арбат',\n",
    "                    'Address': 'город Москва, переулок Сивцев Вражек, дом 6/2', 'SeatsCount': '10'})\n",
    "a = [False if i % 2 == 0 else True for i in range(len(data))]\n",
    "# print(a)\n",
    "new_data = OrderedDict()\n",
    "\n",
    "for rule in a:\n",
    "    first, second = data.popitem(last=rule)\n",
    "    # print(first, second)\n",
    "    new_data[first] = second\n",
    "\n",
    "print(new_data)\n",
    "# keys = reversed(list(data.keys()))\n",
    "# for pos, key in enumerate(keys):\n",
    "#     if pos % 2 == 0:        \n",
    "#         data.move_to_end(key)\n",
    "#     else:\n",
    "#         data.move_to_end(key, last=False)\n",
    "# print(data)"
   ],
   "metadata": {
    "collapsed": false,
    "ExecuteTime": {
     "end_time": "2024-11-19T05:42:47.030623700Z",
     "start_time": "2024-11-19T05:42:47.023580900Z"
    }
   },
   "id": "37b8176777099b35"
  },
  {
   "cell_type": "markdown",
   "source": [
    "Функция custom_sort() 🌶️\n",
    "Реализуйте функцию custom_sort(), которая принимает два аргумента в следующем порядке:\n",
    "\n",
    "ordered_dict — словарь OrderedDict\n",
    "by_values — булево значение, по умолчанию имеет значение False\n",
    "Функция должна сортировать словарь ordered_dict:\n",
    "\n",
    "по ключам, если by_values имеет значение False\n",
    "по значениям, если by_values имеет значение True\n",
    "Примечание 1. Функция должна изменять переданный словарь, а не возвращать новый. Возвращаемым значением функции должно быть None.\n",
    "\n",
    "Примечание 2. Гарантируется, что переданный в функцию словарь можно отсортировать, то есть он не содержит ключи, имеющие разные типы, а также значения, имеющие разные типы.\n",
    "\n",
    "Примечание 3. Если два элемента имеют равные значения, то следует сохранить их исходный порядок следования.\n",
    "\n",
    "Примечание 4. В тестирующую систему сдайте программу, содержащую только необходимую функцию custom_sort(), но не код, вызывающий ее."
   ],
   "metadata": {
    "collapsed": false
   },
   "id": "56c2b3b833632a7a"
  },
  {
   "cell_type": "code",
   "execution_count": 109,
   "outputs": [
    {
     "name": "stdout",
     "output_type": "stream",
     "text": [
      "OrderedDict({'Anabel': 17, 'Brian': 40, 'Carol': 16, 'Dustin': 29})\n"
     ]
    }
   ],
   "source": [
    "from collections import OrderedDict\n",
    "\n",
    "def custom_sort(ordered_dict: OrderedDict, by_values=False) -> None:\n",
    "    # Создаем новый отсортированный OrderedDict\n",
    "    if by_values:\n",
    "        # Сортировка по значениям\n",
    "        sorted_dict = OrderedDict(sorted(ordered_dict.items(), key=lambda x: x[1]))\n",
    "    else:\n",
    "        # Сортировка по ключам\n",
    "        sorted_dict = OrderedDict(sorted(ordered_dict.items()))\n",
    "    # Обновляем оригинальный ordered_dict\n",
    "    ordered_dict.clear()  # Очистка текущего словаря\n",
    "    ordered_dict.update(sorted_dict)  # Обновление его отсортированными элементами\n",
    "\n",
    "data = OrderedDict(Dustin=29, Anabel=17, Brian=40, Carol=16)\n",
    "custom_sort(data)\n",
    "\n",
    "print(data)"
   ],
   "metadata": {
    "collapsed": false,
    "ExecuteTime": {
     "end_time": "2024-11-19T06:20:40.941460500Z",
     "start_time": "2024-11-19T06:20:40.932303Z"
    }
   },
   "id": "66e020640565f683"
  },
  {
   "cell_type": "code",
   "execution_count": null,
   "outputs": [],
   "source": [
    "from collections import OrderedDict\n",
    "\n",
    "def custom_sort(data, by_values=False):\n",
    "    if by_values:\n",
    "        for key in sorted(data, key=lambda k: data[k]):\n",
    "            data.move_to_end(key)\n",
    "    else:\n",
    "        for key in sorted(data):\n",
    "            data.move_to_end(key)"
   ],
   "metadata": {
    "collapsed": false
   },
   "id": "fc05b1ac396aad9a"
  }
 ],
 "metadata": {
  "kernelspec": {
   "display_name": "Python 3",
   "language": "python",
   "name": "python3"
  },
  "language_info": {
   "codemirror_mode": {
    "name": "ipython",
    "version": 2
   },
   "file_extension": ".py",
   "mimetype": "text/x-python",
   "name": "python",
   "nbconvert_exporter": "python",
   "pygments_lexer": "ipython2",
   "version": "2.7.6"
  }
 },
 "nbformat": 4,
 "nbformat_minor": 5
}

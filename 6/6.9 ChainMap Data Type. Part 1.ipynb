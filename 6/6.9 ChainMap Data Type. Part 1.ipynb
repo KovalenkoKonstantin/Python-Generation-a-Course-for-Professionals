{
 "cells": [
  {
   "cell_type": "markdown",
   "source": [
    "Тема урока: тип данных ChainMap\n",
    "Модуль collections\n",
    "Тип данных ChainMap\n",
    "Аннотация. Урок посвящен типу данных ChainMap."
   ],
   "metadata": {
    "collapsed": false
   },
   "id": "4f399ae5cad78ede"
  },
  {
   "cell_type": "markdown",
   "source": [
    "Тип данных ChainMap"
   ],
   "metadata": {
    "collapsed": false
   },
   "id": "21955fc4776fc730"
  },
  {
   "cell_type": "markdown",
   "source": [
    "В Python 3.3 в модуль collections добавили новый тип данных ChainMap, который представляет из себя объединение нескольких словарей. Этот объект группирует несколько словарей вместе, что позволяет рассматривать их как единое целое."
   ],
   "metadata": {
    "collapsed": false
   },
   "id": "8d1dfd1904807767"
  },
  {
   "cell_type": "markdown",
   "source": [
    "Создание ChainMap объекта"
   ],
   "metadata": {
    "collapsed": false
   },
   "id": "a04dbf832d874782"
  },
  {
   "cell_type": "markdown",
   "source": [
    "Объекты типа ChainMap обычно создаются на основе словарей."
   ],
   "metadata": {
    "collapsed": false
   },
   "id": "bef1f14ef711ccf5"
  },
  {
   "cell_type": "code",
   "execution_count": 1,
   "outputs": [
    {
     "name": "stdout",
     "output_type": "stream",
     "text": [
      "ChainMap({})\n",
      "ChainMap({'one': 1, 'two': 2}, {'a': 'A', 'b': 'B'})\n"
     ]
    }
   ],
   "source": [
    "from collections import ChainMap\n",
    "\n",
    "empty_chain_map = ChainMap()                      # создаем пустой ChainMap объект\n",
    "print(empty_chain_map)\n",
    "\n",
    "numbers = {'one': 1, 'two': 2}\n",
    "letters = {'a': 'A', 'b': 'B'}\n",
    "\n",
    "chain_map = ChainMap(numbers, letters)            # создаем ChainMap объект на основе словарей numbers и letters\n",
    "print(chain_map)"
   ],
   "metadata": {
    "collapsed": false,
    "ExecuteTime": {
     "end_time": "2024-11-22T12:27:46.992705600Z",
     "start_time": "2024-11-22T12:27:46.988571900Z"
    }
   },
   "id": "44e41d531da82248"
  },
  {
   "cell_type": "markdown",
   "source": [
    "Мы также можем создавать объекты типа ChainMap, используя метод fromkeys()"
   ],
   "metadata": {
    "collapsed": false
   },
   "id": "366da9839bd5124a"
  },
  {
   "cell_type": "code",
   "execution_count": 2,
   "outputs": [
    {
     "name": "stdout",
     "output_type": "stream",
     "text": [
      "ChainMap({'one': None, 'two': None, 'three': None})\n",
      "ChainMap({'one': -1, 'two': -1, 'three': -1})\n"
     ]
    }
   ],
   "source": [
    "from collections import ChainMap\n",
    "\n",
    "chain_map1 = ChainMap.fromkeys(['one', 'two', 'three'])\n",
    "chain_map2 = ChainMap.fromkeys(['one', 'two', 'three'], -1)\n",
    "\n",
    "print(chain_map1)\n",
    "print(chain_map2)"
   ],
   "metadata": {
    "collapsed": false,
    "ExecuteTime": {
     "end_time": "2024-11-22T12:28:35.224292400Z",
     "start_time": "2024-11-22T12:28:35.219261300Z"
    }
   },
   "id": "1d102bb9eaed0f2a"
  },
  {
   "cell_type": "markdown",
   "source": [
    "Доступ к элементам ChainMap объекта"
   ],
   "metadata": {
    "collapsed": false
   },
   "id": "2a661876b5c5de81"
  },
  {
   "cell_type": "markdown",
   "source": [
    "Для получения значений по ключу в ChainMap объектах используется такой же механизм, как и в обычных словарях (тип dict). Либо мы используем квадратные скобки, либо метод get()."
   ],
   "metadata": {
    "collapsed": false
   },
   "id": "7ee04f95aecf79be"
  },
  {
   "cell_type": "code",
   "execution_count": 4,
   "outputs": [
    {
     "name": "stdout",
     "output_type": "stream",
     "text": [
      "ChainMap({'one': 1, 'two': 2}, {'a': 'A', 'b': 'B'})\n",
      "1\n",
      "B\n",
      "A\n",
      "None\n",
      "False\n"
     ]
    }
   ],
   "source": [
    "from collections import ChainMap\n",
    "\n",
    "numbers = {'one': 1, 'two': 2}\n",
    "letters = {'a': 'A', 'b': 'B'}\n",
    "\n",
    "alpha_num = ChainMap(numbers, letters)\n",
    "print(alpha_num)\n",
    "\n",
    "print(alpha_num['one'])\n",
    "print(alpha_num['b'])\n",
    "print(alpha_num.get('a'))\n",
    "print(alpha_num.get('c'))\n",
    "print(alpha_num.get('d', False))"
   ],
   "metadata": {
    "collapsed": false,
    "ExecuteTime": {
     "end_time": "2024-11-22T12:30:05.161825800Z",
     "start_time": "2024-11-22T12:30:05.153383900Z"
    }
   },
   "id": "f90b1cacb85da02e"
  },
  {
   "cell_type": "markdown",
   "source": [
    "Рассмотрим ChainMap объект, в котором есть повторяющиеся ключи в объединяемых словарях."
   ],
   "metadata": {
    "collapsed": false
   },
   "id": "59b844957750cbd"
  },
  {
   "cell_type": "code",
   "execution_count": 6,
   "outputs": [
    {
     "name": "stdout",
     "output_type": "stream",
     "text": [
      "ChainMap({'dogs': 15, 'cats': 8, 'pythons': 9}, {'dogs': 7, 'cats': 2, 'tigers': 3})\n",
      "15\n",
      "8\n",
      "9\n",
      "3\n"
     ]
    }
   ],
   "source": [
    "from collections import ChainMap\n",
    "\n",
    "for_adoption = {'dogs': 15, 'cats': 8, 'pythons': 9}\n",
    "vet_treatment = {'dogs': 7, 'cats': 2, 'tigers': 3}\n",
    "\n",
    "pets = ChainMap(for_adoption, vet_treatment)\n",
    "print(pets)\n",
    "\n",
    "print(pets['dogs'])\n",
    "print(pets['cats'])\n",
    "\n",
    "print(pets['pythons'])\n",
    "print(pets['tigers'])"
   ],
   "metadata": {
    "collapsed": false,
    "ExecuteTime": {
     "end_time": "2024-11-22T12:30:59.111410300Z",
     "start_time": "2024-11-22T12:30:59.104048800Z"
    }
   },
   "id": "e8a30ac8ac237995"
  },
  {
   "cell_type": "markdown",
   "source": [
    "Как мы видим, в ситуации, когда у объединяемых словарей есть повторяющиеся ключи, мы получаем только значение из первого словаря, в котором встречается этот ключ. Таким образом, поиск по ChainMap объекту всегда осуществляется в том же порядке, в котором словари были указаны при создании ChainMap объекта, при этом поиск останавливается, как только значение по нужному ключу найдено."
   ],
   "metadata": {
    "collapsed": false
   },
   "id": "d6b5c9464349033f"
  },
  {
   "cell_type": "markdown",
   "source": [
    "Итерирование по ChainMap объекту"
   ],
   "metadata": {
    "collapsed": false
   },
   "id": "6118c6c93b393e98"
  },
  {
   "cell_type": "markdown",
   "source": [
    "Итерирование по ChainMap объекту происходит в обратном порядке от последнего указанного словаря к первому."
   ],
   "metadata": {
    "collapsed": false
   },
   "id": "6d50f9891147b0f2"
  },
  {
   "cell_type": "code",
   "execution_count": 8,
   "outputs": [
    {
     "name": "stdout",
     "output_type": "stream",
     "text": [
      "ChainMap({'one': 1, 'two': 2}, {'a': 'A', 'b': 'B'})\n",
      "a -> A\n",
      "b -> B\n",
      "one -> 1\n",
      "two -> 2\n"
     ]
    }
   ],
   "source": [
    "from collections import ChainMap\n",
    "\n",
    "numbers = {'one': 1, 'two': 2}\n",
    "letters = {'a': 'A', 'b': 'B'}\n",
    "\n",
    "alpha_num = ChainMap(numbers, letters)\n",
    "print(alpha_num)\n",
    "\n",
    "for key in alpha_num:\n",
    "    print(key, '->', alpha_num[key])"
   ],
   "metadata": {
    "collapsed": false,
    "ExecuteTime": {
     "end_time": "2024-11-22T12:32:01.032989100Z",
     "start_time": "2024-11-22T12:32:01.024969200Z"
    }
   },
   "id": "8c66656eccff843e"
  },
  {
   "cell_type": "markdown",
   "source": [
    "При этом если в ChainMap объекте есть повторяющиеся ключи в объединяемых словарях, то мы будем получать первое из значений."
   ],
   "metadata": {
    "collapsed": false
   },
   "id": "29f115d958415158"
  },
  {
   "cell_type": "code",
   "execution_count": 10,
   "outputs": [
    {
     "name": "stdout",
     "output_type": "stream",
     "text": [
      "ChainMap({'dogs': 15, 'cats': 8, 'pythons': 9}, {'dogs': 7, 'cats': 2, 'tigers': 3})\n",
      "dogs -> 15\n",
      "cats -> 8\n",
      "tigers -> 3\n",
      "pythons -> 9\n"
     ]
    }
   ],
   "source": [
    "from collections import ChainMap\n",
    "\n",
    "for_adoption = {'dogs': 15, 'cats': 8, 'pythons': 9}\n",
    "vet_treatment = {'dogs': 7, 'cats': 2, 'tigers': 3}\n",
    "\n",
    "pets = ChainMap(for_adoption, vet_treatment)\n",
    "print(pets)\n",
    "\n",
    "for key in pets:\n",
    "    print(key, '->', pets[key])"
   ],
   "metadata": {
    "collapsed": false,
    "ExecuteTime": {
     "end_time": "2024-11-22T12:37:44.174391100Z",
     "start_time": "2024-11-22T12:37:44.167097600Z"
    }
   },
   "id": "fe65dd4584e20a36"
  },
  {
   "cell_type": "markdown",
   "source": [
    "При итерировании по ChainMap объекту мы можем использовать методы keys(), values(), items()."
   ],
   "metadata": {
    "collapsed": false
   },
   "id": "52c6cb2c8d5e8b46"
  },
  {
   "cell_type": "code",
   "execution_count": 11,
   "outputs": [
    {
     "name": "stdout",
     "output_type": "stream",
     "text": [
      "dogs -> 15\n",
      "cats -> 8\n",
      "tigers -> 3\n",
      "pythons -> 9\n",
      "\n",
      "15\n",
      "8\n",
      "3\n",
      "9\n",
      "\n",
      "dogs -> 15\n",
      "cats -> 8\n",
      "tigers -> 3\n",
      "pythons -> 9\n"
     ]
    }
   ],
   "source": [
    "from collections import ChainMap\n",
    "\n",
    "for_adoption = {'dogs': 15, 'cats': 8, 'pythons': 9}\n",
    "vet_treatment = {'dogs': 7, 'cats': 2, 'tigers': 3}\n",
    "\n",
    "pets = ChainMap(for_adoption, vet_treatment)\n",
    "\n",
    "for key in pets.keys():\n",
    "    print(key, '->', pets[key])\n",
    "\n",
    "print()\n",
    "\n",
    "for value in pets.values():\n",
    "    print(value)\n",
    "\n",
    "print()\n",
    "\n",
    "for key, value in pets.items():\n",
    "    print(key, '->', value)"
   ],
   "metadata": {
    "collapsed": false,
    "ExecuteTime": {
     "end_time": "2024-11-22T12:38:31.086719400Z",
     "start_time": "2024-11-22T12:38:31.080799400Z"
    }
   },
   "id": "48841ab91c6eabf0"
  },
  {
   "cell_type": "markdown",
   "source": [
    "Изменение данных в ChainMap объекте"
   ],
   "metadata": {
    "collapsed": false
   },
   "id": "18b37a9bd107dfff"
  },
  {
   "cell_type": "markdown",
   "source": [
    "Для изменения объектов типа ChainMap мы можем использовать те же способы, что и для изменения обычного словаря (тип dict). Мы можем обновлять, добавлять, удалять и извлекать элементы из ChainMap объекта. При этом нужно знать, что все эти операции действуют только на первый из объединяемых словарей."
   ],
   "metadata": {
    "collapsed": false
   },
   "id": "feda5d624e453cf9"
  },
  {
   "cell_type": "code",
   "execution_count": 12,
   "outputs": [
    {
     "name": "stdout",
     "output_type": "stream",
     "text": [
      "ChainMap({'one': 1, 'two': 2}, {'a': 'A', 'b': 'B'})\n",
      "ChainMap({'one': 1, 'two': 2, 'c': 'C'}, {'a': 'A', 'b': 'B'})\n",
      "ChainMap({'one': 1, 'two': 2, 'c': 'C', 'b': 'b'}, {'a': 'A', 'b': 'B'})\n",
      "ChainMap({'one': 1, 'c': 'C', 'b': 'b'}, {'a': 'A', 'b': 'B'})\n",
      "ChainMap({'one': 1, 'b': 'b'}, {'a': 'A', 'b': 'B'})\n",
      "ChainMap({}, {'a': 'A', 'b': 'B'})\n"
     ]
    }
   ],
   "source": [
    "from collections import ChainMap\n",
    "\n",
    "numbers = {'one': 1, 'two': 2}\n",
    "letters = {'a': 'A', 'b': 'B'}\n",
    "\n",
    "alpha_num = ChainMap(numbers, letters)\n",
    "print(alpha_num)\n",
    "\n",
    "alpha_num['c'] = 'C'\n",
    "print(alpha_num)\n",
    "\n",
    "alpha_num['b'] = 'b'\n",
    "print(alpha_num)\n",
    "\n",
    "alpha_num.pop('two')\n",
    "print(alpha_num)\n",
    "\n",
    "del alpha_num['c']\n",
    "print(alpha_num)\n",
    "\n",
    "alpha_num.clear()\n",
    "print(alpha_num)"
   ],
   "metadata": {
    "collapsed": false,
    "ExecuteTime": {
     "end_time": "2024-11-22T12:39:44.688283600Z",
     "start_time": "2024-11-22T12:39:44.681296100Z"
    }
   },
   "id": "5ad614e17c4b3540"
  },
  {
   "cell_type": "markdown",
   "source": [
    "При попытке удаления значения по ключу, которого нет в первом словаре, возникает ошибка KeyError, даже если указанный ключ есть в одном из объединяемых словарей, кроме первого."
   ],
   "metadata": {
    "collapsed": false
   },
   "id": "dba792275cb99f66"
  },
  {
   "cell_type": "code",
   "execution_count": 13,
   "outputs": [
    {
     "name": "stdout",
     "output_type": "stream",
     "text": [
      "ChainMap({}, {'one': 1, 'two': 2}, {'a': 'A', 'b': 'B'})\n",
      "ChainMap({'colon': ':', 'comma': ',', 'period': '.'}, {'one': 1, 'two': 2}, {'a': 'A', 'b': 'B'})\n"
     ]
    }
   ],
   "source": [
    "from collections import ChainMap\n",
    "\n",
    "numbers = {'one': 1, 'two': 2}\n",
    "letters = {'a': 'A', 'b': 'B'}\n",
    "\n",
    "alpha_num = ChainMap({}, numbers, letters)\n",
    "print(alpha_num)\n",
    "\n",
    "alpha_num['colon'] = ':'\n",
    "alpha_num['comma'] = ','\n",
    "alpha_num['period'] = '.'\n",
    "print(alpha_num)"
   ],
   "metadata": {
    "collapsed": false,
    "ExecuteTime": {
     "end_time": "2024-11-22T12:41:24.672090600Z",
     "start_time": "2024-11-22T12:41:24.662882200Z"
    }
   },
   "id": "f240be0d46ef61b7"
  },
  {
   "cell_type": "markdown",
   "source": [
    "Таким образом, указывая в качестве первого аргумента для ChainMap пустой словарь, мы получаем поведение, при котором все изменения ChainMap объекта не затрагивают объединяемые (исходные) словари."
   ],
   "metadata": {
    "collapsed": false
   },
   "id": "597534776c6d9d3f"
  },
  {
   "cell_type": "markdown",
   "source": [
    "Примечания"
   ],
   "metadata": {
    "collapsed": false
   },
   "id": "485f84dfc628a1e4"
  },
  {
   "cell_type": "markdown",
   "source": [
    "Примечание 1. В качестве альтернативы объединению нескольких словарей с помощью ChainMap мы можем объединять их с помощью словарного метода update()"
   ],
   "metadata": {
    "collapsed": false
   },
   "id": "b3750435bdfd5746"
  },
  {
   "cell_type": "code",
   "execution_count": 14,
   "outputs": [],
   "source": [
    "from collections import ChainMap\n",
    "\n",
    "for_adoption = {'dogs': 15, 'cats': 8, 'pythons': 9}\n",
    "vet_treatment = {'hamsters': 2, 'tigers': 3}\n",
    "\n",
    "pets = ChainMap(for_adoption, vet_treatment)"
   ],
   "metadata": {
    "collapsed": false,
    "ExecuteTime": {
     "end_time": "2024-11-22T12:42:30.910806Z",
     "start_time": "2024-11-22T12:42:30.909209800Z"
    }
   },
   "id": "537b476dfa176ab5"
  },
  {
   "cell_type": "code",
   "execution_count": 15,
   "outputs": [],
   "source": [
    "for_adoption = {'dogs': 15, 'cats': 8, 'pythons': 9}\n",
    "vet_treatment = {'hamsters': 2, 'tigers': 3}\n",
    "\n",
    "pets = {}\n",
    "pets.update(for_adoption)\n",
    "pets.update(vet_treatment)"
   ],
   "metadata": {
    "collapsed": false,
    "ExecuteTime": {
     "end_time": "2024-11-22T12:43:01.994569600Z",
     "start_time": "2024-11-22T12:43:01.992935900Z"
    }
   },
   "id": "fbc5ce53d7769a6"
  },
  {
   "cell_type": "markdown",
   "source": [
    "В приведенном конкретно выше примере поиск по результирующему объекту pets будет работать одинаково. Объединение словарей с помощью метода update() имеет существенный недостаток по сравнению с объединением их с помощью ChainMap. Недостаток заключается в том, что мы теряем возможность управлять доступом к повторяющимся ключам. При использовании метода update() новые значения перезаписывают старые."
   ],
   "metadata": {
    "collapsed": false
   },
   "id": "f91c57475e4d3e2f"
  },
  {
   "cell_type": "code",
   "execution_count": 16,
   "outputs": [
    {
     "name": "stdout",
     "output_type": "stream",
     "text": [
      "{'dogs': 7, 'cats': 2, 'pythons': 9, 'tigers': 3}\n"
     ]
    }
   ],
   "source": [
    "for_adoption = {'dogs': 15, 'cats': 8, 'pythons': 9}\n",
    "vet_treatment = {'dogs': 7, 'cats': 2, 'tigers': 3}\n",
    "\n",
    "pets = {}\n",
    "pets.update(for_adoption)\n",
    "pets.update(vet_treatment)\n",
    "\n",
    "print(pets)"
   ],
   "metadata": {
    "collapsed": false,
    "ExecuteTime": {
     "end_time": "2024-11-22T12:43:41.422779800Z",
     "start_time": "2024-11-22T12:43:41.419254400Z"
    }
   },
   "id": "12e742bb8847c08"
  },
  {
   "cell_type": "markdown",
   "source": [
    "Примечание 2. Нам ничего не мешает использовать любой из ранее изученных словарей: defaultdict, OrderedDict, Counter."
   ],
   "metadata": {
    "collapsed": false
   },
   "id": "3d1f2e49ce2207a6"
  },
  {
   "cell_type": "code",
   "execution_count": 17,
   "outputs": [
    {
     "name": "stdout",
     "output_type": "stream",
     "text": [
      "ChainMap(OrderedDict({'one': 1, 'two': 2}), defaultdict(<class 'str'>, {'a': 'A', 'b': 'B'}), Counter({'c': 4, 'b': 3, 'a': 2}))\n"
     ]
    }
   ],
   "source": [
    "from collections import defaultdict, OrderedDict, Counter, ChainMap\n",
    "\n",
    "numbers = OrderedDict(one=1, two=2)\n",
    "letters = defaultdict(str, {'a': 'A', 'b': 'B'})\n",
    "counter = Counter('aabbbcccc')\n",
    "\n",
    "chain_map = ChainMap(numbers, letters, counter)\n",
    "\n",
    "print(chain_map)"
   ],
   "metadata": {
    "collapsed": false,
    "ExecuteTime": {
     "end_time": "2024-11-22T12:44:33.318989Z",
     "start_time": "2024-11-22T12:44:33.316820400Z"
    }
   },
   "id": "e2016c9cc7f9be0d"
  },
  {
   "cell_type": "markdown",
   "source": [
    "При этом нужно понимать, что поиск по ChainMap объекту будет учитывать особенность поиска по соответствующим словарям. Для defaultdict, в случае если ключ отсутствует, мы будем получать значение по умолчанию, для Counter – нулевое значение."
   ],
   "metadata": {
    "collapsed": false
   },
   "id": "9d1914e499a9490c"
  },
  {
   "cell_type": "markdown",
   "source": [
    "Примечание 3. Встроенная функция len() возвращает количество уникальных ключей ChainMap объекта."
   ],
   "metadata": {
    "collapsed": false
   },
   "id": "7049b6a494b27c6b"
  },
  {
   "cell_type": "code",
   "execution_count": 18,
   "outputs": [
    {
     "name": "stdout",
     "output_type": "stream",
     "text": [
      "4\n"
     ]
    }
   ],
   "source": [
    "from collections import ChainMap\n",
    "\n",
    "for_adoption = {'dogs': 15, 'cats': 8, 'pythons': 9}\n",
    "vet_treatment = {'dogs': 7, 'cats': 2, 'tigers': 3}\n",
    "\n",
    "pets = ChainMap(for_adoption, vet_treatment)\n",
    "\n",
    "print(len(pets))"
   ],
   "metadata": {
    "collapsed": false,
    "ExecuteTime": {
     "end_time": "2024-11-22T12:45:15.337093900Z",
     "start_time": "2024-11-22T12:45:15.334044600Z"
    }
   },
   "id": "85d1fb1eb158ab73"
  },
  {
   "cell_type": "markdown",
   "source": [
    "Примечание 4. Изменение содержания любого словаря, на основании которого создан ChainMap, изменяет и сам ChainMap объект."
   ],
   "metadata": {
    "collapsed": false
   },
   "id": "5f71db55fdeacfb2"
  },
  {
   "cell_type": "code",
   "execution_count": 19,
   "outputs": [
    {
     "name": "stdout",
     "output_type": "stream",
     "text": [
      "ChainMap({'dogs': 15, 'cats': 8, 'pythons': 9}, {'dogs': 7, 'cats': 2, 'tigers': 3})\n",
      "ChainMap({'dogs': 10000, 'cats': 8, 'pythons': 9, 'lions': 9}, {'dogs': 7, 'cats': 2, 'tigers': 3})\n"
     ]
    }
   ],
   "source": [
    "from collections import ChainMap\n",
    "\n",
    "for_adoption = {'dogs': 15, 'cats': 8, 'pythons': 9}\n",
    "vet_treatment = {'dogs': 7, 'cats': 2, 'tigers': 3}\n",
    "\n",
    "pets = ChainMap(for_adoption, vet_treatment)\n",
    "print(pets)\n",
    "\n",
    "for_adoption['dogs'] = 10000\n",
    "for_adoption['lions'] = 9\n",
    "\n",
    "print(pets)"
   ],
   "metadata": {
    "collapsed": false,
    "ExecuteTime": {
     "end_time": "2024-11-22T12:45:46.534346800Z",
     "start_time": "2024-11-22T12:45:46.532733700Z"
    }
   },
   "id": "83f1a3a485c56c89"
  },
  {
   "cell_type": "markdown",
   "source": [
    "Аналогично, изменение ChainMap объекта приводит к изменению словаря, на основании которого он создан."
   ],
   "metadata": {
    "collapsed": false
   },
   "id": "982bbf3d14241a7f"
  },
  {
   "cell_type": "markdown",
   "source": [
    "Примечание 5. Обратите внимание на то, что ChainMap может обновлять (изменять, вставлять и удалять) значения ключей только в первом словаре, в то время как поиск ключей осуществляется по всем словарям в списке."
   ],
   "metadata": {
    "collapsed": false
   },
   "id": "996ae9fcc413eeba"
  },
  {
   "cell_type": "markdown",
   "source": [
    "Зоопарк\n",
    "Вам доступен файл zoo.json, содержащий список JSON-объектов с данными об обитателях некоторого зоопарка. Ключом в каждом объекте является название животного, значением — их количество в зоопарке:\n",
    "\n",
    "[\n",
    "   {\n",
    "      \"Axolotl\": 11,\n",
    "      \"Poison Frog\": 12,\n",
    "      \"Sonoran Toad\": 6,\n",
    "      \"Tiger Salamander\": 16\n",
    "   },\n",
    "   {\n",
    "      \"African Fish Eagle\": 6,\n",
    "      \"Andean Condor\": 8,\n",
    "      \"Black Vulture\": 8,\n",
    "      \"Bufflehead Duck\": 9,\n",
    "      \"Flamingo\": 8,\n",
    "      \"Great Horned Owl\": 16,\n",
    "      \"Hornbill\": 1\n",
    "   },\n",
    "   ...\n",
    "]\n",
    "Напишите программу, которая определяет, сколько всего животных обитает в зоопарке, и выводит полученный результат.\n",
    "\n",
    "Примечание 1. Гарантируется, что все ключи в JSON-объектах, различны."
   ],
   "metadata": {
    "collapsed": false
   },
   "id": "902e7fbad8ec0798"
  },
  {
   "cell_type": "code",
   "execution_count": 49,
   "outputs": [
    {
     "name": "stdout",
     "output_type": "stream",
     "text": [
      "443\n"
     ]
    }
   ],
   "source": [
    "import json\n",
    "from collections import ChainMap\n",
    "\n",
    "with open('zoo.json') as file:\n",
    "    data = json.load(file)\n",
    "    # print(data)\n",
    "    # print()\n",
    "    zoo = ChainMap()\n",
    "    for i in data:\n",
    "        zoo = zoo.new_child(i)\n",
    "    print(sum(zoo.values()))"
   ],
   "metadata": {
    "collapsed": false,
    "ExecuteTime": {
     "end_time": "2024-11-25T08:29:11.278682500Z",
     "start_time": "2024-11-25T08:29:11.275463400Z"
    }
   },
   "id": "30a4ab7fb6ad85b5"
  },
  {
   "cell_type": "markdown",
   "source": [
    "Булочный магнат\n",
    "После ухода сети Макдоналдс из России Тимур решил открыть свою небольшую бургерную. Цена каждого бургера в его ресторане определяется количеством ингредиентов, которые выбирает сам посетитель. Вам доступны словари, в которых в качестве ключа указано название ингредиента, а в качестве значения — его цена. Все ингредиенты разбиты по категориям, например, овощи содержатся в одном словаре, соусы — в другом.\n",
    "\n",
    "Напишите программу, которая принимает на вход ингредиенты, выбранные посетителем, и определяет их общую стоимость.\n",
    "\n",
    "Формат входных данных\n",
    "На вход программе подается последовательность ингредиентов, разделенных запятой без пробелов.\n",
    "\n",
    "Формат выходных данных\n",
    "Программа должна определить общую стоимость введенных ингредиентов и вывести полученный результат в виде чека, в котором указаны ингредиенты в лексикографическом порядке, количество каждых и их общая стоимость, в следующем формате:\n",
    "\n",
    "<ингредиент 1> x <количество 1>\n",
    "<ингредиент 2> x <количество 2>\n",
    "...\n",
    "-------------------------------\n",
    "ИТОГ: <общая стоимость>р\n",
    "Примечание 1. Программа должна добавлять нужное количество пробелов, если один ингредиент имеет меньшую длину, чем другие.\n",
    "\n",
    "Примечание 2. Длина пунктирной линии должна равняться длине самой длинной строки в чеке, включая строку с итоговой стоимостью.\n",
    "\n",
    "Примечание 3. Гарантируется, что все ингредиенты, выбранные посетителем, присутствуют в словарях."
   ],
   "metadata": {
    "collapsed": false
   },
   "id": "3b10bc59141643d7"
  },
  {
   "cell_type": "code",
   "execution_count": 91,
   "outputs": [
    {
     "name": "stdout",
     "output_type": "stream",
     "text": [
      "сыр x 15\n",
      "----------\n",
      "ИТОГ: 375р\n"
     ]
    }
   ],
   "source": [
    "from collections import ChainMap\n",
    "from collections import Counter\n",
    "\n",
    "bread = {'булочка с кунжутом': 15, 'обычная булочка': 10, 'ржаная булочка': 15}\n",
    "meat = {'куриный бифштекс': 50, 'говяжий бифштекс': 70, 'рыбный бифштекс': 40}\n",
    "sauce = {'сливочно-чесночный': 15, 'кетчуп': 10, 'горчица': 10, 'барбекю': 15, 'чили': 15}\n",
    "vegetables = {'лук': 10, 'салат': 15, 'помидор': 15, 'огурцы': 10}\n",
    "toppings = {'сыр': 25, 'яйцо': 15, 'бекон': 30}\n",
    "\n",
    "string = Counter(sorted(input().split(',')))\n",
    "# string = Counter(sorted('ржаная булочка,ржаная булочка,говяжий бифштекс,сыр,сыр,салат,барбекю,помидор'.split(',')))\n",
    "# string = Counter(sorted('сыр,сыр,сыр,сыр,сыр,сыр,сыр,сыр,сыр,сыр,сыр,сыр,сыр,сыр,сыр'.split(',')))\n",
    "# print(string)\n",
    "\n",
    "component_max_len = max([len(i) for i in string])\n",
    "# print(component_max_len)\n",
    "order_max_len = max([len(str(i)) for i in string.values()])\n",
    "# print(order_max_len)\n",
    "\n",
    "store = ChainMap(bread, meat, sauce, vegetables, toppings)\n",
    "# print(store)\n",
    "\n",
    "new_dic = {}\n",
    "for item in string:\n",
    "    if item in store:\n",
    "        new_dic[item] = store[item]\n",
    "# print(new_dic)\n",
    "for key in new_dic:\n",
    "    current_len = len(key)\n",
    "    dif = component_max_len - current_len + 1\n",
    "    print(f'{key}{' '*dif}x {string[key]}')\n",
    "result = sum([i[1]*store[i[0]] for i in string.items()])\n",
    "# print(result)\n",
    "result_len = len(str(result)) + 7\n",
    "dash = max(component_max_len + 3 + order_max_len, result_len)\n",
    "print('-'*dash)\n",
    "print(f'ИТОГ: {result}р')"
   ],
   "metadata": {
    "collapsed": false,
    "ExecuteTime": {
     "end_time": "2024-11-25T09:49:00.610779100Z",
     "start_time": "2024-11-25T09:49:00.605341100Z"
    }
   },
   "id": "20a32a99bbebe7a9"
  }
 ],
 "metadata": {
  "kernelspec": {
   "display_name": "Python 3",
   "language": "python",
   "name": "python3"
  },
  "language_info": {
   "codemirror_mode": {
    "name": "ipython",
    "version": 2
   },
   "file_extension": ".py",
   "mimetype": "text/x-python",
   "name": "python",
   "nbconvert_exporter": "python",
   "pygments_lexer": "ipython2",
   "version": "2.7.6"
  }
 },
 "nbformat": 4,
 "nbformat_minor": 5
}

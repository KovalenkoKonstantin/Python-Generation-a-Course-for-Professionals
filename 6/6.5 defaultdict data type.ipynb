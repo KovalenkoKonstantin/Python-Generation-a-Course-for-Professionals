{
 "cells": [
  {
   "cell_type": "markdown",
   "source": [
    "Тема урока: тип данных defaultdict\n",
    "Модуль collections\n",
    "Тип данных defaultdict\n",
    "Аннотация. Урок посвящен типу данных defaultdict."
   ],
   "metadata": {
    "collapsed": false
   },
   "id": "3babb2de6cb978b3"
  },
  {
   "cell_type": "markdown",
   "source": [
    "Тип данных defaultdict"
   ],
   "metadata": {
    "collapsed": false
   },
   "id": "94ef51778a43c4f0"
  },
  {
   "cell_type": "markdown",
   "source": [
    "Основная проблема при работе с обычными словарями (тип dict) – это попытка получить доступ (или изменить значение) по несуществующему ключу. Это приводит к возникновению ошибки KeyError. Несмотря на то что мы научились решать данную проблему штатными способами, стандартная библиотека предоставляет тип данных defaultdict."
   ],
   "metadata": {
    "collapsed": false
   },
   "id": "d27690dbfebd8684"
  },
  {
   "cell_type": "markdown",
   "source": [
    "Тип defaultdict ведет себя почти так же, как обычный словарь dict, но если мы попытаемся получить доступ (или изменить значение) по несуществующему ключу, то defaultdict автоматически создаст ключ и сгенерирует для него значение по умолчанию. Такое поведение делает defaultdict удобным вариантом обработки недостающих ключей в словарях."
   ],
   "metadata": {
    "collapsed": false
   },
   "id": "b7f483c69891f8af"
  },
  {
   "cell_type": "markdown",
   "source": [
    "В приведенном ниже коде мы обращаемся к несуществующему ключу в словаре info:"
   ],
   "metadata": {
    "collapsed": false
   },
   "id": "f92ab7b3c107de98"
  },
  {
   "cell_type": "code",
   "execution_count": 1,
   "outputs": [
    {
     "ename": "KeyError",
     "evalue": "'salary'",
     "output_type": "error",
     "traceback": [
      "\u001B[1;31m---------------------------------------------------------------------------\u001B[0m",
      "\u001B[1;31mKeyError\u001B[0m                                  Traceback (most recent call last)",
      "Cell \u001B[1;32mIn[1], line 3\u001B[0m\n\u001B[0;32m      1\u001B[0m info \u001B[38;5;241m=\u001B[39m {\u001B[38;5;124m'\u001B[39m\u001B[38;5;124mname\u001B[39m\u001B[38;5;124m'\u001B[39m: \u001B[38;5;124m'\u001B[39m\u001B[38;5;124mTimur\u001B[39m\u001B[38;5;124m'\u001B[39m, \u001B[38;5;124m'\u001B[39m\u001B[38;5;124mage\u001B[39m\u001B[38;5;124m'\u001B[39m: \u001B[38;5;241m29\u001B[39m, \u001B[38;5;124m'\u001B[39m\u001B[38;5;124mjob\u001B[39m\u001B[38;5;124m'\u001B[39m: \u001B[38;5;124m'\u001B[39m\u001B[38;5;124mTeacher\u001B[39m\u001B[38;5;124m'\u001B[39m}\n\u001B[1;32m----> 3\u001B[0m \u001B[38;5;28mprint\u001B[39m(\u001B[43minfo\u001B[49m\u001B[43m[\u001B[49m\u001B[38;5;124;43m'\u001B[39;49m\u001B[38;5;124;43msalary\u001B[39;49m\u001B[38;5;124;43m'\u001B[39;49m\u001B[43m]\u001B[49m)\n",
      "\u001B[1;31mKeyError\u001B[0m: 'salary'"
     ]
    }
   ],
   "source": [
    "info = {'name': 'Timur', 'age': 29, 'job': 'Teacher'}\n",
    "\n",
    "print(info['salary'])"
   ],
   "metadata": {
    "collapsed": false,
    "ExecuteTime": {
     "end_time": "2024-11-11T13:14:53.267520100Z",
     "start_time": "2024-11-11T13:14:53.037687400Z"
    }
   },
   "id": "415833dd6b197a"
  },
  {
   "cell_type": "markdown",
   "source": [
    "Существует несколько способов с помощью которых можно избежать возникновения такой ошибки:\n",
    "\n",
    "метод setdefault()\n",
    "метод get()\n",
    "проверка наличия ключа с помощью оператора принадлежности (key in dict)"
   ],
   "metadata": {
    "collapsed": false
   },
   "id": "48a2752009bb1e5c"
  },
  {
   "cell_type": "markdown",
   "source": [
    "Следует отметить, что использование квадратных скобок (индексаторов) очень удобно и куда приятнее использования методов setdefault() и get()."
   ],
   "metadata": {
    "collapsed": false
   },
   "id": "f323147d2702a682"
  },
  {
   "cell_type": "markdown",
   "source": [
    "Для того чтобы не возникало ошибки при обращении по несуществующему ключу с помощью квадратных скобок, достаточно использовать альтернативный вариант словаря – defaultdict."
   ],
   "metadata": {
    "collapsed": false
   },
   "id": "bb7ea92032ee34b7"
  },
  {
   "cell_type": "code",
   "execution_count": 2,
   "outputs": [
    {
     "name": "stdout",
     "output_type": "stream",
     "text": [
      "0\n",
      "defaultdict(<class 'int'>, {'name': 'Timur', 'age': 29, 'job': 'Teacher', 'salary': 0})\n"
     ]
    }
   ],
   "source": [
    "from collections import defaultdict\n",
    "\n",
    "info = defaultdict(int)       # создаем словарь со значением по умолчанию 0\n",
    "\n",
    "info['name'] = 'Timur'\n",
    "info['age'] = 29\n",
    "info['job'] = 'Teacher'\n",
    "\n",
    "print(info['salary'])\n",
    "print(info)"
   ],
   "metadata": {
    "collapsed": false,
    "ExecuteTime": {
     "end_time": "2024-11-11T13:57:07.357139700Z",
     "start_time": "2024-11-11T13:57:07.352906200Z"
    }
   },
   "id": "8b45eec861dc95d6"
  },
  {
   "cell_type": "markdown",
   "source": [
    "Функция defaultdict() принимает в качестве аргумента тип элемента по умолчанию. Таким образом, для ключей, к которым происходит обращение, словарь defaultdict поставит в соответствие дефолтный элемент данного типа:\n",
    "\n",
    "для int – число 0\n",
    "для float – число 0.0\n",
    "для bool – значение False\n",
    "для str – пустая строка ''\n",
    "для list – пустой список []\n",
    "для tuple – пустой кортеж ()\n",
    "для set – пустое множество set()\n",
    "для dict – пустой словарь {}"
   ],
   "metadata": {
    "collapsed": false
   },
   "id": "26c692ef39e879a9"
  },
  {
   "cell_type": "markdown",
   "source": [
    "Помимо первого аргумента – типа элемента по умолчанию – мы можем передать второй аргумент: словарь, на основании которого будет создан defaultdict."
   ],
   "metadata": {
    "collapsed": false
   },
   "id": "8dee3a2c854d9a56"
  },
  {
   "cell_type": "code",
   "execution_count": 3,
   "outputs": [
    {
     "name": "stdout",
     "output_type": "stream",
     "text": [
      "Timur\n",
      "0\n",
      "defaultdict(<class 'int'>, {'name': 'Timur', 'age': 29, 'job': 'Teacher', 'salary': 0})\n"
     ]
    }
   ],
   "source": [
    "from collections import defaultdict\n",
    "\n",
    "info = defaultdict(int, {'name': 'Timur', 'age': 29, 'job': 'Teacher'})\n",
    "\n",
    "print(info['name'])\n",
    "print(info['salary'])\n",
    "print(info)"
   ],
   "metadata": {
    "collapsed": false,
    "ExecuteTime": {
     "end_time": "2024-11-11T13:58:23.637137200Z",
     "start_time": "2024-11-11T13:58:23.635453Z"
    }
   },
   "id": "23ac7d6c5bdb67b8"
  },
  {
   "cell_type": "markdown",
   "source": [
    "Также допустимы все способы, которые мы используем при создании обычных словарей, а именно передача именованных аргументов или итерируемого объекта, содержащего пары ключ-значение (например, список кортежей)."
   ],
   "metadata": {
    "collapsed": false
   },
   "id": "7372daf29d129504"
  },
  {
   "cell_type": "code",
   "execution_count": 4,
   "outputs": [
    {
     "name": "stdout",
     "output_type": "stream",
     "text": [
      "defaultdict(<class 'int'>, {'name': 'Timur', 'age': 29, 'job': 'Teacher'})\n",
      "defaultdict(<class 'int'>, {'name': 'Timur', 'age': 29, 'job': 'Teacher'})\n"
     ]
    }
   ],
   "source": [
    "from collections import defaultdict\n",
    "\n",
    "info1 = defaultdict(int, name='Timur', age=29, job='Teacher')\n",
    "info2 = defaultdict(int, [('name', 'Timur'), ('age', 29), ('job', 'Teacher')])\n",
    "\n",
    "print(info1)\n",
    "print(info2)"
   ],
   "metadata": {
    "collapsed": false,
    "ExecuteTime": {
     "end_time": "2024-11-12T09:28:40.242003600Z",
     "start_time": "2024-11-12T09:28:40.235478900Z"
    }
   },
   "id": "7bf8b788bf427379"
  },
  {
   "cell_type": "markdown",
   "source": [
    "Обратите внимание, что при создании словаря defaultdict мы можем указать только именованные аргументы, но не можем указать только итерируемый объект с парами ключ-значение (или словарь)."
   ],
   "metadata": {
    "collapsed": false
   },
   "id": "9f1f540b4b605d55"
  },
  {
   "cell_type": "code",
   "execution_count": 5,
   "outputs": [
    {
     "name": "stdout",
     "output_type": "stream",
     "text": [
      "defaultdict(None, {'name': 'Timur', 'age': 29, 'job': 'Teacher'})\n"
     ]
    }
   ],
   "source": [
    "from collections import defaultdict\n",
    "\n",
    "info = defaultdict(name='Timur', age=29, job='Teacher')\n",
    "\n",
    "print(info)"
   ],
   "metadata": {
    "collapsed": false,
    "ExecuteTime": {
     "end_time": "2024-11-12T09:30:05.454409400Z",
     "start_time": "2024-11-12T09:30:05.446737400Z"
    }
   },
   "id": "881564166aeddfe5"
  },
  {
   "cell_type": "code",
   "execution_count": 6,
   "outputs": [
    {
     "ename": "TypeError",
     "evalue": "first argument must be callable or None",
     "output_type": "error",
     "traceback": [
      "\u001B[1;31m---------------------------------------------------------------------------\u001B[0m",
      "\u001B[1;31mTypeError\u001B[0m                                 Traceback (most recent call last)",
      "Cell \u001B[1;32mIn[6], line 3\u001B[0m\n\u001B[0;32m      1\u001B[0m \u001B[38;5;28;01mfrom\u001B[39;00m \u001B[38;5;21;01mcollections\u001B[39;00m \u001B[38;5;28;01mimport\u001B[39;00m defaultdict\n\u001B[1;32m----> 3\u001B[0m info \u001B[38;5;241m=\u001B[39m \u001B[43mdefaultdict\u001B[49m\u001B[43m(\u001B[49m\u001B[43m[\u001B[49m\u001B[43m(\u001B[49m\u001B[38;5;124;43m'\u001B[39;49m\u001B[38;5;124;43mname\u001B[39;49m\u001B[38;5;124;43m'\u001B[39;49m\u001B[43m,\u001B[49m\u001B[43m \u001B[49m\u001B[38;5;124;43m'\u001B[39;49m\u001B[38;5;124;43mTimur\u001B[39;49m\u001B[38;5;124;43m'\u001B[39;49m\u001B[43m)\u001B[49m\u001B[43m,\u001B[49m\u001B[43m \u001B[49m\u001B[43m(\u001B[49m\u001B[38;5;124;43m'\u001B[39;49m\u001B[38;5;124;43mage\u001B[39;49m\u001B[38;5;124;43m'\u001B[39;49m\u001B[43m,\u001B[49m\u001B[43m \u001B[49m\u001B[38;5;241;43m29\u001B[39;49m\u001B[43m)\u001B[49m\u001B[43m,\u001B[49m\u001B[43m \u001B[49m\u001B[43m(\u001B[49m\u001B[38;5;124;43m'\u001B[39;49m\u001B[38;5;124;43mjob\u001B[39;49m\u001B[38;5;124;43m'\u001B[39;49m\u001B[43m,\u001B[49m\u001B[43m \u001B[49m\u001B[38;5;124;43m'\u001B[39;49m\u001B[38;5;124;43mTeacher\u001B[39;49m\u001B[38;5;124;43m'\u001B[39;49m\u001B[43m)\u001B[49m\u001B[43m]\u001B[49m\u001B[43m)\u001B[49m\n\u001B[0;32m      5\u001B[0m \u001B[38;5;28mprint\u001B[39m(info)\n",
      "\u001B[1;31mTypeError\u001B[0m: first argument must be callable or None"
     ]
    }
   ],
   "source": [
    "from collections import defaultdict\n",
    "\n",
    "info = defaultdict([('name', 'Timur'), ('age', 29), ('job', 'Teacher')])\n",
    "\n",
    "print(info)"
   ],
   "metadata": {
    "collapsed": false,
    "ExecuteTime": {
     "end_time": "2024-11-12T09:31:06.232129Z",
     "start_time": "2024-11-12T09:31:06.206858800Z"
    }
   },
   "id": "7573f2f89e34735d"
  },
  {
   "cell_type": "markdown",
   "source": [
    "приводит к возникновению ошибки, так как в качестве первого аргумента должен быть указан тип элемента по умолчанию, а не итерируемый объект с парами ключ-значение (или словарь)."
   ],
   "metadata": {
    "collapsed": false
   },
   "id": "25bf6943d616f4cf"
  },
  {
   "cell_type": "markdown",
   "source": [
    "Рассмотрим задачу: пусть задан список чисел numbers, в котором некоторые числа встречаются несколько раз. Нужно узнать, сколько именно раз встречается каждое из чисел."
   ],
   "metadata": {
    "collapsed": false
   },
   "id": "ba5d9f509a31796a"
  },
  {
   "cell_type": "markdown",
   "source": [
    "Решение 1. С помощью метода setdefault():"
   ],
   "metadata": {
    "collapsed": false
   },
   "id": "c6c5660341f3ce45"
  },
  {
   "cell_type": "code",
   "execution_count": 9,
   "outputs": [
    {
     "name": "stdout",
     "output_type": "stream",
     "text": [
      "{9: 1, 8: 1, 32: 2, 1: 5, 10: 4, 23: 3, 4: 2, 2: 6}\n"
     ]
    }
   ],
   "source": [
    "numbers = [9, 8, 32, 1, 10, 1, 10, 23, 1, 4, 10, 4, 2, 2, 2, 2, 1, 10, 1, 2, 2, 32, 23, 23]\n",
    "\n",
    "result = {}\n",
    "for num in numbers:\n",
    "    value = result.setdefault(num, 0)\n",
    "    result[num] = value + 1\n",
    "print(result)"
   ],
   "metadata": {
    "collapsed": false,
    "ExecuteTime": {
     "end_time": "2024-11-12T09:33:43.973150200Z",
     "start_time": "2024-11-12T09:33:43.964629100Z"
    }
   },
   "id": "c94f496118919b49"
  },
  {
   "cell_type": "markdown",
   "source": [
    "Решение 2. С помощью метода get():"
   ],
   "metadata": {
    "collapsed": false
   },
   "id": "b295ba1299a3a434"
  },
  {
   "cell_type": "code",
   "execution_count": 10,
   "outputs": [
    {
     "name": "stdout",
     "output_type": "stream",
     "text": [
      "{9: 1, 8: 1, 32: 2, 1: 5, 10: 4, 23: 3, 4: 2, 2: 6}\n"
     ]
    }
   ],
   "source": [
    "numbers = [9, 8, 32, 1, 10, 1, 10, 23, 1, 4, 10, 4, 2, 2, 2, 2, 1, 10, 1, 2, 2, 32, 23, 23]\n",
    "\n",
    "result = {}\n",
    "for num in numbers:\n",
    "    result[num] = result.get(num, 0) + 1\n",
    "print(result)"
   ],
   "metadata": {
    "collapsed": false,
    "ExecuteTime": {
     "end_time": "2024-11-12T09:33:51.295331500Z",
     "start_time": "2024-11-12T09:33:51.293819300Z"
    }
   },
   "id": "71d4572b4c2e7c4f"
  },
  {
   "cell_type": "markdown",
   "source": [
    "Решение 3. С помощью оператора принадлежности in:"
   ],
   "metadata": {
    "collapsed": false
   },
   "id": "247b81ca2883417e"
  },
  {
   "cell_type": "code",
   "execution_count": 12,
   "outputs": [
    {
     "name": "stdout",
     "output_type": "stream",
     "text": [
      "{9: 1, 8: 1, 32: 2, 1: 5, 10: 4, 23: 3, 4: 2, 2: 6}\n"
     ]
    }
   ],
   "source": [
    "numbers = [9, 8, 32, 1, 10, 1, 10, 23, 1, 4, 10, 4, 2, 2, 2, 2, 1, 10, 1, 2, 2, 32, 23, 23]\n",
    "\n",
    "result = {}\n",
    "for num in numbers:\n",
    "    if num not in result:\n",
    "        result[num] = 1\n",
    "    else:\n",
    "        result[num] += 1\n",
    "print(result)"
   ],
   "metadata": {
    "collapsed": false,
    "ExecuteTime": {
     "end_time": "2024-11-12T09:34:11.760690600Z",
     "start_time": "2024-11-12T09:34:11.756389900Z"
    }
   },
   "id": "49806a0a053b6f9"
  },
  {
   "cell_type": "markdown",
   "source": [
    "Решение 4. С помощью типа данных defaultdict:"
   ],
   "metadata": {
    "collapsed": false
   },
   "id": "e13cbdcc4e10a9a7"
  },
  {
   "cell_type": "code",
   "execution_count": 13,
   "outputs": [
    {
     "name": "stdout",
     "output_type": "stream",
     "text": [
      "defaultdict(<class 'int'>, {9: 1, 8: 1, 32: 2, 1: 5, 10: 4, 23: 3, 4: 2, 2: 6})\n"
     ]
    }
   ],
   "source": [
    "from collections import defaultdict\n",
    "\n",
    "numbers = [9, 8, 32, 1, 10, 1, 10, 23, 1, 4, 10, 4, 2, 2, 2, 2, 1, 10, 1, 2, 2, 32, 23, 23]\n",
    "result = defaultdict(int)\n",
    "\n",
    "for num in numbers:\n",
    "    result[num] += 1\n",
    "print(result)"
   ],
   "metadata": {
    "collapsed": false,
    "ExecuteTime": {
     "end_time": "2024-11-12T09:34:35.461809600Z",
     "start_time": "2024-11-12T09:34:35.458671600Z"
    }
   },
   "id": "96b8f920de99e6c2"
  },
  {
   "cell_type": "markdown",
   "source": [
    "Тип данных defaultdict часто используют в связке с пустым списком в качестве значения по умолчанию, чтобы начинать добавление элементов без лишнего кода."
   ],
   "metadata": {
    "collapsed": false
   },
   "id": "7d4cb15f8144097"
  },
  {
   "cell_type": "code",
   "execution_count": 15,
   "outputs": [
    {
     "name": "stdout",
     "output_type": "stream",
     "text": [
      "0 [0]\n",
      "1 [1]\n",
      "2 [2]\n",
      "3 [3]\n",
      "4 [4]\n",
      "5 [5]\n",
      "6 [6]\n",
      "defaultdict(<class 'list'>, {0: [0], 1: [1], 2: [2], 3: [3], 4: [4], 5: [5], 6: [6]})\n"
     ]
    }
   ],
   "source": [
    "from collections import defaultdict\n",
    "\n",
    "my_dict = defaultdict(list)\n",
    "\n",
    "for i in range(7):\n",
    "    my_dict[i].append(i)\n",
    "\n",
    "for key in my_dict:\n",
    "    print(key, my_dict[key])\n",
    "    \n",
    "print(my_dict)"
   ],
   "metadata": {
    "collapsed": false,
    "ExecuteTime": {
     "end_time": "2024-11-12T09:38:38.922833Z",
     "start_time": "2024-11-12T09:38:38.911689800Z"
    }
   },
   "id": "5812cc830556fa93"
  },
  {
   "cell_type": "markdown",
   "source": [
    "При использовании defaultdict нет необходимости ни проверять наличие соответствующих ключей в словаре, ни создавать предварительно пустые списки."
   ],
   "metadata": {
    "collapsed": false
   },
   "id": "edbec08820139ff2"
  },
  {
   "cell_type": "markdown",
   "source": [
    "Когда использовать defaultdict?"
   ],
   "metadata": {
    "collapsed": false
   },
   "id": "72e564c227d0724e"
  },
  {
   "cell_type": "markdown",
   "source": [
    "Приведем несколько рекомендаций, когда удобно использовать defaultdict, вместо dict:\n",
    "\n",
    "Если ваш код в значительной степени основан на словарях и вы все время имеете дело с отсутствующими ключами, вам следует подумать об использовании defaultdict, а не обычного dict\n",
    "Если элементы вашего словаря необходимо инициализировать некоторым значением по умолчанию, вам следует подумать об использовании defaultdict, вместо dict\n",
    "Если ваш код использует словари для агрегирования, накопления, подсчета или группировки значений, вам следует подумать об использовании defaultdict, вместо dict"
   ],
   "metadata": {
    "collapsed": false
   },
   "id": "21f47e1b2cdcdfc4"
  },
  {
   "cell_type": "markdown",
   "source": [
    "Примечания"
   ],
   "metadata": {
    "collapsed": false
   },
   "id": "56e8ced572e9e0b2"
  },
  {
   "cell_type": "markdown",
   "source": [
    "Примечание 1. Тип defaultdict наследуется от типа dict."
   ],
   "metadata": {
    "collapsed": false
   },
   "id": "9944fda5368ef82a"
  },
  {
   "cell_type": "code",
   "execution_count": 16,
   "outputs": [
    {
     "name": "stdout",
     "output_type": "stream",
     "text": [
      "True\n"
     ]
    }
   ],
   "source": [
    "from collections import defaultdict\n",
    "\n",
    "print(issubclass(defaultdict, dict))"
   ],
   "metadata": {
    "collapsed": false,
    "ExecuteTime": {
     "end_time": "2024-11-12T09:40:22.019406300Z",
     "start_time": "2024-11-12T09:40:22.016895100Z"
    }
   },
   "id": "70dc1df1b8919a66"
  },
  {
   "cell_type": "markdown",
   "source": [
    "Таким образом, все методы доступные для обычных словарей (тип dict), также доступны и для defaultdict словарей."
   ],
   "metadata": {
    "collapsed": false
   },
   "id": "a10161cc7b8603eb"
  },
  {
   "cell_type": "markdown",
   "source": [
    "Примечание 2. Мы можем сравнивать обычные словари (тип dict) и defaultdict словари."
   ],
   "metadata": {
    "collapsed": false
   },
   "id": "5e4c806c1512985e"
  },
  {
   "cell_type": "code",
   "execution_count": 17,
   "outputs": [
    {
     "name": "stdout",
     "output_type": "stream",
     "text": [
      "True\n"
     ]
    }
   ],
   "source": [
    "from collections import defaultdict\n",
    "\n",
    "info1 = {'name': 'Timur', 'age': 29, 'job': 'Teacher'}\n",
    "info2 = defaultdict(int, {'name': 'Timur', 'age': 29, 'job': 'Teacher'})\n",
    "\n",
    "print(info1 == info2)"
   ],
   "metadata": {
    "collapsed": false,
    "ExecuteTime": {
     "end_time": "2024-11-12T09:41:11.528862500Z",
     "start_time": "2024-11-12T09:41:11.526346700Z"
    }
   },
   "id": "3c6a184003b8fd45"
  },
  {
   "cell_type": "markdown",
   "source": [
    "Примечание 3. При создании defaultdict словаря можно указывать не только тип данных для значений по умолчанию, но и любую функцию, не принимающую аргументов и возвращающую некоторое дефолтное значение.\n",
    "\n",
    "Приведенный ниже код (передаем функцию, объявленную с помощью def):"
   ],
   "metadata": {
    "collapsed": false
   },
   "id": "c33e20a87c3d29e6"
  },
  {
   "cell_type": "code",
   "execution_count": 18,
   "outputs": [
    {
     "name": "stdout",
     "output_type": "stream",
     "text": [
      "Timur\n",
      "69\n"
     ]
    }
   ],
   "source": [
    "from collections import defaultdict\n",
    "\n",
    "def get_default():\n",
    "    return 69\n",
    "\n",
    "info = defaultdict(get_default, {'name': 'Timur', 'age': 29, 'job': 'Teacher'})\n",
    "\n",
    "print(info['name'])\n",
    "print(info['salary'])"
   ],
   "metadata": {
    "collapsed": false,
    "ExecuteTime": {
     "end_time": "2024-11-12T09:41:48.064786300Z",
     "start_time": "2024-11-12T09:41:48.062274300Z"
    }
   },
   "id": "ecf3112fdcf6751"
  },
  {
   "cell_type": "markdown",
   "source": [
    " Приведенный ниже код (передаем функцию, объявленную с помощью lambda):"
   ],
   "metadata": {
    "collapsed": false
   },
   "id": "9a60b7413448ac16"
  },
  {
   "cell_type": "code",
   "execution_count": 22,
   "outputs": [
    {
     "name": "stdout",
     "output_type": "stream",
     "text": [
      "Timur\n",
      "1_000_000 $\n"
     ]
    }
   ],
   "source": [
    "from collections import defaultdict\n",
    "\n",
    "info = defaultdict(lambda: '1_000_000 $', {'name': 'Timur', 'age': 29, 'job': 'Teacher'})\n",
    "\n",
    "print(info['name'])\n",
    "print(info['salary'])"
   ],
   "metadata": {
    "collapsed": false,
    "ExecuteTime": {
     "end_time": "2024-11-12T09:42:54.354291900Z",
     "start_time": "2024-11-12T09:42:54.350755100Z"
    }
   },
   "id": "c84d41e1f98ea35"
  },
  {
   "cell_type": "markdown",
   "source": [
    "Обратите внимание, что передаваемая функция не должна принимать никаких аргументов."
   ],
   "metadata": {
    "collapsed": false
   },
   "id": "bd64aaa16c3c0276"
  },
  {
   "cell_type": "code",
   "execution_count": 23,
   "outputs": [
    {
     "name": "stdout",
     "output_type": "stream",
     "text": [
      "Timur\n"
     ]
    },
    {
     "ename": "TypeError",
     "evalue": "get_default() missing 1 required positional argument: 'x'",
     "output_type": "error",
     "traceback": [
      "\u001B[1;31m---------------------------------------------------------------------------\u001B[0m",
      "\u001B[1;31mTypeError\u001B[0m                                 Traceback (most recent call last)",
      "Cell \u001B[1;32mIn[23], line 9\u001B[0m\n\u001B[0;32m      6\u001B[0m info \u001B[38;5;241m=\u001B[39m defaultdict(get_default, {\u001B[38;5;124m'\u001B[39m\u001B[38;5;124mname\u001B[39m\u001B[38;5;124m'\u001B[39m: \u001B[38;5;124m'\u001B[39m\u001B[38;5;124mTimur\u001B[39m\u001B[38;5;124m'\u001B[39m, \u001B[38;5;124m'\u001B[39m\u001B[38;5;124mage\u001B[39m\u001B[38;5;124m'\u001B[39m: \u001B[38;5;241m29\u001B[39m, \u001B[38;5;124m'\u001B[39m\u001B[38;5;124mjob\u001B[39m\u001B[38;5;124m'\u001B[39m: \u001B[38;5;124m'\u001B[39m\u001B[38;5;124mTeacher\u001B[39m\u001B[38;5;124m'\u001B[39m})\n\u001B[0;32m      8\u001B[0m \u001B[38;5;28mprint\u001B[39m(info[\u001B[38;5;124m'\u001B[39m\u001B[38;5;124mname\u001B[39m\u001B[38;5;124m'\u001B[39m])\n\u001B[1;32m----> 9\u001B[0m \u001B[38;5;28mprint\u001B[39m(\u001B[43minfo\u001B[49m\u001B[43m[\u001B[49m\u001B[38;5;124;43m'\u001B[39;49m\u001B[38;5;124;43msalary\u001B[39;49m\u001B[38;5;124;43m'\u001B[39;49m\u001B[43m]\u001B[49m)\n",
      "\u001B[1;31mTypeError\u001B[0m: get_default() missing 1 required positional argument: 'x'"
     ]
    }
   ],
   "source": [
    "from collections import defaultdict\n",
    "\n",
    "def get_default(x):\n",
    "    return 2 * x\n",
    "\n",
    "info = defaultdict(get_default, {'name': 'Timur', 'age': 29, 'job': 'Teacher'})\n",
    "\n",
    "print(info['name'])\n",
    "print(info['salary'])"
   ],
   "metadata": {
    "collapsed": false,
    "ExecuteTime": {
     "end_time": "2024-11-12T09:43:24.950027300Z",
     "start_time": "2024-11-12T09:43:24.939224100Z"
    }
   },
   "id": "23df727b887ac9ce"
  },
  {
   "cell_type": "markdown",
   "source": [
    "Примечание 4. Если создать экземпляр defaultdict словаря без указания default_factory (значения по умолчанию для отсутствующих ключей), то поведение defaultdict будет таким же, как и у обычного словаря (тип dict)."
   ],
   "metadata": {
    "collapsed": false
   },
   "id": "b80e3b7962b92b2d"
  },
  {
   "cell_type": "code",
   "execution_count": 27,
   "outputs": [
    {
     "name": "stdout",
     "output_type": "stream",
     "text": [
      "<class 'collections.defaultdict'>\n"
     ]
    },
    {
     "ename": "KeyError",
     "evalue": "'salary'",
     "output_type": "error",
     "traceback": [
      "\u001B[1;31m---------------------------------------------------------------------------\u001B[0m",
      "\u001B[1;31mKeyError\u001B[0m                                  Traceback (most recent call last)",
      "Cell \u001B[1;32mIn[27], line 7\u001B[0m\n\u001B[0;32m      3\u001B[0m data \u001B[38;5;241m=\u001B[39m defaultdict()\n\u001B[0;32m      5\u001B[0m \u001B[38;5;28mprint\u001B[39m(\u001B[38;5;28mtype\u001B[39m(data))\n\u001B[1;32m----> 7\u001B[0m \u001B[38;5;28mprint\u001B[39m(\u001B[43mdata\u001B[49m\u001B[43m[\u001B[49m\u001B[38;5;124;43m'\u001B[39;49m\u001B[38;5;124;43msalary\u001B[39;49m\u001B[38;5;124;43m'\u001B[39;49m\u001B[43m]\u001B[49m)\n",
      "\u001B[1;31mKeyError\u001B[0m: 'salary'"
     ]
    }
   ],
   "source": [
    "from collections import defaultdict\n",
    "\n",
    "data = defaultdict()\n",
    "\n",
    "print(type(data))\n",
    "\n",
    "print(data['salary'])"
   ],
   "metadata": {
    "collapsed": false,
    "ExecuteTime": {
     "end_time": "2024-11-12T10:15:43.393837500Z",
     "start_time": "2024-11-12T10:15:43.382913500Z"
    }
   },
   "id": "fb77dbbeac76ffcb"
  },
  {
   "cell_type": "markdown",
   "source": [
    "Аналогичное поведение будет, если в качестве default_factory передать значение None."
   ],
   "metadata": {
    "collapsed": false
   },
   "id": "75e34e16392cecbd"
  },
  {
   "cell_type": "code",
   "execution_count": 25,
   "outputs": [
    {
     "ename": "KeyError",
     "evalue": "'salary'",
     "output_type": "error",
     "traceback": [
      "\u001B[1;31m---------------------------------------------------------------------------\u001B[0m",
      "\u001B[1;31mKeyError\u001B[0m                                  Traceback (most recent call last)",
      "Cell \u001B[1;32mIn[25], line 5\u001B[0m\n\u001B[0;32m      1\u001B[0m \u001B[38;5;28;01mfrom\u001B[39;00m \u001B[38;5;21;01mcollections\u001B[39;00m \u001B[38;5;28;01mimport\u001B[39;00m defaultdict\n\u001B[0;32m      3\u001B[0m data \u001B[38;5;241m=\u001B[39m defaultdict(\u001B[38;5;28;01mNone\u001B[39;00m)\n\u001B[1;32m----> 5\u001B[0m \u001B[38;5;28mprint\u001B[39m(\u001B[43mdata\u001B[49m\u001B[43m[\u001B[49m\u001B[38;5;124;43m'\u001B[39;49m\u001B[38;5;124;43msalary\u001B[39;49m\u001B[38;5;124;43m'\u001B[39;49m\u001B[43m]\u001B[49m)\n",
      "\u001B[1;31mKeyError\u001B[0m: 'salary'"
     ]
    }
   ],
   "source": [
    "from collections import defaultdict\n",
    "\n",
    "data = defaultdict(None)\n",
    "\n",
    "print(data['salary'])"
   ],
   "metadata": {
    "collapsed": false,
    "ExecuteTime": {
     "end_time": "2024-11-12T09:44:16.854682500Z",
     "start_time": "2024-11-12T09:44:16.843987400Z"
    }
   },
   "id": "836363bca1aa828a"
  },
  {
   "cell_type": "markdown",
   "source": [
    " Значение None является значением по умолчанию для default_factory."
   ],
   "metadata": {
    "collapsed": false
   },
   "id": "4beb0e0bcfd29187"
  },
  {
   "cell_type": "markdown",
   "source": [
    "Примечание 5. Функцию, которая возвращает значение по умолчанию для отсутствующих ключей, можно явно менять через атрибут default_factory."
   ],
   "metadata": {
    "collapsed": false
   },
   "id": "8a9896de76ad2795"
  },
  {
   "cell_type": "code",
   "execution_count": 26,
   "outputs": [
    {
     "name": "stdout",
     "output_type": "stream",
     "text": [
      "0\n",
      "[]\n",
      "0.0\n"
     ]
    }
   ],
   "source": [
    "from collections import defaultdict\n",
    "\n",
    "data = defaultdict(int)\n",
    "print(data['salary1'])\n",
    "\n",
    "data.default_factory = list\n",
    "print(data['salary2'])\n",
    "\n",
    "data.default_factory = float\n",
    "print(data['salary3'])"
   ],
   "metadata": {
    "collapsed": false,
    "ExecuteTime": {
     "end_time": "2024-11-12T09:44:55.797804700Z",
     "start_time": "2024-11-12T09:44:55.793770700Z"
    }
   },
   "id": "ef2d0c1834f74600"
  },
  {
   "cell_type": "markdown",
   "source": [
    "Примечание 6. Тип defaultdict работает быстрее чем использование методов setdefault() и get() обычного словаря (тип dict)."
   ],
   "metadata": {
    "collapsed": false
   },
   "id": "3bebb0ffded6453"
  },
  {
   "cell_type": "markdown",
   "source": [
    "Вам доступен список кортежей data с данными о доходах некоторого образовательного ресурса. Первым элементом кортежа является название продукта, вторым — прибыль в долларах.\n",
    "\n",
    "Дополните приведенный ниже код, чтобы он определил, какой общий доход принес каждый продукт и вывел названия всех продуктов, указав для каждого соответствующую общую прибыль. Продукты должны быть расположены в лексикографическом порядке, каждый на отдельной строке, в следующем формате:\n",
    "\n",
    "<продукт>: $<общая прибыль>\n",
    "Примечание. Начальная часть ответа выглядит так:\n",
    "\n",
    "Books: $7969\n",
    "Courses: $2991\n",
    "..."
   ],
   "metadata": {
    "collapsed": false
   },
   "id": "1885d2ce312a067d"
  },
  {
   "cell_type": "code",
   "execution_count": 68,
   "outputs": [
    {
     "name": "stdout",
     "output_type": "stream",
     "text": [
      "Books: $7969\n",
      "Courses: $2991\n",
      "Merch: $4083\n",
      "Tutorials: $3730\n"
     ]
    }
   ],
   "source": [
    "from collections import defaultdict\n",
    "\n",
    "data = [('Books', 1343), ('Books', 1166), ('Merch', 616), ('Courses', 966), ('Merch', 1145), ('Courses', 1061), ('Books', 848), ('Courses', 964), ('Tutorials', 832), ('Merch', 642), ('Books', 815), ('Tutorials', 1041), ('Books', 1218), ('Tutorials', 880), ('Books', 1003), ('Merch', 951), ('Books', 920), ('Merch', 729), ('Tutorials', 977), ('Books', 656)]\n",
    "\n",
    "result = defaultdict(int)\n",
    "# print(result)\n",
    "\n",
    "for category, value in data:\n",
    "    result[category] += value\n",
    "\n",
    "# print(result)\n",
    "result = {k:v for k, v in sorted(result.items(), key=lambda x:x[0])}\n",
    "# print(result)\n",
    "for k, v in result.items():\n",
    "    print(f'{k}: ${v}')\n",
    "    "
   ],
   "metadata": {
    "collapsed": false,
    "ExecuteTime": {
     "end_time": "2024-11-12T11:05:53.228972800Z",
     "start_time": "2024-11-12T11:05:53.225151600Z"
    }
   },
   "id": "b606b56504c668bc"
  },
  {
   "cell_type": "markdown",
   "source": [
    "Вам доступен список кортежей staff с данными о сотрудниках некоторой компании. Первым элементом кортежа является название отдела, вторым — имя и фамилия сотрудника, работающего в этом отделе.\n",
    "\n",
    "Дополните приведенный ниже код, чтобы он определил, какое число сотрудников работает в каждом отделе и вывел названия всех отделов, указав для каждого соответствующее количество сотрудников. Отделы должны быть расположены в лексикографическом порядке, каждый на отдельной строке, в следующем формате:\n",
    "\n",
    "<отдел>: <количество сотрудников>\n",
    "Примечание. Начальная часть ответа выглядит так:\n",
    "\n",
    "Accounting: 17\n",
    "Developing: 7"
   ],
   "metadata": {
    "collapsed": false
   },
   "id": "173d935be0231366"
  },
  {
   "cell_type": "code",
   "execution_count": 74,
   "outputs": [
    {
     "name": "stdout",
     "output_type": "stream",
     "text": [
      "Accounting: 17\n",
      "Developing: 7\n",
      "Marketing: 13\n",
      "Sales: 13\n"
     ]
    }
   ],
   "source": [
    "from collections import defaultdict\n",
    "\n",
    "staff = [('Sales', 'Robert Barnes'), ('Developing', 'Thomas Porter'), ('Accounting', 'James Wilkins'), ('Sales', 'Connie Reid'), ('Accounting', 'Brenda Davis'), ('Developing', 'Miguel Norris'), ('Accounting', 'Linda Hudson'), ('Developing', 'Deborah George'), ('Developing', 'Nicole Watts'), ('Marketing', 'Billy Lloyd'), ('Sales', 'Charlotte Cox'), ('Marketing', 'Bernice Ramos'), ('Sales', 'Jose Taylor'), ('Sales', 'Katie Warner'), ('Accounting', 'Steven Diaz'), ('Accounting', 'Kimberly Reynolds'), ('Accounting', 'John Watts'), ('Accounting', 'Dale Houston'), ('Developing', 'Arlene Gibson'), ('Marketing', 'Joyce Lawrence'), ('Accounting', 'Rosemary Garcia'), ('Marketing', 'Ralph Morgan'), ('Marketing', 'Sam Davis'), ('Marketing', 'Gail Hill'), ('Accounting', 'Michelle Wright'), ('Accounting', 'Casey Jenkins'), ('Sales', 'Evelyn Martin'), ('Accounting', 'Aaron Ferguson'), ('Marketing', 'Andrew Clark'), ('Marketing', 'John Gonzalez'), ('Developing', 'Wilma Woods'), ('Sales', 'Marie Cooper'), ('Accounting', 'Kay Scott'), ('Sales', 'Gladys Taylor'), ('Accounting', 'Ann Bell'), ('Accounting', 'Craig Wood'), ('Accounting', 'Gloria Higgins'), ('Marketing', 'Mario Reynolds'), ('Marketing', 'Helen Taylor'), ('Marketing', 'Mary King'), ('Accounting', 'Jane Jackson'), ('Marketing', 'Carol Peters'), ('Sales', 'Alicia Mendoza'), ('Accounting', 'Edna Cunningham'), ('Developing', 'Joyce Rivera'), ('Sales', 'Joseph Lee'), ('Sales', 'John White'), ('Marketing', 'Charles Bailey'), ('Sales', 'Chester Fernandez'), ('Sales', 'John Washington')]\n",
    "\n",
    "result = defaultdict(int)\n",
    "\n",
    "for category, value in staff:\n",
    "    result[category] += 1\n",
    "    \n",
    "result = {key: value for key, value in sorted(result.items(), key=lambda x:x[0])}\n",
    "# print(result)\n",
    "\n",
    "for key, value in result.items():\n",
    "    print(f'{key}: {value}')"
   ],
   "metadata": {
    "collapsed": false,
    "ExecuteTime": {
     "end_time": "2024-11-12T13:53:11.888846200Z",
     "start_time": "2024-11-12T13:53:11.886136200Z"
    }
   },
   "id": "197e204eceda4101"
  },
  {
   "cell_type": "code",
   "execution_count": 75,
   "outputs": [
    {
     "name": "stdout",
     "output_type": "stream",
     "text": [
      "Accounting: 17\n",
      "Developing: 7\n",
      "Marketing: 13\n",
      "Sales: 13\n"
     ]
    }
   ],
   "source": [
    "staff_coolect = defaultdict(set)\n",
    "for office, person in staff:\n",
    "    staff_coolect[office].add(person)\n",
    "for office, guys in sorted(staff_coolect.items()):\n",
    "    print(f\"{office}: {len(guys)}\")"
   ],
   "metadata": {
    "collapsed": false,
    "ExecuteTime": {
     "end_time": "2024-11-12T13:54:12.953767600Z",
     "start_time": "2024-11-12T13:54:12.949536600Z"
    }
   },
   "id": "ba4bb1fe340288f5"
  },
  {
   "cell_type": "markdown",
   "source": [
    "Вам доступен список кортежей staff_broken с данными о сотрудниках некоторой компании. Первым элементом кортежа является название отдела, вторым — имя и фамилия сотрудника, работающего в этом отделе. Некоторые сотрудники могут встречаться в списке несколько раз.\n",
    "\n",
    "Дополните приведенный ниже код, чтобы он сгруппировал сотрудников по соответствующим отделам и вывел названия всех отделов, указав для каждого имена и фамилии его сотрудников. Отделы, а также имена и фамилии сотрудников в этих отделах, должны быть расположены в лексикографическом порядке, каждый на отдельной строке, в следующем формате:\n",
    "\n",
    "<отдел>: <имя> <фамилия>, <имя> <фамилия>, ...\n",
    "Примечание. Начальная часть ответа выглядит так:\n",
    "\n",
    "Accounting: Aaron Ferguson, Ann Bell, Brenda Davis, Casey Jenkins, Craig Wood, Dale Houston, Edna Cunningham, Gloria Higgins, James Wilkins, Jane Jackson, John Watts, Kay Scott, Kimberly Reynolds, Linda Hudson, Michelle Wright, Rosemary Garcia, Steven Diaz\n",
    "Developing: Arlene Gibson, Deborah George, Joyce Rivera, Miguel Norris, Nicole Watts, Thomas Porter, Wilma Woods\n",
    "..."
   ],
   "metadata": {
    "collapsed": false
   },
   "id": "5175ae79fc6e6741"
  },
  {
   "cell_type": "code",
   "execution_count": 51,
   "outputs": [
    {
     "name": "stdout",
     "output_type": "stream",
     "text": [
      "Accounting: Aaron Ferguson, Ann Bell, Brenda Davis, Casey Jenkins, Craig Wood, Dale Houston, Edna Cunningham, Gloria Higgins, James Wilkins, Jane Jackson, John Watts, Kay Scott, Kimberly Reynolds, Linda Hudson, Michelle Wright, Rosemary Garcia, Steven Diaz\n",
      "Developing: Arlene Gibson, Deborah George, Joyce Rivera, Miguel Norris, Nicole Watts, Thomas Porter, Wilma Woods\n",
      "Marketing: Andrew Clark, Bernice Ramos, Billy Lloyd, Carol Peters, Charles Bailey, Gail Hill, Helen Taylor, John Gonzalez, Joyce Lawrence, Mario Reynolds, Mary King, Ralph Morgan, Sam Davis\n",
      "Sales: Alicia Mendoza, Charlotte Cox, Chester Fernandez, Connie Reid, Evelyn Martin, Gladys Taylor, John Washington, John White, Jose Taylor, Joseph Lee, Katie Warner, Marie Cooper, Robert Barnes\n"
     ]
    }
   ],
   "source": [
    "from collections import defaultdict\n",
    "\n",
    "staff_broken = [('Developing', 'Miguel Norris'), ('Sales', 'Connie Reid'), ('Sales', 'Joseph Lee'), ('Marketing', 'Carol Peters'), ('Accounting', 'Linda Hudson'), ('Accounting', 'Ann Bell'), ('Marketing', 'Ralph Morgan'), ('Accounting', 'Gloria Higgins'), ('Developing', 'Wilma Woods'), ('Developing', 'Wilma Woods'), ('Marketing', 'Bernice Ramos'), ('Marketing', 'Joyce Lawrence'), ('Accounting', 'Craig Wood'), ('Developing', 'Nicole Watts'), ('Sales', 'Jose Taylor'), ('Accounting', 'Linda Hudson'), ('Accounting', 'Edna Cunningham'), ('Sales', 'Jose Taylor'), ('Marketing', 'Helen Taylor'), ('Accounting', 'Kimberly Reynolds'), ('Marketing', 'Mary King'), ('Sales', 'Joseph Lee'), ('Accounting', 'Gloria Higgins'), ('Marketing', 'Andrew Clark'), ('Accounting', 'John Watts'), ('Accounting', 'Rosemary Garcia'), ('Accounting', 'Steven Diaz'), ('Marketing', 'Mary King'), ('Sales', 'Gladys Taylor'), ('Developing', 'Thomas Porter'), ('Accounting', 'Brenda Davis'), ('Sales', 'Connie Reid'), ('Sales', 'Alicia Mendoza'), ('Marketing', 'Mario Reynolds'), ('Sales', 'John White'), ('Developing', 'Joyce Rivera'), ('Accounting', 'Steven Diaz'), ('Developing', 'Arlene Gibson'), ('Sales', 'Robert Barnes'), ('Sales', 'Charlotte Cox'), ('Accounting', 'Craig Wood'), ('Marketing', 'Carol Peters'), ('Marketing', 'Ralph Morgan'), ('Accounting', 'Kay Scott'), ('Sales', 'Evelyn Martin'), ('Marketing', 'Billy Lloyd'), ('Sales', 'Gladys Taylor'), ('Developing', 'Deborah George'), ('Sales', 'Charlotte Cox'), ('Marketing', 'Sam Davis'), ('Sales', 'John White'), ('Sales', 'Marie Cooper'), ('Marketing', 'John Gonzalez'), ('Sales', 'John Washington'), ('Sales', 'Chester Fernandez'), ('Sales', 'Alicia Mendoza'), ('Sales', 'Katie Warner'), ('Accounting', 'Jane Jackson'), ('Sales', 'Chester Fernandez'), ('Marketing', 'Charles Bailey'), ('Marketing', 'Gail Hill'), ('Accounting', 'Casey Jenkins'), ('Accounting', 'James Wilkins'), ('Accounting', 'Casey Jenkins'), ('Marketing', 'Mario Reynolds'), ('Accounting', 'Aaron Ferguson'), ('Accounting', 'Kimberly Reynolds'), ('Sales', 'Robert Barnes'), ('Accounting', 'Aaron Ferguson'), ('Accounting', 'Jane Jackson'), ('Developing', 'Deborah George'), ('Accounting', 'Michelle Wright'), ('Accounting', 'Dale Houston')]\n",
    "\n",
    "sorted_staff = list(sorted(set(staff_broken), key=lambda x:x[1]))\n",
    "# print(sorted_staff)\n",
    "\n",
    "result = defaultdict(list)\n",
    "\n",
    "for department, name in sorted_staff:\n",
    "        result[department].append(name)\n",
    "# # print(result)\n",
    "    \n",
    "for department, names in sorted(result.items(), key=lambda item: (item[0], sorted(item[1])[0])):\n",
    "    print(f'{department}: {\", \".join(sorted(names))}')"
   ],
   "metadata": {
    "collapsed": false,
    "ExecuteTime": {
     "end_time": "2024-11-15T13:53:41.169211700Z",
     "start_time": "2024-11-15T13:53:41.160299200Z"
    }
   },
   "id": "9b17ead73bb2c1d"
  },
  {
   "cell_type": "markdown",
   "source": [
    "Функция wins()\n",
    "В онлайн-школе BEEGEEK каждое лето проходят соревнования по шахматам, во время которых ведется статистика побед и поражений. Каждая партия описывается кортежем из двух элементов, где первый элемент — имя победившего ученика, второй элемент — имя проигравшего ученика.\n",
    "\n",
    "Реализуйте функцию wins(), которая принимает один аргумент:\n",
    "\n",
    "pairs — итерируемый объект, элементами которого являются кортежи, каждый из которых представляет собой пару имён победитель-проигравший\n",
    "Функция должна возвращать словарь, в котором ключом служит имя ученика, а значением — множество (тип set) имен учеников, которых он победил.\n",
    "\n",
    "Примечание 1. Гарантируется, что каждая партия заканчивается победой одного из учеников, то есть ничьей быть не может.\n",
    "\n",
    "Примечание 2. Элементы в возвращаемом функцией словаре могут располагаться в произвольном порядке.\n",
    "\n",
    "Примечание 3. В тестирующую систему сдайте программу, содержащую только необходимую функцию wins(), но не код, вызывающий ее."
   ],
   "metadata": {
    "collapsed": false
   },
   "id": "45eb4dc53358dd68"
  },
  {
   "cell_type": "code",
   "execution_count": 58,
   "outputs": [
    {
     "name": "stdout",
     "output_type": "stream",
     "text": [
      "Артур -> Анри Дима Тимур\n"
     ]
    }
   ],
   "source": [
    "from collections import defaultdict\n",
    "\n",
    "\n",
    "def wins(pairs: list) -> dict:    \n",
    "    result = defaultdict(set)\n",
    "    # pairs = [('Тимур', 'Артур'), ('Тимур', 'Дима'), ('Дима', 'Артур')]\n",
    "    \n",
    "    for key, value in pairs:\n",
    "        result[key].add(value)\n",
    "    # print(result)\n",
    "    return result\n",
    "\n",
    "result = wins([('Артур', 'Дима'), ('Артур', 'Тимур'), ('Артур', 'Анри'), ('Артур', 'Дима')])\n",
    "\n",
    "for winner, losers in sorted(result.items()):\n",
    "    print(winner, '->', *sorted(losers))"
   ],
   "metadata": {
    "collapsed": false,
    "ExecuteTime": {
     "end_time": "2024-11-18T06:38:06.541725900Z",
     "start_time": "2024-11-18T06:38:06.531038Z"
    }
   },
   "id": "887c1c262dfa8d12"
  },
  {
   "cell_type": "markdown",
   "source": [
    "Функция flip_dict()\n",
    "Рассмотрим следующий словарь:\n",
    "\n",
    "{'a': [1, 2], 'b': [3, 1], 'c': [2]}\n",
    "«Перевернем» его, представив ключи в виде значений, а значения — в виде ключей:\n",
    "\n",
    "{1: ['a', 'b'], 2: ['a', 'c'], 3: ['b']}\n",
    "Реализуйте функцию flip_dict(), которая принимает один аргумент:\n",
    "\n",
    "dict_of_lists — словарь, в котором ключом является число или строка, а значением — список чисел или строк\n",
    "Функция должна возвращать новый словарь (тип defaultdict с типом list в качестве значения по умолчанию), который представляет собой «перевернутый» словарь dict_of_lists.\n",
    "\n",
    "Примечание 1. Ключи в возвращаемом функцией словаре, а также элементы в списках должны располагаться в своем исходном порядке.\n",
    "\n",
    "Примечание 2. В тестирующую систему сдайте программу, содержащую только необходимую функцию flip_dict(), но не код, вызывающий ее."
   ],
   "metadata": {
    "collapsed": false
   },
   "id": "a9c4b4cb36ea3979"
  },
  {
   "cell_type": "code",
   "execution_count": 66,
   "outputs": [
    {
     "name": "stdout",
     "output_type": "stream",
     "text": [
      "cacao: Arthur\n",
      "tea: Arthur, Timur\n",
      "juice: Arthur, Timur, Anri\n",
      "coffee: Timur, Anri\n"
     ]
    }
   ],
   "source": [
    "from collections import defaultdict\n",
    "\n",
    "\n",
    "def flip_dict(dict_of_lists: dict) -> defaultdict:\n",
    "    result = defaultdict(list)  # создаем defaultdict, где значениями будут списки\n",
    "    for key, value in dict_of_lists.items():  # проходим по каждому ключу и его списку значений\n",
    "        for item in value:  # для каждого элемента списка\n",
    "            result[item].append(key)  # добавляем ключ в список, который соответствует этому элементу\n",
    "    return result\n",
    "\n",
    "\n",
    "\n",
    "# print(flip_dict({'a': [1, 2], 'b': [3, 1], 'c': [2]}))\n",
    "\n",
    "data = {'Arthur': ['cacao', 'tea', 'juice'], 'Timur': ['coffee', 'tea', 'juice'], 'Anri': ['juice', 'coffee']}\n",
    "\n",
    "for key, values in flip_dict(data).items():\n",
    "    print(f'{key}: {\", \".join(values)}')"
   ],
   "metadata": {
    "collapsed": false,
    "ExecuteTime": {
     "end_time": "2024-11-18T06:42:57.754725100Z",
     "start_time": "2024-11-18T06:42:57.749584600Z"
    }
   },
   "id": "63804cf552ce4897"
  },
  {
   "cell_type": "markdown",
   "source": [
    "Функция best_sender()\n",
    "Рассмотрим два списка:\n",
    "\n",
    "messages = ['Hi, Linda', 'Hi, Sam', 'How are you doing?']\n",
    "\n",
    "senders = ['Sam Fisher', 'Linda', 'Sam Fisher']\n",
    "Первый список представляет набор отправленных сообщений в некотором мессенджере, второй список — набор отправителей этих сообщений. Причем сообщение messages[i] отправлено пользователем senders[i]. Каждое сообщение представляет собой последовательность слов, разделенных пробелом (знаки препинания считаются частями слов). Количество слов — это общее число слов, отправленное пользователем. Обратите внимание, что каждый пользователь может отправлять более одного сообщения. Например, пользователь Sam Fisher отправил 2 слова в первом сообщении и 4 слова во втором, следовательно, его количество слов равно \n",
    "2+4=6. \n",
    "Реализуйте функцию best_sender(), которая принимает два аргумента в следующем порядке:\n",
    "\n",
    "messages — список сообщений\n",
    "senders — список имен отправителей\n",
    "Функция должна определять отправителя, имеющего наибольшее количество слов, и возвращать его имя. Если таких отправителей несколько, следует вернуть имя того, чье имя больше в лексикографическом сравнении.\n",
    "\n",
    "Примечание 1. Гарантируется, что длины передаваемых в функцию списков совпадают.\n",
    "\n",
    "Примечание 2. В тестирующую систему сдайте программу, содержащую только необходимую функцию best_sender(), но не код, вызывающий ее."
   ],
   "metadata": {
    "collapsed": false
   },
   "id": "8149da01e6f7cc36"
  },
  {
   "cell_type": "code",
   "execution_count": 111,
   "outputs": [
    {
     "name": "stdout",
     "output_type": "stream",
     "text": [
      "Charlie\n"
     ]
    }
   ],
   "source": [
    "from collections import defaultdict\n",
    "\n",
    "def best_sender(messages: list, senders: list) -> str:\n",
    "    result_dict = defaultdict(int)    \n",
    "    for sender, message in zip(senders, messages):\n",
    "        word_count = len(message.split())\n",
    "        result_dict[sender] += word_count\n",
    "        \n",
    "    best_sender = max(result_dict.items(), key=lambda item: (item[1], item[0]))\n",
    "    # item[1] — это количество слов. Сначала будет происходить сравнение по этому значению.\n",
    "    # item[0] — это имя отправителя. Если количество слов одинаково у нескольких отправителей, будет происходить лексикографическое сравнение имен.\n",
    "    return best_sender[0]\n",
    "\n",
    "messages = ['How is Stepik for everyone', 'Stepik is useful for practice']\n",
    "senders = ['Bob', 'Charlie']\n",
    "\n",
    "print(best_sender(messages, senders))"
   ],
   "metadata": {
    "collapsed": false,
    "ExecuteTime": {
     "end_time": "2024-11-18T07:23:45.007619Z",
     "start_time": "2024-11-18T07:23:45.001474600Z"
    }
   },
   "id": "f29dfd02fac019b0"
  },
  {
   "cell_type": "code",
   "execution_count": null,
   "outputs": [],
   "source": [
    "from collections import defaultdict\n",
    "\n",
    "def best_sender(messages, senders):\n",
    "    result = defaultdict(int)\n",
    "    for sender, message in zip(senders, messages):\n",
    "        result[sender] += len(message.split())\n",
    "    return max(result, key=lambda p: (result[p], p))"
   ],
   "metadata": {
    "collapsed": false
   },
   "id": "ede59a2d646c3f2b"
  }
 ],
 "metadata": {
  "kernelspec": {
   "display_name": "Python 3",
   "language": "python",
   "name": "python3"
  },
  "language_info": {
   "codemirror_mode": {
    "name": "ipython",
    "version": 2
   },
   "file_extension": ".py",
   "mimetype": "text/x-python",
   "name": "python",
   "nbconvert_exporter": "python",
   "pygments_lexer": "ipython2",
   "version": "2.7.6"
  }
 },
 "nbformat": 4,
 "nbformat_minor": 5
}

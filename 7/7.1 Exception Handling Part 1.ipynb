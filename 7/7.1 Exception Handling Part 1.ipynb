{
 "cells": [
  {
   "cell_type": "markdown",
   "source": [
    "Тема урока: обработка исключений\n",
    "Типы ошибок\n",
    "Работа с кодами возврата\n",
    "Аннотация. Урок посвящен ошибкам и их типам."
   ],
   "metadata": {
    "collapsed": false
   },
   "id": "a64543525418ea3a"
  },
  {
   "cell_type": "markdown",
   "source": [
    "Типы ошибок"
   ],
   "metadata": {
    "collapsed": false
   },
   "id": "cebd92d3016a227e"
  },
  {
   "cell_type": "markdown",
   "source": [
    "Разработка программы на любом языке программирования практически всегда бывает связана с возникновением различного рода ошибок, препятствующих получению желаемого результата.\n",
    "\n",
    "Обычно выделяют следующие три категории ошибок:\n",
    "\n",
    "синтаксические – возникают из-за синтаксических погрешностей кода\n",
    "логические – проявляются вследствие логических неточностей в алгоритме\n",
    "ошибки времени выполнения, исключения – вызваны некорректными действиями пользователя или системы"
   ],
   "metadata": {
    "collapsed": false
   },
   "id": "1d5f5e87a2a12db7"
  },
  {
   "cell_type": "markdown",
   "source": [
    "Синтаксические ошибки"
   ],
   "metadata": {
    "collapsed": false
   },
   "id": "c69c66b5f35896bb"
  },
  {
   "cell_type": "markdown",
   "source": [
    "Синтаксические ошибки являются следствием несоблюдения общепринятого синтаксиса языка. Другими словами, это ошибки, связанные с неправильно набранным кодом. Например пропуск круглой скобки, запятой или двоеточия."
   ],
   "metadata": {
    "collapsed": false
   },
   "id": "f9b0f27cbbe6cde"
  },
  {
   "cell_type": "code",
   "execution_count": 1,
   "outputs": [
    {
     "ename": "SyntaxError",
     "evalue": "incomplete input (3438010775.py, line 1)",
     "output_type": "error",
     "traceback": [
      "\u001B[1;36m  Cell \u001B[1;32mIn[1], line 1\u001B[1;36m\u001B[0m\n\u001B[1;33m    print('Hello, world!'\u001B[0m\n\u001B[1;37m                         ^\u001B[0m\n\u001B[1;31mSyntaxError\u001B[0m\u001B[1;31m:\u001B[0m incomplete input\n"
     ]
    }
   ],
   "source": [
    "print('Hello, world!'"
   ],
   "metadata": {
    "collapsed": false,
    "ExecuteTime": {
     "end_time": "2024-11-26T09:43:17.327527300Z",
     "start_time": "2024-11-26T09:43:17.323647200Z"
    }
   },
   "id": "586914a83ffbe123"
  },
  {
   "cell_type": "code",
   "execution_count": 2,
   "outputs": [
    {
     "ename": "SyntaxError",
     "evalue": "expected ':' (427417971.py, line 1)",
     "output_type": "error",
     "traceback": [
      "\u001B[1;36m  Cell \u001B[1;32mIn[2], line 1\u001B[1;36m\u001B[0m\n\u001B[1;33m    def square(num)\u001B[0m\n\u001B[1;37m                   ^\u001B[0m\n\u001B[1;31mSyntaxError\u001B[0m\u001B[1;31m:\u001B[0m expected ':'\n"
     ]
    }
   ],
   "source": [
    "def square(num)\n",
    "    return num ** 2"
   ],
   "metadata": {
    "collapsed": false,
    "ExecuteTime": {
     "end_time": "2024-11-26T09:43:21.472260900Z",
     "start_time": "2024-11-26T09:43:21.468553500Z"
    }
   },
   "id": "a7b45d9a6ee60d62"
  },
  {
   "cell_type": "markdown",
   "source": [
    "Синтаксические ошибки легко отлавливаются интерпретатором, который сразу же сообщает программисту о проблеме в написанном коде. "
   ],
   "metadata": {
    "collapsed": false
   },
   "id": "63e0253843be6cd7"
  },
  {
   "cell_type": "markdown",
   "source": [
    "Логические ошибки"
   ],
   "metadata": {
    "collapsed": false
   },
   "id": "5382969bc9d1a410"
  },
  {
   "cell_type": "markdown",
   "source": [
    "Логические ошибки считаются более сложными в выявлении, поскольку не отлавливаются интерпретатором. Обычно они вызваны определенным недостатком в логике программы, из-за чего результат работы программы отличается от желаемого результата. Возможным решением проблемы является тестирование программы на разных примерах входных данных, для которых известен правильный результат."
   ],
   "metadata": {
    "collapsed": false
   },
   "id": "ca6088e57a3c2e2e"
  },
  {
   "cell_type": "code",
   "execution_count": 3,
   "outputs": [],
   "source": [
    "def avg(a, b):\n",
    "    return a + b / 2"
   ],
   "metadata": {
    "collapsed": false,
    "ExecuteTime": {
     "end_time": "2024-11-26T09:44:40.673265500Z",
     "start_time": "2024-11-26T09:44:40.666726300Z"
    }
   },
   "id": "870e53d6bb40a9ed"
  },
  {
   "cell_type": "markdown",
   "source": [
    "описана функция avg(), подсчитывающая среднее значение переданных в нее аргументов. В теле функции допущена логическая ошибка, пропущены скобки, на два должна делиться сумма чисел a и b."
   ],
   "metadata": {
    "collapsed": false
   },
   "id": "17e7b056a4f11499"
  },
  {
   "cell_type": "markdown",
   "source": [
    "Обратите внимание на то, что приведенная выше функция avg() не всегда работает неверно."
   ],
   "metadata": {
    "collapsed": false
   },
   "id": "1d656aee34caf783"
  },
  {
   "cell_type": "code",
   "execution_count": 4,
   "outputs": [
    {
     "name": "stdout",
     "output_type": "stream",
     "text": [
      "3.5\n"
     ]
    }
   ],
   "source": [
    "print(avg(0, 7))"
   ],
   "metadata": {
    "collapsed": false,
    "ExecuteTime": {
     "end_time": "2024-11-26T09:44:41.344182500Z",
     "start_time": "2024-11-26T09:44:41.334658300Z"
    }
   },
   "id": "7d9543cb78106f6b"
  },
  {
   "cell_type": "markdown",
   "source": [
    "Логические ошибки могут проявлять себя только при определенных условиях. Часто код с логической ошибкой может работать достаточно долго."
   ],
   "metadata": {
    "collapsed": false
   },
   "id": "b5502f6fd1f3d1df"
  },
  {
   "cell_type": "markdown",
   "source": [
    "Ошибки времени выполнения"
   ],
   "metadata": {
    "collapsed": false
   },
   "id": "33d3a4a137316a31"
  },
  {
   "cell_type": "markdown",
   "source": [
    "Исключения представляют собой еще один вид ошибок, которые проявляются в зависимости от наличия обстоятельств, меняющих ход выполнения программы. Исключения являются ошибками времени выполнения, возникающими в процессе выполнения программы и связанными с некорректностью переданных в программу данных, недоступностью ресурсов и т.д."
   ],
   "metadata": {
    "collapsed": false
   },
   "id": "dc7ac1c71f4e8682"
  },
  {
   "cell_type": "code",
   "execution_count": 5,
   "outputs": [
    {
     "ename": "ZeroDivisionError",
     "evalue": "division by zero",
     "output_type": "error",
     "traceback": [
      "\u001B[1;31m---------------------------------------------------------------------------\u001B[0m",
      "\u001B[1;31mZeroDivisionError\u001B[0m                         Traceback (most recent call last)",
      "Cell \u001B[1;32mIn[5], line 4\u001B[0m\n\u001B[0;32m      1\u001B[0m num1 \u001B[38;5;241m=\u001B[39m \u001B[38;5;241m10\u001B[39m\n\u001B[0;32m      2\u001B[0m num2 \u001B[38;5;241m=\u001B[39m \u001B[38;5;241m0\u001B[39m\n\u001B[1;32m----> 4\u001B[0m \u001B[38;5;28mprint\u001B[39m(\u001B[43mnum1\u001B[49m\u001B[43m \u001B[49m\u001B[38;5;241;43m/\u001B[39;49m\u001B[43m \u001B[49m\u001B[43mnum2\u001B[49m)\n",
      "\u001B[1;31mZeroDivisionError\u001B[0m: division by zero"
     ]
    }
   ],
   "source": [
    "num1 = 10\n",
    "num2 = 0\n",
    "\n",
    "print(num1 / num2)"
   ],
   "metadata": {
    "collapsed": false,
    "ExecuteTime": {
     "end_time": "2024-11-26T09:45:33.506213600Z",
     "start_time": "2024-11-26T09:45:33.274488500Z"
    }
   },
   "id": "b7fc0e28c7761dc5"
  },
  {
   "cell_type": "markdown",
   "source": [
    "Деление на ноль провоцирует исключительную ситуацию, которая приводит к аварийному завершению работы и выводу ошибки на экран. ZeroDivisionError — это название исключения, а division by zero — его краткое описание."
   ],
   "metadata": {
    "collapsed": false
   },
   "id": "263e4ae15b75601f"
  },
  {
   "cell_type": "markdown",
   "source": [
    "Если мы хотим, чтобы программа работала с широким диапазоном входных данных и внешних условий, то надо учитывать исключения, программа должна их верно обрабатывать."
   ],
   "metadata": {
    "collapsed": false
   },
   "id": "27d79515d83dc11a"
  },
  {
   "cell_type": "markdown",
   "source": [
    "По умолчанию при обнаружении необработанного исключения Python немедленно останавливает выполнение программы и выводит сообщение об ошибке."
   ],
   "metadata": {
    "collapsed": false
   },
   "id": "3b5fabeae7b99ed4"
  },
  {
   "cell_type": "markdown",
   "source": [
    "Работа с кодами возврата"
   ],
   "metadata": {
    "collapsed": false
   },
   "id": "c5d0ea8847ddf74d"
  },
  {
   "cell_type": "markdown",
   "source": [
    "В эпоху расцвета процедурного программирования синтаксис работы с исключениями был тривиален и основывался на том, что вернула функция. Если функция возвращала True — все хорошо, если же False — то произошла ошибка. При этом сразу выделились два подхода к работе с ошибками:"
   ],
   "metadata": {
    "collapsed": false
   },
   "id": "62839f0198829935"
  },
  {
   "cell_type": "markdown",
   "source": [
    "подход два в одном — функция возвращает False как для ожидаемой, так и для неожиданной ошибки. Такой подход как правило применялся в API общего назначения и коде пользовательских программ, когда большую часть ошибок можно было смело считать фатальными\n",
    "подход разделения ошибок, при котором функция возвращает False в случае неожиданной ошибки, а ожидаемую ошибку возвращает отдельным возвращаемым значением (числовым). Такой подход применялся в более надежном коде и подразумевал разделение на ожидаемые ошибки и неожиданные"
   ],
   "metadata": {
    "collapsed": false
   },
   "id": "bef4af0b6b498286"
  },
  {
   "cell_type": "markdown",
   "source": [
    "Для каждой ошибки можно придумать свой код возврата. Коды не должны совпадать с возможными обычными ответами."
   ],
   "metadata": {
    "collapsed": false
   },
   "id": "e2ca489e53330bf0"
  },
  {
   "cell_type": "markdown",
   "source": [
    "Несмотря на то, что язык Python полностью поддерживает работу с исключениями, как с полноценными объектами, мы все же можем встретить следы работы с кодами возврата, которые Python унаследовал от языка C."
   ],
   "metadata": {
    "collapsed": false
   },
   "id": "a6146b5d93bd7fa4"
  },
  {
   "cell_type": "markdown",
   "source": [
    "Строковый тип данных str содержит два похожих метода find() и index(). Оба метода выполняют одну и ту же работу, а именно ищут позицию первого вхождения подстроки в заданную строку. Однако в случае если подстрока не найдена, то поведение методов отличается. Метод find() использует механизм кодов возврата, в то время как метод index() возбуждает исключение."
   ],
   "metadata": {
    "collapsed": false
   },
   "id": "6f85d693ff9ee79f"
  },
  {
   "cell_type": "code",
   "execution_count": 6,
   "outputs": [
    {
     "name": "stdout",
     "output_type": "stream",
     "text": [
      "7\n",
      "-1\n"
     ]
    }
   ],
   "source": [
    "text = 'Hello, world!'\n",
    "\n",
    "print(text.find('w'))\n",
    "print(text.find('a'))"
   ],
   "metadata": {
    "collapsed": false,
    "ExecuteTime": {
     "end_time": "2024-11-26T09:48:34.015812300Z",
     "start_time": "2024-11-26T09:48:34.009917300Z"
    }
   },
   "id": "a72e50c55d820511"
  },
  {
   "cell_type": "markdown",
   "source": [
    "Из-за того, что в строке Hello, world! нет символа a, нам было возвращено значение −1. Это и есть код возврата."
   ],
   "metadata": {
    "collapsed": false
   },
   "id": "8d447b995435d03a"
  },
  {
   "cell_type": "code",
   "execution_count": 7,
   "outputs": [
    {
     "ename": "ValueError",
     "evalue": "substring not found",
     "output_type": "error",
     "traceback": [
      "\u001B[1;31m---------------------------------------------------------------------------\u001B[0m",
      "\u001B[1;31mValueError\u001B[0m                                Traceback (most recent call last)",
      "Cell \u001B[1;32mIn[7], line 3\u001B[0m\n\u001B[0;32m      1\u001B[0m text \u001B[38;5;241m=\u001B[39m \u001B[38;5;124m'\u001B[39m\u001B[38;5;124mHello, world!\u001B[39m\u001B[38;5;124m'\u001B[39m\n\u001B[1;32m----> 3\u001B[0m \u001B[38;5;28mprint\u001B[39m(\u001B[43mtext\u001B[49m\u001B[38;5;241;43m.\u001B[39;49m\u001B[43mindex\u001B[49m\u001B[43m(\u001B[49m\u001B[38;5;124;43m'\u001B[39;49m\u001B[38;5;124;43ma\u001B[39;49m\u001B[38;5;124;43m'\u001B[39;49m\u001B[43m)\u001B[49m)\n",
      "\u001B[1;31mValueError\u001B[0m: substring not found"
     ]
    }
   ],
   "source": [
    "text = 'Hello, world!'\n",
    "\n",
    "print(text.index('a'))"
   ],
   "metadata": {
    "collapsed": false,
    "ExecuteTime": {
     "end_time": "2024-11-26T09:49:07.154617700Z",
     "start_time": "2024-11-26T09:49:07.142807200Z"
    }
   },
   "id": "ed7e31270ddcb79b"
  },
  {
   "cell_type": "markdown",
   "source": [
    "При работе с кодами возврата даже простая функция для обработки пользовательских данных обрастает дополнительным кодом, проверкой многих условий и «магическими» кодами возврата. Если функция с кодом возврата находится глубоко в стеке вызовов, то придется сделать так, чтобы ее правильно обрабатывала вся вышестоящая цепочка функций. Каждая из них должна принимать код и возвращать свой."
   ],
   "metadata": {
    "collapsed": false
   },
   "id": "f50b09333e9fc610"
  },
  {
   "cell_type": "markdown",
   "source": [
    "Примечания"
   ],
   "metadata": {
    "collapsed": false
   },
   "id": "b726a638e2246df6"
  },
  {
   "cell_type": "markdown",
   "source": [
    "Примечание 1. У работы с исключениями есть преимущества перед кодами возврата. В современных языках программирования, таких как Python, C#, Java, GO и т.д., используются именно исключения."
   ],
   "metadata": {
    "collapsed": false
   },
   "id": "205624c800fe7117"
  },
  {
   "cell_type": "markdown",
   "source": [
    "Примечание 2. Приведем пример незаметной логической ошибки, которая присуща многим реализациям бинарного поиска (или сортировке слиянием). Для реализации алгоритма требуется находить середину некоторого отрезка [low; high]. Обычно это делают так:"
   ],
   "metadata": {
    "collapsed": false
   },
   "id": "ce61a43da7b58566"
  },
  {
   "cell_type": "code",
   "execution_count": null,
   "outputs": [],
   "source": [
    "mid = (low + high) // 2"
   ],
   "metadata": {
    "collapsed": false
   },
   "id": "b65c8fdd6ab1341a"
  },
  {
   "cell_type": "markdown",
   "source": [
    "Для языка Python такой способ подсчета середины работает нормально, поскольку в Python реализована длинная арифметика. Но, скажем, в языке Java, где стандартные типы данных имеют ограничения, такой способ подсчета середины в некоторых случаях приводит к переполнению, поскольку сумма low + high выходит за размерность типа int"
   ],
   "metadata": {
    "collapsed": false
   },
   "id": "5b542f40a91d7e20"
  },
  {
   "cell_type": "markdown",
   "source": [
    "Для решения проблемы можно воспользоваться вот таким приемом:"
   ],
   "metadata": {
    "collapsed": false
   },
   "id": "390b9040d26e9c42"
  },
  {
   "cell_type": "code",
   "execution_count": null,
   "outputs": [],
   "source": [
    "mid = low + (high - low) // 2"
   ],
   "metadata": {
    "collapsed": false
   },
   "id": "6911fa2490eba43c"
  },
  {
   "cell_type": "markdown",
   "source": [
    "Такая ошибка долгое время находилась в стандартной библиотеке языка Java из-за чего поиск и сортировка на особо больших массивах приводил к возникновению исключения ArrayIndexOutOfBoundsException"
   ],
   "metadata": {
    "collapsed": false
   },
   "id": "55bb30205a691840"
  },
  {
   "cell_type": "markdown",
   "source": [
    "Примечание 3. В больших информационных системах у каждой ситуации, у штатной и нештатной, есть свои номера. Наиболее распространенные коды ошибок в сети Интернет:"
   ],
   "metadata": {
    "collapsed": false
   },
   "id": "a76b80c692058850"
  },
  {
   "cell_type": "markdown",
   "source": [
    "404 Not Found (не найдено)\n",
    "503 Service Unavailable (сервис недоступен)"
   ],
   "metadata": {
    "collapsed": false
   },
   "id": "8b2978cf20fb8dc3"
  },
  {
   "cell_type": "markdown",
   "source": [
    "При этом 200 — это код, возвращаемый серверами при успешном выполнении задания."
   ],
   "metadata": {
    "collapsed": false
   },
   "id": "51d9a76157d86bb0"
  },
  {
   "cell_type": "markdown",
   "source": [
    "Примечание 6. Один из способов посмотреть, насколько полезны исключения, предусматривает сравнение кодовых стилей в Python и языках без исключений. Скажем, если мы хотим написать надежную программу на языке C, то обычно должны проверять возвращаемые значения или коды состояния после каждой операции, способной сбиться с пути, и распространять результаты проверок во время выполнения программы:"
   ],
   "metadata": {
    "collapsed": false
   },
   "id": "413efe70edd129d6"
  },
  {
   "cell_type": "code",
   "execution_count": null,
   "outputs": [],
   "source": [
    "doStuff()\n",
    "{\n",
    "if (doFirstThing() == ERROR)\n",
    "return ERROR;\n",
    "if (doNextThing() == ERROR)\n",
    "    return ERROR;\n",
    "...\n",
    "return doLastThing();\n",
    "}\n",
    "\n",
    "main()\n",
    "{\n",
    "if (doStuff() == ERROR)\n",
    "    badEnding();\n",
    "else\n",
    "    goodEnding();\n",
    "}"
   ],
   "metadata": {
    "collapsed": false
   },
   "id": "8d64ebc1edb87986"
  },
  {
   "cell_type": "markdown",
   "source": [
    "На самом деле реалистичные программы на C часто содержат столько же кода, предназначенного для обнаружения ошибок, сколько и кода для выполнения фактической работы. "
   ],
   "metadata": {
    "collapsed": false
   },
   "id": "211110569e1ca7d"
  },
  {
   "cell_type": "markdown",
   "source": [
    "Но в Python нам не придется писать такой код. Мы можем просто помещать произвольно крупные фрагменты программы внутрь обработчиков исключений и писать код, делающий действительную работу, предполагая, что обычно все будет хорошо:"
   ],
   "metadata": {
    "collapsed": false
   },
   "id": "f60059ac9191778a"
  },
  {
   "cell_type": "code",
   "execution_count": null,
   "outputs": [],
   "source": [
    "def doStuff():\n",
    "    doFirstThing()\n",
    "    doNextThing()\n",
    "    doLastThing()\n",
    "\n",
    "\n",
    "try:\n",
    "    doStuff()\n",
    "except:\n",
    "    badEnding()\n",
    "else:\n",
    "    goodEnding()"
   ],
   "metadata": {
    "collapsed": false
   },
   "id": "5103794ac8b9a21e"
  },
  {
   "cell_type": "markdown",
   "source": [
    "Так как при возникновении исключения управление немедленно передается обработчику, нет нужды снабжать весь код защитой от ошибок, к тому же отсутствуют добавочные накладные расходы в плане производительности, связанные с выполнением всех проверок. Кроме того, поскольку интерпретатор Python выявляет ошибки автоматически, в первую очередь вашему коду часто нет необходимости вообще осуществлять проверки на предмет ошибок. В итоге исключения позволяют почти совершенно игнорировать необычные случаи и избегать написания кода проверки на предмет ошибок, который способен отвлечь от подлинных целей программы."
   ],
   "metadata": {
    "collapsed": false
   },
   "id": "22f1ce4ef1b9f679"
  },
  {
   "cell_type": "markdown",
   "source": [
    "Ревью кода 😤\n",
    "Дан файл data.txt. Требовалось написать программу, которая определяет, сколько строк содержится в данном файле, и выводит полученный результат. Программист торопился и написал программу неправильно.\n",
    "\n",
    "Найдите и исправьте все ошибки, допущенные в этой программе (их ровно 3).\n",
    "\n",
    "Примечание. Известно, что каждая ошибка затрагивает только одну строку и может быть исправлена без изменения других строк."
   ],
   "metadata": {
    "collapsed": false
   },
   "id": "46bc9d05d99f86"
  },
  {
   "cell_type": "code",
   "execution_count": null,
   "outputs": [],
   "source": [
    "total = 0\n",
    "\n",
    "with open('data.txt', encoding='utf-8') as file:\n",
    "    for _ in file.readlines():\n",
    "        total += 1\n",
    "\n",
    "print(total)"
   ],
   "metadata": {
    "collapsed": false
   },
   "id": "9e81ea3c49ed78bd"
  },
  {
   "cell_type": "markdown",
   "source": [
    "Ревью кода 😠\n",
    "Требовалось реализовать функцию swapcase_vowels(), которая принимает в качестве аргумента строку, заменяет в ней все гласные латинские буквы на заглавные и возвращает полученную новую строку. Программист торопился и реализовал функцию неправильно.\n",
    "\n",
    "Найдите и исправьте все ошибки, допущенные в реализации этой функции (их ровно 3).\n",
    "\n",
    "Примечание. Известно, что каждая ошибка затрагивает только одну строку и может быть исправлена без изменения других строк."
   ],
   "metadata": {
    "collapsed": false
   },
   "id": "9099eec20898584c"
  },
  {
   "cell_type": "code",
   "execution_count": null,
   "outputs": [],
   "source": [
    "def swapcase_vowels(string):\n",
    "    vowels = 'aeiouy'\n",
    "    swapped_string = ''\n",
    "\n",
    "    for char in string:\n",
    "        if char in vowels:\n",
    "            char = char.upper()\n",
    "        swapped_string += char\n",
    "\n",
    "    return swapped_string"
   ],
   "metadata": {
    "collapsed": false
   },
   "id": "7fe533151c0b4e1a"
  },
  {
   "cell_type": "markdown",
   "source": [
    "Ревью кода 😡\n",
    "Требовалось написать программу, которая принимает на вход два целых числа a и b, каждое на отдельной строке, и выводит список всех целых чисел от a до b включительно, которые делятся на 7 без остатка. Программист торопился и написал программу неправильно.\n",
    "\n",
    "Найдите и исправьте все ошибки, допущенные в этой программе (их ровно 5).\n",
    "\n",
    "Примечание. Известно, что каждая ошибка затрагивает только одну строку и может быть исправлена без изменения других строк."
   ],
   "metadata": {
    "collapsed": false
   },
   "id": "3a7e6b84859ec26f"
  },
  {
   "cell_type": "code",
   "execution_count": null,
   "outputs": [],
   "source": [
    "a = int(input())\n",
    "b = int(input())\n",
    "numbers = list()\n",
    "\n",
    "for i in range(a, b + 1):\n",
    "    if i % 7 == 0:\n",
    "        numbers.append(i)\n",
    "\n",
    "print(numbers)"
   ],
   "metadata": {
    "collapsed": false
   },
   "id": "df67cbbcd514a305"
  },
  {
   "cell_type": "markdown",
   "source": [
    "Ревью кода 🤬\n",
    "Требовалось реализовать функцию get_max_index(), которая принимает в качестве аргумента список различных целых чисел и возвращает индекс наибольшего числа из этого списка (начиная с 0). Программист торопился и реализовал функцию неправильно.\n",
    "\n",
    "Найдите и исправьте все ошибки, допущенные в реализации этой функции (их ровно 4).\n",
    "\n",
    "Примечание. Известно, что каждая ошибка затрагивает только одну строку и может быть исправлена без изменения других строк."
   ],
   "metadata": {
    "collapsed": false
   },
   "id": "4a2927a1f5b2adbd"
  },
  {
   "cell_type": "code",
   "execution_count": null,
   "outputs": [],
   "source": [
    "def get_max_index(numbers: list):\n",
    "    max_index = 0\n",
    "    max_value = numbers[0]\n",
    "\n",
    "    for index, value in enumerate(numbers): \n",
    "        if value > max_value: \n",
    "            max_index = index\n",
    "            max_value = value\n",
    "\n",
    "    return max_index"
   ],
   "metadata": {
    "collapsed": false
   },
   "id": "e0b4f8453e761cb4"
  }
 ],
 "metadata": {
  "kernelspec": {
   "display_name": "Python 3",
   "language": "python",
   "name": "python3"
  },
  "language_info": {
   "codemirror_mode": {
    "name": "ipython",
    "version": 2
   },
   "file_extension": ".py",
   "mimetype": "text/x-python",
   "name": "python",
   "nbconvert_exporter": "python",
   "pygments_lexer": "ipython2",
   "version": "2.7.6"
  }
 },
 "nbformat": 4,
 "nbformat_minor": 5
}

{
 "cells": [
  {
   "cell_type": "markdown",
   "source": [
    "Тема урока: обработка исключений\n",
    "Необязательный блок else\n",
    "Необязательный блок finally\n",
    "Общий шаблон конструкции try-except\n",
    "Аннотация. Урок посвящен работе с исключениями."
   ],
   "metadata": {
    "collapsed": false
   },
   "id": "a2e2ac3f1cecbd8c"
  },
  {
   "cell_type": "markdown",
   "source": [
    "Необязательный блок else"
   ],
   "metadata": {
    "collapsed": false
   },
   "id": "aac78c5eaad79964"
  },
  {
   "cell_type": "markdown",
   "source": [
    "Помимо блоков try и except, в инструкции try-except может также использоваться необязательный блок else.\n",
    "\n",
    "Блок else размещается после последнего ехсерt блока и содержит программный код, который выполняется только в том случае, если при выполнении кода в trу блоке ошибок (исключений) не было."
   ],
   "metadata": {
    "collapsed": false
   },
   "id": "7d4cc2716abf2fc6"
  },
  {
   "cell_type": "code",
   "execution_count": null,
   "outputs": [],
   "source": [
    "try:\n",
    "    pass\n",
    "    # контролируемый код\n",
    "except тип_ошибки_1:\n",
    "    pass\n",
    "    # код обработки ошибки (исключения)\n",
    "except тип_ошибки_2:\n",
    "    pass\n",
    "    # код обработки ошибки (исключения)\n",
    "# ...\n",
    "except тип_ошибки_n:\n",
    "    pass\n",
    "    # код обработки ошибки (исключения)\n",
    "else:\n",
    "    pass\n",
    "    # код для случая, если ошибки (исключения) не было"
   ],
   "metadata": {
    "collapsed": false
   },
   "id": "7d3dddca158f6e16"
  },
  {
   "cell_type": "code",
   "execution_count": 2,
   "outputs": [
    {
     "name": "stdout",
     "output_type": "stream",
     "text": [
      "Квадрат числа равен: 100\n",
      "Ошибки не произошло!\n",
      "Работа программы завершена!\n"
     ]
    }
   ],
   "source": [
    "try:\n",
    "    num = int(input())\n",
    "    print('Квадрат числа равен:', num ** 2)\n",
    "except ValueError:\n",
    "    print('Вы ввели некорректные данные!')\n",
    "else:\n",
    "    print('Ошибки не произошло!')\n",
    "\n",
    "print('Работа программы завершена!')"
   ],
   "metadata": {
    "collapsed": false,
    "ExecuteTime": {
     "end_time": "2024-11-27T05:55:58.874427600Z",
     "start_time": "2024-11-27T05:55:57.752575700Z"
    }
   },
   "id": "e9fa169c8f308be8"
  },
  {
   "cell_type": "markdown",
   "source": [
    "Блок else в конструкции try-except подобен блоку else в конструкциях for/while. Он срабатывает если в контролируемом коде не произошло ошибок (если тело цикла завершилось штатным способом, без break)."
   ],
   "metadata": {
    "collapsed": false
   },
   "id": "e58c0715b39a41e5"
  },
  {
   "cell_type": "markdown",
   "source": [
    "Необязательный блок finally"
   ],
   "metadata": {
    "collapsed": false
   },
   "id": "67f87033392b1b17"
  },
  {
   "cell_type": "markdown",
   "source": [
    "Помимо необязательного блока else, в инструкции try-except можно также использовать необязательный блок finally."
   ],
   "metadata": {
    "collapsed": false
   },
   "id": "42e52243295981a2"
  },
  {
   "cell_type": "markdown",
   "source": [
    "Блок finally размещается после последнего ехсерt блока, либо после блока else, если он присутствует, и содержит программный код, который выполняется в любом случае, независимо от того, возникла ошибка (исключение) при выполнении кода trу блока или нет."
   ],
   "metadata": {
    "collapsed": false
   },
   "id": "ae9fb4e915fe0e79"
  },
  {
   "cell_type": "code",
   "execution_count": null,
   "outputs": [],
   "source": [
    "try:\n",
    "    # контролируемый код\n",
    "except тип_ошибки_1:\n",
    "    # код обработки ошибки (исключения)\n",
    "except тип_ошибки_2:\n",
    "    # код обработки ошибки (исключения)\n",
    "...\n",
    "except тип_ошибки_n:\n",
    "    # код обработки ошибки (исключения)\n",
    "finally:\n",
    "    # код, который выполняется всегда"
   ],
   "metadata": {
    "collapsed": false
   },
   "id": "d3fc059fde24671b"
  },
  {
   "cell_type": "code",
   "execution_count": 3,
   "outputs": [
    {
     "name": "stdout",
     "output_type": "stream",
     "text": [
      "Квадрат числа равен: 100\n",
      "Блок кода выполняется всегда!\n",
      "Работа программы завершена!\n"
     ]
    }
   ],
   "source": [
    "try:\n",
    "    num = int(input())\n",
    "    print('Квадрат числа равен:', num ** 2)\n",
    "except ValueError:\n",
    "    print('Вы ввели некорректные данные!')\n",
    "finally:\n",
    "    print('Блок кода выполняется всегда!')\n",
    "\n",
    "print('Работа программы завершена!')"
   ],
   "metadata": {
    "collapsed": false,
    "ExecuteTime": {
     "end_time": "2024-11-27T05:57:41.530268900Z",
     "start_time": "2024-11-27T05:57:40.386363100Z"
    }
   },
   "id": "a6ebd35c000fd35b"
  },
  {
   "cell_type": "markdown",
   "source": [
    "Блок finally располагается после блока else, в случае присутствия последнего."
   ],
   "metadata": {
    "collapsed": false
   },
   "id": "df2f8ca787080f7d"
  },
  {
   "cell_type": "markdown",
   "source": [
    "Блок finally особенно удобен при работе с файлами, которые нужно обязательно закрывать, независимо от того, произошла ошибка (исключение) или нет."
   ],
   "metadata": {
    "collapsed": false
   },
   "id": "890d412c9354c6a4"
  },
  {
   "cell_type": "code",
   "execution_count": 4,
   "outputs": [
    {
     "name": "stdout",
     "output_type": "stream",
     "text": [
      "Файл с указанным именем не найден!\n"
     ]
    }
   ],
   "source": [
    "try:\n",
    "    file = open('data.txt', encoding='utf-8')\n",
    "    try:\n",
    "        text = file.read()\n",
    "    except:\n",
    "        print('При чтении из файла произошла ошибка!')\n",
    "    else:\n",
    "        print('Чтение из файла прошло успешно!')\n",
    "    finally:\n",
    "        file.close()\n",
    "except FileNotFoundError:\n",
    "    print('Файл с указанным именем не найден!')"
   ],
   "metadata": {
    "collapsed": false,
    "ExecuteTime": {
     "end_time": "2024-11-27T05:58:26.461051600Z",
     "start_time": "2024-11-27T05:58:26.456044100Z"
    }
   },
   "id": "4e9db84d1f7ada5b"
  },
  {
   "cell_type": "markdown",
   "source": [
    "демонстрирует возможность использования блока finally. В этом коде файл будет закрыт в любом случае, вне зависимости от того, произошла ошибка или нет. Обратите также внимание на вложенность блоков try-except."
   ],
   "metadata": {
    "collapsed": false
   },
   "id": "44a2c34faf7d28e8"
  },
  {
   "cell_type": "markdown",
   "source": [
    "Блоки try-except можно вкладывать один в другой. Python никак нас не ограничивает в количестве таких вложений."
   ],
   "metadata": {
    "collapsed": false
   },
   "id": "eed1b678f4044c31"
  },
  {
   "cell_type": "markdown",
   "source": [
    "Блок finally может также использоваться без блоков except и else. В этом случае, если в блоке try возникает ошибка (исключение), то сначала выполняется блок finally, а затем ошибка (исключение) продолжает «всплывание» к обработчику более высокого уровня."
   ],
   "metadata": {
    "collapsed": false
   },
   "id": "cbd6f61b15d44224"
  },
  {
   "cell_type": "code",
   "execution_count": 5,
   "outputs": [
    {
     "name": "stdout",
     "output_type": "stream",
     "text": [
      "Файл с указанным именем не найден!\n"
     ]
    }
   ],
   "source": [
    "try:\n",
    "    file = open('data.txt', encoding='utf-8')\n",
    "    try:\n",
    "        text = file.read()\n",
    "    finally:\n",
    "        file.close()\n",
    "except FileNotFoundError:\n",
    "    print('Файл с указанным именем не найден!')\n",
    "except:\n",
    "    print('Произошла ошибка!')"
   ],
   "metadata": {
    "collapsed": false,
    "ExecuteTime": {
     "end_time": "2024-11-27T06:00:16.785754100Z",
     "start_time": "2024-11-27T06:00:16.783234100Z"
    }
   },
   "id": "c0ce6f3f43d94e15"
  },
  {
   "cell_type": "markdown",
   "source": [
    "Общий шаблон инструкции try-except"
   ],
   "metadata": {
    "collapsed": false
   },
   "id": "96ce32f94962d207"
  },
  {
   "cell_type": "code",
   "execution_count": null,
   "outputs": [],
   "source": [
    "try:\n",
    "    # контролируемый код\n",
    "except тип_ошибки_1:\n",
    "    # код обработки ошибки (исключения)\n",
    "except тип_ошибки_2:\n",
    "    # код обработки ошибки (исключения)\n",
    "...\n",
    "except тип_ошибки_n:\n",
    "    # код обработки ошибки (исключения)\n",
    "else:\n",
    "    # код для случая, если ошибки не было\n",
    "finally:\n",
    "    # код, который выполняется всегда"
   ],
   "metadata": {
    "collapsed": false
   },
   "id": "ce7c68d85e0993ea"
  },
  {
   "cell_type": "markdown",
   "source": [
    "Примечания"
   ],
   "metadata": {
    "collapsed": false
   },
   "id": "1bc8ad41cd9b61e7"
  },
  {
   "cell_type": "markdown",
   "source": [
    "Примечание 1. Необходимо заметить, что при наличии ошибки (исключения) и отсутствии блока except, инструкции внутри блока finally будут выполнены, но ошибка (исключение) не будет обработана. Она продолжит «всплывание» к обработчику более высокого уровня. Если пользовательский обработчик отсутствует, то управление передается обработчику по умолчанию, который прерывает выполнение программы и выводит сообщение об ошибке."
   ],
   "metadata": {
    "collapsed": false
   },
   "id": "67f40b110438e45f"
  },
  {
   "cell_type": "code",
   "execution_count": 6,
   "outputs": [
    {
     "name": "stdout",
     "output_type": "stream",
     "text": [
      "Блoк finally\n"
     ]
    },
    {
     "ename": "ZeroDivisionError",
     "evalue": "division by zero",
     "output_type": "error",
     "traceback": [
      "\u001B[1;31m---------------------------------------------------------------------------\u001B[0m",
      "\u001B[1;31mZeroDivisionError\u001B[0m                         Traceback (most recent call last)",
      "Cell \u001B[1;32mIn[6], line 2\u001B[0m\n\u001B[0;32m      1\u001B[0m \u001B[38;5;28;01mtry\u001B[39;00m:\n\u001B[1;32m----> 2\u001B[0m     х \u001B[38;5;241m=\u001B[39m \u001B[38;5;241;43m10\u001B[39;49m\u001B[43m \u001B[49m\u001B[38;5;241;43m/\u001B[39;49m\u001B[43m \u001B[49m\u001B[38;5;241;43m0\u001B[39;49m\n\u001B[0;32m      3\u001B[0m \u001B[38;5;28;01mfinally\u001B[39;00m:\n\u001B[0;32m      4\u001B[0m     \u001B[38;5;28mprint\u001B[39m(\u001B[38;5;124m'\u001B[39m\u001B[38;5;124mБлoк finally\u001B[39m\u001B[38;5;124m'\u001B[39m)\n",
      "\u001B[1;31mZeroDivisionError\u001B[0m: division by zero"
     ]
    }
   ],
   "source": [
    "try:\n",
    "    х = 10 / 0\n",
    "finally:\n",
    "    print('Блoк finally')"
   ],
   "metadata": {
    "collapsed": false,
    "ExecuteTime": {
     "end_time": "2024-11-27T06:02:07.823639900Z",
     "start_time": "2024-11-27T06:02:07.590707500Z"
    }
   },
   "id": "b6d62d84cfae7b09"
  },
  {
   "cell_type": "markdown",
   "source": [
    "Примечание 2. Инструкции внутри блока finally будут выполнены, даже если блок try содержит break, continue, return."
   ],
   "metadata": {
    "collapsed": false
   },
   "id": "ff3f4d269b8e27e7"
  },
  {
   "cell_type": "markdown",
   "source": [
    "Примечание 3. Следующая особенность работы блока finally связана с обработкой ошибок (исключений) внутри функций. Нужно знать, что блок finally выполняется до return."
   ],
   "metadata": {
    "collapsed": false
   },
   "id": "750cbb3cdd94ce53"
  },
  {
   "cell_type": "code",
   "execution_count": 7,
   "outputs": [
    {
     "name": "stdout",
     "output_type": "stream",
     "text": [
      "Выполняется блок finally!\n",
      "10\n"
     ]
    }
   ],
   "source": [
    "def func():\n",
    "    try:\n",
    "        return 10\n",
    "    finally:\n",
    "        print('Выполняется блок finally!')\n",
    "\n",
    "print(func())"
   ],
   "metadata": {
    "collapsed": false,
    "ExecuteTime": {
     "end_time": "2024-11-27T06:03:08.158318400Z",
     "start_time": "2024-11-27T06:03:08.156794400Z"
    }
   },
   "id": "d95883292dcb6859"
  },
  {
   "cell_type": "markdown",
   "source": [
    "Примечание 4. Интересна ситуация, когда возврат из функции (return) осуществляется как в блоке try, так и в блоке finally. Поскольку блок finally выполняется до return, то результирующее значение будет получено именно из блока finally."
   ],
   "metadata": {
    "collapsed": false
   },
   "id": "71ab9662ff52ae18"
  },
  {
   "cell_type": "code",
   "execution_count": 8,
   "outputs": [
    {
     "name": "stdout",
     "output_type": "stream",
     "text": [
      "20\n"
     ]
    }
   ],
   "source": [
    "def func():\n",
    "    try:\n",
    "        return 10\n",
    "    finally:\n",
    "        return 20\n",
    "\n",
    "print(func())"
   ],
   "metadata": {
    "collapsed": false,
    "ExecuteTime": {
     "end_time": "2024-11-27T06:04:12.005480500Z",
     "start_time": "2024-11-27T06:04:12.003970Z"
    }
   },
   "id": "b30ffc348bebc8af"
  },
  {
   "cell_type": "markdown",
   "source": [
    "Примечание 5. Язык Python поддерживает протокол менеджеров контекста с помощью ключевого слова with. Этот протокол гарантирует выполнение завершающих действий (например, закрытие файла) вне зависимости от того, произошла ошибка (исключение) внутри блока кода или нет. "
   ],
   "metadata": {
    "collapsed": false
   },
   "id": "4ed1b1d55c7f9b59"
  },
  {
   "cell_type": "code",
   "execution_count": null,
   "outputs": [],
   "source": [
    "with open('data.txt', 'r', encoding='utf-8') as file:\n",
    "    text = file.read()"
   ],
   "metadata": {
    "collapsed": false
   },
   "id": "debf1fe22b1e2646"
  },
  {
   "cell_type": "markdown",
   "source": [
    "примерно равнозначен коду:"
   ],
   "metadata": {
    "collapsed": false
   },
   "id": "e6ab0d5f8a31100b"
  },
  {
   "cell_type": "code",
   "execution_count": null,
   "outputs": [],
   "source": [
    "try:\n",
    "    file = open('data.txt', 'r', encoding='utf-8')\n",
    "    try:\n",
    "        text = file.read()\n",
    "    finally:\n",
    "        file.close()\n",
    "except:\n",
    "    pass"
   ],
   "metadata": {
    "collapsed": false
   },
   "id": "d223ea42d9eac19c"
  },
  {
   "cell_type": "markdown",
   "source": [
    "Предпочтение всегда стоит отдавать менеджерам контекста (ключевое слово with), а не блоку try-finally."
   ],
   "metadata": {
    "collapsed": false
   },
   "id": "e35abb2a422de0b8"
  },
  {
   "cell_type": "code",
   "execution_count": 11,
   "outputs": [
    {
     "name": "stdout",
     "output_type": "stream",
     "text": [
      "10\n"
     ]
    }
   ],
   "source": [
    "def f():\n",
    "    try:\n",
    "        x = 10\n",
    "        return x\n",
    "    finally:\n",
    "        x = 20\n",
    "          \n",
    "print(f())"
   ],
   "metadata": {
    "collapsed": false,
    "ExecuteTime": {
     "end_time": "2024-11-27T06:07:48.472461800Z",
     "start_time": "2024-11-27T06:07:48.466935400Z"
    }
   },
   "id": "23e68b76cb9d3058"
  },
  {
   "cell_type": "markdown",
   "source": [
    "Как мы знаем, код в блоке finally выполняется до оператора return, поэтому можно предположить, что после выполнения приведенного выше кода будет выведено значение 20, хотя на самом деле выведено будет 10. Дело в том, что оператор return сохраняет значение возвращаемой переменной, поэтому дальнейшее присвоение переменной x нового значения не повлечет за собой изменения возвращаемого функцией значения.\n",
    "\n",
    "Проиллюстрировать это можно следующий образом:"
   ],
   "metadata": {
    "collapsed": false
   },
   "id": "42068ca1a19778ec"
  },
  {
   "cell_type": "code",
   "execution_count": 9,
   "outputs": [
    {
     "data": {
      "image/png": "[encoded data removed]",
      "text/plain": "<IPython.core.display.Image object>"
     },
     "metadata": {},
     "output_type": "display_data"
    }
   ],
   "source": [
    "from functions import picture\n",
    "picture('Новый проект (1) (7).png')"
   ],
   "metadata": {
    "collapsed": false,
    "ExecuteTime": {
     "end_time": "2024-11-27T06:07:20.989854600Z",
     "start_time": "2024-11-27T06:07:20.977697500Z"
    }
   },
   "id": "52f4b852c603281f"
  },
  {
   "cell_type": "markdown",
   "source": [
    "Для большего понимания рассмотрим следующий код:"
   ],
   "metadata": {
    "collapsed": false
   },
   "id": "7d130c4a09a3ad28"
  },
  {
   "cell_type": "code",
   "execution_count": 10,
   "outputs": [
    {
     "name": "stdout",
     "output_type": "stream",
     "text": [
      "[10, 20]\n"
     ]
    }
   ],
   "source": [
    "def f():\n",
    "    try:\n",
    "        x = [10]\n",
    "        return x\n",
    "    finally:\n",
    "        x.append(20)\n",
    "          \n",
    "print(f())"
   ],
   "metadata": {
    "collapsed": false,
    "ExecuteTime": {
     "end_time": "2024-11-27T06:07:45.846324500Z",
     "start_time": "2024-11-27T06:07:45.843804700Z"
    }
   },
   "id": "2ba1c8a11a55ecdb"
  },
  {
   "cell_type": "markdown",
   "source": [
    "Теперь в переменной x содержится изменяемый объект — список [10]. Оператор return сохраняет данный список в качестве возвращаемого значения, но мы по-прежнему можем к нему обратиться и, например, добавить в него значение 20. Так как оператор return по-прежнему ссылается на этот же список, после выполнения приведенного выше кода будет выведено [10, 20]."
   ],
   "metadata": {
    "collapsed": false
   },
   "id": "448ef0e1daa7852a"
  },
  {
   "cell_type": "code",
   "execution_count": 12,
   "outputs": [
    {
     "name": "stdout",
     "output_type": "stream",
     "text": [
      "10\n"
     ]
    }
   ],
   "source": [
    "def f():\n",
    "    try:\n",
    "        return 10\n",
    "    except:\n",
    "        pass\n",
    "    else:\n",
    "        return 20\n",
    "          \n",
    "print(f())"
   ],
   "metadata": {
    "collapsed": false,
    "ExecuteTime": {
     "end_time": "2024-11-27T06:08:42.836393800Z",
     "start_time": "2024-11-27T06:08:42.833151800Z"
    }
   },
   "id": "c6ea441b835526f4"
  },
  {
   "cell_type": "markdown",
   "source": [
    "Код в блоке else, в отличие от кода в блоке finally, не выполняется всегда, поэтому после первого вызова оператора return со значением 10 функция завершит свое выполнение и уже не перейдет в блок else, несмотря на то что никаких исключений не возникло."
   ],
   "metadata": {
    "collapsed": false
   },
   "id": "b608547448c5ae8d"
  },
  {
   "cell_type": "code",
   "execution_count": 16,
   "outputs": [
    {
     "name": "stdout",
     "output_type": "stream",
     "text": [
      "['1', '2', '3', '4', '5']\n",
      "Произошла ошибка\n",
      "Завершение программы\n"
     ]
    }
   ],
   "source": [
    "numbers = list(filter(int, ['1', '2', '3', '4', '5']))\n",
    "print(numbers)\n",
    "\n",
    "try:\n",
    "    total = sum(numbers)\n",
    "    print(total)\n",
    "except:\n",
    "    print('Произошла ошибка')\n",
    "else:\n",
    "    print('Ошибок не произошло')\n",
    "finally:\n",
    "    print('Завершение программы')"
   ],
   "metadata": {
    "collapsed": false,
    "ExecuteTime": {
     "end_time": "2024-11-27T06:29:32.842530100Z",
     "start_time": "2024-11-27T06:29:32.839012300Z"
    }
   },
   "id": "9d3edac6a9ea058e"
  },
  {
   "cell_type": "markdown",
   "source": [
    "меня смутил этот фильтр. Там же True/False должно быть. Но, технически, непустая строка == True. Поэтому условие фильтрации проходит.\n",
    "\n",
    "А потом меня порадовала функция sum() - он выдаст ошибку, что к int нельзя прибавить str. И, судя по всему, этот int будет браться как \"начальное значение\" непосредственно в самой функции sum(). Там, скорее всего, 0 вшит."
   ],
   "metadata": {
    "collapsed": false
   },
   "id": "d5f60c85d5f55bf2"
  },
  {
   "cell_type": "code",
   "execution_count": 17,
   "outputs": [
    {
     "name": "stdout",
     "output_type": "stream",
     "text": [
      "Произошла ошибка\n",
      "Завершение программы\n",
      "None\n"
     ]
    }
   ],
   "source": [
    "letters = {'a': 'A', 'b': 'B', 'c': 'C'}\n",
    "result = None\n",
    "\n",
    "try:\n",
    "    result = letters['B']\n",
    "except:\n",
    "    print('Произошла ошибка')\n",
    "else:\n",
    "    print('Ошибок не произошло')\n",
    "finally:\n",
    "    print('Завершение программы')\n",
    "    \n",
    "print(result)"
   ],
   "metadata": {
    "collapsed": false,
    "ExecuteTime": {
     "end_time": "2024-11-27T06:32:28.263370Z",
     "start_time": "2024-11-27T06:32:28.260182700Z"
    }
   },
   "id": "ea70144744d569db"
  },
  {
   "cell_type": "markdown",
   "source": [
    "Январь, февраль, ...\n",
    "Напишите программу с использованием конструкции try-except, которая выводит название месяца, соответствующее введенному целому числу (от 1 до 12 включительно), причем\n",
    "\n",
    "если введенное число не принадлежит отрезку [1;12], программа должна вывести текст:\n",
    "Введено число из недопустимого диапазона\n",
    "если введенное значение не является целым числом, программа должна вывести текст:\n",
    "Введено некорректное значение\n",
    "Формат входных данных\n",
    "На вход программе подается единственная строка с произвольным значением.\n",
    "\n",
    "Формат выходных данных\n",
    "Программа должна вывести полное название месяца на английском, соответствующее введенному числу (от 1 до 12 включительно) или текст с соответствующей ошибкой, если введенное значение некорректно.\n",
    "\n",
    "Примечание 1. Для получения списка с названиями месяцев вспомните атрибут month_name из модуля calendar."
   ],
   "metadata": {
    "collapsed": false
   },
   "id": "f28345bfa7446e13"
  },
  {
   "cell_type": "code",
   "execution_count": 37,
   "outputs": [
    {
     "name": "stdout",
     "output_type": "stream",
     "text": [
      "Введено некорректное значение\n"
     ]
    }
   ],
   "source": [
    "import calendar\n",
    "\n",
    "months = dict(zip(list(range(1, 13)), list(calendar.month_name)[1:]))\n",
    "# print(months)\n",
    "\n",
    "# request = int(input())\n",
    "# request = 1\n",
    "request = 'четыре'\n",
    "# request = 13\n",
    "try:\n",
    "    range(1,13)[request]\n",
    "    print(months[request])\n",
    "except TypeError:\n",
    "    print('Введено некорректное значение')\n",
    "except IndexError:\n",
    "    print('Введено число из недопустимого диапазона')"
   ],
   "metadata": {
    "collapsed": false,
    "ExecuteTime": {
     "end_time": "2024-11-27T07:27:22.708654900Z",
     "start_time": "2024-11-27T07:27:22.706645500Z"
    }
   },
   "id": "37d19bca060dcf8f"
  },
  {
   "cell_type": "code",
   "execution_count": null,
   "outputs": [],
   "source": [
    "from calendar import month_name\n",
    "\n",
    "try:\n",
    "    print(dict(enumerate(month_name[1:], 1))[int(input())])\n",
    "except KeyError:\n",
    "    print('Введено число из недопустимого диапазона')\n",
    "except:\n",
    "    print('Введено некорректное значение')"
   ],
   "metadata": {
    "collapsed": false
   },
   "id": "41fa11040794a85a"
  },
  {
   "cell_type": "markdown",
   "source": [
    "Функция add_to_list_in_dict()\n",
    "Реализуйте функцию add_to_list_in_dict() с использованием конструкции try-except, которая принимает три аргумента в следующем порядке:\n",
    "\n",
    "data — словарь списков, то есть словарь, значениями в котором являются списки\n",
    "key — хешируемый объект\n",
    "element — произвольный объект\n",
    "Функция должна добавлять объект element в список по ключу key в словаре data. Если ключа key в словаре data нет, функция должна добавить его в словарь, присвоить ему в качестве значения пустой список и добавить в этот список объект element.\n",
    "\n",
    "Примечание 1. Функция должна изменять переданный словарь и возвращать значение None.\n",
    "\n",
    "Примечание 2. Элементы в список должны добавляться в конец.\n",
    "\n",
    "Примечание 3. В тестирующую систему сдайте программу, содержащую только необходимую функцию add_to_list_in_dict(), но не код, вызывающий ее"
   ],
   "metadata": {
    "collapsed": false
   },
   "id": "94500540b2c0ec65"
  },
  {
   "cell_type": "code",
   "execution_count": 44,
   "outputs": [
    {
     "name": "stdout",
     "output_type": "stream",
     "text": [
      "{'a': [1, 2, 3], 'b': [4, 5, 6, 7]}\n",
      "{'a': [1, 2, 3], 'b': [4, 5, 6], 'c': [7]}\n"
     ]
    }
   ],
   "source": [
    "\n",
    "def add_to_list_in_dict(data: dict, key:object, element: object):\n",
    "    try:\n",
    "        data[key].append(element)\n",
    "    except:\n",
    "        data[key] = [element]\n",
    "    return None\n",
    "\n",
    "\n",
    "data = {'a': [1, 2, 3], 'b': [4, 5, 6]}\n",
    "add_to_list_in_dict(data, 'b', 7)\n",
    "\n",
    "print(data)\n",
    "\n",
    "data = {'a': [1, 2, 3], 'b': [4, 5, 6]}\n",
    "add_to_list_in_dict(data, 'c', 7)\n",
    "\n",
    "print(data)"
   ],
   "metadata": {
    "collapsed": false,
    "ExecuteTime": {
     "end_time": "2024-11-27T07:54:30.854308700Z",
     "start_time": "2024-11-27T07:54:30.849077800Z"
    }
   },
   "id": "355957a67e3b6f03"
  },
  {
   "cell_type": "code",
   "execution_count": null,
   "outputs": [],
   "source": [
    "def add_to_list_in_dict(data: dict, key, element) -> None:\n",
    "    data.setdefault(key, []).append(element)"
   ],
   "metadata": {
    "collapsed": false
   },
   "id": "d9d01e598193da6a"
  },
  {
   "cell_type": "markdown",
   "source": [
    "readme.txt\n",
    "Напишите программу с использованием конструкции try-except, которая принимает на вход название текстового файла и выводит его содержимое. Если файла с данным названием нет в папке с программой, программа должна вывести текст:\n",
    "\n",
    "Файл не найден\n",
    "Формат входных данных\n",
    "На вход программе подается название текстового файла.\n",
    "\n",
    "Формат выходных данных\n",
    "Программа должна вывести содержимое файла с введенным названием или соответствующий текст, если файла с данным названием нет в папке с программой.\n",
    "\n",
    "Примечание 1. Название подаваемого файла уже содержит расширение.\n",
    "\n",
    "Примечание 2. При открытии файла используйте явное указание кодировки UTF-8."
   ],
   "metadata": {
    "collapsed": false
   },
   "id": "9e3f4e2af05e4486"
  },
  {
   "cell_type": "code",
   "execution_count": null,
   "outputs": [],
   "source": [
    "name = input()\n",
    "try:\n",
    "    with open(name, encoding='utf-8') as file:\n",
    "        data = file.read()\n",
    "        print(data)\n",
    "except:\n",
    "    print('Файл не найден')"
   ],
   "metadata": {
    "collapsed": false
   },
   "id": "a7d2b98a5eda5f7c"
  }
 ],
 "metadata": {
  "kernelspec": {
   "display_name": "Python 3",
   "language": "python",
   "name": "python3"
  },
  "language_info": {
   "codemirror_mode": {
    "name": "ipython",
    "version": 2
   },
   "file_extension": ".py",
   "mimetype": "text/x-python",
   "name": "python",
   "nbconvert_exporter": "python",
   "pygments_lexer": "ipython2",
   "version": "2.7.6"
  }
 },
 "nbformat": 4,
 "nbformat_minor": 5
}

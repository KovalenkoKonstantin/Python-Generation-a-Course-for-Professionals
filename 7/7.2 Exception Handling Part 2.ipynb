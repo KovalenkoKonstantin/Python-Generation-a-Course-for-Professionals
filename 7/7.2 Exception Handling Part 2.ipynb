{
 "cells": [
  {
   "cell_type": "markdown",
   "source": [
    "Тема урока: обработка исключений\n",
    "Обработка исключений\n",
    "Конструкция try-except\n",
    "Основные типы исключений\n",
    "Аннотация. Урок посвящен работе с исключениями."
   ],
   "metadata": {
    "collapsed": false
   },
   "id": "33635b5d9632a3f5"
  },
  {
   "cell_type": "markdown",
   "source": [
    "Обработка исключений"
   ],
   "metadata": {
    "collapsed": false
   },
   "id": "263c3bcd9d6eb230"
  },
  {
   "cell_type": "markdown",
   "source": [
    "Далеко не для каждой ошибки можно выполнить обработку так, чтобы программа продолжала выполняться. Однако в некоторых случаях такая обработка может быть выполнена. Собственно, о таких потенциально \"отлавливаемых\" ошибках, их перехвате и обработке будет идти речь в этом уроке."
   ],
   "metadata": {
    "collapsed": false
   },
   "id": "1e2d8f8f6e470a3b"
  },
  {
   "cell_type": "markdown",
   "source": [
    "Общая идея, заложенная в основу метода обработки исключений, такая: программный код, в котором теоретически может возникнуть ошибка, выделяется специальным образом – \"берется на контроль\". Если при выполнении этого программного кода ошибка не возникает, то ничего особенного не происходит. Если при выполнении \"контролируемого\" кода возникает ошибка, то выполнение кода останавливается и автоматически создается объект-исключение, содержащий описание возникшей ошибки."
   ],
   "metadata": {
    "collapsed": false
   },
   "id": "109288a1aa6e7d65"
  },
  {
   "cell_type": "markdown",
   "source": [
    "С практической точки зрения мы можем думать об исключении как о некотором сообщении, которое генерируется интерпретатором Python в силу возникшей ошибки при выполнении кода или из-за некоторых других обстоятельств, близких по своей природе к ошибке выполнения кода. Хотя ошибка и исключение – это не одно и то же (исключение является\n",
    "следствием ошибки), мы обычно отождествляем эти понятия."
   ],
   "metadata": {
    "collapsed": false
   },
   "id": "1d03db9f0933da2d"
  },
  {
   "cell_type": "markdown",
   "source": [
    "Для обработки исключительных ситуаций в языке Python используется конструкция try-except. Существуют разные вариации использования этой конструкции. Мы начнем с наиболее простой."
   ],
   "metadata": {
    "collapsed": false
   },
   "id": "3e0349da82ef938f"
  },
  {
   "cell_type": "markdown",
   "source": [
    "После ключевого слова try и двоеточия размещается блок программного кода, который мы подозреваем на предмет возможного возникновения ошибки. Этот код будем называть контролируемым. По завершении этого блока указывается ключевое слово except (с двоеточием), после которого идет еще один блок программного кода. Этот код будем называть кодом обработки ошибки (исключения)."
   ],
   "metadata": {
    "collapsed": false
   },
   "id": "b0ee34e0f330af43"
  },
  {
   "cell_type": "code",
   "execution_count": null,
   "outputs": [],
   "source": [
    "try:\n",
    "    # контролируемый код\n",
    "except:\n",
    "    # код обработки ошибки (исключения)"
   ],
   "metadata": {
    "collapsed": false
   },
   "id": "36015e982f327e88"
  },
  {
   "cell_type": "markdown",
   "source": [
    "Если при выполнении кода в блоке try ошибка не возникла, то код обработки ошибки (исключения) в блоке except выполняться не будет. Если при выполнении кода в блоке try возникла ошибка, то выполнение кода trу блока прекращается, и выполняется код обработки ошибки (исключения) в блоке except. После этого управление передается следующей команде после конструкции try-except"
   ],
   "metadata": {
    "collapsed": false
   },
   "id": "f26340cf607c8db8"
  },
  {
   "cell_type": "markdown",
   "source": [
    "Рассмотрим пример использования инструкции try-except. Контролируемый код содержит считывание данных от пользователя с последующей конвертацией к числовому типу int и выводом частного введенных чисел."
   ],
   "metadata": {
    "collapsed": false
   },
   "id": "dbe0f84295ca0533"
  },
  {
   "cell_type": "code",
   "execution_count": null,
   "outputs": [],
   "source": [
    "try:\n",
    "    num1 = int(input())\n",
    "    num2 = int(input())\n",
    "    print('Частное чисел равно', num1 / num2)\n",
    "except:\n",
    "    print('Вы ввели некорректные данные!')\n",
    "\n",
    "print('Работа программы завершена!')"
   ],
   "metadata": {
    "collapsed": false
   },
   "id": "e10cce0b066a4c24"
  },
  {
   "cell_type": "markdown",
   "source": [
    "Ситуация 3. На вход подаются два целых числа, второе из которых ноль, например 10 и 0. Тогда результатом выполнения кода будет:"
   ],
   "metadata": {
    "collapsed": false
   },
   "id": "2d7451f8bf32d8d"
  },
  {
   "cell_type": "markdown",
   "source": [
    "Вы ввели некорректные данные!\n",
    "Работа программы завершена!"
   ],
   "metadata": {
    "collapsed": false
   },
   "id": "1a36a24733cd416f"
  },
  {
   "cell_type": "markdown",
   "source": [
    "Обратите внимание на последнюю строчку программного кода, она находится вне конструкции try-except и будет выполняться всегда независимо от того, произошла ошибка или нет."
   ],
   "metadata": {
    "collapsed": false
   },
   "id": "c4b8395ee6904891"
  },
  {
   "cell_type": "markdown",
   "source": [
    "Схема обработки ошибок (исключений), описанная выше, во многом проста и удобна. Но она не лишена недостатков. В первую очередь сразу бросается в глаза, что разные ошибки (исключения) обрабатываются одинаково. То есть, какая бы ни возникла ошибка (исключение), реакция программы будет одна и та же."
   ],
   "metadata": {
    "collapsed": false
   },
   "id": "d6e95fe1428106cc"
  },
  {
   "cell_type": "markdown",
   "source": [
    "Обработка нескольких исключений"
   ],
   "metadata": {
    "collapsed": false
   },
   "id": "4b98f619ec23d518"
  },
  {
   "cell_type": "markdown",
   "source": [
    "Более утонченная обработка ошибок (исключительных ситуаций) подразумевает более индивидуальный подход. Речь идет о том, чтобы обработка ошибок базировалась на типе или характере ошибки. Разумеется, это возможно. Причем описанная выше схема обработки исключений претерпевает минимальные изменения. В конструкции try-except после блока try указывается несколько ехсерt блоков, причем для каждого блока явно указывается тип ошибки (исключения), который обрабатывается в этом блоке. Ключевое слово, определяющее тип ошибки, указывается после ключевого слова except соответствующего блока."
   ],
   "metadata": {
    "collapsed": false
   },
   "id": "20e78a360463bcc5"
  },
  {
   "cell_type": "code",
   "execution_count": null,
   "outputs": [],
   "source": [
    "try:\n",
    "    # контролируемый код\n",
    "except тип_ошибки_1:\n",
    "    # код обработки ошибки (исключения)\n",
    "except тип_ошибки_2:\n",
    "    # код обработки ошибки (исключения)\n",
    "...\n",
    "except тип_ошибки_n:\n",
    "    # код обработки ошибки (исключения)"
   ],
   "metadata": {
    "collapsed": false
   },
   "id": "4391121991fed9c8"
  },
  {
   "cell_type": "markdown",
   "source": [
    "Этот код выполняется следующим образом. Выполняются команды trу блока. Если возникла ошибка, то выполнение команд trу блока прекращается и начинается последовательный просмотр ехсерt блоков на предмет совпадения типа ошибки, которая возникла, и типа ошибки, указанного после ключевого слова в ехсерt блоке. Как только совпадение найдено, выполняются команды соответствующего ехсерt блока, после чего управление переходит к команде после конструкции try-except."
   ],
   "metadata": {
    "collapsed": false
   },
   "id": "f0d7061683c098db"
  },
  {
   "cell_type": "markdown",
   "source": [
    "Если при переборе ехсерt блоков совпадение по типу ошибки не найдено, выполнение кода прекращается и появляется сообщение об ошибке. Если при выполнении trу блока ошибок не было, коды в ехсерt блоках не выполняются."
   ],
   "metadata": {
    "collapsed": false
   },
   "id": "654c8072b3b74893"
  },
  {
   "cell_type": "code",
   "execution_count": null,
   "outputs": [],
   "source": [
    "try:\n",
    "    num1 = int(input())\n",
    "    num2 = int(input())\n",
    "    print('Частное чисел равно', num1 / num2)\n",
    "except ValueError:\n",
    "    print('Нужно было ввести числа!')\n",
    "except ZeroDivisionError:\n",
    "    print('На ноль делить нельзя!')\n",
    "\n",
    "print('Работа программы завершена!')"
   ],
   "metadata": {
    "collapsed": false
   },
   "id": "255f2230cd1faaad"
  },
  {
   "cell_type": "markdown",
   "source": [
    "Как мы видим, по сравнению с предыдущим примером изменилась только та часть кода, что связана с ехсерt блоками. Теперь мы имеем два except блока. После первого ключевого слова except указано название ValueError. К типу ValueError относятся ошибки, возникающие при передаче в функцию аргумента с неподдерживаемым значением. Во втором ехсерt блоке обрабатываются ошибки типа ZeroDivisionError. К этому типу относятся ошибки, возникающие при попытке выполнить деление на ноль."
   ],
   "metadata": {
    "collapsed": false
   },
   "id": "11085c724d5f3fa4"
  },
  {
   "cell_type": "markdown",
   "source": [
    "Для каждого ехсерt блока предлагается свой программный код (в обоих случаях выводится сообщение с информацией о том, что произошло). При выполнении кода в блоке try если произошла ошибка, тип этой ошибки сначала сопоставляется с типом ошибки ValueError в первом ехсерt блоке. Если совпадение есть, то выполняется код этого блока. Если совпадения нет, проверяется совпадение типа ошибки с классом ошибки ZeroDivisionError во втором ехсерt блоке. Если есть совпадение – выполняется код данного ехсерt блока. Если же и здесь совпадения нет, выполнение программы завершается и появляется автоматически сгенерированное интерпретатором сообщение об ошибке."
   ],
   "metadata": {
    "collapsed": false
   },
   "id": "af57e105f69ef4b6"
  },
  {
   "cell_type": "markdown",
   "source": [
    "Стоит также обратить внимание на следующее обстоятельство: обрабатываются в данном случае только ошибки типов ValueError и ZeroDivisionError. Если бы теоретически возникла ошибка какого-то иного типа, то она бы перехвачена не была."
   ],
   "metadata": {
    "collapsed": false
   },
   "id": "7469dba758d7b99c"
  },
  {
   "cell_type": "markdown",
   "source": [
    "В рассмотренном выше примере мы создали для разных типов ошибок разные ехсерt блоки. Иногда приходится для нескольких типов ошибок создавать один ехсерt блок. В этом случае после ключевого слова except в круглых скобках через запятую перечисляются те типы ошибок, для которых выполняется обработка в данном блоке."
   ],
   "metadata": {
    "collapsed": false
   },
   "id": "736bd95832ba6fba"
  },
  {
   "cell_type": "code",
   "execution_count": null,
   "outputs": [],
   "source": [
    "try:\n",
    "    num1 = int(input())\n",
    "    num2 = int(input())\n",
    "    print('Частное чисел равно', num1 / num2)\n",
    "except (ValueError, IndexError, KeyError):\n",
    "    print('Тут обрабатываются сразу три типа ошибок!')\n",
    "except ZeroDivisionError:\n",
    "    print('На ноль делить нельзя!')\n",
    "except:\n",
    "    print('Если не сработал ни один из предыдущих блоков except.')\n",
    "\n",
    "print('Работа программы завершена!')"
   ],
   "metadata": {
    "collapsed": false
   },
   "id": "c93cafd1a36b259"
  },
  {
   "cell_type": "markdown",
   "source": [
    "Обратите внимание также на последний блок except. Он будет обрабатывать любой тип исключения, отличный от указанных выше, причем такой блок должен быть только один, иначе возникнет ошибка (исключение) SyntaxError"
   ],
   "metadata": {
    "collapsed": false
   },
   "id": "ff624bf03c2cb40"
  },
  {
   "cell_type": "markdown",
   "source": [
    "Основные типы исключений"
   ],
   "metadata": {
    "collapsed": false
   },
   "id": "cf0ba9784f8e21b1"
  },
  {
   "cell_type": "markdown",
   "source": [
    "Что касается типов исключений, наибольший интерес с практической точки зрения представляют следующие:\n",
    "\n",
    "IndexError: возникает, когда индекс (например, для элемента списка) указан неправильно (выходит за границы допустимого диапазона)\n",
    "KeyError: возникает при неверно указанном ключе словаря\n",
    "NameError: возникает, если не удается найти переменную с некоторым названием\n",
    "SyntaxError: возникает при наличии в исходном коде синтаксических ошибок\n",
    "TypeError: возникает при несоответствии типов, когда для обработки требуется значение определенного типа, а передается значение другого типа\n",
    "FileNotFoundError: возникает при открытии несуществующего файла\n",
    "ValueError: возникает, когда в функцию передается аргумент с неподдерживаемым значением\n",
    "ZeroDivisionError: возникает при попытке выполнить деление на ноль"
   ],
   "metadata": {
    "collapsed": false
   },
   "id": "21645f3bf0c7ee4d"
  },
  {
   "cell_type": "markdown",
   "source": [
    "Примечания"
   ],
   "metadata": {
    "collapsed": false
   },
   "id": "2b28039264321766"
  },
  {
   "cell_type": "markdown",
   "source": [
    "Примечание 1. Помимо \"возникло исключение\", в отношении исключений также часто говорят \"было возбуждено исключение\"."
   ],
   "metadata": {
    "collapsed": false
   },
   "id": "915fcfe1fe217c98"
  },
  {
   "cell_type": "markdown",
   "source": [
    "Примечание 2. Важно понимать разницу между типами исключений TypeError и ValueError"
   ],
   "metadata": {
    "collapsed": false
   },
   "id": "58fcd72f4d54ab50"
  },
  {
   "cell_type": "markdown",
   "source": [
    "Исключение TypeError возникает, когда встроенная функция (или операция) применяется к объекту неподходящего типа."
   ],
   "metadata": {
    "collapsed": false
   },
   "id": "36e2fa4d9c539aa8"
  },
  {
   "cell_type": "code",
   "execution_count": 1,
   "outputs": [
    {
     "ename": "TypeError",
     "evalue": "can only concatenate str (not \"int\") to str",
     "output_type": "error",
     "traceback": [
      "\u001B[1;31m---------------------------------------------------------------------------\u001B[0m",
      "\u001B[1;31mTypeError\u001B[0m                                 Traceback (most recent call last)",
      "Cell \u001B[1;32mIn[1], line 1\u001B[0m\n\u001B[1;32m----> 1\u001B[0m \u001B[38;5;28mprint\u001B[39m(\u001B[38;5;124;43m'\u001B[39;49m\u001B[38;5;124;43mbeegeek\u001B[39;49m\u001B[38;5;124;43m'\u001B[39;49m\u001B[43m \u001B[49m\u001B[38;5;241;43m+\u001B[39;49m\u001B[43m \u001B[49m\u001B[38;5;241;43m2022\u001B[39;49m)\n",
      "\u001B[1;31mTypeError\u001B[0m: can only concatenate str (not \"int\") to str"
     ]
    }
   ],
   "source": [
    "print('beegeek' + 2022)"
   ],
   "metadata": {
    "collapsed": false,
    "ExecuteTime": {
     "end_time": "2024-11-26T12:41:49.413539Z",
     "start_time": "2024-11-26T12:41:49.159583800Z"
    }
   },
   "id": "14a80c924b2da9ee"
  },
  {
   "cell_type": "markdown",
   "source": [
    "Исключение ValueError возникает, когда встроенная функция (или операция) получает аргумент правильного типа, но с неподходящим значением, и ситуация не описывается более точным исключением, например, таким как IndexError."
   ],
   "metadata": {
    "collapsed": false
   },
   "id": "8cbb25ba469f0adc"
  },
  {
   "cell_type": "code",
   "execution_count": 2,
   "outputs": [
    {
     "ename": "ValueError",
     "evalue": "invalid literal for int() with base 10: 'beegeek'",
     "output_type": "error",
     "traceback": [
      "\u001B[1;31m---------------------------------------------------------------------------\u001B[0m",
      "\u001B[1;31mValueError\u001B[0m                                Traceback (most recent call last)",
      "Cell \u001B[1;32mIn[2], line 1\u001B[0m\n\u001B[1;32m----> 1\u001B[0m num \u001B[38;5;241m=\u001B[39m \u001B[38;5;28;43mint\u001B[39;49m\u001B[43m(\u001B[49m\u001B[38;5;124;43m'\u001B[39;49m\u001B[38;5;124;43mbeegeek\u001B[39;49m\u001B[38;5;124;43m'\u001B[39;49m\u001B[43m)\u001B[49m\n",
      "\u001B[1;31mValueError\u001B[0m: invalid literal for int() with base 10: 'beegeek'"
     ]
    }
   ],
   "source": [
    "num = int('beegeek')"
   ],
   "metadata": {
    "collapsed": false,
    "ExecuteTime": {
     "end_time": "2024-11-26T12:42:12.325303400Z",
     "start_time": "2024-11-26T12:42:12.298599200Z"
    }
   },
   "id": "93d5ee9fb9fff528"
  },
  {
   "cell_type": "code",
   "execution_count": 3,
   "outputs": [
    {
     "ename": "IndexError",
     "evalue": "list index out of range",
     "output_type": "error",
     "traceback": [
      "\u001B[1;31m---------------------------------------------------------------------------\u001B[0m",
      "\u001B[1;31mIndexError\u001B[0m                                Traceback (most recent call last)",
      "Cell \u001B[1;32mIn[3], line 3\u001B[0m\n\u001B[0;32m      1\u001B[0m nums \u001B[38;5;241m=\u001B[39m [\u001B[38;5;241m1\u001B[39m, \u001B[38;5;241m2\u001B[39m, \u001B[38;5;241m3\u001B[39m]\n\u001B[1;32m----> 3\u001B[0m \u001B[38;5;28mprint\u001B[39m(\u001B[43mnums\u001B[49m\u001B[43m[\u001B[49m\u001B[38;5;241;43m7\u001B[39;49m\u001B[43m]\u001B[49m)\n",
      "\u001B[1;31mIndexError\u001B[0m: list index out of range"
     ]
    }
   ],
   "source": [
    "nums = [1, 2, 3]\n",
    "\n",
    "print(nums[7])"
   ],
   "metadata": {
    "collapsed": false,
    "ExecuteTime": {
     "end_time": "2024-11-26T12:42:23.932317800Z",
     "start_time": "2024-11-26T12:42:23.915393600Z"
    }
   },
   "id": "5b750d8ad1adb2ba"
  },
  {
   "cell_type": "markdown",
   "source": [
    "Примечание 4. При работе с исключениями бывает удобно иногда использовать оператор pass, равноценный отсутствию операции. В ходе исполнения данного оператора ничего не происходит, поэтому он может использоваться в качестве заглушки в тех местах, где это синтаксически необходимо, например, в инструкциях, где тело является обязательным, таких как def, except, with и т.д:"
   ],
   "metadata": {
    "collapsed": false
   },
   "id": "b79bb2257bead183"
  },
  {
   "cell_type": "code",
   "execution_count": null,
   "outputs": [],
   "source": [
    "def do_something():\n",
    "    pass  \n",
    "\n",
    "try:\n",
    "    print('beegeek')\n",
    "except:\n",
    "    pass\n",
    "\n",
    "with open('beegeek.txt') as file:\n",
    "    pass"
   ],
   "metadata": {
    "collapsed": false
   },
   "id": "cf86facfdb57f901"
  },
  {
   "cell_type": "markdown",
   "source": [
    "Примечание 5. Обработчики исключений обрабатывают исключения не только в том случае, если они возникают непосредственно в блоке try, но и в том случае, если они возникают внутри функций, вызываемых в блоке try."
   ],
   "metadata": {
    "collapsed": false
   },
   "id": "c8342caccde65725"
  },
  {
   "cell_type": "code",
   "execution_count": 4,
   "outputs": [
    {
     "name": "stdout",
     "output_type": "stream",
     "text": [
      "Деление на ноль\n"
     ]
    }
   ],
   "source": [
    "def this_fails():\n",
    "    num = 1 / 0\n",
    "\n",
    "try:\n",
    "    this_fails()\n",
    "except ZeroDivisionError:\n",
    "    print('Деление на ноль')"
   ],
   "metadata": {
    "collapsed": false,
    "ExecuteTime": {
     "end_time": "2024-11-26T12:43:26.070035Z",
     "start_time": "2024-11-26T12:43:26.067517500Z"
    }
   },
   "id": "61ba2f6b5de9e285"
  },
  {
   "cell_type": "code",
   "execution_count": 7,
   "outputs": [
    {
     "data": {
      "image/jpeg": "[encoded data removed]",
      "text/plain": "<IPython.core.display.Image object>"
     },
     "metadata": {},
     "output_type": "display_data"
    }
   ],
   "source": [
    "from functions import picture\n",
    "picture('image002.jpg')"
   ],
   "metadata": {
    "collapsed": false,
    "ExecuteTime": {
     "end_time": "2024-11-26T12:49:41.510075500Z",
     "start_time": "2024-11-26T12:49:41.506076400Z"
    }
   },
   "id": "9ec51082817e2e72"
  },
  {
   "cell_type": "markdown",
   "source": [
    "Вам доступна программа, которая находит сумму всех значений по ключу Likes из всех словарей списка blog_posts. Если словарь не содержит ключа Likes, его значение считается равным минус единице. Дополните приведенный ниже код конструкцией try-except, чтобы он выполнился без ошибок."
   ],
   "metadata": {
    "collapsed": false
   },
   "id": "476d1e1a6dfdbeb7"
  },
  {
   "cell_type": "code",
   "execution_count": null,
   "outputs": [],
   "source": [
    "blog_posts = [{'Photos': 3, 'Likes': 21, 'Comments': 2}, \n",
    "              {'Likes': 13, 'Comments': 2, 'Shares': 1}, \n",
    "              {'Photos': 5, 'Likes': 33, 'Comments': 8, 'Shares': 3}, \n",
    "              {'Comments': 4, 'Shares': 2}, \n",
    "              {'Photos': 8, 'Comments': 1, 'Shares': 1}, \n",
    "              {'Photos': 3, 'Likes': 19, 'Comments': 3}]\n",
    "\n",
    "total_likes = 0\n",
    "\n",
    "for post in blog_posts:\n",
    "    try:\n",
    "        total_likes += post['Likes']\n",
    "    except:\n",
    "        total_likes -= 1\n",
    "\n",
    "print(total_likes)"
   ],
   "metadata": {
    "collapsed": false
   },
   "id": "afeec684613d0127"
  },
  {
   "cell_type": "markdown",
   "source": [
    "Вам доступна программа, которая добавляет в список fifth пятую букву каждого слова из списка food. Если слово не имеет пятой буквы, этой буквой считается символ _. Дополните приведенный ниже код конструкцией try-except, чтобы он выполнился без ошибок."
   ],
   "metadata": {
    "collapsed": false
   },
   "id": "f2e240d483a976fb"
  },
  {
   "cell_type": "code",
   "execution_count": null,
   "outputs": [],
   "source": [
    "food = ['chocolate', 'chicken', 'corn', 'sandwich', 'soup', 'potatoes', 'beef', 'lox', 'lemonade']\n",
    "fifth = []\n",
    "\n",
    "for x in food:\n",
    "    try:\n",
    "        fifth.append(x[4])\n",
    "    except:\n",
    "        fifth.append('_')\n",
    "\n",
    "print(fifth)"
   ],
   "metadata": {
    "collapsed": false
   },
   "id": "1fc69441e24d1d38"
  },
  {
   "cell_type": "markdown",
   "source": [
    "Вам доступна программа, которая добавляет в список remainders остаток от деления 36 на каждое число из списка numbers. Если число равно нулю, оно игнорируется. Дополните приведенный ниже код конструкцией try-except, чтобы он выполнился без ошибок."
   ],
   "metadata": {
    "collapsed": false
   },
   "id": "ed03ec59677f6872"
  },
  {
   "cell_type": "code",
   "execution_count": null,
   "outputs": [],
   "source": [
    "numbers = [6, 0, 36, 8, 2, 36, 0, 12, 60, 0, 45, 0, 3, 23]\n",
    "\n",
    "remainders = []\n",
    "\n",
    "for number in numbers:\n",
    "    try:\n",
    "        remainders.append(36 % number)\n",
    "    except:\n",
    "        pass # continue\n",
    "\n",
    "print(remainders)"
   ],
   "metadata": {
    "collapsed": false
   },
   "id": "a210e728be1bf1a8"
  },
  {
   "cell_type": "markdown",
   "source": [
    "Only numbers\n",
    "На вход программе подается неопределенное количество строк, каждая из которых содержит произвольное значение. Напишите программу с использованием конструкции try-except, которая выводит сумму всех введенных чисел, а затем — количество введенных нечисловых значений.\n",
    "\n",
    "Формат входных данных\n",
    "На вход программе подается неопределенное количество строк (хотя бы одна), каждая из которых содержит произвольное значение.\n",
    "\n",
    "Формат выходных данных\n",
    "Программа должна вывести сумму всех введенных чисел (тип int и float), а затем на следующей строке — количество введенных нечисловых значений.\n",
    "\n",
    "Примечание 1. Если ни одно число введено не было, то сумма равна 0.\n",
    "\n",
    "Примечание 2. Рассмотрим первый тест. Имеем три введенных числа, сумма которых равна: 100+10+1.1=111.1\n",
    "Также три нечисловых значения, а именно: i'm number!, [1, 99], {'math', 'physics'}"
   ],
   "metadata": {
    "collapsed": false
   },
   "id": "39442c89f8be5708"
  },
  {
   "cell_type": "code",
   "execution_count": null,
   "outputs": [],
   "source": [
    "from sys import stdin\n",
    "\n",
    "lst = [i.strip() for i in stdin.readlines()]\n",
    "print(lst)\n",
    "\n",
    "numbers = list()\n",
    "not_numbers = list()\n",
    "\n",
    "for item in lst:\n",
    "    try:\n",
    "        numbers.append(float(item))\n",
    "    except:\n",
    "        not_numbers.append(item)\n",
    "\n",
    "check = sum(numbers)\n",
    "if check.is_integer():\n",
    "    print(int(check))\n",
    "else: print(check)\n",
    "print(len(not_numbers))"
   ],
   "metadata": {
    "collapsed": false
   },
   "id": "149bf33caa62fc37"
  },
  {
   "cell_type": "code",
   "execution_count": null,
   "outputs": [],
   "source": [
    "import sys\n",
    "s, counter = 0, 0\n",
    "for line in sys.stdin:\n",
    "    try:\n",
    "        s += int(line)\n",
    "    except ValueError:\n",
    "        try:\n",
    "            s += float(line)\n",
    "        except ValueError:\n",
    "            counter += 1\n",
    "print(s)\n",
    "print(counter)"
   ],
   "metadata": {
    "collapsed": false
   },
   "id": "35122e2e2f9db47b"
  }
 ],
 "metadata": {
  "kernelspec": {
   "display_name": "Python 3",
   "language": "python",
   "name": "python3"
  },
  "language_info": {
   "codemirror_mode": {
    "name": "ipython",
    "version": 2
   },
   "file_extension": ".py",
   "mimetype": "text/x-python",
   "name": "python",
   "nbconvert_exporter": "python",
   "pygments_lexer": "ipython2",
   "version": "2.7.6"
  }
 },
 "nbformat": 4,
 "nbformat_minor": 5
}

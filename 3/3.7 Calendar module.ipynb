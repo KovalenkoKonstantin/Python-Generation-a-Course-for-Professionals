{
 "cells": [
  {
   "cell_type": "markdown",
   "source": [
    "Тема урока: модуль calendar\n",
    "Модуль calendar\n",
    "Атрибуты day_name, day_abbr, month_name, month_abbr\n",
    "Функции setfirstweekday(), firstweekday()\n",
    "Функции isleap(), leapdays()\n",
    "Функции weekday(), monthrange(), monthcalendar()\n",
    "Функции month(), calendar(), prmonth(), prcal()\n",
    "Аннотация. Урок посвящен модулю calendar, который содержит полезные типы данных и функции для работы с календарем."
   ],
   "metadata": {
    "collapsed": false
   },
   "id": "e4a7c950b62d5be6"
  },
  {
   "cell_type": "markdown",
   "source": [
    "Модуль calendar"
   ],
   "metadata": {
    "collapsed": false
   },
   "id": "5fe28e0daf8fd5f1"
  },
  {
   "cell_type": "markdown",
   "source": [
    "По умолчанию модуль calendar следует григорианскому календарю, где понедельник является первым днем недели (имеет номер 0), а воскресенье — последним днем недели (имеет номер 6). В отличие от уже изученных модулей datetime и time, которые также предоставляют функции, связанные с календарем, модуль calendar предоставляет основные функции, связанные с отображением и манипулированием календарями."
   ],
   "metadata": {
    "collapsed": false
   },
   "id": "375076312f9a94dc"
  },
  {
   "cell_type": "code",
   "execution_count": 2,
   "outputs": [],
   "source": [
    "import calendar"
   ],
   "metadata": {
    "collapsed": false,
    "ExecuteTime": {
     "end_time": "2024-09-25T07:18:54.284262Z",
     "start_time": "2024-09-25T07:18:54.282102800Z"
    }
   },
   "id": "5231e2107b97907d"
  },
  {
   "cell_type": "markdown",
   "source": [
    "Атрибуты модуля calendar"
   ],
   "metadata": {
    "collapsed": false
   },
   "id": "56798cac5982fb1f"
  },
  {
   "cell_type": "markdown",
   "source": [
    "В отличие от функций, которые выполняют определенную работу, в модуле calendar есть полезные атрибуты, которые возвращают константные (общепринятые) значения, полезные при решении практических задач."
   ],
   "metadata": {
    "collapsed": false
   },
   "id": "f02f2d90975cad86"
  },
  {
   "cell_type": "markdown",
   "source": [
    "Атрибут day_name"
   ],
   "metadata": {
    "collapsed": false
   },
   "id": "f788dee8756aae9b"
  },
  {
   "cell_type": "markdown",
   "source": [
    "Атрибут calendar.day_name возвращает итерируемый объект, содержащий названия дней недели на английском языке."
   ],
   "metadata": {
    "collapsed": false
   },
   "id": "caa67840b4f9f736"
  },
  {
   "cell_type": "code",
   "execution_count": 3,
   "outputs": [
    {
     "name": "stdout",
     "output_type": "stream",
     "text": [
      "Monday\n",
      "Tuesday\n",
      "Wednesday\n",
      "Thursday\n",
      "Friday\n",
      "Saturday\n",
      "Sunday\n"
     ]
    }
   ],
   "source": [
    "import calendar\n",
    "\n",
    "for name in calendar.day_name:\n",
    "    print(name)"
   ],
   "metadata": {
    "collapsed": false,
    "ExecuteTime": {
     "end_time": "2024-09-25T07:19:48.121764200Z",
     "start_time": "2024-09-25T07:19:48.118101200Z"
    }
   },
   "id": "b88dbeab3fb4c673"
  },
  {
   "cell_type": "markdown",
   "source": [
    "Обратите внимание, что при обращении к атрибуту мы не ставим скобки, которые ставим при вызове функции."
   ],
   "metadata": {
    "collapsed": false
   },
   "id": "9fe87fd948a0f43"
  },
  {
   "cell_type": "markdown",
   "source": [
    "Для локализации на русский язык мы используем код:"
   ],
   "metadata": {
    "collapsed": false
   },
   "id": "84c744855751b685"
  },
  {
   "cell_type": "code",
   "execution_count": 4,
   "outputs": [
    {
     "name": "stdout",
     "output_type": "stream",
     "text": [
      "понедельник\n",
      "вторник\n",
      "среда\n",
      "четверг\n",
      "пятница\n",
      "суббота\n",
      "воскресенье\n"
     ]
    }
   ],
   "source": [
    "import calendar, locale\n",
    "\n",
    "locale.setlocale(locale.LC_ALL, 'ru_RU.UTF-8')\n",
    "\n",
    "for name in calendar.day_name:\n",
    "    print(name)"
   ],
   "metadata": {
    "collapsed": false,
    "ExecuteTime": {
     "end_time": "2024-09-25T07:20:34.400718100Z",
     "start_time": "2024-09-25T07:20:34.394412300Z"
    }
   },
   "id": "2c848c51b9a5b334"
  },
  {
   "cell_type": "markdown",
   "source": [
    "Обратите внимание, что на русском языке названия дней недели выводятся с маленькой буквы. Для того чтобы сделать первую букву заглавной, можно использовать строковый метод title()."
   ],
   "metadata": {
    "collapsed": false
   },
   "id": "333752f2cb563933"
  },
  {
   "cell_type": "code",
   "execution_count": 5,
   "outputs": [
    {
     "name": "stdout",
     "output_type": "stream",
     "text": [
      "Понедельник\n",
      "Вторник\n",
      "Среда\n",
      "Четверг\n",
      "Пятница\n",
      "Суббота\n",
      "Воскресенье\n"
     ]
    }
   ],
   "source": [
    "import calendar, locale\n",
    "\n",
    "locale.setlocale(locale.LC_ALL, 'ru_RU.UTF-8')\n",
    "\n",
    "for name in calendar.day_name:\n",
    "    print(name.title())"
   ],
   "metadata": {
    "collapsed": false,
    "ExecuteTime": {
     "end_time": "2024-09-25T07:21:15.249070600Z",
     "start_time": "2024-09-25T07:21:15.244820700Z"
    }
   },
   "id": "f3f5f1cfa762b847"
  },
  {
   "cell_type": "markdown",
   "source": [
    "Для преобразования итерируемого объекта в список мы используем следующий код: "
   ],
   "metadata": {
    "collapsed": false
   },
   "id": "847d1eaf5706bb55"
  },
  {
   "cell_type": "code",
   "execution_count": 6,
   "outputs": [
    {
     "name": "stdout",
     "output_type": "stream",
     "text": [
      "['понедельник', 'вторник', 'среда', 'четверг', 'пятница', 'суббота', 'воскресенье']\n"
     ]
    }
   ],
   "source": [
    "import calendar\n",
    "\n",
    "names = list(calendar.day_name)\n",
    "print(names)"
   ],
   "metadata": {
    "collapsed": false,
    "ExecuteTime": {
     "end_time": "2024-09-25T07:21:47.476913600Z",
     "start_time": "2024-09-25T07:21:47.474905900Z"
    }
   },
   "id": "edb5c5da03a263e3"
  },
  {
   "cell_type": "markdown",
   "source": [
    "Атрибут day_abbr"
   ],
   "metadata": {
    "collapsed": false
   },
   "id": "befbee547ad66cd5"
  },
  {
   "cell_type": "markdown",
   "source": [
    "Атрибут calendar.day_abbr возвращает итерируемый объект, содержащий сокращенные названия дней недели."
   ],
   "metadata": {
    "collapsed": false
   },
   "id": "822335b1cafd664d"
  },
  {
   "cell_type": "code",
   "execution_count": 8,
   "outputs": [
    {
     "name": "stdout",
     "output_type": "stream",
     "text": [
      "Mon\n",
      "Tue\n",
      "Wed\n",
      "Thu\n",
      "Fri\n",
      "Sat\n",
      "Sun\n",
      "Пн\n",
      "Вт\n",
      "Ср\n",
      "Чт\n",
      "Пт\n",
      "Сб\n",
      "Вс\n"
     ]
    }
   ],
   "source": [
    "import calendar, locale\n",
    "\n",
    "locale.setlocale(locale.LC_ALL, 'en_EN.UTF-8')\n",
    "\n",
    "for name in calendar.day_abbr:\n",
    "    print(name)\n",
    "\n",
    "locale.setlocale(locale.LC_ALL, 'ru_RU.UTF-8')\n",
    "\n",
    "for name in calendar.day_abbr:\n",
    "    print(name)"
   ],
   "metadata": {
    "collapsed": false,
    "ExecuteTime": {
     "end_time": "2024-09-25T07:31:02.845071300Z",
     "start_time": "2024-09-25T07:31:02.839150400Z"
    }
   },
   "id": "f7a5c626a2de1c41"
  },
  {
   "cell_type": "markdown",
   "source": [
    " Обратите внимание, что на русском языке сокращенные названия дней недели выводятся с большой буквы."
   ],
   "metadata": {
    "collapsed": false
   },
   "id": "5510c01224615507"
  },
  {
   "cell_type": "markdown",
   "source": [
    "Атрибут month_name"
   ],
   "metadata": {
    "collapsed": false
   },
   "id": "5f907b1a5267e5e4"
  },
  {
   "cell_type": "markdown",
   "source": [
    "Атрибут calendar.month_name возвращает итерируемый объект, содержащий названия месяцев года."
   ],
   "metadata": {
    "collapsed": false
   },
   "id": "476c7e379fdb7f2c"
  },
  {
   "cell_type": "code",
   "execution_count": 10,
   "outputs": [
    {
     "name": "stdout",
     "output_type": "stream",
     "text": [
      "['', 'January', 'February', 'March', 'April', 'May', 'June', 'July', 'August', 'September', 'October', 'November', 'December']\n",
      "['', 'Январь', 'Февраль', 'Март', 'Апрель', 'Май', 'Июнь', 'Июль', 'Август', 'Сентябрь', 'Октябрь', 'Ноябрь', 'Декабрь']\n"
     ]
    }
   ],
   "source": [
    "import calendar, locale\n",
    "\n",
    "locale.setlocale(locale.LC_ALL, 'en_EN.UTF-8')\n",
    "\n",
    "english_names = list(calendar.month_name)\n",
    "print(english_names)\n",
    "\n",
    "locale.setlocale(locale.LC_ALL, 'ru_RU.UTF-8')\n",
    "\n",
    "russian_names = list(calendar.month_name)\n",
    "print(russian_names)"
   ],
   "metadata": {
    "collapsed": false,
    "ExecuteTime": {
     "end_time": "2024-09-25T07:33:10.888511800Z",
     "start_time": "2024-09-25T07:33:10.882695600Z"
    }
   },
   "id": "b87201fa23ff8907"
  },
  {
   "cell_type": "markdown",
   "source": [
    "Обратите внимание, что атрибут month_name соответствует обычному соглашению, что январь – это месяц номер 1, поэтому список имеет длину в 13 элементов, первый из которых – пустая строка."
   ],
   "metadata": {
    "collapsed": false
   },
   "id": "c52d325c4dca5f55"
  },
  {
   "cell_type": "markdown",
   "source": [
    "Атрибут month_abbr"
   ],
   "metadata": {
    "collapsed": false
   },
   "id": "deea241cae896a87"
  },
  {
   "cell_type": "markdown",
   "source": [
    "Атрибут calendar.month_abbr возвращает итерируемый объект, содержащий сокращенные названия месяцев года."
   ],
   "metadata": {
    "collapsed": false
   },
   "id": "907252370b6b04c3"
  },
  {
   "cell_type": "code",
   "execution_count": 15,
   "outputs": [
    {
     "name": "stdout",
     "output_type": "stream",
     "text": [
      "['', 'Jan', 'Feb', 'Mar', 'Apr', 'May', 'Jun', 'Jul', 'Aug', 'Sep', 'Oct', 'Nov', 'Dec']\n",
      "['', 'янв', 'фев', 'мар', 'апр', 'май', 'июн', 'июл', 'авг', 'сен', 'окт', 'ноя', 'дек']\n"
     ]
    }
   ],
   "source": [
    "import calendar, locale\n",
    "\n",
    "locale.setlocale(locale.LC_ALL, 'en_EN.UTF-8')\n",
    "\n",
    "english_names = list(calendar.month_abbr)\n",
    "print(english_names)\n",
    "\n",
    "locale.setlocale(locale.LC_ALL, 'ru_RU.UTF-8')\n",
    "\n",
    "russian_names = list(calendar.month_abbr)\n",
    "print(russian_names)"
   ],
   "metadata": {
    "collapsed": false,
    "ExecuteTime": {
     "end_time": "2024-09-25T07:42:30.149264200Z",
     "start_time": "2024-09-25T07:42:30.140265400Z"
    }
   },
   "id": "8e9e35b55377879e"
  },
  {
   "cell_type": "markdown",
   "source": [
    "Атрибуты номеров дней недели"
   ],
   "metadata": {
    "collapsed": false
   },
   "id": "9ba18d733c15bb90"
  },
  {
   "cell_type": "markdown",
   "source": [
    "Для получения номеров дней недели можно использовать атрибуты: MONDAY, TUESDAY, ..., SUNDAY."
   ],
   "metadata": {
    "collapsed": false
   },
   "id": "f1723b1838a27475"
  },
  {
   "cell_type": "code",
   "execution_count": 16,
   "outputs": [
    {
     "name": "stdout",
     "output_type": "stream",
     "text": [
      "0\n",
      "1\n",
      "2\n",
      "3\n",
      "4\n",
      "5\n",
      "6\n"
     ]
    }
   ],
   "source": [
    "import calendar\n",
    "\n",
    "print(calendar.MONDAY)\n",
    "print(calendar.TUESDAY)\n",
    "print(calendar.WEDNESDAY)\n",
    "print(calendar.THURSDAY)\n",
    "print(calendar.FRIDAY)\n",
    "print(calendar.SATURDAY)\n",
    "print(calendar.SUNDAY)"
   ],
   "metadata": {
    "collapsed": false,
    "ExecuteTime": {
     "end_time": "2024-09-25T07:45:54.965134900Z",
     "start_time": "2024-09-25T07:45:54.964072800Z"
    }
   },
   "id": "ecfea9f17937eb6a"
  },
  {
   "cell_type": "markdown",
   "source": [
    "Функции модуля calendar"
   ],
   "metadata": {
    "collapsed": false
   },
   "id": "d90e2caba30d3344"
  },
  {
   "cell_type": "markdown",
   "source": [
    "Модуль calendar содержит множество полезных функций. Приведем основные из них."
   ],
   "metadata": {
    "collapsed": false
   },
   "id": "935198a5d7db6e98"
  },
  {
   "cell_type": "markdown",
   "source": [
    "Функция setfirstweekday()"
   ],
   "metadata": {
    "collapsed": false
   },
   "id": "778c04fa27038170"
  },
  {
   "cell_type": "markdown",
   "source": [
    "По умолчанию в модуле calendar понедельник является первым днем недели (имеет номер 0), а воскресенье – последним днем недели (имеет номер 6)."
   ],
   "metadata": {
    "collapsed": false
   },
   "id": "296a32c121ed24fa"
  },
  {
   "cell_type": "markdown",
   "source": [
    "Функция setfirstweekday() позволяет изменить поведение по умолчанию и устанавливает заданный день недели в качестве начала недели."
   ],
   "metadata": {
    "collapsed": false
   },
   "id": "58e8ae8a6375629f"
  },
  {
   "cell_type": "markdown",
   "source": [
    "Например, чтобы установить первый будний день воскресенье, мы используем код:"
   ],
   "metadata": {
    "collapsed": false
   },
   "id": "4a262f31a33694f0"
  },
  {
   "cell_type": "code",
   "execution_count": 17,
   "outputs": [],
   "source": [
    "import calendar\n",
    "\n",
    "calendar.setfirstweekday(calendar.SUNDAY)     # эквивалентно calendar.setfirstweekday(6)"
   ],
   "metadata": {
    "collapsed": false,
    "ExecuteTime": {
     "end_time": "2024-09-25T07:47:20.649867900Z",
     "start_time": "2024-09-25T07:47:20.642432600Z"
    }
   },
   "id": "f88c8eeb4acd8713"
  },
  {
   "cell_type": "markdown",
   "source": [
    "На практике следует использовать константы calendar.MONDAY, calendar.TUESDAY, ...,calendar.SUNDAY , а не значения 0, 1, ..., 6."
   ],
   "metadata": {
    "collapsed": false
   },
   "id": "ed99e3ccda364d3"
  },
  {
   "cell_type": "markdown",
   "source": [
    "Функция firstweekday()"
   ],
   "metadata": {
    "collapsed": false
   },
   "id": "297ac9992152996a"
  },
  {
   "cell_type": "markdown",
   "source": [
    "Функция firstweekday() возвращает целое число, означающее день недели, установленное в качестве начала недели."
   ],
   "metadata": {
    "collapsed": false
   },
   "id": "4a7cba92e676bca4"
  },
  {
   "cell_type": "code",
   "execution_count": 19,
   "outputs": [
    {
     "name": "stdout",
     "output_type": "stream",
     "text": [
      "0\n",
      "6\n"
     ]
    }
   ],
   "source": [
    "import calendar\n",
    "\n",
    "calendar.setfirstweekday(calendar.MONDAY)\n",
    "print(calendar.firstweekday())\n",
    "calendar.setfirstweekday(calendar.SUNDAY)\n",
    "print(calendar.firstweekday())"
   ],
   "metadata": {
    "collapsed": false,
    "ExecuteTime": {
     "end_time": "2024-09-25T07:48:31.759027600Z",
     "start_time": "2024-09-25T07:48:31.756345Z"
    }
   },
   "id": "aad838032896f237"
  },
  {
   "cell_type": "markdown",
   "source": [
    "Функция isleap()"
   ],
   "metadata": {
    "collapsed": false
   },
   "id": "22fe484f267036ae"
  },
  {
   "cell_type": "markdown",
   "source": [
    "В курсе \"Поколение Python\": курс для начинающих мы решали задачу, в которой требовалось проверить високосность года. Напомним, что год является високосным, если его номер кратен 4, но не кратен 100, или если он кратен 400. Модуль calendar содержит функцию isleap(), которая осуществляет нужную проверку."
   ],
   "metadata": {
    "collapsed": false
   },
   "id": "2fe5f45326de0d4f"
  },
  {
   "cell_type": "code",
   "execution_count": 20,
   "outputs": [
    {
     "name": "stdout",
     "output_type": "stream",
     "text": [
      "True\n",
      "False\n"
     ]
    }
   ],
   "source": [
    "import calendar\n",
    "\n",
    "print(calendar.isleap(2020))\n",
    "print(calendar.isleap(2021))"
   ],
   "metadata": {
    "collapsed": false,
    "ExecuteTime": {
     "end_time": "2024-09-25T07:49:30.774797500Z",
     "start_time": "2024-09-25T07:49:30.771268700Z"
    }
   },
   "id": "d9d49dfcbb19e156"
  },
  {
   "cell_type": "markdown",
   "source": [
    "Функция leapdays()"
   ],
   "metadata": {
    "collapsed": false
   },
   "id": "78f242d32f12bdbb"
  },
  {
   "cell_type": "markdown",
   "source": [
    "Функция leapdays(y1, y2) возвращает количество високосных лет в диапазоне от y1 до y2 (исключая), где y1 и y2 – годы."
   ],
   "metadata": {
    "collapsed": false
   },
   "id": "1b4ba7d77ffb2894"
  },
  {
   "cell_type": "code",
   "execution_count": 21,
   "outputs": [
    {
     "name": "stdout",
     "output_type": "stream",
     "text": [
      "2\n"
     ]
    }
   ],
   "source": [
    "import calendar\n",
    "\n",
    "print(calendar.leapdays(2020, 2025))"
   ],
   "metadata": {
    "collapsed": false,
    "ExecuteTime": {
     "end_time": "2024-09-25T07:50:14.764569400Z",
     "start_time": "2024-09-25T07:50:14.761444600Z"
    }
   },
   "id": "4f6ee11efcdfdf9b"
  },
  {
   "cell_type": "markdown",
   "source": [
    "Эта функция работает для диапазонов, охватывающих смену столетий."
   ],
   "metadata": {
    "collapsed": false
   },
   "id": "29fd634fb3b8a33d"
  },
  {
   "cell_type": "markdown",
   "source": [
    "Функция weekday()"
   ],
   "metadata": {
    "collapsed": false
   },
   "id": "6dcaaec6ba7f24ac"
  },
  {
   "cell_type": "markdown",
   "source": [
    "Функция weekday(year, month, day) возвращает день недели в виде целого числа (где 0 – понедельник, 6 – воскресенье) для заданной даты. Аргументы функции year – год начиная с 1970, month – месяц в диапазоне 1−12, day – число в диапазоне 1−31."
   ],
   "metadata": {
    "collapsed": false
   },
   "id": "e43a067669977e73"
  },
  {
   "cell_type": "code",
   "execution_count": 22,
   "outputs": [
    {
     "name": "stdout",
     "output_type": "stream",
     "text": [
      "2\n",
      "3\n"
     ]
    }
   ],
   "source": [
    "import calendar\n",
    "\n",
    "print(calendar.weekday(2021, 9, 1))     # среда\n",
    "print(calendar.weekday(2021, 9, 2))     # четверг"
   ],
   "metadata": {
    "collapsed": false,
    "ExecuteTime": {
     "end_time": "2024-09-25T07:52:39.778644800Z",
     "start_time": "2024-09-25T07:52:39.776490800Z"
    }
   },
   "id": "9ccf1d47a08c14fa"
  },
  {
   "cell_type": "markdown",
   "source": [
    "Функция monthrange()"
   ],
   "metadata": {
    "collapsed": false
   },
   "id": "36372f9c010528e4"
  },
  {
   "cell_type": "markdown",
   "source": [
    "Функция monthrange(year, month) возвращает день недели первого дня месяца и количество дней в месяце в виде кортежа для указанного года year и месяца month."
   ],
   "metadata": {
    "collapsed": false
   },
   "id": "a497f9df0acb7e93"
  },
  {
   "cell_type": "code",
   "execution_count": 23,
   "outputs": [
    {
     "name": "stdout",
     "output_type": "stream",
     "text": [
      "(5, 31)\n",
      "(2, 30)\n"
     ]
    }
   ],
   "source": [
    "import calendar\n",
    "\n",
    "print(calendar.monthrange(2022, 1))     # суббота 31 день\n",
    "print(calendar.monthrange(2021, 9))     # среда 30 дней"
   ],
   "metadata": {
    "collapsed": false,
    "ExecuteTime": {
     "end_time": "2024-09-25T07:53:44.274884200Z",
     "start_time": "2024-09-25T07:53:44.271240200Z"
    }
   },
   "id": "a7962a19a1d3a69d"
  },
  {
   "cell_type": "markdown",
   "source": [
    "Функция monthcalendar()"
   ],
   "metadata": {
    "collapsed": false
   },
   "id": "5730c4b504e58de7"
  },
  {
   "cell_type": "markdown",
   "source": [
    "Функция monthcalendar(year, month) возвращает матрицу, представляющую календарь на месяц. Каждая строка матрицы представляет неделю."
   ],
   "metadata": {
    "collapsed": false
   },
   "id": "aa32b26bc8e087be"
  },
  {
   "cell_type": "code",
   "execution_count": 27,
   "outputs": [
    {
     "name": "stdout",
     "output_type": "stream",
     "text": [
      "[0, 1, 2, 3, 4, 5, 6]\n",
      "[7, 8, 9, 10, 11, 12, 13]\n",
      "[14, 15, 16, 17, 18, 19, 20]\n",
      "[21, 22, 23, 24, 25, 26, 27]\n",
      "[28, 29, 30, 31, 0, 0, 0]\n"
     ]
    }
   ],
   "source": [
    "import calendar\n",
    "\n",
    "calendar.setfirstweekday(calendar.MONDAY)\n",
    "\n",
    "print(*calendar.monthcalendar(2024, 10), sep='\\n')"
   ],
   "metadata": {
    "collapsed": false,
    "ExecuteTime": {
     "end_time": "2024-09-25T08:01:03.051213800Z",
     "start_time": "2024-09-25T08:01:03.048581300Z"
    }
   },
   "id": "b00d2fb3438e56b0"
  },
  {
   "cell_type": "markdown",
   "source": [
    "Обратите внимание на то, что дни, которые не входят в указанный месяц, представлены нулями. При этом каждая неделя начинается с понедельника, если не установлено другое функцией setfirstweekday()"
   ],
   "metadata": {
    "collapsed": false
   },
   "id": "f5036065ea2a8037"
  },
  {
   "cell_type": "markdown",
   "source": [
    "Функция month()"
   ],
   "metadata": {
    "collapsed": false
   },
   "id": "ad9267dfd0d2a219"
  },
  {
   "cell_type": "markdown",
   "source": [
    "Функция month(year, month, w=0, l=0) возвращает календарь на месяц в многострочной строке. Аргументами функции являются: year (год), month (месяц), w (ширина столбца даты) и l (количество строк, отводимые на неделю)."
   ],
   "metadata": {
    "collapsed": false
   },
   "id": "ddc9f1b5cda3122d"
  },
  {
   "cell_type": "markdown",
   "source": [
    " Аргументы w и l имеют значения по умолчанию, поэтому их можно не передавать явно при вызове функции."
   ],
   "metadata": {
    "collapsed": false
   },
   "id": "62ff3ad27a3753e7"
  },
  {
   "cell_type": "code",
   "execution_count": 29,
   "outputs": [
    {
     "name": "stdout",
     "output_type": "stream",
     "text": [
      "   Сентябрь 2021\n",
      "Пн Вт Ср Чт Пт Сб Вс\n",
      "       1  2  3  4  5\n",
      " 6  7  8  9 10 11 12\n",
      "13 14 15 16 17 18 19\n",
      "20 21 22 23 24 25 26\n",
      "27 28 29 30\n",
      "\n",
      "    Октябрь 2021\n",
      "Пн Вт Ср Чт Пт Сб Вс\n",
      "             1  2  3\n",
      " 4  5  6  7  8  9 10\n",
      "11 12 13 14 15 16 17\n",
      "18 19 20 21 22 23 24\n",
      "25 26 27 28 29 30 31\n",
      "\n",
      "       Сентябрь 2021\n",
      " Пн  Вт  Ср  Чт  Пт  Сб  Вс\n",
      "          1   2   3   4   5\n",
      "  6   7   8   9  10  11  12\n",
      " 13  14  15  16  17  18  19\n",
      " 20  21  22  23  24  25  26\n",
      " 27  28  29  30\n",
      "\n",
      "   Сентябрь 2021\n",
      "\n",
      "Пн Вт Ср Чт Пт Сб Вс\n",
      "\n",
      "       1  2  3  4  5\n",
      "\n",
      " 6  7  8  9 10 11 12\n",
      "\n",
      "13 14 15 16 17 18 19\n",
      "\n",
      "20 21 22 23 24 25 26\n",
      "\n",
      "27 28 29 30\n",
      "\n",
      "\n",
      "               Октябрь 2024\n",
      "\n",
      "  Пн    Вт    Ср    Чт    Пт    Сб    Вс\n",
      "\n",
      "         1     2     3     4     5     6\n",
      "\n",
      "   7     8     9    10    11    12    13\n",
      "\n",
      "  14    15    16    17    18    19    20\n",
      "\n",
      "  21    22    23    24    25    26    27\n",
      "\n",
      "  28    29    30    31\n"
     ]
    }
   ],
   "source": [
    "import calendar\n",
    "\n",
    "print(calendar.month(2021, 9))\n",
    "print(calendar.month(2021, 10))\n",
    "print(calendar.month(2021, 9, w=3))\n",
    "print(calendar.month(2021, 9, l=2))\n",
    "print(calendar.month(2024, 10, w=5, l=2))"
   ],
   "metadata": {
    "collapsed": false,
    "ExecuteTime": {
     "end_time": "2024-09-25T08:03:42.227152400Z",
     "start_time": "2024-09-25T08:03:42.224445200Z"
    }
   },
   "id": "6fd6b29424e6ca08"
  },
  {
   "cell_type": "markdown",
   "source": [
    "Функция calendar()"
   ],
   "metadata": {
    "collapsed": false
   },
   "id": "dadcdc3961f8b92"
  },
  {
   "cell_type": "markdown",
   "source": [
    "Функция calendar(year, w=2, l=1, c=6, m=3) возвращает календарь на весь год в виде многострочной строки. Аргументами функции являются: year (год),  w (ширина столбца даты), l (количество строк, отводимые на неделю), c (количество пробелов между столбцом месяца) и  m (количество столбцов)."
   ],
   "metadata": {
    "collapsed": false
   },
   "id": "8a0bf1cdd4a684e6"
  },
  {
   "cell_type": "markdown",
   "source": [
    "Аргументы w, l, c, m имеют значения по умолчанию, поэтому их можно не передавать явно при вызове функции."
   ],
   "metadata": {
    "collapsed": false
   },
   "id": "1664965ed42787eb"
  },
  {
   "cell_type": "code",
   "execution_count": 30,
   "outputs": [
    {
     "name": "stdout",
     "output_type": "stream",
     "text": [
      "                                  2024\n",
      "\n",
      "       Январь                   Февраль                     Март\n",
      "Пн Вт Ср Чт Пт Сб Вс      Пн Вт Ср Чт Пт Сб Вс      Пн Вт Ср Чт Пт Сб Вс\n",
      " 1  2  3  4  5  6  7                1  2  3  4                   1  2  3\n",
      " 8  9 10 11 12 13 14       5  6  7  8  9 10 11       4  5  6  7  8  9 10\n",
      "15 16 17 18 19 20 21      12 13 14 15 16 17 18      11 12 13 14 15 16 17\n",
      "22 23 24 25 26 27 28      19 20 21 22 23 24 25      18 19 20 21 22 23 24\n",
      "29 30 31                  26 27 28 29               25 26 27 28 29 30 31\n",
      "\n",
      "       Апрель                     Май                       Июнь\n",
      "Пн Вт Ср Чт Пт Сб Вс      Пн Вт Ср Чт Пт Сб Вс      Пн Вт Ср Чт Пт Сб Вс\n",
      " 1  2  3  4  5  6  7             1  2  3  4  5                      1  2\n",
      " 8  9 10 11 12 13 14       6  7  8  9 10 11 12       3  4  5  6  7  8  9\n",
      "15 16 17 18 19 20 21      13 14 15 16 17 18 19      10 11 12 13 14 15 16\n",
      "22 23 24 25 26 27 28      20 21 22 23 24 25 26      17 18 19 20 21 22 23\n",
      "29 30                     27 28 29 30 31            24 25 26 27 28 29 30\n",
      "\n",
      "        Июль                     Август                   Сентябрь\n",
      "Пн Вт Ср Чт Пт Сб Вс      Пн Вт Ср Чт Пт Сб Вс      Пн Вт Ср Чт Пт Сб Вс\n",
      " 1  2  3  4  5  6  7                1  2  3  4                         1\n",
      " 8  9 10 11 12 13 14       5  6  7  8  9 10 11       2  3  4  5  6  7  8\n",
      "15 16 17 18 19 20 21      12 13 14 15 16 17 18       9 10 11 12 13 14 15\n",
      "22 23 24 25 26 27 28      19 20 21 22 23 24 25      16 17 18 19 20 21 22\n",
      "29 30 31                  26 27 28 29 30 31         23 24 25 26 27 28 29\n",
      "                                                    30\n",
      "\n",
      "      Октябрь                    Ноябрь                   Декабрь\n",
      "Пн Вт Ср Чт Пт Сб Вс      Пн Вт Ср Чт Пт Сб Вс      Пн Вт Ср Чт Пт Сб Вс\n",
      "    1  2  3  4  5  6                   1  2  3                         1\n",
      " 7  8  9 10 11 12 13       4  5  6  7  8  9 10       2  3  4  5  6  7  8\n",
      "14 15 16 17 18 19 20      11 12 13 14 15 16 17       9 10 11 12 13 14 15\n",
      "21 22 23 24 25 26 27      18 19 20 21 22 23 24      16 17 18 19 20 21 22\n",
      "28 29 30 31               25 26 27 28 29 30         23 24 25 26 27 28 29\n",
      "                                                    30 31\n"
     ]
    }
   ],
   "source": [
    "import calendar\n",
    "\n",
    "print(calendar.calendar(2024))"
   ],
   "metadata": {
    "collapsed": false,
    "ExecuteTime": {
     "end_time": "2024-09-25T08:04:51.576420300Z",
     "start_time": "2024-09-25T08:04:51.573790100Z"
    }
   },
   "id": "9763772b172370ed"
  },
  {
   "cell_type": "code",
   "execution_count": 31,
   "outputs": [
    {
     "name": "stdout",
     "output_type": "stream",
     "text": [
      "                                               2022\n",
      "\n",
      "       Январь                   Февраль                     Март                     Апрель\n",
      "Пн Вт Ср Чт Пт Сб Вс      Пн Вт Ср Чт Пт Сб Вс      Пн Вт Ср Чт Пт Сб Вс      Пн Вт Ср Чт Пт Сб Вс\n",
      "                1  2          1  2  3  4  5  6          1  2  3  4  5  6                   1  2  3\n",
      " 3  4  5  6  7  8  9       7  8  9 10 11 12 13       7  8  9 10 11 12 13       4  5  6  7  8  9 10\n",
      "10 11 12 13 14 15 16      14 15 16 17 18 19 20      14 15 16 17 18 19 20      11 12 13 14 15 16 17\n",
      "17 18 19 20 21 22 23      21 22 23 24 25 26 27      21 22 23 24 25 26 27      18 19 20 21 22 23 24\n",
      "24 25 26 27 28 29 30      28                        28 29 30 31               25 26 27 28 29 30\n",
      "31\n",
      "\n",
      "        Май                       Июнь                      Июль                     Август\n",
      "Пн Вт Ср Чт Пт Сб Вс      Пн Вт Ср Чт Пт Сб Вс      Пн Вт Ср Чт Пт Сб Вс      Пн Вт Ср Чт Пт Сб Вс\n",
      "                   1             1  2  3  4  5                   1  2  3       1  2  3  4  5  6  7\n",
      " 2  3  4  5  6  7  8       6  7  8  9 10 11 12       4  5  6  7  8  9 10       8  9 10 11 12 13 14\n",
      " 9 10 11 12 13 14 15      13 14 15 16 17 18 19      11 12 13 14 15 16 17      15 16 17 18 19 20 21\n",
      "16 17 18 19 20 21 22      20 21 22 23 24 25 26      18 19 20 21 22 23 24      22 23 24 25 26 27 28\n",
      "23 24 25 26 27 28 29      27 28 29 30               25 26 27 28 29 30 31      29 30 31\n",
      "30 31\n",
      "\n",
      "      Сентябрь                  Октябрь                    Ноябрь                   Декабрь\n",
      "Пн Вт Ср Чт Пт Сб Вс      Пн Вт Ср Чт Пт Сб Вс      Пн Вт Ср Чт Пт Сб Вс      Пн Вт Ср Чт Пт Сб Вс\n",
      "          1  2  3  4                      1  2          1  2  3  4  5  6                1  2  3  4\n",
      " 5  6  7  8  9 10 11       3  4  5  6  7  8  9       7  8  9 10 11 12 13       5  6  7  8  9 10 11\n",
      "12 13 14 15 16 17 18      10 11 12 13 14 15 16      14 15 16 17 18 19 20      12 13 14 15 16 17 18\n",
      "19 20 21 22 23 24 25      17 18 19 20 21 22 23      21 22 23 24 25 26 27      19 20 21 22 23 24 25\n",
      "26 27 28 29 30            24 25 26 27 28 29 30      28 29 30                  26 27 28 29 30 31\n",
      "                          31\n"
     ]
    }
   ],
   "source": [
    "import calendar, locale\n",
    "\n",
    "locale.setlocale(locale.LC_ALL, 'ru_RU.UTF-8')\n",
    "\n",
    "print(calendar.calendar(2022, m=4))"
   ],
   "metadata": {
    "collapsed": false,
    "ExecuteTime": {
     "end_time": "2024-09-25T08:05:17.338434800Z",
     "start_time": "2024-09-25T08:05:17.334915800Z"
    }
   },
   "id": "70f1c6b377d559e1"
  },
  {
   "cell_type": "markdown",
   "source": [
    "Функции prmonth(), prcal()"
   ],
   "metadata": {
    "collapsed": false
   },
   "id": "d3b8f1d9444250f7"
  },
  {
   "cell_type": "markdown",
   "source": [
    "Функция prmonth(theyear, themonth, w=0, l=0) печатает календарь на месяц, возвращенный функцией month(theyear, themonth, w=0, l=0).\n",
    "\n",
    "Функция prcal(year, w=0, l=0, c=6, m=3) печатает календарь на весь год, возвращенный функцией calendar(year, w=0, l=0, c=6, m=3)."
   ],
   "metadata": {
    "collapsed": false
   },
   "id": "237cbf0abda1d3f7"
  },
  {
   "cell_type": "code",
   "execution_count": 32,
   "outputs": [
    {
     "name": "stdout",
     "output_type": "stream",
     "text": [
      "   Сентябрь 2021\n",
      "Пн Вт Ср Чт Пт Сб Вс\n",
      "       1  2  3  4  5\n",
      " 6  7  8  9 10 11 12\n",
      "13 14 15 16 17 18 19\n",
      "20 21 22 23 24 25 26\n",
      "27 28 29 30\n",
      "                                  2021\n",
      "\n",
      "       Январь                   Февраль                     Март\n",
      "Пн Вт Ср Чт Пт Сб Вс      Пн Вт Ср Чт Пт Сб Вс      Пн Вт Ср Чт Пт Сб Вс\n",
      "             1  2  3       1  2  3  4  5  6  7       1  2  3  4  5  6  7\n",
      " 4  5  6  7  8  9 10       8  9 10 11 12 13 14       8  9 10 11 12 13 14\n",
      "11 12 13 14 15 16 17      15 16 17 18 19 20 21      15 16 17 18 19 20 21\n",
      "18 19 20 21 22 23 24      22 23 24 25 26 27 28      22 23 24 25 26 27 28\n",
      "25 26 27 28 29 30 31                                29 30 31\n",
      "\n",
      "       Апрель                     Май                       Июнь\n",
      "Пн Вт Ср Чт Пт Сб Вс      Пн Вт Ср Чт Пт Сб Вс      Пн Вт Ср Чт Пт Сб Вс\n",
      "          1  2  3  4                      1  2          1  2  3  4  5  6\n",
      " 5  6  7  8  9 10 11       3  4  5  6  7  8  9       7  8  9 10 11 12 13\n",
      "12 13 14 15 16 17 18      10 11 12 13 14 15 16      14 15 16 17 18 19 20\n",
      "19 20 21 22 23 24 25      17 18 19 20 21 22 23      21 22 23 24 25 26 27\n",
      "26 27 28 29 30            24 25 26 27 28 29 30      28 29 30\n",
      "                          31\n",
      "\n",
      "        Июль                     Август                   Сентябрь\n",
      "Пн Вт Ср Чт Пт Сб Вс      Пн Вт Ср Чт Пт Сб Вс      Пн Вт Ср Чт Пт Сб Вс\n",
      "          1  2  3  4                         1             1  2  3  4  5\n",
      " 5  6  7  8  9 10 11       2  3  4  5  6  7  8       6  7  8  9 10 11 12\n",
      "12 13 14 15 16 17 18       9 10 11 12 13 14 15      13 14 15 16 17 18 19\n",
      "19 20 21 22 23 24 25      16 17 18 19 20 21 22      20 21 22 23 24 25 26\n",
      "26 27 28 29 30 31         23 24 25 26 27 28 29      27 28 29 30\n",
      "                          30 31\n",
      "\n",
      "      Октябрь                    Ноябрь                   Декабрь\n",
      "Пн Вт Ср Чт Пт Сб Вс      Пн Вт Ср Чт Пт Сб Вс      Пн Вт Ср Чт Пт Сб Вс\n",
      "             1  2  3       1  2  3  4  5  6  7             1  2  3  4  5\n",
      " 4  5  6  7  8  9 10       8  9 10 11 12 13 14       6  7  8  9 10 11 12\n",
      "11 12 13 14 15 16 17      15 16 17 18 19 20 21      13 14 15 16 17 18 19\n",
      "18 19 20 21 22 23 24      22 23 24 25 26 27 28      20 21 22 23 24 25 26\n",
      "25 26 27 28 29 30 31      29 30                     27 28 29 30 31\n"
     ]
    }
   ],
   "source": [
    "import calendar\n",
    "\n",
    "calendar.prmonth(2021, 9)\n",
    "calendar.prcal(2021)"
   ],
   "metadata": {
    "collapsed": false,
    "ExecuteTime": {
     "end_time": "2024-09-25T08:39:59.759897700Z",
     "start_time": "2024-09-25T08:39:59.756490700Z"
    }
   },
   "id": "db741b93c8a845a6"
  },
  {
   "cell_type": "markdown",
   "source": [
    "Примечания"
   ],
   "metadata": {
    "collapsed": false
   },
   "id": "c448f4fe651212f0"
  },
  {
   "cell_type": "markdown",
   "source": [
    "Примечание 3. Объекты, доступные по атрибутам day_name, day_abbr, month_name и month_abbr, поддерживают индексацию."
   ],
   "metadata": {
    "collapsed": false
   },
   "id": "3498fa9e6db85cc"
  },
  {
   "cell_type": "code",
   "execution_count": 33,
   "outputs": [
    {
     "name": "stdout",
     "output_type": "stream",
     "text": [
      "вторник\n",
      "Вт\n",
      "Январь\n",
      "янв\n"
     ]
    }
   ],
   "source": [
    "import calendar\n",
    "\n",
    "print(calendar.day_name[1])\n",
    "print(calendar.day_abbr[1])\n",
    "print(calendar.month_name[1])\n",
    "print(calendar.month_abbr[1])"
   ],
   "metadata": {
    "collapsed": false,
    "ExecuteTime": {
     "end_time": "2024-09-25T08:41:22.473539Z",
     "start_time": "2024-09-25T08:41:22.468993500Z"
    }
   },
   "id": "8fd1ced0a0783ec0"
  },
  {
   "cell_type": "markdown",
   "source": [
    "Високосный год\n",
    "Напишите программу, которая определяет, является ли год високосным.\n",
    "\n",
    "Формат входных данных\n",
    "На вход программе в первой строке подается целое число n, в последующих n строках вводятся натуральные числа, представляющие года.\n",
    "\n",
    "Формат выходных данных\n",
    "Программа должна для каждого введенного года вывести True, если он является високосным, или False в противном случае."
   ],
   "metadata": {
    "collapsed": false
   },
   "id": "7f557575074cfdf3"
  },
  {
   "cell_type": "code",
   "execution_count": null,
   "outputs": [],
   "source": [
    "import sys, calendar\n",
    "\n",
    "l = list(map(int, sys.stdin.readlines()[1:]))\n",
    "print(*[calendar.isleap(i) for i in l], sep='\\n')"
   ],
   "metadata": {
    "collapsed": false
   },
   "id": "e6d35d2100110619"
  },
  {
   "cell_type": "code",
   "execution_count": null,
   "outputs": [],
   "source": [
    "from calendar import isleap\n",
    "\n",
    "for _ in range(int(input())):\n",
    "    print(isleap(int(input())))"
   ],
   "metadata": {
    "collapsed": false
   },
   "id": "d2c1fc1db0a897c0"
  },
  {
   "cell_type": "markdown",
   "source": [
    "Календарь на месяц\n",
    "Напишите программу, которая выводит календарь на заданные год и месяц.\n",
    "\n",
    "Формат входных данных\n",
    "На вход программе подаются год и сокращенное название месяца на английском, разделенные пробелом.\n",
    "\n",
    "Формат выходных данных\n",
    "Программа должна вывести календарь на введенные год и месяц."
   ],
   "metadata": {
    "collapsed": false
   },
   "id": "736ca2e8a6c7e102"
  },
  {
   "cell_type": "code",
   "execution_count": null,
   "outputs": [],
   "source": [
    "import calendar, locale\n",
    "\n",
    "locale.setlocale(locale.LC_ALL, 'en_EN.UTF-8')\n",
    "y, m = input().split()\n",
    "print(calendar.prmonth(int(y), list(calendar.month_abbr).index(m)))"
   ],
   "metadata": {
    "collapsed": false
   },
   "id": "36cc41538ed0cae7"
  },
  {
   "cell_type": "code",
   "execution_count": 44,
   "outputs": [
    {
     "name": "stdout",
     "output_type": "stream",
     "text": [
      "12\n"
     ]
    }
   ],
   "source": [
    "import calendar, locale\n",
    "\n",
    "locale.setlocale(locale.LC_ALL, 'en_EN.UTF-8')\n",
    "m = 'Dec'\n",
    "english_names = list(calendar.month_abbr).index(m)\n",
    "print(english_names)"
   ],
   "metadata": {
    "collapsed": false,
    "ExecuteTime": {
     "end_time": "2024-09-25T09:30:04.237239Z",
     "start_time": "2024-09-25T09:30:04.233725Z"
    }
   },
   "id": "8e5aa5ab79349a92"
  },
  {
   "cell_type": "markdown",
   "source": [
    "День недели\n",
    "Напишите программу, которая определяет день недели, соответствующий заданной дате.\n",
    "\n",
    "Формат входных данных\n",
    "На вход программе подается дата в формате YYYY-MM-DD.\n",
    "\n",
    "Формат выходных данных\n",
    "Программа должна вывести полное название дня недели на английском, который соответствует введенной дате."
   ],
   "metadata": {
    "collapsed": false
   },
   "id": "fca983c58732f57"
  },
  {
   "cell_type": "code",
   "execution_count": null,
   "outputs": [],
   "source": [
    "from datetime import datetime\n",
    "import calendar\n",
    "\n",
    "obj = datetime.strptime(input(), '%Y-%m-%d')\n",
    "y = obj.year\n",
    "m = obj.month\n",
    "d = obj.day\n",
    "search = calendar.weekday(y, m, d)\n",
    "print(calendar.day_name[search])"
   ],
   "metadata": {
    "collapsed": false
   },
   "id": "5898cbce0382e4ec"
  },
  {
   "cell_type": "code",
   "execution_count": null,
   "outputs": [],
   "source": [
    "import calendar\n",
    "from datetime import datetime\n",
    "\n",
    "dt = datetime.fromisoformat(input())\n",
    "\n",
    "print(list(calendar.day_name)[dt.weekday()])"
   ],
   "metadata": {
    "collapsed": false
   },
   "id": "f6832f059bf55097"
  },
  {
   "cell_type": "code",
   "execution_count": null,
   "outputs": [],
   "source": [
    "import calendar\n",
    "\n",
    "\n",
    "day = list(map(int, input().split(\"-\")))\n",
    "print(calendar.day_name[calendar.weekday(*day)])"
   ],
   "metadata": {
    "collapsed": false
   },
   "id": "ff77118180d88836"
  },
  {
   "cell_type": "markdown",
   "source": [
    "Количество дней 😉\n",
    "Напишите программу, которая определяет количество дней в заданном месяце.\n",
    "\n",
    "Формат входных данных\n",
    "На вход программе подаются год и порядковый номер месяца (начиная с 1), разделенные пробелом.\n",
    "\n",
    "Формат выходных данных\n",
    "Программа должна вывести единственное число — количество дней в введенном месяце.\n",
    "\n",
    "Примечание 1. Январь имеет порядковый номер 1, Февраль — 2, Март — 3, и так далее."
   ],
   "metadata": {
    "collapsed": false
   },
   "id": "e3c4eac5fd76553d"
  },
  {
   "cell_type": "code",
   "execution_count": null,
   "outputs": [],
   "source": [
    "import calendar\n",
    "\n",
    "x, y = input().split()\n",
    "z = calendar.monthrange(int(x), int(y))\n",
    "print(z[1])"
   ],
   "metadata": {
    "collapsed": false
   },
   "id": "abd4427700792d78"
  },
  {
   "cell_type": "code",
   "execution_count": 48,
   "outputs": [
    {
     "name": "stdout",
     "output_type": "stream",
     "text": [
      "(5, 31)\n",
      "(2, 30)\n"
     ]
    }
   ],
   "source": [
    "import calendar\n",
    "\n",
    "print(calendar.monthrange(2022, 1))     # суббота 31 день\n",
    "print(calendar.monthrange(2021, 9))     # среда 30 дней"
   ],
   "metadata": {
    "collapsed": false,
    "ExecuteTime": {
     "end_time": "2024-09-25T13:23:01.642014200Z",
     "start_time": "2024-09-25T13:23:01.637246700Z"
    }
   },
   "id": "3b9c99d32346b334"
  },
  {
   "cell_type": "code",
   "execution_count": null,
   "outputs": [],
   "source": [
    "import calendar\n",
    "\n",
    "year, number = map(int, input().split())\n",
    "days = calendar.monthrange(year, number)[1]\n",
    "\n",
    "print(days)"
   ],
   "metadata": {
    "collapsed": false
   },
   "id": "fee2eabc5b20a252"
  },
  {
   "cell_type": "markdown",
   "source": [
    "Количество дней 😎\n",
    "Напишите программу, которая определяет количество дней в заданном месяце.\n",
    "\n",
    "Формат входных данных\n",
    "На вход программе подаются год и полное название месяца на английском, разделенные пробелом.\n",
    "\n",
    "Формат выходных данных\n",
    "Программа должна вывести единственное число — количество дней в введенном месяце."
   ],
   "metadata": {
    "collapsed": false
   },
   "id": "f2475cd131e14714"
  },
  {
   "cell_type": "code",
   "execution_count": null,
   "outputs": [],
   "source": [
    "import calendar\n",
    "\n",
    "year, month = input().split()\n",
    "\n",
    "\n",
    "index_month = list(calendar.month_name).index(month)\n",
    "\n",
    "days = calendar.monthrange(int(year), index_month)[1]\n",
    "print(days)"
   ],
   "metadata": {
    "collapsed": false
   },
   "id": "4f76eda36c33cd6d"
  },
  {
   "cell_type": "markdown",
   "source": [
    "Функция get_days_in_month()   \n",
    "Реализуйте функцию get_days_in_month(), которая принимает два аргумента в следующем порядке:\n",
    "\n",
    "year — натуральное число\n",
    "month — полное название месяца на английском\n",
    "Функция должна возвращать отсортированный по возрастанию список всех дат (тип date) месяца month и года year.\n",
    "\n",
    "Примечание 1. Например, вызов:\n",
    "\n",
    "get_days_in_month(2021, 'December')\n",
    "должен вернуть список:\n",
    "\n",
    "[datetime.date(2021, 12, 1), datetime.date(2021, 12, 2), ..., datetime.date(2021, 12, 30), datetime.date(2021, 12, 31)]\n",
    "Примечание 2. В тестирующую систему сдайте программу, содержащую только необходимую функцию get_days_in_month(), но не код, вызывающий ее."
   ],
   "metadata": {
    "collapsed": false
   },
   "id": "28830a30b03b0586"
  },
  {
   "cell_type": "code",
   "execution_count": 62,
   "outputs": [
    {
     "data": {
      "text/plain": "[datetime.date(2021, 12, 1),\n datetime.date(2021, 12, 2),\n datetime.date(2021, 12, 3),\n datetime.date(2021, 12, 4),\n datetime.date(2021, 12, 5),\n datetime.date(2021, 12, 6),\n datetime.date(2021, 12, 7),\n datetime.date(2021, 12, 8),\n datetime.date(2021, 12, 9),\n datetime.date(2021, 12, 10),\n datetime.date(2021, 12, 11),\n datetime.date(2021, 12, 12),\n datetime.date(2021, 12, 13),\n datetime.date(2021, 12, 14),\n datetime.date(2021, 12, 15),\n datetime.date(2021, 12, 16),\n datetime.date(2021, 12, 17),\n datetime.date(2021, 12, 18),\n datetime.date(2021, 12, 19),\n datetime.date(2021, 12, 20),\n datetime.date(2021, 12, 21),\n datetime.date(2021, 12, 22),\n datetime.date(2021, 12, 23),\n datetime.date(2021, 12, 24),\n datetime.date(2021, 12, 25),\n datetime.date(2021, 12, 26),\n datetime.date(2021, 12, 27),\n datetime.date(2021, 12, 28),\n datetime.date(2021, 12, 29),\n datetime.date(2021, 12, 30),\n datetime.date(2021, 12, 31)]"
     },
     "execution_count": 62,
     "metadata": {},
     "output_type": "execute_result"
    }
   ],
   "source": [
    "import calendar\n",
    "from datetime import datetime, timedelta\n",
    "\n",
    "\n",
    "def get_days_in_month(year: int, month: str) -> list:\n",
    "    l = []\n",
    "    index_month = list(calendar.month_name).index(month)\n",
    "    days = calendar.monthrange(int(year), index_month)[1]\n",
    "    start = datetime(year, index_month, 1).date()\n",
    "    return [(start + timedelta(days=i)) for i in range(days)]\n",
    "\n",
    "get_days_in_month(2021, 'December')"
   ],
   "metadata": {
    "collapsed": false,
    "ExecuteTime": {
     "end_time": "2024-09-26T08:44:11.910896900Z",
     "start_time": "2024-09-26T08:44:11.906339700Z"
    }
   },
   "id": "594851fa374f55fa"
  },
  {
   "cell_type": "markdown",
   "source": [
    "Функция get_all_mondays()\n",
    "Реализуйте функцию get_all_mondays(), которая принимает один аргумент:\n",
    "\n",
    "year — натуральное число\n",
    "Функция должна возвращать отсортированный по возрастанию список всех дат (тип date) года year, выпадающих на понедельник.\n",
    "\n",
    "Примечание 1. Например, вызов:\n",
    "\n",
    "get_all_mondays(2021)\n",
    "должен вернуть список:\n",
    "\n",
    "[datetime.date(2021, 1, 4), datetime.date(2021, 1, 11), ..., datetime.date(2021, 12, 20), datetime.date(2021, 12, 27)]\n",
    "Примечание 2. В тестирующую систему сдайте программу, содержащую только необходимую функцию get_all_mondays(), но не код, вызывающий ее."
   ],
   "metadata": {
    "collapsed": false
   },
   "id": "7fa7d757c8f1fbc3"
  },
  {
   "cell_type": "code",
   "execution_count": 66,
   "outputs": [
    {
     "data": {
      "text/plain": "[datetime.date(2021, 1, 4),\n datetime.date(2021, 1, 11),\n datetime.date(2021, 1, 18),\n datetime.date(2021, 1, 25),\n datetime.date(2021, 2, 1),\n datetime.date(2021, 2, 8),\n datetime.date(2021, 2, 15),\n datetime.date(2021, 2, 22),\n datetime.date(2021, 3, 1),\n datetime.date(2021, 3, 8),\n datetime.date(2021, 3, 15),\n datetime.date(2021, 3, 22),\n datetime.date(2021, 3, 29),\n datetime.date(2021, 4, 5),\n datetime.date(2021, 4, 12),\n datetime.date(2021, 4, 19),\n datetime.date(2021, 4, 26),\n datetime.date(2021, 5, 3),\n datetime.date(2021, 5, 10),\n datetime.date(2021, 5, 17),\n datetime.date(2021, 5, 24),\n datetime.date(2021, 5, 31),\n datetime.date(2021, 6, 7),\n datetime.date(2021, 6, 14),\n datetime.date(2021, 6, 21),\n datetime.date(2021, 6, 28),\n datetime.date(2021, 7, 5),\n datetime.date(2021, 7, 12),\n datetime.date(2021, 7, 19),\n datetime.date(2021, 7, 26),\n datetime.date(2021, 8, 2),\n datetime.date(2021, 8, 9),\n datetime.date(2021, 8, 16),\n datetime.date(2021, 8, 23),\n datetime.date(2021, 8, 30),\n datetime.date(2021, 9, 6),\n datetime.date(2021, 9, 13),\n datetime.date(2021, 9, 20),\n datetime.date(2021, 9, 27),\n datetime.date(2021, 10, 4),\n datetime.date(2021, 10, 11),\n datetime.date(2021, 10, 18),\n datetime.date(2021, 10, 25),\n datetime.date(2021, 11, 1),\n datetime.date(2021, 11, 8),\n datetime.date(2021, 11, 15),\n datetime.date(2021, 11, 22),\n datetime.date(2021, 11, 29),\n datetime.date(2021, 12, 6),\n datetime.date(2021, 12, 13),\n datetime.date(2021, 12, 20),\n datetime.date(2021, 12, 27)]"
     },
     "execution_count": 66,
     "metadata": {},
     "output_type": "execute_result"
    }
   ],
   "source": [
    "import calendar\n",
    "from datetime import datetime, timedelta\n",
    "\n",
    "def get_all_mondays(year: int) -> list:\n",
    "    days = 366 if calendar.isleap(year) else 365\n",
    "    start = datetime(year, 1, 1).date()\n",
    "    return [start + timedelta(days=i) for i in range(days) if (start + timedelta(days=i)).weekday() == 0]\n",
    "\n",
    "get_all_mondays(2021)"
   ],
   "metadata": {
    "collapsed": false,
    "ExecuteTime": {
     "end_time": "2024-09-26T09:44:20.202013300Z",
     "start_time": "2024-09-26T09:44:20.194237200Z"
    }
   },
   "id": "8aca1b20fdda8980"
  },
  {
   "cell_type": "markdown",
   "source": [
    "ТЧМ\n",
    "Во многих музеях существует один день месяца, когда посещение музея для всех лиц или отдельных категорий граждан происходит без взимания платы. Например, в Эрмитаже это третий четверг месяца.\n",
    "\n",
    "Напишите программу, которая определяет даты бесплатных дней посещения Эрмитажа в заданном году.\n",
    "\n",
    "Формат входных данных\n",
    "На вход программе подается натуральное число, представляющее год.\n",
    "\n",
    "Формат выходных данных\n",
    "Программа должна определить все даты бесплатных дней посещения Эрмитажа в введенном году и вывести их. Даты должны быть расположены в порядке возрастания, каждая на отдельной строке, в формате DD.MM.YYYY."
   ],
   "metadata": {
    "collapsed": false
   },
   "id": "8cc922c1adb9a3fd"
  },
  {
   "cell_type": "code",
   "execution_count": 112,
   "outputs": [
    {
     "name": "stdout",
     "output_type": "stream",
     "text": [
      "21.01.2021\n",
      "18.02.2021\n",
      "18.03.2021\n",
      "15.04.2021\n",
      "20.05.2021\n",
      "17.06.2021\n",
      "15.07.2021\n",
      "19.08.2021\n",
      "16.09.2021\n",
      "21.10.2021\n",
      "18.11.2021\n",
      "16.12.2021\n"
     ]
    }
   ],
   "source": [
    "import calendar\n",
    "from datetime import datetime, timedelta\n",
    "\n",
    "# n = int(input())\n",
    "n = 2021\n",
    "\n",
    "def get_all_third_thursdays(year: int) -> list:\n",
    "    pattern = '%d.%m.%Y'\n",
    "    days = 366 if calendar.isleap(year) else 365\n",
    "    start = datetime(year, 1, 1).date()\n",
    "    l =  [datetime.strftime(start + timedelta(days=i), pattern) for i in range(days) if (start + timedelta(days=i)).weekday() == 3]\n",
    "    l1 = []\n",
    "    for i in range(1, 13):\n",
    "        l1.append(tuple(j for j in l if int(j[3:5]) == i))\n",
    "    l2 = []\n",
    "    for i in l1:\n",
    "        l2.append(i[2])\n",
    "    return l2\n",
    "\n",
    "print(*get_all_third_thursdays(n), sep='\\n')"
   ],
   "metadata": {
    "collapsed": false,
    "ExecuteTime": {
     "end_time": "2024-09-26T10:32:12.167827200Z",
     "start_time": "2024-09-26T10:32:12.159627800Z"
    }
   },
   "id": "6a20c2a20e8c6bf3"
  },
  {
   "cell_type": "code",
   "execution_count": 122,
   "outputs": [
    {
     "name": "stdout",
     "output_type": "stream",
     "text": [
      "21.01.2021\n",
      "18.02.2021\n",
      "18.03.2021\n",
      "15.04.2021\n",
      "20.05.2021\n",
      "17.06.2021\n",
      "15.07.2021\n",
      "19.08.2021\n",
      "16.09.2021\n",
      "21.10.2021\n",
      "18.11.2021\n",
      "16.12.2021\n"
     ]
    }
   ],
   "source": [
    "from calendar import weekday, THURSDAY\n",
    "from datetime import datetime\n",
    "\n",
    "# year = int(input())\n",
    "year = 2021\n",
    "for month in range(1, 13):\n",
    "    for day in range(15, 22):\n",
    "        if weekday(year, month, day) == THURSDAY:\n",
    "            thursday = datetime(year, month, day)\n",
    "            print(thursday.strftime('%d.%m.%Y'))\n",
    "            break"
   ],
   "metadata": {
    "collapsed": false,
    "ExecuteTime": {
     "end_time": "2024-09-26T10:32:18.448540500Z",
     "start_time": "2024-09-26T10:32:18.445885900Z"
    }
   },
   "id": "85b3848b163f49ad"
  }
 ],
 "metadata": {
  "kernelspec": {
   "display_name": "Python 3",
   "language": "python",
   "name": "python3"
  },
  "language_info": {
   "codemirror_mode": {
    "name": "ipython",
    "version": 2
   },
   "file_extension": ".py",
   "mimetype": "text/x-python",
   "name": "python",
   "nbconvert_exporter": "python",
   "pygments_lexer": "ipython2",
   "version": "2.7.6"
  }
 },
 "nbformat": 4,
 "nbformat_minor": 5
}

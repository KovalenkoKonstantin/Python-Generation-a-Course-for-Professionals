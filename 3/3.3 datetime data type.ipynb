{
 "cells": [
  {
   "cell_type": "markdown",
   "source": [
    "Тема урока: тип данных datetime\n",
    "Тип данных datetime\n",
    "Методы combine(), date(), time()\n",
    "Методы now(), utcnow(), today()\n",
    "Метод timestamp()\n",
    "Форматирование даты-времени\n",
    "Преобразование строки в дату-время\n",
    "Аннотация. Урок посвящен типу данных datetime из модуля datetime."
   ],
   "metadata": {
    "collapsed": false
   },
   "id": "2c88b13bfd64a01f"
  },
  {
   "cell_type": "markdown",
   "source": [
    "Тип данных datetime\n",
    "Типы данных date и time позволяют работать по отдельности с датами и временами. Однако на практике чаще требуется работать одновременно и с датой, и со временем. Для таких целей используется тип данных datetime из одноименного модуля datetime"
   ],
   "metadata": {
    "collapsed": false
   },
   "id": "844cdddf2ddcda35"
  },
  {
   "cell_type": "code",
   "execution_count": 1,
   "outputs": [
    {
     "data": {
      "image/png": "[encoded data removed]",
      "text/plain": "<IPython.core.display.Image object>"
     },
     "metadata": {},
     "output_type": "display_data"
    }
   ],
   "source": [
    "from functions import picture\n",
    "picture('picklepsd.png')"
   ],
   "metadata": {
    "collapsed": false,
    "ExecuteTime": {
     "end_time": "2025-03-11T11:05:56.276308Z",
     "start_time": "2025-03-11T11:05:56.265773700Z"
    }
   },
   "id": "93d01266252b9352"
  },
  {
   "cell_type": "markdown",
   "source": [
    "Чтобы иметь возможность использовать этот тип данных, необходимо предварительно его импортировать из модуля datetime"
   ],
   "metadata": {
    "collapsed": false
   },
   "id": "ea0b6d9f4361b6a"
  },
  {
   "cell_type": "code",
   "execution_count": null,
   "outputs": [],
   "source": [
    "from datetime import datetime"
   ],
   "metadata": {
    "collapsed": false
   },
   "id": "da7f56c435bb9e09"
  },
  {
   "cell_type": "markdown",
   "source": [
    "При создании новой даты-времени (тип datetime) нужно указать год, месяц, день, часы, минуты, секунды и микросекунды. При этом год, месяц и день являются обязательными, а часы, минуты, секунды и микросекунды необязательными."
   ],
   "metadata": {
    "collapsed": false
   },
   "id": "1e1c25c9a300c31b"
  },
  {
   "cell_type": "code",
   "execution_count": 1,
   "outputs": [
    {
     "name": "stdout",
     "output_type": "stream",
     "text": [
      "1992-10-06 09:40:23.051204\n",
      "2021-12-31 00:00:00\n",
      "<class 'datetime.datetime'>\n"
     ]
    }
   ],
   "source": [
    "from datetime import datetime\n",
    "\n",
    "my_datetime = datetime(1992, 10, 6, 9, 40, 23, 51204)    # создаем полную дату-время\n",
    "only_date = datetime(2021, 12, 31)                       # создаем дату-время с нулевой временной информацией\n",
    "\n",
    "print(my_datetime)\n",
    "print(only_date)\n",
    "print(type(my_datetime))"
   ],
   "metadata": {
    "collapsed": false,
    "ExecuteTime": {
     "end_time": "2024-09-18T06:25:50.468729900Z",
     "start_time": "2024-09-18T06:25:50.464624900Z"
    }
   },
   "id": "47f011bce96d141e"
  },
  {
   "cell_type": "markdown",
   "source": [
    "Конструктор типа datetime сначала принимает год, месяц, день, часы, минуты, секунды, а уже потом микросекунды. Мы также можем использовать именованные аргументы, нарушая указанный порядок datetime(day=6, month=10, year=1992, second=23, minute=40, microsecond=51204, hour=9)"
   ],
   "metadata": {
    "collapsed": false
   },
   "id": "4edbf21c1bf562ce"
  },
  {
   "cell_type": "markdown",
   "source": [
    "Так же, как и при работе с типами date и time, пользуясь типом datetime, можно получать доступ к отдельным значениям созданной даты-времени: годам, месяцам, дням, часам, минутам, секундам и микросекундам. Получить доступ к ним можно с помощью атрибутов:\n",
    "\n",
    "year — год\n",
    "month — месяц\n",
    "day — день\n",
    "hour — час\n",
    "minute — минуты\n",
    "second — секунды\n",
    "microsecond — микросекунды"
   ],
   "metadata": {
    "collapsed": false
   },
   "id": "198d40c212262c34"
  },
  {
   "cell_type": "code",
   "execution_count": 2,
   "outputs": [
    {
     "name": "stdout",
     "output_type": "stream",
     "text": [
      "Год = 1992\n",
      "Месяц = 10\n",
      "День = 6\n",
      "Часы = 9\n",
      "Минуты = 40\n",
      "Секунды = 23\n",
      "Микросекунды = 51204\n"
     ]
    }
   ],
   "source": [
    "from datetime import datetime\n",
    "\n",
    "my_datetime = datetime(1992, 10, 6, 9, 40, 23, 51204)\n",
    "\n",
    "print('Год =', my_datetime.year)\n",
    "print('Месяц =', my_datetime.month)\n",
    "print('День =', my_datetime.day)\n",
    "print('Часы =', my_datetime.hour)\n",
    "print('Минуты =', my_datetime.minute)\n",
    "print('Секунды =', my_datetime.second)\n",
    "print('Микросекунды =', my_datetime.microsecond)"
   ],
   "metadata": {
    "collapsed": false,
    "ExecuteTime": {
     "end_time": "2024-09-18T06:27:00.993505100Z",
     "start_time": "2024-09-18T06:27:00.988728400Z"
    }
   },
   "id": "82c01b8a2734c700"
  },
  {
   "cell_type": "markdown",
   "source": [
    "Методы combine(), date(), time()"
   ],
   "metadata": {
    "collapsed": false
   },
   "id": "6b1ad64fbdf8a525"
  },
  {
   "cell_type": "markdown",
   "source": [
    "Сформировать новый объект типа datetime можно с помощью двух разных объектов, представляющих дату и время (date и time). Для этого используется метод combine()."
   ],
   "metadata": {
    "collapsed": false
   },
   "id": "d6d13a194e68c48e"
  },
  {
   "cell_type": "code",
   "execution_count": 3,
   "outputs": [
    {
     "name": "stdout",
     "output_type": "stream",
     "text": [
      "1992-10-06 10:45:17\n"
     ]
    }
   ],
   "source": [
    "from datetime import date, time, datetime\n",
    "\n",
    "my_date = date(1992, 10, 6)\n",
    "my_time = time(10, 45, 17)\n",
    "my_datetime = datetime.combine(my_date, my_time)\n",
    "\n",
    "print(my_datetime)"
   ],
   "metadata": {
    "collapsed": false,
    "ExecuteTime": {
     "end_time": "2024-09-18T06:27:54.361852100Z",
     "start_time": "2024-09-18T06:27:54.357337100Z"
    }
   },
   "id": "19e2826a98773ea3"
  },
  {
   "cell_type": "markdown",
   "source": [
    "Если, наоборот, нужно получить из даты-времени (тип datetime) по отдельности дату (тип date) и время (тип time), то используются методы date() и time() соответственно."
   ],
   "metadata": {
    "collapsed": false
   },
   "id": "58e79ef83b4f3d"
  },
  {
   "cell_type": "code",
   "execution_count": 4,
   "outputs": [
    {
     "name": "stdout",
     "output_type": "stream",
     "text": [
      "2022-10-07 14:15:45 <class 'datetime.datetime'>\n",
      "2022-10-07 <class 'datetime.date'>\n",
      "14:15:45 <class 'datetime.time'>\n"
     ]
    }
   ],
   "source": [
    "from datetime import datetime\n",
    "\n",
    "my_datetime = datetime(2022, 10, 7, 14, 15, 45)\n",
    "my_date = my_datetime.date()                     # получаем только дату (тип date)\n",
    "my_time = my_datetime.time()                     # получаем только время (тип time)\n",
    "\n",
    "print(my_datetime, type(my_datetime))\n",
    "print(my_date, type(my_date))\n",
    "print(my_time, type(my_time))"
   ],
   "metadata": {
    "collapsed": false,
    "ExecuteTime": {
     "end_time": "2024-09-18T06:28:15.427154200Z",
     "start_time": "2024-09-18T06:28:15.423141800Z"
    }
   },
   "id": "5e5be25490f8a0f1"
  },
  {
   "cell_type": "markdown",
   "source": [
    "Методы now(), utcnow(), today()"
   ],
   "metadata": {
    "collapsed": false
   },
   "id": "5075be278ed10301"
  },
  {
   "cell_type": "markdown",
   "source": [
    "Для того чтобы получить текущее время на момент исполнения программы, используются методы now() и utcnow() для локального и UTC времени соответственно."
   ],
   "metadata": {
    "collapsed": false
   },
   "id": "346749e25bf1f63a"
  },
  {
   "cell_type": "code",
   "execution_count": 5,
   "outputs": [
    {
     "name": "stdout",
     "output_type": "stream",
     "text": [
      "2024-09-18 09:29:31.642877\n",
      "2024-09-18 06:29:31.642877\n"
     ]
    }
   ],
   "source": [
    "from datetime import datetime\n",
    "\n",
    "datetime_now = datetime.now()\n",
    "datetime_utcnow = datetime.utcnow()\n",
    "\n",
    "print(datetime_now)           # текущее локальное время (московское) на момент запуска программы\n",
    "print(datetime_utcnow)        # текущее UTC время на момент запуска программы"
   ],
   "metadata": {
    "collapsed": false,
    "ExecuteTime": {
     "end_time": "2024-09-18T06:29:31.648785800Z",
     "start_time": "2024-09-18T06:29:31.644786600Z"
    }
   },
   "id": "e5b04f85edc542ea"
  },
  {
   "cell_type": "markdown",
   "source": [
    "Всемирное координированное время (Coordinated Universal Time, UTC) — стандарт, по которому общество регулирует часы и время. Московское время соответствует UTC+3."
   ],
   "metadata": {
    "collapsed": false
   },
   "id": "651aeaf6b1fba2b5"
  },
  {
   "cell_type": "markdown",
   "source": [
    "С выходом Python 3.12 метод utcnow() устарел и подготовлен к удалению в будущих версиях языка, поэтому вместо него рекомендуется использовать метод now(), указав в качестве аргумента константу UTC модуля datetime."
   ],
   "metadata": {
    "collapsed": false
   },
   "id": "f91d46d985f85412"
  },
  {
   "cell_type": "code",
   "execution_count": 8,
   "outputs": [
    {
     "name": "stdout",
     "output_type": "stream",
     "text": [
      "2024-09-18 06:32:29.009242+00:00\n"
     ]
    }
   ],
   "source": [
    "from datetime import datetime, UTC\n",
    "\n",
    "print(datetime.now(UTC))"
   ],
   "metadata": {
    "collapsed": false,
    "ExecuteTime": {
     "end_time": "2024-09-18T06:32:29.014833300Z",
     "start_time": "2024-09-18T06:32:29.009242200Z"
    }
   },
   "id": "2c3ae39fb8310b3f"
  },
  {
   "cell_type": "markdown",
   "source": [
    "Метод today() аналогичен методу now(). Для получения локальной даты-времени рекомендуется использовать именно метод now()"
   ],
   "metadata": {
    "collapsed": false
   },
   "id": "16b9c66930bd250f"
  },
  {
   "cell_type": "markdown",
   "source": [
    "Метод timestamp()"
   ],
   "metadata": {
    "collapsed": false
   },
   "id": "6ced5a79c4b18264"
  },
  {
   "cell_type": "markdown",
   "source": [
    "Метод timestamp() позволяет преобразовать объект типа datetime в количество секунд, прошедших с момента начала эпохи. Данный метод возвращает значение типа float."
   ],
   "metadata": {
    "collapsed": false
   },
   "id": "d4c9f907c8ec4dd2"
  },
  {
   "cell_type": "markdown",
   "source": [
    "Начало эпохи — это полночь 1 января 1970 года (00:00:00 UTC)."
   ],
   "metadata": {
    "collapsed": false
   },
   "id": "8ae5cc45a5d9a0a"
  },
  {
   "cell_type": "code",
   "execution_count": 9,
   "outputs": [
    {
     "name": "stdout",
     "output_type": "stream",
     "text": [
      "1634101823.0\n"
     ]
    }
   ],
   "source": [
    "from datetime import datetime\n",
    "\n",
    "my_datetime = datetime(2021, 10, 13, 8, 10, 23)\n",
    "\n",
    "print(my_datetime.timestamp())"
   ],
   "metadata": {
    "collapsed": false,
    "ExecuteTime": {
     "end_time": "2024-09-18T06:36:42.222955400Z",
     "start_time": "2024-09-18T06:36:42.217438100Z"
    }
   },
   "id": "8629a457525c65a7"
  },
  {
   "cell_type": "markdown",
   "source": [
    "Метод fromtimestamp()"
   ],
   "metadata": {
    "collapsed": false
   },
   "id": "d7214b392f501276"
  },
  {
   "cell_type": "markdown",
   "source": [
    "Метод fromtimestamp() позволяет преобразовать количество секунд, прошедших с момента начала эпохи, в объект типа datetime. Данный метод является обратным по отношению к методу timestamp()."
   ],
   "metadata": {
    "collapsed": false
   },
   "id": "fc9ddaef3996ef67"
  },
  {
   "cell_type": "code",
   "execution_count": 10,
   "outputs": [
    {
     "name": "stdout",
     "output_type": "stream",
     "text": [
      "2021-10-13 08:10:23\n"
     ]
    }
   ],
   "source": [
    "from datetime import datetime\n",
    "\n",
    "my_datetime = datetime.fromtimestamp(1634101823.0)\n",
    "\n",
    "print(my_datetime)"
   ],
   "metadata": {
    "collapsed": false,
    "ExecuteTime": {
     "end_time": "2024-09-18T06:40:32.044236500Z",
     "start_time": "2024-09-18T06:40:32.040247400Z"
    }
   },
   "id": "92fcf5cefd2fffa3"
  },
  {
   "cell_type": "markdown",
   "source": [
    "Обратите внимание на то, что метод fromtimestamp() по умолчанию возвращает объект datetime в вашем часовом поясе."
   ],
   "metadata": {
    "collapsed": false
   },
   "id": "9d6f5d7108cc7daa"
  },
  {
   "cell_type": "markdown",
   "source": [
    "Форматирование даты-времени"
   ],
   "metadata": {
    "collapsed": false
   },
   "id": "a94ff8587fda2a4f"
  },
  {
   "cell_type": "markdown",
   "source": [
    "По умолчанию объекты типа datetime (как и объекты типа date и time) выводятся в специальном формате, который называется ISO 8601. Данное представление не всегда удовлетворяет нашим запросам."
   ],
   "metadata": {
    "collapsed": false
   },
   "id": "f13800e389ddbf62"
  },
  {
   "cell_type": "markdown",
   "source": [
    "Чтобы преобразовать дату-время в строку нужного формата, следует воспользоваться методом strftime(), указав ему в качестве аргумента параметры форматирования."
   ],
   "metadata": {
    "collapsed": false
   },
   "id": "432d076b7edb40a7"
  },
  {
   "cell_type": "code",
   "execution_count": 11,
   "outputs": [
    {
     "name": "stdout",
     "output_type": "stream",
     "text": [
      "2021-08-10 18:20:34\n",
      "10.08.21 --- 18::20::34\n",
      "10/08/21\n",
      "Tuesday 10, August 2021\n",
      "18:20:34\n"
     ]
    }
   ],
   "source": [
    "from datetime import datetime\n",
    "\n",
    "my_datetime = datetime(2021, 8, 10, 18, 20, 34)\n",
    "\n",
    "print(my_datetime)                                            # вывод в ISO формате\n",
    "print(my_datetime.strftime('%d.%m.%y --- %H::%M::%S'))\n",
    "print(my_datetime.strftime('%d/%m/%y'))\n",
    "print(my_datetime.strftime('%A %d, %B %Y'))\n",
    "print(my_datetime.strftime('%H:%M:%S'))"
   ],
   "metadata": {
    "collapsed": false,
    "ExecuteTime": {
     "end_time": "2024-09-18T06:41:38.032245400Z",
     "start_time": "2024-09-18T06:41:38.025138300Z"
    }
   },
   "id": "6a65c7cb45c586c0"
  },
  {
   "cell_type": "markdown",
   "source": [
    "Для форматированного вывода объектов типов date, time, datetime используется один и тот же метод strftime()."
   ],
   "metadata": {
    "collapsed": false
   },
   "id": "73cc893e3d14be4e"
  },
  {
   "cell_type": "markdown",
   "source": [
    "Для форматирования даты-времени (datetime) нам с вами потребуется уже знакомая таблица.\n",
    "\n",
    "Формат\tЗначение\tПример\n",
    "%a\tСокращенное название дня недели\tSun, Mon, …, Sat (en_US)\n",
    "Пн, Вт, ..., Вс (ru_RU)\n",
    "%A\tПолное название дня недели\tSunday, Monday, …, Saturday (en_US)\n",
    "понедельник, ..., воскресенье (ru_RU)\n",
    "%w\tНомер дня недели [0, …, 6]\t0, 1, …, 6 (0=воскресенье, 6=суббота)\n",
    "%d\tДень месяца [01, …, 31]\t01, 02, …, 31\n",
    "%b\tСокращенное название месяца\tJan, Feb, …, Dec (en_US);\n",
    "янв, ..., дек (ru_RU)\n",
    "%B\tПолное название месяца\tJanuary, February, …, December (en_US);\n",
    "Январь, ..., Декабрь (ru_RU)\n",
    "%m\tНомер месяца [01, …,12]\t01, 02, …, 12\n",
    "%y\tГод без века [00, …, 99]\t00, 01, …, 99\n",
    "%Y\tГод с веком\t0001, 0002, …, 2013, 2014, …, 9999\n",
    "В Linux год выводится без ведущих нулей:\n",
    "1, 2, …, 2013, 2014, …, 9999\n",
    "%H\tЧас (24-часовой формат) [00, …, 23]\t00, 01, …, 23\n",
    "%I\tЧас (12-часовой формат) [01, …, 12]\t01, 02, …, 12\n",
    "%p\tДо полудня или после (при 12-часовом формате)\tAM, PM (en_US)\n",
    "%M\tЧисло минут [00, …, 59]\t00, 01, …, 59\n",
    "%S\tЧисло секунд [00, …, 59]\t00, 01, …, 59\n",
    "%f\tЧисло микросекунд\t000000, 000001, …, 999999\n",
    "%z\tРазница с UTC в формате ±HHMM[SS[.ffffff]]\t+0000, -0400, +1030, +063415, ...\n",
    "%Z\tВременная зона\tUTC, EST, CST\n",
    "%j\tДень года [001,366]\t001, 002, …, 366\n",
    "%U\t\n",
    "Номер недели в году (неделя начинается с воскр.).Неделя, предшествующая первому воскресенью, является нулевой. [00, …, 53]\n",
    "\n",
    "00, 01, …, 53\n",
    "%W\t\n",
    "Номер недели в году (неделя начинается с пон.) Неделя, предшествующая первому понедельнику, является нулевой. [00, …, 53]\n",
    "\n",
    "00, 01, …, 53\n",
    "%c\tДата и время\tTue Aug 16 21:30:00 1988 (en_US);\n",
    "03.01.2019 23:18:32 (ru_RU)\n",
    "%x\tДата\t08/16/88 (None); 08/16/1988 (en_US);\n",
    "03.01.2019 (ru_RU)\n",
    "%X\tВремя\t21:30:00"
   ],
   "metadata": {
    "collapsed": false
   },
   "id": "80217b1c13b9fff3"
  },
  {
   "cell_type": "markdown",
   "source": [
    "Преобразование строки в дату-время"
   ],
   "metadata": {
    "collapsed": false
   },
   "id": "727709461c02016c"
  },
  {
   "cell_type": "markdown",
   "source": [
    "Как уже было сказано в прошлом уроке, преобразовать данные из строки в объект типа datetime можно двумя способами:\n",
    "\n",
    "ручным преобразованием\n",
    "с помощью метода strptime()\n",
    "Ручной подход основан на использовании метода split():"
   ],
   "metadata": {
    "collapsed": false
   },
   "id": "3f077bfb8f56d347"
  },
  {
   "cell_type": "code",
   "execution_count": 12,
   "outputs": [
    {
     "name": "stdout",
     "output_type": "stream",
     "text": [
      "2024-09-18 09:43:54\n"
     ]
    }
   ],
   "source": [
    "from datetime import datetime\n",
    "\n",
    "datetime_str = input('Введите дату/время в формате ДД.ММ.ГГГГ ЧЧ:ММ:СС')\n",
    "\n",
    "date_str, time_str = datetime_str.split(' ')\n",
    "\n",
    "date_info = [int(i) for i in date_str.split('.')]\n",
    "time_info = [int(i) for i in time_str.split(':')]\n",
    "\n",
    "my_datetime = datetime(date_info[2], date_info[1], date_info[0], time_info[0], time_info[1], time_info[2])\n",
    "\n",
    "print(my_datetime)"
   ],
   "metadata": {
    "collapsed": false,
    "ExecuteTime": {
     "end_time": "2024-09-18T06:43:48.381752800Z",
     "start_time": "2024-09-18T06:43:22.294354100Z"
    }
   },
   "id": "7d4bfb86fe33480b"
  },
  {
   "cell_type": "markdown",
   "source": [
    "На практике для преобразования строки в объект datetime редко используется ручной подход. Вместо него используется метод strptime(), который преобразует строку (первый аргумент) в объект datetime согласно переданному формату (второй аргумент)."
   ],
   "metadata": {
    "collapsed": false
   },
   "id": "ee796b8a8b22697b"
  },
  {
   "cell_type": "code",
   "execution_count": 16,
   "outputs": [
    {
     "name": "stdout",
     "output_type": "stream",
     "text": [
      "2024-09-18 09:43:54\n"
     ]
    }
   ],
   "source": [
    "from datetime import datetime\n",
    "\n",
    "datetime_str = input('Введите дату/время в формате ДД.ММ.ГГГГ ЧЧ:ММ:СС')\n",
    "\n",
    "my_datetime = datetime.strptime(datetime_str, '%d.%m.%Y %H:%M:%S')\n",
    "\n",
    "print(my_datetime)"
   ],
   "metadata": {
    "collapsed": false,
    "ExecuteTime": {
     "end_time": "2024-09-18T06:45:49.965225200Z",
     "start_time": "2024-09-18T06:45:31.052848Z"
    }
   },
   "id": "c4d922fcfc33b740"
  },
  {
   "cell_type": "code",
   "execution_count": 17,
   "outputs": [
    {
     "name": "stdout",
     "output_type": "stream",
     "text": [
      "2034-08-10 13:55:59\n",
      "2021-08-10 00:00:00\n",
      "2021-08-10 00:00:00\n",
      "1900-01-01 18:20:34\n",
      "2021-08-10 00:00:00\n",
      "2021-08-10 00:00:00\n",
      "2021-08-10 18:00:00\n"
     ]
    }
   ],
   "source": [
    "from datetime import datetime\n",
    "\n",
    "datetime0 = datetime.strptime('10.08.2034 13:55:59', '%d.%m.%Y %H:%M:%S')\n",
    "datetime1 = datetime.strptime('10/08/21', '%d/%m/%y')\n",
    "datetime2 = datetime.strptime('Tuesday 10, August 2021', '%A %d, %B %Y')\n",
    "datetime3 = datetime.strptime('18.20.34', '%H.%M.%S')\n",
    "datetime4 = datetime.strptime('2021/08/10', '%Y/%m/%d')\n",
    "datetime5 = datetime.strptime('10.08.2021 (Tuesday, August)', '%d.%m.%Y (%A, %B)')\n",
    "datetime6 = datetime.strptime('Year: 2021, Month: 08, Day: 10, Hour: 18.', 'Year: %Y, Month: %m, Day: %d, Hour: %H.')\n",
    "\n",
    "print(datetime0, datetime1, datetime2, datetime3, datetime4, datetime5, datetime6, sep='\\n')"
   ],
   "metadata": {
    "collapsed": false,
    "ExecuteTime": {
     "end_time": "2024-09-18T06:46:30.922218900Z",
     "start_time": "2024-09-18T06:46:30.916520900Z"
    }
   },
   "id": "5d0b87cde8b331a2"
  },
  {
   "cell_type": "markdown",
   "source": [
    "Обратите внимание на то, что первый аргумент должен соответствовать формату второго аргумента. Если он не соответствует, то возникает исключение ValueError."
   ],
   "metadata": {
    "collapsed": false
   },
   "id": "9234707e0398a46"
  },
  {
   "cell_type": "code",
   "execution_count": 18,
   "outputs": [
    {
     "ename": "ValueError",
     "evalue": "time data '10/08/2034 13:55:59' does not match format '%d.%m.%Y %H:%M:%S'",
     "output_type": "error",
     "traceback": [
      "\u001B[1;31m---------------------------------------------------------------------------\u001B[0m",
      "\u001B[1;31mValueError\u001B[0m                                Traceback (most recent call last)",
      "Cell \u001B[1;32mIn[18], line 3\u001B[0m\n\u001B[0;32m      1\u001B[0m \u001B[38;5;28;01mfrom\u001B[39;00m \u001B[38;5;21;01mdatetime\u001B[39;00m \u001B[38;5;28;01mimport\u001B[39;00m datetime\n\u001B[1;32m----> 3\u001B[0m my_datetime \u001B[38;5;241m=\u001B[39m \u001B[43mdatetime\u001B[49m\u001B[38;5;241;43m.\u001B[39;49m\u001B[43mstrptime\u001B[49m\u001B[43m(\u001B[49m\u001B[38;5;124;43m'\u001B[39;49m\u001B[38;5;124;43m10/08/2034 13:55:59\u001B[39;49m\u001B[38;5;124;43m'\u001B[39;49m\u001B[43m,\u001B[49m\u001B[43m \u001B[49m\u001B[38;5;124;43m'\u001B[39;49m\u001B[38;5;132;43;01m%d\u001B[39;49;00m\u001B[38;5;124;43m.\u001B[39;49m\u001B[38;5;124;43m%\u001B[39;49m\u001B[38;5;124;43mm.\u001B[39;49m\u001B[38;5;124;43m%\u001B[39;49m\u001B[38;5;124;43mY \u001B[39;49m\u001B[38;5;124;43m%\u001B[39;49m\u001B[38;5;124;43mH:\u001B[39;49m\u001B[38;5;124;43m%\u001B[39;49m\u001B[38;5;124;43mM:\u001B[39;49m\u001B[38;5;124;43m%\u001B[39;49m\u001B[38;5;124;43mS\u001B[39;49m\u001B[38;5;124;43m'\u001B[39;49m\u001B[43m)\u001B[49m\n\u001B[0;32m      5\u001B[0m \u001B[38;5;28mprint\u001B[39m(my_datetime)\n",
      "File \u001B[1;32m~\\AppData\\Local\\Programs\\Python\\Python311\\Lib\\_strptime.py:568\u001B[0m, in \u001B[0;36m_strptime_datetime\u001B[1;34m(cls, data_string, format)\u001B[0m\n\u001B[0;32m    565\u001B[0m \u001B[38;5;28;01mdef\u001B[39;00m \u001B[38;5;21m_strptime_datetime\u001B[39m(\u001B[38;5;28mcls\u001B[39m, data_string, \u001B[38;5;28mformat\u001B[39m\u001B[38;5;241m=\u001B[39m\u001B[38;5;124m\"\u001B[39m\u001B[38;5;132;01m%a\u001B[39;00m\u001B[38;5;124m \u001B[39m\u001B[38;5;124m%\u001B[39m\u001B[38;5;124mb \u001B[39m\u001B[38;5;132;01m%d\u001B[39;00m\u001B[38;5;124m \u001B[39m\u001B[38;5;124m%\u001B[39m\u001B[38;5;124mH:\u001B[39m\u001B[38;5;124m%\u001B[39m\u001B[38;5;124mM:\u001B[39m\u001B[38;5;124m%\u001B[39m\u001B[38;5;124mS \u001B[39m\u001B[38;5;124m%\u001B[39m\u001B[38;5;124mY\u001B[39m\u001B[38;5;124m\"\u001B[39m):\n\u001B[0;32m    566\u001B[0m \u001B[38;5;250m    \u001B[39m\u001B[38;5;124;03m\"\"\"Return a class cls instance based on the input string and the\u001B[39;00m\n\u001B[0;32m    567\u001B[0m \u001B[38;5;124;03m    format string.\"\"\"\u001B[39;00m\n\u001B[1;32m--> 568\u001B[0m     tt, fraction, gmtoff_fraction \u001B[38;5;241m=\u001B[39m \u001B[43m_strptime\u001B[49m\u001B[43m(\u001B[49m\u001B[43mdata_string\u001B[49m\u001B[43m,\u001B[49m\u001B[43m \u001B[49m\u001B[38;5;28;43mformat\u001B[39;49m\u001B[43m)\u001B[49m\n\u001B[0;32m    569\u001B[0m     tzname, gmtoff \u001B[38;5;241m=\u001B[39m tt[\u001B[38;5;241m-\u001B[39m\u001B[38;5;241m2\u001B[39m:]\n\u001B[0;32m    570\u001B[0m     args \u001B[38;5;241m=\u001B[39m tt[:\u001B[38;5;241m6\u001B[39m] \u001B[38;5;241m+\u001B[39m (fraction,)\n",
      "File \u001B[1;32m~\\AppData\\Local\\Programs\\Python\\Python311\\Lib\\_strptime.py:349\u001B[0m, in \u001B[0;36m_strptime\u001B[1;34m(data_string, format)\u001B[0m\n\u001B[0;32m    347\u001B[0m found \u001B[38;5;241m=\u001B[39m format_regex\u001B[38;5;241m.\u001B[39mmatch(data_string)\n\u001B[0;32m    348\u001B[0m \u001B[38;5;28;01mif\u001B[39;00m \u001B[38;5;129;01mnot\u001B[39;00m found:\n\u001B[1;32m--> 349\u001B[0m     \u001B[38;5;28;01mraise\u001B[39;00m \u001B[38;5;167;01mValueError\u001B[39;00m(\u001B[38;5;124m\"\u001B[39m\u001B[38;5;124mtime data \u001B[39m\u001B[38;5;132;01m%r\u001B[39;00m\u001B[38;5;124m does not match format \u001B[39m\u001B[38;5;132;01m%r\u001B[39;00m\u001B[38;5;124m\"\u001B[39m \u001B[38;5;241m%\u001B[39m\n\u001B[0;32m    350\u001B[0m                      (data_string, \u001B[38;5;28mformat\u001B[39m))\n\u001B[0;32m    351\u001B[0m \u001B[38;5;28;01mif\u001B[39;00m \u001B[38;5;28mlen\u001B[39m(data_string) \u001B[38;5;241m!=\u001B[39m found\u001B[38;5;241m.\u001B[39mend():\n\u001B[0;32m    352\u001B[0m     \u001B[38;5;28;01mraise\u001B[39;00m \u001B[38;5;167;01mValueError\u001B[39;00m(\u001B[38;5;124m\"\u001B[39m\u001B[38;5;124munconverted data remains: \u001B[39m\u001B[38;5;132;01m%s\u001B[39;00m\u001B[38;5;124m\"\u001B[39m \u001B[38;5;241m%\u001B[39m\n\u001B[0;32m    353\u001B[0m                       data_string[found\u001B[38;5;241m.\u001B[39mend():])\n",
      "\u001B[1;31mValueError\u001B[0m: time data '10/08/2034 13:55:59' does not match format '%d.%m.%Y %H:%M:%S'"
     ]
    }
   ],
   "source": [
    "from datetime import datetime\n",
    "\n",
    "my_datetime = datetime.strptime('10/08/2034 13:55:59', '%d.%m.%Y %H:%M:%S')\n",
    "\n",
    "print(my_datetime)"
   ],
   "metadata": {
    "collapsed": false,
    "ExecuteTime": {
     "end_time": "2024-09-18T06:47:55.650223700Z",
     "start_time": "2024-09-18T06:47:55.604929500Z"
    }
   },
   "id": "4c35cea597340d2f"
  },
  {
   "cell_type": "markdown",
   "source": [
    "Примечания"
   ],
   "metadata": {
    "collapsed": false
   },
   "id": "84c79aa1301fdb84"
  },
  {
   "cell_type": "markdown",
   "source": [
    "Примечание 1. Тип данных datetime наследует весь функционал (атрибуты и методы) от типа date.\n",
    "\n",
    "Примечание 2. Тип данных datetime является неизменяемым. Мы можем создать множества, содержащие объекты данного типа, а также они могут выступать в качестве ключей словаря.\n",
    "\n",
    "Примечание 3. Мы можем использовать встроенные функции min(), max(), sorted() и т.д. при работе с объектами типа datetime.\n",
    "\n",
    "Примечание 4. Объекты типа datetime можно сравнивать (==, !=, <, >, <=, >=), как и большинство других типов данных."
   ],
   "metadata": {
    "collapsed": false
   },
   "id": "401f0c853207784c"
  },
  {
   "cell_type": "markdown",
   "source": [
    "Примечание 5. При создании объекта datetime из строки с помощью метода strptime() необязательно, чтобы строка содержала год, месяц и день, в отличие от ручного создания объекта datetime."
   ],
   "metadata": {
    "collapsed": false
   },
   "id": "fe7c44fbe6c96f62"
  },
  {
   "cell_type": "code",
   "execution_count": 19,
   "outputs": [
    {
     "name": "stdout",
     "output_type": "stream",
     "text": [
      "1900-01-01 09:00:00\n"
     ]
    }
   ],
   "source": [
    "from datetime import datetime\n",
    "\n",
    "d = datetime.strptime('9:00', '%H:%M')\n",
    "print(d)"
   ],
   "metadata": {
    "collapsed": false,
    "ExecuteTime": {
     "end_time": "2024-09-18T06:48:53.918342200Z",
     "start_time": "2024-09-18T06:48:53.911674100Z"
    }
   },
   "id": "319b4fd587dac268"
  },
  {
   "cell_type": "markdown",
   "source": [
    "Примечание 6. Для создания новой даты-времени на основании уже существующей можно использовать метод replace(). Он возвращает новый объект datetime с переданными измененными значениями атрибутов."
   ],
   "metadata": {
    "collapsed": false
   },
   "id": "9e1312ddb54aec81"
  },
  {
   "cell_type": "code",
   "execution_count": 20,
   "outputs": [
    {
     "name": "stdout",
     "output_type": "stream",
     "text": [
      "1992-10-06 10:12:45\n",
      "1995-12-06 10:12:45\n",
      "1992-10-17 14:37:45\n"
     ]
    }
   ],
   "source": [
    "from datetime import datetime\n",
    "\n",
    "datetime1 = datetime(1992, 10, 6, 10, 12, 45)\n",
    "datetime2 = datetime1.replace(year=1995, month=12)         \n",
    "datetime3 = datetime1.replace(day=17, hour=14, minute=37)\n",
    "\n",
    "print(datetime1)\n",
    "print(datetime2)\n",
    "print(datetime3)"
   ],
   "metadata": {
    "collapsed": false,
    "ExecuteTime": {
     "end_time": "2024-09-18T06:49:40.182525500Z",
     "start_time": "2024-09-18T06:49:40.177748500Z"
    }
   },
   "id": "3580b6d62d9a9bdf"
  },
  {
   "cell_type": "markdown",
   "source": [
    "Примечание 7. Помните про ограничения на year, month, day, hour, minute, second, microsecond, которые используете для создания объекта типа datetime. В случае использования неверного значения возникнет ошибка (исключение) ValueError."
   ],
   "metadata": {
    "collapsed": false
   },
   "id": "7b9c6ce3b1ab7d3"
  },
  {
   "cell_type": "markdown",
   "source": [
    "Ограничения:\n",
    "\n",
    "1 <= year <= 9999\n",
    "1 <= month <= 12\n",
    "1 <= day <= количество дней в заданом месяце и году\n",
    "0 <= hour < 24\n",
    "0 <= minute < 60\n",
    "0 <= second < 60\n",
    "0 <= microsecond < 1000000"
   ],
   "metadata": {
    "collapsed": false
   },
   "id": "89f040a848e4bcc"
  },
  {
   "cell_type": "markdown",
   "source": [
    "Примечание 8. Для того, чтобы использовать конкретную локализацию (перевод на язык), нужно использовать модуль locale. Приведенный ниже код устанавливает русскую локализацию:"
   ],
   "metadata": {
    "collapsed": false
   },
   "id": "70b02d7a930809e8"
  },
  {
   "cell_type": "code",
   "execution_count": 21,
   "outputs": [
    {
     "name": "stdout",
     "output_type": "stream",
     "text": [
      "вторник 10, Август 2021, 12:34:15\n"
     ]
    }
   ],
   "source": [
    "from datetime import datetime\n",
    "import locale\n",
    "\n",
    "locale.setlocale(locale.LC_ALL, 'ru_RU.UTF-8')\n",
    "\n",
    "my_datetime = datetime(2021, 8, 10, 12, 34, 15)\n",
    "\n",
    "print(my_datetime.strftime('%A %d, %B %Y, %H:%M:%S'))"
   ],
   "metadata": {
    "collapsed": false,
    "ExecuteTime": {
     "end_time": "2024-09-18T06:50:54.447654300Z",
     "start_time": "2024-09-18T06:50:54.441058200Z"
    }
   },
   "id": "a22046a356f0739"
  },
  {
   "cell_type": "markdown",
   "source": [
    "Для установки английской локализации используется код:"
   ],
   "metadata": {
    "collapsed": false
   },
   "id": "e17984cb0c37eb6f"
  },
  {
   "cell_type": "code",
   "execution_count": null,
   "outputs": [],
   "source": [
    "import locale\n",
    "\n",
    "locale.setlocale(locale.LC_ALL, 'en_EN.UTF-8')"
   ],
   "metadata": {
    "collapsed": false
   },
   "id": "51fa870e25e52557"
  },
  {
   "cell_type": "markdown",
   "source": [
    "Примечание 10. По умолчанию объекты типа datetime выводятся в ISO 8601 формате: YYYY-MM-DD HH:MM:SS.ffffff"
   ],
   "metadata": {
    "collapsed": false
   },
   "id": "f867b2a53cf93f2"
  },
  {
   "cell_type": "markdown",
   "source": [
    "Примечание 11. Для того, чтобы получить строковое представление объекта datetime в ISO формате, можно воспользоваться методом isoformat() или встроенной функцией str()"
   ],
   "metadata": {
    "collapsed": false
   },
   "id": "b645b010c317d5bd"
  },
  {
   "cell_type": "code",
   "execution_count": 22,
   "outputs": [
    {
     "name": "stdout",
     "output_type": "stream",
     "text": [
      "1992-10-06T10:12:45\n",
      "1992-10-06 10:12:45\n"
     ]
    }
   ],
   "source": [
    "from datetime import datetime\n",
    "\n",
    "my_datetime = datetime(1992, 10, 6, 10, 12, 45)\n",
    "\n",
    "print(my_datetime.isoformat())\n",
    "print(str(my_datetime))"
   ],
   "metadata": {
    "collapsed": false,
    "ExecuteTime": {
     "end_time": "2024-09-18T06:52:01.765156900Z",
     "start_time": "2024-09-18T06:52:01.758717700Z"
    }
   },
   "id": "768ddc0cc5b30960"
  },
  {
   "cell_type": "markdown",
   "source": [
    "Обратите внимание на символ T, который вставляется между датой и временем при использовании метода isoformat() для datetime объектов."
   ],
   "metadata": {
    "collapsed": false
   },
   "id": "3e2f58388de1d51e"
  },
  {
   "cell_type": "markdown",
   "source": [
    "Незначащие нули при форматировании даты/времени в строку\n",
    "Такая модификация символов форматирования strftime() уберёт незначащие нули https://stackoverflow.com/questions/904928/python-strftime-date-without-leading-0 .\n",
    "Win: %#d %#H\n",
    "Unix: %-d %-H"
   ],
   "metadata": {
    "collapsed": false
   },
   "id": "ca750370d0dfe485"
  },
  {
   "cell_type": "code",
   "execution_count": 26,
   "outputs": [
    {
     "name": "stdout",
     "output_type": "stream",
     "text": [
      "2005-01-28 23:50:13\n"
     ]
    }
   ],
   "source": [
    "from datetime import datetime\n",
    "\n",
    "text = 'Experiment Date 01/28/2005; Time 23::50::13'\n",
    "\n",
    "dt = datetime.strptime(text, 'Experiment Date %m/%d/%Y; Time %H::%M::%S')\n",
    "\n",
    "print(dt)"
   ],
   "metadata": {
    "collapsed": false,
    "ExecuteTime": {
     "end_time": "2024-09-18T07:37:03.591035Z",
     "start_time": "2024-09-18T07:37:03.584649Z"
    }
   },
   "id": "b57f86732065b807"
  },
  {
   "cell_type": "markdown",
   "source": [
    "Дополните приведенный ниже код, чтобы в переменной dt содержался объект типа datetime с датой и временем, которые указаны в строке text.\n",
    "\n",
    "Примечание. Дата, указанная в строке text, записана в формате DD.MM.YYYY, а время — в формате HH:MM."
   ],
   "metadata": {
    "collapsed": false
   },
   "id": "f4b232cbe98259f7"
  },
  {
   "cell_type": "code",
   "execution_count": 27,
   "outputs": [
    {
     "name": "stdout",
     "output_type": "stream",
     "text": [
      "2022-07-15 08:30:00\n"
     ]
    }
   ],
   "source": [
    "from datetime import datetime\n",
    "\n",
    "text = 'Уважаемый пациент, доктор готов принять Вас 15.07.2022 в 08:30'\n",
    "\n",
    "dt = datetime.strptime(text, 'Уважаемый пациент, доктор готов принять Вас %d.%m.%Y в %H:%M')\n",
    "\n",
    "print(dt)"
   ],
   "metadata": {
    "collapsed": false,
    "ExecuteTime": {
     "end_time": "2024-09-18T07:42:58.118469700Z",
     "start_time": "2024-09-18T07:42:58.113803800Z"
    }
   },
   "id": "edaa0ad214b839ec"
  },
  {
   "cell_type": "markdown",
   "source": [
    "Дополните приведенный ниже код, чтобы он преобразовал секунды seconds (прошедшие от начала эпохи) в объект datetime и, наоборот, объект datetime в секунды (прошедшие от начала эпохи)."
   ],
   "metadata": {
    "collapsed": false
   },
   "id": "17db1d139414b756"
  },
  {
   "cell_type": "code",
   "execution_count": 29,
   "outputs": [
    {
     "name": "stdout",
     "output_type": "stream",
     "text": [
      "2048-09-09 04:46:40\n",
      "1320354000.0\n"
     ]
    }
   ],
   "source": [
    "from datetime import datetime\n",
    "\n",
    "seconds = 2483228800\n",
    "dt = datetime(2011, 11, 4)\n",
    "\n",
    "print(datetime.fromtimestamp(seconds))\n",
    "print(dt.timestamp())"
   ],
   "metadata": {
    "collapsed": false,
    "ExecuteTime": {
     "end_time": "2024-09-18T07:49:15.929654700Z",
     "start_time": "2024-09-18T07:49:15.921838300Z"
    }
   },
   "id": "b0079979f4e219ed"
  },
  {
   "cell_type": "markdown",
   "source": [
    "Вам доступен список times_of_purchases, содержащий даты (тип datetime), в которые были совершены покупки в некотором интернет-магазине. Дополните приведенный ниже код, чтобы он вывел текст До полудня, если большее число покупок было совершено до полудня, или текст После полудня в противном случае.\n",
    "\n",
    "Примечание 1. Гарантируется, что ни одна покупка не была совершена ровно в 12:00:00.\n",
    "\n",
    "Примечание 2. Гарантируется, что до полудня и после полудня совершено различное количество покупок."
   ],
   "metadata": {
    "collapsed": false
   },
   "id": "15ac5f231b0c511c"
  },
  {
   "cell_type": "code",
   "execution_count": 35,
   "outputs": [
    {
     "name": "stdout",
     "output_type": "stream",
     "text": [
      "После полудня\n"
     ]
    }
   ],
   "source": [
    "from datetime import datetime\n",
    "\n",
    "times_of_purchases = [datetime(2017, 10, 1, 12, 23, 25), datetime(2017, 10, 1, 15, 26, 26), \n",
    "                      datetime(2017, 10, 1, 15, 42, 57), datetime(2017, 10, 1, 17, 49, 59), \n",
    "                      datetime(2017, 10, 2, 6, 37, 10), datetime(2017, 10, 2, 6, 42, 53), \n",
    "                      datetime(2017, 10, 2, 8, 56, 45), datetime(2017, 10, 2, 9, 18, 3), \n",
    "                      datetime(2017, 10, 2, 12, 23, 48), datetime(2017, 10, 2, 12, 45, 5), \n",
    "                      datetime(2017, 10, 2, 12, 48, 8), datetime(2017, 10, 2, 12, 10, 54), \n",
    "                      datetime(2017, 10, 2, 19, 18, 10), datetime(2017, 10, 2, 12, 31, 45), \n",
    "                      datetime(2017, 10, 3, 20, 57, 10), datetime(2017, 10, 4, 7, 4, 57), \n",
    "                      datetime(2017, 10, 4, 7, 13, 31), datetime(2017, 10, 4, 7, 13, 42), \n",
    "                      datetime(2017, 10, 4, 7, 21, 54), datetime(2017, 10, 4, 14, 22, 12), \n",
    "                      datetime(2017, 10, 4, 14, 50), datetime(2017, 10, 4, 15, 7, 27), \n",
    "                      datetime(2017, 10, 4, 12, 44, 49), datetime(2017, 10, 4, 12, 46, 41), \n",
    "                      datetime(2017, 10, 4, 16, 32, 33), datetime(2017, 10, 4, 16, 34, 44), \n",
    "                      datetime(2017, 10, 4, 16, 46, 59), datetime(2017, 10, 4, 12, 26, 6)]\n",
    "\n",
    "l = [i.hour for i in times_of_purchases]\n",
    "# print(l)\n",
    "s = sum(map(lambda x: x if x > 12 else 0, l))\n",
    "# print(s)\n",
    "check = s > len(l)\n",
    "\n",
    "print('После полудня' if check else 'До полудня')"
   ],
   "metadata": {
    "collapsed": false,
    "ExecuteTime": {
     "end_time": "2024-09-18T08:02:24.056124200Z",
     "start_time": "2024-09-18T08:02:24.051862300Z"
    }
   },
   "id": "beb108a7b852f260"
  },
  {
   "cell_type": "markdown",
   "source": [
    "Вам доступны список dates, содержащий даты, и список times, содержащий времена. Количество элементов в этих списках одинаковое. Дополните приведенный ниже код, чтобы он вывел datetime объекты, полученные путем объединения элементов списков dates и times, находящихся на одинаковых позициях. Полученные объекты должны быть расположены в порядке возрастания секунд, каждый на отдельной строке.\n",
    "\n",
    "Примечание 1. Например, если бы списки dates и times имели вид:\n",
    "\n",
    "dates = [date(2020, 11, 12), date(2021, 7, 2), date(2020, 9, 25)]\n",
    "times = [time(12, 50, 22), time(12, 19, 1), time(7, 30, 1)]\n",
    "то программа должна была бы вывести:\n",
    "\n",
    "2021-07-02 12:19:01\n",
    "2020-09-25 07:30:01\n",
    "2020-11-12 12:50:22\n",
    "Примечание 2. Если объекты имеют равное количество секунд, то следует сохранить их исходный порядок."
   ],
   "metadata": {
    "collapsed": false
   },
   "id": "953162ad014de4f7"
  },
  {
   "cell_type": "code",
   "execution_count": 61,
   "outputs": [
    {
     "name": "stdout",
     "output_type": "stream",
     "text": [
      "1239-02-05 11:47:01\n",
      "0229-01-24 09:40:02\n",
      "0167-04-16 17:47:09\n",
      "0479-09-06 09:14:09\n",
      "1410-03-11 21:02:10\n",
      "1957-07-14 17:27:10\n",
      "1793-08-23 07:33:27\n",
      "0197-08-24 17:55:40\n",
      "0804-11-12 17:20:47\n",
      "0295-01-23 12:42:56\n",
      "0327-08-24 15:09:57\n",
      "0632-06-04 20:08:59\n"
     ]
    }
   ],
   "source": [
    "from datetime import date, time, datetime\n",
    "\n",
    "dates = [date(1793, 8, 23), date(1410, 3, 11), date(804, 11, 12), date(632, 6, 4),\n",
    "         date(295, 1, 23), date(327, 8, 24), date(167, 4, 16), date(229, 1, 24), \n",
    "         date(1239, 2, 5), date(1957, 7, 14), date(197, 8, 24), date(479, 9, 6)]\n",
    "\n",
    "times = [time(7, 33, 27), time(21, 2, 10), time(17, 20, 47), time(20, 8, 59), \n",
    "         time(12, 42, 56), time(15, 9, 57), time(17, 47, 9), time(9, 40, 2), \n",
    "         time(11, 47, 1), time(17, 27, 10), time(17, 55, 40), time(9, 14, 9)]\n",
    "\n",
    "joined = [datetime.combine(date, time) for date, time in zip(dates, times)]\n",
    "# print(joined)\n",
    "\n",
    "sorted_join = sorted(joined, key=lambda x:x.second)\n",
    "# print(sorted_join)\n",
    "# print(*[datetime.strftime(i, '%Y-%m-%d %H:%M:%S') for i in sorted_join], sep='\\n')\n",
    "print(*[i for i in sorted_join], sep='\\n')"
   ],
   "metadata": {
    "collapsed": false,
    "ExecuteTime": {
     "end_time": "2024-09-18T08:36:30.823455400Z",
     "start_time": "2024-09-18T08:36:30.818938500Z"
    }
   },
   "id": "ce8ccd78bea5f534"
  },
  {
   "cell_type": "code",
   "execution_count": 62,
   "outputs": [
    {
     "name": "stdout",
     "output_type": "stream",
     "text": [
      "1239-02-05 11:47:01\n",
      "0229-01-24 09:40:02\n",
      "0371-04-25 09:23:04\n",
      "0167-04-16 17:47:09\n",
      "0479-09-06 09:14:09\n",
      "1410-03-11 21:02:10\n",
      "1957-07-14 17:27:10\n",
      "1793-08-23 07:33:27\n",
      "0534-10-02 20:17:37\n",
      "0197-08-24 17:55:40\n",
      "0932-09-26 09:27:46\n",
      "0804-11-12 17:20:47\n",
      "0295-01-23 12:42:56\n",
      "0327-08-24 15:09:57\n",
      "0632-06-04 20:08:59\n"
     ]
    }
   ],
   "source": [
    "from datetime import date, time, datetime\n",
    "from operator import attrgetter\n",
    "\n",
    "dates = [date(1793, 8, 23), date(1410, 3, 11), date(804, 11, 12), date(632, 6, 4), date(295, 1, 23), date(327, 8, 24), date(167, 4, 16), date(229, 1, 24), date(1239, 2, 5), date(1957, 7, 14), date(197, 8, 24), date(479, 9, 6), date(932, 9, 26), date(371, 4, 25), date(534, 10, 2)]\n",
    "times = [time(7, 33, 27), time(21, 2, 10), time(17, 20, 47), time(20, 8, 59), time(12, 42, 56), time(15, 9, 57), time(17, 47, 9), time(9, 40, 2), time(11, 47, 1), time(17, 27, 10), time(17, 55, 40), time(9, 14, 9), time(9, 27, 46), time(9, 23, 4), time(20, 17, 37)]\n",
    "\n",
    "datetimes = [datetime.combine(d, t) for d, t in zip(dates, times)]\n",
    "\n",
    "print(*sorted(datetimes, key=attrgetter('second')), sep='\\n')"
   ],
   "metadata": {
    "collapsed": false,
    "ExecuteTime": {
     "end_time": "2024-09-18T08:40:06.583067400Z",
     "start_time": "2024-09-18T08:40:06.576580300Z"
    }
   },
   "id": "3f56bc5d53a3fe90"
  },
  {
   "cell_type": "markdown",
   "source": [
    "Ученики онлайн-школы BEEGEEK решили выяснить, кто из них быстрее всех решит домашнее задание по математике. Для этого каждый ученик зафиксировал время начала и окончания решения своей домашней работы.\n",
    "\n",
    "Вам доступен словарь data, содержащий результаты учеников. Ключом в словаре является имя ученика, а значением — кортеж, первый элемент которого — время начала решения, второй элемент — время окончания решения. Дополните приведенный ниже код, чтобы он вывел имя ученика, который затратил на решение домашнего задания меньше всего времени.\n",
    "\n",
    "Примечание 1. Гарантируется, что искомый ученик единственный.\n",
    "\n",
    "Примечание 2. Дата-времена в кортежах представлены в виде строк в формате DD.MM.YYYY HH:MM:SS."
   ],
   "metadata": {
    "collapsed": false
   },
   "id": "1a96d460304d606"
  },
  {
   "cell_type": "code",
   "execution_count": 78,
   "outputs": [
    {
     "name": "stdout",
     "output_type": "stream",
     "text": [
      "Егор\n"
     ]
    }
   ],
   "source": [
    "from datetime import datetime\n",
    "\n",
    "data = {'Дима': ('03.11.2021 09:31:18', '03.11.2021 11:41:28'), \n",
    "        'Геор': ('01.11.2021 09:03:04', '01.11.2021 12:40:35'), \n",
    "        'Анна': ('02.11.2021 04:41:54', '02.11.2021 05:39:40'), \n",
    "        'Илина': ('02.11.2021 01:36:40', '02.11.2021 04:48:27'), \n",
    "        'Герман': ('04.11.2021 07:51:19', '04.11.2021 09:53:53'), \n",
    "        'Руслан': ('01.11.2021 11:26:06', '01.11.2021 12:56:24'), \n",
    "        'Лера': ('03.11.2021 11:09:41', '03.11.2021 14:37:41'), \n",
    "        'Егор': ('03.11.2021 05:29:38', '03.11.2021 06:01:59'), \n",
    "        'Максим': ('05.11.2021 13:05:03', '05.11.2021 14:27:41'), \n",
    "        'Саша': ('03.11.2021 04:14:26', '03.11.2021 05:10:58'), \n",
    "        'Марина': ('05.11.2021 15:21:06', '05.11.2021 18:33:46')}\n",
    "dic = {name: datetime.strptime(end, '%d.%m.%Y %H:%M:%S').timestamp() - datetime.strptime(start, '%d.%m.%Y %H:%M:%S').timestamp() for name,  (start, end) in data.items()}\n",
    "print(min(dic, key=dic.get))"
   ],
   "metadata": {
    "collapsed": false,
    "ExecuteTime": {
     "end_time": "2024-09-18T09:08:04.392982Z",
     "start_time": "2024-09-18T09:08:04.385980700Z"
    }
   },
   "id": "44f7936981706350"
  },
  {
   "cell_type": "code",
   "execution_count": null,
   "outputs": [],
   "source": [
    "from datetime import datetime\n",
    "\n",
    "seconds = 2483228800\n",
    "dt = datetime(2011, 11, 4)\n",
    "\n",
    "print(datetime.fromtimestamp(seconds))\n",
    "print(dt.timestamp())"
   ],
   "metadata": {
    "collapsed": false
   },
   "id": "c61b4d1a0bfa42f3"
  },
  {
   "cell_type": "markdown",
   "source": [
    "Дневник космонавта 🌶️\n",
    "Вам доступен текстовый файл diary.txt, в который космонавт записывал небольшие отчёты за день. Каждый новый отчёт он мог записать либо в начало файла, либо в середину, либо в конец. Все отчеты разделены между собой пустой строкой. Каждый новый отчёт начинается со строки с датой и временем в формате DD.MM.YYYY; HH:MM, после которой следуют события, произошедшие за указанный день:\n",
    "\n",
    "29.04.2006; 06:55\n",
    "It wasn’t until several hours after launch that we were able to take the time to get out of our seats and enter the “habitation module.”\n",
    "Then, after another orbital maneuver, we finally were able to take a several hour break and get a little sleep.\n",
    "\n",
    "03.05.2006; 20:24\n",
    "Everybody had a sleeping bag although I only used mine on a couple of brief occasions, and then only when getting a little chilly.\n",
    "\n",
    "...\n",
    "Напишите программу, которая расставляет все записи космонавта в хронологическом порядке и выводит полученный результат.\n",
    "\n",
    "Примечание 1. Например, если бы файл diary.txt имел вид:\n",
    "\n",
    "13.02.1994; 18:49\n",
    "Уже несколько дней наблюдаем на теневой части орбиты в районе Канады мощнейшее полярное сияние.\n",
    "Прежде всего, поражают масштабы происходящего. Под нами огромная зелено-розовая «змея».\n",
    "\n",
    "03.02.1994; 20:18\n",
    "Сегодня наблюдали и сняли на видео след Шаттла после выведения, дымит он прилично.\n",
    "Готовимся к радиолюбительской связи с экипажем Шаттла и, конечно, с Сергеем.\n",
    "При подготовке к сеансу связи с Шаттлом познакомился с Ритой, радиолюбителем из Австралии.\n",
    "Она немного говорит по-русски и очень приятно слышать родную речь.\n",
    "\n",
    "12.02.1994; 17:17\n",
    "Сегодня возникли проблемы со сбросом через спутник ретранслятор видеоинформации по снятому нами следу Шаттла.\n",
    "Как сообщил нам ЦУП, в Щелкове холодно, все замерзло, антенна не работает...\n",
    "Все это наводит на грустные размышления о нашей безолаберности и разрухе.\n",
    "то программа должна была бы вывести:\n",
    "\n",
    "03.02.1994; 20:18\n",
    "Сегодня наблюдали и сняли на видео след Шаттла после выведения, дымит он прилично.\n",
    "Готовимся к радиолюбительской связи с экипажем Шаттла и, конечно, с Сергеем.\n",
    "При подготовке к сеансу связи с Шаттлом познакомился с Ритой, радиолюбителем из Австралии.\n",
    "Она немного говорит по-русски и очень приятно слышать родную речь.\n",
    "\n",
    "12.02.1994; 17:17\n",
    "Сегодня возникли проблемы со сбросом через спутник ретранслятор видеоинформации по снятому нами следу Шаттла.\n",
    "Как сообщил нам ЦУП, в Щелкове холодно, все замерзло, антенна не работает...\n",
    "Все это наводит на грустные размышления о нашей безолаберности и разрухе.\n",
    "\n",
    "13.02.1994; 18:49\n",
    "Уже несколько дней наблюдаем на теневой части орбиты в районе Канады мощнейшее полярное сияние.\n",
    "Прежде всего, поражают масштабы происходящего. Под нами огромная зелено-розовая «змея».\n",
    "Примечание 2. Указанный файл доступен по ссылке. Ответ на задачу доступен по ссылке.\n",
    "\n",
    "Примечание 3. При открытии файла используйте явное указание кодировки UTF-8."
   ],
   "metadata": {
    "collapsed": false
   },
   "id": "739ff21d747c1768"
  },
  {
   "cell_type": "code",
   "execution_count": 123,
   "outputs": [
    {
     "name": "stdout",
     "output_type": "stream",
     "text": [
      "26.02.2008; 18:55\n",
      "I can't believe I've been up here for 3 weeks already. It's been overwhelming in so many ways.\n",
      "\n",
      "27.02.2008; 19:51\n",
      "The past three weeks have been a blur of new sensations, out-of-this-world experiences, and hard work.\n",
      "\n",
      "01.03.2008; 18:01\n",
      "The launch was amazing - very smooth - it could have been a ride at an amusement park.\n",
      "For those of us on the middeck (without windows), it was just a little shaking and rumbling, surprisingly benign.\n",
      "Of course, the G's picked up, dropped off as we pass through the maximum dynamic pressure phase (for those who know what I'm talking about), and then ramped back up again to 3 G's.\n",
      "Having recently spent some time in the Russian centrifuge to practice emergency Soyuz descents, which can hit 8 G's for up to around 40 seconds, 3 G's is easy.\n",
      "The fact that it is sustained for a few minutes makes it a little uncomfortable, but it was little more than confirmation that we're getting somewhere.\n",
      "\n",
      "02.03.2008; 17:43\n",
      "It was a great ride up. I couldn't believe that a lifetime of wishing for this was suddenly happening all in that moment.\n",
      "It was an unforgettable 8 1/2 minutes.\n",
      "\n",
      "04.03.2008; 21:59\n",
      "Adapting to zero-G has been a lot of fun.\n",
      "We had many hours of busy work to do immediately 'post insertion,' as we call it.\n",
      "Of course, as soon as I possibly could I went up to the flight deck to see the view, and wow, it was incredible.\n",
      "The first sensation of looking out the window was very disorienting. Everything seemed to be floating - me, the shuttle, and the Earth, and all in different orientations.\n",
      "\n",
      "08.03.2008; 22:03\n",
      "That next day was very busy getting the shuttle ready for the work we were going to do on the station - preparing equipment and supplies for transfer, checking out the EVA suits, maneuvering the shuttle, and learning how to do everything in zero-G.\n",
      "The best part of the initial flight was approaching the space station.\n",
      "When we first caught sight of it, the view was straight out of a science fiction movie, it was awesome.\n",
      "Usually the shuttle flies sort-of upside down and backwards - this is best for thermal radiation, communication, and micrometeoroid protection. So normally, looking up out of the overhead windows is looking straight down at the Earth, and the front windows point in the direction you just came from. For approaching the station, though, we were in a 'normal' airplane-type attitude - so wings level, Earth below, facing forward.\n",
      "The view from the cockpit of the shuttle was just staggering. You could see more than 180 degrees from the left to right side of the cockpit, and the sense of flying over the Earth in a spaceship was just incredible.\n",
      "It was at this moment that I realized what is so special about the view from up here, and it is not what I anticipated.\n",
      "\n",
      "11.03.2008; 16:13\n",
      "In an airplane, during the day, the sky is, of course, still blue, no matter how high you go.\n",
      "If you fly higher you see further, so that is not unexpected.\n",
      "But the first thing that hit me with this view was that it was daylight, we were flying over the sunlit side of the Earth, yet most of what we saw out the window was the pitch blackness of empty space.\n",
      "It didn't matter that I've seen it this way on Star Trek or any other science fiction movie a thousand times.\n",
      "Seeing so much blackness, while seeing the Earth so brightly lit, was a contrast that surprised me more than expected.\n",
      "Although we are not so far away from the Earth in this orbit, different from being in an aircraft, the sensation was of two objects, our ship and the Earth, both floating in a dark void.\n",
      "And then there was another feeling. It wasn't that the Earth looked small, in fact it looks huge - the biggest thing you've ever seen - but from here you can see its shape, its size, and you get a gut feeling of being able to measure it with your own eyes.\n",
      "It's not the view, but this feeling that goes with it, of being able to measure it, that really washed over me as we began our approach to the station.\n",
      "\n",
      "14.03.2008; 17:14\n",
      "The first sight of the station was so cool.\n",
      "If you've ever flown at night, you know how you can easily spot other aircraft.\n",
      "There are all the lights on the ground, and then if you scan the above horizon you see the lights of other aircraft.\n",
      "They are so easy to pick out because somehow you have a viewpoint that enables you to see other aircraft at your altitude (or above).\n",
      "With the Earth below and darkness above, the space station first appeared as a bright dot - clearly, or seemingly, the only other spaceship above the planet.\n",
      "It didn't take long before it started taking shape, and then it grew more and more beautiful as its details came into focus.\n",
      "Having seen all the various parts of the station in training in various countries, it was still an unbelievable image to see this massive structure cruising along at 17,500 miles per hour high above the Earth.\n",
      "It's as large as two football fields side-by-side, and seeing all the pieces together forming one coherent spaceship was very impressive.\n",
      "\n",
      "15.03.2008; 20:32\n",
      "The space station is a huge and very impressive facility that we humans have somehow managed to build.\n",
      "There's no doubt that building this space station is one of humanitys greatest achievements.\n",
      "Despite working on it for 15 years, and knowing what every part of it looks like in great detail, I felt like I was seeing it for the very first time.\n",
      "It was the real thing - not a mock-up, not a simulation, not a picture, but another spaceship, a huge one, flying in formation with us in space.\n",
      "How cool is that? Wow! Incredible. It felt like we were in a movie. What could be more cool than this?\n",
      "Well, opening the hatches and being greeted, not by space aliens, but by some of your best friends.\n",
      "\n",
      "17.03.2008; 19:09\n",
      "Just before docking, Garrett called on the radio and said, You guys have no idea how happy we are to see you.\n",
      "Arriving at my new home for the next 6 months, I felt exactly the same. How wonderful it was to meet our friends and colleagues who we have trained and traveled with for years, in this amazing place.\n",
      "Every one of the 10 of us, who spent the next 10 days on the station together, have been astronauts or cosmonauts for about 10 years (a few 8, a few others 12).\n",
      "Eight of us were still rookies prior to this mission.\n",
      "The first time I met Sergei, our commander on the station, we did a water survival course together in the Black Sea - that was 7 years ago.\n",
      "Mike Fossum, Garrett Reisman, and Ken Ham were all in my class - the 17th group selected in 1998.\n",
      "We've done everything from wilderness survival to T-38 training to field geology trips together.\n",
      "Karen Nyberg and I supported the Expedition 6 crew on the space station together - that was 3 years of traveling to/from Russia during their training, working in Mission Control as CapCom during their mission, and supporting their families, especially when the Columbia accident occurred and they were the crew who was still onboard the station. Sergei, Oleg, and I have been training together for the better part of a year, but all three of us have been training specifically for a long-duration space station mission for much longer - many years.\n",
      "Anyway, one of the really neat things about this whole adventure is that by the time you're doing it, everyone you're doing it with is a long-time friend.\n",
      "This even holds true for the folks on the ground. Every voice I've heard on the radio so far has been someone that I know.\n",
      "\n",
      "22.03.2008; 13:37\n",
      "The next 10 days were just a blur of activity.\n",
      "My role was divided mainly between robotics and EVA preparation.\n",
      "The mission was otherwise non-stop robotics using 3 different robotic arms. As you know, it all went incredibly well - exactly as planned.\n",
      "The simulations on the ground are so perfect, that it was difficult to keep in mind that something huge was actually moving out there.\n",
      "We just went through the procedures and a myriad of checks and double-checks as we always did in training. Grappling, moving and connecting large space modules were amazingly straight forward given the incredible tools we have and the army of experts on the ground who built them and know what they're doing.\n",
      "\n",
      "23.03.2008; 19:16\n",
      "The robotics was a lot of fun, and opening the Kibo (JEM - Japanese Experiment Module) and flying in there for the first time was really something.\n",
      "At first it did not have any panels or racks installed, and so we had most of the cylindrical volume open.\n",
      "It was, and still is, by far, the largest and most open volume within the station.\n",
      "For a few wild and crazy minutes we had 10 people flying around in all directions.\n",
      "Then back to work, and the next several days involved installing system and science racks, hooking everything up to cooling, power, data, air-flow, etc.\n",
      "\n",
      "25.03.2008; 23:31\n",
      "At the far end of the JEM, there are two very large, port-facing windows, which are awesome.\n",
      "Most other windows on the station point down, which is great for Earth observations and photography, but you can't get a big picture perspective from that view.\n",
      "The JEM windows face the horizon, and the views are incredible.\n",
      "No doubt I'll be spending much of my free time gazing out of those windows, looking over the Earth, and just wondering what it all means.\n",
      "\n",
      "26.03.2008; 19:17\n",
      "I'm sealed inside the descent capsule of the Soyuz vehicle, while my crew-mates perform their first Russian spacewalk (EVA).\n",
      "At this moment Sergei and Oleg are in their spacesuits and going through their checkouts before opening the hatch.\n",
      "\n",
      "02.04.2008; 17:52\n",
      "Why am I in the Soyuz? Well, the Soyuz is docked to the Russian docking compartment, and this is the module from which they need to depress and repress for the EVA.\n",
      "Since the Soyuz is our rescue vehicle, I need to be able to reach it in case of an emergency.\n",
      "During the EVA the docking compartment will be at vacuum, so if I stayed on the station, there would be a vacuum between me and the rescue vehicle.\n",
      "So the result is that I had to move from the voluminous and comfortable space station to the incredibly compact descent capsule.\n",
      "\n",
      "03.04.2008; 18:22\n",
      "So it is me plus three spacesuits (of the re-entry type, not spacewalking type) and a ton of other stuff that they wanted us to have with us in case of an emergency.\n",
      "Should there be some kind of serious problem during the EVA, such as not being able to repressurize the docking compartment, the idea is that they would enter the Soyuz upper compartment, and they would repressurize within the Soyuz.\n",
      "In that case we would still be all together and could leave the Space station, re-dock to another docking port, and/or return to Earth if the situation called for that.\n",
      "So to prepare for this remote possibility, we just finished closing all the hatches within the station, isolating all the modules from each other, and otherwise did a long list of tasks that give the ground the greatest flexibility in managing the station in the case that there is no crew onboard for a while.\n",
      "My greatest concern right now is just that the EVA goes smoothly and safely, and that we can get back into the station when it's all over.\n",
      "\n",
      "04.04.2008; 18:55\n",
      "With all the extra stuff in the Soyuz descent module, I have just enough room to be wedged between the control panel and the seats.\n",
      "Lying across the 3 seats, I still cant straighten my legs (but almost).\n",
      "I have the 3 suits in the 3 seats, plus I have a huge extra bag of supplies and equipment.\n",
      "\n",
      "05.04.2008; 16:17\n",
      "Obviously, Ive got a laptop computer.\n",
      "I also have some extra batteries, some food and water, extra clothes because it gets cold in here, a camera, a book, and, most importantly, Ive got several episodes of Star Trek and StarGate I on my computer to watch.\n",
      "So this is my plan... I'm going to watch the world go by out the window and watch Star Trek on my laptop.\n",
      "That way, I can marvel at our planet and our existence, while dreaming of the future. What could be better than that!?\n",
      "\n",
      "07.04.2008; 20:20\n",
      "OK, 4 hours later now, and on my 3rd of 5 laptop batteries.\n",
      "Ive got a great setup here. I need to keep the headset on to talk to Mission Control in Moscow if needed (and to answer their calls).\n",
      "But Ive got my ear-buds under the headset and hooked up to my portable media player.\n",
      "So at the moment I'm listening to some great jazz music.\n",
      "What a great feeling it is to be here! I was going to say that it seems like Gods view of everything we know, but actually, the grandeur of this view might be attributed more to its simplicity or purity.\n",
      "\n",
      "09.04.2008; 17:31\n",
      "The sky is pitch black, as black as black can get, and this is immediately adjacent to the sunlit Earth, which is so bright you can hardly look at it.\n",
      "The ocean is a rich and bright blue. The clouds form bright white and artistic patterns on a continental scale.\n",
      "The shorelines seem like theyve been drawn freehand and are everywhere, very sharp boundaries between brown and blue.\n",
      "The scale of everything and the clarity are just overwhelming and so beautiful.\n",
      "On the other hand, there is so much beauty and complexity that you cannot see from here.\n",
      "The contrast between the view and the detail is striking.\n",
      "There is this immense wonder of nature below me, but hidden within it is the complexity of the civilization that it must host in order to create my current situation.\n",
      "The history and culture and knowledge and infrastructure and technology that is required to somehow put me here at this particular window listening to great jazz – there is no way to even begin to appreciate the richness and complexity we have down there without swooping all the way down and being equally overwhelmed by the variety of life, culture, cities, arts, science and machinery that we humans somehow developed from the pure Earth, air, water, and fire (the sun) seen from here.\n",
      "\n",
      "11.04.2008; 22:46\n",
      "The Soyuz vehicle is shaking back and forth and I see some sunlit particles flying off into space.\n",
      "It must be Sergei and Oleg climbing around on the outside.\n",
      "They are cutting away a part of the micrometeoroid and thermal protection blanket to access one of the pyro bolts that may have been the source of the problem with the last Soyuz re-entry.\n",
      "One of their tasks is to remove one of these bolts and bring it inside.\n",
      "Their work today may help the Control Center in Moscow understand what is going on with these pyro bolts, and it may also hopefully prevent a similar incident with this Soyuz when they ride it home in October.\n",
      "Its cool to see these small pieces float away, but on the other hand, I know that these are new pieces of debris that are moving at 28,000 km/hr, and unless they happen to be in exactly your orbit, they can hit you with a good fraction of that velocity.\n",
      "\n",
      "12.04.2008; 21:38\n",
      "My 3rd battery is about to quit.\n",
      "Its actually a really cool feeling to be isolated in this capable little spacecraft, looking out over the Earth, while typing this journal.\n",
      "I wish my office had a view like this (although it does have the advantage of a bathroom down the hall!).\n",
      "\n",
      "13.04.2008; 22:15\n",
      "All is peaceful and quiet on the Station and seemingly on Earth.\n",
      "There's a continuous humming sound onboard, which is only really noticeable at a time like this.\n",
      "It's reassuring somehow. It feels like the hum of an engine running and I always have to fight the sensation that this background noise is something that keeps us speeding along through space.\n",
      "Actually, it is just the sound of fans that are continuously circulating the air.\n",
      "We're so accustomed to the idea that an engine must be running to keep a vehicle going, that the explanation for the sound is practically a subconscious response.\n",
      "I found out how deeply I'm connected to this sound when the other night I woke up because it stopped.\n",
      "I would have never thought it possible to wake me up by turning off a noise. That was yesterday and it was a very difficult day for us.\n",
      "On the very last operational day of Expedition 17 we found ourselves on a Space Station in survival mode.\n",
      "\n",
      "15.04.2008; 15:53\n",
      "I guess it was Murphy's Law's way of making sure we got to see it all during our mission. Two days ago we lost the liquid separator pump for our toilet.\n",
      "At first, it didn't seem to be a similar problem to what had happened before I arrived over 4 months ago.\n",
      "My colleagues configured the Soyuz vehicle facilities to support us in the meantime, but there's a maximum of a two-day capacity there.\n",
      "That same night one of the relay channels failed on the Russian segment, which resulted in a cascade of failures that I believe explains why some faulty smoke detector signals went off, thus shutting down all the air circulation, oxygen generation, CO2 scrubbing, and impurity removal.\n",
      "This is an automatic response to prevent a fire from spreading.\n",
      "At the same time, some aspect of the original failure caused a loss of other systems that resulted in the transition to survival mode.\n",
      "We're actually still waiting to hear details about what happened. Fortunately, it isn't that big of a deal to be in survival mode.\n",
      "We can operate onboard for quite some time in this mode, and it doesn't necessarily imply a potential evacuation. However, that depends on what the problem is.\n",
      "We heard a lot of sirens and alarms for many hours. Houston and Moscow were extremely busy all day recovering.\n",
      "The whole situation started in the very early morning but everything was back to normal by the end of the day, including the bathroom facilities (after putting in a new separator).\n",
      "All in a day's work for the Control Centers.\n",
      "\n",
      "17.04.2008; 23:11\n",
      "We celebrated the end of Expedition 17 that night by hosting a party for the whole Houston team.\n",
      "This was in the planning for a while and it was great to be able to thank and congratulate the team on all their great work for the past 6 months.\n",
      "It's been a very successful mission and has gone very smoothly.\n",
      "The installation of the new Japanese module, and the subsequent work to get the laboratory completely out-fitted and operational for science, was a huge accomplishment for the team (and for Japan).\n",
      "Being part of this team and this crew has been an amazing and rewarding experience.\n",
      "I'm going to miss my crewmates and the ground team that I've gotten to know so well, once we hand-over to the Expedition 18 team.\n",
      "\n",
      "20.04.2008; 17:08\n",
      "It's a few days later now and three new guys should be docking with us on the Station in 9 hours.\n",
      "This weekend has been a whirlwind of activity trying to prepare the Station and ourselves for the 10 days ahead.\n",
      "The Station is about as clean as it's going to get. It's been chaos recently because we've been relocating racks from one module to another for a few weeks.\n",
      "Each of these moves involved relocating a ton of temporarily stowed or configured things like laptops, handrails, hoses, wires, and a hundred other devices and tools and notes that were there (usually) for a reason.\n",
      "The goal was to prepare the Station for the arrival of some new racks with the Space Shuttle in about a month. Water recycling equipment, new crew quarters, a galley and a hygiene station are among the new racks that are coming up. With the new equipment, the Station will be able to support a long duration crew of 6 beginning in the Spring of 2009.\n",
      "In the meantime we have a few new large gaps of open space, which means there's suddenly an opportunity to do some advanced acrobatics. Our celebration of the last night (with just the three of us) was to take some video of us enjoying this new empty space as we performed daring stunts of acrobatic flying, while trying not to break anything (including our heads).\n",
      "If you've ever seen that footage of the SkyLab astronauts trying to run in a circle around the inner circumference of their module, then you get the idea.\n",
      "We only had two sides open, so it was more like jumping between two trampolines that faced each other, but it was a lot of fun.\n",
      "\n",
      "21.04.2008; 16:17\n",
      "The next 10 days will undoubtedly be extremely busy, fun, and exhausting. We'll basically skip next weekend and rest again after my current roommates depart.\n",
      "I asked them today if they are ready to go home, and the answer was a resounding YES.\n",
      "They are very excited that their mission was very successful and is coming to its conclusion.\n",
      "They both have kids at home and are really looking forward to being with their families. But they are also holding their breath to some extent.\n",
      "First we need a successful docking of the new guys.\n",
      "Once they're onboard, I think that Sergei and Oleg will have confidence that they will, in fact, be leaving soon.\n",
      "It will be the same for me when the Space Shuttle launches in about a month's time. Until it actually gets off the ground, arrives here, and performs a successful docking, you just never know.\n",
      "\n",
      "24.04.2008; 15:17\n",
      "I've had mixed feelings about the change that is about to happen onboard.\n",
      "Despite the fact that our view out the window is so grand, our entire living universe is limited to the inside volume of the Station.\n",
      "Things have gone really well here for 135 days, and the friendship I have with Sergei and Oleg is the bond of a lifetime.\n",
      "Things are comfortable as they are; I know where everything is; and by now I have a good sense of how to get things done a certain way.\n",
      "It feels late in my mission to start again with a new crew and a new team. But that's just the way it works.\n",
      "In one way I think I'm very lucky about the timing of this. Historically, the 3rd quarter of previous expeditions of all kinds has tended to be the most difficult to endure.\n",
      "For me, this time is rich with major events and activity, not to mention the energy and enthusiasm that the new guys will have when they get here.\n",
      "By the time I might start feeling weary, the Space Shuttle mission will be upon us.\n",
      "So as I go to bed tonight, I'm really looking forward to an exciting day tomorrow.\n",
      "We'll be two very happy crews for us, the pleasure of welcoming our friends and colleagues onboard (the first other people we will have seen in 4 months), and for them the excitement of blasting into space, docking with an incredible Space Station, only to be greeted at the door by their friends.\n",
      "One of the most amazing things about being here is that by the time you arrive, the people you are sharing the experience with are close friends.\n",
      "After all the training we've all been through over the years, and including our space flight participant Richard Garriott, the six of us all know each other well, and it will be a great reunion.\n"
     ]
    }
   ],
   "source": [
    "from datetime import datetime\n",
    "import re\n",
    "\n",
    "# Шаблон для поиска даты и времени\n",
    "pattern = r'(\\d{2}\\.\\d{2}\\.\\d{4}; \\d{2}:\\d{2})\\n(.*?)(?=\\n\\d{2}\\.\\d{2}\\.\\d{4}; \\d{2}:\\d{2}|\\Z)'\n",
    "\n",
    "with open('diary.txt', 'r', encoding='UTF-8') as file:\n",
    "    x = file.read()\n",
    "    # Разделение текста по шаблону\n",
    "    parts = re.findall(pattern, x, re.DOTALL)\n",
    "    # print(parts)\n",
    "    # Преобразование в список кортежей (дата, текст)\n",
    "    l = [(datetime.strptime(date, '%d.%m.%Y; %H:%M'), text.rstrip('\\n')) for date, text in parts]\n",
    "    # print(l)\n",
    "    # Сортировка по дате\n",
    "    sort = sorted(l, key=lambda i: i[0])\n",
    "    # print(sort)\n",
    "    final = [f'{date.strftime(\"%d.%m.%Y; %H:%M\")}\\n{text}\\n' for date, text in sort]\n",
    "    # print(final)\n",
    "    # print(*final)\n",
    "    sorted_text = '\\n'.join(final)\n",
    "    print(sorted_text)\n",
    "# # Запись в файл out.txt\n",
    "# with open('out.txt', 'w', encoding='UTF-8') as output_file:\n",
    "#     output_file.write('\\n'.join(final))"
   ],
   "metadata": {
    "collapsed": false,
    "ExecuteTime": {
     "end_time": "2024-09-18T12:07:41.203443900Z",
     "start_time": "2024-09-18T12:07:41.194619300Z"
    }
   },
   "id": "7549e3ac77b9ad75"
  },
  {
   "cell_type": "code",
   "execution_count": null,
   "outputs": [],
   "source": [
    "from datetime import datetime\n",
    "\n",
    "with open('diary.txt', 'r', encoding='utf-8') as diary:\n",
    "    diary = sorted(diary.read().split('\\n\\n'), key=lambda d: datetime.strptime(d[0:17], '%d.%m.%Y; %H:%M'))\n",
    "print(*diary, sep='\\n\\n')"
   ],
   "metadata": {
    "collapsed": false
   },
   "id": "4ae6ffb7e7c2c103"
  },
  {
   "cell_type": "markdown",
   "source": [
    "Функция is_available_date() 🌶️\n",
    "Во время визита очередного гостя сотрудникам отеля приходится проверять, доступна ли та или иная дата для бронирования номера.\n",
    "\n",
    "Реализуйте функцию is_available_date(), которая принимает два аргумента в следующем порядке:\n",
    "\n",
    "booked_dates — список строковых дат, недоступных для бронирования. Элементом списка является либо одиночная дата, либо период (две даты через дефис). Например:\n",
    "['04.11.2021', '05.11.2021-09.11.2021']\n",
    "date_for_booking — одиночная строковая дата или период (две даты через дефис), на которую гость желает забронировать номер. Например:\n",
    "'01.11.2021' или '01.11.2021-04.11.2021'\n",
    "Функция is_available_date() должна возвращать True, если дата или период date_for_booking полностью доступна для бронирования. В противном случае функция должна возвращать False.\n",
    "\n",
    "Примечание 1. Гарантируется, что в периоде левая дата всегда меньше правой.\n",
    "\n",
    "Примечание 2. В периоде (две даты через дефис) граничные даты включены.\n",
    "\n",
    "Примечание 3. В тестирующую систему сдайте программу, содержащую только необходимую функцию is_available_date(), но не код, вызывающий ее."
   ],
   "metadata": {
    "collapsed": false
   },
   "id": "4195630c208b1e8a"
  },
  {
   "cell_type": "code",
   "execution_count": 260,
   "outputs": [
    {
     "name": "stdout",
     "output_type": "stream",
     "text": [
      "False\n"
     ]
    }
   ],
   "source": [
    "from datetime import datetime\n",
    "\n",
    "\n",
    "def is_available_date(booked_dates: list, date_for_booking: str) -> bool:\n",
    "    global temp\n",
    "    formatted_dates = []\n",
    "    wanted_dates = []\n",
    "\n",
    "    for i in booked_dates:\n",
    "        if '-' not in i:\n",
    "            temp = datetime.strptime(i, '%d.%m.%Y')\n",
    "            formatted_dates.append(temp)\n",
    "        else:\n",
    "            formatted_booked_dates = [datetime.fromordinal(j) for j in range(\n",
    "                datetime.strptime(i.split('-')[0], '%d.%m.%Y').toordinal(), \n",
    "                datetime.strptime(i.split('-')[1], '%d.%m.%Y').toordinal() + 1)\n",
    "                                      ]\n",
    "            \n",
    "            for i in formatted_booked_dates:\n",
    "                formatted_dates.append(i)\n",
    "    \n",
    "    # print(formatted_dates)\n",
    "    \n",
    "    \n",
    "    if len(date_for_booking) == 10:\n",
    "        wanted_dates.append(datetime.strptime(date_for_booking, '%d.%m.%Y'))\n",
    "    else:\n",
    "        wanted_dates = [datetime.fromordinal(j) for j in range(\n",
    "                datetime.strptime(date_for_booking.split('-')[0], '%d.%m.%Y').toordinal(), \n",
    "                datetime.strptime(date_for_booking.split('-')[1], '%d.%m.%Y').toordinal() + 1)\n",
    "        ]\n",
    "        # wanted_dates.append(formatted_wanted_dates)\n",
    "        \n",
    "    # print(wanted_dates)\n",
    "\n",
    "    # Проверяем доступность даты для бронирования\n",
    "    # return wanted_dates not in formatted_dates\n",
    "    return not bool(set(wanted_dates) & set(formatted_dates))\n",
    "\n",
    "\n",
    "\n",
    "dates = ['01.11.2021', '05.11.2021-09.11.2021', '12.11.2021', '15.11.2021-21.11.2021']\n",
    "some_date = '10.11.2021-14.11.2021'\n",
    "print(is_available_date(dates, some_date))"
   ],
   "metadata": {
    "collapsed": false,
    "ExecuteTime": {
     "end_time": "2024-09-19T06:56:54.003033Z",
     "start_time": "2024-09-19T06:56:53.996045200Z"
    }
   },
   "id": "efd32ca59f91c3d0"
  },
  {
   "cell_type": "markdown",
   "source": [
    "Реализованы 2 дополнительные функции:\n",
    "str2period(str_dates) переводит переданную в строковом аргументе дату или интервал в пару дат - начала и конца интервала (совпадают, если дата одна)\n",
    "not_overlapping(period1, period2) возвращает True, если интервалы не пересекаются\n",
    "\n",
    "В основной функции проверяется, что ни один из недоступных интервалов не пересекается с запрашиваемым.\n",
    "not not_overlapping() звучит странно, но пришлось пожертвовать чистоту в пользу краткости - проверка накладывания интервалов будет более сложной"
   ],
   "metadata": {
    "collapsed": false
   },
   "id": "af855bba6ecce83b"
  },
  {
   "cell_type": "code",
   "execution_count": null,
   "outputs": [],
   "source": [
    "from datetime import datetime\n",
    "\n",
    "\n",
    "def str2period(str_dates):\n",
    "    period = tuple(map(lambda x: datetime.strptime(x, \"%d.%m.%Y\"), str_dates.split(\"-\")))\n",
    "    return period if len(period) > 1 else period * 2\n",
    "\n",
    "\n",
    "def not_overlapping(period1, period2):\n",
    "    return period1[1] < period2[0] or period1[0] > period2[1]\n",
    "\n",
    "\n",
    "def is_available_date(booked_dates, date_for_booking):\n",
    "    check_dates = str2period(date_for_booking)\n",
    "    for bd in booked_dates:\n",
    "        if not not_overlapping(str2period(bd), check_dates):\n",
    "            return False\n",
    "    return True"
   ],
   "metadata": {
    "collapsed": false
   },
   "id": "102c91e978b3197f"
  }
 ],
 "metadata": {
  "kernelspec": {
   "display_name": "Python 3",
   "language": "python",
   "name": "python3"
  },
  "language_info": {
   "codemirror_mode": {
    "name": "ipython",
    "version": 2
   },
   "file_extension": ".py",
   "mimetype": "text/x-python",
   "name": "python",
   "nbconvert_exporter": "python",
   "pygments_lexer": "ipython2",
   "version": "2.7.6"
  }
 },
 "nbformat": 4,
 "nbformat_minor": 5
}

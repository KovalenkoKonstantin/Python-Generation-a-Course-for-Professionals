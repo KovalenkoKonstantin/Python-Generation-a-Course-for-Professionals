{
 "cells": [
  {
   "cell_type": "markdown",
   "source": [
    "Тема урока: тип данных timedelta\n",
    "Тип данных timedelta\n",
    "Атрибуты days, seconds, microseconds\n",
    "Метод total_seconds()\n",
    "Сравнение временных интервалов\n",
    "Операции над временными интервалами timedelta\n",
    "Операции над datetime и date\n",
    "Аннотация. Урок посвящен типу данных timedelta из модуля datetime."
   ],
   "metadata": {
    "collapsed": false
   },
   "id": "5c27124d5b4bb4e2"
  },
  {
   "cell_type": "markdown",
   "source": [
    "Тип данных timedelta"
   ],
   "metadata": {
    "collapsed": false
   },
   "id": "a44ee2ce1ca0ffb1"
  },
  {
   "cell_type": "markdown",
   "source": [
    "Тип данных timedelta представляет собой временной интервал (разница между двумя объектами datetime или date) и используется для удобного выполнения различных манипуляций над типами datetime или date.\n",
    "\n",
    "При создании объекта timedelta можно указать следующие аргументы:\n",
    "\n",
    "недели (weeks)\n",
    "дни (days)\n",
    "часы (hours)\n",
    "минуты (minutes)\n",
    "секунды (seconds)\n",
    "миллисекунды (milliseconds)\n",
    "микросекунды (microseconds)\n",
    "Мы можем выбрать любые их сочетания для задания временного интервала, при этом все аргументы являются необязательными и по умолчанию равны 0."
   ],
   "metadata": {
    "collapsed": false
   },
   "id": "e85be939c9932778"
  },
  {
   "cell_type": "code",
   "execution_count": 1,
   "outputs": [
    {
     "name": "stdout",
     "output_type": "stream",
     "text": [
      "7 days, 20:07:17\n",
      "<class 'datetime.timedelta'>\n"
     ]
    }
   ],
   "source": [
    "from datetime import timedelta\n",
    "\n",
    "delta = timedelta(days=7, hours=20, minutes=7, seconds=17)\n",
    "\n",
    "print(delta)\n",
    "print(type(delta))"
   ],
   "metadata": {
    "collapsed": false,
    "ExecuteTime": {
     "end_time": "2024-09-19T08:36:31.885814Z",
     "start_time": "2024-09-19T08:36:31.879760100Z"
    }
   },
   "id": "5094124b967d003c"
  },
  {
   "cell_type": "markdown",
   "source": [
    "Аргументы могут быть целыми числами или числами с плавающей запятой, а также могут быть как положительными, так и отрицательными. Используйте именованные аргументы, вместо позиционных, чтобы избежать ошибок."
   ],
   "metadata": {
    "collapsed": false
   },
   "id": "ec910eacd962a222"
  },
  {
   "cell_type": "markdown",
   "source": [
    "Тип timedelta внутренне хранит только сочетание days, seconds, microseconds, а остальные переданные в конструктор аргументы конвертируются в эти единицы:\n",
    "\n",
    "milliseconds преобразуется в 1000 microseconds\n",
    "minutes преобразуется в\n",
    "60 seconds\n",
    "hours преобразуется в 3600 seconds\n",
    "weeks преобразуется в 7 days\n",
    "Атрибуты days, seconds и microseconds затем нормализуются так, чтобы представление было уникальным:\n",
    "\n",
    "0 <= microseconds < 1000000\n",
    "0 <= seconds < 3600*24 (количество секунд в одном дне)\n",
    "-999999999 <= days <= 999999999\n",
    "В следующем примере показано, как любые аргументы, кроме days, seconds, microseconds, объединяются и нормализуются в три результирующих сочетания."
   ],
   "metadata": {
    "collapsed": false
   },
   "id": "199639a49a6b8a34"
  },
  {
   "cell_type": "code",
   "execution_count": 2,
   "outputs": [
    {
     "name": "stdout",
     "output_type": "stream",
     "text": [
      "64 days, 8:05:56.000010\n",
      "8 days, 0:01:00\n",
      "1 day, 1:00:00\n",
      "5:00:00\n"
     ]
    }
   ],
   "source": [
    "from datetime import timedelta\n",
    "\n",
    "delta1 = timedelta(days=50, seconds=27, microseconds=10, milliseconds=29000, minutes=5, hours=8, weeks=2)\n",
    "delta2 = timedelta(weeks=1, hours=23, minutes=61)\n",
    "delta3 = timedelta(hours=25)\n",
    "delta4 = timedelta(minutes=300)\n",
    "\n",
    "print(delta1, delta2, delta3, delta4, sep='\\n')"
   ],
   "metadata": {
    "collapsed": false,
    "ExecuteTime": {
     "end_time": "2024-09-19T08:38:50.218281700Z",
     "start_time": "2024-09-19T08:38:50.214280900Z"
    }
   },
   "id": "b5b7470732983bbe"
  },
  {
   "cell_type": "markdown",
   "source": [
    "Обратите внимание на то, что если во временном интервале (timedelta) значение days равно нулю, то оно не выводится."
   ],
   "metadata": {
    "collapsed": false
   },
   "id": "7948ecdb85249f64"
  },
  {
   "cell_type": "markdown",
   "source": [
    "Также временной интервал (timedelta) может быть отрицательным."
   ],
   "metadata": {
    "collapsed": false
   },
   "id": "141eeb32bf970d43"
  },
  {
   "cell_type": "code",
   "execution_count": 3,
   "outputs": [
    {
     "name": "stdout",
     "output_type": "stream",
     "text": [
      "-1 day, 23:20:00\n",
      "-15 days, 23:59:50\n"
     ]
    }
   ],
   "source": [
    "from datetime import timedelta\n",
    "\n",
    "delta1 = timedelta(minutes=-40)\n",
    "delta2 = timedelta(seconds=-10, weeks=-2)\n",
    "\n",
    "print(delta1)\n",
    "print(delta2)"
   ],
   "metadata": {
    "collapsed": false,
    "ExecuteTime": {
     "end_time": "2024-09-19T08:40:49.058565600Z",
     "start_time": "2024-09-19T08:40:49.052030800Z"
    }
   },
   "id": "562d6a82aedef48d"
  },
  {
   "cell_type": "markdown",
   "source": [
    "Атрибуты days, seconds, microseconds и метод total_seconds()"
   ],
   "metadata": {
    "collapsed": false
   },
   "id": "f7fe326b164037e4"
  },
  {
   "cell_type": "markdown",
   "source": [
    "Как уже было сказано, тип timedelta внутренне хранит только сочетание days, seconds, microseconds, которые можно получить с помощью одноименных атрибутов."
   ],
   "metadata": {
    "collapsed": false
   },
   "id": "de692b19ef9d4e0d"
  },
  {
   "cell_type": "code",
   "execution_count": 4,
   "outputs": [
    {
     "name": "stdout",
     "output_type": "stream",
     "text": [
      "Количество дней = 64\n",
      "Количество секунд = 29156\n",
      "Количество микросекунд = 10\n",
      "Общее количество секунд = 5558756.00001\n"
     ]
    }
   ],
   "source": [
    "from datetime import timedelta\n",
    "\n",
    "delta = timedelta(days=50, seconds=27, microseconds=10, milliseconds=29000, minutes=5, hours=8, weeks=2)\n",
    "\n",
    "print('Количество дней =', delta.days)\n",
    "print('Количество секунд =', delta.seconds)\n",
    "print('Количество микросекунд =', delta.microseconds)\n",
    "\n",
    "print('Общее количество секунд =', delta.total_seconds())"
   ],
   "metadata": {
    "collapsed": false,
    "ExecuteTime": {
     "end_time": "2024-09-19T08:41:33.880552400Z",
     "start_time": "2024-09-19T08:41:33.874866100Z"
    }
   },
   "id": "f13ab830d2085bd6"
  },
  {
   "cell_type": "markdown",
   "source": [
    "Метод total_seconds() возвращает общее количество секунд, содержащееся во временном интервалеtimedelta.\n",
    "\n",
    "Обратите внимание на то, что у типа timedelta нет атрибутов hours и minutes, позволяющих получить количество часов и минут соответственно. Достать часы и минуты можно так:"
   ],
   "metadata": {
    "collapsed": false
   },
   "id": "f6fbb1d629eccf59"
  },
  {
   "cell_type": "code",
   "execution_count": null,
   "outputs": [],
   "source": [
    "def hours_minutes(td):\n",
    "    return td.seconds // 3600, (td.seconds // 60) % 60"
   ],
   "metadata": {
    "collapsed": false
   },
   "id": "594317999cb63744"
  },
  {
   "cell_type": "code",
   "execution_count": 1,
   "outputs": [
    {
     "name": "stdout",
     "output_type": "stream",
     "text": [
      "21 days, 8:12:05\n",
      "8\n",
      "12\n"
     ]
    }
   ],
   "source": [
    "from datetime import timedelta\n",
    "\n",
    "\n",
    "def hours_minutes(td):\n",
    "    return td.seconds // 3600, (td.seconds // 60) % 60\n",
    "\n",
    "\n",
    "delta = timedelta(days=7, seconds=125, minutes=10, hours=8, weeks=2)\n",
    "\n",
    "hours, minutes = hours_minutes(delta)\n",
    "\n",
    "print(delta)\n",
    "print(hours)\n",
    "print(minutes)"
   ],
   "metadata": {
    "collapsed": false,
    "ExecuteTime": {
     "end_time": "2024-09-24T08:02:14.976887200Z",
     "start_time": "2024-09-24T08:02:14.973681800Z"
    }
   },
   "id": "c8c43718ec1de7a5"
  },
  {
   "cell_type": "markdown",
   "source": [
    "Сравнение временных интервалов"
   ],
   "metadata": {
    "collapsed": false
   },
   "id": "11a2374c45b7b7a8"
  },
  {
   "cell_type": "markdown",
   "source": [
    "Временные интервалы (тип timedelta) можно сравнивать (==, !=, <, >, <=, >=), как и любые другие типы данных."
   ],
   "metadata": {
    "collapsed": false
   },
   "id": "d5de63302d8fe232"
  },
  {
   "cell_type": "code",
   "execution_count": 8,
   "outputs": [
    {
     "name": "stdout",
     "output_type": "stream",
     "text": [
      "True\n",
      "True\n",
      "False\n"
     ]
    }
   ],
   "source": [
    "from datetime import timedelta\n",
    "\n",
    "delta1 = timedelta(weeks=1)\n",
    "delta2 = timedelta(hours=24 * 7)\n",
    "delta3 = timedelta(minutes=24 * 7 * 59)\n",
    "\n",
    "print(delta1 == delta2)\n",
    "print(delta1 != delta3)\n",
    "print(delta1 < delta3)"
   ],
   "metadata": {
    "collapsed": false,
    "ExecuteTime": {
     "end_time": "2024-09-19T08:47:11.291605200Z",
     "start_time": "2024-09-19T08:47:11.285922400Z"
    }
   },
   "id": "ad7ec7a08088631d"
  },
  {
   "cell_type": "markdown",
   "source": [
    "Операторы сравнения == или != всегда возвращают значение bool, независимо от типа сравниваемого объекта."
   ],
   "metadata": {
    "collapsed": false
   },
   "id": "acbde2d45fcab55"
  },
  {
   "cell_type": "code",
   "execution_count": 9,
   "outputs": [
    {
     "name": "stdout",
     "output_type": "stream",
     "text": [
      "True\n",
      "False\n"
     ]
    }
   ],
   "source": [
    "from datetime import timedelta\n",
    "\n",
    "delta1 = timedelta(seconds=57)\n",
    "delta2 = timedelta(hours=25, seconds=2)\n",
    "\n",
    "print(delta1 != 57)\n",
    "print(delta2 == '5')"
   ],
   "metadata": {
    "collapsed": false,
    "ExecuteTime": {
     "end_time": "2024-09-19T08:47:56.840844300Z",
     "start_time": "2024-09-19T08:47:56.834655Z"
    }
   },
   "id": "8b6954b813cd3d95"
  },
  {
   "cell_type": "markdown",
   "source": [
    "Для всех других операторов сравнения, таких как <, >, <=, >=, когда объект timedelta сравнивается с объектом другого типа, возникает ошибка (исключение) TypeError"
   ],
   "metadata": {
    "collapsed": false
   },
   "id": "1e029c3dcaf006a3"
  },
  {
   "cell_type": "code",
   "execution_count": 10,
   "outputs": [
    {
     "name": "stdout",
     "output_type": "stream",
     "text": [
      "True\n"
     ]
    },
    {
     "ename": "TypeError",
     "evalue": "'>' not supported between instances of 'datetime.timedelta' and 'int'",
     "output_type": "error",
     "traceback": [
      "\u001B[1;31m---------------------------------------------------------------------------\u001B[0m",
      "\u001B[1;31mTypeError\u001B[0m                                 Traceback (most recent call last)",
      "Cell \u001B[1;32mIn[10], line 7\u001B[0m\n\u001B[0;32m      4\u001B[0m delta2 \u001B[38;5;241m=\u001B[39m timedelta(hours\u001B[38;5;241m=\u001B[39m\u001B[38;5;241m25\u001B[39m, seconds\u001B[38;5;241m=\u001B[39m\u001B[38;5;241m2\u001B[39m)\n\u001B[0;32m      6\u001B[0m \u001B[38;5;28mprint\u001B[39m(delta2 \u001B[38;5;241m>\u001B[39m delta1)     \u001B[38;5;66;03m# тут все ок\u001B[39;00m\n\u001B[1;32m----> 7\u001B[0m \u001B[38;5;28mprint\u001B[39m(\u001B[43mdelta2\u001B[49m\u001B[43m \u001B[49m\u001B[38;5;241;43m>\u001B[39;49m\u001B[43m \u001B[49m\u001B[38;5;241;43m5\u001B[39;49m)\n",
      "\u001B[1;31mTypeError\u001B[0m: '>' not supported between instances of 'datetime.timedelta' and 'int'"
     ]
    }
   ],
   "source": [
    "from datetime import timedelta\n",
    "\n",
    "delta1 = timedelta(seconds=57)\n",
    "delta2 = timedelta(hours=25, seconds=2)\n",
    "\n",
    "print(delta2 > delta1)  # тут все ок\n",
    "print(delta2 > 5)"
   ],
   "metadata": {
    "collapsed": false,
    "ExecuteTime": {
     "end_time": "2024-09-19T08:48:42.775454Z",
     "start_time": "2024-09-19T08:48:42.762395900Z"
    }
   },
   "id": "448bfaa2e445f18c"
  },
  {
   "cell_type": "markdown",
   "source": [
    "Операции над временными интервалами timedelta"
   ],
   "metadata": {
    "collapsed": false
   },
   "id": "1ee7de28da11a3c9"
  },
  {
   "cell_type": "markdown",
   "source": [
    "Тип данных timedelta поддерживает многие математические операции. Допустимо:\n",
    "\n",
    "сложение временных интервалов\n",
    "вычитание временных интервалов\n",
    "умножение временного интервала на число\n",
    "деление временного интервала на число\n",
    "деление временного интервала на временной интервал"
   ],
   "metadata": {
    "collapsed": false
   },
   "id": "34f4937ae0531f31"
  },
  {
   "cell_type": "markdown",
   "source": [
    "Сумма и разность временных интервалов"
   ],
   "metadata": {
    "collapsed": false
   },
   "id": "377cabbcfba457c9"
  },
  {
   "cell_type": "markdown",
   "source": [
    "С помощью операторов + и - мы можем находить сумму и разность временных интервалов (тип timedelta)."
   ],
   "metadata": {
    "collapsed": false
   },
   "id": "6f72584a6d73a36a"
  },
  {
   "cell_type": "code",
   "execution_count": 11,
   "outputs": [
    {
     "name": "stdout",
     "output_type": "stream",
     "text": [
      "5 days, 1:00:00\n",
      "4 days, 23:00:00\n"
     ]
    }
   ],
   "source": [
    "from datetime import timedelta\n",
    "\n",
    "delta1 = timedelta(days=5) + timedelta(seconds=3600)  # 5 дней + 1 час\n",
    "delta2 = timedelta(days=5) - timedelta(seconds=3600)  # 5 дней - 1 час\n",
    "\n",
    "print(delta1)\n",
    "print(delta2)"
   ],
   "metadata": {
    "collapsed": false,
    "ExecuteTime": {
     "end_time": "2024-09-19T08:50:13.502189600Z",
     "start_time": "2024-09-19T08:50:13.496387500Z"
    }
   },
   "id": "d7e17270d5d09672"
  },
  {
   "cell_type": "markdown",
   "source": [
    "Умножение временного интервала на число"
   ],
   "metadata": {
    "collapsed": false
   },
   "id": "cd63244283e252dd"
  },
  {
   "cell_type": "markdown",
   "source": [
    "С помощью оператора * мы можем умножать временной интервал (тип timedelta) на целое или вещественное число (типы int и float)."
   ],
   "metadata": {
    "collapsed": false
   },
   "id": "dc7142f501378e43"
  },
  {
   "cell_type": "code",
   "execution_count": 13,
   "outputs": [
    {
     "name": "stdout",
     "output_type": "stream",
     "text": [
      "2 days, 0:00:00\n",
      "3 days, 0:00:00\n"
     ]
    }
   ],
   "source": [
    "from datetime import timedelta\n",
    "\n",
    "delta1 = 48 * timedelta(hours=1)\n",
    "delta2 = timedelta(weeks=1) * (3 / 7)\n",
    "\n",
    "print(delta1)\n",
    "print(delta2)"
   ],
   "metadata": {
    "collapsed": false,
    "ExecuteTime": {
     "end_time": "2024-09-19T08:51:42.429433Z",
     "start_time": "2024-09-19T08:51:42.423126900Z"
    }
   },
   "id": "4202fabbac147b16"
  },
  {
   "cell_type": "markdown",
   "source": [
    "Будьте осторожны с умножением временного интервала на вещественное число (тип float), так как может возникнуть округление."
   ],
   "metadata": {
    "collapsed": false
   },
   "id": "70f4aa6575b18c7e"
  },
  {
   "cell_type": "markdown",
   "source": [
    "Деление временных интервалов на число"
   ],
   "metadata": {
    "collapsed": false
   },
   "id": "b21f2a743658a75c"
  },
  {
   "cell_type": "markdown",
   "source": [
    "С помощью операторов / и // мы можем делить временной интервал (тип timedelta) на целое или вещественное число (типы int и float)."
   ],
   "metadata": {
    "collapsed": false
   },
   "id": "37258eef8673184"
  },
  {
   "cell_type": "code",
   "execution_count": 21,
   "outputs": [
    {
     "name": "stdout",
     "output_type": "stream",
     "text": [
      "0:33:00\n",
      "0:13:12\n"
     ]
    }
   ],
   "source": [
    "from datetime import timedelta\n",
    "\n",
    "delta = timedelta(hours=1, minutes=6)\n",
    "delta1 = delta / 2\n",
    "delta2 = delta // 5\n",
    "\n",
    "print(delta1)\n",
    "print(delta2)"
   ],
   "metadata": {
    "collapsed": false,
    "ExecuteTime": {
     "end_time": "2024-09-19T08:54:04.418602100Z",
     "start_time": "2024-09-19T08:54:04.413082900Z"
    }
   },
   "id": "d0cf954482acac76"
  },
  {
   "cell_type": "markdown",
   "source": [
    "Деление временного интервала на временной интервал"
   ],
   "metadata": {
    "collapsed": false
   },
   "id": "3151e9fd4a729494"
  },
  {
   "cell_type": "markdown",
   "source": [
    "С помощью операторов / и // мы также можем делить один временной интервал (тип timedelta) на другой. По сути происходит деление общей длительности одного интервала на общую длительность другого интервала."
   ],
   "metadata": {
    "collapsed": false
   },
   "id": "2b11af89114a021"
  },
  {
   "cell_type": "code",
   "execution_count": 22,
   "outputs": [
    {
     "name": "stdout",
     "output_type": "stream",
     "text": [
      "33.6\n",
      "33\n"
     ]
    }
   ],
   "source": [
    "from datetime import timedelta\n",
    "\n",
    "delta1 = timedelta(weeks=1) / timedelta(hours=5)  # обычное деление, результат float\n",
    "delta2 = timedelta(weeks=1) // timedelta(hours=5)  # целочисленное деление, результат int\n",
    "\n",
    "print(delta1)\n",
    "print(delta2)"
   ],
   "metadata": {
    "collapsed": false,
    "ExecuteTime": {
     "end_time": "2024-09-19T08:55:02.491565Z",
     "start_time": "2024-09-19T08:55:02.486725400Z"
    }
   },
   "id": "b35fac3ba6ca6655"
  },
  {
   "cell_type": "markdown",
   "source": [
    " Общая длительность временного интервала вычисляется с помощью метода total_seconds()"
   ],
   "metadata": {
    "collapsed": false
   },
   "id": "3da9fb1a1d5f0b93"
  },
  {
   "cell_type": "markdown",
   "source": [
    "Мы также можем использовать оператор нахождения остатка от деления %, при этом остаток вычисляется как объект timedelta"
   ],
   "metadata": {
    "collapsed": false
   },
   "id": "89ec7c3c9d6a3d89"
  },
  {
   "cell_type": "code",
   "execution_count": 23,
   "outputs": [
    {
     "name": "stdout",
     "output_type": "stream",
     "text": [
      "3:00:00\n",
      "0:04:00\n"
     ]
    }
   ],
   "source": [
    "from datetime import timedelta\n",
    "\n",
    "delta1 = timedelta(weeks=1) % timedelta(hours=5)  # 3 часа\n",
    "delta2 = timedelta(hours=1) % timedelta(minutes=7)  # 4 минуты\n",
    "\n",
    "print(delta1)\n",
    "print(delta2)"
   ],
   "metadata": {
    "collapsed": false,
    "ExecuteTime": {
     "end_time": "2024-09-19T08:56:06.560904400Z",
     "start_time": "2024-09-19T08:56:06.554261400Z"
    }
   },
   "id": "3dfd6be2f5234c49"
  },
  {
   "cell_type": "markdown",
   "source": [
    "Рассмотрим следующую задачу: рабочая смена длится 7 часов 30 минут, сколько полных смен в 3-х сутках?"
   ],
   "metadata": {
    "collapsed": false
   },
   "id": "cdf0397a40be11f1"
  },
  {
   "cell_type": "code",
   "execution_count": 24,
   "outputs": [
    {
     "name": "stdout",
     "output_type": "stream",
     "text": [
      "9\n",
      "4:30:00\n"
     ]
    }
   ],
   "source": [
    "from datetime import timedelta\n",
    "\n",
    "all_time = timedelta(days=3)\n",
    "smena = timedelta(hours=7, minutes=30)\n",
    "\n",
    "print(all_time // smena)\n",
    "print(all_time % smena)"
   ],
   "metadata": {
    "collapsed": false,
    "ExecuteTime": {
     "end_time": "2024-09-19T08:57:51.764356100Z",
     "start_time": "2024-09-19T08:57:51.760958800Z"
    }
   },
   "id": "8569462b4e823742"
  },
  {
   "cell_type": "markdown",
   "source": [
    "Таким образом, в 3-х сутках помещается 9 полных смен и еще останется 4 часа 30 минут."
   ],
   "metadata": {
    "collapsed": false
   },
   "id": "b4a4bc9251b89eb"
  },
  {
   "cell_type": "markdown",
   "source": [
    "Операции над datetime и date"
   ],
   "metadata": {
    "collapsed": false
   },
   "id": "1fa5c38ccd8cf175"
  },
  {
   "cell_type": "markdown",
   "source": [
    "К объектам типа datetime и date можно прибавлять (вычитать) временные интервалы (тип timedelta), тем самым формируя новые объекты."
   ],
   "metadata": {
    "collapsed": false
   },
   "id": "3f6b046a472361ef"
  },
  {
   "cell_type": "code",
   "execution_count": 25,
   "outputs": [
    {
     "name": "stdout",
     "output_type": "stream",
     "text": [
      "2021-01-09 13:15:20\n",
      "2020-12-24 11:15:20\n",
      "2021-01-03\n",
      "2020-12-30\n"
     ]
    }
   ],
   "source": [
    "from datetime import datetime, date, timedelta\n",
    "\n",
    "my_datetime1 = datetime(2021, 1, 1, 12, 15, 20) + timedelta(weeks=1, hours=25)\n",
    "my_datetime2 = datetime(2021, 1, 1, 12, 15, 20) - timedelta(weeks=1, hours=25)\n",
    "\n",
    "my_date1 = date(2021, 1, 1) + timedelta(hours=49)\n",
    "my_date2 = date(2021, 1, 1) - timedelta(hours=49)\n",
    "\n",
    "print(my_datetime1, my_datetime2, my_date1, my_date2, sep='\\n')"
   ],
   "metadata": {
    "collapsed": false,
    "ExecuteTime": {
     "end_time": "2024-09-19T09:15:12.035022400Z",
     "start_time": "2024-09-19T09:15:12.029507200Z"
    }
   },
   "id": "fac7f23ab1cf4490"
  },
  {
   "cell_type": "markdown",
   "source": [
    "Обратите внимание на то, что при прибавлении временного интервала к дате (тип date) неполные сутки отбрасываются."
   ],
   "metadata": {
    "collapsed": false
   },
   "id": "bda506739deddf53"
  },
  {
   "cell_type": "markdown",
   "source": [
    "Объект типа timedelta также возникает при вычитании двух дат (тип date) или дат-времён (тип datetime)."
   ],
   "metadata": {
    "collapsed": false
   },
   "id": "b974c064de2caec7"
  },
  {
   "cell_type": "code",
   "execution_count": 26,
   "outputs": [
    {
     "name": "stdout",
     "output_type": "stream",
     "text": [
      "245 days, 2:10:10\n",
      "181 days, 0:00:00\n",
      "-181 days, 0:00:00\n"
     ]
    }
   ],
   "source": [
    "from datetime import datetime, date, timedelta\n",
    "\n",
    "delta1 = datetime(2021, 1, 1, 12, 15, 20) - datetime(2020, 5, 1, 10, 5, 10)\n",
    "delta2 = date(2020, 2, 29) - date(2019, 9, 1)\n",
    "delta3 = date(2019, 9, 1) - date(2020, 2, 29)\n",
    "\n",
    "print(delta1)\n",
    "print(delta2)\n",
    "print(delta3)"
   ],
   "metadata": {
    "collapsed": false,
    "ExecuteTime": {
     "end_time": "2024-09-19T09:16:36.120739900Z",
     "start_time": "2024-09-19T09:16:36.114547400Z"
    }
   },
   "id": "df4482b83aaff27a"
  },
  {
   "cell_type": "markdown",
   "source": [
    "Примечания"
   ],
   "metadata": {
    "collapsed": false
   },
   "id": "7edab6076d5cd0e7"
  },
  {
   "cell_type": "markdown",
   "source": [
    "Примечание 1. Мы можем использовать встроенные функции str() и repr() для преобразования объектов типа timedelta к строковому типу."
   ],
   "metadata": {
    "collapsed": false
   },
   "id": "3e44797faa81d279"
  },
  {
   "cell_type": "code",
   "execution_count": 27,
   "outputs": [
    {
     "name": "stdout",
     "output_type": "stream",
     "text": [
      "8 days, 0:01:00\n",
      "-1 day, 19:00:00\n",
      "datetime.timedelta(days=8, seconds=60)\n",
      "datetime.timedelta(days=-1, seconds=68400)\n"
     ]
    }
   ],
   "source": [
    "from datetime import timedelta\n",
    "\n",
    "delta1 = timedelta(weeks=1, hours=23, minutes=61)\n",
    "delta2 = timedelta(minutes=-300)\n",
    "\n",
    "print(str(delta1), str(delta2), sep='\\n')\n",
    "print(repr(delta1), repr(delta2), sep='\\n')"
   ],
   "metadata": {
    "collapsed": false,
    "ExecuteTime": {
     "end_time": "2024-09-19T09:17:16.166630Z",
     "start_time": "2024-09-19T09:17:16.158891600Z"
    }
   },
   "id": "bfd3d7584b1bdbf6"
  },
  {
   "cell_type": "markdown",
   "source": [
    "Обратите внимание на то, что при печати значения объекта timedelta с помощью функции print() функция str() вызывается автоматически."
   ],
   "metadata": {
    "collapsed": false
   },
   "id": "f3ca2e76f588e9b7"
  },
  {
   "cell_type": "markdown",
   "source": [
    "Примечание 2. При работе с типом timedelta мы можем использовать встроенную функцию abs(). Функция возвращает объект timedelta с положительным значением всех атрибутов."
   ],
   "metadata": {
    "collapsed": false
   },
   "id": "3ba984178fa3d96a"
  },
  {
   "cell_type": "code",
   "execution_count": 28,
   "outputs": [
    {
     "name": "stdout",
     "output_type": "stream",
     "text": [
      "Исходная:\n",
      "-3\n",
      "68400\n",
      "-3 days, 19:00:00\n",
      "С модулем:\n",
      "2\n",
      "18000\n",
      "2 days, 5:00:00\n"
     ]
    }
   ],
   "source": [
    "from datetime import timedelta\n",
    "\n",
    "delta = timedelta(days=-2, minutes=-300)\n",
    "abs_delta = abs(delta)\n",
    "\n",
    "print('Исходная:', delta.days, delta.seconds, delta, sep='\\n')\n",
    "print('С модулем:', abs_delta.days, abs_delta.seconds, abs_delta, sep='\\n')"
   ],
   "metadata": {
    "collapsed": false,
    "ExecuteTime": {
     "end_time": "2024-09-19T09:19:25.156146200Z",
     "start_time": "2024-09-19T09:19:25.149314100Z"
    }
   },
   "id": "275be1b574ece32b"
  },
  {
   "cell_type": "markdown",
   "source": [
    "Примечание 3. Тип данных timedelta является неизменяемым."
   ],
   "metadata": {
    "collapsed": false
   },
   "id": "b34d511cc02d830"
  },
  {
   "cell_type": "code",
   "execution_count": 29,
   "outputs": [
    {
     "name": "stdout",
     "output_type": "stream",
     "text": [
      "-22 days, 12:00:00\n"
     ]
    }
   ],
   "source": [
    "from datetime import timedelta\n",
    "\n",
    "td = timedelta(weeks=-3, hours=-12)\n",
    "\n",
    "print(td)"
   ],
   "metadata": {
    "collapsed": false,
    "ExecuteTime": {
     "end_time": "2024-09-19T09:41:50.761523900Z",
     "start_time": "2024-09-19T09:41:50.755527600Z"
    }
   },
   "id": "2af9281f31361666"
  },
  {
   "cell_type": "markdown",
   "source": [
    "Дополните приведенный ниже код, чтобы он прибавил к объекту datetime(2021, 11, 4, 13, 6) одну неделю и 12 часов и вывел результат в формате DD.MM.YYYY HH:MM:SS."
   ],
   "metadata": {
    "collapsed": false
   },
   "id": "f4d58b2e7edee49c"
  },
  {
   "cell_type": "code",
   "execution_count": 31,
   "outputs": [
    {
     "name": "stdout",
     "output_type": "stream",
     "text": [
      "12.11.2021 01:06:00\n"
     ]
    }
   ],
   "source": [
    "from datetime import datetime, timedelta\n",
    "\n",
    "dt = datetime(2021, 11, 4, 13, 6) + timedelta(weeks=1, hours=12)\n",
    "\n",
    "print(dt.strftime('%d.%m.%Y %H:%M:%S'))"
   ],
   "metadata": {
    "collapsed": false,
    "ExecuteTime": {
     "end_time": "2024-09-19T09:51:49.737712900Z",
     "start_time": "2024-09-19T09:51:49.729833Z"
    }
   },
   "id": "2ac0db4dc4041c95"
  },
  {
   "cell_type": "markdown",
   "source": [
    "Дополните приведенный ниже код, чтобы он вывел количество дней (целое число) между датами today и birthday."
   ],
   "metadata": {
    "collapsed": false
   },
   "id": "424f007a1af6b448"
  },
  {
   "cell_type": "code",
   "execution_count": 41,
   "outputs": [
    {
     "name": "stdout",
     "output_type": "stream",
     "text": [
      "-336\n"
     ]
    }
   ],
   "source": [
    "from datetime import date, timedelta\n",
    "\n",
    "today = date(2021, 11, 4)\n",
    "birthday = date(2022, 10, 6)\n",
    "\n",
    "days = abs(today - birthday).days\n",
    "\n",
    "print(days)"
   ],
   "metadata": {
    "collapsed": false,
    "ExecuteTime": {
     "end_time": "2024-09-19T09:59:09.976682700Z",
     "start_time": "2024-09-19T09:59:09.970009700Z"
    }
   },
   "id": "fd84543bc1bfbb09"
  },
  {
   "cell_type": "markdown",
   "source": [
    "Предыдущая и следующая даты\n",
    "Напишите программу, которая принимает на вход дату и выводит предыдущую и следующую даты.\n",
    "\n",
    "Формат входных данных\n",
    "На вход программе подается дата в формате DD.MM.YYYY.\n",
    "\n",
    "Формат выходных данных\n",
    "Программа должна вывести предыдущую и следующую даты относительно введенной даты, каждую на отдельной строке, в формате DD.MM.YYYY.\n",
    "\n",
    "Примечание 1. Гарантируется, что у подаваемой даты есть предыдущая и следующая даты."
   ],
   "metadata": {
    "collapsed": false
   },
   "id": "7a20eef21d71320c"
  },
  {
   "cell_type": "code",
   "execution_count": null,
   "outputs": [],
   "source": [
    "from datetime import datetime, timedelta\n",
    "\n",
    "d = datetime.strptime(input(), '%d.%m.%Y')\n",
    "print((d - timedelta(days=1)).strftime('%d.%m.%Y'))\n",
    "print((d + timedelta(days=1)).strftime('%d.%m.%Y'))"
   ],
   "metadata": {
    "collapsed": false
   },
   "id": "5790a459c1d10251"
  },
  {
   "cell_type": "markdown",
   "source": [
    "Количество секунд\n",
    "Напишите программу, которая принимает на вход время и выводит целое количество секунд, прошедшее с начала суток.\n",
    "\n",
    "Формат входных данных\n",
    "На вход программе подается время в формате HH:MM:SS.\n",
    "\n",
    "Формат выходных данных\n",
    "Программа должна вывести целое количество секунд, прошедшее с начала суток.\n",
    "\n",
    "Примечание 1. Началом суток считается момент времени, соответствующий 00:00:00.\n",
    "\n",
    "Примечание 2. Тестовые данные доступны по ссылкам:"
   ],
   "metadata": {
    "collapsed": false
   },
   "id": "c6280c3fbb4d9b93"
  },
  {
   "cell_type": "code",
   "execution_count": null,
   "outputs": [],
   "source": [
    "from datetime import datetime, timedelta\n",
    "\n",
    "d = datetime.strptime(input(), '%H:%M:%S')\n",
    "d0 = datetime(d.year, d.month, d.day, hour=0, minute=0, second=0)\n",
    "\n",
    "print((d - d0).seconds)"
   ],
   "metadata": {
    "collapsed": false
   },
   "id": "bed093e192b49837"
  },
  {
   "cell_type": "markdown",
   "source": [
    "Таймер\n",
    "Часы показывают время в формате HH:MM:SS. На этих часах запустили таймер, который прозвенит через n секунд. Напишите программу, которая определит, какое время будет на часах, когда прозвенит таймер.\n",
    "\n",
    "Формат входных данных\n",
    "На вход программе в первой строке подается текущее время на часах в формате HH:MM:SS. В следующей строке вводится целое неотрицательное число n — количество секунд, через которое должен прозвенеть таймер.\n",
    "\n",
    "Формат выходных данных\n",
    "Программа должна вывести время в формате HH:MM:SS, которое будет на часах, когда прозвенит таймер."
   ],
   "metadata": {
    "collapsed": false
   },
   "id": "74dfea5d62f7cc96"
  },
  {
   "cell_type": "code",
   "execution_count": null,
   "outputs": [],
   "source": [
    "from datetime import datetime, timedelta\n",
    "\n",
    "d = datetime.strptime(input(), '%H:%M:%S')\n",
    "n = int(input())\n",
    "\n",
    "print((d + timedelta(seconds=n)).strftime('%H:%M:%S'))"
   ],
   "metadata": {
    "collapsed": false
   },
   "id": "8fe230857f86b3f"
  },
  {
   "cell_type": "markdown",
   "source": [
    "Функция num_of_sundays()\n",
    "Реализуйте функцию num_of_sundays(), которая принимает на вход один аргумент:\n",
    "\n",
    "year — натуральное число, год\n",
    "Функция должна возвращать количество воскресений в году year.\n",
    "\n",
    "Примечание 1. В тестирующую систему сдайте программу, содержащую только необходимую функцию num_of_sundays(), но не код, вызывающий ее."
   ],
   "metadata": {
    "collapsed": false
   },
   "id": "8fba8d5850926d00"
  },
  {
   "cell_type": "code",
   "execution_count": null,
   "outputs": [],
   "source": [
    "from datetime import datetime, timedelta\n",
    "\n",
    "\n",
    "def num_of_sundays(year: int) -> int:\n",
    "    d = datetime(year, 12, 31)\n",
    "    return int(datetime.strftime(d, '%U'))"
   ],
   "metadata": {
    "collapsed": false
   },
   "id": "9ba5fe6f3f670ab"
  },
  {
   "cell_type": "code",
   "execution_count": null,
   "outputs": [],
   "source": [
    "from datetime import datetime\n",
    "\n",
    "\n",
    "def num_of_sundays(year):\n",
    "    dt = datetime(year, 12, 31)\n",
    "    return int(dt.strftime('%U'))"
   ],
   "metadata": {
    "collapsed": false
   },
   "id": "d993a04ee1f40886"
  },
  {
   "cell_type": "markdown",
   "source": [
    "Продуктивность\n",
    "Артуру нужно подготовить 10 задач для нового курса \"ООП на Python\". Чтобы занятие не оказалось утомительным, он придумал правило:\n",
    "\n",
    "если сегодня он подготовил первую задачу, то вторую он должен подготовить через один день\n",
    "если сегодня он подготовил вторую задачу, то третью он должен подготовить через два дня\n",
    "если сегодня он подготовил третью задачу, то четвертую он должен подготовить через три дня\n",
    "и так далее\n",
    "Напишите программу, которая определяет даты, в которые Артуру нужно подготовить задачи.\n",
    "\n",
    "Формат входных данных\n",
    "На вход программе подается дата подготовки первой задачи в формате DD.MM.YYYY.\n",
    "\n",
    "Формат выходных данных\n",
    "Программа должна вывести 10 дат, удовлетворяющих условию задачи, каждую на отдельной строке, в формате DD.MM.YYYY."
   ],
   "metadata": {
    "collapsed": false
   },
   "id": "ae5efa02646d59ab"
  },
  {
   "cell_type": "code",
   "execution_count": null,
   "outputs": [],
   "source": [
    "from datetime import datetime, timedelta\n",
    "\n",
    "d = datetime.strptime(input(), '%d.%m.%Y')\n",
    "print(d.strftime('%d.%m.%Y'))\n",
    "j = 0\n",
    "for i in range(2, 11):\n",
    "    d += timedelta(seconds=86_400) * i\n",
    "    print(d.strftime('%d.%m.%Y'))"
   ],
   "metadata": {
    "collapsed": false
   },
   "id": "ef2d24cae93c8272"
  },
  {
   "cell_type": "markdown",
   "source": [
    "20.12.2021\n",
    "22.12.2021\n",
    "25.12.2021\n",
    "29.12.2021\n",
    "03.01.2022\n",
    "09.01.2022\n",
    "16.01.2022\n",
    "24.01.2022\n",
    "02.02.2022\n",
    "12.02.2022"
   ],
   "metadata": {
    "collapsed": false
   },
   "id": "39667e5d33977ee"
  },
  {
   "cell_type": "markdown",
   "source": [
    "Соседние даты\n",
    "Дана последовательность дат. Напишите программу, которая создает и выводит список, элементами которого являются неотрицательные целые числа — количество дней между двумя соседними датами последовательности.\n",
    "\n",
    "Формат входных данных\n",
    "На вход программе подается последовательность дат, разделенных пробелом, в формате DD.MM.YYYY.\n",
    "\n",
    "Формат выходных данных\n",
    "Программа должна вывести список, содержащий неотрицательные целые числа, каждое из которых — количество дней между двумя соседними датами последовательности.\n",
    "\n",
    "Примечание 1. Даты в последовательности могут располагаться в произвольном порядке, то есть не гарантируется, что следующая дата больше предыдущей.\n",
    "\n",
    "Примечание 2. Если последовательность состоит из одной даты, то программа должна вывести пустой список.\n",
    "\n",
    "Примечание 3. Рассмотрим второй тест, в котором подается последовательность из пяти дат. Определим элементы результирующего списка:\n",
    "\n",
    "первый элемент — 1, количество дней между датами 06.10.2021 и 05.10.2021\n",
    "второй элемент — 3, количество дней между датами 05.10.2021 и 08.10.2021\n",
    "третий элемент — 1, количество дней между датами 08.10.2021 и 09.10.2021\n",
    "четвертый элемент — 2, количество дней между датами 09.10.2021 и 07.10.2021"
   ],
   "metadata": {
    "collapsed": false
   },
   "id": "1def342bce9d72e3"
  },
  {
   "cell_type": "code",
   "execution_count": null,
   "outputs": [],
   "source": [
    "from datetime import datetime, timedelta\n",
    "d = input().split(' ')\n",
    "l = [datetime.strptime(i, '%d.%m.%Y') for i in d]\n",
    "print(l)\n",
    "k = [abs((l[i + 1] - l[i]).days) for i in range(len(l) - 1)]\n",
    "print(k)"
   ],
   "metadata": {
    "collapsed": false
   },
   "id": "15a3a8d7722af54"
  },
  {
   "cell_type": "code",
   "execution_count": null,
   "outputs": [],
   "source": [
    "from datetime import datetime, timedelta\n",
    "\n",
    "pattern = \"%d.%m.%Y\"\n",
    "l = list(map(lambda x: datetime.strptime(x, pattern), input().split()))\n",
    "\n",
    "dif = [abs(x - l[i]).days for i, x in enumerate(l[1:])]\n",
    "\n",
    "print(dif)"
   ],
   "metadata": {
    "collapsed": false
   },
   "id": "a3316c1195d4081b"
  },
  {
   "cell_type": "markdown",
   "source": [
    "Функция fill_up_missing_dates()\n",
    "Реализуйте функцию fill_up_missing_dates(), которая принимает на вход один аргумент:\n",
    "\n",
    "dates — список строковых дат в формате DD.MM.YYYY\n",
    "Функция должна возвращать список, в котором содержатся все даты из списка dates, расположенные в порядке возрастания, а также все недостающие промежуточные даты.\n",
    "\n",
    "Примечание 1. Рассмотрим первый тест. Список dates содержит период с 01.11.2021 по 07.11.2021:\n",
    "\n",
    "dates = ['01.11.2021', '07.11.2021', '04.11.2021', '03.11.2021']\n",
    "в котором отсутствуют даты 02.11.2021, 05.11.2021, 06.11.2021. Тогда вызов функции:\n",
    "\n",
    "fill_up_missing_dates(dates)\n",
    "должен вернуть список: \n",
    "\n",
    "['01.11.2021', '02.11.2021', '03.11.2021', '04.11.2021', '05.11.2021', '06.11.2021', '07.11.2021']\n",
    "Примечание 2. Функция должна создавать и возвращать новый список, а не изменять переданный.\n",
    "\n",
    "Примечание 3. В тестирующую систему сдайте программу, содержащую только необходимую функцию fill_up_missing_dates(), но не код, вызывающий ее."
   ],
   "metadata": {
    "collapsed": false
   },
   "id": "fdb6d84332255c0f"
  },
  {
   "cell_type": "code",
   "execution_count": null,
   "outputs": [],
   "source": [
    "from datetime import datetime, timedelta\n",
    "\n",
    "\n",
    "def fill_up_missing_dates(dates: list) -> list:    \n",
    "    d = sorted(datetime.strptime(date_str, '%d.%m.%Y') for date_str in dates)\n",
    "    l = []\n",
    "    for i in range((d[-1] - d[0]).days + 1):\n",
    "        current_date = d[0] + timedelta(days=i)\n",
    "        l.append(datetime.strftime(current_date, '%d.%m.%Y'))\n",
    "    return l"
   ],
   "metadata": {
    "collapsed": false
   },
   "id": "d0153c6829fe672d"
  },
  {
   "cell_type": "code",
   "execution_count": null,
   "outputs": [],
   "source": [
    "def fill_up_missing_dates(dates):\n",
    "    pattern = '%d.%m.%Y'\n",
    "    dates = [datetime.strptime(d, pattern) for d in dates]\n",
    "    start, end = min(dates), max(dates)\n",
    "    days = (end - start).days\n",
    "    return [(start + timedelta(days=i)).strftime(pattern) for i in range(days + 1)]"
   ],
   "metadata": {
    "collapsed": false
   },
   "id": "6b322056a1af5159"
  },
  {
   "cell_type": "markdown",
   "source": [
    "Реп по матеше\n",
    "Репетитор по математике проводит занятия по 45 минут с перерывами по 10 минут. Репетитор обозначает время начала рабочего дня и время окончания рабочего дня. Напишите программу, которая генерирует и выводит расписание занятий.\n",
    "\n",
    "Формат входных данных\n",
    "На вход программе в первой строке подается время начала рабочего дня в формате HH:MM. В следующей строке вводится время окончания рабочего дня в том же формате.\n",
    "\n",
    "Формат выходных данных\n",
    "Программа должна сгенерировать и вывести расписание занятий. На первой строке выводится время начала и окончания первого занятия в формате HH:MM - HH:MM, на второй строке — время начала и окончания второго занятия в том же формате, и так далее.\n",
    "\n",
    "Примечание 1. Если занятие обрывается временем окончания работы, то добавлять его в расписание не нужно.\n",
    "\n",
    "Примечание 2. Если разница между временем начала и окончания рабочего дня меньше 45 минут, программа ничего не должна выводить"
   ],
   "metadata": {
    "collapsed": false
   },
   "id": "8b662fe2feda3a68"
  },
  {
   "cell_type": "code",
   "execution_count": null,
   "outputs": [],
   "source": [
    "from datetime import datetime, timedelta\n",
    "\n",
    "l = [datetime.strptime(input(), '%H:%M') for _ in '12']\n",
    "print(l)\n",
    "delta = (l[1]-l[0]) < timedelta(minutes=45)\n",
    "print(delta)\n",
    "if delta:\n",
    "    pass\n",
    "else:\n",
    "    l_start = l[0]\n",
    "    l_end = l_start + timedelta(minutes=45)\n",
    "    while l_end <= l[1]:\n",
    "        print(f'{datetime.strftime(l_start, '%H:%M')}'\n",
    "              f' - {datetime.strftime(l_end, '%H:%M')}')\n",
    "        l_start = l_end + timedelta(minutes=10)\n",
    "        l_end = l_start + timedelta(minutes=45)"
   ],
   "metadata": {
    "collapsed": false
   },
   "id": "f79eb4b6c6cf0e99"
  },
  {
   "cell_type": "code",
   "execution_count": null,
   "outputs": [],
   "source": [
    "from datetime import datetime, timedelta\n",
    "f = '%H:%M'\n",
    "start, stop = (datetime.strptime(input(), f) for i in '__')\n",
    "while start <= (stop - timedelta(minutes=45)):\n",
    "    print(start.strftime(f), '-', (start + timedelta(minutes=45)).strftime(f))\n",
    "    start += timedelta(minutes=55)"
   ],
   "metadata": {
    "collapsed": false
   },
   "id": "87a17ebf41d84da6"
  }
 ],
 "metadata": {
  "kernelspec": {
   "display_name": "Python 3",
   "language": "python",
   "name": "python3"
  },
  "language_info": {
   "codemirror_mode": {
    "name": "ipython",
    "version": 2
   },
   "file_extension": ".py",
   "mimetype": "text/x-python",
   "name": "python",
   "nbconvert_exporter": "python",
   "pygments_lexer": "ipython2",
   "version": "2.7.6"
  }
 },
 "nbformat": 4,
 "nbformat_minor": 5
}

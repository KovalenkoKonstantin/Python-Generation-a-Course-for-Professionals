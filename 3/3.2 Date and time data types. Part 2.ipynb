{
 "cells": [
  {
   "cell_type": "markdown",
   "source": [
    "Тема урока: типы данных date и time\n",
    "Форматирование даты и времени\n",
    "Использование локализации\n",
    "Преобразование строки в дату и время\n",
    "Аннотация. Урок посвящен форматированию и парсингу даты и времени."
   ],
   "metadata": {
    "collapsed": false
   },
   "id": "d7e27cdf8e9d281d"
  },
  {
   "cell_type": "markdown",
   "source": [
    "Форматирование даты и времени"
   ],
   "metadata": {
    "collapsed": false
   },
   "id": "a6dda70274caa42a"
  },
  {
   "cell_type": "markdown",
   "source": [
    "По умолчанию вывод даты и времени осуществляется в ISO формате:\n",
    "\n",
    "дата имеет вид: YYYY-MM-DD\n",
    "время имеет вид: HH:MM:SS или HH:MM:SS.ffffff\n",
    "Для форматированного вывода даты и времени используется метод strftime() (для обоих типов date и time)."
   ],
   "metadata": {
    "collapsed": false
   },
   "id": "f08f2cdf9aa2d5fa"
  },
  {
   "cell_type": "code",
   "execution_count": 1,
   "outputs": [
    {
     "name": "stdout",
     "output_type": "stream",
     "text": [
      "2021-08-10\n",
      "07:18:34\n",
      "10/08/21\n",
      "Tuesday 10, August 2021\n",
      "07.18.34\n"
     ]
    }
   ],
   "source": [
    "from datetime import date, time\n",
    "\n",
    "my_date = date(2021, 8, 10)\n",
    "my_time = time(7, 18, 34)\n",
    "\n",
    "print(my_date)  # вывод в ISO формате\n",
    "print(my_time)  # вывод в ISO формате\n",
    "\n",
    "print(my_date.strftime('%d/%m/%y'))  # форматированный вывод даты\n",
    "print(my_date.strftime('%A %d, %B %Y'))  # форматированный вывод даты\n",
    "print(my_time.strftime('%H.%M.%S'))  # форматированный вывод времени"
   ],
   "metadata": {
    "collapsed": false,
    "ExecuteTime": {
     "end_time": "2024-09-16T10:14:58.520349300Z",
     "start_time": "2024-09-16T10:14:58.514485500Z"
    }
   },
   "id": "b02255bccc26267d"
  },
  {
   "cell_type": "markdown",
   "source": [
    "Для форматирования даты и времени нам с вами потребуется специальная таблица."
   ],
   "metadata": {
    "collapsed": false
   },
   "id": "f63baec9cd1dc9e0"
  },
  {
   "cell_type": "markdown",
   "source": [
    "Формат\tЗначение\tПример\n",
    "%a\tСокращенное название дня недели\tSun, Mon, …, Sat (en_US)\n",
    "Пн, Вт, ..., Вс (ru_RU)\n",
    "%A\tПолное название дня недели\tSunday, Monday, …, Saturday (en_US)\n",
    "понедельник, ..., воскресенье (ru_RU)\n",
    "%w\tНомер дня недели [0, …, 6]\t0, 1, …, 6 (0=воскресенье, 6=суббота)\n",
    "%d\tДень месяца [01, …, 31]\t01, 02, …, 31\n",
    "%b\tСокращенное название месяца\tJan, Feb, …, Dec (en_US);\n",
    "янв, ..., дек (ru_RU)\n",
    "%B\tПолное название месяца\tJanuary, February, …, December (en_US);\n",
    "Январь, ..., Декабрь (ru_RU)\n",
    "%m\tНомер месяца [01, …,12]\t01, 02, …, 12\n",
    "%y\tГод без века [00, …, 99]\t00, 01, …, 99\n",
    "%Y\tГод с веком\t0001, 0002, …, 2013, 2014, …, 9999\n",
    "В Linux год выводится без ведущих нулей:\n",
    "1, 2, …, 2013, 2014, …, 9999\n",
    "%H\tЧас (24-часовой формат) [00, …, 23]\t00, 01, …, 23\n",
    "%I\tЧас (12-часовой формат) [01, …, 12]\t01, 02, …, 12\n",
    "%p\tДо полудня или после (при 12-часовом формате)\tAM, PM (en_US)\n",
    "%M\tЧисло минут [00, …, 59]\t00, 01, …, 59\n",
    "%S\tЧисло секунд [00, …, 59]\t00, 01, …, 59\n",
    "%f\tЧисло микросекунд\t000000, 000001, …, 999999\n",
    "%z\tРазница с UTC в формате ±HHMM[SS[.ffffff]]\t+0000, -0400, +1030, +063415, ...\n",
    "%Z\tВременная зона\tUTC, EST, CST\n",
    "%j\tДень года [001,366]\t001, 002, …, 366\n",
    "%U\t\n",
    "Номер недели в году (неделя начинается с воскр.).Неделя, предшествующая первому воскресенью, является нулевой. [00, …, 53]\n",
    "\n",
    "00, 01, …, 53\n",
    "%W\t\n",
    "Номер недели в году (неделя начинается с пон.) Неделя, предшествующая первому понедельнику, является нулевой. [00, …, 53]\n",
    "\n",
    "00, 01, …, 53\n",
    "%c\tДата и время\tTue Aug 16 21:30:00 1988 (en_US);\n",
    "03.01.2019 23:18:32 (ru_RU)\n",
    "%x\tДата\t08/16/88 (None); 08/16/1988 (en_US);\n",
    "03.01.2019 (ru_RU)\n",
    "%X\tВремя\t21:30:00"
   ],
   "metadata": {
    "collapsed": false
   },
   "id": "abe20f6737b6d82"
  },
  {
   "cell_type": "code",
   "execution_count": 2,
   "outputs": [
    {
     "name": "stdout",
     "output_type": "stream",
     "text": [
      "Tue Tuesday 2 10 Aug August 08 21 2021 00 12 AM 00 00 000000   222 32 32 Tue Aug 10 00:00:00 2021 08/10/21 00:00:00\n",
      "Mon Monday 1 01 Jan January 01 00 1900 07 07 AM 18 34 000000   001 00 01 Mon Jan  1 07:18:34 1900 01/01/00 07:18:34\n"
     ]
    }
   ],
   "source": [
    "from datetime import date, time\n",
    "\n",
    "my_date = date(2021, 8, 10)\n",
    "my_time = time(7, 18, 34)\n",
    "\n",
    "print(my_date.strftime('%a %A %w %d %b %B %m %y %Y %H %I %p %M %S %f %z %Z %j %U %W %c %x %X'))\n",
    "print(my_time.strftime('%a %A %w %d %b %B %m %y %Y %H %I %p %M %S %f %z %Z %j %U %W %c %x %X'))"
   ],
   "metadata": {
    "collapsed": false,
    "ExecuteTime": {
     "end_time": "2024-09-16T10:17:16.061219500Z",
     "start_time": "2024-09-16T10:17:16.058580900Z"
    }
   },
   "id": "db01e82a1279b6fd"
  },
  {
   "cell_type": "markdown",
   "source": [
    "Обратите внимание, что при форматировании даты все временные характеристики сбрасываются в минимально возможные (нулевые значения). Аналогично при форматировании времени все характеристики даты сбрасываются в минимально возможные."
   ],
   "metadata": {
    "collapsed": false
   },
   "id": "dc6bb4888fba36ec"
  },
  {
   "cell_type": "markdown",
   "source": [
    "Примеры форматирования даты и времени"
   ],
   "metadata": {
    "collapsed": false
   },
   "id": "d4db0d3091a849bf"
  },
  {
   "cell_type": "markdown",
   "source": [
    "Приведем несколько примеров форматирования даты и времени с помощью метода strftime()."
   ],
   "metadata": {
    "collapsed": false
   },
   "id": "ba0beb4896e7f12e"
  },
  {
   "cell_type": "code",
   "execution_count": 3,
   "outputs": [
    {
     "name": "stdout",
     "output_type": "stream",
     "text": [
      "Saturday 17 July 2021\n",
      "2021/07/17\n",
      "17.07.2021 (Saturday, July)\n",
      "Day of year: 198, week number: 28\n"
     ]
    }
   ],
   "source": [
    "from datetime import date, time\n",
    "\n",
    "given_date = date(2021, 7, 17)\n",
    "\n",
    "print(given_date.strftime('%A %d %B %Y'))\n",
    "print(given_date.strftime('%Y/%m/%d'))\n",
    "print(given_date.strftime('%d.%m.%Y (%A, %B)'))\n",
    "print(given_date.strftime('Day of year: %j, week number: %U'))"
   ],
   "metadata": {
    "collapsed": false,
    "ExecuteTime": {
     "end_time": "2024-09-16T10:18:09.754976500Z",
     "start_time": "2024-09-16T10:18:09.750183300Z"
    }
   },
   "id": "58746aaba3084522"
  },
  {
   "cell_type": "code",
   "execution_count": 4,
   "outputs": [
    {
     "name": "stdout",
     "output_type": "stream",
     "text": [
      "Hours: 14, minutes: 04, seconds: 29.\n",
      "14:04:29\n",
      "02:04:29 PM\n"
     ]
    }
   ],
   "source": [
    "from datetime import date, time\n",
    "\n",
    "given_time = time(14, 4, 29)\n",
    "\n",
    "print(given_time.strftime('Hours: %H, minutes: %M, seconds: %S.'))\n",
    "print(given_time.strftime('%H:%M:%S'))\n",
    "print(given_time.strftime('%I:%M:%S %p'))"
   ],
   "metadata": {
    "collapsed": false,
    "ExecuteTime": {
     "end_time": "2024-09-16T10:18:30.682142300Z",
     "start_time": "2024-09-16T10:18:30.678429300Z"
    }
   },
   "id": "f86af94016251da4"
  },
  {
   "cell_type": "markdown",
   "source": [
    "Использование локализации"
   ],
   "metadata": {
    "collapsed": false
   },
   "id": "8987c9ebc93e3f72"
  },
  {
   "cell_type": "markdown",
   "source": [
    "Для того чтобы использовать конкретную локализацию (перевод на язык), нужно использовать модуль locale."
   ],
   "metadata": {
    "collapsed": false
   },
   "id": "5b1a1d60b2c2ff81"
  },
  {
   "cell_type": "code",
   "execution_count": 5,
   "outputs": [
    {
     "name": "stdout",
     "output_type": "stream",
     "text": [
      "вторник 10, Август 2021\n"
     ]
    }
   ],
   "source": [
    "from datetime import date\n",
    "import locale\n",
    "\n",
    "locale.setlocale(locale.LC_ALL, 'ru_RU.UTF-8')\n",
    "\n",
    "my_date = date(2021, 8, 10)\n",
    "print(my_date.strftime(\"%A %d, %B %Y\"))  # форматированный вывод даты в русской локализации"
   ],
   "metadata": {
    "collapsed": false,
    "ExecuteTime": {
     "end_time": "2024-09-16T10:20:37.518917300Z",
     "start_time": "2024-09-16T10:20:37.508193100Z"
    }
   },
   "id": "fd73c7cdf5d16ebf"
  },
  {
   "cell_type": "markdown",
   "source": [
    "Для установки английской локализации используется код:"
   ],
   "metadata": {
    "collapsed": false
   },
   "id": "ba16a49636abdd21"
  },
  {
   "cell_type": "code",
   "execution_count": 6,
   "outputs": [
    {
     "data": {
      "text/plain": "'en_EN.UTF-8'"
     },
     "execution_count": 6,
     "metadata": {},
     "output_type": "execute_result"
    }
   ],
   "source": [
    "import locale\n",
    "\n",
    "locale.setlocale(locale.LC_ALL, 'en_EN.UTF-8')"
   ],
   "metadata": {
    "collapsed": false,
    "ExecuteTime": {
     "end_time": "2024-09-16T10:21:21.134764600Z",
     "start_time": "2024-09-16T10:21:21.130463300Z"
    }
   },
   "id": "2a7c1990b98728c4"
  },
  {
   "cell_type": "markdown",
   "source": [
    "Примечания"
   ],
   "metadata": {
    "collapsed": false
   },
   "id": "e9e26c24af0cc20e"
  },
  {
   "cell_type": "markdown",
   "source": [
    "Примечание 1. Для того чтобы получить строковое представление объектов типа date и time в ISO формате, можно воспользоваться методом isoformat()."
   ],
   "metadata": {
    "collapsed": false
   },
   "id": "81ec05c767fd9972"
  },
  {
   "cell_type": "code",
   "execution_count": 7,
   "outputs": [
    {
     "name": "stdout",
     "output_type": "stream",
     "text": [
      "Дата: 2021-12-31\n",
      "Время: 21:15:17\n"
     ]
    }
   ],
   "source": [
    "from datetime import date, time\n",
    "\n",
    "my_date = date(2021, 12, 31)\n",
    "my_time = time(21, 15, 17)\n",
    "\n",
    "print('Дата: ' + my_date.isoformat())\n",
    "print('Время: ' + my_time.isoformat())"
   ],
   "metadata": {
    "collapsed": false,
    "ExecuteTime": {
     "end_time": "2024-09-16T10:22:03.328032400Z",
     "start_time": "2024-09-16T10:22:03.324014500Z"
    }
   },
   "id": "6a8b749fa42ba463"
  },
  {
   "cell_type": "markdown",
   "source": [
    "Аналогичный результат можно получить с помощью вызова встроенной функции str():"
   ],
   "metadata": {
    "collapsed": false
   },
   "id": "e6b4f475bd628ebd"
  },
  {
   "cell_type": "code",
   "execution_count": 8,
   "outputs": [
    {
     "name": "stdout",
     "output_type": "stream",
     "text": [
      "Дата: 2021-12-31\n",
      "Время: 21:15:17\n"
     ]
    }
   ],
   "source": [
    "from datetime import date, time\n",
    "\n",
    "my_date = date(2021, 12, 31)\n",
    "my_time = time(21, 15, 17)\n",
    "\n",
    "print('Дата: ' + str(my_date))\n",
    "print('Время: ' + str(my_time))"
   ],
   "metadata": {
    "collapsed": false,
    "ExecuteTime": {
     "end_time": "2024-09-16T10:22:43.506318900Z",
     "start_time": "2024-09-16T10:22:43.500893900Z"
    }
   },
   "id": "60d0056391c05098"
  },
  {
   "cell_type": "markdown",
   "source": [
    "Вам доступно время alarm. Дополните приведенный ниже код, чтобы он вывел следующие его компоненты:\n",
    "\n",
    "количество часов в формате HH\n",
    "количество минут в формате MM\n",
    "количество секунд в формате SS"
   ],
   "metadata": {
    "collapsed": false
   },
   "id": "d50dc64ff753853b"
  },
  {
   "cell_type": "code",
   "execution_count": 9,
   "outputs": [
    {
     "name": "stdout",
     "output_type": "stream",
     "text": [
      "Часы: 07\n",
      "Минуты: 30\n",
      "Секунды: 25\n"
     ]
    }
   ],
   "source": [
    "from datetime import time\n",
    "\n",
    "alarm = time(7, 30, 25)\n",
    "\n",
    "print('Часы:', alarm.strftime('%H'))\n",
    "print('Минуты:', alarm.strftime('%M'))\n",
    "print('Секунды:', alarm.strftime('%S'))"
   ],
   "metadata": {
    "collapsed": false,
    "ExecuteTime": {
     "end_time": "2024-09-16T10:28:14.284708300Z",
     "start_time": "2024-09-16T10:28:14.280905700Z"
    }
   },
   "id": "49e92b70a330ea4"
  },
  {
   "cell_type": "markdown",
   "source": [
    "Вам доступна дата birthday. Дополните приведенный ниже код, чтобы он вывел следующие её компоненты:\n",
    "\n",
    "полное название месяца на английском\n",
    "полное название дня недели на английском\n",
    "год в формате YYYY\n",
    "номер месяца в формате MM\n",
    "день месяца в формате DD"
   ],
   "metadata": {
    "collapsed": false
   },
   "id": "eba8751193b82efd"
  },
  {
   "cell_type": "code",
   "execution_count": 10,
   "outputs": [
    {
     "name": "stdout",
     "output_type": "stream",
     "text": [
      "Название месяца: October\n",
      "Название дня недели: Tuesdayv\n",
      "Год: 1992\n",
      "Месяц: 10\n",
      "День: 06\n"
     ]
    }
   ],
   "source": [
    "from datetime import date\n",
    "\n",
    "birthday = date(1992, 10, 6)\n",
    "\n",
    "print('Название месяца:', birthday.strftime('%B'))\n",
    "print('Название дня недели:', birthday.strftime('%A'))\n",
    "print('Год:', birthday.strftime('%Y'))\n",
    "print('Месяц:', birthday.strftime('%m'))\n",
    "print('День:', birthday.strftime('%d'))"
   ],
   "metadata": {
    "collapsed": false,
    "ExecuteTime": {
     "end_time": "2024-09-16T10:34:01.503401800Z",
     "start_time": "2024-09-16T10:34:01.500024400Z"
    }
   },
   "id": "9314adeaef71ddfe"
  },
  {
   "cell_type": "markdown",
   "source": [
    "В переменной florida_hurricane_dates хранится список дат (тип date), в которые произошел ураган во Флориде с 1950 по 2017 год.\n",
    "\n",
    "Дополните приведенный ниже код, чтобы он вывел самую раннюю дату из списка florida_hurricane_dates в трех различных форматах:\n",
    "\n",
    "в стандарте ISO (YYYY-MM-DD)\n",
    "в типичном для России стиле (DD.MM.YYYY)\n",
    "в типичном для Америки стиле (MM/DD/YYYY)\n",
    "Примечание 1. Считайте, что переменная florida_hurricane_dates объявлена и доступна вашей программе.\n",
    "\n",
    "Примечание 2. Считайте, что тип date уже импортирован в программу."
   ],
   "metadata": {
    "collapsed": false
   },
   "id": "b8b8448e81475c8c"
  },
  {
   "cell_type": "code",
   "execution_count": 28,
   "outputs": [
    {
     "name": "stdout",
     "output_type": "stream",
     "text": [
      "Дата первого урагана в ISO формате: 1922-11-04\n",
      "Дата первого урагана в RU формате: 04.11.1922\n",
      "Дата первого урагана в US формате: 11/04/1922\n"
     ]
    }
   ],
   "source": [
    "from datetime import date\n",
    "import locale\n",
    "\n",
    "florida_hurricane_dates = [date(1992, 10, 6), date(1927, 12, 1), date(1922, 11, 4)]\n",
    "\n",
    "# присваиваем самую раннюю дату урагана в переменную first_date\n",
    "first_date = min(florida_hurricane_dates)\n",
    "\n",
    "# конвертируем дату в ISO и RU формат\n",
    "iso = 'Дата первого урагана в ISO формате: ' + first_date.isoformat()\n",
    "print(iso)\n",
    "locale.setlocale(locale.LC_ALL, 'ru_RU.UTF-8')\n",
    "ru = 'Дата первого урагана в RU формате: ' + first_date.strftime('%d.%m.%Y')\n",
    "print(ru)\n",
    "locale.setlocale(locale.LC_ALL, 'en_US.UTF-8')\n",
    "us = 'Дата первого урагана в US формате: ' + first_date.strftime('%m/%d/%Y')\n",
    "print(us)"
   ],
   "metadata": {
    "collapsed": false,
    "ExecuteTime": {
     "end_time": "2024-09-16T10:43:43.181545Z",
     "start_time": "2024-09-16T10:43:43.175830300Z"
    }
   },
   "id": "71869e919f19c6f3"
  },
  {
   "cell_type": "markdown",
   "source": [
    "Ураган Эндрю, который обрушился на Флориду 24 августа 1992 года, был одним из самых дорогостоящих и смертоносных ураганов в истории США. Дополните приведенный ниже код, чтобы он вывел дату 24 августа 1992 года в трех различных форматах:\n",
    "\n",
    "в формате YYYY-MM\n",
    "в формате month_name (YYYY), где month_name – полное название месяца на английском\n",
    "в формате YYYY-day_number, где day_number – день года"
   ],
   "metadata": {
    "collapsed": false
   },
   "id": "7305f2b3adf894d0"
  },
  {
   "cell_type": "code",
   "execution_count": 30,
   "outputs": [
    {
     "name": "stdout",
     "output_type": "stream",
     "text": [
      "1992-08\n",
      "August (1992)\n",
      "1992-237\n"
     ]
    }
   ],
   "source": [
    "from datetime import date\n",
    "\n",
    "andrew = date(1992, 8, 24)\n",
    "\n",
    "print(andrew.strftime('%Y-%m'))  # выводим дату в формате YYYY-MM\n",
    "print(andrew.strftime('%B (%Y)'))  # выводим дату в формате month_name (YYYY)\n",
    "print(andrew.strftime('%Y-%j'))  # выводим дату в формате YYYY-day_number"
   ],
   "metadata": {
    "collapsed": false,
    "ExecuteTime": {
     "end_time": "2024-09-17T09:22:51.075073400Z",
     "start_time": "2024-09-17T09:22:51.071066700Z"
    }
   },
   "id": "f5d0218c06e2cea4"
  },
  {
   "cell_type": "markdown",
   "source": [
    "Преобразование строки в дату и время"
   ],
   "metadata": {
    "collapsed": false
   },
   "id": "84126aa34aaebe19"
  },
  {
   "cell_type": "markdown",
   "source": [
    "Часто бывает нужно, чтобы пользователь ввел какую‑либо дату или время. Есть два пути, чтобы преобразовать введенные данные из строки:\n",
    "\n",
    "преобразовать данные самостоятельно\n",
    "преобразовывать данные с помощью метода strptime() типа datetime (о котором будет рассказано в следующем уроке)"
   ],
   "metadata": {
    "collapsed": false
   },
   "id": "68f36ba86dd8ad88"
  },
  {
   "cell_type": "markdown",
   "source": [
    "Самостоятельное преобразование данных"
   ],
   "metadata": {
    "collapsed": false
   },
   "id": "2291ba8d499fdb0"
  },
  {
   "cell_type": "code",
   "execution_count": 32,
   "outputs": [
    {
     "name": "stdout",
     "output_type": "stream",
     "text": [
      "1111-11-22\n",
      "11:11:11\n"
     ]
    }
   ],
   "source": [
    "from datetime import date, time\n",
    "\n",
    "day, month, year = input('Введите дату в формате ДД.ММ.ГГГГ').split('.')\n",
    "hour, minute, second = input('Введите время в формате ЧЧ:ММ:СС').split(':')\n",
    "\n",
    "my_date = date(int(year), int(month), int(day))  # создаем объект типа date\n",
    "my_time = time(int(hour), int(minute), int(second))  # создаем объект типа time\n",
    "\n",
    "print(my_date)\n",
    "print(my_time)"
   ],
   "metadata": {
    "collapsed": false,
    "ExecuteTime": {
     "end_time": "2024-09-17T09:24:56.868353200Z",
     "start_time": "2024-09-17T09:24:34.536734600Z"
    }
   },
   "id": "51cfb5a044a90635"
  },
  {
   "cell_type": "markdown",
   "source": [
    "То есть изначально мы предполагаем, что введенные дата и время имеют определенный формат. Используя строковый метод split(), мы разделяем дату через точку (можно было выбрать любой другой разделитель), а время — через двоеточие (:). После этого мы создаем дату/время из полученных данных."
   ],
   "metadata": {
    "collapsed": false
   },
   "id": "40d1b5dbf5423516"
  },
  {
   "cell_type": "markdown",
   "source": [
    "Если пользователь введет данные в неправильном формате, то мы можем получить самые разные ошибки (исключения) — от ValueError до IndexError. К тому же, если мы вдруг решим изменить формат входных данных, нам придется существенно переписать код для преобразования строки в дату/время."
   ],
   "metadata": {
    "collapsed": false
   },
   "id": "465858ac6c55450c"
  },
  {
   "cell_type": "markdown",
   "source": [
    "Рассмотрим ситуацию, когда пользователь вводит некорректную дату именно с точки зрения календаря. Если попытаться ввести дату \n",
    "31 февраля (31.02.2021), то мы получим ошибку (исключение) ValueError:"
   ],
   "metadata": {
    "collapsed": false
   },
   "id": "9d0b6e79afaa363f"
  },
  {
   "cell_type": "markdown",
   "source": [
    "Для того чтобы поймать и обработать исключение, в Python используется конструкция try-except (о которой будет рассказано в данном курсе). Код, который потенциально может сгенерировать ошибку (исключение), помещается в блок try, и ошибки (исключения) перехватываются в блоке except."
   ],
   "metadata": {
    "collapsed": false
   },
   "id": "736f239aa636b16d"
  },
  {
   "cell_type": "code",
   "execution_count": null,
   "outputs": [],
   "source": [
    "from datetime import date, time\n",
    "\n",
    "try:\n",
    "    day, month, year = input('Введите дату в формате ДД.ММ.ГГГГ').split('.')\n",
    "    my_date = date(int(year), int(month), int(day))\n",
    "    print(my_date)\n",
    "except ValueError:\n",
    "    print('Ошибка ввода')"
   ],
   "metadata": {
    "collapsed": false
   },
   "id": "8831c8c26c22b754"
  },
  {
   "cell_type": "markdown",
   "source": [
    "Если теперь попытаться ввести дату 31 февраля (31.02.2021), то при создании объекта date возникнет ошибка (исключение), которая будет перехвачена в блоке except. В результате работы программа выведет:"
   ],
   "metadata": {
    "collapsed": false
   },
   "id": "145043004216785c"
  },
  {
   "cell_type": "markdown",
   "source": [
    "Обратите внимание на то, что текст Ошибка ввода будет выводиться в двух случаях:\n",
    "\n",
    "пользователь вместо чисел введет что-то другое, тогда функция int() не сможет преобразовать строку в число и возникнет ошибка (исключение) ValueError\n",
    "пользователь введет числа, но они не составляют корректную дату или время"
   ],
   "metadata": {
    "collapsed": false
   },
   "id": "5c7516fbcd3766d0"
  },
  {
   "cell_type": "markdown",
   "source": [
    "Мы будем подробно разбираться с исключениями в рамках этого курса, но чуть позже."
   ],
   "metadata": {
    "collapsed": false
   },
   "id": "16b0313f86d0fdfc"
  },
  {
   "cell_type": "markdown",
   "source": [
    "Читаем данные, пока не ввели корректную дату (время)"
   ],
   "metadata": {
    "collapsed": false
   },
   "id": "44775934f4391288"
  },
  {
   "cell_type": "markdown",
   "source": [
    "Конструкцию try-except можно завернуть в цикл, чтобы читать данные до тех пор, пока не ввели корректную дату (время).\n",
    "\n",
    "Приведенный ниже код читает данные до тех пор, пока пользователь не введет корректную дату в нужном формате:"
   ],
   "metadata": {
    "collapsed": false
   },
   "id": "8df972fee2b4eec7"
  },
  {
   "cell_type": "code",
   "execution_count": null,
   "outputs": [],
   "source": [
    "from datetime import date, time\n",
    "\n",
    "while True:\n",
    "    try:\n",
    "        day, month, year = input('Введите дату в формате ДД.ММ.ГГГГ').split('.')\n",
    "\n",
    "        my_date = date(int(year), int(month), int(day))\n",
    "\n",
    "        print('Введена корректная дата:', my_date)\n",
    "        break\n",
    "    except ValueError:  # перехватываем ошибку типа ValueError\n",
    "        print('Введенная дата не является корректной, попробуйте еще раз')"
   ],
   "metadata": {
    "collapsed": false
   },
   "id": "631b31509be56bcb"
  },
  {
   "cell_type": "markdown",
   "source": [
    "Обратите внимание на то, что указанный выше код устойчив лишь к ошибкам (исключениям) типа ValueError. Чтобы обработчик перехватывал любую ошибку (исключение), нужно опустить слово ValueError:"
   ],
   "metadata": {
    "collapsed": false
   },
   "id": "40d3751f73662c32"
  },
  {
   "cell_type": "code",
   "execution_count": null,
   "outputs": [],
   "source": [
    "from datetime import date, time\n",
    "\n",
    "while True:\n",
    "    try:\n",
    "        day, month, year = input('Введите дату в формате ДД.ММ.ГГГГ').split('.')\n",
    "\n",
    "        my_date = date(int(year), int(month), int(day))\n",
    "\n",
    "        print('Введена корректная дата:', my_date)\n",
    "        break\n",
    "    except:  # перехватываем любую ошибку\n",
    "        print('Введенная дата не является корректной, попробуйте еще раз')"
   ],
   "metadata": {
    "collapsed": false
   },
   "id": "274c86173ef58f00"
  },
  {
   "cell_type": "markdown",
   "source": [
    "Преобразование строки в дату с помощью метода fromisoformat()"
   ],
   "metadata": {
    "collapsed": false
   },
   "id": "c0952969ece143f5"
  },
  {
   "cell_type": "markdown",
   "source": [
    "Самостоятельное преобразование данных из строки в объекты типа date и time оказывается довольно неудобным. Код получается достаточно громоздким и плохо расширяемым.\n",
    "\n",
    "Для того чтобы преобразовать строку из ISO формата в объект даты (date) или в объект времени (time), можно использовать метод fromisoformat()."
   ],
   "metadata": {
    "collapsed": false
   },
   "id": "965ee2dadbecadfb"
  },
  {
   "cell_type": "code",
   "execution_count": 5,
   "outputs": [
    {
     "name": "stdout",
     "output_type": "stream",
     "text": [
      "2020-01-31\n",
      "10:20:30\n",
      "<class 'datetime.date'>\n",
      "<class 'datetime.time'>\n"
     ]
    }
   ],
   "source": [
    "from datetime import date, time\n",
    "\n",
    "my_date = date.fromisoformat('2020-01-31')\n",
    "my_time = time.fromisoformat('10:20:30')\n",
    "\n",
    "print(my_date)\n",
    "print(my_time)\n",
    "print(type(my_date))\n",
    "print(type(my_time))"
   ],
   "metadata": {
    "collapsed": false,
    "ExecuteTime": {
     "end_time": "2024-09-17T10:55:22.714358700Z",
     "start_time": "2024-09-17T10:55:22.701449900Z"
    }
   },
   "id": "420d0b97dea5a1bb"
  },
  {
   "cell_type": "markdown",
   "source": [
    "Метод fromisoformat() полезен на практике, однако у него есть серьезное ограничение: он работает только с датой и временем, записанными в ISO формате."
   ],
   "metadata": {
    "collapsed": false
   },
   "id": "d2979b3342c88a7b"
  },
  {
   "cell_type": "markdown",
   "source": [
    " Метод fromisoformat() был добавлен только в Python 3.7. Ранее он недоступен."
   ],
   "metadata": {
    "collapsed": false
   },
   "id": "f275f30d7a4066d7"
  },
  {
   "cell_type": "markdown",
   "source": [
    "В следующем уроке мы изучим метод strptime() типа datetime, который позволяет преобразовать строку из любого формата в объекты даты и времени."
   ],
   "metadata": {
    "collapsed": false
   },
   "id": "cb69892ad5b2dc58"
  },
  {
   "cell_type": "markdown",
   "source": [
    "Две даты\n",
    "Напишите программу, которая принимает на вход две даты и выводит ту, что меньше.\n",
    "\n",
    "Формат входных данных\n",
    "На вход программе подаются две корректные даты в ISO формате (YYYY-MM-DD), каждая на отдельной строке.\n",
    "\n",
    "Формат выходных данных\n",
    "Программа должна выбрать из двух введенных дат меньшую и вывести ее в формате DD-MM (YYYY)."
   ],
   "metadata": {
    "collapsed": false
   },
   "id": "b2f503b8d7ef150"
  },
  {
   "cell_type": "code",
   "execution_count": null,
   "outputs": [],
   "source": [
    "from datetime import date\n",
    "\n",
    "l = [input() for _ in '12']\n",
    "l = min(*l)\n",
    "d = date.fromisoformat(l)\n",
    "print(d.strftime('%d-%m (%Y)'))"
   ],
   "metadata": {
    "collapsed": false
   },
   "id": "337a2432b68caf94"
  },
  {
   "cell_type": "markdown",
   "source": [
    "Отсортированные даты\n",
    "Напишите программу, которая принимает на вход последовательность дат и выводит их в порядке неубывания.\n",
    "\n",
    "Формат входных данных\n",
    "На вход программе подается натуральное число n, а затем n корректных дат в ISO формате (YYYY-MM-DD), каждая на отдельной строке.\n",
    "\n",
    "Формат выходных данных\n",
    "Программа должна вывести введенные даты в порядке неубывания, каждую на отдельной строке, в формате DD/MM/YYYY.\n",
    "\n",
    "Примечание 1. Последовательность называется неубывающей, если каждый ее следующий член не меньше предыдущего, например:\n",
    "1,1,2,3,4,4,4,5,6,...\n",
    "Обратите внимание, что такая последовательность не является возрастающей.\n",
    "\n",
    "Примечание 2. Считайте, что при форматировании даты с помощью %Y год выводится без ведущих нулей, так как на серверах Stepik установлен Linux."
   ],
   "metadata": {
    "collapsed": false
   },
   "id": "baedad693b94f610"
  },
  {
   "cell_type": "code",
   "execution_count": null,
   "outputs": [],
   "source": [
    "from datetime import date\n",
    "\n",
    "l = sorted([date.fromisoformat(input()) for _ in range(int(input()))])\n",
    "l = [i.strftime('%d/%m/%Y') for i in l]\n",
    "print(*l, sep='\\n')"
   ],
   "metadata": {
    "collapsed": false
   },
   "id": "138330be015aa813"
  },
  {
   "cell_type": "markdown",
   "source": [
    "Функция print_good_dates()\n",
    "Тимур считает дату «интересной», если её год совпадает с годом его рождения, а сумма номера месяца и номера дня равна его возрасту. Год рождения Тимура — 1992, возраст — 29 лет.\n",
    "\n",
    "Реализуйте функцию print_good_dates(), которая принимает один аргумент:\n",
    "\n",
    "dates — список дат (тип date)\n",
    "Функция должна выводить «интересные» даты в порядке возрастания, каждую на отдельной строке, в формате  month_name DD, YYYY, где month_name — полное название месяца на английском. \n",
    "\n",
    "Примечание 1. Если в функцию передается пустой список или список без интересных дат, функция ничего не должна выводить.\n",
    "\n",
    "Примечание 2. В тестирующую систему сдайте программу, содержащую только необходимую функцию print_good_dates(), но не код, вызывающий ее."
   ],
   "metadata": {
    "collapsed": false
   },
   "id": "919c078498014a"
  },
  {
   "cell_type": "code",
   "execution_count": null,
   "outputs": [],
   "source": [
    "from datetime import date\n",
    "\n",
    "\n",
    "def print_good_dates(dates: list) -> None:\n",
    "    l = [i.strftime('%Y-%m-%d') for i in dates]\n",
    "    l = sorted([i for i in l if date.fromisoformat(i).year == 1992\n",
    "         and \n",
    "         date.fromisoformat(i).month + date.fromisoformat(i).day == 29])\n",
    "    l = [date.fromisoformat(i).strftime('%B %d, %Y') for i in l]\n",
    "    return print(*l, sep='\\n')"
   ],
   "metadata": {
    "collapsed": false
   },
   "id": "1374d1075d2d736c"
  },
  {
   "cell_type": "code",
   "execution_count": 6,
   "outputs": [
    {
     "name": "stdout",
     "output_type": "stream",
     "text": [
      "1992\n"
     ]
    }
   ],
   "source": [
    "from datetime import date\n",
    "\n",
    "# dates = [date(1992, 10, 19), date(1991, 12, 6), date(1992, 9, 20)]\n",
    "dates = ['1992-10-19', '1991-12-06', '1992-09-20']\n",
    "\n",
    "\n",
    "print(date.fromisoformat(dates[0]).year)"
   ],
   "metadata": {
    "collapsed": false,
    "ExecuteTime": {
     "end_time": "2024-09-17T11:25:33.272582300Z",
     "start_time": "2024-09-17T11:25:33.265476200Z"
    }
   },
   "id": "b87efcc4b781105e"
  },
  {
   "cell_type": "code",
   "execution_count": null,
   "outputs": [],
   "source": [
    "from datetime import date\n",
    "\n",
    "\n",
    "def print_good_dates(dates):\n",
    "    for d in sorted(filter(lambda d: d.year == 1992 and d.month + d.day == 29, dates)):\n",
    "        print(d.strftime('%B %d, %Y'))"
   ],
   "metadata": {
    "collapsed": false
   },
   "id": "c947575f47b546bd"
  },
  {
   "cell_type": "markdown",
   "source": [
    "Функция is_correct()\n",
    "Реализуйте функцию is_correct(), которая принимает три аргумента в следующем порядке:\n",
    "\n",
    "day — натуральное число, день\n",
    "month — натуральное число, месяц\n",
    "year — натуральное число, год\n",
    "Функция должна возвращать True, если дата с компонентами day, month и year является корректной, или False в противном случае.\n",
    "\n",
    "Примечание 1. Вспомните про конструкцию try-except. \n",
    "\n",
    "Примечание 2. В тестирующую систему сдайте программу, содержащую только необходимую функцию is_correct(), но не код, вызывающий ее."
   ],
   "metadata": {
    "collapsed": false
   },
   "id": "aa0aadd96bb54e5"
  },
  {
   "cell_type": "code",
   "execution_count": null,
   "outputs": [],
   "source": [
    "from datetime import date\n",
    "\n",
    "\n",
    "def is_correct(day: int, month: int, year: int) -> bool:\n",
    "    try:\n",
    "        date(year, month, day)\n",
    "        return True\n",
    "    except:\n",
    "        return False"
   ],
   "metadata": {
    "collapsed": false
   },
   "id": "c957b9162f9c2e78"
  },
  {
   "cell_type": "markdown",
   "source": [
    "Корректные даты\n",
    "Напишите программу, которая принимает на вход последовательность дат и проверяет каждую из них на корректность.\n",
    "\n",
    "Формат входных данных\n",
    "На вход программе подается последовательность дат в формате DD.MM.YYYY, каждая на отдельной строке. Концом последовательности является слово end.\n",
    "\n",
    "Формат выходных данных\n",
    "Программа должна для каждой введенной даты вывести текст Корректная или Некорректная в зависимости от того, является ли дата корректной, а затем вывести количество корректных дат.\n",
    "\n",
    "Примечание 1. Для анализа даты на корректность можете использовать уже реализованную функцию is_correct() из предыдущей задачи."
   ],
   "metadata": {
    "collapsed": false
   },
   "id": "f781ea4aaa8dad72"
  },
  {
   "cell_type": "code",
   "execution_count": null,
   "outputs": [],
   "source": [
    "from datetime import date\n",
    "\n",
    "\n",
    "def is_correct(day: int, month: int, year: int) -> bool:\n",
    "    try:\n",
    "        date(year, month, day)\n",
    "        return True\n",
    "    except:\n",
    "        return False\n",
    "\n",
    "l = []\n",
    "i = ''\n",
    "\n",
    "while i != 'end':\n",
    "    i = input()\n",
    "    if i == 'end':\n",
    "        break\n",
    "    else:\n",
    "        l.append(i)\n",
    "        \n",
    "# Проверяем даты и сохраняем результаты\n",
    "results = []\n",
    "for date_str in l:\n",
    "    day, month, year = map(int, date_str.split('.'))\n",
    "    if is_correct(day, month, year):\n",
    "        results.append('Корректная')\n",
    "    else:\n",
    "        results.append('Некорректная')\n",
    "        \n",
    "print(*results, sep='\\n')\n",
    "\n",
    "# Считаем и выводим количество корректных дат\n",
    "correct_count = results.count('Корректная')\n",
    "print(correct_count)"
   ],
   "metadata": {
    "collapsed": false
   },
   "id": "8a171f4b4b544a55"
  },
  {
   "cell_type": "markdown",
   "source": [
    "Корректная\n",
    "Некорректная\n",
    "Корректная\n",
    "Корректная\n",
    "Некорректная\n",
    "3"
   ],
   "metadata": {
    "collapsed": false
   },
   "id": "37de1428cf573576"
  }
 ],
 "metadata": {
  "kernelspec": {
   "display_name": "Python 3",
   "language": "python",
   "name": "python3"
  },
  "language_info": {
   "codemirror_mode": {
    "name": "ipython",
    "version": 2
   },
   "file_extension": ".py",
   "mimetype": "text/x-python",
   "name": "python",
   "nbconvert_exporter": "python",
   "pygments_lexer": "ipython2",
   "version": "2.7.6"
  }
 },
 "nbformat": 4,
 "nbformat_minor": 5
}

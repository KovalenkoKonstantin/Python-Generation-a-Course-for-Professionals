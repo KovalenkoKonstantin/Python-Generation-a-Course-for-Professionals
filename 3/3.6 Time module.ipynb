{
 "cells": [
  {
   "cell_type": "markdown",
   "source": [
    "Тема урока: модуль time\n",
    "Модуль time\n",
    "Измерение времени выполнения программы\n",
    "Аннотация. Урок посвящен модулю time, который позволяет удобным образом работать со временем."
   ],
   "metadata": {
    "collapsed": false
   },
   "id": "b3039b82915e2320"
  },
  {
   "cell_type": "markdown",
   "source": [
    "Модуль time"
   ],
   "metadata": {
    "collapsed": false
   },
   "id": "69d34756f4a31b8a"
  },
  {
   "cell_type": "markdown",
   "source": [
    "В Python помимо встроенного модуля datetime есть еще модуль time, который обычно используется при работе с текущим временем.\n",
    "\n",
    "Работа функций модуля time основывается на общепринятой системе описания времени. Согласно ее концепции, текущее время представляется в виде обыкновенного вещественного значения в секундах, прошедших с момента начала эпохи и до сегодняшнего дня. С тех пор это число постоянно растет, позволяя людям работать с различными видами дат в максимально точном представлении."
   ],
   "metadata": {
    "collapsed": false
   },
   "id": "2b5d6817c07147eb"
  },
  {
   "cell_type": "markdown",
   "source": [
    "ачало эпохи — это полночь 1 января 1970 года (00:00:00 UTC), когда счетчик секунд имел полностью нулевое значение."
   ],
   "metadata": {
    "collapsed": false
   },
   "id": "71bc6938e6112896"
  },
  {
   "cell_type": "markdown",
   "source": [
    "Модуль time из стандартной библиотеки языка Python содержит массу полезных функций для работы со временем. С его помощью можно получать информацию о текущих дате и времени, выводить эти сведения в необходимом формате, а также управлять ходом выполнения программы, добавляя задержки по таймеру."
   ],
   "metadata": {
    "collapsed": false
   },
   "id": "f2e410224c77e3b5"
  },
  {
   "cell_type": "markdown",
   "source": [
    "Модуль time предоставляет только функции, позволяющие работать со временем.\n",
    "\n",
    "Использование модуля time дает возможность:\n",
    "\n",
    "отображать информацию о времени, прошедшем с начала эпохи\n",
    "преобразовывать значение системного времени к удобному виду\n",
    "прерывать выполнение программы (установка паузы) на заданное количество секунд\n",
    "измерять время выполнения программы целиком или ее отдельных модулейv"
   ],
   "metadata": {
    "collapsed": false
   },
   "id": "cf764bff408fce56"
  },
  {
   "cell_type": "markdown",
   "source": [
    "Обратите внимание, если требуется сравнивать или производить арифметические операции со временем, то нужно использовать модуль datetime, а не time"
   ],
   "metadata": {
    "collapsed": false
   },
   "id": "bacd15974b4a9a4a"
  },
  {
   "cell_type": "markdown",
   "source": [
    "Функция time()"
   ],
   "metadata": {
    "collapsed": false
   },
   "id": "432b2cd2ab448197"
  },
  {
   "cell_type": "markdown",
   "source": [
    "Для того чтобы получить количество секунд, прошедших с момента начала эпохи, необходимо использовать одноименную функцию time() из модуля time."
   ],
   "metadata": {
    "collapsed": false
   },
   "id": "ecda587e20b79266"
  },
  {
   "cell_type": "code",
   "execution_count": 17,
   "outputs": [
    {
     "name": "stdout",
     "output_type": "stream",
     "text": [
      "Количество секунд с начала эпохи = 1727169200.3798213\n"
     ]
    }
   ],
   "source": [
    "import time\n",
    "\n",
    "seconds = time.time()    # получаем количество прошедших секунд в виде float числа\n",
    "print('Количество секунд с начала эпохи =', seconds)"
   ],
   "metadata": {
    "collapsed": false,
    "ExecuteTime": {
     "end_time": "2024-09-24T09:13:20.387723100Z",
     "start_time": "2024-09-24T09:13:20.381757400Z"
    }
   },
   "id": "6b4888a669af941e"
  },
  {
   "cell_type": "markdown",
   "source": [
    "В Python 3.7 добавили функцию time_ns(), которая возвращает целочисленное значение, представляющее то же время, прошедшее с эпохи, но в наносекундах, а не в секундах."
   ],
   "metadata": {
    "collapsed": false
   },
   "id": "3d94ac3bee1a9060"
  },
  {
   "cell_type": "code",
   "execution_count": 18,
   "outputs": [
    {
     "name": "stdout",
     "output_type": "stream",
     "text": [
      "1727169267105724700\n"
     ]
    }
   ],
   "source": [
    "nano = time.time_ns()\n",
    "print(nano)"
   ],
   "metadata": {
    "collapsed": false,
    "ExecuteTime": {
     "end_time": "2024-09-24T09:14:27.113050200Z",
     "start_time": "2024-09-24T09:14:27.108036200Z"
    }
   },
   "id": "c8b8d484dd8d1b49"
  },
  {
   "cell_type": "markdown",
   "source": [
    "Функция ctime()"
   ],
   "metadata": {
    "collapsed": false
   },
   "id": "e922c56b5008750b"
  },
  {
   "cell_type": "markdown",
   "source": [
    "Представление времени на основе количества прошедших секунд с момента начала эпохи не очень удобно для человека (хотя и удобно для компьютера). Для того чтобы получить текущую дату в более удобном для человека виде, нужно использовать функцию ctime(). Функция ctime() принимает в качестве аргумента количество секунд, прошедших с начала эпохи, и возвращает строку, представляющую собой местное (локальное) время."
   ],
   "metadata": {
    "collapsed": false
   },
   "id": "89a97c3c3ff80c8f"
  },
  {
   "cell_type": "markdown",
   "source": [
    "Представление времени в зависимости от вашего физического местоположения называется местным (локальным) временем и использует концепцию часовых поясов."
   ],
   "metadata": {
    "collapsed": false
   },
   "id": "4d9bf534d5001cc8"
  },
  {
   "cell_type": "code",
   "execution_count": 19,
   "outputs": [
    {
     "name": "stdout",
     "output_type": "stream",
     "text": [
      "Местное время: Tue Aug 31 08:31:58 2021\n"
     ]
    }
   ],
   "source": [
    "import time\n",
    "\n",
    "seconds = 1630387918.354396\n",
    "local_time = time.ctime(seconds)\n",
    "\n",
    "print('Местное время:', local_time)"
   ],
   "metadata": {
    "collapsed": false,
    "ExecuteTime": {
     "end_time": "2024-09-24T09:15:45.143789900Z",
     "start_time": "2024-09-24T09:15:45.139006400Z"
    }
   },
   "id": "e80fc107af1a1807"
  },
  {
   "cell_type": "markdown",
   "source": [
    "Таким образом, функция ctime() возвращает строковое представление о местном (локальном) времени, которое включает в себя:\n",
    "\n",
    "день недели: Tue (Tuesday)\n",
    "название месяца: Aug (August)\n",
    "день месяца: 31\n",
    "часы, минуты, секунды: 08:31:58\n",
    "год: 2021"
   ],
   "metadata": {
    "collapsed": false
   },
   "id": "914204b8784c4210"
  },
  {
   "cell_type": "markdown",
   "source": [
    "Вызывать функцию ctime() можно и без аргументов, в этом случае в качестве аргумента подставляется значение вызова функции time()."
   ],
   "metadata": {
    "collapsed": false
   },
   "id": "2e70e1d5198941d2"
  },
  {
   "cell_type": "code",
   "execution_count": 1,
   "outputs": [
    {
     "name": "stdout",
     "output_type": "stream",
     "text": [
      "Местное время: Tue Sep 24 12:18:22 2024\n"
     ]
    }
   ],
   "source": [
    "import time\n",
    "\n",
    "local_time = time.ctime()              # вызов функции без аргумента\n",
    "print('Местное время:', local_time)"
   ],
   "metadata": {
    "collapsed": false,
    "ExecuteTime": {
     "end_time": "2024-09-24T09:18:22.024906700Z",
     "start_time": "2024-09-24T09:18:22.020112500Z"
    }
   },
   "id": "198738d0ee7a278"
  },
  {
   "cell_type": "markdown",
   "source": [
    "Функция sleep()"
   ],
   "metadata": {
    "collapsed": false
   },
   "id": "c5ee5f5b5800692c"
  },
  {
   "cell_type": "markdown",
   "source": [
    "Функция sleep() используется для добавления задержки в выполнении программы. Эта функция принимает в качестве аргумента количество секунд (secs) и добавляет задержку в выполнении программы на указанное количество секунд."
   ],
   "metadata": {
    "collapsed": false
   },
   "id": "4cfa81be8b692060"
  },
  {
   "cell_type": "code",
   "execution_count": 2,
   "outputs": [
    {
     "name": "stdout",
     "output_type": "stream",
     "text": [
      "Before the sleep statement\n",
      "After the sleep statement\n"
     ]
    }
   ],
   "source": [
    "import time \n",
    "\n",
    "print('Before the sleep statement')\n",
    "time.sleep(3)\n",
    "print('After the sleep statement')"
   ],
   "metadata": {
    "collapsed": false,
    "ExecuteTime": {
     "end_time": "2024-09-24T09:19:48.726880Z",
     "start_time": "2024-09-24T09:19:45.719965600Z"
    }
   },
   "id": "651da2e2dfe95322"
  },
  {
   "cell_type": "markdown",
   "source": [
    "Аргумент secs может быть числом с плавающей точкой (float), для указания более точного времени приостановки. Например, мы можем сделать задержку на 700 миллисекунд, что составляет 0.7 секунды, как показано ниже:"
   ],
   "metadata": {
    "collapsed": false
   },
   "id": "5ed7c3e19c2b6d1b"
  },
  {
   "cell_type": "code",
   "execution_count": 4,
   "outputs": [
    {
     "name": "stdout",
     "output_type": "stream",
     "text": [
      "Before the sleep statement\n",
      "After the sleep statement\n"
     ]
    }
   ],
   "source": [
    "import time \n",
    "\n",
    "print('Before the sleep statement')\n",
    "time.sleep(0.7)\n",
    "print('After the sleep statement')"
   ],
   "metadata": {
    "collapsed": false,
    "ExecuteTime": {
     "end_time": "2024-09-24T09:20:38.962156500Z",
     "start_time": "2024-09-24T09:20:38.254164800Z"
    }
   },
   "id": "a0b934ec837b45b4"
  },
  {
   "cell_type": "markdown",
   "source": [
    "Время приостановки может быть дольше, чем запрошено, на произвольную величину из-за планирования других действий в операционной системе."
   ],
   "metadata": {
    "collapsed": false
   },
   "id": "884beb48df96d229"
  },
  {
   "cell_type": "markdown",
   "source": [
    "Иногда может потребоваться задержка на разное количество секунд. Сделать это можно следующим образом:"
   ],
   "metadata": {
    "collapsed": false
   },
   "id": "b0dbec0afccd01d7"
  },
  {
   "cell_type": "code",
   "execution_count": 5,
   "outputs": [
    {
     "name": "stdout",
     "output_type": "stream",
     "text": [
      "Waiting for 0.7 seconds\n",
      "Waiting for 0.5 seconds\n",
      "Waiting for 1.0 seconds\n",
      "Waiting for 2.5 seconds\n",
      "Waiting for 3.3 seconds\n",
      "The end\n"
     ]
    }
   ],
   "source": [
    "import time\n",
    "\n",
    "for i in [0.7, 0.5, 1.0, 2.5, 3.3]:\n",
    "    print(f'Waiting for {i} seconds')\n",
    "    time.sleep(i)\n",
    "print('The end')"
   ],
   "metadata": {
    "collapsed": false,
    "ExecuteTime": {
     "end_time": "2024-09-24T09:21:15.935789900Z",
     "start_time": "2024-09-24T09:21:07.925173800Z"
    }
   },
   "id": "c37602732d09c9eb"
  },
  {
   "cell_type": "markdown",
   "source": [
    "Такая программа будет выполняться примерно 0.7+0.5+1.0+2.5+3.3=8.0 секунд."
   ],
   "metadata": {
    "collapsed": false
   },
   "id": "c754f9ca86a092ba"
  },
  {
   "cell_type": "markdown",
   "source": [
    "Функция sleep() нередко используется для тестирования кода и намеренного внесения задержек на различных этапах выполнения программы."
   ],
   "metadata": {
    "collapsed": false
   },
   "id": "57d5a19b46644880"
  },
  {
   "cell_type": "markdown",
   "source": [
    "Примечание 4. Поскольку местное время связано с нашим языковым стандартом, временные метки часто учитывают специфические для локали детали, такие как порядок элементов в строке и перевод сокращений дня и месяца. Функция ctime() игнорирует эти детали."
   ],
   "metadata": {
    "collapsed": false
   },
   "id": "9639779ea1f07dc1"
  },
  {
   "cell_type": "markdown",
   "source": [
    "Примечание 5. Обратите внимание на то, что функция sleep() фактически останавливает выполнение только текущего потока, а не всей программы."
   ],
   "metadata": {
    "collapsed": false
   },
   "id": "1a4b83866729d23"
  },
  {
   "cell_type": "code",
   "execution_count": 8,
   "outputs": [
    {
     "name": "stdout",
     "output_type": "stream",
     "text": [
      "55\n"
     ]
    }
   ],
   "source": [
    "res = 0\n",
    "for i in range(1, 11):\n",
    "    res += i\n",
    "    \n",
    "print(res)"
   ],
   "metadata": {
    "collapsed": false,
    "ExecuteTime": {
     "end_time": "2024-09-24T09:58:31.280610400Z",
     "start_time": "2024-09-24T09:58:31.274762400Z"
    }
   },
   "id": "957146bcd903c721"
  },
  {
   "cell_type": "markdown",
   "source": [
    "Измерение времени выполнения программы"
   ],
   "metadata": {
    "collapsed": false
   },
   "id": "9a8d17fdb406bf79"
  },
  {
   "cell_type": "markdown",
   "source": [
    "Очень часто нам бывает необходимо измерить время выполнения всей программы, либо отдельных ее частей. Чтобы найти данную величину, достаточно посчитать разницу в секундах между точкой старта и местом, где она завершает свою работу.\n",
    "\n",
    "В следующем примере демонстрируется применение функции time() для получения текущего времени, чтобы в итоге выявить, как долго работал блок кода."
   ],
   "metadata": {
    "collapsed": false
   },
   "id": "c32cef46cc0a57e7"
  },
  {
   "cell_type": "code",
   "execution_count": 9,
   "outputs": [
    {
     "name": "stdout",
     "output_type": "stream",
     "text": [
      "0\n",
      "1\n",
      "2\n",
      "3\n",
      "4\n",
      "Время работы программы = 5.002566576004028\n"
     ]
    }
   ],
   "source": [
    "import time\n",
    "\n",
    "start_time = time.time()\n",
    "\n",
    "for i in range(5): \n",
    "    print(i)\n",
    "    time.sleep(1)\n",
    "\n",
    "end_time = time.time()\n",
    "\n",
    "elapsed_time = end_time - start_time\n",
    "print(f'Время работы программы = {elapsed_time}')"
   ],
   "metadata": {
    "collapsed": false,
    "ExecuteTime": {
     "end_time": "2024-09-24T09:59:52.013397500Z",
     "start_time": "2024-09-24T09:59:47.004520700Z"
    }
   },
   "id": "5b02a8c1b645aa6e"
  },
  {
   "cell_type": "markdown",
   "source": [
    "Несмотря на простоту вышеописанного подхода, использовать его в серьезных целях, где требуется точный и независимый от операционной системы (ОС) результат, не рекомендуется. Все дело в том, что числовое значение времени, получаемое таким образом, может иметь погрешности за счет внутренних особенностей работы компьютера, в среде которого выполняется программа. Более того, системные часы могут быть подкорректированы вручную пользователем во время выполнения программы."
   ],
   "metadata": {
    "collapsed": false
   },
   "id": "446abce328699f31"
  },
  {
   "cell_type": "markdown",
   "source": [
    "Может случиться такая ситуация, что очередной вызов функции time() вернет значение меньше, чем значение, полученное при предыдущем вызове."
   ],
   "metadata": {
    "collapsed": false
   },
   "id": "58e6b185360a13e9"
  },
  {
   "cell_type": "markdown",
   "source": [
    "Функция monotonic()"
   ],
   "metadata": {
    "collapsed": false
   },
   "id": "c52b35c7c3540fab"
  },
  {
   "cell_type": "markdown",
   "source": [
    "Для измерения времени выполнения программы идеально подходит функция monotonic(), доступная на всех ОС (начиная с Python 3.5), так как ее результат не зависит от корректировки системных часов."
   ],
   "metadata": {
    "collapsed": false
   },
   "id": "97699199d057714d"
  },
  {
   "cell_type": "markdown",
   "source": [
    "Функция monotonic_ns() похожа на monotonic(), но возвращает время в наносекундах. Работает не на всех операционных системах."
   ],
   "metadata": {
    "collapsed": false
   },
   "id": "c6831bae5c81d045"
  },
  {
   "cell_type": "markdown",
   "source": [
    "В следующем примере демонстрируется применение функции monotonic() для получения текущего времени, чтобы в итоге выявить, как долго работал блок кода."
   ],
   "metadata": {
    "collapsed": false
   },
   "id": "7b6d45111f6bafed"
  },
  {
   "cell_type": "code",
   "execution_count": 10,
   "outputs": [
    {
     "name": "stdout",
     "output_type": "stream",
     "text": [
      "0\n",
      "1\n",
      "2\n",
      "3\n",
      "4\n",
      "Время работы программы = 2.5\n"
     ]
    }
   ],
   "source": [
    "import time\n",
    "\n",
    "start_time = time.monotonic()\n",
    "\n",
    "for i in range(5): \n",
    "    print(i)\n",
    "    time.sleep(0.5)\n",
    "\n",
    "end_time = time.monotonic()\n",
    "\n",
    "elapsed_time = end_time - start_time\n",
    "print(f'Время работы программы = {elapsed_time}')"
   ],
   "metadata": {
    "collapsed": false,
    "ExecuteTime": {
     "end_time": "2024-09-24T10:06:34.547468100Z",
     "start_time": "2024-09-24T10:06:32.039444600Z"
    }
   },
   "id": "70ec657c1cc136c"
  },
  {
   "cell_type": "markdown",
   "source": [
    "Принцип работы и применения функции monotonic() такой же, как и у функции time(). Однако функция monotonic() дает результат, который обладает гарантированной точностью и не зависит от внешних условий."
   ],
   "metadata": {
    "collapsed": false
   },
   "id": "5f5cf3a392372cd7"
  },
  {
   "cell_type": "markdown",
   "source": [
    "Функция perf_counter()"
   ],
   "metadata": {
    "collapsed": false
   },
   "id": "293ab2daf8ac670f"
  },
  {
   "cell_type": "markdown",
   "source": [
    "Для самого точного измерения времени выполнения программы следует использовать функцию perf_counter(). Данная функция использует таймер с наибольшим доступным разрешением, что делает эту функцию отличным инструментом для измерения времени выполнения кода на коротких интервалах."
   ],
   "metadata": {
    "collapsed": false
   },
   "id": "edad813044a4fc0"
  },
  {
   "cell_type": "markdown",
   "source": [
    "В следующем примере демонстрируется применение функции perf_counter() для получения текущего времени, чтобы в итоге выявить, как долго работал блок кода."
   ],
   "metadata": {
    "collapsed": false
   },
   "id": "da0fe907a2b98620"
  },
  {
   "cell_type": "code",
   "execution_count": 11,
   "outputs": [
    {
     "name": "stdout",
     "output_type": "stream",
     "text": [
      "0\n",
      "1\n",
      "2\n",
      "3\n",
      "4\n",
      "Время работы программы = 5.002925100037828\n"
     ]
    }
   ],
   "source": [
    "import time\n",
    "\n",
    "start_time = time.perf_counter()\n",
    "\n",
    "for i in range(5): \n",
    "    print(i)\n",
    "    time.sleep(1)\n",
    "\n",
    "end_time = time.perf_counter()\n",
    "\n",
    "elapsed_time = end_time - start_time\n",
    "print(f'Время работы программы = {elapsed_time}')"
   ],
   "metadata": {
    "collapsed": false,
    "ExecuteTime": {
     "end_time": "2024-09-24T10:11:50.120753Z",
     "start_time": "2024-09-24T10:11:45.111852700Z"
    }
   },
   "id": "7ae1c32d70506948"
  },
  {
   "cell_type": "markdown",
   "source": [
    "В Python версии 3.7 добавлена функция perf_counter_ns() – работает так же, но длительность выводится в наносекундах, что удобнее для совсем малых интервалов времени и быстро исполняемых команд."
   ],
   "metadata": {
    "collapsed": false
   },
   "id": "cfdce8887ac8b5ab"
  },
  {
   "cell_type": "code",
   "execution_count": 1,
   "outputs": [
    {
     "data": {
      "text/plain": "'RTZ 2 (зима)'"
     },
     "execution_count": 1,
     "metadata": {},
     "output_type": "execute_result"
    }
   ],
   "source": [
    "import time\n",
    "t = time.localtime()\n",
    "t.tm_zone"
   ],
   "metadata": {
    "collapsed": false,
    "ExecuteTime": {
     "end_time": "2024-09-24T13:30:34.413903800Z",
     "start_time": "2024-09-24T13:30:34.403138900Z"
    }
   },
   "id": "67b012808c5bea67"
  },
  {
   "cell_type": "markdown",
   "source": [
    "Функция calculate_it()\n",
    "Реализуйте функцию calculate_it(), которая принимает один или более аргументов в следующем порядке:\n",
    "\n",
    "func — произвольная функция\n",
    "*args — переменное количество позиционных аргументов, каждый из которых является произвольным объектом\n",
    "Функция должна возвращать кортеж, первым элементом которого является возвращаемое значение функции func при вызове с аргументами *args, а вторым — примерное время (в секундах), затраченное на вычисление этого значения.\n",
    "\n",
    "Примечание 1. Например, если функция add() определена так:\n",
    "\n",
    "def add(a, b, c):\n",
    "    time.sleep(3)\n",
    "    return a + b + c\n",
    "то вызов\n",
    "\n",
    "calculate_it(add, 1, 2, 3)\n",
    "должен вернуть кортеж (6, 3.000720262527466), где 6 — результат вызова add(1, 2, 3), а 3.000720262527466 — примерное время работы функции add() в секундах.\n",
    "\n",
    "Примечание 2. В тестирующую систему сдайте программу, содержащую только необходимую функцию calculate_it(), но не код, вызывающий ее."
   ],
   "metadata": {
    "collapsed": false
   },
   "id": "86a13adcc14c34fa"
  },
  {
   "cell_type": "code",
   "execution_count": 5,
   "outputs": [
    {
     "data": {
      "text/plain": "(6, 3.001549005508423)"
     },
     "execution_count": 5,
     "metadata": {},
     "output_type": "execute_result"
    }
   ],
   "source": [
    "import time\n",
    "from typing import Callable, Any, Tuple\n",
    "\n",
    "def calculate_it(func: Callable[..., Any], *args: Any) -> Tuple[Any, float]:\n",
    "    \"\"\"\n",
    "    Вычисляет результат функции и время выполнения.\n",
    "\n",
    "    :param func: Функция, которую необходимо выполнить.\n",
    "    :param args: Аргументы, передаваемые функции.\n",
    "    :return: Кортеж, содержащий результат функции и время выполнения в секундах.\n",
    "    \"\"\"\n",
    "    start_time = time.time()  # Запоминаем время начала\n",
    "    result = func(*args)       # Вызываем функцию с переданными аргументами\n",
    "    execution_time = time.time() - start_time  # Рассчитываем время выполнения\n",
    "    return result, execution_time  # Возвращаем результат и время выполнения\n",
    "\n",
    "def add(a, b, c):\n",
    "    time.sleep(3)\n",
    "    return a + b + c\n",
    "\n",
    "calculate_it(add, 1, 2, 3)"
   ],
   "metadata": {
    "collapsed": false,
    "ExecuteTime": {
     "end_time": "2024-09-24T13:46:21.772747700Z",
     "start_time": "2024-09-24T13:46:18.754612400Z"
    }
   },
   "id": "65996ea8a52851d7"
  },
  {
   "cell_type": "markdown",
   "source": [
    "Функция get_the_fastest_func()\n",
    "Реализуйте функцию get_the_fastest_func(), которая принимает два аргумента в следующем порядке:\n",
    "\n",
    "funcs — список произвольных функций\n",
    "arg — произвольный объект\n",
    "Функция get_the_fastest_func() должна возвращать функцию из списка funcs, которая затратила на вычисление значения при вызове с аргументом arg наименьшее количество времени.\n",
    "\n",
    "Примечание. В тестирующую систему сдайте программу, содержащую только необходимую функцию get_the_fastest_func(), но не код, вызывающий ее."
   ],
   "metadata": {
    "collapsed": false
   },
   "id": "d39ca04142174137"
  },
  {
   "cell_type": "code",
   "execution_count": null,
   "outputs": [],
   "source": [
    "import time\n",
    "\n",
    "\n",
    "def get_the_fastest_func(funcs: list, arg):\n",
    "    l = []\n",
    "    for i in funcs:\n",
    "        start = time.time()\n",
    "        result = i(arg)\n",
    "        end = time.time()\n",
    "        l.append(end - start)\n",
    "        \n",
    "    return funcs[l.index(min(l))]"
   ],
   "metadata": {
    "collapsed": false
   },
   "id": "4d51689060e9cdbe"
  },
  {
   "cell_type": "code",
   "execution_count": 7,
   "outputs": [],
   "source": [
    "import time\n",
    "from typing import Callable, List, Any\n",
    "\n",
    "def get_the_fastest_func(funcs: List[Callable[..., Any]], arg: Any) -> Callable[..., Any]:\n",
    "    \"\"\"\n",
    "    Находит и возвращает функцию из списка `funcs`, которая выполняется быстрее всего \n",
    "    при переданном аргументе `arg`.\n",
    "\n",
    "    :param funcs: Список функций, которые необходимо протестировать.\n",
    "    :param arg: Аргумент, который будет передан каждой функции.\n",
    "    :return: Функция, которая выполнилась быстрее всех.\n",
    "    \"\"\"\n",
    "    execution_times = []  # Список для хранения времени выполнения каждой функции\n",
    "    \n",
    "    for func in funcs:\n",
    "        start_time = time.time()  # Запоминаем время начала выполнения функции\n",
    "        func(arg)  # Вызываем функцию с переданным аргументом\n",
    "        elapsed_time = time.time() - start_time  # Рассчитываем время выполнения\n",
    "        execution_times.append(elapsed_time)  # Добавляем время выполнения в список\n",
    "\n",
    "    fastest_index = execution_times.index(min(execution_times))  # Находим индекс самой быстрой функции\n",
    "    return funcs[fastest_index]  # Возвращаем самую быструю функцию"
   ],
   "metadata": {
    "collapsed": false,
    "ExecuteTime": {
     "end_time": "2024-09-25T06:29:00.457321400Z",
     "start_time": "2024-09-25T06:29:00.447794900Z"
    }
   },
   "id": "1b16fd621473d19d"
  },
  {
   "cell_type": "markdown",
   "source": [
    "Вам доступны три реализации функции, которая вычисляет факториал числа n:\n",
    "\n",
    "встроенная из модуля math\n",
    "рекурсивная\n",
    "итеративная\n",
    "Выясните, какая функция быстрее вычислит факториал числа 900."
   ],
   "metadata": {
    "collapsed": false
   },
   "id": "a52d8409d160fc6c"
  },
  {
   "cell_type": "code",
   "execution_count": 9,
   "outputs": [
    {
     "data": {
      "text/plain": "<function math.factorial(n, /)>"
     },
     "execution_count": 9,
     "metadata": {},
     "output_type": "execute_result"
    }
   ],
   "source": [
    "import time\n",
    "from math import factorial                   # функция из модуля math     \n",
    "\n",
    "\n",
    "def factorial_recurrent(n):                  # рекурсивная функция\n",
    "    if n == 0:\n",
    "        return 1\n",
    "    return n * factorial_recurrent(n - 1)    \n",
    "\n",
    "\n",
    "def factorial_classic(n):                    # итеративная функция\n",
    "    f = 1\n",
    "    for i in range(2, n + 1):\n",
    "        f *= i\n",
    "    return f\n",
    "\n",
    "n = 900\n",
    "get_the_fastest_func([factorial, factorial_recurrent, factorial_classic], n)"
   ],
   "metadata": {
    "collapsed": false,
    "ExecuteTime": {
     "end_time": "2024-09-25T06:29:15.792786400Z",
     "start_time": "2024-09-25T06:29:15.787841Z"
    }
   },
   "id": "3e41e3ced77d32d8"
  },
  {
   "cell_type": "markdown",
   "source": [
    "Вам доступны две реализации функции, которая создает и возвращает список из чисел от 1 до 10000000 включительно:\n",
    "\n",
    "с использованием цикла for и метода append()\n",
    "с использованием списочного выражения\n",
    "Определите, какая функция быстрее создаст и вернет требуемый список."
   ],
   "metadata": {
    "collapsed": false
   },
   "id": "498768c365c537d6"
  },
  {
   "cell_type": "code",
   "execution_count": 11,
   "outputs": [
    {
     "data": {
      "text/plain": "<function __main__.list_comprehension(n)>"
     },
     "execution_count": 11,
     "metadata": {},
     "output_type": "execute_result"
    }
   ],
   "source": [
    "def for_and_append(n):                            # с использованием цикла for и метода append()\n",
    "    iterations = n\n",
    "    result = []\n",
    "    for i in range(iterations):\n",
    "        result.append(i + 1)\n",
    "    return result\n",
    "        \n",
    "\n",
    "def list_comprehension(n):                        # с использованием списочного выражения\n",
    "    iterations = n\n",
    "    return [i + 1 for i in range(iterations)]\n",
    "\n",
    "n = 10_000_000\n",
    "get_the_fastest_func([for_and_append, list_comprehension], n)"
   ],
   "metadata": {
    "collapsed": false,
    "ExecuteTime": {
     "end_time": "2024-09-25T06:35:06.706390700Z",
     "start_time": "2024-09-25T06:35:05.681949100Z"
    }
   },
   "id": "2c26608f2c1e97d3"
  },
  {
   "cell_type": "code",
   "execution_count": 12,
   "outputs": [
    {
     "name": "stdout",
     "output_type": "stream",
     "text": [
      "for_and_append 0.5811478000250645\n",
      "list_comprehension 0.47351840004557744\n"
     ]
    }
   ],
   "source": [
    "import time\n",
    "\n",
    "\n",
    "def for_and_append():  # с использованием цикла for и метода append()\n",
    "    iterations = 10_000_000\n",
    "    result = []\n",
    "    for i in range(iterations):\n",
    "        result.append(i + 1)\n",
    "    return result\n",
    "\n",
    "\n",
    "def list_comprehension():  # с использованием списочного выражения\n",
    "    iterations = 10_000_000\n",
    "    return [i + 1 for i in range(iterations)]\n",
    "\n",
    "\n",
    "def get_the_fastest_func(funcs):\n",
    "    for func in funcs:\n",
    "        start = time.perf_counter()\n",
    "        func()\n",
    "        stop = time.perf_counter()\n",
    "        f_time = stop - start\n",
    "        print(func.__name__, f_time)\n",
    "\n",
    "\n",
    "get_the_fastest_func([for_and_append, list_comprehension])"
   ],
   "metadata": {
    "collapsed": false,
    "ExecuteTime": {
     "end_time": "2024-09-25T06:36:56.472878600Z",
     "start_time": "2024-09-25T06:36:55.414834300Z"
    }
   },
   "id": "a288a91176fabec5"
  },
  {
   "cell_type": "markdown",
   "source": [
    "Вам доступны три реализации функции, которая принимает в качестве аргумента итерируемый объект и возвращает список, элементами которого являются элементы переданного итерируемого объекта:\n",
    "\n",
    "с использованием цикла for и метода append()\n",
    "с использованием списочного выражения\n",
    "с использованием встроенной функции list()\n",
    "Определите, какая функция быстрее создаст и вернет список на основе итерируемого объекта range(100_000).\n",
    "Определение итерируемого объекта будет дано чуть позже, а пока будем понимать, что итерируемыми объектами являются все встроенные коллекции, а также map, filter, zip, enumerate и range объекты."
   ],
   "metadata": {
    "collapsed": false
   },
   "id": "807a205d9d012d9"
  },
  {
   "cell_type": "code",
   "execution_count": null,
   "outputs": [],
   "source": [
    "def for_and_append(iterable):             # с использованием цикла for и метода append()\n",
    "    result = []\n",
    "    for elem in iterable:\n",
    "        result.append(elem)\n",
    "    return result\n",
    "        \n",
    "\n",
    "def list_comprehension(iterable):         # с использованием списочного выражения\n",
    "    return [elem for elem in iterable]    \n",
    "    \n",
    "\n",
    "def list_function(iterable):              # с использованием встроенной функции list()\n",
    "    return list(iterable) "
   ],
   "metadata": {
    "collapsed": false
   },
   "id": "dcade63c092d6817"
  },
  {
   "cell_type": "code",
   "execution_count": 21,
   "outputs": [
    {
     "name": "stdout",
     "output_type": "stream",
     "text": [
      "Цикл: 2193800\n",
      "Списочное выражение: 2246400\n",
      "Встроенная функция list(): 976400\n",
      "Распаковка: 912200\n"
     ]
    }
   ],
   "source": [
    "def for_and_append(iterable):  # с использованием цикла for и метода append()\n",
    "    result = []\n",
    "    for elem in iterable:\n",
    "        result.append(elem)\n",
    "    return result\n",
    "\n",
    "def list_comprehension(iterable):  # с использованием списочного выражения\n",
    "    return [elem for elem in iterable]\n",
    "\n",
    "def list_function(iterable):  # с использованием встроенной функции list()\n",
    "    return list(iterable)\n",
    "\n",
    "def unpacking(iterable):  # с использованием распаковки\n",
    "    return [*iterable]\n",
    "\n",
    "def calculate_it(func, *args):\n",
    "    import time\n",
    "    start = time.perf_counter_ns()\n",
    "    result = func(*args)\n",
    "    end = time.perf_counter_ns()\n",
    "    return end - start\n",
    "\n",
    "n = 100_000\n",
    "\n",
    "print('Цикл:', calculate_it(for_and_append, range(n)))\n",
    "print('Списочное выражение:', calculate_it(list_comprehension, range(n)))\n",
    "print('Встроенная функция list():', calculate_it(list_function, range(n)))\n",
    "print('Распаковка:', calculate_it(unpacking, range(n)))"
   ],
   "metadata": {
    "collapsed": false,
    "ExecuteTime": {
     "end_time": "2024-09-25T06:50:22.912491Z",
     "start_time": "2024-09-25T06:50:22.903347200Z"
    }
   },
   "id": "e28db52375b67132"
  },
  {
   "cell_type": "markdown",
   "source": [
    "Тип данных struct_time"
   ],
   "metadata": {
    "collapsed": false
   },
   "id": "d35ef49288fa79ab"
  },
  {
   "cell_type": "markdown",
   "source": [
    "В модуле time имеется единственный тип данных, который называется struct_time. Данный тип является именованным кортежем, представляющий информацию о времени. Структура представления времени struct_time чем-то похожа на тип datetime, который изучался ранее."
   ],
   "metadata": {
    "collapsed": false
   },
   "id": "c8c2b085397797a2"
  },
  {
   "cell_type": "markdown",
   "source": [
    "Именованные кортежи будут изучаться позже в рамках этого курса. Именованные кортежи подобны обычным кортежам за тем исключением, что к их полям можно обращаться не только по индексу, но и по названию."
   ],
   "metadata": {
    "collapsed": false
   },
   "id": "894189a7a134215b"
  },
  {
   "cell_type": "markdown",
   "source": [
    "Именованный кортеж struct_time состоит из следующих атрибутов:\n",
    "\n",
    "  Номер индекса  \tАтрибут\tЗначение\n",
    "0\ttm_year\tдиапазон от 0000 до 9999\n",
    "1\ttm_mon\tдиапазон от 1 до 12\n",
    "2\ttm_mday\tдиапазон от 1 до 31\n",
    "3\ttm_hour\tдиапазон от 0 до 23\n",
    "4\ttm_min\tдиапазон от 0 до 59\n",
    "5\ttm_sec\tдиапазон от 0 до 61\n",
    "6\ttm_wday\tдиапазон от 0 до 6, понедельник = 0\n",
    "7\ttm_yday\tдиапазон от 1 до 366\n",
    "8\ttm_isdst\tзначения -1, 0, 1\n",
    "N/A\ttm_zone\tсокращение названия часового пояса\n",
    "N/A\ttm_gmtoff\tсмещение к востоку от UTC в секундах"
   ],
   "metadata": {
    "collapsed": false
   },
   "id": "ba9f8649e3edaa4e"
  },
  {
   "cell_type": "markdown",
   "source": [
    "Создавать объекты типа struct_time можно на основе кортежа:"
   ],
   "metadata": {
    "collapsed": false
   },
   "id": "e608a63630dde35"
  },
  {
   "cell_type": "code",
   "execution_count": 23,
   "outputs": [
    {
     "name": "stdout",
     "output_type": "stream",
     "text": [
      "time.struct_time(tm_year=2021, tm_mon=8, tm_mday=31, tm_hour=5, tm_min=31, tm_sec=58, tm_wday=1, tm_yday=243, tm_isdst=0)\n"
     ]
    }
   ],
   "source": [
    "import time\n",
    "\n",
    "time_tuple = (2021, 8, 31, 5, 31, 58, 1, 243, 0)\n",
    "time_obj = time.struct_time(time_tuple)\n",
    "print(time_obj)"
   ],
   "metadata": {
    "collapsed": false,
    "ExecuteTime": {
     "end_time": "2024-09-25T06:53:13.100683100Z",
     "start_time": "2024-09-25T06:53:13.096105300Z"
    }
   },
   "id": "34be173507855c16"
  },
  {
   "cell_type": "markdown",
   "source": [
    "На практике редко приходится собственноручно создавать объекты типа struct_time. Обычно используют функции модуля time, которые сами создают и оперируют ими. Такие функции как localtime(), gmtime(), asctime() и другие, принимают объект time.struct_time в качестве аргумента или возвращают его."
   ],
   "metadata": {
    "collapsed": false
   },
   "id": "e067dba540a32d22"
  },
  {
   "cell_type": "markdown",
   "source": [
    "Функция localtime()"
   ],
   "metadata": {
    "collapsed": false
   },
   "id": "352071f0bb77aa4f"
  },
  {
   "cell_type": "markdown",
   "source": [
    "Функция localtime() принимает в качестве аргумента количество секунд, прошедших с начала эпохи, и возвращает кортеж struct_time в локальном времени."
   ],
   "metadata": {
    "collapsed": false
   },
   "id": "13c8c0b587e244df"
  },
  {
   "cell_type": "markdown",
   "source": [
    "Если функции localtime() передан аргумент None, то вернется значение time()"
   ],
   "metadata": {
    "collapsed": false
   },
   "id": "d303908ca0a992ce"
  },
  {
   "cell_type": "code",
   "execution_count": 24,
   "outputs": [
    {
     "name": "stdout",
     "output_type": "stream",
     "text": [
      "Результат: time.struct_time(tm_year=2021, tm_mon=8, tm_mday=31, tm_hour=8, tm_min=31, tm_sec=58, tm_wday=1, tm_yday=243, tm_isdst=0)\n",
      "Год: 2021\n",
      "Месяц: 8\n",
      "День: 31\n",
      "Час: 8\n"
     ]
    }
   ],
   "source": [
    "import time\n",
    "\n",
    "result = time.localtime(1630387918)\n",
    "print('Результат:', result)\n",
    "print('Год:', result.tm_year)\n",
    "print('Месяц:', result.tm_mon)\n",
    "print('День:', result.tm_mday)\n",
    "print('Час:', result.tm_hour)"
   ],
   "metadata": {
    "collapsed": false,
    "ExecuteTime": {
     "end_time": "2024-09-25T06:54:17.284327100Z",
     "start_time": "2024-09-25T06:54:17.279791100Z"
    }
   },
   "id": "7d1c58c2bafd9342"
  },
  {
   "cell_type": "markdown",
   "source": [
    "Обратите внимание на то, что мы можем обращаться к данным именованного кортежа struct_time и по индексам."
   ],
   "metadata": {
    "collapsed": false
   },
   "id": "2ab5fcbe65fbb2ab"
  },
  {
   "cell_type": "code",
   "execution_count": 25,
   "outputs": [
    {
     "name": "stdout",
     "output_type": "stream",
     "text": [
      "Результат: time.struct_time(tm_year=2021, tm_mon=8, tm_mday=31, tm_hour=8, tm_min=31, tm_sec=58, tm_wday=1, tm_yday=243, tm_isdst=0)\n",
      "Год: 2021\n",
      "Месяц: 8\n",
      "День: 31\n",
      "Час: 8\n"
     ]
    }
   ],
   "source": [
    "import time\n",
    "\n",
    "result = time.localtime(1630387918)\n",
    "print('Результат:', result)\n",
    "print('Год:', result[0])\n",
    "print('Месяц:', result[1])\n",
    "print('День:', result[2])\n",
    "print('Час:', result[3])"
   ],
   "metadata": {
    "collapsed": false,
    "ExecuteTime": {
     "end_time": "2024-09-25T06:55:33.175151600Z",
     "start_time": "2024-09-25T06:55:33.169586100Z"
    }
   },
   "id": "a2b2cd324eda9b55"
  },
  {
   "cell_type": "markdown",
   "source": [
    "Функция gmtime()"
   ],
   "metadata": {
    "collapsed": false
   },
   "id": "5b41357d6b3a3284"
  },
  {
   "cell_type": "markdown",
   "source": [
    "Функция gmtime() принимает в качестве аргумента количество секунд, прошедших с начала эпохи, и возвращает кортеж struct_time в UTC."
   ],
   "metadata": {
    "collapsed": false
   },
   "id": "9bbcb9fa1dcaa084"
  },
  {
   "cell_type": "markdown",
   "source": [
    " Если функции gmtime() передан аргумент None, то вернется значение time()."
   ],
   "metadata": {
    "collapsed": false
   },
   "id": "9f51bb3138118117"
  },
  {
   "cell_type": "code",
   "execution_count": 26,
   "outputs": [
    {
     "name": "stdout",
     "output_type": "stream",
     "text": [
      "Результат: time.struct_time(tm_year=2021, tm_mon=8, tm_mday=31, tm_hour=5, tm_min=31, tm_sec=58, tm_wday=1, tm_yday=243, tm_isdst=0)\n",
      "Год: 2021\n",
      "Месяц: 8\n",
      "День: 31\n",
      "Час: 5\n"
     ]
    }
   ],
   "source": [
    "import time\n",
    "\n",
    "result = time.gmtime(1630387918)\n",
    "print('Результат:', result)\n",
    "print('Год:', result.tm_year)\n",
    "print('Месяц:', result.tm_mon)\n",
    "print('День:', result.tm_mday)\n",
    "print('Час:', result.tm_hour)"
   ],
   "metadata": {
    "collapsed": false,
    "ExecuteTime": {
     "end_time": "2024-09-25T06:56:20.308083800Z",
     "start_time": "2024-09-25T06:56:20.304843Z"
    }
   },
   "id": "f208fbbdc7b8e354"
  },
  {
   "cell_type": "markdown",
   "source": [
    "Обратите внимание на разницу в часах. В Москве используется сдвиг UTC+3:00, поэтому количество часов в локальном времени на 3 больше, чем по UTC."
   ],
   "metadata": {
    "collapsed": false
   },
   "id": "8a3f5faa1ddfcc23"
  },
  {
   "cell_type": "markdown",
   "source": [
    "Функция mktime()"
   ],
   "metadata": {
    "collapsed": false
   },
   "id": "1560839d71bb6c4d"
  },
  {
   "cell_type": "markdown",
   "source": [
    "Функция mktime() принимает struct_time (или кортеж, содержащий 9 значений, относящихся к struct_time) в качестве аргумента и возвращает количество секунд, прошедших с начала эпохи, в местном времени."
   ],
   "metadata": {
    "collapsed": false
   },
   "id": "bf920e40a6e1d31a"
  },
  {
   "cell_type": "code",
   "execution_count": 27,
   "outputs": [
    {
     "name": "stdout",
     "output_type": "stream",
     "text": [
      "Локальное время в секундах: 1630377118.0\n"
     ]
    }
   ],
   "source": [
    "import time\n",
    "\n",
    "time_tuple = (2021, 8, 31, 5, 31, 58, 1, 243, 0)\n",
    "time_obj = time.mktime(time_tuple)\n",
    "print('Локальное время в секундах:', time_obj)"
   ],
   "metadata": {
    "collapsed": false,
    "ExecuteTime": {
     "end_time": "2024-09-25T06:57:50.034064100Z",
     "start_time": "2024-09-25T06:57:50.030050800Z"
    }
   },
   "id": "58d258b4625c4a3c"
  },
  {
   "cell_type": "markdown",
   "source": [
    "Функция mktime() является обратной к функции localtime(). Следующий пример показывает их связь:"
   ],
   "metadata": {
    "collapsed": false
   },
   "id": "5ec84c24ae6f746b"
  },
  {
   "cell_type": "code",
   "execution_count": 28,
   "outputs": [
    {
     "name": "stdout",
     "output_type": "stream",
     "text": [
      "time.struct_time(tm_year=2021, tm_mon=8, tm_mday=31, tm_hour=5, tm_min=31, tm_sec=58, tm_wday=1, tm_yday=243, tm_isdst=0)\n",
      "1630377118.0\n"
     ]
    }
   ],
   "source": [
    "import time\n",
    "\n",
    "seconds = 1630377118\n",
    "\n",
    "time_obj = time.localtime(seconds)            # возвращает struct_time\n",
    "print(time_obj)\n",
    "\n",
    "time_seconds = time.mktime(time_obj)          # возвращает секунды из struct_time\n",
    "print(time_seconds)"
   ],
   "metadata": {
    "collapsed": false,
    "ExecuteTime": {
     "end_time": "2024-09-25T06:58:18.911869Z",
     "start_time": "2024-09-25T06:58:18.907537400Z"
    }
   },
   "id": "93fd64a04abd10f0"
  },
  {
   "cell_type": "markdown",
   "source": [
    "Когда кортеж с неправильной длиной или имеющий элементы неправильного типа передается функции, ожидающей struct_time, возникает ошибка TypeError"
   ],
   "metadata": {
    "collapsed": false
   },
   "id": "9c3ac479c1dcf202"
  },
  {
   "cell_type": "markdown",
   "source": [
    "Функция asctime()"
   ],
   "metadata": {
    "collapsed": false
   },
   "id": "785cc0fd0b53fee1"
  },
  {
   "cell_type": "markdown",
   "source": [
    "Функция asctime() принимает struct_time (или кортеж, содержащий 9 значений, относящихся к struct_time) в качестве аргумента и возвращает строку, представляющую собой дату и время."
   ],
   "metadata": {
    "collapsed": false
   },
   "id": "f2f92ef7afcd8c6c"
  },
  {
   "cell_type": "code",
   "execution_count": 29,
   "outputs": [
    {
     "name": "stdout",
     "output_type": "stream",
     "text": [
      "Результат: Tue Aug 31 05:31:58 2021\n"
     ]
    }
   ],
   "source": [
    "import time\n",
    "\n",
    "time_tuple = (2021, 8, 31, 5, 31, 58, 1, 243, 0)\n",
    "\n",
    "result = time.asctime(time_tuple)\n",
    "print('Результат:', result)"
   ],
   "metadata": {
    "collapsed": false,
    "ExecuteTime": {
     "end_time": "2024-09-25T07:00:58.366177200Z",
     "start_time": "2024-09-25T07:00:58.361322500Z"
    }
   },
   "id": "1003471d50909e77"
  },
  {
   "cell_type": "markdown",
   "source": [
    "Форматированный вывод"
   ],
   "metadata": {
    "collapsed": false
   },
   "id": "18b22112520704bf"
  },
  {
   "cell_type": "markdown",
   "source": [
    "Функции ctime() и asctime() имеют практически одинаковый функционал, за тем исключением, что первая функция принимает количество прошедших от начала эпохи секунд, а вторая принимает struct_time (или соответствующий кортеж). Обе функции представляют время в более удобном виде, благодаря автоматическому форматированию."
   ],
   "metadata": {
    "collapsed": false
   },
   "id": "c1ad86a64bbce2bb"
  },
  {
   "cell_type": "code",
   "execution_count": 30,
   "outputs": [
    {
     "name": "stdout",
     "output_type": "stream",
     "text": [
      "Sat Jun 30 19:45:18 2018\n",
      "Tue Aug 31 05:31:58 2021\n"
     ]
    }
   ],
   "source": [
    "import time\n",
    "\n",
    "seconds = 1530377118\n",
    "time_tuple = (2021, 8, 31, 5, 31, 58, 1, 243, 0)\n",
    "\n",
    "print(time.ctime(seconds))\n",
    "print(time.asctime(time_tuple))"
   ],
   "metadata": {
    "collapsed": false,
    "ExecuteTime": {
     "end_time": "2024-09-25T07:01:53.965297100Z",
     "start_time": "2024-09-25T07:01:53.960775900Z"
    }
   },
   "id": "4f9ed270ba63a104"
  },
  {
   "cell_type": "markdown",
   "source": [
    "С форматированием мы уже сталкивались при работе с типами данных date, time, datetime.\n",
    "\n",
    "Автоматическое форматирование не всегда то, что нужно поскольку может показаться чересчур сложным для восприятия либо же недостаточно информативным. Именно поэтому функции strftime() и strptime() модуля time позволяют создавать свои уникальные типы форматирования."
   ],
   "metadata": {
    "collapsed": false
   },
   "id": "f260e4d2781a74a4"
  },
  {
   "cell_type": "markdown",
   "source": [
    "Функция strftime()"
   ],
   "metadata": {
    "collapsed": false
   },
   "id": "30f1f1812f1ef102"
  },
  {
   "cell_type": "markdown",
   "source": [
    "Функция strftime принимает строку с некоторым набором правил для форматирования и объект struct_time (или соответствующий кортеж) в качестве аргументов и возвращает строку с датой в зависимости от использованного формата."
   ],
   "metadata": {
    "collapsed": false
   },
   "id": "6324ed2bbabe260a"
  },
  {
   "cell_type": "code",
   "execution_count": 31,
   "outputs": [
    {
     "name": "stdout",
     "output_type": "stream",
     "text": [
      "25.09.2024, 10:03:33\n"
     ]
    }
   ],
   "source": [
    "import time\n",
    "\n",
    "time_obj = time.localtime()\n",
    "result = time.strftime('%d.%m.%Y, %H:%M:%S', time_obj)\n",
    "print(result)"
   ],
   "metadata": {
    "collapsed": false,
    "ExecuteTime": {
     "end_time": "2024-09-25T07:03:33.067781900Z",
     "start_time": "2024-09-25T07:03:33.063259800Z"
    }
   },
   "id": "422fbc27d5d87685"
  },
  {
   "cell_type": "markdown",
   "source": [
    "Функция strptime()"
   ],
   "metadata": {
    "collapsed": false
   },
   "id": "ab0b0d0932a90e13"
  },
  {
   "cell_type": "markdown",
   "source": [
    "Функция strptime() делает разбор строки в зависимости от использованного формата и возвращает объект struct_time."
   ],
   "metadata": {
    "collapsed": false
   },
   "id": "808b788dd221c777"
  },
  {
   "cell_type": "code",
   "execution_count": 32,
   "outputs": [
    {
     "name": "stdout",
     "output_type": "stream",
     "text": [
      "time.struct_time(tm_year=2021, tm_mon=9, tm_mday=1, tm_hour=0, tm_min=0, tm_sec=0, tm_wday=2, tm_yday=244, tm_isdst=-1)\n"
     ]
    }
   ],
   "source": [
    "import time\n",
    "\n",
    "time_string = '1 September, 2021'\n",
    "result = time.strptime(time_string, '%d %B, %Y')\n",
    "print(result)"
   ],
   "metadata": {
    "collapsed": false,
    "ExecuteTime": {
     "end_time": "2024-09-25T07:04:08.868396700Z",
     "start_time": "2024-09-25T07:04:08.862494900Z"
    }
   },
   "id": "6903b576ecb3e050"
  },
  {
   "cell_type": "markdown",
   "source": [
    "Обратите внимание, что строка time_string должна полностью соответствовать формату %d %B, %Y, в противном случае возникнет исключение ValueError."
   ],
   "metadata": {
    "collapsed": false
   },
   "id": "887f697e9c1b8c16"
  },
  {
   "cell_type": "markdown",
   "source": [
    "Примечания"
   ],
   "metadata": {
    "collapsed": false
   },
   "id": "f43b0e88dc84bfb6"
  },
  {
   "cell_type": "markdown",
   "source": [
    "Примечание 1. Модуль time оперирует двумя основными типами объектов: struct_time и секундами с начала эпохи."
   ],
   "metadata": {
    "collapsed": false
   },
   "id": "57f3102aaf938d2f"
  },
  {
   "cell_type": "markdown",
   "source": [
    "Примечание 2. Таблица для форматированного вывода:\n",
    "\n",
    "Формат\tЗначение\tПример\n",
    "%a\tСокращенное название дня недели\tSun, Mon, …, Sat (en_US)\n",
    "Пн, Вт, ..., Вс (ru_RU)\n",
    "%A\tПолное название дня недели\tSunday, Monday, …, Saturday (en_US)\n",
    "понедельник, ..., воскресенье (ru_RU)\n",
    "%w\tНомер дня недели [0, …, 6]\t0, 1, …, 6 (0=воскресенье, 6=суббота)\n",
    "%d\tДень месяца [01, …, 31]\t01, 02, …, 31\n",
    "%b\tСокращенное название месяца\tJan, Feb, …, Dec (en_US);\n",
    "янв, ..., дек (ru_RU)\n",
    "%B\tПолное название месяца\tJanuary, February, …, December (en_US);\n",
    "Январь, ..., Декабрь (ru_RU)\n",
    "%m\tНомер месяца [01, …,12]\t01, 02, …, 12\n",
    "%y\tГод без века [00, …, 99]\t00, 01, …, 99\n",
    "%Y\tГод с веком\t0001, 0002, …, 2013, 2014, …, 9999\n",
    "В Linux год выводится без ведущих нулей:\n",
    "1, 2, …, 2013, 2014, …, 9999\n",
    "%H\tЧас (24-часовой формат) [00, …, 23]\t00, 01, …, 23\n",
    "%I\tЧас (12-часовой формат) [01, …, 12]\t01, 02, …, 12\n",
    "%p\tДо полудня или после (при 12-часовом формате)\tAM, PM (en_US)\n",
    "%M\tЧисло минут [00, …, 59]\t00, 01, …, 59\n",
    "%S\tЧисло секунд [00, …, 59]\t00, 01, …, 59\n",
    "%f\tЧисло микросекунд\t000000, 000001, …, 999999\n",
    "%z\tРазница с UTC в формате ±HHMM[SS[.ffffff]]\t+0000, -0400, +1030, +063415, ...\n",
    "%Z\tВременная зона\tUTC, EST, CST\n",
    "%j\tДень года [001,366]\t001, 002, …, 366\n",
    "%U\t\n",
    "Номер недели в году\n",
    "(нулевая неделя начинается с воскр.) [00, …, 53]\n",
    "\n",
    "00, 01, …, 53\n",
    "%W\t\n",
    "Номер недели в году\n",
    "(нулевая неделя начинается с пон.) [00, …, 53]\n",
    "\n",
    "00, 01, …, 53\n",
    "%c\tДата и время в текущей локали\tTue Aug 16 21:30:00 1988 (en_US);\n",
    "03.01.2019 23:18:32 (ru_RU)\n",
    "%x\tДата в текущей локали\t08/16/88 (None); 08/16/1988 (en_US);\n",
    "03.01.2019 (ru_RU)\n",
    "%X\tВремя в текущей локали\t21:30:00"
   ],
   "metadata": {
    "collapsed": false
   },
   "id": "69c9576a9215addf"
  },
  {
   "cell_type": "markdown",
   "source": [
    "Примечание 3. На практике, модуль time используется не так часто. В основном для приостановки программы с помощью функции sleep() и для измерения времени выполнения программы."
   ],
   "metadata": {
    "collapsed": false
   },
   "id": "27ec422c5e2440e1"
  }
 ],
 "metadata": {
  "kernelspec": {
   "display_name": "Python 3",
   "language": "python",
   "name": "python3"
  },
  "language_info": {
   "codemirror_mode": {
    "name": "ipython",
    "version": 2
   },
   "file_extension": ".py",
   "mimetype": "text/x-python",
   "name": "python",
   "nbconvert_exporter": "python",
   "pygments_lexer": "ipython2",
   "version": "2.7.6"
  }
 },
 "nbformat": 4,
 "nbformat_minor": 5
}

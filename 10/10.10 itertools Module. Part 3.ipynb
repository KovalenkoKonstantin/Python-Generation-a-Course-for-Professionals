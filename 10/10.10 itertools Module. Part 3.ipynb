{
 "cells": [
  {
   "cell_type": "markdown",
   "source": [
    "Функции, объединяющие и разделяющие данные"
   ],
   "metadata": {
    "collapsed": false
   },
   "id": "f0a02cb8d112ca80"
  },
  {
   "cell_type": "markdown",
   "source": [
    "К этой категории относятся следующие функции:\n",
    "\n",
    "chain()\n",
    "chain.from_iterable()\n",
    "zip_longest()\n",
    "tee()"
   ],
   "metadata": {
    "collapsed": false
   },
   "id": "869d201b39a7f57a"
  },
  {
   "cell_type": "markdown",
   "source": [
    "Функция chain()"
   ],
   "metadata": {
    "collapsed": false
   },
   "id": "220f774b47a6c74e"
  },
  {
   "cell_type": "markdown",
   "source": [
    "Функция chain() возвращает итератор, который последовательно генерирует элементы всех переданных итерируемых объектов.\n",
    "\n",
    "Аргументы функции:\n",
    "\n",
    "*iterables — итерируемые объекты"
   ],
   "metadata": {
    "collapsed": false
   },
   "id": "838cec23713f824c"
  },
  {
   "cell_type": "code",
   "execution_count": 1,
   "outputs": [
    {
     "name": "stdout",
     "output_type": "stream",
     "text": [
      "A B C D E F\n",
      "(0, 'A') (1, 'B') (2, 'C')\n",
      "1 2 3 a b c Timur 29 Male Teacher "
     ]
    }
   ],
   "source": [
    "from itertools import chain\n",
    "\n",
    "chain_iter1 = chain('ABC', 'DEF')\n",
    "print(*chain_iter1)\n",
    "\n",
    "chain_iter2 = chain(enumerate('ABC'))\n",
    "print(*chain_iter2)\n",
    "\n",
    "for i in chain([1, 2, 3], ['a', 'b', 'c'], ('Timur', 29, 'Male', 'Teacher')):\n",
    "    print(i, end=' ')"
   ],
   "metadata": {
    "collapsed": false,
    "ExecuteTime": {
     "end_time": "2025-03-06T10:58:51.057008100Z",
     "start_time": "2025-03-06T10:58:51.049524400Z"
    }
   },
   "id": "2a368c83a7f2a0d6"
  },
  {
   "cell_type": "markdown",
   "source": [
    "Функция chain() упрощает обработку нескольких итерируемых объектов, не требуя предварительного конструирования объединенного списка."
   ],
   "metadata": {
    "collapsed": false
   },
   "id": "7b23a237f83f9573"
  },
  {
   "cell_type": "markdown",
   "source": [
    "Функция chain() примерно эквивалентна следующему коду:"
   ],
   "metadata": {
    "collapsed": false
   },
   "id": "3e62f94095bd794e"
  },
  {
   "cell_type": "code",
   "execution_count": null,
   "outputs": [],
   "source": [
    "def chain(*iterables):\n",
    "    for it in iterables:\n",
    "        for element in it:\n",
    "            yield element"
   ],
   "metadata": {
    "collapsed": false
   },
   "id": "d7212a7ccd1203f6"
  },
  {
   "cell_type": "markdown",
   "source": [
    "Функция chain.from_iterable()"
   ],
   "metadata": {
    "collapsed": false
   },
   "id": "5c21a52de1d00b99"
  },
  {
   "cell_type": "markdown",
   "source": [
    "Функция chain.from_iterable() принимает в качестве аргумента итерируемый объект, содержащий другие итерируемые объекты и возвращает итератор, который генерирует элементы всех вложенных итерируемых объектов.\n",
    "\n",
    "Аргументы функции:\n",
    "\n",
    "iterable — итерируемый объект, содержащий другие итерируемые объекты"
   ],
   "metadata": {
    "collapsed": false
   },
   "id": "66867cbd14aa9356"
  },
  {
   "cell_type": "code",
   "execution_count": 2,
   "outputs": [
    {
     "name": "stdout",
     "output_type": "stream",
     "text": [
      "A B C D E F\n",
      "0 A 1 B 2 C\n",
      "T i m u r 2 9 M a l e T e a c h e r "
     ]
    }
   ],
   "source": [
    "from itertools import chain\n",
    "\n",
    "chain_iter1 = chain.from_iterable(['ABC', 'DEF'])  # передаем список\n",
    "print(*chain_iter1)\n",
    "\n",
    "chain_iter2 = chain.from_iterable(enumerate('ABC'))\n",
    "print(*chain_iter2)\n",
    "\n",
    "for i in chain.from_iterable(['Timur', '29', 'Male', 'Teacher']):\n",
    "    print(i, end=' ')"
   ],
   "metadata": {
    "collapsed": false,
    "ExecuteTime": {
     "end_time": "2025-03-06T11:03:21.646824800Z",
     "start_time": "2025-03-06T11:03:21.643371500Z"
    }
   },
   "id": "4487fb1a46e3f674"
  },
  {
   "cell_type": "markdown",
   "source": [
    "Обратите внимание на то, что все вложенные в iterable объекты должны быть итерируемыми."
   ],
   "metadata": {
    "collapsed": false
   },
   "id": "f60c0f0b0156a704"
  },
  {
   "cell_type": "code",
   "execution_count": 3,
   "outputs": [
    {
     "name": "stdout",
     "output_type": "stream",
     "text": [
      "T i m u r "
     ]
    },
    {
     "ename": "TypeError",
     "evalue": "'int' object is not iterable",
     "output_type": "error",
     "traceback": [
      "\u001B[1;31m---------------------------------------------------------------------------\u001B[0m",
      "\u001B[1;31mTypeError\u001B[0m                                 Traceback (most recent call last)",
      "Cell \u001B[1;32mIn[3], line 3\u001B[0m\n\u001B[0;32m      1\u001B[0m \u001B[38;5;28;01mfrom\u001B[39;00m \u001B[38;5;21;01mitertools\u001B[39;00m \u001B[38;5;28;01mimport\u001B[39;00m chain\n\u001B[1;32m----> 3\u001B[0m \u001B[38;5;28;43;01mfor\u001B[39;49;00m\u001B[43m \u001B[49m\u001B[43mi\u001B[49m\u001B[43m \u001B[49m\u001B[38;5;129;43;01min\u001B[39;49;00m\u001B[43m \u001B[49m\u001B[43mchain\u001B[49m\u001B[38;5;241;43m.\u001B[39;49m\u001B[43mfrom_iterable\u001B[49m\u001B[43m(\u001B[49m\u001B[43m(\u001B[49m\u001B[38;5;124;43m'\u001B[39;49m\u001B[38;5;124;43mTimur\u001B[39;49m\u001B[38;5;124;43m'\u001B[39;49m\u001B[43m,\u001B[49m\u001B[43m \u001B[49m\u001B[38;5;241;43m29\u001B[39;49m\u001B[43m,\u001B[49m\u001B[43m \u001B[49m\u001B[38;5;124;43m'\u001B[39;49m\u001B[38;5;124;43mMale\u001B[39;49m\u001B[38;5;124;43m'\u001B[39;49m\u001B[43m,\u001B[49m\u001B[43m \u001B[49m\u001B[38;5;124;43m'\u001B[39;49m\u001B[38;5;124;43mTeacher\u001B[39;49m\u001B[38;5;124;43m'\u001B[39;49m\u001B[43m)\u001B[49m\u001B[43m)\u001B[49m\u001B[43m:\u001B[49m\u001B[43m    \u001B[49m\u001B[38;5;66;43;03m# 29 - не итерируемый объект    \u001B[39;49;00m\n\u001B[0;32m      4\u001B[0m \u001B[43m    \u001B[49m\u001B[38;5;28;43mprint\u001B[39;49m\u001B[43m(\u001B[49m\u001B[43mi\u001B[49m\u001B[43m,\u001B[49m\u001B[43m \u001B[49m\u001B[43mend\u001B[49m\u001B[38;5;241;43m=\u001B[39;49m\u001B[38;5;124;43m'\u001B[39;49m\u001B[38;5;124;43m \u001B[39;49m\u001B[38;5;124;43m'\u001B[39;49m\u001B[43m)\u001B[49m\n",
      "\u001B[1;31mTypeError\u001B[0m: 'int' object is not iterable"
     ]
    }
   ],
   "source": [
    "from itertools import chain\n",
    "\n",
    "for i in chain.from_iterable(('Timur', 29, 'Male', 'Teacher')):  # 29 - не итерируемый объект    \n",
    "    print(i, end=' ')"
   ],
   "metadata": {
    "collapsed": false,
    "ExecuteTime": {
     "end_time": "2025-03-06T11:05:11.570282600Z",
     "start_time": "2025-03-06T11:05:11.329958600Z"
    }
   },
   "id": "941ed20f655f269c"
  },
  {
   "cell_type": "markdown",
   "source": [
    "Функция chain.from_iterable() примерно эквивалентна следующему коду:"
   ],
   "metadata": {
    "collapsed": false
   },
   "id": "2c63b6e3df063374"
  },
  {
   "cell_type": "code",
   "execution_count": 4,
   "outputs": [],
   "source": [
    "def from_iterable(iterables):\n",
    "    for it in iterables:\n",
    "        for element in it:\n",
    "            yield element"
   ],
   "metadata": {
    "collapsed": false,
    "ExecuteTime": {
     "end_time": "2025-03-06T11:05:26.973276400Z",
     "start_time": "2025-03-06T11:05:26.967458200Z"
    }
   },
   "id": "d0de7c2373d04468"
  },
  {
   "cell_type": "markdown",
   "source": [
    "Функция zip_longest()"
   ],
   "metadata": {
    "collapsed": false
   },
   "id": "c1e7b9ffdcdc00d7"
  },
  {
   "cell_type": "markdown",
   "source": [
    "Как мы уже знаем, встроенная функция zip() возвращает итератор, объединяющий элементы нескольких итерируемых объектов в кортежи. При этом функция zip() прекращает работу, как только исчерпывается самый короткий итерируемый объект. Чтобы обеспечить обработку всех входных элементов, когда итерируемые объекты имеют разные длины, используется функция zip_longest().\n",
    "\n",
    "Аргументы функции:\n",
    "\n",
    "*iterables — итерируемые объекты\n",
    "fillvalue — заполнитель, по умолчанию имеет значение None"
   ],
   "metadata": {
    "collapsed": false
   },
   "id": "6b59e6b032be4077"
  },
  {
   "cell_type": "code",
   "execution_count": 1,
   "outputs": [
    {
     "name": "stdout",
     "output_type": "stream",
     "text": [
      "(1, 'a') (2, 'b') (3, 'c')\n",
      "(1, 'a') (2, 'b') (3, 'c') (None, 'd') (None, 'e')\n",
      "(1, 'a') (2, 'b') (3, 'c') ('*', 'd') ('*', 'e')\n",
      "('a', 1) ('b', 2) ('c', 3) ('d', 777) ('e', 777)\n"
     ]
    }
   ],
   "source": [
    "from itertools import zip_longest\n",
    "\n",
    "print(*zip([1, 2, 3], ['a', 'b', 'c', 'd', 'e']))\n",
    "print(*zip_longest([1, 2, 3], ['a', 'b', 'c', 'd', 'e']))  # fillvalue=None\n",
    "print(*zip_longest([1, 2, 3], ['a', 'b', 'c', 'd', 'e'], fillvalue='*'))\n",
    "print(*zip_longest(['a', 'b', 'c', 'd', 'e'], [1, 2, 3], fillvalue=777))"
   ],
   "metadata": {
    "collapsed": false,
    "ExecuteTime": {
     "end_time": "2025-03-06T11:06:46.498249700Z",
     "start_time": "2025-03-06T11:06:46.490101700Z"
    }
   },
   "id": "2d7640c9b75079ad"
  },
  {
   "cell_type": "markdown",
   "source": [
    "Функция tee()"
   ],
   "metadata": {
    "collapsed": false
   },
   "id": "d494970e50ade5e0"
  },
  {
   "cell_type": "markdown",
   "source": [
    "Функция tee() позволяет создать несколько независимых итераторов на основе одного и того же итерируемого объекта.\n",
    "\n",
    "Аргументы функции:\n",
    "\n",
    "iterable — итерируемый объект\n",
    "n — количество создаваемых итераторов, по умолчанию имеет значение 2"
   ],
   "metadata": {
    "collapsed": false
   },
   "id": "941fcedde5a58547"
  },
  {
   "cell_type": "markdown",
   "source": [
    "Итераторы, возвращаемые функцией tee(), могут быть использованы c целью передачи одного и того же набора данных нескольким алгоритмам для их параллельной обработки."
   ],
   "metadata": {
    "collapsed": false
   },
   "id": "d4cb67c7d0bdbe7e"
  },
  {
   "cell_type": "code",
   "execution_count": 2,
   "outputs": [
    {
     "name": "stdout",
     "output_type": "stream",
     "text": [
      "1 a 2 b 3 c\n",
      "1 a 2 b 3 c\n"
     ]
    }
   ],
   "source": [
    "from itertools import tee\n",
    "\n",
    "iter1, iter2 = tee([1, 'a', 2, 'b', 3, 'c'])  # по умолчанию n=2\n",
    "\n",
    "print(*iter1)\n",
    "print(*iter2)"
   ],
   "metadata": {
    "collapsed": false,
    "ExecuteTime": {
     "end_time": "2025-03-06T11:09:45.611886900Z",
     "start_time": "2025-03-06T11:09:45.605689100Z"
    }
   },
   "id": "29b6dc339b09f1a"
  },
  {
   "cell_type": "code",
   "execution_count": 8,
   "outputs": [
    {
     "name": "stdout",
     "output_type": "stream",
     "text": [
      "<class 'tuple'>\n",
      "1. 2 3 4 5 6\n",
      "2. 2 3 4 5 6\n",
      "3. 2 3 4 5 6\n",
      "4. 2 3 4 5 6\n",
      "5. 2 3 4 5 6\n"
     ]
    }
   ],
   "source": [
    "from itertools import tee\n",
    "\n",
    "result = tee(range(2, 7), 5)  # функция tee() возвращает кортеж с нужными итераторами\n",
    "print(type(result))\n",
    "for i, e in enumerate(result):\n",
    "    print(f'{i + 1}.', *e)"
   ],
   "metadata": {
    "collapsed": false,
    "ExecuteTime": {
     "end_time": "2025-03-06T11:14:43.552905400Z",
     "start_time": "2025-03-06T11:14:43.539491900Z"
    }
   },
   "id": "72d344ece6a1c11f"
  },
  {
   "cell_type": "markdown",
   "source": [
    "Семантика функции tee() аналогична семантике утилиты tee в Unix, которая повторяет значения, читаемые из входного потока, и записывает их в именованный файл или стандартный вывод."
   ],
   "metadata": {
    "collapsed": false
   },
   "id": "24da6104ecd7ef34"
  },
  {
   "cell_type": "markdown",
   "source": [
    "Новые итераторы, созданные функцией tee(), разделяют данные c исходным итерируемым объектом, и поэтому после их создания исходный итерируемый объект не должен изменяться."
   ],
   "metadata": {
    "collapsed": false
   },
   "id": "e503ef8f5d1a05d7"
  },
  {
   "cell_type": "code",
   "execution_count": 9,
   "outputs": [
    {
     "name": "stdout",
     "output_type": "stream",
     "text": [
      "0\n",
      "1 2 3 4 5 6 7 8 9\n",
      "1 2 3 4 5 6 7 8 9\n"
     ]
    }
   ],
   "source": [
    "from itertools import tee\n",
    "\n",
    "data = (i for i in range(10))  # используем генераторное выражение\n",
    "\n",
    "iter1, iter2 = tee(data)\n",
    "\n",
    "print(next(data))  # изменяем data                        \n",
    "\n",
    "print(*iter1)\n",
    "print(*iter2)"
   ],
   "metadata": {
    "collapsed": false,
    "ExecuteTime": {
     "end_time": "2025-03-06T11:16:41.382798Z",
     "start_time": "2025-03-06T11:16:41.367733200Z"
    }
   },
   "id": "be82eaac1d0c6b5"
  },
  {
   "cell_type": "markdown",
   "source": [
    "Если исходный итерируемый объект является итератором, то значения, уже обработанные им ранее, не будут возвращаться вновь созданными итераторами."
   ],
   "metadata": {
    "collapsed": false
   },
   "id": "184d0fafe8f24317"
  },
  {
   "cell_type": "markdown",
   "source": [
    "Аналогичный результат получим, если в качестве итерируемого объекта передать список, а затем его изменить."
   ],
   "metadata": {
    "collapsed": false
   },
   "id": "4b9347ea66ce61e3"
  },
  {
   "cell_type": "code",
   "execution_count": 10,
   "outputs": [
    {
     "name": "stdout",
     "output_type": "stream",
     "text": [
      "1 2 3 4 5 6\n",
      "1 2 3 4 5 6\n"
     ]
    }
   ],
   "source": [
    "from itertools import tee\n",
    "\n",
    "data = [1, 2, 3, 4, 5]\n",
    "\n",
    "iter1, iter2 = tee(data)\n",
    "\n",
    "data.append(6)\n",
    "\n",
    "print(*iter1)\n",
    "print(*iter2)"
   ],
   "metadata": {
    "collapsed": false,
    "ExecuteTime": {
     "end_time": "2025-03-06T11:18:44.094486Z",
     "start_time": "2025-03-06T11:18:44.091852600Z"
    }
   },
   "id": "dd6896100716fc52"
  },
  {
   "cell_type": "markdown",
   "source": [
    "Для выполнения функции tee() может потребоваться значительное количество дополнительной памяти, в зависимости от того, сколько данных необходимо сохранить."
   ],
   "metadata": {
    "collapsed": false
   },
   "id": "dc47353899ebaa1f"
  },
  {
   "cell_type": "code",
   "execution_count": null,
   "outputs": [],
   "source": [
    "# Примерный вид функции\n",
    "from collections import deque\n",
    "\n",
    "\n",
    "def tee(iterable, n=2):\n",
    "    it = iter(iterable)\n",
    "    # Инициализируются n очередей (deque), в которые будут сохраняться элементы.\n",
    "    deques = [deque() for _ in range(n)]\n",
    "\n",
    "    def gen(d):\n",
    "        while True:\n",
    "            if not d:  # Если очередь пуста, загружаем из основного итератора\n",
    "                try:\n",
    "                    item = next(it)\n",
    "                    for q in deques:\n",
    "                        q.append(item)\n",
    "                except StopIteration:\n",
    "                    return\n",
    "            # Возвращает элементы по yield d.popleft(), обеспечивая независимость копий.\n",
    "            yield d.popleft()\n",
    "\n",
    "    return tuple(gen(d) for d in deques)"
   ],
   "metadata": {
    "collapsed": false
   },
   "id": "721e42d4d067bfe9"
  },
  {
   "cell_type": "markdown",
   "source": [
    "Функция pairwise()"
   ],
   "metadata": {
    "collapsed": false
   },
   "id": "f8eeeec6578cd402"
  },
  {
   "cell_type": "markdown",
   "source": [
    "Функция pairwise() возвращает итератор, содержащий последовательные перекрывающиеся пары в виде кортежей, взятые из исходного итерируемого объекта.\n",
    "\n",
    "Аргументы функции:\n",
    "\n",
    "iterable — итерируемый объект"
   ],
   "metadata": {
    "collapsed": false
   },
   "id": "de10d222add69709"
  },
  {
   "cell_type": "code",
   "execution_count": 11,
   "outputs": [
    {
     "name": "stdout",
     "output_type": "stream",
     "text": [
      "('A', 'B') ('B', 'C') ('C', 'D') ('D', 'E') ('E', 'F') ('F', 'G')\n",
      "(1, 2) (2, 3) (3, 4) (4, 5)\n"
     ]
    }
   ],
   "source": [
    "from itertools import pairwise\n",
    "\n",
    "print(*pairwise('ABCDEFG'))\n",
    "print(*pairwise([1, 2, 3, 4, 5]))"
   ],
   "metadata": {
    "collapsed": false,
    "ExecuteTime": {
     "end_time": "2025-03-06T11:20:53.221967800Z",
     "start_time": "2025-03-06T11:20:53.219347500Z"
    }
   },
   "id": "e030349090a6ce1"
  },
  {
   "cell_type": "markdown",
   "source": [
    "Функция pairwise() примерно эквивалентна следующему коду:"
   ],
   "metadata": {
    "collapsed": false
   },
   "id": "d9d6daf2db4c64f6"
  },
  {
   "cell_type": "code",
   "execution_count": null,
   "outputs": [],
   "source": [
    "def pairwise(iterable):\n",
    "    a, b = tee(iterable)\n",
    "    next(b, None)\n",
    "    return zip(a, b)"
   ],
   "metadata": {
    "collapsed": false
   },
   "id": "2b48e8bc0e63694c"
  },
  {
   "cell_type": "markdown",
   "source": [
    "Функция pairwise() была добавлена только в Python 3.10."
   ],
   "metadata": {
    "collapsed": false
   },
   "id": "59a48bc6ca52573d"
  },
  {
   "cell_type": "code",
   "execution_count": 21,
   "outputs": [
    {
     "name": "stdout",
     "output_type": "stream",
     "text": [
      "[1, 2, 3]\n",
      "[1, 2, 3]\n",
      "[1, 2, 3]\n"
     ]
    }
   ],
   "source": [
    "from itertools import tee\n",
    "\n",
    "iters = tee([1, 2, 3], 3)\n",
    "for i in iters:\n",
    "    print(list(i))"
   ],
   "metadata": {
    "collapsed": false,
    "ExecuteTime": {
     "end_time": "2025-03-07T07:37:36.209205700Z",
     "start_time": "2025-03-07T07:37:36.206237400Z"
    }
   },
   "id": "222864856d6f318f"
  },
  {
   "cell_type": "code",
   "execution_count": null,
   "outputs": [],
   "source": [
    "# Если передать в map несколько последовательностей (ну или итераторов), map будет поочерёдно дёргать элементы из этих последовательностей (сначала первые элементы всех последовательностей, затем вторые и т.д.) и передавать их в качестве аргументов в указанную функцию. Здесь главное, чтобы количество последовательностей совпадало с количеством аргументов, которые функция принимает.\n",
    "\n",
    "from itertools import tee\n",
    "\n",
    "iters = tee([1, 2, 3], 3)\n",
    "\n",
    "totals = map(lambda a, b, c: a + b + c, *iters)\n",
    "\n",
    "print(next(totals))\n",
    "print(next(totals))"
   ],
   "metadata": {
    "collapsed": false
   },
   "id": "ff4891de6a5d88c5"
  },
  {
   "cell_type": "markdown",
   "source": [
    "Функция sum_of_digits()\n",
    "Реализуйте функцию sum_of_digits(), которая принимает один аргумент:\n",
    "\n",
    "iterable — итерируемый объект, элементами которого являются натуральные числа\n",
    "Функция должна возвращать единственное число — сумму цифр всех чисел, присутствующих в итерируемом объекте iterable.\n",
    "\n",
    "Примечание 1. Рассмотрим набор чисел \n",
    "13,20,41,2,2,5 из первого теста. Сумма цифр всех представленных чисел будет равна:\n",
    "1+3+2+0+4+1+2+2+5=20"
   ],
   "metadata": {
    "collapsed": false
   },
   "id": "f561ad09e8c8f4ee"
  },
  {
   "cell_type": "code",
   "execution_count": 46,
   "outputs": [
    {
     "name": "stdout",
     "output_type": "stream",
     "text": [
      "20\n",
      "46\n",
      "45\n"
     ]
    }
   ],
   "source": [
    "from typing import Iterable\n",
    "from itertools import chain\n",
    "\n",
    "\n",
    "def sum_of_digits(iterable: Iterable) -> int:\n",
    "    it = map(lambda x: str(x), iterable)\n",
    "    chai = chain.from_iterable(it)\n",
    "    result = sum(list(map(lambda x: int(x), chai)))\n",
    "    return result\n",
    "\n",
    "\n",
    "def sum_of_digits(iterable):\n",
    "    tmp = map(str, iterable)\n",
    "    return sum(map(int, chain.from_iterable(tmp)))\n",
    "\n",
    "\n",
    "print(sum_of_digits([13, 20, 41, 2, 2, 5]))\n",
    "\n",
    "print(sum_of_digits((1, 2, 3, 4, 5, 6, 7, 8, 9, 10)))\n",
    "\n",
    "print(sum_of_digits([123456789]))"
   ],
   "metadata": {
    "collapsed": false,
    "ExecuteTime": {
     "end_time": "2025-03-07T08:03:02.857973400Z",
     "start_time": "2025-03-07T08:03:02.855690500Z"
    }
   },
   "id": "8de25d2e3020617f"
  },
  {
   "cell_type": "markdown",
   "source": [
    "Функция is_rising()\n",
    "Реализуйте функцию is_rising(), которая принимает один аргумент:\n",
    "\n",
    "iterable — итерируемый объект, элементами которого являются числа\n",
    "Функция должна возвращать True, если элементы итерируемого объекта расположены строго по возрастанию, или False в противном случае.\n",
    "\n",
    "Примечание 1. Гарантируется, что итерируемый объект, передаваемый в функцию, не является множеством, а также содержит не менее двух элементов."
   ],
   "metadata": {
    "collapsed": false
   },
   "id": "537c7ae86fc67c4f"
  },
  {
   "cell_type": "code",
   "execution_count": 131,
   "outputs": [
    {
     "name": "stdout",
     "output_type": "stream",
     "text": [
      "True\n",
      "False\n",
      "True\n"
     ]
    }
   ],
   "source": [
    "from typing import Iterable\n",
    "from itertools import chain, pairwise\n",
    "\n",
    "\n",
    "def is_rising(iterable: Iterable) -> bool:\n",
    "    # st = map(str, iterable)\n",
    "    # nm = map(int, chain(st))\n",
    "    # pairs = pairwise(nm)\n",
    "    # result = all(a < b for a, b in pairs)\n",
    "    # result = all(a < b for a, b in pairwise(map(int, chain(map(str, iterable)))))\n",
    "    return all(a < b for a, b in pairwise(map(int, chain(map(str, iterable)))))\n",
    "\n",
    "def is_rising(iterable):\n",
    "    return all(a < b for a, b in pairwise(iterable))\n",
    "\n",
    "print(is_rising([1, 2, 3, 4, 5]))\n",
    "\n",
    "iterator = iter([1, 1, 1, 2, 3, 4])\n",
    "print(is_rising(iterator))\n",
    "\n",
    "iterator = iter(list(range(100, 200)))\n",
    "print(is_rising(iterator))"
   ],
   "metadata": {
    "collapsed": false,
    "ExecuteTime": {
     "end_time": "2025-03-07T08:44:12.836993600Z",
     "start_time": "2025-03-07T08:44:12.824023700Z"
    }
   },
   "id": "abec2fbd098844c9"
  },
  {
   "cell_type": "markdown",
   "source": [
    "Функция max_pair()\n",
    "Реализуйте функцию max_pair(), которая принимает один аргумент:\n",
    "\n",
    "iterable — итерируемый объект, элементами которого являются числа\n",
    "Функция должна возвращать единственное число — максимальную сумму двух соседних чисел итерируемого объекта iterable.\n",
    "\n",
    "Примечание 1. Рассмотрим список чисел \n",
    "1,8,2,4,3 из первого теста. Из данной последовательности можно получить следующие пары соседних элементов: 1 и 8, 8 и 2, 2 и 4, 4 и 3. Максимальную сумму имеет вторая пара — 10.\n",
    "\n",
    "Примечание 2. Гарантируется, что итерируемый объект, передаваемый в функцию, не является множеством, а также содержит не менее двух элементов."
   ],
   "metadata": {
    "collapsed": false
   },
   "id": "b5dc90c1e978f569"
  },
  {
   "cell_type": "code",
   "execution_count": 163,
   "outputs": [
    {
     "name": "stdout",
     "output_type": "stream",
     "text": [
      "11\n"
     ]
    }
   ],
   "source": [
    "from typing import Iterable\n",
    "from itertools import pairwise\n",
    "\n",
    "def max_pair(iterable: Iterable) -> int:\n",
    "    pairs = list(map(lambda i: i[0] + i[1], pairwise(iterable)))    \n",
    "    # return sum(list(pairs))\n",
    "    return max(pairs)\n",
    "\n",
    "def max_pair(iterable):\n",
    "    return max(map(sum, pairwise(iterable)))\n",
    "\n",
    "# print(max_pair([1, 8, 2, 4, 3]))\n",
    "# \n",
    "# iterator = iter([1, 2, 3, 4, 5])\n",
    "# print(max_pair(iterator))\n",
    "# \n",
    "# iterator = iter([0, 0, 0, 0, 0, 0, 0, 0, 0])\n",
    "# print(max_pair(iterator))\n",
    "\n",
    "iterator = iter([5, 6, 4, 3, 2, 2])\n",
    "print(max_pair(iterator))"
   ],
   "metadata": {
    "collapsed": false,
    "ExecuteTime": {
     "end_time": "2025-03-07T09:05:05.865150100Z",
     "start_time": "2025-03-07T09:05:05.861894800Z"
    }
   },
   "id": "1bc997419073e1bf"
  },
  {
   "cell_type": "markdown",
   "source": [
    "Функция ncycles()\n",
    "Реализуйте функцию ncycles(), которая принимает два аргумента в следующем порядке:\n",
    "\n",
    "iterable — итерируемый объект\n",
    "times — натуральное число\n",
    "Функция должна возвращать итератор, генерирующий последовательность элементов итерируемого объекта iterable, зацикленных times раз.\n",
    "\n",
    "Примечание 1. Элементы итерируемого объекта в возвращаемом функцией итераторе должны располагаться в своем исходном порядке.\n",
    "\n",
    "Примечание 2. Гарантируется, что итерируемый объект, передаваемый в функцию, не является множеством."
   ],
   "metadata": {
    "collapsed": false
   },
   "id": "a633528ce61450a4"
  },
  {
   "cell_type": "code",
   "execution_count": 207,
   "outputs": [
    {
     "name": "stdout",
     "output_type": "stream",
     "text": [
      "1 2 3 4 1 2 3 4 1 2 3 4\n",
      "b e e b e e b e e b e e\n",
      "1 1 1 1 1 1 1 1 1 1\n",
      "b\n"
     ]
    }
   ],
   "source": [
    "from typing import Iterable\n",
    "from itertools import tee, chain\n",
    "\n",
    "def ncycles(iterable: Iterable, times: int) -> Iterable:\n",
    "    return chain.from_iterable(tee(iterable, times))\n",
    "\n",
    "\n",
    "print(*ncycles([1, 2, 3, 4], 3))\n",
    "\n",
    "iterator = iter('bee')\n",
    "print(*ncycles(iterator, 4))\n",
    "\n",
    "iterator = iter([1])\n",
    "print(*ncycles(iterator, 10))\n",
    "\n",
    "iterator = ncycles(iter('b'), 1)\n",
    "print(next(iterator))"
   ],
   "metadata": {
    "collapsed": false,
    "ExecuteTime": {
     "end_time": "2025-03-07T10:12:07.138583Z",
     "start_time": "2025-03-07T10:12:07.135952300Z"
    }
   },
   "id": "d6f5ae1bab04f412"
  },
  {
   "cell_type": "code",
   "execution_count": 198,
   "outputs": [
    {
     "name": "stdout",
     "output_type": "stream",
     "text": [
      "1 2 3 4 1 2 3 4 1 2 3 4\n"
     ]
    }
   ],
   "source": [
    "data = [1, 2, 3, 4]\n",
    "t = tee(data, 3)\n",
    "out = list(chain.from_iterable(i for i in t))\n",
    "print(*out)"
   ],
   "metadata": {
    "collapsed": false,
    "ExecuteTime": {
     "end_time": "2025-03-07T10:08:40.282831900Z",
     "start_time": "2025-03-07T10:08:40.280063600Z"
    }
   },
   "id": "2d23e00658515421"
  },
  {
   "cell_type": "markdown",
   "source": [
    "Функция grouper()\n",
    "Реализуйте функцию grouper(), которая принимает два аргумента в следующем порядке:\n",
    "\n",
    "iterable — итерируемый объект\n",
    "n — натуральное число\n",
    "Функция должна возвращать итератор, генерирующий последовательность, элементами которой являются объединенные в кортежи по n элементов соседние элементы итерируемого объекта iterable. Если у элемента не достаточно соседей, то ими становится значение None.\n",
    "\n",
    "Примечание 1. Элементы итерируемого объекта в возвращаемом функцией итераторе должны располагаться в своем исходном порядке.\n",
    "\n",
    "Примечание 2. Гарантируется, что итерируемый объект, передаваемый в функцию, не является множеством."
   ],
   "metadata": {
    "collapsed": false
   },
   "id": "a4434660b024356f"
  },
  {
   "cell_type": "code",
   "execution_count": 249,
   "outputs": [
    {
     "name": "stdout",
     "output_type": "stream",
     "text": [
      "(1, 2) (3, 4) (5, 6)\n",
      "(1, 2, 3) (4, 5, 6) (7, None, None)\n",
      "(1, 2, 3, None, None)\n"
     ]
    }
   ],
   "source": [
    "from typing import Iterable\n",
    "from itertools import zip_longest, repeat\n",
    "\n",
    "def grouper(iterable: Iterable, n: int) -> Iterable:\n",
    "    a = [iter(iterable)]*n\n",
    "    return zip_longest(*a, fillvalue=None)\n",
    "\n",
    "def grouper(iterable, n):\n",
    "    return zip_longest(*repeat(iter(iterable), n))\n",
    "\n",
    "numbers = [1, 2, 3, 4, 5, 6]\n",
    "print(*grouper(numbers, 2))\n",
    "\n",
    "iterator = iter([1, 2, 3, 4, 5, 6, 7])\n",
    "print(*grouper(iterator, 3))\n",
    "\n",
    "iterator = iter([1, 2, 3])\n",
    "print(*grouper(iterator, 5))"
   ],
   "metadata": {
    "collapsed": false,
    "ExecuteTime": {
     "end_time": "2025-03-07T10:40:29.225354Z",
     "start_time": "2025-03-07T10:40:29.222053100Z"
    }
   },
   "id": "16af74dec63a63df"
  }
 ],
 "metadata": {
  "kernelspec": {
   "display_name": "Python 3",
   "language": "python",
   "name": "python3"
  },
  "language_info": {
   "codemirror_mode": {
    "name": "ipython",
    "version": 2
   },
   "file_extension": ".py",
   "mimetype": "text/x-python",
   "name": "python",
   "nbconvert_exporter": "python",
   "pygments_lexer": "ipython2",
   "version": "2.7.6"
  }
 },
 "nbformat": 4,
 "nbformat_minor": 5
}

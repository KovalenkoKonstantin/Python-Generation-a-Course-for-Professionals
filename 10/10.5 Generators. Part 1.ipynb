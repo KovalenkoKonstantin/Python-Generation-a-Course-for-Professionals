{
 "cells": [
  {
   "cell_type": "markdown",
   "source": [
    "Тема урока: генераторы\n",
    "Функции генераторы\n",
    "Ключевое слово yield\n",
    "Функции генераторы с побочными действиями\n",
    "Особенности и ограничения функций генераторов\n",
    "Примеры использования функций генераторов\n",
    "Конструкция yield from\n",
    "Рекурсивные функции генераторы\n",
    "Аннотация. Урок посвящен изучению функций генераторов."
   ],
   "metadata": {
    "collapsed": false
   },
   "id": "999221a0865d18fe"
  },
  {
   "cell_type": "markdown",
   "source": [
    "Введение"
   ],
   "metadata": {
    "collapsed": false
   },
   "id": "9de15166984ceb75"
  },
  {
   "cell_type": "markdown",
   "source": [
    "В прошлом уроке мы реализовывали собственные итераторы путем создания классов, содержащих два магических метода __iter__() и __next__() для поддержания протокола итератора. Делать это было несложно, однако достаточно долго и не очень удобно."
   ],
   "metadata": {
    "collapsed": false
   },
   "id": "36fabb159351a89d"
  },
  {
   "cell_type": "markdown",
   "source": [
    "В Python создавать собственные итераторы можно намного проще с помощью генераторов, которые делятся на два типа:\n",
    "\n",
    "функции генераторы\n",
    "выражения генераторы\n",
    "В этом уроке речь пойдет о функциях генераторах."
   ],
   "metadata": {
    "collapsed": false
   },
   "id": "2140c184c880559a"
  },
  {
   "cell_type": "markdown",
   "source": [
    "Функции генераторы"
   ],
   "metadata": {
    "collapsed": false
   },
   "id": "d819820db16263f1"
  },
  {
   "cell_type": "markdown",
   "source": [
    "Функция генератор – это функция, которая возвращает итератор. Она выглядит как обычная функция, за исключением того, что использует выражение yield, а не return."
   ],
   "metadata": {
    "collapsed": false
   },
   "id": "7dfd3f04e9794e20"
  },
  {
   "cell_type": "markdown",
   "source": [
    "Когда вызывается обычная функция, она получает личное пространство имен, в котором создаются ее локальные переменные. Когда обычная функция достигает оператора return, локальные переменные уничтожаются и значение возвращается вызывающей стороне. Последующий вызов той же функции создает новое локальное пространство имен и новый набор локальных переменных."
   ],
   "metadata": {
    "collapsed": false
   },
   "id": "3a673448f929331d"
  },
  {
   "cell_type": "markdown",
   "source": [
    "Функция генератор, напротив сохраняет локальные переменные от вызова к вызову. Это своего рода возобновляемая функция."
   ],
   "metadata": {
    "collapsed": false
   },
   "id": "5223f31c9f195958"
  },
  {
   "cell_type": "markdown",
   "source": [
    "Рассмотрим пример функции генератора, которая порождает последовательность целых чисел от 0 (включительно) до n (не включительно)."
   ],
   "metadata": {
    "collapsed": false
   },
   "id": "8f549ec05b906634"
  },
  {
   "cell_type": "code",
   "execution_count": 1,
   "outputs": [],
   "source": [
    "def generate_ints(n):\n",
    "    for num in range(n):\n",
    "        yield num"
   ],
   "metadata": {
    "collapsed": false,
    "ExecuteTime": {
     "end_time": "2025-02-21T05:33:37.434001500Z",
     "start_time": "2025-02-21T05:33:37.427899900Z"
    }
   },
   "id": "a3f1f982fd2d69d1"
  },
  {
   "cell_type": "code",
   "execution_count": 2,
   "outputs": [
    {
     "name": "stdout",
     "output_type": "stream",
     "text": [
      "<class 'generator'>\n",
      "0\n",
      "1\n",
      "2\n",
      "3\n",
      "4\n",
      "0\n",
      "1\n",
      "2\n",
      "0 1\n"
     ]
    }
   ],
   "source": [
    "generator1 = generate_ints(5)  # создаем генератор, порождающий числа 0 1 2 3 4\n",
    "\n",
    "print(type(generator1))\n",
    "\n",
    "print(next(generator1))\n",
    "print(next(generator1))\n",
    "print(next(generator1))\n",
    "print(next(generator1))\n",
    "print(next(generator1))\n",
    "\n",
    "generator2 = generate_ints(3)  # создаем генератор, порождающий числа 0 1 2\n",
    "\n",
    "for num in generator2:\n",
    "    print(num)\n",
    "\n",
    "num1, num2 = generate_ints(2)  # создаем генератор, порождающий числа 0 1\n",
    "\n",
    "print(num1, num2)"
   ],
   "metadata": {
    "collapsed": false,
    "ExecuteTime": {
     "end_time": "2025-02-21T05:34:04.538620200Z",
     "start_time": "2025-02-21T05:34:04.533185200Z"
    }
   },
   "id": "36fd350f2b93969"
  },
  {
   "cell_type": "markdown",
   "source": [
    "По сути, функция generate_ints() просто возвращает генератор, порождающий последовательность нужных чисел. "
   ],
   "metadata": {
    "collapsed": false
   },
   "id": "7ccf763b380c5f8"
  },
  {
   "cell_type": "markdown",
   "source": [
    "Генератор – это итератор, который порождает значения, переданные yield. Когда выполнение доходит до конца функции, объект генератор возбуждает исключение StopIteration в полном соответствии с протоколом итератора."
   ],
   "metadata": {
    "collapsed": false
   },
   "id": "e33f1e2fc0d3f753"
  },
  {
   "cell_type": "markdown",
   "source": [
    "Работа с генератором происходит по стандартному сценарию работы с итератором. Мы можем:\n",
    "\n",
    "вызывать функцию next() для получения очередного значения генератора\n",
    "итерироваться с помощью цикла for по генератору\n",
    "распаковывать генератор\n",
    "проверять принадлежность с помощью оператора in\n",
    "и т.д."
   ],
   "metadata": {
    "collapsed": false
   },
   "id": "89cd284e69527dd3"
  },
  {
   "cell_type": "markdown",
   "source": [
    "Функция генератор возвращает объект специального типа <class 'generator'>, который реализует протокол итератора, то есть является самым настоящим итератором."
   ],
   "metadata": {
    "collapsed": false
   },
   "id": "4c7294e8d4f5f557"
  },
  {
   "cell_type": "markdown",
   "source": [
    "Как несложно понять, мы можем достичь эффекта генераторов вручную, написав свой собственный класс, поддерживающий протокол итератора."
   ],
   "metadata": {
    "collapsed": false
   },
   "id": "4bd3bcad5c0d1835"
  },
  {
   "cell_type": "markdown",
   "source": [
    "Класс GenerateInts полностью аналогичен указанной выше функции генератору:"
   ],
   "metadata": {
    "collapsed": false
   },
   "id": "53591edbb96f74a2"
  },
  {
   "cell_type": "code",
   "execution_count": 3,
   "outputs": [],
   "source": [
    "class GenerateInts:\n",
    "    def __init__(self, n):  # конструктор принимает верхнюю границу диапазона\n",
    "        self.n = n\n",
    "        self.current = 0\n",
    "\n",
    "    def __iter__(self):\n",
    "        return self\n",
    "\n",
    "    def __next__(self):\n",
    "        if self.current == self.n:\n",
    "            raise StopIteration\n",
    "        else:\n",
    "            self.current += 1\n",
    "            return self.current - 1"
   ],
   "metadata": {
    "collapsed": false,
    "ExecuteTime": {
     "end_time": "2025-02-21T08:33:57.467725200Z",
     "start_time": "2025-02-21T08:33:57.462206600Z"
    }
   },
   "id": "c9679d73e2b33794"
  },
  {
   "cell_type": "code",
   "execution_count": 4,
   "outputs": [
    {
     "name": "stdout",
     "output_type": "stream",
     "text": [
      "<class '__main__.GenerateInts'>\n",
      "0\n",
      "1\n",
      "2\n",
      "3\n",
      "4\n",
      "0\n",
      "1\n",
      "2\n",
      "0 1\n"
     ]
    }
   ],
   "source": [
    "iterator1 = GenerateInts(5)  # создаем итератор, содержащий числа 0 1 2 3 4\n",
    "\n",
    "print(type(iterator1))\n",
    "\n",
    "print(next(iterator1))\n",
    "print(next(iterator1))\n",
    "print(next(iterator1))\n",
    "print(next(iterator1))\n",
    "print(next(iterator1))\n",
    "\n",
    "iterator2 = GenerateInts(3)  # создаем итератор, содержащий числа 0 1 2\n",
    "\n",
    "for num in iterator2:\n",
    "    print(num)\n",
    "\n",
    "num1, num2 = GenerateInts(2)  # создаем итератор, содержащий числа 0 1\n",
    "\n",
    "print(num1, num2)"
   ],
   "metadata": {
    "collapsed": false,
    "ExecuteTime": {
     "end_time": "2025-02-21T08:34:04.634534900Z",
     "start_time": "2025-02-21T08:34:04.627381100Z"
    }
   },
   "id": "5a0529b6b72c8832"
  },
  {
   "cell_type": "markdown",
   "source": [
    "На данном примере видно, насколько генераторные функции упрощают процесс реализации собственных итераторов, значительно сокращая количество строк кода."
   ],
   "metadata": {
    "collapsed": false
   },
   "id": "4492342ad430707"
  },
  {
   "cell_type": "markdown",
   "source": [
    "Обратите внимание на стиль именования класса GenerateInts и функции генератора generate_ints()."
   ],
   "metadata": {
    "collapsed": false
   },
   "id": "572ad7e922a49621"
  },
  {
   "cell_type": "markdown",
   "source": [
    "Может показаться, что в теле функции генератора всегда должен быть цикл, но это необязательно."
   ],
   "metadata": {
    "collapsed": false
   },
   "id": "dc9dc60e4100d8b8"
  },
  {
   "cell_type": "code",
   "execution_count": 5,
   "outputs": [
    {
     "name": "stdout",
     "output_type": "stream",
     "text": [
      "1 2 3 4\n"
     ]
    }
   ],
   "source": [
    "def generate_1234():\n",
    "    yield 1\n",
    "    yield 2\n",
    "    yield 3\n",
    "    yield 4\n",
    "\n",
    "\n",
    "print(*generate_1234())  # распаковка генератора"
   ],
   "metadata": {
    "collapsed": false,
    "ExecuteTime": {
     "end_time": "2025-02-21T08:36:46.652733900Z",
     "start_time": "2025-02-21T08:36:46.646898300Z"
    }
   },
   "id": "4e9ff619d4cac4cb"
  },
  {
   "cell_type": "markdown",
   "source": [
    "Функции генераторы с побочными действиями"
   ],
   "metadata": {
    "collapsed": false
   },
   "id": "58f89d89ac6c448c"
  },
  {
   "cell_type": "markdown",
   "source": [
    "Функция генератор может не только порождать значения, но и совершать различные побочные действия во время выполнения, такие как:\n",
    "\n",
    "вывод текста на экран\n",
    "запись данных в файл\n",
    "приостановка исполняющейся программы на некоторое время\n",
    "и т.д."
   ],
   "metadata": {
    "collapsed": false
   },
   "id": "99f037d2a866a5ec"
  },
  {
   "cell_type": "markdown",
   "source": [
    "Рассмотрим определение функции генератора, которая печатает текст во время выполнения."
   ],
   "metadata": {
    "collapsed": false
   },
   "id": "6a9635b86f839a99"
  },
  {
   "cell_type": "code",
   "execution_count": 6,
   "outputs": [
    {
     "name": "stdout",
     "output_type": "stream",
     "text": [
      "start\n",
      "--> A\n",
      "continue\n",
      "--> B\n",
      "end\n"
     ]
    }
   ],
   "source": [
    "def generate_AB():\n",
    "    print('start')\n",
    "    yield 'A'\n",
    "    print('continue')\n",
    "    yield 'B'\n",
    "    print('end')\n",
    "\n",
    "\n",
    "for char in generate_AB():\n",
    "    print('-->', char)"
   ],
   "metadata": {
    "collapsed": false,
    "ExecuteTime": {
     "end_time": "2025-02-21T08:37:45.893039600Z",
     "start_time": "2025-02-21T08:37:45.886641900Z"
    }
   },
   "id": "82409516286edd39"
  },
  {
   "cell_type": "markdown",
   "source": [
    "Как мы уже знаем, для итерирования цикл for сначала получает итератор, то есть выполняет следующий код:"
   ],
   "metadata": {
    "collapsed": false
   },
   "id": "f5fe8ae7f3bbb9e"
  },
  {
   "cell_type": "code",
   "execution_count": null,
   "outputs": [],
   "source": [
    "iterator = iter(generate_AB())"
   ],
   "metadata": {
    "collapsed": false
   },
   "id": "81741927c6b78db1"
  },
  {
   "cell_type": "markdown",
   "source": [
    "а затем на каждой итерации вызывает функцию next(iterator).  В теле цикла на каждой итерации печатается строка --> и значение, полученное при вызове next(iterator)."
   ],
   "metadata": {
    "collapsed": false
   },
   "id": "fdbfa2ccc7a8f293"
  },
  {
   "cell_type": "markdown",
   "source": [
    "Во время первой итерации и первом вызове next(iterator) генератор, перед тем как сгенерировать значение 'A' (то есть дойти до строки yield 'A'), сначала выполняет строку print('start').\n",
    "\n",
    "Во время второй итерации и втором вызове next(iterator) генератор, перед тем как сгенерировать значение 'B' (то есть дойти до строки yield 'B'), сначала выполняет строку print('continue').\n",
    "\n",
    "Во время третьей итерации и третьем вызове next(iterator) генератор выполняет строку print('end') и завершает свою работу, возбуждая исключение StopIteration. Цикл for перехватывает это исключение и нормально завершается."
   ],
   "metadata": {
    "collapsed": false
   },
   "id": "d66ba6807436dc43"
  },
  {
   "cell_type": "markdown",
   "source": [
    "yield в Python используется в генераторах для создания ленивых итераторов. Вместо того чтобы возвращать сразу весь результат, yield приостанавливает выполнение функции и сохраняет её состояние, а затем продолжает выполнение с этого же места при следующем вызове."
   ],
   "metadata": {
    "collapsed": false
   },
   "id": "d351a4f1158236e4"
  },
  {
   "cell_type": "markdown",
   "source": [
    "Ключевое слово return в теле функции генератора"
   ],
   "metadata": {
    "collapsed": false
   },
   "id": "aab451846e5d99c6"
  },
  {
   "cell_type": "markdown",
   "source": [
    "До версии Python 3.3 наличие ключевого слова return внутри функции генератора приводило к возникновению ошибки:\n",
    "SyntaxError: 'return' with argument inside generator"
   ],
   "metadata": {
    "collapsed": false
   },
   "id": "db489780bf5632b9"
  },
  {
   "cell_type": "markdown",
   "source": [
    "Теперь это допускается, при этом инструкция return приводит к возбуждению исключения StopIteration."
   ],
   "metadata": {
    "collapsed": false
   },
   "id": "fc3f3b3ceb541bd6"
  },
  {
   "cell_type": "code",
   "execution_count": 7,
   "outputs": [
    {
     "name": "stdout",
     "output_type": "stream",
     "text": [
      "1\n",
      "2\n"
     ]
    }
   ],
   "source": [
    "def generate_ints():\n",
    "    yield 1\n",
    "    yield 2\n",
    "    return 3\n",
    "    yield 4\n",
    "\n",
    "\n",
    "for num in generate_ints():\n",
    "    print(num)"
   ],
   "metadata": {
    "collapsed": false,
    "ExecuteTime": {
     "end_time": "2025-02-21T09:08:38.411317400Z",
     "start_time": "2025-02-21T09:08:38.406048400Z"
    }
   },
   "id": "a5eed7eb153b8080"
  },
  {
   "cell_type": "markdown",
   "source": [
    "Строка кода return 3 в функции генераторе generate_ints() возбуждает исключение StopIteration, которое перехватывает цикл for, после чего он завершается. Обратите внимание на то, что само значение 3 не выводится."
   ],
   "metadata": {
    "collapsed": false
   },
   "id": "ef03246e2c3be7f6"
  },
  {
   "cell_type": "markdown",
   "source": [
    "Особенности и ограничения функций генераторов"
   ],
   "metadata": {
    "collapsed": false
   },
   "id": "39da95f4855d825b"
  },
  {
   "cell_type": "markdown",
   "source": [
    "Основные особенности, присущие всем функциям генераторам:\n",
    "\n",
    "любая функция, содержащая ключевое слово yield, является функцией генератором\n",
    "когда вызывается функция генератор, то она не возвращает единственное значение, как это делает обыкновенная функция\n",
    "функция генератор всегда возвращает объект типа generator, который поддерживает протокол итератора"
   ],
   "metadata": {
    "collapsed": false
   },
   "id": "22bfd68efb3c903"
  },
  {
   "cell_type": "markdown",
   "source": [
    "Разница между yield и оператором return заключается в том, что для ключевого слова yield состояние выполнения генератора приостанавливается и локальные переменные сохраняются. При следующем вызове метода генератора __next__() функция возобновляет свое выполнение из той точки, из которой завершила в прошлый раз."
   ],
   "metadata": {
    "collapsed": false
   },
   "id": "689587b5b000d4fe"
  },
  {
   "cell_type": "markdown",
   "source": [
    "Генератор является итератором, поэтому он обладает всеми его особенностями:\n",
    "\n",
    "нельзя получить длину генератора функцией len()\n",
    "нельзя распечатать элементы генератора функцией print() без предварительной распаковки\n",
    "у генератора нельзя получить элемент по индексу\n",
    "после итерации по генератору он становится пустым"
   ],
   "metadata": {
    "collapsed": false
   },
   "id": "224e8a22a693982d"
  },
  {
   "cell_type": "markdown",
   "source": [
    "Примеры использования функций генераторов"
   ],
   "metadata": {
    "collapsed": false
   },
   "id": "a3e950a7519c920d"
  },
  {
   "cell_type": "markdown",
   "source": [
    "В прошлом уроке мы рассматривали примеры по созданию собственных итераторов с помощью создания соответствующих классов. Давайте перепишем их с использованием функций генераторов."
   ],
   "metadata": {
    "collapsed": false
   },
   "id": "31988e17e154d331"
  },
  {
   "cell_type": "markdown",
   "source": [
    "Пример 1. Реализуем функцию генератор counter(), которая возвращает генератор, порождающий последовательность целых чисел от значения low до high включительно с шагом один. Значения low и high передаются в качестве аргументов в функцию генератор."
   ],
   "metadata": {
    "collapsed": false
   },
   "id": "fb8cb785b868e108"
  },
  {
   "cell_type": "code",
   "execution_count": 8,
   "outputs": [],
   "source": [
    "def counter(low, high):\n",
    "    for num in range(low, high + 1):\n",
    "        yield num"
   ],
   "metadata": {
    "collapsed": false,
    "ExecuteTime": {
     "end_time": "2025-02-21T10:38:44.733543700Z",
     "start_time": "2025-02-21T10:38:44.729022800Z"
    }
   },
   "id": "1ea89102af200b96"
  },
  {
   "cell_type": "code",
   "execution_count": 9,
   "outputs": [
    {
     "name": "stdout",
     "output_type": "stream",
     "text": [
      "3\n",
      "4\n",
      "5\n",
      "6\n",
      "7\n",
      "8\n",
      "9\n",
      "10\n",
      "100\n",
      "101\n"
     ]
    }
   ],
   "source": [
    "counter1 = counter(3, 10)\n",
    "\n",
    "for i in counter1:\n",
    "    print(i)\n",
    "\n",
    "counter2 = counter(100, 103)\n",
    "print(next(counter2))\n",
    "print(next(counter2))"
   ],
   "metadata": {
    "collapsed": false,
    "ExecuteTime": {
     "end_time": "2025-02-21T10:39:09.131209100Z",
     "start_time": "2025-02-21T10:39:09.128692300Z"
    }
   },
   "id": "99f3f69cd14d6b4"
  },
  {
   "cell_type": "markdown",
   "source": [
    "Ручная реализация соответствующего класса итератора"
   ],
   "metadata": {
    "collapsed": false
   },
   "id": "a567436fe31d9e98"
  },
  {
   "cell_type": "code",
   "execution_count": null,
   "outputs": [],
   "source": [
    "class Counter:\n",
    "    def __init__(self, low, high):\n",
    "        self.low = low\n",
    "        self.high = high\n",
    "\n",
    "    def __iter__(self):\n",
    "        return self\n",
    "\n",
    "    def __next__(self):\n",
    "        if self.low > self.high:\n",
    "            raise StopIteration\n",
    "        else:\n",
    "            self.low += 1\n",
    "            return self.low - 1"
   ],
   "metadata": {
    "collapsed": false
   },
   "id": "c56e21c001bc4ad6"
  },
  {
   "cell_type": "markdown",
   "source": [
    "Пример 2. Реализуем функцию генератор even_numbers(), которая возвращает генератор, порождающий бесконечную последовательность целых четных чисел от значения begin. Значение begin передается в качестве аргумента в функцию генератор."
   ],
   "metadata": {
    "collapsed": false
   },
   "id": "528b5c02e1bb003f"
  },
  {
   "cell_type": "code",
   "execution_count": 10,
   "outputs": [],
   "source": [
    "def even_numbers(begin):\n",
    "    begin += begin % 2\n",
    "    while True:\n",
    "        yield begin\n",
    "        begin += 2"
   ],
   "metadata": {
    "collapsed": false,
    "ExecuteTime": {
     "end_time": "2025-02-21T10:44:12.849826700Z",
     "start_time": "2025-02-21T10:44:12.844309200Z"
    }
   },
   "id": "e6548599318c76ef"
  },
  {
   "cell_type": "code",
   "execution_count": 11,
   "outputs": [
    {
     "name": "stdout",
     "output_type": "stream",
     "text": [
      "10\n",
      "12\n",
      "14\n",
      "16\n",
      "18\n",
      "20\n",
      "102\n",
      "104\n",
      "106\n",
      "108\n"
     ]
    }
   ],
   "source": [
    "evens1 = even_numbers(10)  # все четные числа от 10 до бесконечности\n",
    "\n",
    "for index, num in enumerate(evens1):\n",
    "    if index > 5:\n",
    "        break\n",
    "    print(num)\n",
    "\n",
    "evens2 = even_numbers(101)  # все четные числа от 102 до бесконечности\n",
    "\n",
    "print(next(evens2))\n",
    "print(next(evens2))\n",
    "print(next(evens2))\n",
    "print(next(evens2))"
   ],
   "metadata": {
    "collapsed": false,
    "ExecuteTime": {
     "end_time": "2025-02-21T10:44:20.772417300Z",
     "start_time": "2025-02-21T10:44:20.769402500Z"
    }
   },
   "id": "f88928ace08dd6d9"
  },
  {
   "cell_type": "markdown",
   "source": [
    "Ручная реализация соответствующего класса итератора"
   ],
   "metadata": {
    "collapsed": false
   },
   "id": "a2a4796d937bda75"
  },
  {
   "cell_type": "code",
   "execution_count": null,
   "outputs": [],
   "source": [
    "class EvenNumbers:\n",
    "    def __init__(self, begin):\n",
    "        self.begin = begin + begin % 2\n",
    "\n",
    "    def __iter__(self):\n",
    "        return self\n",
    "\n",
    "    def __next__(self):\n",
    "        value = self.begin\n",
    "        self.begin += 2\n",
    "        return value"
   ],
   "metadata": {
    "collapsed": false
   },
   "id": "84509e2255a5a276"
  },
  {
   "cell_type": "markdown",
   "source": [
    "Пример 3. Реализуем функцию генератор string_wrapper(), которая возвращает генератор, порождающий последовательность символов строки text, обрамленных специальным символом symbol. Значения text  и symbol передаются в качестве аргументов в функцию генератор."
   ],
   "metadata": {
    "collapsed": false
   },
   "id": "903eff12c76f3786"
  },
  {
   "cell_type": "code",
   "execution_count": 12,
   "outputs": [],
   "source": [
    "def string_wrapper(text, symbol):\n",
    "    for char in text:\n",
    "        yield symbol + char + symbol"
   ],
   "metadata": {
    "collapsed": false,
    "ExecuteTime": {
     "end_time": "2025-02-21T10:48:17.651039300Z",
     "start_time": "2025-02-21T10:48:17.648356900Z"
    }
   },
   "id": "93d8c470d683b866"
  },
  {
   "cell_type": "code",
   "execution_count": 13,
   "outputs": [
    {
     "name": "stdout",
     "output_type": "stream",
     "text": [
      "~b~\n",
      "~e~\n",
      "~e~\n",
      "~g~\n",
      "~e~\n",
      "~e~\n",
      "~k~\n",
      "+P+\n",
      "+y+\n",
      "+t+\n",
      "['-s-', '-t-', '-e-', '-p-', '-i-', '-k-']\n"
     ]
    }
   ],
   "source": [
    "string_wrapper1 = string_wrapper('beegeek', '~')\n",
    "\n",
    "for char in string_wrapper1:\n",
    "    print(char)\n",
    "\n",
    "string_wrapper2 = string_wrapper('Python', '+')\n",
    "print(next(string_wrapper2))\n",
    "print(next(string_wrapper2))\n",
    "print(next(string_wrapper2))\n",
    "\n",
    "print(list(string_wrapper('stepik', '-')))"
   ],
   "metadata": {
    "collapsed": false,
    "ExecuteTime": {
     "end_time": "2025-02-21T10:48:27.097620400Z",
     "start_time": "2025-02-21T10:48:27.093470400Z"
    }
   },
   "id": "fc97bcbf49fcbed2"
  },
  {
   "cell_type": "markdown",
   "source": [
    "Ручная реализация соответствующего класса итератора"
   ],
   "metadata": {
    "collapsed": false
   },
   "id": "9dcde09bf325cc0a"
  },
  {
   "cell_type": "code",
   "execution_count": null,
   "outputs": [],
   "source": [
    "class StringWrapper:\n",
    "    def __init__(self, text, symbol):\n",
    "        self.text = text\n",
    "        self.symbol = symbol\n",
    "        self.index = -1\n",
    "\n",
    "    def __iter__(self):\n",
    "        return self\n",
    "\n",
    "    def __next__(self):\n",
    "        self.index += 1\n",
    "        if self.index == len(self.text):\n",
    "            raise StopIteration\n",
    "        return self.symbol + self.text[self.index] + self.symbol"
   ],
   "metadata": {
    "collapsed": false
   },
   "id": "413e05d76285d3a1"
  },
  {
   "cell_type": "markdown",
   "source": [
    "Пример 4. Реализуем функцию генератор factorials(), которая возвращает генератор, порождающий бесконечную последовательность факториалов всех натуральных чисел (от 1 до бесконечности). Функция генератор не принимает аргументов."
   ],
   "metadata": {
    "collapsed": false
   },
   "id": "2b0c3fb89461f7ca"
  },
  {
   "cell_type": "code",
   "execution_count": 14,
   "outputs": [],
   "source": [
    "def factorials():\n",
    "    value = 1\n",
    "    index = 1\n",
    "    while True:\n",
    "        yield value\n",
    "        index += 1\n",
    "        value *= index"
   ],
   "metadata": {
    "collapsed": false,
    "ExecuteTime": {
     "end_time": "2025-02-21T10:49:54.329981800Z",
     "start_time": "2025-02-21T10:49:54.326726300Z"
    }
   },
   "id": "99c43fca979dcbcf"
  },
  {
   "cell_type": "code",
   "execution_count": null,
   "outputs": [
    {
     "name": "stdout",
     "output_type": "stream",
     "text": [
      "Факториал числа 1 равен 1\n",
      "Факториал числа 2 равен 2\n",
      "Факториал числа 3 равен 6\n",
      "Факториал числа 4 равен 24\n",
      "Факториал числа 5 равен 120\n",
      "Факториал числа 6 равен 720\n",
      "Факториал числа 7 равен 5040\n",
      "Факториал числа 8 равен 40320\n",
      "Факториал числа 9 равен 362880\n",
      "Факториал числа 10 равен 3628800\n"
     ]
    }
   ],
   "source": [
    "infinite_factorials = factorials()\n",
    "\n",
    "for index, num in enumerate(infinite_factorials, 1):\n",
    "    if index <= 10:\n",
    "        print(f'Факториал числа {index} равен {num}')"
   ],
   "metadata": {
    "collapsed": false,
    "is_executing": true,
    "ExecuteTime": {
     "start_time": "2025-02-21T10:49:56.683369900Z"
    }
   },
   "id": "6993aeb2dfd1ba71"
  },
  {
   "cell_type": "markdown",
   "source": [
    "Ручная реализация соответствующего класса итератора"
   ],
   "metadata": {
    "collapsed": false
   },
   "id": "aa0810a9e95b42d3"
  },
  {
   "cell_type": "code",
   "execution_count": null,
   "outputs": [],
   "source": [
    "class Factorials:\n",
    "    def __init__(self):\n",
    "        self.value = 1\n",
    "        self.index = 1\n",
    "\n",
    "    def __iter__(self):\n",
    "        return self\n",
    "\n",
    "    def __next__(self):\n",
    "        self.value *= self.index\n",
    "        self.index += 1\n",
    "        return self.value"
   ],
   "metadata": {
    "collapsed": false
   },
   "id": "28ed869a6747ed0c"
  },
  {
   "cell_type": "markdown",
   "source": [
    "Примечания"
   ],
   "metadata": {
    "collapsed": false
   },
   "id": "9245ca3da5478322"
  },
  {
   "cell_type": "markdown",
   "source": [
    "Примечание 1. Функция генератор и генераторная функция – это одно и то же."
   ],
   "metadata": {
    "collapsed": false
   },
   "id": "c504185b3d6b9a40"
  },
  {
   "cell_type": "markdown",
   "source": [
    "Примечание 2. Любой итератор является итерируемым объектом, в то время как любой генератор является итератором, а значит и итерируемым объектом."
   ],
   "metadata": {
    "collapsed": false
   },
   "id": "73cdfd2fdc582d65"
  },
  {
   "cell_type": "code",
   "execution_count": 1,
   "outputs": [
    {
     "data": {
      "image/png": "[encoded data removed]",
      "text/plain": "<IPython.core.display.Image object>"
     },
     "metadata": {},
     "output_type": "display_data"
    }
   ],
   "source": [
    "from functions import picture\n",
    "\n",
    "picture('Новый пdfgdfgроект.png')"
   ],
   "metadata": {
    "collapsed": false,
    "ExecuteTime": {
     "end_time": "2025-02-21T10:51:45.825736100Z",
     "start_time": "2025-02-21T10:51:45.817115Z"
    }
   },
   "id": "f69a2a359cbc0cd9"
  },
  {
   "cell_type": "code",
   "execution_count": 2,
   "outputs": [
    {
     "name": "stdout",
     "output_type": "stream",
     "text": [
      "['__class__', '__del__', '__delattr__', '__dir__', '__doc__', '__eq__', '__format__', '__ge__', '__getattribute__', '__getstate__', '__gt__', '__hash__', '__init__', '__init_subclass__', '__iter__', '__le__', '__lt__', '__name__', '__ne__', '__new__', '__next__', '__qualname__', '__reduce__', '__reduce_ex__', '__repr__', '__setattr__', '__sizeof__', '__str__', '__subclasshook__', 'close', 'gi_code', 'gi_frame', 'gi_running', 'gi_suspended', 'gi_yieldfrom', 'send', 'throw']\n"
     ]
    }
   ],
   "source": [
    "def generate_1():\n",
    "    yield 1\n",
    "\n",
    "\n",
    "gen = generate_1()\n",
    "\n",
    "print(dir(gen))"
   ],
   "metadata": {
    "collapsed": false,
    "ExecuteTime": {
     "end_time": "2025-02-21T10:52:05.584373700Z",
     "start_time": "2025-02-21T10:52:05.579934900Z"
    }
   },
   "id": "6942b6f51e074204"
  },
  {
   "cell_type": "markdown",
   "source": [
    "выводит список всех атрибутов генератора, среди которых есть методы __iter__() и __next__():"
   ],
   "metadata": {
    "collapsed": false
   },
   "id": "9c378b1aed2e2e9"
  },
  {
   "cell_type": "markdown",
   "source": [
    "Примечание 4. Итерируемый объект и итератор – это протоколы, то есть правила реализации. Генератор – это не протокол, а конкретная реализация. Это специальный механизм в языке Python, который позволяет создать однократно перебираемую функцию, логика перебора которой легко и красиво описывается."
   ],
   "metadata": {
    "collapsed": false
   },
   "id": "a84c98fb2bb9b93e"
  },
  {
   "cell_type": "markdown",
   "source": [
    "Примечание 5. Единственное синтаксическое различие между обычной функцией и функцией генератором – тот факт, что в теле последней встречается ключевое слово yield. Многие разработчики из команды Python считали, что для функций генераторов следовало бы ввести новое ключевое слово gen вместо def, но Гвидо не согласился."
   ],
   "metadata": {
    "collapsed": false
   },
   "id": "bdde7e969cc58995"
  },
  {
   "cell_type": "code",
   "execution_count": 3,
   "outputs": [
    {
     "ename": "StopIteration",
     "evalue": "",
     "output_type": "error",
     "traceback": [
      "\u001B[1;31m---------------------------------------------------------------------------\u001B[0m",
      "\u001B[1;31mStopIteration\u001B[0m                             Traceback (most recent call last)",
      "Cell \u001B[1;32mIn[3], line 11\u001B[0m\n\u001B[0;32m      8\u001B[0m \u001B[38;5;28mnext\u001B[39m(generator)\n\u001B[0;32m      9\u001B[0m \u001B[38;5;28mnext\u001B[39m(generator)\n\u001B[1;32m---> 11\u001B[0m \u001B[38;5;28mprint\u001B[39m(\u001B[38;5;28;43mnext\u001B[39;49m\u001B[43m(\u001B[49m\u001B[43mgenerator\u001B[49m\u001B[43m)\u001B[49m)\n",
      "\u001B[1;31mStopIteration\u001B[0m: "
     ]
    }
   ],
   "source": [
    "def bee():\n",
    "    for char in 'bee':\n",
    "        yield char\n",
    "\n",
    "\n",
    "generator = bee()\n",
    "\n",
    "next(generator)\n",
    "next(generator)\n",
    "next(generator)\n",
    "\n",
    "print(next(generator))"
   ],
   "metadata": {
    "collapsed": false,
    "ExecuteTime": {
     "end_time": "2025-02-21T12:44:45.584707400Z",
     "start_time": "2025-02-21T12:44:45.331501Z"
    }
   },
   "id": "c5b9ddc91053e94b"
  },
  {
   "cell_type": "markdown",
   "source": [
    "вызов функции-генератора вернет нам итератор (думаю, именно по этому они и называются генераторами).\n",
    "\n",
    "То есть, чтобы его начать использовать \"как хотелось бы\", его сначала нужно куда-то \"записать\".\n",
    "\n",
    "В противном же случае - мы будем каждый раз создавать новые итераторы."
   ],
   "metadata": {
    "collapsed": false
   },
   "id": "731aabe0f97a5df3"
  },
  {
   "cell_type": "code",
   "execution_count": 4,
   "outputs": [
    {
     "name": "stdout",
     "output_type": "stream",
     "text": [
      "b\n",
      "b\n",
      "b\n"
     ]
    }
   ],
   "source": [
    "def bee():\n",
    "    yield 'b'\n",
    "    yield 'e'\n",
    "    yield 'e'\n",
    "\n",
    "\n",
    "print(next(bee()))\n",
    "print(next(bee()))\n",
    "print(next(bee()))"
   ],
   "metadata": {
    "collapsed": false,
    "ExecuteTime": {
     "end_time": "2025-02-21T12:47:43.222332700Z",
     "start_time": "2025-02-21T12:47:43.215178500Z"
    }
   },
   "id": "5d62066527bb5322"
  },
  {
   "cell_type": "code",
   "execution_count": 5,
   "outputs": [
    {
     "name": "stdout",
     "output_type": "stream",
     "text": [
      "b\n"
     ]
    }
   ],
   "source": [
    "def bee():\n",
    "    yield 'b'\n",
    "    yield 'e'\n",
    "    return 'e'\n",
    "\n",
    "\n",
    "next(bee())\n",
    "next(bee())\n",
    "\n",
    "print(next(bee()))"
   ],
   "metadata": {
    "collapsed": false,
    "ExecuteTime": {
     "end_time": "2025-02-21T12:50:57.058915600Z",
     "start_time": "2025-02-21T12:50:57.054876Z"
    }
   },
   "id": "1c643475456c2ed3"
  },
  {
   "cell_type": "markdown",
   "source": [
    "Функция simple_sequence()\n",
    "Реализуйте генераторную функцию simple_sequence(), которая не принимает никаких аргументов.\n",
    "\n",
    "Функция должна возвращать генератор, порождающий бесконечную возрастающую последовательность натуральных чисел, в которой каждое число встречается столько раз, каково оно:\n",
    "1,2,2,3,3,3,4,4,4,4,.."
   ],
   "metadata": {
    "collapsed": false
   },
   "id": "b4bc3edae6dccb91"
  },
  {
   "cell_type": "code",
   "execution_count": 15,
   "outputs": [
    {
     "name": "stdout",
     "output_type": "stream",
     "text": [
      "1\n",
      "2\n",
      "1 2 2 3 3 3 4 4 4 4\n"
     ]
    }
   ],
   "source": [
    "def simple_sequence():\n",
    "    index = 0\n",
    "    while True:\n",
    "        index += 1\n",
    "        for _ in range(index):\n",
    "            yield str(index)\n",
    "\n",
    "\n",
    "generator = simple_sequence()\n",
    "print(next(generator))\n",
    "print(next(generator))\n",
    "\n",
    "generator = simple_sequence()\n",
    "numbers = [next(generator) for _ in range(10)]\n",
    "print(*numbers)"
   ],
   "metadata": {
    "collapsed": false,
    "ExecuteTime": {
     "end_time": "2025-02-24T05:41:38.033682500Z",
     "start_time": "2025-02-24T05:41:38.031160900Z"
    }
   },
   "id": "f9437471af8e83ac"
  },
  {
   "cell_type": "code",
   "execution_count": null,
   "outputs": [],
   "source": [
    "def simple_sequence():\n",
    "    count = 1\n",
    "\n",
    "    while True:\n",
    "        yield from (count for i in range(count))\n",
    "        count += 1"
   ],
   "metadata": {
    "collapsed": false
   },
   "id": "c2997ddebdefb918"
  },
  {
   "cell_type": "markdown",
   "source": [
    "Слово from в контексте yield from — это особая конструкция в Python, которая была введена в Python 3.3 и служит для упрощения работы с вложенными генераторами или итераторами.\n",
    "yield from позволяет делегировать выполнение одному итератору или генератору внутри другого. Это позволяет более эффективно передавать значения из одного генератора в другой, устраняя необходимость писать дополнительные циклы или использовать yield в цикле вручную.\n",
    "Синтаксис:\n",
    "yield from <iterable>\n",
    "Вложенные генераторы: Когда вы используете yield from, Python берет все значения из переданного итератора (например, генератора) и поочередно \"выдает\" их в текущем контексте. Это позволяет вам «делегировать» генерацию значений другому итератору без явного использования циклов.\n",
    "yield from автоматически обрабатывает завершение вложенного итератора, так что вам не нужно вручную следить за состоянием итератора.\n",
    "При использовании yield from исключения передаются вложенным генераторам, что упрощает управление ошибками."
   ],
   "metadata": {
    "collapsed": false
   },
   "id": "4c5cb7e972ef2e1"
  },
  {
   "cell_type": "markdown",
   "source": [
    "Функция alternating_sequence()\n",
    "Реализуйте генераторную функцию alternating_sequence(), которая принимает один аргумент:\n",
    "\n",
    "count — натуральное число, по умолчанию имеет значение None\n",
    "Если count имеет значение None, функция должна возвращать генератор, порождающий бесконечный знакочередующийся ряд натуральных чисел.\n",
    "\n",
    "Если count имеет в качестве значения натуральное число, функция должна возвращать генератор, порождающий первые count чисел знакочередующегося ряда натуральных чисел, а затем возбуждающий исключение StopIteration.\n",
    "\n",
    "Примечание 1. Знакочередующийся ряд натуральных чисел имеет вид:\n",
    "1,−2,3,−4,5,−6,7,−8,9,−10,..."
   ],
   "metadata": {
    "collapsed": false
   },
   "id": "ee8748a079634921"
  },
  {
   "cell_type": "code",
   "execution_count": 42,
   "outputs": [
    {
     "name": "stdout",
     "output_type": "stream",
     "text": [
      "1\n",
      "-2\n",
      "1 -2 3 -4 5 -6 7 -8 9 -10\n"
     ]
    }
   ],
   "source": [
    "def alternating_sequence(count=None):\n",
    "    index = 0\n",
    "    if count is None:\n",
    "        while True:\n",
    "            index += 1\n",
    "            if index % 2 == 0:\n",
    "                yield -index\n",
    "            else:\n",
    "                yield index\n",
    "    else:\n",
    "        for _ in range(count):\n",
    "            index += 1\n",
    "            if index % 2 == 0:\n",
    "                yield -index\n",
    "            else:\n",
    "                yield index\n",
    "\n",
    "\n",
    "generator = alternating_sequence()\n",
    "print(next(generator))\n",
    "print(next(generator))\n",
    "\n",
    "generator = alternating_sequence(10)\n",
    "print(*generator)"
   ],
   "metadata": {
    "collapsed": false,
    "ExecuteTime": {
     "end_time": "2025-02-24T06:43:40.622623500Z",
     "start_time": "2025-02-24T06:43:40.606104300Z"
    }
   },
   "id": "6d9be56aed35eaaa"
  },
  {
   "cell_type": "code",
   "execution_count": null,
   "outputs": [],
   "source": [
    "def alternating_sequence(count=None):\n",
    "    index = 0\n",
    "    while count is None or index < count:\n",
    "        index += 1\n",
    "        yield -index if index % 2 == 0 else index"
   ],
   "metadata": {
    "collapsed": false
   },
   "id": "5da131d8eeeffbdd"
  },
  {
   "cell_type": "code",
   "execution_count": null,
   "outputs": [],
   "source": [
    "def alternating_sequence(count=None, n=0):\n",
    "    while n != count:\n",
    "        n += 1\n",
    "        yield n if n % 2 else -n"
   ],
   "metadata": {
    "collapsed": false
   },
   "id": "fedbb7956a034a60"
  },
  {
   "cell_type": "markdown",
   "source": [
    "Функция primes()\n",
    "Реализуйте генераторную функцию primes(), которая принимает два аргумента в следующем порядке:\n",
    "\n",
    "left — натуральное число\n",
    "right — натуральное число\n",
    "Функция должна возвращать генератор, порождающий последовательность простых чисел от left до right включительно, а затем возбуждающий исключение StopIteration.\n",
    "\n",
    "Примечание 1. Гарантируется, что left <= right.\n",
    "\n",
    "Примечание 2. Простое число — натуральное число, имеющее ровно два различных натуральных делителя — единицу и самого себя. Единица простым числом не является. "
   ],
   "metadata": {
    "collapsed": false
   },
   "id": "fb34e731e5eaf9f2"
  },
  {
   "cell_type": "code",
   "execution_count": 43,
   "outputs": [
    {
     "name": "stdout",
     "output_type": "stream",
     "text": [
      "2 3 5 7 11 13\n",
      "7\n",
      "11\n"
     ]
    }
   ],
   "source": [
    "def primes(left: int, right: int):\n",
    "    for i in range(left, right + 1):\n",
    "        if sum(i % j == 0 for j in range(1, i + 1)) == 2:\n",
    "            yield i\n",
    "\n",
    "\n",
    "generator = primes(1, 15)\n",
    "print(*generator)\n",
    "\n",
    "generator = primes(6, 36)\n",
    "print(next(generator))\n",
    "print(next(generator))"
   ],
   "metadata": {
    "collapsed": false,
    "ExecuteTime": {
     "end_time": "2025-02-24T06:56:42.261380Z",
     "start_time": "2025-02-24T06:56:42.258856800Z"
    }
   },
   "id": "e6307f1856c00c65"
  },
  {
   "cell_type": "code",
   "execution_count": null,
   "outputs": [],
   "source": [
    "from sympy import isprime\n",
    "\n",
    "\n",
    "def primes(left, right):\n",
    "    yield from (i for i in range(left, right + 1) if isprime(i))"
   ],
   "metadata": {
    "collapsed": false
   },
   "id": "dfae45ad662295b7"
  },
  {
   "cell_type": "markdown",
   "source": [
    "Функция reverse()\n",
    "Реализуйте генераторную функцию reverse(), которая принимает один аргумент:\n",
    "\n",
    "sequence — последовательность\n",
    "Функция должна возвращать генератор, порождающий элементы последовательности sequence в обратном порядке, а затем возбуждающий исключение StopIteration.\n",
    "\n",
    "Примечание 1. Последовательностью является коллекция, поддерживающая индексацию и имеющая длину. Например, объекты типа list, str, tuple являются последовательностями."
   ],
   "metadata": {
    "collapsed": false
   },
   "id": "acd3ea0508f05e73"
  },
  {
   "cell_type": "code",
   "execution_count": 48,
   "outputs": [
    {
     "name": "stdout",
     "output_type": "stream",
     "text": [
      "5 4 3 2 1\n",
      "<class 'generator'>\n",
      "k e e g e e b\n"
     ]
    }
   ],
   "source": [
    "def reverse(sequence):\n",
    "    yield from sequence[::-1]\n",
    "\n",
    "\n",
    "print(*reverse([1, 2, 3, 4, 5]))\n",
    "\n",
    "generator = reverse('beegeek')\n",
    "print(type(generator))\n",
    "print(*generator)"
   ],
   "metadata": {
    "collapsed": false,
    "ExecuteTime": {
     "end_time": "2025-02-24T07:30:56.041783900Z",
     "start_time": "2025-02-24T07:30:56.036267500Z"
    }
   },
   "id": "b2bb2aec3c853594"
  },
  {
   "cell_type": "markdown",
   "source": [
    "Функция dates()\n",
    "Реализуйте генераторную функцию dates(), которая принимает два аргумента в следующем порядке:\n",
    "\n",
    "start — дата, тип date\n",
    "count — натуральное число, по умолчанию имеет значение None\n",
    "Если count имеет значение None, функция должна возвращать генератор, порождающий последовательность из максимально допустимого количества дат (тип date), начиная с даты start.\n",
    "\n",
    "Если count имеет в качестве значения натуральное число, функция должна возвращать генератор, порождающий последовательность из count дат (тип date), начиная с даты start, а затем возбуждающий исключение StopIteration."
   ],
   "metadata": {
    "collapsed": false
   },
   "id": "4d3e095a32199aa4"
  },
  {
   "cell_type": "code",
   "execution_count": 126,
   "outputs": [
    {
     "name": "stdout",
     "output_type": "stream",
     "text": [
      "9999-12-21\n",
      "9999-12-22\n",
      "9999-12-23\n",
      "9999-12-24\n",
      "9999-12-25\n",
      "9999-12-26\n",
      "9999-12-27\n",
      "9999-12-28\n",
      "9999-12-29\n",
      "9999-12-30\n",
      "9999-12-31\n",
      "Error\n"
     ]
    }
   ],
   "source": [
    "from datetime import date, timedelta\n",
    "\n",
    "def dates(start: date, count: int = None):\n",
    "    out = start\n",
    "    max_date = date(9999, 12, 31)\n",
    "    \n",
    "    if count is None:\n",
    "        while out <= max_date:\n",
    "            yield out.strftime('%Y-%m-%d')\n",
    "            if out >= max_date:\n",
    "                break\n",
    "            out += timedelta(days=1)\n",
    "    else:\n",
    "        for _ in range(count):\n",
    "            yield out\n",
    "            if out >= max_date:\n",
    "                break\n",
    "            out += timedelta(days=1)\n",
    "\n",
    "# generator = dates(date(2022, 3, 8))\n",
    "# print(next(generator))\n",
    "# print(next(generator))\n",
    "# print(next(generator))\n",
    "# \n",
    "# generator = dates(date(2022, 3, 8), 5)\n",
    "# print(*generator)\n",
    "\n",
    "# generator = dates(date(2024, 9, 13), 1)\n",
    "# try:\n",
    "#     d = next(generator)\n",
    "#     print(type(d))\n",
    "#     print(d)\n",
    "#     next(generator)\n",
    "# except StopIteration:\n",
    "#     print('Error')\n",
    "\n",
    "generator = dates(date(9999, 1, 7))\n",
    "for _ in range(348):\n",
    "    next(generator)\n",
    "print(next(generator))\n",
    "print(next(generator))\n",
    "print(next(generator))\n",
    "print(next(generator))\n",
    "print(next(generator))\n",
    "print(next(generator))\n",
    "print(next(generator))\n",
    "print(next(generator))\n",
    "print(next(generator))\n",
    "print(next(generator))\n",
    "print(next(generator))\n",
    "try:\n",
    "    print(next(generator))\n",
    "except StopIteration:\n",
    "    print('Error')"
   ],
   "metadata": {
    "collapsed": false,
    "ExecuteTime": {
     "end_time": "2025-02-24T08:42:13.640694500Z",
     "start_time": "2025-02-24T08:42:13.635645200Z"
    }
   },
   "id": "35a26fb0121ecab7"
  },
  {
   "cell_type": "code",
   "execution_count": null,
   "outputs": [],
   "source": [
    "from datetime import date, timedelta\n",
    "\n",
    "def dates(start, count=None):\n",
    "    idx = 0\n",
    "    while idx != count:\n",
    "        yield start\n",
    "        try:\n",
    "            start = start + timedelta(days=1)\n",
    "        except:\n",
    "            return\n",
    "        idx += 1"
   ],
   "metadata": {
    "collapsed": false
   },
   "id": "edbee4e19b9364eb"
  },
  {
   "cell_type": "code",
   "execution_count": null,
   "outputs": [],
   "source": [
    "from datetime import date, timedelta\n",
    "\n",
    "def dates(start, count=None):\n",
    "    if count is None:\n",
    "        count = (date.max - start).days + 1\n",
    "    yield from (start + timedelta(days=day) for day in range(count))"
   ],
   "metadata": {
    "collapsed": false
   },
   "id": "eb57209c729f4a60"
  },
  {
   "cell_type": "markdown",
   "source": [
    "Функция card_deck()\n",
    "Реализуйте генераторную функцию card_deck(), которая принимает один аргумент:\n",
    "\n",
    "suit — одна из четырех карточных мастей: пик, треф, бубен, червей\n",
    "Функция должна возвращать генератор, циклично порождающий колоду игральных карт без масти suit. Каждая карта должна представлять собой строку в следующем формате:\n",
    "\n",
    "<номинал> <масть>\n",
    "Например, 7 пик, валет треф, дама бубен, король червей, туз пик.\n",
    "\n",
    "Примечание 1. Карты, генерируемые итератором, должны располагаться сначала по величине масти, затем номинала.\n",
    "\n",
    "Примечание 2. Старшинство мастей по возрастанию: пики, трефы, бубны, червы. Старшинство карт в масти по возрастанию: двойка, тройка, четверка, пятерка, шестерка, семерка, восьмерка, девятка, десятка, валет, дама, король, туз.\n",
    "\n",
    "Примечание 3. Масти не требуют склонения и независимо от номинала должны сохранять следующее написание: пик, треф, бубен, червей"
   ],
   "metadata": {
    "collapsed": false
   },
   "id": "44d6409c8f88bd7b"
  },
  {
   "cell_type": "code",
   "execution_count": 147,
   "outputs": [
    {
     "name": "stdout",
     "output_type": "stream",
     "text": [
      "2 пик 3 пик 4 пик 5 пик 6 пик 7 пик 8 пик 9 пик 10 пик валет пик дама пик король пик туз пик 2 бубен 3 бубен 4 бубен 5 бубен 6 бубен 7 бубен 8 бубен 9 бубен 10 бубен валет бубен дама бубен король бубен туз бубен 2 червей 3 червей 4 червей 5 червей 6 червей 7 червей 8 червей 9 червей 10 червей валет червей дама червей король червей туз червей 2 пик\n"
     ]
    }
   ],
   "source": [
    "def card_deck(suit: str):\n",
    "    valid_suits = [\"пик\", \"треф\", \"бубен\", \"червей\"]\n",
    "    card_values = [\"2\", \"3\", \"4\", \"5\", \"6\", \"7\", \"8\", \"9\", \"10\", \"валет\", \"дама\", \"король\", \"туз\"]\n",
    "    result = [f'{j} {i}' for i in valid_suits for j in card_values if i != suit]\n",
    "    index = 0\n",
    "    while True:\n",
    "        yield result[index%len(result)]\n",
    "        index += 1\n",
    "\n",
    "\n",
    "    \n",
    "\n",
    "# generator = card_deck('пик')\n",
    "# print(next(generator))\n",
    "# print(next(generator))\n",
    "# print(next(generator))\n",
    "\n",
    "generator = card_deck('треф')\n",
    "cards = [next(generator) for _ in range(40)]\n",
    "print(*cards)"
   ],
   "metadata": {
    "collapsed": false,
    "ExecuteTime": {
     "end_time": "2025-02-24T09:15:40.206131400Z",
     "start_time": "2025-02-24T09:15:40.195933Z"
    }
   },
   "id": "cccaebdd6d827489"
  },
  {
   "cell_type": "code",
   "execution_count": null,
   "outputs": [],
   "source": [
    "from itertools import cycle\n",
    "\n",
    "def card_deck(suit):\n",
    "    suit_new = ['пик', 'треф', 'бубен', 'червей']\n",
    "    suit_new.remove(suit)\n",
    "    values = (*map(str, range(2, 11)), 'валет', 'дама', 'король', 'туз')\n",
    "    deck = (f'{k} {i}' for i in suit_new for k in values)\n",
    "    yield from cycle(deck)"
   ],
   "metadata": {
    "collapsed": false
   },
   "id": "19a8535d6f742687"
  },
  {
   "cell_type": "markdown",
   "source": [
    "Конструкция yield from"
   ],
   "metadata": {
    "collapsed": false
   },
   "id": "c25483a674226834"
  },
  {
   "cell_type": "markdown",
   "source": [
    "Рассмотрим генераторную функциюget_data(), которая порождает последовательность чисел 0, 1, 2, 3, 4, а затем символов A, B, C:"
   ],
   "metadata": {
    "collapsed": false
   },
   "id": "b9f783eb8cc9f9a6"
  },
  {
   "cell_type": "code",
   "execution_count": 148,
   "outputs": [
    {
     "name": "stdout",
     "output_type": "stream",
     "text": [
      "0\n",
      "1\n",
      "2\n",
      "3\n",
      "4\n",
      "A\n",
      "B\n",
      "C\n"
     ]
    }
   ],
   "source": [
    "def get_data():\n",
    "    for num in range(5):\n",
    "        yield num\n",
    "    for char in 'ABC':\n",
    "        yield char\n",
    "        \n",
    "for i in get_data():\n",
    "    print(i)"
   ],
   "metadata": {
    "collapsed": false,
    "ExecuteTime": {
     "end_time": "2025-02-24T10:50:23.733878700Z",
     "start_time": "2025-02-24T10:50:23.720884Z"
    }
   },
   "id": "94db8fe957ffa047"
  },
  {
   "cell_type": "markdown",
   "source": [
    "Генераторную функцию get_data() можно упростить, если использовать синтаксическую конструкцию yield from <iterable>, которая появилась в Python 3.3."
   ],
   "metadata": {
    "collapsed": false
   },
   "id": "9e02b1a4a968c5a6"
  },
  {
   "cell_type": "markdown",
   "source": [
    "Приведенный ниже код равнозначен первому определению генераторной функции get_data():"
   ],
   "metadata": {
    "collapsed": false
   },
   "id": "90983c5269919703"
  },
  {
   "cell_type": "code",
   "execution_count": null,
   "outputs": [],
   "source": [
    "def get_data():\n",
    "    yield from range(5)\n",
    "    yield from 'ABC'"
   ],
   "metadata": {
    "collapsed": false
   },
   "id": "6545d8c35937a8a"
  },
  {
   "cell_type": "markdown",
   "source": [
    "Таким образом, синтаксическая конструкция yield from <iterable> позволяет объединить две конструкции: yield и цикл for."
   ],
   "metadata": {
    "collapsed": false
   },
   "id": "1bf09fad559563ed"
  },
  {
   "cell_type": "markdown",
   "source": [
    "Реализуем генераторную функцию chain(*iterables), которая принимает произвольное количество итерируемых объектов и возвращает генератор, который последовательно порождает все значения сначала первого итерируемого объекта, затем второго, третьего и т.д."
   ],
   "metadata": {
    "collapsed": false
   },
   "id": "b542a79420c27923"
  },
  {
   "cell_type": "code",
   "execution_count": 149,
   "outputs": [
    {
     "name": "stdout",
     "output_type": "stream",
     "text": [
      "A B 1 2 4 5 name age "
     ]
    }
   ],
   "source": [
    "def chain(*iterables):\n",
    "    for it in iterables:\n",
    "        for value in it:\n",
    "            yield value\n",
    "\n",
    "for i in chain('AB', [1, 2], (4, 5), {'name': 'Timur', 'age': 29}):\n",
    "    print(i, end=' ')"
   ],
   "metadata": {
    "collapsed": false,
    "ExecuteTime": {
     "end_time": "2025-02-24T11:21:36.737351100Z",
     "start_time": "2025-02-24T11:21:36.725840Z"
    }
   },
   "id": "7bb8f2d93ea6d205"
  },
  {
   "cell_type": "markdown",
   "source": [
    "С помощью конструкции yield from <iterable> мы можем упростить тело генераторной функцииchain():"
   ],
   "metadata": {
    "collapsed": false
   },
   "id": "167958ff238df299"
  },
  {
   "cell_type": "code",
   "execution_count": null,
   "outputs": [],
   "source": [
    "def chain(*iterables):\n",
    "    for it in iterables:\n",
    "        yield from it"
   ],
   "metadata": {
    "collapsed": false
   },
   "id": "8397a9c2184cc915"
  },
  {
   "cell_type": "markdown",
   "source": [
    "Как мы видим, конструкция yield from полностью заменяет внутренний цикл for и код действительно смотрится несколько проще."
   ],
   "metadata": {
    "collapsed": false
   },
   "id": "49066c9edabce55c"
  },
  {
   "cell_type": "markdown",
   "source": [
    "Объединение конструкции yield и цикла for лишь часть возможностей yield from. На самом деле конструкция yield from позволяет вкладывать один генератор в другой, таким образом создавать субгенераторы (вложенные генераторы)."
   ],
   "metadata": {
    "collapsed": false
   },
   "id": "44abb3bfddbb15ea"
  },
  {
   "cell_type": "code",
   "execution_count": 150,
   "outputs": [
    {
     "name": "stdout",
     "output_type": "stream",
     "text": [
      "Green Red Blue Yellow Black "
     ]
    }
   ],
   "source": [
    "def generator2():\n",
    "    yield 'Red'\n",
    "    yield 'Blue'\n",
    "\n",
    "def generator1():\n",
    "    yield 'Green'\n",
    "    yield from generator2()            # запрашиваем значение из субгенератора\n",
    "    yield 'Yellow'\n",
    "    yield 'Black'\n",
    "\n",
    "for color in generator1():\n",
    "    print(color, end=' ')"
   ],
   "metadata": {
    "collapsed": false,
    "ExecuteTime": {
     "end_time": "2025-02-24T11:22:57.658180900Z",
     "start_time": "2025-02-24T11:22:57.645176300Z"
    }
   },
   "id": "8aaa98c3509754e9"
  },
  {
   "cell_type": "markdown",
   "source": [
    "Когда генератор generator1() вызывает yield from generator2(), субгенератор generator2() перехватывает управление и начинает отдавать значения туда, откуда был вызван generator1(). А тем временем generator1() остается блокированным в ожидании завершения generator2(). Таким образом, эффект получается таким же, как если бы тело субгенератора было встроено в месте, где находится выражение yield from."
   ],
   "metadata": {
    "collapsed": false
   },
   "id": "8ebd64a0b7f64f7e"
  },
  {
   "cell_type": "markdown",
   "source": [
    "Конструкция yield from позволяет программисту легко управлять сразу несколькими генераторами, настраивать их взаимодействие."
   ],
   "metadata": {
    "collapsed": false
   },
   "id": "72f6149fac6cf508"
  },
  {
   "cell_type": "markdown",
   "source": [
    "Рекурсивные функции генераторы"
   ],
   "metadata": {
    "collapsed": false
   },
   "id": "b7f740b9d15d13ed"
  },
  {
   "cell_type": "markdown",
   "source": [
    "Конструкции yield и yield from можно использовать для написания рекурсивных генераторов."
   ],
   "metadata": {
    "collapsed": false
   },
   "id": "31de9f570db4a434"
  },
  {
   "cell_type": "code",
   "execution_count": 151,
   "outputs": [],
   "source": [
    "def numbers(start):\n",
    "    if not isinstance(start, int):\n",
    "        raise TypeError('Аргументом должно быть целое число')\n",
    "    yield start\n",
    "    yield from numbers(start + 1)"
   ],
   "metadata": {
    "collapsed": false,
    "ExecuteTime": {
     "end_time": "2025-02-24T11:24:26.297287300Z",
     "start_time": "2025-02-24T11:24:26.290243300Z"
    }
   },
   "id": "5ff0cb2317d7ac3c"
  },
  {
   "cell_type": "markdown",
   "source": [
    "определяет бесконечный генератор numbers(start), который порождает все целые числа со значения start."
   ],
   "metadata": {
    "collapsed": false
   },
   "id": "4873eee79428785a"
  },
  {
   "cell_type": "code",
   "execution_count": 152,
   "outputs": [
    {
     "name": "stdout",
     "output_type": "stream",
     "text": [
      "3\n",
      "4\n",
      "5\n",
      "6\n",
      "7\n",
      "8\n"
     ]
    }
   ],
   "source": [
    "for index, number in enumerate(numbers(3)):\n",
    "    if index > 5:\n",
    "        break\n",
    "    print(number)"
   ],
   "metadata": {
    "collapsed": false,
    "ExecuteTime": {
     "end_time": "2025-02-24T11:24:47.773643400Z",
     "start_time": "2025-02-24T11:24:47.766093500Z"
    }
   },
   "id": "7a7d3ae2c4a7b5dc"
  },
  {
   "cell_type": "markdown",
   "source": [
    "Функция matrix_by_elem()\n",
    "Вам доступна генераторная функция matrix_by_elem(), которая принимает в качестве аргумента матрицу произвольной размерности и возвращает генератор, порождающий последовательность элементов переданной матрицы.\n",
    "\n",
    "Перепишете данную функцию с использованием конструкции yield from, чтобы она выполняла ту же задачу.\n",
    "\n",
    "Примечание 1. Под матрицей подразумеваются исключительно вложенные списки."
   ],
   "metadata": {
    "collapsed": false
   },
   "id": "e63b74896a2226ec"
  },
  {
   "cell_type": "code",
   "execution_count": null,
   "outputs": [],
   "source": [
    "def matrix_by_elem(matrix):\n",
    "    for row in matrix:\n",
    "        for elem in row:\n",
    "            yield elem\n",
    "            \n",
    "            \n",
    "def matrix_by_elem(matrix):\n",
    "    for row in matrix:\n",
    "        yield from row"
   ],
   "metadata": {
    "collapsed": false
   },
   "id": "33721d82e40ea8eb"
  },
  {
   "cell_type": "code",
   "execution_count": null,
   "outputs": [],
   "source": [
    "def matrix_by_elem(matrix):\n",
    "    yield from sum(matrix, [])"
   ],
   "metadata": {
    "collapsed": false
   },
   "id": "cf70e73c530f7666"
  },
  {
   "cell_type": "markdown",
   "source": [
    "у sum есть параметр start (по умолчанию 0), к которому прибавляются все элементы из итерируемого объекта. В данном случае просто к пустому списку последовательно прибавляются вложенные списки [] + [1, 2, 3] + [4, 5, 6] + [7, 8, 9], а из него уже берутся элементы с помощью yield"
   ],
   "metadata": {
    "collapsed": false
   },
   "id": "e30bb26b1dffc36"
  },
  {
   "cell_type": "markdown",
   "source": [
    "Функция palindromes()\n",
    "Реализуйте генераторную функцию palindromes(), которая не принимает никаких аргументов.\n",
    "\n",
    "Функция должна возвращать генератор, порождающий бесконечную последовательность натуральных чисел-палиндромов.\n",
    "\n",
    "Примечание 1. Число-палиндром — число, которое читается одинаково как справа налево, так и слева направо."
   ],
   "metadata": {
    "collapsed": false
   },
   "id": "986c3b4130a88ee5"
  },
  {
   "cell_type": "code",
   "execution_count": 1,
   "outputs": [
    {
     "name": "stdout",
     "output_type": "stream",
     "text": [
      "1\n",
      "2\n",
      "3\n",
      "1 2 3 4 5 6 7 8 9 11 22 33 44 55 66 77 88 99 101 111 121 131 141 151 161 171 181 191 202 212\n"
     ]
    }
   ],
   "source": [
    "def is_palindrome(n):\n",
    "    s = str(n)\n",
    "    return s == s[::-1]\n",
    "\n",
    "def palindromes():\n",
    "    n = 1\n",
    "    while True:\n",
    "        if is_palindrome(n):\n",
    "            yield n\n",
    "        n += 1\n",
    "        \n",
    "def palindromes():\n",
    "    yield from (i for i, _ in enumerate(iter(bool, True), 1) if is_palindrome(i))\n",
    "# bool() никогда не вернёт True, итератор становится бесконечным, возвращая False на каждой итерации.\n",
    "# 1 False\n",
    "# 2 False\n",
    "# 3 False\n",
    "\n",
    "generator = palindromes()\n",
    "print(next(generator))\n",
    "print(next(generator))\n",
    "print(next(generator))\n",
    "\n",
    "generator = palindromes()\n",
    "numbers = [next(generator) for _ in range(30)]\n",
    "print(*numbers)"
   ],
   "metadata": {
    "collapsed": false,
    "ExecuteTime": {
     "end_time": "2025-02-24T12:06:20.769385300Z",
     "start_time": "2025-02-24T12:06:20.767384800Z"
    }
   },
   "id": "248e0ae7a8321438"
  },
  {
   "cell_type": "code",
   "execution_count": null,
   "outputs": [],
   "source": [
    "from itertools import count\n",
    "\n",
    "def palindromes():\n",
    "    yield from (i for i in count(1) if str(i) == str(i)[::-1])"
   ],
   "metadata": {
    "collapsed": false
   },
   "id": "5678fe512621c374"
  },
  {
   "cell_type": "code",
   "execution_count": null,
   "outputs": [],
   "source": [
    "def palindromes():\n",
    "    count = 1\n",
    "    while True:\n",
    "        if str(count) == str(count)[::-1]:\n",
    "            yield count\n",
    "        count += 1"
   ],
   "metadata": {
    "collapsed": false
   },
   "id": "f8ff3c7d22ded09c"
  },
  {
   "cell_type": "markdown",
   "source": [
    "Функция flatten()\n",
    "Реализуйте генераторную функцию flatten(), которая принимает один аргумент:\n",
    "\n",
    "nested_list — список, элементами которого являются целые числа или списки, элементами которых, в свою очередь, также являются либо целые числа, либо списки; вложенность может быть произвольной\n",
    "Функция должна возвращать генератор, порождающий все числа, содержащиеся в nested_list, включая все числа из всех вложенных списков, а затем возбуждает исключение StopIteration."
   ],
   "metadata": {
    "collapsed": false
   },
   "id": "14bef33785c07699"
  },
  {
   "cell_type": "code",
   "execution_count": 8,
   "outputs": [
    {
     "name": "stdout",
     "output_type": "stream",
     "text": [
      "1 2 3 4 5\n",
      "1 2 3 4 5 6 7\n"
     ]
    }
   ],
   "source": [
    "def flatten(nested_list: list):\n",
    "    def inner(data):\n",
    "        if isinstance(data, int):\n",
    "            yield data\n",
    "        elif isinstance(data, list):\n",
    "            for i in data:\n",
    "                yield from inner(i)\n",
    "    yield from inner(nested_list)\n",
    "\n",
    "generator = flatten([[1, 2], [[3]], [[4], 5]])\n",
    "print(*generator)\n",
    "\n",
    "generator = flatten([1, 2, 3, 4, 5, 6, 7])\n",
    "print(*generator)"
   ],
   "metadata": {
    "collapsed": false,
    "ExecuteTime": {
     "end_time": "2025-02-24T12:15:58.090518Z",
     "start_time": "2025-02-24T12:15:58.074223Z"
    }
   },
   "id": "2e204387937e6dd2"
  },
  {
   "cell_type": "code",
   "execution_count": null,
   "outputs": [],
   "source": [
    "def flatten(nested_list):\n",
    "    for i in nested_list:\n",
    "        if isinstance(i, int):\n",
    "            yield i\n",
    "        else:\n",
    "            yield from flatten(i)"
   ],
   "metadata": {
    "collapsed": false
   },
   "id": "13b19e9e90b88d24"
  },
  {
   "cell_type": "code",
   "execution_count": null,
   "outputs": [],
   "source": [
    "def flatten(nested_list):\n",
    "    for i in nested_list:\n",
    "        yield from flatten(i) if isinstance(i, list) else (i,)"
   ],
   "metadata": {
    "collapsed": false
   },
   "id": "82ccc8931e0cae02"
  }
 ],
 "metadata": {
  "kernelspec": {
   "display_name": "Python 3",
   "language": "python",
   "name": "python3"
  },
  "language_info": {
   "codemirror_mode": {
    "name": "ipython",
    "version": 2
   },
   "file_extension": ".py",
   "mimetype": "text/x-python",
   "name": "python",
   "nbconvert_exporter": "python",
   "pygments_lexer": "ipython2",
   "version": "2.7.6"
  }
 },
 "nbformat": 4,
 "nbformat_minor": 5
}

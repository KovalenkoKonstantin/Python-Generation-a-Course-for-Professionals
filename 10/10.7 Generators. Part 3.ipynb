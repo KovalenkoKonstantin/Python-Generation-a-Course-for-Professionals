{
 "cells": [
  {
   "cell_type": "markdown",
   "source": [
    "Конвейеры генераторов"
   ],
   "metadata": {
    "collapsed": false
   },
   "id": "f627d0377902e5a7"
  },
  {
   "cell_type": "markdown",
   "source": [
    "Как мы уже знаем, у итераторов есть замечательная особенность: их можно комбинировать. Это позволяет вместо огромных циклов с перемешанными этапами обработки писать небольшие блоки, которые стыкуются друг с другом. К примеру, мы часто использовали встроенные функции filter() и map(), для того чтобы сначала отфильтровать данные, а затем их преобразовать."
   ],
   "metadata": {
    "collapsed": false
   },
   "id": "1b219b8b5e811d41"
  },
  {
   "cell_type": "code",
   "execution_count": 1,
   "outputs": [
    {
     "name": "stdout",
     "output_type": "stream",
     "text": [
      "1 9 3 1 91 69\n"
     ]
    }
   ],
   "source": [
    "numbers = [1, 2, -9, 8, 3, -4, -2, -1, 0, 2, 91, 69]\n",
    "\n",
    "odd_numbers = filter(lambda num: num % 2, numbers)\n",
    "\n",
    "abs_odd_numbers = map(abs, odd_numbers)\n",
    "\n",
    "print(*abs_odd_numbers)"
   ],
   "metadata": {
    "collapsed": false,
    "ExecuteTime": {
     "end_time": "2025-02-25T06:47:48.748849500Z",
     "start_time": "2025-02-25T06:47:48.738793800Z"
    }
   },
   "id": "f03d11e4962a2356"
  },
  {
   "cell_type": "markdown",
   "source": [
    "Генераторы являются итераторами, поэтому мы можем компоновать их, создавая тем самым так называемые конвейеры (цепочки) генераторов."
   ],
   "metadata": {
    "collapsed": false
   },
   "id": "5bfc74d1129008ea"
  },
  {
   "cell_type": "code",
   "execution_count": 2,
   "outputs": [
    {
     "name": "stdout",
     "output_type": "stream",
     "text": [
      "-4 -16 -36 -64 -100\n"
     ]
    }
   ],
   "source": [
    "def integers(n):\n",
    "    for i in range(1, n + 1):\n",
    "        yield i\n",
    "\n",
    "\n",
    "def evens(iterable):\n",
    "    for i in iterable:\n",
    "        if not i % 2:\n",
    "            yield i\n",
    "\n",
    "\n",
    "def squared(iterable):\n",
    "    for i in iterable:\n",
    "        yield i * i\n",
    "\n",
    "\n",
    "def negated(iterable):\n",
    "    for i in iterable:\n",
    "        yield -i\n",
    "\n",
    "\n",
    "chain = negated(squared(evens(integers(10))))\n",
    "\n",
    "print(*chain)"
   ],
   "metadata": {
    "collapsed": false,
    "ExecuteTime": {
     "end_time": "2025-02-25T06:48:23.714131900Z",
     "start_time": "2025-02-25T06:48:23.710614400Z"
    }
   },
   "id": "df98b3d6d40de77"
  },
  {
   "cell_type": "markdown",
   "source": [
    "Самое главное в конвейерах генераторов это то, что обработка данных происходит по одному элементу за раз. Между этапами обработки в цепочке нет буферизации: генератор целых чисел выдает единственное значение, скажем, 4. Это активирует генератор четных чисел, который обрабатывает это значение, и поскольку оно четное, передает его на следующий этап в виде числа 4. Далее активируется генератор квадратов, который обрабатывает значение 4 и передает его на следующий этап как 4 в степени 2 =16. Далее активируется генератор инвертирования знака, который изменяет знак числа 16 на противоположный и порождает значение −16."
   ],
   "metadata": {
    "collapsed": false
   },
   "id": "3ebac96379b991bb"
  },
  {
   "cell_type": "markdown",
   "source": [
    "Мы можем продолжать расширять эту цепочку генераторов, чтобы построить конвейер обработки со многими шагами. Он по-прежнему будет работать эффективно и может быть легко изменен, поскольку каждый шаг в цепочке представляет собой отдельную генераторную функцию."
   ],
   "metadata": {
    "collapsed": false
   },
   "id": "213ce80311117b52"
  },
  {
   "cell_type": "markdown",
   "source": [
    "Конвейеры данных выглядят еще нагляднее, если они построены на основе генераторных выражений."
   ],
   "metadata": {
    "collapsed": false
   },
   "id": "195f9f81837e741c"
  },
  {
   "cell_type": "code",
   "execution_count": 3,
   "outputs": [
    {
     "name": "stdout",
     "output_type": "stream",
     "text": [
      "-4 -16 -36 -64 -100\n"
     ]
    }
   ],
   "source": [
    "# полностью аналогичен примеру выше.\n",
    "n = 10\n",
    "\n",
    "integers = (i for i in range(1, n + 1))\n",
    "evens = (i for i in integers if not i % 2)\n",
    "squared = (i * i for i in evens)\n",
    "negated = (-i for i in squared)\n",
    "\n",
    "print(*negated)"
   ],
   "metadata": {
    "collapsed": false,
    "ExecuteTime": {
     "end_time": "2025-02-25T06:50:45.418882800Z",
     "start_time": "2025-02-25T06:50:45.413879Z"
    }
   },
   "id": "e1847a778a26f639"
  },
  {
   "cell_type": "markdown",
   "source": [
    "Читабельность кода повышается за счет того, что вместо цикла с перемешанными этапами обработки данных, мы пишем небольшие блоки, отвечающие за конкретные задачи, которые стыкуются друг с другом."
   ],
   "metadata": {
    "collapsed": false
   },
   "id": "2c8b593505379a3a"
  },
  {
   "cell_type": "markdown",
   "source": [
    "Обработка больших файлов с помощью конвейеров генераторов"
   ],
   "metadata": {
    "collapsed": false
   },
   "id": "78c50b02ffe879"
  },
  {
   "cell_type": "markdown",
   "source": [
    "Конвейеры данных, построенные на генераторах позволяют скомпоновать код для обработки больших наборов данных без использования большого количества памяти компьютера. Представим, что у нас есть очень большой текстовый файл в формате csv с именем data.csv, содержащий данные посещения сайтов, которые нужно обработать."
   ],
   "metadata": {
    "collapsed": false
   },
   "id": "b34198f27028ae9e"
  },
  {
   "cell_type": "markdown",
   "source": [
    "Заголовок файла data.csv имеет вид:"
   ],
   "metadata": {
    "collapsed": false
   },
   "id": "5dda3e30e3b3205d"
  },
  {
   "cell_type": "markdown",
   "source": [
    "user_id,user_name,user_ip,date,page_url"
   ],
   "metadata": {
    "collapsed": false
   },
   "id": "4b1e542f596cb4d"
  },
  {
   "cell_type": "markdown",
   "source": [
    "Для обработки такого файла необходимо проделать следующие шаги:\n",
    "\n",
    "открыть файл для чтения\n",
    "прочитать каждую строку файла\n",
    "разбить каждую строку через разделитель , на список значений\n",
    "извлечь имена столбцов\n",
    "использовать имена столбцов и список значений из строк для создания словарей\n",
    "отфильтровать не подходящие строки\n",
    "обработать интересующие значения"
   ],
   "metadata": {
    "collapsed": false
   },
   "id": "cdebe1e27997503d"
  },
  {
   "cell_type": "markdown",
   "source": [
    "Все указанные выше шаги можно выполнить при помощи нескольких генераторов."
   ],
   "metadata": {
    "collapsed": false
   },
   "id": "f4b43a057157333b"
  },
  {
   "cell_type": "markdown",
   "source": [
    "Шаг 1. Открываем файл data.csv для чтения:"
   ],
   "metadata": {
    "collapsed": false
   },
   "id": "fb3d0f2e84af9c7d"
  },
  {
   "cell_type": "code",
   "execution_count": null,
   "outputs": [],
   "source": [
    "with open('data.csv', 'r', encoding='utf-8') as file:\n",
    "# обрабатываем содержимое файла"
   ],
   "metadata": {
    "collapsed": false
   },
   "id": "d23c97307f9d5300"
  },
  {
   "cell_type": "markdown",
   "source": [
    "Шаг 2. Читаем каждую строку с помощью генераторного выражения:"
   ],
   "metadata": {
    "collapsed": false
   },
   "id": "2a3307fbae5a9b1a"
  },
  {
   "cell_type": "code",
   "execution_count": null,
   "outputs": [],
   "source": [
    "with open('data.csv', 'r', encoding='utf-8') as file:\n",
    "    file_lines = (line for line in file)"
   ],
   "metadata": {
    "collapsed": false
   },
   "id": "2d55abfaab30d74a"
  },
  {
   "cell_type": "markdown",
   "source": [
    "Шаг 3. Разбиваем строки файла через  разделитель , на список значений:"
   ],
   "metadata": {
    "collapsed": false
   },
   "id": "5cb387a3441c4213"
  },
  {
   "cell_type": "code",
   "execution_count": null,
   "outputs": [],
   "source": [
    "with open('data.csv', 'r', encoding='utf-8') as file:\n",
    "    file_lines = (line for line in file)\n",
    "    line_values = (line.rstrip().split(',') for line in file_lines)"
   ],
   "metadata": {
    "collapsed": false
   },
   "id": "f9bb3978849f75ca"
  },
  {
   "cell_type": "markdown",
   "source": [
    "Шаг 4. Извлекаем первую строку, которая является названием столбцов:"
   ],
   "metadata": {
    "collapsed": false
   },
   "id": "bfd4a92c10e525fb"
  },
  {
   "cell_type": "code",
   "execution_count": null,
   "outputs": [],
   "source": [
    "with open('data.csv', 'r', encoding='utf-8') as file:\n",
    "    file_lines = (line for line in file)\n",
    "    line_values = (line.rstrip().split(',') for line in file_lines)\n",
    "    file_headers = next(line_values)"
   ],
   "metadata": {
    "collapsed": false
   },
   "id": "3cdd928ecf8dbb6a"
  },
  {
   "cell_type": "markdown",
   "source": [
    "Шаг 5. Соединяем названия столбцов с соответствующими им значениями:"
   ],
   "metadata": {
    "collapsed": false
   },
   "id": "d43ff1a120e42ca2"
  },
  {
   "cell_type": "code",
   "execution_count": null,
   "outputs": [],
   "source": [
    "with open('data.csv', 'r', encoding='utf-8') as file:\n",
    "    file_lines = (line for line in file)\n",
    "    line_values = (line.rstrip().split(',') for line in file_lines)\n",
    "    file_headers = next(\n",
    "        line_values)  # После выполнения file_headers = next(line_values), генератор line_values \"продвинулся\" на одну строку вперёд, и теперь он больше не содержит заголовков.\n",
    "    line_dicts = (dict(zip(file_headers, data)) for data in\n",
    "                  line_values)  # Так как line_dicts — генераторное выражение, он не загружает весь CSV в память, а создаёт словари лениво, по мере необходимости. Это делает код очень эффективным для работы с большими файлами."
   ],
   "metadata": {
    "collapsed": false
   },
   "id": "ecaa715541c504c6"
  },
  {
   "cell_type": "markdown",
   "source": [
    "Шаг 6. Фильтруем неподходящие строки и оставляем только те, в которых столбец page_url содержит текст stepik.org:"
   ],
   "metadata": {
    "collapsed": false
   },
   "id": "dc5c61c0283b160c"
  },
  {
   "cell_type": "code",
   "execution_count": null,
   "outputs": [],
   "source": [
    "with open('data.csv', 'r', encoding='utf-8') as file:\n",
    "    file_lines = (line for line in file)\n",
    "    line_values = (line.rstrip().split(',') for line in file_lines)\n",
    "    file_headers = next(line_values)\n",
    "    line_dicts = (dict(zip(file_headers, data)) for data in line_values)\n",
    "\n",
    "    result = (\n",
    "        (line['user_name'], line['user_ip'])\n",
    "        for line in line_dicts\n",
    "        if 'stepik.org' in line['page_url']\n",
    "    )"
   ],
   "metadata": {
    "collapsed": false
   },
   "id": "d4d9ba8f92f538bb"
  },
  {
   "cell_type": "markdown",
   "source": [
    "Необходимо понимать и помнить, что приведенный выше код не перебирает содержимое в генераторе result. Ничего не будет исполняться, пока не будет задействована итерация (явная или неявная) по генератору result."
   ],
   "metadata": {
    "collapsed": false
   },
   "id": "9d3c37f5d4d6cbb3"
  },
  {
   "cell_type": "markdown",
   "source": [
    "Шаг 7. Обрабатываем интересующие значения:"
   ],
   "metadata": {
    "collapsed": false
   },
   "id": "486c9c1eee6d2328"
  },
  {
   "cell_type": "code",
   "execution_count": null,
   "outputs": [],
   "source": [
    "with open('data.csv', 'r', encoding='utf-8') as file:\n",
    "    file_lines = (line for line in file)\n",
    "    line_values = (line.rstrip().split(',') for line in file_lines)\n",
    "    file_headers = next(line_values)\n",
    "    line_dicts = (dict(zip(file_headers, data)) for data in line_values)\n",
    "\n",
    "    result = (\n",
    "        (line['user_name'], line['user_ip'])\n",
    "        for line in line_dicts\n",
    "        if 'stepik.org' in line['page_url']\n",
    "    )\n",
    "\n",
    "    for index, (name, ip) in enumerate(set(result), 1):\n",
    "        print(f'{index}. {name} --- {ip}')"
   ],
   "metadata": {
    "collapsed": false
   },
   "id": "a33f29c847e61432"
  },
  {
   "cell_type": "markdown",
   "source": [
    "Функция set() заставляет работать все созданные генераторы вместе. Все они функционируют как один конвейер больших данных, при этом в память попадают только нужные строки."
   ],
   "metadata": {
    "collapsed": false
   },
   "id": "d2bcc13fba4301f0"
  },
  {
   "cell_type": "markdown",
   "source": [
    "Производительность при использовании генераторов"
   ],
   "metadata": {
    "collapsed": false
   },
   "id": "5a43410eeb88abbb"
  },
  {
   "cell_type": "markdown",
   "source": [
    "Как уже было сказано, генераторы (генераторные выражения или генераторные функции) идеально подходят, когда необходимо прочитать содержимое большого файла."
   ],
   "metadata": {
    "collapsed": false
   },
   "id": "553c2ee0b2986741"
  },
  {
   "cell_type": "markdown",
   "source": [
    "Чтобы наглядно показать преимущество использования генераторов, создадим две функции read_immediately() и read_lazy(), которые читают содержимое текстового файла:"
   ],
   "metadata": {
    "collapsed": false
   },
   "id": "be94df26a2082efc"
  },
  {
   "cell_type": "markdown",
   "source": [
    "первая функция читает все непустые строки файла и заносит их в список, который затем возвращает с помощью оператора return\n",
    "вторая функция читает все непустые строки файла и возвращает их с помощью оператора yield"
   ],
   "metadata": {
    "collapsed": false
   },
   "id": "78bc118c8f5179cc"
  },
  {
   "cell_type": "code",
   "execution_count": null,
   "outputs": [],
   "source": [
    "def read_immediately(file_name):\n",
    "    with open(file_name, 'r', encoding='utf-8') as file:\n",
    "        result = []\n",
    "        for line in file:\n",
    "            line = line.rstrip('\\n')\n",
    "            if line != '':\n",
    "                result.append(line)\n",
    "        return result\n",
    "\n",
    "\n",
    "def read_lazy(file_name):\n",
    "    with open(file_name, 'r', encoding='utf-8') as file:\n",
    "        for line in file:\n",
    "            line = line.rstrip('\\n')\n",
    "            if line != '':\n",
    "                yield line"
   ],
   "metadata": {
    "collapsed": false
   },
   "id": "ff210a10e6ec592a"
  },
  {
   "cell_type": "markdown",
   "source": [
    "Запустив указанные функции на файлах разных размеров, получим следующие результаты:"
   ],
   "metadata": {
    "collapsed": false
   },
   "id": "1c98ecae04dd2ba5"
  },
  {
   "cell_type": "code",
   "execution_count": 4,
   "outputs": [
    {
     "data": {
      "image/png": "[encoded data removed]",
      "text/plain": "<IPython.core.display.Image object>"
     },
     "metadata": {},
     "output_type": "display_data"
    }
   ],
   "source": [
    "from functions import picture\n",
    "\n",
    "picture('Без иаомени.png')"
   ],
   "metadata": {
    "collapsed": false,
    "ExecuteTime": {
     "end_time": "2025-02-25T07:19:16.099751100Z",
     "start_time": "2025-02-25T07:19:16.091544300Z"
    }
   },
   "id": "95377b99265fac08"
  },
  {
   "cell_type": "markdown",
   "source": [
    "Видно, что в обоих случаях время увеличивается с примерно одинаковой скоростью, а количество потребляемой памяти сильно различается. Чем больше обрабатываемый файл, тем заметнее различие."
   ],
   "metadata": {
    "collapsed": false
   },
   "id": "8bcc53f3de6633c4"
  },
  {
   "cell_type": "markdown",
   "source": [
    "Примечания"
   ],
   "metadata": {
    "collapsed": false
   },
   "id": "4017aca1bceba4e5"
  },
  {
   "cell_type": "markdown",
   "source": [
    "Примечание 1. Мы можем использовать и генераторные функции и генераторные выражения для построения конвейеров обработки данных. При проектировании конвейеров генераторов один генератор вкладывается в другой."
   ],
   "metadata": {
    "collapsed": false
   },
   "id": "823c664a016e81cd"
  },
  {
   "cell_type": "markdown",
   "source": [
    "Примечание 2. Генераторы — невероятно мощная программная конструкция. Они позволяют писать потоковый код с меньшим количеством промежуточных данных. Кроме того, они более эффективно используют память и ЦП."
   ],
   "metadata": {
    "collapsed": false
   },
   "id": "ecd5d5a1133fcde8"
  },
  {
   "cell_type": "markdown",
   "source": [
    "Программный код:"
   ],
   "metadata": {
    "collapsed": false
   },
   "id": "e6dc960f5850bf32"
  },
  {
   "cell_type": "code",
   "execution_count": null,
   "outputs": [],
   "source": [
    "def something():\n",
    "    result = []\n",
    "    for ... in ...:\n",
    "        result.append(x)\n",
    "    return result"
   ],
   "metadata": {
    "collapsed": false
   },
   "id": "77d71f75cde5017"
  },
  {
   "cell_type": "markdown",
   "source": [
    "можно заменить на:"
   ],
   "metadata": {
    "collapsed": false
   },
   "id": "89b40620ef01f1c3"
  },
  {
   "cell_type": "code",
   "execution_count": null,
   "outputs": [],
   "source": [
    "def iter_something():\n",
    "    for ... in ...:\n",
    "        yield x"
   ],
   "metadata": {
    "collapsed": false
   },
   "id": "fb025216d98a3ada"
  },
  {
   "cell_type": "markdown",
   "source": [
    "При этом, если действительно нужны возможности списка (тип list), то можно написать: "
   ],
   "metadata": {
    "collapsed": false
   },
   "id": "3300b306ae6b2f81"
  },
  {
   "cell_type": "code",
   "execution_count": null,
   "outputs": [],
   "source": [
    "def something():\n",
    "    return list(iter_something())"
   ],
   "metadata": {
    "collapsed": false
   },
   "id": "4f46727ce8e218e1"
  },
  {
   "cell_type": "markdown",
   "source": [
    "Вам доступен именованный кортеж Person, который содержит данные о человеке. Первым элементом именованного кортежа является имя и фамилия человека, вторым — национальность, третьим — пол, четвертым — год рождения, пятым — год смерти. Если человек жив, год смерти считается равным 0. Также доступен список persons, содержащий эти кортежи.\n",
    "\n",
    "Дополните приведенный ниже код с использованием конвейеров генераторов, чтобы он вывел имя и фамилию самого молодого живого мужчины (male) из Швеции (Swedish)."
   ],
   "metadata": {
    "collapsed": false
   },
   "id": "b7a4ca404bda7c27"
  },
  {
   "cell_type": "code",
   "execution_count": 64,
   "outputs": [
    {
     "name": "stdout",
     "output_type": "stream",
     "text": [
      "Jon Bale\n"
     ]
    }
   ],
   "source": [
    "from collections import namedtuple\n",
    "\n",
    "Person = namedtuple('Person', ['name', 'nationality', 'sex', 'birth', 'death'])\n",
    "\n",
    "persons = [Person('E. M. Ashe', 'American', 'male', 1867, 1941),\n",
    "           Person('Goran Aslin', 'Swedish', 'male', 1980, 0),\n",
    "           Person('Erik Gunnar Asplund', 'Swedish', 'male', 1885, 1940),\n",
    "           Person('Genevieve Asse', 'French', 'female', 1949, 0),\n",
    "           Person('Irene Adler', 'Swedish', 'female', 2005, 0),\n",
    "           Person('Sergio Asti', 'Italian', 'male', 1926, 0),\n",
    "           Person('Olof Backman', 'Swedish', 'male', 1999, 0),\n",
    "           Person('Alyson Hannigan', 'Swedish', 'female', 1940, 1987),\n",
    "           Person('Dana Atchley', 'American', 'female', 1941, 2000),\n",
    "           Person('Monika Andersson', 'Swedish', 'female', 1957, 0),\n",
    "           Person('Shura_Stone', 'Russian', 'male', 2000, 0),\n",
    "           Person('Jon Bale', 'Swedish', 'male', 2000, 0)]\n",
    "\n",
    "males = (i for i in persons if i.sex == 'male')\n",
    "nation = (i for i in males if i.nationality == 'Swedish')\n",
    "alive = (i for i in nation if i.death == 0)\n",
    "alive = list(alive)\n",
    "max_birth_year = max(i.birth for i in alive)\n",
    "\n",
    "year = (i for i in alive if i.birth == max_birth_year)\n",
    "for i in year:\n",
    "    print(f'{i.name}')\n"
   ],
   "metadata": {
    "collapsed": false,
    "ExecuteTime": {
     "end_time": "2025-02-25T11:34:33.392083900Z",
     "start_time": "2025-02-25T11:34:33.382201Z"
    }
   },
   "id": "69774134cca0760b"
  },
  {
   "cell_type": "code",
   "execution_count": 65,
   "outputs": [
    {
     "name": "stdout",
     "output_type": "stream",
     "text": [
      "Jon Bale\n"
     ]
    }
   ],
   "source": [
    "swed = (i for i in persons if i.nationality == 'Swedish')\n",
    "alive_swed = (i for i in swed if i.death == 0)\n",
    "men_alive_swed = (i for i in alive_swed if i.sex == 'male')\n",
    "young_men_alive_swed = max(men_alive_swed, key=lambda x: x.birth)\n",
    "print(young_men_alive_swed.name)"
   ],
   "metadata": {
    "collapsed": false,
    "ExecuteTime": {
     "end_time": "2025-02-25T11:38:38.290092900Z",
     "start_time": "2025-02-25T11:38:38.283112400Z"
    }
   },
   "id": "afe05e593841f82b"
  },
  {
   "cell_type": "markdown",
   "source": [
    "Функция parse_ranges()\n",
    "Назовем диапазоном запись двух натуральных чисел через дефис a-b, где a — левая граница диапазона, b — правая граница диапазона, причем a <= b. Диапазон содержит в себе все числа от a до b включительно. Например, диапазон 1-4 содержит числа 1, 2, 3 и 4.\n",
    "\n",
    "Реализуйте генераторную функцию parse_ranges(), которая принимает один аргумент:\n",
    "\n",
    "ranges — строка, в которой через запятую указаны диапазоны чисел\n",
    "Функция должна возвращать генератор, порождающий последовательность чисел, содержащихся в диапазонах ranges."
   ],
   "metadata": {
    "collapsed": false
   },
   "id": "e566295f776dfb99"
  },
  {
   "cell_type": "code",
   "execution_count": 3,
   "outputs": [
    {
     "name": "stdout",
     "output_type": "stream",
     "text": [
      "1 2 4 8 9 10\n",
      "1 2 3 4 5 6 7 8 9 10 2 3 4 5 6 7 8 9 10\n",
      "7 8 9 10 11 12 13 14 15 16 17 18 19 20 21 22 23 24 25 26 27 28 29 30 31 32\n"
     ]
    }
   ],
   "source": [
    "def parse_ranges(ranges: str):\n",
    "    rang = (tuple(map(int, i.split('-'))) for i in ranges.split(','))\n",
    "    numbers = (i for start, end in rang for i in range(start, end + 1))\n",
    "    return numbers\n",
    "\n",
    "\n",
    "print(*parse_ranges('1-2,4-4,8-10'))\n",
    "\n",
    "print(*parse_ranges('1-10,2-10'))\n",
    "\n",
    "print(*parse_ranges('7-32'))"
   ],
   "metadata": {
    "collapsed": false,
    "ExecuteTime": {
     "end_time": "2025-02-25T12:04:38.263890300Z",
     "start_time": "2025-02-25T12:04:38.260901Z"
    }
   },
   "id": "6622019fbda3db1a"
  },
  {
   "cell_type": "code",
   "execution_count": null,
   "outputs": [],
   "source": [
    "def parse_ranges(ranges: str):\n",
    "    for r in ranges.split(\",\"):\n",
    "        start, end = map(int, r.split(\"-\"))\n",
    "        yield from range(start, end + 1)"
   ],
   "metadata": {
    "collapsed": false
   },
   "id": "650fe8e6d3852b80"
  },
  {
   "cell_type": "code",
   "execution_count": null,
   "outputs": [],
   "source": [
    "def parse_ranges(ranges):\n",
    "    return (j\n",
    "            for i in ranges.split(',')\n",
    "            for a, b in [i.split('-')]\n",
    "            for j in range(int(a), int(b) + 1))"
   ],
   "metadata": {
    "collapsed": false
   },
   "id": "38bb635d2d6c5351"
  },
  {
   "cell_type": "code",
   "execution_count": 5,
   "outputs": [
    {
     "name": "stdout",
     "output_type": "stream",
     "text": [
      "1 2 4 8 9 10\n"
     ]
    }
   ],
   "source": [
    "def parse_ranges(ranges):\n",
    "    list_ranges = (el for el in ranges.split(','))\n",
    "    lim_ranges = (tuple(map(int, el.split('-'))) for el in list_ranges)\n",
    "    form_ranges = (range(el[0], el[1] + 1) for el in lim_ranges)\n",
    "    result = (i for el in form_ranges for i in el)\n",
    "    return result\n",
    "\n",
    "\n",
    "print(*parse_ranges('1-2,4-4,8-10'))"
   ],
   "metadata": {
    "collapsed": false,
    "ExecuteTime": {
     "end_time": "2025-02-25T12:26:30.732081300Z",
     "start_time": "2025-02-25T12:26:30.729533500Z"
    }
   },
   "id": "ff0fcec311888013"
  },
  {
   "cell_type": "markdown",
   "source": [
    "Функция filter_names()\n",
    "Реализуйте генераторную функцию filter_names(), которая принимает три аргумента в следующем порядке:\n",
    "\n",
    "names — список имен\n",
    "ignore_char — одиночный символ\n",
    "max_names — натуральное число\n",
    "Функция должна возвращать генератор, порождающий max_names имён из списка names, игнорируя имена, которые\n",
    "\n",
    "начинаются на ignore_char (в любом регистре)\n",
    "содержат хотя бы одну цифру\n",
    "Если max_names больше количества имен в списке names, то генератор должен породить все возможные имена из данного списка. \n",
    "\n",
    "Примечание 1. Имена в возвращаемом функцией генераторе должны располагаться в своем исходном порядке."
   ],
   "metadata": {
    "collapsed": false
   },
   "id": "8760810722c1d07f"
  },
  {
   "cell_type": "code",
   "execution_count": 1,
   "outputs": [
    {
     "name": "stdout",
     "output_type": "stream",
     "text": [
      "Timur Arthur Arina\n",
      "Dima Arthur Arina German Ruslan\n"
     ]
    }
   ],
   "source": [
    "def filter_names(names: list, ignore_char: str, max_names: int):\n",
    "    filter_names = (i for i in names if i[0].lower() != ignore_char.lower())\n",
    "    alfa_names = (i for i in filter_names if all(j.isalpha() for j in i.split()))\n",
    "    for i, e in enumerate(alfa_names, 1):\n",
    "        if i > max_names:\n",
    "            break\n",
    "        yield e\n",
    "\n",
    "\n",
    "data = ['Dima', 'Timur', 'Arthur', 'Anri20', 'Arina', 'German', 'Ruslan']\n",
    "print(*filter_names(data, 'D', 3))\n",
    "\n",
    "data = ['Dima', 'Timur', 'Arthur', 'Anri20', 'Arina', 'German', 'Ruslan']\n",
    "print(*filter_names(data, 't', 20))\n",
    "\n",
    "data = ['Di6ma', 'Ti4mur', 'Ar5thur', 'Anri7620', 'Ar3453ina', '345German', 'Ruslan543', 'Soslanfsdf123', 'Geo000000r']\n",
    "print(*filter_names(data, 'A', 100))"
   ],
   "metadata": {
    "collapsed": false,
    "ExecuteTime": {
     "end_time": "2025-02-25T13:01:36.515707100Z",
     "start_time": "2025-02-25T13:01:36.514702100Z"
    }
   },
   "id": "f0b82816ecbb7121"
  },
  {
   "cell_type": "markdown",
   "source": [
    "Инвестиции\n",
    "Вам доступен файл data.csv, который содержит информацию об инвестициях в различные стартапы. В первом столбце записано название компании (стартапа), во втором — инвестируемая сумма в долларах, в третьем — раунд инвестиции:\n",
    "\n",
    "company,raisedAmt,round\n",
    "LifeLock,6850000,b\n",
    "LifeLock,6000000,a\n",
    "LifeLock,25000000,c\n",
    "MyCityFaces,50000,seed\n",
    "Flypaper,3000000,a\n",
    "...\n",
    "Напишите программу с использованием конвейеров генераторов, определяющую общую сумму, которая была инвестирована в раунде а, и выводящую полученный результат.\n",
    "\n",
    "Примечание 1. Разделителем в файле data.csv является запятая, при этом кавычки не используются."
   ],
   "metadata": {
    "collapsed": false
   },
   "id": "966fbdcbd5bbe7c4"
  },
  {
   "cell_type": "code",
   "execution_count": 13,
   "outputs": [
    {
     "name": "stdout",
     "output_type": "stream",
     "text": [
      "4380015000\n"
     ]
    }
   ],
   "source": [
    "with open('data.csv', 'r', encoding='utf-8') as file:\n",
    "    file_lines = (line for line in file)\n",
    "    line_values = (line.rstrip().split(',') for line in file_lines)\n",
    "    file_headers = next(line_values)\n",
    "    line_dicts = (dict(zip(file_headers, data)) for data in line_values)\n",
    "\n",
    "    result = (\n",
    "        int(line['raisedAmt'])\n",
    "        for line in line_dicts\n",
    "        if 'a' == line['round']\n",
    "    )\n",
    "\n",
    "    print(sum(result))"
   ],
   "metadata": {
    "collapsed": false,
    "ExecuteTime": {
     "end_time": "2025-02-25T13:19:44.080600500Z",
     "start_time": "2025-02-25T13:19:44.076382500Z"
    }
   },
   "id": "e726eb6ca5620249"
  },
  {
   "cell_type": "code",
   "execution_count": null,
   "outputs": [],
   "source": [
    "import csv\n",
    "\n",
    "with open('data.csv', encoding='utf8') as file:\n",
    "    reader = csv.reader(file)\n",
    "    header = next(reader)\n",
    "    print(sum(int(line[1]) for line in reader if line[3] == 'a'))"
   ],
   "metadata": {
    "collapsed": false
   },
   "id": "15cffd7a219c253d"
  },
  {
   "cell_type": "markdown",
   "source": [
    "Функция years_days()\n",
    "Реализуйте генераторную функцию years_days(), которая принимает один аргумент:\n",
    "\n",
    "year — натуральное число\n",
    "Функция должна возвращать генератор, порождающий последовательность всех дат (тип date) в году year.\n",
    "\n",
    "Примечание 1. Возьмем в качестве примера 2022 год. В январе этого года 31 день, в феврале — 28, в марте — 31, и так далее. Тогда генератор, полученный при вызове years_days(2022), должен порождать сначала все даты с 1 по 31 января, затем с 1 по 28 февраля, и так далее до 31 декабря."
   ],
   "metadata": {
    "collapsed": false
   },
   "id": "a7c0e3b0b74a77e"
  },
  {
   "cell_type": "code",
   "execution_count": 10,
   "outputs": [
    {
     "name": "stdout",
     "output_type": "stream",
     "text": [
      "2077-01-01 2077-01-02 2077-01-03 2077-01-04 2077-01-05 2077-01-06 2077-01-07 2077-01-08 2077-01-09 2077-01-10 2077-01-11 2077-01-12 2077-01-13 2077-01-14 2077-01-15 2077-01-16 2077-01-17 2077-01-18 2077-01-19 2077-01-20 2077-01-21 2077-01-22 2077-01-23 2077-01-24 2077-01-25 2077-01-26 2077-01-27 2077-01-28 2077-01-29 2077-01-30 2077-01-31 2077-02-01 2077-02-02 2077-02-03 2077-02-04 2077-02-05 2077-02-06 2077-02-07 2077-02-08 2077-02-09 2077-02-10 2077-02-11 2077-02-12 2077-02-13 2077-02-14 2077-02-15 2077-02-16 2077-02-17 2077-02-18 2077-02-19 2077-02-20 2077-02-21 2077-02-22 2077-02-23 2077-02-24 2077-02-25 2077-02-26 2077-02-27 2077-02-28 2077-03-01 2077-03-02 2077-03-03 2077-03-04 2077-03-05 2077-03-06 2077-03-07 2077-03-08 2077-03-09 2077-03-10 2077-03-11 2077-03-12 2077-03-13 2077-03-14 2077-03-15 2077-03-16 2077-03-17 2077-03-18 2077-03-19 2077-03-20 2077-03-21 2077-03-22 2077-03-23 2077-03-24 2077-03-25 2077-03-26 2077-03-27 2077-03-28 2077-03-29 2077-03-30 2077-03-31 2077-04-01 2077-04-02 2077-04-03 2077-04-04 2077-04-05 2077-04-06 2077-04-07 2077-04-08 2077-04-09 2077-04-10 2077-04-11 2077-04-12 2077-04-13 2077-04-14 2077-04-15 2077-04-16 2077-04-17 2077-04-18 2077-04-19 2077-04-20 2077-04-21 2077-04-22 2077-04-23 2077-04-24 2077-04-25 2077-04-26 2077-04-27 2077-04-28 2077-04-29 2077-04-30 2077-05-01 2077-05-02 2077-05-03 2077-05-04 2077-05-05 2077-05-06 2077-05-07 2077-05-08 2077-05-09 2077-05-10 2077-05-11 2077-05-12 2077-05-13 2077-05-14 2077-05-15 2077-05-16 2077-05-17 2077-05-18 2077-05-19 2077-05-20 2077-05-21 2077-05-22 2077-05-23 2077-05-24 2077-05-25 2077-05-26 2077-05-27 2077-05-28 2077-05-29 2077-05-30 2077-05-31 2077-06-01 2077-06-02 2077-06-03 2077-06-04 2077-06-05 2077-06-06 2077-06-07 2077-06-08 2077-06-09 2077-06-10 2077-06-11 2077-06-12 2077-06-13 2077-06-14 2077-06-15 2077-06-16 2077-06-17 2077-06-18 2077-06-19 2077-06-20 2077-06-21 2077-06-22 2077-06-23 2077-06-24 2077-06-25 2077-06-26 2077-06-27 2077-06-28 2077-06-29 2077-06-30 2077-07-01 2077-07-02 2077-07-03 2077-07-04 2077-07-05 2077-07-06 2077-07-07 2077-07-08 2077-07-09 2077-07-10 2077-07-11 2077-07-12 2077-07-13 2077-07-14 2077-07-15 2077-07-16 2077-07-17 2077-07-18 2077-07-19 2077-07-20 2077-07-21 2077-07-22 2077-07-23 2077-07-24 2077-07-25 2077-07-26 2077-07-27 2077-07-28 2077-07-29 2077-07-30 2077-07-31 2077-08-01 2077-08-02 2077-08-03 2077-08-04 2077-08-05 2077-08-06 2077-08-07 2077-08-08 2077-08-09 2077-08-10 2077-08-11 2077-08-12 2077-08-13 2077-08-14 2077-08-15 2077-08-16 2077-08-17 2077-08-18 2077-08-19 2077-08-20 2077-08-21 2077-08-22 2077-08-23 2077-08-24 2077-08-25 2077-08-26 2077-08-27 2077-08-28 2077-08-29 2077-08-30 2077-08-31 2077-09-01 2077-09-02 2077-09-03 2077-09-04 2077-09-05 2077-09-06 2077-09-07 2077-09-08 2077-09-09 2077-09-10 2077-09-11 2077-09-12 2077-09-13 2077-09-14 2077-09-15 2077-09-16 2077-09-17 2077-09-18 2077-09-19 2077-09-20 2077-09-21 2077-09-22 2077-09-23 2077-09-24 2077-09-25 2077-09-26 2077-09-27 2077-09-28 2077-09-29 2077-09-30 2077-10-01 2077-10-02 2077-10-03 2077-10-04 2077-10-05 2077-10-06 2077-10-07 2077-10-08 2077-10-09 2077-10-10 2077-10-11 2077-10-12 2077-10-13 2077-10-14 2077-10-15 2077-10-16 2077-10-17 2077-10-18 2077-10-19 2077-10-20 2077-10-21 2077-10-22 2077-10-23 2077-10-24 2077-10-25 2077-10-26 2077-10-27 2077-10-28 2077-10-29 2077-10-30 2077-10-31 2077-11-01 2077-11-02 2077-11-03 2077-11-04 2077-11-05 2077-11-06 2077-11-07 2077-11-08 2077-11-09 2077-11-10 2077-11-11 2077-11-12 2077-11-13 2077-11-14 2077-11-15 2077-11-16 2077-11-17 2077-11-18 2077-11-19 2077-11-20 2077-11-21 2077-11-22 2077-11-23 2077-11-24 2077-11-25 2077-11-26 2077-11-27 2077-11-28 2077-11-29 2077-11-30 2077-12-01 2077-12-02 2077-12-03 2077-12-04 2077-12-05 2077-12-06 2077-12-07 2077-12-08 2077-12-09 2077-12-10 2077-12-11 2077-12-12 2077-12-13 2077-12-14 2077-12-15 2077-12-16 2077-12-17 2077-12-18 2077-12-19 2077-12-20 2077-12-21 2077-12-22 2077-12-23 2077-12-24 2077-12-25 2077-12-26 2077-12-27 2077-12-28 2077-12-29 2077-12-30 2077-12-31\n"
     ]
    }
   ],
   "source": [
    "from datetime import timedelta, date\n",
    "\n",
    "\n",
    "def years_days(year: int):\n",
    "    out = date(year, 1, 1)\n",
    "    end = date(year, 12, 31)\n",
    "    while out <= end:\n",
    "        yield out.strftime('%Y-%m-%d')\n",
    "        out += timedelta(days=1)\n",
    "\n",
    "\n",
    "dates = years_days(2077)\n",
    "print(*dates)"
   ],
   "metadata": {
    "collapsed": false,
    "ExecuteTime": {
     "end_time": "2025-02-27T07:43:34.980222Z",
     "start_time": "2025-02-27T07:43:34.969073300Z"
    }
   },
   "id": "231517ffb893b4e9"
  },
  {
   "cell_type": "markdown",
   "source": [
    "Функция nonempty_lines()\n",
    "Реализуйте генераторную функцию nonempty_lines(), которая принимает один аргумент:\n",
    "\n",
    "file — название текстового файла, например, data.txt\n",
    "Функция должна возвращать генератор, порождающий последовательность всех непустых строк файла file с убранным символом переноса строки \\n. Если строка содержит более 25 символов, она заменяется многоточием ....\n",
    "\n",
    "Примечание 1. При открытии файла используйте явное указание кодировки UTF-8."
   ],
   "metadata": {
    "collapsed": false
   },
   "id": "8541884c8570720c"
  },
  {
   "cell_type": "code",
   "execution_count": 27,
   "outputs": [
    {
     "name": "stdout",
     "output_type": "stream",
     "text": [
      "bee\n",
      "geek\n",
      "stepik\n",
      "aaaaaaaaaaaaaaaaaaaaaaaaa\n",
      "short line another short line ... end of file\n"
     ]
    }
   ],
   "source": [
    "def nonempty_lines(file: str):\n",
    "    with open(file, 'r', encoding='utf-8') as file:\n",
    "        none_empty = (line for line in file if line.strip() != '')\n",
    "        escape_n = (line.strip('\\n') for line in none_empty)\n",
    "        result = (\n",
    "            line if len(line) <= 25 else '...'\n",
    "            for line in escape_n\n",
    "        )\n",
    "        yield from result\n",
    "\n",
    "\n",
    "# Вариант с return вызывает ошибку: типа когда ты вернул генератор - with закроет файл и генератор не сможет работать\n",
    "\n",
    "def nonempty_lines(file):\n",
    "    with open(file, encoding='utf-8') as f:\n",
    "        yield from ('...' if len(i.strip()) > 25 else i.strip() for i in f if i.strip() != '')\n",
    "\n",
    "\n",
    "lines = nonempty_lines('file1.txt')\n",
    "print(next(lines))\n",
    "print(next(lines))\n",
    "print(next(lines))\n",
    "print(next(lines))\n",
    "\n",
    "print(*nonempty_lines('file2.txt'))"
   ],
   "metadata": {
    "collapsed": false,
    "ExecuteTime": {
     "end_time": "2025-02-27T08:09:49.714909Z",
     "start_time": "2025-02-27T08:09:49.710607100Z"
    }
   },
   "id": "3373a36dd0cceeab"
  },
  {
   "cell_type": "markdown",
   "source": [
    "Функция txt_to_dict()\n",
    "Вам доступен файл planets.txt, содержащий информацию о различных планетах. В первых четырех строках указаны характеристики первой планеты, после чего следует пустая строка, затем характеристики второй планеты, и так далее:\n",
    "\n",
    "Name = Mercury\n",
    "Diameter = 4879.4\n",
    "Mass = 3.302×10^23\n",
    "OrbitalPeriod = 0.241\n",
    "\n",
    "Name = Venus\n",
    "Diameter = 12103.6\n",
    "Mass = 4.869×10^24\n",
    "OrbitalPeriod = 0.615\n",
    "\n",
    "...\n",
    "Реализуйте генераторную функцию txt_to_dict(), которая не принимает никаких аргументов.\n",
    "\n",
    "Функция должна возвращать генератор, порождающий последовательность словарей, каждый из которых содержит информацию об очередной планете из файла planets.txt, а именно ее название, диаметр, массу и орбитальный период. Например:\n",
    "\n",
    "{'Name': 'Mercury', 'Diameter': '4879.4', 'Mass': '3.302×10^23', 'OrbitalPeriod': '0.241'}\n",
    "Примечание 1. Указанный файл доступен по ссылке.\n",
    "\n",
    "Примечание 2. При открытии файла используйте явное указание кодировки UTF-8."
   ],
   "metadata": {
    "collapsed": false
   },
   "id": "166b2281a9abd03f"
  },
  {
   "cell_type": "code",
   "execution_count": 112,
   "outputs": [
    {
     "name": "stdout",
     "output_type": "stream",
     "text": [
      "{'Name': 'Mercury', 'Diameter': '4879.4', 'Mass': '3.302×10^23', 'OrbitalPeriod': '0.241'} {'Name': 'Venus', 'Diameter': '12103.6', 'Mass': '4.869×10^24', 'OrbitalPeriod': '0.615'} {'Name': 'Earth', 'Diameter': '12756.3', 'Mass': '5.974×10^24', 'OrbitalPeriod': '1'} {'Name': 'Mars', 'Diameter': '6794.4', 'Mass': '6.419×10^23', 'OrbitalPeriod': '1.881'} {'Name': 'Jupiter', 'Diameter': '142984', 'Mass': '1.899×10^27', 'OrbitalPeriod': '11.86'} {'Name': 'Saturn', 'Diameter': '120536', 'Mass': '5.688×10^26', 'OrbitalPeriod': '29.46'} {'Name': 'Uranus', 'Diameter': '51118', 'Mass': '8.683×10^25', 'OrbitalPeriod': '84.01'} {'Name': 'Neptune', 'Diameter': '49572', 'Mass': '1.024×10^26', 'OrbitalPeriod': '164.79'} {'Name': 'Pluton', 'Diameter': '2370.0', 'Mass': '1.3×10^22', 'OrbitalPeriod': '247.7406624'}\n"
     ]
    }
   ],
   "source": [
    "from collections import namedtuple\n",
    "\n",
    "Planets = namedtuple('Planet', ['Name', 'Diameter', 'Mass', 'OrbitalPeriod'])\n",
    "\n",
    "\n",
    "def txt_to_dict():\n",
    "    block = []\n",
    "    package = []\n",
    "    with open('planets.txt', 'r', encoding='utf-8') as file:\n",
    "        separated_info = (line.strip() for line in file)\n",
    "        for line in separated_info:\n",
    "            if line:\n",
    "                data = line.split(' = ')[1]\n",
    "                package.append(data)\n",
    "            else:  # Если встречаем пустую строку — это конец одной записи\n",
    "                planet = Planets(\n",
    "                    Name=package[0],\n",
    "                    Diameter=package[1],\n",
    "                    Mass=package[2],\n",
    "                    OrbitalPeriod=package[3]\n",
    "                )\n",
    "                block.append(planet)\n",
    "                package = []\n",
    "        # Добавляем последнюю планету, если файл не заканчивается пустой строкой\n",
    "        if package:\n",
    "            planet = Planets(\n",
    "                Name=package[0],\n",
    "                Diameter=package[1],\n",
    "                Mass=package[2],\n",
    "                OrbitalPeriod=package[3]\n",
    "            )\n",
    "            block.append(planet)\n",
    "\n",
    "    result = (planet._asdict() for planet in block)\n",
    "    yield from result\n",
    "\n",
    "\n",
    "# planets = txt_to_dict()\n",
    "# print(next(planets))\n",
    "# print(next(planets))\n",
    "# print(next(planets))\n",
    "# print(next(planets))\n",
    "# print(next(planets))\n",
    "\n",
    "planets = txt_to_dict()\n",
    "print(*planets)"
   ],
   "metadata": {
    "collapsed": false,
    "ExecuteTime": {
     "end_time": "2025-02-27T10:52:10.915398300Z",
     "start_time": "2025-02-27T10:52:10.910343100Z"
    }
   },
   "id": "da3f9c83279c56aa"
  },
  {
   "cell_type": "code",
   "execution_count": 102,
   "outputs": [
    {
     "name": "stdout",
     "output_type": "stream",
     "text": [
      "Mercury\n"
     ]
    }
   ],
   "source": [
    "def txt_to_dict():\n",
    "    with open('planets.txt', 'r', encoding='utf-8') as file:\n",
    "        items = (i.split('\\n') for i in file.read().split('\\n\\n'))\n",
    "        return (dict(i.split(' = ') for i in planet) for planet in items)"
   ],
   "metadata": {
    "collapsed": false,
    "ExecuteTime": {
     "end_time": "2025-02-27T10:39:49.032955300Z",
     "start_time": "2025-02-27T10:39:49.027073400Z"
    }
   },
   "id": "890235cadb0b07ba"
  },
  {
   "cell_type": "markdown",
   "source": [
    "Особенности итераторов"
   ],
   "metadata": {
    "collapsed": false
   },
   "id": "73fb98ae53120801"
  },
  {
   "cell_type": "markdown",
   "source": [
    "Очень часто начинающие программисты ошибочно считают, что range объекты (объекты, которые возвращает встроенная функция range()) являются итераторами. Эта ошибка может показаться незначительной, но на самом деле она является достаточно грубой. И range объекты, и итераторы являются ленивыми, но ленивы они по-разному."
   ],
   "metadata": {
    "collapsed": false
   },
   "id": "8d47912e58a0fe5c"
  },
  {
   "cell_type": "markdown",
   "source": [
    "В языке Python под итерируемым объектом подразумевают объект, который можно итерировать, то есть проходиться по нему, перебирая каждый элемент раз за разом. При этом под итератором подразумевают объект, который возвращает свои элементы по одному за раз."
   ],
   "metadata": {
    "collapsed": false
   },
   "id": "2dd93d1ff448bebc"
  },
  {
   "cell_type": "markdown",
   "source": [
    "Получить итератор из любого итерируемого объекта можно, используя встроенную функцию iter():"
   ],
   "metadata": {
    "collapsed": false
   },
   "id": "2c331f723aa3b80"
  },
  {
   "cell_type": "code",
   "execution_count": 113,
   "outputs": [],
   "source": [
    "list_iterator = iter([1, 2, 3])  # итератор на основе списка\n",
    "str_iterator = iter('beegeek')  # итератор на основе строки"
   ],
   "metadata": {
    "collapsed": false,
    "ExecuteTime": {
     "end_time": "2025-02-27T11:19:55.846382Z",
     "start_time": "2025-02-27T11:19:55.840553200Z"
    }
   },
   "id": "7bfcf4bb03cb70e9"
  },
  {
   "cell_type": "markdown",
   "source": [
    "Когда у нас есть итератор, единственное, что мы можем с ним сделать, это получить его следующий элемент, используя встроенную функцию next()."
   ],
   "metadata": {
    "collapsed": false
   },
   "id": "6bc4ce28acd6b72d"
  },
  {
   "cell_type": "code",
   "execution_count": 114,
   "outputs": [
    {
     "name": "stdout",
     "output_type": "stream",
     "text": [
      "1\n",
      "2\n",
      "b\n",
      "e\n",
      "e\n"
     ]
    }
   ],
   "source": [
    "list_iterator = iter([1, 2, 3])\n",
    "str_iterator = iter('beegeek')\n",
    "\n",
    "print(next(list_iterator))\n",
    "print(next(list_iterator))\n",
    "\n",
    "print(next(str_iterator))\n",
    "print(next(str_iterator))\n",
    "print(next(str_iterator))"
   ],
   "metadata": {
    "collapsed": false,
    "ExecuteTime": {
     "end_time": "2025-02-27T11:20:17.420324600Z",
     "start_time": "2025-02-27T11:20:17.415577300Z"
    }
   },
   "id": "e178049de66a194"
  },
  {
   "cell_type": "markdown",
   "source": [
    "Как только итератор вернул все свои элементы, мы будем получать исключение StopIteration при очередном вызове функции next()."
   ],
   "metadata": {
    "collapsed": false
   },
   "id": "30b85f5fa0bdd35a"
  },
  {
   "cell_type": "code",
   "execution_count": 115,
   "outputs": [
    {
     "name": "stdout",
     "output_type": "stream",
     "text": [
      "1\n",
      "2\n",
      "3\n"
     ]
    },
    {
     "ename": "StopIteration",
     "evalue": "",
     "output_type": "error",
     "traceback": [
      "\u001B[1;31m---------------------------------------------------------------------------\u001B[0m",
      "\u001B[1;31mStopIteration\u001B[0m                             Traceback (most recent call last)",
      "Cell \u001B[1;32mIn[115], line 7\u001B[0m\n\u001B[0;32m      4\u001B[0m \u001B[38;5;28mprint\u001B[39m(\u001B[38;5;28mnext\u001B[39m(list_iterator))\n\u001B[0;32m      5\u001B[0m \u001B[38;5;28mprint\u001B[39m(\u001B[38;5;28mnext\u001B[39m(list_iterator))\n\u001B[1;32m----> 7\u001B[0m \u001B[38;5;28mprint\u001B[39m(\u001B[38;5;28;43mnext\u001B[39;49m\u001B[43m(\u001B[49m\u001B[43mlist_iterator\u001B[49m\u001B[43m)\u001B[49m)\n",
      "\u001B[1;31mStopIteration\u001B[0m: "
     ]
    }
   ],
   "source": [
    "list_iterator = iter([1, 2, 3])\n",
    "\n",
    "print(next(list_iterator))\n",
    "print(next(list_iterator))\n",
    "print(next(list_iterator))\n",
    "\n",
    "print(next(list_iterator))"
   ],
   "metadata": {
    "collapsed": false,
    "ExecuteTime": {
     "end_time": "2025-02-27T11:20:43.165140800Z",
     "start_time": "2025-02-27T11:20:43.149663900Z"
    }
   },
   "id": "7a6404a135f16c30"
  },
  {
   "cell_type": "markdown",
   "source": [
    "Все итераторы также являются итерируемыми объектами, то есть мы можем получить итератор от итератора, при этом он вернет сам себя."
   ],
   "metadata": {
    "collapsed": false
   },
   "id": "f2d8c7bedfd0d97c"
  },
  {
   "cell_type": "code",
   "execution_count": 116,
   "outputs": [
    {
     "name": "stdout",
     "output_type": "stream",
     "text": [
      "True\n"
     ]
    }
   ],
   "source": [
    "list_iterator = iter([1, 2, 3])\n",
    "new_iterator = iter(list_iterator)\n",
    "\n",
    "print(list_iterator is new_iterator)"
   ],
   "metadata": {
    "collapsed": false,
    "ExecuteTime": {
     "end_time": "2025-02-27T11:21:04.741341300Z",
     "start_time": "2025-02-27T11:21:04.736631800Z"
    }
   },
   "id": "c8275190c467f779"
  },
  {
   "cell_type": "markdown",
   "source": [
    "Важно отметить, что итераторы являются одноразовыми объектами, то есть они сохраняют свое состояние. Это означает, что как только мы получили очередной элемент итератора, получить его вновь мы уже не сможем."
   ],
   "metadata": {
    "collapsed": false
   },
   "id": "db0c690225d52856"
  },
  {
   "cell_type": "code",
   "execution_count": 117,
   "outputs": [
    {
     "name": "stdout",
     "output_type": "stream",
     "text": [
      "[1, 2, 3]\n",
      "[]\n"
     ]
    }
   ],
   "source": [
    "list_iterator = iter([1, 2, 3])\n",
    "\n",
    "print(list(list_iterator))  # получаем все элементы итератора\n",
    "print(list(list_iterator))"
   ],
   "metadata": {
    "collapsed": false,
    "ExecuteTime": {
     "end_time": "2025-02-27T11:21:32.616373400Z",
     "start_time": "2025-02-27T11:21:32.611636800Z"
    }
   },
   "id": "5acade27cc886558"
  },
  {
   "cell_type": "code",
   "execution_count": 118,
   "outputs": [
    {
     "name": "stdout",
     "output_type": "stream",
     "text": [
      "True\n",
      "False\n",
      "False\n"
     ]
    }
   ],
   "source": [
    "list_iterator = iter([1, 2, 3])\n",
    "\n",
    "print(2 in list_iterator)\n",
    "print(2 in list_iterator)\n",
    "print(2 in list_iterator)"
   ],
   "metadata": {
    "collapsed": false,
    "ExecuteTime": {
     "end_time": "2025-02-27T11:21:44.542263Z",
     "start_time": "2025-02-27T11:21:44.536390600Z"
    }
   },
   "id": "ddb65fe2c932aa2a"
  },
  {
   "cell_type": "markdown",
   "source": [
    "В Python встроенные функции enumerate(), zip(), reversed() и другие возвращают итераторы."
   ],
   "metadata": {
    "collapsed": false
   },
   "id": "51bcc889566e2ca4"
  },
  {
   "cell_type": "code",
   "execution_count": 119,
   "outputs": [
    {
     "name": "stdout",
     "output_type": "stream",
     "text": [
      "<enumerate object at 0x000002D246EA6FC0>\n",
      "<zip object at 0x000002D2448AE680>\n",
      "<list_reverseiterator object at 0x000002D244018370>\n"
     ]
    }
   ],
   "source": [
    "numbers = [1, 2, 3]\n",
    "\n",
    "print(enumerate(numbers))\n",
    "print(zip(numbers, numbers))\n",
    "print(reversed(numbers))"
   ],
   "metadata": {
    "collapsed": false,
    "ExecuteTime": {
     "end_time": "2025-02-27T11:22:04.052759500Z",
     "start_time": "2025-02-27T11:22:04.046977700Z"
    }
   },
   "id": "fc23b9606be4334a"
  },
  {
   "cell_type": "markdown",
   "source": [
    "Генераторы (генераторная функция или генераторное выражение) — это один из самых простых способов создания собственных итераторов."
   ],
   "metadata": {
    "collapsed": false
   },
   "id": "8027e4f82e754a82"
  },
  {
   "cell_type": "code",
   "execution_count": 120,
   "outputs": [
    {
     "name": "stdout",
     "output_type": "stream",
     "text": [
      "<generator object <genexpr> at 0x000002D2448E9490>\n"
     ]
    }
   ],
   "source": [
    "numbers = [1, 2, 3]\n",
    "\n",
    "squares = (n ** 2 for n in numbers)\n",
    "print(squares)"
   ],
   "metadata": {
    "collapsed": false,
    "ExecuteTime": {
     "end_time": "2025-02-27T11:22:25.174854400Z",
     "start_time": "2025-02-27T11:22:25.167859400Z"
    }
   },
   "id": "824854b8b5fcf486"
  },
  {
   "cell_type": "markdown",
   "source": [
    "Таким образом, итераторы — это ленивые, одноразовые итерируемые объекты. Они ленивые, потому что у них есть возможность вычислять элементы только по мере того, как мы их перебираем. Они одноразовые, потому что как только мы использовали элемент из итератора, он исчезает навсегда."
   ],
   "metadata": {
    "collapsed": false
   },
   "id": "80d5e624e6f8bd24"
  },
  {
   "cell_type": "markdown",
   "source": [
    "Особенности range объектов"
   ],
   "metadata": {
    "collapsed": false
   },
   "id": "62cb065191d72ee0"
  },
  {
   "cell_type": "markdown",
   "source": [
    "Объекты, возвращаемые функцией range(), являются итерируемыми объектами."
   ],
   "metadata": {
    "collapsed": false
   },
   "id": "d1bb5c058bae01"
  },
  {
   "cell_type": "code",
   "execution_count": 121,
   "outputs": [
    {
     "name": "stdout",
     "output_type": "stream",
     "text": [
      "0\n",
      "1\n",
      "2\n",
      "[5, 6, 7, 8, 9]\n",
      "(5, 10, 15, 20, 25, 30, 35, 40, 45)\n"
     ]
    }
   ],
   "source": [
    "for i in range(3):\n",
    "    print(i)\n",
    "\n",
    "print(list(range(5, 10)))\n",
    "print(tuple(range(5, 50, 5)))"
   ],
   "metadata": {
    "collapsed": false,
    "ExecuteTime": {
     "end_time": "2025-02-27T11:26:47.957497200Z",
     "start_time": "2025-02-27T11:26:47.945396600Z"
    }
   },
   "id": "cf5f585211ad3bda"
  },
  {
   "cell_type": "markdown",
   "source": [
    "С помощью функции iter() мы можем получить итератор на основе range объекта."
   ],
   "metadata": {
    "collapsed": false
   },
   "id": "daae822c7629e7c0"
  },
  {
   "cell_type": "code",
   "execution_count": 122,
   "outputs": [
    {
     "name": "stdout",
     "output_type": "stream",
     "text": [
      "<range_iterator object at 0x000002D2448D07F0>\n"
     ]
    }
   ],
   "source": [
    "range_iterator = iter(range(3))\n",
    "\n",
    "print(range_iterator)"
   ],
   "metadata": {
    "collapsed": false,
    "ExecuteTime": {
     "end_time": "2025-02-27T11:28:19.017459100Z",
     "start_time": "2025-02-27T11:28:19.012655900Z"
    }
   },
   "id": "80e600035bbeb114"
  },
  {
   "cell_type": "markdown",
   "source": [
    "Важно понимать, что сам range объект итератором не является. Мы не можем вызвать функцию next(), передав в нее в качестве аргумента range объект."
   ],
   "metadata": {
    "collapsed": false
   },
   "id": "8a57fcd98387f188"
  },
  {
   "cell_type": "code",
   "execution_count": 123,
   "outputs": [
    {
     "ename": "TypeError",
     "evalue": "'range' object is not an iterator",
     "output_type": "error",
     "traceback": [
      "\u001B[1;31m---------------------------------------------------------------------------\u001B[0m",
      "\u001B[1;31mTypeError\u001B[0m                                 Traceback (most recent call last)",
      "Cell \u001B[1;32mIn[123], line 3\u001B[0m\n\u001B[0;32m      1\u001B[0m range_obj \u001B[38;5;241m=\u001B[39m \u001B[38;5;28mrange\u001B[39m(\u001B[38;5;241m3\u001B[39m)\n\u001B[1;32m----> 3\u001B[0m \u001B[38;5;28mprint\u001B[39m(\u001B[38;5;28;43mnext\u001B[39;49m\u001B[43m(\u001B[49m\u001B[43mrange_obj\u001B[49m\u001B[43m)\u001B[49m)\n",
      "\u001B[1;31mTypeError\u001B[0m: 'range' object is not an iterator"
     ]
    }
   ],
   "source": [
    "range_obj = range(3)\n",
    "\n",
    "print(next(range_obj))"
   ],
   "metadata": {
    "collapsed": false,
    "ExecuteTime": {
     "end_time": "2025-02-27T11:29:00.544902100Z",
     "start_time": "2025-02-27T11:29:00.534242600Z"
    }
   },
   "id": "50949e233f6bc101"
  },
  {
   "cell_type": "markdown",
   "source": [
    "В отличие от итераторов, мы можем итерировать по одному range объекту сколько угодно раз, каждый раз получая все его элементы."
   ],
   "metadata": {
    "collapsed": false
   },
   "id": "428530269a238d53"
  },
  {
   "cell_type": "code",
   "execution_count": 124,
   "outputs": [
    {
     "name": "stdout",
     "output_type": "stream",
     "text": [
      "[0, 1, 2]\n",
      "[0, 1, 2]\n"
     ]
    }
   ],
   "source": [
    "range_obj = range(3)\n",
    "\n",
    "print(list(range_obj))\n",
    "print(list(range_obj))"
   ],
   "metadata": {
    "collapsed": false,
    "ExecuteTime": {
     "end_time": "2025-02-27T11:29:23.072775800Z",
     "start_time": "2025-02-27T11:29:23.067993400Z"
    }
   },
   "id": "29c1924b42130775"
  },
  {
   "cell_type": "markdown",
   "source": [
    "Объекты, возвращаемые функцией range(), в отличие от объектов, возвращаемых функциями enumerate(), zip(), reversed(), итераторами не являются."
   ],
   "metadata": {
    "collapsed": false
   },
   "id": "bb1aca0d3ec694cc"
  },
  {
   "cell_type": "markdown",
   "source": [
    "Объект range в некотором смысле ленив, потому что он не хранит все свои элементы явно, вместо этого он генерирует нужные значения по мере необходимости."
   ],
   "metadata": {
    "collapsed": false
   },
   "id": "a4d506d684d802c1"
  },
  {
   "cell_type": "markdown",
   "source": [
    "В отличие от итераторов, мы можем использовать встроенную функцию len(), индексацию и срезы на range объектах."
   ],
   "metadata": {
    "collapsed": false
   },
   "id": "660a70348153f281"
  },
  {
   "cell_type": "code",
   "execution_count": 125,
   "outputs": [
    {
     "name": "stdout",
     "output_type": "stream",
     "text": [
      "5 10 15 20 25 30 35 40 45\n",
      "9\n",
      "20\n",
      "45\n",
      "range(25, 45, 5)\n"
     ]
    }
   ],
   "source": [
    "range_obj = range(5, 50, 5)\n",
    "\n",
    "print(*range_obj)\n",
    "print(len(range_obj))\n",
    "print(range_obj[3])\n",
    "print(range_obj[-1])\n",
    "print(range_obj[4:8])"
   ],
   "metadata": {
    "collapsed": false,
    "ExecuteTime": {
     "end_time": "2025-02-27T11:30:10.246622400Z",
     "start_time": "2025-02-27T11:30:10.239829900Z"
    }
   },
   "id": "f49832df9c1f0276"
  },
  {
   "cell_type": "markdown",
   "source": [
    "Мы также можем повторно определять принадлежность некоторого значения range объекту с помощью оператора in."
   ],
   "metadata": {
    "collapsed": false
   },
   "id": "e0a3418f6bfdd05c"
  },
  {
   "cell_type": "code",
   "execution_count": 126,
   "outputs": [
    {
     "name": "stdout",
     "output_type": "stream",
     "text": [
      "True\n",
      "True\n",
      "True\n"
     ]
    }
   ],
   "source": [
    "range_obj = range(5, 50, 5)\n",
    "\n",
    "print(15 in range_obj)\n",
    "print(15 in range_obj)\n",
    "print(15 in range_obj)"
   ],
   "metadata": {
    "collapsed": false,
    "ExecuteTime": {
     "end_time": "2025-02-27T11:31:02.750395900Z",
     "start_time": "2025-02-27T11:31:02.743383500Z"
    }
   },
   "id": "6c59751b4c1eb9"
  },
  {
   "cell_type": "markdown",
   "source": [
    "Таким образом, наиболее подходящее описание range объектов — это ленивые последовательности. Это последовательности (подобно спискам, кортежам и строкам), но не хранящие в памяти все свои элементы."
   ],
   "metadata": {
    "collapsed": false
   },
   "id": "9162edaa69d711b"
  },
  {
   "cell_type": "markdown",
   "source": [
    "Примечания"
   ],
   "metadata": {
    "collapsed": false
   },
   "id": "d9a52f5cbfc4fdb9"
  },
  {
   "cell_type": "markdown",
   "source": [
    "Примечание 1. range объекты содержат три атрибута: start, stop, step."
   ],
   "metadata": {
    "collapsed": false
   },
   "id": "4e59923578109d5f"
  },
  {
   "cell_type": "code",
   "execution_count": 127,
   "outputs": [
    {
     "name": "stdout",
     "output_type": "stream",
     "text": [
      "0 10 1\n",
      "3 20 1\n",
      "5 50 10\n"
     ]
    }
   ],
   "source": [
    "range1 = range(10)\n",
    "range2 = range(3, 20)\n",
    "range3 = range(5, 50, 10)\n",
    "\n",
    "print(range1.start, range1.stop, range1.step)\n",
    "print(range2.start, range2.stop, range2.step)\n",
    "print(range3.start, range3.stop, range3.step)"
   ],
   "metadata": {
    "collapsed": false,
    "ExecuteTime": {
     "end_time": "2025-02-27T11:32:16.661291700Z",
     "start_time": "2025-02-27T11:32:16.654249400Z"
    }
   },
   "id": "dd5a8e52ff58f130"
  },
  {
   "cell_type": "markdown",
   "source": [
    "Примечание 2. range объекты можно сравнивать между собой с помощью операторов сравнения == и !=. Два range объекта считаются равными, если они представляют равные последовательности чисел."
   ],
   "metadata": {
    "collapsed": false
   },
   "id": "60f5efe54237bb1d"
  },
  {
   "cell_type": "code",
   "execution_count": 128,
   "outputs": [
    {
     "name": "stdout",
     "output_type": "stream",
     "text": [
      "True\n",
      "False\n"
     ]
    }
   ],
   "source": [
    "range1 = range(10)\n",
    "range2 = range(0, 10, 1)\n",
    "range3 = range(5, 50, 10)\n",
    "\n",
    "print(range1 == range2)\n",
    "print(range1 == range3)"
   ],
   "metadata": {
    "collapsed": false,
    "ExecuteTime": {
     "end_time": "2025-02-27T11:32:56.663885800Z",
     "start_time": "2025-02-27T11:32:56.654948Z"
    }
   },
   "id": "985ef17998996873"
  },
  {
   "cell_type": "markdown",
   "source": [
    "Обратите внимание на то, что два равных range объекта могут иметь разные значения атрибутов start, step и stop."
   ],
   "metadata": {
    "collapsed": false
   },
   "id": "2b7a41d3976056f4"
  },
  {
   "cell_type": "code",
   "execution_count": 129,
   "outputs": [
    {
     "name": "stdout",
     "output_type": "stream",
     "text": [
      "True\n",
      "True\n"
     ]
    }
   ],
   "source": [
    "print(range(0) == range(2, 1, 3))\n",
    "print(range(0, 3, 2) == range(0, 4, 2))"
   ],
   "metadata": {
    "collapsed": false,
    "ExecuteTime": {
     "end_time": "2025-02-27T11:33:27.707969300Z",
     "start_time": "2025-02-27T11:33:27.701018700Z"
    }
   },
   "id": "b7fb356af0a02a37"
  },
  {
   "cell_type": "markdown",
   "source": [
    "Примечание 3. Поиск по range объекту с помощью оператора in работает очень быстро, без последовательного перебора всех значений."
   ],
   "metadata": {
    "collapsed": false
   },
   "id": "5af5295d850cf29"
  },
  {
   "cell_type": "markdown",
   "source": [
    "Примечание 4. Тип range реализован на языке Cи и является очень быстрым и оптимизированным. "
   ],
   "metadata": {
    "collapsed": false
   },
   "id": "a9a905444317510e"
  },
  {
   "cell_type": "markdown",
   "source": [
    "Функция unique()\n",
    "Реализуйте генераторную функцию, которая принимает один аргумент:\n",
    "\n",
    "iterable — итерируемый объект\n",
    "Функция должна возвращать генератор, порождающий последовательность элементов итерируемого объекта iterable без дубликатов.\n",
    "\n",
    "Примечание 1. Элементы итерируемого объекта в возвращаемом функцией генераторе должны располагаться в своем исходном порядке.\n",
    "\n",
    "Примечание 2. Гарантируется, что итерируемый объект, передаваемый в функцию, не является множеством."
   ],
   "metadata": {
    "collapsed": false
   },
   "id": "1113215aea526ab"
  },
  {
   "cell_type": "code",
   "execution_count": 139,
   "outputs": [
    {
     "name": "stdout",
     "output_type": "stream",
     "text": [
      "1 2 3 4 5\n",
      "1\n",
      "2\n",
      "3\n"
     ]
    }
   ],
   "source": [
    "def unique(iter):\n",
    "    st = set()\n",
    "    for i in iter:\n",
    "        if i not in st:\n",
    "            yield i\n",
    "            st.add(i)\n",
    "\n",
    "\n",
    "def unique(numbers):\n",
    "    yield from dict.fromkeys(numbers)\n",
    "\n",
    "\n",
    "numbers = [1, 2, 2, 3, 4, 5, 5, 5]\n",
    "print(*unique(numbers))\n",
    "\n",
    "iterator = iter('111222333')\n",
    "uniques = unique(iterator)\n",
    "print(next(uniques))\n",
    "print(next(uniques))\n",
    "print(next(uniques))"
   ],
   "metadata": {
    "collapsed": false,
    "ExecuteTime": {
     "end_time": "2025-02-27T12:22:18.805851200Z",
     "start_time": "2025-02-27T12:22:18.790548500Z"
    }
   },
   "id": "e06a4ee689466cab"
  },
  {
   "cell_type": "markdown",
   "source": [
    "Функция stop_on()\n",
    "Реализуйте генераторную функцию, которая принимает два аргумента в следующем порядке:\n",
    "\n",
    "iterable — итерируемый объект\n",
    "obj — произвольный объект\n",
    "Функция должна возвращать генератор, порождающий последовательность элементов итерируемого объекта iterable до тех пор, пока не будет достигнут элемент, равный obj. Если итерируемый объект iterable не содержит ни одного элемента, равного obj, генератор должен породить все элементы iterable.\n",
    "\n",
    "Примечание 1. Элементы итерируемого объекта в возвращаемом функцией генераторе должны располагаться в своем исходном порядке.\n",
    "\n",
    "Примечание 2. Гарантируется, что итерируемый объект, передаваемый в функцию, не является множеством."
   ],
   "metadata": {
    "collapsed": false
   },
   "id": "87351fdb7735048e"
  },
  {
   "cell_type": "code",
   "execution_count": 141,
   "outputs": [
    {
     "name": "stdout",
     "output_type": "stream",
     "text": [
      "1 2 3\n",
      "b e e g e e k\n"
     ]
    }
   ],
   "source": [
    "def stop_on(iterable, obj):\n",
    "    st = set()\n",
    "    for i in iterable:\n",
    "        st.add(i)\n",
    "        if obj not in st:\n",
    "            yield i\n",
    "\n",
    "\n",
    "# Если функции iter() передается два аргумента, то первый аргумент callable должен являться функцией, а второй аргумент sentinel — некоторым стоп-значением. В этом случае, созданный итератор будет вызывать указанную функцию callable и проверять полученное значение на равенство со значением sentinel. Если полученное значение равно sentinel, то возбуждается исключение StopIteration, иначе итератор выдает значение, полученное из функции callable.\n",
    "\n",
    "def stop_on(iterable, obj):\n",
    "    it = iter(iterable)\n",
    "    return iter(lambda: next(it), obj)\n",
    "\n",
    "\n",
    "numbers = [1, 2, 3, 4, 5]\n",
    "print(*stop_on(numbers, 4))\n",
    "\n",
    "iterator = iter('beegeek')\n",
    "print(*stop_on(iterator, 'a'))"
   ],
   "metadata": {
    "collapsed": false,
    "ExecuteTime": {
     "end_time": "2025-02-27T12:27:38.372511600Z",
     "start_time": "2025-02-27T12:27:38.356418600Z"
    }
   },
   "id": "c230488c11dc9f53"
  },
  {
   "cell_type": "markdown",
   "source": [
    "Функция with_previous()\n",
    "Реализуйте генераторную функцию, которая принимает один аргумент:\n",
    "\n",
    "iterable — итерируемый объект\n",
    "Функция должна возвращать генератор, порождающий последовательность кортежей, каждый из которых содержит очередной элемент итерируемого объекта iterable, а также предшествующий ему элемент:\n",
    "\n",
    "(<очередной элемент>, <предыдущий элемент>)\n",
    "Для первого элемента предыдущим считается значение None.\n",
    "\n",
    "Примечание 1. Элементы итерируемого объекта в возвращаемом функцией генераторе должны располагаться в своем исходном порядке.\n",
    "\n",
    "Примечание 2. Гарантируется, что итерируемый объект, передаваемый в функцию, не является множеством."
   ],
   "metadata": {
    "collapsed": false
   },
   "id": "4966c2ccdcd75f64"
  },
  {
   "cell_type": "code",
   "execution_count": 158,
   "outputs": [
    {
     "name": "stdout",
     "output_type": "stream",
     "text": [
      "(1, None) (2, 1) (3, 2) (4, 3) (5, 4)\n",
      "('s', None) ('t', 's') ('e', 't') ('p', 'e') ('i', 'p') ('k', 'i')\n"
     ]
    }
   ],
   "source": [
    "def with_previous(iterable):\n",
    "    iterable = list(iterable).copy()\n",
    "    for i, v in enumerate(iterable):\n",
    "        if i == 0:\n",
    "            i = None\n",
    "        else:\n",
    "            i = iterable[i - 1]\n",
    "        yield v, i\n",
    "\n",
    "def with_previous(iterable):\n",
    "    prev = None\n",
    "    return ((i, prev, prev := i)[:-1] for i in iterable)\n",
    "\n",
    "numbers = [1, 2, 3, 4, 5]\n",
    "print(*with_previous(numbers))\n",
    "\n",
    "iterator = iter('stepik')\n",
    "print(*with_previous(iterator))"
   ],
   "metadata": {
    "collapsed": false,
    "ExecuteTime": {
     "end_time": "2025-02-28T05:45:16.183370900Z",
     "start_time": "2025-02-28T05:45:16.176853100Z"
    }
   },
   "id": "40d909babb104add"
  },
  {
   "cell_type": "code",
   "execution_count": 153,
   "outputs": [
    {
     "data": {
      "text/plain": "1"
     },
     "execution_count": 153,
     "metadata": {},
     "output_type": "execute_result"
    }
   ],
   "source": [
    "# iterator = iter('stepik')\n",
    "iterator = [1, 2, 3, 4, 5]\n",
    "iterator = list(iterator)\n",
    "iterator[0]"
   ],
   "metadata": {
    "collapsed": false,
    "ExecuteTime": {
     "end_time": "2025-02-28T05:43:22.808447300Z",
     "start_time": "2025-02-28T05:43:22.800827700Z"
    }
   },
   "id": "885aae907b0e66da"
  },
  {
   "cell_type": "markdown",
   "source": [
    "Функция pairwise()\n",
    "Реализуйте генераторную функцию, которая принимает один аргумент:\n",
    "\n",
    "iterable — итерируемый объект\n",
    "Функция должна возвращать генератор, порождающий последовательность кортежей, каждый из которых содержит очередной элемент итерируемого объекта iterable, а также следующий за ним элемент:\n",
    "\n",
    "(<очередной элемент>, <следующий элемент>)\n",
    "Для последнего элемента следующим считается значение None.\n",
    "\n",
    "Примечание 1. Элементы итерируемого объекта в возвращаемом функцией генераторе должны располагаться в своем исходном порядке.\n",
    "\n",
    "Примечание 2. Гарантируется, что итерируемый объект, передаваемый в функцию, не является множеством."
   ],
   "metadata": {
    "collapsed": false
   },
   "id": "2994a5fc47f4b110"
  },
  {
   "cell_type": "code",
   "execution_count": 173,
   "outputs": [
    {
     "name": "stdout",
     "output_type": "stream",
     "text": [
      "(1, 2) (2, 3) (3, 4) (4, 5) (5, None)\n",
      "('s', 't') ('t', 'e') ('e', 'p') ('p', 'i') ('i', 'k') ('k', None)\n",
      "[]\n"
     ]
    }
   ],
   "source": [
    "def pairwise(iterable):\n",
    "    iterator = iter(iterable)\n",
    "    if (prev := next(iterator, None)) is not None:\n",
    "        for curr in iterator:\n",
    "            yield prev, curr\n",
    "            prev = curr\n",
    "        yield prev, None\n",
    "\n",
    "numbers = [1, 2, 3, 4, 5]\n",
    "print(*pairwise(numbers))\n",
    "\n",
    "iterator = iter('stepik')\n",
    "print(*pairwise(iterator))\n",
    "\n",
    "print(list(pairwise([])))"
   ],
   "metadata": {
    "collapsed": false,
    "ExecuteTime": {
     "end_time": "2025-02-28T06:47:56.787564800Z",
     "start_time": "2025-02-28T06:47:56.772166300Z"
    }
   },
   "id": "944cbf8b01c6cbd3"
  },
  {
   "cell_type": "markdown",
   "source": [
    "Функция around()\n",
    "Реализуйте генераторную функцию, которая принимает один аргумент:\n",
    "\n",
    "iterable — итерируемый объект\n",
    "Функция должна возвращать генератор, порождающий последовательность кортежей, каждый из которых содержит очередной элемент итерируемого объекта iterable, а также предыдущий и следующий за ним элементы:\n",
    "\n",
    "(<предыдущий элемент>, <очередной элемент>, <следующий элемент>)\n",
    "Для первого элемента предыдущим считается значение None, для последнего элемента следующим считается так же значение None.\n",
    "\n",
    "Примечание 1. Элементы итерируемого объекта в возвращаемом функцией генераторе должны располагаться в своем исходном порядке.\n",
    "\n",
    "Примечание 2. Гарантируется, что итерируемый объект, передаваемый в функцию, не является множеством."
   ],
   "metadata": {
    "collapsed": false
   },
   "id": "7f9f3e6da01f2c92"
  },
  {
   "cell_type": "code",
   "execution_count": 18,
   "outputs": [
    {
     "name": "stdout",
     "output_type": "stream",
     "text": [
      "(None, 1, 2) (1, 2, 3) (2, 3, 4) (3, 4, 5) (4, 5, None)\n",
      "(None, 'h', 'e') ('h', 'e', 'y') ('e', 'y', None)\n"
     ]
    }
   ],
   "source": [
    "def around(iterable):\n",
    "    iterator = iter(iterable)\n",
    "    prev = None\n",
    "    curr = next(iterator, None)\n",
    "    while curr is not None:\n",
    "        nextt = next(iterator, None)\n",
    "        yield prev, curr, nextt\n",
    "        prev, curr = curr, nextt\n",
    "\n",
    "def around(iterable):\n",
    "    it = tuple(iterable)\n",
    "    yield from zip((None, *it), it, (*it[1:], None))\n",
    "\n",
    "def around(iterable):\n",
    "    if iterable:\n",
    "        iterator = iter(iterable)\n",
    "        b = None\n",
    "        c = next(iterator)\n",
    "        yield from ((a:=b, b:=c, c:=d) for d in iterator)\n",
    "        yield (b, c, None)\n",
    "        \n",
    "numbers = [1, 2, 3, 4, 5]\n",
    "print(*around(numbers))\n",
    "\n",
    "iterator = iter('hey')\n",
    "print(*around(iterator))"
   ],
   "metadata": {
    "collapsed": false,
    "ExecuteTime": {
     "end_time": "2025-02-28T07:48:35.496960100Z",
     "start_time": "2025-02-28T07:48:35.489003300Z"
    }
   },
   "id": "ad6028bf877e8f5a"
  }
 ],
 "metadata": {
  "kernelspec": {
   "display_name": "Python 3",
   "language": "python",
   "name": "python3"
  },
  "language_info": {
   "codemirror_mode": {
    "name": "ipython",
    "version": 2
   },
   "file_extension": ".py",
   "mimetype": "text/x-python",
   "name": "python",
   "nbconvert_exporter": "python",
   "pygments_lexer": "ipython2",
   "version": "2.7.6"
  }
 },
 "nbformat": 4,
 "nbformat_minor": 5
}

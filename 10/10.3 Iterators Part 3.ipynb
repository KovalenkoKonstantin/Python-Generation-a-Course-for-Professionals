{
 "cells": [
  {
   "cell_type": "markdown",
   "source": [
    "Тема урока: итераторы\n",
    "Магические методы (dunders)\n",
    "Протокол итератора и итерируемого объекта\n",
    "Особенности функции iter()\n",
    "Аннотация. Урок посвящен протоколу итератора и магическим методам."
   ],
   "metadata": {
    "collapsed": false
   },
   "id": "cb99669c4fb66cf0"
  },
  {
   "cell_type": "markdown",
   "source": [
    "Магические методы"
   ],
   "metadata": {
    "collapsed": false
   },
   "id": "d9cc074e6b5d8fdb"
  },
  {
   "cell_type": "markdown",
   "source": [
    "В Python существуют методы, которые редко вызываются напрямую, при этом они постоянно вызываются встроенными функциями и операторами, даже если мы об этом не знаем. Такие методы называются магическими и обрамляются двойным нижним подчеркиванием с двух сторон."
   ],
   "metadata": {
    "collapsed": false
   },
   "id": "21fec3e9ab95b3fb"
  },
  {
   "cell_type": "markdown",
   "source": [
    "Использование магических методов позволяет сделать работу с создаваемыми пользователем объектами удобной за счет схожести с встроенными объектами языка."
   ],
   "metadata": {
    "collapsed": false
   },
   "id": "2d3a1f9a40614cb9"
  },
  {
   "cell_type": "markdown",
   "source": [
    "Магические методы еще называют dunders(болваны) от double underscore (двойное нижнее подчеркивание)."
   ],
   "metadata": {
    "collapsed": false
   },
   "id": "f9d58f9eb98c9e62"
  },
  {
   "cell_type": "markdown",
   "source": [
    "Например, у объектов типа list есть магические методы __len__() и __str__(). Первый магический метод вызывается автоматически встроенной функцией len(), которая возвращает длину списка, второй метод вызывается встроенной функцией str(), которая возвращает строковое представление списка."
   ],
   "metadata": {
    "collapsed": false
   },
   "id": "f497dcb532ff7819"
  },
  {
   "cell_type": "code",
   "execution_count": 1,
   "outputs": [
    {
     "name": "stdout",
     "output_type": "stream",
     "text": [
      "3\n",
      "['hello', 'beegeek', 'python']\n"
     ]
    }
   ],
   "source": [
    "words = ['hello', 'beegeek', 'python']\n",
    "\n",
    "print(len(words))  # за кулисами вызывается магический метод __len__()\n",
    "print(str(words))  # за кулисами вызывается магический метод __str__()"
   ],
   "metadata": {
    "collapsed": false,
    "ExecuteTime": {
     "end_time": "2025-02-19T07:55:03.255163200Z",
     "start_time": "2025-02-19T07:55:03.246773500Z"
    }
   },
   "id": "4cbed631c47f0144"
  },
  {
   "cell_type": "markdown",
   "source": [
    "Нам ничего не мешает вызвать указанные магические методы напрямую."
   ],
   "metadata": {
    "collapsed": false
   },
   "id": "536931fce54f98b1"
  },
  {
   "cell_type": "code",
   "execution_count": 2,
   "outputs": [
    {
     "name": "stdout",
     "output_type": "stream",
     "text": [
      "3\n",
      "['hello', 'beegeek', 'python']\n"
     ]
    }
   ],
   "source": [
    "words = ['hello', 'beegeek', 'python']\n",
    "\n",
    "print(words.__len__())\n",
    "print(words.__str__())"
   ],
   "metadata": {
    "collapsed": false,
    "ExecuteTime": {
     "end_time": "2025-02-19T07:55:23.609083200Z",
     "start_time": "2025-02-19T07:55:23.604563600Z"
    }
   },
   "id": "e77de68df136c998"
  },
  {
   "cell_type": "markdown",
   "source": [
    "На практике нам редко приходится явно вызывать магические методы. Обычно за нас это делают встроенные функции языка Python."
   ],
   "metadata": {
    "collapsed": false
   },
   "id": "3a26ba4a4d9dbdad"
  },
  {
   "cell_type": "markdown",
   "source": [
    "Посмотреть список всех методов и атрибутов Python объекта можно с помощью встроенной функции dir()"
   ],
   "metadata": {
    "collapsed": false
   },
   "id": "8a444e44b9dc031c"
  },
  {
   "cell_type": "code",
   "execution_count": 4,
   "outputs": [
    {
     "name": "stdout",
     "output_type": "stream",
     "text": [
      "['__add__', '__class__', '__class_getitem__', '__contains__', '__delattr__', '__delitem__', '__dir__', '__doc__', '__eq__', '__format__', '__ge__', '__getattribute__', '__getitem__', '__getstate__', '__gt__', '__hash__', '__iadd__', '__imul__', '__init__', '__init_subclass__', '__iter__', '__le__', '__len__', '__lt__', '__mul__', '__ne__', '__new__', '__reduce__', '__reduce_ex__', '__repr__', '__reversed__', '__rmul__', '__setattr__', '__setitem__', '__sizeof__', '__str__', '__subclasshook__', 'append', 'clear', 'copy', 'count', 'extend', 'index', 'insert', 'pop', 'remove', 'reverse', 'sort']\n"
     ]
    }
   ],
   "source": [
    "words = ['hello', 'beegeek', 'python']\n",
    "print(dir(words))"
   ],
   "metadata": {
    "collapsed": false,
    "ExecuteTime": {
     "end_time": "2025-02-19T07:56:48.392812Z",
     "start_time": "2025-02-19T07:56:48.388802200Z"
    }
   },
   "id": "b83da62cb94d8f43"
  },
  {
   "cell_type": "markdown",
   "source": [
    "Обратите внимание на то, что публичные методы, то есть методы которые вызываются явно (append(), count(), extend(), index() и т.д.), не имеют нижних подчеркиваний."
   ],
   "metadata": {
    "collapsed": false
   },
   "id": "fa5a5f3dae1a17ab"
  },
  {
   "cell_type": "markdown",
   "source": [
    "Протокол итерируемых объектов и итераторов"
   ],
   "metadata": {
    "collapsed": false
   },
   "id": "c08c059fddb0bd6d"
  },
  {
   "cell_type": "markdown",
   "source": [
    "У всех итерируемых объектов есть магический метод __iter__(), который создаёт итератор на основе итерируемого объекта. Встроенная функция iter() вызывает за кулисами именно этот магический метод."
   ],
   "metadata": {
    "collapsed": false
   },
   "id": "9516ad06b050a051"
  },
  {
   "cell_type": "code",
   "execution_count": 5,
   "outputs": [
    {
     "name": "stdout",
     "output_type": "stream",
     "text": [
      "<class 'list'>\n",
      "<class 'list_iterator'>\n"
     ]
    }
   ],
   "source": [
    "words = ['hello', 'beegeek', 'python']\n",
    "\n",
    "iterator = iter(words)  # за кулисами вызывается метод words.__iter__()\n",
    "\n",
    "print(type(words))\n",
    "print(type(iterator))"
   ],
   "metadata": {
    "collapsed": false,
    "ExecuteTime": {
     "end_time": "2025-02-19T07:58:13.801423100Z",
     "start_time": "2025-02-19T07:58:13.797416500Z"
    }
   },
   "id": "7feafd26e36ca31a"
  },
  {
   "cell_type": "markdown",
   "source": [
    "У всех итераторов есть магический метод __next__(), который обеспечивает выдачу очередного элемента. Встроенная функция next() вызывает за кулисами именно этот магический метод. "
   ],
   "metadata": {
    "collapsed": false
   },
   "id": "f1fd0207ad09a8fe"
  },
  {
   "cell_type": "code",
   "execution_count": 6,
   "outputs": [
    {
     "name": "stdout",
     "output_type": "stream",
     "text": [
      "hello\n",
      "beegeek\n"
     ]
    }
   ],
   "source": [
    "words = ['hello', 'beegeek', 'python']\n",
    "\n",
    "iterator = iter(words)  # за кулисами вызывается метод words.__iter__()\n",
    "\n",
    "print(next(iterator))  # за кулисами вызывается метод iterator.__next__()\n",
    "print(next(iterator))  # за кулисами вызывается метод iterator.__next__()"
   ],
   "metadata": {
    "collapsed": false,
    "ExecuteTime": {
     "end_time": "2025-02-19T07:58:43.716495400Z",
     "start_time": "2025-02-19T07:58:43.710869100Z"
    }
   },
   "id": "65fcfc8169e33785"
  },
  {
   "cell_type": "markdown",
   "source": [
    "Когда элементы в итераторе закончились, очередной вызов функции next() возбуждает исключение StopIteration"
   ],
   "metadata": {
    "collapsed": false
   },
   "id": "f18f09f49d1bcc41"
  },
  {
   "cell_type": "markdown",
   "source": [
    "Если объект итератором не является, то есть у него нет магического метода __next__(), то вызов функции next() приведет к ошибке."
   ],
   "metadata": {
    "collapsed": false
   },
   "id": "c4f6c4a3124ed3a8"
  },
  {
   "cell_type": "code",
   "execution_count": 7,
   "outputs": [
    {
     "ename": "TypeError",
     "evalue": "'list' object is not an iterator",
     "output_type": "error",
     "traceback": [
      "\u001B[1;31m---------------------------------------------------------------------------\u001B[0m",
      "\u001B[1;31mTypeError\u001B[0m                                 Traceback (most recent call last)",
      "Cell \u001B[1;32mIn[7], line 3\u001B[0m\n\u001B[0;32m      1\u001B[0m words \u001B[38;5;241m=\u001B[39m [\u001B[38;5;124m'\u001B[39m\u001B[38;5;124mhello\u001B[39m\u001B[38;5;124m'\u001B[39m, \u001B[38;5;124m'\u001B[39m\u001B[38;5;124mbeegeek\u001B[39m\u001B[38;5;124m'\u001B[39m, \u001B[38;5;124m'\u001B[39m\u001B[38;5;124mpython\u001B[39m\u001B[38;5;124m'\u001B[39m]\n\u001B[1;32m----> 3\u001B[0m \u001B[38;5;28mprint\u001B[39m(\u001B[38;5;28;43mnext\u001B[39;49m\u001B[43m(\u001B[49m\u001B[43mwords\u001B[49m\u001B[43m)\u001B[49m)\n",
      "\u001B[1;31mTypeError\u001B[0m: 'list' object is not an iterator"
     ]
    }
   ],
   "source": [
    "words = ['hello', 'beegeek', 'python']\n",
    "\n",
    "print(next(words))"
   ],
   "metadata": {
    "collapsed": false,
    "ExecuteTime": {
     "end_time": "2025-02-19T07:59:34.840113400Z",
     "start_time": "2025-02-19T07:59:34.618186900Z"
    }
   },
   "id": "fd4ca4c984e7f641"
  },
  {
   "cell_type": "markdown",
   "source": [
    "У всех итераторов также есть и метод __iter__(), который возвращает сам итератор (сам себя). Таким образом, любой итератор является итерируемым объектом, но не наоборот, не любой итерируемый объект является итератором."
   ],
   "metadata": {
    "collapsed": false
   },
   "id": "86919042f3531cb9"
  },
  {
   "cell_type": "code",
   "execution_count": 8,
   "outputs": [
    {
     "name": "stdout",
     "output_type": "stream",
     "text": [
      "True\n"
     ]
    }
   ],
   "source": [
    "words = ['hello', 'beegeek', 'python']\n",
    "\n",
    "iterator1 = iter(words)  # за кулисами вызывается метод words.__iter__()\n",
    "iterator2 = iter(iterator1)  # за кулисами вызывается метод iterator1.__iter__()\n",
    "\n",
    "print(iterator1 == iterator2)"
   ],
   "metadata": {
    "collapsed": false,
    "ExecuteTime": {
     "end_time": "2025-02-19T08:03:46.998134700Z",
     "start_time": "2025-02-19T08:03:46.993128400Z"
    }
   },
   "id": "bf70bcacffa8d148"
  },
  {
   "cell_type": "markdown",
   "source": [
    "Таким образом, если функции iter() передается итератор, то она возвращает его же. Если же функции iter() передать итерируемый объект, не являющийся итератором (например, список), то она вернет совсем другой объект – итератор на основе этого итерируемого объекта."
   ],
   "metadata": {
    "collapsed": false
   },
   "id": "c9c5faaac72a98c1"
  },
  {
   "cell_type": "markdown",
   "source": [
    "Возникает вопрос, для чего итераторы содержат магический метод __iter__(). Все дело в том, что цикл for ожидает, что у объекта, по которому идет итерирование, есть не только магический метод __next__(), но и __iter__(). Задача метода __iter__() – превращать итерируемый объект в итератор. Если в цикл for передается уже итератор, то метод __iter__() этого объекта должен возвращать сам объект."
   ],
   "metadata": {
    "collapsed": false
   },
   "id": "7fc3961cdc728507"
  },
  {
   "cell_type": "markdown",
   "source": [
    "Если циклу for передается не итератор, а итерируемый объект, то его метод __iter__() должен возвращать не сам объект, а итератор на основе этого итерируемого объекта."
   ],
   "metadata": {
    "collapsed": false
   },
   "id": "b01daaa3b2de6e11"
  },
  {
   "cell_type": "markdown",
   "source": [
    "Получается, в итераторах метод __iter__() нужен лишь для совместимости. Ведь если for работает как с итераторами, так и итерируемыми объектами, но последние требуют преобразования к итератору, и for вызывает __iter__() без оценки того, что ему передали, то требуется, чтобы оба – итератор (iterator) и итерируемый объект (iterable) – поддерживали этот метод. С точки зрения наличия в классе метода __iter__() итераторы можно считать подвидом итерируемых объектов."
   ],
   "metadata": {
    "collapsed": false
   },
   "id": "ff3387bb58d4ffb0"
  },
  {
   "cell_type": "code",
   "execution_count": 9,
   "outputs": [
    {
     "data": {
      "image/png": "[encoded data removed]",
      "text/plain": "<IPython.core.display.Image object>"
     },
     "metadata": {},
     "output_type": "display_data"
    }
   ],
   "source": [
    "from functions import picture\n",
    "\n",
    "picture('Новый проект (1) (9).png')"
   ],
   "metadata": {
    "collapsed": false,
    "ExecuteTime": {
     "end_time": "2025-02-19T08:16:36.204475100Z",
     "start_time": "2025-02-19T08:16:36.177195300Z"
    }
   },
   "id": "e40a9a38123fccd0"
  },
  {
   "cell_type": "markdown",
   "source": [
    "Протокол итератора"
   ],
   "metadata": {
    "collapsed": false
   },
   "id": "860fa2a4d24c1197"
  },
  {
   "cell_type": "markdown",
   "source": [
    "Теперь формализуем протокол итератора :\n",
    "\n",
    "чтобы получить итератор, мы должны передать функции iter() итерируемый объект\n",
    "далее мы передаём итератор функции next()\n",
    "когда элементы в итераторе закончились, вызов функции next() возбуждает исключение StopIteration"
   ],
   "metadata": {
    "collapsed": false
   },
   "id": "ecf66cb27b9efa42"
  },
  {
   "cell_type": "markdown",
   "source": [
    "Особенности:\n",
    "\n",
    "любой объект, передаваемый функции iter() без исключения TypeError — итерируемый объект\n",
    "любой объект, передаваемый функции next() без исключения TypeError — итератор\n",
    "любой объект, передаваемый функции iter() и возвращающий сам себя — итератор"
   ],
   "metadata": {
    "collapsed": false
   },
   "id": "921673b9d7343b44"
  },
  {
   "cell_type": "markdown",
   "source": [
    "Любой итерируемый объект реализует протокол итератора."
   ],
   "metadata": {
    "collapsed": false
   },
   "id": "459feeea7fb72c4a"
  },
  {
   "cell_type": "markdown",
   "source": [
    "Особенность функции iter()"
   ],
   "metadata": {
    "collapsed": false
   },
   "id": "a77876d7f87718d3"
  },
  {
   "cell_type": "markdown",
   "source": [
    "Встроенная функция iter(), как мы уже знаем, преобразует итерируемый объект в итератор. Именно в таком виде функция используется в большинстве случаев."
   ],
   "metadata": {
    "collapsed": false
   },
   "id": "6715092189d22a2a"
  },
  {
   "cell_type": "markdown",
   "source": [
    "iter(iterable) -> iterator"
   ],
   "metadata": {
    "collapsed": false
   },
   "id": "6499c1171b62faa9"
  },
  {
   "cell_type": "markdown",
   "source": [
    "Однако мы можем использовать функцию iter() в еще одном полезном сценарии:"
   ],
   "metadata": {
    "collapsed": false
   },
   "id": "87ba5d3ff28ca2e3"
  },
  {
   "cell_type": "markdown",
   "source": [
    "iter(callable, sentinel) -> iterator"
   ],
   "metadata": {
    "collapsed": false
   },
   "id": "a004e93c0a3727b"
  },
  {
   "cell_type": "markdown",
   "source": [
    "Если функции iter() передается два аргумента, то первый аргумент callable должен являться функцией, а второй аргумент sentinel — некоторым стоп-значением. В этом случае, созданный итератор будет вызывать указанную функцию callable и проверять полученное значение на равенство со значением sentinel. Если полученное значение равно sentinel, то возбуждается исключение StopIteration, иначе итератор выдает значение, полученное из функции callable."
   ],
   "metadata": {
    "collapsed": false
   },
   "id": "7ea070a1092169c"
  },
  {
   "cell_type": "markdown",
   "source": [
    "Например, с помощью функции iter() мы можем создать бесконечный итератор, генерирующий единственное значение — 0."
   ],
   "metadata": {
    "collapsed": false
   },
   "id": "5c33c2393a6b4dbc"
  },
  {
   "cell_type": "code",
   "execution_count": 10,
   "outputs": [
    {
     "name": "stdout",
     "output_type": "stream",
     "text": [
      "0\n",
      "0\n",
      "0\n",
      "0\n",
      "0\n",
      "<class 'callable_iterator'>\n"
     ]
    }
   ],
   "source": [
    "zero_iterator = iter(int, -1)\n",
    "\n",
    "for i in range(5):\n",
    "    print(next(zero_iterator))\n",
    "\n",
    "print(type(zero_iterator))"
   ],
   "metadata": {
    "collapsed": false,
    "ExecuteTime": {
     "end_time": "2025-02-19T08:30:17.990011400Z",
     "start_time": "2025-02-19T08:30:17.985490500Z"
    }
   },
   "id": "b9d77942af299fd0"
  },
  {
   "cell_type": "markdown",
   "source": [
    "Функция int(), которую мы передаем в качестве первого аргумента в функцию iter(), всегда возвращает значение 0, при этом вторым аргументом (стоп-значением) является −1, которое не будет возвращено никогда. Таким образом, мы построили бесконечный итератор, генерирующий единственное нулевое значение."
   ],
   "metadata": {
    "collapsed": false
   },
   "id": "bfb02d85eb566a61"
  },
  {
   "cell_type": "markdown",
   "source": [
    "Мы также можем написать итератор, который генерирует неопределенное количество случайных чисел."
   ],
   "metadata": {
    "collapsed": false
   },
   "id": "1cebf12f6abb30ce"
  },
  {
   "cell_type": "code",
   "execution_count": 11,
   "outputs": [
    {
     "name": "stdout",
     "output_type": "stream",
     "text": [
      "7\n",
      "1\n",
      "7\n",
      "9\n",
      "10\n"
     ]
    }
   ],
   "source": [
    "from random import choice\n",
    "\n",
    "\n",
    "def test_iter():\n",
    "    values = list(range(1, 11))\n",
    "    return choice(values)\n",
    "\n",
    "\n",
    "random_iterator = iter(test_iter, 2)\n",
    "\n",
    "for num in random_iterator:\n",
    "    print(num)"
   ],
   "metadata": {
    "collapsed": false,
    "ExecuteTime": {
     "end_time": "2025-02-19T08:38:35.911479Z",
     "start_time": "2025-02-19T08:38:35.906457400Z"
    }
   },
   "id": "8fdb56862226a207"
  },
  {
   "cell_type": "markdown",
   "source": [
    "Итератор random_iterator будет генерировать случайное число от 1 до 10 до тех пор, пока не будет возвращено число 2."
   ],
   "metadata": {
    "collapsed": false
   },
   "id": "4b3a25b14ffc0dc"
  },
  {
   "cell_type": "markdown",
   "source": [
    "Одним из применений второго аргумента sentinel является чтение строк файла до тех пор, пока не будет достигнута строка sentinel"
   ],
   "metadata": {
    "collapsed": false
   },
   "id": "9f1bd9e1dc363a45"
  },
  {
   "cell_type": "code",
   "execution_count": null,
   "outputs": [],
   "source": [
    "with open('data.txt') as file:\n",
    "    for line in iter(file.readline, ''):  # читаем, пока не попадется пустая строка \n",
    "        # Делаем что-то с line.\n",
    "        pass"
   ],
   "metadata": {
    "collapsed": false
   },
   "id": "9152c344154bdf77"
  },
  {
   "cell_type": "markdown",
   "source": [
    "считывает строки текстового файл data.txt до тех пор, пока очередная строка не окажется пустой."
   ],
   "metadata": {
    "collapsed": false
   },
   "id": "5e15e6286d1c67de"
  },
  {
   "cell_type": "markdown",
   "source": [
    "Примечания"
   ],
   "metadata": {
    "collapsed": false
   },
   "id": "149797b355bc31b5"
  },
  {
   "cell_type": "markdown",
   "source": [
    "Примечание 1. Итерируемый объект (iterable) и итератор (iterator) – это протоколы, правила."
   ],
   "metadata": {
    "collapsed": false
   },
   "id": "5aae9aa20adde369"
  },
  {
   "cell_type": "markdown",
   "source": [
    "Дополните приведенный ниже код, чтобы в переменной infinite_love содержался итератор, бесконечно генерирующий единственное значение — строку i love beegeek!."
   ],
   "metadata": {
    "collapsed": false
   },
   "id": "7df19ebdf7470232"
  },
  {
   "cell_type": "code",
   "execution_count": 15,
   "outputs": [
    {
     "name": "stdout",
     "output_type": "stream",
     "text": [
      "i love beegeek!\n",
      "i love beegeek!\n",
      "i love beegeek!\n",
      "i love beegeek!\n"
     ]
    }
   ],
   "source": [
    "infinite_love = iter(lambda: 'i love beegeek!', '')\n",
    "print(next(infinite_love))\n",
    "\n",
    "print(next(infinite_love))\n",
    "print(next(infinite_love))\n",
    "print(next(infinite_love))"
   ],
   "metadata": {
    "collapsed": false,
    "ExecuteTime": {
     "end_time": "2025-02-19T09:05:59.622927400Z",
     "start_time": "2025-02-19T09:05:59.620847500Z"
    }
   },
   "id": "71b5cc683f01c0fc"
  },
  {
   "cell_type": "markdown",
   "source": [
    "Функция is_iterable()\n",
    "Реализуйте функцию is_iterable(), которая принимает один аргумент:\n",
    "\n",
    "obj — произвольный объект\n",
    "Функция должна возвращать True, если объект obj является итерируемым объектом, или False в противном случае."
   ],
   "metadata": {
    "collapsed": false
   },
   "id": "caca4453be9d70d1"
  },
  {
   "cell_type": "code",
   "execution_count": 23,
   "outputs": [
    {
     "name": "stdout",
     "output_type": "stream",
     "text": [
      "False\n",
      "True\n",
      "True\n",
      "False\n",
      "True\n"
     ]
    }
   ],
   "source": [
    "from typing import Any\n",
    "\n",
    "\n",
    "def is_iterable(obj: Any) -> bool:\n",
    "    if '__iter__' in dir(obj):\n",
    "        return True\n",
    "    return False\n",
    "\n",
    "\n",
    "print(is_iterable(18731))\n",
    "print(is_iterable('18731'))\n",
    "objects = [(1, 13), 7.0004, [1, 2, 3]]\n",
    "# print(dir(objects[0]))\n",
    "\n",
    "for obj in objects:\n",
    "    print(is_iterable(obj))"
   ],
   "metadata": {
    "collapsed": false,
    "ExecuteTime": {
     "end_time": "2025-02-19T10:50:05.215386800Z",
     "start_time": "2025-02-19T10:50:05.212309100Z"
    }
   },
   "id": "c17cc7514683bd03"
  },
  {
   "cell_type": "code",
   "execution_count": null,
   "outputs": [],
   "source": [
    "def is_iterable(obj):\n",
    "    return '__iter__' in dir(obj)"
   ],
   "metadata": {
    "collapsed": false
   },
   "id": "cd7c30fb5f24af4"
  },
  {
   "cell_type": "code",
   "execution_count": null,
   "outputs": [],
   "source": [
    "def is_iterable(obj):\n",
    "    return hasattr(obj, '__iter__')"
   ],
   "metadata": {
    "collapsed": false
   },
   "id": "12e8bb29717b8365"
  },
  {
   "cell_type": "markdown",
   "source": [
    "Функция is_iterator()\n",
    "Реализуйте функцию is_iterator(), которая принимает один аргумент:\n",
    "\n",
    "obj — произвольный объект\n",
    "Функция должна возвращать True, если объект obj является итератором, или False в противном случае. \n",
    "\n",
    "Примечание 1. В тестирующую систему сдайте программу, содержащую только необходимую функцию is_iterator(), но не код, вызывающий ее."
   ],
   "metadata": {
    "collapsed": false
   },
   "id": "980de791c19db358"
  },
  {
   "cell_type": "code",
   "execution_count": 25,
   "outputs": [
    {
     "name": "stdout",
     "output_type": "stream",
     "text": [
      "False\n",
      "True\n",
      "True\n"
     ]
    }
   ],
   "source": [
    "from typing import Any\n",
    "\n",
    "\n",
    "def is_iterator(obj: Any):\n",
    "    return hasattr(obj, '__next__')\n",
    "\n",
    "def is_iterable(obj: Any):\n",
    "    return '__next__' in dir(obj)\n",
    "\n",
    "\n",
    "print(is_iterator([1, 2, 3, 4, 5]))\n",
    "\n",
    "beegeek = map(str.upper, 'beegeek')\n",
    "print(is_iterator(beegeek))\n",
    "\n",
    "beegeek = filter(None, [0, 0, 1, 1, 0, 1])\n",
    "print(is_iterator(beegeek))"
   ],
   "metadata": {
    "collapsed": false,
    "ExecuteTime": {
     "end_time": "2025-02-19T10:56:37.417620200Z",
     "start_time": "2025-02-19T10:56:37.415103500Z"
    }
   },
   "id": "a54ec064a3fd819e"
  },
  {
   "cell_type": "markdown",
   "source": [
    "Функция random_numbers()\n",
    "Реализуйте функцию random_numbers(), которая принимает два аргумента:\n",
    "\n",
    "left — целое число\n",
    "right — целое число\n",
    "Функция должна возвращать итератор, генерирующий бесконечную последовательность случайных целых чисел в диапазоне от left до right включительно.\n",
    "\n",
    "Примечание 1. Гарантируется, что left <= right."
   ],
   "metadata": {
    "collapsed": false
   },
   "id": "72af15a661b9909f"
  },
  {
   "cell_type": "code",
   "execution_count": 31,
   "outputs": [
    {
     "name": "stdout",
     "output_type": "stream",
     "text": [
      "1\n",
      "1\n",
      "True\n",
      "True\n",
      "True\n"
     ]
    }
   ],
   "source": [
    "from random import choice\n",
    "\n",
    "\n",
    "def random_numbers(left: int, right: int) -> iter:\n",
    "    values = list(range(left, right + 1))\n",
    "    return iter(lambda: choice(values), right + 2)\n",
    "\n",
    "iterator = random_numbers(1, 1)\n",
    "print(next(iterator))\n",
    "print(next(iterator))\n",
    "\n",
    "iterator = random_numbers(1, 10)\n",
    "print(next(iterator) in range(1, 11))\n",
    "print(next(iterator) in range(1, 11))\n",
    "print(next(iterator) in range(1, 11))"
   ],
   "metadata": {
    "collapsed": false,
    "ExecuteTime": {
     "end_time": "2025-02-19T11:07:01.204832300Z",
     "start_time": "2025-02-19T11:07:01.201036200Z"
    }
   },
   "id": "62075aceca183314"
  }
 ],
 "metadata": {
  "kernelspec": {
   "display_name": "Python 3",
   "language": "python",
   "name": "python3"
  },
  "language_info": {
   "codemirror_mode": {
    "name": "ipython",
    "version": 2
   },
   "file_extension": ".py",
   "mimetype": "text/x-python",
   "name": "python",
   "nbconvert_exporter": "python",
   "pygments_lexer": "ipython2",
   "version": "2.7.6"
  }
 },
 "nbformat": 4,
 "nbformat_minor": 5
}

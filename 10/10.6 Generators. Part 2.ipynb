{
 "cells": [
  {
   "cell_type": "markdown",
   "source": [
    "Тема урока: генераторы\n",
    "Генераторные выражения\n",
    "Особенности генераторных выражений\n",
    "Генераторные выражения VS функции map(), filter()\n",
    "Генераторные выражения VS генераторные функции\n",
    "Аннотация. Урок посвящен изучению выражений генераторов."
   ],
   "metadata": {
    "collapsed": false
   },
   "id": "bd953b980ea1657a"
  },
  {
   "cell_type": "markdown",
   "source": [
    "Генераторы"
   ],
   "metadata": {
    "collapsed": false
   },
   "id": "3355f6fd5c13bac5"
  },
  {
   "cell_type": "markdown",
   "source": [
    "В прошлом уроке мы узнали о том, что генераторы в Python позволяют достаточно легко создавать собственные итераторы. При этом генераторы делятся на два типа:\n",
    "\n",
    "генераторные функции\n",
    "генераторные выражения\n",
    "В этом уроке речь пойдет о генераторных выражениях."
   ],
   "metadata": {
    "collapsed": false
   },
   "id": "e0b989e61eded18e"
  },
  {
   "cell_type": "markdown",
   "source": [
    "Генераторные выражения"
   ],
   "metadata": {
    "collapsed": false
   },
   "id": "c7ff9232e0bc3420"
  },
  {
   "cell_type": "markdown",
   "source": [
    "Существует еще более простой, чем генераторные функции, содержащие оператор yield, способ создания итераторов – генераторные выражения. Они подходят, когда код тела генераторной функции можно записать в одно выражение."
   ],
   "metadata": {
    "collapsed": false
   },
   "id": "8e70188d85af80af"
  },
  {
   "cell_type": "markdown",
   "source": [
    "Синтаксис генераторных выражений подобен синтаксису генераторов списков, но в отличие от них, в генераторных выражениях используются круглые скобки, а не квадратные."
   ],
   "metadata": {
    "collapsed": false
   },
   "id": "af272796ef812d8b"
  },
  {
   "cell_type": "markdown",
   "source": [
    "В Python существуют генераторы словарей и множеств, в которых используются фигурные скобки."
   ],
   "metadata": {
    "collapsed": false
   },
   "id": "51f2eca4eb118067"
  },
  {
   "cell_type": "markdown",
   "source": [
    "Напомним, как выглядят генераторы списков."
   ],
   "metadata": {
    "collapsed": false
   },
   "id": "f78589c928040392"
  },
  {
   "cell_type": "code",
   "execution_count": 5,
   "outputs": [
    {
     "name": "stdout",
     "output_type": "stream",
     "text": [
      "<class 'list'>\n",
      "[8, 90, -56, -34, 56, 100, 90, 2, 8]\n",
      "184\n"
     ]
    }
   ],
   "source": [
    "from sys import getsizeof\n",
    "\n",
    "numbers = [1, 9, 8, 7, 90, -56, -34, 56, 100, 90, 2, 8]\n",
    "\n",
    "even_numbers = [num for num in numbers if num % 2 == 0]\n",
    "\n",
    "print(type(even_numbers))\n",
    "print(even_numbers)\n",
    "print(getsizeof(even_numbers))"
   ],
   "metadata": {
    "collapsed": false,
    "ExecuteTime": {
     "end_time": "2025-02-24T12:40:04.668557700Z",
     "start_time": "2025-02-24T12:40:04.663436300Z"
    }
   },
   "id": "208288ad3f8d8c3"
  },
  {
   "cell_type": "markdown",
   "source": [
    "Результат выражения, стоящего до for, в данном случае num, добавляется на каждой итерации цикла в итоговый список. Выполнение выражения генератора списка сразу заполняет список, который целиком хранится в памяти."
   ],
   "metadata": {
    "collapsed": false
   },
   "id": "a983ceb39d5be381"
  },
  {
   "cell_type": "markdown",
   "source": [
    "В случае генераторных выражений создается генератор, у которого очередной элемент будет вычисляться только при вызове встроенной функции next() (явно или неявно)."
   ],
   "metadata": {
    "collapsed": false
   },
   "id": "a61d6d26c85d6bb4"
  },
  {
   "cell_type": "code",
   "execution_count": 6,
   "outputs": [
    {
     "name": "stdout",
     "output_type": "stream",
     "text": [
      "<class 'generator'>\n",
      "<generator object <genexpr> at 0x0000026597421CB0>\n",
      "200\n"
     ]
    }
   ],
   "source": [
    "from sys import getsizeof\n",
    "\n",
    "numbers = [1, 9, 8, 7, 90, -56, -34, 56, 100, 90, 2, 8]\n",
    "\n",
    "even_numbers = (num for num in numbers if num % 2 == 0)  # используем круглые скобки\n",
    "\n",
    "print(type(even_numbers))\n",
    "print(even_numbers)\n",
    "print(getsizeof(even_numbers))"
   ],
   "metadata": {
    "collapsed": false,
    "ExecuteTime": {
     "end_time": "2025-02-24T12:40:07.405761400Z",
     "start_time": "2025-02-24T12:40:07.398489600Z"
    }
   },
   "id": "88704dde843ef2fa"
  },
  {
   "cell_type": "markdown",
   "source": [
    "Обратите внимание на то, что переменная even_numbers имеет уже знакомый нам тип generator, то есть является генератором, который в полной мере реализует протокол итератора. Для того чтобы посмотреть содержимое генератора even_numbers, мы должны проитерироваться по нему любым известным нам способом (явный вызов функции next(), цикл for, распаковка и т.д.)."
   ],
   "metadata": {
    "collapsed": false
   },
   "id": "595560eb166423ad"
  },
  {
   "cell_type": "code",
   "execution_count": 7,
   "outputs": [
    {
     "name": "stdout",
     "output_type": "stream",
     "text": [
      "1\n",
      "4\n",
      "9\n",
      "16\n",
      "25\n",
      "36\n",
      "A\n",
      "* * * * * "
     ]
    }
   ],
   "source": [
    "squares = (i ** 2 for i in range(1, 7))  # создаем генератор с помощью генераторного выражения\n",
    "capitals = (s.upper() for s in 'abc')  # создаем генератор с помощью генераторного выражения\n",
    "stars = ('*' for i in range(5))  # создаем генератор с помощью генераторного выражения\n",
    "\n",
    "for num in squares:\n",
    "    print(num)\n",
    "\n",
    "print(next(capitals))\n",
    "\n",
    "print(*stars, end=' ')"
   ],
   "metadata": {
    "collapsed": false,
    "ExecuteTime": {
     "end_time": "2025-02-24T12:41:18.403939200Z",
     "start_time": "2025-02-24T12:41:18.398179800Z"
    }
   },
   "id": "4f8c73225659ca52"
  },
  {
   "cell_type": "markdown",
   "source": [
    "В отличие от генераторных выражений, генераторные функции более универсальны не только из-за произвольного количества кода в их теле. В них вы можете передавать разные значения аргументов. А значит, одна и та же функция может использоваться для создания нескольких разных генераторов."
   ],
   "metadata": {
    "collapsed": false
   },
   "id": "518ab531478d214f"
  },
  {
   "cell_type": "markdown",
   "source": [
    "Особенности генераторных выражений"
   ],
   "metadata": {
    "collapsed": false
   },
   "id": "27527410b7e49c44"
  },
  {
   "cell_type": "markdown",
   "source": [
    "1) Генераторные выражения нельзя писать без скобок – это синтаксическая ошибка."
   ],
   "metadata": {
    "collapsed": false
   },
   "id": "f37c62bd995bac28"
  },
  {
   "cell_type": "code",
   "execution_count": 8,
   "outputs": [
    {
     "ename": "SyntaxError",
     "evalue": "invalid syntax (66294443.py, line 1)",
     "output_type": "error",
     "traceback": [
      "\u001B[1;36m  Cell \u001B[1;32mIn[8], line 1\u001B[1;36m\u001B[0m\n\u001B[1;33m    squares = i*i for i in range(10)\u001B[0m\n\u001B[1;37m                  ^\u001B[0m\n\u001B[1;31mSyntaxError\u001B[0m\u001B[1;31m:\u001B[0m invalid syntax\n"
     ]
    }
   ],
   "source": [
    "squares = i * i\n",
    "for i in range(10)\n",
    "    print(*squares)"
   ],
   "metadata": {
    "collapsed": false,
    "ExecuteTime": {
     "end_time": "2025-02-24T12:44:20.640773800Z",
     "start_time": "2025-02-24T12:44:20.635486100Z"
    }
   },
   "id": "84523c62bee11900"
  },
  {
   "cell_type": "markdown",
   "source": [
    "2) При передаче генераторного выражения в функцию в качестве единственного аргумента скобки можно опускать 🧐."
   ],
   "metadata": {
    "collapsed": false
   },
   "id": "9e7df3000240aa14"
  },
  {
   "cell_type": "code",
   "execution_count": 9,
   "outputs": [
    {
     "name": "stdout",
     "output_type": "stream",
     "text": [
      "285\n",
      "285\n"
     ]
    }
   ],
   "source": [
    "print(sum(i * i for i in range(10)))  # передача без скобок\n",
    "print(sum((i * i for i in range(10))))  # передача со скобками"
   ],
   "metadata": {
    "collapsed": false,
    "ExecuteTime": {
     "end_time": "2025-02-24T12:44:49.059874200Z",
     "start_time": "2025-02-24T12:44:49.052623800Z"
    }
   },
   "id": "d14d93d2861aaea7"
  },
  {
   "cell_type": "markdown",
   "source": [
    "3) Согласно PEP8 – то, что указано в скобках, можно переносить. Значит, генераторные выражения можно записывать так, чтобы их было удобно читать."
   ],
   "metadata": {
    "collapsed": false
   },
   "id": "d43d10a3f1fdc3cc"
  },
  {
   "cell_type": "code",
   "execution_count": 10,
   "outputs": [],
   "source": [
    "even_squares = (\n",
    "    i ** 2\n",
    "    for i in range(10)\n",
    "    if i % 2 == 0\n",
    ")"
   ],
   "metadata": {
    "collapsed": false,
    "ExecuteTime": {
     "end_time": "2025-02-24T12:45:24.042810Z",
     "start_time": "2025-02-24T12:45:24.035294700Z"
    }
   },
   "id": "f5f85d379955a5eb"
  },
  {
   "cell_type": "markdown",
   "source": [
    "равнозначен:"
   ],
   "metadata": {
    "collapsed": false
   },
   "id": "acfb7117d7e6f326"
  },
  {
   "cell_type": "code",
   "execution_count": null,
   "outputs": [],
   "source": [
    "even_squares = (i ** 2 for i in range(10) if i % 2 == 0)"
   ],
   "metadata": {
    "collapsed": false
   },
   "id": "c7c8474d47a05d97"
  },
  {
   "cell_type": "markdown",
   "source": [
    "Ограничения генераторных выражений"
   ],
   "metadata": {
    "collapsed": false
   },
   "id": "f24cdf4f85efd189"
  },
  {
   "cell_type": "markdown",
   "source": [
    "Генераторное выражение является итератором, поэтому оно обладает всеми его особенностями:\n",
    "\n",
    "1) Нельзя получить длину генераторного выражения с помощью встроенной функции len()."
   ],
   "metadata": {
    "collapsed": false
   },
   "id": "a75cc4c21bff6209"
  },
  {
   "cell_type": "code",
   "execution_count": 11,
   "outputs": [
    {
     "ename": "TypeError",
     "evalue": "object of type 'generator' has no len()",
     "output_type": "error",
     "traceback": [
      "\u001B[1;31m---------------------------------------------------------------------------\u001B[0m",
      "\u001B[1;31mTypeError\u001B[0m                                 Traceback (most recent call last)",
      "Cell \u001B[1;32mIn[11], line 2\u001B[0m\n\u001B[0;32m      1\u001B[0m squares \u001B[38;5;241m=\u001B[39m (i\u001B[38;5;241m*\u001B[39mi \u001B[38;5;28;01mfor\u001B[39;00m i \u001B[38;5;129;01min\u001B[39;00m \u001B[38;5;28mrange\u001B[39m(\u001B[38;5;241m10\u001B[39m))\n\u001B[1;32m----> 2\u001B[0m \u001B[38;5;28mprint\u001B[39m(\u001B[38;5;28;43mlen\u001B[39;49m\u001B[43m(\u001B[49m\u001B[43msquares\u001B[49m\u001B[43m)\u001B[49m)\n",
      "\u001B[1;31mTypeError\u001B[0m: object of type 'generator' has no len()"
     ]
    }
   ],
   "source": [
    "squares = (i * i for i in range(10))\n",
    "print(len(squares))"
   ],
   "metadata": {
    "collapsed": false,
    "ExecuteTime": {
     "end_time": "2025-02-24T12:46:17.776194500Z",
     "start_time": "2025-02-24T12:46:17.532922500Z"
    }
   },
   "id": "aaedf600263a83c"
  },
  {
   "cell_type": "markdown",
   "source": [
    "2) Нельзя распечатать элементы генераторного выражения с помощью функции print(), без предварительной распаковки."
   ],
   "metadata": {
    "collapsed": false
   },
   "id": "a8d97f72fe812827"
  },
  {
   "cell_type": "code",
   "execution_count": 12,
   "outputs": [
    {
     "name": "stdout",
     "output_type": "stream",
     "text": [
      "<generator object <genexpr> at 0x0000026597BF0380>\n",
      "0 1 4 9 16 25 36 49 64 81\n"
     ]
    }
   ],
   "source": [
    "squares = (i * i for i in range(10))\n",
    "print(squares)\n",
    "print(*squares)"
   ],
   "metadata": {
    "collapsed": false,
    "ExecuteTime": {
     "end_time": "2025-02-24T12:46:32.176775900Z",
     "start_time": "2025-02-24T12:46:32.171002800Z"
    }
   },
   "id": "60cd0869c1e2ca39"
  },
  {
   "cell_type": "markdown",
   "source": [
    "3) Генераторные выражения не поддерживают получение элемента по индексу."
   ],
   "metadata": {
    "collapsed": false
   },
   "id": "248e10e16d1f079a"
  },
  {
   "cell_type": "code",
   "execution_count": 13,
   "outputs": [
    {
     "ename": "TypeError",
     "evalue": "'generator' object is not subscriptable",
     "output_type": "error",
     "traceback": [
      "\u001B[1;31m---------------------------------------------------------------------------\u001B[0m",
      "\u001B[1;31mTypeError\u001B[0m                                 Traceback (most recent call last)",
      "Cell \u001B[1;32mIn[13], line 2\u001B[0m\n\u001B[0;32m      1\u001B[0m squares \u001B[38;5;241m=\u001B[39m (i\u001B[38;5;241m*\u001B[39mi \u001B[38;5;28;01mfor\u001B[39;00m i \u001B[38;5;129;01min\u001B[39;00m \u001B[38;5;28mrange\u001B[39m(\u001B[38;5;241m10\u001B[39m))\n\u001B[1;32m----> 2\u001B[0m \u001B[38;5;28mprint\u001B[39m(\u001B[43msquares\u001B[49m\u001B[43m[\u001B[49m\u001B[38;5;241;43m7\u001B[39;49m\u001B[43m]\u001B[49m)\n",
      "\u001B[1;31mTypeError\u001B[0m: 'generator' object is not subscriptable"
     ]
    }
   ],
   "source": [
    "squares = (i * i for i in range(10))\n",
    "print(squares[7])"
   ],
   "metadata": {
    "collapsed": false,
    "ExecuteTime": {
     "end_time": "2025-02-24T12:46:53.512622Z",
     "start_time": "2025-02-24T12:46:53.498713500Z"
    }
   },
   "id": "52a918f2e026ba39"
  },
  {
   "cell_type": "markdown",
   "source": [
    "4) К генераторному выражению нельзя применить обычные операции среза."
   ],
   "metadata": {
    "collapsed": false
   },
   "id": "c3988b6c5ed13300"
  },
  {
   "cell_type": "code",
   "execution_count": 14,
   "outputs": [
    {
     "ename": "TypeError",
     "evalue": "'generator' object is not subscriptable",
     "output_type": "error",
     "traceback": [
      "\u001B[1;31m---------------------------------------------------------------------------\u001B[0m",
      "\u001B[1;31mTypeError\u001B[0m                                 Traceback (most recent call last)",
      "Cell \u001B[1;32mIn[14], line 2\u001B[0m\n\u001B[0;32m      1\u001B[0m squares \u001B[38;5;241m=\u001B[39m (i\u001B[38;5;241m*\u001B[39mi \u001B[38;5;28;01mfor\u001B[39;00m i \u001B[38;5;129;01min\u001B[39;00m \u001B[38;5;28mrange\u001B[39m(\u001B[38;5;241m10\u001B[39m))\n\u001B[1;32m----> 2\u001B[0m \u001B[38;5;28mprint\u001B[39m(\u001B[43msquares\u001B[49m\u001B[43m[\u001B[49m\u001B[38;5;241;43m1\u001B[39;49m\u001B[43m:\u001B[49m\u001B[38;5;241;43m6\u001B[39;49m\u001B[43m]\u001B[49m)\n",
      "\u001B[1;31mTypeError\u001B[0m: 'generator' object is not subscriptable"
     ]
    }
   ],
   "source": [
    "squares = (i * i for i in range(10))\n",
    "print(squares[1:6])"
   ],
   "metadata": {
    "collapsed": false,
    "ExecuteTime": {
     "end_time": "2025-02-24T12:47:10.496598600Z",
     "start_time": "2025-02-24T12:47:10.490241900Z"
    }
   },
   "id": "f38b57e0e816d04e"
  },
  {
   "cell_type": "markdown",
   "source": [
    "5) После использования генераторного выражения, оно остается пустым."
   ],
   "metadata": {
    "collapsed": false
   },
   "id": "b12a5be7e6613e5d"
  },
  {
   "cell_type": "code",
   "execution_count": 15,
   "outputs": [
    {
     "name": "stdout",
     "output_type": "stream",
     "text": [
      "0\n",
      "1\n",
      "[4, 9, 16, 25, 36, 49, 64, 81]\n",
      "[]\n"
     ]
    }
   ],
   "source": [
    "squares = (i * i for i in range(10))\n",
    "\n",
    "first, second = next(squares), next(squares)\n",
    "\n",
    "nums1 = list(squares)\n",
    "nums2 = list(squares)\n",
    "\n",
    "print(first)\n",
    "print(second)\n",
    "print(nums1)\n",
    "print(nums2)"
   ],
   "metadata": {
    "collapsed": false,
    "ExecuteTime": {
     "end_time": "2025-02-24T12:47:22.958948500Z",
     "start_time": "2025-02-24T12:47:22.956432600Z"
    }
   },
   "id": "534e500a101c332"
  },
  {
   "cell_type": "markdown",
   "source": [
    "Генераторные выражения VS функции map(), filter()"
   ],
   "metadata": {
    "collapsed": false
   },
   "id": "d663d2cf111d6d05"
  },
  {
   "cell_type": "markdown",
   "source": [
    "Генераторные выражения могут использоваться в качестве альтернативы использования функций map(), filter(), которые преобразуют и фильтруют данные. И генераторные выражения, и функции map(), filter() возвращают ленивые объекты, поддерживающие протокол итератора и не потребляющие много памяти."
   ],
   "metadata": {
    "collapsed": false
   },
   "id": "daf680b20053dfe6"
  },
  {
   "cell_type": "code",
   "execution_count": 16,
   "outputs": [
    {
     "name": "stdout",
     "output_type": "stream",
     "text": [
      "pineapple bergamot grapefruit\n",
      "APPLE APRICOT AVOCADO PINEAPPLE BANANA BERGAMOT DURIAN GRAPEFRUIT\n",
      "PINEAPPLE BERGAMOT GRAPEFRUIT\n",
      "<class 'filter'>\n",
      "<class 'map'>\n"
     ]
    }
   ],
   "source": [
    "fruits = ['apple', 'apricot', 'avocado', 'pineapple', 'banana', 'bergamot', 'durian', 'grapefruit']\n",
    "\n",
    "fruits_filter = filter(lambda s: len(s) > 7, fruits)\n",
    "fruits_map = map(lambda s: s.upper(), fruits)\n",
    "fruits_filter_map = map(lambda s: s.upper(), filter(lambda s: len(s) > 7, fruits))\n",
    "\n",
    "print(*fruits_filter)\n",
    "print(*fruits_map)\n",
    "print(*fruits_filter_map)\n",
    "\n",
    "print(type(fruits_filter))\n",
    "print(type(fruits_map))"
   ],
   "metadata": {
    "collapsed": false,
    "ExecuteTime": {
     "end_time": "2025-02-24T12:49:01.607586400Z",
     "start_time": "2025-02-24T12:49:01.601728300Z"
    }
   },
   "id": "42f0adb604304839"
  },
  {
   "cell_type": "markdown",
   "source": [
    "Альтернативный код с использованием генераторных выражений:"
   ],
   "metadata": {
    "collapsed": false
   },
   "id": "5c0f1addf1be0482"
  },
  {
   "cell_type": "code",
   "execution_count": 17,
   "outputs": [
    {
     "name": "stdout",
     "output_type": "stream",
     "text": [
      "pineapple bergamot grapefruit\n",
      "APPLE APRICOT AVOCADO PINEAPPLE BANANA BERGAMOT DURIAN GRAPEFRUIT\n",
      "PINEAPPLE BERGAMOT GRAPEFRUIT\n",
      "<class 'generator'>\n",
      "<class 'generator'>\n"
     ]
    }
   ],
   "source": [
    "fruits = ['apple', 'apricot', 'avocado', 'pineapple', 'banana', 'bergamot', 'durian', 'grapefruit']\n",
    "\n",
    "fruits_filter = (s for s in fruits if len(s) > 7)\n",
    "fruits_map = (s.upper() for s in fruits)\n",
    "fruits_filter_map = (s.upper() for s in fruits if len(s) > 7)\n",
    "\n",
    "print(*fruits_filter)\n",
    "print(*fruits_map)\n",
    "print(*fruits_filter_map)\n",
    "\n",
    "print(type(fruits_filter))\n",
    "print(type(fruits_map))"
   ],
   "metadata": {
    "collapsed": false,
    "ExecuteTime": {
     "end_time": "2025-02-24T12:50:09.430965100Z",
     "start_time": "2025-02-24T12:50:09.424348200Z"
    }
   },
   "id": "dcedc16e71f9b077"
  },
  {
   "cell_type": "markdown",
   "source": [
    "Несложно заметить, что генераторные выражения выглядят намного понятнее, лаконичнее и читабельнее, чем их соответствующие аналоги map(), filter() с лямбда функциями."
   ],
   "metadata": {
    "collapsed": false
   },
   "id": "37a498c70545a2ad"
  },
  {
   "cell_type": "markdown",
   "source": [
    "Сравнение занимаемой памяти"
   ],
   "metadata": {
    "collapsed": false
   },
   "id": "8b1a7785023aaadd"
  },
  {
   "cell_type": "markdown",
   "source": [
    "Генераторные выражения занимают немного больше памяти, чем соответствующие аналоги map(), filter() с лямбда функциями."
   ],
   "metadata": {
    "collapsed": false
   },
   "id": "376594ddae0d348"
  },
  {
   "cell_type": "code",
   "execution_count": 19,
   "outputs": [
    {
     "name": "stdout",
     "output_type": "stream",
     "text": [
      "48\n",
      "8000056\n",
      "48\n",
      "48\n",
      "192\n"
     ]
    }
   ],
   "source": [
    "from sys import getsizeof\n",
    "\n",
    "range_object = range(1_000_000)\n",
    "list_object = list(range_object)\n",
    "filter_object = filter(lambda num: True, range_object)\n",
    "map_object = map(lambda num: num, range_object)\n",
    "generator_object = (num for num in range_object)\n",
    "\n",
    "print(getsizeof(range_object))\n",
    "print(getsizeof(list_object))\n",
    "print(getsizeof(filter_object))\n",
    "print(getsizeof(map_object))\n",
    "print(getsizeof(generator_object))"
   ],
   "metadata": {
    "collapsed": false,
    "ExecuteTime": {
     "end_time": "2025-02-24T12:52:15.819951500Z",
     "start_time": "2025-02-24T12:52:15.810950200Z"
    }
   },
   "id": "6d8a8677a6f1414d"
  },
  {
   "cell_type": "markdown",
   "source": [
    "Генераторные выражения VS генераторные функции"
   ],
   "metadata": {
    "collapsed": false
   },
   "id": "e59e4cd826dbe989"
  },
  {
   "cell_type": "markdown",
   "source": [
    "Генераторные выражения и генераторные функции являются, как правило, взаимозаменяемыми."
   ],
   "metadata": {
    "collapsed": false
   },
   "id": "2ff90db1338834c9"
  },
  {
   "cell_type": "code",
   "execution_count": null,
   "outputs": [],
   "source": [
    "def do_something(elements):\n",
    "    for item in elements:\n",
    "        yield some_operation(item)"
   ],
   "metadata": {
    "collapsed": false
   },
   "id": "df89184fad988871"
  },
  {
   "cell_type": "markdown",
   "source": [
    "может быть записана в виде функции, возвращающей генератор с помощью генераторного выражения:"
   ],
   "metadata": {
    "collapsed": false
   },
   "id": "2db5cc975e6ceffa"
  },
  {
   "cell_type": "code",
   "execution_count": null,
   "outputs": [],
   "source": [
    "def do_something(elements):\n",
    "    return (some_operation(item) for item in elements)"
   ],
   "metadata": {
    "collapsed": false
   },
   "id": "5fd3f41adba94187"
  },
  {
   "cell_type": "markdown",
   "source": [
    "Рассмотрим генераторную функцию trim_line_endings(), которая принимает в качестве аргумента файловый объект (открытый текстовый файл) и возвращает генератор, порождающий последовательность строк переданного файла без символа \\n:"
   ],
   "metadata": {
    "collapsed": false
   },
   "id": "2f59a3a412a05748"
  },
  {
   "cell_type": "code",
   "execution_count": null,
   "outputs": [],
   "source": [
    "def trim_line_endings(lines):\n",
    "    for line in lines:\n",
    "        yield line.rstrip('\\n')"
   ],
   "metadata": {
    "collapsed": false
   },
   "id": "489f7c28c6371dab"
  },
  {
   "cell_type": "markdown",
   "source": [
    "Данная функция может быть записана в виде функции, возвращающей генератор с помощью генераторного выражения:"
   ],
   "metadata": {
    "collapsed": false
   },
   "id": "66de2844e08286ea"
  },
  {
   "cell_type": "code",
   "execution_count": null,
   "outputs": [],
   "source": [
    "def trim_line_endings(lines):\n",
    "    return (line.rstrip('\\n') for line in lines)"
   ],
   "metadata": {
    "collapsed": false
   },
   "id": "6f0bf37a71cad3d"
  },
  {
   "cell_type": "markdown",
   "source": [
    "Примечания"
   ],
   "metadata": {
    "collapsed": false
   },
   "id": "46217ae8e7f99f31"
  },
  {
   "cell_type": "markdown",
   "source": [
    "Примечание 1. Генераторные выражения более компактны, но менее универсальны, чем полные генераторные функции."
   ],
   "metadata": {
    "collapsed": false
   },
   "id": "1ba61e055e344449"
  },
  {
   "cell_type": "markdown",
   "source": [
    "Примечание 2. Обратите внимание, если обрабатывается большая структура данных (список, словарь и т.д.) без использования генератора, то она сразу вся загружается в память, что может занять значительную часть памяти, а в некоторых случаях оперативной памяти может не хватить, тогда будет возбуждено исключение MemoryError. В случае использования генераторного выражения (генераторной функции) такого не происходит, так как элементы создаются и обрабатываются по одному."
   ],
   "metadata": {
    "collapsed": false
   },
   "id": "3d7242b180b3fb47"
  },
  {
   "cell_type": "markdown",
   "source": [
    "Примечание 3. Очень часто начинающие программисты думают, что генераторное выражение является генератором кортежа 😄. Это не так, в Python нет генераторов кортежей. Но при этом генераторное выражение можно передавать в качестве аргумента любой функции конструктору стандартных типов данных Python."
   ],
   "metadata": {
    "collapsed": false
   },
   "id": "5f8a6b816cc75b77"
  },
  {
   "cell_type": "code",
   "execution_count": 20,
   "outputs": [
    {
     "name": "stdout",
     "output_type": "stream",
     "text": [
      "(0, 1, 4, 9, 16) <class 'tuple'>\n",
      "[0, 1, 4, 9, 16] <class 'list'>\n",
      "{0, 1, 4, 9, 16} <class 'set'>\n"
     ]
    }
   ],
   "source": [
    "squares_tuple = tuple(i * i for i in range(5))\n",
    "squares_list = list(i * i for i in range(5))\n",
    "squares_set = set(i * i for i in range(5))\n",
    "\n",
    "print(squares_tuple, type(squares_tuple))\n",
    "print(squares_list, type(squares_list))\n",
    "print(squares_set, type(squares_set))"
   ],
   "metadata": {
    "collapsed": false,
    "ExecuteTime": {
     "end_time": "2025-02-24T12:56:49.704086900Z",
     "start_time": "2025-02-24T12:56:49.696087600Z"
    }
   },
   "id": "54e4ae3c6424224d"
  },
  {
   "cell_type": "markdown",
   "source": [
    "Примечание 4. Python поддерживает четыре вида генераторов:\n",
    "\n",
    "генераторы списков (list comprehension)\n",
    "генераторы множеств (set comprehension)\n",
    "генераторы словарей (dict comprehension)\n",
    "генераторные выражения (generator expressions, а не tuple comprehensions)."
   ],
   "metadata": {
    "collapsed": false
   },
   "id": "b0b461d124912eda"
  },
  {
   "cell_type": "markdown",
   "source": [
    "Примечание 5. Разумное применение генераторов может улучшить читаемость кода, в то время как неразумное их использование может сделать код абсолютно нечитаемым. Во всем нужно соблюдать баланс 😉."
   ],
   "metadata": {
    "collapsed": false
   },
   "id": "a25f736a23a00aa9"
  },
  {
   "cell_type": "markdown",
   "source": [
    "Синтаксис генератора списков устроен следующим образом:"
   ],
   "metadata": {
    "collapsed": false
   },
   "id": "ecf5c93539ef5ccd"
  },
  {
   "cell_type": "markdown",
   "source": [
    "new_list = [выражение for элемент in последовательность if условие]"
   ],
   "metadata": {
    "collapsed": false
   },
   "id": "7eba821448d2cf74"
  },
  {
   "cell_type": "markdown",
   "source": [
    "Синтаксис генератора словарей устроен следующим образом:"
   ],
   "metadata": {
    "collapsed": false
   },
   "id": "c268ed6d679fdc65"
  },
  {
   "cell_type": "markdown",
   "source": [
    "new_dict = {ключ:значение for (ключ,значение) in dict.items() if условие}"
   ],
   "metadata": {
    "collapsed": false
   },
   "id": "68305bab109be4e1"
  },
  {
   "cell_type": "markdown",
   "source": [
    "Синтаксис генератора множеств устроен следующим образом:"
   ],
   "metadata": {
    "collapsed": false
   },
   "id": "fa92fdc16dd04927"
  },
  {
   "cell_type": "markdown",
   "source": [
    "new_set = {выражение for элемент in последовательность if условие}"
   ],
   "metadata": {
    "collapsed": false
   },
   "id": "67715724768f07a4"
  },
  {
   "cell_type": "markdown",
   "source": [
    "Синтаксис генераторных выражений устроен следующим образом:"
   ],
   "metadata": {
    "collapsed": false
   },
   "id": "fb7d845cfd40628e"
  },
  {
   "cell_type": "markdown",
   "source": [
    "new_gen = (выражение for элемент in последовательность if условие)"
   ],
   "metadata": {
    "collapsed": false
   },
   "id": "b465374de6537d51"
  },
  {
   "cell_type": "markdown",
   "source": [
    "Обратите внимание, что генераторы множеств и словарей используют одинаковые скобки, разница в том, что у словаря указывается двойной элемент ключ: значение."
   ],
   "metadata": {
    "collapsed": false
   },
   "id": "78bb4f9c454cd9c2"
  },
  {
   "cell_type": "markdown",
   "source": [
    "Примечание 6. В Python синтаксис позволяет использовать переносы строк внутри скобок. Используя эту возможность, можно сделать синтаксис генераторов выражений более легким для чтения:"
   ],
   "metadata": {
    "collapsed": false
   },
   "id": "ba9020cb08876a9"
  },
  {
   "cell_type": "code",
   "execution_count": null,
   "outputs": [],
   "source": [
    "numbers = range(10)\n",
    "\n",
    "# Before\n",
    "squared_evens = [n ** 2 for n in numbers if n % 2 == 0]\n",
    "\n",
    "# After\n",
    "squared_evens = [\n",
    "    n ** 2\n",
    "    for n in numbers\n",
    "    if n % 2 == 0\n",
    "]"
   ],
   "metadata": {
    "collapsed": false
   },
   "id": "d5b6be5157065447"
  },
  {
   "cell_type": "code",
   "execution_count": 21,
   "outputs": [
    {
     "name": "stdout",
     "output_type": "stream",
     "text": [
      "15\n"
     ]
    }
   ],
   "source": [
    "numbers = [1, 2, 3, 4, 5, 6, 7, 8, 9, 10]\n",
    "\n",
    "total = sum(i for i in numbers if i <= 5)\n",
    "\n",
    "print(total)"
   ],
   "metadata": {
    "collapsed": false,
    "ExecuteTime": {
     "end_time": "2025-02-24T13:33:58.405571500Z",
     "start_time": "2025-02-24T13:33:58.403054900Z"
    }
   },
   "id": "42e4bcd53a5da603"
  },
  {
   "cell_type": "markdown",
   "source": [
    "Функция cubes_of_odds()\n",
    "Вам доступна генераторная функция cubes_of_odds(), принимающая в качестве аргумента итерируемый объект, элементами которого являются целые числа, и возвращающая генератор, порождающий последовательность нечетных чисел переданного итерируемого объекта, возведенных в третью степень.\n",
    "\n",
    "Перепишите данную функцию с использованием генераторного выражения, чтобы она выполняла ту же задачу.\n",
    "\n",
    "Примечание 1. Если генераторное выражение становится достаточно большим, его можно записать в виде нескольких строк."
   ],
   "metadata": {
    "collapsed": false
   },
   "id": "8c8882930337a80f"
  },
  {
   "cell_type": "code",
   "execution_count": 29,
   "outputs": [
    {
     "name": "stdout",
     "output_type": "stream",
     "text": [
      "1 27 125\n",
      "[]\n"
     ]
    }
   ],
   "source": [
    "def cubes_of_odds(iterable):\n",
    "    for number in iterable:\n",
    "        if number % 2:\n",
    "            yield number ** 3\n",
    "\n",
    "\n",
    "def cubes_of_odds(iterable):\n",
    "    yield from (\n",
    "        number ** 3\n",
    "        for number in iterable\n",
    "        if number % 2\n",
    "    )\n",
    "\n",
    "\n",
    "cubes_of_odds = lambda it: (i ** 3 for i in it if i % 2)\n",
    "\n",
    "print(*cubes_of_odds([1, 2, 3, 4, 5]))\n",
    "\n",
    "evens = [2, 4, 6, 8, 10]\n",
    "print(list(cubes_of_odds(evens)))"
   ],
   "metadata": {
    "collapsed": false,
    "ExecuteTime": {
     "end_time": "2025-02-24T13:42:05.546158800Z",
     "start_time": "2025-02-24T13:42:05.542901Z"
    }
   },
   "id": "4f8d99d6ba8510ba"
  },
  {
   "cell_type": "markdown",
   "source": [
    "Функция is_prime()\n",
    "Реализуйте функцию is_prime() с использованием генераторных выражений, которая принимает один аргумент:\n",
    "\n",
    "number — натуральное число\n",
    "Функция должна возвращать True, если число number является простым, или False в противном случае.\n",
    "\n",
    "Примечание 1. Простое число — натуральное число, имеющее ровно два различных натуральных делителя — единицу и самого себя.\n",
    "\n",
    "Примечание 2. В задаче удобно воспользоваться функциями all() или any(). "
   ],
   "metadata": {
    "collapsed": false
   },
   "id": "7e32096b82dac57c"
  },
  {
   "cell_type": "code",
   "execution_count": 45,
   "outputs": [
    {
     "name": "stdout",
     "output_type": "stream",
     "text": [
      "True\n",
      "False\n",
      "False\n"
     ]
    }
   ],
   "source": [
    "def is_prime(number: int):\n",
    "    return sum(1 for i in range(1, number + 1) if number % i == 0) == 2\n",
    "\n",
    "\n",
    "print(is_prime(7))\n",
    "print(is_prime(8))\n",
    "print(is_prime(1))"
   ],
   "metadata": {
    "collapsed": false,
    "ExecuteTime": {
     "end_time": "2025-02-24T13:56:35.665294900Z",
     "start_time": "2025-02-24T13:56:35.660262700Z"
    }
   },
   "id": "5ac61e2f1f092d21"
  },
  {
   "cell_type": "markdown",
   "source": [
    "Функция count_iterable()\n",
    "Реализуйте функцию count_iterable() с использованием генераторных выражений, которая принимает один аргумент:\n",
    "\n",
    "iterable — итерируемый объект\n",
    "Функция должна возвращать единственное число — количество элементов итерируемого объекта iterable.\n",
    "\n",
    "Примечание 1. Гарантируется, что передаваемый в функцию итерируемый объект является конечным."
   ],
   "metadata": {
    "collapsed": false
   },
   "id": "e0221bdae96a3eee"
  },
  {
   "cell_type": "code",
   "execution_count": 47,
   "outputs": [
    {
     "name": "stdout",
     "output_type": "stream",
     "text": [
      "5\n",
      "7\n",
      "201\n"
     ]
    }
   ],
   "source": [
    "def count_iterable(iterable):\n",
    "    return sum(1 for _ in iterable)\n",
    "\n",
    "print(count_iterable([1, 2, 3, 4, 5]))\n",
    "\n",
    "numbers = iter([1, 2, 3, 4, 5, 6, 7])\n",
    "print(count_iterable(numbers))\n",
    "\n",
    "data = tuple(range(432, 3845, 17))\n",
    "print(count_iterable(data))"
   ],
   "metadata": {
    "collapsed": false,
    "ExecuteTime": {
     "end_time": "2025-02-25T06:08:27.304165800Z",
     "start_time": "2025-02-25T06:08:27.301161200Z"
    }
   },
   "id": "7d6a05bb87f7e14e"
  },
  {
   "cell_type": "markdown",
   "source": [
    "Функция all_together()\n",
    "Реализуйте функцию all_together() с использованием генераторных выражений, которая принимает произвольное количество позиционных аргументов, каждый из которых является итерируемым объектом.\n",
    "\n",
    "Функция должна возвращать генератор, порождающий каждый элемент всех переданных итерируемых объектов: сначала все элементы первого итерируемого объекта, затем второго, и так далее.\n",
    "\n",
    "Примечание 1. Гарантируется, что итерируемый объект, передаваемый в функцию, не является множеством."
   ],
   "metadata": {
    "collapsed": false
   },
   "id": "ea3a83e3bd725748"
  },
  {
   "cell_type": "code",
   "execution_count": 49,
   "outputs": [
    {
     "name": "stdout",
     "output_type": "stream",
     "text": [
      "0 1 2 b e e 1 3 5 2 4 6\n",
      "1 2 3 (0, 0) (1, 1) geek\n",
      "[]\n"
     ]
    }
   ],
   "source": [
    "def all_together(*args):\n",
    "    return (j for i in args for j in i)\n",
    "\n",
    "objects = [range(3), 'bee', [1, 3, 5], (2, 4, 6)]\n",
    "print(*all_together(*objects))\n",
    "\n",
    "objects = [[1, 2, 3], [(0, 0), (1, 1)], {'geek': 1}]\n",
    "print(*all_together(*objects))\n",
    "\n",
    "print(list(all_together()))"
   ],
   "metadata": {
    "collapsed": false,
    "ExecuteTime": {
     "end_time": "2025-02-25T06:22:25.274010900Z",
     "start_time": "2025-02-25T06:22:25.271489500Z"
    }
   },
   "id": "6cd8df40489e484a"
  },
  {
   "cell_type": "markdown",
   "source": [
    "Функция interleave()\n",
    "Реализуйте функцию interleave() с использованием генераторных выражений, которая принимает произвольное количество позиционных аргументов, каждый из которых является последовательностью.\n",
    "\n",
    "Функция должна возвращать генератор, порождающий каждый элемент всех переданных последовательностей: сначала первый элемент первой последовательности, затем первый элемент второй последовательности, и так далее; после второй элемент первой последовательности, затем второй элемент второй последовательности, и так далее.\n",
    "\n",
    "Примечание 1. Последовательностью является коллекция, поддерживающая индексацию и имеющая длину. Например, объекты типа list, str, tuple являются последовательностями.\n",
    "\n",
    "Примечание 2. Гарантируется, что все последовательности, передаваемые в функцию, имеют равные длины.\n",
    "\n",
    "Примечание 3. Гарантируется, что в функцию всегда подается хотя бы одна последовательность."
   ],
   "metadata": {
    "collapsed": false
   },
   "id": "ddf1592bb762332"
  },
  {
   "cell_type": "code",
   "execution_count": 52,
   "outputs": [
    {
     "name": "stdout",
     "output_type": "stream",
     "text": [
      "b 1 e 2 e 3\n",
      "1 1 1 2 4 8 3 9 27\n"
     ]
    }
   ],
   "source": [
    "def interleave(*args):\n",
    "    return (j for i in zip(*args) for j in i)\n",
    "\n",
    "print(*interleave('bee', '123'))\n",
    "\n",
    "numbers = [1, 2, 3]\n",
    "squares = [1, 4, 9]\n",
    "qubes = [1, 8, 27]\n",
    "print(*interleave(numbers, squares, qubes))"
   ],
   "metadata": {
    "collapsed": false,
    "ExecuteTime": {
     "end_time": "2025-02-25T06:30:38.322921100Z",
     "start_time": "2025-02-25T06:30:38.319911700Z"
    }
   },
   "id": "d21f6a6cdd396f8a"
  }
 ],
 "metadata": {
  "kernelspec": {
   "display_name": "Python 3",
   "language": "python",
   "name": "python3"
  },
  "language_info": {
   "codemirror_mode": {
    "name": "ipython",
    "version": 2
   },
   "file_extension": ".py",
   "mimetype": "text/x-python",
   "name": "python",
   "nbconvert_exporter": "python",
   "pygments_lexer": "ipython2",
   "version": "2.7.6"
  }
 },
 "nbformat": 4,
 "nbformat_minor": 5
}

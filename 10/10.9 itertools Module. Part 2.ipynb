{
 "cells": [
  {
   "cell_type": "markdown",
   "source": [
    "Функции, фильтрующие данные"
   ],
   "metadata": {
    "collapsed": false
   },
   "id": "80c7d8d8bde7aebc"
  },
  {
   "cell_type": "markdown",
   "source": [
    "К этой категории относятся следующие функции:\n",
    "\n",
    "dropwhile()\n",
    "takewhile()\n",
    "filterfalse()\n",
    "compress()\n",
    "islice()"
   ],
   "metadata": {
    "collapsed": false
   },
   "id": "75d4d4facbf5bfb7"
  },
  {
   "cell_type": "markdown",
   "source": [
    "Функция dropwhile()"
   ],
   "metadata": {
    "collapsed": false
   },
   "id": "5946a1edc389159"
  },
  {
   "cell_type": "markdown",
   "source": [
    "Функция dropwhile() возвращает итератор, который генерирует элементы из входного итерируемого объекта сразу же после того, как для заданного условия будет получено ложное значение."
   ],
   "metadata": {
    "collapsed": false
   },
   "id": "aa314cec48e6d300"
  },
  {
   "cell_type": "markdown",
   "source": [
    "Аргументы функции:\n",
    "\n",
    "predicate — фильтрующая функция, возвращающая bool значение\n",
    "iterable — итерируемый объект"
   ],
   "metadata": {
    "collapsed": false
   },
   "id": "6d156fe391fb70e"
  },
  {
   "cell_type": "code",
   "execution_count": 1,
   "outputs": [
    {
     "name": "stdout",
     "output_type": "stream",
     "text": [
      "[6, 7, 8, 9, 10, 1, 2, 3]\n",
      "python\n",
      "C#\n",
      "beegeek\n",
      "is\n"
     ]
    }
   ],
   "source": [
    "from itertools import dropwhile\n",
    "\n",
    "numbers = [1, 1, 2, 3, 4, 4, 5, 6, 7, 8, 9, 10, 1, 2, 3]\n",
    "words = ['is', 'an', 'of', 'python', 'C#', 'beegeek', 'is']\n",
    "\n",
    "new_numbers = list(dropwhile(lambda num: num <= 5, numbers))\n",
    "print(new_numbers)\n",
    "\n",
    "for word in dropwhile(lambda s: len(s) == 2, words):\n",
    "    print(word)"
   ],
   "metadata": {
    "collapsed": false,
    "ExecuteTime": {
     "end_time": "2025-03-05T12:44:51.200061400Z",
     "start_time": "2025-03-05T12:44:51.193719200Z"
    }
   },
   "id": "352fddf52d08433"
  },
  {
   "cell_type": "markdown",
   "source": [
    "Если требуется обеспечить более сложную логику фильтрации, то вместо использования лямбда функции нужно определить функцию явно."
   ],
   "metadata": {
    "collapsed": false
   },
   "id": "ddc3177da1402827"
  },
  {
   "cell_type": "code",
   "execution_count": 3,
   "outputs": [
    {
     "name": "stdout",
     "output_type": "stream",
     "text": [
      "Testing: -1\n",
      "Testing: 0\n",
      "Testing: 1\n",
      "Yielding: 1\n",
      "Yielding: 2\n",
      "Yielding: -2\n"
     ]
    }
   ],
   "source": [
    "from itertools import dropwhile\n",
    "\n",
    "def should_drop(x):\n",
    "    print('Testing:', x)\n",
    "    return x < 1\n",
    "\n",
    "for i in dropwhile(should_drop, [-1, 0, 1, 2, -2]):\n",
    "    print('Yielding:', i)\n",
    "    \n",
    "# в контексте dropwhile, более корректное слово для вывода значений будет \"Yielding\" (или \"Выдача\" на русском). Значения начинаются выводиться только после того, как условие перестает быть истинным."
   ],
   "metadata": {
    "collapsed": false,
    "ExecuteTime": {
     "end_time": "2025-03-05T12:47:51.980791300Z",
     "start_time": "2025-03-05T12:47:51.975024700Z"
    }
   },
   "id": "606e2b8a07014fa9"
  },
  {
   "cell_type": "markdown",
   "source": [
    "Функция dropwhile() примерно эквивалентна следующему коду:"
   ],
   "metadata": {
    "collapsed": false
   },
   "id": "f6ef3b9f77fa2417"
  },
  {
   "cell_type": "code",
   "execution_count": null,
   "outputs": [],
   "source": [
    "def dropwhile(predicate, iterable):\n",
    "    iterable = iter(iterable)\n",
    "    for x in iterable:\n",
    "        if not predicate(x):\n",
    "            yield x\n",
    "            break\n",
    "    for x in iterable:\n",
    "        yield x\n",
    "# Предикат — это функция или выражение, которое возвращает логическое значение: True или False"
   ],
   "metadata": {
    "collapsed": false
   },
   "id": "1a214f9699faf8f7"
  },
  {
   "cell_type": "markdown",
   "source": [
    "Функция takewhile()"
   ],
   "metadata": {
    "collapsed": false
   },
   "id": "40d303f219064a14"
  },
  {
   "cell_type": "markdown",
   "source": [
    "Функция takewhile() возвращает итератор, который генерирует элементы из входного итерируемого объекта до тех пор пока для заданного условия не будет получено ложное значение. По сути, действия функции takewhile() противоположны действиям функции dropwhile()."
   ],
   "metadata": {
    "collapsed": false
   },
   "id": "f4f4fa2516e84b1a"
  },
  {
   "cell_type": "markdown",
   "source": [
    "Аргументы функции:\n",
    "\n",
    "predicate — фильтрующая функция, возвращающая bool значение\n",
    "iterable — итерируемый объект"
   ],
   "metadata": {
    "collapsed": false
   },
   "id": "8665afc9359b388e"
  },
  {
   "cell_type": "code",
   "execution_count": 4,
   "outputs": [
    {
     "name": "stdout",
     "output_type": "stream",
     "text": [
      "[1, 1, 2, 3, 4, 4, 5]\n",
      "is\n",
      "an\n",
      "of\n"
     ]
    }
   ],
   "source": [
    "from itertools import takewhile\n",
    "\n",
    "numbers = [1, 1, 2, 3, 4, 4, 5, 6, 7, 8, 9, 10, 1, 2, 3]\n",
    "words = ['is', 'an', 'of', 'python', 'C#', 'beegeek', 'is']\n",
    "\n",
    "new_numbers = list(takewhile(lambda num: num <= 5, numbers))\n",
    "print(new_numbers)\n",
    "\n",
    "for word in takewhile(lambda s: len(s) == 2, words):\n",
    "    print(word)"
   ],
   "metadata": {
    "collapsed": false,
    "ExecuteTime": {
     "end_time": "2025-03-05T13:40:48.422160500Z",
     "start_time": "2025-03-05T13:40:48.417431900Z"
    }
   },
   "id": "ef451d5a3e7510e7"
  },
  {
   "cell_type": "markdown",
   "source": [
    "Если требуется обеспечить более сложную логику фильтрации, то вместо использования лямбда функции нужно определить функцию явно."
   ],
   "metadata": {
    "collapsed": false
   },
   "id": "9770cda6c07d9951"
  },
  {
   "cell_type": "code",
   "execution_count": 5,
   "outputs": [
    {
     "name": "stdout",
     "output_type": "stream",
     "text": [
      "Testing: -1\n",
      "Yielding: -1\n",
      "Testing: 0\n",
      "Yielding: 0\n",
      "Testing: 1\n",
      "Yielding: 1\n",
      "Testing: 2\n"
     ]
    }
   ],
   "source": [
    "from itertools import takewhile\n",
    "\n",
    "def should_take(x):\n",
    "    print('Testing:', x)\n",
    "    return x < 2\n",
    "\n",
    "for i in takewhile(should_take, [-1, 0, 1, 2, -2]):\n",
    "    print('Yielding:', i)"
   ],
   "metadata": {
    "collapsed": false,
    "ExecuteTime": {
     "end_time": "2025-03-05T13:41:10.956909300Z",
     "start_time": "2025-03-05T13:41:10.950461200Z"
    }
   },
   "id": "507776a273364a71"
  },
  {
   "cell_type": "markdown",
   "source": [
    "Как только функция should_take() возвращает ложное значение, функция takewhile() прекращает обработку переданного итерируемого объекта."
   ],
   "metadata": {
    "collapsed": false
   },
   "id": "923db8941fb6ec11"
  },
  {
   "cell_type": "markdown",
   "source": [
    "Функция takewhile() примерно эквивалентна следующему коду:"
   ],
   "metadata": {
    "collapsed": false
   },
   "id": "fea544cd34dbdf81"
  },
  {
   "cell_type": "code",
   "execution_count": null,
   "outputs": [],
   "source": [
    "def takewhile(predicate, iterable):\n",
    "    for x in iterable:\n",
    "        if predicate(x):\n",
    "            yield x\n",
    "        else:\n",
    "            break"
   ],
   "metadata": {
    "collapsed": false
   },
   "id": "b562ab9224c79830"
  },
  {
   "cell_type": "markdown",
   "source": [
    "Функция filterfalse()"
   ],
   "metadata": {
    "collapsed": false
   },
   "id": "8abdc6c2dcf6177a"
  },
  {
   "cell_type": "markdown",
   "source": [
    "Функция filterfalse() возвращает итератор, который генерирует элементы из входного итерируемого объекта для которых заданное условие ложно. По сути, действия функции filterfalse() противоположны действиям встроенной функции filter()."
   ],
   "metadata": {
    "collapsed": false
   },
   "id": "187976fb4d95ac4a"
  },
  {
   "cell_type": "markdown",
   "source": [
    "Аргументы функции:\n",
    "\n",
    "predicate — фильтрующая функция, возвращающая bool значение\n",
    "iterable — итерируемый объект"
   ],
   "metadata": {
    "collapsed": false
   },
   "id": "ecbefd6570b7e554"
  },
  {
   "cell_type": "code",
   "execution_count": 6,
   "outputs": [
    {
     "name": "stdout",
     "output_type": "stream",
     "text": [
      "[6, 7, 8, 9, 10]\n",
      "python\n",
      "beegeek\n"
     ]
    }
   ],
   "source": [
    "from itertools import filterfalse\n",
    "\n",
    "numbers = [1, 1, 2, 3, 4, 4, 5, 6, 7, 8, 9, 10, 1, 2, 3]\n",
    "words = ['is', 'an', 'of', 'python', 'C#', 'beegeek', 'is']\n",
    "\n",
    "new_numbers = list(filterfalse(lambda num: num <= 5, numbers))\n",
    "print(new_numbers)\n",
    "\n",
    "for word in filterfalse(lambda s: len(s) == 2, words):\n",
    "    print(word)"
   ],
   "metadata": {
    "collapsed": false,
    "ExecuteTime": {
     "end_time": "2025-03-05T13:42:19.108882600Z",
     "start_time": "2025-03-05T13:42:19.102598600Z"
    }
   },
   "id": "9214e4de758c52e"
  },
  {
   "cell_type": "markdown",
   "source": [
    "Если predicate=None, то фильтрующая функция равнозначна функции bool()"
   ],
   "metadata": {
    "collapsed": false
   },
   "id": "6072eaad0f62ec74"
  },
  {
   "cell_type": "markdown",
   "source": [
    "Если требуется обеспечить более сложную логику фильтрации, то вместо использования лямбда функции нужно определить функцию явно."
   ],
   "metadata": {
    "collapsed": false
   },
   "id": "2289012dd0783957"
  },
  {
   "cell_type": "code",
   "execution_count": 7,
   "outputs": [
    {
     "name": "stdout",
     "output_type": "stream",
     "text": [
      "Testing: -1\n",
      "Testing: 0\n",
      "Testing: 1\n",
      "Yielding: 1\n",
      "Testing: 2\n",
      "Yielding: 2\n",
      "Testing: -2\n"
     ]
    }
   ],
   "source": [
    "from itertools import filterfalse\n",
    "\n",
    "def check_item(x):\n",
    "    print('Testing:', x)\n",
    "    return x < 1\n",
    "\n",
    "for i in filterfalse(check_item, [-1, 0, 1, 2, -2]):\n",
    "    print('Yielding:', i)"
   ],
   "metadata": {
    "collapsed": false,
    "ExecuteTime": {
     "end_time": "2025-03-05T13:43:21.687553100Z",
     "start_time": "2025-03-05T13:43:21.679661100Z"
    }
   },
   "id": "1b6fec2dff4fd40c"
  },
  {
   "cell_type": "markdown",
   "source": [
    "Функция filterfalse() примерно эквивалентна следующему коду:"
   ],
   "metadata": {
    "collapsed": false
   },
   "id": "36c87762e3e4c9f"
  },
  {
   "cell_type": "code",
   "execution_count": null,
   "outputs": [],
   "source": [
    "def filterfalse(predicate, iterable):\n",
    "    if predicate is None:\n",
    "        predicate = bool\n",
    "    for x in iterable:\n",
    "        if not predicate(x):\n",
    "            yield x"
   ],
   "metadata": {
    "collapsed": false
   },
   "id": "bcd79a837cf7152a"
  },
  {
   "cell_type": "markdown",
   "source": [
    "Функция compress()"
   ],
   "metadata": {
    "collapsed": false
   },
   "id": "a42920a6c2a516d1"
  },
  {
   "cell_type": "markdown",
   "source": [
    "Функция compress() предлагает другой способ фильтрации содержимого итерируемого объекта. Вместо того чтобы вызывать функцию, она использует значения другого итерируемого объекта для индикации того, следует ли принять значение или игнорировать его."
   ],
   "metadata": {
    "collapsed": false
   },
   "id": "1dc7b9060c00e1a0"
  },
  {
   "cell_type": "markdown",
   "source": [
    "Аргументы функции:\n",
    "\n",
    "iterable — итерируемый объект\n",
    "selectors — итерируемый объект, состоящий из значений True, False, который предоставляет значения, указывающие на то, какие входные значения следует брать, а какие следует игнорировать"
   ],
   "metadata": {
    "collapsed": false
   },
   "id": "2cb4b2ce47b60c2f"
  },
  {
   "cell_type": "code",
   "execution_count": 8,
   "outputs": [
    {
     "name": "stdout",
     "output_type": "stream",
     "text": [
      "['A', 'C', 'E']\n"
     ]
    }
   ],
   "source": [
    "from itertools import compress\n",
    "\n",
    "data = 'ABCDEF'\n",
    "selectors = [True, False, True, False, True, False]\n",
    "\n",
    "result = compress(data, selectors)\n",
    "print(list(result))"
   ],
   "metadata": {
    "collapsed": false,
    "ExecuteTime": {
     "end_time": "2025-03-05T13:44:52.371101200Z",
     "start_time": "2025-03-05T13:44:52.366900600Z"
    }
   },
   "id": "f4e1169ebeef08b3"
  },
  {
   "cell_type": "markdown",
   "source": [
    "Обратите внимание на то, что функция compress() останавливается, когда исчерпан любой из итерируемых объектов iterable или selectors."
   ],
   "metadata": {
    "collapsed": false
   },
   "id": "52caf0800fae42bc"
  },
  {
   "cell_type": "code",
   "execution_count": 9,
   "outputs": [
    {
     "name": "stdout",
     "output_type": "stream",
     "text": [
      "['A', 'C']\n"
     ]
    }
   ],
   "source": [
    "from itertools import compress\n",
    "\n",
    "data = 'ABCDEF'\n",
    "selectors = [True, False, True]\n",
    "\n",
    "result = compress(data, selectors)\n",
    "print(list(result))"
   ],
   "metadata": {
    "collapsed": false,
    "ExecuteTime": {
     "end_time": "2025-03-05T13:45:29.429547700Z",
     "start_time": "2025-03-05T13:45:29.426480600Z"
    }
   },
   "id": "98009804337e167a"
  },
  {
   "cell_type": "markdown",
   "source": [
    "Функция compress() примерно эквивалентна следующему коду:"
   ],
   "metadata": {
    "collapsed": false
   },
   "id": "acd2559d2e51ab7d"
  },
  {
   "cell_type": "code",
   "execution_count": 10,
   "outputs": [],
   "source": [
    "def compress(iterable, selectors):\n",
    "    for value, selector in zip(iterable, selectors):\n",
    "        if selector:\n",
    "            yield value"
   ],
   "metadata": {
    "collapsed": false,
    "ExecuteTime": {
     "end_time": "2025-03-05T13:45:55.129826700Z",
     "start_time": "2025-03-05T13:45:55.122984700Z"
    }
   },
   "id": "5f0032ecc39efc2b"
  },
  {
   "cell_type": "markdown",
   "source": [
    "Функция islice()"
   ],
   "metadata": {
    "collapsed": false
   },
   "id": "c3132bc43fe1b99f"
  },
  {
   "cell_type": "markdown",
   "source": [
    "Функция islice() возвращает итератор, который генерирует последовательность из выбранных элементов переданного итерируемого объекта. Другими словами, функция islice() позволяет получить срез итерируемого объекта, для которого не всегда можно получить срез обычными средствами."
   ],
   "metadata": {
    "collapsed": false
   },
   "id": "bcddbf5c2b3e8ec6"
  },
  {
   "cell_type": "markdown",
   "source": [
    "Аргументы функции:\n",
    "\n",
    "iterable — итерируемый объект\n",
    "start — начало среза, по умолчанию имеет значение 0\n",
    "stop — конец среза (не включительно)\n",
    "step — шаг среза, по умолчанию имеет значение 1"
   ],
   "metadata": {
    "collapsed": false
   },
   "id": "4ffce303c0df767c"
  },
  {
   "cell_type": "markdown",
   "source": [
    "По сути, функция islice() имеет те же аргументы, что и оператор взятия среза списка: start, stop и step. При этом аргументы start и step — необязательные. Таким образом, вызывать функцию islice() можно одним из трех способов:"
   ],
   "metadata": {
    "collapsed": false
   },
   "id": "8fe195001fc45a23"
  },
  {
   "cell_type": "markdown",
   "source": [
    "islice(iterable, stop)\n",
    "islice(iterable, start, stop)\n",
    "islice(iterable, start, stop, step)"
   ],
   "metadata": {
    "collapsed": false
   },
   "id": "c684f913c2c0e9b5"
  },
  {
   "cell_type": "markdown",
   "source": [
    "при этом, если stop равен None, срез берется до конца."
   ],
   "metadata": {
    "collapsed": false
   },
   "id": "6e4e8a9b99fe1a0c"
  },
  {
   "cell_type": "code",
   "execution_count": 11,
   "outputs": [
    {
     "name": "stdout",
     "output_type": "stream",
     "text": [
      "0 1 2 3 4 5 6 7 8 9\n",
      "0 1 2 3 4\n",
      "5 6 7 8 9\n",
      "0 10 20 30 40 50 60 70 80 90\n"
     ]
    }
   ],
   "source": [
    "from itertools import islice\n",
    "\n",
    "print(*islice(range(10), None))\n",
    "print(*islice(range(100), 5))\n",
    "print(*islice(range(100), 5, 10))\n",
    "print(*islice(range(100), 0, 100, 10))"
   ],
   "metadata": {
    "collapsed": false,
    "ExecuteTime": {
     "end_time": "2025-03-05T13:47:35.406541Z",
     "start_time": "2025-03-05T13:47:35.403562500Z"
    }
   },
   "id": "5c7bda3597df1a7a"
  },
  {
   "cell_type": "markdown",
   "source": [
    "В отличие от обычных срезов списков (строк, кортежей), функция islice() не поддерживает отрицательные значения для start, stop или step."
   ],
   "metadata": {
    "collapsed": false
   },
   "id": "9cf9e98b0e53169"
  },
  {
   "cell_type": "markdown",
   "source": [
    "Примечания"
   ],
   "metadata": {
    "collapsed": false
   },
   "id": "52a22ae04f24bc9b"
  },
  {
   "cell_type": "markdown",
   "source": [
    "Примечание 1. Встроенная функция filter() создает итератор, включающий только те элементы, для которых тестирующая функция возвращает истинное значение."
   ],
   "metadata": {
    "collapsed": false
   },
   "id": "1a24a1c832a69037"
  },
  {
   "cell_type": "code",
   "execution_count": 12,
   "outputs": [
    {
     "name": "stdout",
     "output_type": "stream",
     "text": [
      "Testing: -1\n",
      "Yielding: -1\n",
      "Testing: 0\n",
      "Yielding: 0\n",
      "Testing: 1\n",
      "Testing: 2\n",
      "Testing: -2\n",
      "Yielding: -2\n"
     ]
    }
   ],
   "source": [
    "def check_item(x):\n",
    "    print('Testing:', x)\n",
    "    return x < 1\n",
    "\n",
    "for i in filter(check_item, [-1, 0, 1, 2, -2]):\n",
    "    print('Yielding:', i)"
   ],
   "metadata": {
    "collapsed": false,
    "ExecuteTime": {
     "end_time": "2025-03-05T13:48:36.804321600Z",
     "start_time": "2025-03-05T13:48:36.801227800Z"
    }
   },
   "id": "b37a8b15da5f2cd7"
  },
  {
   "cell_type": "markdown",
   "source": [
    "Функция filter() отличается от функций dropwhile() и takewhile() тем, что тестирует каждый элемент переданного итерируемого объекта, прежде чем его вернуть."
   ],
   "metadata": {
    "collapsed": false
   },
   "id": "c9d66c52c0ea8b2e"
  },
  {
   "cell_type": "markdown",
   "source": [
    "Примечание 2. Буква i в начале названия функции islice() говорит о том, что будет возвращен итератор. В Python есть встроенная функция slice(), о которой можно почитать в документации."
   ],
   "metadata": {
    "collapsed": false
   },
   "id": "b3de67602e8f306"
  },
  {
   "cell_type": "code",
   "execution_count": 14,
   "outputs": [
    {
     "name": "stdout",
     "output_type": "stream",
     "text": [
      "False [] ()\n"
     ]
    }
   ],
   "source": [
    "from itertools import filterfalse\n",
    "\n",
    "objects = [True, False, 'True', 'False', [], ()]\n",
    "\n",
    "print(*filterfalse(None, objects))\n",
    "\n",
    "# эта функция работает противоположно функции filter(). Если передать в качестве первого аргумента None, функция filter() будет фильтровать значения, соответствующие True, filterfalse() наоборот"
   ],
   "metadata": {
    "collapsed": false,
    "ExecuteTime": {
     "end_time": "2025-03-06T05:42:00.415155600Z",
     "start_time": "2025-03-06T05:42:00.411356900Z"
    }
   },
   "id": "58da47bf304e7db5"
  },
  {
   "cell_type": "code",
   "execution_count": 15,
   "outputs": [
    {
     "name": "stdout",
     "output_type": "stream",
     "text": [
      "4 8\n"
     ]
    }
   ],
   "source": [
    "from itertools import compress\n",
    "\n",
    "numbers = [1, -2, 3, 4, -5, -6, 7, 8, -9, -10]\n",
    "selectors = (i > 0 and i % 2 == 0 for i in numbers)\n",
    "\n",
    "print(*compress(numbers, selectors))"
   ],
   "metadata": {
    "collapsed": false,
    "ExecuteTime": {
     "end_time": "2025-03-06T06:58:07.242618Z",
     "start_time": "2025-03-06T06:58:07.235863800Z"
    }
   },
   "id": "aefe1457ada83d42"
  },
  {
   "cell_type": "code",
   "execution_count": 16,
   "outputs": [
    {
     "name": "stdout",
     "output_type": "stream",
     "text": [
      "e g e e\n"
     ]
    }
   ],
   "source": [
    "from itertools import islice\n",
    "\n",
    "print(*islice('beegeek', 2, 6))\n",
    "# не включительно"
   ],
   "metadata": {
    "collapsed": false,
    "ExecuteTime": {
     "end_time": "2025-03-06T07:09:14.867699300Z",
     "start_time": "2025-03-06T07:09:14.863992800Z"
    }
   },
   "id": "d407f66dc9f169d9"
  },
  {
   "cell_type": "markdown",
   "source": [
    "Функция drop_while_negative()\n",
    "Реализуйте функцию drop_while_negative(), которая принимает один аргумент:\n",
    "\n",
    "iterable — итерируемый объект, элементами которого являются целые числа\n",
    "Функция должна возвращать итератор, генерирующий все числа итерируемого объекта iterable, начиная с первого неотрицательного числа.\n",
    "\n",
    "Примечание 1. Элементы итерируемого объекта в возвращаемом функцией итераторе должны располагаться в своем исходном порядке.\n",
    "\n",
    "Примечание 2. Гарантируется, что итерируемый объект, передаваемый в функцию, не является множеством."
   ],
   "metadata": {
    "collapsed": false
   },
   "id": "5e055d3a5b7544ac"
  },
  {
   "cell_type": "code",
   "execution_count": 27,
   "outputs": [
    {
     "name": "stdout",
     "output_type": "stream",
     "text": [
      "0 1 2 3\n",
      "0 1 2 3 -4 -5 -6\n",
      "[]\n"
     ]
    }
   ],
   "source": [
    "from itertools import dropwhile\n",
    "from typing import Iterable\n",
    "\n",
    "def check_item(x):\n",
    "    return x < 0\n",
    "\n",
    "def drop_while_negative(iterable: Iterable[int]):\n",
    "    new_iter = dropwhile(check_item, iterable)\n",
    "    yield from new_iter\n",
    "\n",
    "def drop_while_negative(it):\n",
    "    return dropwhile(lambda x: x < 0, it)\n",
    "\n",
    "numbers = [-3, -2, -1, 0, 1, 2, 3]\n",
    "print(*drop_while_negative(numbers))\n",
    "\n",
    "iterator = iter([-3, -2, -1, 0, 1, 2, 3, -4, -5, -6])\n",
    "print(*drop_while_negative(iterator))\n",
    "\n",
    "iterator = iter([-3, -2, -1, -4, -5, -6])\n",
    "print(list(drop_while_negative(iterator)))"
   ],
   "metadata": {
    "collapsed": false,
    "ExecuteTime": {
     "end_time": "2025-03-06T07:21:42.449340900Z",
     "start_time": "2025-03-06T07:21:42.444696800Z"
    }
   },
   "id": "70436abb486cf66b"
  },
  {
   "cell_type": "markdown",
   "source": [
    "Функция drop_this()\n",
    "Реализуйте функцию drop_this(), которая принимает два аргумента в следующем порядке:\n",
    "\n",
    "iterable — итерируемый объект\n",
    "obj — произвольный объект\n",
    "Функция должна возвращать итератор, генерирующий последовательность элементов итерируемого объекта iterable, начиная с элемента, не равного obj.\n",
    "\n",
    "Примечание 1. Элементы итерируемого объекта в возвращаемом функцией итераторе должны располагаться в своем исходном порядке.\n",
    "\n",
    "Примечание 2. Гарантируется, что итерируемый объект, передаваемый в функцию, не является множеством."
   ],
   "metadata": {
    "collapsed": false
   },
   "id": "423bf6cc5cad13e5"
  },
  {
   "cell_type": "code",
   "execution_count": 37,
   "outputs": [
    {
     "name": "stdout",
     "output_type": "stream",
     "text": [
      "1 2 3\n",
      "e e b e e\n",
      "[]\n"
     ]
    }
   ],
   "source": [
    "from typing import Iterable, Iterator\n",
    "from itertools import dropwhile\n",
    "\n",
    "def drop_this(iterable: Iterable, obj) -> Iterator:\n",
    "    search = [str(i) for i in iterable]\n",
    "    result = dropwhile(lambda x: x.startswith(str(obj)), search)\n",
    "    yield from result\n",
    "\n",
    "def drop_this(iterable, obj):\n",
    "    yield from dropwhile(lambda x: x == obj, iterable)\n",
    "    \n",
    "numbers = [0, 0, 0, 1, 2, 3]\n",
    "print(*drop_this(numbers, 0))\n",
    "\n",
    "iterator = iter('bbbbeebee')\n",
    "print(*drop_this(iterator, 'b'))\n",
    "\n",
    "iterator = iter('ssssssssssssssssssssssss')\n",
    "print(list(drop_this(iterator, 's')))"
   ],
   "metadata": {
    "collapsed": false,
    "ExecuteTime": {
     "end_time": "2025-03-06T08:13:52.763215900Z",
     "start_time": "2025-03-06T08:13:52.759301200Z"
    }
   },
   "id": "c1ae9798af7962b8"
  },
  {
   "cell_type": "code",
   "execution_count": 28,
   "outputs": [
    {
     "name": "stdout",
     "output_type": "stream",
     "text": [
      "Timur Dima\n"
     ]
    }
   ],
   "source": [
    "from itertools import filterfalse\n",
    "\n",
    "names = ['Timur', 'Arthur', 'Dima', 'Anri']\n",
    "\n",
    "print(*filterfalse(lambda name: name.startswith('A'), names))"
   ],
   "metadata": {
    "collapsed": false,
    "ExecuteTime": {
     "end_time": "2025-03-06T08:03:40.609631700Z",
     "start_time": "2025-03-06T08:03:40.605931Z"
    }
   },
   "id": "e114dace51722fd4"
  },
  {
   "cell_type": "markdown",
   "source": [
    "Функция first_true()\n",
    "Реализуйте функцию first_true(), которая принимает два аргумента в следующем порядке:\n",
    "\n",
    "iterable — итерируемый объект\n",
    "predicate — функция-предикат; если имеет значение None, то работает аналогично функции bool()\n",
    "Функция first_true() должна возвращать первый по счету элемент итерируемого объекта iterable, для которого функция predicate вернула значение True. Если такого элемента нет, функция first_true() должна вернуть значение None.\n",
    "\n",
    "Примечание 1. Предикат — это функция, которая возвращает True или False в зависимости от переданного в качестве аргумента значения.\n",
    "\n",
    "Примечание 2. Гарантируется, что итерируемый объект, передаваемый в функцию, не является множеством."
   ],
   "metadata": {
    "collapsed": false
   },
   "id": "bb4681e752a7026d"
  },
  {
   "cell_type": "code",
   "execution_count": 70,
   "outputs": [
    {
     "name": "stdout",
     "output_type": "stream",
     "text": [
      "2\n",
      "100\n",
      "69\n",
      "None\n"
     ]
    }
   ],
   "source": [
    "from typing import Iterable\n",
    "from itertools import dropwhile\n",
    "\n",
    "def first_true(iterable: Iterable, predicate) -> int:\n",
    "    if predicate is None:\n",
    "        predicate = bool\n",
    "    it = dropwhile(lambda x: not predicate(x), iterable)\n",
    "    # в next можно передавать второй параметр, который будет возвращаться вместо возбуждения исключения\n",
    "    return next(it, None)\n",
    "\n",
    "def first_true(iterable, func):\n",
    "    return next(filter(func, iterable), None)\n",
    "\n",
    "numbers = [1, 1, 1, 1, 2, 4, 5, 6]\n",
    "print(first_true(numbers, lambda num: num % 2 == 0))\n",
    "\n",
    "numbers = iter([1, 1, 1, 1, 2, 4, 5, 6, 10, 100, 200])\n",
    "print(first_true(numbers, lambda num: num > 10))\n",
    "\n",
    "numbers = (0, 0, 0, 69, 1, 1, 1, 2, 4, 5, 6, 10, 100, 200)\n",
    "print(first_true(numbers, None))\n",
    "\n",
    "numbers = (0, 0, 0, 69, 1, 1, 1, 2, 4, 5, 6, 0, 10, 100, 200)\n",
    "numbers_iter = filter(None, numbers)\n",
    "print(first_true(numbers_iter, lambda num: num < 0))"
   ],
   "metadata": {
    "collapsed": false,
    "ExecuteTime": {
     "end_time": "2025-03-06T08:44:02.539593500Z",
     "start_time": "2025-03-06T08:44:02.535499700Z"
    }
   },
   "id": "71f8f7ca200450d5"
  },
  {
   "cell_type": "code",
   "execution_count": 53,
   "outputs": [
    {
     "name": "stdout",
     "output_type": "stream",
     "text": [
      "[2, 4, 5, 6]\n"
     ]
    }
   ],
   "source": [
    "numbers = [1, 1, 1, 1, 2, 4, 5, 6]\n",
    "# print(list(islice(numbers, None)))\n",
    "\n",
    "print(list(dropwhile(lambda num: not num % 2 == 0, numbers)))"
   ],
   "metadata": {
    "collapsed": false,
    "ExecuteTime": {
     "end_time": "2025-03-06T08:36:42.271328700Z",
     "start_time": "2025-03-06T08:36:42.266603900Z"
    }
   },
   "id": "53ba40b64d897af"
  },
  {
   "cell_type": "markdown",
   "source": [
    "Функция take()\n",
    "Реализуйте функцию take(), которая принимает два аргумента в следующем порядке:\n",
    "\n",
    "iterable — итерируемый объект\n",
    "n — натуральное число\n",
    "Функция должна возвращать итератор, генерирующий последовательность из первых n элементов итерируемого объекта iterable.\n",
    "\n",
    "Примечание 1. Элементы итерируемого объекта в возвращаемом функцией итераторе должны располагаться в своем исходном порядке.\n",
    "\n",
    "Примечание 2. Гарантируется, что итерируемый объект, передаваемый в функцию, не является множеством."
   ],
   "metadata": {
    "collapsed": false
   },
   "id": "9ea7b87ed7c6ee97"
  },
  {
   "cell_type": "code",
   "execution_count": 75,
   "outputs": [
    {
     "name": "stdout",
     "output_type": "stream",
     "text": [
      "0 1 2 3 4\n",
      "b e e g e e k\n",
      "b\n"
     ]
    }
   ],
   "source": [
    "from typing import Iterable\n",
    "from itertools import islice\n",
    "\n",
    "def take(iterable: Iterable, n: int):\n",
    "    iterable = islice(iterable, 0, n)\n",
    "    yield from iterable\n",
    "\n",
    "from itertools import islice as take\n",
    "\n",
    "print(*take(range(10), 5))\n",
    "\n",
    "iterator = iter('beegeek')\n",
    "print(*take(iterator, 22))\n",
    "\n",
    "iterator = iter('beegeek')\n",
    "print(*take(iterator, 1))"
   ],
   "metadata": {
    "collapsed": false,
    "ExecuteTime": {
     "end_time": "2025-03-06T10:19:40.999555200Z",
     "start_time": "2025-03-06T10:19:40.995078Z"
    }
   },
   "id": "5b36f820c5f7c8b4"
  },
  {
   "cell_type": "markdown",
   "source": [
    "Функция take_nth()\n",
    "Реализуйте функцию take_nth(), которая принимает два аргумента в следующем порядке:\n",
    "\n",
    "iterable — итерируемый объект\n",
    "n — натуральное число\n",
    "Функция должна возвращать n-ый по счету элемент итерируемого объекта iterable. Если итерируемый объект iterable содержит менее n элементов, функция должна вернуть значение None.\n",
    "\n",
    "Примечание 1. Гарантируется, что итерируемый объект, передаваемый в функцию, не является множеством."
   ],
   "metadata": {
    "collapsed": false
   },
   "id": "41ce66bec87b7975"
  },
  {
   "cell_type": "code",
   "execution_count": 101,
   "outputs": [
    {
     "name": "stdout",
     "output_type": "stream",
     "text": [
      "33\n",
      "g\n",
      "None\n"
     ]
    }
   ],
   "source": [
    "from typing import Iterable\n",
    "from itertools import islice\n",
    "\n",
    "def take_nth(iterable: Iterable, n: int):\n",
    "    return next(islice(iterable, n - 1, n), None)\n",
    "    \n",
    "numbers = [11, 22, 33, 44, 55]\n",
    "print(take_nth(numbers, 3))\n",
    "\n",
    "iterator = iter('beegeek')\n",
    "print(take_nth(iterator, 4))\n",
    "\n",
    "iterator = iter('beegeek')\n",
    "print(take_nth(iterator, 10))"
   ],
   "metadata": {
    "collapsed": false,
    "ExecuteTime": {
     "end_time": "2025-03-06T10:32:53.306538Z",
     "start_time": "2025-03-06T10:32:53.302427600Z"
    }
   },
   "id": "911af3fcbcc5c749"
  },
  {
   "cell_type": "markdown",
   "source": [
    "Функция first_largest()\n",
    "Реализуйте функцию first_largest(), которая принимает два аргумента в следующем порядке:\n",
    "\n",
    "iterable — итерируемый объект, элементами которого являются целые числа\n",
    "number — произвольное число\n",
    "Функция должна возвращать индекс первого элемента итерируемого объекта iterable, который больше number. Если таких элементов нет, функция должна вернуть число −1.\n",
    "\n",
    "Примечание 1. Рассмотрим список чисел \n",
    "10,2,14,7,7,18,20 из первого теста. Первым числом, превосходящим 11, является число 14, которое имеет индекс 2.\n",
    "\n",
    "Примечание 2. Гарантируется, что итерируемый объект, передаваемый в функцию, не является множеством."
   ],
   "metadata": {
    "collapsed": false
   },
   "id": "c981ebdf43e88153"
  },
  {
   "cell_type": "code",
   "execution_count": 105,
   "outputs": [
    {
     "name": "stdout",
     "output_type": "stream",
     "text": [
      "2\n",
      "-1\n",
      "0\n"
     ]
    }
   ],
   "source": [
    "from typing import Iterable\n",
    "\n",
    "def first_largest(iterable: Iterable, number: int):\n",
    "    lst = (i for i, e in enumerate(iterable) if e > number)\n",
    "    return next(lst, -1)\n",
    "\n",
    "numbers = [10, 2, 14, 7, 7, 18, 20]\n",
    "print(first_largest(numbers, 11))\n",
    "\n",
    "iterator = iter([-1, -2, -3, -4, -5])\n",
    "print(first_largest(iterator, 10))\n",
    "\n",
    "iterator = iter([18, 21, 14, 72, 73, 18, 20])\n",
    "print(first_largest(iterator, 10))"
   ],
   "metadata": {
    "collapsed": false,
    "ExecuteTime": {
     "end_time": "2025-03-06T10:40:12.091254900Z",
     "start_time": "2025-03-06T10:40:12.088650Z"
    }
   },
   "id": "f5519bd4c6bd090a"
  }
 ],
 "metadata": {
  "kernelspec": {
   "display_name": "Python 3",
   "language": "python",
   "name": "python3"
  },
  "language_info": {
   "codemirror_mode": {
    "name": "ipython",
    "version": 2
   },
   "file_extension": ".py",
   "mimetype": "text/x-python",
   "name": "python",
   "nbconvert_exporter": "python",
   "pygments_lexer": "ipython2",
   "version": "2.7.6"
  }
 },
 "nbformat": 4,
 "nbformat_minor": 5
}

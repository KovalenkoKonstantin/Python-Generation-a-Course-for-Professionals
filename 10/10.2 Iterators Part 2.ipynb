{
 "cells": [
  {
   "cell_type": "markdown",
   "source": [
    "Тема урока: итераторы\n",
    "Особенности итераторов\n",
    "Встроенные функции, порождающие итераторы\n",
    "Аннотация. Урок посвящен особенностям итераторов, а также встроенным функциям, которые порождают итераторы."
   ],
   "metadata": {
    "collapsed": false
   },
   "id": "3ad2c66587df4717"
  },
  {
   "cell_type": "markdown",
   "source": [
    "Особенности итераторов"
   ],
   "metadata": {
    "collapsed": false
   },
   "id": "ea8c562790c98ece"
  },
  {
   "cell_type": "markdown",
   "source": [
    "Как мы уже выяснили, итератор — специальный объект, который выдает свои элементы по одному за раз.\n",
    "\n",
    "Если итератор передать во встроенную функцию next(), то эта функция вернет его следующий элемент. При этом сам итератор также сдвинется на следующий элемент. При следующем вызове функция next() вернет следующий элемент и т.д. Если же в итераторе элементов больше не осталось, то вызов функции next() приведет к возбуждению исключения StopIteration, а сам итератор становится совершенно бесполезным, так как опустошен."
   ],
   "metadata": {
    "collapsed": false
   },
   "id": "a29288543e050ac"
  },
  {
   "cell_type": "markdown",
   "source": [
    "Итераторы очень глубоко интегрированы в язык Python, и многие языковые конструкции позволяют их использовать."
   ],
   "metadata": {
    "collapsed": false
   },
   "id": "a52c0cd40acb591d"
  },
  {
   "cell_type": "markdown",
   "source": [
    "Цикл for"
   ],
   "metadata": {
    "collapsed": false
   },
   "id": "47a5c5f637ad6eae"
  },
  {
   "cell_type": "markdown",
   "source": [
    "Самое простое, что можно сделать с итератором, — это его последовательный обход с помощью цикла for"
   ],
   "metadata": {
    "collapsed": false
   },
   "id": "4fb007f61a8111a0"
  },
  {
   "cell_type": "code",
   "execution_count": 1,
   "outputs": [
    {
     "name": "stdout",
     "output_type": "stream",
     "text": [
      "3\n",
      "6\n",
      "1\n",
      "90\n",
      "34\n",
      "25\n",
      "23\n",
      "21\n"
     ]
    }
   ],
   "source": [
    "numbers = [-3, 6, 1, -90, 34, -25, 23, -21]\n",
    "\n",
    "positive_numbers = map(abs, numbers)  # создаем объект итератора\n",
    "\n",
    "for num in positive_numbers:  # обходим итератор циклом for\n",
    "    print(num)"
   ],
   "metadata": {
    "collapsed": false,
    "ExecuteTime": {
     "end_time": "2025-02-18T11:56:20.822113200Z",
     "start_time": "2025-02-18T11:56:20.812713400Z"
    }
   },
   "id": "83ae198af6c65bbe"
  },
  {
   "cell_type": "markdown",
   "source": [
    "По сути, за кулисами цикл for вызывает встроенную функцию next(), передавая ей в качестве аргумента итератор positive_numbers. Функция next() последовательно возвращает значения итератора, применяя к ним функцию abs() до тех пор, пока не будет возвращено последнее значение, после чего возбуждается исключение StopItеration, и цикл for завершается. По мере вызова функции next() итератор positive_numbers опустошается и в конце концов становится совершенно бесполезным."
   ],
   "metadata": {
    "collapsed": false
   },
   "id": "3d2553d32f16d46a"
  },
  {
   "cell_type": "code",
   "execution_count": 2,
   "outputs": [
    {
     "name": "stdout",
     "output_type": "stream",
     "text": [
      "3\n",
      "6\n",
      "1\n",
      "90\n",
      "34\n",
      "25\n",
      "23\n",
      "21\n"
     ]
    }
   ],
   "source": [
    "numbers = [-3, 6, 1, -90, 34, -25, 23, -21]\n",
    "\n",
    "positive_numbers = map(abs, numbers)  # создаем объект итератора\n",
    "\n",
    "for num in positive_numbers:  # обходим итератор циклом for\n",
    "    print(num)\n",
    "\n",
    "for num in positive_numbers:  # обходим пустой итератор, тело цикла выполнено не будет\n",
    "    print(num)"
   ],
   "metadata": {
    "collapsed": false,
    "ExecuteTime": {
     "end_time": "2025-02-18T11:57:10.608373200Z",
     "start_time": "2025-02-18T11:57:10.605303700Z"
    }
   },
   "id": "7db951513ef2b1f7"
  },
  {
   "cell_type": "markdown",
   "source": [
    "поскольку после первого цикла for итератор positive_numbers становится пустым и его повторный обход ни к чему не приведет."
   ],
   "metadata": {
    "collapsed": false
   },
   "id": "fda83de34388a456"
  },
  {
   "cell_type": "markdown",
   "source": [
    "Обратите внимание на то, что цикл for сам перехватывает исключение StopIteration. Если самостоятельно вызвать функцию next() на пустом итераторе, мы получим исключение."
   ],
   "metadata": {
    "collapsed": false
   },
   "id": "9dd2a735b722ae23"
  },
  {
   "cell_type": "code",
   "execution_count": 3,
   "outputs": [
    {
     "name": "stdout",
     "output_type": "stream",
     "text": [
      "3\n",
      "6\n",
      "1\n",
      "90\n",
      "34\n",
      "25\n",
      "23\n",
      "21\n"
     ]
    },
    {
     "ename": "StopIteration",
     "evalue": "",
     "output_type": "error",
     "traceback": [
      "\u001B[1;31m---------------------------------------------------------------------------\u001B[0m",
      "\u001B[1;31mStopIteration\u001B[0m                             Traceback (most recent call last)",
      "Cell \u001B[1;32mIn[3], line 8\u001B[0m\n\u001B[0;32m      5\u001B[0m \u001B[38;5;28;01mfor\u001B[39;00m num \u001B[38;5;129;01min\u001B[39;00m positive_numbers:             \u001B[38;5;66;03m# обходим итератор циклом for\u001B[39;00m\n\u001B[0;32m      6\u001B[0m     \u001B[38;5;28mprint\u001B[39m(num)\n\u001B[1;32m----> 8\u001B[0m \u001B[38;5;28mprint\u001B[39m(\u001B[38;5;28;43mnext\u001B[39;49m\u001B[43m(\u001B[49m\u001B[43mpositive_numbers\u001B[49m\u001B[43m)\u001B[49m)            \u001B[38;5;66;03m# пытаемся получить элемент из пустого итератора\u001B[39;00m\n",
      "\u001B[1;31mStopIteration\u001B[0m: "
     ]
    }
   ],
   "source": [
    "numbers = [-3, 6, 1, -90, 34, -25, 23, -21]\n",
    "\n",
    "positive_numbers = map(abs, numbers)  # создаем объект итератора\n",
    "\n",
    "for num in positive_numbers:  # обходим итератор циклом for\n",
    "    print(num)\n",
    "\n",
    "print(next(positive_numbers))  # пытаемся получить элемент из пустого итератора"
   ],
   "metadata": {
    "collapsed": false,
    "ExecuteTime": {
     "end_time": "2025-02-18T11:58:40.189514100Z",
     "start_time": "2025-02-18T11:58:39.943234500Z"
    }
   },
   "id": "4bcb83d7758e93ec"
  },
  {
   "cell_type": "markdown",
   "source": [
    "Преобразование в коллекцию"
   ],
   "metadata": {
    "collapsed": false
   },
   "id": "720abf212695b746"
  },
  {
   "cell_type": "markdown",
   "source": [
    "Помимо последовательного прохода по итератору с помощью цикла for мы можем использовать встроенные функции list(), tuple() и т.д. для преобразования итератора в коллекцию."
   ],
   "metadata": {
    "collapsed": false
   },
   "id": "c6c2b01ac6b84978"
  },
  {
   "cell_type": "code",
   "execution_count": 26,
   "outputs": [
    {
     "name": "stdout",
     "output_type": "stream",
     "text": [
      "[3, 6, 1, 90, 34, 25, 23, 21]\n",
      "True\n"
     ]
    }
   ],
   "source": [
    "numbers = [-3, 6, 1, -90, 34, -25, 23, -21]\n",
    "\n",
    "positive_numbers = map(abs, numbers)  # создаем объект итератора\n",
    "positive_numbers_list = list(positive_numbers)  # преобразуем итератор в список\n",
    "\n",
    "print(positive_numbers_list)\n",
    "print(list(positive_numbers) == [])\n"
   ],
   "metadata": {
    "collapsed": false,
    "ExecuteTime": {
     "end_time": "2025-02-18T12:05:22.552685700Z",
     "start_time": "2025-02-18T12:05:22.544672100Z"
    }
   },
   "id": "ce0eb0f72bae5cf4"
  },
  {
   "cell_type": "markdown",
   "source": [
    "Функция list() в данном случае преобразует итератор в список и за кулисами обходит итератор до конца, тем самым опустошая его."
   ],
   "metadata": {
    "collapsed": false
   },
   "id": "314e0715b2415282"
  },
  {
   "cell_type": "code",
   "execution_count": 27,
   "outputs": [
    {
     "name": "stdout",
     "output_type": "stream",
     "text": [
      "[3, 6, 1, 90, 34, 25, 23, 21]\n",
      "[]\n"
     ]
    }
   ],
   "source": [
    "numbers = [-3, 6, 1, -90, 34, -25, 23, -21]\n",
    "\n",
    "positive_numbers = map(abs, numbers)  # создаем объект итератора\n",
    "\n",
    "positive_numbers_list1 = list(positive_numbers)  # преобразуем итератор в список\n",
    "positive_numbers_list2 = list(positive_numbers)  # преобразуем пустой итератор в список\n",
    "\n",
    "print(positive_numbers_list1)\n",
    "print(positive_numbers_list2)"
   ],
   "metadata": {
    "collapsed": false,
    "ExecuteTime": {
     "end_time": "2025-02-18T12:06:14.336846800Z",
     "start_time": "2025-02-18T12:06:14.328698800Z"
    }
   },
   "id": "8e6643fb7670084d"
  },
  {
   "cell_type": "markdown",
   "source": [
    "Так как получить элементы итератора возможно лишь единожды, второй список оказывается пустым."
   ],
   "metadata": {
    "collapsed": false
   },
   "id": "c2206bb2c9df9969"
  },
  {
   "cell_type": "markdown",
   "source": [
    "Оператор принадлежности in"
   ],
   "metadata": {
    "collapsed": false
   },
   "id": "e44e8319c276a860"
  },
  {
   "cell_type": "markdown",
   "source": [
    "Оператор принадлежности in работает и с итераторами. Проверка на вхождение осуществляется путем перебора всех элементов последовательно, и как только элемент обнаружен, поиск прекращается."
   ],
   "metadata": {
    "collapsed": false
   },
   "id": "e04756c9e387877f"
  },
  {
   "cell_type": "code",
   "execution_count": 28,
   "outputs": [
    {
     "name": "stdout",
     "output_type": "stream",
     "text": [
      "True\n"
     ]
    }
   ],
   "source": [
    "numbers = [4, 8, 15, 16, 23, 42]\n",
    "\n",
    "iterator = iter(numbers)  # создаем итератор на основе списка\n",
    "\n",
    "print(15 in iterator)"
   ],
   "metadata": {
    "collapsed": false,
    "ExecuteTime": {
     "end_time": "2025-02-18T12:07:28.319267200Z",
     "start_time": "2025-02-18T12:07:28.311321200Z"
    }
   },
   "id": "dbf94d4432eda0c9"
  },
  {
   "cell_type": "markdown",
   "source": [
    "Однако тут нужно понимать, что по мере поиска итератор опустошается, поскольку оператор in за кулисами вызывает функцию next() для получения следующего элемента."
   ],
   "metadata": {
    "collapsed": false
   },
   "id": "87bc6a2bfd09e1ae"
  },
  {
   "cell_type": "code",
   "execution_count": 35,
   "outputs": [
    {
     "name": "stdout",
     "output_type": "stream",
     "text": [
      "True\n",
      "False\n",
      "False\n",
      "False\n"
     ]
    }
   ],
   "source": [
    "numbers = [4, 8, 15, 16, 23, 42]\n",
    "\n",
    "iterator = iter(numbers)  # создаем итератор на основе списка\n",
    "\n",
    "print(15 in iterator)\n",
    "print(15 in iterator)\n",
    "print(4 in iterator)\n",
    "print(23 in iterator)"
   ],
   "metadata": {
    "collapsed": false,
    "ExecuteTime": {
     "end_time": "2025-02-18T12:11:46.013694800Z",
     "start_time": "2025-02-18T12:11:46.002252200Z"
    }
   },
   "id": "a5fd8d28c6196f16"
  },
  {
   "cell_type": "markdown",
   "source": [
    "При этом после второй проверки на принадлежность итератор iterator полностью опустошается и последующие поиски по нему всегда будут приводить к результату False"
   ],
   "metadata": {
    "collapsed": false
   },
   "id": "8e280a20a7b896db"
  },
  {
   "cell_type": "code",
   "execution_count": 36,
   "outputs": [
    {
     "name": "stdout",
     "output_type": "stream",
     "text": [
      "True\n",
      "True\n"
     ]
    }
   ],
   "source": [
    "numbers = [4, 8, 15, 16, 23, 42]\n",
    "\n",
    "iterator = iter(numbers)  # создаем итератор на основе списка\n",
    "\n",
    "print(15 in iterator)\n",
    "print(23 in iterator)"
   ],
   "metadata": {
    "collapsed": false,
    "ExecuteTime": {
     "end_time": "2025-02-18T12:12:02.166014900Z",
     "start_time": "2025-02-18T12:12:02.162774Z"
    }
   },
   "id": "48a6bea3ea13a45b"
  },
  {
   "cell_type": "markdown",
   "source": [
    "поскольку как только элемент 15 обнаружен, поиск прекращается, и в итераторе остается три числа 16,23,42."
   ],
   "metadata": {
    "collapsed": false
   },
   "id": "d325dc0c97ca350e"
  },
  {
   "cell_type": "markdown",
   "source": [
    "Распаковка итератора"
   ],
   "metadata": {
    "collapsed": false
   },
   "id": "d3250b8421813523"
  },
  {
   "cell_type": "markdown",
   "source": [
    "Мы также можем распаковывать содержимое итератора, автоматически опустошая его."
   ],
   "metadata": {
    "collapsed": false
   },
   "id": "359641f1a582c458"
  },
  {
   "cell_type": "code",
   "execution_count": 37,
   "outputs": [
    {
     "name": "stdout",
     "output_type": "stream",
     "text": [
      "4 8 15 16 23 42\n",
      "[]\n"
     ]
    }
   ],
   "source": [
    "numbers = [4, 8, 15, 16, 23, 42]\n",
    "\n",
    "iterator = iter(numbers)  # создаем итератор на основе списка\n",
    "\n",
    "print(*iterator)\n",
    "print(list(iterator))"
   ],
   "metadata": {
    "collapsed": false,
    "ExecuteTime": {
     "end_time": "2025-02-18T12:12:37.095114400Z",
     "start_time": "2025-02-18T12:12:37.092102500Z"
    }
   },
   "id": "64c2696d66be8f92"
  },
  {
   "cell_type": "markdown",
   "source": [
    "Примечания"
   ],
   "metadata": {
    "collapsed": false
   },
   "id": "194a5522f6ec748c"
  },
  {
   "cell_type": "markdown",
   "source": [
    "Примечание 2. Не забывайте, что встроенные типы list, tuple, set, dict, str не являются итераторами, хотя на их основе можно создавать итераторы."
   ],
   "metadata": {
    "collapsed": false
   },
   "id": "f742f0ced5814612"
  },
  {
   "cell_type": "code",
   "execution_count": 38,
   "outputs": [
    {
     "name": "stdout",
     "output_type": "stream",
     "text": [
      "True\n",
      "True\n",
      "True\n",
      "True\n"
     ]
    }
   ],
   "source": [
    "numbers = [4, 8, 15, 16, 23, 42]\n",
    "\n",
    "print(15 in numbers)\n",
    "print(8 in numbers)\n",
    "print(15 in numbers)\n",
    "print(42 in numbers)"
   ],
   "metadata": {
    "collapsed": false,
    "ExecuteTime": {
     "end_time": "2025-02-18T12:18:16.967354800Z",
     "start_time": "2025-02-18T12:18:16.960426500Z"
    }
   },
   "id": "6d907920725355c1"
  },
  {
   "cell_type": "markdown",
   "source": [
    "В то время как код:"
   ],
   "metadata": {
    "collapsed": false
   },
   "id": "6c5b4c52351f159e"
  },
  {
   "cell_type": "code",
   "execution_count": 39,
   "outputs": [
    {
     "name": "stdout",
     "output_type": "stream",
     "text": [
      "True\n",
      "False\n",
      "False\n",
      "False\n"
     ]
    }
   ],
   "source": [
    "numbers = [4, 8, 15, 16, 23, 42]\n",
    "\n",
    "iterator = iter(numbers)  # создаем итератор на основе списка\n",
    "\n",
    "print(15 in iterator)\n",
    "print(8 in iterator)\n",
    "print(15 in iterator)\n",
    "print(42 in iterator)"
   ],
   "metadata": {
    "collapsed": false,
    "ExecuteTime": {
     "end_time": "2025-02-18T12:18:46.462936400Z",
     "start_time": "2025-02-18T12:18:46.446573800Z"
    }
   },
   "id": "e739fa3db5289836"
  },
  {
   "cell_type": "code",
   "execution_count": 40,
   "outputs": [
    {
     "name": "stdout",
     "output_type": "stream",
     "text": [
      "[-2, -1, 1, 2]\n",
      "[]\n"
     ]
    }
   ],
   "source": [
    "non_zero = filter(None, [-2, -1, 0, 1, 2])\n",
    "positive = map(abs, non_zero)\n",
    "\n",
    "print(list(non_zero))\n",
    "print(list(positive))"
   ],
   "metadata": {
    "collapsed": false,
    "ExecuteTime": {
     "end_time": "2025-02-18T12:33:17.069826600Z",
     "start_time": "2025-02-18T12:33:17.066072900Z"
    }
   },
   "id": "57abd074d1f8f34a"
  },
  {
   "cell_type": "code",
   "execution_count": 43,
   "outputs": [
    {
     "name": "stdout",
     "output_type": "stream",
     "text": [
      "[-2, -1, 1, 2]\n",
      "[2, 1, 1, 2]\n"
     ]
    }
   ],
   "source": [
    "non_zero = list(filter(None, [-2, -1, 0, 1, 2]))\n",
    "positive = list(map(abs, non_zero))\n",
    "print(list(non_zero))\n",
    "print(list(positive))"
   ],
   "metadata": {
    "collapsed": false,
    "ExecuteTime": {
     "end_time": "2025-02-18T12:35:34.297444500Z",
     "start_time": "2025-02-18T12:35:34.295808600Z"
    }
   },
   "id": "5a80e0a91ecde677"
  },
  {
   "cell_type": "markdown",
   "source": [
    "Функция map()"
   ],
   "metadata": {
    "collapsed": false
   },
   "id": "9282e038e0f8fa74"
  },
  {
   "cell_type": "markdown",
   "source": [
    "Функция map(function, *iterable) применяет пользовательскую функцию function к каждому элементу итерируемого объекта iterable. Каждый элемент iterable отправляется в функцию function в качестве аргумента."
   ],
   "metadata": {
    "collapsed": false
   },
   "id": "9ad356683171e10e"
  },
  {
   "cell_type": "markdown",
   "source": [
    "Возвращаемое значение: функция map() возвращает итератор типа <class 'map'>."
   ],
   "metadata": {
    "collapsed": false
   },
   "id": "d893f2cd42c0fac9"
  },
  {
   "cell_type": "markdown",
   "source": [
    "Примечание: если в функцию map() передаётся несколько итерируемых объектов iterable, то пользовательская функция function должна принимать количество аргументов, соответствующее количеству переданных итерируемых объектов, при этом function будет применяться к элементам из всех итераций параллельно."
   ],
   "metadata": {
    "collapsed": false
   },
   "id": "2bd050a6d64a3309"
  },
  {
   "cell_type": "markdown",
   "source": [
    "Преимущества использования: функция map() написана на языке C и хорошо оптимизирована, ее внутренний цикл более эффективный, чем обычный цикл for в Python. Функция map() потребляет мало памяти, так как возвращает ленивый итератор элементы которого извлекаются по запросу."
   ],
   "metadata": {
    "collapsed": false
   },
   "id": "5df242a3a2212a1f"
  },
  {
   "cell_type": "code",
   "execution_count": 44,
   "outputs": [
    {
     "name": "stdout",
     "output_type": "stream",
     "text": [
      "Тип итератора squares: <class 'map'>, размер: 48\n",
      "Тип итератора capitals: <class 'map'>, размер: 48\n",
      "1 4 9 16 25 36 49 64 81 100\n",
      "B E E G E E K\n"
     ]
    }
   ],
   "source": [
    "from sys import getsizeof\n",
    "\n",
    "numbers = [1, 2, 3, 4, 5, 6, 7, 8, 9, 10]\n",
    "letters = 'beegeek'\n",
    "\n",
    "squares = map(lambda num: num ** 2, numbers)\n",
    "capitals = map(str.upper, letters)\n",
    "\n",
    "print(f'Тип итератора squares: {type(squares)}, размер: {getsizeof(squares)}')\n",
    "print(f'Тип итератора capitals: {type(capitals)}, размер: {getsizeof(capitals)}')\n",
    "\n",
    "print(*squares, sep=' ')\n",
    "print(*capitals, sep=' ')"
   ],
   "metadata": {
    "collapsed": false,
    "ExecuteTime": {
     "end_time": "2025-02-18T12:42:53.033668900Z",
     "start_time": "2025-02-18T12:42:53.030860700Z"
    }
   },
   "id": "d730902b22226dd1"
  },
  {
   "cell_type": "markdown",
   "source": [
    "Обратите внимание на размер итератора типа <class 'map'>, он всегда равен 48 байтам, независимо от размера итерируемого объекта."
   ],
   "metadata": {
    "collapsed": false
   },
   "id": "ca52ac80251d2579"
  },
  {
   "cell_type": "markdown",
   "source": [
    "Функция filter()"
   ],
   "metadata": {
    "collapsed": false
   },
   "id": "31b89a17569d9556"
  },
  {
   "cell_type": "markdown",
   "source": [
    "Функция filter(function, iterable) фильтрует (отбирает) элементы переданного итерируемого объекта iterable при помощи пользовательской функции function. Если фильтрующая функция function вернёт True, то элемент из итерируемого объекта iterable попадёт в результат выполнения функции filter(), если False — не попадёт."
   ],
   "metadata": {
    "collapsed": false
   },
   "id": "573cad3c538e33f0"
  },
  {
   "cell_type": "markdown",
   "source": [
    "Возвращаемое значение: функция filter() возвращает итератор типа <class 'filter'>."
   ],
   "metadata": {
    "collapsed": false
   },
   "id": "a0dbb2e3cf47a40f"
  },
  {
   "cell_type": "markdown",
   "source": [
    "Примечание: Если function=None, то в результат выполнения функции filter() попадут те элементы, которые при переводе в логический тип имеют значение True."
   ],
   "metadata": {
    "collapsed": false
   },
   "id": "9a2d3a4698c75f60"
  },
  {
   "cell_type": "markdown",
   "source": [
    "Преимущества использования: функция filter() написана на языке C и хорошо оптимизирована, ее внутренний цикл более эффективный, чем обычный цикл for в Python. Функция filter() потребляет мало памяти, так как возвращает итератор, элементы которого извлекаются по запросу."
   ],
   "metadata": {
    "collapsed": false
   },
   "id": "fa0e78d6efda48b5"
  },
  {
   "cell_type": "code",
   "execution_count": 46,
   "outputs": [
    {
     "name": "stdout",
     "output_type": "stream",
     "text": [
      "<filter object at 0x000001D2B15DB790>\n",
      "<filter object at 0x000001D2B1796C50>\n",
      "Тип итератора positive_numbers: <class 'filter'>, размер: 48\n",
      "Тип итератора not_nulls: <class 'filter'>, размер: 48\n",
      "45 4 89 43 1234 112 999 777\n",
      "a 45 True 69.69 -1 empty\n"
     ]
    }
   ],
   "source": [
    "from sys import getsizeof\n",
    "\n",
    "numbers = [45, -90, -21, 4, 89, 43, 1234, 112, 999, 777, -765, -666]\n",
    "objects = ('a', None, 45, True, 69.69, False, -1, 0, 'empty', '')\n",
    "\n",
    "positive_numbers = filter(lambda num: num > 0, numbers)\n",
    "print(positive_numbers)\n",
    "not_nulls = filter(None, objects)\n",
    "print(not_nulls)\n",
    "\n",
    "print(f'Тип итератора positive_numbers: {type(positive_numbers)}, размер: {getsizeof(positive_numbers)}')\n",
    "print(f'Тип итератора not_nulls: {type(not_nulls)}, размер: {getsizeof(not_nulls)}')\n",
    "\n",
    "print(*positive_numbers, sep=' ')\n",
    "print(*not_nulls, sep=' ')"
   ],
   "metadata": {
    "collapsed": false,
    "ExecuteTime": {
     "end_time": "2025-02-18T12:48:28.970382300Z",
     "start_time": "2025-02-18T12:48:28.967271300Z"
    }
   },
   "id": "29a6409805f424bf"
  },
  {
   "cell_type": "markdown",
   "source": [
    "Обратите внимание на размер итератора типа <class 'filter'>, он всегда равен 48 байтам, независимо от размера итерируемого объекта."
   ],
   "metadata": {
    "collapsed": false
   },
   "id": "cdb5b803ff04c11"
  },
  {
   "cell_type": "markdown",
   "source": [
    "Функция enumerate()"
   ],
   "metadata": {
    "collapsed": false
   },
   "id": "8cf3d857124af0f1"
  },
  {
   "cell_type": "markdown",
   "source": [
    "Функция enumerate(iterable, start=0) нумерует элементы итерируемого объекта iterable, начиная со значения start"
   ],
   "metadata": {
    "collapsed": false
   },
   "id": "efb33415361afc3"
  },
  {
   "cell_type": "markdown",
   "source": [
    "Возвращаемое значение: функция enumerate() возвращает итератор типа <class 'enumerate'>, содержащий кортежи вида (счётчик, элемент)."
   ],
   "metadata": {
    "collapsed": false
   },
   "id": "aea21712a0897830"
  },
  {
   "cell_type": "markdown",
   "source": [
    "Примечание: по умолчанию нумерация начинается с нуля."
   ],
   "metadata": {
    "collapsed": false
   },
   "id": "45dd9a1336372034"
  },
  {
   "cell_type": "markdown",
   "source": [
    "Преимущества использования: функция enumerate() потребляет мало памяти, так как возвращает итератор, элементы которого извлекаются по запросу."
   ],
   "metadata": {
    "collapsed": false
   },
   "id": "47b969492ceb3b6"
  },
  {
   "cell_type": "code",
   "execution_count": 47,
   "outputs": [
    {
     "name": "stdout",
     "output_type": "stream",
     "text": [
      "Тип итератора numbered_seasons: <class 'enumerate'>, размер: 72\n",
      "Тип итератора numbered_letters: <class 'enumerate'>, размер: 72\n",
      "(0, 'Spring') (1, 'Summer') (2, 'Fall') (3, 'Winter')\n",
      "(1, 'b') (2, 'e') (3, 'e') (4, 'g') (5, 'e') (6, 'e') (7, 'k')\n"
     ]
    }
   ],
   "source": [
    "from sys import getsizeof\n",
    "\n",
    "seasons = ['Spring', 'Summer', 'Fall', 'Winter']\n",
    "letters = 'beegeek'\n",
    "\n",
    "numbered_seasons = enumerate(seasons)\n",
    "numbered_letters = enumerate(letters, start=1)\n",
    "\n",
    "print(f'Тип итератора numbered_seasons: {type(numbered_seasons)}, размер: {getsizeof(numbered_seasons)}')\n",
    "print(f'Тип итератора numbered_letters: {type(numbered_letters)}, размер: {getsizeof(numbered_letters)}')\n",
    "\n",
    "print(*numbered_seasons, sep=' ')\n",
    "print(*numbered_letters, sep=' ')"
   ],
   "metadata": {
    "collapsed": false,
    "ExecuteTime": {
     "end_time": "2025-02-18T12:50:15.139047300Z",
     "start_time": "2025-02-18T12:50:15.136325900Z"
    }
   },
   "id": "8fd7c52791981397"
  },
  {
   "cell_type": "markdown",
   "source": [
    "Обратите внимание на размер итератора типа <class 'enumerate'>, он всегда равен 64 байтам, независимо от размера итерируемого объекта."
   ],
   "metadata": {
    "collapsed": false
   },
   "id": "d018e242eaf5aead"
  },
  {
   "cell_type": "markdown",
   "source": [
    "Функция zip()"
   ],
   "metadata": {
    "collapsed": false
   },
   "id": "d9d50cbea3de8f08"
  },
  {
   "cell_type": "markdown",
   "source": [
    "Функция zip(*iterables, strict=False) объединяет элементы каждого из переданных итерируемых объектов *iterables"
   ],
   "metadata": {
    "collapsed": false
   },
   "id": "93d7098520b581aa"
  },
  {
   "cell_type": "markdown",
   "source": [
    "Возвращаемое значение: функция zip() возвращает итератор типа <class 'zip'>, содержащий кортежи, где i-й кортеж содержит i-й элемент из каждого итерируемого объекта."
   ],
   "metadata": {
    "collapsed": false
   },
   "id": "b276afe5d1bcb1c"
  },
  {
   "cell_type": "markdown",
   "source": [
    "Примечание: по умолчанию значение аргумента strict=False, то есть функция zip() останавливается, когда исчерпывается самый короткий итерируемый объект. Если установить значение strict=True, то функция zip() проверяет длины итерируемых объектов, вызывая ошибку ValueError, если они не совпадают. С одним итерируемым аргументом функция zip() возвращает итератор из кортежей с одним элементом, без аргументов функция возвращает пустой итератор. Параметр strict был добавлен в Python 3.10."
   ],
   "metadata": {
    "collapsed": false
   },
   "id": "d12f1a36adc84135"
  },
  {
   "cell_type": "markdown",
   "source": [
    "Преимущества использования: функция zip() потребляет мало памяти, так как возвращает итератор, элементы которого извлекаются по запросу."
   ],
   "metadata": {
    "collapsed": false
   },
   "id": "eb10bd2760581f58"
  },
  {
   "cell_type": "code",
   "execution_count": 48,
   "outputs": [
    {
     "name": "stdout",
     "output_type": "stream",
     "text": [
      "Тип итератора zip_iterator1: <class 'zip'>, размер: 64\n",
      "Тип итератора zip_iterator2: <class 'zip'>, размер: 64\n",
      "('Python', 1991) ('C#', 2000) ('C', 1972) ('Delphi', 1986)\n",
      "('Python', 1991, 'Guido van Rossum') ('C#', 2000, 'Anders Hejlsberg') ('C', 1972, 'Dennis MacAlistair Ritchie') ('Delphi', 1986, 'Anders Hejlsberg')\n"
     ]
    }
   ],
   "source": [
    "from sys import getsizeof\n",
    "\n",
    "languages = ['Python', 'C#', 'C', 'Delphi']\n",
    "years = [1991, 2000, 1972, 1986]\n",
    "authors = ('Guido van Rossum', 'Anders Hejlsberg', 'Dennis MacAlistair Ritchie', 'Anders Hejlsberg')\n",
    "\n",
    "zip_iterator1 = zip(languages, years)\n",
    "zip_iterator2 = zip(languages, years, authors)\n",
    "\n",
    "print(f'Тип итератора zip_iterator1: {type(zip_iterator1)}, размер: {getsizeof(zip_iterator1)}')\n",
    "print(f'Тип итератора zip_iterator2: {type(zip_iterator2)}, размер: {getsizeof(zip_iterator2)}')\n",
    "\n",
    "print(*zip_iterator1, sep=' ')\n",
    "print(*zip_iterator2, sep=' ')"
   ],
   "metadata": {
    "collapsed": false,
    "ExecuteTime": {
     "end_time": "2025-02-18T12:58:56.861982100Z",
     "start_time": "2025-02-18T12:58:56.858556700Z"
    }
   },
   "id": "2f664c772cba0d30"
  },
  {
   "cell_type": "markdown",
   "source": [
    "Обратите внимание на размер итератора типа <class 'zip'>, он всегда равен 64 байтам, независимо от размера итерируемого объекта."
   ],
   "metadata": {
    "collapsed": false
   },
   "id": "185f01ddfcd032ea"
  },
  {
   "cell_type": "markdown",
   "source": [
    "Функция reversed()"
   ],
   "metadata": {
    "collapsed": false
   },
   "id": "9c9d09def19844b9"
  },
  {
   "cell_type": "markdown",
   "source": [
    "Функция reversed(seq) перебирает элементы итерируемого объекта seq в обратном порядке."
   ],
   "metadata": {
    "collapsed": false
   },
   "id": "3e312bd2adfa8189"
  },
  {
   "cell_type": "markdown",
   "source": [
    "Возвращаемое значение: функция reversed() возвращает итератор, содержащий элементы итерируемого объекта в обратном порядке."
   ],
   "metadata": {
    "collapsed": false
   },
   "id": "5d697c7558919212"
  },
  {
   "cell_type": "markdown",
   "source": [
    "Примечание 1: итерируемый объект, передаваемый в функцию reversed(), должен являться последовательностью."
   ],
   "metadata": {
    "collapsed": false
   },
   "id": "533f7d9ba4494cb3"
  },
  {
   "cell_type": "markdown",
   "source": [
    "Примечание 2: функция reversed() не создает копию и не изменяет оригинал исходного итерируемого объекта."
   ],
   "metadata": {
    "collapsed": false
   },
   "id": "1fa81513ead6dba4"
  },
  {
   "cell_type": "markdown",
   "source": [
    "Преимущества использования: функция reversed() потребляет мало памяти, так как возвращает ленивый итератор элементы которого извлекаются по запросу."
   ],
   "metadata": {
    "collapsed": false
   },
   "id": "2d2f009212182026"
  },
  {
   "cell_type": "code",
   "execution_count": 49,
   "outputs": [
    {
     "name": "stdout",
     "output_type": "stream",
     "text": [
      "Тип итератора backward_years: <class 'list_reverseiterator'>, размер: 48\n",
      "Тип итератора backward_letters: <class 'reversed'>, размер: 48\n",
      "1986 1972 2000 1991\n",
      "k e e g e e b\n"
     ]
    }
   ],
   "source": [
    "from sys import getsizeof\n",
    "\n",
    "years = [1991, 2000, 1972, 1986]\n",
    "letters = 'beegeek'\n",
    "\n",
    "backward_years = reversed(years)\n",
    "backward_letters = reversed(letters)\n",
    "\n",
    "print(f'Тип итератора backward_years: {type(backward_years)}, размер: {getsizeof(backward_years)}')\n",
    "print(f'Тип итератора backward_letters: {type(backward_letters)}, размер: {getsizeof(backward_letters)}')\n",
    "\n",
    "print(*backward_years, sep=' ')\n",
    "print(*backward_letters, sep=' ')"
   ],
   "metadata": {
    "collapsed": false,
    "ExecuteTime": {
     "end_time": "2025-02-18T13:02:31.220823800Z",
     "start_time": "2025-02-18T13:02:31.215582Z"
    }
   },
   "id": "991be04bb6f24f03"
  },
  {
   "cell_type": "markdown",
   "source": [
    "Обратите внимание на размер итератора, он всегда равен 48 байтам, независимо от размера итерируемого объекта."
   ],
   "metadata": {
    "collapsed": false
   },
   "id": "8171f661e5234b09"
  },
  {
   "cell_type": "markdown",
   "source": [
    "Примечания"
   ],
   "metadata": {
    "collapsed": false
   },
   "id": "762063be7e1136f8"
  },
  {
   "cell_type": "markdown",
   "source": [
    "Примечание 1. Встроенные функции max() и min() также умеют работать с любыми итерируемыми объектами, включая итераторы."
   ],
   "metadata": {
    "collapsed": false
   },
   "id": "cd786a277f73faa1"
  },
  {
   "cell_type": "code",
   "execution_count": 50,
   "outputs": [
    {
     "name": "stdout",
     "output_type": "stream",
     "text": [
      "100\n",
      "1\n"
     ]
    }
   ],
   "source": [
    "numbers = [1, 2, 3, 4, 5, 6, 7, 8, 9, 10]\n",
    "\n",
    "squares = map(lambda num: num ** 2, numbers)\n",
    "cubes = map(lambda num: num ** 3, numbers)\n",
    "\n",
    "print(max(squares))\n",
    "print(min(cubes))"
   ],
   "metadata": {
    "collapsed": false,
    "ExecuteTime": {
     "end_time": "2025-02-18T13:03:35.858151Z",
     "start_time": "2025-02-18T13:03:35.853706Z"
    }
   },
   "id": "832de140ab141aa8"
  },
  {
   "cell_type": "markdown",
   "source": [
    "Однако нужно быть очень аккуратным при использовании итераторов в функциях max() и min(). Дело в том, что для поиска максимального и минимального значения функции должны полностью обойти итератор. А значит, после их применения итераторы становятся пустыми."
   ],
   "metadata": {
    "collapsed": false
   },
   "id": "13c93983b4172362"
  },
  {
   "cell_type": "code",
   "execution_count": 53,
   "outputs": [
    {
     "name": "stdout",
     "output_type": "stream",
     "text": [
      "100\n",
      "1\n",
      "[]\n",
      "[]\n"
     ]
    }
   ],
   "source": [
    "numbers = [1, 2, 3, 4, 5, 6, 7, 8, 9, 10]\n",
    "\n",
    "squares = map(lambda num: num ** 2, numbers)\n",
    "cubes = map(lambda num: num ** 3, numbers)\n",
    "\n",
    "print(max(squares))\n",
    "print(min(cubes))\n",
    "\n",
    "print(list(squares))\n",
    "print(list(cubes))"
   ],
   "metadata": {
    "collapsed": false,
    "ExecuteTime": {
     "end_time": "2025-02-18T13:04:55.232016400Z",
     "start_time": "2025-02-18T13:04:55.227597500Z"
    }
   },
   "id": "e9cbd13283cf985a"
  },
  {
   "cell_type": "markdown",
   "source": [
    "Примечание 2. Встроенные функции all() и any() также умеют работать с любыми итерируемыми объектами, включая итераторы."
   ],
   "metadata": {
    "collapsed": false
   },
   "id": "66774d90ca226ef5"
  },
  {
   "cell_type": "markdown",
   "source": [
    "Примечание 3. Функция reduce() из модуля functools также работает с любыми итерируемыми объектами, включая итераторы. Функция reduce() обычно завершает цепочку итераторов и возвращает итоговый результат."
   ],
   "metadata": {
    "collapsed": false
   },
   "id": "b23acaec3e1c9fd0"
  },
  {
   "cell_type": "markdown",
   "source": [
    "Примечание 4. Важно знать особенность встроенной функции sorted(). Такая функция принимает в качестве аргумента любой итерируемый объект, а возвращает отсортированный список, состоящий из элементов итерируемого объекта. Именно список, а не итератор. Таким образом функция sorted() работает не лениво, а записывает все данные из итерируемого объекта в память компьютера."
   ],
   "metadata": {
    "collapsed": false
   },
   "id": "ff5836784ef9dc2c"
  },
  {
   "cell_type": "markdown",
   "source": [
    "Примечание 5. Встроенная функция open(), открывающая файл, также возвращает итератор, который позволяет обойти содержимое файла, не загружая его целиком в память."
   ],
   "metadata": {
    "collapsed": false
   },
   "id": "a8be464632c281ee"
  },
  {
   "cell_type": "markdown",
   "source": [
    "Примечание 6. Использование итераторов приводит к выигрышу с точки зрения потребляемой памяти. Однако при этом скорость программы замедляется."
   ],
   "metadata": {
    "collapsed": false
   },
   "id": "2681759b2b0b3d06"
  },
  {
   "cell_type": "markdown",
   "source": [
    "Функция filterfalse()\n",
    "Реализуйте функцию filterfalse() с использованием функции filter(), которая принимает два аргумента:\n",
    "\n",
    "predicate — функция-предикат; если имеет значение None, то работает аналогично функции bool()\n",
    "iterable — итерируемый объект\n",
    "Функция должна работать противоположно функции filter(), то есть возвращать итератор, элементами которого являются элементы итерируемого объекта iterable, для которых функция predicate вернула значение False.\n",
    "\n",
    "Примечание 1. Предикат — это функция, которая возвращает True или False в зависимости от переданного в качестве аргумента значения.\n",
    "\n",
    "Примечание 2. Элементы итерируемого объекта в возвращаемом функцией итераторе должны располагаться в своем исходном порядке.\n",
    "\n",
    "Примечание 3. Гарантируется, что итерируемый объект, передаваемый в функцию, не является множеством.\n",
    "\n",
    "Примечание 4. В тестирующую систему сдайте программу, содержащую только необходимую функцию filterfalse(), но не код, вызывающий ее."
   ],
   "metadata": {
    "collapsed": false
   },
   "id": "8d6f1e0f678a510d"
  },
  {
   "cell_type": "code",
   "execution_count": 85,
   "outputs": [
    {
     "name": "stdout",
     "output_type": "stream",
     "text": [
      "0 False []\n",
      "1 3 5\n",
      "1 2\n"
     ]
    }
   ],
   "source": [
    "from typing import Any, Iterable\n",
    "\n",
    "\n",
    "def filterfalse(predicate: Any, iterable: Iterable):\n",
    "    if predicate is None:\n",
    "        predicate = bool\n",
    "    return filter(lambda x: not predicate(x), iterable)\n",
    "\n",
    "\n",
    "objects = [0, 1, True, False, 17, []]\n",
    "print(*filterfalse(None, objects))\n",
    "\n",
    "numbers = (1, 2, 3, 4, 5)\n",
    "print(*filterfalse(lambda x: x % 2 == 0, numbers))\n",
    "\n",
    "numbers = [1, 2, 3, 4, 5]\n",
    "print(*filterfalse(lambda x: x >= 3, numbers))"
   ],
   "metadata": {
    "collapsed": false,
    "ExecuteTime": {
     "end_time": "2025-02-19T06:35:56.031951800Z",
     "start_time": "2025-02-19T06:35:56.027019Z"
    }
   },
   "id": "9e19ccddaf71a7ad"
  },
  {
   "cell_type": "code",
   "execution_count": null,
   "outputs": [],
   "source": [
    "from itertools import filterfalse"
   ],
   "metadata": {
    "collapsed": false
   },
   "id": "8bec03c0d9adfe4b"
  },
  {
   "cell_type": "markdown",
   "source": [
    "Функция transpose()\n",
    "Транспонированная матрица — матрица A T , полученная из исходной матрицы A заменой строк на столбцы. Например, если \n",
    "A=   \n",
    "123\n",
    "456\n",
    "789\n",
    "то \n",
    "AT = \n",
    "147\n",
    "258\n",
    "369 \n",
    "То есть для получения транспонированной матрицы из исходной нужно каждую строчку исходной матрицы записать в виде столбца в том же порядке.\n",
    "\n",
    "Реализуйте функцию transpose() с использованием функции zip(), которая принимает один аргумент:\n",
    "\n",
    "matrix — матрица произвольной размерности\n",
    "Функция должна возвращать транспонированную матрицу matrix.\n",
    "\n",
    "Примечание 1. Под матрицей подразумеваются исключительно вложенные списки.\n",
    "\n",
    "Примечание 2. Функция должна возвращать новую матрицу, а не изменять переданную.\n",
    "\n",
    "Примечание 3. В тестирующую систему сдайте программу, содержащую только необходимую функцию transpose(), но не код, вызывающий ее."
   ],
   "metadata": {
    "collapsed": false
   },
   "id": "c44160da3a1f20bf"
  },
  {
   "cell_type": "code",
   "execution_count": 95,
   "outputs": [
    {
     "name": "stdout",
     "output_type": "stream",
     "text": [
      "[1, 4, 7]\n",
      "[2, 5, 8]\n",
      "[3, 6, 9]\n",
      "[1, 6]\n",
      "[2, 7]\n",
      "[3, 8]\n",
      "[4, 9]\n",
      "[5, 10]\n"
     ]
    }
   ],
   "source": [
    "def transpose(matrix: list):\n",
    "    return [list(i) for i in zip(*matrix)]\n",
    "\n",
    "\n",
    "matrix = [[1, 2, 3],\n",
    "          [4, 5, 6],\n",
    "          [7, 8, 9]]\n",
    "\n",
    "for row in transpose(matrix):\n",
    "    print(row)\n",
    "\n",
    "matrix = [[1, 2, 3, 4, 5],\n",
    "          [6, 7, 8, 9, 10]]\n",
    "\n",
    "for row in transpose(matrix):\n",
    "    print(row)"
   ],
   "metadata": {
    "collapsed": false,
    "ExecuteTime": {
     "end_time": "2025-02-19T06:44:00.673130200Z",
     "start_time": "2025-02-19T06:44:00.669526300Z"
    }
   },
   "id": "19d87a2578c9a2a8"
  },
  {
   "cell_type": "code",
   "execution_count": null,
   "outputs": [],
   "source": [
    "transpose = lambda matrix: list(map(list, zip(*matrix)))"
   ],
   "metadata": {
    "collapsed": false
   },
   "id": "1b0993bc60412ae"
  },
  {
   "cell_type": "markdown",
   "source": [
    "Функция get_min_max() 😎\n",
    "Реализуйте функцию get_min_max(), которая принимает один аргумент:\n",
    "\n",
    "data — список произвольных объектов, сравнимых между собой\n",
    "Функция должна возвращать кортеж, в котором первым элементом является индекс минимального элемента в списке data, вторым — индекс максимального элемента в списке data. Если список data пуст, функция должна вернуть значение None.\n",
    "\n",
    "Примечание 1. Если минимальных / максимальных элементов несколько, следует вернуть индексы первого по порядку элемента.\n",
    "\n",
    "Примечание 2. В тестирующую систему сдайте программу, содержащую только необходимую функцию get_min_max(), но не код, вызывающий ее."
   ],
   "metadata": {
    "collapsed": false
   },
   "id": "60fa185c6ec68939"
  },
  {
   "cell_type": "code",
   "execution_count": 111,
   "outputs": [
    {
     "name": "stdout",
     "output_type": "stream",
     "text": [
      "(3, 2)\n",
      "None\n"
     ]
    }
   ],
   "source": [
    "def get_min_max(data: list):\n",
    "    if not data:\n",
    "        return None\n",
    "    min_pair = min(enumerate(data), key=lambda pair: pair[1])\n",
    "    max_pair = max(enumerate(data), key=lambda pair: pair[1])\n",
    "    return min_pair[0], max_pair[0]\n",
    "\n",
    "\n",
    "data = [2, 3, 8, 1, 7]\n",
    "print(get_min_max(data))\n",
    "\n",
    "data = []\n",
    "print(get_min_max(data))"
   ],
   "metadata": {
    "collapsed": false,
    "ExecuteTime": {
     "end_time": "2025-02-19T07:02:20.360134900Z",
     "start_time": "2025-02-19T07:02:20.356306500Z"
    }
   },
   "id": "33e82b1436589d2f"
  },
  {
   "cell_type": "code",
   "execution_count": null,
   "outputs": [],
   "source": [
    "def get_min_max(data):\n",
    "    if not data:\n",
    "        return None\n",
    "    d = dict(enumerate(data))\n",
    "    return min(d, key=d.get), max(d, key=d.get)"
   ],
   "metadata": {
    "collapsed": false
   },
   "id": "14ba7da07ff4dc38"
  },
  {
   "cell_type": "code",
   "execution_count": null,
   "outputs": [],
   "source": [
    "def get_min_max(data):\n",
    "    x = enumerate(data)\n",
    "    if len(data) > 0:\n",
    "        return data.index(min(data)), data.index(max(data))"
   ],
   "metadata": {
    "collapsed": false
   },
   "id": "cd79145455504308"
  },
  {
   "cell_type": "markdown",
   "source": [
    "Функция starmap()\n",
    "Как известно, функция map() принимает функцию и итерируемый объект и возвращает итератор, элементами которого являются элементы итерируемого объекта, к которым была применена переданная функция. Нередко элементами итерируемого объекта являются коллекции (списки, кортежи, ..), тогда внутри переданной функции нам приходится обращаться к каждому элементу этих коллекций по индексу. Например:\n",
    "\n",
    "persons = [('Timur', 'Guev'), ('Arthur', 'Kharisov')]\n",
    "\n",
    "full_names = map(lambda tup: tup[0] + ' ' + tup[1], persons)\n",
    "Было бы удобно иметь функцию, назовем ее starmap(), которая бы принимала функцию не с одним аргументом, а с несколькими — каждым элементом коллекции:\n",
    "\n",
    "persons = [('Timur', 'Guev'), ('Arthur', 'Kharisov')]\n",
    "\n",
    "full_names = starmap(lambda name, surname: f'{name} {surname}', persons)\n",
    "Реализуйте функцию starmap() с использованием функции map(), которая принимает два аргумента:\n",
    "\n",
    "func — функция\n",
    "iterable — итерируемый объект, элементами которого являются коллекции\n",
    "Функция starmap() должна работать аналогично функции map(), то есть возвращать итератор, элементами которого являются элементы итерируемого объекта iterable, к которым была применена функция func, с единственным отличием: func должна принимать не один аргумент — коллекцию (элемент iterable), а каждый элемент этой коллекции в качестве самостоятельного аргумента."
   ],
   "metadata": {
    "collapsed": false
   },
   "id": "ef961dbb5d7a55b6"
  },
  {
   "cell_type": "code",
   "execution_count": 119,
   "outputs": [
    {
     "name": "stdout",
     "output_type": "stream",
     "text": [
      "4 7 10\n",
      "1 2 12\n"
     ]
    }
   ],
   "source": [
    "def starmap(func, iterable):\n",
    "    return map(func, *zip(*iterable))\n",
    "# Сначала мы распаковываем список и получаем (1, 3) (2, 5) (6, 4) потом zip мы собираем это в (1, 2, 6) и (3, 5, 4)\n",
    "\n",
    "pairs = [(1, 3), (2, 5), (6, 4)]\n",
    "print(*starmap(lambda a, b: a + b, pairs))\n",
    "\n",
    "points = [(1, 1, 1), (1, 1, 2), (2, 2, 3)]\n",
    "print(*starmap(lambda x, y, z: x * y * z, points))"
   ],
   "metadata": {
    "collapsed": false,
    "ExecuteTime": {
     "end_time": "2025-02-19T07:14:58.113568200Z",
     "start_time": "2025-02-19T07:14:58.109498100Z"
    }
   },
   "id": "8f7b3c8a11f1f6af"
  },
  {
   "cell_type": "code",
   "execution_count": null,
   "outputs": [],
   "source": [
    "def starmap(func, iterable):\n",
    "    return [func(*i) for i in iterable]"
   ],
   "metadata": {
    "collapsed": false
   },
   "id": "290011e5c5fb2a93"
  },
  {
   "cell_type": "code",
   "execution_count": null,
   "outputs": [],
   "source": [
    "from itertools import starmap"
   ],
   "metadata": {
    "collapsed": false
   },
   "id": "cff1de6e6886eb8a"
  },
  {
   "cell_type": "markdown",
   "source": [
    "Функция get_min_max() 😳\n",
    "Реализуйте функцию get_min_max(), которая принимает один аргумент:\n",
    "\n",
    "iterable — итерируемый объект, элементы которого сравнимы между собой\n",
    "Функция должна возвращать кортеж, в котором первым элементом является минимальный элемент итерируемого объекта iterable, вторым — максимальный элемент итерируемого объекта iterable. Если итерируемый объект iterable пуст, функция должна вернуть значение None."
   ],
   "metadata": {
    "collapsed": false
   },
   "id": "affad8992dbc8a99"
  },
  {
   "cell_type": "code",
   "execution_count": 141,
   "outputs": [
    {
     "name": "stdout",
     "output_type": "stream",
     "text": [
      "(0, 9)\n",
      "(1, 33)\n",
      "None\n",
      "(0, 99999999)\n"
     ]
    }
   ],
   "source": [
    "from typing import Iterable, Optional, Tuple\n",
    "\n",
    "def get_min_max(iterable: Iterable) -> Optional[Tuple[int, int]]:\n",
    "    try:\n",
    "        iterator = iter(iterable)\n",
    "        first_value = next(iterator)  # Получаем первый элемент (чтобы избежать пустого итератора)\n",
    "        min_value = max_value = first_value\n",
    "\n",
    "        for value in iterator:  # Перебираем элементы\n",
    "            if value < min_value:\n",
    "                min_value = value\n",
    "            if value > max_value:\n",
    "                max_value = value\n",
    "\n",
    "        return min_value, max_value\n",
    "\n",
    "    except StopIteration:\n",
    "        return None  # Если итератор пустой\n",
    "\n",
    "iterable = iter(range(10))\n",
    "print(get_min_max(iterable))\n",
    "\n",
    "iterable = [6, 4, 2, 33, 19, 1]\n",
    "print(get_min_max(iterable))\n",
    "\n",
    "iterable = iter([])\n",
    "print(get_min_max(iterable))\n",
    "\n",
    "data = iter(range(100_000_000))\n",
    "print(get_min_max(data))"
   ],
   "metadata": {
    "collapsed": false,
    "ExecuteTime": {
     "end_time": "2025-02-19T07:45:28.686730Z",
     "start_time": "2025-02-19T07:45:25.342068Z"
    }
   },
   "id": "ffa70592f2aaf367"
  },
  {
   "cell_type": "code",
   "execution_count": null,
   "outputs": [],
   "source": [
    "import copy\n",
    "\n",
    "def get_min_max(iterable):\n",
    "    try:\n",
    "        C=copy.deepcopy(iterable)\n",
    "        return(min(C),max(iterable))\n",
    "    except:return None"
   ],
   "metadata": {
    "collapsed": false
   },
   "id": "baf429b693c2ee4"
  }
 ],
 "metadata": {
  "kernelspec": {
   "display_name": "Python 3",
   "language": "python",
   "name": "python3"
  },
  "language_info": {
   "codemirror_mode": {
    "name": "ipython",
    "version": 2
   },
   "file_extension": ".py",
   "mimetype": "text/x-python",
   "name": "python",
   "nbconvert_exporter": "python",
   "pygments_lexer": "ipython2",
   "version": "2.7.6"
  }
 },
 "nbformat": 4,
 "nbformat_minor": 5
}

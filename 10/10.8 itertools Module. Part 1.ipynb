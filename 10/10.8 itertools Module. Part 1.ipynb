{
 "cells": [
  {
   "cell_type": "markdown",
   "source": [
    "Модуль itertools"
   ],
   "metadata": {
    "collapsed": false
   },
   "id": "bdfde19a0af6f14b"
  },
  {
   "cell_type": "markdown",
   "source": [
    "Встроенный модуль itertools включает в себя множество функций, предназначенных для создания итераторов. Как мы уже знаем, код, основанный на итераторах, обеспечивает лучшие характеристики использования памяти, чем код, основанный на использовании списков."
   ],
   "metadata": {
    "collapsed": false
   },
   "id": "9fe6ec4750d7443b"
  },
  {
   "cell_type": "markdown",
   "source": [
    "Кроме функций, определенных в модуле itertools, в примерах данного урока используются уже изученные нами встроенные функции, предназначенные для работы c итераторами (map(), filter(), zip(), enumerate() и т.д.)."
   ],
   "metadata": {
    "collapsed": false
   },
   "id": "6ba2ad8b65e5a979"
  },
  {
   "cell_type": "markdown",
   "source": [
    "Прообразом генераторных функций модуля itertools послужили аналогичные функции из таких языков функционального программирования, как Clojure, Haskell, APL и SML."
   ],
   "metadata": {
    "collapsed": false
   },
   "id": "a3f28ec020f243a1"
  },
  {
   "cell_type": "markdown",
   "source": [
    "Функции модуля itertools можно разделить на следующие категории:\n",
    "\n",
    "порождающие данные\n",
    "фильтрующие данные\n",
    "преобразующие данные\n",
    "группирующие данные\n",
    "объединяющие или разделяющие данные\n",
    "порождающие комбинаторные данные"
   ],
   "metadata": {
    "collapsed": false
   },
   "id": "e7172284386fcd48"
  },
  {
   "cell_type": "markdown",
   "source": [
    "В этом уроке речь пойдет о функциях, порождающих новые данные."
   ],
   "metadata": {
    "collapsed": false
   },
   "id": "8b34d470729deb1"
  },
  {
   "cell_type": "markdown",
   "source": [
    "Функции, порождающие данные"
   ],
   "metadata": {
    "collapsed": false
   },
   "id": "1014590d195a0331"
  },
  {
   "cell_type": "markdown",
   "source": [
    "К этой категории относятся следующие функции:\n",
    "\n",
    "count()\n",
    "cycle()\n",
    "repeat()\n",
    "Все функции данной категории по умолчанию порождают бесконечные итераторы."
   ],
   "metadata": {
    "collapsed": false
   },
   "id": "21a0606cc00cb37"
  },
  {
   "cell_type": "markdown",
   "source": [
    "Функция count()"
   ],
   "metadata": {
    "collapsed": false
   },
   "id": "483a9ebd29b80f57"
  },
  {
   "cell_type": "markdown",
   "source": [
    "Функция count() возвращает итератор, генерирующий бесконечную последовательность чисел."
   ],
   "metadata": {
    "collapsed": false
   },
   "id": "9c299f50a474452f"
  },
  {
   "cell_type": "markdown",
   "source": [
    "Аргументы функции:\n",
    "\n",
    "start — начало отсчета, по умолчанию имеет значение 0\n",
    "step — шаг, по умолчанию имеет значение 1\n",
    "В отличие от встроенной функции range(), в функции count() аргумент для задания верхней границы не предусмотрен."
   ],
   "metadata": {
    "collapsed": false
   },
   "id": "ddd058035f2bc3ed"
  },
  {
   "cell_type": "code",
   "execution_count": 1,
   "outputs": [
    {
     "name": "stdout",
     "output_type": "stream",
     "text": [
      "0\n",
      "1 2 3\n",
      "69\n",
      "79\n",
      "89 99 109\n",
      "(10, 'a')\n",
      "(11, 'b')\n",
      "(12, 'c')\n"
     ]
    }
   ],
   "source": [
    "from itertools import count\n",
    "\n",
    "count1 = count()\n",
    "\n",
    "print(next(count1))\n",
    "print(next(count1), next(count1), next(count1))\n",
    "\n",
    "count2 = count(69, 10)\n",
    "\n",
    "print(next(count2))\n",
    "print(next(count2))\n",
    "print(next(count2), next(count2), next(count2))\n",
    "\n",
    "for i in zip(count(10), ['a', 'b', 'c']):\n",
    "    print(i)"
   ],
   "metadata": {
    "collapsed": false,
    "ExecuteTime": {
     "end_time": "2025-03-03T12:01:19.936854300Z",
     "start_time": "2025-03-03T12:01:19.936854300Z"
    }
   },
   "id": "1503817f3b48471b"
  },
  {
   "cell_type": "markdown",
   "source": [
    "Обратите внимание на то, что мы не можем создать список на основе итератора, который возвращает функция count(), поскольку он является бесконечным."
   ],
   "metadata": {
    "collapsed": false
   },
   "id": "b42e49e7ca18a384"
  },
  {
   "cell_type": "markdown",
   "source": [
    "Аргументами start и step функции count() могут быть любые числовые значения, допускающие операцию сложения."
   ],
   "metadata": {
    "collapsed": false
   },
   "id": "7a72f9d6f8e79f48"
  },
  {
   "cell_type": "code",
   "execution_count": 2,
   "outputs": [
    {
     "name": "stdout",
     "output_type": "stream",
     "text": [
      "1.0\n",
      "1.5\n",
      "2.0\n",
      "2.5\n",
      "3.0\n",
      "3.5\n",
      "1 3/2 2 5/2 3\n"
     ]
    }
   ],
   "source": [
    "from itertools import count\n",
    "from fractions import Fraction\n",
    "\n",
    "for index, number in enumerate(count(1.0, 0.5)):\n",
    "    if index < 6:\n",
    "        print(number)\n",
    "    else:\n",
    "        break\n",
    "\n",
    "frac_iter = count(1, Fraction(1, 2))\n",
    "print(next(frac_iter), next(frac_iter), next(frac_iter), next(frac_iter), next(frac_iter))"
   ],
   "metadata": {
    "collapsed": false,
    "ExecuteTime": {
     "end_time": "2025-03-03T12:03:43.837898800Z",
     "start_time": "2025-03-03T12:03:43.830055300Z"
    }
   },
   "id": "bfa1c7abe51f6dd5"
  },
  {
   "cell_type": "markdown",
   "source": [
    "Функция count() примерно эквивалентна следующему коду:"
   ],
   "metadata": {
    "collapsed": false
   },
   "id": "2ea03ae8f4a430bf"
  },
  {
   "cell_type": "code",
   "execution_count": 3,
   "outputs": [],
   "source": [
    "def count(start=0, step=1):\n",
    "    n = start\n",
    "    while True:\n",
    "        yield n\n",
    "        n += step"
   ],
   "metadata": {
    "collapsed": false,
    "ExecuteTime": {
     "end_time": "2025-03-03T12:12:15.169499400Z",
     "start_time": "2025-03-03T12:12:15.164058Z"
    }
   },
   "id": "10a52381a86aede3"
  },
  {
   "cell_type": "markdown",
   "source": [
    "Функция cycle()"
   ],
   "metadata": {
    "collapsed": false
   },
   "id": "4a1255efd3c217c3"
  },
  {
   "cell_type": "markdown",
   "source": [
    "Функция cycle() возвращает итератор, циклично генерирующий последовательность элементов переданного итерируемого объекта."
   ],
   "metadata": {
    "collapsed": false
   },
   "id": "ad6e11606d7ca830"
  },
  {
   "cell_type": "markdown",
   "source": [
    "Аргументы функции:\n",
    "\n",
    "iterable — итерируемый объект"
   ],
   "metadata": {
    "collapsed": false
   },
   "id": "8234cec751aa7579"
  },
  {
   "cell_type": "markdown",
   "source": [
    "Обратите внимание на то, что функция cycle() сохраняет копию каждого элемента из iterable. Когда итерируемый объект iterable исчерпан, функция начинает возвращать элементы из сохраненной копии."
   ],
   "metadata": {
    "collapsed": false
   },
   "id": "4fe7c6c91a14d74a"
  },
  {
   "cell_type": "code",
   "execution_count": 4,
   "outputs": [
    {
     "name": "stdout",
     "output_type": "stream",
     "text": [
      "a\n",
      "b\n",
      "c\n",
      "d\n",
      "a\n",
      "b\n",
      "c\n",
      "0 1 0 1 0\n",
      "(0, 'a')\n",
      "(1, 'b')\n",
      "(2, 'c')\n",
      "(3, 'a')\n",
      "(4, 'b')\n",
      "(5, 'c')\n",
      "(6, 'a')\n"
     ]
    }
   ],
   "source": [
    "from itertools import cycle\n",
    "\n",
    "for index, char in enumerate(cycle('abcd')):\n",
    "    if index < 7:\n",
    "        print(char)\n",
    "    else:\n",
    "        break\n",
    "\n",
    "cycle_iter = cycle([0, 1])\n",
    "print(next(cycle_iter), next(cycle_iter), next(cycle_iter), next(cycle_iter), next(cycle_iter))\n",
    "\n",
    "for i in zip(range(7), cycle(['a', 'b', 'c'])):\n",
    "    print(i)"
   ],
   "metadata": {
    "collapsed": false,
    "ExecuteTime": {
     "end_time": "2025-03-03T12:33:46.387316Z",
     "start_time": "2025-03-03T12:33:46.383526300Z"
    }
   },
   "id": "9911c2332b2ad389"
  },
  {
   "cell_type": "markdown",
   "source": [
    "Для выполнения функции cycle() может потребоваться значительное количество дополнительной памяти в зависимости от длины iterable."
   ],
   "metadata": {
    "collapsed": false
   },
   "id": "b8bea9bf4268af5d"
  },
  {
   "cell_type": "markdown",
   "source": [
    "Функция cycle() примерно эквивалентна следующему коду:"
   ],
   "metadata": {
    "collapsed": false
   },
   "id": "20dbcbbd955e403b"
  },
  {
   "cell_type": "code",
   "execution_count": null,
   "outputs": [],
   "source": [
    "def cycle(iterable):\n",
    "    saved = []\n",
    "    for element in iterable:\n",
    "        yield element\n",
    "        saved.append(element)\n",
    "    while saved:\n",
    "        for element in saved:\n",
    "            yield element"
   ],
   "metadata": {
    "collapsed": false
   },
   "id": "5c42256f65e2e358"
  },
  {
   "cell_type": "markdown",
   "source": [
    "Функция repeat()"
   ],
   "metadata": {
    "collapsed": false
   },
   "id": "dbdf23a07a4c26b"
  },
  {
   "cell_type": "markdown",
   "source": [
    "Функция repeat() возвращает итератор, бесконечно генерирующий единственное значение, переданное в качестве аргумента. Количество генераций можно ограничить с помощью необязательного аргумента times."
   ],
   "metadata": {
    "collapsed": false
   },
   "id": "9803b89aa4d83bd0"
  },
  {
   "cell_type": "markdown",
   "source": [
    "Аргументы функции:\n",
    "\n",
    "obj — любой Python объект\n",
    "times — количество повторений, по умолчанию имеет значение None"
   ],
   "metadata": {
    "collapsed": false
   },
   "id": "78278127599f5b7d"
  },
  {
   "cell_type": "code",
   "execution_count": 5,
   "outputs": [
    {
     "name": "stdout",
     "output_type": "stream",
     "text": [
      "bee-and-geek\n",
      "bee-and-geek\n",
      "bee-and-geek\n",
      "bee-and-geek\n",
      "bee-and-geek\n",
      "[1, 2, 3]\n",
      "[1, 2, 3]\n",
      "[1, 2, 3]\n"
     ]
    }
   ],
   "source": [
    "from itertools import repeat\n",
    "\n",
    "for i in repeat('bee-and-geek', 5):\n",
    "    print(i)\n",
    "\n",
    "repeat_iter = repeat([1, 2, 3])\n",
    "\n",
    "print(next(repeat_iter))\n",
    "print(next(repeat_iter))\n",
    "print(next(repeat_iter))"
   ],
   "metadata": {
    "collapsed": false,
    "ExecuteTime": {
     "end_time": "2025-03-03T12:37:03.523672400Z",
     "start_time": "2025-03-03T12:37:03.521046700Z"
    }
   },
   "id": "c55ba84d8217efdc"
  },
  {
   "cell_type": "markdown",
   "source": [
    " Функция repeat() является ленивой, она использует только память, необходимую для хранения одного элемента."
   ],
   "metadata": {
    "collapsed": false
   },
   "id": "50c21804cd0e4d0e"
  },
  {
   "cell_type": "markdown",
   "source": [
    "Функцию repeat() удобно использовать совместно c функциями zip() и map(), если со значениями, генерируемыми другими итераторами, должно сочетаться некое постоянное значение."
   ],
   "metadata": {
    "collapsed": false
   },
   "id": "4481f3d78e3832d9"
  },
  {
   "cell_type": "markdown",
   "source": [
    "Приведенный ниже код объединяет значения 0, 1, 2, 3, 4, ... со строкой bee-and-geek, возвращаемой функцией repeat():"
   ],
   "metadata": {
    "collapsed": false
   },
   "id": "5d8f720ad981b793"
  },
  {
   "cell_type": "code",
   "execution_count": 6,
   "outputs": [
    {
     "name": "stdout",
     "output_type": "stream",
     "text": [
      "0 bee-and-geek\n",
      "1 bee-and-geek\n",
      "2 bee-and-geek\n",
      "3 bee-and-geek\n",
      "4 bee-and-geek\n"
     ]
    }
   ],
   "source": [
    "from itertools import count, repeat\n",
    "\n",
    "for i, s in zip(count(), repeat('bee-and-geek', 5)):\n",
    "    print(i, s)"
   ],
   "metadata": {
    "collapsed": false,
    "ExecuteTime": {
     "end_time": "2025-03-03T12:38:48.050016500Z",
     "start_time": "2025-03-03T12:38:48.045180Z"
    }
   },
   "id": "83468cebc49b4552"
  },
  {
   "cell_type": "markdown",
   "source": [
    "Приведенный ниже код использует встроенную функцию map() для умножения на 2 чисел в диапазоне от 0 до 5."
   ],
   "metadata": {
    "collapsed": false
   },
   "id": "372630826ef1161e"
  },
  {
   "cell_type": "code",
   "execution_count": 7,
   "outputs": [
    {
     "name": "stdout",
     "output_type": "stream",
     "text": [
      "2 * 0 = 0\n",
      "2 * 1 = 2\n",
      "2 * 2 = 4\n",
      "2 * 3 = 6\n",
      "2 * 4 = 8\n",
      "2 * 5 = 10\n"
     ]
    }
   ],
   "source": [
    "from itertools import repeat\n",
    "\n",
    "for a, b, c in map(lambda x, у: (x, у, x * у), repeat(2), range(6)):\n",
    "    print(f'{a} * {b} = {c}')\n",
    "# x (из repeat(2)) всегда 2\n",
    "# y (из range(6)) принимает значения 0, 1, 2, 3, 4, 5\n",
    "# результатом lambda является кортеж (2, y, 2 * y)"
   ],
   "metadata": {
    "collapsed": false,
    "ExecuteTime": {
     "end_time": "2025-03-03T12:39:32.785880800Z",
     "start_time": "2025-03-03T12:39:32.779844500Z"
    }
   },
   "id": "373c89c6ff780656"
  },
  {
   "cell_type": "markdown",
   "source": [
    "В данном случае итератор, возвращаемый функцией repeat(), не нуждается в явном ограничении числа генераций, поскольку обработка c помощью функции map() прекращается сразу же, как только исчерпывается любой из ее входных итерируемых объектов, а функция range() возвращает только шесть элементов."
   ],
   "metadata": {
    "collapsed": false
   },
   "id": "d35ec9828af04629"
  },
  {
   "cell_type": "markdown",
   "source": [
    "Функция repeat() примерно эквивалентна следующему коду:"
   ],
   "metadata": {
    "collapsed": false
   },
   "id": "498d4c2bae59df88"
  },
  {
   "cell_type": "code",
   "execution_count": null,
   "outputs": [],
   "source": [
    "def repeat(object, times=None):\n",
    "    if times is None:\n",
    "        while True:\n",
    "            yield object\n",
    "    else:\n",
    "        for i in range(times):\n",
    "            yield object"
   ],
   "metadata": {
    "collapsed": false
   },
   "id": "356aa6ac891ec989"
  },
  {
   "cell_type": "markdown",
   "source": [
    "Функция starmap()"
   ],
   "metadata": {
    "collapsed": false
   },
   "id": "312ba54cac982c99"
  },
  {
   "cell_type": "markdown",
   "source": [
    "Функция starmap() возвращает итератор, элементами которого являются элементы переданного итерируемого объекта iterable, к которым была применена функция func."
   ],
   "metadata": {
    "collapsed": false
   },
   "id": "13a87f944f8bd2a8"
  },
  {
   "cell_type": "markdown",
   "source": [
    "Аргументы функции:\n",
    "\n",
    "func — произвольная функция\n",
    "iterable — итерируемый объект, элементами которого являются итерируемые объекты"
   ],
   "metadata": {
    "collapsed": false
   },
   "id": "392ffc5abc02d803"
  },
  {
   "cell_type": "markdown",
   "source": [
    "Функция starmap() используется вместо map() в том случае, когда элементами итерируемого объекта являются другие итерируемые объекты, скажем, кортежи, и каждый элемент этих кортежей должен быть передан в функцию function в качестве самостоятельного аргумента."
   ],
   "metadata": {
    "collapsed": false
   },
   "id": "f993071b0e9ad186"
  },
  {
   "cell_type": "code",
   "execution_count": 8,
   "outputs": [
    {
     "name": "stdout",
     "output_type": "stream",
     "text": [
      "['Timur Guev', 'Arthur Kharisov']\n",
      "4 7 10\n",
      "1 2 12\n"
     ]
    }
   ],
   "source": [
    "from itertools import starmap\n",
    "\n",
    "persons = [('Timur', 'Guev'), ('Arthur', 'Kharisov')]\n",
    "pairs = [(1, 3), (2, 5), (6, 4)]\n",
    "points = [(1, 1, 1), (1, 1, 2), (2, 2, 3)]\n",
    "\n",
    "full_names = list(starmap(lambda name, surname: f'{name} {surname}', persons))\n",
    "\n",
    "print(full_names)\n",
    "print(*starmap(lambda a, b: a + b, pairs))\n",
    "print(*starmap(lambda x, y, z: x * y * z, points))"
   ],
   "metadata": {
    "collapsed": false,
    "ExecuteTime": {
     "end_time": "2025-03-03T13:02:47.954099600Z",
     "start_time": "2025-03-03T13:02:47.947209400Z"
    }
   },
   "id": "bff686dc8b4a560a"
  },
  {
   "cell_type": "markdown",
   "source": [
    "Разница между функциями map() и starmap() заключается в способе передачи аргументов вызываемой функции function и аналогична разнице между function(a, b) и function(*c)."
   ],
   "metadata": {
    "collapsed": false
   },
   "id": "b9df97bd2bbcb838"
  },
  {
   "cell_type": "markdown",
   "source": [
    "Функция starmap() примерно эквивалентна следующему коду:"
   ],
   "metadata": {
    "collapsed": false
   },
   "id": "cf0176c0e6d5057b"
  },
  {
   "cell_type": "code",
   "execution_count": null,
   "outputs": [],
   "source": [
    "def starmap(function, iterable):\n",
    "    for args in iterable:\n",
    "        yield function(*args)\n",
    "\n",
    "# Эта функция принимает:\n",
    "# \n",
    "# function — функцию, которую надо применить.\n",
    "# iterable — последовательность кортежей (или других итерируемых объектов).\n",
    "# На каждой итерации достаёт args из iterable и разворачивает (*args) его в function."
   ],
   "metadata": {
    "collapsed": false
   },
   "id": "b4077891ed81e819"
  },
  {
   "cell_type": "markdown",
   "source": [
    "Функция accumulate()"
   ],
   "metadata": {
    "collapsed": false
   },
   "id": "2d95834b3a553be5"
  },
  {
   "cell_type": "markdown",
   "source": [
    "Функция accumulate() возвращает итератор, элементами которого являются накопленные суммы или накопленные результаты функции func."
   ],
   "metadata": {
    "collapsed": false
   },
   "id": "52e0fb6dd1e9ab82"
  },
  {
   "cell_type": "markdown",
   "source": [
    "Аргументы функции:\n",
    "\n",
    "iterable — итерируемый объект\n",
    "func — функция, принимающая два аргумента, по умолчанию используется функция сложения operator.add\n",
    "initial — начальное значение, по умолчанию имеет значение None"
   ],
   "metadata": {
    "collapsed": false
   },
   "id": "304f0cee109ea2cd"
  },
  {
   "cell_type": "markdown",
   "source": [
    "Функция работает аналогично функции reduce() за тем исключением, что функция accumulate() генерирует все промежуточные результаты, а не только конечный."
   ],
   "metadata": {
    "collapsed": false
   },
   "id": "640e121f4d98868"
  },
  {
   "cell_type": "code",
   "execution_count": 9,
   "outputs": [
    {
     "name": "stdout",
     "output_type": "stream",
     "text": [
      "[3, 7, 13, 15, 16, 25, 25, 32, 37, 45]\n",
      "[3, 12, 72, 144, 144, 1296, 0, 0, 0, 0]\n",
      "[3, 4, 6, 6, 6, 9, 9, 9, 9, 9]\n",
      "[3, 3, 3, 2, 1, 1, 0, 0, 0, 0]\n"
     ]
    }
   ],
   "source": [
    "from itertools import accumulate\n",
    "import operator\n",
    "\n",
    "data = [3, 4, 6, 2, 1, 9, 0, 7, 5, 8]\n",
    "\n",
    "print(list(accumulate(data)))\n",
    "print(list(accumulate(data, operator.mul)))\n",
    "print(list(accumulate(data, max)))\n",
    "print(list(accumulate(data, min)))"
   ],
   "metadata": {
    "collapsed": false,
    "ExecuteTime": {
     "end_time": "2025-03-03T13:19:58.985270500Z",
     "start_time": "2025-03-03T13:19:58.982587400Z"
    }
   },
   "id": "9f5e20583a453e97"
  },
  {
   "cell_type": "markdown",
   "source": [
    "Обычно количество элементов результирующего итератора совпадает с количеством элементов итерируемого объекта. Однако, если задано значение аргумента initial, то накопление начинается с начального значения initial, и в этом случае результирующий итератор будет иметь один дополнительный элемент."
   ],
   "metadata": {
    "collapsed": false
   },
   "id": "b033e7e30b2ac8f2"
  },
  {
   "cell_type": "code",
   "execution_count": 10,
   "outputs": [
    {
     "name": "stdout",
     "output_type": "stream",
     "text": [
      "[100, 101, 103, 106, 110, 115]\n"
     ]
    }
   ],
   "source": [
    "from itertools import accumulate\n",
    "\n",
    "print(list(accumulate([1, 2, 3, 4, 5], initial=100)))"
   ],
   "metadata": {
    "collapsed": false,
    "ExecuteTime": {
     "end_time": "2025-03-03T13:21:23.567872200Z",
     "start_time": "2025-03-03T13:21:23.564176500Z"
    }
   },
   "id": "abc34a5107d5f8cc"
  },
  {
   "cell_type": "markdown",
   "source": [
    "Функция accumulate() примерно эквивалентна следующему коду:"
   ],
   "metadata": {
    "collapsed": false
   },
   "id": "3548a86cb6cc16b6"
  },
  {
   "cell_type": "code",
   "execution_count": null,
   "outputs": [],
   "source": [
    "import operator\n",
    "\n",
    "\n",
    "def accumulate(iterable, func=operator.add, *, initial=None):\n",
    "    it = iter(iterable)\n",
    "    total = initial\n",
    "    if initial is None:\n",
    "        try:\n",
    "            total = next(it)\n",
    "        except StopIteration:\n",
    "            return\n",
    "    yield total\n",
    "    for element in it:\n",
    "        total = func(total, element)\n",
    "        yield total"
   ],
   "metadata": {
    "collapsed": false
   },
   "id": "5c5702e420ff375c"
  },
  {
   "cell_type": "markdown",
   "source": [
    "Примечание"
   ],
   "metadata": {
    "collapsed": false
   },
   "id": "d10fa6a2ce8bf4b8"
  },
  {
   "cell_type": "markdown",
   "source": [
    "Примечание 1. При импортировании модуля itertools полностью его обычно называют it:"
   ],
   "metadata": {
    "collapsed": false
   },
   "id": "37d96d6486e2825d"
  },
  {
   "cell_type": "code",
   "execution_count": null,
   "outputs": [],
   "source": [
    "import itertools as it"
   ],
   "metadata": {
    "collapsed": false
   },
   "id": "e56ded1d1767ed55"
  },
  {
   "cell_type": "markdown",
   "source": [
    "Примечание 2. Запустите приведенный ниже код у себя в IDE 😉."
   ],
   "metadata": {
    "collapsed": false
   },
   "id": "853350a86369a078"
  },
  {
   "cell_type": "code",
   "execution_count": 11,
   "outputs": [
    {
     "name": "stdout",
     "output_type": "stream",
     "text": [
      ".-'\"'-._.-'\"'-._.-'\"'-._.-'\"'-._.-'\"'-._.-'\"'-._.-'\"'-._.-'\"'-._.-'\"'-._.-'\"'-._.-'\"'-._.-'\"'-._.-'\"'-._.-'\"'-._.-'\"'-._.-'\"'-._.-'\"'-._.-'\"'-._.-'\"'-._.-'\"'-._.-'\"'-._.-'\"'-._.-'\"'-._.-'\"'-._.-'\"'-._.-'\"'-._.-'\"'-._.-'\"'-._.-'\"'-._.-'\"'-._.-'\"'-._.-'\"'-._.-'\"'-._.-'\"'-._.-'\"'-._.-'\"'-._.-'\"'-._.-'\"'-._.-'\"'-._.-'\"'-._.-'\"'-._.-'\"'-._.-'\"'-._.-'\"'-._.-'\"'-._.-'\"'-._.-'\"'-._.-'\"'-._.-'\"'-._.-'\"'-._.-'\"'-._.-'\"'-._.-'\"'-._.-'\"'-._.-'\"'-._.-'\"'-._.-'\"'-._.-'\"'-._.-'\"'-._.-'\"'-._.-'\"'-._.-'\"'-._.-'\"'-._.-'\"'-._.-'\"'-._.-'\"'-._.-'\"'-._.-'\"'-._.-'\"'-._.-'\"'-._.-'\"'-._.-'\"'-._.-'\"'-._.-'\"'-._.-'\"'-._.-'\"'-._.-'\"'-._.-'\"'-._.-'\"'-._.-'\"'-._.-'\"'-._.-'\"'-._.-'\"'-._.-'\"'-._.-'\"'-._.-'\"'-._.-'\"'-._.-'\"'-._.-'\"'-._.-'\"'-._.-'\"'-._.-'\"'-._.-'\"'-._.-'\"'-._.-'\"'-._.-'\"'-._.-'\"'-._.-'\"'-._.-'"
     ]
    },
    {
     "ename": "KeyboardInterrupt",
     "evalue": "",
     "output_type": "error",
     "traceback": [
      "\u001B[1;31m---------------------------------------------------------------------------\u001B[0m",
      "\u001B[1;31mKeyboardInterrupt\u001B[0m                         Traceback (most recent call last)",
      "Cell \u001B[1;32mIn[11], line 8\u001B[0m\n\u001B[0;32m      6\u001B[0m \u001B[38;5;28;01mfor\u001B[39;00m c \u001B[38;5;129;01min\u001B[39;00m it\u001B[38;5;241m.\u001B[39mcycle(symbols):\n\u001B[0;32m      7\u001B[0m     \u001B[38;5;28mprint\u001B[39m(c, end\u001B[38;5;241m=\u001B[39m\u001B[38;5;124m'\u001B[39m\u001B[38;5;124m'\u001B[39m)\n\u001B[1;32m----> 8\u001B[0m     \u001B[43mtime\u001B[49m\u001B[38;5;241;43m.\u001B[39;49m\u001B[43msleep\u001B[49m\u001B[43m(\u001B[49m\u001B[38;5;241;43m0.05\u001B[39;49m\u001B[43m)\u001B[49m\n",
      "\u001B[1;31mKeyboardInterrupt\u001B[0m: "
     ]
    }
   ],
   "source": [
    "import itertools as it\n",
    "import time\n",
    "\n",
    "symbols = ['.', '-', \"'\", '\"', \"'\", '-', '.', '_']\n",
    "\n",
    "for c in it.cycle(symbols):\n",
    "    print(c, end='')\n",
    "    time.sleep(0.05)"
   ],
   "metadata": {
    "collapsed": false,
    "ExecuteTime": {
     "end_time": "2025-03-03T13:23:51.703358300Z",
     "start_time": "2025-03-03T13:23:11.726368Z"
    }
   },
   "id": "88dc68c71ddb3fc"
  },
  {
   "cell_type": "code",
   "execution_count": 12,
   "outputs": [
    {
     "name": "stdout",
     "output_type": "stream",
     "text": [
      "\"'-._.-'"
     ]
    },
    {
     "ename": "KeyboardInterrupt",
     "evalue": "",
     "output_type": "error",
     "traceback": [
      "\u001B[1;31m---------------------------------------------------------------------------\u001B[0m",
      "\u001B[1;31mKeyboardInterrupt\u001B[0m                         Traceback (most recent call last)",
      "Cell \u001B[1;32mIn[12], line 9\u001B[0m\n\u001B[0;32m      7\u001B[0m \u001B[38;5;28mprint\u001B[39m(symbols, end\u001B[38;5;241m=\u001B[39m\u001B[38;5;124m'\u001B[39m\u001B[38;5;124m'\u001B[39m)\n\u001B[0;32m      8\u001B[0m symbols \u001B[38;5;241m=\u001B[39m \u001B[38;5;28mlist\u001B[39m(symbols)[\u001B[38;5;241m1\u001B[39m:]\n\u001B[1;32m----> 9\u001B[0m \u001B[43mtime\u001B[49m\u001B[38;5;241;43m.\u001B[39;49m\u001B[43msleep\u001B[49m\u001B[43m(\u001B[49m\u001B[38;5;241;43m0.1\u001B[39;49m\u001B[43m)\u001B[49m\n",
      "\u001B[1;31mKeyboardInterrupt\u001B[0m: "
     ]
    }
   ],
   "source": [
    "import time\n",
    "\n",
    "symbols = ['.', '-', \"'\", '\"', \"'\", '-', '.', '_']\n",
    "\n",
    "while True:\n",
    "    symbols = '\\r' + symbols.pop() + ''.join(symbols)\n",
    "    print(symbols, end='')\n",
    "    symbols = list(symbols)[1:]\n",
    "    time.sleep(0.1)"
   ],
   "metadata": {
    "collapsed": false,
    "ExecuteTime": {
     "end_time": "2025-03-03T13:24:13.716187Z",
     "start_time": "2025-03-03T13:24:02.763149900Z"
    }
   },
   "id": "c859dc6ef58ae042"
  },
  {
   "cell_type": "code",
   "execution_count": 16,
   "outputs": [
    {
     "name": "stdout",
     "output_type": "stream",
     "text": [
      "🟨 __(ツ)__ 🟨           \n",
      "💃 Танец окончен! 🕺\n"
     ]
    }
   ],
   "source": [
    "import itertools as it\n",
    "import time\n",
    "import sys\n",
    "\n",
    "dicso = ['🟥', '🟥', '🟧', '🟧', '🟨', '🟨', '🟧', '🟧',\n",
    "         '🟥', '🟥', '🟧', '🟧', '🟨', '🟨', '🟧', '🟧',\n",
    "         '🟩', '🟩', '🟦', '🟦', '🟪', '🟪', '🟦', '🟦',\n",
    "         '🟩', '🟩', '🟦', '🟦', '🟪', '🟪', '🟦', '🟦', ]\n",
    "\n",
    "dance = [r'__(ツ)__', r'\\_(ツ)__', r'¯\\(ツ)__', r'¯¯(ツ)__', r'/¯(ツ)\\_',\n",
    "         r'_/(ツ)¯\\\\', r'__(ツ)¯¯', r'__(ツ)/¯', r'__(ツ)_/', r'__(ツ)__',\n",
    "         r'__(ツ)__', r'__(ツ)_/', r'__(ツ)/¯', r'__(ツ)¯¯', r'_/(ツ)¯\\\\',\n",
    "         r'/¯(ツ)\\_', r'¯¯(ツ)__', r'¯\\(ツ)__', r'\\_(ツ)__', r'__(ツ)__']\n",
    "\n",
    "dance = ['__(ツ)__', '\\\\_(ツ)__', '¯\\\\(ツ)__', '¯¯(ツ)__', '/¯(ツ)\\\\_',\n",
    "         '_/(ツ)¯\\\\\\\\', '__(ツ)¯¯', '__(ツ)/¯', '__(ツ)_/', '__(ツ)__',\n",
    "         '__(ツ)__', '__(ツ)_/', '__(ツ)/¯', '__(ツ)¯¯', '_/(ツ)¯\\\\\\\\',\n",
    "         '/¯(ツ)\\\\_', '¯¯(ツ)__', '¯\\\\(ツ)__', '\\\\_(ツ)__', '__(ツ)__']\n",
    "\n",
    "# Количество шагов (сколько раз будет меняться анимация)\n",
    "steps = 100\n",
    "\n",
    "for i, (light, move) in enumerate(zip(it.cycle(dicso), it.cycle(dance))):\n",
    "    text = f'{light} {move} {light}'\n",
    "    sys.stdout.write(\"\\r\" + text + \" \" * 10)  # Очищаем хвост\n",
    "    sys.stdout.flush()\n",
    "    time.sleep(0.075)\n",
    "\n",
    "    if i >= steps:\n",
    "        break  # Останавливаем анимацию через `steps` итераций\n",
    "\n",
    "print(\"\\n💃 Танец окончен! 🕺\")  # Завершающее сообщение\n"
   ],
   "metadata": {
    "collapsed": false,
    "ExecuteTime": {
     "end_time": "2025-03-03T13:30:27.730776100Z",
     "start_time": "2025-03-03T13:30:20.015769900Z"
    }
   },
   "id": "c83c7d558f539611"
  },
  {
   "cell_type": "markdown",
   "source": [
    "Функция tabulate()\n",
    "Реализуйте функцию tabulate(), которая принимает один аргумент:\n",
    "\n",
    "func — произвольная функция\n",
    "Функция tabulate() должна возвращать итератор, генерирующий бесконечную последовательность возвращаемых значений функции func сначала с аргументом 1, затем 2, затем 3, и так далее."
   ],
   "metadata": {
    "collapsed": false
   },
   "id": "11442b4ade9ac0a5"
  },
  {
   "cell_type": "code",
   "execution_count": 34,
   "outputs": [
    {
     "name": "stdout",
     "output_type": "stream",
     "text": [
      "1\n",
      "2\n"
     ]
    }
   ],
   "source": [
    "from itertools import count\n",
    "\n",
    "\n",
    "def tabulate(func):\n",
    "    counter = count(1)\n",
    "    result = (func(number) for number in counter)\n",
    "    yield from result\n",
    "\n",
    "\n",
    "def tabulate(func):\n",
    "    return map(func, count(1))\n",
    "\n",
    "\n",
    "def tabulate(func):\n",
    "    for i in count(1):\n",
    "        yield func(i)\n",
    "\n",
    "\n",
    "def tabulate(func):\n",
    "    counter = count(1)\n",
    "    while True:\n",
    "        yield func(next(counter))\n",
    "\n",
    "\n",
    "def tabulate(func):\n",
    "    counter = count(1)\n",
    "    return iter(lambda: func(next(counter)), None)\n",
    "\n",
    "\n",
    "func = lambda x: x\n",
    "values = tabulate(func)\n",
    "print(next(values))\n",
    "print(next(values))"
   ],
   "metadata": {
    "collapsed": false,
    "ExecuteTime": {
     "end_time": "2025-03-05T05:54:54.327397Z",
     "start_time": "2025-03-05T05:54:54.325324300Z"
    }
   },
   "id": "2036e14dc746c7b5"
  },
  {
   "cell_type": "markdown",
   "source": [
    "Функция factorials()\n",
    "Реализуйте функцию factorials() с использованием функции accumulate(), которая принимает один аргумент:\n",
    "\n",
    "n — натуральное число\n",
    "Функция должна возвращать итератор, генерирующий последовательность из n чисел, каждое из которых является факториалом очередного натурального числа."
   ],
   "metadata": {
    "collapsed": false
   },
   "id": "42762a7dd8941776"
  },
  {
   "cell_type": "code",
   "execution_count": 50,
   "outputs": [
    {
     "name": "stdout",
     "output_type": "stream",
     "text": [
      "1 2 6 24 120 720\n",
      "1\n",
      "2\n"
     ]
    }
   ],
   "source": [
    "from itertools import accumulate\n",
    "import operator\n",
    "\n",
    "def factorials(n: int):\n",
    "    sequence = (i for i in range(1, n + 1))\n",
    "    result = accumulate(sequence, lambda x, y: x * y)\n",
    "    yield from result\n",
    "\n",
    "def factorials(n):\n",
    "    sequence = (i for i in range(1, n + 1))\n",
    "    return accumulate(sequence, operator.mul)\n",
    "\n",
    "numbers = factorials(6)\n",
    "print(*numbers)\n",
    "\n",
    "numbers = factorials(2)\n",
    "print(next(numbers))\n",
    "print(next(numbers))"
   ],
   "metadata": {
    "collapsed": false,
    "ExecuteTime": {
     "end_time": "2025-03-05T10:34:16.605825500Z",
     "start_time": "2025-03-05T10:34:16.584741800Z"
    }
   },
   "id": "974db556d6bad862"
  },
  {
   "cell_type": "markdown",
   "source": [
    "Функция alnum_sequence()\n",
    "Реализуйте функцию alnum_sequence(), которая не принимает никаких аргументов.\n",
    "\n",
    "Функция должна возвращать итератор, циклично генерирующий бесконечную последовательность натуральных чисел и заглавных латинских букв:\n",
    "1,A,2,B,3,C,..,X,25,Y,26,Z"
   ],
   "metadata": {
    "collapsed": false
   },
   "id": "baeacf4625d32fc8"
  },
  {
   "cell_type": "code",
   "execution_count": 14,
   "outputs": [
    {
     "name": "stdout",
     "output_type": "stream",
     "text": [
      "1 A 2 B 3 C 4 D 5 E 6 F 7 G 8 H 9 I 10 J 11 K 12 L 13 M 14 N 15 O 16 P 17 Q 18 R 19 S 20 T 21 U 22 V 23 W 24 X 25 Y 26 Z 1 A 2\n",
      "1 A 2 B 3 C 4 D 5 E 6 F 7 G 8 H 9 I 10 J 11 K 12 L 13 M 14 N 15 O 16 P 17 Q 18 R 19 S 20 T 21 U 22 V 23 W 24 X 25 Y 26 Z 1 A 2 B 3 C 4 D 5 E 6 F 7 G 8 H 9 I 10 J 11 K 12 L 13 M 14 N 15 O 16 P 17 Q 18 R 19 S 20 T 21 U 22 V 23 W 24 X\n"
     ]
    }
   ],
   "source": [
    "import string\n",
    "from itertools import count, cycle\n",
    "\n",
    "def alnum_sequence():\n",
    "    numbers = cycle(range(1, 27))\n",
    "    letters = cycle(string.ascii_uppercase)\n",
    "    for num, letter in zip(numbers, letters):\n",
    "        yield str(num)\n",
    "        yield letter\n",
    "    \n",
    "alnum = alnum_sequence() \n",
    "print(*(next(alnum) for _ in range(55)))\n",
    "\n",
    "alnum = alnum_sequence()\n",
    "print(*(next(alnum) for _ in range(100)))"
   ],
   "metadata": {
    "collapsed": false,
    "ExecuteTime": {
     "end_time": "2025-03-05T11:33:47.600129700Z",
     "start_time": "2025-03-05T11:33:47.594999900Z"
    }
   },
   "id": "8910a75ae28e7b3e"
  },
  {
   "cell_type": "markdown",
   "source": [
    "Функция roundrobin() 🌶️\n",
    "Реализуйте функцию roundrobin(), которая принимает произвольное количество позиционных аргументов, каждый из которых является итерируемым объектом.\n",
    "\n",
    "Функция должна возвращать итератор, генерирующий последовательность из элементов всех переданных итерируемых объектов: сначала первый элемент первого итерируемого объекта, затем первый элемент второго итерируемого объекта, и так далее; после второй элемент первого итерируемого объекта, затем второй элемент второго итерируемого объекта, и так далее.\n",
    "\n",
    "Примечание 1. Элементы итерируемых объектов в возвращаемом функцией итераторе должны располагаться в своем исходном порядке.\n",
    "\n",
    "Примечание 2. Гарантируется, что итерируемый объект, передаваемый в функцию, не является множеством."
   ],
   "metadata": {
    "collapsed": false
   },
   "id": "d5db8804895dc48"
  },
  {
   "cell_type": "code",
   "execution_count": 54,
   "outputs": [
    {
     "name": "stdout",
     "output_type": "stream",
     "text": [
      "a d e b f c\n",
      "[]\n",
      "1 b 2 e 3 e g e e k\n"
     ]
    }
   ],
   "source": [
    "from itertools import zip_longest\n",
    "\n",
    "def roundrobin(*args):\n",
    "    if not args:\n",
    "        return\n",
    "    for group in zip_longest(*args, fillvalue=''):\n",
    "        for item in group:\n",
    "            if item != '':\n",
    "                yield item\n",
    "\n",
    "# Просто по очереди опустошаем итераторы, а если все пустые, то останавливаем цикл while\n",
    "def roundrobin(*args):\n",
    "    iters = tuple(iter(a) for a in args)    # Преобразуем все аргументы в итераторы\n",
    "    while True:\n",
    "        err_counter = 0\n",
    "        # цикл, который проходит по всем итераторам из iters. Каждый итератор по очереди будет возвращать элементы.\n",
    "        for i in iters:\n",
    "            try: res = next(i)\n",
    "            except: err_counter += 1        # Если итератор завершён, увеличиваем счётчик ошибок\n",
    "            else: yield res\n",
    "        if err_counter == len(iters):       # Если все итераторы завершены (ошибок столько же, сколько итераторов) \n",
    "            break\n",
    "            \n",
    "print(*roundrobin('abc', 'd', 'ef'))\n",
    "print(list(roundrobin()))\n",
    "numbers = [1, 2, 3]\n",
    "letters = iter('beegeek')\n",
    "print(*roundrobin(numbers, letters))"
   ],
   "metadata": {
    "collapsed": false,
    "ExecuteTime": {
     "end_time": "2025-03-05T12:30:00.632706100Z",
     "start_time": "2025-03-05T12:30:00.628289300Z"
    }
   },
   "id": "ff75d8080022cc81"
  }
 ],
 "metadata": {
  "kernelspec": {
   "display_name": "Python 3",
   "language": "python",
   "name": "python3"
  },
  "language_info": {
   "codemirror_mode": {
    "name": "ipython",
    "version": 2
   },
   "file_extension": ".py",
   "mimetype": "text/x-python",
   "name": "python",
   "nbconvert_exporter": "python",
   "pygments_lexer": "ipython2",
   "version": "2.7.6"
  }
 },
 "nbformat": 4,
 "nbformat_minor": 5
}

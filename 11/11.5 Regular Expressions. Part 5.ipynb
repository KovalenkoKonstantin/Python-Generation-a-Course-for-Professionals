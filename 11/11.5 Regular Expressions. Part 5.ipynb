{
 "cells": [
  {
   "cell_type": "markdown",
   "source": [
    "Тема урока: регулярные выражения\n",
    "Подвыражения\n",
    "Вложенные подвыражения\n",
    "Ссылки назад\n",
    "Аннотация. Урок посвящен изучению регулярных выражений."
   ],
   "metadata": {
    "collapsed": false
   },
   "id": "4a0a85abc64a1cb2"
  },
  {
   "cell_type": "markdown",
   "source": [
    "Подвыражения"
   ],
   "metadata": {
    "collapsed": false
   },
   "id": "2fc64d01789314f7"
  },
  {
   "cell_type": "markdown",
   "source": [
    "Как мы уже знаем, метасимволы повторения (? или * или {2} и т.д) относятся к предыдущему символу или метасимволу."
   ],
   "metadata": {
    "collapsed": false
   },
   "id": "da316eeaa0790d06"
  },
  {
   "cell_type": "markdown",
   "source": [
    "Регулярному выражению:"
   ],
   "metadata": {
    "collapsed": false
   },
   "id": "8d7c7cd271bb3fd9"
  },
  {
   "cell_type": "markdown",
   "source": [
    "&nbsp;{2,}"
   ],
   "metadata": {
    "collapsed": false
   },
   "id": "4223984137f9abd0"
  },
  {
   "cell_type": "markdown",
   "source": [
    "в тексте:"
   ],
   "metadata": {
    "collapsed": false
   },
   "id": "c47ac5f439c5435a"
  },
  {
   "cell_type": "markdown",
   "source": [
    "Привет, меня зовут Тимур&nbsp;Гуев, я – автор курсов по математике и Python. Наши курсы победили в Stepik Awards&nbsp;&nbsp;2021."
   ],
   "metadata": {
    "collapsed": false
   },
   "id": "ed2617973ab03957"
  },
  {
   "cell_type": "markdown",
   "source": [
    "ничего не соответствует."
   ],
   "metadata": {
    "collapsed": false
   },
   "id": "a22260761bf65de2"
  },
  {
   "cell_type": "markdown",
   "source": [
    "Регулярное выражение &nbsp;{2,} должно было найти два или больше вхождений последовательности символов &nbsp;. Однако оно ничего не нашло. Все потому что диапазон {2,} определяет количество повторений того символа, который непосредственно предшествует ему, в данном случае ему предшествует точка с запятой. Последовательность символов &nbsp;; была бы найдена, в отличие от последовательности &nbsp;&nbsp;"
   ],
   "metadata": {
    "collapsed": false
   },
   "id": "f615ff3de63e2ea5"
  },
  {
   "cell_type": "markdown",
   "source": [
    "Подвыражения – части большого выражения, которые группируются так, чтобы они обрабатывались как единый объект. Подвыражения заключаются между символами ( и )."
   ],
   "metadata": {
    "collapsed": false
   },
   "id": "f662135855d2fa40"
  },
  {
   "cell_type": "markdown",
   "source": [
    "Символы ( и ) являются метасимволами. Если требуется поиск соответствий самим символам ( и ), то в регулярном выражении им должен предшествовать символ обратной косой черты \\( и \\)."
   ],
   "metadata": {
    "collapsed": false
   },
   "id": "7f81808dcb9ec7cb"
  },
  {
   "cell_type": "code",
   "execution_count": 1,
   "outputs": [
    {
     "data": {
      "text/plain": "['&nbsp;']"
     },
     "execution_count": 1,
     "metadata": {},
     "output_type": "execute_result"
    }
   ],
   "source": [
    "import re\n",
    "regex = r'(&nbsp;){2,}'\n",
    "\n",
    "s = \"Привет, меня зовут Тимур&nbsp;Гуев, я – автор курсов по математике и Python. Наши курсы победили в Stepik Awards&nbsp;&nbsp;2021.\"\n",
    "re.findall(regex, s)"
   ],
   "metadata": {
    "collapsed": false,
    "ExecuteTime": {
     "end_time": "2025-03-13T11:29:54.462147600Z",
     "start_time": "2025-03-13T11:29:54.454145300Z"
    }
   },
   "id": "4102f2e085d136ba"
  },
  {
   "cell_type": "code",
   "execution_count": 2,
   "outputs": [
    {
     "data": {
      "image/png": "[encoded data removed]",
      "text/plain": "<IPython.core.display.Image object>"
     },
     "metadata": {},
     "output_type": "display_data"
    }
   ],
   "source": [
    "from functions import picture\n",
    "picture('dfsg.png')"
   ],
   "metadata": {
    "collapsed": false,
    "ExecuteTime": {
     "end_time": "2025-03-13T11:30:27.976922Z",
     "start_time": "2025-03-13T11:30:27.968566300Z"
    }
   },
   "id": "768eca4d6fab901b"
  },
  {
   "cell_type": "markdown",
   "source": [
    "Подвыражение (&nbsp;) обрабатывается как единый объект. Поэтому диапазон {2,}, который следует после него, относится ко всему подвыражению, а не только к точке с запятой."
   ],
   "metadata": {
    "collapsed": false
   },
   "id": "d92833da1e7c439b"
  },
  {
   "cell_type": "markdown",
   "source": [
    "Рассмотрим еще один пример. Будем использовать регулярное выражение для поиска IP-адресов. Будем считать, что IP-адрес – это четыре числа (одно, двух или трехзначное), разделенные символом точки."
   ],
   "metadata": {
    "collapsed": false
   },
   "id": "f7dd7077dcfbfa65"
  },
  {
   "cell_type": "code",
   "execution_count": 3,
   "outputs": [
    {
     "data": {
      "text/plain": "['13.69.75.239']"
     },
     "execution_count": 3,
     "metadata": {},
     "output_type": "execute_result"
    }
   ],
   "source": [
    "import re\n",
    "regex = r'\\d{1,3}\\.\\d{1,3}\\.\\d{1,3}\\.\\d{1,3}'\n",
    "\n",
    "s = \"Пингую сайт www.stepik.org [13.69.75.239] 32 байтами данных.\"\n",
    "re.findall(regex, s)"
   ],
   "metadata": {
    "collapsed": false,
    "ExecuteTime": {
     "end_time": "2025-03-13T11:42:23.707857900Z",
     "start_time": "2025-03-13T11:42:23.702558500Z"
    }
   },
   "id": "27c78061513bb896"
  },
  {
   "cell_type": "code",
   "execution_count": 4,
   "outputs": [
    {
     "data": {
      "image/png": "[encoded data removed]",
      "text/plain": "<IPython.core.display.Image object>"
     },
     "metadata": {},
     "output_type": "display_data"
    }
   ],
   "source": [
    "picture('Безвыкн имени.png')"
   ],
   "metadata": {
    "collapsed": false,
    "ExecuteTime": {
     "end_time": "2025-03-13T11:42:40.974590400Z",
     "start_time": "2025-03-13T11:42:40.968318700Z"
    }
   },
   "id": "552e248d4af7f5c4"
  },
  {
   "cell_type": "markdown",
   "source": [
    "Каждому шаблону \\d{1,3} соответствует одно из чисел в IP-адресе. Эти четыре числа разделены точками .. Шаблон \\d{1,3}\\. повторен три раза и поэтому также может быть записан с помощью повторения. Таким образом, регулярное выражение:"
   ],
   "metadata": {
    "collapsed": false
   },
   "id": "2a9707c587d4d6f8"
  },
  {
   "cell_type": "markdown",
   "source": [
    "\\d{1,3}\\.\\d{1,3}\\.\\d{1,3}\\.\\d{1,3}"
   ],
   "metadata": {
    "collapsed": false
   },
   "id": "16202e1dd4259904"
  },
  {
   "cell_type": "markdown",
   "source": [
    "можно записать с использованием подвыражения в виде:"
   ],
   "metadata": {
    "collapsed": false
   },
   "id": "b6b5debf00233f5b"
  },
  {
   "cell_type": "markdown",
   "source": [
    "(\\d{1,3}\\.){3}\\d{1,3}"
   ],
   "metadata": {
    "collapsed": false
   },
   "id": "beae086025f31d1a"
  },
  {
   "cell_type": "markdown",
   "source": [
    "Регулярное выражение (\\d{1,3}\\.){3}\\d{1,3} не совсем точно описывает IP-адреса, поскольку не учитывает ограничение, ведь IP-адрес состоит из 4 чисел в диапазоне от 0 до 255."
   ],
   "metadata": {
    "collapsed": false
   },
   "id": "b7459be9b7c8ba6c"
  },
  {
   "cell_type": "markdown",
   "source": [
    "Вложенные подвыражения"
   ],
   "metadata": {
    "collapsed": false
   },
   "id": "3c6287ec7c7fc8a8"
  },
  {
   "cell_type": "markdown",
   "source": [
    "Подвыражения могут быть вложенными. Одни подвыражения могут быть вложены в другие подвыражения, которые, в свою очередь, вложены в третьи подвыражения, и т.д."
   ],
   "metadata": {
    "collapsed": false
   },
   "id": "28ae20cf9e4437b7"
  },
  {
   "cell_type": "markdown",
   "source": [
    "Возможность вкладывать подвыражения позволяет создавать невероятно мощные регулярные выражения. Чтобы продемонстрировать использование вложенных подвыражений, мы снова рассмотрим пример с IP-адресами."
   ],
   "metadata": {
    "collapsed": false
   },
   "id": "917da6bdaaccc05c"
  },
  {
   "cell_type": "markdown",
   "source": [
    "Вот использованное раннее регулярное выражение:"
   ],
   "metadata": {
    "collapsed": false
   },
   "id": "d6a59b06c524ed6e"
  },
  {
   "cell_type": "markdown",
   "source": [
    "(\\d{1,3}\\.){3}\\d{1,3}"
   ],
   "metadata": {
    "collapsed": false
   },
   "id": "4cc0890479ae432f"
  },
  {
   "cell_type": "markdown",
   "source": [
    "в котором подвыражение повторено три раза, а за ним в заключении следует число. Синтаксически все правильно. IP-адрес составлен из четырех чисел, каждое из них содержит от одной до трех цифр, причем числа отделены друг от друга точками. Данное регулярное выражение будет соответствовать любому правильному (допустимому) IP-адресу. Но оно будет соответствовать не только правильным IP-адресам."
   ],
   "metadata": {
    "collapsed": false
   },
   "id": "db52cb435845c705"
  },
  {
   "cell_type": "markdown",
   "source": [
    "Как было сказано выше, такое регулярное выражение не совсем точно описывает IP-адреса, поскольку не учитывает ограничение, ведь IP-адрес состоит из 4 чисел в диапазоне от 0 до 255. А наше регулярное выражение допускает также и другие числа, выходящие за пределы требуемого диапазона (например, 345,700,999 и т.д.), которые недопустимы в IP-адресах."
   ],
   "metadata": {
    "collapsed": false
   },
   "id": "36eb9f1ec8eb88d2"
  },
  {
   "cell_type": "markdown",
   "source": [
    "Было бы хорошо, если бы можно было определить диапазон допустимых значений, но регулярные выражения соответствуют символам. Математические вычисления – не их стихия."
   ],
   "metadata": {
    "collapsed": false
   },
   "id": "5674187f972a9191"
  },
  {
   "cell_type": "markdown",
   "source": [
    "В некоторых отдельных случаях можно записать нужное регулярное выражение. Для этого необходимо точно определить все те цепочки, которым оно должно соответствовать, и все те цепочки, которым оно не должно соответствовать. Приведем правила, определяющие правильные комбинации в каждом числе IP-адреса:"
   ],
   "metadata": {
    "collapsed": false
   },
   "id": "4edad11fcfb544c5"
  },
  {
   "cell_type": "markdown",
   "source": [
    "любое однозначное или двузначное число\n",
    "любое трехзначное число, начинающееся с 1\n",
    "любое трехзначное число, начинающееся с 2, если вторая цифра в диапазоне от 0 до 4\n",
    "любое трехзначное число, начинающееся с 25, если третья цифра находится в диапазоне от 0 до 5"
   ],
   "metadata": {
    "collapsed": false
   },
   "id": "8d1f58cff70bfd1a"
  },
  {
   "cell_type": "markdown",
   "source": [
    "Если последовательно придерживаться этих правил, становится ясно, что действительно можно написать регулярное выражение, которое может найти все IP-адреса и только их."
   ],
   "metadata": {
    "collapsed": false
   },
   "id": "753db29e427c86de"
  },
  {
   "cell_type": "markdown",
   "source": [
    "Нужное регулярное выражение имеет вид:"
   ],
   "metadata": {
    "collapsed": false
   },
   "id": "20e5e6f0a8a965dd"
  },
  {
   "cell_type": "markdown",
   "source": [
    "(((\\d{1,2})|(1\\d{2})|(2[0-4]\\d)|(25[0-5]))\\.){3}((2[0-4]\\d)|(25[0-5])|(1\\d{2})|(\\d{1,2}))"
   ],
   "metadata": {
    "collapsed": false
   },
   "id": "71c007d918ef2ea"
  },
  {
   "cell_type": "markdown",
   "source": [
    "Рассмотрим, как работает это регулярное выражение. Прежде всего отметим, что оно работает потому, что в нем используется ряд вложенных подвыражений. Проанализируем, например, следующее выражение, содержащее 4 подвыражения:"
   ],
   "metadata": {
    "collapsed": false
   },
   "id": "75c55dc6315ece0"
  },
  {
   "cell_type": "markdown",
   "source": [
    "(((\\d{1,2})|(1\\d{2})|(2[0-4]\\d)|(25[0-5]))\\.){3}"
   ],
   "metadata": {
    "collapsed": false
   },
   "id": "3492f1c5941032d0"
  },
  {
   "cell_type": "markdown",
   "source": [
    "Подвыражение (\\d{1,2}) находит любое число в диапазоне от 0 до 99. Подвыражение (1\\d{2}) находит любое трехзначное число, начинающееся с цифры 1 (после 1 следуют любые две цифры), то есть любое число в диапазоне от 100 до 199. Подвыражение (2[0-4]\\d) находит все числа от 200 до 249, а подвыражение (25[0-5]) находит числа от 250 до 255. Каждое из этих подвыражений является операндом другого подвыражения, составленного из этих подвыражений с помощью оператора ИЛИ |. Поэтому будет выполняться поиск числа, соответствующего одному из этих подвыражений, а не всем. После диапазона чисел следует \\., поэтому будет выполняться поиск точки. Так что полученное подвыражение соответствует всей последовательности цифр и точке (всему числу и точке после него). Это подвыражение заключено в скобки, то есть само рассматривается как часть подвыражения, которое повторяется три раза с помощью {3}. В конце диапазон чисел повторяется снова, но на этот раз после него нет \\., этот диапазон как раз и соответствует последнему числу в IP-адресе.\n",
    "\n",
    "Именно благодаря тому, что каждое из четырех чисел находится в диапазоне от 0 до 255, это регулярное выражение действительно находит все правильные IP-адреса и отвергает все ошибочные."
   ],
   "metadata": {
    "collapsed": false
   },
   "id": "4e2d4f142b15216e"
  },
  {
   "cell_type": "markdown",
   "source": [
    "Примечания"
   ],
   "metadata": {
    "collapsed": false
   },
   "id": "99b7a342e7c53265"
  },
  {
   "cell_type": "markdown",
   "source": [
    "Примечание 1. Записать регулярное выражение, которое соответствует тому, что мы хотим найти, не составляет большого труда. Намного сложнее написать регулярное выражение, которое учитывает все возможные сценарии так, чтобы это выражение не соответствовало тому, с чем мы не хотим установить соответствие."
   ],
   "metadata": {
    "collapsed": false
   },
   "id": "15a1f1762400b5d5"
  },
  {
   "cell_type": "markdown",
   "source": [
    "Примечание 2. Подвыражения используются для группировки частей регулярного выражения, они заключаются в круглые скобки ( и ). Обычно подвыражения используются для того, чтобы точно указать, к каким частям регулярного выражения относятся метасимволы повторения, и правильно определяют операнды операторов ИЛИ (|). При необходимости подвыражения могут быть вложены."
   ],
   "metadata": {
    "collapsed": false
   },
   "id": "c052b3950717f13c"
  },
  {
   "cell_type": "markdown",
   "source": [
    "Примечание 3. Регулярные выражения могут выглядеть весьма запутанно. Ключ к пониманию их состоит в том, чтобы найти их подвыражения, а затем проанализировать и понять каждое из подвыражений по отдельности. Начинать надо с самых внутренних частей и продвигаться наружу, то есть к более сложным выражениям, состоящим из уже разобранных подвыражений. Ни в коем случае не нужно пробовать читать символ за символом с самого начала. Каким бы сложным ни было регулярное выражение, при рекомендуемом подходе оно окажется намного проще, чем показалось на первый взгляд."
   ],
   "metadata": {
    "collapsed": false
   },
   "id": "98edb6d0f86479a2"
  },
  {
   "cell_type": "markdown",
   "source": [
    "Дополните приведенный ниже код, чтобы переменная regex содержала регулярное выражение, которому соответствуют Американские почтовые индексы, удовлетворяющие следующим условиям:\n",
    "\n",
    "почтовый индекс начинается с пяти цифр\n",
    "далее следует необязательная часть из четырех цифр, которая отделяется от пяти первых цифр дефисом"
   ],
   "metadata": {
    "collapsed": false
   },
   "id": "bdcb02e56ce63c9a"
  },
  {
   "cell_type": "code",
   "execution_count": 46,
   "outputs": [
    {
     "name": "stdout",
     "output_type": "stream",
     "text": [
      "18491\n",
      "48034-1234\n"
     ]
    }
   ],
   "source": [
    "import re\n",
    "regex = r'\\d{5}(-\\d{4})?'\n",
    "\n",
    "s = \"My old poscode: 18491\\\n",
    "And new: 48034-1234\"\n",
    "# re.findall(regex, s)\n",
    "matches = re.finditer(regex, s)\n",
    "\n",
    "for match in matches:\n",
    "    print(match.group())"
   ],
   "metadata": {
    "collapsed": false,
    "ExecuteTime": {
     "end_time": "2025-03-13T12:10:14.181859900Z",
     "start_time": "2025-03-13T12:10:14.178468200Z"
    }
   },
   "id": "430d9dd6af03211d"
  },
  {
   "cell_type": "markdown",
   "source": [
    "Дополните приведенный ниже код, чтобы переменная regex содержала регулярное выражение, которому соответствуют Североамериканские номера телефонов, удовлетворяющие одновременно всем следующим условиям:\n",
    "\n",
    "номер телефона начинается из трехцифрового кода города, который может заключаться в круглые скобки\n",
    "далее через пробел или дефис следует номер с семью цифрами, разделенный на трехцифровой префикс и четырехцифровой номер линии, между которыми указывается дефис\n",
    "В номере телефона могут использоваться любые цифры за двумя исключениями: первая цифра кода города и первая цифра префикса не могут быть 0 или 1."
   ],
   "metadata": {
    "collapsed": false
   },
   "id": "66414f4967e496ef"
  },
  {
   "cell_type": "code",
   "execution_count": 71,
   "outputs": [
    {
     "name": "stdout",
     "output_type": "stream",
     "text": [
      "333-555-1234\n"
     ]
    }
   ],
   "source": [
    "import re\n",
    "regex = r'(\\([^01]\\d{2}\\)|[^01]\\d{2})[- ][^01]\\d{2}-\\d{4}'\n",
    "\n",
    "s = \"Glados: 248-555-1234\"\n",
    "s = \"Peter: (313) 555-1234\"\n",
    "s = \"(011)-377-4567\"\n",
    "s = \"(222)-190-0000\"\n",
    "s = \"(333-555-1234\"\n",
    "# re.findall(regex, s)\n",
    "matches = re.finditer(regex, s)\n",
    "for match in matches:\n",
    "    print(match.group())"
   ],
   "metadata": {
    "collapsed": false,
    "ExecuteTime": {
     "end_time": "2025-03-13T12:22:59.014099400Z",
     "start_time": "2025-03-13T12:22:59.008282300Z"
    }
   },
   "id": "19782c501a2608b4"
  },
  {
   "cell_type": "markdown",
   "source": [
    "Дополните приведенный ниже код, чтобы переменная regex содержала регулярное выражение, которому соответствуют последовательности символов, удовлетворяющие одновременно всем следующим условиям:\n",
    "\n",
    "последовательность должна состоять только из bee и geek\n",
    "последовательность должна содержать хотя бы один geek\n",
    "bee не может находиться рядом с самим собой (не может быть beebee)\n",
    "geek может появиться только после того, как до этого было записано bee\n",
    "после каждого bee когда-нибудь должен появиться geek"
   ],
   "metadata": {
    "collapsed": false
   },
   "id": "c5e24c7741526937"
  },
  {
   "cell_type": "code",
   "execution_count": 109,
   "outputs": [
    {
     "name": "stdout",
     "output_type": "stream",
     "text": [
      "beegeekbeegeek\n"
     ]
    }
   ],
   "source": [
    "import re\n",
    "regex = r\"beegeekgeekbeegeekgeekbeegeekgeek|(\\bbee(geek)+(beegeek)*|bee(geek)+)\"\n",
    "regex = r'((bee){1}(geek){1,})+'\n",
    "regex = r'(bee(geek)+)+'\n",
    "\n",
    "s = \"Correct name is beegeekbeegeek\"\n",
    "# s = \"hello beegeek_cyber_school\"\n",
    "# s = \"beebeegeekgeekgeekbee\"\n",
    "# s = \"beegeekgeekbeegeekgeekbeegeekgeek\"\n",
    "# re.findall(regex, s)\n",
    "matches = re.finditer(regex, s)\n",
    "for match in matches:\n",
    "    print(match.group())"
   ],
   "metadata": {
    "collapsed": false,
    "ExecuteTime": {
     "end_time": "2025-03-13T13:56:03.566189800Z",
     "start_time": "2025-03-13T13:56:03.564057100Z"
    }
   },
   "id": "4aaea58b61b35dbc"
  },
  {
   "cell_type": "markdown",
   "source": [
    "Ссылки назад"
   ],
   "metadata": {
    "collapsed": false
   },
   "id": "9bdc3cd8722b5ad1"
  },
  {
   "cell_type": "markdown",
   "source": [
    "Предположим, что в тексте нужно найти все подряд повторяющиеся слова, то есть опечатки, где то же самое слово было по ошибке напечатано дважды. Очевидно, что при поиске второго вхождения слова должно быть известно предыдущее слово. Ссылки назад позволяют в регулярном выражении обратиться к предыдущим совпадениям (в данном случае к ранее найденному слову)."
   ],
   "metadata": {
    "collapsed": false
   },
   "id": "bfc205216b59282a"
  },
  {
   "cell_type": "code",
   "execution_count": 110,
   "outputs": [
    {
     "name": "stdout",
     "output_type": "stream",
     "text": [
      "котором котором\n",
      "слов    слов\n",
      "не   не\n",
      "повторяться повторяться\n"
     ]
    }
   ],
   "source": [
    "import re\n",
    "regex = r'(\\b\\w+\\b)[ ]+\\1'\n",
    "\n",
    "s = \"Это текст, в котором котором несколько слов    слов повторяются, хотя они и не   не должны повторяться повторяться.\"\n",
    "# re.findall(regex, s)\n",
    "matches = re.finditer(regex, s)\n",
    "for match in matches:\n",
    "    print(match.group())"
   ],
   "metadata": {
    "collapsed": false,
    "ExecuteTime": {
     "end_time": "2025-03-14T07:13:22.403931Z",
     "start_time": "2025-03-14T07:13:22.401815700Z"
    }
   },
   "id": "9fda9624e9bc44f5"
  },
  {
   "cell_type": "code",
   "execution_count": 111,
   "outputs": [
    {
     "data": {
      "image/png": "[encoded data removed]",
      "text/plain": "<IPython.core.display.Image object>"
     },
     "metadata": {},
     "output_type": "display_data"
    }
   ],
   "source": [
    "picture('Без имарнени.png')"
   ],
   "metadata": {
    "collapsed": false,
    "ExecuteTime": {
     "end_time": "2025-03-14T07:14:11.232951900Z",
     "start_time": "2025-03-14T07:14:11.220590900Z"
    }
   },
   "id": "17f52ad8e764c32a"
  },
  {
   "cell_type": "markdown",
   "source": [
    "Подвыражение (\\bw+\\b) соответствует словам, состоящим из одного или нескольких алфавитно-цифровых символов, а выражение [ ]+ соответствует любому количеству пробелов в конце этих слов. Подвыражение (\\bw+\\b) используется для того, чтобы сгруппировать символы в одно выражение, пометить его и идентифицировать для использования в дальнейшем.\n",
    "\n",
    "Заключительная часть этого регулярного выражения (\\1) — это и есть ссылка назад на подвыражение, и всякий раз, когда подвыражению (\\b\\w+\\b) соответствует слово, точно такому же слову соответствует и \\1. Например, когда (\\b\\w+\\b) соответствует слову котором, \\1 также соответствует слову котором.\n",
    "\n",
    "Термин \"ссылка назад\" обозначает объект, который ссылается на одно из предыдущих подвыражений. Выражение \\1 соответствует первому подвыражению, \\2 — второму, \\3 — третьему и так далее."
   ],
   "metadata": {
    "collapsed": false
   },
   "id": "c2831494674ea9fe"
  },
  {
   "cell_type": "markdown",
   "source": [
    "Рассмотрим еще один пример, который демонстрирует необходимость в ссылках назад. В HTML-документах заголовочные теги (от <H1> до <H6> вместе с закрывающими тегами) позволяют определить и отформатировать тексты заголовков на WEB-страницах. Пусть нам требуется определить местонахождение всех текстов заголовков, независимо от уровня заголовка."
   ],
   "metadata": {
    "collapsed": false
   },
   "id": "d29f1713729d1adf"
  },
  {
   "cell_type": "markdown",
   "source": [
    "Регулярное выражение:"
   ],
   "metadata": {
    "collapsed": false
   },
   "id": "bfe37e99fdde136f"
  },
  {
   "cell_type": "markdown",
   "source": [
    "<[Hh]1>.*</[Hh]1>"
   ],
   "metadata": {
    "collapsed": false
   },
   "id": "48958f2911a5ca48"
  },
  {
   "cell_type": "markdown",
   "source": [
    "соответствует первому заголовку от <H1> до </H1> и соответственно от <h1> до </h1> (HTML-теги не зависят от регистра). Для того чтобы найти все заголовки, мы можем попробовать использовать следующее регулярное выражение:"
   ],
   "metadata": {
    "collapsed": false
   },
   "id": "6f3931d49d6d741d"
  },
  {
   "cell_type": "markdown",
   "source": [
    "<[Hh][1-6]>.*?</[Hh][1-6]>"
   ],
   "metadata": {
    "collapsed": false
   },
   "id": "3d8a0eb8cb243896"
  },
  {
   "cell_type": "code",
   "execution_count": 199,
   "outputs": [
    {
     "name": "stdout",
     "output_type": "stream",
     "text": [
      "<H1>Добро пожаловать на курсы BEEGEEK</H1>\n",
      "<H2>ООП</H2>\n",
      "<h2>Алгоритмы и структуры данных</h2>\n"
     ]
    }
   ],
   "source": [
    "import re\n",
    "regex = r'<[Hh][1-6]>.*</[Hh][1-6]>'\n",
    "\n",
    "s = '''<BODY>\n",
    "<H1>Добро пожаловать на курсы BEEGEEK</H1>\n",
    "Мы считаем, что настоящий программист должен понимать, как работает компьютер, обладать аналитическим мышлением и не бояться математики.\n",
    "Следующие курсы:\n",
    "<H2>ООП</H2>\n",
    "<h2>Алгоритмы и структуры данных</h2>\n",
    "Оставайтесь с нами!\n",
    "</BODY>'''\n",
    "# re.findall(regex, s)\n",
    "matches = re.finditer(regex, s)\n",
    "for match in matches:\n",
    "    print(match.group())"
   ],
   "metadata": {
    "collapsed": false,
    "ExecuteTime": {
     "end_time": "2025-03-14T10:53:03.279054300Z",
     "start_time": "2025-03-14T10:53:03.270933400Z"
    }
   },
   "id": "78bcc0eddd8e918f"
  },
  {
   "cell_type": "code",
   "execution_count": 129,
   "outputs": [
    {
     "data": {
      "image/png": "[encoded data removed]",
      "text/plain": "<IPython.core.display.Image object>"
     },
     "metadata": {},
     "output_type": "display_data"
    }
   ],
   "source": [
    "picture('Без имевани.png')"
   ],
   "metadata": {
    "collapsed": false,
    "ExecuteTime": {
     "end_time": "2025-03-14T07:43:35.222462700Z",
     "start_time": "2025-03-14T07:43:35.211451700Z"
    }
   },
   "id": "467eb3ca09481862"
  },
  {
   "cell_type": "markdown",
   "source": [
    "Выражение <[Hh][1-6]> соответствует любому тегу, открывающему заголовок (<H1>, <H2>, <h2> и т.д.), а выражение </[Hh][1-6]> соответствует любому тегу, закрывающему заголовок."
   ],
   "metadata": {
    "collapsed": false
   },
   "id": "87d9b81b9f9b3ae"
  },
  {
   "cell_type": "markdown",
   "source": [
    "Такое регулярное выражение почти работает. Проблема заключается в том, что закрывающие теги не обязательно соответствуют открывающим."
   ],
   "metadata": {
    "collapsed": false
   },
   "id": "e2d5efd4b11eb110"
  },
  {
   "cell_type": "code",
   "execution_count": 128,
   "outputs": [
    {
     "name": "stdout",
     "output_type": "stream",
     "text": [
      "<H1>Добро пожаловать на курсы BEEGEEK</H1>\n",
      "<H2>ООП</H2>\n",
      "<h2>Алгоритмы и структуры данных</h3>\n"
     ]
    }
   ],
   "source": [
    "import re\n",
    "regex = r'<[Hh][1-6]>.*?</[Hh][1-6]>'\n",
    "\n",
    "s = \"<BODY>\\\n",
    "<H1>Добро пожаловать на курсы BEEGEEK</H1>\\\n",
    "Мы считаем, что настоящий программист должен понимать, как работает компьютер, обладать аналитическим мышлением и не бояться математики.\\\n",
    "Следующие курсы:\\\n",
    "<H2>ООП</H2>\\\n",
    "<h2>Алгоритмы и структуры данных</h3>\\\n",
    "Оставайтесь с нами!\\\n",
    "</BODY>\"\n",
    "# re.findall(regex, s)\n",
    "matches = re.finditer(regex, s)\n",
    "for match in matches:\n",
    "    print(match.group())"
   ],
   "metadata": {
    "collapsed": false,
    "ExecuteTime": {
     "end_time": "2025-03-14T07:42:52.411598300Z",
     "start_time": "2025-03-14T07:42:52.408826200Z"
    }
   },
   "id": "229b01c24d954e30"
  },
  {
   "cell_type": "code",
   "execution_count": 131,
   "outputs": [
    {
     "data": {
      "image/png": "[encoded data removed]",
      "text/plain": "<IPython.core.display.Image object>"
     },
     "metadata": {},
     "output_type": "display_data"
    }
   ],
   "source": [
    "picture('Без именlkjи.png')"
   ],
   "metadata": {
    "collapsed": false,
    "ExecuteTime": {
     "end_time": "2025-03-14T07:46:16.627827300Z",
     "start_time": "2025-03-14T07:46:16.621661400Z"
    }
   },
   "id": "759438378074c199"
  },
  {
   "cell_type": "markdown",
   "source": [
    "Тег заголовка, начинающийся с <h2> и заканчивающийся </h3>, недопустим, и все же регулярное выражение нашло его."
   ],
   "metadata": {
    "collapsed": false
   },
   "id": "b8913dbed927e142"
  },
  {
   "cell_type": "markdown",
   "source": [
    "Проблема состоит в том, что вторая часть совпадения (часть соответствующая закрывающему тегу) не имеет никакой информации о первой части совпадения (части соответствующей открывающему тегу). И именно здесь ссылки назад становятся очень полезными."
   ],
   "metadata": {
    "collapsed": false
   },
   "id": "ce03f20d5e4976e7"
  },
  {
   "cell_type": "code",
   "execution_count": 197,
   "outputs": [
    {
     "name": "stdout",
     "output_type": "stream",
     "text": [
      "<H1>Добро пожаловать на курсы BEEGEEK</H1>\n",
      "<H2>ООП</H2>\n"
     ]
    }
   ],
   "source": [
    "import re\n",
    "regex = r'<[Hh]([1-6])>.*</[Hh]\\1>'\n",
    "\n",
    "s = \"<BODY>\\\n",
    "<H1>Добро пожаловать на курсы BEEGEEK</H1>\\\n",
    "Мы считаем, что настоящий программист должен понимать, как работает компьютер, обладать аналитическим мышлением и не бояться математики.\\\n",
    "Следующие курсы:\\\n",
    "<H2>ООП</H2>\\\n",
    "<h2>Алгоритмы и структуры данных</h3>\\\n",
    "Оставайтесь с нами!\\\n",
    "</BODY>\"\n",
    "# re.findall(regex, s)\n",
    "matches = re.finditer(regex, s)\n",
    "for match in matches:\n",
    "    print(match.group())"
   ],
   "metadata": {
    "collapsed": false,
    "ExecuteTime": {
     "end_time": "2025-03-14T10:52:26.325383400Z",
     "start_time": "2025-03-14T10:52:26.323375200Z"
    }
   },
   "id": "80034047db5706e4"
  },
  {
   "cell_type": "markdown",
   "source": [
    "Ссылки назад будут работать только в том случае, если выражение, на которое они ссылаются, является подвыражением (заключено в скобки)."
   ],
   "metadata": {
    "collapsed": false
   },
   "id": "d51bc693fd3fbb76"
  },
  {
   "cell_type": "markdown",
   "source": [
    "Примечания"
   ],
   "metadata": {
    "collapsed": false
   },
   "id": "99264cc003b319bb"
  },
  {
   "cell_type": "markdown",
   "source": [
    "Примечание 1. Подвыражения нумеруются слева направо по открывающим их скобкам, включая вложенные подвыражения. У первого подвыражения номер 1, у второго – номер 2. У выражения в целом – 0.\n",
    "\n",
    "Например, для входной строки foobar регулярное выражение (foo(bar)) найдет:"
   ],
   "metadata": {
    "collapsed": false
   },
   "id": "9c6e8007149cab85"
  },
  {
   "cell_type": "code",
   "execution_count": 133,
   "outputs": [
    {
     "data": {
      "image/png": "[encoded data removed]",
      "text/plain": "<IPython.core.display.Image object>"
     },
     "metadata": {},
     "output_type": "display_data"
    }
   ],
   "source": [
    "picture('Без имеванрни.png')"
   ],
   "metadata": {
    "collapsed": false,
    "ExecuteTime": {
     "end_time": "2025-03-14T08:02:15.954906Z",
     "start_time": "2025-03-14T08:02:15.947543400Z"
    }
   },
   "id": "7fee3c7b3c6b361f"
  },
  {
   "cell_type": "code",
   "execution_count": 134,
   "outputs": [
    {
     "name": "stdout",
     "output_type": "stream",
     "text": [
      "Подвыражение 1: foobar\n",
      "Подвыражение 2: bar\n"
     ]
    }
   ],
   "source": [
    "import re\n",
    "\n",
    "# Регулярное выражение с подвыражениями\n",
    "regex = r'(foo(bar))'\n",
    "\n",
    "# Строка для поиска\n",
    "s = 'foobar'\n",
    "\n",
    "# Используем re.search для поиска первого совпадения\n",
    "match = re.search(regex, s)\n",
    "\n",
    "if match:\n",
    "    # Подвыражение 1 захватывает 'foobar' (все из 'foo' и 'bar')\n",
    "    print(\"Подвыражение 1:\", match.group(1))  # Это даст 'foobar'\n",
    "    # Подвыражение 2 захватывает только 'bar'\n",
    "    print(\"Подвыражение 2:\", match.group(2))  # Это даст 'bar'\n",
    "else:\n",
    "    print(\"Совпадений не найдено.\")\n"
   ],
   "metadata": {
    "collapsed": false,
    "ExecuteTime": {
     "end_time": "2025-03-14T08:05:16.142610400Z",
     "start_time": "2025-03-14T08:05:15.987948Z"
    }
   },
   "id": "8d3cb844f60e9d37"
  },
  {
   "cell_type": "markdown",
   "source": [
    "Примечание 2. На подвыражения ссылаются по их относительным позициям: \\1 служит для ссылки на первое подвыражение, \\7 – для ссылки на седьмое подвыражение и т.д. Этот синтаксис имеет один серьезный недостаток: перемещение и редактирование подвыражений (и таким образом изменение порядка подвыражений) может нарушить регулярное выражение, а добавление или удаление подвыражений может быть даже еще более проблематичным.\n",
    "\n",
    "Чтобы избавиться от этого недостатка, в некоторых более новых реализациях регулярных выражений (в частности в Python) поддерживается захват по имени – возможность, благодаря которой каждому подвыражению можно дать уникальное название (имя), впоследствии имя может использоваться для того чтобы обратиться к подвыражению (по этому имени, а не по его относительной позиции).\n",
    "\n",
    "В языке Python именованные подвыражения создаются с помощью синтаксиса (?P<name><regex>). При этом обращаться по имени к такому подвыражению можно так \\g<name>. Об этом будет подробно рассказано в следующих уроках."
   ],
   "metadata": {
    "collapsed": false
   },
   "id": "fba83c7920859686"
  },
  {
   "cell_type": "markdown",
   "source": [
    "Дополните приведенный ниже код, чтобы переменная regex содержала регулярное выражение, которому соответствуют последовательности символов длины 6, удовлетворяющие одновременно всем следующим условиям:\n",
    "\n",
    "первый символ — строчная латинская буква\n",
    "второй символ — цифра, любая буква в произвольном регистре или символ нижнего подчеркивания\n",
    "третий символ — заглавная латинская буква\n",
    "четвертый символ должен совпадать с первым символом\n",
    "пятый символ должен совпадать со вторым символом\n",
    "шестой символ должен совпадать с третьим символом"
   ],
   "metadata": {
    "collapsed": false
   },
   "id": "12ab2fff23b5ae5a"
  },
  {
   "cell_type": "code",
   "execution_count": 136,
   "outputs": [
    {
     "name": "stdout",
     "output_type": "stream",
     "text": [
      "z5Az5A\n"
     ]
    }
   ],
   "source": [
    "import re\n",
    "regex = r'\\b([a-z])([\\dA-Za-z_])([A-Z])\\1\\2\\3'\n",
    "\n",
    "s = \"Hello, User211, your verification number: z5Az5A\"\n",
    "# re.findall(regex, s)\n",
    "matches = re.finditer(regex, s)\n",
    "for match in matches:\n",
    "    print(match.group())"
   ],
   "metadata": {
    "collapsed": false,
    "ExecuteTime": {
     "end_time": "2025-03-14T08:38:38.674007400Z",
     "start_time": "2025-03-14T08:38:38.665150800Z"
    }
   },
   "id": "77756e89aa585eb5"
  },
  {
   "cell_type": "markdown",
   "source": [
    "Дополните приведенный ниже код, чтобы переменная regex содержала регулярное выражение, которому соответствуют последовательности символов, содержащие три или более последовательных повторений ok."
   ],
   "metadata": {
    "collapsed": false
   },
   "id": "436a8bb3ef652d51"
  },
  {
   "cell_type": "code",
   "execution_count": 157,
   "outputs": [
    {
     "name": "stdout",
     "output_type": "stream",
     "text": [
      "okokok\n"
     ]
    }
   ],
   "source": [
    "import re\n",
    "regex = r'(ok)\\1{2,}'\n",
    "\n",
    "s = \"Ok, Jim. I said okok! okokokok!\"\n",
    "s = \"OkoKokokOk OKOKOKOKK okokok\"\n",
    "s = \"okokokoko okokokokkkkkk\"\n",
    "s = \"kokokoko\"\n",
    "# re.findall(regex, s)\n",
    "matches = re.finditer(regex, s)\n",
    "for match in matches:\n",
    "    print(match.group())"
   ],
   "metadata": {
    "collapsed": false,
    "ExecuteTime": {
     "end_time": "2025-03-14T10:28:35.062550800Z",
     "start_time": "2025-03-14T10:28:35.054019800Z"
    }
   },
   "id": "65c4f3fdfe85af1f"
  },
  {
   "cell_type": "markdown",
   "source": [
    "Дополните приведенный ниже код, чтобы переменная regex содержала регулярное выражение, которому соответствуют последовательности символов, представляющие собой девятисимвольные палиндромы."
   ],
   "metadata": {
    "collapsed": false
   },
   "id": "8e675256cd91368d"
  },
  {
   "cell_type": "code",
   "execution_count": 201,
   "outputs": [
    {
     "name": "stdout",
     "output_type": "stream",
     "text": [
      "-._.-._.-\n",
      "rotavator\n",
      "deleveled\n",
      "123454321\n"
     ]
    }
   ],
   "source": [
    "import re\n",
    "regex = r'(.)(.)(.)(.).\\4\\3\\2\\1'\n",
    "\n",
    "s = \"What is palindrome? Examples: -._.-._.-, rotavator, abba, deleveled, 123454321\"\n",
    "# re.findall(regex, s)\n",
    "matches = re.finditer(regex, s)\n",
    "for match in matches:\n",
    "    print(match.group())"
   ],
   "metadata": {
    "collapsed": false,
    "ExecuteTime": {
     "end_time": "2025-03-14T10:56:22.132551700Z",
     "start_time": "2025-03-14T10:56:22.124708200Z"
    }
   },
   "id": "ca7197d9d8ec5404"
  },
  {
   "cell_type": "markdown",
   "source": [
    "Дополните приведенный ниже код, чтобы переменная regex содержала регулярное выражение, которому соответствуют слова, содержащие повторяющиеся буквы."
   ],
   "metadata": {
    "collapsed": false
   },
   "id": "1b74859a5d1af2fd"
  },
  {
   "cell_type": "code",
   "execution_count": 213,
   "outputs": [
    {
     "name": "stdout",
     "output_type": "stream",
     "text": [
      "fuisopf\n",
      "geisslp\n"
     ]
    }
   ],
   "source": [
    "import re\n",
    "regex = r'\\b[A-Za-z]*([A-Za-z])[A-Za-z]*\\1[A-Za-z]*\\b'\n",
    "regex = r'\\b\\w*(\\w)\\w*\\1\\w*\\b'\n",
    "\n",
    "s = \"I have one apple, one banana and one strawberry\"\n",
    "s = \"Priveeeet my dear friend\"\n",
    "s = \"fuisopf gheos, geisslp\"\n",
    "# re.findall(regex, s)\n",
    "matches = re.finditer(regex, s)\n",
    "for match in matches:\n",
    "    print(match.group())"
   ],
   "metadata": {
    "collapsed": false,
    "ExecuteTime": {
     "end_time": "2025-03-14T11:13:54.965407400Z",
     "start_time": "2025-03-14T11:13:54.957525400Z"
    }
   },
   "id": "6d08befd07b653b4"
  },
  {
   "cell_type": "markdown",
   "source": [
    "Дополните приведенный ниже код, чтобы переменная regex содержала регулярное выражение, которому соответствуют последовательности из 8 цифр. Причем последовательность может содержать символы дефиса - в качестве разделителей, только если они делят ее на группы по 2 цифры."
   ],
   "metadata": {
    "collapsed": false
   },
   "id": "1615b8168c947463"
  },
  {
   "cell_type": "code",
   "execution_count": 227,
   "outputs": [],
   "source": [
    "import re\n",
    "regex = r'\\d\\d(-?)\\d\\d\\1\\d\\d\\1\\d\\d'\n",
    "regex = r'\\d{2}(-?)\\d{2}\\1\\d{2}\\1\\d{2}'\n",
    "\n",
    "s = \"Digits from 0 to 7: 01234567\"\n",
    "s = \"Digits from 1 to 8 by groups: 12-34-56-78\"\n",
    "s = \"Digits from 1 to 8 by groups: 1234-5678\"\n",
    "# re.findall(regex, s)\n",
    "matches = re.finditer(regex, s)\n",
    "for match in matches:\n",
    "    print(match.group())"
   ],
   "metadata": {
    "collapsed": false,
    "ExecuteTime": {
     "end_time": "2025-03-14T11:22:02.047280900Z",
     "start_time": "2025-03-14T11:22:02.038711400Z"
    }
   },
   "id": "97e88696280b5348"
  },
  {
   "cell_type": "markdown",
   "source": [
    "Дополните приведенный ниже код, чтобы переменная regex содержала регулярное выражение, которому соответствуют последовательности из 8 цифр, удовлетворяющие следующим условиям:\n",
    "\n",
    "последовательность может содержать символы -, --- или . в качестве разделителей, только если они делят ее на группы по 2 цифры\n",
    "последовательность должна содержать только один тип разделителя, если он присутствует"
   ],
   "metadata": {
    "collapsed": false
   },
   "id": "bd9a7d1d1cdebaa4"
  },
  {
   "cell_type": "code",
   "execution_count": 256,
   "outputs": [
    {
     "name": "stdout",
     "output_type": "stream",
     "text": [
      "11-22-33-44\n"
     ]
    }
   ],
   "source": [
    "import re\n",
    "regex = r'\\d\\d((-|(---)|\\.)?)\\d\\d\\1\\d\\d\\1\\d\\d'\n",
    "\n",
    "s = \"I have some groups of digits. Do you want to see? 11-22-33-44\"\n",
    "# s = \"Look at this: 12345678\"\n",
    "# s = \"1-2-3-4-5-6-7-89-w9--99\"\n",
    "# s = \"12---34---56---78\"\n",
    "# re.findall(regex, s)\n",
    "matches = re.finditer(regex, s)\n",
    "for match in matches:\n",
    "    print(match.group())"
   ],
   "metadata": {
    "collapsed": false,
    "ExecuteTime": {
     "end_time": "2025-03-14T11:30:53.130183Z",
     "start_time": "2025-03-14T11:30:53.119073600Z"
    }
   },
   "id": "af76c03d80c23f1c"
  },
  {
   "cell_type": "markdown",
   "source": [
    "Дополните приведенный ниже код, чтобы переменная regex содержала регулярное выражение, которому соответствуют слова, записанные дважды подряд. Слова могут быть разделены одним или несколькими пробелами.\n",
    "\n",
    "Примечание 1. Словом будем считать последовательность символов, соответствующих \\w, окруженную символами, соответствующими \\W"
   ],
   "metadata": {
    "collapsed": false
   },
   "id": "dbd9afd535f91d1c"
  },
  {
   "cell_type": "code",
   "execution_count": 310,
   "outputs": [],
   "source": [
    "import re\n",
    "regex = r'\\b(\\w+)\\b\\W+\\b\\1\\b'\n",
    "regex = r'(\\b\\w+\\b)[ ]+\\b\\1\\b'\n",
    "# Границы слова достаточно указать в начале и конце регулярки. В середине она задается сама, так как мы явно указываем пробелы.\n",
    "regex = r'\\b(\\w+)[ ]+\\1\\b'\n",
    "\n",
    "s = \"One can can become a writer only  only if he is   is talented\"\n",
    "s = \"f fa fa\"\n",
    "s = \"tuk tak\"\n",
    "# re.findall(regex, s)\n",
    "matches = re.finditer(regex, s)\n",
    "for match in matches:\n",
    "    print(match.group())"
   ],
   "metadata": {
    "collapsed": false,
    "ExecuteTime": {
     "end_time": "2025-03-14T11:46:00.049670500Z",
     "start_time": "2025-03-14T11:46:00.041471Z"
    }
   },
   "id": "b8fbc414af0e5ca3"
  }
 ],
 "metadata": {
  "kernelspec": {
   "display_name": "Python 3",
   "language": "python",
   "name": "python3"
  },
  "language_info": {
   "codemirror_mode": {
    "name": "ipython",
    "version": 2
   },
   "file_extension": ".py",
   "mimetype": "text/x-python",
   "name": "python",
   "nbconvert_exporter": "python",
   "pygments_lexer": "ipython2",
   "version": "2.7.6"
  }
 },
 "nbformat": 4,
 "nbformat_minor": 5
}

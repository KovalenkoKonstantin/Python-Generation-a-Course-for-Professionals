{
 "cells": [
  {
   "cell_type": "markdown",
   "source": [
    "Тема урока: регулярные выражения\n",
    "Регулярные выражения\n",
    "Сырые строки и экранирование символов\n",
    "Поиск заданного текста\n",
    "Поиск любого символа\n",
    "Поиск символа точки .\n",
    "Поиск цифр\n",
    "Поиск пробельных символов\n",
    "Поиск алфавитно-цифровых символов\n",
    "Аннотация. Урок посвящен изучению регулярных выражений."
   ],
   "metadata": {
    "collapsed": false
   },
   "id": "a4b8ae77454bffd2"
  },
  {
   "cell_type": "markdown",
   "source": [
    "Жизнь без регулярных выражений"
   ],
   "metadata": {
    "collapsed": false
   },
   "id": "e20a58cf0a20edc2"
  },
  {
   "cell_type": "markdown",
   "source": [
    "Работая со строковыми объектами (тип str), программисты часто сталкиваются с задачей определения совпадения строк и/или проверки вхождения одной строки в другую."
   ],
   "metadata": {
    "collapsed": false
   },
   "id": "ae33a4376f91e589"
  },
  {
   "cell_type": "markdown",
   "source": [
    "В Python строки сравниваются посимвольно: две строки равны, если совпадают их длины и равны символы на каждой из позиций."
   ],
   "metadata": {
    "collapsed": false
   },
   "id": "83e8e8eb4d6a1376"
  },
  {
   "cell_type": "code",
   "execution_count": 1,
   "outputs": [
    {
     "name": "stdout",
     "output_type": "stream",
     "text": [
      "True\n",
      "False\n"
     ]
    }
   ],
   "source": [
    "text1 = 'python!'\n",
    "text2 = 'python' + '!'\n",
    "text3 = 'Python!'\n",
    "\n",
    "print(text1 == text2)\n",
    "print(text1 == text3)"
   ],
   "metadata": {
    "collapsed": false,
    "ExecuteTime": {
     "end_time": "2025-03-11T08:05:06.232565100Z",
     "start_time": "2025-03-11T08:05:06.225256900Z"
    }
   },
   "id": "4d2676725a2fb8e4"
  },
  {
   "cell_type": "markdown",
   "source": [
    "Для проверки принадлежности одной строки другой можно использовать несколько механизмов:\n",
    "\n",
    "оператор принадлежности in\n",
    "строковый метод index()\n",
    "строковый метод find()"
   ],
   "metadata": {
    "collapsed": false
   },
   "id": "88f5a082c474b5b7"
  },
  {
   "cell_type": "code",
   "execution_count": 2,
   "outputs": [
    {
     "name": "stdout",
     "output_type": "stream",
     "text": [
      "True\n",
      "7\n",
      "7\n"
     ]
    }
   ],
   "source": [
    "text = 'python 123 beegeek'\n",
    "\n",
    "print('123' in text)\n",
    "print(text.index('123'))\n",
    "print(text.find('123'))"
   ],
   "metadata": {
    "collapsed": false,
    "ExecuteTime": {
     "end_time": "2025-03-11T08:06:30.640287800Z",
     "start_time": "2025-03-11T08:06:30.637048800Z"
    }
   },
   "id": "7bb52634fbc23560"
  },
  {
   "cell_type": "markdown",
   "source": [
    "Строковый метод index() возбуждает исключение, если подстрока не найдена, в то время как метод find() возвращает значение −1."
   ],
   "metadata": {
    "collapsed": false
   },
   "id": "dfba4c578d72e8e9"
  },
  {
   "cell_type": "markdown",
   "source": [
    "Все три механизма (оператор in, метод index() и метод find()) выполняют поиск подстроки путем прямого посимвольного сравнения. Это позволит выполнить работу во многих случаях, но иногда проблема оказывается сложнее. Что если вместо фиксированной подстроки 123, мы хотим определить содержит ли строка text какие-либо три последовательных цифры, как в следующих строках:"
   ],
   "metadata": {
    "collapsed": false
   },
   "id": "8f17054b0ef6400"
  },
  {
   "cell_type": "markdown",
   "source": [
    "python 123 beegeek\n",
    "python 342 stepik\n",
    "789 beegeek\n",
    "number 557 is awesome!"
   ],
   "metadata": {
    "collapsed": false
   },
   "id": "bc8861ea22d41169"
  },
  {
   "cell_type": "markdown",
   "source": [
    "В такой ситуации, очевидно приведенные выше механизмы без дополнительной логики не сработают."
   ],
   "metadata": {
    "collapsed": false
   },
   "id": "6e66d0577d3a8110"
  },
  {
   "cell_type": "markdown",
   "source": [
    "Рассмотрим следующую задачу: пусть телефонный номер имеет шаблон ddd-ddd-dddd (три цифры дефис три цифры дефис четыре цифры). Требуется найти все телефонные номера в заданном тексте."
   ],
   "metadata": {
    "collapsed": false
   },
   "id": "251f2f81338e118c"
  },
  {
   "cell_type": "markdown",
   "source": [
    "Приведенный ниже код решает задачу:"
   ],
   "metadata": {
    "collapsed": false
   },
   "id": "271320310d8e6789"
  },
  {
   "cell_type": "code",
   "execution_count": 3,
   "outputs": [
    {
     "name": "stdout",
     "output_type": "stream",
     "text": [
      "['919-654-8765', '543-780-0898', '123-765-8907']\n"
     ]
    }
   ],
   "source": [
    "def is_phone_number(phone):\n",
    "    groups = phone.split('-')\n",
    "    if len(groups) != 3:\n",
    "        return False\n",
    "    if any((len(groups[0]) != 3, len(groups[1]) != 3, len(groups[2]) != 4)):\n",
    "        return False\n",
    "    chars = ''.join(groups)\n",
    "    return all(c.isdigit() for c in chars)\n",
    "\n",
    "def get_all_numbers(text):\n",
    "    for c in range(len(text)):\n",
    "        chunk = text[c:c + 12]\n",
    "        if is_phone_number(chunk):\n",
    "            yield chunk\n",
    "\n",
    "txt = 'Привет всем, мой номер 919-654-8765, а еще у меня есть два дополнительных номера:543-780-0898 и 123-765-8907. Вот и все!'\n",
    "\n",
    "print(list(get_all_numbers(txt)))"
   ],
   "metadata": {
    "collapsed": false,
    "ExecuteTime": {
     "end_time": "2025-03-11T08:13:25.237294500Z",
     "start_time": "2025-03-11T08:13:25.232337600Z"
    }
   },
   "id": "913b405bd29d8a45"
  },
  {
   "cell_type": "markdown",
   "source": [
    "Несмотря на то что код является рабочим и решает поставленную задачу, мы понимаем, что он не очень эффективный. Во-первых, с точки зрения расходуемой памяти, ведь нам приходится делать срезы по 12 символов. Если исходная строка будет очень большой, это может привести к проблемам нехватки памяти. Во-вторых, наш код жестко завязан на шаблон указанного телефонного номера. При малейшем изменении шаблона или его расширении (например, символ +7 в начале) вся логика кода ломается. Другими словами, наш код открыт для изменения, но закрыт для расширения."
   ],
   "metadata": {
    "collapsed": false
   },
   "id": "6b5b944e74a676c"
  },
  {
   "cell_type": "markdown",
   "source": [
    "Принцип открытости/закрытости — принцип ООП, устанавливающий следующее положение: программные сущности (классы, функции и т.д.) должны быть открыты для расширения, но закрыты для изменения."
   ],
   "metadata": {
    "collapsed": false
   },
   "id": "2e4d3b791a6b9527"
  },
  {
   "cell_type": "markdown",
   "source": [
    "Регулярные выражения"
   ],
   "metadata": {
    "collapsed": false
   },
   "id": "839800d81edc2e65"
  },
  {
   "cell_type": "markdown",
   "source": [
    "Регулярные выражения (regular expression, regex, регулярка) – это мощный способ обработки текста, позволяющий находить в строках подстроки по сложным условиям."
   ],
   "metadata": {
    "collapsed": false
   },
   "id": "b062b00e9e208e93"
  },
  {
   "cell_type": "markdown",
   "source": [
    "Чуть более формально, регулярное выражение — это строка, задающая шаблон поиска подстрок в тексте. Одному шаблону может соответствовать много разных строк. Регулярное выражение состоит из обычных символов и специальных командных последовательностей. Например, \\d задаёт любую цифру, а \\d+ — задает любую последовательность из одной или более цифр."
   ],
   "metadata": {
    "collapsed": false
   },
   "id": "8de3188212425d6e"
  },
  {
   "cell_type": "markdown",
   "source": [
    "Работа с регулярными выражениями реализована во всех современных языках программирования. Однако существует несколько диалектов, поэтому функционал регулярных выражений может различаться от языка к языку."
   ],
   "metadata": {
    "collapsed": false
   },
   "id": "2644d3bba9cc69d5"
  },
  {
   "cell_type": "markdown",
   "source": [
    "В некоторых языках программирования пользоваться регулярными выражениями очень удобно (например, Python), в некоторых — не слишком (например, C++)."
   ],
   "metadata": {
    "collapsed": false
   },
   "id": "650a0beb5547949c"
  },
  {
   "cell_type": "markdown",
   "source": [
    "Регулярные выражения обычно применяют для:\n",
    "\n",
    "поиска подстрок в строке\n",
    "разделения строки на подстроки\n",
    "замены части строки"
   ],
   "metadata": {
    "collapsed": false
   },
   "id": "bfae1f99d4771708"
  },
  {
   "cell_type": "markdown",
   "source": [
    "Приведем несколько примеров регулярных выражений:"
   ],
   "metadata": {
    "collapsed": false
   },
   "id": "c213b6944186558d"
  },
  {
   "cell_type": "code",
   "execution_count": 4,
   "outputs": [
    {
     "data": {
      "image/png": "[encoded data removed]",
      "text/plain": "<IPython.core.display.Image object>"
     },
     "metadata": {},
     "output_type": "display_data"
    }
   ],
   "source": [
    "from functions import picture\n",
    "picture('Без имцукенгени.png')"
   ],
   "metadata": {
    "collapsed": false,
    "ExecuteTime": {
     "end_time": "2025-03-11T08:18:19.136122500Z",
     "start_time": "2025-03-11T08:18:19.120252300Z"
    }
   },
   "id": "92e8c54707e8b9d7"
  },
  {
   "cell_type": "markdown",
   "source": [
    "Регулярные выражения позволяют очень компактно описывать текстовые шаблоны."
   ],
   "metadata": {
    "collapsed": false
   },
   "id": "93c2e55e05a85300"
  },
  {
   "cell_type": "markdown",
   "source": [
    "Например, указанный выше шаблон телефонного номера ddd-ddd-dddd (три цифры дефис три цифры дефис четыре цифры) можно описать регулярным выражением:"
   ],
   "metadata": {
    "collapsed": false
   },
   "id": "13836ee7ea9e1c8b"
  },
  {
   "cell_type": "markdown",
   "source": [
    "\\d\\d\\d-\\d\\d\\d-\\d\\d\\d\\d"
   ],
   "metadata": {
    "collapsed": false
   },
   "id": "224d07c7d5959b4c"
  },
  {
   "cell_type": "markdown",
   "source": [
    "или еще более компактной версией:"
   ],
   "metadata": {
    "collapsed": false
   },
   "id": "772f841a86fef828"
  },
  {
   "cell_type": "markdown",
   "source": [
    "\\d{3}-\\d{3}-\\d{4}"
   ],
   "metadata": {
    "collapsed": false
   },
   "id": "6edb811c4d7a02b2"
  },
  {
   "cell_type": "markdown",
   "source": [
    "Сырые строки и экранирование"
   ],
   "metadata": {
    "collapsed": false
   },
   "id": "e81b04168851cabe"
  },
  {
   "cell_type": "markdown",
   "source": [
    "В языке Python некоторые символы нужно экранировать, чтобы они воспринимались правильно. К таким символам относятся:\n",
    "\n",
    "обратный слэш \\\n",
    "одинарная кавычка '\n",
    "двойная кавычка \"\n",
    "и многие другие"
   ],
   "metadata": {
    "collapsed": false
   },
   "id": "705ca7bbb886e45e"
  },
  {
   "cell_type": "code",
   "execution_count": 5,
   "outputs": [
    {
     "name": "stdout",
     "output_type": "stream",
     "text": [
      "\\\n",
      "'\n",
      "\"\n"
     ]
    }
   ],
   "source": [
    "print('\\\\')\n",
    "print('\\'')\n",
    "print(\"\\\"\")"
   ],
   "metadata": {
    "collapsed": false,
    "ExecuteTime": {
     "end_time": "2025-03-11T08:21:11.336324900Z",
     "start_time": "2025-03-11T08:21:11.332040500Z"
    }
   },
   "id": "b4a398eb421aafbe"
  },
  {
   "cell_type": "markdown",
   "source": [
    "Экранированные последовательности — это последовательности, которые начинаются с символа \\, за которым следует один или более символов (\\\\, \\', \\\", \\n, \\t и т.д.)."
   ],
   "metadata": {
    "collapsed": false
   },
   "id": "458b279cad3d36d1"
  },
  {
   "cell_type": "markdown",
   "source": [
    "Чтобы написать правильно строку, в которой находятся два символа обратного слэша \\\\, оба символа надо экранировать, и в итоге получится строка вида \\\\\\\\. Вместо экранирования можно использовать сырые (raw) строки, и тогда каждый символ будет восприниматься так, как написан. Сырые строки отличаются от обычных тем, что при создании строки вначале пишется буква r."
   ],
   "metadata": {
    "collapsed": false
   },
   "id": "842560515084c8ed"
  },
  {
   "cell_type": "code",
   "execution_count": 6,
   "outputs": [
    {
     "name": "stdout",
     "output_type": "stream",
     "text": [
      "\\\\привет мир\n",
      "\\\\\\\\\n",
      "\\n\n",
      "\\t\n"
     ]
    }
   ],
   "source": [
    "print(r'\\\\привет мир')\n",
    "print(r'\\\\\\\\')\n",
    "print(r'\\n')\n",
    "print(r'\\t')"
   ],
   "metadata": {
    "collapsed": false,
    "ExecuteTime": {
     "end_time": "2025-03-11T08:22:13.163875800Z",
     "start_time": "2025-03-11T08:22:13.162268100Z"
    }
   },
   "id": "2bfa43bcc16e1414"
  },
  {
   "cell_type": "markdown",
   "source": [
    "Так как в регулярных выражениях часто используется символ обратного слэша \\, то рекомендуется использовать сырые строки для описания регулярных выражений. Некоторые выражения правильно отработают и без них, но использование сырых строк для регулярных выражений это хороший тон."
   ],
   "metadata": {
    "collapsed": false
   },
   "id": "6437227c8e0d1a0a"
  },
  {
   "cell_type": "markdown",
   "source": [
    "Примечания"
   ],
   "metadata": {
    "collapsed": false
   },
   "id": "1a7d3cca6a771195"
  },
  {
   "cell_type": "markdown",
   "source": [
    "Примечание 3. Термин регулярные выражения является переводом английского словосочетания regular expressions. Перевод не очень точно отражает смысл, правильнее было бы шаблонные выражения."
   ],
   "metadata": {
    "collapsed": false
   },
   "id": "315b86be8df9ccaf"
  },
  {
   "cell_type": "markdown",
   "source": [
    "Я в аду?\n",
    "Напишите программу, которая в заданном тексте находит все телефонные номера, соответствующие следующим форматам:\n",
    "\n",
    "7-ddd-ddd-dd-dd\n",
    "8-ddd-dddd-dddd\n",
    "где d — цифра от 0 до 9.\n",
    "\n",
    "Формат входных данных\n",
    "На вход программе подается строка произвольного содержания.\n",
    "\n",
    "Формат выходных данных\n",
    "Программа должна в введенном тексте найти все телефонные номера, соответствующие форматам, указанным в условии задачи, и вывести их в том порядке, в котором они были найдены, каждый на отдельной строке.\n",
    "\n",
    "Примечание 1. Задачу можно решить как с помощью регулярных выражений, так и без них. На данном этапе еще не был изучен модуль для решения с помощью регулярных выражений, поэтому рекомендованным способом является решение без них. При желании можно вернуться к задаче после изучения соответствующего модуля.\n",
    "\n",
    "Примечание 2. Тестовые данные доступны по ссылкам:"
   ],
   "metadata": {
    "collapsed": false
   },
   "id": "3d32e3f85661648a"
  },
  {
   "cell_type": "code",
   "execution_count": 63,
   "outputs": [
    {
     "name": "stdout",
     "output_type": "stream",
     "text": [
      "7-123-123-11-22\n",
      "8-123-1231-1221\n"
     ]
    }
   ],
   "source": [
    "from sys import stdin\n",
    "import re\n",
    "from  itertools import groupby, chain\n",
    "\n",
    "s = stdin.readline()\n",
    "# s = 'Перезвони мне, пожалуйста: 7-919-667-21-19'\n",
    "# s = 'Артур: +7-919-667-21-19, Анри: 7-hey-anri-anri, Тимур: 8-917-4864-1911'\n",
    "s = 'Тимур: 7-ddd-ddd-dd-dd, Сослан: 8-ddd-dddd-dddd, Артур: 7-123-123-11-22,,,, Дима: 8-123-123-11-22, Анри: 8-123-1231-1221...... Гвидо: 7-123-1231-1221, 7-123-13-181-22, 8-1237-131-1221'\n",
    "\n",
    "l = list()\n",
    "result1 = re.findall(r'7-\\d{3}-\\d{3}-\\d{2}-\\d{2}', s)\n",
    "l.append(result1)\n",
    "# print(*result1)\n",
    "result2 = re.findall(r'8-\\d{3}-\\d{4}-\\d{4}', s)\n",
    "l.append(result2)\n",
    "# print(*result2)\n",
    "# print(*l)\n",
    "unique = [key for key, _ in groupby(sorted(chain(*l)))]\n",
    "print(*unique, sep='\\n')"
   ],
   "metadata": {
    "collapsed": false,
    "ExecuteTime": {
     "end_time": "2025-03-11T08:59:33.771805200Z",
     "start_time": "2025-03-11T08:59:33.769790700Z"
    }
   },
   "id": "198b1b5e8d11e699"
  },
  {
   "cell_type": "markdown",
   "source": [
    "Поиск заданного текста"
   ],
   "metadata": {
    "collapsed": false
   },
   "id": "f65aa61713665c9c"
  },
  {
   "cell_type": "markdown",
   "source": [
    "Для создания регулярных выражений необходимо использовать специальный синтаксис. Любая строка текста сама по себе является регулярным выражением. Например, Timur – это регулярное выражение. Поскольку это просто текст, он ничем не напоминает регулярное выражение, однако он им таки является. Регулярные выражения могут содержать простой текст и могут даже состоять из простого текста."
   ],
   "metadata": {
    "collapsed": false
   },
   "id": "6516988fd5c360b9"
  },
  {
   "cell_type": "markdown",
   "source": [
    "Регулярному выражению:"
   ],
   "metadata": {
    "collapsed": false
   },
   "id": "a0c89011a29a0738"
  },
  {
   "cell_type": "markdown",
   "source": [
    "Timur"
   ],
   "metadata": {
    "collapsed": false
   },
   "id": "8c3c69a9491b62a"
  },
  {
   "cell_type": "markdown",
   "source": [
    "в тексте:"
   ],
   "metadata": {
    "collapsed": false
   },
   "id": "5f1170a284559371"
  },
  {
   "cell_type": "markdown",
   "source": [
    "Hello, my name is Timur. Please visit my website at https://stepik.org/org/pygen."
   ],
   "metadata": {
    "collapsed": false
   },
   "id": "c50dd802bf837c51"
  },
  {
   "cell_type": "markdown",
   "source": [
    "соответствует (выделено жирным шрифтом):"
   ],
   "metadata": {
    "collapsed": false
   },
   "id": "8c85c5850cd994f3"
  },
  {
   "cell_type": "markdown",
   "source": [
    "Hello, my name is Timur. Please visit my website at https://stepik.org/org/pygen."
   ],
   "metadata": {
    "collapsed": false
   },
   "id": "d5144d5239b665"
  },
  {
   "cell_type": "markdown",
   "source": [
    "Используемое здесь регулярное выражение – буквальный текст, и оно находит вхождение Timur в исходном тексте."
   ],
   "metadata": {
    "collapsed": false
   },
   "id": "38aa63557fb22eec"
  },
  {
   "cell_type": "markdown",
   "source": [
    "Регулярному выражению:"
   ],
   "metadata": {
    "collapsed": false
   },
   "id": "3374e3c47e6cddb5"
  },
  {
   "cell_type": "markdown",
   "source": [
    "is"
   ],
   "metadata": {
    "collapsed": false
   },
   "id": "32b9e39d993c861b"
  },
  {
   "cell_type": "markdown",
   "source": [
    "в тексте:"
   ],
   "metadata": {
    "collapsed": false
   },
   "id": "97dcf5f3177caa77"
  },
  {
   "cell_type": "markdown",
   "source": [
    "Hello, my name is Timur. Please visit my website at https://stepik.org/org/pygen."
   ],
   "metadata": {
    "collapsed": false
   },
   "id": "2ebd6f6c1a294ef9"
  },
  {
   "cell_type": "markdown",
   "source": [
    "соответствует (выделено жирным шрифтом):"
   ],
   "metadata": {
    "collapsed": false
   },
   "id": "7acfbc51be1c35f9"
  },
  {
   "cell_type": "markdown",
   "source": [
    "Hello, my name is Timur. Please visit my website at https://stepik.org/org/pygen."
   ],
   "metadata": {
    "collapsed": false
   },
   "id": "aa5ce52223a31876"
  },
  {
   "cell_type": "markdown",
   "source": [
    "Обратите внимание на то, что было найдено два вхождения is."
   ],
   "metadata": {
    "collapsed": false
   },
   "id": "3e031874151d1a65"
  },
  {
   "cell_type": "markdown",
   "source": [
    "Регулярные выражения сами по себе всегда ищут все вхождения. Модуль re, который будет изучен нами чуть позже, включает разные функции, и те, которые ищут только первое вхождение, и те которые возвращают список всех вхождений, соответствующих регулярному выражению."
   ],
   "metadata": {
    "collapsed": false
   },
   "id": "d64e50a758c32c3c"
  },
  {
   "cell_type": "markdown",
   "source": [
    "Регулярные выражения являются регистрозависимыми, то есть регулярному выражению Timur не будет соответствовать строка timur."
   ],
   "metadata": {
    "collapsed": false
   },
   "id": "4dc84ea2becbd6f9"
  },
  {
   "cell_type": "markdown",
   "source": [
    "Поиск любого символа"
   ],
   "metadata": {
    "collapsed": false
   },
   "id": "1745f32813eac738"
  },
  {
   "cell_type": "markdown",
   "source": [
    "С помощью регулярных выражений можно искать не только известный заранее (статический) текст, но и текст в котором есть неизвестные символы. Чтобы найти соответствие некоторому шаблону, в регулярных выражениях используются специальные символы (или наборы символов), которые называются метасимволами. Символ точка . соответствует одному любому символу."
   ],
   "metadata": {
    "collapsed": false
   },
   "id": "e50c34c06bc5b230"
  },
  {
   "cell_type": "markdown",
   "source": [
    "Регулярному выражению:"
   ],
   "metadata": {
    "collapsed": false
   },
   "id": "d13aa0ad9ba04dd"
  },
  {
   "cell_type": "markdown",
   "source": [
    "sales."
   ],
   "metadata": {
    "collapsed": false
   },
   "id": "f1a23df1f72f9a9"
  },
  {
   "cell_type": "markdown",
   "source": [
    "в тексте:"
   ],
   "metadata": {
    "collapsed": false
   },
   "id": "dbf54274dce929ea"
  },
  {
   "cell_type": "markdown",
   "source": [
    "sales1.csv\n",
    "orders3.csv\n",
    "sales2.csv\n",
    "sales3.csv\n",
    "apac1.csv\n",
    "europe2.csv\n",
    "na1.csv\n",
    "na2.csv\n",
    "sa1.csv"
   ],
   "metadata": {
    "collapsed": false
   },
   "id": "766b4fff65131a72"
  },
  {
   "cell_type": "markdown",
   "source": [
    "соответствует (выделено жирным шрифтом):"
   ],
   "metadata": {
    "collapsed": false
   },
   "id": "c5c4a5eb297687c6"
  },
  {
   "cell_type": "code",
   "execution_count": 64,
   "outputs": [
    {
     "data": {
      "image/png": "[encoded data removed]",
      "text/plain": "<IPython.core.display.Image object>"
     },
     "metadata": {},
     "output_type": "display_data"
    }
   ],
   "source": [
    "picture('Без иромени.png')"
   ],
   "metadata": {
    "collapsed": false,
    "ExecuteTime": {
     "end_time": "2025-03-11T09:18:37.330076600Z",
     "start_time": "2025-03-11T09:18:37.322029600Z"
    }
   },
   "id": "1b0f86ac843f26a"
  },
  {
   "cell_type": "markdown",
   "source": [
    "Регулярное выражение sales. позволяет найти все имена файлов, содержащие подстроку sales, за которой следует еще один произвольный символ. Ровно три файла из девяти соответствуют такому шаблону."
   ],
   "metadata": {
    "collapsed": false
   },
   "id": "2f495bd49f9d36b2"
  },
  {
   "cell_type": "markdown",
   "source": [
    "Обратите внимание на то, что регулярные выражения сопоставляют шаблоны строкам. Эти шаблоны не всегда будут совпадать со всей строкой, а только с теми символами, которые соответствуют шаблону, даже если они являются только частью строки."
   ],
   "metadata": {
    "collapsed": false
   },
   "id": "be9c4f0907c675d6"
  },
  {
   "cell_type": "markdown",
   "source": [
    "Таким образом, специальный символ . соответствует любому символу – символу алфавита, цифре и даже самому символу точки .."
   ],
   "metadata": {
    "collapsed": false
   },
   "id": "dbb9b6dc03561edc"
  },
  {
   "cell_type": "markdown",
   "source": [
    "Регулярному выражению:"
   ],
   "metadata": {
    "collapsed": false
   },
   "id": "91ce319b28f74f49"
  },
  {
   "cell_type": "markdown",
   "source": [
    "sales."
   ],
   "metadata": {
    "collapsed": false
   },
   "id": "7bf3b89595843a88"
  },
  {
   "cell_type": "markdown",
   "source": [
    "в тексте:"
   ],
   "metadata": {
    "collapsed": false
   },
   "id": "eb8a0c5d8ff1f04b"
  },
  {
   "cell_type": "markdown",
   "source": [
    "sales.csv\n",
    "sales1.csv\n",
    "orders3.csv\n",
    "sales2.csv\n",
    "sales3.csv\n",
    "apac1.csv\n",
    "europe2.csv\n",
    "na1.csv\n",
    "na2.csv\n",
    "sa1.csv"
   ],
   "metadata": {
    "collapsed": false
   },
   "id": "e12105713ec48e15"
  },
  {
   "cell_type": "markdown",
   "source": [
    "соответствует (выделено жирным шрифтом):\n",
    "\n",
    "sales.csv"
   ],
   "metadata": {
    "collapsed": false
   },
   "id": "a963e31a673be0e4"
  },
  {
   "cell_type": "code",
   "execution_count": 65,
   "outputs": [
    {
     "data": {
      "image/png": "[encoded data removed]",
      "text/plain": "<IPython.core.display.Image object>"
     },
     "metadata": {},
     "output_type": "display_data"
    }
   ],
   "source": [
    "picture('Без иghjhjiyuмени.png')"
   ],
   "metadata": {
    "collapsed": false,
    "ExecuteTime": {
     "end_time": "2025-03-11T09:21:23.495155900Z",
     "start_time": "2025-03-11T09:21:23.487036200Z"
    }
   },
   "id": "f16d4b5a78cc4405"
  },
  {
   "cell_type": "markdown",
   "source": [
    "Этот пример содержит один дополнительный файл sales.csv. Файл был найден с помощью регулярного выражения sales., поскольку специальный символ . находит любой символ."
   ],
   "metadata": {
    "collapsed": false
   },
   "id": "fcf9aa78405435b9"
  },
  {
   "cell_type": "markdown",
   "source": [
    "В регулярном выражении можно использовать несколько символов ., либо вместе (регулярное выражение .. будет соответствовать любым двум символам друг рядом с другом), либо в различных местах."
   ],
   "metadata": {
    "collapsed": false
   },
   "id": "da8338950bdf971d"
  },
  {
   "cell_type": "markdown",
   "source": [
    "Регулярному выражению:"
   ],
   "metadata": {
    "collapsed": false
   },
   "id": "13a531183c54805c"
  },
  {
   "cell_type": "markdown",
   "source": [
    ".a."
   ],
   "metadata": {
    "collapsed": false
   },
   "id": "8cfc99a3cffc8242"
  },
  {
   "cell_type": "markdown",
   "source": [
    "в тексте:"
   ],
   "metadata": {
    "collapsed": false
   },
   "id": "1028b6ee2ff40c0"
  },
  {
   "cell_type": "markdown",
   "source": [
    "sales1.csv\n",
    "orders3.csv\n",
    "sales2.csv\n",
    "sales3.csv\n",
    "apac1.csv\n",
    "europe2.csv\n",
    "na1.csv\n",
    "na2.csv\n",
    "sa1.csv"
   ],
   "metadata": {
    "collapsed": false
   },
   "id": "204d804a50ad062a"
  },
  {
   "cell_type": "markdown",
   "source": [
    "соответствует (выделено жирным шрифтом):"
   ],
   "metadata": {
    "collapsed": false
   },
   "id": "9e56461551b226a"
  },
  {
   "cell_type": "code",
   "execution_count": 66,
   "outputs": [
    {
     "data": {
      "image/png": "[encoded data removed]",
      "text/plain": "<IPython.core.display.Image object>"
     },
     "metadata": {},
     "output_type": "display_data"
    }
   ],
   "source": [
    "picture('Без имеerни.png')"
   ],
   "metadata": {
    "collapsed": false,
    "ExecuteTime": {
     "end_time": "2025-03-11T09:22:39.950807900Z",
     "start_time": "2025-03-11T09:22:39.943736900Z"
    }
   },
   "id": "93284064df17d6c8"
  },
  {
   "cell_type": "markdown",
   "source": [
    "Если мы хотим найти все файлы только для Северной Америки (na) и Южной Америки (sa) независимо от того, какая цифра следует после этих сокращений, то нам нужно немного изменить регулярное выражение. Необходимо регулярное выражение .a. за которым следует точка."
   ],
   "metadata": {
    "collapsed": false
   },
   "id": "6edd7875864231d6"
  },
  {
   "cell_type": "markdown",
   "source": [
    "Регулярному выражению:"
   ],
   "metadata": {
    "collapsed": false
   },
   "id": "362a99172fee8c1"
  },
  {
   "cell_type": "markdown",
   "source": [
    ".a.."
   ],
   "metadata": {
    "collapsed": false
   },
   "id": "6080b984e0ac1c9b"
  },
  {
   "cell_type": "markdown",
   "source": [
    "в тексте:"
   ],
   "metadata": {
    "collapsed": false
   },
   "id": "18c94c3978cb54b"
  },
  {
   "cell_type": "markdown",
   "source": [
    "sales1.csv\n",
    "orders3.csv\n",
    "sales2.csv\n",
    "sales3.csv\n",
    "apac1.csv\n",
    "europe2.csv\n",
    "na1.csv\n",
    "na2.csv\n",
    "sa1.csv"
   ],
   "metadata": {
    "collapsed": false
   },
   "id": "c8087054d6f7065"
  },
  {
   "cell_type": "markdown",
   "source": [
    "соответствует (выделено жирным шрифтом):"
   ],
   "metadata": {
    "collapsed": false
   },
   "id": "49ef96217b5f5a23"
  },
  {
   "cell_type": "code",
   "execution_count": 67,
   "outputs": [
    {
     "data": {
      "image/png": "[encoded data removed]",
      "text/plain": "<IPython.core.display.Image object>"
     },
     "metadata": {},
     "output_type": "display_data"
    }
   ],
   "source": [
    "picture('Без иqwмени.png')"
   ],
   "metadata": {
    "collapsed": false,
    "ExecuteTime": {
     "end_time": "2025-03-11T09:23:45.469147600Z",
     "start_time": "2025-03-11T09:23:45.463179100Z"
    }
   },
   "id": "39800144cd366150"
  },
  {
   "cell_type": "markdown",
   "source": [
    "Несложно заметить, что регулярное выражение .a.. работает нисколько не лучше, чем .a., поскольку добавленная точка соответствует любому символу."
   ],
   "metadata": {
    "collapsed": false
   },
   "id": "d3bdccac6490d8f3"
  },
  {
   "cell_type": "markdown",
   "source": [
    "Поиск символа точки"
   ],
   "metadata": {
    "collapsed": false
   },
   "id": "445194f9dee00269"
  },
  {
   "cell_type": "markdown",
   "source": [
    "Точка . имеет специальное значение в регулярных выражениях. Если в регулярном выражении нужен сам символ точки ., то ее необходимо экранировать. Для этого необходимо предварить точку символом обратного слэша \\."
   ],
   "metadata": {
    "collapsed": false
   },
   "id": "29061bcdedd5bb71"
  },
  {
   "cell_type": "markdown",
   "source": [
    "В регулярных выражениях точка . соответствует любому символу, а обратный слэш с точкой \\. соответствует только самому символу точки .."
   ],
   "metadata": {
    "collapsed": false
   },
   "id": "dffd7c3ec59e1321"
  },
  {
   "cell_type": "markdown",
   "source": [
    "Регулярному выражению:"
   ],
   "metadata": {
    "collapsed": false
   },
   "id": "405c3c0d98f983ce"
  },
  {
   "cell_type": "markdown",
   "source": [
    ".a.\\.csv"
   ],
   "metadata": {
    "collapsed": false
   },
   "id": "77b1f3fca0976a52"
  },
  {
   "cell_type": "markdown",
   "source": [
    "в тексте:"
   ],
   "metadata": {
    "collapsed": false
   },
   "id": "4121fc8a669ba39e"
  },
  {
   "cell_type": "markdown",
   "source": [
    "sales1.csv\n",
    "orders3.csv\n",
    "sales2.csv\n",
    "sales3.csv\n",
    "apac1.csv\n",
    "europe2.csv\n",
    "na1.csv\n",
    "na2.csv\n",
    "sa1.csv"
   ],
   "metadata": {
    "collapsed": false
   },
   "id": "65319da0a2f6ace6"
  },
  {
   "cell_type": "markdown",
   "source": [
    "соответствует (выделено жирным шрифтом):"
   ],
   "metadata": {
    "collapsed": false
   },
   "id": "e0fd26bd3b1f2233"
  },
  {
   "cell_type": "code",
   "execution_count": 68,
   "outputs": [
    {
     "data": {
      "image/png": "[encoded data removed]",
      "text/plain": "<IPython.core.display.Image object>"
     },
     "metadata": {},
     "output_type": "display_data"
    }
   ],
   "source": [
    "picture('Без имghени.png')"
   ],
   "metadata": {
    "collapsed": false,
    "ExecuteTime": {
     "end_time": "2025-03-11T09:25:12.898871700Z",
     "start_time": "2025-03-11T09:25:12.893555900Z"
    }
   },
   "id": "e550023636c27947"
  },
  {
   "cell_type": "markdown",
   "source": [
    "Первый символ . в регулярном выражении .a.\\.csv соответствует символу n (в первых двух вхождениях) или символу s (в третьем вхождении). Второй символ . соответствует символу 1 (в первом и третьем вхождениях) или символу 2 (во втором вхождении). Последовательность символов \\. соответствует точке ., отделяющей имя файла от расширения, а последовательность символов csv соответствует самой себе."
   ],
   "metadata": {
    "collapsed": false
   },
   "id": "c172bf80b440c7d4"
  },
  {
   "cell_type": "markdown",
   "source": [
    "Если в регулярном выражении нужен символ \\, то его также нужно экранировать \\\\."
   ],
   "metadata": {
    "collapsed": false
   },
   "id": "5a1807c6c410e5c3"
  },
  {
   "cell_type": "markdown",
   "source": [
    "Поиск цифр"
   ],
   "metadata": {
    "collapsed": false
   },
   "id": "341730f6aa7ef1b6"
  },
  {
   "cell_type": "markdown",
   "source": [
    "Как уже было сказано, метасимволы – это символы, которые имеют специальное значение в регулярных выражениях.\n",
    "\n",
    "Для поиска любой цифры от 0 до 9 используется метасимвол \\d."
   ],
   "metadata": {
    "collapsed": false
   },
   "id": "12e321d24302ff8"
  },
  {
   "cell_type": "markdown",
   "source": [
    "Регулярному выражению:"
   ],
   "metadata": {
    "collapsed": false
   },
   "id": "b1445b0d2e777338"
  },
  {
   "cell_type": "markdown",
   "source": [
    "..\\d"
   ],
   "metadata": {
    "collapsed": false
   },
   "id": "d12884a79bdcadd1"
  },
  {
   "cell_type": "markdown",
   "source": [
    "в тексте:"
   ],
   "metadata": {
    "collapsed": false
   },
   "id": "2d67b11ab46a7e80"
  },
  {
   "cell_type": "markdown",
   "source": [
    "sales.csv\n",
    "sales1.csv\n",
    "orders3.csv\n",
    "sales2.csv\n",
    "sales3.csv\n",
    "apac1.csv\n",
    "europe2.csv\n",
    "na1.csv\n",
    "na2.csv\n",
    "sa1.csv"
   ],
   "metadata": {
    "collapsed": false
   },
   "id": "fdf21b3d036b2f29"
  },
  {
   "cell_type": "markdown",
   "source": [
    "соответствует (выделено жирным шрифтом):"
   ],
   "metadata": {
    "collapsed": false
   },
   "id": "3f0260d195cf90ab"
  },
  {
   "cell_type": "code",
   "execution_count": 69,
   "outputs": [
    {
     "data": {
      "image/png": "[encoded data removed]",
      "text/plain": "<IPython.core.display.Image object>"
     },
     "metadata": {},
     "output_type": "display_data"
    }
   ],
   "source": [
    "picture('Без именasи.png')"
   ],
   "metadata": {
    "collapsed": false,
    "ExecuteTime": {
     "end_time": "2025-03-11T09:26:58.173465900Z",
     "start_time": "2025-03-11T09:26:58.166350700Z"
    }
   },
   "id": "82045dddd80c2f96"
  },
  {
   "cell_type": "markdown",
   "source": [
    "Для поиска любого нецифрового символа используется метасимвол \\D."
   ],
   "metadata": {
    "collapsed": false
   },
   "id": "4d64d6d2ff7d8acd"
  },
  {
   "cell_type": "markdown",
   "source": [
    "Регулярному выражению:"
   ],
   "metadata": {
    "collapsed": false
   },
   "id": "8a35027747f4fa"
  },
  {
   "cell_type": "markdown",
   "source": [
    "e\\D"
   ],
   "metadata": {
    "collapsed": false
   },
   "id": "946aee9621fc355f"
  },
  {
   "cell_type": "markdown",
   "source": [
    "в тексте:"
   ],
   "metadata": {
    "collapsed": false
   },
   "id": "c3dc3a8755d9ee6f"
  },
  {
   "cell_type": "markdown",
   "source": [
    "sales.csv\n",
    "sales1.csv\n",
    "orders3.csv\n",
    "sales2.csv\n",
    "sales3.csv\n",
    "apac1.csv\n",
    "europe2.csv\n",
    "na1.csv\n",
    "na2.csv\n",
    "sa1.csv"
   ],
   "metadata": {
    "collapsed": false
   },
   "id": "9fe9bb35782b04aa"
  },
  {
   "cell_type": "markdown",
   "source": [
    "соответствует (выделено жирным шрифтом):"
   ],
   "metadata": {
    "collapsed": false
   },
   "id": "e2b3dcc969132792"
  },
  {
   "cell_type": "code",
   "execution_count": 70,
   "outputs": [
    {
     "data": {
      "image/png": "[encoded data removed]",
      "text/plain": "<IPython.core.display.Image object>"
     },
     "metadata": {},
     "output_type": "display_data"
    }
   ],
   "source": [
    "picture('Без имjhgfени.png')"
   ],
   "metadata": {
    "collapsed": false,
    "ExecuteTime": {
     "end_time": "2025-03-11T09:27:52.792624800Z",
     "start_time": "2025-03-11T09:27:52.785690Z"
    }
   },
   "id": "7b8aad877767b21"
  },
  {
   "cell_type": "markdown",
   "source": [
    "Поиск пробельных символов"
   ],
   "metadata": {
    "collapsed": false
   },
   "id": "b04b34f0acbc3ea0"
  },
  {
   "cell_type": "markdown",
   "source": [
    "Для поиска пробельного символа (пробел, табуляция, конец строки) используется метасимвол \\s."
   ],
   "metadata": {
    "collapsed": false
   },
   "id": "b860f89c9fde86e2"
  },
  {
   "cell_type": "markdown",
   "source": [
    "Регулярному выражению:"
   ],
   "metadata": {
    "collapsed": false
   },
   "id": "447d91235efaed77"
  },
  {
   "cell_type": "markdown",
   "source": [
    ".\\s."
   ],
   "metadata": {
    "collapsed": false
   },
   "id": "9ffa4589b827141a"
  },
  {
   "cell_type": "markdown",
   "source": [
    "в тексте:"
   ],
   "metadata": {
    "collapsed": false
   },
   "id": "bed045686e17e81c"
  },
  {
   "cell_type": "markdown",
   "source": [
    "привет, наконец начали изучать регулярные выражения."
   ],
   "metadata": {
    "collapsed": false
   },
   "id": "b7375d7364be6a58"
  },
  {
   "cell_type": "markdown",
   "source": [
    "соответствует (выделено жирным шрифтом):"
   ],
   "metadata": {
    "collapsed": false
   },
   "id": "860b0b76f1f5021f"
  },
  {
   "cell_type": "code",
   "execution_count": 71,
   "outputs": [
    {
     "data": {
      "image/png": "[encoded data removed]",
      "text/plain": "<IPython.core.display.Image object>"
     },
     "metadata": {},
     "output_type": "display_data"
    }
   ],
   "source": [
    "picture('Без имеlkjи.png')"
   ],
   "metadata": {
    "collapsed": false,
    "ExecuteTime": {
     "end_time": "2025-03-11T09:29:07.009055300Z",
     "start_time": "2025-03-11T09:29:07.000971800Z"
    }
   },
   "id": "d1bf7be1c067eb18"
  },
  {
   "cell_type": "markdown",
   "source": [
    "Для поиска любого непробельного символа используется метасимвол \\S."
   ],
   "metadata": {
    "collapsed": false
   },
   "id": "d125a874e7359f20"
  },
  {
   "cell_type": "markdown",
   "source": [
    "Регулярному выражению:"
   ],
   "metadata": {
    "collapsed": false
   },
   "id": "72830d57a058626f"
  },
  {
   "cell_type": "markdown",
   "source": [
    "к\\S\\S"
   ],
   "metadata": {
    "collapsed": false
   },
   "id": "dd180f38d3dd9131"
  },
  {
   "cell_type": "markdown",
   "source": [
    "в тексте:"
   ],
   "metadata": {
    "collapsed": false
   },
   "id": "55b61091b5893db3"
  },
  {
   "cell_type": "markdown",
   "source": [
    "Математик, учитель, написание нового курса скорррро."
   ],
   "metadata": {
    "collapsed": false
   },
   "id": "256012459fccdf0f"
  },
  {
   "cell_type": "markdown",
   "source": [
    "соответствует (выделено жирным шрифтом):"
   ],
   "metadata": {
    "collapsed": false
   },
   "id": "3af13a2152ef3c90"
  },
  {
   "cell_type": "code",
   "execution_count": 72,
   "outputs": [
    {
     "data": {
      "image/png": "[encoded data removed]",
      "text/plain": "<IPython.core.display.Image object>"
     },
     "metadata": {},
     "output_type": "display_data"
    }
   ],
   "source": [
    "picture('Без edeимени.png')"
   ],
   "metadata": {
    "collapsed": false,
    "ExecuteTime": {
     "end_time": "2025-03-11T09:30:02.988726700Z",
     "start_time": "2025-03-11T09:30:02.979176300Z"
    }
   },
   "id": "59d8b2c1d35f4f92"
  },
  {
   "cell_type": "markdown",
   "source": [
    "Поиск алфавитно-цифровых символов"
   ],
   "metadata": {
    "collapsed": false
   },
   "id": "5197a847e4a2b4d6"
  },
  {
   "cell_type": "markdown",
   "source": [
    "Есть еще один часто используемый набор – буквы (в верхнем и нижнем регистре), цифры и символ подчеркивания.\n",
    "\n",
    "Для поиска таких символов используется метасимвол \\w."
   ],
   "metadata": {
    "collapsed": false
   },
   "id": "c20b4ef3b57cc8a4"
  },
  {
   "cell_type": "markdown",
   "source": [
    "Регулярному выражению:"
   ],
   "metadata": {
    "collapsed": false
   },
   "id": "d3625fd4b0797980"
  },
  {
   "cell_type": "markdown",
   "source": [
    "\\w\\w\\w\\w"
   ],
   "metadata": {
    "collapsed": false
   },
   "id": "7c362e338f08c397"
  },
  {
   "cell_type": "markdown",
   "source": [
    "в тексте:"
   ],
   "metadata": {
    "collapsed": false
   },
   "id": "5ca1253ddb4c5d2b"
  },
  {
   "cell_type": "markdown",
   "source": [
    "_xy_\n",
    "1234\n",
    "geek\n",
    "-xy-\n",
    "Code\n",
    "a1b2"
   ],
   "metadata": {
    "collapsed": false
   },
   "id": "ad7e0fb7022e919b"
  },
  {
   "cell_type": "markdown",
   "source": [
    "соответствует (выделено жирным шрифтом):"
   ],
   "metadata": {
    "collapsed": false
   },
   "id": "af352af92ac85dce"
  },
  {
   "cell_type": "code",
   "execution_count": 73,
   "outputs": [
    {
     "data": {
      "image/png": "[encoded data removed]",
      "text/plain": "<IPython.core.display.Image object>"
     },
     "metadata": {},
     "output_type": "display_data"
    }
   ],
   "source": [
    "picture('Без и1мени.png')"
   ],
   "metadata": {
    "collapsed": false,
    "ExecuteTime": {
     "end_time": "2025-03-11T09:32:07.803451800Z",
     "start_time": "2025-03-11T09:32:07.795157500Z"
    }
   },
   "id": "e45102772dd27b14"
  },
  {
   "cell_type": "markdown",
   "source": [
    "Для поиска символов, не являющихся буквой, цифрой и подчёркиванием используется метасимвол \\W"
   ],
   "metadata": {
    "collapsed": false
   },
   "id": "8ef131b69de05462"
  },
  {
   "cell_type": "markdown",
   "source": [
    "Регулярному выражению:"
   ],
   "metadata": {
    "collapsed": false
   },
   "id": "578b182acc9e6141"
  },
  {
   "cell_type": "markdown",
   "source": [
    "\\w\\W\\W\\w"
   ],
   "metadata": {
    "collapsed": false
   },
   "id": "45a05652d57a4220"
  },
  {
   "cell_type": "markdown",
   "source": [
    "в тексте:"
   ],
   "metadata": {
    "collapsed": false
   },
   "id": "10ac09cdcf64afe"
  },
  {
   "cell_type": "markdown",
   "source": [
    "x!?y\n",
    "a..b\n",
    "geek\n",
    "1+-2\n",
    "1234\n",
    "x__y"
   ],
   "metadata": {
    "collapsed": false
   },
   "id": "a0ebe7e81c2ec6e"
  },
  {
   "cell_type": "markdown",
   "source": [
    "соответствует (выделено жирным шрифтом):"
   ],
   "metadata": {
    "collapsed": false
   },
   "id": "72dd3c0039b22411"
  },
  {
   "cell_type": "code",
   "execution_count": 74,
   "outputs": [
    {
     "data": {
      "image/png": "[encoded data removed]",
      "text/plain": "<IPython.core.display.Image object>"
     },
     "metadata": {},
     "output_type": "display_data"
    }
   ],
   "source": [
    "picture('Без имен7и.png')"
   ],
   "metadata": {
    "collapsed": false,
    "ExecuteTime": {
     "end_time": "2025-03-11T09:32:56.476191800Z",
     "start_time": "2025-03-11T09:32:56.466617900Z"
    }
   },
   "id": "d778bef89b33caff"
  },
  {
   "cell_type": "markdown",
   "source": [
    "Примечания"
   ],
   "metadata": {
    "collapsed": false
   },
   "id": "b48183ffe9ae1fca"
  },
  {
   "cell_type": "markdown",
   "source": [
    "Примечание 1. Так же, как и в Python, в регулярных выражениях выражение \\n соответствует концу строки, а \\t — табуляции."
   ],
   "metadata": {
    "collapsed": false
   },
   "id": "600fc6d7bd813935"
  },
  {
   "cell_type": "markdown",
   "source": [
    "Примечание 3. Как правило, в регулярных выражениях точке . соответствует любой символ. Однако в большинстве реализаций регулярных выражений точке . соответствует любой символ, кроме символа новой строки (\\n)."
   ],
   "metadata": {
    "collapsed": false
   },
   "id": "6d5ec7b50d269e45"
  },
  {
   "cell_type": "markdown",
   "source": [
    "Примечание 4. Сайт https://regex101.com/ для отладки регулярных выражений доступен по ссылке (не забудьте поставить галочку Python в разделе FLAVOR слева)."
   ],
   "metadata": {
    "collapsed": false
   },
   "id": "4afe534eb454c576"
  },
  {
   "cell_type": "code",
   "execution_count": 75,
   "outputs": [
    {
     "data": {
      "text/plain": "['alias', 'abyss']"
     },
     "execution_count": 75,
     "metadata": {},
     "output_type": "execute_result"
    }
   ],
   "source": [
    "import re\n",
    "re.findall('a...s', \"Let's write a couple of words with the letter a: alias, apple, abyss, angle\")"
   ],
   "metadata": {
    "collapsed": false,
    "ExecuteTime": {
     "end_time": "2025-03-11T10:33:12.504358Z",
     "start_time": "2025-03-11T10:33:12.495806500Z"
    }
   },
   "id": "d8275d257fff8bf9"
  },
  {
   "cell_type": "markdown",
   "source": [
    "Задачи на регулярное выражение"
   ],
   "metadata": {
    "collapsed": false
   },
   "id": "3893025bf125047"
  },
  {
   "cell_type": "markdown",
   "source": [
    "Перед тем как вы приступите к представленным упражнениям, мы бы хотели немного рассказать о задачах, в которых требуется написать регулярное выражение. Рассмотрим пару таких задач и дадим несколько комментариев относительно их оформления."
   ],
   "metadata": {
    "collapsed": false
   },
   "id": "25a844279ed8f824"
  },
  {
   "cell_type": "markdown",
   "source": [
    "Задача 1. Дополните приведенный ниже код, чтобы переменная regex содержала регулярное выражение, которому соответствует строка Hello."
   ],
   "metadata": {
    "collapsed": false
   },
   "id": "94d5c49dec07a4c3"
  },
  {
   "cell_type": "code",
   "execution_count": null,
   "outputs": [],
   "source": [
    "regex = r''"
   ],
   "metadata": {
    "collapsed": false
   },
   "id": "3eeb198f8929ad64"
  },
  {
   "cell_type": "markdown",
   "source": [
    "Решение. В задаче требуется реализовать регулярное выражение и присвоить его переменной regex. Регулярное выражение, которому соответствует строка Hello представляет собой саму строку Hello. "
   ],
   "metadata": {
    "collapsed": false
   },
   "id": "918554ba0c208e0b"
  },
  {
   "cell_type": "markdown",
   "source": [
    "Итак, наше регулярное выражение имеет вид:"
   ],
   "metadata": {
    "collapsed": false
   },
   "id": "b9bcfdd7e9c47267"
  },
  {
   "cell_type": "code",
   "execution_count": null,
   "outputs": [],
   "source": [
    "regex = r'Hello'"
   ],
   "metadata": {
    "collapsed": false
   },
   "id": "f703914a757679fc"
  },
  {
   "cell_type": "markdown",
   "source": [
    "Приведенный выше код является ответом на задачу, и именно его следует вставить в окошко ввода. Дополнительно считывать\\выводить данные не нужно, требуется лишь реализовать регулярное выражение и присвоить его указанной переменной."
   ],
   "metadata": {
    "collapsed": false
   },
   "id": "be31a4ee51f4cb38"
  },
  {
   "cell_type": "markdown",
   "source": [
    "Задача 2. Дополните приведенный ниже код, чтобы переменная regex содержала регулярное выражение, которому соответствуют трехсимвольные цифровые последовательности."
   ],
   "metadata": {
    "collapsed": false
   },
   "id": "875394600b847a29"
  },
  {
   "cell_type": "code",
   "execution_count": null,
   "outputs": [],
   "source": [
    "regex = r''"
   ],
   "metadata": {
    "collapsed": false
   },
   "id": "64bc5e02c5497df1"
  },
  {
   "cell_type": "markdown",
   "source": [
    "Решение. В задаче требуется реализовать регулярное выражение и присвоить его переменной regex. Для решения воспользуемся метасимволом \\d, соответствующим любой цифре."
   ],
   "metadata": {
    "collapsed": false
   },
   "id": "7fb135960a53e098"
  },
  {
   "cell_type": "code",
   "execution_count": null,
   "outputs": [],
   "source": [
    "regex = r'\\d\\d\\d'"
   ],
   "metadata": {
    "collapsed": false
   },
   "id": "970d9d9510ef1ac4"
  },
  {
   "cell_type": "markdown",
   "source": [
    "Дополните приведенный ниже код, чтобы переменная regex содержала регулярное выражение, которому соответствует строка beegeek."
   ],
   "metadata": {
    "collapsed": false
   },
   "id": "cef8a92914ee89c5"
  },
  {
   "cell_type": "code",
   "execution_count": null,
   "outputs": [],
   "source": [
    "regex = r'beegeek'"
   ],
   "metadata": {
    "collapsed": false
   },
   "id": "969e0d0175022815"
  },
  {
   "cell_type": "markdown",
   "source": [
    "Дополните приведенный ниже код, чтобы переменная regex содержала регулярное выражение, которому соответствуют последовательности формата xxx.xxx, где x — любой символ."
   ],
   "metadata": {
    "collapsed": false
   },
   "id": "ca5b735b1331fe0"
  },
  {
   "cell_type": "code",
   "execution_count": null,
   "outputs": [],
   "source": [
    "regex = r'...\\....'"
   ],
   "metadata": {
    "collapsed": false
   },
   "id": "58ff450f13687fbd"
  },
  {
   "cell_type": "markdown",
   "source": [
    "Дополните приведенный ниже код, чтобы переменная regex содержала регулярное выражение, которому соответствуют последовательности цифр, представляющие целые числа от 100 до 199 включительно."
   ],
   "metadata": {
    "collapsed": false
   },
   "id": "762a0c0b9316c18e"
  },
  {
   "cell_type": "code",
   "execution_count": null,
   "outputs": [],
   "source": [
    "regex = r'1\\d\\d'"
   ],
   "metadata": {
    "collapsed": false
   },
   "id": "786e06898312dcc7"
  },
  {
   "cell_type": "markdown",
   "source": [
    "Дополните приведенный ниже код, чтобы переменная regex содержала регулярное выражение, которому соответствуют телефонные номера формата xxx-xxx-xxxx, где x — произвольная цифра."
   ],
   "metadata": {
    "collapsed": false
   },
   "id": "321483b7018f1309"
  },
  {
   "cell_type": "code",
   "execution_count": null,
   "outputs": [],
   "source": [
    "regex = r'\\d{3}-\\d{3}-\\d{4}'"
   ],
   "metadata": {
    "collapsed": false
   },
   "id": "d659422f4e035ac7"
  }
 ],
 "metadata": {
  "kernelspec": {
   "display_name": "Python 3",
   "language": "python",
   "name": "python3"
  },
  "language_info": {
   "codemirror_mode": {
    "name": "ipython",
    "version": 2
   },
   "file_extension": ".py",
   "mimetype": "text/x-python",
   "name": "python",
   "nbconvert_exporter": "python",
   "pygments_lexer": "ipython2",
   "version": "2.7.6"
  }
 },
 "nbformat": 4,
 "nbformat_minor": 5
}

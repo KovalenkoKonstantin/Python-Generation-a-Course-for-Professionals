{
 "cells": [
  {
   "cell_type": "markdown",
   "source": [
    "Тема урока: регулярные выражения\n",
    "Соответствие одному из нескольких символов\n",
    "Использование диапазона набора символов\n",
    "Соответствие с чем угодно, кроме\n",
    "Соответствие одному из нескольких регулярных выражений"
   ],
   "metadata": {
    "collapsed": false
   },
   "id": "9eb99c15d397d332"
  },
  {
   "cell_type": "markdown",
   "source": [
    "Соответствие одному из нескольких символов"
   ],
   "metadata": {
    "collapsed": false
   },
   "id": "452295028042366f"
  }
 ],
 "metadata": {
  "kernelspec": {
   "display_name": "Python 3",
   "language": "python",
   "name": "python3"
  },
  "language_info": {
   "codemirror_mode": {
    "name": "ipython",
    "version": 2
   },
   "file_extension": ".py",
   "mimetype": "text/x-python",
   "name": "python",
   "nbconvert_exporter": "python",
   "pygments_lexer": "ipython2",
   "version": "2.7.6"
  }
 },
 "nbformat": 4,
 "nbformat_minor": 5
}

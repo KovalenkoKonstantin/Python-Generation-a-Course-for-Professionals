{
 "cells": [
  {
   "cell_type": "markdown",
   "source": [
    "Тема урока: регулярные выражения\n",
    "Соответствие одному из нескольких символов\n",
    "Использование диапазона набора символов\n",
    "Соответствие с чем угодно, кроме\n",
    "Соответствие одному из нескольких регулярных выражений"
   ],
   "metadata": {
    "collapsed": false
   },
   "id": "9eb99c15d397d332"
  },
  {
   "cell_type": "markdown",
   "source": [
    "Соответствие одному из нескольких символов"
   ],
   "metadata": {
    "collapsed": false
   },
   "id": "452295028042366f"
  },
  {
   "cell_type": "markdown",
   "source": [
    "Как мы уже знаем, точке . соответствует один произвольный символ, однако на практике часто требуется искать конкретные символы. В регулярных выражениях набор символов определяется с помощью метасимволов [ и ]. Метасимволы [ и ] определяют набор допустимых символов."
   ],
   "metadata": {
    "collapsed": false
   },
   "id": "dbb410ea2080bc53"
  },
  {
   "cell_type": "markdown",
   "source": [
    "Регулярному выражению:"
   ],
   "metadata": {
    "collapsed": false
   },
   "id": "15bf0f27ba8ab6f0"
  },
  {
   "cell_type": "markdown",
   "source": [
    "[ns]a.\\.csv"
   ],
   "metadata": {
    "collapsed": false
   },
   "id": "facbe8ae57223e90"
  },
  {
   "cell_type": "markdown",
   "source": [
    "в тексте:"
   ],
   "metadata": {
    "collapsed": false
   },
   "id": "f03bf15ae6e9e35a"
  },
  {
   "cell_type": "markdown",
   "source": [
    "sales1.csv\n",
    "orders3.csv\n",
    "sales2.csv\n",
    "sales3.csv\n",
    "apac1.csv\n",
    "europe2.csv\n",
    "sam.csv\n",
    "na1.csv\n",
    "na2.csv\n",
    "sa1.csv\n",
    "ca1.csv"
   ],
   "metadata": {
    "collapsed": false
   },
   "id": "c0b65da58f03e024"
  },
  {
   "cell_type": "markdown",
   "source": [
    "соответствует (выделено жирным шрифтом):"
   ],
   "metadata": {
    "collapsed": false
   },
   "id": "1d552510a0fed4ce"
  },
  {
   "cell_type": "code",
   "execution_count": 1,
   "outputs": [
    {
     "data": {
      "image/png": "[encoded data removed]",
      "text/plain": "<IPython.core.display.Image object>"
     },
     "metadata": {},
     "output_type": "display_data"
    }
   ],
   "source": [
    "from functions import picture\n",
    "picture('Без имепарни.png')"
   ],
   "metadata": {
    "collapsed": false,
    "ExecuteTime": {
     "end_time": "2025-03-11T11:36:14.324351100Z",
     "start_time": "2025-03-11T11:36:14.315809400Z"
    }
   },
   "id": "f7178e7fb43d8fd2"
  },
  {
   "cell_type": "markdown",
   "source": [
    "Используемое здесь регулярное выражение начинается с [ns], которое соответствует либо символу n, либо символу s. Символы [ и ] не соответствуют никаким символам, они определяют набор. Символ a соответствует a, точке . соответствует любой символ, наклонной черте с точкой \\. соответствует символ ., а последовательности символов csv соответствует csv."
   ],
   "metadata": {
    "collapsed": false
   },
   "id": "ff343f1ff30610fa"
  },
  {
   "cell_type": "markdown",
   "source": [
    "Наборы символов часто используются для выполнения поиска, не зависящего от регистра."
   ],
   "metadata": {
    "collapsed": false
   },
   "id": "64378305192075e5"
  },
  {
   "cell_type": "markdown",
   "source": [
    "Регулярному выражению:"
   ],
   "metadata": {
    "collapsed": false
   },
   "id": "fd944aea725b2d19"
  },
  {
   "cell_type": "markdown",
   "source": [
    "[Rr]eg[Ee]x"
   ],
   "metadata": {
    "collapsed": false
   },
   "id": "fccec62f379e24c1"
  },
  {
   "cell_type": "markdown",
   "source": [
    "в тексте:"
   ],
   "metadata": {
    "collapsed": false
   },
   "id": "7d1d9fac6fed60c3"
  },
  {
   "cell_type": "markdown",
   "source": [
    "The phrase \"regular expression\" is often abbreviated as RegEx or regex."
   ],
   "metadata": {
    "collapsed": false
   },
   "id": "50941d2cdb8de813"
  },
  {
   "cell_type": "markdown",
   "source": [
    "соответствует (выделено жирным шрифтом):"
   ],
   "metadata": {
    "collapsed": false
   },
   "id": "1daeecd49a411caf"
  },
  {
   "cell_type": "code",
   "execution_count": 2,
   "outputs": [
    {
     "data": {
      "image/png": "[encoded data removed]",
      "text/plain": "<IPython.core.display.Image object>"
     },
     "metadata": {},
     "output_type": "display_data"
    }
   ],
   "source": [
    "picture('Бездпав имени.png')"
   ],
   "metadata": {
    "collapsed": false,
    "ExecuteTime": {
     "end_time": "2025-03-11T11:44:11.604658500Z",
     "start_time": "2025-03-11T11:44:11.595643600Z"
    }
   },
   "id": "e5621b9658310e5e"
  },
  {
   "cell_type": "markdown",
   "source": [
    "Используемое здесь регулярное выражение содержит два набора символов: [Rr], которому соответствуют символы R и r, и [Ee], которому соответствуют символы E и e. Именно поэтому мы нашли как RegEx, так и regex. Однако, например, последовательность символов REGEX не была бы найдена."
   ],
   "metadata": {
    "collapsed": false
   },
   "id": "73b1aef08c2db960"
  },
  {
   "cell_type": "markdown",
   "source": [
    "Использование диапазона набора символов"
   ],
   "metadata": {
    "collapsed": false
   },
   "id": "941e66227d557d30"
  },
  {
   "cell_type": "markdown",
   "source": [
    "Как уже было показано выше, регулярному выражению:"
   ],
   "metadata": {
    "collapsed": false
   },
   "id": "c73b7f6949bf7033"
  },
  {
   "cell_type": "markdown",
   "source": [
    "[ns]a.\\.csv"
   ],
   "metadata": {
    "collapsed": false
   },
   "id": "b6e653aa13589188"
  },
  {
   "cell_type": "markdown",
   "source": [
    "в тексте:"
   ],
   "metadata": {
    "collapsed": false
   },
   "id": "affb2c4d7d58b922"
  },
  {
   "cell_type": "markdown",
   "source": [
    "sales1.csv\n",
    "orders3.csv\n",
    "sales2.csv\n",
    "sales3.csv\n",
    "apac1.csv\n",
    "europe2.csv\n",
    "sam.csv\n",
    "na1.csv\n",
    "na2.csv\n",
    "sa1.csv\n",
    "ca1.csv"
   ],
   "metadata": {
    "collapsed": false
   },
   "id": "9fdb48e3acfeffaf"
  },
  {
   "cell_type": "markdown",
   "source": [
    "соответствует (выделено жирным шрифтом):"
   ],
   "metadata": {
    "collapsed": false
   },
   "id": "29db4c096d46bf4a"
  },
  {
   "cell_type": "code",
   "execution_count": 3,
   "outputs": [
    {
     "data": {
      "image/png": "[encoded data removed]",
      "text/plain": "<IPython.core.display.Image object>"
     },
     "metadata": {},
     "output_type": "display_data"
    }
   ],
   "source": [
    "from functions import picture\n",
    "picture('Без имепарни.png')"
   ],
   "metadata": {
    "collapsed": false,
    "ExecuteTime": {
     "end_time": "2025-03-11T11:48:41.003719100Z",
     "start_time": "2025-03-11T11:48:40.995649900Z"
    }
   },
   "id": "a9774fa0c18c6096"
  },
  {
   "cell_type": "markdown",
   "source": [
    "Файл sam.csv был найден, потому что точке . соответствуют все символы, а не только цифры. Что если нам нужно избавиться от файла sam.csv, оставив только файлы na1.csv, na2.csv и sa1.csv? Наборы символов могут решить эту проблему."
   ],
   "metadata": {
    "collapsed": false
   },
   "id": "dcf4deee3bf70834"
  },
  {
   "cell_type": "markdown",
   "source": [
    "Регулярному выражению:"
   ],
   "metadata": {
    "collapsed": false
   },
   "id": "2df93a90decf3b2b"
  },
  {
   "cell_type": "markdown",
   "source": [
    "[ns]a[0123456789]\\.csv"
   ],
   "metadata": {
    "collapsed": false
   },
   "id": "d0c65d167fa22369"
  },
  {
   "cell_type": "markdown",
   "source": [
    "в тексте:"
   ],
   "metadata": {
    "collapsed": false
   },
   "id": "a87e87e943364af4"
  },
  {
   "cell_type": "markdown",
   "source": [
    "sales1.csv\n",
    "orders3.csv\n",
    "sales2.csv\n",
    "sales3.csv\n",
    "apac1.csv\n",
    "europe2.csv\n",
    "sam.csv\n",
    "na1.csv\n",
    "na2.csv\n",
    "sa1.csv\n",
    "ca1.csv"
   ],
   "metadata": {
    "collapsed": false
   },
   "id": "ae998c9e9324a9f8"
  },
  {
   "cell_type": "markdown",
   "source": [
    "соответствует (выделено жирным шрифтом):"
   ],
   "metadata": {
    "collapsed": false
   },
   "id": "34b2dbcb7315584b"
  },
  {
   "cell_type": "code",
   "execution_count": 4,
   "outputs": [
    {
     "data": {
      "image/png": "[encoded data removed]",
      "text/plain": "<IPython.core.display.Image object>"
     },
     "metadata": {},
     "output_type": "display_data"
    }
   ],
   "source": [
    "picture('Без сгимени.png')"
   ],
   "metadata": {
    "collapsed": false,
    "ExecuteTime": {
     "end_time": "2025-03-11T11:50:06.091781800Z",
     "start_time": "2025-03-11T11:50:06.084822800Z"
    }
   },
   "id": "87066f25035b8ac9"
  },
  {
   "cell_type": "markdown",
   "source": [
    "В этом примере регулярное выражение было изменено так, чтобы первый символ был либо n, либо s, второй символ – только a, третьим символом могла быть любая цифра. При этом файл sam.csv не был найден, так как m не соответствует списку допустимых символов."
   ],
   "metadata": {
    "collapsed": false
   },
   "id": "72d7facee518208e"
  },
  {
   "cell_type": "markdown",
   "source": [
    "При работе с регулярными выражениями часто приходится определять диапазоны символов (от 0 до 9, от A до Z и т.д.). Чтобы упростить работу с символьными диапазонами, в регулярных выражениях для определения диапазонов используется специальный метасимвол: дефис -."
   ],
   "metadata": {
    "collapsed": false
   },
   "id": "ae6b173f76fce846"
  },
  {
   "cell_type": "markdown",
   "source": [
    "Символ дефис - рассматривается как специальный метасимвол только тогда, когда он используется в диапазоне, то есть между [ и ]. Вне диапазона символ - является обычным символом и соответствует только самому себе. Поэтому вне диапазона символу - не должен предшествовать никакой специальный символ."
   ],
   "metadata": {
    "collapsed": false
   },
   "id": "e878f616f120d4cd"
  },
  {
   "cell_type": "markdown",
   "source": [
    "Регулярному выражению:"
   ],
   "metadata": {
    "collapsed": false
   },
   "id": "b674360655ccc47b"
  },
  {
   "cell_type": "markdown",
   "source": [
    "[ns]a[0-9]\\.csv"
   ],
   "metadata": {
    "collapsed": false
   },
   "id": "34897a7d0ad2ebc8"
  },
  {
   "cell_type": "markdown",
   "source": [
    "в тексте:"
   ],
   "metadata": {
    "collapsed": false
   },
   "id": "bc8ea4a04f7b2b69"
  },
  {
   "cell_type": "markdown",
   "source": [
    "sales1.csv\n",
    "orders3.csv\n",
    "sales2.csv\n",
    "sales3.csv\n",
    "apac1.csv\n",
    "europe2.csv\n",
    "sam.csv\n",
    "na1.csv\n",
    "na2.csv\n",
    "sa1.csv\n",
    "ca1.csv"
   ],
   "metadata": {
    "collapsed": false
   },
   "id": "be9c9bdce3db54ff"
  },
  {
   "cell_type": "markdown",
   "source": [
    "соответствует (выделено жирным шрифтом):"
   ],
   "metadata": {
    "collapsed": false
   },
   "id": "b151d3ab0bdedbf9"
  },
  {
   "cell_type": "code",
   "execution_count": 5,
   "outputs": [
    {
     "data": {
      "image/png": "[encoded data removed]",
      "text/plain": "<IPython.core.display.Image object>"
     },
     "metadata": {},
     "output_type": "display_data"
    }
   ],
   "source": [
    "picture('Без имxgени.png')"
   ],
   "metadata": {
    "collapsed": false,
    "ExecuteTime": {
     "end_time": "2025-03-11T11:51:56.978432800Z",
     "start_time": "2025-03-11T11:51:56.970055100Z"
    }
   },
   "id": "de2308575bec423d"
  },
  {
   "cell_type": "markdown",
   "source": [
    "Регулярное выражение [0-9] функционально эквивалентно выражению [0123456789]."
   ],
   "metadata": {
    "collapsed": false
   },
   "id": "6274ac07a9290876"
  },
  {
   "cell_type": "markdown",
   "source": [
    "Диапазоны могут состоять не только из цифр. Приведем примеры правильных (допустимых) диапазонов:\n",
    "\n",
    "[A-Z] соответствует всем символам латинского алфавита верхнего регистра от A до Z\n",
    "[a-z] соответствует всем символам латинского алфавита нижнего регистра от a до z\n",
    "[A-F] соответствует всем символам латинского алфавита верхнего регистра от A до F\n",
    "[А-Я] соответствует всем символам русского алфавита верхнего регистра от А до Я\n",
    "[а-ф] соответствует всем символам русского алфавита нижнего регистра от а до ф"
   ],
   "metadata": {
    "collapsed": false
   },
   "id": "8f37b7c91410d1ea"
  },
  {
   "cell_type": "markdown",
   "source": [
    "Любые два символа ASCII (UTF-8) могут быть определены как начало и конец диапазона. Однако обычно диапазоны составляются из некоторых (или всех) цифр и некоторых (или всех) алфавитных символов."
   ],
   "metadata": {
    "collapsed": false
   },
   "id": "894025681d7c5958"
  },
  {
   "cell_type": "markdown",
   "source": [
    "При использовании диапазонов нужно следить, чтобы конец диапазона не был меньше, чем его начало. К примеру, диапазоны [4-1] или [z-a] недопустимы."
   ],
   "metadata": {
    "collapsed": false
   },
   "id": "8b097cf5504e14cc"
  },
  {
   "cell_type": "markdown",
   "source": [
    "Мы также можем объединить несколько диапазонов в один."
   ],
   "metadata": {
    "collapsed": false
   },
   "id": "64184ec97d2ea2f0"
  },
  {
   "cell_type": "markdown",
   "source": [
    "Регулярные выражения:"
   ],
   "metadata": {
    "collapsed": false
   },
   "id": "ebdb0c603c51f9f3"
  },
  {
   "cell_type": "markdown",
   "source": [
    "[A-Za-z0-9]\n",
    "[12a-p34]"
   ],
   "metadata": {
    "collapsed": false
   },
   "id": "d749a33a134c824b"
  },
  {
   "cell_type": "markdown",
   "source": [
    "являются сокращением для:"
   ],
   "metadata": {
    "collapsed": false
   },
   "id": "3c39aa8f5a663af"
  },
  {
   "cell_type": "markdown",
   "source": [
    "[ABCDEFGHIJKLMNOPQRSTUVWXYZabcdefghijklmnopqrstuvwxyz0123456789]\n",
    "[12abcdefghijklmnop34]"
   ],
   "metadata": {
    "collapsed": false
   },
   "id": "4c7a1ef0e68786ca"
  },
  {
   "cell_type": "markdown",
   "source": [
    "Соответствие с чем угодно, кроме"
   ],
   "metadata": {
    "collapsed": false
   },
   "id": "b4746670efc8bde2"
  },
  {
   "cell_type": "markdown",
   "source": [
    "Наборы символов обычно используются для того, чтобы определить список символов, любой из которых может соответствовать одному символу. Но иногда проще указать список символов, ни с одним из которых не должен совпадать данный символ. Другими словами, нужно указать соответствие с чем угодно, кроме того, что указано в наборе символов."
   ],
   "metadata": {
    "collapsed": false
   },
   "id": "bf348964dba59ca2"
  },
  {
   "cell_type": "markdown",
   "source": [
    "Вместо того, чтобы перечислять каждый символ, можно инвертировать наборы символов, используя метасимвол ^."
   ],
   "metadata": {
    "collapsed": false
   },
   "id": "86333be2836f957c"
  },
  {
   "cell_type": "markdown",
   "source": [
    "Регулярному выражению:"
   ],
   "metadata": {
    "collapsed": false
   },
   "id": "9deab2587f6b875d"
  },
  {
   "cell_type": "markdown",
   "source": [
    "[ns]a[^0-9]\\.csv"
   ],
   "metadata": {
    "collapsed": false
   },
   "id": "9790e9bce0d6e420"
  },
  {
   "cell_type": "markdown",
   "source": [
    "в тексте:"
   ],
   "metadata": {
    "collapsed": false
   },
   "id": "2a84955f7a96c6bc"
  },
  {
   "cell_type": "markdown",
   "source": [
    "sales1.csv\n",
    "orders3.csv\n",
    "sales2.csv\n",
    "sales3.csv\n",
    "apac1.csv\n",
    "europe2.csv\n",
    "sam.csv\n",
    "na1.csv\n",
    "na2.csv\n",
    "sa1.csv\n",
    "ca1.csv"
   ],
   "metadata": {
    "collapsed": false
   },
   "id": "95820fe5597c096d"
  },
  {
   "cell_type": "markdown",
   "source": [
    "соответствует (выделено жирным шрифтом):"
   ],
   "metadata": {
    "collapsed": false
   },
   "id": "cc1e97331b476a3"
  },
  {
   "cell_type": "code",
   "execution_count": 6,
   "outputs": [
    {
     "data": {
      "image/png": "[encoded data removed]",
      "text/plain": "<IPython.core.display.Image object>"
     },
     "metadata": {},
     "output_type": "display_data"
    }
   ],
   "source": [
    "picture('Без имщавени.png')"
   ],
   "metadata": {
    "collapsed": false,
    "ExecuteTime": {
     "end_time": "2025-03-11T12:05:45.664618300Z",
     "start_time": "2025-03-11T12:05:45.657726600Z"
    }
   },
   "id": "91c13f83ab71db3b"
  },
  {
   "cell_type": "markdown",
   "source": [
    "Диапазон [0-9] соответствует всем цифрам (и только цифрам). Выражение [^0-9] соответствует чему угодно, кроме цифр указанного диапазона. Именно поэтому приведенное регулярное выражение нашло sam.csv, но не нашло na1.csv, na2.csv и sa1.csv."
   ],
   "metadata": {
    "collapsed": false
   },
   "id": "b0ded433bb9af5f0"
  },
  {
   "cell_type": "markdown",
   "source": [
    "Метасимвол ^ отрицает все символы или диапазоны в наборе, а не только символ или диапазон, которому он предшествует."
   ],
   "metadata": {
    "collapsed": false
   },
   "id": "187ae3b66cbac43a"
  },
  {
   "cell_type": "markdown",
   "source": [
    "Соответствие одному из нескольких регулярных выражений"
   ],
   "metadata": {
    "collapsed": false
   },
   "id": "9bcb59109792d820"
  },
  {
   "cell_type": "markdown",
   "source": [
    "Символ вертикальной черты | выполняет роль логического оператора ИЛИ в регулярных выражениях и служит для задания набора альтернатив. Мы можем использовать его всегда, когда хотим найти соответствие одному из нескольких альтернативных выражений."
   ],
   "metadata": {
    "collapsed": false
   },
   "id": "35ebedc5e6657d3a"
  },
  {
   "cell_type": "markdown",
   "source": [
    "Регулярному выражению:"
   ],
   "metadata": {
    "collapsed": false
   },
   "id": "bc458d558e0ebe35"
  },
  {
   "cell_type": "markdown",
   "source": [
    "sales[0-9]|[ns]a[0-9]\\.csv"
   ],
   "metadata": {
    "collapsed": false
   },
   "id": "aaad07a5b399e70f"
  },
  {
   "cell_type": "markdown",
   "source": [
    "в тексте:"
   ],
   "metadata": {
    "collapsed": false
   },
   "id": "dbf5e5353a63f2e6"
  },
  {
   "cell_type": "markdown",
   "source": [
    "sales1.csv\n",
    "orders3.csv\n",
    "sales2.csv\n",
    "sales3.csv\n",
    "apac1.csv\n",
    "europe2.csv\n",
    "sam.csv\n",
    "na1.csv\n",
    "na2.csv\n",
    "sa1.csv\n",
    "ca1.csv"
   ],
   "metadata": {
    "collapsed": false
   },
   "id": "e573654e6872fbcf"
  },
  {
   "cell_type": "markdown",
   "source": [
    "соответствует (выделено жирным шрифтом):"
   ],
   "metadata": {
    "collapsed": false
   },
   "id": "194e93ad9293cf1c"
  },
  {
   "cell_type": "code",
   "execution_count": 7,
   "outputs": [
    {
     "data": {
      "image/png": "[encoded data removed]",
      "text/plain": "<IPython.core.display.Image object>"
     },
     "metadata": {},
     "output_type": "display_data"
    }
   ],
   "source": [
    "picture('Без имеghioljhни.png')"
   ],
   "metadata": {
    "collapsed": false,
    "ExecuteTime": {
     "end_time": "2025-03-11T12:09:02.910814800Z",
     "start_time": "2025-03-11T12:09:02.902214700Z"
    }
   },
   "id": "3cb32ef648071c69"
  },
  {
   "cell_type": "markdown",
   "source": [
    "Если требуется поиск соответствий самому символу |, то в регулярном выражении ему должен предшествовать символ обратной косой черты \\|."
   ],
   "metadata": {
    "collapsed": false
   },
   "id": "6a47792c87437f41"
  },
  {
   "cell_type": "markdown",
   "source": [
    "Примечания"
   ],
   "metadata": {
    "collapsed": false
   },
   "id": "e689a504fa3df55c"
  },
  {
   "cell_type": "markdown",
   "source": [
    "Примечание 1. Если требуется найти соответствие с символом - внутри диапазона, то лучше всего его указать в самом конце."
   ],
   "metadata": {
    "collapsed": false
   },
   "id": "96951ea11ed1c951"
  },
  {
   "cell_type": "markdown",
   "source": [
    "Регулярное выражение:"
   ],
   "metadata": {
    "collapsed": false
   },
   "id": "546cb25efaf8ccc9"
  },
  {
   "cell_type": "markdown",
   "source": [
    "[1-9a-g-]"
   ],
   "metadata": {
    "collapsed": false
   },
   "id": "a7c36979739809d9"
  },
  {
   "cell_type": "markdown",
   "source": [
    "равнозначно выражению:"
   ],
   "metadata": {
    "collapsed": false
   },
   "id": "3f3f71cafbb4cd94"
  },
  {
   "cell_type": "markdown",
   "source": [
    "[123456789abcdefg-]"
   ],
   "metadata": {
    "collapsed": false
   },
   "id": "84df2fecb5a7e5d5"
  },
  {
   "cell_type": "markdown",
   "source": [
    "Аналогичные правила применяются к символу ^."
   ],
   "metadata": {
    "collapsed": false
   },
   "id": "f050fcde50e2649d"
  },
  {
   "cell_type": "markdown",
   "source": [
    "Примечание 2. Буква ё не входит в диапазон [a-я], а буква Ё — в диапазон [A-Я]."
   ],
   "metadata": {
    "collapsed": false
   },
   "id": "3bf983520c780e3e"
  },
  {
   "cell_type": "markdown",
   "source": [
    "Примечание 3. Таблица соответствия некоторых метасимволов и диапазонов:"
   ],
   "metadata": {
    "collapsed": false
   },
   "id": "28180c85bca4ed17"
  },
  {
   "cell_type": "code",
   "execution_count": 8,
   "outputs": [
    {
     "data": {
      "image/png": "[encoded data removed]",
      "text/plain": "<IPython.core.display.Image object>"
     },
     "metadata": {},
     "output_type": "display_data"
    }
   ],
   "source": [
    "picture('Без ивапдмени.png')"
   ],
   "metadata": {
    "collapsed": false,
    "ExecuteTime": {
     "end_time": "2025-03-11T12:10:49.747895100Z",
     "start_time": "2025-03-11T12:10:49.740143100Z"
    }
   },
   "id": "fe85a9adcb60df95"
  },
  {
   "cell_type": "markdown",
   "source": [
    "Примечание 4. Обратите внимание на то, что в пределах квадратных скобок перед символом . можно не ставить символ обратной косой черты. Регулярному выражению [0-5.] будут соответствовать цифры от 0 до 5 и точка."
   ],
   "metadata": {
    "collapsed": false
   },
   "id": "cd631b7915beb71e"
  },
  {
   "cell_type": "code",
   "execution_count": 24,
   "outputs": [
    {
     "data": {
      "text/plain": "['Timur', 'Timyr', 'timyr']"
     },
     "execution_count": 24,
     "metadata": {},
     "output_type": "execute_result"
    }
   ],
   "source": [
    "import re\n",
    "s = 'The male name Timur is Mongolian in origin. Timyr is incredibly popular in our vast country today, but what is most important is that it also has good significance and strong energy. And the name timyr is also compatible with many female Russian modern names.'\n",
    "pattern = r'[Tt]im[yu]r'\n",
    "re.findall(pattern, s)"
   ],
   "metadata": {
    "collapsed": false,
    "ExecuteTime": {
     "end_time": "2025-03-11T13:05:31.952664600Z",
     "start_time": "2025-03-11T13:05:31.946045500Z"
    }
   },
   "id": "42f7acdae7516304"
  },
  {
   "cell_type": "code",
   "execution_count": 25,
   "outputs": [
    {
     "data": {
      "text/plain": "['caa', 'cab', 'ca2']"
     },
     "execution_count": 25,
     "metadata": {},
     "output_type": "execute_result"
    }
   ],
   "source": [
    "import re\n",
    "s = 'I have these files: caaat.png, acab.txt, cat.jpeg, tca-ca.txt, na1.csv, ca2.csv'\n",
    "pattern = r'ca[a-e]|ca[1-5]'\n",
    "re.findall(pattern, s)"
   ],
   "metadata": {
    "collapsed": false,
    "ExecuteTime": {
     "end_time": "2025-03-11T13:07:10.978356200Z",
     "start_time": "2025-03-11T13:07:10.971209400Z"
    }
   },
   "id": "32603f7e357357ef"
  },
  {
   "cell_type": "markdown",
   "source": [
    "Вам доступно регулярное выражение regex, которому соответствуют строки car, cat и cab. Перепишите его с использованием набора символов, чтобы ему соответствовали те же строки.\n",
    "Пояснение: нужно сократить регулярку с помощью [ ]"
   ],
   "metadata": {
    "collapsed": false
   },
   "id": "31a6824da10beb44"
  },
  {
   "cell_type": "code",
   "execution_count": null,
   "outputs": [],
   "source": [
    "regex = r'car|cat|cab'\n",
    "regex = r'ca[rtb]'"
   ],
   "metadata": {
    "collapsed": false
   },
   "id": "7d1aac7f427a5435"
  },
  {
   "cell_type": "markdown",
   "source": [
    "Дополните приведенный ниже код, чтобы переменная regex содержала регулярное выражение, которому соответствуют все шестнадцатеричные цифры. Предполагается, что шестнадцатеричные цифры образуют множество:\n",
    "0,1,2,3,4,5,6,7,8,9,A,B,C,D,E,F"
   ],
   "metadata": {
    "collapsed": false
   },
   "id": "a730c1f66cb12da4"
  },
  {
   "cell_type": "code",
   "execution_count": null,
   "outputs": [],
   "source": [
    "regex = r''\n",
    "regex = r'[0-9A-F]'"
   ],
   "metadata": {
    "collapsed": false
   },
   "id": "8db30d7f8d348f8b"
  },
  {
   "cell_type": "markdown",
   "source": [
    "Дополните приведенный ниже код, чтобы переменная regex содержала регулярное выражение, которому соответствуют последовательности символов формата Xxxxx, где X — любая буква латинского алфавита в произвольном регистре, а x — произвольная цифра."
   ],
   "metadata": {
    "collapsed": false
   },
   "id": "66ff14dafb19ca18"
  },
  {
   "cell_type": "code",
   "execution_count": null,
   "outputs": [],
   "source": [
    "regex = r''\n",
    "regex = r'[A-Za-z][0-9]{4}'\n",
    "regex = r'[a-zA-Z][\\d]{4}'"
   ],
   "metadata": {
    "collapsed": false
   },
   "id": "dedd39985e8e921e"
  },
  {
   "cell_type": "markdown",
   "source": [
    "Дополните приведенный ниже код, чтобы переменная regex содержала регулярное выражение, которому соответствуют последовательности символов длины 5, удовлетворяющие одновременно всем следующим условиям:\n",
    "\n",
    "первый символ — строчная латинская буква\n",
    "второй символ — произвольная цифра\n",
    "третий символ — строчная латинская буква\n",
    "четвертый символ — заглавная латинская буква\n",
    "пятый символ — заглавная латинская буква"
   ],
   "metadata": {
    "collapsed": false
   },
   "id": "68e8579a82600c7f"
  },
  {
   "cell_type": "code",
   "execution_count": 34,
   "outputs": [
    {
     "data": {
      "text/plain": "['t1mUR', 'a1iVE']"
     },
     "execution_count": 34,
     "metadata": {},
     "output_type": "execute_result"
    }
   ],
   "source": [
    "regex = r''\n",
    "regex = r'[a-z][0-9][a-z][A-Z]{2}'\n",
    "regex = r'[a-z]\\d[a-z][A-Z]{2}'\n",
    "\n",
    "s = 'My name is t1mUR and I am a1iVE!'\n",
    "re.findall(regex, s)"
   ],
   "metadata": {
    "collapsed": false,
    "ExecuteTime": {
     "end_time": "2025-03-12T06:28:40.104864Z",
     "start_time": "2025-03-12T06:28:40.096894100Z"
    }
   },
   "id": "291df54376bec1ac"
  },
  {
   "cell_type": "markdown",
   "source": [
    "Дополните приведенный ниже код, чтобы переменная regex содержала регулярное выражение, которому соответствуют последовательности символов длины 6, удовлетворяющие одновременно всем следующим условиям:\n",
    "\n",
    "первый символ — произвольная цифра\n",
    "второй символ — строчная латинская гласная буква (a, e, i, o, u, y)\n",
    "третий символ — любой символ, кроме b, c, D, F\n",
    "четвертый символ — любой не пробельный символ\n",
    "пятый символ — любой символ, кроме заглавной латинской гласной буквы (A, E, I, O, U, Y)\n",
    "шестой символ — любой символ, кроме точки и запятой"
   ],
   "metadata": {
    "collapsed": false
   },
   "id": "6d697a52f906c700"
  },
  {
   "cell_type": "markdown",
   "source": [
    "\\d[0-9]любая цифра\n",
    "\n",
    "\\D[^0-9]любой нецифровой символ\n",
    "\n",
    "\\w[0-9a-zA-Zа-яА-ЯёЁ_]любой алфавитно-цифровой символ и символ _\n",
    "\n",
    "\\W[^0-9a-zA-Zа-яА-ЯёЁ_]любой символ, отличный от алфавитно-цифрового и _\n",
    "\n",
    "\\s[ \\f\\n\\r\\t\\v]любой пробельный символ\n",
    "\n",
    "\\S[^ \\f\\n\\r\\t\\v]любой непробельный символ"
   ],
   "metadata": {
    "collapsed": false
   },
   "id": "6fb2ae5f00acfd7c"
  },
  {
   "cell_type": "code",
   "execution_count": 37,
   "outputs": [
    {
     "data": {
      "text/plain": "['9ython', '4uTUMN']"
     },
     "execution_count": 37,
     "metadata": {},
     "output_type": "execute_result"
    }
   ],
   "source": [
    "regex = r''\n",
    "regex = r'\\d[aeiouy][^bcDF]\\S[^AEIOUY][^.,]'\n",
    "\n",
    "s = '1Alark decided to stay at home #2aeb-Q): he had a terrible headache.'\n",
    "s = 'Kate doesn’t eat_a_ any kind of meat nor wears she 1i -1) 1 at_a_'\n",
    "s = 'What password do you prefer: 9ython or 4uTUMN?'\n",
    "re.findall(regex, s)"
   ],
   "metadata": {
    "collapsed": false,
    "ExecuteTime": {
     "end_time": "2025-03-12T06:38:35.951545400Z",
     "start_time": "2025-03-12T06:38:35.942440Z"
    }
   },
   "id": "43a9b37cb3bb617"
  },
  {
   "cell_type": "markdown",
   "source": [
    "Дополните приведенный ниже код, чтобы переменная regex содержала регулярное выражение, которому соответствуют последовательности символов длины 6, удовлетворяющие одновременно всем следующим условиям:\n",
    "\n",
    "первый символ — цифра 1, 2 или 3\n",
    "второй символ — цифра 0, 1 или 2\n",
    "третий символ — цифра 1, 2 или строчная латинская буква x\n",
    "четвертый символ — цифра 0, 3 или латинская буква a в любом регистре\n",
    "пятый символ — строчная латинская буква x, s или u\n",
    "шестой символ — точка или запятая"
   ],
   "metadata": {
    "collapsed": false
   },
   "id": "41a05f999357003c"
  },
  {
   "cell_type": "code",
   "execution_count": 38,
   "outputs": [
    {
     "data": {
      "text/plain": "['30xAs.']"
     },
     "execution_count": 38,
     "metadata": {},
     "output_type": "execute_result"
    }
   ],
   "source": [
    "regex = r''\n",
    "regex = r'[1-3][0-2][12x][03aA][xsu][.,]'\n",
    "\n",
    "s = '0xAx. \\0x3x, 1230xAs. --0xas, 90xAu. *0xau,'\n",
    "re.findall(regex, s)"
   ],
   "metadata": {
    "collapsed": false,
    "ExecuteTime": {
     "end_time": "2025-03-12T06:45:20.988277600Z",
     "start_time": "2025-03-12T06:45:20.980945300Z"
    }
   },
   "id": "aba2f80fee63f225"
  },
  {
   "cell_type": "markdown",
   "source": [
    "Дополните приведенный ниже код, чтобы переменная regex содержала регулярное выражение, которому соответствуют телефонные номера следующих форматов:\n",
    "\n",
    "+7xxxxxxxxxx\n",
    "+7(xxx)xxxxxxx\n",
    "+7(xxx)-xxx-xx-xx\n",
    "+7 xxx xxx xx xx\n",
    "где x — произвольная цифра.\n",
    "\n",
    "Примечание 1. Дополнительная проверка телефонного номера на корректность не требуется.\n",
    "\n",
    "Примечание 2. Символы +, ( и ) является метасимволами. Если требуется поиск соответствий самим символам  +, ( и ), то в регулярном выражении им должен предшествовать символ обратной косой черты  \\+, \\( и \\)."
   ],
   "metadata": {
    "collapsed": false
   },
   "id": "a1abb0addb7389da"
  },
  {
   "cell_type": "code",
   "execution_count": 42,
   "outputs": [
    {
     "data": {
      "text/plain": "['+79176879054', '+7 917 687 90 54']"
     },
     "execution_count": 42,
     "metadata": {},
     "output_type": "execute_result"
    }
   ],
   "source": [
    "regex = r''\n",
    "regex = r'\\+7\\d{10}|\\+7\\(\\d{3}\\)\\d{7}|\\+7\\(\\d{3}\\)-\\d{3}-\\d\\d-\\d\\d|\\+7 \\d{3} \\d{3} \\d\\d \\d\\d'\n",
    "\n",
    "s = '+7(917) 634 81 19 +7-917-634-81-19 +8(917)-634-81-19 +791768790541 +7 917 687 90 54'\n",
    "re.findall(regex, s)"
   ],
   "metadata": {
    "collapsed": false,
    "ExecuteTime": {
     "end_time": "2025-03-12T06:51:47.145343Z",
     "start_time": "2025-03-12T06:51:47.137950500Z"
    }
   },
   "id": "6d643f80b0168181"
  },
  {
   "cell_type": "markdown",
   "source": [
    "Дополните приведенный ниже код, чтобы переменная regex содержала регулярное выражение, которому соответствуют даты следующих форматов:\n",
    "\n",
    "DD.MM.YYYY\n",
    "DD/MM/YYYY\n",
    "YYYY.MM.DD\n",
    "YYYY/MM/DD\n",
    "Примечание 1. Дополнительная проверка даты на корректность не требуется."
   ],
   "metadata": {
    "collapsed": false
   },
   "id": "8827ec97618ef944"
  },
  {
   "cell_type": "code",
   "execution_count": 48,
   "outputs": [
    {
     "data": {
      "text/plain": "['01.12.1999']"
     },
     "execution_count": 48,
     "metadata": {},
     "output_type": "execute_result"
    }
   ],
   "source": [
    "regex = r''\n",
    "regex = r'\\d[1-9]\\.\\d[1-9]\\.\\d{3}[1-9]|\\d[1-9]\\.\\d[1-9]\\.\\d{3}[1-9]|\\d{3}[1-9]\\.\\d[1-9]\\.\\d[1-9]|\\d[1-9]\\/\\d[1-9]\\/\\d{3}[1-9]|\\d[1-9]\\/\\d[1-9]\\/\\d{3}[1-9]|\\d{3}[1-9]\\/\\d[1-9]\\/\\d[1-9]'\n",
    "\n",
    "regex = r'\\d{2}\\.\\d{2}\\.\\d{4}|' \\\n",
    "        r'\\d{2}/\\d{2}/\\d{4}|' \\\n",
    "        r'\\d{4}\\.\\d{2}\\.\\d{2}|' \\\n",
    "        r'\\d{4}/\\d{2}/\\d{2}'\n",
    "\n",
    "s = 'i was born 01.12/2001 or 01/12.2001 and 01.12.1999'\n",
    "re.findall(regex, s)"
   ],
   "metadata": {
    "collapsed": false,
    "ExecuteTime": {
     "end_time": "2025-03-12T07:09:00.693832500Z",
     "start_time": "2025-03-12T07:09:00.684542100Z"
    }
   },
   "id": "cd10436b9029e504"
  },
  {
   "cell_type": "markdown",
   "source": [
    "Дополните приведенный ниже код, чтобы переменная regex содержала регулярное выражение, которому соответствуют времена формата HH:MM.\n",
    "\n",
    "Примечание 1. Требуется дополнительная проверка на корректность, то есть время 54:96 не должно соответствовать регулярному выражению regex."
   ],
   "metadata": {
    "collapsed": false
   },
   "id": "9c2f9adb71bebc3c"
  },
  {
   "cell_type": "code",
   "execution_count": 59,
   "outputs": [
    {
     "data": {
      "text/plain": "['00:00']"
     },
     "execution_count": 59,
     "metadata": {},
     "output_type": "execute_result"
    }
   ],
   "source": [
    "regex = r''\n",
    "regex = r'[01]\\d:[0-5]\\d|2[0-3]:[0-5]\\d'\n",
    "\n",
    "s = \"So why does my watch say 91:44? It doesn't matter, I'll be there at 17:30\"\n",
    "s = \"00:00, 00:60, 24:00, 50:39, 17/30\"\n",
    "re.findall(regex, s)"
   ],
   "metadata": {
    "collapsed": false,
    "ExecuteTime": {
     "end_time": "2025-03-12T07:17:36.824191300Z",
     "start_time": "2025-03-12T07:17:36.816141900Z"
    }
   },
   "id": "12483eae19bb30c0"
  }
 ],
 "metadata": {
  "kernelspec": {
   "display_name": "Python 3",
   "language": "python",
   "name": "python3"
  },
  "language_info": {
   "codemirror_mode": {
    "name": "ipython",
    "version": 2
   },
   "file_extension": ".py",
   "mimetype": "text/x-python",
   "name": "python",
   "nbconvert_exporter": "python",
   "pygments_lexer": "ipython2",
   "version": "2.7.6"
  }
 },
 "nbformat": 4,
 "nbformat_minor": 5
}

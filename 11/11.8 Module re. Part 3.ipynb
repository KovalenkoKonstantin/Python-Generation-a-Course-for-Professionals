{
 "cells": [
  {
   "cell_type": "markdown",
   "source": [
    "Тема урока: модуль re\n",
    "Функция sub()\n",
    "Функция subn()\n",
    "Аннотация. Данный урок посвящен модулю re, который позволяет работать с регулярными выражениями в Python."
   ],
   "metadata": {
    "collapsed": false
   },
   "id": "3c8a18ece75de238"
  },
  {
   "cell_type": "markdown",
   "source": [
    "Функция sub()"
   ],
   "metadata": {
    "collapsed": false
   },
   "id": "3557488c03ece40d"
  },
  {
   "cell_type": "markdown",
   "source": [
    "Функция sub() возвращает строку, полученную путем замены всех найденных неперекрывающихся вхождений регулярного выражения pattern в строке string на строку замены repl."
   ],
   "metadata": {
    "collapsed": false
   },
   "id": "3a14660a7a7e9c5"
  },
  {
   "cell_type": "markdown",
   "source": [
    "Аргументы функции:\n",
    "\n",
    "pattern — шаблон регулярного выражения\n",
    "repl — строка замены\n",
    "string — строка для поиска\n",
    "count=0 — максимальное число замен (необязательный аргумент)\n",
    "flags=0 — один или несколько флагов (необязательный аргумент)"
   ],
   "metadata": {
    "collapsed": false
   },
   "id": "9f59726b82e311a2"
  },
  {
   "cell_type": "markdown",
   "source": [
    " Если шаблон регулярного выражения не найден, строка возвращается без изменений."
   ],
   "metadata": {
    "collapsed": false
   },
   "id": "95e71394b1216ed6"
  },
  {
   "cell_type": "markdown",
   "source": [
    "Аргумент repl может быть строкой или функцией. Если repl это строка, то в ней обрабатываются все обратные слеши, то есть \\n преобразуется в символ новой строки, \\r преобразуется в возврат каретки и т. д."
   ],
   "metadata": {
    "collapsed": false
   },
   "id": "fb61f05dc83b5ad2"
  },
  {
   "cell_type": "code",
   "execution_count": 1,
   "outputs": [
    {
     "name": "stdout",
     "output_type": "stream",
     "text": [
      "Python самый популярный язык программирования в 2022 году.\n"
     ]
    }
   ],
   "source": [
    "import re\n",
    "\n",
    "text = 'Java самый популярный язык программирования в 2022 году.'\n",
    "\n",
    "res = re.sub(r'Java', r'Python', text)\n",
    "\n",
    "print(res)"
   ],
   "metadata": {
    "collapsed": false,
    "ExecuteTime": {
     "end_time": "2025-03-21T10:43:18.257298400Z",
     "start_time": "2025-03-21T10:43:18.250291400Z"
    }
   },
   "id": "f4f946a6254e5e2e"
  },
  {
   "cell_type": "markdown",
   "source": [
    "Обратите внимание на то, что функция sub() создает и возвращает новую строку с указанными заменами. Исходная строка остается неизменной, ведь в Python строки неизменяемы по своей природе.\n",
    "\n",
    "Рассмотрим подробнее ситуации, когда аргумент repl является строкой, а когда функцией."
   ],
   "metadata": {
    "collapsed": false
   },
   "id": "d8841a15ce2514fa"
  },
  {
   "cell_type": "markdown",
   "source": [
    "Замена строкой"
   ],
   "metadata": {
    "collapsed": false
   },
   "id": "d4aed47d49e73282"
  },
  {
   "cell_type": "markdown",
   "source": [
    "Если аргумент repl является строкой, то функция sub() вставляет ее в строку поиска string вместо любых последовательностей, соответствующих регулярному выражению pattern."
   ],
   "metadata": {
    "collapsed": false
   },
   "id": "a23977adb88fa11f"
  },
  {
   "cell_type": "code",
   "execution_count": 2,
   "outputs": [
    {
     "name": "stdout",
     "output_type": "stream",
     "text": [
      "foo.#.bar.#.baz.#.geek\n",
      "(*).123.(*).456.(*).789.(*)\n"
     ]
    }
   ],
   "source": [
    "import re\n",
    "\n",
    "text = 'foo.123.bar.456.baz.789.geek'\n",
    "\n",
    "result1 = re.sub(r'\\d+', r'#', text)\n",
    "result2 = re.sub(r'[a-z]+', r'(*)', text)\n",
    "\n",
    "print(result1)\n",
    "print(result2)"
   ],
   "metadata": {
    "collapsed": false,
    "ExecuteTime": {
     "end_time": "2025-03-21T10:44:58.566364400Z",
     "start_time": "2025-03-21T10:44:58.560431900Z"
    }
   },
   "id": "76260bc05400ac4c"
  },
  {
   "cell_type": "markdown",
   "source": [
    "Первый вызов функции sub() заменяет последовательность подряд идущих цифр на символ #. Второй вызов функции sub() заменяет последовательность подряд идущих строчных латинских букв на (*)."
   ],
   "metadata": {
    "collapsed": false
   },
   "id": "ae649c61b5b27440"
  },
  {
   "cell_type": "markdown",
   "source": [
    "При использовании функции sub() мы также можем использовать пронумерованные обратные ссылки (\\<n>) в аргументе repl, которым будет соответствовать текст захваченной группы. Обратные ссылки, такие как \\2, заменяются подстрокой, соответствующей группе №2 в шаблоне регулярного выражения."
   ],
   "metadata": {
    "collapsed": false
   },
   "id": "9d198aff90b5d608"
  },
  {
   "cell_type": "code",
   "execution_count": 3,
   "outputs": [
    {
     "name": "stdout",
     "output_type": "stream",
     "text": [
      "qux,bar,baz,foo\n"
     ]
    }
   ],
   "source": [
    "import re\n",
    "\n",
    "result = re.sub(r'(\\w+),bar,baz,(\\w+)', r'\\2,bar,baz,\\1', r'foo,bar,baz,qux')\n",
    "\n",
    "print(result)"
   ],
   "metadata": {
    "collapsed": false,
    "ExecuteTime": {
     "end_time": "2025-03-21T12:54:44.553191700Z",
     "start_time": "2025-03-21T12:54:44.540142600Z"
    }
   },
   "id": "6390383b10355faf"
  },
  {
   "cell_type": "markdown",
   "source": [
    "Захваченные группы \\1 и \\2 содержат foo и qux. В строке замены \\2,bar,baz,\\1, foo заменяет \\1, а qux заменяет \\2."
   ],
   "metadata": {
    "collapsed": false
   },
   "id": "447417d822c33dc4"
  },
  {
   "cell_type": "markdown",
   "source": [
    "Мы также можем использовать именованные обратные ссылки, созданные с помощью уже знакомого нам синтаксиса (?P<name><regex>) в строке замены, используя последовательность метасимволов \\g<name>."
   ],
   "metadata": {
    "collapsed": false
   },
   "id": "f148110c8103ab0a"
  },
  {
   "cell_type": "code",
   "execution_count": 4,
   "outputs": [
    {
     "name": "stdout",
     "output_type": "stream",
     "text": [
      "foo,baz,bar,qux\n"
     ]
    }
   ],
   "source": [
    "import re\n",
    "\n",
    "result = re.sub(r'foo,(?P<w1>\\w+),(?P<w2>\\w+),qux', r'foo,\\g<w2>,\\g<w1>,qux', r'foo,bar,baz,qux')\n",
    "\n",
    "print(result)"
   ],
   "metadata": {
    "collapsed": false,
    "ExecuteTime": {
     "end_time": "2025-03-21T12:58:52.869973300Z",
     "start_time": "2025-03-21T12:58:52.859489900Z"
    }
   },
   "id": "687b605b9fa8cbfe"
  },
  {
   "cell_type": "markdown",
   "source": [
    "Захваченные группы w1 и w2 содержат bar и baz. В строке замены foo,\\g<w2>,\\g<w1>,qux, bar заменяет \\g<w1>, а baz заменяет \\g<w2>."
   ],
   "metadata": {
    "collapsed": false
   },
   "id": "8485aadfd49ded06"
  },
  {
   "cell_type": "markdown",
   "source": [
    "Замена с помощью функции"
   ],
   "metadata": {
    "collapsed": false
   },
   "id": "13e2a5ce737fcb5e"
  },
  {
   "cell_type": "markdown",
   "source": [
    "Если в качестве аргумента repl использовать функцию, то функция sub() вызовет эту функцию для каждого найденного совпадения. Она передает каждый соответствующий объект совпадения (тип Match) в качестве аргумента функции для предоставления информации о совпадении, при этом возвращаемое из функции значение становится строкой замены."
   ],
   "metadata": {
    "collapsed": false
   },
   "id": "dd9714fc99069f99"
  },
  {
   "cell_type": "code",
   "execution_count": 5,
   "outputs": [
    {
     "name": "stdout",
     "output_type": "stream",
     "text": [
      "FOO.100.BAR.200.BAZ30.400\n"
     ]
    }
   ],
   "source": [
    "import re\n",
    "def func(match_obj):\n",
    "    s = match_obj.group(0)         # строка совпадения\n",
    "    if s.isdigit():\n",
    "        return str(int(s) * 10)\n",
    "    else:\n",
    "        return s.upper()\n",
    "\n",
    "result = re.sub(r'\\w+', func, r'foo.10.bar.20.baz30.40')\n",
    "\n",
    "print(result)"
   ],
   "metadata": {
    "collapsed": false,
    "ExecuteTime": {
     "end_time": "2025-03-21T13:00:25.058447600Z",
     "start_time": "2025-03-21T13:00:25.046375600Z"
    }
   },
   "id": "606371b6a6997d69"
  },
  {
   "cell_type": "markdown",
   "source": [
    "В этом примере функция func() вызывается для каждого найденного совпадения. Таким образом, функция sub() преобразует каждую буквенно-цифровую часть строки в верхний регистр и умножает каждую числовую часть на 10."
   ],
   "metadata": {
    "collapsed": false
   },
   "id": "3b28fbd88e0f13fc"
  },
  {
   "cell_type": "markdown",
   "source": [
    "Функция, передаваемая в качестве аргумента repl, должна принимать один аргумент — объект соответствия (тип Match) и возвращать строку замены."
   ],
   "metadata": {
    "collapsed": false
   },
   "id": "4d366f0a610dda43"
  },
  {
   "cell_type": "markdown",
   "source": [
    "Ограничение количества замен"
   ],
   "metadata": {
    "collapsed": false
   },
   "id": "9833a93a91a87408"
  },
  {
   "cell_type": "markdown",
   "source": [
    "Мы можем использовать необязательные аргументы count (количество замен) и flags для более детальной настройки замены."
   ],
   "metadata": {
    "collapsed": false
   },
   "id": "5b06c6e867a1e9ca"
  },
  {
   "cell_type": "code",
   "execution_count": 6,
   "outputs": [
    {
     "name": "stdout",
     "output_type": "stream",
     "text": [
      "Python самый популярный язык программирования в 2022 году. Язык Python — строго типизированный объектно-ориентированный язык программирования общего назначения, разработанный компанией Sun Microsystems. Приложения Python обычно транслируются в специальный байт-код, поэтому они могут работать на любой компьютерной архитектуре, для которой существует реализация виртуальной Java-машины.\n"
     ]
    }
   ],
   "source": [
    "import re\n",
    "\n",
    "text = 'Java самый популярный язык программирования в 2022 году. Язык java — строго типизированный объектно-ориентированный язык программирования общего назначения, разработанный компанией Sun Microsystems. Приложения Java обычно транслируются в специальный байт-код, поэтому они могут работать на любой компьютерной архитектуре, для которой существует реализация виртуальной Java-машины.'\n",
    "\n",
    "res = re.sub(r'Java', r'Python', text, count=3, flags=re.I)\n",
    "\n",
    "print(res)"
   ],
   "metadata": {
    "collapsed": false,
    "ExecuteTime": {
     "end_time": "2025-03-21T13:03:45.704590Z",
     "start_time": "2025-03-21T13:03:45.690740400Z"
    }
   },
   "id": "bd7454abc9fadc07"
  },
  {
   "cell_type": "markdown",
   "source": [
    "Если необязательному аргументу count передать число, которое больше количества найденных вхождений в строке, то будет произведена замена всех этих вхождений."
   ],
   "metadata": {
    "collapsed": false
   },
   "id": "4133078bc6228e1b"
  },
  {
   "cell_type": "markdown",
   "source": [
    "Если в строке найдено, например, 4 вхождения, а вы передали count=5, то будут заменены 4 вхождения.\n",
    "Если в строке найдено 4 вхождения, а вы передали count=3, то будут заменены только первые 3 вхождения.\n",
    "Параметр count ограничивает количество замен.\n",
    "Если count больше, чем количество найденных вхождений, заменяются все вхождения.\n",
    "Если count меньше, чем количество найденных вхождений, заменяются только первые count вхождений."
   ],
   "metadata": {
    "collapsed": false
   },
   "id": "9d68751481cbd889"
  },
  {
   "cell_type": "markdown",
   "source": [
    "Функция subn()"
   ],
   "metadata": {
    "collapsed": false
   },
   "id": "e5e4dc2a53ddd499"
  },
  {
   "cell_type": "markdown",
   "source": [
    "Функция subn() идентична функции sub(), за тем исключением, что она возвращает кортеж, состоящий из измененной строки и количества сделанных замен."
   ],
   "metadata": {
    "collapsed": false
   },
   "id": "7097720faa06e873"
  },
  {
   "cell_type": "markdown",
   "source": [
    "Аргументы функции:\n",
    "\n",
    "pattern — шаблон регулярного выражения\n",
    "repl — строка замены\n",
    "string — строка для поиска\n",
    "count=0 — максимальное число замен (необязательный аргумент)\n",
    "flags=0 — один или несколько флагов (необязательный аргумент)"
   ],
   "metadata": {
    "collapsed": false
   },
   "id": "2e456267d040e3b7"
  },
  {
   "cell_type": "code",
   "execution_count": 1,
   "outputs": [
    {
     "name": "stdout",
     "output_type": "stream",
     "text": [
      "('foo.#.bar.#.baz.#.geek', 3)\n",
      "('(*).123.(*).456.baz.789.geek', 2)\n"
     ]
    }
   ],
   "source": [
    "import re\n",
    "\n",
    "text = 'foo.123.bar.456.baz.789.geek'\n",
    "\n",
    "result1 = re.subn(r'\\d+', r'#', text)\n",
    "result2 = re.subn(r'[a-z]+', r'(*)', text, count=2)\n",
    "\n",
    "print(result1)\n",
    "print(result2)"
   ],
   "metadata": {
    "collapsed": false,
    "ExecuteTime": {
     "end_time": "2025-03-26T05:15:28.018993200Z",
     "start_time": "2025-03-26T05:15:28.007636600Z"
    }
   },
   "id": "9db9125abe059bae"
  },
  {
   "cell_type": "code",
   "execution_count": 2,
   "outputs": [
    {
     "name": "stdout",
     "output_type": "stream",
     "text": [
      "('FOO.100.BAR.200.BAZ30.400', 6)\n"
     ]
    }
   ],
   "source": [
    "import re\n",
    "def func(match_obj):\n",
    "    s = match_obj.group(0)         # строка совпадения\n",
    "    if s.isdigit():\n",
    "        return str(int(s) * 10)\n",
    "    else:\n",
    "        return s.upper()\n",
    "\n",
    "result = re.subn(r'\\w+', func, 'foo.10.bar.20.baz30.40')\n",
    "\n",
    "print(result)"
   ],
   "metadata": {
    "collapsed": false,
    "ExecuteTime": {
     "end_time": "2025-03-26T05:16:12.477992700Z",
     "start_time": "2025-03-26T05:16:12.473170200Z"
    }
   },
   "id": "7b28646e1cd82e6"
  },
  {
   "cell_type": "markdown",
   "source": [
    "Примечания"
   ],
   "metadata": {
    "collapsed": false
   },
   "id": "690f6bb8d6e6306e"
  },
  {
   "cell_type": "markdown",
   "source": [
    "Примечание 1. Мы также можем ссылаться на нумерованные обратные ссылки, указывая номер группы внутри угловых скобок."
   ],
   "metadata": {
    "collapsed": false
   },
   "id": "b3ecff436fc10b9b"
  },
  {
   "cell_type": "code",
   "execution_count": 3,
   "outputs": [
    {
     "name": "stdout",
     "output_type": "stream",
     "text": [
      "foo,baz,bar,qux\n"
     ]
    }
   ],
   "source": [
    "import re\n",
    "\n",
    "result = re.sub(r'foo,(\\w+),(\\w+),qux', r'foo,\\g<2>,\\g<1>,qux', 'foo,bar,baz,qux')\n",
    "\n",
    "print(result)"
   ],
   "metadata": {
    "collapsed": false,
    "ExecuteTime": {
     "end_time": "2025-03-26T05:19:05.677916300Z",
     "start_time": "2025-03-26T05:19:05.673191600Z"
    }
   },
   "id": "be750bf664d961c3"
  },
  {
   "cell_type": "markdown",
   "source": [
    "Такой способ использования обратных ссылок нужен для того, чтобы избежать двусмысленности в случаях, когда за нумерованной обратной ссылкой сразу следует цифровой символ. Например, у нас есть строка foo 123 bar, и мы хотим добавить цифру 0 в конце последовательности цифр."
   ],
   "metadata": {
    "collapsed": false
   },
   "id": "d40aeceb9e50ac7c"
  },
  {
   "cell_type": "code",
   "execution_count": 6,
   "outputs": [
    {
     "ename": "PatternError",
     "evalue": "invalid group reference 10 at position 1",
     "output_type": "error",
     "traceback": [
      "\u001B[31m---------------------------------------------------------------------------\u001B[39m",
      "\u001B[31mPatternError\u001B[39m                              Traceback (most recent call last)",
      "\u001B[36mCell\u001B[39m\u001B[36m \u001B[39m\u001B[32mIn[6]\u001B[39m\u001B[32m, line 3\u001B[39m\n\u001B[32m      1\u001B[39m \u001B[38;5;28;01mimport\u001B[39;00m\u001B[38;5;250m \u001B[39m\u001B[34;01mre\u001B[39;00m\n\u001B[32m----> \u001B[39m\u001B[32m3\u001B[39m result = \u001B[43mre\u001B[49m\u001B[43m.\u001B[49m\u001B[43msub\u001B[49m\u001B[43m(\u001B[49m\u001B[33;43mr\u001B[39;49m\u001B[33;43m'\u001B[39;49m\u001B[33;43m(\u001B[39;49m\u001B[33;43m\\\u001B[39;49m\u001B[33;43md+)\u001B[39;49m\u001B[33;43m'\u001B[39;49m\u001B[43m,\u001B[49m\u001B[43m \u001B[49m\u001B[33;43mr\u001B[39;49m\u001B[33;43m'\u001B[39;49m\u001B[33;43m\\\u001B[39;49m\u001B[33;43m10\u001B[39;49m\u001B[33;43m'\u001B[39;49m\u001B[43m,\u001B[49m\u001B[43m \u001B[49m\u001B[33;43m'\u001B[39;49m\u001B[33;43mfoo 123 bar\u001B[39;49m\u001B[33;43m'\u001B[39;49m\u001B[43m)\u001B[49m\n\u001B[32m      5\u001B[39m \u001B[38;5;28mprint\u001B[39m(result)\n",
      "\u001B[36mFile \u001B[39m\u001B[32m~\\AppData\\Local\\Programs\\Python\\Python313\\Lib\\re\\__init__.py:208\u001B[39m, in \u001B[36msub\u001B[39m\u001B[34m(pattern, repl, string, count, flags, *args)\u001B[39m\n\u001B[32m    202\u001B[39m     \u001B[38;5;28;01mimport\u001B[39;00m\u001B[38;5;250m \u001B[39m\u001B[34;01mwarnings\u001B[39;00m\n\u001B[32m    203\u001B[39m     warnings.warn(\n\u001B[32m    204\u001B[39m         \u001B[33m\"\u001B[39m\u001B[33m'\u001B[39m\u001B[33mcount\u001B[39m\u001B[33m'\u001B[39m\u001B[33m is passed as positional argument\u001B[39m\u001B[33m\"\u001B[39m,\n\u001B[32m    205\u001B[39m         \u001B[38;5;167;01mDeprecationWarning\u001B[39;00m, stacklevel=\u001B[32m2\u001B[39m\n\u001B[32m    206\u001B[39m     )\n\u001B[32m--> \u001B[39m\u001B[32m208\u001B[39m \u001B[38;5;28;01mreturn\u001B[39;00m \u001B[43m_compile\u001B[49m\u001B[43m(\u001B[49m\u001B[43mpattern\u001B[49m\u001B[43m,\u001B[49m\u001B[43m \u001B[49m\u001B[43mflags\u001B[49m\u001B[43m)\u001B[49m\u001B[43m.\u001B[49m\u001B[43msub\u001B[49m\u001B[43m(\u001B[49m\u001B[43mrepl\u001B[49m\u001B[43m,\u001B[49m\u001B[43m \u001B[49m\u001B[43mstring\u001B[49m\u001B[43m,\u001B[49m\u001B[43m \u001B[49m\u001B[43mcount\u001B[49m\u001B[43m)\u001B[49m\n",
      "\u001B[36mFile \u001B[39m\u001B[32m~\\AppData\\Local\\Programs\\Python\\Python313\\Lib\\re\\__init__.py:377\u001B[39m, in \u001B[36m_compile_template\u001B[39m\u001B[34m(pattern, repl)\u001B[39m\n\u001B[32m    374\u001B[39m \u001B[38;5;129m@functools\u001B[39m.lru_cache(_MAXCACHE)\n\u001B[32m    375\u001B[39m \u001B[38;5;28;01mdef\u001B[39;00m\u001B[38;5;250m \u001B[39m\u001B[34m_compile_template\u001B[39m(pattern, repl):\n\u001B[32m    376\u001B[39m     \u001B[38;5;66;03m# internal: compile replacement pattern\u001B[39;00m\n\u001B[32m--> \u001B[39m\u001B[32m377\u001B[39m     \u001B[38;5;28;01mreturn\u001B[39;00m _sre.template(pattern, \u001B[43m_parser\u001B[49m\u001B[43m.\u001B[49m\u001B[43mparse_template\u001B[49m\u001B[43m(\u001B[49m\u001B[43mrepl\u001B[49m\u001B[43m,\u001B[49m\u001B[43m \u001B[49m\u001B[43mpattern\u001B[49m\u001B[43m)\u001B[49m)\n",
      "\u001B[36mFile \u001B[39m\u001B[32m~\\AppData\\Local\\Programs\\Python\\Python313\\Lib\\re\\_parser.py:1070\u001B[39m, in \u001B[36mparse_template\u001B[39m\u001B[34m(source, pattern)\u001B[39m\n\u001B[32m   1068\u001B[39m             lappend(\u001B[38;5;28mchr\u001B[39m(c))\n\u001B[32m   1069\u001B[39m     \u001B[38;5;28;01mif\u001B[39;00m \u001B[38;5;129;01mnot\u001B[39;00m isoctal:\n\u001B[32m-> \u001B[39m\u001B[32m1070\u001B[39m         \u001B[43maddgroup\u001B[49m\u001B[43m(\u001B[49m\u001B[38;5;28;43mint\u001B[39;49m\u001B[43m(\u001B[49m\u001B[43mthis\u001B[49m\u001B[43m[\u001B[49m\u001B[32;43m1\u001B[39;49m\u001B[43m:\u001B[49m\u001B[43m]\u001B[49m\u001B[43m)\u001B[49m\u001B[43m,\u001B[49m\u001B[43m \u001B[49m\u001B[38;5;28;43mlen\u001B[39;49m\u001B[43m(\u001B[49m\u001B[43mthis\u001B[49m\u001B[43m)\u001B[49m\u001B[43m \u001B[49m\u001B[43m-\u001B[49m\u001B[43m \u001B[49m\u001B[32;43m1\u001B[39;49m\u001B[43m)\u001B[49m\n\u001B[32m   1071\u001B[39m \u001B[38;5;28;01melse\u001B[39;00m:\n\u001B[32m   1072\u001B[39m     \u001B[38;5;28;01mtry\u001B[39;00m:\n",
      "\u001B[36mFile \u001B[39m\u001B[32m~\\AppData\\Local\\Programs\\Python\\Python313\\Lib\\re\\_parser.py:1015\u001B[39m, in \u001B[36mparse_template.<locals>.addgroup\u001B[39m\u001B[34m(index, pos)\u001B[39m\n\u001B[32m   1013\u001B[39m \u001B[38;5;28;01mdef\u001B[39;00m\u001B[38;5;250m \u001B[39m\u001B[34maddgroup\u001B[39m(index, pos):\n\u001B[32m   1014\u001B[39m     \u001B[38;5;28;01mif\u001B[39;00m index > pattern.groups:\n\u001B[32m-> \u001B[39m\u001B[32m1015\u001B[39m         \u001B[38;5;28;01mraise\u001B[39;00m s.error(\u001B[33m\"\u001B[39m\u001B[33minvalid group reference \u001B[39m\u001B[38;5;132;01m%d\u001B[39;00m\u001B[33m\"\u001B[39m % index, pos)\n\u001B[32m   1016\u001B[39m     addliteral()\n\u001B[32m   1017\u001B[39m     result.append(index)\n",
      "\u001B[31mPatternError\u001B[39m: invalid group reference 10 at position 1"
     ]
    }
   ],
   "source": [
    "import re\n",
    "\n",
    "result = re.sub(r'(\\d+)', r'\\10', 'foo 123 bar')\n",
    "\n",
    "print(result)"
   ],
   "metadata": {
    "collapsed": false,
    "ExecuteTime": {
     "end_time": "2025-03-26T05:22:16.480943800Z",
     "start_time": "2025-03-26T05:22:16.440668500Z"
    }
   },
   "id": "e4cac60cde724344"
  },
  {
   "cell_type": "markdown",
   "source": [
    "поскольку Python интерпретирует \\10 как обратную ссылку на десятую захваченную группу, которой в данном случае не существует."
   ],
   "metadata": {
    "collapsed": false
   },
   "id": "c82eb814fbd739ad"
  },
  {
   "cell_type": "code",
   "execution_count": 7,
   "outputs": [
    {
     "name": "stdout",
     "output_type": "stream",
     "text": [
      "foo 1230 bar\n"
     ]
    }
   ],
   "source": [
    "import re\n",
    "\n",
    "result = re.sub(r'(\\d+)', r'\\g<1>0', 'foo 123 bar')\n",
    "\n",
    "print(result)"
   ],
   "metadata": {
    "collapsed": false,
    "ExecuteTime": {
     "end_time": "2025-03-26T05:22:56.735275200Z",
     "start_time": "2025-03-26T05:22:56.723896300Z"
    }
   },
   "id": "97f4b9eb7d8114d6"
  },
  {
   "cell_type": "markdown",
   "source": [
    "Обратная ссылка \\g<0> относится к тексту всего совпадения. Это справедливо, даже если в регулярном выражении нет группирующих скобок."
   ],
   "metadata": {
    "collapsed": false
   },
   "id": "d88fd560e207c052"
  },
  {
   "cell_type": "code",
   "execution_count": 8,
   "outputs": [
    {
     "name": "stdout",
     "output_type": "stream",
     "text": [
      "foo -123- bar -456-\n"
     ]
    }
   ],
   "source": [
    "import re\n",
    "\n",
    "result = re.sub(r'\\d+', r'-\\g<0>-', 'foo 123 bar 456')\n",
    "\n",
    "print(result)"
   ],
   "metadata": {
    "collapsed": false,
    "ExecuteTime": {
     "end_time": "2025-03-26T05:24:18.340998200Z",
     "start_time": "2025-03-26T05:24:18.337935300Z"
    }
   },
   "id": "117f8368f7368c95"
  },
  {
   "cell_type": "markdown",
   "source": [
    "Примечание 2. Если функция sub() не нашла соответствий шаблону регулярного выражения, то она вернет строку без изменения."
   ],
   "metadata": {
    "collapsed": false
   },
   "id": "7e04c9ffca9680d9"
  },
  {
   "cell_type": "code",
   "execution_count": 9,
   "outputs": [
    {
     "name": "stdout",
     "output_type": "stream",
     "text": [
      "foo bar buz\n"
     ]
    }
   ],
   "source": [
    "import re\n",
    "\n",
    "result = re.sub(r'\\d+', r'xxx', 'foo bar buz')\n",
    "\n",
    "print(result)"
   ],
   "metadata": {
    "collapsed": false,
    "ExecuteTime": {
     "end_time": "2025-03-26T05:25:38.566285Z",
     "start_time": "2025-03-26T05:25:38.561075100Z"
    }
   },
   "id": "50bf51b0246030fb"
  },
  {
   "cell_type": "code",
   "execution_count": 10,
   "outputs": [
    {
     "name": "stdout",
     "output_type": "stream",
     "text": [
      "Timur Guev\n"
     ]
    }
   ],
   "source": [
    "from re import sub\n",
    "\n",
    "result = sub(r'(?P<surname>\\w+) (?P<name>\\w+)', r'\\g<name> \\g<surname>', 'Guev Timur')\n",
    "\n",
    "print(result)"
   ],
   "metadata": {
    "collapsed": false,
    "ExecuteTime": {
     "end_time": "2025-03-26T05:29:17.575919800Z",
     "start_time": "2025-03-26T05:29:17.569868500Z"
    }
   },
   "id": "38b15b1e0cd147f6"
  },
  {
   "cell_type": "code",
   "execution_count": 11,
   "outputs": [
    {
     "name": "stdout",
     "output_type": "stream",
     "text": [
      "Gvido was born on 31.01.1956\n"
     ]
    }
   ],
   "source": [
    "from re import sub\n",
    "\n",
    "def convert(match_obj):\n",
    "    year, month, day = match_obj.group().split('-')\n",
    "    return f'{day}.{month}.{year}'\n",
    "\n",
    "result = sub(r'(\\d{4}-\\d{2}-\\d{2})', convert, 'Gvido was born on 1956-01-31')\n",
    "\n",
    "print(result)"
   ],
   "metadata": {
    "collapsed": false,
    "ExecuteTime": {
     "end_time": "2025-03-26T05:32:47.413938600Z",
     "start_time": "2025-03-26T05:32:47.391794300Z"
    }
   },
   "id": "6f4900655b1682da"
  },
  {
   "cell_type": "markdown",
   "source": [
    "Функция normalize_jpeg()\n",
    "Реализуйте функцию normalize_jpeg(), которая принимает один аргумент:\n",
    "\n",
    "filename — название файла, имеющее расширение jpeg или jpg, которое может быть записано буквами произвольного регистра\n",
    "Функция должна возвращать новое название файла с нормализованным расширением — jpg.\n",
    "\n",
    "Примечание 1. В тестирующую систему сдайте программу, содержащую только необходимую функцию normalize_jpeg(), но не код, вызывающий ее."
   ],
   "metadata": {
    "collapsed": false
   },
   "id": "2b482ba730ef3a75"
  },
  {
   "cell_type": "code",
   "execution_count": 30,
   "outputs": [
    {
     "name": "stdout",
     "output_type": "stream",
     "text": [
      "stepik.jpg\n",
      "mountains.jpg\n",
      "windows11.jpg\n",
      "stepik.jpeg.jpg\n"
     ]
    }
   ],
   "source": [
    "import re\n",
    "\n",
    "def normalize_jpeg(filename: str):\n",
    "    return re.sub(r'\\.jpe?g$', r'.jpg', filename, flags=re.I)\n",
    "\n",
    "print(normalize_jpeg('stepik.jPeG'))\n",
    "print(normalize_jpeg('mountains.JPG'))\n",
    "print(normalize_jpeg('windows11.jpg'))\n",
    "print(normalize_jpeg('stepik.jpeg.jpeg'))"
   ],
   "metadata": {
    "collapsed": false,
    "ExecuteTime": {
     "end_time": "2025-03-26T06:03:21.328927300Z",
     "start_time": "2025-03-26T06:03:21.319596600Z"
    }
   },
   "id": "a55a8d86751fc1a7"
  },
  {
   "cell_type": "markdown",
   "source": [
    "Функция normalize_whitespace()\n",
    "Реализуйте функцию normalize_whitespace(), которая принимает один аргумент:\n",
    "\n",
    "string — произвольная строка\n",
    "Функция должна заменять все множественные пробелы в строке string на единственный пробел и возвращать полученный результат.\n",
    "\n",
    "Примечание 1. В тестирующую систему сдайте программу, содержащую только необходимую функцию normalize_whitespace(), но не код, вызывающий ее."
   ],
   "metadata": {
    "collapsed": false
   },
   "id": "3b400a373ca2ac11"
  },
  {
   "cell_type": "code",
   "execution_count": 33,
   "outputs": [
    {
     "name": "stdout",
     "output_type": "stream",
     "text": [
      "AAAA A AAAA\n"
     ]
    }
   ],
   "source": [
    "import re\n",
    "\n",
    "def normalize_whitespace(string: str):\n",
    "    return re.sub(r'( )+', r' ', string)\n",
    "\n",
    "import re\n",
    "\n",
    "def normalize_whitespace(string):\n",
    "    return re.sub(r' +', ' ', string)\n",
    "\n",
    "print(normalize_whitespace('AAAA                A                AAAA'))"
   ],
   "metadata": {
    "collapsed": false,
    "ExecuteTime": {
     "end_time": "2025-03-26T06:12:38.668984800Z",
     "start_time": "2025-03-26T06:12:38.661356Z"
    }
   },
   "id": "68057ecc9413cbce"
  },
  {
   "cell_type": "markdown",
   "source": [
    "Ключевые слова\n",
    "В Python существуют ключевые слова, которые нельзя использовать для названия переменных, функций и классов. Для получения списка всех ключевых слов можно воспользоваться атрибутом kwlist из модуля keyword.\n",
    "\n",
    "Приведенный ниже код:\n",
    "\n",
    "import keyword\n",
    "\n",
    "print(keyword.kwlist)\n",
    "выводит:\n",
    "\n",
    "['False', 'None', 'True', 'and', 'as', 'assert', 'async', 'await', 'break', 'class', 'continue', 'def', 'del', 'elif', 'else', 'except', 'finally', 'for', 'from', 'global', 'if', 'import', 'in', 'is', 'lambda', 'nonlocal', 'not', 'or', 'pass', 'raise', 'return', 'try', 'while', 'with', 'yield']\n",
    "Напишите программу, которая принимает строку текста и заменяет в ней все ключевые слова на <kw>.\n",
    "\n",
    "Формат входных данных\n",
    "На вход программе подается строка.\n",
    "\n",
    "Формат выходных данных\n",
    "Программа должна в введенном тексте заменить все ключевые слова (в любом регистре) на строку <kw> и вывести полученный результат."
   ],
   "metadata": {
    "collapsed": false
   },
   "id": "e2df59269a1b5cc"
  },
  {
   "cell_type": "code",
   "execution_count": 44,
   "outputs": [
    {
     "name": "stdout",
     "output_type": "stream",
     "text": [
      "<kw>, <kw>, <kw>, <kw>, <kw>, <kw>\n"
     ]
    }
   ],
   "source": [
    "import keyword, re\n",
    "\n",
    "regex = r'\\b(' + '|'.join(keyword.kwlist) + r')\\b'\n",
    "# string = input()\n",
    "string = 'True, assert, as, false, or, Import'\n",
    "# string = \"True or False - that's the question\"\n",
    "# string = \"True and False - that is the question\"\n",
    "\n",
    "result = re.sub(regex, r'<kw>', string, flags=re.I)\n",
    "\n",
    "print(result)"
   ],
   "metadata": {
    "collapsed": false,
    "ExecuteTime": {
     "end_time": "2025-03-26T07:00:54.939057600Z",
     "start_time": "2025-03-26T07:00:54.933989100Z"
    }
   },
   "id": "8243623c9b8af8a6"
  },
  {
   "cell_type": "markdown",
   "source": [
    "Первые буквы\n",
    "Напишите программу, которая меняет местами первые две буквы в каждом слове, состоящем из двух или более букв.\n",
    "\n",
    "Формат входных данных\n",
    "На вход программе подается строка, содержащая слова.\n",
    "\n",
    "Формат выходных данных\n",
    "Программа должна в введенной строке заменить первые две буквы в каждом слове, состоящем из двух или более букв, и вывести полученный результат.\n",
    "\n",
    "Примечание 1. Словом будем считать последовательность символов, соответствующих \\w, окруженную символами, соответствующими \\W."
   ],
   "metadata": {
    "collapsed": false
   },
   "id": "8d12b90134d51395"
  },
  {
   "cell_type": "code",
   "execution_count": 65,
   "outputs": [
    {
     "name": "stdout",
     "output_type": "stream",
     "text": [
      "hTis si yPthon\n"
     ]
    }
   ],
   "source": [
    "import re\n",
    "\n",
    "# string = input()\n",
    "string = \"This is Python\"\n",
    "# string = \"Hi, everyone. Lets start a lesson!\"\n",
    "# regex = r'(?P<first>\\w)(?P<second>\\w)'\n",
    "regex = r'(?<=\\b)(?P<first>\\w)(?P<second>\\w)'\n",
    "# (?<=\\b) — положительное предусловие, которое ищет начало слова.\n",
    "switch = r'\\g<second>\\g<first>'\n",
    "# switch = r'\\2\\1'\n",
    "result = re.sub(regex, switch, string)\n",
    "\n",
    "print(result)"
   ],
   "metadata": {
    "collapsed": false,
    "ExecuteTime": {
     "end_time": "2025-03-26T07:24:40.571631700Z",
     "start_time": "2025-03-26T07:24:40.564652Z"
    }
   },
   "id": "ba588b8aae5ebccd"
  },
  {
   "cell_type": "markdown",
   "source": [
    "Умножение строк\n",
    "\n",
    "Назовем умножением строки на число запись в формате n(string), где n — неотрицательное целое число, а string — строка, которая должна быть записана n раз. Раскрытием умножения будем считать развернутый вариант данной записи, например, строка ti2(Be)3(Ge) после раскрытия в ней всех умножений будет иметь вид tiBeBeGeGeGe.\n",
    "\n",
    "Напишите программу, которая раскрывает все умножения в тексте и выводит полученный результат.\n",
    "\n",
    "Формат входных данных\n",
    "На вход программе подается одна строка, содержащая строчные латинские буквы, числа и скобки.\n",
    "\n",
    "Формат выходных данных\n",
    "Программа должна вывести строку, в которой раскрыты все умножения с учетом приоритетности операций.\n",
    "\n",
    "Примечание 1. Гарантируется, что умножение в подаваемой строке всегда записано корректно, то есть строго в формате n(string). Записи вида 4(2), 3q, (fg)7 не корректны.\n",
    "\n",
    "Примечание 2. Рассмотрим третий тест. С учетом приоритетности операций сначала раскрываем умножение 2(a) и получаем промежуточную строку bbbb10(aa)bbb, далее раскрываем умножение 10(aa) и получаем конечный результат в виде строки bbbbaaaaaaaaaaaaaaaaaaaabbb.\n",
    "\n",
    "Примечание 3. Строка, в которой раскрыты все умножения, всегда содержит исключительно строчные латинские буквы.\n",
    "\n",
    "Примечание 4. Максимальная длина результирующей строки не превосходит 450000 символов."
   ],
   "metadata": {
    "collapsed": false
   },
   "id": "da80fc0a5c93f0f0"
  },
  {
   "cell_type": "code",
   "execution_count": 66,
   "outputs": [
    {
     "name": "stdout",
     "output_type": "stream",
     "text": [
      "hiprivdiiidddiiidddiiiddqqprivdiiidddiiidddiiiddqqbqwqdd\n"
     ]
    }
   ],
   "source": [
    "import re\n",
    "\n",
    "def expand(s):\n",
    "    # Регулярное выражение для поиска выражений вида n(string)\n",
    "    pattern = re.compile(r'(\\d+)\\(([^()]+)\\)')\n",
    "    \n",
    "    # Функция для замены одного выражения n(string) на развернутое\n",
    "    def replace_match(match):\n",
    "        number = int(match.group(1))  # Читаем число\n",
    "        inner_string = match.group(2)  # Читаем строку в скобках\n",
    "        return inner_string * number  # Возвращаем строку, повторенную number раз\n",
    "    \n",
    "    # Пока находим такие выражения, продолжаем раскрывать\n",
    "    while '(' in s:\n",
    "        s = re.sub(pattern, replace_match, s)\n",
    "    \n",
    "    return s\n",
    "\n",
    "# Пример использования:\n",
    "# input_string = input().strip()\n",
    "input_string = \"hi2(priv3(d3(i)dd)qq)b0(pr)qwqdd\"\n",
    "result = expand(input_string)\n",
    "print(result)"
   ],
   "metadata": {
    "collapsed": false,
    "ExecuteTime": {
     "end_time": "2025-03-26T08:07:12.167947200Z",
     "start_time": "2025-03-26T08:07:12.156773100Z"
    }
   },
   "id": "f2d6ca19174d69bc"
  },
  {
   "cell_type": "code",
   "execution_count": null,
   "outputs": [],
   "source": [
    "from re import subn\n",
    "\n",
    "s, n = input(), 1\n",
    "\n",
    "while n:\n",
    "    s, n = subn(r'(\\d+)\\((\\w*)\\)', lambda m: m[2] * int(m[1]), s) # subn возвращает новую строку и количество замен, n - это количество замен, когда-нибудь точно будет 0.\n",
    "\n",
    "print(s)"
   ],
   "metadata": {
    "collapsed": false
   },
   "id": "aed8409ae5ffa429"
  },
  {
   "cell_type": "markdown",
   "source": [
    "Повторяющиеся слова 🌶️\n",
    "Напишите программу, которая заменяет все повторяющиеся рядом стоящие слова на одно слово.\n",
    "\n",
    "Формат входных данных\n",
    "На вход программе подается строка, содержащая слова.\n",
    "\n",
    "Формат выходных данных\n",
    "Программа должна в введенной строке заменить все повторяющиеся рядом стоящие слова на одно слово и вывести полученный результат.\n",
    "\n",
    "Примечание 1. Программа должна быть чувствительной к регистру, то есть, например, слова python и Python считаются различными.\n",
    "\n",
    "Примечание 2. Словом будем считать последовательность символов, соответствующих \\w, окруженную символами, соответствующими \\W."
   ],
   "metadata": {
    "collapsed": false
   },
   "id": "6f08e35b8d019bdd"
  },
  {
   "cell_type": "code",
   "execution_count": 19,
   "outputs": [
    {
     "name": "stdout",
     "output_type": "stream",
     "text": [
      "Ba-Barbara Ann\n"
     ]
    }
   ],
   "source": [
    "import re\n",
    "\n",
    "# Ввод строки\n",
    "# s = input()\n",
    "# s = \"beegeek,beegeek,beegeek! python python.. Python.. stepik?stepik?stepik\"\n",
    "s = \"Ba-Ba-Ba-Ba-Barbara Ann\"\n",
    "\n",
    "# Изначально количество замен равно 1, чтобы начать цикл\n",
    "n = 1\n",
    "\n",
    "# Заменяем все подряд идущие одинаковые слова на одно\n",
    "# s = re.sub(r'(\\b\\w+\\b)(?:\\W+\\1)+', r'\\1', s)\n",
    "s = re.sub(r'(\\b\\w+\\b)(?:[\\W]+\\1)+\\b', r'\\1', s)\n",
    "\n",
    "# Выводим результат\n",
    "print(s)"
   ],
   "metadata": {
    "collapsed": false,
    "ExecuteTime": {
     "end_time": "2025-03-26T08:47:05.210817800Z",
     "start_time": "2025-03-26T08:47:05.202554900Z"
    }
   },
   "id": "b93fe969cdb16f1c"
  },
  {
   "cell_type": "code",
   "execution_count": null,
   "outputs": [],
   "source": [
    "from re import sub\n",
    "\n",
    "pattern = r'(\\b\\w+\\b)(\\W+\\1\\b)+'\n",
    "\n",
    "print(sub(pattern, r'\\1', input()))"
   ],
   "metadata": {
    "collapsed": false
   },
   "id": "5e2cff08d78e569f"
  },
  {
   "cell_type": "markdown",
   "source": [
    "Комментарии 🌶️🌶️\n",
    "При написании программ мы нередко оставляем комментарии или строки-документации к функциям. Определим три вида комментариев:\n",
    "\n",
    "однострочные комментарии — строки кода, начинающиеся с символа решетки #. Однострочные комментарии могут находиться на любом уровне вложенности. Например: \n",
    "# это однострочный комментарий\n",
    "\n",
    "def func(a, b):\n",
    "    # это однострочный комментарий\n",
    "    return a + b\n",
    "комментарии, следующие непосредственно за строкой кода. Другими словами, это строка кода, за которой следуют \n",
    "2\n",
    "2 пробела, символ решетки #, пробел и сам комментарий, например:\n",
    "numbers = [1, 2, 3]  # это комментарий\n",
    "многострочные комментарии — одна или несколько строк кода, которые начинаются и заканчиваются тремя кавычками \"\"\". Многострочные комментарии могут находиться на любом уровне вложенности. Например:\n",
    "\"\"\"это многострочный комментарий\"\"\"\n",
    "\n",
    "def func(a, b):\n",
    "    \"\"\"это\n",
    "    многострочный\n",
    "    комментарий\"\"\"\n",
    "    return a + b\n",
    "Напишите программу, которая удаляет все комментарии из Python кода.\n",
    "\n",
    "Формат входных данных\n",
    "На вход программе подается произвольное число строк, представляющих собой Python код.\n",
    "\n",
    "Формат выходных данных\n",
    "Программа должна удалить все комментарии из введенного кода согласно условию задачи и вывести полученный результат.\n",
    "\n",
    "Примечание 1. Гарантируется, что комментарий, следующий за строкой кода, определяется однозначно. Другими словами, в самих строках кода не используется символ #.\n",
    "\n",
    "Примечание 2. Пустые строки в начале и конце всего Python кода, а также пробелы в конце строк кода при сравнении ответов не учитываются. Другими словами, записи:\n",
    "\n",
    "\n",
    "\n",
    "def func(a, b):\n",
    "    return a + b\n",
    "def func(a, b):\n",
    "    return a + b\n",
    "def func(a, b):\n",
    "    return a + b\n",
    "\n",
    "\n",
    "считаются одинаковыми."
   ],
   "metadata": {
    "collapsed": false
   },
   "id": "84ee4bfe08cef58e"
  },
  {
   "cell_type": "code",
   "execution_count": null,
   "outputs": [],
   "source": [
    "import re\n",
    "import sys\n",
    "\n",
    "regex = r'(\\n#.*?$)' \\          \n",
    "        r'|\\s*\"\"\"(.*?)\"\"\"' \\\n",
    "        r'|\\n? *#.*?$'\n",
    "\n",
    "s = sys.stdin.read()\n",
    "print(re.sub(regex, '', s, flags=re.S | re.M))"
   ],
   "metadata": {
    "collapsed": false
   },
   "id": "9c8b8b29457ffdcb"
  }
 ],
 "metadata": {
  "kernelspec": {
   "display_name": "Python 3",
   "language": "python",
   "name": "python3"
  },
  "language_info": {
   "codemirror_mode": {
    "name": "ipython",
    "version": 2
   },
   "file_extension": ".py",
   "mimetype": "text/x-python",
   "name": "python",
   "nbconvert_exporter": "python",
   "pygments_lexer": "ipython2",
   "version": "2.7.6"
  }
 },
 "nbformat": 4,
 "nbformat_minor": 5
}

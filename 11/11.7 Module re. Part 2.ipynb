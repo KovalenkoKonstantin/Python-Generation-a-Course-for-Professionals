{
 "cells": [
  {
   "cell_type": "markdown",
   "source": [
    "Тема урока: модуль re\n",
    "Функция findall()\n",
    "Функция finditer()\n",
    "Аннотация. Данный урок посвящен модулю re, который позволяет работать с регулярными выражениями в Python."
   ],
   "metadata": {
    "collapsed": false
   },
   "id": "6010a4908330d6ea"
  },
  {
   "cell_type": "markdown",
   "source": [
    "Функция findall()"
   ],
   "metadata": {
    "collapsed": false
   },
   "id": "b0cb4ecd3af2c528"
  },
  {
   "cell_type": "markdown",
   "source": [
    "Функция findall() возвращает все неперекрывающиеся совпадения с регулярным выражением в виде списка строк. Строка сканируется слева направо, и совпадения возвращаются в найденном порядке."
   ],
   "metadata": {
    "collapsed": false
   },
   "id": "dc87927a3149a834"
  },
  {
   "cell_type": "markdown",
   "source": [
    "Аргументы функции:\n",
    "\n",
    "pattern — шаблон регулярного выражения\n",
    "string — строка для поиска\n",
    "flags=0 — один или несколько флагов (необязательный аргумент)"
   ],
   "metadata": {
    "collapsed": false
   },
   "id": "9123ec54012850c4"
  },
  {
   "cell_type": "code",
   "execution_count": 3,
   "outputs": [
    {
     "name": "stdout",
     "output_type": "stream",
     "text": [
      "['25', '2', '69']\n"
     ]
    }
   ],
   "source": [
    "import re\n",
    "\n",
    "text = 'ул. Часовая, дом № 25, корпус 2, квартира 69'\n",
    "result = re.findall(r'\\d+', text)\n",
    "\n",
    "print(result)"
   ],
   "metadata": {
    "collapsed": false,
    "ExecuteTime": {
     "end_time": "2025-03-20T08:34:16.118105300Z",
     "start_time": "2025-03-20T08:34:16.114659300Z"
    }
   },
   "id": "b8f2c7fef74c2a1a"
  },
  {
   "cell_type": "markdown",
   "source": [
    "Если регулярное выражение содержит одну группу, то функция findall() вернет список соответствующих групп, а не список полных совпадений с регулярным выражением."
   ],
   "metadata": {
    "collapsed": false
   },
   "id": "9b41f93ec1cafe61"
  },
  {
   "cell_type": "code",
   "execution_count": 5,
   "outputs": [
    {
     "name": "stdout",
     "output_type": "stream",
     "text": [
      "['foo', 'bar', 'baz']\n"
     ]
    }
   ],
   "source": [
    "import re\n",
    "\n",
    "result = re.findall(r'#(\\w+)#', '#foo#.#bar#.#baz#')\n",
    "\n",
    "print(result)"
   ],
   "metadata": {
    "collapsed": false,
    "ExecuteTime": {
     "end_time": "2025-03-20T08:35:04.953917500Z",
     "start_time": "2025-03-20T08:35:04.946331700Z"
    }
   },
   "id": "819e30b379b3df96"
  },
  {
   "cell_type": "markdown",
   "source": [
    "В этом примере регулярному выражению #(\\w+)# соответствуют строки #foo#, #bar# и #baz#. Но символы решетки (#) не отображаются в возвращаемом списке, потому что они находятся за пределами групп."
   ],
   "metadata": {
    "collapsed": false
   },
   "id": "a78faa70a153e08c"
  },
  {
   "cell_type": "markdown",
   "source": [
    "Если регулярное выражение содержит несколько групп, то функция findall() вернет список кортежей, каждый из которых содержит захваченные группы. При этом длина каждого кортежа равна указанному количеству групп."
   ],
   "metadata": {
    "collapsed": false
   },
   "id": "ddaced6c7b30dbd8"
  },
  {
   "cell_type": "code",
   "execution_count": 13,
   "outputs": [
    {
     "name": "stdout",
     "output_type": "stream",
     "text": [
      "[('foo', 'bar'), ('baz', 'qux'), ('quux', 'corge')]\n",
      "[('foo', 'bar', 'baz'), ('qux', 'quux', 'corge')]\n"
     ]
    }
   ],
   "source": [
    "import re\n",
    "\n",
    "result1 = re.findall(r'(\\w+),(\\w+)', 'foo,bar,baz,qux,quux,corge,nope')\n",
    "result2 = re.findall(r'(\\w+),(\\w+),(\\w+)', 'foo,bar,baz,qux,quux,corge,nope,nope')\n",
    "\n",
    "print(result1)\n",
    "print(result2)"
   ],
   "metadata": {
    "collapsed": false,
    "ExecuteTime": {
     "end_time": "2025-03-20T08:40:02.547287700Z",
     "start_time": "2025-03-20T08:40:02.530280500Z"
    }
   },
   "id": "6dda89d511a46407"
  },
  {
   "cell_type": "markdown",
   "source": [
    "Обратите внимание на то, что группы, которые не смогли захватить какой-либо результат, также включаются в результирующий список."
   ],
   "metadata": {
    "collapsed": false
   },
   "id": "8f63bc6604ff5d17"
  },
  {
   "cell_type": "code",
   "execution_count": 10,
   "outputs": [
    {
     "name": "stdout",
     "output_type": "stream",
     "text": [
      "[('foo', 'bar', '')]\n"
     ]
    }
   ],
   "source": [
    "import re\n",
    "\n",
    "result = re.findall(r'(\\w+),(\\w+),(\\w+)?', 'foo,bar,')\n",
    "\n",
    "print(result)"
   ],
   "metadata": {
    "collapsed": false,
    "ExecuteTime": {
     "end_time": "2025-03-20T08:39:14.233896Z",
     "start_time": "2025-03-20T08:39:14.229562200Z"
    }
   },
   "id": "8cbbda9d10fd3610"
  },
  {
   "cell_type": "markdown",
   "source": [
    "Функция finditer()"
   ],
   "metadata": {
    "collapsed": false
   },
   "id": "ddf949d7a7cfb911"
  },
  {
   "cell_type": "markdown",
   "source": [
    "Функция finditer() возвращает все неперекрывающиеся совпадения с регулярным выражением в виде итератора, содержащего объекты соответствия (тип Match). Строка сканируется слева направо, и совпадения возвращаются в найденном порядке."
   ],
   "metadata": {
    "collapsed": false
   },
   "id": "de4e629fd5c209b3"
  },
  {
   "cell_type": "markdown",
   "source": [
    "Аргументы функции:\n",
    "\n",
    "pattern — шаблон регулярного выражения\n",
    "string — строка для поиска\n",
    "flags=0 — один или несколько флагов (необязательный аргумент)"
   ],
   "metadata": {
    "collapsed": false
   },
   "id": "fc2fea9da75d73f4"
  },
  {
   "cell_type": "code",
   "execution_count": 2,
   "outputs": [
    {
     "name": "stdout",
     "output_type": "stream",
     "text": [
      "<class 'callable_iterator'>\n",
      "[<re.Match object; span=(19, 21), match='25'>, <re.Match object; span=(30, 31), match='2'>, <re.Match object; span=(42, 44), match='69'>]\n"
     ]
    }
   ],
   "source": [
    "import re\n",
    "\n",
    "text = 'ул. Часовая, дом № 25, корпус 2, квартира 69'\n",
    "result = re.finditer(r'\\d+', text)\n",
    "\n",
    "print(type(result))\n",
    "print(list(result))"
   ],
   "metadata": {
    "collapsed": false,
    "ExecuteTime": {
     "end_time": "2025-03-21T05:10:03.594054400Z",
     "start_time": "2025-03-21T05:10:03.588411200Z"
    }
   },
   "id": "2df932e06c343feb"
  },
  {
   "cell_type": "code",
   "execution_count": 4,
   "outputs": [
    {
     "name": "stdout",
     "output_type": "stream",
     "text": [
      "<re.Match object; span=(0, 5), match='#foo#'>\n",
      "#foo# foo\n",
      "<re.Match object; span=(6, 11), match='#bar#'>\n",
      "#bar# bar\n",
      "<re.Match object; span=(12, 17), match='#baz#'>\n",
      "#baz# baz\n"
     ]
    }
   ],
   "source": [
    "import re\n",
    "\n",
    "result = re.finditer(r'#(\\w+)#', '#foo#.#bar#.#baz#')\n",
    "\n",
    "for match in result:\n",
    "    print(match)\n",
    "    print(match.group(), match.group(1))"
   ],
   "metadata": {
    "collapsed": false,
    "ExecuteTime": {
     "end_time": "2025-03-21T05:42:10.791443700Z",
     "start_time": "2025-03-21T05:42:10.781304800Z"
    }
   },
   "id": "b8a1b1b30dba3da4"
  },
  {
   "cell_type": "markdown",
   "source": [
    "Функции findall() и finditer() очень похожи, но есть два отличия:\n",
    "\n",
    "функция findall() возвращает список, в то время как функция finditer() возвращает итератор\n",
    "функция findall() возвращает список, содержащий фактические строки, в то время как элементами итератора, который возвращает функция finditer(), являются объекты соответствия (тип Match)\n",
    "Любая задача, решаемая с помощью одной функции, также может быть решена и с помощью другой функции. Однако нужно помнить, что объект соответствия (тип Match) содержит немало дополнительной и полезной информации."
   ],
   "metadata": {
    "collapsed": false
   },
   "id": "f450c969218a1d46"
  },
  {
   "cell_type": "code",
   "execution_count": 5,
   "outputs": [
    {
     "name": "stdout",
     "output_type": "stream",
     "text": [
      "Purse\n",
      "python\n",
      "part\n"
     ]
    }
   ],
   "source": [
    "from re import finditer\n",
    "\n",
    "result = finditer(r'[Pp]\\w+', 'Purse men of genuine python skin (the dorsal part)')\n",
    "\n",
    "for match_obj in result:\n",
    "    print(match_obj.group())"
   ],
   "metadata": {
    "collapsed": false,
    "ExecuteTime": {
     "end_time": "2025-03-21T05:54:40.221179100Z",
     "start_time": "2025-03-21T05:54:40.199296700Z"
    }
   },
   "id": "c2db97bcdb17a35e"
  },
  {
   "cell_type": "code",
   "execution_count": 6,
   "outputs": [
    {
     "name": "stdout",
     "output_type": "stream",
     "text": [
      "Arthur\n",
      "Anri\n"
     ]
    }
   ],
   "source": [
    "from re import finditer\n",
    "\n",
    "result = finditer(r'A(\\w+)', 'Timur, Arthur, Dima, Anri, Ruslan')\n",
    "\n",
    "for match_obj in result:\n",
    "    print(match_obj.group())"
   ],
   "metadata": {
    "collapsed": false,
    "ExecuteTime": {
     "end_time": "2025-03-21T05:54:48.270588600Z",
     "start_time": "2025-03-21T05:54:48.260324700Z"
    }
   },
   "id": "2d91950f1decce0b"
  },
  {
   "cell_type": "markdown",
   "source": [
    "Получается, что findall() и finditer() отличаются не только тем, что возвращают разные объекты, но и тем что первая не возвращает то, что вне группы, а вторая возвращает"
   ],
   "metadata": {
    "collapsed": false
   },
   "id": "5d72356a025c278e"
  },
  {
   "cell_type": "code",
   "execution_count": 7,
   "outputs": [
    {
     "name": "stdout",
     "output_type": "stream",
     "text": [
      "('10', '00')\n",
      "('12', '00')\n"
     ]
    }
   ],
   "source": [
    "from re import finditer\n",
    "\n",
    "result = finditer(r'(\\d\\d):(\\d\\d)', 'You can call me from 10:00 to 12:00')\n",
    "\n",
    "for match_obj in result:\n",
    "    print(match_obj.groups())"
   ],
   "metadata": {
    "collapsed": false,
    "ExecuteTime": {
     "end_time": "2025-03-21T06:00:35.022332800Z",
     "start_time": "2025-03-21T06:00:35.017481100Z"
    }
   },
   "id": "e9cb0715e492c354"
  },
  {
   "cell_type": "code",
   "execution_count": 8,
   "outputs": [
    {
     "name": "stdout",
     "output_type": "stream",
     "text": [
      "10:00\n",
      "12:00\n"
     ]
    }
   ],
   "source": [
    "from re import finditer\n",
    "\n",
    "result = finditer(r'(\\d\\d):(\\d\\d)', 'You can call me from 10:00 to 12:00')\n",
    "\n",
    "for match_obj in result:\n",
    "    print(match_obj.group())"
   ],
   "metadata": {
    "collapsed": false,
    "ExecuteTime": {
     "end_time": "2025-03-21T06:00:41.452173400Z",
     "start_time": "2025-03-21T06:00:41.447175500Z"
    }
   },
   "id": "18d98ead4102ee46"
  },
  {
   "cell_type": "markdown",
   "source": [
    "group(): Этот метод возвращает всю найденную подстроку, соответствующую регулярному выражению целиком.\n",
    "groups(): Этот метод возвращает кортеж, содержащий все найденные подстроки, соответствующие группам регулярного выражения."
   ],
   "metadata": {
    "collapsed": false
   },
   "id": "e2e4ba72fc4140c"
  },
  {
   "cell_type": "markdown",
   "source": [
    "Вам доступна переменная article, содержащая некоторый многострочный текст. Дополните приведенный ниже код, чтобы он определил:\n",
    "\n",
    "количество строк, которые начинаются со слова Stepik (в произвольном регистре);\n",
    "количество строк, которые оканчиваются тремя точками ... или восклицательным знаком !.\n",
    "и вывел два соответствующих числа, каждое на отдельной строке.\n",
    "\n",
    "Примечание 1. Строка может одновременно удовлетворять обоим условиям."
   ],
   "metadata": {
    "collapsed": false
   },
   "id": "db57be3cea029bff"
  },
  {
   "cell_type": "code",
   "execution_count": 21,
   "outputs": [
    {
     "name": "stdout",
     "output_type": "stream",
     "text": [
      "4\n",
      "6\n"
     ]
    }
   ],
   "source": [
    "import re\n",
    "\n",
    "article = '''Stepik (до августа 2016 года Stepic) — это образовательная платформа и конструктор онлайн-курсов!\n",
    "\n",
    "Первые образовательные материалы были выпущены на Stepik 3 сентября 2013 года.\n",
    "В январе 2016 года Stepik выпустил мобильные приложения под iOS и Android. В 2017 году разработаны мобильные приложения для изучения ПДД в адаптивном режиме для iOS и Android...\n",
    "\n",
    "На октябрь 2020 года на платформе зарегистрировано 5 миллионов пользователей!\n",
    "Stepik позволяет любому зарегистрированному пользователю создавать интерактивные обучающие уроки и онлайн-курсы, используя видео, тексты и разнообразные задачи с автоматической проверкой и моментальной обратной связью. \n",
    "\n",
    "Проект сотрудничает как с образовательными учреждениями, так и c индивидуальными преподавателями и авторами.  \n",
    "Stepik сегодня предлагает онлайн-курсы от образовательных организаций, а также индивидуальных авторов!\n",
    "\n",
    "Система автоматизированной проверки задач Stepik была использована в ряде курсов на платформе Coursera, включая курсы по биоинформатике от Калифорнийского университета в Сан-Диего и курс по анализу данных от НИУ «Высшая школа экономики»...\n",
    "\n",
    "Stepik также может функционировать как площадка для проведения конкурсов и олимпиад, среди проведённых мероприятий — отборочный этап Олимпиады НТИ (2016—2020) (всероссийской инженерной олимпиады школьников, в рамках программы Национальная технологическая инициатива), онлайн-этап акции Тотальный диктант в 2017 году, соревнования по информационной безопасности StepCTF-2015...'''\n",
    "\n",
    "regex1 = r'^(stepik)'\n",
    "regex2 = r'((\\.\\.\\.)|!)$'\n",
    "\n",
    "match = re.finditer(regex1, article, re.I|re.M)\n",
    "print(len(list(match)))\n",
    "\n",
    "match = re.finditer(regex2, article, re.M)\n",
    "print(len(list(match)))\n",
    "# for i in match:\n",
    "#     print(i.group())"
   ],
   "metadata": {
    "collapsed": false,
    "ExecuteTime": {
     "end_time": "2025-03-21T06:18:19.096025100Z",
     "start_time": "2025-03-21T06:18:19.089115400Z"
    }
   },
   "id": "d5afc96acc54bda5"
  },
  {
   "cell_type": "markdown",
   "source": [
    "Подслова\n",
    "Напишите программу, которая принимает на вход строку текста и некоторое слово и определяет, сколько раз данное слово встречается как подслово в введенном тексте.\n",
    "\n",
    "Формат входных данных\n",
    "На вход программе на первой строке подается текст, на второй — слово.\n",
    "\n",
    "Формат выходных данных\n",
    "Программа должна определить, сколько раз данное слово встречается как подслово в введенном тексте, и вывести полученный результат.\n",
    "\n",
    "Примечание 1. Словом будем считать последовательность символов, соответствующих \\w, окруженную символами, соответствующими \\W. Подсловом же будет являться последовательность символов, соответствующих \\w, окруженную символами, соответствующими \\w. Например, is является подсловом optimist, а age не является подсловом ageless.\n",
    "\n",
    "Примечание 2. Программа должна учитывать регистр. То есть, например, слова Python и python считаются разными."
   ],
   "metadata": {
    "collapsed": false
   },
   "id": "8d468515b505259c"
  },
  {
   "cell_type": "code",
   "execution_count": 62,
   "outputs": [
    {
     "name": "stdout",
     "output_type": "stream",
     "text": [
      "6\n",
      "er\n",
      "er\n",
      "er\n",
      "er\n",
      "er\n",
      "er\n"
     ]
    }
   ],
   "source": [
    "import re, sys\n",
    "\n",
    "\n",
    "line, word = '''\n",
    "existing pessimist optimist this is\n",
    "is\n",
    "'''.strip().splitlines()\n",
    "\n",
    "line, word = '''\n",
    "I love Python very much, what about me hahah\n",
    "ha\n",
    "'''.strip().splitlines()\n",
    "\n",
    "line, word = '''\n",
    "thdbakru rubabadjso babadirnid iehedba  ibebibeb duabafbf\n",
    "ba\n",
    "'''.strip().splitlines()\n",
    "\n",
    "line, word = '''\n",
    "qwErty12 fierkus geEReRhsh erpuenrpRuner fEERRhherhsero 1e2e2e3e9elefrerkd kerfierd\n",
    "er\n",
    "'''.strip().splitlines()\n",
    "\n",
    "# line, word = sys.stdin.read().splitlines()\n",
    "\n",
    "regex = rf'\\B{re.escape(word)}\\B'\n",
    "\n",
    "match = re.findall(regex, line)\n",
    "print(len(match))\n",
    "\n",
    "match = re.finditer(regex, line)\n",
    "for i in match:\n",
    "    print(i.group())"
   ],
   "metadata": {
    "collapsed": false,
    "ExecuteTime": {
     "end_time": "2025-03-21T07:18:32.615881200Z",
     "start_time": "2025-03-21T07:18:32.612677500Z"
    }
   },
   "id": "b7386fee05a659a2"
  },
  {
   "cell_type": "markdown",
   "source": [
    "Слова\n",
    "Напишите программу, которая принимает на вход строку текста и некоторое слово и определяет, сколько вхождений данного слова содержится в введенном тексте.\n",
    "\n",
    "Формат входных данных\n",
    "На вход программе на первой строке подается текст, на второй — слово.\n",
    "\n",
    "Формат выходных данных\n",
    "Программа должна определить, сколько вхождений данного слова содержится в веденном тексте, и вывести полученный результат.\n",
    "\n",
    "Примечание 1. Словом будем считать последовательность символов, соответствующих \\w, окруженную символами, соответствующими \\W.\n",
    "\n",
    "Примечание 2. Рассмотрим первый тест, в котором содержится 6 вхождений слова foo:\n",
    "\n",
    "foo bar (foo) bar foo-bar foo_bar foo'bar bar-foo bar, foo.\n",
    "foo_bar же является самостоятельным словом."
   ],
   "metadata": {
    "collapsed": false
   },
   "id": "16f31987022a2646"
  },
  {
   "cell_type": "code",
   "execution_count": 64,
   "outputs": [
    {
     "name": "stdout",
     "output_type": "stream",
     "text": [
      "6\n",
      "foo\n",
      "foo\n",
      "foo\n",
      "foo\n",
      "foo\n",
      "foo\n"
     ]
    }
   ],
   "source": [
    "import re, sys\n",
    "\n",
    "\n",
    "line, word = '''\n",
    "foo bar (foo) bar foo-bar foo_bar foo'bar bar-foo bar, foo.\n",
    "foo\n",
    "'''.strip().splitlines()\n",
    "\n",
    "# line, word = sys.stdin.read().splitlines()\n",
    "\n",
    "regex = rf'\\b{re.escape(word)}\\b'\n",
    "\n",
    "match = re.findall(regex, line)\n",
    "print(len(match))\n",
    "\n",
    "match = re.finditer(regex, line)\n",
    "for i in match:\n",
    "    print(i.group())"
   ],
   "metadata": {
    "collapsed": false,
    "ExecuteTime": {
     "end_time": "2025-03-21T07:33:19.817655Z",
     "start_time": "2025-03-21T07:33:19.805314700Z"
    }
   },
   "id": "2a580a9f3bcfbe64"
  },
  {
   "cell_type": "markdown",
   "source": [
    "Одинаковые и разные 🍕\n",
    "Американский английский и Британский английский языки имеют несколько различий, одно из которых наблюдается в написании слов. Например, слова, написанные на Американском английском языке и имеющие суффикс ze, в Британском варианте языка часто записываются с использованием суффикса se. \n",
    "\n",
    "Напишите программу, которая определяет, сколько раз слово встречается в тексте, учитывая его Британско-Американское написание.\n",
    "\n",
    "Формат входных данных\n",
    "На вход программе на первой строке подается слово, которое может быть записано как в Британском, так в Американском варианте, а на следующей — текст.\n",
    "\n",
    "Формат выходных данных\n",
    "Программа должна определить, сколько раз введенное слово встречается в тексте, учитывая его Британско-Американское написание, и вывести полученный результат.\n",
    "\n",
    "Примечание 1. Словом будем считать последовательность символов, соответствующих \\w, окруженную символами, соответствующими \\W.\n",
    "\n",
    "Примечание 2. Программа должна игнорировать регистр. То есть, например, слова Python и python считаются одинаковыми."
   ],
   "metadata": {
    "collapsed": false
   },
   "id": "a78de8dfae5215d"
  },
  {
   "cell_type": "code",
   "execution_count": 67,
   "outputs": [
    {
     "name": "stdout",
     "output_type": "stream",
     "text": [
      "2\n"
     ]
    }
   ],
   "source": [
    "import re, sys\n",
    "\n",
    "\n",
    "word, line = '''\n",
    "Familiarize\n",
    "stepik has such a good ui that it takes no time to familiarise its environment. To familiarize oneself with ui of stepik is easy\n",
    "'''.strip().splitlines()\n",
    "\n",
    "# word, line = sys.stdin.read().splitlines()\n",
    "\n",
    "regex = rf'\\b{re.escape(word)[:-2]}(se|ze)\\b'\n",
    "\n",
    "match = re.findall(regex, line, re.I)\n",
    "print(len(match))\n",
    "\n",
    "match = re.finditer(regex, line)\n",
    "for i in match:\n",
    "    print(i.group())"
   ],
   "metadata": {
    "collapsed": false,
    "ExecuteTime": {
     "end_time": "2025-03-21T07:39:41.857492400Z",
     "start_time": "2025-03-21T07:39:41.846434200Z"
    }
   },
   "id": "8d1f3b2d66109bde"
  },
  {
   "cell_type": "markdown",
   "source": [
    "Одинаковые и разные ☕️\n",
    "В одной из предыдущих задач мы уже наблюдали различие в написании Британских и Американских слов. Еще одно различие заключается в том, что Британия сохранила использование сочетания букв our в своих словах, в то время как Америка отказалась от буквы u и использует лишь or.\n",
    "\n",
    "Напишите программу, которая определяет, сколько раз слово встречается в тексте, учитывая его Британско-Американское написание.\n",
    "\n",
    "Формат входных данных\n",
    "На вход программе на первой строке подается слово, которое записано в Британском варианте, а на следующей — текст.\n",
    "\n",
    "Формат выходных данных\n",
    "Программа должна определить, сколько раз введенное слово встречается в тексте, учитывая его Британско-Американское написание, и вывести полученный результат.\n",
    "\n",
    "Примечание 1. Словом будем считать последовательность символов, соответствующих \\w, окруженную символами, соответствующими \\W.\n",
    "\n",
    "Примечание 2. Гарантируется, что введенное слово состоит из 4 или более букв.\n",
    "\n",
    "Примечание 3. Программа должна игнорировать регистр. То есть, например, слова Python и python считаются одинаковыми."
   ],
   "metadata": {
    "collapsed": false
   },
   "id": "4cead971829c212"
  },
  {
   "cell_type": "code",
   "execution_count": 70,
   "outputs": [
    {
     "name": "stdout",
     "output_type": "stream",
     "text": [
      "2\n"
     ]
    }
   ],
   "source": [
    "import re, sys\n",
    "\n",
    "\n",
    "word, line = '''\n",
    "Odour\n",
    "the odour coming out of the left over food was intolerable. Ammonia has a very pungent odor\n",
    "'''.strip().splitlines()\n",
    "\n",
    "# word, line = sys.stdin.read().splitlines()\n",
    "\n",
    "regex = rf'\\b{re.escape(word)[:-3]}ou?r\\b'\n",
    "\n",
    "match = re.findall(regex, line, re.I)\n",
    "print(len(match))\n",
    "\n",
    "match = re.finditer(regex, line)\n",
    "for i in match:\n",
    "    print(i.group())"
   ],
   "metadata": {
    "collapsed": false,
    "ExecuteTime": {
     "end_time": "2025-03-21T08:15:23.414134300Z",
     "start_time": "2025-03-21T08:15:23.404213300Z"
    }
   },
   "id": "89436010aa6b493c"
  },
  {
   "cell_type": "markdown",
   "source": [
    "Функция abbreviate()\n",
    "Аббревиатура — слово, образованное сокращением слова или словосочетания и читаемое по алфавитному названию начальных букв или по начальным звукам слов, входящих в него.\n",
    "\n",
    "Реализуйте функцию abbreviate(), которая принимает один аргумент:\n",
    "\n",
    "phrase — фраза\n",
    "Функция должна создавать из фразы phrase аббревиатуру в верхнем регистре и возвращать её.\n",
    "\n",
    "Примечание 1. В аббревиатуре должны присутствовать как начальные буквы слов, так и начальные буквы подслов, начинающихся с заглавной буквы, например, JavaScript Object Notation -> JSON.\n",
    "\n",
    "Примечание 2. В тестирующую систему сдайте программу, содержащую только необходимую функцию abbreviate(), но не код, вызывающий ее."
   ],
   "metadata": {
    "collapsed": false
   },
   "id": "bed02a6122949be0"
  },
  {
   "cell_type": "code",
   "execution_count": 90,
   "outputs": [
    {
     "name": "stdout",
     "output_type": "stream",
     "text": [
      "JSON\n",
      "j\n",
      "S\n",
      "o\n",
      "n\n"
     ]
    }
   ],
   "source": [
    "import re\n",
    "\n",
    "line = 'javaScript object notation'\n",
    "\n",
    "regex = r'\\b\\w|[A-Z]'\n",
    "\n",
    "match = re.findall(regex, line)\n",
    "print(''.join(match).upper())\n",
    "\n",
    "match = re.finditer(regex, line)\n",
    "for i in match:\n",
    "    print(i.group())\n",
    "    \n",
    "def abbreviate(phrase):\n",
    "    return ''.join(re.findall(r'\\b\\w|[A-Z]', phrase)).upper()"
   ],
   "metadata": {
    "collapsed": false,
    "ExecuteTime": {
     "end_time": "2025-03-21T08:26:41.513930300Z",
     "start_time": "2025-03-21T08:26:41.508962500Z"
    }
   },
   "id": "6aa614d73bafe86c"
  },
  {
   "cell_type": "markdown",
   "source": [
    "HTML 🌶️\n",
    "HTML-элементы — основа языка HTML. Каждый HTML-элемент обозначается начальным (открывающим) и конечным (закрывающим) тегами. Открывающий и закрывающий теги содержат имя элемента. Открывающий тег может содержать дополнительную информацию — атрибуты и значения атрибутов. Гиперссылки в языке HTML создаются с помощью тега <a></a>. Внутрь помещается текст, который будет отображаться на веб-странице. Обязательной составляющей тега <a></a> является атрибут href, который задает URL-адрес веб-страницы:\n",
    "\n",
    "<a href=\"https://stepik.org\">Stepik</a>  \n",
    "Гиперссылка состоит из двух частей — указателя (Stepik) и адресной части (https://stepik.org). Указатель ссылки представляет собой фрагмент текста или изображение, видимые для пользователя. Адресная часть ссылки пользователю не видна, она представляет собой адрес ресурса, к которому необходимо перейти. Иногда указатель может быть окружен различными тегами (<b></b>, <h1></h1>):\n",
    "\n",
    "<a href=\"https://stepik.org\"><b><h1>Stepik</h1></b></a>\n",
    "Напишите программу, которая находит во фрагменте HTML-страницы все гиперссылки и выводит их составляющие — адресные части и указатели.\n",
    "\n",
    "Формат входных данных\n",
    "На вход программе подается произвольное количество строк, которые образуют фрагмент HTML-страницы.\n",
    "\n",
    "Формат выходных данных\n",
    "Программа должна найти во введенном фрагменте HTML-страницы все гиперссылки и вывести их составляющие — адресные части и указатели, в следующем формате:\n",
    "\n",
    "<адресная часть>, <указатель>\n",
    "<адресная часть>, <указатель>\n",
    "...\n",
    "Примечание 1. Порядок следования данных об очередной гиперссылке должен совпадать с порядком их следования в введенном фрагменте HTML-страницы."
   ],
   "metadata": {
    "collapsed": false
   },
   "id": "bbb97ac013827e14"
  },
  {
   "cell_type": "code",
   "execution_count": 223,
   "outputs": [
    {
     "name": "stdout",
     "output_type": "stream",
     "text": [
      "https://wiki.python.org/moin/BeginnersGuide, Beginner&#39;s Guide\n",
      "https://devguide.python.org/, Developer&#39;s Guide\n",
      "https://docs.python.org/faq/, FAQ\n",
      "http://wiki.python.org/moin/Languages, Non-English Docs\n",
      "http://python.org/dev/peps/, PEP Index\n",
      "https://wiki.python.org/moin/PythonBooks, Python Books\n"
     ]
    }
   ],
   "source": [
    "import re, sys\n",
    "\n",
    "\n",
    "line = '''\n",
    "<p><a href=\"https://stepik.org\">Stepik</a></p>\n",
    "<p><a href=\"https://beegeek.ru\"><b>BEEGEEK</b></a></p>\n",
    "'''\n",
    "\n",
    "line = '''\n",
    "<li class=\"tier-2 element-3\" role=\"treeitem\"><a href=\"https://wiki.python.org/moin/BeginnersGuide\">Beginner&#39;s Guide</a></li>\n",
    "<li class=\"tier-2 element-4\" role=\"treeitem\"><a href=\"https://devguide.python.org/\">Developer&#39;s Guide</a></li>\n",
    "<li class=\"tier-2 element-5\" role=\"treeitem\"><a href=\"https://docs.python.org/faq/\">FAQ</a></li>\n",
    "<li class=\"tier-2 element-6\" role=\"treeitem\"><a href=\"http://wiki.python.org/moin/Languages\">Non-English Docs</a></li>\n",
    "<li class=\"tier-2 element-7\" role=\"treeitem\"><a href=\"http://python.org/dev/peps/\">PEP Index</a></li>\n",
    "<li class=\"tier-2 element-8\" role=\"treeitem\"><a href=\"https://wiki.python.org/moin/PythonBooks\">Python Books</a></li>\n",
    "'''\n",
    "\n",
    "# line = sys.stdin.read()\n",
    "\n",
    "regex = r'href=\"(.+)\">(.+)</a>'\n",
    "\n",
    "match = re.findall(regex, line, re.I|re.M)\n",
    "for link, text in match:\n",
    "    print(f\"{link}, {text}\")\n",
    "\n",
    "# match = re.finditer(regex, line, re.I|re.M)\n",
    "# for i in match:\n",
    "#     print(i.group())"
   ],
   "metadata": {
    "collapsed": false,
    "ExecuteTime": {
     "end_time": "2025-03-21T09:42:08.288883600Z",
     "start_time": "2025-03-21T09:42:08.285889300Z"
    }
   },
   "id": "c2ddcff29d42dd0f"
  },
  {
   "cell_type": "code",
   "execution_count": null,
   "outputs": [],
   "source": [
    "import re, sys\n",
    "\n",
    "pattern = r\"(?P<url>(?<=href=\\\").+(?=\\\">)).*(?P<name>(?<=\\\">).+(?=</a>))\"\n",
    "for s in sys.stdin:\n",
    "    match = re.search(pattern, s)\n",
    "    if match:\n",
    "        print(f'{match.group(\"url\")}, {match.group(\"name\")}')"
   ],
   "metadata": {
    "collapsed": false
   },
   "id": "67ca3877659d377b"
  },
  {
   "cell_type": "markdown",
   "source": [
    "HTML 🌶️🌶️\n",
    "HTML-элементы — основа языка HTML. Каждый HTML-элемент обозначается начальным (открывающим) и конечным (закрывающим) тегами. Открывающий и закрывающий теги содержат имя элемента. Открывающий тег может содержать дополнительную информацию — атрибуты и значения атрибутов:\n",
    "\n",
    "<b>BeeGeek</b>\n",
    "<a href=\"https://stepik.org\">Stepik</a>\n",
    "В примере выше тег <b> не содержит никаких атрибутов, а тег <a> содержит атрибут href со значением https://stepik.org.\n",
    "\n",
    "Напишите программу, которая находит во фрагменте HTML-страницы все атрибуты каждого тега.\n",
    "\n",
    "Формат входных данных\n",
    "На вход программе подается произвольное количество строк, которые образуют фрагмент HTML-страницы.\n",
    "\n",
    "Формат выходных данных\n",
    "Программа должна найти в введенном фрагменте HTML-страницы все теги и вывести их, указав для каждого соответствующие атрибуты. Теги вместе со всеми атрибутами должны быть расположены каждый на отдельной строке, в следующем формате:\n",
    "\n",
    "<тег>: <атрибут>, <атрибут>, ...\n",
    "Теги, а также атрибуты тегов, должны быть расположены в лексикографическом порядке."
   ],
   "metadata": {
    "collapsed": false
   },
   "id": "3d4f494d31dbb9a1"
  },
  {
   "cell_type": "code",
   "execution_count": null,
   "outputs": [],
   "source": [
    "import sys\n",
    "import re\n",
    "from collections import defaultdict\n",
    "\n",
    "# Читаем входные данные\n",
    "html = sys.stdin.read()\n",
    "\n",
    "# Регулярное выражение для поиска тегов и их атрибутов\n",
    "pattern = re.compile(r'<(\\w+)([^>]*)>')\n",
    "attr_pattern = re.compile(r'(\\w+(?:-\\w+)*)=')\n",
    "\n",
    "# Словарь для хранения тегов и их атрибутов\n",
    "tags = defaultdict(set)\n",
    "\n",
    "# Поиск всех тегов в HTML\n",
    "for tag_match in pattern.finditer(html):\n",
    "    tag_name = tag_match.group(1)  # Имя тега\n",
    "    attributes_str = tag_match.group(2)  # Строка с атрибутами\n",
    "    \n",
    "    # Поиск атрибутов внутри тега\n",
    "    attributes = attr_pattern.findall(attributes_str)\n",
    "    \n",
    "    # Добавляем атрибуты в словарь\n",
    "    tags[tag_name].update(attributes)\n",
    "\n",
    "# Выводим теги и их атрибуты в лексикографическом порядке\n",
    "for tag in sorted(tags):\n",
    "    print(f\"<{tag}>: {', '.join(sorted(tags[tag]))}\")"
   ],
   "metadata": {
    "collapsed": false
   },
   "id": "535d3a894eed814c"
  },
  {
   "cell_type": "code",
   "execution_count": null,
   "outputs": [],
   "source": [
    "import sys\n",
    "from bs4 import BeautifulSoup\n",
    "\n",
    "soup = BeautifulSoup(sys.stdin.read(), 'html.parser')\n",
    "dct = {i.name: i.attrs.keys() for i in soup.find_all(True)}\n",
    "\n",
    "for k, v in sorted(dct.items()):\n",
    "    print(f'{k}: {\", \".join(sorted(v))}')"
   ],
   "metadata": {
    "collapsed": false
   },
   "id": "deb8850bd83114db"
  }
 ],
 "metadata": {
  "kernelspec": {
   "display_name": "Python 3",
   "language": "python",
   "name": "python3"
  },
  "language_info": {
   "codemirror_mode": {
    "name": "ipython",
    "version": 2
   },
   "file_extension": ".py",
   "mimetype": "text/x-python",
   "name": "python",
   "nbconvert_exporter": "python",
   "pygments_lexer": "ipython2",
   "version": "2.7.6"
  }
 },
 "nbformat": 4,
 "nbformat_minor": 5
}

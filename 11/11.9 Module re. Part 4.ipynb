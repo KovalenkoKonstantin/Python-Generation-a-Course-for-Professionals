{
 "cells": [
  {
   "cell_type": "markdown",
   "source": [
    "Тема урока: модуль re\n",
    "Функция split()\n",
    "Функция compile()\n",
    "Аннотация. Данный урок посвящен модулю re, который позволяет работать с регулярными выражениями в Python."
   ],
   "metadata": {
    "collapsed": false
   },
   "id": "d3f7d38bd522313d"
  },
  {
   "cell_type": "markdown",
   "source": [
    "Функция split()"
   ],
   "metadata": {
    "collapsed": false
   },
   "id": "9ddda436113cbee2"
  },
  {
   "cell_type": "markdown",
   "source": [
    "Как мы знаем, строковый тип данных str содержит метод split(), который разбивает строку текста на подстроки, используя в качестве разделителя переданную строку."
   ],
   "metadata": {
    "collapsed": false
   },
   "id": "83b7e321ef400875"
  },
  {
   "cell_type": "code",
   "execution_count": 1,
   "outputs": [
    {
     "name": "stdout",
     "output_type": "stream",
     "text": [
      "['stepik', 'beegeek', 'python']\n",
      "['aaa', 'bbbb', 'ccccc']\n",
      "['hello', 'world', 'from', 'beegeek']\n"
     ]
    }
   ],
   "source": [
    "print('stepik beegeek       python'.split())             # по умолчанию разбиваем через пробельные символы\n",
    "print('aaa,bbbb,ccccc'.split(','))\n",
    "print('hello---world---from---beegeek'.split('---'))"
   ],
   "metadata": {
    "collapsed": false,
    "ExecuteTime": {
     "end_time": "2025-03-26T09:03:55.242548800Z",
     "start_time": "2025-03-26T09:03:55.234049100Z"
    }
   },
   "id": "e588bceb5076170c"
  },
  {
   "cell_type": "markdown",
   "source": [
    "В модуле re есть более мощная функция split(), работающая аналогичным образом."
   ],
   "metadata": {
    "collapsed": false
   },
   "id": "636e9c9ed626c965"
  },
  {
   "cell_type": "markdown",
   "source": [
    "Функция re.split() разбивает строку на подстроки, используя регулярное выражение в качестве разделителя, и возвращает подстроки в виде списка."
   ],
   "metadata": {
    "collapsed": false
   },
   "id": "707a8909c62180e1"
  },
  {
   "cell_type": "markdown",
   "source": [
    "Аргументы функции:\n",
    "\n",
    "pattern — шаблон регулярного выражения\n",
    "string — строка для поиска\n",
    "maxsplit=0 — максимальное количество разбиений (необязательный аргумент)\n",
    "flags=0 — один или несколько флагов (необязательный аргумент)"
   ],
   "metadata": {
    "collapsed": false
   },
   "id": "81940d82d651c865"
  },
  {
   "cell_type": "code",
   "execution_count": 2,
   "outputs": [
    {
     "name": "stdout",
     "output_type": "stream",
     "text": [
      "['foo', 'bar', 'baz', 'qux', 'stepik', 'beegeek']\n"
     ]
    }
   ],
   "source": [
    "import re\n",
    "\n",
    "result = re.split(r'[,;.]', 'foo,bar.baz;qux;stepik,beegeek')\n",
    "# разбивает строку на подстроки, используя в качестве разделителя один из трех символов ,, ; или .\n",
    "print(result)"
   ],
   "metadata": {
    "collapsed": false,
    "ExecuteTime": {
     "end_time": "2025-03-26T09:04:37.134342500Z",
     "start_time": "2025-03-26T09:04:37.127451400Z"
    }
   },
   "id": "74bf6878d60754e8"
  },
  {
   "cell_type": "code",
   "execution_count": 3,
   "outputs": [
    {
     "name": "stdout",
     "output_type": "stream",
     "text": [
      "['foo', 'bar', 'baz', 'qux', 'stepik', 'beegeek']\n"
     ]
    }
   ],
   "source": [
    "import re\n",
    "\n",
    "result = re.split(r'\\s*[,;.]\\s*', 'foo,   bar. baz   ;    qux ;  stepik   ,   beegeek')\n",
    "# разбивает строку на подстроки, используя в качестве разделителя один из трех символов ,, ; или ., окруженный любым количеством пробелов s - spase\n",
    "print(result)"
   ],
   "metadata": {
    "collapsed": false,
    "ExecuteTime": {
     "end_time": "2025-03-26T09:05:23.851546600Z",
     "start_time": "2025-03-26T09:05:23.840981700Z"
    }
   },
   "id": "85540b3bbda70165"
  },
  {
   "cell_type": "markdown",
   "source": [
    "Если шаблон регулярного выражения содержит группы захвата, то возвращаемый список помимо подстрок также включает в себя эти группы."
   ],
   "metadata": {
    "collapsed": false
   },
   "id": "48361a3b81124968"
  },
  {
   "cell_type": "code",
   "execution_count": 4,
   "outputs": [
    {
     "name": "stdout",
     "output_type": "stream",
     "text": [
      "['foo', ',', 'bar', '.', 'baz', ';', 'qux', ';', 'stepik', ',', 'beegeek']\n",
      "['foo', ',   ', 'bar', '. ', 'baz', '   ;    ', 'qux', ' ;  ', 'stepik', '   ,   ', 'beegeek']\n"
     ]
    }
   ],
   "source": [
    "import re\n",
    "\n",
    "result1 = re.split(r'\\s*([,;.])\\s*', 'foo,   bar. baz   ;    qux ;  stepik   ,   beegeek')\n",
    "result2 = re.split(r'(\\s*[,;.]\\s*)', 'foo,   bar. baz   ;    qux ;  stepik   ,   beegeek')\n",
    "\n",
    "print(result1)\n",
    "print(result2)"
   ],
   "metadata": {
    "collapsed": false,
    "ExecuteTime": {
     "end_time": "2025-03-26T09:07:19.408984100Z",
     "start_time": "2025-03-26T09:07:19.404198800Z"
    }
   },
   "id": "f5dd563996f56d1e"
  },
  {
   "cell_type": "markdown",
   "source": [
    "Как мы видим, результирующий список result2 содержит не только подстроки, но и сами группы, соответствующие шаблону регулярного выражения:\n",
    "\n",
    "',   '\n",
    "'. '\n",
    "'   ;    '\n",
    "' ;  '\n",
    "'   ,   '"
   ],
   "metadata": {
    "collapsed": false
   },
   "id": "23dfff2dc58b7e2f"
  },
  {
   "cell_type": "markdown",
   "source": [
    "Такое поведение может быть полезно, если мы хотим разделить строку на подстроки некоторыми разделителями, затем обработать все полученные подстроки, а затем снова собрать строку вместе, используя те же разделители."
   ],
   "metadata": {
    "collapsed": false
   },
   "id": "a6f2b3be6497aeb3"
  },
  {
   "cell_type": "code",
   "execution_count": 5,
   "outputs": [
    {
     "name": "stdout",
     "output_type": "stream",
     "text": [
      "foo,bar.baz;  qux;stepik,    beegeek\n",
      "[foo],[bar].[baz];  [qux];[stepik],    [beegeek]\n"
     ]
    }
   ],
   "source": [
    "import re\n",
    "\n",
    "string = 'foo,bar.baz;  qux;stepik,    beegeek'\n",
    "regex = r'(\\s*[,;.]\\s*)'\n",
    "\n",
    "result = re.split(regex, string)\n",
    "\n",
    "for index, value in enumerate(result):\n",
    "    if not re.fullmatch(regex, value):\n",
    "        result[index] = f'[{value}]'\n",
    "\n",
    "new_string = ''.join(result)\n",
    "\n",
    "print(string)\n",
    "print(new_string)"
   ],
   "metadata": {
    "collapsed": false,
    "ExecuteTime": {
     "end_time": "2025-03-26T09:09:30.838740100Z",
     "start_time": "2025-03-26T09:09:30.835176100Z"
    }
   },
   "id": "57475bf0da6449b1"
  },
  {
   "cell_type": "markdown",
   "source": [
    "Если нам нужно использовать группы, но мы не хотим, чтобы разделители включались в результирующий список, то можно использовать группы без захвата, используя синтаксис (?:<regex>)."
   ],
   "metadata": {
    "collapsed": false
   },
   "id": "ed9ab24ccaa8ad3c"
  },
  {
   "cell_type": "code",
   "execution_count": 6,
   "outputs": [
    {
     "name": "stdout",
     "output_type": "stream",
     "text": [
      "['foo', 'bar', 'baz', 'qux', 'stepik', 'beegeek']\n"
     ]
    }
   ],
   "source": [
    "import re\n",
    "\n",
    "result = re.split(r'(?:\\s*[,;.]\\s*)', 'foo,   bar. baz   ;    qux ;  stepik   ,   beegeek')\n",
    "\n",
    "print(result)"
   ],
   "metadata": {
    "collapsed": false,
    "ExecuteTime": {
     "end_time": "2025-03-26T09:11:38.493456300Z",
     "start_time": "2025-03-26T09:11:38.485236200Z"
    }
   },
   "id": "4d111816d51649df"
  },
  {
   "cell_type": "markdown",
   "source": [
    "Ограничение количества разбиений"
   ],
   "metadata": {
    "collapsed": false
   },
   "id": "804cc98644ff6743"
  },
  {
   "cell_type": "markdown",
   "source": [
    "Мы можем использовать необязательный аргумент maxsplit для задания максимального количества разбиений строки."
   ],
   "metadata": {
    "collapsed": false
   },
   "id": "2b84696dc071b361"
  },
  {
   "cell_type": "code",
   "execution_count": 7,
   "outputs": [
    {
     "name": "stdout",
     "output_type": "stream",
     "text": [
      "['foo', 'bar', 'baz', 'qux', 'stepik', 'beegeek']\n",
      "['foo', 'bar', 'baz; qux;   stepik;    beegeek']\n",
      "['foo', 'bar', 'baz', 'qux', 'stepik;    beegeek']\n"
     ]
    }
   ],
   "source": [
    "import re\n",
    "\n",
    "text = 'foo; bar;   baz; qux;   stepik;    beegeek'\n",
    "regex = r';\\s*'\n",
    "\n",
    "result1 = re.split(regex, text)\n",
    "result2 = re.split(regex, text, maxsplit=2)\n",
    "result3 = re.split(regex, text, maxsplit=4)\n",
    "\n",
    "print(result1)\n",
    "print(result2)\n",
    "print(result3)"
   ],
   "metadata": {
    "collapsed": false,
    "ExecuteTime": {
     "end_time": "2025-03-26T09:13:21.840645100Z",
     "start_time": "2025-03-26T09:13:21.832075Z"
    }
   },
   "id": "8e63f0b97e763249"
  },
  {
   "cell_type": "markdown",
   "source": [
    "Как мы видим, последний элемент в результирующем списке — это часть начальной строки, оставшаяся после того, как произошли все разбиения в заданном количестве maxsplit."
   ],
   "metadata": {
    "collapsed": false
   },
   "id": "19c69c83dbc18212"
  },
  {
   "cell_type": "markdown",
   "source": [
    "Явное указание maxsplit=0 эквивалентно его полному отсутствию. При этом если значение maxsplit является отрицательным числом, то функция re.split() возвращает исходную строку без изменений."
   ],
   "metadata": {
    "collapsed": false
   },
   "id": "3cc0ccf7cce94db5"
  },
  {
   "cell_type": "markdown",
   "source": [
    "Примечания"
   ],
   "metadata": {
    "collapsed": false
   },
   "id": "fc656f4af05e0a1b"
  },
  {
   "cell_type": "markdown",
   "source": [
    "Примечание 1. Функция re.split() неоценима для преобразования текстовых данных в структуры данных, которые могут быть легко прочитаны и изменены Python."
   ],
   "metadata": {
    "collapsed": false
   },
   "id": "9d593615816fcddf"
  },
  {
   "cell_type": "markdown",
   "source": [
    "Примечание 2. Строковый метод split() также содержит необязательный аргумент maxsplit."
   ],
   "metadata": {
    "collapsed": false
   },
   "id": "cdedbe266acee32f"
  },
  {
   "cell_type": "code",
   "execution_count": 8,
   "outputs": [
    {
     "name": "stdout",
     "output_type": "stream",
     "text": [
      "['foo', 'bar', 'baz;beegeek;stepik;python']\n"
     ]
    }
   ],
   "source": [
    "text = 'foo;bar;baz;beegeek;stepik;python'\n",
    "\n",
    "print(text.split(sep=';', maxsplit=2))"
   ],
   "metadata": {
    "collapsed": false,
    "ExecuteTime": {
     "end_time": "2025-03-26T09:14:51.706185400Z",
     "start_time": "2025-03-26T09:14:51.697968100Z"
    }
   },
   "id": "5a8ac9c38704f03b"
  },
  {
   "cell_type": "code",
   "execution_count": 9,
   "outputs": [
    {
     "name": "stdout",
     "output_type": "stream",
     "text": [
      "['', '/', 'beegeek', '/', 'stepik', '/', 'python', '/', '']\n"
     ]
    }
   ],
   "source": [
    "import re \n",
    "\n",
    "result = re.split(r'(/)', '/beegeek/stepik/python/')\n",
    "\n",
    "print(result)"
   ],
   "metadata": {
    "collapsed": false,
    "ExecuteTime": {
     "end_time": "2025-03-26T09:15:15.134371800Z",
     "start_time": "2025-03-26T09:15:15.120372700Z"
    }
   },
   "id": "2981b7576876d8f7"
  },
  {
   "cell_type": "markdown",
   "source": [
    "В приведенном примере разделителем является один символ косой черты /, заключенный в группу. Таким образом, слева от первого разделителя и справа от последнего находится пустая строка. Поэтому функция re.split() помещает пустые строки в качестве первого и последнего элементов возвращаемого списка. Аналогично работает и строковый метод split()."
   ],
   "metadata": {
    "collapsed": false
   },
   "id": "13b2bf9ec2caa209"
  },
  {
   "cell_type": "code",
   "execution_count": 10,
   "outputs": [
    {
     "name": "stdout",
     "output_type": "stream",
     "text": [
      "['', 'beegeek', 'stepik', 'python', '']\n"
     ]
    }
   ],
   "source": [
    "result = '/beegeek/stepik/python/'.split('/')\n",
    "\n",
    "print(result)"
   ],
   "metadata": {
    "collapsed": false,
    "ExecuteTime": {
     "end_time": "2025-03-26T09:15:53.155807600Z",
     "start_time": "2025-03-26T09:15:53.152124300Z"
    }
   },
   "id": "5db684aff5b7818b"
  },
  {
   "cell_type": "code",
   "execution_count": 11,
   "outputs": [
    {
     "name": "stdout",
     "output_type": "stream",
     "text": [
      "False\n"
     ]
    }
   ],
   "source": [
    "text = 'bee     geek py  stepik          python'\n",
    "\n",
    "result1 = text.split()\n",
    "result2 = text.split(' ')\n",
    "# Несколько раз сталкивался но уже забыл, что в случае с sep=\" \", могут оставаться пустые строки. А по умолчанию (the default value) пустые строки удаляются(discard empty strings from the result)\n",
    "print(result1 == result2)"
   ],
   "metadata": {
    "collapsed": false,
    "ExecuteTime": {
     "end_time": "2025-03-26T09:18:38.457616400Z",
     "start_time": "2025-03-26T09:18:38.447468600Z"
    }
   },
   "id": "a909760a92fe7446"
  },
  {
   "cell_type": "code",
   "execution_count": 14,
   "outputs": [
    {
     "name": "stdout",
     "output_type": "stream",
     "text": [
      "['1', '2', '3', '4']\n"
     ]
    }
   ],
   "source": [
    "import re\n",
    "\n",
    "result = re.split(r'\\D+', '1 + 2 - 3 * 4')\n",
    "# \\d-[0-9]   - любая цифра\n",
    "# \\D-[^0-9] - любой нецифровой символ\n",
    "print(result)"
   ],
   "metadata": {
    "collapsed": false,
    "ExecuteTime": {
     "end_time": "2025-03-26T09:30:29.539615900Z",
     "start_time": "2025-03-26T09:30:29.534209300Z"
    }
   },
   "id": "2bbc9ad106f50625"
  },
  {
   "cell_type": "code",
   "execution_count": 12,
   "outputs": [
    {
     "name": "stdout",
     "output_type": "stream",
     "text": [
      "['1', '2', '3', '']\n"
     ]
    }
   ],
   "source": [
    "import re\n",
    "\n",
    "result = re.split(r'\\D+', '1 + 2 - 3 =')\n",
    "\n",
    "print(result)"
   ],
   "metadata": {
    "collapsed": false,
    "ExecuteTime": {
     "end_time": "2025-03-26T09:27:17.396110900Z",
     "start_time": "2025-03-26T09:27:17.384961900Z"
    }
   },
   "id": "71b698b5f3c16e31"
  },
  {
   "cell_type": "code",
   "execution_count": null,
   "outputs": [],
   "source": [
    "import re\n",
    "\n",
    "result = re.split(r'(\\w+)\\1', 're pypy py rere re')\n",
    "# разделителем в этом примере будет набор из символов \\w+, за которым следует этот же набор (повторение \\1). В данном случае разделителя два:  pypy и  rere (состоят из повторяющихся слогов). То есть разделенная строка в виде списка частей будет выглядеть так: 're ', ' py ', ' re'. Но так как в регулярном выражении выделена группа (\\w+), то к частям разделенной строки в списке будут добавлены элементы, соответствующие группе (в данном случае это py и re (мы не берем pypy и  rere, так как группа это только набор без повтора)). \n",
    "print(result)"
   ],
   "metadata": {
    "collapsed": false
   },
   "id": "fd4d36bb9b231ad"
  },
  {
   "cell_type": "markdown",
   "source": [
    "Точка с запятой\n",
    "Напишите программу, которая разбивает строку по символам точки, запятой и точки с запятой.\n",
    "\n",
    "Формат входных данных\n",
    "На вход программе подается строка, содержащая различные значения, разделенные символами точки ., запятой , или точки с запятой ;, вокруг которых могут располагаться пробелы.\n",
    "\n",
    "Формат выходных данных\n",
    "Программа должна разбить введенную строку по символам точки, запятой и точки с запятой, захватывая вокруг стоящие пробелы, и вывести все значения, полученные при разбиении, через пробел."
   ],
   "metadata": {
    "collapsed": false
   },
   "id": "90e4f90b50ab67c3"
  },
  {
   "cell_type": "code",
   "execution_count": 23,
   "outputs": [
    {
     "name": "stdout",
     "output_type": "stream",
     "text": [
      "arthur timur dima anri\n"
     ]
    }
   ],
   "source": [
    "import re\n",
    "\n",
    "result = re.split(r'(?:\\s*[,;.]\\s*)', input())\n",
    "\n",
    "print(*result)"
   ],
   "metadata": {
    "collapsed": false,
    "ExecuteTime": {
     "end_time": "2025-03-26T09:34:39.582639500Z",
     "start_time": "2025-03-26T09:34:39.576864100Z"
    }
   },
   "id": "c4a4214ec65cdea5"
  },
  {
   "cell_type": "markdown",
   "source": [
    "Логическое выражение\n",
    "Дано логическое выражение, состоящее из переменных, а также операторов |, &, and или or. Напишите программу, которая разбивает данную строку по указанным операторам.\n",
    "\n",
    "Формат входных данных\n",
    "На вход программе подается строка, содержащая логическое выражение, которое состоит из переменных и операторов |, &, and или or, между которыми могут располагаться пробелы.\n",
    "\n",
    "Формат  выходных данных\n",
    "Программа должна разбить введенную строку по указанным логическим операторам, захватывая вокруг стоящие пробелы, и вывести все значения, полученные при разбиении, через запятую и пробел."
   ],
   "metadata": {
    "collapsed": false
   },
   "id": "6a53864760fcdc16"
  },
  {
   "cell_type": "code",
   "execution_count": 47,
   "outputs": [
    {
     "name": "stdout",
     "output_type": "stream",
     "text": [
      "a, b, c\n"
     ]
    }
   ],
   "source": [
    "import re\n",
    "\n",
    "result = re.split(r'\\s*(?:and|or|\\&|\\|)\\s*', input())\n",
    "\n",
    "print(', '.join(result))"
   ],
   "metadata": {
    "collapsed": false,
    "ExecuteTime": {
     "end_time": "2025-03-26T09:56:08.560618200Z",
     "start_time": "2025-03-26T09:56:08.553514Z"
    }
   },
   "id": "a06943d9439edc19"
  },
  {
   "cell_type": "markdown",
   "source": [
    "Функция multiple_split()\n",
    "Реализуйте функцию multiple_split(), которая принимает два аргумента:\n",
    "\n",
    "string — строка\n",
    "delimiters — список строк\n",
    "Функция должна разбивать строку string на подстроки, используя в качестве разделителей строки из списка delimiters, и возвращать полученный результат в виде списка.\n",
    "\n",
    "Примечание 1. Другими словами, функция multiple_split() должна работать аналогично строковому методу split(), за тем исключением, что delimiters может содержать не единственный разделитель, а целый набор разделителей.\n",
    "\n",
    "Примечание 2. В тестирующую систему сдайте программу, содержащую только необходимую функцию multiple_split(), но не код, вызывающий ее."
   ],
   "metadata": {
    "collapsed": false
   },
   "id": "a36ce04bc1f2d915"
  },
  {
   "cell_type": "code",
   "execution_count": 57,
   "outputs": [
    {
     "name": "stdout",
     "output_type": "stream",
     "text": [
      "['beegeek', 'python', 'stepik']\n"
     ]
    }
   ],
   "source": [
    "import re\n",
    "def multiple_split(string: str, delimiters: list):    \n",
    "    return re.split('|'.join(map(re.escape, delimiters)), string)\n",
    "# Функция re.escape используется для экранирования (то есть, добавления обратных слэшей) специальных символов в строке, чтобы их можно было безопасно использовать в регулярных выражениях.\n",
    "# '|'.join(...) joins the escaped delimiters into a single pattern with | (OR) to match any of the delimiters.\n",
    "print(multiple_split('beegeek-python.stepik', ['.', '-']))"
   ],
   "metadata": {
    "collapsed": false,
    "ExecuteTime": {
     "end_time": "2025-03-26T10:02:10.562349400Z",
     "start_time": "2025-03-26T10:02:10.554639800Z"
    }
   },
   "id": "1a76e5c51f53cc00"
  },
  {
   "cell_type": "markdown",
   "source": [
    "Функция compile()"
   ],
   "metadata": {
    "collapsed": false
   },
   "id": "ecf910e326859c9b"
  },
  {
   "cell_type": "markdown",
   "source": [
    "Модуль re поддерживает возможность предварительной компиляции регулярного выражения в специальный объект, который можно повторно использовать позже. Для этого используется функция compile()."
   ],
   "metadata": {
    "collapsed": false
   },
   "id": "8883ecea93565f21"
  },
  {
   "cell_type": "markdown",
   "source": [
    "Аргументы функции:\n",
    "\n",
    "regex — шаблон регулярного выражения\n",
    "flags=0 — один или несколько флагов (необязательный аргумент)"
   ],
   "metadata": {
    "collapsed": false
   },
   "id": "4f754575d42ddc8c"
  },
  {
   "cell_type": "markdown",
   "source": [
    "Существует два способа использования скомпилированного объекта регулярного выражения."
   ],
   "metadata": {
    "collapsed": false
   },
   "id": "eecb193f24ef5f42"
  },
  {
   "cell_type": "markdown",
   "source": [
    "1 способ: мы можем его указать в качестве первого аргумента для функций модуля re, вместо шаблона регулярного выражения."
   ],
   "metadata": {
    "collapsed": false
   },
   "id": "22782755b3e7b2d9"
  },
  {
   "cell_type": "code",
   "execution_count": 59,
   "outputs": [
    {
     "name": "stdout",
     "output_type": "stream",
     "text": [
      "['25', '2', '69']\n"
     ]
    }
   ],
   "source": [
    "import re\n",
    "\n",
    "regex_obj = re.compile(r'\\d+')\n",
    "text = 'ул. Часовая, дом № 25, корпус 2, квартира 69'\n",
    "result = re.findall(regex_obj, text)\n",
    "\n",
    "print(result)"
   ],
   "metadata": {
    "collapsed": false,
    "ExecuteTime": {
     "end_time": "2025-03-26T10:06:21.661103900Z",
     "start_time": "2025-03-26T10:06:21.652450Z"
    }
   },
   "id": "2c666b0be331646a"
  },
  {
   "cell_type": "markdown",
   "source": [
    " В общем случае:"
   ],
   "metadata": {
    "collapsed": false
   },
   "id": "16cc9896a89c8457"
  },
  {
   "cell_type": "markdown",
   "source": [
    "```\n",
    "import re\n",
    "\n",
    "regex_obj = re.compile(<regex>, <flags>)\n",
    "\n",
    "result = re.search(regex_obj, <string>)     # match(), fullmatch(), findall(), finditer()\n",
    "```"
   ],
   "metadata": {
    "collapsed": false
   },
   "id": "526c83226b71ee3e"
  },
  {
   "cell_type": "markdown",
   "source": [
    "2 способ: мы можем вызывать функции как методы непосредственно из объекта регулярного выражения."
   ],
   "metadata": {
    "collapsed": false
   },
   "id": "cb4c406cfd81b3a"
  },
  {
   "cell_type": "code",
   "execution_count": 62,
   "outputs": [
    {
     "name": "stdout",
     "output_type": "stream",
     "text": [
      "['25', '2', '69']\n"
     ]
    }
   ],
   "source": [
    "import re\n",
    "\n",
    "regex_obj = re.compile(r'\\d+')\n",
    "text = 'ул. Часовая, дом № 25, корпус 2, квартира 69'\n",
    "result = regex_obj.findall(text)\n",
    "\n",
    "print(result)"
   ],
   "metadata": {
    "collapsed": false,
    "ExecuteTime": {
     "end_time": "2025-03-26T10:09:13.801157800Z",
     "start_time": "2025-03-26T10:09:13.791026700Z"
    }
   },
   "id": "527ac1231f488042"
  },
  {
   "cell_type": "markdown",
   "source": [
    " В общем случае:"
   ],
   "metadata": {
    "collapsed": false
   },
   "id": "2683cdb95379f3ef"
  },
  {
   "cell_type": "markdown",
   "source": [
    "```\n",
    "regex_obj = re.compile(<regex>, <flags>)\n",
    "result = regex_obj.search(<string>)         # match(), fullmatch(), findall(), finditer()\n",
    "```"
   ],
   "metadata": {
    "collapsed": false
   },
   "id": "8f6cefa1b1f64ef6"
  },
  {
   "cell_type": "markdown",
   "source": [
    "Приведем пример с использованием флага."
   ],
   "metadata": {
    "collapsed": false
   },
   "id": "3f34a3df1c705271"
  },
  {
   "cell_type": "code",
   "execution_count": 63,
   "outputs": [
    {
     "name": "stdout",
     "output_type": "stream",
     "text": [
      "<re.Match object; span=(3, 6), match='BAR'>\n",
      "<re.Match object; span=(3, 6), match='BAR'>\n",
      "<re.Match object; span=(3, 6), match='BAR'>\n"
     ]
    }
   ],
   "source": [
    "import re\n",
    "\n",
    "regex_obj = re.compile('ba[rz]', flags=re.I)\n",
    "\n",
    "result1 = re.search('ba[rz]', 'FOOBARBAZ', flags=re.I)\n",
    "result2 = re.search(regex_obj, 'FOOBARBAZ')\n",
    "result3 = regex_obj.search('FOOBARBAZ')\n",
    "\n",
    "print(result1)\n",
    "print(result2)\n",
    "print(result3)"
   ],
   "metadata": {
    "collapsed": false,
    "ExecuteTime": {
     "end_time": "2025-03-26T10:26:45.120021700Z",
     "start_time": "2025-03-26T10:26:45.106170Z"
    }
   },
   "id": "1b8f68f110222f05"
  },
  {
   "cell_type": "markdown",
   "source": [
    "Как мы видим, все три объекта result1, result2 и result3 содержат одинаковые значения."
   ],
   "metadata": {
    "collapsed": false
   },
   "id": "2f113acf81ab965c"
  },
  {
   "cell_type": "markdown",
   "source": [
    "Возникает резонный вопрос: для чего нужна предварительная компиляция? Если мы часто используем одно и то же регулярное выражение, то предварительная компиляция позволяет нам отделить определение регулярного выражения от его использования, что повышает читабельность кода."
   ],
   "metadata": {
    "collapsed": false
   },
   "id": "bb8f1cab43e50fd7"
  },
  {
   "cell_type": "code",
   "execution_count": 65,
   "outputs": [
    {
     "name": "stdout",
     "output_type": "stream",
     "text": [
      "None\n",
      "<re.Match object; span=(3, 6), match='123'>\n",
      "<re.Match object; span=(3, 5), match='99'>\n",
      "None\n"
     ]
    }
   ],
   "source": [
    "import re\n",
    "\n",
    "s1, s2, s3, s4 = 'foo.bar', 'foo123bar', 'baz99', 'qux & grault'\n",
    "\n",
    "print(re.search(r'\\d+', s1))\n",
    "print(re.search(r'\\d+', s2))\n",
    "print(re.search(r'\\d+', s3))\n",
    "print(re.search(r'\\d+', s4))"
   ],
   "metadata": {
    "collapsed": false,
    "ExecuteTime": {
     "end_time": "2025-03-26T11:07:05.185059500Z",
     "start_time": "2025-03-26T11:07:05.178219100Z"
    }
   },
   "id": "c1f4818f1b8ea898"
  },
  {
   "cell_type": "markdown",
   "source": [
    "Регулярное выражение \\d+ появляется несколько раз. Если в результате поддержки (изменения) кода, мы решим, что нам нужно другое регулярное выражение, то нам нужно будет изменить его в каждом месте, что не очень удобно."
   ],
   "metadata": {
    "collapsed": false
   },
   "id": "198cece201b3e0d8"
  },
  {
   "cell_type": "markdown",
   "source": [
    "Приведенный ниже код, решает эту проблему, делая программный код более удобным в сопровождении:"
   ],
   "metadata": {
    "collapsed": false
   },
   "id": "62f0918a8119373d"
  },
  {
   "cell_type": "code",
   "execution_count": 67,
   "outputs": [
    {
     "name": "stdout",
     "output_type": "stream",
     "text": [
      "None\n",
      "<re.Match object; span=(3, 6), match='123'>\n",
      "<re.Match object; span=(3, 5), match='99'>\n",
      "None\n"
     ]
    }
   ],
   "source": [
    "import re\n",
    "\n",
    "s1, s2, s3, s4 = 'foo.bar', 'foo123bar', 'baz99', 'qux & grault'\n",
    "\n",
    "regex_obj = re.compile(r'\\d+')\n",
    "\n",
    "print(regex_obj.search(s1))\n",
    "print(regex_obj.search(s2))\n",
    "print(regex_obj.search(s3))\n",
    "print(regex_obj.search(s4))"
   ],
   "metadata": {
    "collapsed": false,
    "ExecuteTime": {
     "end_time": "2025-03-26T11:07:54.045700700Z",
     "start_time": "2025-03-26T11:07:54.035303900Z"
    }
   },
   "id": "85d9530c053583a4"
  },
  {
   "cell_type": "markdown",
   "source": [
    "**Методы скомпилированного объекта регулярного выражения**"
   ],
   "metadata": {
    "collapsed": false
   },
   "id": "2f77228dce14bf29"
  },
  {
   "cell_type": "markdown",
   "source": [
    "Скомпилированный объект регулярного выражения поддерживает следующие методы:\n",
    "\n",
    "search(string, pos, endpos)\n",
    "match(string, pos, endpos)\n",
    "fullmatch(string, pos, endpos)\n",
    "findall(string, pos, endpos)\n",
    "finditer(string, pos, endpos)"
   ],
   "metadata": {
    "collapsed": false
   },
   "id": "8a83ee84edd6589b"
  },
  {
   "cell_type": "markdown",
   "source": [
    "Данные методы ведут себя так же, как соответствующие (одноименные) им функции модуля re, за исключением того, что они также поддерживают необязательные аргументы pos и endpos."
   ],
   "metadata": {
    "collapsed": false
   },
   "id": "8ba2912426a962ca"
  },
  {
   "cell_type": "markdown",
   "source": [
    "Если аргументы pos и endpos переданы, то поиск применяется только к части строки string, от pos (включительно), до endpos (не включительно), подобно индексам в срезах."
   ],
   "metadata": {
    "collapsed": false
   },
   "id": "c7689663c18cebd1"
  },
  {
   "cell_type": "code",
   "execution_count": 69,
   "outputs": [
    {
     "name": "stdout",
     "output_type": "stream",
     "text": [
      "<re.Match object; span=(3, 8), match='12345'>\n",
      "<re.Match object; span=(4, 8), match='2345'>\n",
      "<re.Match object; span=(3, 7), match='1234'>\n",
      "<re.Match object; span=(4, 7), match='234'>\n"
     ]
    }
   ],
   "source": [
    "import re\n",
    "\n",
    "regex_obj = re.compile(r'\\d+')\n",
    "text = 'foo12345barbaz'\n",
    "\n",
    "print(regex_obj.search(text))\n",
    "print(regex_obj.search(text, pos=4))\n",
    "print(regex_obj.search(text, endpos=7))\n",
    "print(regex_obj.search(text, pos=4, endpos=7))"
   ],
   "metadata": {
    "collapsed": false,
    "ExecuteTime": {
     "end_time": "2025-03-26T11:09:31.337548700Z",
     "start_time": "2025-03-26T11:09:31.332054100Z"
    }
   },
   "id": "bbae322a634c82ab"
  },
  {
   "cell_type": "markdown",
   "source": [
    "Если указать pos, но опустить endpos, то поиск будет применяться к подстроке от pos до конца строки. Аналогично, если указать endpos, но опустить pos, то поиск будет применяться к подстроке от начала строки до endpos."
   ],
   "metadata": {
    "collapsed": false
   },
   "id": "2585f8b9f2cd25f4"
  },
  {
   "cell_type": "markdown",
   "source": [
    "Примечания"
   ],
   "metadata": {
    "collapsed": false
   },
   "id": "2294f13e187e67cd"
  },
  {
   "cell_type": "markdown",
   "source": [
    "Примечание 1. Модуль re компилирует и кэширует регулярное выражение, когда оно используется в вызове функции. Если одно и то же регулярное выражение используется впоследствии в том же коде, оно не перекомпилируется. Вместо этого скомпилированное значение извлекается из кэша. В общем, нет никаких веских причин для компиляции регулярного выражения. Это всего лишь еще один инструмент в вашем наборе инструментов, который вы можете использовать, если считаете, что он улучшит читабельность или структуру вашего кода."
   ],
   "metadata": {
    "collapsed": false
   },
   "id": "f7d5ab1ed211e7df"
  },
  {
   "cell_type": "markdown",
   "source": [
    "Примечание 2. Скомпилированный объект регулярного выражения имеет тип Pattern."
   ],
   "metadata": {
    "collapsed": false
   },
   "id": "d60f5e39a33cf8b"
  },
  {
   "cell_type": "code",
   "execution_count": 71,
   "outputs": [
    {
     "name": "stdout",
     "output_type": "stream",
     "text": [
      "<class 're.Pattern'>\n"
     ]
    }
   ],
   "source": [
    "import re\n",
    "\n",
    "regex_obj = re.compile(r'\\d')\n",
    "\n",
    "print(type(regex_obj))"
   ],
   "metadata": {
    "collapsed": false,
    "ExecuteTime": {
     "end_time": "2025-03-26T11:11:41.559066400Z",
     "start_time": "2025-03-26T11:11:41.552661Z"
    }
   },
   "id": "8b69026f0baac1e7"
  },
  {
   "cell_type": "markdown",
   "source": [
    "Сумма чисел\n",
    "Напишите программу, которая складывает все натуральные числа в строке, находящиеся в указанном диапазоне индексов.\n",
    "\n",
    "Формат входных данных\n",
    "На вход программе сначала подаются два целых числа a и b, больших или равных 0, разделенные пробелом, а затем — строка.\n",
    "\n",
    "Формат выходных данных\n",
    "Программа должна вывести сумму всех натуральных чисел в введенной строке, находящихся в диапазоне индексов от a (включительно) до b (не включительно). Если в указанном диапазоне нет ни одного числа, программа должна вывести 0."
   ],
   "metadata": {
    "collapsed": false
   },
   "id": "8992260150b8f67b"
  },
  {
   "cell_type": "code",
   "execution_count": 83,
   "outputs": [
    {
     "name": "stdout",
     "output_type": "stream",
     "text": [
      "31\n"
     ]
    }
   ],
   "source": [
    "import re\n",
    "\n",
    "# a, b = map(int, input().split())\n",
    "a, b = 0, 5\n",
    "# a, b = 0, 10\n",
    "# a, b = 0, 100\n",
    "# text = input()\n",
    "text = \"11:20 a.m. - 12:00 p.m\"\n",
    "# text = \"Нет ни одного числа в этой строке\"\n",
    "\n",
    "regex_obj = re.compile(r'\\d+')\n",
    "lst = regex_obj.findall(text, pos=a, endpos=b)\n",
    "\n",
    "print(sum(map(int, lst)))"
   ],
   "metadata": {
    "collapsed": false,
    "ExecuteTime": {
     "end_time": "2025-03-26T11:27:49.240772100Z",
     "start_time": "2025-03-26T11:27:49.233565400Z"
    }
   },
   "id": "4c92f7be9d42d5b1"
  },
  {
   "cell_type": "code",
   "execution_count": 85,
   "outputs": [
    {
     "data": {
      "text/plain": "<map at 0x1e4bd40d0f0>"
     },
     "execution_count": 85,
     "metadata": {},
     "output_type": "execute_result"
    }
   ],
   "source": [
    "s = '0 5'\n",
    "map(int, s.split())"
   ],
   "metadata": {
    "collapsed": false,
    "ExecuteTime": {
     "end_time": "2025-03-26T11:29:38.477682700Z",
     "start_time": "2025-03-26T11:29:38.470681400Z"
    }
   },
   "id": "696c3e7fc481f739"
  }
 ],
 "metadata": {
  "kernelspec": {
   "display_name": "Python 3",
   "language": "python",
   "name": "python3"
  },
  "language_info": {
   "codemirror_mode": {
    "name": "ipython",
    "version": 2
   },
   "file_extension": ".py",
   "mimetype": "text/x-python",
   "name": "python",
   "nbconvert_exporter": "python",
   "pygments_lexer": "ipython2",
   "version": "2.7.6"
  }
 },
 "nbformat": 4,
 "nbformat_minor": 5
}

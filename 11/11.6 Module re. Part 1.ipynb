{
 "cells": [
  {
   "cell_type": "markdown",
   "source": [
    "Тема урока: модуль re\n",
    "Модуль re\n",
    "Функция search()\n",
    "Функция match()\n",
    "Функция fullmatch()\n",
    "Объект Match\n",
    "Флаги\n",
    "Функция escape()\n",
    "Аннотация. Данный урок посвящен модулю re, который позволяет работать с регулярными выражениями в Python."
   ],
   "metadata": {
    "collapsed": false
   },
   "id": "9882df39fd57b817"
  },
  {
   "cell_type": "markdown",
   "source": [
    "Модуль re"
   ],
   "metadata": {
    "collapsed": false
   },
   "id": "795a830d57cc9edd"
  },
  {
   "cell_type": "markdown",
   "source": [
    "В Python для работы с регулярными выражениями используется встроенный модуль re. Для начала работы с ним его нужно импортировать:"
   ],
   "metadata": {
    "collapsed": false
   },
   "id": "2d66ac18935a2a36"
  },
  {
   "cell_type": "code",
   "execution_count": 1,
   "outputs": [],
   "source": [
    "import re"
   ],
   "metadata": {
    "collapsed": false,
    "ExecuteTime": {
     "end_time": "2025-03-14T11:59:49.746899100Z",
     "start_time": "2025-03-14T11:59:49.741609300Z"
    }
   },
   "id": "fd55284fcd51e421"
  },
  {
   "cell_type": "markdown",
   "source": [
    "Функция search()"
   ],
   "metadata": {
    "collapsed": false
   },
   "id": "ded5d6af78c3f081"
  },
  {
   "cell_type": "markdown",
   "source": [
    "Функция search() сканирует строку в поисках первого совпадения с регулярным выражением и возвращает специальный объект соответствия (тип Match) или значение None, если ни одна позиция в строке не соответствует регулярному выражению. "
   ],
   "metadata": {
    "collapsed": false
   },
   "id": "f4072a6b05f07cc8"
  },
  {
   "cell_type": "markdown",
   "source": [
    "Аргументы функции:\n",
    "\n",
    "pattern — шаблон регулярного выражения\n",
    "string — строка для поиска\n",
    "flags=0 — один или несколько флагов (необязательный аргумент)"
   ],
   "metadata": {
    "collapsed": false
   },
   "id": "10eba326879f5dc5"
  },
  {
   "cell_type": "code",
   "execution_count": 2,
   "outputs": [
    {
     "name": "stdout",
     "output_type": "stream",
     "text": [
      "<re.Match object; span=(0, 5), match='super'>\n",
      "<re.Match object; span=(2, 7), match='super'>\n",
      "None\n"
     ]
    }
   ],
   "source": [
    "from re import search\n",
    "\n",
    "match1 = search('super', 'superstition')\n",
    "match2 = search('super', 'insuperable')\n",
    "match3 = search('super', 'without')\n",
    "\n",
    "print(match1)\n",
    "print(match2)\n",
    "print(match3)"
   ],
   "metadata": {
    "collapsed": false,
    "ExecuteTime": {
     "end_time": "2025-03-14T12:02:20.971120400Z",
     "start_time": "2025-03-14T12:02:20.966635800Z"
    }
   },
   "id": "e83bbebd71fc64e3"
  },
  {
   "cell_type": "code",
   "execution_count": 3,
   "outputs": [
    {
     "name": "stdout",
     "output_type": "stream",
     "text": [
      "<re.Match object; span=(3, 6), match='123'>\n",
      "None\n",
      "None\n"
     ]
    },
    {
     "name": "stderr",
     "output_type": "stream",
     "text": [
      "<>:3: SyntaxWarning: invalid escape sequence '\\d'\n",
      "<>:5: SyntaxWarning: invalid escape sequence '\\d'\n",
      "<>:3: SyntaxWarning: invalid escape sequence '\\d'\n",
      "<>:5: SyntaxWarning: invalid escape sequence '\\d'\n",
      "C:\\Users\\Kovalenko.Kon\\AppData\\Local\\Temp\\ipykernel_23680\\552892292.py:3: SyntaxWarning: invalid escape sequence '\\d'\n",
      "  match1 = search('\\d+', 'foo123bar')\n",
      "C:\\Users\\Kovalenko.Kon\\AppData\\Local\\Temp\\ipykernel_23680\\552892292.py:5: SyntaxWarning: invalid escape sequence '\\d'\n",
      "  match3 = search('\\d+', 'foo.bar')\n"
     ]
    }
   ],
   "source": [
    "from re import search\n",
    "\n",
    "match1 = search('\\d+', 'foo123bar')\n",
    "match2 = search('[a-z]+', '123FOO456')\n",
    "match3 = search('\\d+', 'foo.bar')\n",
    "\n",
    "print(match1)\n",
    "print(match2)\n",
    "print(match3)"
   ],
   "metadata": {
    "collapsed": false,
    "ExecuteTime": {
     "end_time": "2025-03-14T12:55:58.483195400Z",
     "start_time": "2025-03-14T12:55:58.476198400Z"
    }
   },
   "id": "ab4b043941ee99eb"
  },
  {
   "cell_type": "markdown",
   "source": [
    "Функция search() возвращает специальный объект соответствия (тип Match), о котором будет рассказано ниже. "
   ],
   "metadata": {
    "collapsed": false
   },
   "id": "8957394ba595739a"
  },
  {
   "cell_type": "markdown",
   "source": [
    "Функция match()"
   ],
   "metadata": {
    "collapsed": false
   },
   "id": "36b625a0a59eeb7"
  },
  {
   "cell_type": "markdown",
   "source": [
    "Функция match() возвращает специальный объект соответствия (тип Match), если начало строки соответствуют регулярному выражению, или значение None в противном случае."
   ],
   "metadata": {
    "collapsed": false
   },
   "id": "4d398fc6d359e354"
  },
  {
   "cell_type": "markdown",
   "source": [
    "Аргументы функции:\n",
    "\n",
    "pattern — шаблон регулярного выражения\n",
    "string — строка для поиска\n",
    "flags=0 — один или несколько флагов (необязательный аргумент)"
   ],
   "metadata": {
    "collapsed": false
   },
   "id": "c41d72e933b3d90f"
  },
  {
   "cell_type": "code",
   "execution_count": 4,
   "outputs": [
    {
     "name": "stdout",
     "output_type": "stream",
     "text": [
      "<re.Match object; span=(0, 5), match='super'>\n",
      "None\n"
     ]
    }
   ],
   "source": [
    "from re import match\n",
    "\n",
    "match1 = match('super', 'superstition')\n",
    "match2 = match('super', 'insuperable')\n",
    "\n",
    "print(match1)\n",
    "print(match2)"
   ],
   "metadata": {
    "collapsed": false,
    "ExecuteTime": {
     "end_time": "2025-03-17T05:18:30.314940200Z",
     "start_time": "2025-03-17T05:18:30.312421500Z"
    }
   },
   "id": "131af7aaf4b7247c"
  },
  {
   "cell_type": "code",
   "execution_count": 9,
   "outputs": [
    {
     "name": "stdout",
     "output_type": "stream",
     "text": [
      "<re.Match object; span=(0, 3), match='123'>\n",
      "<re.Match object; span=(3, 6), match='123'>\n",
      "<re.Match object; span=(0, 3), match='123'>\n",
      "None\n"
     ]
    }
   ],
   "source": [
    "from re import search, match\n",
    "\n",
    "match1 = search(r'\\d+', '123foobar')\n",
    "match2 = search(r'\\d+', 'foo123bar')\n",
    "match3 = match(r'\\d+', '123foobar')\n",
    "match4 = match(r'\\d+', 'foo123bar')\n",
    "\n",
    "print(match1)\n",
    "print(match2)\n",
    "print(match3)\n",
    "print(match4)"
   ],
   "metadata": {
    "collapsed": false,
    "ExecuteTime": {
     "end_time": "2025-03-17T05:24:16.943071Z",
     "start_time": "2025-03-17T05:24:16.938555Z"
    }
   },
   "id": "c1662764ca74b9e4"
  },
  {
   "cell_type": "markdown",
   "source": [
    "В приведенном выше примере функция search() находит соответствие, когда последовательность цифр находится как в начале строки, так и в середине. При этом функция match() находит соответствие только тогда, когда последовательность цифр находится вначале."
   ],
   "metadata": {
    "collapsed": false
   },
   "id": "1627f3cfe09a8cfb"
  },
  {
   "cell_type": "markdown",
   "source": [
    "Функция match() проверяет совпадение регулярного выражения только в начале строки, в то время как функция search() сканирует всю строку на предмет первого совпадения с шаблоном регулярного выражения."
   ],
   "metadata": {
    "collapsed": false
   },
   "id": "be3f76b125290d2d"
  },
  {
   "cell_type": "markdown",
   "source": [
    "Функция fullmatch()"
   ],
   "metadata": {
    "collapsed": false
   },
   "id": "fee5d56e903dce48"
  },
  {
   "cell_type": "markdown",
   "source": [
    "Функция fullmatch() возвращает специальный объект соответствия (тип Match), если вся строка соответствует регулярному выражению, или значение None в противном случае."
   ],
   "metadata": {
    "collapsed": false
   },
   "id": "3015f10e2245042d"
  },
  {
   "cell_type": "markdown",
   "source": [
    "Аргументы функции:\n",
    "\n",
    "pattern — шаблон регулярного выражения\n",
    "string — строка для поиска\n",
    "flags=0 — один или несколько флагов (необязательный аргумент)"
   ],
   "metadata": {
    "collapsed": false
   },
   "id": "e036a97e02a8a9d7"
  },
  {
   "cell_type": "code",
   "execution_count": 10,
   "outputs": [
    {
     "name": "stdout",
     "output_type": "stream",
     "text": [
      "None\n",
      "None\n",
      "None\n",
      "<re.Match object; span=(0, 3), match='123'>\n"
     ]
    }
   ],
   "source": [
    "from re import fullmatch\n",
    "\n",
    "match1 = fullmatch(r'\\d+', '123foo')\n",
    "match2 = fullmatch(r'\\d+', 'foo123')\n",
    "match3 = fullmatch(r'\\d+', 'foo123bar')\n",
    "match4 = fullmatch(r'\\d+', '123')\n",
    "\n",
    "print(match1)\n",
    "print(match2)\n",
    "print(match3)\n",
    "print(match4)"
   ],
   "metadata": {
    "collapsed": false,
    "ExecuteTime": {
     "end_time": "2025-03-17T05:47:15.227593100Z",
     "start_time": "2025-03-17T05:47:15.222082100Z"
    }
   },
   "id": "54ff1b267d14559f"
  },
  {
   "cell_type": "markdown",
   "source": [
    "Регулярному выражению \\d+ соответствует последовательность цифр. Из всех четырех строк в приведенном выше примере только строка 123 полностью состоит из цифр."
   ],
   "metadata": {
    "collapsed": false
   },
   "id": "ef0bb733e32f2f2b"
  },
  {
   "cell_type": "markdown",
   "source": [
    "Обратите внимание на то, что мы можем эмулировать работу функции fullmatch() с помощью функции search(), добавив в шаблон регулярного выражения метасимволы начала (символ ^) и конца строки (символ $)."
   ],
   "metadata": {
    "collapsed": false
   },
   "id": "edaf773ccd6f4bfe"
  },
  {
   "cell_type": "code",
   "execution_count": 12,
   "outputs": [
    {
     "name": "stdout",
     "output_type": "stream",
     "text": [
      "<re.Match object; span=(0, 3), match='123'>\n"
     ]
    }
   ],
   "source": [
    "from re import search\n",
    "\n",
    "match = search(r'^\\d+$', '123')\n",
    "\n",
    "print(match)"
   ],
   "metadata": {
    "collapsed": false,
    "ExecuteTime": {
     "end_time": "2025-03-17T05:50:15.423020900Z",
     "start_time": "2025-03-17T05:50:15.417507700Z"
    }
   },
   "id": "c05062454fc198e2"
  },
  {
   "cell_type": "markdown",
   "source": [
    "Функцию fullmatch() удобно использовать для валидации правильности данных."
   ],
   "metadata": {
    "collapsed": false
   },
   "id": "4d190a4092ea3e67"
  },
  {
   "cell_type": "code",
   "execution_count": 14,
   "outputs": [
    {
     "name": "stdout",
     "output_type": "stream",
     "text": [
      "<re.Match object; span=(0, 12), match='777-888-1234'>\n",
      "None\n",
      "None\n",
      "None\n"
     ]
    }
   ],
   "source": [
    "from re import fullmatch\n",
    "\n",
    "phone_pattern = r'\\d{3}-\\d{3}-\\d{4}'\n",
    "\n",
    "match1 = fullmatch(phone_pattern , '777-888-1234')\n",
    "match2 = fullmatch(phone_pattern , '77-89-56')\n",
    "match3 = fullmatch(phone_pattern , '5555-99-1234')\n",
    "match4 = fullmatch(phone_pattern , '123-000-3333ab')\n",
    "\n",
    "print(match1)\n",
    "print(match2)\n",
    "print(match3)\n",
    "print(match4)"
   ],
   "metadata": {
    "collapsed": false,
    "ExecuteTime": {
     "end_time": "2025-03-17T05:52:12.935553500Z",
     "start_time": "2025-03-17T05:52:12.934041200Z"
    }
   },
   "id": "e132927b8bbba84b"
  },
  {
   "cell_type": "markdown",
   "source": [
    "проверяет соответствие строк регулярному выражению ddd-ddd-dddd (три цифры дефис три цифры дефис четыре цифры)"
   ],
   "metadata": {
    "collapsed": false
   },
   "id": "951835a478850b6d"
  },
  {
   "cell_type": "markdown",
   "source": [
    "Объекты типа Match"
   ],
   "metadata": {
    "collapsed": false
   },
   "id": "6bca7e13f0084d8"
  },
  {
   "cell_type": "markdown",
   "source": [
    "Все три рассмотренные функции search(), match(), fullmatch() при успешном соответствии регулярному выражению возвращают объект типа Match. Объекты такого типа приводятся к типу bool автоматически, поэтому мы можем использовать их в условном операторе."
   ],
   "metadata": {
    "collapsed": false
   },
   "id": "18d5b837f5e426f"
  },
  {
   "cell_type": "code",
   "execution_count": 16,
   "outputs": [
    {
     "name": "stdout",
     "output_type": "stream",
     "text": [
      "Строка соответствует формату.\n",
      "<re.Match object; span=(0, 12), match='777-888-1234'>\n"
     ]
    }
   ],
   "source": [
    "from re import search, fullmatch\n",
    "\n",
    "match = fullmatch(r'\\d{3}-\\d{3}-\\d{4}', '777-888-1234')\n",
    "\n",
    "if match:\n",
    "    print('Строка соответствует формату.')\n",
    "    print(match)\n",
    "else:\n",
    "    print('Строка не соответствует формату.')"
   ],
   "metadata": {
    "collapsed": false,
    "ExecuteTime": {
     "end_time": "2025-03-17T05:54:02.125993600Z",
     "start_time": "2025-03-17T05:54:02.123801400Z"
    }
   },
   "id": "b9fa6a21f048028d"
  },
  {
   "cell_type": "markdown",
   "source": [
    "Значение None отождествляется с False. Поэтому в случае если функция fullmatch() вернет значение None, то сработает блок else условного оператора."
   ],
   "metadata": {
    "collapsed": false
   },
   "id": "ae9135b2d8e11b80"
  },
  {
   "cell_type": "markdown",
   "source": [
    "Объекты типа Match также содержат немало полезной информации о совпадении. Рассмотрим основные методы и атрибуты."
   ],
   "metadata": {
    "collapsed": false
   },
   "id": "9a6d38894fa1f3c2"
  },
  {
   "cell_type": "markdown",
   "source": [
    "Метод group()"
   ],
   "metadata": {
    "collapsed": false
   },
   "id": "d3f283b3728c9852"
  },
  {
   "cell_type": "markdown",
   "source": [
    "Метод group() возвращает одну или несколько подгрупп совпадения. Если метод вызывается без аргументов, то возвращается вся подстрока, которая совпала с шаблоном регулярного выражения."
   ],
   "metadata": {
    "collapsed": false
   },
   "id": "8815e9eb00367928"
  },
  {
   "cell_type": "code",
   "execution_count": 18,
   "outputs": [
    {
     "name": "stdout",
     "output_type": "stream",
     "text": [
      "foo,bar,baz\n",
      "foo,bar,baz\n",
      "foo\n",
      "bar\n",
      "baz\n",
      "('foo', 'bar', 'baz')\n"
     ]
    }
   ],
   "source": [
    "from re import search\n",
    "\n",
    "match = search(r'(\\w+),(\\w+),(\\w+)', 'foo,bar,baz')\n",
    "\n",
    "print(match.group())                       # вся строка\n",
    "print(match.group(0))                      # вся строка\n",
    "print(match.group(1))                      # подгруппа\n",
    "print(match.group(2))                      # подгруппа\n",
    "print(match.group(3))                      # подгруппа\n",
    "print(match.group(1, 2, 3))                # кортеж"
   ],
   "metadata": {
    "collapsed": false,
    "ExecuteTime": {
     "end_time": "2025-03-17T05:55:39.527934700Z",
     "start_time": "2025-03-17T05:55:39.519806400Z"
    }
   },
   "id": "faf819d67204df85"
  },
  {
   "cell_type": "markdown",
   "source": [
    "В качестве аргумента можно указать как одну группу, так и несколько. В первом случае метод вернет строку, соответствующую группе, во втором — кортеж строк, соответствующих указанным группам."
   ],
   "metadata": {
    "collapsed": false
   },
   "id": "ee8a3814f51b35ec"
  },
  {
   "cell_type": "markdown",
   "source": [
    "Вызов метода group() без аргументов, равнозначен вызову с аргументом 0, то есть group(0)."
   ],
   "metadata": {
    "collapsed": false
   },
   "id": "7667e72e0b1dd61a"
  },
  {
   "cell_type": "markdown",
   "source": [
    "Если методу group() передать индекс несуществующей группы, то будет возбуждено исключение."
   ],
   "metadata": {
    "collapsed": false
   },
   "id": "9a97ad4cb11e47e3"
  },
  {
   "cell_type": "code",
   "execution_count": 20,
   "outputs": [
    {
     "ename": "IndexError",
     "evalue": "no such group",
     "output_type": "error",
     "traceback": [
      "\u001B[1;31m---------------------------------------------------------------------------\u001B[0m",
      "\u001B[1;31mIndexError\u001B[0m                                Traceback (most recent call last)",
      "Cell \u001B[1;32mIn[20], line 5\u001B[0m\n\u001B[0;32m      1\u001B[0m \u001B[38;5;28;01mfrom\u001B[39;00m \u001B[38;5;21;01mre\u001B[39;00m \u001B[38;5;28;01mimport\u001B[39;00m search\n\u001B[0;32m      3\u001B[0m match \u001B[38;5;241m=\u001B[39m search(\u001B[38;5;124mr\u001B[39m\u001B[38;5;124m'\u001B[39m\u001B[38;5;124m(\u001B[39m\u001B[38;5;124m\\\u001B[39m\u001B[38;5;124mw+),(\u001B[39m\u001B[38;5;124m\\\u001B[39m\u001B[38;5;124mw+),(\u001B[39m\u001B[38;5;124m\\\u001B[39m\u001B[38;5;124mw+)\u001B[39m\u001B[38;5;124m'\u001B[39m, \u001B[38;5;124m'\u001B[39m\u001B[38;5;124mfoo,bar,baz\u001B[39m\u001B[38;5;124m'\u001B[39m)\n\u001B[1;32m----> 5\u001B[0m \u001B[38;5;28mprint\u001B[39m(\u001B[43mmatch\u001B[49m\u001B[38;5;241;43m.\u001B[39;49m\u001B[43mgroup\u001B[49m\u001B[43m(\u001B[49m\u001B[38;5;241;43m4\u001B[39;49m\u001B[43m)\u001B[49m)\n",
      "\u001B[1;31mIndexError\u001B[0m: no such group"
     ]
    }
   ],
   "source": [
    "from re import search\n",
    "\n",
    "match = search(r'(\\w+),(\\w+),(\\w+)', 'foo,bar,baz')\n",
    "\n",
    "print(match.group(4))"
   ],
   "metadata": {
    "collapsed": false,
    "ExecuteTime": {
     "end_time": "2025-03-17T05:58:38.290592600Z",
     "start_time": "2025-03-17T05:58:38.280651100Z"
    }
   },
   "id": "9b7b2edb2a865615"
  },
  {
   "cell_type": "markdown",
   "source": [
    "Переданная в качестве аргумента группа может появляться несколько раз, при этом мы можем указывать любые группы в любом порядке."
   ],
   "metadata": {
    "collapsed": false
   },
   "id": "468b6b6477887df2"
  },
  {
   "cell_type": "code",
   "execution_count": 22,
   "outputs": [
    {
     "name": "stdout",
     "output_type": "stream",
     "text": [
      "('foo', 'bar', 'baz', 'foo', 'bar', 'bar', 'baz', 'baz', 'baz', 'baz')\n"
     ]
    }
   ],
   "source": [
    "from re import search\n",
    "\n",
    "match = search(r'(\\w+),(\\w+),(\\w+)', 'foo,bar,baz')\n",
    "\n",
    "print(match.group(1, 2, 3, 1, 2, 2, 3, 3, 3, 3))"
   ],
   "metadata": {
    "collapsed": false,
    "ExecuteTime": {
     "end_time": "2025-03-17T05:59:14.634317600Z",
     "start_time": "2025-03-17T05:59:14.631804200Z"
    }
   },
   "id": "6e9c88bc8f186863"
  },
  {
   "cell_type": "markdown",
   "source": [
    "Пронумерованные захваченные группы отсчитываются от единицы, а не от нуля."
   ],
   "metadata": {
    "collapsed": false
   },
   "id": "2f09bb3b6ec75cdb"
  },
  {
   "cell_type": "markdown",
   "source": [
    "Если мы пользуемся именованными группами, используя синтаксис (?P<name><regex>), тогда мы можем использовать название группы в качестве аргумента метода group()."
   ],
   "metadata": {
    "collapsed": false
   },
   "id": "eaa95d215b64f8b8"
  },
  {
   "cell_type": "code",
   "execution_count": 24,
   "outputs": [
    {
     "name": "stdout",
     "output_type": "stream",
     "text": [
      "foo,bar,baz\n",
      "foo\n",
      "bar\n",
      "baz\n",
      "('foo', 'bar', 'baz', 'bar', 'baz')\n"
     ]
    }
   ],
   "source": [
    "from re import search\n",
    "\n",
    "match = search(r'(?P<w1>\\w+),(?P<w2>\\w+),(?P<w3>\\w+)', 'foo,bar,baz')\n",
    "\n",
    "print(match.group())\n",
    "print(match.group('w1'))\n",
    "print(match.group('w2'))\n",
    "print(match.group('w3'))\n",
    "print(match.group('w1', 'w2', 'w3', 'w2', 'w3'))"
   ],
   "metadata": {
    "collapsed": false,
    "ExecuteTime": {
     "end_time": "2025-03-17T06:00:17.629877100Z",
     "start_time": "2025-03-17T06:00:17.627363800Z"
    }
   },
   "id": "abbd6c07c71c4321"
  },
  {
   "cell_type": "markdown",
   "source": [
    "Обратите внимание на то, что метод group() может возвращать в качестве группы значение None. Так происходит в ситуации, когда группа не участвует в сопоставлении."
   ],
   "metadata": {
    "collapsed": false
   },
   "id": "e68f750396f21092"
  },
  {
   "cell_type": "code",
   "execution_count": 26,
   "outputs": [
    {
     "name": "stdout",
     "output_type": "stream",
     "text": [
      "foo,bar,\n",
      "foo,bar,\n",
      "foo\n",
      "bar\n",
      "None\n",
      "('foo', 'bar', None)\n"
     ]
    }
   ],
   "source": [
    "from re import search\n",
    "\n",
    "match = search(r'(\\w+),(\\w+),(\\w+)?', 'foo,bar,')\n",
    "\n",
    "print(match.group())\n",
    "print(match.group(0))\n",
    "print(match.group(1))\n",
    "print(match.group(2))\n",
    "print(match.group(3))\n",
    "print(match.group(1, 2, 3))"
   ],
   "metadata": {
    "collapsed": false,
    "ExecuteTime": {
     "end_time": "2025-03-17T06:05:15.872521400Z",
     "start_time": "2025-03-17T06:05:15.870003900Z"
    }
   },
   "id": "6bd7b3220707b2be"
  },
  {
   "cell_type": "markdown",
   "source": [
    "Метод groups()"
   ],
   "metadata": {
    "collapsed": false
   },
   "id": "b72e2ace0a91b351"
  },
  {
   "cell_type": "markdown",
   "source": [
    "Метод groups() возвращает кортеж, содержащий все захваченные группы."
   ],
   "metadata": {
    "collapsed": false
   },
   "id": "f9c0d868b9128333"
  },
  {
   "cell_type": "code",
   "execution_count": 28,
   "outputs": [
    {
     "name": "stdout",
     "output_type": "stream",
     "text": [
      "('foo', 'bar', None)\n"
     ]
    }
   ],
   "source": [
    "from re import search\n",
    "\n",
    "match = search(r'(\\w+),(\\w+),(\\w+)?', 'foo,bar,')\n",
    "\n",
    "print(match.groups())"
   ],
   "metadata": {
    "collapsed": false,
    "ExecuteTime": {
     "end_time": "2025-03-17T06:06:37.852330300Z",
     "start_time": "2025-03-17T06:06:37.849818Z"
    }
   },
   "id": "c56313ef357b7085"
  },
  {
   "cell_type": "markdown",
   "source": [
    "Группы, которые не смогли захватить какой-либо результат, по умолчанию будут иметь значение None. Если в такой ситуации требуется вернуть значение, отличное от None, то используется необязательный аргумент default."
   ],
   "metadata": {
    "collapsed": false
   },
   "id": "b6551916c0835fc6"
  },
  {
   "cell_type": "code",
   "execution_count": 30,
   "outputs": [
    {
     "name": "stdout",
     "output_type": "stream",
     "text": [
      "('foo', 'bar', -1)\n",
      "('foo', 'bar', '')\n",
      "('foo', 'bar', '----')\n",
      "('foo', 'bar', False)\n"
     ]
    }
   ],
   "source": [
    "from re import search\n",
    "\n",
    "match = search(r'(\\w+),(\\w+),(\\w+)?', 'foo,bar,')\n",
    "\n",
    "print(match.groups(-1))                     # позиционный аргумент\n",
    "print(match.groups(''))\n",
    "print(match.groups(default='----'))         # именованный аргумент\n",
    "print(match.groups(default=False))"
   ],
   "metadata": {
    "collapsed": false,
    "ExecuteTime": {
     "end_time": "2025-03-17T06:07:31.964121500Z",
     "start_time": "2025-03-17T06:07:31.961607600Z"
    }
   },
   "id": "66a9e49a5f0f29ee"
  },
  {
   "cell_type": "markdown",
   "source": [
    "Метод groupdict()"
   ],
   "metadata": {
    "collapsed": false
   },
   "id": "d7245cbdf3475e16"
  },
  {
   "cell_type": "markdown",
   "source": [
    "Метод groupdict() возвращает словарь, содержащий все захваченные именованные группы."
   ],
   "metadata": {
    "collapsed": false
   },
   "id": "eef7c9a708972132"
  },
  {
   "cell_type": "code",
   "execution_count": 33,
   "outputs": [
    {
     "name": "stdout",
     "output_type": "stream",
     "text": [
      "{'w1': 'foo', 'w2': 'bar', 'w3': 'baz'}\n"
     ]
    }
   ],
   "source": [
    "from re import search\n",
    "\n",
    "match = search(r'(?P<w1>\\w+),(?P<w2>\\w+),(?P<w3>\\w+)', 'foo,bar,baz')\n",
    "\n",
    "print(match.groupdict())"
   ],
   "metadata": {
    "collapsed": false,
    "ExecuteTime": {
     "end_time": "2025-03-17T07:16:47.498098100Z",
     "start_time": "2025-03-17T07:16:47.493905500Z"
    }
   },
   "id": "106976230f3aa517"
  },
  {
   "cell_type": "markdown",
   "source": [
    "Метод groupdict(), как и метод groups(), принимает необязательный аргумент default, который используется для указания значений групп, которые не смогли захватить какой либо результат. По умолчанию значение данного аргумента равно None."
   ],
   "metadata": {
    "collapsed": false
   },
   "id": "49f97309879066f6"
  },
  {
   "cell_type": "code",
   "execution_count": 35,
   "outputs": [
    {
     "name": "stdout",
     "output_type": "stream",
     "text": [
      "{'w1': 'foo', 'w2': 'bar', 'w3': None}\n",
      "{'w1': 'foo', 'w2': 'bar', 'w3': ''}\n",
      "{'w1': 'foo', 'w2': 'bar', 'w3': '----'}\n"
     ]
    }
   ],
   "source": [
    "from re import search\n",
    "\n",
    "match = search(r'(?P<w1>\\w+),(?P<w2>\\w+),(?P<w3>\\w+)?', 'foo,bar,')\n",
    "\n",
    "print(match.groupdict())\n",
    "print(match.groupdict(default=''))\n",
    "print(match.groupdict(default='----'))"
   ],
   "metadata": {
    "collapsed": false,
    "ExecuteTime": {
     "end_time": "2025-03-17T07:17:52.232468800Z",
     "start_time": "2025-03-17T07:17:52.228312700Z"
    }
   },
   "id": "4dc7f9c9ee2c6844"
  },
  {
   "cell_type": "markdown",
   "source": [
    "Если именованных групп в исходном регулярном выражении нет, метод groupdict() возвращает пустой словарь."
   ],
   "metadata": {
    "collapsed": false
   },
   "id": "56838bdf8f748bd9"
  },
  {
   "cell_type": "code",
   "execution_count": 37,
   "outputs": [
    {
     "name": "stdout",
     "output_type": "stream",
     "text": [
      "{}\n",
      "{}\n",
      "{}\n"
     ]
    }
   ],
   "source": [
    "from re import search\n",
    "\n",
    "match = search(r'(\\w+),(\\w+),(\\w+)?', 'foo,bar,buz')\n",
    "\n",
    "print(match.groupdict())\n",
    "print(match.groupdict(default=''))\n",
    "print(match.groupdict(default='----'))"
   ],
   "metadata": {
    "collapsed": false,
    "ExecuteTime": {
     "end_time": "2025-03-17T07:22:56.873360600Z",
     "start_time": "2025-03-17T07:22:56.869848100Z"
    }
   },
   "id": "28b4b1617ceb7206"
  },
  {
   "cell_type": "markdown",
   "source": [
    "Методы start() и end()"
   ],
   "metadata": {
    "collapsed": false
   },
   "id": "c8327247990b7400"
  },
  {
   "cell_type": "markdown",
   "source": [
    "Методы start() и end() возвращают индексы начала и конца подстроки, которая совпала с регулярным выражением."
   ],
   "metadata": {
    "collapsed": false
   },
   "id": "f04155cbe4f40655"
  },
  {
   "cell_type": "code",
   "execution_count": 38,
   "outputs": [
    {
     "name": "stdout",
     "output_type": "stream",
     "text": [
      "<re.Match object; span=(3, 6), match='123'>\n",
      "3\n",
      "6\n"
     ]
    }
   ],
   "source": [
    "from re import search\n",
    "\n",
    "match = search(r'\\d+', 'foo123bar456baz')\n",
    "\n",
    "print(match)\n",
    "print(match.start())\n",
    "print(match.end())"
   ],
   "metadata": {
    "collapsed": false,
    "ExecuteTime": {
     "end_time": "2025-03-17T07:24:14.076853500Z",
     "start_time": "2025-03-17T07:24:14.073338800Z"
    }
   },
   "id": "4ebf353efe5ebfe"
  },
  {
   "cell_type": "markdown",
   "source": [
    "Обратите внимание на то, что при выводе объекта Match мы видим значения, возвращенные методами start() и end(), собранные в виде кортежа span."
   ],
   "metadata": {
    "collapsed": false
   },
   "id": "84f79a1ff39b324b"
  },
  {
   "cell_type": "markdown",
   "source": [
    "Значения, возвращаемые методами start() и end(), можно использовать для того чтобы получить подстроку, которая совпала с шаблоном регулярного выражения."
   ],
   "metadata": {
    "collapsed": false
   },
   "id": "d3ece4455ac7b525"
  },
  {
   "cell_type": "code",
   "execution_count": 39,
   "outputs": [
    {
     "name": "stdout",
     "output_type": "stream",
     "text": [
      "<re.Match object; span=(3, 6), match='123'>\n",
      "123\n",
      "123\n"
     ]
    }
   ],
   "source": [
    "from re import search\n",
    "\n",
    "text = 'foo123bar456baz'\n",
    "\n",
    "match = search(r'\\d+', text)\n",
    "\n",
    "start = match.start()\n",
    "end = match.end()\n",
    "\n",
    "print(match)\n",
    "print(text[start:end])\n",
    "print(match.group())           # аналогично предыдущей строке"
   ],
   "metadata": {
    "collapsed": false,
    "ExecuteTime": {
     "end_time": "2025-03-17T07:39:00.310300700Z",
     "start_time": "2025-03-17T07:39:00.306786900Z"
    }
   },
   "id": "75f591e90ca60c77"
  },
  {
   "cell_type": "markdown",
   "source": [
    "В методы start() и end() также можно передать номер или названия группы. В этом случае методы вернут индексы начала и конца подстроки, совпадающей с нужной группой."
   ],
   "metadata": {
    "collapsed": false
   },
   "id": "52577bfa68962307"
  },
  {
   "cell_type": "code",
   "execution_count": 40,
   "outputs": [
    {
     "name": "stdout",
     "output_type": "stream",
     "text": [
      "<re.Match object; span=(3, 12), match='123bar456'>\n",
      "123bar456 3 12\n",
      "123 3 6\n",
      "456 9 12\n"
     ]
    }
   ],
   "source": [
    "from re import search\n",
    "\n",
    "text = 'foo123bar456baz'\n",
    "\n",
    "match = search(r'(\\d+)\\D+(?P<num>\\d+)', text)\n",
    "\n",
    "print(match)\n",
    "print(match.group(), match.start(), match.end())\n",
    "print(match.group(1), match.start(1), match.end(1))\n",
    "print(match.group('num'), match.start('num'), match.end('num'))"
   ],
   "metadata": {
    "collapsed": false,
    "ExecuteTime": {
     "end_time": "2025-03-17T07:41:35.167574Z",
     "start_time": "2025-03-17T07:41:35.162602400Z"
    }
   },
   "id": "1163f4e08fb8112d"
  },
  {
   "cell_type": "markdown",
   "source": [
    "Если некоторая группа соответствует строке нулевой длины, то значения возвращаемые методами start() и end() будут равны. Достаточно разумное поведение, учитывая, что значения, возвращаемые методами start() и end() действуют как индексы среза. Любой срез строки, в котором начальный и конечный индексы равны, всегда будет пустой строкой."
   ],
   "metadata": {
    "collapsed": false
   },
   "id": "cc2136af074aaf44"
  },
  {
   "cell_type": "code",
   "execution_count": 47,
   "outputs": [
    {
     "name": "stdout",
     "output_type": "stream",
     "text": [
      "<re.Match object; span=(0, 6), match='foobar'>\n",
      "foobar\n",
      "0 6\n",
      "3 3\n"
     ]
    }
   ],
   "source": [
    "from re import search\n",
    "\n",
    "match = search(r'foo(\\d*)bar', 'foobar')\n",
    "\n",
    "print(match)\n",
    "print(match.group())\n",
    "print(match.start(), match.end())\n",
    "print(match.start(1), match.end(1))"
   ],
   "metadata": {
    "collapsed": false,
    "ExecuteTime": {
     "end_time": "2025-03-17T07:52:38.347720800Z",
     "start_time": "2025-03-17T07:52:38.344206300Z"
    }
   },
   "id": "73fab9a428507140"
  },
  {
   "cell_type": "markdown",
   "source": [
    "Особый случай возникает, когда регулярное выражение содержит группу, не участвующую в сопоставлении. В этом случае оба метода вернут значение −1."
   ],
   "metadata": {
    "collapsed": false
   },
   "id": "ab5d75e1ada129ae"
  },
  {
   "cell_type": "code",
   "execution_count": 49,
   "outputs": [
    {
     "name": "stdout",
     "output_type": "stream",
     "text": [
      "None\n",
      "-1 -1\n"
     ]
    }
   ],
   "source": [
    "from re import search\n",
    "\n",
    "match = search(r'(\\w+),(\\w+),(\\w+)?', 'foo,bar,')\n",
    "\n",
    "print(match.group(3))\n",
    "print(match.start(3), match.end(3))"
   ],
   "metadata": {
    "collapsed": false,
    "ExecuteTime": {
     "end_time": "2025-03-17T07:54:39.178151Z",
     "start_time": "2025-03-17T07:54:39.173640300Z"
    }
   },
   "id": "b91cf95c93b02608"
  },
  {
   "cell_type": "markdown",
   "source": [
    "Метод span()"
   ],
   "metadata": {
    "collapsed": false
   },
   "id": "a19027645790b9b8"
  },
  {
   "cell_type": "markdown",
   "source": [
    "Метод span() возвращает индексы начала и конца подстроки в виде кортежа, которая совпала с регулярным выражением. В метод span() также можно передать номер или название группы. В этом случае метод вернет индексы начала и конца подстроки в виде кортежа, совпадающей с нужной группой."
   ],
   "metadata": {
    "collapsed": false
   },
   "id": "12d51425c059768"
  },
  {
   "cell_type": "code",
   "execution_count": 51,
   "outputs": [
    {
     "name": "stdout",
     "output_type": "stream",
     "text": [
      "<re.Match object; span=(3, 12), match='123bar456'>\n",
      "(3, 12)\n",
      "(3, 6)\n",
      "(9, 12)\n",
      "(9, 12)\n"
     ]
    }
   ],
   "source": [
    "from re import search\n",
    "\n",
    "match = search(r'(\\d+)\\D+(?P<num>\\d+)', 'foo123bar456baz')\n",
    "\n",
    "print(match)\n",
    "print(match.span())\n",
    "print(match.span(1))\n",
    "print(match.span('num'))\n",
    "print(match.span(2))"
   ],
   "metadata": {
    "collapsed": false,
    "ExecuteTime": {
     "end_time": "2025-03-17T07:59:59.659305400Z",
     "start_time": "2025-03-17T07:59:59.655792400Z"
    }
   },
   "id": "a71e973721b2e202"
  },
  {
   "cell_type": "markdown",
   "source": [
    "Метод span() просто предоставляет удобный способ получить как начальный, так и конечный индексы подстроки, которая совпала с регулярным выражением. Метод span() возвращает кортеж вида  (start(), end())."
   ],
   "metadata": {
    "collapsed": false
   },
   "id": "19200591e06960f1"
  }
 ],
 "metadata": {
  "kernelspec": {
   "display_name": "Python 3",
   "language": "python",
   "name": "python3"
  },
  "language_info": {
   "codemirror_mode": {
    "name": "ipython",
    "version": 2
   },
   "file_extension": ".py",
   "mimetype": "text/x-python",
   "name": "python",
   "nbconvert_exporter": "python",
   "pygments_lexer": "ipython2",
   "version": "2.7.6"
  }
 },
 "nbformat": 4,
 "nbformat_minor": 5
}

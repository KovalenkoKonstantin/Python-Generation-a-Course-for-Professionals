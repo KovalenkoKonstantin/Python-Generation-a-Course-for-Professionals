{
 "cells": [
  {
   "cell_type": "markdown",
   "source": [
    "Тема урока: модуль re\n",
    "Модуль re\n",
    "Функция search()\n",
    "Функция match()\n",
    "Функция fullmatch()\n",
    "Объект Match\n",
    "Флаги\n",
    "Функция escape()\n",
    "Аннотация. Данный урок посвящен модулю re, который позволяет работать с регулярными выражениями в Python."
   ],
   "metadata": {
    "collapsed": false
   },
   "id": "9882df39fd57b817"
  },
  {
   "cell_type": "markdown",
   "source": [
    "Модуль re"
   ],
   "metadata": {
    "collapsed": false
   },
   "id": "795a830d57cc9edd"
  },
  {
   "cell_type": "markdown",
   "source": [
    "В Python для работы с регулярными выражениями используется встроенный модуль re. Для начала работы с ним его нужно импортировать:"
   ],
   "metadata": {
    "collapsed": false
   },
   "id": "2d66ac18935a2a36"
  },
  {
   "cell_type": "code",
   "execution_count": 1,
   "outputs": [],
   "source": [
    "import re"
   ],
   "metadata": {
    "collapsed": false,
    "ExecuteTime": {
     "end_time": "2025-03-14T11:59:49.746899100Z",
     "start_time": "2025-03-14T11:59:49.741609300Z"
    }
   },
   "id": "fd55284fcd51e421"
  },
  {
   "cell_type": "markdown",
   "source": [
    "Функция search()"
   ],
   "metadata": {
    "collapsed": false
   },
   "id": "ded5d6af78c3f081"
  },
  {
   "cell_type": "markdown",
   "source": [
    "Функция search() сканирует строку в поисках первого совпадения с регулярным выражением и возвращает специальный объект соответствия (тип Match) или значение None, если ни одна позиция в строке не соответствует регулярному выражению. "
   ],
   "metadata": {
    "collapsed": false
   },
   "id": "f4072a6b05f07cc8"
  },
  {
   "cell_type": "markdown",
   "source": [
    "Аргументы функции:\n",
    "\n",
    "pattern — шаблон регулярного выражения\n",
    "string — строка для поиска\n",
    "flags=0 — один или несколько флагов (необязательный аргумент)"
   ],
   "metadata": {
    "collapsed": false
   },
   "id": "10eba326879f5dc5"
  },
  {
   "cell_type": "code",
   "execution_count": 2,
   "outputs": [
    {
     "name": "stdout",
     "output_type": "stream",
     "text": [
      "<re.Match object; span=(0, 5), match='super'>\n",
      "<re.Match object; span=(2, 7), match='super'>\n",
      "None\n"
     ]
    }
   ],
   "source": [
    "from re import search\n",
    "\n",
    "match1 = search('super', 'superstition')\n",
    "match2 = search('super', 'insuperable')\n",
    "match3 = search('super', 'without')\n",
    "\n",
    "print(match1)\n",
    "print(match2)\n",
    "print(match3)"
   ],
   "metadata": {
    "collapsed": false,
    "ExecuteTime": {
     "end_time": "2025-03-14T12:02:20.971120400Z",
     "start_time": "2025-03-14T12:02:20.966635800Z"
    }
   },
   "id": "e83bbebd71fc64e3"
  },
  {
   "cell_type": "code",
   "execution_count": 1,
   "outputs": [
    {
     "name": "stdout",
     "output_type": "stream",
     "text": [
      "<re.Match object; span=(3, 6), match='123'>\n",
      "None\n",
      "None\n"
     ]
    }
   ],
   "source": [
    "from re import search\n",
    "\n",
    "match1 = search(r'\\d+', 'foo123bar')\n",
    "match2 = search(r'[a-z]+', '123FOO456')\n",
    "match3 = search(r'\\d+', 'foo.bar')\n",
    "\n",
    "print(match1)\n",
    "print(match2)\n",
    "print(match3)"
   ],
   "metadata": {
    "collapsed": false,
    "ExecuteTime": {
     "end_time": "2025-03-17T11:59:25.739149Z",
     "start_time": "2025-03-17T11:59:25.733169Z"
    }
   },
   "id": "ab4b043941ee99eb"
  },
  {
   "cell_type": "markdown",
   "source": [
    "Функция search() возвращает специальный объект соответствия (тип Match), о котором будет рассказано ниже. "
   ],
   "metadata": {
    "collapsed": false
   },
   "id": "8957394ba595739a"
  },
  {
   "cell_type": "markdown",
   "source": [
    "Функция match()"
   ],
   "metadata": {
    "collapsed": false
   },
   "id": "36b625a0a59eeb7"
  },
  {
   "cell_type": "markdown",
   "source": [
    "Функция match() возвращает специальный объект соответствия (тип Match), если начало строки соответствуют регулярному выражению, или значение None в противном случае."
   ],
   "metadata": {
    "collapsed": false
   },
   "id": "4d398fc6d359e354"
  },
  {
   "cell_type": "markdown",
   "source": [
    "Аргументы функции:\n",
    "\n",
    "pattern — шаблон регулярного выражения\n",
    "string — строка для поиска\n",
    "flags=0 — один или несколько флагов (необязательный аргумент)"
   ],
   "metadata": {
    "collapsed": false
   },
   "id": "c41d72e933b3d90f"
  },
  {
   "cell_type": "code",
   "execution_count": 4,
   "outputs": [
    {
     "name": "stdout",
     "output_type": "stream",
     "text": [
      "<re.Match object; span=(0, 5), match='super'>\n",
      "None\n"
     ]
    }
   ],
   "source": [
    "from re import match\n",
    "\n",
    "match1 = match('super', 'superstition')\n",
    "match2 = match('super', 'insuperable')\n",
    "\n",
    "print(match1)\n",
    "print(match2)"
   ],
   "metadata": {
    "collapsed": false,
    "ExecuteTime": {
     "end_time": "2025-03-17T05:18:30.314940200Z",
     "start_time": "2025-03-17T05:18:30.312421500Z"
    }
   },
   "id": "131af7aaf4b7247c"
  },
  {
   "cell_type": "code",
   "execution_count": 9,
   "outputs": [
    {
     "name": "stdout",
     "output_type": "stream",
     "text": [
      "<re.Match object; span=(0, 3), match='123'>\n",
      "<re.Match object; span=(3, 6), match='123'>\n",
      "<re.Match object; span=(0, 3), match='123'>\n",
      "None\n"
     ]
    }
   ],
   "source": [
    "from re import search, match\n",
    "\n",
    "match1 = search(r'\\d+', '123foobar')\n",
    "match2 = search(r'\\d+', 'foo123bar')\n",
    "match3 = match(r'\\d+', '123foobar')\n",
    "match4 = match(r'\\d+', 'foo123bar')\n",
    "\n",
    "print(match1)\n",
    "print(match2)\n",
    "print(match3)\n",
    "print(match4)"
   ],
   "metadata": {
    "collapsed": false,
    "ExecuteTime": {
     "end_time": "2025-03-17T05:24:16.943071Z",
     "start_time": "2025-03-17T05:24:16.938555Z"
    }
   },
   "id": "c1662764ca74b9e4"
  },
  {
   "cell_type": "markdown",
   "source": [
    "В приведенном выше примере функция search() находит соответствие, когда последовательность цифр находится как в начале строки, так и в середине. При этом функция match() находит соответствие только тогда, когда последовательность цифр находится вначале."
   ],
   "metadata": {
    "collapsed": false
   },
   "id": "1627f3cfe09a8cfb"
  },
  {
   "cell_type": "markdown",
   "source": [
    "Функция match() проверяет совпадение регулярного выражения только в начале строки, в то время как функция search() сканирует всю строку на предмет первого совпадения с шаблоном регулярного выражения."
   ],
   "metadata": {
    "collapsed": false
   },
   "id": "be3f76b125290d2d"
  },
  {
   "cell_type": "markdown",
   "source": [
    "Функция fullmatch()"
   ],
   "metadata": {
    "collapsed": false
   },
   "id": "fee5d56e903dce48"
  },
  {
   "cell_type": "markdown",
   "source": [
    "Функция fullmatch() возвращает специальный объект соответствия (тип Match), если вся строка соответствует регулярному выражению, или значение None в противном случае."
   ],
   "metadata": {
    "collapsed": false
   },
   "id": "3015f10e2245042d"
  },
  {
   "cell_type": "markdown",
   "source": [
    "Аргументы функции:\n",
    "\n",
    "pattern — шаблон регулярного выражения\n",
    "string — строка для поиска\n",
    "flags=0 — один или несколько флагов (необязательный аргумент)"
   ],
   "metadata": {
    "collapsed": false
   },
   "id": "e036a97e02a8a9d7"
  },
  {
   "cell_type": "code",
   "execution_count": 10,
   "outputs": [
    {
     "name": "stdout",
     "output_type": "stream",
     "text": [
      "None\n",
      "None\n",
      "None\n",
      "<re.Match object; span=(0, 3), match='123'>\n"
     ]
    }
   ],
   "source": [
    "from re import fullmatch\n",
    "\n",
    "match1 = fullmatch(r'\\d+', '123foo')\n",
    "match2 = fullmatch(r'\\d+', 'foo123')\n",
    "match3 = fullmatch(r'\\d+', 'foo123bar')\n",
    "match4 = fullmatch(r'\\d+', '123')\n",
    "\n",
    "print(match1)\n",
    "print(match2)\n",
    "print(match3)\n",
    "print(match4)"
   ],
   "metadata": {
    "collapsed": false,
    "ExecuteTime": {
     "end_time": "2025-03-17T05:47:15.227593100Z",
     "start_time": "2025-03-17T05:47:15.222082100Z"
    }
   },
   "id": "54ff1b267d14559f"
  },
  {
   "cell_type": "markdown",
   "source": [
    "Регулярному выражению \\d+ соответствует последовательность цифр. Из всех четырех строк в приведенном выше примере только строка 123 полностью состоит из цифр."
   ],
   "metadata": {
    "collapsed": false
   },
   "id": "ef0bb733e32f2f2b"
  },
  {
   "cell_type": "markdown",
   "source": [
    "Обратите внимание на то, что мы можем эмулировать работу функции fullmatch() с помощью функции search(), добавив в шаблон регулярного выражения метасимволы начала (символ ^) и конца строки (символ $)."
   ],
   "metadata": {
    "collapsed": false
   },
   "id": "edaf773ccd6f4bfe"
  },
  {
   "cell_type": "code",
   "execution_count": 12,
   "outputs": [
    {
     "name": "stdout",
     "output_type": "stream",
     "text": [
      "<re.Match object; span=(0, 3), match='123'>\n"
     ]
    }
   ],
   "source": [
    "from re import search\n",
    "\n",
    "match = search(r'^\\d+$', '123')\n",
    "\n",
    "print(match)"
   ],
   "metadata": {
    "collapsed": false,
    "ExecuteTime": {
     "end_time": "2025-03-17T05:50:15.423020900Z",
     "start_time": "2025-03-17T05:50:15.417507700Z"
    }
   },
   "id": "c05062454fc198e2"
  },
  {
   "cell_type": "markdown",
   "source": [
    "Функцию fullmatch() удобно использовать для валидации правильности данных."
   ],
   "metadata": {
    "collapsed": false
   },
   "id": "4d190a4092ea3e67"
  },
  {
   "cell_type": "code",
   "execution_count": 14,
   "outputs": [
    {
     "name": "stdout",
     "output_type": "stream",
     "text": [
      "<re.Match object; span=(0, 12), match='777-888-1234'>\n",
      "None\n",
      "None\n",
      "None\n"
     ]
    }
   ],
   "source": [
    "from re import fullmatch\n",
    "\n",
    "phone_pattern = r'\\d{3}-\\d{3}-\\d{4}'\n",
    "\n",
    "match1 = fullmatch(phone_pattern , '777-888-1234')\n",
    "match2 = fullmatch(phone_pattern , '77-89-56')\n",
    "match3 = fullmatch(phone_pattern , '5555-99-1234')\n",
    "match4 = fullmatch(phone_pattern , '123-000-3333ab')\n",
    "\n",
    "print(match1)\n",
    "print(match2)\n",
    "print(match3)\n",
    "print(match4)"
   ],
   "metadata": {
    "collapsed": false,
    "ExecuteTime": {
     "end_time": "2025-03-17T05:52:12.935553500Z",
     "start_time": "2025-03-17T05:52:12.934041200Z"
    }
   },
   "id": "e132927b8bbba84b"
  },
  {
   "cell_type": "markdown",
   "source": [
    "проверяет соответствие строк регулярному выражению ddd-ddd-dddd (три цифры дефис три цифры дефис четыре цифры)"
   ],
   "metadata": {
    "collapsed": false
   },
   "id": "951835a478850b6d"
  },
  {
   "cell_type": "markdown",
   "source": [
    "Объекты типа Match"
   ],
   "metadata": {
    "collapsed": false
   },
   "id": "6bca7e13f0084d8"
  },
  {
   "cell_type": "markdown",
   "source": [
    "Все три рассмотренные функции search(), match(), fullmatch() при успешном соответствии регулярному выражению возвращают объект типа Match. Объекты такого типа приводятся к типу bool автоматически, поэтому мы можем использовать их в условном операторе."
   ],
   "metadata": {
    "collapsed": false
   },
   "id": "18d5b837f5e426f"
  },
  {
   "cell_type": "code",
   "execution_count": 16,
   "outputs": [
    {
     "name": "stdout",
     "output_type": "stream",
     "text": [
      "Строка соответствует формату.\n",
      "<re.Match object; span=(0, 12), match='777-888-1234'>\n"
     ]
    }
   ],
   "source": [
    "from re import search, fullmatch\n",
    "\n",
    "match = fullmatch(r'\\d{3}-\\d{3}-\\d{4}', '777-888-1234')\n",
    "\n",
    "if match:\n",
    "    print('Строка соответствует формату.')\n",
    "    print(match)\n",
    "else:\n",
    "    print('Строка не соответствует формату.')"
   ],
   "metadata": {
    "collapsed": false,
    "ExecuteTime": {
     "end_time": "2025-03-17T05:54:02.125993600Z",
     "start_time": "2025-03-17T05:54:02.123801400Z"
    }
   },
   "id": "b9fa6a21f048028d"
  },
  {
   "cell_type": "markdown",
   "source": [
    "Значение None отождествляется с False. Поэтому в случае если функция fullmatch() вернет значение None, то сработает блок else условного оператора."
   ],
   "metadata": {
    "collapsed": false
   },
   "id": "ae9135b2d8e11b80"
  },
  {
   "cell_type": "markdown",
   "source": [
    "Объекты типа Match также содержат немало полезной информации о совпадении. Рассмотрим основные методы и атрибуты."
   ],
   "metadata": {
    "collapsed": false
   },
   "id": "9a6d38894fa1f3c2"
  },
  {
   "cell_type": "markdown",
   "source": [
    "Метод group()"
   ],
   "metadata": {
    "collapsed": false
   },
   "id": "d3f283b3728c9852"
  },
  {
   "cell_type": "markdown",
   "source": [
    "Метод group() возвращает одну или несколько подгрупп совпадения. Если метод вызывается без аргументов, то возвращается вся подстрока, которая совпала с шаблоном регулярного выражения."
   ],
   "metadata": {
    "collapsed": false
   },
   "id": "8815e9eb00367928"
  },
  {
   "cell_type": "code",
   "execution_count": 18,
   "outputs": [
    {
     "name": "stdout",
     "output_type": "stream",
     "text": [
      "foo,bar,baz\n",
      "foo,bar,baz\n",
      "foo\n",
      "bar\n",
      "baz\n",
      "('foo', 'bar', 'baz')\n"
     ]
    }
   ],
   "source": [
    "from re import search\n",
    "\n",
    "match = search(r'(\\w+),(\\w+),(\\w+)', 'foo,bar,baz')\n",
    "\n",
    "print(match.group())                       # вся строка\n",
    "print(match.group(0))                      # вся строка\n",
    "print(match.group(1))                      # подгруппа\n",
    "print(match.group(2))                      # подгруппа\n",
    "print(match.group(3))                      # подгруппа\n",
    "print(match.group(1, 2, 3))                # кортеж"
   ],
   "metadata": {
    "collapsed": false,
    "ExecuteTime": {
     "end_time": "2025-03-17T05:55:39.527934700Z",
     "start_time": "2025-03-17T05:55:39.519806400Z"
    }
   },
   "id": "faf819d67204df85"
  },
  {
   "cell_type": "markdown",
   "source": [
    "В качестве аргумента можно указать как одну группу, так и несколько. В первом случае метод вернет строку, соответствующую группе, во втором — кортеж строк, соответствующих указанным группам."
   ],
   "metadata": {
    "collapsed": false
   },
   "id": "ee8a3814f51b35ec"
  },
  {
   "cell_type": "markdown",
   "source": [
    "Вызов метода group() без аргументов, равнозначен вызову с аргументом 0, то есть group(0)."
   ],
   "metadata": {
    "collapsed": false
   },
   "id": "7667e72e0b1dd61a"
  },
  {
   "cell_type": "markdown",
   "source": [
    "Если методу group() передать индекс несуществующей группы, то будет возбуждено исключение."
   ],
   "metadata": {
    "collapsed": false
   },
   "id": "9a97ad4cb11e47e3"
  },
  {
   "cell_type": "code",
   "execution_count": 20,
   "outputs": [
    {
     "ename": "IndexError",
     "evalue": "no such group",
     "output_type": "error",
     "traceback": [
      "\u001B[1;31m---------------------------------------------------------------------------\u001B[0m",
      "\u001B[1;31mIndexError\u001B[0m                                Traceback (most recent call last)",
      "Cell \u001B[1;32mIn[20], line 5\u001B[0m\n\u001B[0;32m      1\u001B[0m \u001B[38;5;28;01mfrom\u001B[39;00m \u001B[38;5;21;01mre\u001B[39;00m \u001B[38;5;28;01mimport\u001B[39;00m search\n\u001B[0;32m      3\u001B[0m match \u001B[38;5;241m=\u001B[39m search(\u001B[38;5;124mr\u001B[39m\u001B[38;5;124m'\u001B[39m\u001B[38;5;124m(\u001B[39m\u001B[38;5;124m\\\u001B[39m\u001B[38;5;124mw+),(\u001B[39m\u001B[38;5;124m\\\u001B[39m\u001B[38;5;124mw+),(\u001B[39m\u001B[38;5;124m\\\u001B[39m\u001B[38;5;124mw+)\u001B[39m\u001B[38;5;124m'\u001B[39m, \u001B[38;5;124m'\u001B[39m\u001B[38;5;124mfoo,bar,baz\u001B[39m\u001B[38;5;124m'\u001B[39m)\n\u001B[1;32m----> 5\u001B[0m \u001B[38;5;28mprint\u001B[39m(\u001B[43mmatch\u001B[49m\u001B[38;5;241;43m.\u001B[39;49m\u001B[43mgroup\u001B[49m\u001B[43m(\u001B[49m\u001B[38;5;241;43m4\u001B[39;49m\u001B[43m)\u001B[49m)\n",
      "\u001B[1;31mIndexError\u001B[0m: no such group"
     ]
    }
   ],
   "source": [
    "from re import search\n",
    "\n",
    "match = search(r'(\\w+),(\\w+),(\\w+)', 'foo,bar,baz')\n",
    "\n",
    "print(match.group(4))"
   ],
   "metadata": {
    "collapsed": false,
    "ExecuteTime": {
     "end_time": "2025-03-17T05:58:38.290592600Z",
     "start_time": "2025-03-17T05:58:38.280651100Z"
    }
   },
   "id": "9b7b2edb2a865615"
  },
  {
   "cell_type": "markdown",
   "source": [
    "Переданная в качестве аргумента группа может появляться несколько раз, при этом мы можем указывать любые группы в любом порядке."
   ],
   "metadata": {
    "collapsed": false
   },
   "id": "468b6b6477887df2"
  },
  {
   "cell_type": "code",
   "execution_count": 22,
   "outputs": [
    {
     "name": "stdout",
     "output_type": "stream",
     "text": [
      "('foo', 'bar', 'baz', 'foo', 'bar', 'bar', 'baz', 'baz', 'baz', 'baz')\n"
     ]
    }
   ],
   "source": [
    "from re import search\n",
    "\n",
    "match = search(r'(\\w+),(\\w+),(\\w+)', 'foo,bar,baz')\n",
    "\n",
    "print(match.group(1, 2, 3, 1, 2, 2, 3, 3, 3, 3))"
   ],
   "metadata": {
    "collapsed": false,
    "ExecuteTime": {
     "end_time": "2025-03-17T05:59:14.634317600Z",
     "start_time": "2025-03-17T05:59:14.631804200Z"
    }
   },
   "id": "6e9c88bc8f186863"
  },
  {
   "cell_type": "markdown",
   "source": [
    "Пронумерованные захваченные группы отсчитываются от единицы, а не от нуля."
   ],
   "metadata": {
    "collapsed": false
   },
   "id": "2f09bb3b6ec75cdb"
  },
  {
   "cell_type": "markdown",
   "source": [
    "Если мы пользуемся именованными группами, используя синтаксис (?P<name><regex>), тогда мы можем использовать название группы в качестве аргумента метода group()."
   ],
   "metadata": {
    "collapsed": false
   },
   "id": "eaa95d215b64f8b8"
  },
  {
   "cell_type": "code",
   "execution_count": 24,
   "outputs": [
    {
     "name": "stdout",
     "output_type": "stream",
     "text": [
      "foo,bar,baz\n",
      "foo\n",
      "bar\n",
      "baz\n",
      "('foo', 'bar', 'baz', 'bar', 'baz')\n"
     ]
    }
   ],
   "source": [
    "from re import search\n",
    "\n",
    "match = search(r'(?P<w1>\\w+),(?P<w2>\\w+),(?P<w3>\\w+)', 'foo,bar,baz')\n",
    "\n",
    "print(match.group())\n",
    "print(match.group('w1'))\n",
    "print(match.group('w2'))\n",
    "print(match.group('w3'))\n",
    "print(match.group('w1', 'w2', 'w3', 'w2', 'w3'))"
   ],
   "metadata": {
    "collapsed": false,
    "ExecuteTime": {
     "end_time": "2025-03-17T06:00:17.629877100Z",
     "start_time": "2025-03-17T06:00:17.627363800Z"
    }
   },
   "id": "abbd6c07c71c4321"
  },
  {
   "cell_type": "markdown",
   "source": [
    "Обратите внимание на то, что метод group() может возвращать в качестве группы значение None. Так происходит в ситуации, когда группа не участвует в сопоставлении."
   ],
   "metadata": {
    "collapsed": false
   },
   "id": "e68f750396f21092"
  },
  {
   "cell_type": "code",
   "execution_count": 26,
   "outputs": [
    {
     "name": "stdout",
     "output_type": "stream",
     "text": [
      "foo,bar,\n",
      "foo,bar,\n",
      "foo\n",
      "bar\n",
      "None\n",
      "('foo', 'bar', None)\n"
     ]
    }
   ],
   "source": [
    "from re import search\n",
    "\n",
    "match = search(r'(\\w+),(\\w+),(\\w+)?', 'foo,bar,')\n",
    "\n",
    "print(match.group())\n",
    "print(match.group(0))\n",
    "print(match.group(1))\n",
    "print(match.group(2))\n",
    "print(match.group(3))\n",
    "print(match.group(1, 2, 3))"
   ],
   "metadata": {
    "collapsed": false,
    "ExecuteTime": {
     "end_time": "2025-03-17T06:05:15.872521400Z",
     "start_time": "2025-03-17T06:05:15.870003900Z"
    }
   },
   "id": "6bd7b3220707b2be"
  },
  {
   "cell_type": "markdown",
   "source": [
    "Метод groups()"
   ],
   "metadata": {
    "collapsed": false
   },
   "id": "b72e2ace0a91b351"
  },
  {
   "cell_type": "markdown",
   "source": [
    "Метод groups() возвращает кортеж, содержащий все захваченные группы."
   ],
   "metadata": {
    "collapsed": false
   },
   "id": "f9c0d868b9128333"
  },
  {
   "cell_type": "code",
   "execution_count": 28,
   "outputs": [
    {
     "name": "stdout",
     "output_type": "stream",
     "text": [
      "('foo', 'bar', None)\n"
     ]
    }
   ],
   "source": [
    "from re import search\n",
    "\n",
    "match = search(r'(\\w+),(\\w+),(\\w+)?', 'foo,bar,')\n",
    "\n",
    "print(match.groups())"
   ],
   "metadata": {
    "collapsed": false,
    "ExecuteTime": {
     "end_time": "2025-03-17T06:06:37.852330300Z",
     "start_time": "2025-03-17T06:06:37.849818Z"
    }
   },
   "id": "c56313ef357b7085"
  },
  {
   "cell_type": "markdown",
   "source": [
    "Группы, которые не смогли захватить какой-либо результат, по умолчанию будут иметь значение None. Если в такой ситуации требуется вернуть значение, отличное от None, то используется необязательный аргумент default."
   ],
   "metadata": {
    "collapsed": false
   },
   "id": "b6551916c0835fc6"
  },
  {
   "cell_type": "code",
   "execution_count": 30,
   "outputs": [
    {
     "name": "stdout",
     "output_type": "stream",
     "text": [
      "('foo', 'bar', -1)\n",
      "('foo', 'bar', '')\n",
      "('foo', 'bar', '----')\n",
      "('foo', 'bar', False)\n"
     ]
    }
   ],
   "source": [
    "from re import search\n",
    "\n",
    "match = search(r'(\\w+),(\\w+),(\\w+)?', 'foo,bar,')\n",
    "\n",
    "print(match.groups(-1))                     # позиционный аргумент\n",
    "print(match.groups(''))\n",
    "print(match.groups(default='----'))         # именованный аргумент\n",
    "print(match.groups(default=False))"
   ],
   "metadata": {
    "collapsed": false,
    "ExecuteTime": {
     "end_time": "2025-03-17T06:07:31.964121500Z",
     "start_time": "2025-03-17T06:07:31.961607600Z"
    }
   },
   "id": "66a9e49a5f0f29ee"
  },
  {
   "cell_type": "markdown",
   "source": [
    "Метод groupdict()"
   ],
   "metadata": {
    "collapsed": false
   },
   "id": "d7245cbdf3475e16"
  },
  {
   "cell_type": "markdown",
   "source": [
    "Метод groupdict() возвращает словарь, содержащий все захваченные именованные группы."
   ],
   "metadata": {
    "collapsed": false
   },
   "id": "eef7c9a708972132"
  },
  {
   "cell_type": "code",
   "execution_count": 33,
   "outputs": [
    {
     "name": "stdout",
     "output_type": "stream",
     "text": [
      "{'w1': 'foo', 'w2': 'bar', 'w3': 'baz'}\n"
     ]
    }
   ],
   "source": [
    "from re import search\n",
    "\n",
    "match = search(r'(?P<w1>\\w+),(?P<w2>\\w+),(?P<w3>\\w+)', 'foo,bar,baz')\n",
    "\n",
    "print(match.groupdict())"
   ],
   "metadata": {
    "collapsed": false,
    "ExecuteTime": {
     "end_time": "2025-03-17T07:16:47.498098100Z",
     "start_time": "2025-03-17T07:16:47.493905500Z"
    }
   },
   "id": "106976230f3aa517"
  },
  {
   "cell_type": "markdown",
   "source": [
    "Метод groupdict(), как и метод groups(), принимает необязательный аргумент default, который используется для указания значений групп, которые не смогли захватить какой либо результат. По умолчанию значение данного аргумента равно None."
   ],
   "metadata": {
    "collapsed": false
   },
   "id": "49f97309879066f6"
  },
  {
   "cell_type": "code",
   "execution_count": 35,
   "outputs": [
    {
     "name": "stdout",
     "output_type": "stream",
     "text": [
      "{'w1': 'foo', 'w2': 'bar', 'w3': None}\n",
      "{'w1': 'foo', 'w2': 'bar', 'w3': ''}\n",
      "{'w1': 'foo', 'w2': 'bar', 'w3': '----'}\n"
     ]
    }
   ],
   "source": [
    "from re import search\n",
    "\n",
    "match = search(r'(?P<w1>\\w+),(?P<w2>\\w+),(?P<w3>\\w+)?', 'foo,bar,')\n",
    "\n",
    "print(match.groupdict())\n",
    "print(match.groupdict(default=''))\n",
    "print(match.groupdict(default='----'))"
   ],
   "metadata": {
    "collapsed": false,
    "ExecuteTime": {
     "end_time": "2025-03-17T07:17:52.232468800Z",
     "start_time": "2025-03-17T07:17:52.228312700Z"
    }
   },
   "id": "4dc7f9c9ee2c6844"
  },
  {
   "cell_type": "markdown",
   "source": [
    "Если именованных групп в исходном регулярном выражении нет, метод groupdict() возвращает пустой словарь."
   ],
   "metadata": {
    "collapsed": false
   },
   "id": "56838bdf8f748bd9"
  },
  {
   "cell_type": "code",
   "execution_count": 37,
   "outputs": [
    {
     "name": "stdout",
     "output_type": "stream",
     "text": [
      "{}\n",
      "{}\n",
      "{}\n"
     ]
    }
   ],
   "source": [
    "from re import search\n",
    "\n",
    "match = search(r'(\\w+),(\\w+),(\\w+)?', 'foo,bar,buz')\n",
    "\n",
    "print(match.groupdict())\n",
    "print(match.groupdict(default=''))\n",
    "print(match.groupdict(default='----'))"
   ],
   "metadata": {
    "collapsed": false,
    "ExecuteTime": {
     "end_time": "2025-03-17T07:22:56.873360600Z",
     "start_time": "2025-03-17T07:22:56.869848100Z"
    }
   },
   "id": "28b4b1617ceb7206"
  },
  {
   "cell_type": "markdown",
   "source": [
    "Методы start() и end()"
   ],
   "metadata": {
    "collapsed": false
   },
   "id": "c8327247990b7400"
  },
  {
   "cell_type": "markdown",
   "source": [
    "Методы start() и end() возвращают индексы начала и конца подстроки, которая совпала с регулярным выражением."
   ],
   "metadata": {
    "collapsed": false
   },
   "id": "f04155cbe4f40655"
  },
  {
   "cell_type": "code",
   "execution_count": 38,
   "outputs": [
    {
     "name": "stdout",
     "output_type": "stream",
     "text": [
      "<re.Match object; span=(3, 6), match='123'>\n",
      "3\n",
      "6\n"
     ]
    }
   ],
   "source": [
    "from re import search\n",
    "\n",
    "match = search(r'\\d+', 'foo123bar456baz')\n",
    "\n",
    "print(match)\n",
    "print(match.start())\n",
    "print(match.end())"
   ],
   "metadata": {
    "collapsed": false,
    "ExecuteTime": {
     "end_time": "2025-03-17T07:24:14.076853500Z",
     "start_time": "2025-03-17T07:24:14.073338800Z"
    }
   },
   "id": "4ebf353efe5ebfe"
  },
  {
   "cell_type": "markdown",
   "source": [
    "Обратите внимание на то, что при выводе объекта Match мы видим значения, возвращенные методами start() и end(), собранные в виде кортежа span."
   ],
   "metadata": {
    "collapsed": false
   },
   "id": "84f79a1ff39b324b"
  },
  {
   "cell_type": "markdown",
   "source": [
    "Значения, возвращаемые методами start() и end(), можно использовать для того чтобы получить подстроку, которая совпала с шаблоном регулярного выражения."
   ],
   "metadata": {
    "collapsed": false
   },
   "id": "d3ece4455ac7b525"
  },
  {
   "cell_type": "code",
   "execution_count": 39,
   "outputs": [
    {
     "name": "stdout",
     "output_type": "stream",
     "text": [
      "<re.Match object; span=(3, 6), match='123'>\n",
      "123\n",
      "123\n"
     ]
    }
   ],
   "source": [
    "from re import search\n",
    "\n",
    "text = 'foo123bar456baz'\n",
    "\n",
    "match = search(r'\\d+', text)\n",
    "\n",
    "start = match.start()\n",
    "end = match.end()\n",
    "\n",
    "print(match)\n",
    "print(text[start:end])\n",
    "print(match.group())           # аналогично предыдущей строке"
   ],
   "metadata": {
    "collapsed": false,
    "ExecuteTime": {
     "end_time": "2025-03-17T07:39:00.310300700Z",
     "start_time": "2025-03-17T07:39:00.306786900Z"
    }
   },
   "id": "75f591e90ca60c77"
  },
  {
   "cell_type": "markdown",
   "source": [
    "В методы start() и end() также можно передать номер или названия группы. В этом случае методы вернут индексы начала и конца подстроки, совпадающей с нужной группой."
   ],
   "metadata": {
    "collapsed": false
   },
   "id": "52577bfa68962307"
  },
  {
   "cell_type": "code",
   "execution_count": 40,
   "outputs": [
    {
     "name": "stdout",
     "output_type": "stream",
     "text": [
      "<re.Match object; span=(3, 12), match='123bar456'>\n",
      "123bar456 3 12\n",
      "123 3 6\n",
      "456 9 12\n"
     ]
    }
   ],
   "source": [
    "from re import search\n",
    "\n",
    "text = 'foo123bar456baz'\n",
    "\n",
    "match = search(r'(\\d+)\\D+(?P<num>\\d+)', text)\n",
    "\n",
    "print(match)\n",
    "print(match.group(), match.start(), match.end())\n",
    "print(match.group(1), match.start(1), match.end(1))\n",
    "print(match.group('num'), match.start('num'), match.end('num'))"
   ],
   "metadata": {
    "collapsed": false,
    "ExecuteTime": {
     "end_time": "2025-03-17T07:41:35.167574Z",
     "start_time": "2025-03-17T07:41:35.162602400Z"
    }
   },
   "id": "1163f4e08fb8112d"
  },
  {
   "cell_type": "markdown",
   "source": [
    "Если некоторая группа соответствует строке нулевой длины, то значения возвращаемые методами start() и end() будут равны. Достаточно разумное поведение, учитывая, что значения, возвращаемые методами start() и end() действуют как индексы среза. Любой срез строки, в котором начальный и конечный индексы равны, всегда будет пустой строкой."
   ],
   "metadata": {
    "collapsed": false
   },
   "id": "cc2136af074aaf44"
  },
  {
   "cell_type": "code",
   "execution_count": 47,
   "outputs": [
    {
     "name": "stdout",
     "output_type": "stream",
     "text": [
      "<re.Match object; span=(0, 6), match='foobar'>\n",
      "foobar\n",
      "0 6\n",
      "3 3\n"
     ]
    }
   ],
   "source": [
    "from re import search\n",
    "\n",
    "match = search(r'foo(\\d*)bar', 'foobar')\n",
    "\n",
    "print(match)\n",
    "print(match.group())\n",
    "print(match.start(), match.end())\n",
    "print(match.start(1), match.end(1))"
   ],
   "metadata": {
    "collapsed": false,
    "ExecuteTime": {
     "end_time": "2025-03-17T07:52:38.347720800Z",
     "start_time": "2025-03-17T07:52:38.344206300Z"
    }
   },
   "id": "73fab9a428507140"
  },
  {
   "cell_type": "markdown",
   "source": [
    "Особый случай возникает, когда регулярное выражение содержит группу, не участвующую в сопоставлении. В этом случае оба метода вернут значение −1."
   ],
   "metadata": {
    "collapsed": false
   },
   "id": "ab5d75e1ada129ae"
  },
  {
   "cell_type": "code",
   "execution_count": 49,
   "outputs": [
    {
     "name": "stdout",
     "output_type": "stream",
     "text": [
      "None\n",
      "-1 -1\n"
     ]
    }
   ],
   "source": [
    "from re import search\n",
    "\n",
    "match = search(r'(\\w+),(\\w+),(\\w+)?', 'foo,bar,')\n",
    "\n",
    "print(match.group(3))\n",
    "print(match.start(3), match.end(3))"
   ],
   "metadata": {
    "collapsed": false,
    "ExecuteTime": {
     "end_time": "2025-03-17T07:54:39.178151Z",
     "start_time": "2025-03-17T07:54:39.173640300Z"
    }
   },
   "id": "b91cf95c93b02608"
  },
  {
   "cell_type": "markdown",
   "source": [
    "Метод span()"
   ],
   "metadata": {
    "collapsed": false
   },
   "id": "a19027645790b9b8"
  },
  {
   "cell_type": "markdown",
   "source": [
    "Метод span() возвращает индексы начала и конца подстроки в виде кортежа, которая совпала с регулярным выражением. В метод span() также можно передать номер или название группы. В этом случае метод вернет индексы начала и конца подстроки в виде кортежа, совпадающей с нужной группой."
   ],
   "metadata": {
    "collapsed": false
   },
   "id": "12d51425c059768"
  },
  {
   "cell_type": "code",
   "execution_count": 51,
   "outputs": [
    {
     "name": "stdout",
     "output_type": "stream",
     "text": [
      "<re.Match object; span=(3, 12), match='123bar456'>\n",
      "(3, 12)\n",
      "(3, 6)\n",
      "(9, 12)\n",
      "(9, 12)\n"
     ]
    }
   ],
   "source": [
    "from re import search\n",
    "\n",
    "match = search(r'(\\d+)\\D+(?P<num>\\d+)', 'foo123bar456baz')\n",
    "\n",
    "print(match)\n",
    "print(match.span())\n",
    "print(match.span(1))\n",
    "print(match.span('num'))\n",
    "print(match.span(2))"
   ],
   "metadata": {
    "collapsed": false,
    "ExecuteTime": {
     "end_time": "2025-03-17T07:59:59.659305400Z",
     "start_time": "2025-03-17T07:59:59.655792400Z"
    }
   },
   "id": "a71e973721b2e202"
  },
  {
   "cell_type": "markdown",
   "source": [
    "Метод span() просто предоставляет удобный способ получить как начальный, так и конечный индексы подстроки, которая совпала с регулярным выражением. Метод span() возвращает кортеж вида  (start(), end())."
   ],
   "metadata": {
    "collapsed": false
   },
   "id": "19200591e06960f1"
  },
  {
   "cell_type": "markdown",
   "source": [
    "Примечания"
   ],
   "metadata": {
    "collapsed": false
   },
   "id": "89ae66ad72feb1ab"
  },
  {
   "cell_type": "markdown",
   "source": [
    "Примечание 6. Функция match() возвращает None, если начало строки не соответствует регулярному выражению. Обратите внимание, что это поведение отличается от совпадения нулевой длины."
   ],
   "metadata": {
    "collapsed": false
   },
   "id": "36fbf1667e717fd9"
  },
  {
   "cell_type": "markdown",
   "source": [
    "Телефонные номера\n",
    "Вам доступен набор телефонных номеров, имеющих следующие форматы:\n",
    "\n",
    "<код страны>-<код города>-<номер>\n",
    "<код страны> <код города> <номер>\n",
    "в котором код страны и код города представлены последовательностями от одной до трех цифр включительно, а номер — последовательностью от четырех до десяти цифр включительно. Между кодом страны, кодом города и номером используется разделитель, которым служит либо символ дефис, либо пробел, причем одновременно оба вида разделителя в одном номере присутствовать не могут.\n",
    "\n",
    "Напишите программу, которая принимает произвольное количество телефонных номеров и для каждого выводит отдельно его код страны, код города и номер.\n",
    "\n",
    "Формат входных данных\n",
    "На вход программе подается произвольное количество телефонных номеров, удовлетворяющих приведенным выше шаблонам, каждый на отдельной строке.\n",
    "\n",
    "Формат выходных данных\n",
    "Программа должна для каждого введенного телефонного номера вывести отдельно его код страны, код города и номер в следующем формате:\n",
    "\n",
    "Код страны: <код страны>, Код города: <код города>, Номер: <номер>"
   ],
   "metadata": {
    "collapsed": false
   },
   "id": "c975fc8230b14c7"
  },
  {
   "cell_type": "code",
   "execution_count": 15,
   "outputs": [
    {
     "name": "stdout",
     "output_type": "stream",
     "text": [
      "Код страны: 148, Код города: 809, Номер: 2561957985\n",
      "Код страны: 1, Код города: 5, Номер: 5864\n",
      "Код страны: 91, Код города: 454, Номер: 91954\n"
     ]
    }
   ],
   "source": [
    "import re\n",
    "from sys import stdin\n",
    "\n",
    "s = '''\n",
    "1 877 2638277\n",
    "91-011-23413627\n",
    "'''\n",
    "s = '''\n",
    "148-809-2561957985\n",
    "1 5 5864\n",
    "91-454-91954\n",
    "'''\n",
    "# s = stdin.read()\n",
    "# s = open(0).read()\n",
    "\n",
    "regex = r'(\\d+)[ -](\\d+)[ -](\\d+)'\n",
    "\n",
    "# re.findall(regex, s)\n",
    "matches = re.finditer(regex, s)\n",
    "for match in matches:\n",
    "    print(f'Код страны: {match.group(1)}, Код города: {match.group(2)}, Номер: {match.group(3)}')"
   ],
   "metadata": {
    "collapsed": false,
    "ExecuteTime": {
     "end_time": "2025-03-18T07:24:23.656218500Z",
     "start_time": "2025-03-18T07:24:23.653720900Z"
    }
   },
   "id": "881f663c617a7a8d"
  },
  {
   "cell_type": "code",
   "execution_count": null,
   "outputs": [],
   "source": [
    "import re\n",
    "import sys\n",
    "\n",
    "pattern = r\"(?P<country>\\d{1,3})([ -]?)(?P<city>\\d{1,3})\\2(?P<number>\\d{4,10})\"\n",
    "for number in map(str.rstrip, sys.stdin):\n",
    "    match = re.fullmatch(pattern, number)\n",
    "    groups = match.groupdict()\n",
    "    print(f\"Код страны: {groups['country']}, Код города: {groups['city']}, Номер: {groups['number']}\")"
   ],
   "metadata": {
    "collapsed": false
   },
   "id": "a7aa06b0c4542cb0"
  },
  {
   "cell_type": "markdown",
   "source": [
    "Онлайн-школа BEEGEEK\n",
    "В онлайн-школе BEEGEEK логин учетной записи определяется следующим образом:\n",
    "\n",
    "первым символом является символ нижнего подчеркивания _\n",
    "затем следуют одна или более цифр\n",
    "после записываются ноль или более латинских букв в произвольном регистре\n",
    "логин может иметь на конце необязательный символ нижнего подчеркивания _\n",
    "Напишите программу, которая принимает произвольное количество строк и определяет, какие из них представляют собой корректный логин онлайн-школы BEEGEEK.\n",
    "\n",
    "Формат входных данных\n",
    "На вход программе подаётся произвольное количество строк, каждая из которых содержит набор произвольных символов.\n",
    "\n",
    "Формат выходных данных\n",
    "Программа должна для каждой введенной строки вывести True, если она представляет собой корректный логин онлайн-школы BEEGEEK, или False в противном случае."
   ],
   "metadata": {
    "collapsed": false
   },
   "id": "4f96f146e3794e36"
  },
  {
   "cell_type": "code",
   "execution_count": 82,
   "outputs": [
    {
     "name": "stdout",
     "output_type": "stream",
     "text": [
      "True\n",
      "True\n"
     ]
    }
   ],
   "source": [
    "import re\n",
    "from sys import stdin\n",
    "\n",
    "s = '''\n",
    "_123abc_\n",
    "_1abc_\n",
    "123abc\n",
    "_abc123\n",
    "_123abc__\n",
    "'''\n",
    "s = '''\n",
    "_1\n",
    "_1_\n",
    "'''\n",
    "\n",
    "# s = open(0).read()\n",
    "# s = stdin.readline().strip()\n",
    "\n",
    "regex = r'_\\d+[A-Za-z]*_?'\n",
    "\n",
    "# matches = re.findall(regex, s)\n",
    "# print(re.fullmatch(regex, s))\n",
    "\n",
    "lines = s.strip().split('\\n')\n",
    "\n",
    "for line in lines:\n",
    "    if re.fullmatch(regex, line):\n",
    "        print(True)\n",
    "    else:\n",
    "        print(False)"
   ],
   "metadata": {
    "collapsed": false,
    "ExecuteTime": {
     "end_time": "2025-03-18T09:19:23.125259200Z",
     "start_time": "2025-03-18T09:19:23.120189300Z"
    }
   },
   "id": "ea2a40696d84a256"
  },
  {
   "cell_type": "code",
   "execution_count": null,
   "outputs": [],
   "source": [
    "import re\n",
    "import sys\n",
    "\n",
    "reg = r'_\\d+[a-zA-Z]*_?'\n",
    "\n",
    "for i in sys.stdin:\n",
    "    grou = re.fullmatch(reg, i.strip())\n",
    "    print(bool(grou))"
   ],
   "metadata": {
    "collapsed": false
   },
   "id": "9f8e29fc3d630f09"
  },
  {
   "cell_type": "code",
   "execution_count": null,
   "outputs": [],
   "source": [
    "import re\n",
    "\n",
    "reg = r'_\\d+[a-zA-Z]*_?'\n",
    "\n",
    "for i in open(0):\n",
    "    print(not not re.match(reg, i))"
   ],
   "metadata": {
    "collapsed": false
   },
   "id": "46fd6ec54da4d44"
  },
  {
   "cell_type": "code",
   "execution_count": null,
   "outputs": [],
   "source": [
    "import re\n",
    "\n",
    "reg = r'^_\\d+[a-zA-Z]*_?$'\n",
    "\n",
    "for i in open(0):\n",
    "    print(bool(re.match(reg, i.strip())))"
   ],
   "metadata": {
    "collapsed": false
   },
   "id": "703744d9d7a05507"
  },
  {
   "cell_type": "markdown",
   "source": [
    "Одинаковые слоги\n",
    "Напишите программу, которая выводит слова, состоящие из двух одинаковых частей.\n",
    "\n",
    "Формат входных данных\n",
    "На вход программе подается произвольное количество слов, каждое на отдельной строке.\n",
    "\n",
    "Формат выходных данных\n",
    "Программа должна из введенных слов вывести только те, которые состоят из двух одинаковых слогов. Слова должны быть расположены в своем исходном порядке, каждое на отдельной строке.\n",
    "\n",
    "Примечание 1. Словом будем считать любую непрерывную последовательность из одного или нескольких символов, соответствующих \\w."
   ],
   "metadata": {
    "collapsed": false
   },
   "id": "252ccc0e9b446526"
  },
  {
   "cell_type": "code",
   "execution_count": 36,
   "outputs": [
    {
     "name": "stdout",
     "output_type": "stream",
     "text": [
      "gogo\n",
      "XaXaXaXa\n"
     ]
    }
   ],
   "source": [
    "import re\n",
    "\n",
    "regex = r'^(\\w+)\\1$'\n",
    "s = '''\n",
    "Python\n",
    "beebee\n",
    "PyPy\n",
    "portal\n",
    "'''\n",
    "s = '''\n",
    "gogo\n",
    "hohoho\n",
    "XaXaXaXa\n",
    "'''\n",
    "\n",
    "\n",
    "lines = s.strip().split('\\n')\n",
    "\n",
    "for line in lines:\n",
    "    if re.match(regex, line):\n",
    "        print(line)"
   ],
   "metadata": {
    "collapsed": false,
    "ExecuteTime": {
     "end_time": "2025-03-18T10:18:40.492025100Z",
     "start_time": "2025-03-18T10:18:40.487530900Z"
    }
   },
   "id": "1bbe2594b165da93"
  },
  {
   "cell_type": "code",
   "execution_count": null,
   "outputs": [],
   "source": [
    "import re, sys\n",
    "\n",
    "for line in sys.stdin:\n",
    "    if re.fullmatch(r'(\\w+)\\1', s := line.strip()):\n",
    "        print(s)"
   ],
   "metadata": {
    "collapsed": false
   },
   "id": "ebd9e3f1412b62cf"
  },
  {
   "cell_type": "markdown",
   "source": [
    "Beegeek\n",
    "Напишите программу, определяющую:\n",
    "\n",
    "количество строк, в которых bee встречается в качестве подстроки не менее двух раз\n",
    "количество строк, в которых geek встречается в качестве слова хотя бы один раз\n",
    "Формат входных данных\n",
    "На вход программе произвольное количество строк, каждая из которых содержит набор произвольных символов.\n",
    "\n",
    "Формат выходных данных\n",
    "Программа должна вывести два числа:\n",
    "\n",
    "первое — количество строк, в которых bee встречается в качестве подстроки не менее двух раз\n",
    "второе — количество строк, в которых geek встречается в качестве слова хотя бы один раз\n",
    "каждое на отдельной строке.\n",
    "\n",
    "Примечание 1. Словом будем считать любую непрерывную последовательность из одного или нескольких символов, соответствующих \\w.\n",
    "\n",
    "Примечание 2. Строка может одновременно удовлетворять обоим условиям.\n",
    "\n",
    "Примечание 3. В первой строке первого теста bee встречается в качестве подстроки 3 раза:\n",
    "\n",
    "beebee bee\n",
    "Во второй строке bee встречается в качестве подстроки лишь один раз, а слово geek отсутствует.\n",
    "\n",
    "В третьей строке bee встречается в качестве подстроки 2 раза, geek в качестве слова — 1 раз:\n",
    "\n",
    "bee geek bee"
   ],
   "metadata": {
    "collapsed": false
   },
   "id": "731ae6cdd95176ff"
  },
  {
   "cell_type": "code",
   "execution_count": 88,
   "outputs": [
    {
     "name": "stdout",
     "output_type": "stream",
     "text": [
      "3\n",
      "3\n"
     ]
    }
   ],
   "source": [
    "import re, sys\n",
    "\n",
    "regex1 = r'((bee).*){2,}'\n",
    "regex2 = r'(\\b(geek)\\b)+'\n",
    "\n",
    "s = '''\n",
    "beebee bee\n",
    "beegeek\n",
    "bee geek bee\n",
    "'''\n",
    "s = '''\n",
    "abigail alex\n",
    "clint dwarf\n",
    "emily\n",
    "gil\n",
    "'''\n",
    "s = '''\n",
    "bee one bee two\n",
    "abee beeb\n",
    "abeeb bee\n",
    "geek\n",
    "bee\n",
    "geek geek geek\n",
    "one geek two geek\n",
    "'''\n",
    "\n",
    "# s = sys.stdin.read()\n",
    "\n",
    "print(len(re.findall(regex1, s)))\n",
    "print(sum(1 for line in s.strip().split('\\n') if re.search(regex2, line)))\n"
   ],
   "metadata": {
    "collapsed": false,
    "ExecuteTime": {
     "end_time": "2025-03-18T11:01:54.820938100Z",
     "start_time": "2025-03-18T11:01:54.815435900Z"
    }
   },
   "id": "9f896ed4ff793b4a"
  },
  {
   "cell_type": "markdown",
   "source": [
    "Популярность\n",
    "В онлайн-школе BEEGEEK мы всегда следим за тем, насколько растет наша популярность. Для этого мы собираем публикации из различных соцсетей, которые содержат вхождения строки beegeek в нижнем регистре. Мы оцениваем публикацию:\n",
    "\n",
    "в 3 балла, если она начинается и заканчивается строкой beegeek\n",
    "в 2 балла, если она только начинается или только заканчивается строкой beegeek\n",
    "в 1 балл, если она содержит строку beegeek только внутри\n",
    "в 0 баллов, если она не содержит строку beegeek\n",
    "Напишите программу, которая определяет популярность онлайн-школы BEEGEEK путем суммирования баллов всех публикаций.\n",
    "\n",
    "Формат входных данных\n",
    "На вход программе подается произвольное число строк, каждая из которых представляет очередную публикацию.\n",
    "\n",
    "Формат выходных данных\n",
    "Программа должна определить, во сколько баллов оценивается каждая введенная публикация, и вывести сумму всех полученных баллов.\n",
    "\n",
    "Примечание 1. Если публикация представляет собой просто строку beegeek, то она оценивается в 2 балла."
   ],
   "metadata": {
    "collapsed": false
   },
   "id": "5f4cefef10db74ae"
  },
  {
   "cell_type": "code",
   "execution_count": 5,
   "outputs": [
    {
     "name": "stdout",
     "output_type": "stream",
     "text": [
      "24\n"
     ]
    }
   ],
   "source": [
    "import re, sys\n",
    "\n",
    "regex1 = r'^(beegeek).*(beegeek)$'\n",
    "regex2 = r'^(beegeek.*|.*beegeek)$'\n",
    "regex3 = r'^.+(beegeek).+'\n",
    "\n",
    "# s = sys.stdin.read()\n",
    "\n",
    "s = '''\n",
    "hi, beegeek\n",
    "beegeek is an awesome place for programmers\n",
    "beegeek rocks, rocks beegeek\n",
    "i think beegeek is a great place to hangout\n",
    "'''\n",
    "s = '''\n",
    "good morning everyone\n",
    "i am going to school\n",
    "and it is raining\n",
    "'''\n",
    "s = '''\n",
    "beegeekabcdbeegeek\n",
    "beegeek green apple beegeek\n",
    "beegeekbeegeek\n",
    "beegeek___beegeek\n",
    "beegeek12345beegeek\n",
    "beegeek beegeek\n",
    "beegeek     beegeek\n",
    "beegeekbeegeekbeegeek\n",
    "'''\n",
    "\n",
    "count1 = sum(3 for line in s.strip().split('\\n') if re.search(regex1, line))\n",
    "# for line in s.strip().split('\\n'):\n",
    "#     print(re.search(regex1, line))\n",
    "# print(count1)\n",
    "count2 = sum(2 for line in s.strip().split('\\n') if re.search(regex2, line) \n",
    "             and not re.search(regex1, line))\n",
    "# print(count2)\n",
    "count3 = sum(1 for line in s.strip().split('\\n') if re.search(regex3, line)\n",
    "             and not re.search(regex1, line))\n",
    "# print(count3)\n",
    "\n",
    "print(count1+count2+count3)"
   ],
   "metadata": {
    "collapsed": false,
    "ExecuteTime": {
     "end_time": "2025-03-19T12:28:18.651585200Z",
     "start_time": "2025-03-19T12:28:18.637708500Z"
    }
   },
   "id": "6824efa4bb19a7f3"
  },
  {
   "cell_type": "markdown",
   "source": [
    "Флаги"
   ],
   "metadata": {
    "collapsed": false
   },
   "id": "63d4a6ce2385f77b"
  },
  {
   "cell_type": "markdown",
   "source": [
    "Все три рассмотренные функции search(), match(), fullmatch() принимают необязательный аргумент flags. Использование флагов изменяет поведение синтаксического анализа регулярных выражений, позволяя еще больше уточнить сопоставление с образцом. Функциональность регулярных выражений расширяется за счет флагов."
   ],
   "metadata": {
    "collapsed": false
   },
   "id": "20e03df177d76190"
  },
  {
   "cell_type": "markdown",
   "source": [
    "В приведенной ниже таблице кратко перечислены доступные флаги:"
   ],
   "metadata": {
    "collapsed": false
   },
   "id": "f34102559f049eae"
  },
  {
   "cell_type": "code",
   "execution_count": 6,
   "outputs": [
    {
     "data": {
      "image/png": "[encoded data removed]",
      "text/plain": "<IPython.core.display.Image object>"
     },
     "metadata": {},
     "output_type": "display_data"
    }
   ],
   "source": [
    "from functions import picture\n",
    "picture('Без имени.png')"
   ],
   "metadata": {
    "collapsed": false,
    "ExecuteTime": {
     "end_time": "2025-03-19T12:34:56.105923800Z",
     "start_time": "2025-03-19T12:34:56.086641Z"
    }
   },
   "id": "2dadd7d7ce8447c9"
  },
  {
   "cell_type": "markdown",
   "source": [
    "Наиболее часто используемые флаги:\n",
    "\n",
    "re.IGNORECASE\n",
    "re.MULTILINE\n",
    "re.DOTALL"
   ],
   "metadata": {
    "collapsed": false
   },
   "id": "8f78c62691ef4303"
  },
  {
   "cell_type": "markdown",
   "source": [
    "Рассмотрим каждый из них подробнее."
   ],
   "metadata": {
    "collapsed": false
   },
   "id": "6c342579e222bf95"
  },
  {
   "cell_type": "markdown",
   "source": [
    "Флаг re.IGNORECASE"
   ],
   "metadata": {
    "collapsed": false
   },
   "id": "26d424cdb815fe11"
  },
  {
   "cell_type": "markdown",
   "source": [
    "Флаг re.IGNORECASE (re.I) выполняет сопоставление без учета регистра."
   ],
   "metadata": {
    "collapsed": false
   },
   "id": "84742b41710c3181"
  },
  {
   "cell_type": "code",
   "execution_count": 7,
   "outputs": [
    {
     "name": "stdout",
     "output_type": "stream",
     "text": [
      "<re.Match object; span=(0, 3), match='aaa'>\n",
      "<re.Match object; span=(3, 6), match='AAA'>\n",
      "<re.Match object; span=(0, 6), match='aaaAAA'>\n",
      "<re.Match object; span=(0, 6), match='aaaAAA'>\n"
     ]
    }
   ],
   "source": [
    "import re\n",
    "\n",
    "match1 = re.search('a+', 'aaaAAA')\n",
    "match2 = re.search('A+', 'aaaAAA')\n",
    "match3 = re.search('a+', 'aaaAAA', re.IGNORECASE)\n",
    "match4 = re.search('A+', 'aaaAAA', re.I)\n",
    "\n",
    "print(match1)\n",
    "print(match2)\n",
    "print(match3)\n",
    "print(match4)"
   ],
   "metadata": {
    "collapsed": false,
    "ExecuteTime": {
     "end_time": "2025-03-19T12:38:10.150868Z",
     "start_time": "2025-03-19T12:38:10.140944600Z"
    }
   },
   "id": "b2001267037efd41"
  },
  {
   "cell_type": "markdown",
   "source": [
    "При первом поиске регулярному выражению a+ соответствует только первые три символа строки аааААА. При втором поиске регулярному выражению A+ соответствуют три последних символа. При третьем и четвертом поисках мы используем флаг re.IGNORECASE (re.I), поэтому синтаксический анализатор игнорирует регистр, и регулярным выражениям a+ и А+ соответствует вся строка."
   ],
   "metadata": {
    "collapsed": false
   },
   "id": "8cce13beb76c7dbd"
  },
  {
   "cell_type": "code",
   "execution_count": 10,
   "outputs": [
    {
     "name": "stdout",
     "output_type": "stream",
     "text": [
      "<re.Match object; span=(0, 1), match='a'>\n",
      "<re.Match object; span=(0, 6), match='aBcDeF'>\n"
     ]
    }
   ],
   "source": [
    "import re\n",
    "\n",
    "match1 = re.search('[a-z]+', 'aBcDeF')\n",
    "match2 = re.search('[a-z]+', 'aBcDeF', re.I)\n",
    "\n",
    "print(match1)\n",
    "print(match2)"
   ],
   "metadata": {
    "collapsed": false,
    "ExecuteTime": {
     "end_time": "2025-03-19T12:39:46.463388800Z",
     "start_time": "2025-03-19T12:39:46.453717100Z"
    }
   },
   "id": "72a1cf7cd2ce7f8e"
  },
  {
   "cell_type": "markdown",
   "source": [
    "При отсутствии флага регулярному выражению [a-z]+ в строке aBcDeF соответствует только первый символ a. Указание флага re.I делает поиск нечувствительным к регистру, поэтому регулярному выражению [a-z]+ соответствует вся строка."
   ],
   "metadata": {
    "collapsed": false
   },
   "id": "692f67b25ed3c85e"
  },
  {
   "cell_type": "markdown",
   "source": [
    "Флаг re.MULTILINE"
   ],
   "metadata": {
    "collapsed": false
   },
   "id": "5fee7c4d74ce23cb"
  },
  {
   "cell_type": "markdown",
   "source": [
    "По умолчанию метасимволы ^ и $ совпадают только с началом и концом всей строки, не учитывая наличие в строке символов \\n."
   ],
   "metadata": {
    "collapsed": false
   },
   "id": "70106f4264b7a9fc"
  },
  {
   "cell_type": "code",
   "execution_count": 11,
   "outputs": [
    {
     "name": "stdout",
     "output_type": "stream",
     "text": [
      "<re.Match object; span=(0, 3), match='foo'>\n",
      "None\n",
      "None\n",
      "None\n",
      "None\n",
      "<re.Match object; span=(8, 11), match='baz'>\n"
     ]
    }
   ],
   "source": [
    "import re\n",
    "\n",
    "text = 'foo\\nbar\\nbaz'\n",
    "\n",
    "print(re.search('^foo', text))\n",
    "print(re.search('^bar', text))\n",
    "print(re.search('^baz', text))\n",
    "print(re.search('foo$', text))\n",
    "print(re.search('bar$', text))\n",
    "print(re.search('baz$', text))"
   ],
   "metadata": {
    "collapsed": false,
    "ExecuteTime": {
     "end_time": "2025-03-19T12:40:13.385371500Z",
     "start_time": "2025-03-19T12:40:13.372566100Z"
    }
   },
   "id": "7b79e2ae589befbd"
  },
  {
   "cell_type": "markdown",
   "source": [
    "Несмотря на то что строка  'foo\\nbar\\nbaz' содержит символы новой строки \\n, мы получили только соответствие регулярному выражению ^foo и baz$."
   ],
   "metadata": {
    "collapsed": false
   },
   "id": "e8b0f207dc88e1f0"
  },
  {
   "cell_type": "markdown",
   "source": [
    "Использование флага re.MULTILINE позволяет правильным образом обрабатывать символы \\n, тем самым находя начала и концы всех строк с учетом символа \\n."
   ],
   "metadata": {
    "collapsed": false
   },
   "id": "cc04c709b736dc48"
  },
  {
   "cell_type": "code",
   "execution_count": 12,
   "outputs": [
    {
     "name": "stdout",
     "output_type": "stream",
     "text": [
      "<re.Match object; span=(0, 3), match='foo'>\n",
      "<re.Match object; span=(4, 7), match='bar'>\n",
      "<re.Match object; span=(8, 11), match='baz'>\n",
      "<re.Match object; span=(0, 3), match='foo'>\n",
      "<re.Match object; span=(4, 7), match='bar'>\n",
      "<re.Match object; span=(8, 11), match='baz'>\n"
     ]
    }
   ],
   "source": [
    "import re\n",
    "\n",
    "text = 'foo\\nbar\\nbaz'\n",
    "\n",
    "print(re.search('^foo', text, re.MULTILINE))\n",
    "print(re.search('^bar', text, re.MULTILINE))\n",
    "print(re.search('^baz', text, re.MULTILINE))\n",
    "print(re.search('foo$', text, re.M))\n",
    "print(re.search('bar$', text, re.M))\n",
    "print(re.search('baz$', text, re.M))"
   ],
   "metadata": {
    "collapsed": false,
    "ExecuteTime": {
     "end_time": "2025-03-19T12:41:38.348673Z",
     "start_time": "2025-03-19T12:41:38.336215700Z"
    }
   },
   "id": "229dd896e0447a4d"
  },
  {
   "cell_type": "markdown",
   "source": [
    "Флаг re.DOTALL"
   ],
   "metadata": {
    "collapsed": false
   },
   "id": "bde052660fcffe9c"
  },
  {
   "cell_type": "markdown",
   "source": [
    "Флаг re.DOTALL (re.S) делает так, чтобы метасимвол . соответствовал любому символу, включая символ новой строки \\n. Без этого флага метасимвол . соответствует любому символу, кроме новой строки."
   ],
   "metadata": {
    "collapsed": false
   },
   "id": "9641935e40ce8546"
  },
  {
   "cell_type": "code",
   "execution_count": 13,
   "outputs": [
    {
     "name": "stdout",
     "output_type": "stream",
     "text": [
      "None\n",
      "<re.Match object; span=(0, 7), match='foo\\nbar'>\n",
      "<re.Match object; span=(0, 7), match='foo\\nbar'>\n"
     ]
    }
   ],
   "source": [
    "import re\n",
    "\n",
    "print(re.search('foo.bar', 'foo\\nbar'))\n",
    "print(re.search('foo.bar', 'foo\\nbar', re.DOTALL))\n",
    "print(re.search('foo.bar', 'foo\\nbar', re.S))"
   ],
   "metadata": {
    "collapsed": false,
    "ExecuteTime": {
     "end_time": "2025-03-19T12:42:20.098187600Z",
     "start_time": "2025-03-19T12:42:20.085808100Z"
    }
   },
   "id": "ec18d4bbcce7618b"
  },
  {
   "cell_type": "markdown",
   "source": [
    "Комбинация флагов"
   ],
   "metadata": {
    "collapsed": false
   },
   "id": "6e643fb2d2f54995"
  },
  {
   "cell_type": "markdown",
   "source": [
    "Мы можем использовать несколько флагов одновременно. Для этого нужно использовать оператор |."
   ],
   "metadata": {
    "collapsed": false
   },
   "id": "8055e5fc76af2ed7"
  },
  {
   "cell_type": "code",
   "execution_count": 14,
   "outputs": [
    {
     "name": "stdout",
     "output_type": "stream",
     "text": [
      "<re.Match object; span=(4, 7), match='BAR'>\n"
     ]
    }
   ],
   "source": [
    "import re\n",
    "\n",
    "match = re.search('^bar', 'FOO\\nBAR\\nBAZ', re.I | re.M)\n",
    "\n",
    "print(match)"
   ],
   "metadata": {
    "collapsed": false,
    "ExecuteTime": {
     "end_time": "2025-03-19T12:43:28.232488700Z",
     "start_time": "2025-03-19T12:43:28.206535900Z"
    }
   },
   "id": "fef67076a4601955"
  },
  {
   "cell_type": "markdown",
   "source": [
    "Оба флага IGNORECASE и MULTILINE были отработаны."
   ],
   "metadata": {
    "collapsed": false
   },
   "id": "1c1b294af22692f9"
  },
  {
   "cell_type": "markdown",
   "source": [
    "Функция escape()"
   ],
   "metadata": {
    "collapsed": false
   },
   "id": "51d5498ccd72906f"
  },
  {
   "cell_type": "markdown",
   "source": [
    "Функция escape() выполняет экранирование специальных символов в строке. Это полезно в ситуациях, когда регулярное выражение представляет из себя простую строку, которая может содержать метасимволы."
   ],
   "metadata": {
    "collapsed": false
   },
   "id": "6d430fc319beadad"
  },
  {
   "cell_type": "markdown",
   "source": [
    "Аргументы функции:\n",
    "\n",
    "pattern — шаблон регулярного выражения"
   ],
   "metadata": {
    "collapsed": false
   },
   "id": "92c0b1ef49a03fd2"
  },
  {
   "cell_type": "code",
   "execution_count": 15,
   "outputs": [
    {
     "name": "stdout",
     "output_type": "stream",
     "text": [
      "http://www\\.stepik\\.org\n"
     ]
    }
   ],
   "source": [
    "from re import escape\n",
    "\n",
    "print(escape('http://www.stepik.org'))"
   ],
   "metadata": {
    "collapsed": false,
    "ExecuteTime": {
     "end_time": "2025-03-19T12:44:39.758406400Z",
     "start_time": "2025-03-19T12:44:39.746451100Z"
    }
   },
   "id": "c1a28680a087f8b1"
  },
  {
   "cell_type": "markdown",
   "source": [
    "Функция escape() выполнила экранирование символа точки .."
   ],
   "metadata": {
    "collapsed": false
   },
   "id": "e94ac7dbe7615d46"
  },
  {
   "cell_type": "code",
   "execution_count": 16,
   "outputs": [
    {
     "name": "stdout",
     "output_type": "stream",
     "text": [
      "\\+,\\-,\\*,/,\\*\\*\n"
     ]
    }
   ],
   "source": [
    "from re import escape\n",
    "\n",
    "operators = ['+', '-', '*', '/', '**']\n",
    "print(','.join(map(escape, operators)))"
   ],
   "metadata": {
    "collapsed": false,
    "ExecuteTime": {
     "end_time": "2025-03-19T12:45:00.362666500Z",
     "start_time": "2025-03-19T12:45:00.348622100Z"
    }
   },
   "id": "3b03c86abd12a7d2"
  },
  {
   "cell_type": "markdown",
   "source": [
    "Функция escape() выполнила экранирование всех арифметических операторов, кроме /."
   ],
   "metadata": {
    "collapsed": false
   },
   "id": "9b26e0fc2c0c4c64"
  },
  {
   "cell_type": "markdown",
   "source": [
    "Примечания"
   ],
   "metadata": {
    "collapsed": false
   },
   "id": "d44c13ee7b319263"
  },
  {
   "cell_type": "markdown",
   "source": [
    "Примечание 3. Флаг re.VERBOSE позволяет писать регулярные выражения, которые выглядят лучше и удобнее для чтения, позволяя визуально разделять логические разделы шаблона и добавлять комментарии."
   ],
   "metadata": {
    "collapsed": false
   },
   "id": "38b9895460fb86"
  },
  {
   "cell_type": "code",
   "execution_count": 18,
   "outputs": [
    {
     "name": "stdout",
     "output_type": "stream",
     "text": [
      "<re.Match object; span=(23, 28), match='123.7'>\n"
     ]
    }
   ],
   "source": [
    "import re\n",
    "\n",
    "match = re.search(r'\\d+\\.\\d*', 'Десятичное число равно 123.7')\n",
    "\n",
    "print(match)"
   ],
   "metadata": {
    "collapsed": false,
    "ExecuteTime": {
     "end_time": "2025-03-19T12:46:27.553558400Z",
     "start_time": "2025-03-19T12:46:27.542513300Z"
    }
   },
   "id": "b9dd4cb1ef7a1f19"
  },
  {
   "cell_type": "markdown",
   "source": [
    "с использованием флага re.VERBOSE можно записать в виде:"
   ],
   "metadata": {
    "collapsed": false
   },
   "id": "ba17b6ddd98bce8d"
  },
  {
   "cell_type": "code",
   "execution_count": 21,
   "outputs": [
    {
     "name": "stdout",
     "output_type": "stream",
     "text": [
      "<re.Match object; span=(23, 28), match='123.7'>\n"
     ]
    }
   ],
   "source": [
    "import re\n",
    "\n",
    "match = re.search(r'''\\d +  # целая часть\n",
    "                     \\.    # десятичная точка\n",
    "                     \\d *  # дробная часть''', 'Десятичное число равно 123.7', re.VERBOSE)\n",
    "\n",
    "print(match)"
   ],
   "metadata": {
    "collapsed": false,
    "ExecuteTime": {
     "end_time": "2025-03-19T12:47:21.352418500Z",
     "start_time": "2025-03-19T12:47:21.342214700Z"
    }
   },
   "id": "57f6f858c6b5195f"
  },
  {
   "cell_type": "markdown",
   "source": [
    "Примечание 4. Флаг re.DEBUG показывает отладочную информацию о скомпилированном регулярном выражении. Эту информацию можно использовать для понимания того, как будет осуществлен поиск."
   ],
   "metadata": {
    "collapsed": false
   },
   "id": "4bc5ab810bb103ef"
  },
  {
   "cell_type": "code",
   "execution_count": 24,
   "outputs": [
    {
     "name": "stdout",
     "output_type": "stream",
     "text": [
      "LITERAL 120\n",
      "MAX_REPEAT 2 4\n",
      "  IN\n",
      "    LITERAL 49\n",
      "    LITERAL 50\n",
      "    LITERAL 51\n",
      "LITERAL 121\n",
      "\n",
      " 0. INFO 8 0b1 4 6 (to 9)\n",
      "      prefix_skip 1\n",
      "      prefix [0x78] ('x')\n",
      "      overlap [0]\n",
      " 9: LITERAL 0x78 ('x')\n",
      "11. REPEAT_ONE 10 2 4 (to 22)\n",
      "15.   IN 5 (to 21)\n",
      "17.     RANGE 0x31 0x33 ('1'-'3')\n",
      "20.     FAILURE\n",
      "21:   SUCCESS\n",
      "22: LITERAL 0x79 ('y')\n",
      "24. SUCCESS\n",
      "<re.Match object; span=(0, 5), match='x222y'>\n"
     ]
    }
   ],
   "source": [
    "import re\n",
    "\n",
    "# print(re.search('x[123]{2,4}y', 'x222y'))\n",
    "print(re.search('x[123]{2,4}y', 'x222y', re.DEBUG))"
   ],
   "metadata": {
    "collapsed": false,
    "ExecuteTime": {
     "end_time": "2025-03-19T12:48:54.224992300Z",
     "start_time": "2025-03-19T12:48:54.211256800Z"
    }
   },
   "id": "1b43755515b80659"
  },
  {
   "cell_type": "code",
   "execution_count": 25,
   "outputs": [
    {
     "data": {
      "image/png": "[encoded data removed]",
      "text/plain": "<IPython.core.display.Image object>"
     },
     "metadata": {},
     "output_type": "display_data"
    }
   ],
   "source": [
    "picture('Без имеfghни.png')"
   ],
   "metadata": {
    "collapsed": false,
    "ExecuteTime": {
     "end_time": "2025-03-19T12:50:52.267166600Z",
     "start_time": "2025-03-19T12:50:52.252554600Z"
    }
   },
   "id": "d3f327d2593982ae"
  },
  {
   "cell_type": "markdown",
   "source": [
    "Встроенные флаги регулярных выражений\n",
    "re.IGNORECASE (или (?i)):\n",
    "\n",
    "Игнорирует регистр символов при поиске.\n",
    "Пример: re.search(r'abc', 'ABC', re.IGNORECASE) вернет совпадение.\n",
    "re.MULTILINE (или (?m)):\n",
    "\n",
    "Позволяет ^ и $ соответствовать началу и концу каждой строки, а не только всей строки.\n",
    "Пример: re.findall(r'^abc', 'abc\\nabc', re.MULTILINE) вернет оба совпадения.\n",
    "re.LOCALE (или (?L)):\n",
    "\n",
    "Использует текущую локаль для обработки символов. Этот флаг может быть полезен для работы с символами, специфичными для определенной локали.\n",
    "Пример: re.match(r'[a-z]', 'é', re.LOCALE) может работать по-разному в зависимости от установленной локали.\n",
    "re.DOTALL (или (?s)):\n",
    "\n",
    "Позволяет . соответствовать любому символу, включая символ новой строки.\n",
    "Пример: re.search(r'abc.def', 'abc\\ndef', re.DOTALL) вернет совпадение."
   ],
   "metadata": {
    "collapsed": false
   },
   "id": "dacf28d7d3311898"
  },
  {
   "cell_type": "code",
   "execution_count": 26,
   "outputs": [
    {
     "name": "stdout",
     "output_type": "stream",
     "text": [
      "['Hello', 'hello', 'HELLO']\n",
      "['second']\n",
      "abc\n",
      "def\n"
     ]
    }
   ],
   "source": [
    "import re\n",
    "\n",
    "text = \"\"\"Hello World\n",
    "hello world\n",
    "HELLO WORLD\"\"\"\n",
    "\n",
    "# Пример с re.IGNORECASE\n",
    "matches = re.findall(r'hello', text, re.IGNORECASE)\n",
    "print(matches)  # ['Hello', 'hello', 'HELLO']\n",
    "\n",
    "# Пример с re.MULTILINE\n",
    "multiline_text = \"\"\"first line\n",
    "second line\n",
    "third line\"\"\"\n",
    "matches = re.findall(r'^second', multiline_text, re.MULTILINE)\n",
    "print(matches)  # ['second']\n",
    "\n",
    "# Пример с re.DOTALL\n",
    "dotall_text = \"abc\\ndef\"\n",
    "matches = re.search(r'abc.def', dotall_text, re.DOTALL)\n",
    "print(matches.group())  # 'abc\\ndef'"
   ],
   "metadata": {
    "collapsed": false,
    "ExecuteTime": {
     "end_time": "2025-03-19T12:51:40.506703500Z",
     "start_time": "2025-03-19T12:51:40.486925300Z"
    }
   },
   "id": "44a1030bf83b6fd7"
  },
  {
   "cell_type": "markdown",
   "source": [
    "Уважение\n",
    "На электронную почту Тимура нередко приходят письма с предложением о сотрудничестве. Тимур ценит взаимное уважение и считает письмо достойным внимания, если оно начинается с одного из следующих выражений:\n",
    "\n",
    "Здравствуйте\n",
    "Доброе утро\n",
    "Добрый день\n",
    "Добрый вечер\n",
    "Напишите программу, которая определяет, является ли письмо достойным внимания Тимура.\n",
    "\n",
    "Формат входных данных\n",
    "На вход программе подается единственная строка .\n",
    "\n",
    "Формат выходных данных\n",
    "Программа должна вывести True, если введенная строка начинается с одного из представленных в условии задачи выражений (в произвольном регистре), или False в противном случае."
   ],
   "metadata": {
    "collapsed": false
   },
   "id": "5a271370e91bf4b6"
  },
  {
   "cell_type": "code",
   "execution_count": 29,
   "outputs": [
    {
     "name": "stdout",
     "output_type": "stream",
     "text": [
      "False\n"
     ]
    }
   ],
   "source": [
    "import re\n",
    "\n",
    "regex = r'^(Здравствуйте).*|^(Доброе утро).*|^(Добрый день).*|^(Добрый вечер).*'\n",
    "\n",
    "# text = input()\n",
    "text = 'здарова, я кирилл, хочу, чтобы ты сделал курс, суть такова...'\n",
    "\n",
    "matches = re.findall(regex, text, re.IGNORECASE)\n",
    "print(True if matches else False)"
   ],
   "metadata": {
    "collapsed": false,
    "ExecuteTime": {
     "end_time": "2025-03-19T13:18:21.898590700Z",
     "start_time": "2025-03-19T13:18:21.880452300Z"
    }
   },
   "id": "2a4042aedaadb758"
  },
  {
   "cell_type": "code",
   "execution_count": null,
   "outputs": [],
   "source": [
    "import re\n",
    "\n",
    "message = input()\n",
    "pattern = r\"^Здравствуйте|^Доброе утро|^Добрый (день|вечер).*\"\n",
    "\n",
    "match = re.match(pattern, message, re.I)\n",
    "print(bool(match))"
   ],
   "metadata": {
    "collapsed": false
   },
   "id": "d9835921cd09483b"
  },
  {
   "cell_type": "markdown",
   "source": [
    "Социальные сети\n",
    "Вам доступен набор популярных публикаций из социальной сети Твиттер, которые могут иметь следующий вид:\n",
    "\n",
    "Люблю курсы BEEGEEK!\n",
    "Когда курс по ООП? @timur_guev\n",
    "BEEGEEK, спасибо за курсы, вы лучшие! #python #BeeGeek\n",
    "и т.д.\n",
    "Напишите программу, которая определяет, в скольких публикациях содержится строка beegeek.\n",
    "\n",
    "Формат входных данных\n",
    "На вход программе подается произвольное число строк, каждая из которых представляет очередную публикацию.\n",
    "\n",
    "Формат выходных данных\n",
    "Программа должна определить, в скольких введенных строках содержится строка beegeek в произвольном регистре, и вывести полученный результат."
   ],
   "metadata": {
    "collapsed": false
   },
   "id": "efaf3926634e31b5"
  },
  {
   "cell_type": "code",
   "execution_count": 37,
   "outputs": [
    {
     "name": "stdout",
     "output_type": "stream",
     "text": [
      "[]\n",
      "0\n"
     ]
    }
   ],
   "source": [
    "import re, sys\n",
    "\n",
    "multiline_text = \"\"\"\n",
    "Люблю курсы BEEGEEK!\n",
    "Когда курс по ООП? @beegeek\n",
    "BEEGEEK, спасибо за курсы, вы лучшие! #python #BeeGeek\n",
    "\"\"\"\n",
    "multiline_text = \"\"\"\n",
    "Нельзя быть дружелюбным соседом, если соседей нет\n",
    "@everyone, посоветуйте курсы по программированию\n",
    "\"\"\"\n",
    "multiline_text = sys.stdin.read()\n",
    "\n",
    "matches = re.findall(r'.*beegeek.*', multiline_text, re.MULTILINE | re.IGNORECASE)\n",
    "print(len(matches))"
   ],
   "metadata": {
    "collapsed": false,
    "ExecuteTime": {
     "end_time": "2025-03-19T13:33:10.364645600Z",
     "start_time": "2025-03-19T13:33:10.324765500Z"
    }
   },
   "id": "87c48681aa0ea01a"
  }
 ],
 "metadata": {
  "kernelspec": {
   "display_name": "Python 3",
   "language": "python",
   "name": "python3"
  },
  "language_info": {
   "codemirror_mode": {
    "name": "ipython",
    "version": 2
   },
   "file_extension": ".py",
   "mimetype": "text/x-python",
   "name": "python",
   "nbconvert_exporter": "python",
   "pygments_lexer": "ipython2",
   "version": "2.7.6"
  }
 },
 "nbformat": 4,
 "nbformat_minor": 5
}

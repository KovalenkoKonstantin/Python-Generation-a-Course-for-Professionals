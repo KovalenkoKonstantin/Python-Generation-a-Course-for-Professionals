{
 "cells": [
  {
   "cell_type": "markdown",
   "source": [
    "Тема урока: работа с модулем pickle\n",
    "Формат данных pickle\n",
    "Модуль pickle\n",
    "Аннотация. Урок посвящен работе с модулем pickle."
   ],
   "metadata": {
    "collapsed": false
   },
   "id": "9389dcc32426154d"
  },
  {
   "cell_type": "markdown",
   "source": [
    "Сериализация и десериализация"
   ],
   "metadata": {
    "collapsed": false
   },
   "id": "41225b4daa1c4fd9"
  },
  {
   "cell_type": "markdown",
   "source": [
    "Главная идея сериализации заключается в том, что это процесс преобразования объектов в последовательность байт или строку, которую можно легко сохранить на диск или передать другой программе. Это позволяет не только сохранить состояние объектов, но и восстанавливать его позже, что упрощает управление данными. Существует множество форматов сериализации, таких как JSON, XML, и Pickle, каждый из которых имеет свои особенности. Выбор формата может влиять на размер данных, производительность и совместимость между различными версиями объектов. Важно также учитывать вопросы безопасности при десериализации, особенно когда данные поступают из недоверенных источников."
   ],
   "metadata": {
    "collapsed": false
   },
   "id": "f8f447d245d59bc1"
  },
  {
   "cell_type": "markdown",
   "source": [
    "Модуль pickle"
   ],
   "metadata": {
    "collapsed": false
   },
   "id": "1f18e888426ecf4f"
  },
  {
   "cell_type": "markdown",
   "source": [
    "Как уже было сказано, JSON — один из популярных форматов для сериализации, он текстовый, легковесный и легко читается человеком. С помощью встроенного модуля json можно сериализовать только встроенные типы данных:\n",
    "\n",
    "bool\n",
    "dict\n",
    "int\n",
    "float\n",
    "list\n",
    "string\n",
    "tuple\n",
    "None"
   ],
   "metadata": {
    "collapsed": false
   },
   "id": "ea227f5f7eaf252a"
  },
  {
   "cell_type": "markdown",
   "source": [
    "Помимо сериализации в формат json мы также можем использовать бинарную сериализацию, то есть сериализацию в байты. Для этого в Python используется модуль pickle. Интерфейс взаимодействия с модулем pickle абсолютно такой же, как и для модуля json. Мы будем использовать четыре основных функции:\n",
    "\n",
    "dump()\n",
    "load()\n",
    "dumps()\n",
    "loads()"
   ],
   "metadata": {
    "collapsed": false
   },
   "id": "fec22a72c8da9fac"
  },
  {
   "cell_type": "markdown",
   "source": [
    "Функции dump() и load()"
   ],
   "metadata": {
    "collapsed": false
   },
   "id": "7a9621843554c042"
  },
  {
   "cell_type": "markdown",
   "source": [
    "Функция dump() модуля pickle принимает сериализуемый Python объект, сериализует его в бинарный, Python-зависимый формат, используя протокол pickle, и сохраняет его в открытый для записи бинарный файл."
   ],
   "metadata": {
    "collapsed": false
   },
   "id": "14a4290ccd8eade0"
  },
  {
   "cell_type": "code",
   "execution_count": 1,
   "outputs": [],
   "source": [
    "import pickle\n",
    "\n",
    "obj = {'Python': 1991, 'Java': 1995, 'C#': 2002}\n",
    "\n",
    "with open('file.pkl', 'wb') as file:\n",
    "    pickle.dump(obj, file)"
   ],
   "metadata": {
    "collapsed": false,
    "ExecuteTime": {
     "end_time": "2024-10-29T07:28:11.456969400Z",
     "start_time": "2024-10-29T07:28:11.454136100Z"
    }
   },
   "id": "c8c532939d22398d"
  },
  {
   "cell_type": "markdown",
   "source": [
    "создает файл file.pkl, содержащий бинарное представление объекта obj на основе протокола pickle."
   ],
   "metadata": {
    "collapsed": false
   },
   "id": "1392c09c08d2a572"
  },
  {
   "cell_type": "markdown",
   "source": [
    "Функция load() принимает файловый объект, читает из него сериализованные данные, десериализует их в Python-объект и возвращает полученный Python-объект."
   ],
   "metadata": {
    "collapsed": false
   },
   "id": "cc5dd0115f43d7f2"
  },
  {
   "cell_type": "code",
   "execution_count": 2,
   "outputs": [
    {
     "name": "stdout",
     "output_type": "stream",
     "text": [
      "{'Python': 1991, 'Java': 1995, 'C#': 2002}\n",
      "<class 'dict'>\n"
     ]
    }
   ],
   "source": [
    "import pickle\n",
    "\n",
    "with open('file.pkl', 'rb') as file:  # используется файл полученный на предыдущем шаге\n",
    "    obj = pickle.load(file)\n",
    "    print(obj)\n",
    "    print(type(obj))"
   ],
   "metadata": {
    "collapsed": false,
    "ExecuteTime": {
     "end_time": "2024-10-29T07:35:44.859682100Z",
     "start_time": "2024-10-29T07:35:44.855680700Z"
    }
   },
   "id": "1d62dcba30864597"
  },
  {
   "cell_type": "markdown",
   "source": [
    "Функции dumps() и loads()"
   ],
   "metadata": {
    "collapsed": false
   },
   "id": "fa3f0bebce8713c1"
  },
  {
   "cell_type": "markdown",
   "source": [
    "Функция dumps() (обратите внимание на s в конце имени функции) выполняет такую же сериализацию, как и функция dump(). Но вместо того чтобы сохранять сериализованные данные в открытый для записи бинарный файл, она просто возвращает эти сериализованные данные."
   ],
   "metadata": {
    "collapsed": false
   },
   "id": "fee9a632b15b85f"
  },
  {
   "cell_type": "code",
   "execution_count": 3,
   "outputs": [
    {
     "name": "stdout",
     "output_type": "stream",
     "text": [
      "b'\\x80\\x04\\x95#\\x00\\x00\\x00\\x00\\x00\\x00\\x00}\\x94(\\x8c\\x06Python\\x94M\\xc7\\x07\\x8c\\x04Java\\x94M\\xcb\\x07\\x8c\\x02C#\\x94M\\xd2\\x07u.'\n",
      "<class 'bytes'>\n"
     ]
    }
   ],
   "source": [
    "import pickle\n",
    "\n",
    "obj = {'Python': 1991, 'Java': 1995, 'C#': 2002}\n",
    "binary_obj = pickle.dumps(obj)\n",
    "\n",
    "print(binary_obj)\n",
    "print(type(binary_obj))"
   ],
   "metadata": {
    "collapsed": false,
    "ExecuteTime": {
     "end_time": "2024-10-29T07:36:54.585664300Z",
     "start_time": "2024-10-29T07:36:54.581143600Z"
    }
   },
   "id": "f4c7c00c1ef4e4db"
  },
  {
   "cell_type": "markdown",
   "source": [
    "Поскольку протокол pickle использует бинарный формат данных, функция dumps() возвращает объект типа bytes."
   ],
   "metadata": {
    "collapsed": false
   },
   "id": "29e1376a0a969598"
  },
  {
   "cell_type": "markdown",
   "source": [
    "Тип данных bytes — это неизменяемые последовательности отдельных байтов. Синтаксис для байтовых литералов в основном такой же, как и для строковых литералов, за исключением того, что добавляется префикс b."
   ],
   "metadata": {
    "collapsed": false
   },
   "id": "50508a9d3415a334"
  },
  {
   "cell_type": "markdown",
   "source": [
    "Функция loads() (обратите внимание на s в конце имени функции) выполняет такую же десериализацию, как и функция load(). Но вместо того чтобы принимать файловый объект, она принимает объект типа bytes, содержащий сериализованные данные."
   ],
   "metadata": {
    "collapsed": false
   },
   "id": "20ad58c4d412ff7f"
  },
  {
   "cell_type": "code",
   "execution_count": 4,
   "outputs": [
    {
     "name": "stdout",
     "output_type": "stream",
     "text": [
      "{'Python': 1991, 'Java': 1995, 'C#': 2002}\n"
     ]
    }
   ],
   "source": [
    "import pickle\n",
    "\n",
    "obj = {'Python': 1991, 'Java': 1995, 'C#': 2002}\n",
    "binary_obj = pickle.dumps(obj)\n",
    "\n",
    "new_obj = pickle.loads(binary_obj)\n",
    "\n",
    "print(new_obj)"
   ],
   "metadata": {
    "collapsed": false,
    "ExecuteTime": {
     "end_time": "2024-10-29T07:38:51.999087800Z",
     "start_time": "2024-10-29T07:38:51.993539500Z"
    }
   },
   "id": "3e55a8802094298"
  },
  {
   "cell_type": "markdown",
   "source": [
    "Обратите внимание, что объекты obj и new_obj равны, то есть имеют одинаковое содержимое, однако объекты не являются идентичными. Мы создали идеальную копию, но это всё же копия."
   ],
   "metadata": {
    "collapsed": false
   },
   "id": "a0368aa293bd7b9b"
  },
  {
   "cell_type": "code",
   "execution_count": 5,
   "outputs": [
    {
     "name": "stdout",
     "output_type": "stream",
     "text": [
      "True\n",
      "False\n"
     ]
    }
   ],
   "source": [
    "import pickle\n",
    "\n",
    "obj = {'Python': 1991, 'Java': 1995, 'C#': 2002}\n",
    "binary_obj = pickle.dumps(obj)\n",
    "new_obj = pickle.loads(binary_obj)\n",
    "\n",
    "print(obj == new_obj)\n",
    "print(obj is new_obj)  # проверка на идентичность"
   ],
   "metadata": {
    "collapsed": false,
    "ExecuteTime": {
     "end_time": "2024-10-29T07:39:42.272170100Z",
     "start_time": "2024-10-29T07:39:42.264649400Z"
    }
   },
   "id": "d0b8fc73c7f2da2a"
  },
  {
   "cell_type": "markdown",
   "source": [
    "Примечания"
   ],
   "metadata": {
    "collapsed": false
   },
   "id": "5075c07d9ca0cebd"
  },
  {
   "cell_type": "markdown",
   "source": [
    "Примечание 2. Модуль pickle может сериализовывать:\n",
    "\n",
    "все встроенные типы данных (bool, int, float, complex, str, None)\n",
    "cписки, кортежи, словари и множества, содержащие любую комбинацию встроенных типов данных\n",
    "cписки, кортежи, словари и множества, содержащие любую комбинацию списков, кортежей, словарей и множеств\n",
    "функции, классы и экземпляры классов"
   ],
   "metadata": {
    "collapsed": false
   },
   "id": "3f37f3b84ce84ea7"
  },
  {
   "cell_type": "markdown",
   "source": [
    "Примечание 3. Модуль pickle может сериализовывать обычные функции (объявленные с помощью  def), но не может сериализовывать лямбда-функции (объявленные с помощью lambda)."
   ],
   "metadata": {
    "collapsed": false
   },
   "id": "f1d414267974da4b"
  },
  {
   "cell_type": "markdown",
   "source": [
    "Примечание 4. Модуль pickle может сериализовывать функции из модуля operator."
   ],
   "metadata": {
    "collapsed": false
   },
   "id": "c91277010695cac7"
  },
  {
   "cell_type": "markdown",
   "source": [
    "Примечание 5. Модуль pickle не может сериализовывать генераторы, о которых мы будем говорить позже в рамках курса."
   ],
   "metadata": {
    "collapsed": false
   },
   "id": "d87774e3b90c32b2"
  },
  {
   "cell_type": "markdown",
   "source": [
    "Примечание 7. Протокол pickle зависит от Python и не совместим с другими языками программирования. Если необходима совместимость с другими языками программирования, то следует использовать JSON сериализацию."
   ],
   "metadata": {
    "collapsed": false
   },
   "id": "2bedd034976a92c8"
  },
  {
   "cell_type": "markdown",
   "source": [
    "Примечание 8. Протокол pickle – это бинарный формат данных. Убедитесь, что открываете файлы pickle в бинарном режиме, иначе данные при записи будут повреждены. Формат данных JSON – текстовый, а не двоичный."
   ],
   "metadata": {
    "collapsed": false
   },
   "id": "778c70a291d6c528"
  },
  {
   "cell_type": "markdown",
   "source": [
    "Примечание 9. Официальная документации по модулю pickle доступна по ссылке.\n",
    "https://docs.python.org/3/library/pickle.html"
   ],
   "metadata": {
    "collapsed": false
   },
   "id": "f209b41450f98b03"
  },
  {
   "cell_type": "markdown",
   "source": [
    "Примечание 10. Модуль pickle не защищен. Никогда не десериализуйте данные, полученные из ненадежного источника, так как они могут оказаться вредоносными и выполняющими произвольный код во время распаковки."
   ],
   "metadata": {
    "collapsed": false
   },
   "id": "b2e117e853e201ef"
  },
  {
   "cell_type": "markdown",
   "source": [
    "Примечание 11. Модуль pickle сериализует и десериализует данные быстрее чем модуль json."
   ],
   "metadata": {
    "collapsed": false
   },
   "id": "284bba73aea0cbef"
  },
  {
   "cell_type": "markdown",
   "source": [
    "Найдите и исправьте ошибки, допущенные в приведенной ниже программе, чтобы она сериализовала словарь dogs и записала результат в файл dogs.pkl."
   ],
   "metadata": {
    "collapsed": false
   },
   "id": "f074284a7148eb0a"
  },
  {
   "cell_type": "code",
   "execution_count": 17,
   "outputs": [
    {
     "name": "stdout",
     "output_type": "stream",
     "text": [
      "{'Ozzy': 2, 'Filou': 7, 'Luna': 4, 'Skippy': 11, 'Barco': 13, 'Balou': 10, 'Laika': 15}\n",
      "<class 'dict'>\n"
     ]
    }
   ],
   "source": [
    "import pickle\n",
    "\n",
    "dogs = {'Ozzy': 2, 'Filou': 7, 'Luna': 4, 'Skippy': 11, 'Barco': 13, 'Balou': 10, 'Laika': 15}\n",
    "\n",
    "with open('dogs.pkl', mode='wb') as file:\n",
    "    pickle.dump(dogs, file)\n",
    "\n",
    "with open('dogs.pkl', 'rb') as file:  # используется файл полученный на предыдущем шаге\n",
    "    obj = pickle.load(file)\n",
    "    print(obj)\n",
    "    print(type(obj))"
   ],
   "metadata": {
    "collapsed": false,
    "ExecuteTime": {
     "end_time": "2024-10-29T09:28:38.889153300Z",
     "start_time": "2024-10-29T09:28:38.883089500Z"
    }
   },
   "id": "59fc5dc10d5f44ea"
  },
  {
   "cell_type": "markdown",
   "source": [
    "Одинокая функция\n",
    "Дан pickle файл, содержащий единственную сериализованную функцию. Напишите программу, которая вызывает данную функцию с заданными аргументами и выводит возвращаемое значение функции.\n",
    "\n",
    "Формат входных данных\n",
    "На вход программе в первой строке подается название pickle файла, в котором содержится единственная сериализованная функция. Далее подается произвольное количество строк, каждая из которых содержит позиционный аргумент для этой функции.\n",
    "\n",
    "Формат выходных данных\n",
    "Программа должна вызвать функцию из указанного pickle файла со всеми введенными строковыми аргументами, и вывести возвращаемое значение функции. Причем аргументы должны быть переданы в том порядке, в котором они были введены.\n",
    "\n",
    "Примечание 1. Аргументы, передаваемые в функцию, должны иметь тип str.\n",
    "\n",
    "Примечание 2. Рассмотрим первый тест. Сначала подается название файла — func.pkl, в котором содержится сериализованная функция:\n",
    "\n",
    "def func(*args):\n",
    "    return ' '.join(args)\n",
    "затем аргументы для этой функции: Hello,, how, are, you и today?.\n",
    "\n",
    "Программа выводит результат следующего вызова:\n",
    "\n",
    "func('Hello,', 'how', 'are', 'you', 'today?')\n",
    "Примечание 3. Для считывания произвольного количества строк используйте потоковый ввод sys.stdin.\n",
    "\n",
    "Примечание 4. Считайте, что вводимый файл находится в папке с программой.\n",
    "\n",
    "Примечание 5. В этой задаче за кулисами реализовано две функции с именами func и add. Не используйте эти имена для именования своих переменных во избежание ошибок.\n",
    "\n",
    "Sample Input:\n",
    "\n",
    "func.pkl\n",
    "Hello,\n",
    "how\n",
    "are\n",
    "you\n",
    "today?\n",
    "Sample Output:\n",
    "\n",
    "Hello, how are you today?"
   ],
   "metadata": {
    "collapsed": false
   },
   "id": "d2c043fb99eb99c9"
  },
  {
   "cell_type": "code",
   "execution_count": null,
   "outputs": [],
   "source": [
    "from sys import stdin\n",
    "import pickle\n",
    "\n",
    "initial = list(i.strip(' \\n') for i in stdin.readlines())\n",
    "print(initial)\n",
    "func_name = initial[0]\n",
    "print(func_name)\n",
    "# func_args = ' '.join(initial[1:])\n",
    "func_args = (initial[1:])\n",
    "print(func_args)\n",
    "\n",
    "with open(func_name, 'rb') as file:\n",
    "    obj = pickle.load(file)\n",
    "    print(obj)\n",
    "    print(type(obj))\n",
    "    print(obj(*func_args))"
   ],
   "metadata": {
    "collapsed": false
   },
   "id": "5bd272c718f590ee"
  },
  {
   "cell_type": "code",
   "execution_count": null,
   "outputs": [],
   "source": [
    "import pickle\n",
    "import sys\n",
    "\n",
    "name, *args = [line.strip() for line in sys.stdin]\n",
    "\n",
    "with open(name, 'rb') as f:\n",
    "    func = pickle.load(f)\n",
    "\n",
    "print(func(*args))"
   ],
   "metadata": {
    "collapsed": false
   },
   "id": "f60b77908d68ce7a"
  },
  {
   "cell_type": "markdown",
   "source": [
    "Ты не пройдешь\n",
    "Реализуйте функцию filter_dump(), которая принимает три аргумента в следующем порядке:\n",
    "\n",
    "filename — название pickle файла, например, data.pkl\n",
    "objects — список произвольных объектов\n",
    "typename — тип данных\n",
    "Функция должна создавать pickle файл с названием filename, который содержит сериализованный список только тех объектов из списка objects, тип которых равен typename.\n",
    "\n",
    "Примечание 1. Например, вызов функции filter_dump() следующим образом:\n",
    "\n",
    "filter_dump('numbers.pkl', [1, '2', 3, 4, '5'], int)\n",
    "должен создавать файл numbers.pkl, содержащий сериализованный список [1, 3, 4].\n",
    "\n",
    "Примечание 2. В тестирующую систему сдайте программу, содержащую только необходимую функцию filter_dump(), но не код, вызывающий ее."
   ],
   "metadata": {
    "collapsed": false
   },
   "id": "ae79fdf8505e51df"
  },
  {
   "cell_type": "code",
   "execution_count": 21,
   "outputs": [
    {
     "name": "stdout",
     "output_type": "stream",
     "text": [
      "[1, 3, 4]\n",
      "<class 'list'>\n"
     ]
    }
   ],
   "source": [
    "import pickle\n",
    "\n",
    "def filter_dump(filename: str, objects: list, typename: type) -> None:\n",
    "    # with open(filename, 'rb') as file:\n",
    "    #     obj = pickle.load(file)\n",
    "    #     print(obj)\n",
    "    #     print(type(obj))\n",
    "    new_list = [i for i in objects if typename == type(i)]    \n",
    "    with open(filename, mode='wb') as out:\n",
    "        pickle.dump(new_list, out)\n",
    "        \n",
    "    with open(filename, 'rb') as file:\n",
    "        obj = pickle.load(file)\n",
    "        print(obj)\n",
    "        print(type(obj))   \n",
    "        \n",
    "filter_dump('numbers.pkl', [1, '2', 3, 4, '5'], int)"
   ],
   "metadata": {
    "collapsed": false,
    "ExecuteTime": {
     "end_time": "2024-10-30T06:14:45.340580600Z",
     "start_time": "2024-10-30T06:14:45.338029800Z"
    }
   },
   "id": "4d11b5fc4367d76b"
  },
  {
   "cell_type": "code",
   "execution_count": null,
   "outputs": [],
   "source": [
    "def filter_dump(filename, objects, typename):\n",
    "    with open(filename, 'wb') as f:\n",
    "        __import__('pickle').dump([i for i in objects if type(i) is typename], f)"
   ],
   "metadata": {
    "collapsed": false
   },
   "id": "640e5ab91357a2f9"
  },
  {
   "cell_type": "markdown",
   "source": [
    "Контрольная сумма\n",
    "По каналу связи передается pickle файл, содержащий сериализованный словарь или список, и целое число — контрольная сумма, которая вычисляется по следующему правилу:\n",
    "\n",
    "для словаря — сумма всех целочисленных ключей (тип int)\n",
    "для списка — произведение минимального и максимального целочисленных элементов (тип int)\n",
    "Напишите программу, которая вычисляет контрольную сумму для объекта, содержащегося в pickle файле, и сравнивает ее с данным целым числом.\n",
    "\n",
    "Формат входных данных\n",
    "На вход программе в первой строке подается название pickle файла, в котором содержится сериализованный словарь или список, в следующей — целое число.\n",
    "\n",
    "Формат выходных данных\n",
    "Программа должна вычислить контрольную сумму для объекта, который содержится в данном pickle файле, и если она совпадает с введенным числом, вывести текст:\n",
    "Контрольные суммы совпадают\n",
    "если она не совпадает с введенным числом, вывести текст:\n",
    "Контрольные суммы не совпадают\n",
    "Примечание 1. Если список (словарь) не содержит целочисленных элементов (ключей), то считайте, что контрольная сумма равна 0.\n",
    "\n",
    "Примечание 2. Рассмотрим первый тест. Подается название файла — data.pkl, в котором содержится сериализованный список:\n",
    "\n",
    "['a', 'b', 3, 4, 'f', 'g', 7, 8]\n",
    "затем число — 3023. Контрольная сумма для данного списка равна 3⋅8=24. Так как 3023≠24, программа выводит:\n",
    "\n",
    "Контрольные суммы не совпадают\n",
    "\n",
    "Sample Input 1:\n",
    "\n",
    "data.pkl\n",
    "3023\n",
    "Sample Output 1:\n",
    "\n",
    "Контрольные суммы не совпадают\n",
    "Sample Input 2:\n",
    "\n",
    "data2.pkl\n",
    "3319\n",
    "Sample Output 2:\n",
    "\n",
    "Контрольные суммы совпадают"
   ],
   "metadata": {
    "collapsed": false
   },
   "id": "4867f6a5c9210540"
  },
  {
   "cell_type": "code",
   "execution_count": 22,
   "outputs": [
    {
     "name": "stdout",
     "output_type": "stream",
     "text": [
      "Контрольные суммы совпадают\n",
      "Контрольные суммы не совпадают\n"
     ]
    }
   ],
   "source": [
    "from sys import stdin\n",
    "\n",
    "data, search = [i.strip() for i in stdin.readlines()]\n",
    "\n",
    "print(data)\n",
    "print(search)\n",
    "\n",
    "try:\n",
    "    with open(data, 'rb') as file:\n",
    "        obj = pickle.load(file)\n",
    "        print(obj)\n",
    "        print(type(obj))\n",
    "        if type(obj) is list:\n",
    "            mi = min(i for i in obj if isinstance(i, int))\n",
    "            ma = max(i for i in obj if isinstance(i, int))\n",
    "            x = mi * ma\n",
    "        elif isinstance(obj, dict):\n",
    "            x = sum(i for i in obj.keys() if isinstance(i, int))\n",
    "        print(x)\n",
    "except ValueError:\n",
    "    x = 0\n",
    "    \n",
    "if x == int(search):\n",
    "    print('Контрольные суммы совпадают')\n",
    "else:\n",
    "    print('Контрольные суммы не совпадают')"
   ],
   "metadata": {
    "collapsed": false,
    "ExecuteTime": {
     "end_time": "2024-10-30T06:29:19.835342500Z",
     "start_time": "2024-10-30T06:29:19.833815300Z"
    }
   },
   "id": "b83062de6a6161b3"
  }
 ],
 "metadata": {
  "kernelspec": {
   "display_name": "Python 3",
   "language": "python",
   "name": "python3"
  },
  "language_info": {
   "codemirror_mode": {
    "name": "ipython",
    "version": 2
   },
   "file_extension": ".py",
   "mimetype": "text/x-python",
   "name": "python",
   "nbconvert_exporter": "python",
   "pygments_lexer": "ipython2",
   "version": "2.7.6"
  }
 },
 "nbformat": 4,
 "nbformat_minor": 5
}

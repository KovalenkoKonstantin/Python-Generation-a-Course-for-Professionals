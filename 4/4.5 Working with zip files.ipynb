{
 "cells": [
  {
   "cell_type": "markdown",
   "source": [
    "Тема урока: работа с zip файлами\n",
    "Архивирование данных\n",
    "Формат данных zip\n",
    "Модуль zipfile\n",
    "Аннотация. Урок посвящен работе с файлами в формате zip."
   ],
   "metadata": {
    "collapsed": false
   },
   "id": "2d764d302de709fd"
  },
  {
   "cell_type": "markdown",
   "source": [
    "Архивирование данных"
   ],
   "metadata": {
    "collapsed": false
   },
   "id": "8b97ab76363ecf2b"
  },
  {
   "cell_type": "markdown",
   "source": [
    "Сжатие информации – это процесс преобразования информации, хранящейся в файле, при котором уменьшается избыточность в ее представлении и, соответственно, требуется меньший объем памяти для хранения."
   ],
   "metadata": {
    "collapsed": false
   },
   "id": "e9f01cece0c405cf"
  },
  {
   "cell_type": "markdown",
   "source": [
    "Сжатие информации в файлах производится за счет устранения избыточности различными способами, например, за счет упрощения кодов, исключения из них постоянных битов или представления повторяющихся символов или повторяющейся последовательности символов в виде коэффициента повторения и соответствующих символов."
   ],
   "metadata": {
    "collapsed": false
   },
   "id": "b3795354ebc46403"
  },
  {
   "cell_type": "markdown",
   "source": [
    "Архивация файлов — упаковка нескольких файлов в один файл или поток — архив. Не следует путать архивацию со сжатием, которое далеко не всегда применяется при создании архива."
   ],
   "metadata": {
    "collapsed": false
   },
   "id": "e98ca23ed956d346"
  },
  {
   "cell_type": "markdown",
   "source": [
    "Архивный файл – это специальным образом организованный файл, содержащий в себе один или несколько файлов в сжатом или несжатом виде и служебную информацию об именах файлов, дате и времени их создания или модификации, размерах и т.д."
   ],
   "metadata": {
    "collapsed": false
   },
   "id": "c1080f75ba96b8f1"
  },
  {
   "cell_type": "markdown",
   "source": [
    "Целью архивации (упаковки) файлов обычно являются обеспечение более компактного размещения информации на диске, сокращение времени и соответственно стоимости передачи информации по каналам связи в компьютерных сетях. Кроме того, упаковка в один архивный файл группы файлов существенно упрощает их перенос с одного компьютера на другой и сокращает время копирования файлов на диски."
   ],
   "metadata": {
    "collapsed": false
   },
   "id": "3f72bb688c56b503"
  },
  {
   "cell_type": "markdown",
   "source": [
    "Степень сжатия файлов характеризуется коэффициентом K, определяемым как отношение объема сжатого файла Vc к объему исходного файла Vo, выраженным в процентах:"
   ],
   "metadata": {
    "collapsed": false
   },
   "id": "569dd76a7d549c6b"
  },
  {
   "cell_type": "markdown",
   "source": [
    "Степень сжатия зависит от используемой программы, метода сжатия и типа исходного файла. Наиболее хорошо сжимаются файлы графических образов, текстовые файлы и файлы данных, для которых степень сжатия может достигать 5−40%, меньше сжимаются файлы исполняемых программ и загрузочных модулей – 60−90%. Почти не сжимаются архивные файлы."
   ],
   "metadata": {
    "collapsed": false
   },
   "id": "23035485aa42ff8a"
  },
  {
   "cell_type": "markdown",
   "source": [
    "Архивация (упаковка) – помещение (загрузка) исходных файлов в архивный файл в сжатом или несжатом виде."
   ],
   "metadata": {
    "collapsed": false
   },
   "id": "3772f7d25b8ad246"
  },
  {
   "cell_type": "markdown",
   "source": [
    "Разархивация (распаковка) – процесс восстановления файлов из архива точно в таком виде, какой они имели до загрузки в архив. При распаковке файлы извлекаются из архива и помещаются на диск или в оперативную память;"
   ],
   "metadata": {
    "collapsed": false
   },
   "id": "e405a6b4a431d3ff"
  },
  {
   "cell_type": "markdown",
   "source": [
    "Программы, осуществляющие упаковку и распаковку файлов, называются программами – архиваторами."
   ],
   "metadata": {
    "collapsed": false
   },
   "id": "e756a34bf28e0ddd"
  },
  {
   "cell_type": "markdown",
   "source": [
    "Формат zip"
   ],
   "metadata": {
    "collapsed": false
   },
   "id": "96fdacc55719bb27"
  },
  {
   "cell_type": "markdown",
   "source": [
    "В реальной жизни применяется большое количество различных форматов архивов: zip, 7z, rar и многие другие. В нашем уроке мы остановимся на zip архивах."
   ],
   "metadata": {
    "collapsed": false
   },
   "id": "8890aa3d6d23f823"
  },
  {
   "cell_type": "markdown",
   "source": [
    "zip — это формат сжатия без потерь: после распаковки данные будут такими же, как перед сжатием. Алгоритм ищет избыточности в исходных данных и эффективнее представляет информацию."
   ],
   "metadata": {
    "collapsed": false
   },
   "id": "eafa85fdc36d4854"
  },
  {
   "cell_type": "markdown",
   "source": [
    "Формат сжатия без потерь отличается от сжатия с потерями, который используется в таких форматах, как JPEG и MP3: при сжатии выбрасывается часть информации, которая менее заметна для человеческого глаза или уха."
   ],
   "metadata": {
    "collapsed": false
   },
   "id": "81919f277386a721"
  },
  {
   "cell_type": "markdown",
   "source": [
    "Формат zip обладает следующими преимуществами:\n",
    "\n",
    "является полностью открытым\n",
    "является очень популярным (большинство архивов в Internet – это архивы zip)\n",
    "является очень быстрым"
   ],
   "metadata": {
    "collapsed": false
   },
   "id": "7b3564d9c8b269b7"
  },
  {
   "cell_type": "markdown",
   "source": [
    "Работа с zip файлами в Python"
   ],
   "metadata": {
    "collapsed": false
   },
   "id": "e275d9c08b254f97"
  },
  {
   "cell_type": "markdown",
   "source": [
    "В Python для работы с zip архивами используется встроенный модуль zipfile. Основное преимущество данного модуля заключается в том, что он позволяет работать с архивом, как с обычной папкой, содержащей файлы и другие каталоги."
   ],
   "metadata": {
    "collapsed": false
   },
   "id": "a93963aa52eb49af"
  },
  {
   "cell_type": "markdown",
   "source": [
    "Не забывайте, что в архив может быть помещена целая структура каталогов."
   ],
   "metadata": {
    "collapsed": false
   },
   "id": "b2262e844e60a634"
  },
  {
   "cell_type": "markdown",
   "source": [
    "Модуль zipfile"
   ],
   "metadata": {
    "collapsed": false
   },
   "id": "57aad687489c0505"
  },
  {
   "cell_type": "markdown",
   "source": [
    "Для того чтобы начать работать с zip архивами в Python, нам потребуется импортировать модуль zipfile, в частности нам потребуется создать объект ZipFile."
   ],
   "metadata": {
    "collapsed": false
   },
   "id": "3065607f4de43a9f"
  },
  {
   "cell_type": "code",
   "execution_count": null,
   "outputs": [],
   "source": [
    "from zipfile import ZipFile"
   ],
   "metadata": {
    "collapsed": false
   },
   "id": "f0b23d4d19f0427c"
  },
  {
   "cell_type": "markdown",
   "source": [
    "Объекты ZipFile похожи на файловые объекты, возвращаемые функцией open()."
   ],
   "metadata": {
    "collapsed": false
   },
   "id": "eb0e92c81d21140c"
  },
  {
   "cell_type": "markdown",
   "source": [
    "Метод printdir()"
   ],
   "metadata": {
    "collapsed": false
   },
   "id": "82ee0af7f013fb6c"
  },
  {
   "cell_type": "markdown",
   "source": [
    "В начале работы мы создаем объект типа ZipFile, передавая ему имя архива (архив лежит в той же папке, что и программа).\n",
    "\n",
    "Метод printdir() выводит таблицу с информацией о содержимом архива: полные названия файлов с указанием даты изменения и размера в байтах."
   ],
   "metadata": {
    "collapsed": false
   },
   "id": "c39780f82013715f"
  },
  {
   "cell_type": "code",
   "execution_count": 1,
   "outputs": [
    {
     "name": "stdout",
     "output_type": "stream",
     "text": [
      "File Name                                             Modified             Size\n",
      "test/                                          2021-11-27 12:47:10            0\n",
      "test/Картинки/                                 2021-11-27 12:49:02            0\n",
      "test/Картинки/1.jpg                            2021-09-02 12:30:20        90156\n",
      "test/Картинки/avatar.png                       2021-08-20 09:38:44        19053\n",
      "test/Картинки/certificate.png                  2021-10-23 09:46:36        43699\n",
      "test/Картинки/py.png                           2021-07-28 17:55:56        33522\n",
      "test/Картинки/World_Time_Zones_Map.png         2021-11-08 07:30:06      2324421\n",
      "test/Картинки/Снимок экрана.png                2021-10-01 20:47:02        10878\n",
      "test/Неравенства.djvu                          2021-08-19 08:39:06      5283010\n",
      "test/Программы/                                2021-11-27 12:48:20            0\n",
      "test/Программы/image_util.py                   2021-11-18 12:42:22         4955\n",
      "test/Программы/sort.py                         2021-11-14 19:31:02           61\n",
      "test/Разные файлы/                             2021-11-27 12:48:10            0\n",
      "test/Разные файлы/astros.json                  2021-11-08 09:29:58          505\n"
     ]
    }
   ],
   "source": [
    "from zipfile import ZipFile\n",
    "\n",
    "with ZipFile('test.zip') as zip_file:\n",
    "    zip_file.printdir()"
   ],
   "metadata": {
    "collapsed": false,
    "ExecuteTime": {
     "end_time": "2024-10-25T07:03:57.862324700Z",
     "start_time": "2024-10-25T07:03:57.855862500Z"
    }
   },
   "id": "a58abcf2138c0bf3"
  },
  {
   "cell_type": "markdown",
   "source": [
    "При создании объекта ZipFile мы также можем передать необязательный аргумент mode, который задает режим работы (по аналогии с обычными файлами):\n",
    "\n",
    "r — файл будет открыт для чтения\n",
    "w — если файл существует, то он будет уничтожен и вместо него будет создан новый файл\n",
    "a — существующий файл будет открыт в режиме добавления в конец"
   ],
   "metadata": {
    "collapsed": false
   },
   "id": "db6cf30a47926114"
  },
  {
   "cell_type": "markdown",
   "source": [
    "По умолчанию параметр mode имеет значение mode='r', то есть архив открывается для чтения."
   ],
   "metadata": {
    "collapsed": false
   },
   "id": "364986836463b821"
  },
  {
   "cell_type": "markdown",
   "source": [
    "Метод infolist()"
   ],
   "metadata": {
    "collapsed": false
   },
   "id": "b014f880b0fb68ff"
  },
  {
   "cell_type": "markdown",
   "source": [
    "Метод infolist() позволяет получить информацию о файлах из архива в виде списка специальных объектов (тип ZipInfo), которые содержат дополнительную информацию о каждом файле:\n",
    "\n",
    "file_size\n",
    "compress_size\n",
    "filename\n",
    "date_time\n",
    "..."
   ],
   "metadata": {
    "collapsed": false
   },
   "id": "a94022296ac5f372"
  },
  {
   "cell_type": "code",
   "execution_count": 2,
   "outputs": [
    {
     "name": "stdout",
     "output_type": "stream",
     "text": [
      "2324421\n",
      "2322032\n",
      "test/Картинки/World_Time_Zones_Map.png\n",
      "(2021, 11, 8, 7, 30, 6)\n"
     ]
    }
   ],
   "source": [
    "from zipfile import ZipFile\n",
    "\n",
    "with ZipFile('test.zip') as zip_file:\n",
    "    info = zip_file.infolist()\n",
    "    print(info[6].file_size)  # размер начального файла в байтах\n",
    "    print(info[6].compress_size)  # размер сжатого файла в байтах\n",
    "    print(info[6].filename)  # имя файла\n",
    "    print(info[6].date_time)  # дата изменения файла"
   ],
   "metadata": {
    "collapsed": false,
    "ExecuteTime": {
     "end_time": "2024-10-25T08:31:39.109468900Z",
     "start_time": "2024-10-25T08:31:39.105538500Z"
    }
   },
   "id": "12418be593f16266"
  },
  {
   "cell_type": "markdown",
   "source": [
    "Помимо указанных атрибутов (свойств) file_size, compress_size, filename, date_time доступны и другие, о которых можно почитать в официальной документации."
   ],
   "metadata": {
    "collapsed": false
   },
   "id": "2cf181eb1b7c822a"
  },
  {
   "cell_type": "markdown",
   "source": [
    "Обратите внимание на то, что атрибут date_time представляет из себя кортеж (год, месяц, день, час, минута, секунда)."
   ],
   "metadata": {
    "collapsed": false
   },
   "id": "cff861d7095c13d7"
  },
  {
   "cell_type": "markdown",
   "source": [
    "Также мы можем использовать метод is_dir(), чтобы проверить тип объекта: файл или папка. Он возвращает True, если объект является папкой, или False в противном случае."
   ],
   "metadata": {
    "collapsed": false
   },
   "id": "9980bc07c975947"
  },
  {
   "cell_type": "code",
   "execution_count": 3,
   "outputs": [
    {
     "name": "stdout",
     "output_type": "stream",
     "text": [
      "True\n",
      "False\n"
     ]
    }
   ],
   "source": [
    "from zipfile import ZipFile\n",
    "\n",
    "with ZipFile('test.zip') as zip_file:\n",
    "    info = zip_file.infolist()\n",
    "    print(info[0].is_dir())\n",
    "    print(info[6].is_dir())"
   ],
   "metadata": {
    "collapsed": false,
    "ExecuteTime": {
     "end_time": "2024-10-25T08:34:05.133344400Z",
     "start_time": "2024-10-25T08:34:05.128497800Z"
    }
   },
   "id": "4fbc8b89c4cb27a"
  },
  {
   "cell_type": "markdown",
   "source": [
    "Метод namelist()"
   ],
   "metadata": {
    "collapsed": false
   },
   "id": "7a1205743910a0c9"
  },
  {
   "cell_type": "markdown",
   "source": [
    "Метод namelist() возвращает список названий файлов и директорий, содержащихся в архиве."
   ],
   "metadata": {
    "collapsed": false
   },
   "id": "fba4013a900abfb0"
  },
  {
   "cell_type": "code",
   "execution_count": 4,
   "outputs": [
    {
     "name": "stdout",
     "output_type": "stream",
     "text": [
      "test/\n",
      "test/Картинки/\n",
      "test/Картинки/1.jpg\n",
      "test/Картинки/avatar.png\n",
      "test/Картинки/certificate.png\n",
      "test/Картинки/py.png\n",
      "test/Картинки/World_Time_Zones_Map.png\n",
      "test/Картинки/Снимок экрана.png\n",
      "test/Неравенства.djvu\n",
      "test/Программы/\n",
      "test/Программы/image_util.py\n",
      "test/Программы/sort.py\n",
      "test/Разные файлы/\n",
      "test/Разные файлы/astros.json\n"
     ]
    }
   ],
   "source": [
    "from zipfile import ZipFile\n",
    "\n",
    "with ZipFile('test.zip') as zip_file:\n",
    "    info = zip_file.namelist()\n",
    "    print(*info, sep='\\n')"
   ],
   "metadata": {
    "collapsed": false,
    "ExecuteTime": {
     "end_time": "2024-10-25T08:35:11.091332800Z",
     "start_time": "2024-10-25T08:35:11.084179400Z"
    }
   },
   "id": "5d1af2621382bd67"
  },
  {
   "cell_type": "markdown",
   "source": [
    "Метод getinfo()"
   ],
   "metadata": {
    "collapsed": false
   },
   "id": "b27fa4b4f61cfabd"
  },
  {
   "cell_type": "markdown",
   "source": [
    "В отличие от метода infolist(), который позволяет получить информацию о всех файлах из архива в виде списка специальных объектов (тип ZipInfo), метод getinfo() позволяет получить информацию о конкретном файле по его имени в архиве."
   ],
   "metadata": {
    "collapsed": false
   },
   "id": "68b6a9984747b86c"
  },
  {
   "cell_type": "code",
   "execution_count": 5,
   "outputs": [
    {
     "name": "stdout",
     "output_type": "stream",
     "text": [
      "4955\n",
      "1641\n",
      "test/Программы/image_util.py\n",
      "(2021, 11, 18, 12, 42, 22)\n"
     ]
    }
   ],
   "source": [
    "from zipfile import ZipFile\n",
    "\n",
    "with ZipFile('test.zip') as zip_file:\n",
    "    info = zip_file.namelist()  # получаем названия всех файлов архива\n",
    "    last_file = zip_file.getinfo(info[-4])  # получаем информацию об отдельном файле\n",
    "    print(last_file.file_size)\n",
    "    print(last_file.compress_size)\n",
    "    print(last_file.filename)\n",
    "    print(last_file.date_time)"
   ],
   "metadata": {
    "collapsed": false,
    "ExecuteTime": {
     "end_time": "2024-10-25T08:36:06.972100Z",
     "start_time": "2024-10-25T08:36:06.966612Z"
    }
   },
   "id": "b27c635712390fbf"
  },
  {
   "cell_type": "markdown",
   "source": [
    "Работа с конкретными файлами из архива"
   ],
   "metadata": {
    "collapsed": false
   },
   "id": "cccc0472e25a84f"
  },
  {
   "cell_type": "markdown",
   "source": [
    "Структуру архива мы получили, «вытащим» теперь и конкретный файл."
   ],
   "metadata": {
    "collapsed": false
   },
   "id": "d0953f172e37ae43"
  },
  {
   "cell_type": "code",
   "execution_count": 6,
   "outputs": [
    {
     "name": "stdout",
     "output_type": "stream",
     "text": [
      "b'{\"number\": 10, \"people\": [{\"craft\": \"ISS\", \"name\": \"Mark Vande Hei\"}, {\"craft\": \"ISS\", \"name\": \"Pyotr Dubrov\"}, {\"craft\": \"ISS\", \"name\": \"Thomas Pesquet\"}, {\"craft\": \"ISS\", \"name\": \"Megan McArthur\"}, {\"craft\": \"ISS\", \"name\": \"Shane Kimbrough\"}, {\"craft\": \"ISS\", \"name\": \"Akihiko Hoshide\"}, {\"craft\": \"ISS\", \"name\": \"Anton Shkaplerov\"}, {\"craft\": \"Shenzhou 13\", \"name\": \"Zhai Zhigang\"}, {\"craft\": \"Shenzhou 13\", \"name\": \"Wang Yaping\"}, {\"craft\": \"Shenzhou 13\", \"name\": \"Ye Guangfu\"}], \"message\": \"success\"}'\n"
     ]
    }
   ],
   "source": [
    "from zipfile import ZipFile\n",
    "\n",
    "with ZipFile('test.zip') as zip_file:\n",
    "    with zip_file.open('test/Разные файлы/astros.json') as file:\n",
    "        print(file.read())"
   ],
   "metadata": {
    "collapsed": false,
    "ExecuteTime": {
     "end_time": "2024-10-25T08:37:52.618382300Z",
     "start_time": "2024-10-25T08:37:52.615547800Z"
    }
   },
   "id": "9f423fd91e24f5e0"
  },
  {
   "cell_type": "markdown",
   "source": [
    "Обратите внимание на символ b перед выводом. Это бинарная строка. Метод file.read() возвращает сырые байты (тип bytes). Для того чтобы преобразовать их в строку (тип str), нужно использовать метод decode(), указав нужную кодировку (файл astros.json имеет кодировку UTF-8)."
   ],
   "metadata": {
    "collapsed": false
   },
   "id": "31e8af5eae18116c"
  },
  {
   "cell_type": "markdown",
   "source": [
    "Метод ZipFile.open() открывает файл именно в бинарном виде, не в текстовом."
   ],
   "metadata": {
    "collapsed": false
   },
   "id": "f96a718051701326"
  },
  {
   "cell_type": "code",
   "execution_count": 7,
   "outputs": [
    {
     "name": "stdout",
     "output_type": "stream",
     "text": [
      "{\"number\": 10, \"people\": [{\"craft\": \"ISS\", \"name\": \"Mark Vande Hei\"}, {\"craft\": \"ISS\", \"name\": \"Pyotr Dubrov\"}, {\"craft\": \"ISS\", \"name\": \"Thomas Pesquet\"}, {\"craft\": \"ISS\", \"name\": \"Megan McArthur\"}, {\"craft\": \"ISS\", \"name\": \"Shane Kimbrough\"}, {\"craft\": \"ISS\", \"name\": \"Akihiko Hoshide\"}, {\"craft\": \"ISS\", \"name\": \"Anton Shkaplerov\"}, {\"craft\": \"Shenzhou 13\", \"name\": \"Zhai Zhigang\"}, {\"craft\": \"Shenzhou 13\", \"name\": \"Wang Yaping\"}, {\"craft\": \"Shenzhou 13\", \"name\": \"Ye Guangfu\"}], \"message\": \"success\"}\n"
     ]
    }
   ],
   "source": [
    "from zipfile import ZipFile\n",
    "\n",
    "with ZipFile('test.zip') as zip_file:\n",
    "    with zip_file.open('test/Разные файлы/astros.json') as file:\n",
    "        print(file.read().decode('utf-8'))"
   ],
   "metadata": {
    "collapsed": false,
    "ExecuteTime": {
     "end_time": "2024-10-25T08:38:41.734281800Z",
     "start_time": "2024-10-25T08:38:41.730436900Z"
    }
   },
   "id": "b83ee860b11651ce"
  },
  {
   "cell_type": "markdown",
   "source": [
    "Обратите внимание на отсутствие символа b."
   ],
   "metadata": {
    "collapsed": false
   },
   "id": "701165208abd028e"
  },
  {
   "cell_type": "markdown",
   "source": [
    "Запись в zip архив"
   ],
   "metadata": {
    "collapsed": false
   },
   "id": "dcf94d5c85b811ea"
  },
  {
   "cell_type": "markdown",
   "source": [
    "По аналогии с чтением файлов из архива их можно туда и записывать, для этого необходимо создать объект ZipFile в режимах mode='w' или mode='a'.\n",
    "\n",
    "Для записи файла в архив используется метод write(), который принимает имя существующего файла."
   ],
   "metadata": {
    "collapsed": false
   },
   "id": "bb8f9cc29e4e43d9"
  },
  {
   "cell_type": "code",
   "execution_count": 12,
   "outputs": [
    {
     "name": "stdout",
     "output_type": "stream",
     "text": [
      "['program.py', 'lse.jpeg']\n"
     ]
    }
   ],
   "source": [
    "from zipfile import ZipFile\n",
    "\n",
    "with ZipFile('archive.zip', mode='w') as zip_file:\n",
    "    zip_file.write('program.py')\n",
    "    zip_file.write('lse.jpeg')\n",
    "    print(zip_file.namelist())"
   ],
   "metadata": {
    "collapsed": false,
    "ExecuteTime": {
     "end_time": "2024-10-25T08:46:37.117514700Z",
     "start_time": "2024-10-25T08:46:37.110886800Z"
    }
   },
   "id": "29acb245d2272e19"
  },
  {
   "cell_type": "markdown",
   "source": [
    "cоздает в папке с программой архив с именем archive.zip и записывает в него содержимое файлов program.py и lse.jpeg, которые так же находятся в папке с программой, а затем выводит список всех файлов данного архива:\n",
    "\n",
    "['program.py', 'lse.jpeg']"
   ],
   "metadata": {
    "collapsed": false
   },
   "id": "fd3b1f97d32b7579"
  },
  {
   "cell_type": "markdown",
   "source": [
    "Если файлы для записи в архив не будут найдены, то возникнет ошибка (исключение) FileNotFoundError."
   ],
   "metadata": {
    "collapsed": false
   },
   "id": "ed829fc8b13b300"
  },
  {
   "cell_type": "markdown",
   "source": [
    "Метод write() может принимать еще один строковый аргумент, задающий новое имя файла в архиве."
   ],
   "metadata": {
    "collapsed": false
   },
   "id": "6fad1598497d4885"
  },
  {
   "cell_type": "code",
   "execution_count": 13,
   "outputs": [
    {
     "name": "stdout",
     "output_type": "stream",
     "text": [
      "['new_program.py', 'lse1.jpeg']\n"
     ]
    }
   ],
   "source": [
    "from zipfile import ZipFile\n",
    "\n",
    "with ZipFile('archive.zip', mode='w') as zip_file:\n",
    "    zip_file.write('program.py', 'new_program.py')  # первый аргумент - это имя файла\n",
    "    zip_file.write('lse.jpeg', 'lse1.jpeg')  # второй аргумент - это имя файла в архиве\n",
    "    print(zip_file.namelist())"
   ],
   "metadata": {
    "collapsed": false,
    "ExecuteTime": {
     "end_time": "2024-10-25T08:46:40.698285600Z",
     "start_time": "2024-10-25T08:46:40.691743500Z"
    }
   },
   "id": "cf3849603d44cc7e"
  },
  {
   "cell_type": "markdown",
   "source": [
    "cоздает в папке с программой архив с именем archive.zip и записывает в него содержимое файлов program.py и lse.jpeg, которые так же находятся в папке с программой, а затем выводит список всех файлов данного архива:\n",
    "\n",
    "['new_program.py', 'lse1.jpeg']"
   ],
   "metadata": {
    "collapsed": false
   },
   "id": "e601f7fc207f2eef"
  },
  {
   "cell_type": "markdown",
   "source": [
    "Для добавления файлов в уже существующий архив необходимо создать объект ZipFile в режиме mode='a'."
   ],
   "metadata": {
    "collapsed": false
   },
   "id": "47e11b92a9327fb9"
  },
  {
   "cell_type": "code",
   "execution_count": 14,
   "outputs": [
    {
     "name": "stdout",
     "output_type": "stream",
     "text": [
      "test/\n",
      "test/Картинки/\n",
      "test/Картинки/1.jpg\n",
      "test/Картинки/avatar.png\n",
      "test/Картинки/certificate.png\n",
      "test/Картинки/py.png\n",
      "test/Картинки/World_Time_Zones_Map.png\n",
      "test/Картинки/Снимок экрана.png\n",
      "test/Неравенства.djvu\n",
      "test/Программы/\n",
      "test/Программы/image_util.py\n",
      "test/Программы/sort.py\n",
      "test/Разные файлы/\n",
      "test/Разные файлы/astros.json\n",
      "test/program.py\n",
      "lse.jpeg\n"
     ]
    }
   ],
   "source": [
    "from zipfile import ZipFile\n",
    "\n",
    "with ZipFile('test.zip', mode='a') as zip_file:\n",
    "    zip_file.write('program.py', 'test/program.py')\n",
    "    zip_file.write('lse.jpeg')\n",
    "    print(*zip_file.namelist(), sep='\\n')"
   ],
   "metadata": {
    "collapsed": false,
    "ExecuteTime": {
     "end_time": "2024-10-25T08:46:44.918699400Z",
     "start_time": "2024-10-25T08:46:44.914278600Z"
    }
   },
   "id": "679d93de17464aca"
  },
  {
   "cell_type": "markdown",
   "source": [
    "Извлечение содержимого zip-файла в каталог"
   ],
   "metadata": {
    "collapsed": false
   },
   "id": "97f8e41f4500ab9b"
  },
  {
   "cell_type": "markdown",
   "source": [
    "Для извлечения данных из архива в каталог используются методы extract() и extractall().\n",
    "\n",
    "Если требуется извлечь отдельные файлы, то используется метод extract(), он принимает два аргумента: название файла и путь, по которому требуется извлечь файл. Если путь не указывать, то файл будет извлечен в папку, где находится файл с программой."
   ],
   "metadata": {
    "collapsed": false
   },
   "id": "99e7757c20717fa2"
  },
  {
   "cell_type": "code",
   "execution_count": 15,
   "outputs": [],
   "source": [
    "from zipfile import ZipFile\n",
    "\n",
    "with ZipFile('test.zip') as zip_file:\n",
    "    zip_file.extract('test/Картинки/avatar.png')\n",
    "    zip_file.extract('test/Программы/image_util.py')\n",
    "    zip_file.extract('lse.jpeg')"
   ],
   "metadata": {
    "collapsed": false,
    "ExecuteTime": {
     "end_time": "2024-10-25T08:48:10.549781400Z",
     "start_time": "2024-10-25T08:48:10.538629700Z"
    }
   },
   "id": "abcc5cb9a4f2569e"
  },
  {
   "cell_type": "markdown",
   "source": [
    "извлекает файлы из обновленного архива test.zip"
   ],
   "metadata": {
    "collapsed": false
   },
   "id": "f6187daa4bb89fa6"
  },
  {
   "cell_type": "markdown",
   "source": [
    "Если требуется извлечь все содержимое архива, то используется метод extractall(), он принимает в качестве аргумента путь, по которому требуется извлечь все файлы. Если путь не указывать, то файл будет извлечен в папку, где находится файл с программой."
   ],
   "metadata": {
    "collapsed": false
   },
   "id": "f6104ab97692dc5b"
  },
  {
   "cell_type": "code",
   "execution_count": 16,
   "outputs": [],
   "source": [
    "from zipfile import ZipFile\n",
    "\n",
    "with ZipFile('test.zip') as zip_file:\n",
    "    zip_file.extractall()"
   ],
   "metadata": {
    "collapsed": false,
    "ExecuteTime": {
     "end_time": "2024-10-25T08:49:29.239379300Z",
     "start_time": "2024-10-25T08:49:29.214795500Z"
    }
   },
   "id": "e109e539eabbb777"
  },
  {
   "cell_type": "markdown",
   "source": [
    "извлекает все содержимое файла test.zip в папку, где находится файл с программой, при этом структура каталогов архива сохраняется."
   ],
   "metadata": {
    "collapsed": false
   },
   "id": "235fc6b6d576990c"
  },
  {
   "cell_type": "markdown",
   "source": [
    "Примечания"
   ],
   "metadata": {
    "collapsed": false
   },
   "id": "382a9e77f1ed3ec6"
  },
  {
   "cell_type": "markdown",
   "source": [
    "https://habr.com/ru/company/vk/blog/490790/"
   ],
   "metadata": {
    "collapsed": false
   },
   "id": "f75a3c5e488d4f86"
  },
  {
   "cell_type": "markdown",
   "source": [
    "При создании объекта ZipFile мы также можем передать еще два необязательных аргумента:\n",
    "\n",
    "compression, который определяет метод сжатия, который должен использоваться при записи в архив. Он принимает одно из значений: ZIP_STORED, ZIP_DEFLATED, ZIP_BZIP2, ZIP_LZMA. По умолчанию используется значение compression=ZIP_STORED\n",
    "\n",
    "allowZip64, который позволяет разрешить использование расширений zip64, которые дают возможность создавать архивы размером больше 4 гигабайт. По умолчанию равен allowZip64=True"
   ],
   "metadata": {
    "collapsed": false
   },
   "id": "828a1ed8649c4906"
  },
  {
   "cell_type": "markdown",
   "source": [
    " Для того чтобы проверить является ли некоторый файл zip архивом, используется функция zipfile.is_zipfile(), которая принимает на вход путь к файлу (или сам файловый объект) и возвращает значение True, если указанный файл является zip архивом, или False в противном случае."
   ],
   "metadata": {
    "collapsed": false
   },
   "id": "7b2c7214795b5f97"
  },
  {
   "cell_type": "markdown",
   "source": [
    "Количество файлов\n",
    "Вам доступен архив workbook.zip, содержащий различные папки и файлы. Напишите программу, которая выводит единственное число — количество файлов в этом архиве.\n",
    "\n",
    "Примечание 1. Обратите внимание, что папка не считается файлом."
   ],
   "metadata": {
    "collapsed": false
   },
   "id": "3e350bbce93bbbf"
  },
  {
   "cell_type": "code",
   "execution_count": 34,
   "outputs": [
    {
     "name": "stdout",
     "output_type": "stream",
     "text": [
      "18\n"
     ]
    }
   ],
   "source": [
    "from zipfile import ZipFile\n",
    "\n",
    "with ZipFile('workbook.zip') as zip_file:\n",
    "    # zip_file.printdir()\n",
    "    # info = zip_file.namelist()                # получаем названия всех файлов архива\n",
    "    info = zip_file.infolist()\n",
    "    # print(*info, sep='\\n')\n",
    "    # print(len(info))\n",
    "    counter = 0\n",
    "    for i in range(len(info)):\n",
    "        if not info[i].is_dir():\n",
    "            counter += 1\n",
    "\n",
    "print(counter)"
   ],
   "metadata": {
    "collapsed": false,
    "ExecuteTime": {
     "end_time": "2024-10-25T11:58:31.830979400Z",
     "start_time": "2024-10-25T11:58:31.826776Z"
    }
   },
   "id": "eadc1ee6c301f3e8"
  },
  {
   "cell_type": "markdown",
   "source": [
    "Объем файлов\n",
    "Вам доступен архив workbook.zip, содержащий различные папки и файлы. Напишите программу, которая выводит суммарный объем файлов этого архива в сжатом и не сжатом видах в байтах, в следующем формате:\n",
    "\n",
    "Объем исходных файлов: <объем до сжатия> байт(а)\n",
    "Объем сжатых файлов: <объем после сжатия> байт(а)\n",
    "Примечание 1. Вывод на примере архива test.zip из конспекта:\n",
    "\n",
    "Объем исходных файлов: 7810260 байт(а)\n",
    "Объем сжатых файлов: 7798267 байт(а)"
   ],
   "metadata": {
    "collapsed": false
   },
   "id": "2249a126374121b5"
  },
  {
   "cell_type": "code",
   "execution_count": 54,
   "outputs": [
    {
     "name": "stdout",
     "output_type": "stream",
     "text": [
      "Объем исходных файлов: 17118701 байт(а)\n",
      "Объем сжатых файлов: 15693720 байт(а)\n"
     ]
    }
   ],
   "source": [
    "from zipfile import ZipFile\n",
    "\n",
    "with ZipFile('workbook.zip') as zip_file:\n",
    "    a = zip_file.infolist()\n",
    "    # zip_file.printdir()\n",
    "    # a = zip_file.filelist\n",
    "    # a = zip_file.namelist()\n",
    "    uncompressed_size = 0\n",
    "    compressed_size = 0\n",
    "    for info in zip_file.infolist():\n",
    "        uncompressed_size += info.file_size\n",
    "        compressed_size += info.compress_size\n",
    "\n",
    "    print(f'Объем исходных файлов: {uncompressed_size} байт(а)')\n",
    "    print(f'Объем сжатых файлов: {compressed_size} байт(а)')"
   ],
   "metadata": {
    "collapsed": false,
    "ExecuteTime": {
     "end_time": "2024-10-28T05:53:36.737621500Z",
     "start_time": "2024-10-28T05:53:36.734055900Z"
    }
   },
   "id": "59ef09891e940b26"
  },
  {
   "cell_type": "markdown",
   "source": [
    "Наилучший показатель\n",
    "Вам доступен архив workbook.zip, содержащий различные папки и файлы. Напишите программу, которая выводит название файла из этого архива, который имеет наилучший показатель степени сжатия.\n",
    "\n",
    "Примечание 1. Если файл находится в папке, вывести следует только название без пути.\n",
    "\n",
    "Примечание 2. Гарантируется, что в исходном архиве только один файл имеет наилучший показатель степени сжатия.\n",
    "\n",
    "Примечание 3. Степень сжатия файла характеризуется коэффициентом K, определяемым как отношение объема сжатого файла Vc  к объему исходного файла Vo, выраженным в процентах:\n",
    "K=Vc/Vo⋅100%"
   ],
   "metadata": {
    "collapsed": false
   },
   "id": "a54cdfe549690101"
  },
  {
   "cell_type": "code",
   "execution_count": 66,
   "outputs": [
    {
     "name": "stdout",
     "output_type": "stream",
     "text": [
      "fontlist-v330.json\n"
     ]
    }
   ],
   "source": [
    "from zipfile import ZipFile\n",
    "import os\n",
    "\n",
    "with ZipFile('workbook.zip') as zip_file:\n",
    "    dic = {}\n",
    "    for info in zip_file.infolist():\n",
    "        file_compression_ratio = 100 - (info.compress_size / info.file_size * 100) if info.file_size > 0 else 0\n",
    "        # Получаем только имя файла\n",
    "        filename = os.path.basename(info.filename)\n",
    "        if file_compression_ratio:\n",
    "            dic[filename] = file_compression_ratio\n",
    "\n",
    "    print(max(dic, key=dic.get))\n",
    "    # Когда вы передаете key=dic.get в min(), это означает, что для каждого ключа (имени файла) будет вызван метод get, чтобы получить соответствующее значение (коэффициент сжатия).\n"
   ],
   "metadata": {
    "collapsed": false,
    "ExecuteTime": {
     "end_time": "2024-10-28T06:45:02.080468100Z",
     "start_time": "2024-10-28T06:45:02.076500700Z"
    }
   },
   "id": "d5071b1d7ea7a614"
  },
  {
   "cell_type": "markdown",
   "source": [
    "Избранные\n",
    "Вам доступен архив workbook.zip, содержащий различные папки и файлы. Напишите программу, которая выводит названия файлов из этого архива, которые были созданы или изменены позднее 2021-11-30 14:22:00. Названия файлов должны быть расположены в лексикографическом порядке, каждое на отдельной строке.\n",
    "\n",
    "Примечание 1. Если файл находится в папке, вывести следует только название без пути.\n",
    "\n",
    "Примечание 2. Начальная часть ответа выглядит так:\n",
    "\n",
    "countries.json\n",
    "data_sample.csv\n",
    "..."
   ],
   "metadata": {
    "collapsed": false
   },
   "id": "a3a35b2b5a7c230c"
  },
  {
   "cell_type": "code",
   "execution_count": 84,
   "outputs": [
    {
     "name": "stdout",
     "output_type": "stream",
     "text": [
      "countries.json\n",
      "data_sample.csv\n",
      "earth.jpg\n",
      "exam.txt\n",
      "fipi_demo_2022.pdf\n",
      "homework.py\n",
      "python.pdf\n",
      "readme.txt\n",
      "shopping_list.txt\n",
      "task_results.xlsx\n"
     ]
    }
   ],
   "source": [
    "from zipfile import ZipFile\n",
    "from datetime import datetime\n",
    "import os\n",
    "\n",
    "target_time = datetime(2021, 11, 30, 14, 22, 0)\n",
    "\n",
    "with ZipFile('workbook.zip') as zip_file:\n",
    "    l = []\n",
    "    for info in zip_file.infolist():\n",
    "        # Получаем только имя файла\n",
    "        filename = os.path.basename(info.filename)\n",
    "\n",
    "        file_time = datetime(*info.date_time)\n",
    "        if file_time >= target_time and info.file_size > 0:\n",
    "            l.append(filename)\n",
    "    for i in sorted(l):\n",
    "        print(i)"
   ],
   "metadata": {
    "collapsed": false,
    "ExecuteTime": {
     "end_time": "2024-10-28T07:00:49.834115500Z",
     "start_time": "2024-10-28T07:00:49.830769800Z"
    }
   },
   "id": "86fd956a61129e15"
  },
  {
   "cell_type": "code",
   "execution_count": null,
   "outputs": [],
   "source": [
    "from zipfile import ZipFile\n",
    "\n",
    "with ZipFile('workbook.zip', mode='r') as file:\n",
    "    info = file.infolist()\n",
    "    compare = (2021, 11, 30, 14, 22, 0)\n",
    "\n",
    "    result = [i.filename.split('/')[-1] for i in info if i.date_time > compare and not i.is_dir()]\n",
    "\n",
    "    print(*sorted(result), sep='\\n')"
   ],
   "metadata": {
    "collapsed": false
   },
   "id": "7c281ae281afe9a5"
  },
  {
   "cell_type": "code",
   "execution_count": null,
   "outputs": [],
   "source": [
    "from zipfile import ZipFile\n",
    "from datetime import datetime, timedelta\n",
    "\n",
    "with ZipFile('workbook.zip') as zip_file:\n",
    "    info = zip_file.infolist()\n",
    "    info = filter(lambda y: datetime(*y.date_time) > datetime(2021,\n",
    "                                                              11, 30, 14, 22, 00),\n",
    "                  filter(lambda y: not y.is_dir(), info))\n",
    "    info = sorted(map(lambda z: z.filename.split('/')[-1], info))\n",
    "    for el in info:\n",
    "        print(el)"
   ],
   "metadata": {
    "collapsed": false
   },
   "id": "b2a20d765a2da5d3"
  },
  {
   "cell_type": "markdown",
   "source": [
    "Форматированный вывод\n",
    "Вам доступен архив workbook.zip, содержащий различные папки и файлы. Напишите программу, которая выводит названия всех файлов из этого архива в лексикографическом порядке, указывая для каждого его дату изменения, а также объем до и после сжатия, в следующем формате:\n",
    "\n",
    "<название файла>\n",
    "  Дата модификации файла: <дата изменения>\n",
    "  Объем исходного файла: <объем до сжатия> байт(а)\n",
    "  Объем сжатого файла: <объем после сжатия> байт(а)\n",
    "Между данными о двух файлах должна располагаться пустая строка.\n",
    "\n",
    "Примечание 1. Если файл находится в папке, вывести следует только название без пути.\n",
    "\n",
    "Примечание 2. Начальная часть ответа выглядит так (в качестве отступов используйте два пробела):\n",
    "\n",
    "Alexandra Savior – Crying All the Time.mp3\n",
    "  Дата модификации файла: 2021-11-30 13:27:02\n",
    "  Объем исходного файла: 5057559 байт(а)\n",
    "  Объем сжатого файла: 5051745 байт(а)\n",
    "\n",
    "Hollow Knight Silksong.exe\n",
    "  Дата модификации файла: 2013-08-22 08:20:06\n",
    "  Объем исходного файла: 805992 байт(а)\n",
    "  Объем сжатого файла: 494930 байт(а)\n",
    "\n",
    "..."
   ],
   "metadata": {
    "collapsed": false
   },
   "id": "86a58c50332e9c13"
  },
  {
   "cell_type": "code",
   "execution_count": 104,
   "outputs": [
    {
     "name": "stdout",
     "output_type": "stream",
     "text": [
      "Alexandra Savior – Crying All the Time.mp3\n",
      "  Дата модификации файла: 2021-11-30 13:27:02\n",
      "  Объем исходного файла: 5057559 байт(а)\n",
      "  Объем сжатого файла: 5051745 байт(а)\n",
      "\n",
      "Hollow Knight Silksong.exe\n",
      "  Дата модификации файла: 2013-08-22 08:20:06\n",
      "  Объем исходного файла: 805992 байт(а)\n",
      "  Объем сжатого файла: 494930 байт(а)\n",
      "\n",
      "Psychonauts 2.exe\n",
      "  Дата модификации файла: 2013-08-22 08:20:06\n",
      "  Объем исходного файла: 805992 байт(а)\n",
      "  Объем сжатого файла: 494930 байт(а)\n",
      "\n",
      "code.jpeg\n",
      "  Дата модификации файла: 2021-11-30 13:18:26\n",
      "  Объем исходного файла: 412414 байт(а)\n",
      "  Объем сжатого файла: 410006 байт(а)\n",
      "\n",
      "countries.json\n",
      "  Дата модификации файла: 2021-11-30 19:42:40\n",
      "  Объем исходного файла: 22 байт(а)\n",
      "  Объем сжатого файла: 22 байт(а)\n",
      "\n",
      "data_sample.csv\n",
      "  Дата модификации файла: 2021-11-30 19:41:58\n",
      "  Объем исходного файла: 15 байт(а)\n",
      "  Объем сжатого файла: 15 байт(а)\n",
      "\n",
      "earth.jpg\n",
      "  Дата модификации файла: 2021-11-30 20:15:26\n",
      "  Объем исходного файла: 335250 байт(а)\n",
      "  Объем сжатого файла: 330037 байт(а)\n",
      "\n",
      "exam.txt\n",
      "  Дата модификации файла: 2021-11-30 20:16:44\n",
      "  Объем исходного файла: 9 байт(а)\n",
      "  Объем сжатого файла: 9 байт(а)\n",
      "\n",
      "fipi_demo_2022.pdf\n",
      "  Дата модификации файла: 2021-11-30 14:33:56\n",
      "  Объем исходного файла: 682337 байт(а)\n",
      "  Объем сжатого файла: 624606 байт(а)\n",
      "\n",
      "fontlist-v330.json\n",
      "  Дата модификации файла: 2021-11-19 10:53:12\n",
      "  Объем исходного файла: 96401 байт(а)\n",
      "  Объем сжатого файла: 4803 байт(а)\n",
      "\n",
      "homework.py\n",
      "  Дата модификации файла: 2021-11-30 14:36:06\n",
      "  Объем исходного файла: 14 байт(а)\n",
      "  Объем сжатого файла: 14 байт(а)\n",
      "\n",
      "how to prove.pdf\n",
      "  Дата модификации файла: 2021-11-30 13:27:36\n",
      "  Объем исходного файла: 660617 байт(а)\n",
      "  Объем сжатого файла: 654933 байт(а)\n",
      "\n",
      "python.pdf\n",
      "  Дата модификации файла: 2021-11-30 20:22:40\n",
      "  Объем исходного файла: 8237200 байт(а)\n",
      "  Объем сжатого файла: 7606256 байт(а)\n",
      "\n",
      "readme.txt\n",
      "  Дата модификации файла: 2021-11-30 20:16:56\n",
      "  Объем исходного файла: 14 байт(а)\n",
      "  Объем сжатого файла: 14 байт(а)\n",
      "\n",
      "shopping_list.txt\n",
      "  Дата модификации файла: 2021-11-30 14:32:44\n",
      "  Объем исходного файла: 25 байт(а)\n",
      "  Объем сжатого файла: 25 байт(а)\n",
      "\n",
      "stepik.png\n",
      "  Дата модификации файла: 2021-11-30 13:28:14\n",
      "  Объем исходного файла: 11378 байт(а)\n",
      "  Объем сжатого файла: 10294 байт(а)\n",
      "\n",
      "task_results.xlsx\n",
      "  Дата модификации файла: 2021-11-30 20:21:32\n",
      "  Объем исходного файла: 13420 байт(а)\n",
      "  Объем сжатого файла: 11039 байт(а)\n",
      "\n",
      "test.py\n",
      "  Дата модификации файла: 2021-11-30 14:09:04\n",
      "  Объем исходного файла: 42 байт(а)\n",
      "  Объем сжатого файла: 42 байт(а)\n"
     ]
    }
   ],
   "source": [
    "from zipfile import ZipFile\n",
    "import os\n",
    "from datetime import datetime\n",
    "\n",
    "with ZipFile('workbook.zip') as zip_file:\n",
    "    dic = {}\n",
    "    for info in zip_file.infolist():\n",
    "        name = os.path.basename(info.filename)\n",
    "        modified = datetime.strftime(datetime(*info.date_time), '%Y-%m-%d %H:%M:%S')\n",
    "        initial_size = info.file_size\n",
    "        compressed_size = info.compress_size\n",
    "        if not info.is_dir():\n",
    "            dic[name] = (modified, initial_size, compressed_size)\n",
    "\n",
    "    sorted_keys = sorted(dic.keys())\n",
    "    # print(dic)\n",
    "\n",
    "    for key in sorted_keys:\n",
    "        print(key)\n",
    "        print(f'  Дата модификации файла: {dic[key][0]}')\n",
    "        print(f'  Объем исходного файла: {dic[key][1]} байт(а)')\n",
    "        print(f'  Объем сжатого файла: {dic[key][2]} байт(а)')\n",
    "        print()\n"
   ],
   "metadata": {
    "collapsed": false,
    "ExecuteTime": {
     "end_time": "2024-10-28T07:29:41.076070100Z",
     "start_time": "2024-10-28T07:29:41.072350200Z"
    }
   },
   "id": "605eff684f6e07fe"
  },
  {
   "cell_type": "markdown",
   "source": [
    "Вам доступен набор различных файлов, названия которых представлены в списке file_names. Дополните приведенный ниже код, чтобы он создал архив files.zip и добавил в него все файлы из данного списка.\n",
    "\n",
    "Примечание. Считайте, что файлы из списка file_names находятся в папке с программой."
   ],
   "metadata": {
    "collapsed": false
   },
   "id": "ace90c18b5155205"
  },
  {
   "cell_type": "code",
   "execution_count": null,
   "outputs": [],
   "source": [
    "from zipfile import ZipFile\n",
    "\n",
    "file_names = ['how to prove.pdf', 'fipi_demo_2022.pdf', 'Hollow Knight Silksong.exe',\n",
    "              'code.jpeg', 'stepik.png', 'readme.txt', 'shopping_list.txt',\n",
    "              'Alexandra Savior – Crying All the Time.mp3', 'homework.py', 'test.py']\n",
    "\n",
    "with ZipFile('files.zip', mode='w') as zip_file:\n",
    "    for i in file_names:\n",
    "        zip_file.write(i)"
   ],
   "metadata": {
    "collapsed": false
   },
   "id": "50133e35e93f4745"
  },
  {
   "cell_type": "markdown",
   "source": [
    "Вам доступен набор различных файлов, названия которых представлены в списке file_names. Также вам доступен архив files.zip. Дополните приведенный ниже код, чтобы он добавил в архив files.zip только те файлы из списка file_names, объем которых не превышает 100 байт.\n",
    "\n",
    "Примечание 1. Получить объем файла в байтах позволяет функция getsize() из модуля os.path. Данная функция принимает в качестве аргумента путь к файлу и возвращает размер указанного файла в байтах.\n",
    "\n",
    "Например, вычислить объем архива files.zip в байтах и сохранить его в переменную size можно следующим образом:\n",
    "\n",
    "import os.path\n",
    "\n",
    "size = os.path.getsize('files.zip')\n",
    "Примечание 2. Вычислить объем файла в байтах можно и вручную, не прибегая к использованию сторонних модулей. Подумайте, как 😉.\n",
    "\n",
    "Примечание 3. Считайте, что файлы из списка file_names и архив files.zip находятся в папке с программой."
   ],
   "metadata": {
    "collapsed": false
   },
   "id": "4f534d29a8a2c05e"
  },
  {
   "cell_type": "code",
   "execution_count": null,
   "outputs": [],
   "source": [
    "from zipfile import ZipFile\n",
    "import os\n",
    "\n",
    "file_names = ['how to prove.pdf', 'fipi_demo_2022.pdf', 'Hollow Knight Silksong.exe',\n",
    "              'code.jpeg', 'stepik.png', 'readme.txt', 'shopping_list.txt',\n",
    "              'Alexandra Savior – Crying All the Time.mp3', 'homework.py', 'test.py']\n",
    "\n",
    "new_list = []\n",
    "with ZipFile('files.zip', mode='w') as zip_file:\n",
    "    for item in file_names:\n",
    "        size = os.path.getsize(item)\n",
    "        if size < 100:\n",
    "            zip_file.write(item)"
   ],
   "metadata": {
    "collapsed": false
   },
   "id": "37158a45f4548ad0"
  },
  {
   "cell_type": "code",
   "execution_count": null,
   "outputs": [],
   "source": [
    "from zipfile import ZipFile\n",
    "import os.path\n",
    "\n",
    "file_names = ['how to prove.pdf', 'fipi_demo_2022.pdf', 'Hollow Knight Silksong.exe',\n",
    "              'code.jpeg', 'stepik.png', 'readme.txt', 'shopping_list.txt',\n",
    "              'Alexandra Savior – Crying All the Time.mp3', 'homework.py', 'test.py']\n",
    "\n",
    "with ZipFile('files.zip', 'a') as zip_file:\n",
    "    [zip_file.write(i) for i in file_names if os.path.getsize(i) <= 100]"
   ],
   "metadata": {
    "collapsed": false
   },
   "id": "d426b18e14d2f7eb"
  },
  {
   "cell_type": "markdown",
   "source": [
    "Функция extract_this()\n",
    "Реализуйте функцию extract_this(), которая принимает один или более аргументов в следующем порядке:\n",
    "\n",
    "zip_name — название zip архива, например, data.zip\n",
    "*args — переменное количество позиционных аргументов, каждый из которых является названием некоторого файла\n",
    "Функция должна извлекать файлы *args из архива zip_name в папку с программой. Если в функцию не передано ни одного названия файла для извлечения, то функция должна извлечь все файлы из архива.\n",
    "\n",
    "Примечание 1. Например, следующий вызов функции\n",
    "\n",
    "extract_this('workbook.zip', 'earth.jpg', 'exam.txt')\n",
    "должен извлечь из архива workbook.zip файлы earth.jpg и exam.txt в папку с программой.\n",
    "\n",
    "Вызов функции\n",
    "\n",
    "extract_this('workbook.zip')\n",
    "должен извлечь из архива workbook.zip все файлы в папку с программой.\n",
    "\n",
    "Примечание 2. В тестирующую систему сдайте программу, содержащую только необходимую функцию extract_this(), но не код, вызывающий ее."
   ],
   "metadata": {
    "collapsed": false
   },
   "id": "410449b342acac3e"
  },
  {
   "cell_type": "code",
   "execution_count": null,
   "outputs": [],
   "source": [
    "from zipfile import ZipFile\n",
    "\n",
    "\n",
    "def extract_this(zip_name: str, *args: str) -> None:\n",
    "    with ZipFile(zip_name) as zip_file:\n",
    "        if len(args) == 0:\n",
    "            zip_file.extractall()\n",
    "        else:\n",
    "            for i in args:\n",
    "                zip_file.extract(i)"
   ],
   "metadata": {
    "collapsed": false
   },
   "id": "31aac26669f7605e"
  },
  {
   "cell_type": "code",
   "execution_count": null,
   "outputs": [],
   "source": [
    "from zipfile import ZipFile\n",
    "\n",
    "\n",
    "def extract_this(zip_name: str, *args):\n",
    "    if not args:\n",
    "        args = None\n",
    "    with ZipFile(zip_name) as zf:\n",
    "        zf.extractall(members=args)"
   ],
   "metadata": {
    "collapsed": false
   },
   "id": "420d3fd31fd29cd6"
  },
  {
   "cell_type": "markdown",
   "source": [
    "Шахматы были лучше 🌶️\n",
    "Вам доступен архив data.zip, содержащий различные папки и файлы. Среди них есть несколько JSON файлов, каждый из которых содержит информацию о каком-либо футболисте:\n",
    "\n",
    "{\n",
    "   \"first_name\": \"Gary\",\n",
    "   \"last_name\": \"Cahill\",\n",
    "   \"team\": \"Chelsea\",\n",
    "   \"position\": \"Defender\"\n",
    "}\n",
    "У футболиста имеются следующие атрибуты: \n",
    "\n",
    "first_name — имя\n",
    "last_name — фамилия\n",
    "team — название футбольного клуба\n",
    "position — игровая позиция\n",
    "Напишите программу, которая обрабатывает только данные JSON файлы и выводит имена и фамилии футболистов, выступающих за футбольный клуб Arsenal. Футболисты должны быть расположены в лексикографическом порядке имен, а при совпадении — в лексикографическом порядке фамилий, каждый на отдельной строке.\n",
    "\n",
    "Примечание 1. Обратите внимание, что наличие у файла расширения .json не гарантирует, что он является корректным текстовым файлом в формате JSON. Для того чтобы определить, является ли файл корректным текстовым файлом в формате JSON, воспользуйтесь конструкцией try-except и функцией is_correct_json() из предыдущего урока.\n",
    "\n",
    "Примечание 2. Начальная часть ответа выглядит так:\n",
    "\n",
    "Alex Iwobi\n",
    "Alexis Sanchez\n",
    "..."
   ],
   "metadata": {
    "collapsed": false
   },
   "id": "ad632374348df01c"
  },
  {
   "cell_type": "code",
   "execution_count": 187,
   "outputs": [
    {
     "name": "stdout",
     "output_type": "stream",
     "text": [
      "Alex Iwobi\n",
      "Alexis Sanchez\n",
      "Hector Bellerin\n",
      "Laurent Koscielny\n",
      "Mesut Ozil\n",
      "Olivier Giroud\n",
      "Petr Cech\n",
      "Theo Walcott\n"
     ]
    }
   ],
   "source": [
    "import json\n",
    "from zipfile import ZipFile\n",
    "import os\n",
    "from io import TextIOWrapper\n",
    "\n",
    "\n",
    "def is_correct_json(file: TextIOWrapper) -> bool:\n",
    "    \"\"\"\n",
    "    Проверяет, является ли содержимое файла корректным JSON.\n",
    "    \n",
    "    :param file: Файл, который нужно проверить.\n",
    "    :return: True, если файл является корректным JSON, иначе False.\n",
    "    \"\"\"\n",
    "    try:\n",
    "        json.load(file)\n",
    "        return True\n",
    "    except ValueError:\n",
    "        return False\n",
    "\n",
    "\n",
    "l = []\n",
    "dic = {}\n",
    "with ZipFile('data.zip') as zip_file:\n",
    "    for item in zip_file.infolist():\n",
    "        name = os.path.basename(item.filename)\n",
    "        if not item.is_dir() and name.split('.')[-1] == 'json':\n",
    "            # print(name)\n",
    "            with zip_file.open(item) as file:\n",
    "                if is_correct_json(file):\n",
    "                    with open(zip_file.extract(item)) as f:\n",
    "                        data = json.load(f)\n",
    "                        # print(data)\n",
    "                        if data['team'] == 'Arsenal':\n",
    "                            dic[name] = (data['first_name'], data['last_name'])\n",
    "\n",
    "dic_list = sorted(dic.values(), key=lambda x: (x[0], x[1]))\n",
    "# print(dic_list)\n",
    "for item in dic_list:\n",
    "    print(item[0], item[1])"
   ],
   "metadata": {
    "collapsed": false,
    "ExecuteTime": {
     "end_time": "2024-10-28T13:25:10.105531100Z",
     "start_time": "2024-10-28T13:25:10.042423Z"
    }
   },
   "id": "1eeab36a39e2d8a2"
  },
  {
   "cell_type": "markdown",
   "source": [
    "Структура архива 🌶️🌶️\n",
    "Вам доступен архив desktop.zip, содержащий различные папки и файлы. Напишите программу, которая выводит его файловую структуру и объем каждого файла.\n",
    "\n",
    "Формат входных данных\n",
    "На вход программе ничего не подается.\n",
    "\n",
    "Формат выходных данных\n",
    "Программа должна вывести файловую структуру архива desktop.zip и объем каждого файла в несжатом виде. Так как архив имеет собственную иерархию папок, каждый уровень вложенности должен быть выделен двумя пробелами.\n",
    "\n",
    "Примечание 1. Вывод на примере архива test.zip из конспекта:\n",
    "\n",
    "test\n",
    "  Картинки\n",
    "    1.jpg 88 KB\n",
    "    avatar.png 19 KB\n",
    "    certificate.png 43 KB\n",
    "    py.png 33 KB\n",
    "    World_Time_Zones_Map.png 2 MB\n",
    "    Снимок экрана.png 11 KB\n",
    "  Неравенства.djvu 5 MB\n",
    "  Программы\n",
    "    image_util.py 5 KB\n",
    "    sort.py 61 B\n",
    "  Разные файлы\n",
    "    astros.json 505 B\n",
    "Примечание 2. Объем файла записывается в самых крупных единицах измерения с округлением до целых.\n",
    "\n",
    "Примечание 3. Значения единиц измерения такие же, какие приняты в информатике:\n",
    "\n",
    "1 KB = 1024 B\n",
    "1 MB = 1024 KB\n",
    "1 GB = 1024 MB"
   ],
   "metadata": {
    "collapsed": false
   },
   "id": "3ed391b75cdd672c"
  },
  {
   "cell_type": "code",
   "execution_count": 255,
   "outputs": [
    {
     "name": "stdout",
     "output_type": "stream",
     "text": [
      "fun\n",
      "  movies\n",
      "  songs\n",
      "    Alexandra Savior Crying All the Time.mp3 5 MB\n",
      "games\n",
      "  not released\n",
      "    Hollow Knight Silksong.exe 787 KB\n",
      "  Psychonauts 2.exe 787 KB\n",
      "images\n",
      "  code.jpeg 403 KB\n",
      "  stepik.png 11 KB\n",
      "studying\n",
      "  books\n",
      "    how to prove.pdf 645 KB\n",
      "  data_sets\n",
      "    countries.json 22 B\n",
      "    data_sample.csv 15 B\n",
      "    fonts\n",
      "      fontlist-v330.json 94 KB\n",
      "    readme.txt 14 B\n",
      "    task_results.xlsx 13 KB\n",
      "  exam.txt 9 B\n",
      "  fipi_demo_2022.pdf 666 KB\n",
      "  homework.py 14 B\n",
      "earth.jpg 327 KB\n",
      "python.pdf 8 MB\n",
      "shopping_list.txt 25 B\n",
      "test.py 42 B\n"
     ]
    }
   ],
   "source": [
    "from zipfile import ZipFile\n",
    "import os\n",
    "\n",
    "\n",
    "def format_file_size(size_in_bytes: int) -> str:\n",
    "    \"\"\"\n",
    "    Преобразует размер файла из байтов в более крупные единицы измерения (KB, MB, GB),\n",
    "    округляя результат до целого числа.\n",
    "\n",
    "    :param size_in_bytes: Размер файла в байтах.\n",
    "    :return: Строка с размером файла и соответствующей единицей измерения.\n",
    "    \"\"\"\n",
    "    if size_in_bytes < 0:\n",
    "        raise ValueError(\"Размер файла не может быть отрицательным.\")\n",
    "\n",
    "    # Определяем единицы измерения\n",
    "    units = [\"B\", \"KB\", \"MB\", \"GB\"]\n",
    "\n",
    "    # Начинаем с байтов\n",
    "    size = size_in_bytes\n",
    "    unit_index = 0\n",
    "\n",
    "    # Делим на 1024 до тех пор, пока размер не станет меньше 1024\n",
    "    while size >= 1024 and unit_index < len(units) - 1:\n",
    "        size /= 1024\n",
    "        unit_index += 1\n",
    "\n",
    "    # Округляем и возвращаем результат\n",
    "    return f\"{round(size)} {units[unit_index]}\"\n",
    "\n",
    "with ZipFile('desktop.zip') as zip_file:\n",
    "    for item in zip_file.infolist():\n",
    "        file_name = os.path.basename(item.filename)\n",
    "        if item.is_dir():\n",
    "            folder_name = item.filename.split('/')[-2]\n",
    "            division = len(item.orig_filename.split('/')) - 2\n",
    "            # print(division)\n",
    "            print(f'{division * \"  \"}{folder_name}')\n",
    "        else:\n",
    "            division = len(item.orig_filename.split('/')) - 1\n",
    "            # print(division)\n",
    "            # print(item.orig_filename.split('/'))\n",
    "            print(f'{division * \"  \"}{file_name} {format_file_size(item.file_size)}')"
   ],
   "metadata": {
    "collapsed": false,
    "ExecuteTime": {
     "end_time": "2024-10-29T06:19:01.811900800Z",
     "start_time": "2024-10-29T06:19:01.805715700Z"
    }
   },
   "id": "f48edd1fe05d91a"
  }
 ],
 "metadata": {
  "kernelspec": {
   "display_name": "Python 3",
   "language": "python",
   "name": "python3"
  },
  "language_info": {
   "codemirror_mode": {
    "name": "ipython",
    "version": 2
   },
   "file_extension": ".py",
   "mimetype": "text/x-python",
   "name": "python",
   "nbconvert_exporter": "python",
   "pygments_lexer": "ipython2",
   "version": "2.7.6"
  }
 },
 "nbformat": 4,
 "nbformat_minor": 5
}

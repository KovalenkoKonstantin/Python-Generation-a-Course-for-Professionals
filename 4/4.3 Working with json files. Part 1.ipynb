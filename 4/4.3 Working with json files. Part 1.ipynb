{
 "cells": [
  {
   "cell_type": "markdown",
   "source": [
    "Тема урока: работа с json файлами\n",
    "Формат данных json\n",
    "Модуль json\n",
    "Аннотация. Урок посвящен работе с файлами в формате json."
   ],
   "metadata": {
    "collapsed": false
   },
   "id": "168dadf28efe6f8f"
  },
  {
   "cell_type": "markdown",
   "source": [
    "Формат json"
   ],
   "metadata": {
    "collapsed": false
   },
   "id": "2b6d4cab407d795e"
  },
  {
   "cell_type": "markdown",
   "source": [
    "JSON (англ. JavaScript Object Notation) — текстовый формат обмена данными, основанный на языке программирования JavaScript. Как и многие другие текстовые форматы, JSON легко читается людьми. Несмотря на происхождение от JavaScript, формат считается независимым от языка и может использоваться практически с любым языком программирования."
   ],
   "metadata": {
    "collapsed": false
   },
   "id": "1c2bab021148ab01"
  },
  {
   "cell_type": "markdown",
   "source": [
    "За счёт своей лаконичности формат JSON отлично подходит для сериализации сложных структур."
   ],
   "metadata": {
    "collapsed": false
   },
   "id": "8b6129b723abc504"
  },
  {
   "cell_type": "markdown",
   "source": [
    "Синтаксис json формата"
   ],
   "metadata": {
    "collapsed": false
   },
   "id": "174da2fa339339d4"
  },
  {
   "cell_type": "markdown",
   "source": [
    "В отличие от формата csv, данные в формате json не просто разделены запятыми, а чаще всего имеют структуру ключ-значение. Это напоминает словарь Python, но в отличие от словаря, ключи в json могут быть только строками, заключенными в двойные кавычки:"
   ],
   "metadata": {
    "collapsed": false
   },
   "id": "76d29796b683db94"
  },
  {
   "cell_type": "code",
   "execution_count": null,
   "outputs": [],
   "source": [
    "{\n",
    "   \"firstName\": \"Тимур\",\n",
    "   \"lastName\": \"Гуев\",\n",
    "   \"gender\": \"мужской\"\n",
    "}"
   ],
   "metadata": {
    "collapsed": false
   },
   "id": "15343cfbeab855bb"
  },
  {
   "cell_type": "markdown",
   "source": [
    "Значениями в json формате могут быть не только строки. Это могут быть числа, списки значений, литералы true/false/null, а также вложенные объекты:"
   ],
   "metadata": {
    "collapsed": false
   },
   "id": "a8b154e0b612ab43"
  },
  {
   "cell_type": "code",
   "execution_count": null,
   "outputs": [],
   "source": [
    "{\n",
    "   \"firstName\": \"Тимур\",\n",
    "   \"lastName\": \"Гуев\",\n",
    "   \"age\": 29,\n",
    "   \"gender\": \"мужской\",\n",
    "   \"smoke\": false,\n",
    "   \"address\": {\n",
    "       \"streetAddress\": \"Часовая 25, кв. 127\",\n",
    "       \"city\": \"Москва\",\n",
    "       \"postalCode\": 125315\n",
    "   },\n",
    "   \"phoneNumbers\": [\"+7 (919) 424-84-34\", \"+7 (916) 928-92-34\"]\n",
    "}"
   ],
   "metadata": {
    "collapsed": false
   },
   "id": "cec36c9738537513"
  },
  {
   "cell_type": "markdown",
   "source": [
    "Списки значений, как видно из примера, напоминают списки Python. Они ограничены квадратными скобками, а значения списка указываются через запятую."
   ],
   "metadata": {
    "collapsed": false
   },
   "id": "6d741a93a3c4a09a"
  },
  {
   "cell_type": "markdown",
   "source": [
    "Вложенность данных может быть бесконечной. То есть значением ключа может быть список, а элементом этого списка — объект и т.д."
   ],
   "metadata": {
    "collapsed": false
   },
   "id": "ebcde6255228027a"
  },
  {
   "cell_type": "markdown",
   "source": [
    "Обратите внимание на то, что переносы строк и отступы в формате json необязательны. Они нужны только для удобства чтения. Таким образом, с точки зрения формата json следующие данные:"
   ],
   "metadata": {
    "collapsed": false
   },
   "id": "1be8ee977f2f58d0"
  },
  {
   "cell_type": "code",
   "execution_count": null,
   "outputs": [],
   "source": [
    "{\n",
    "   \"firstName\": \"Тимур\",\n",
    "   \"lastName\": \"Гуев\",\n",
    "   \"gender\": \"мужской\"\n",
    "}"
   ],
   "metadata": {
    "collapsed": false
   },
   "id": "5108cfbac998d11d"
  },
  {
   "cell_type": "markdown",
   "source": [
    "и эти данные:"
   ],
   "metadata": {
    "collapsed": false
   },
   "id": "992a60d102ba9ca"
  },
  {
   "cell_type": "code",
   "execution_count": null,
   "outputs": [],
   "source": [
    "{\"firstName\": \"Тимур\", \"lastName\": \"Гуев\", \"gender\": \"мужской\"}"
   ],
   "metadata": {
    "collapsed": false
   },
   "id": "acbfcd79f9b8df77"
  },
  {
   "cell_type": "markdown",
   "source": [
    "совершенно одинаковые."
   ],
   "metadata": {
    "collapsed": false
   },
   "id": "882fd130274d12d7"
  },
  {
   "cell_type": "markdown",
   "source": [
    "Обратите внимание, в формате JSON используются только двойные кавычки."
   ],
   "metadata": {
    "collapsed": false
   },
   "id": "1e7ca0d6bfd5a091"
  },
  {
   "cell_type": "markdown",
   "source": [
    "Итак, в качестве значений в JSON могут быть использованы:\n",
    "\n",
    "число (целое или вещественное)\n",
    "литералы true (истина), false (ложь), null (отсутствие значения)\n",
    "строка (последовательность символов, заключенная в двойные кавычки)\n",
    "список (заключается в квадратные скобки [ ], значения разделяются запятыми). Список может быть пустым, значения в пределах одного списка могут иметь разный тип\n",
    "вложенный объект (неупорядоченное множество пар ключ: значение, заключённое в фигурные скобки { }). Ключ описывается строкой, между ним и значением стоит символ :. Пары ключ-значение отделяются друг от друга запятыми."
   ],
   "metadata": {
    "collapsed": false
   },
   "id": "22cc01b33bf0b9b9"
  },
  {
   "cell_type": "markdown",
   "source": [
    "Пробелы могут быть вставлены между любыми двумя синтаксическими элементами."
   ],
   "metadata": {
    "collapsed": false
   },
   "id": "3e4a150b530c0d72"
  },
  {
   "cell_type": "markdown",
   "source": [
    "Следующий пример показывает JSON-представление данных об объекте, описывающем человека. В данных присутствуют строковые поля имени и фамилии, информация об адресе (вложенный объект) и список телефонов."
   ],
   "metadata": {
    "collapsed": false
   },
   "id": "a6777c5106ba7b03"
  },
  {
   "cell_type": "code",
   "execution_count": null,
   "outputs": [],
   "source": [
    "{\n",
    "   \"firstName\": \"Тимур\",\n",
    "   \"lastName\": \"Гуев\",\n",
    "   \"address\": {\n",
    "       \"streetAddress\": \"Часовая 25, кв. 127\",\n",
    "       \"city\": \"Москва\",\n",
    "       \"postalCode\": 125315\n",
    "   },\n",
    "   \"phoneNumbers\": [\"+7 (919) 424-84-34\", \"+7 (916) 928-92-34\"]\n",
    "}"
   ],
   "metadata": {
    "collapsed": false
   },
   "id": "20c1c350ec760286"
  },
  {
   "cell_type": "markdown",
   "source": [
    "Обратите внимание на пару \"postalCode\": 125315. В качестве значений в JSON могут быть использованы как числа, так и строки. Поэтому запись \"postalCode\": \"125315\" содержит строку, а \"postalCode\": 125315 — уже числовое значение."
   ],
   "metadata": {
    "collapsed": false
   },
   "id": "463e357c21e6ea11"
  },
  {
   "cell_type": "markdown",
   "source": [
    "JSON — это текстовый формат, который может быть представлен не только в виде пар ключ-значение. Он так же может содержать список, строку, число и т.д. Но чаще всего используется структура ключ-значение."
   ],
   "metadata": {
    "collapsed": false
   },
   "id": "3c57774ef11d4f7"
  },
  {
   "cell_type": "markdown",
   "source": [
    "Модуль json"
   ],
   "metadata": {
    "collapsed": false
   },
   "id": "62850b0a742896d5"
  },
  {
   "cell_type": "markdown",
   "source": [
    "Преобразование переменных программы (Python-объектов) в формат для хранения называется «сериализацией», а обратное преобразование — «десериализацией». В Python для сериализации и десериализации в формат json есть модуль, который так и называется — json."
   ],
   "metadata": {
    "collapsed": false
   },
   "id": "6fc050a18f30674f"
  },
  {
   "cell_type": "markdown",
   "source": [
    "Функция dumps()"
   ],
   "metadata": {
    "collapsed": false
   },
   "id": "a9cab2c9227de4f0"
  },
  {
   "cell_type": "markdown",
   "source": [
    "Для сериализации данных в json строку используется функция dumps() из модуля json. Для того, чтобы сериализовать данные с ее помощью, достаточно передать в нее аргументом любой сериализуемый Python объект. "
   ],
   "metadata": {
    "collapsed": false
   },
   "id": "19b8f33ece9ff569"
  },
  {
   "cell_type": "markdown",
   "source": [
    "Так как json — текстовый формат, то сериализация в него — это по сути преобразование данных в строку."
   ],
   "metadata": {
    "collapsed": false
   },
   "id": "8014d77cd069289c"
  },
  {
   "cell_type": "code",
   "execution_count": 1,
   "outputs": [
    {
     "name": "stdout",
     "output_type": "stream",
     "text": [
      "<class 'str'>\n",
      "{\"name\": \"Russia\", \"phone_code\": 7, \"capital\": \"Moscow\", \"currency\": \"RUB\"}\n"
     ]
    }
   ],
   "source": [
    "import json\n",
    "\n",
    "data = {'name': 'Russia', 'phone_code': 7, 'capital': 'Moscow', 'currency': 'RUB'}\n",
    "\n",
    "json_data = json.dumps(data)            # сериализуем словарь data в json строку\n",
    "\n",
    "print(type(json_data))\n",
    "print(json_data)"
   ],
   "metadata": {
    "collapsed": false,
    "ExecuteTime": {
     "end_time": "2024-10-07T06:03:22.397434500Z",
     "start_time": "2024-10-07T06:03:22.389284300Z"
    }
   },
   "id": "39359bd0776934cb"
  },
  {
   "cell_type": "markdown",
   "source": [
    "Обратите внимание на кавычки, независимо от того, что в Python-словаре мы использовали одинарные, в результирующую строку всегда попадают двойные."
   ],
   "metadata": {
    "collapsed": false
   },
   "id": "6567015193530ea0"
  },
  {
   "cell_type": "markdown",
   "source": [
    "Функция dump()"
   ],
   "metadata": {
    "collapsed": false
   },
   "id": "758267b67f812929"
  },
  {
   "cell_type": "markdown",
   "source": [
    "В отличие от функции dumps(), которая преобразует (сериализует) Python объект в json строку, функция dump() записывает переданный Python объект в файл."
   ],
   "metadata": {
    "collapsed": false
   },
   "id": "c6b001f96b2857f5"
  },
  {
   "cell_type": "code",
   "execution_count": 2,
   "outputs": [],
   "source": [
    "import json\n",
    "\n",
    "data = {'name': 'Russia', 'phone_code': 7, 'capital': 'Moscow', 'currency': 'RUB'}\n",
    "\n",
    "with open('countries.json', 'w') as file:\n",
    "    json.dump(data, file)"
   ],
   "metadata": {
    "collapsed": false,
    "ExecuteTime": {
     "end_time": "2024-10-07T06:05:12.148123400Z",
     "start_time": "2024-10-07T06:05:12.143179500Z"
    }
   },
   "id": "8929fa12a9876708"
  },
  {
   "cell_type": "markdown",
   "source": [
    "создает файл countries.json и сохраняет в него информацию из словаря data в json формате.\n",
    "\n",
    "Если открыть файл countries.json, мы увидим, что json выведен в одну строку без форматирования:"
   ],
   "metadata": {
    "collapsed": false
   },
   "id": "42ee2266582e0faa"
  },
  {
   "cell_type": "code",
   "execution_count": null,
   "outputs": [],
   "source": [
    "{\"name\": \"Russia\", \"phone_code\": 7, \"capital\": \"Moscow\", \"currency\": \"RUB\"}"
   ],
   "metadata": {
    "collapsed": false
   },
   "id": "288a5534ecb2e227"
  },
  {
   "cell_type": "markdown",
   "source": [
    "Необязательные аргументы indent, sort_keys и separators"
   ],
   "metadata": {
    "collapsed": false
   },
   "id": "2648280dffdbcd73"
  },
  {
   "cell_type": "markdown",
   "source": [
    "Функции записи dumps() и dump() имеют необязательные аргументы indent, sort_keys и separators, которые можно использовать для более удобного чтения человеком."
   ],
   "metadata": {
    "collapsed": false
   },
   "id": "a9659aa990436d78"
  },
  {
   "cell_type": "markdown",
   "source": [
    "Аргумент indent задает отступ от левого края. По умолчанию имеет значение None для более компактного представления без отступов."
   ],
   "metadata": {
    "collapsed": false
   },
   "id": "64aec187ae4b850b"
  },
  {
   "cell_type": "code",
   "execution_count": 3,
   "outputs": [
    {
     "name": "stdout",
     "output_type": "stream",
     "text": [
      "{\n",
      "  \"name\": \"Russia\",\n",
      "  \"phone_code\": 7,\n",
      "  \"capital\": \"Moscow\",\n",
      "  \"currency\": \"RUB\"\n",
      "}\n",
      "{\n",
      "          \"name\": \"Russia\",\n",
      "          \"phone_code\": 7,\n",
      "          \"capital\": \"Moscow\",\n",
      "          \"currency\": \"RUB\"\n",
      "}\n"
     ]
    }
   ],
   "source": [
    "import json\n",
    "\n",
    "data = {'name': 'Russia', 'phone_code': 7, 'capital': 'Moscow', 'currency': 'RUB'}\n",
    "\n",
    "json_data1 = json.dumps(data, indent=2)\n",
    "json_data2 = json.dumps(data, indent=10)\n",
    "\n",
    "print(json_data1)\n",
    "print(json_data2)"
   ],
   "metadata": {
    "collapsed": false,
    "ExecuteTime": {
     "end_time": "2024-10-07T06:07:45.744232900Z",
     "start_time": "2024-10-07T06:07:45.736698700Z"
    }
   },
   "id": "a1d11723ed292eef"
  },
  {
   "cell_type": "markdown",
   "source": [
    "Если значением indent является строка, то она используется в качестве отступа."
   ],
   "metadata": {
    "collapsed": false
   },
   "id": "665a01adc170c60c"
  },
  {
   "cell_type": "code",
   "execution_count": 4,
   "outputs": [
    {
     "name": "stdout",
     "output_type": "stream",
     "text": [
      "{\n",
      "++++\"name\": \"Russia\",\n",
      "++++\"phone_code\": 7,\n",
      "++++\"capital\": \"Moscow\",\n",
      "++++\"currency\": \"RUB\"\n",
      "}\n"
     ]
    }
   ],
   "source": [
    "import json\n",
    "\n",
    "data = {'name': 'Russia', 'phone_code': 7, 'capital': 'Moscow', 'currency': 'RUB'}\n",
    "\n",
    "json_data = json.dumps(data, indent='++++')\n",
    "\n",
    "print(json_data)"
   ],
   "metadata": {
    "collapsed": false,
    "ExecuteTime": {
     "end_time": "2024-10-07T06:08:25.118134700Z",
     "start_time": "2024-10-07T06:08:25.116618200Z"
    }
   },
   "id": "befe109cee3c6d23"
  },
  {
   "cell_type": "markdown",
   "source": [
    "Отступов также не будет, если значение аргумента indent равно 0, отрицательному числу или пустой строке."
   ],
   "metadata": {
    "collapsed": false
   },
   "id": "357c542ffa197b3f"
  },
  {
   "cell_type": "markdown",
   "source": [
    "Аргумент sort_keys задает сортировку ключей в результирующем json. По умолчанию имеет значение False для более быстрого создания json. Если установить значение аргумента в True, то ключи будут отсортированы в алфавитном порядке, что особенно удобно, когда ключей много."
   ],
   "metadata": {
    "collapsed": false
   },
   "id": "9e35e4ccc3c18300"
  },
  {
   "cell_type": "code",
   "execution_count": 5,
   "outputs": [
    {
     "name": "stdout",
     "output_type": "stream",
     "text": [
      "{\n",
      "   \"name\": \"Russia\",\n",
      "   \"phone_code\": 7,\n",
      "   \"capital\": \"Moscow\",\n",
      "   \"currency\": \"RUB\"\n",
      "}\n",
      "{\n",
      "   \"capital\": \"Moscow\",\n",
      "   \"currency\": \"RUB\",\n",
      "   \"name\": \"Russia\",\n",
      "   \"phone_code\": 7\n",
      "}\n"
     ]
    }
   ],
   "source": [
    "import json\n",
    "\n",
    "data = {'name': 'Russia', 'phone_code': 7, 'capital': 'Moscow', 'currency': 'RUB'}\n",
    "\n",
    "json_data1 = json.dumps(data, indent=3)\n",
    "json_data2 = json.dumps(data, indent=3, sort_keys=True)\n",
    "\n",
    "print(json_data1)\n",
    "print(json_data2)"
   ],
   "metadata": {
    "collapsed": false,
    "ExecuteTime": {
     "end_time": "2024-10-07T06:21:57.339944Z",
     "start_time": "2024-10-07T06:21:57.333424400Z"
    }
   },
   "id": "5fc4593f06ec320b"
  },
  {
   "cell_type": "markdown",
   "source": [
    "Аргумент separators задает кортеж, состоящий из двух элементов (item_separator, key_separator), которые представляют разделители для элементов и ключей.  По умолчанию аргумент имеет значение (', ', ': ')."
   ],
   "metadata": {
    "collapsed": false
   },
   "id": "99af6556f51728d"
  },
  {
   "cell_type": "code",
   "execution_count": 6,
   "outputs": [
    {
     "name": "stdout",
     "output_type": "stream",
     "text": [
      "{\n",
      "   \"name\" = \"Russia\";\n",
      "   \"phone_code\" = 7;\n",
      "   \"capital\" = \"Moscow\";\n",
      "   \"currency\" = \"RUB\"\n",
      "}\n"
     ]
    }
   ],
   "source": [
    "import json\n",
    "\n",
    "data = {'name': 'Russia', 'phone_code': 7, 'capital': 'Moscow', 'currency': 'RUB'}\n",
    "\n",
    "json_data = json.dumps(data, indent=3, separators=(';', ' = '))\n",
    "\n",
    "print(json_data)"
   ],
   "metadata": {
    "collapsed": false,
    "ExecuteTime": {
     "end_time": "2024-10-07T06:23:23.671083500Z",
     "start_time": "2024-10-07T06:23:23.668269500Z"
    }
   },
   "id": "ea51d20c3f1253ac"
  },
  {
   "cell_type": "markdown",
   "source": [
    "Функция loads()"
   ],
   "metadata": {
    "collapsed": false
   },
   "id": "e6b9610c66b70d8c"
  },
  {
   "cell_type": "markdown",
   "source": [
    "Для десериализации данных нужно использовать функцию loads(). Ее аргумент — это строка с данными в формате json"
   ],
   "metadata": {
    "collapsed": false
   },
   "id": "71cd9854f0bd4db"
  },
  {
   "cell_type": "code",
   "execution_count": 7,
   "outputs": [
    {
     "name": "stdout",
     "output_type": "stream",
     "text": [
      "<class 'dict'>\n",
      "{'name': 'Russia', 'phone_code': 7, 'capital': 'Moscow', 'currency': 'RUB'}\n"
     ]
    }
   ],
   "source": [
    "import json\n",
    "\n",
    "json_data = '{\"name\": \"Russia\", \"phone_code\": 7, \"capital\": \"Moscow\", \"currency\": \"RUB\"}'\n",
    "\n",
    "data = json.loads(json_data)\n",
    "print(type(data))\n",
    "print(data)"
   ],
   "metadata": {
    "collapsed": false,
    "ExecuteTime": {
     "end_time": "2024-10-07T06:27:22.257189500Z",
     "start_time": "2024-10-07T06:27:22.254883600Z"
    }
   },
   "id": "77dd5deee2ec2874"
  },
  {
   "cell_type": "markdown",
   "source": [
    "Как видно из примера, функция loads() десериализует json строку в словарь."
   ],
   "metadata": {
    "collapsed": false
   },
   "id": "368843e25d02e33b"
  },
  {
   "cell_type": "markdown",
   "source": [
    "В случае если строка для десериализации содержит данные с ошибкой, то модуль json не сможет правильно прочитать такую строку, и программа завершится с ошибкой."
   ],
   "metadata": {
    "collapsed": false
   },
   "id": "cf7843e44447be15"
  },
  {
   "cell_type": "code",
   "execution_count": 12,
   "outputs": [
    {
     "ename": "JSONDecodeError",
     "evalue": "Expecting value: line 1 column 9 (char 8)",
     "output_type": "error",
     "traceback": [
      "\u001B[1;31m---------------------------------------------------------------------------\u001B[0m",
      "\u001B[1;31mJSONDecodeError\u001B[0m                           Traceback (most recent call last)",
      "Cell \u001B[1;32mIn[12], line 5\u001B[0m\n\u001B[0;32m      1\u001B[0m \u001B[38;5;28;01mimport\u001B[39;00m \u001B[38;5;21;01mjson\u001B[39;00m\n\u001B[0;32m      3\u001B[0m json_data \u001B[38;5;241m=\u001B[39m \u001B[38;5;124m'\u001B[39m\u001B[38;5;124m{\u001B[39m\u001B[38;5;124m\"\u001B[39m\u001B[38;5;124mname\u001B[39m\u001B[38;5;124m\"\u001B[39m\u001B[38;5;124m:, \u001B[39m\u001B[38;5;124m\"\u001B[39m\u001B[38;5;124mRussia\u001B[39m\u001B[38;5;124m\"\u001B[39m\u001B[38;5;124m, \u001B[39m\u001B[38;5;124m\"\u001B[39m\u001B[38;5;124mphone_code\u001B[39m\u001B[38;5;124m\"\u001B[39m\u001B[38;5;124m: 7, \u001B[39m\u001B[38;5;124m\"\u001B[39m\u001B[38;5;124mcapital\u001B[39m\u001B[38;5;124m\"\u001B[39m\u001B[38;5;124m: \u001B[39m\u001B[38;5;124m\"\u001B[39m\u001B[38;5;124mMoscow\u001B[39m\u001B[38;5;124m\"\u001B[39m\u001B[38;5;124m, \u001B[39m\u001B[38;5;124m\"\u001B[39m\u001B[38;5;124mcurrency\u001B[39m\u001B[38;5;124m\"\u001B[39m\u001B[38;5;124m: \u001B[39m\u001B[38;5;124m\"\u001B[39m\u001B[38;5;124mRUB\u001B[39m\u001B[38;5;124m\"\u001B[39m\u001B[38;5;124m}\u001B[39m\u001B[38;5;124m'\u001B[39m  \u001B[38;5;66;03m# строка\u001B[39;00m\n\u001B[1;32m----> 5\u001B[0m data \u001B[38;5;241m=\u001B[39m \u001B[43mjson\u001B[49m\u001B[38;5;241;43m.\u001B[39;49m\u001B[43mloads\u001B[49m\u001B[43m(\u001B[49m\u001B[43mjson_data\u001B[49m\u001B[43m)\u001B[49m\n\u001B[0;32m      6\u001B[0m \u001B[38;5;28mprint\u001B[39m(\u001B[38;5;28mtype\u001B[39m(data))\n\u001B[0;32m      7\u001B[0m \u001B[38;5;28mprint\u001B[39m(data)\n",
      "File \u001B[1;32m~\\AppData\\Local\\Programs\\Python\\Python312\\Lib\\json\\__init__.py:346\u001B[0m, in \u001B[0;36mloads\u001B[1;34m(s, cls, object_hook, parse_float, parse_int, parse_constant, object_pairs_hook, **kw)\u001B[0m\n\u001B[0;32m    341\u001B[0m     s \u001B[38;5;241m=\u001B[39m s\u001B[38;5;241m.\u001B[39mdecode(detect_encoding(s), \u001B[38;5;124m'\u001B[39m\u001B[38;5;124msurrogatepass\u001B[39m\u001B[38;5;124m'\u001B[39m)\n\u001B[0;32m    343\u001B[0m \u001B[38;5;28;01mif\u001B[39;00m (\u001B[38;5;28mcls\u001B[39m \u001B[38;5;129;01mis\u001B[39;00m \u001B[38;5;28;01mNone\u001B[39;00m \u001B[38;5;129;01mand\u001B[39;00m object_hook \u001B[38;5;129;01mis\u001B[39;00m \u001B[38;5;28;01mNone\u001B[39;00m \u001B[38;5;129;01mand\u001B[39;00m\n\u001B[0;32m    344\u001B[0m         parse_int \u001B[38;5;129;01mis\u001B[39;00m \u001B[38;5;28;01mNone\u001B[39;00m \u001B[38;5;129;01mand\u001B[39;00m parse_float \u001B[38;5;129;01mis\u001B[39;00m \u001B[38;5;28;01mNone\u001B[39;00m \u001B[38;5;129;01mand\u001B[39;00m\n\u001B[0;32m    345\u001B[0m         parse_constant \u001B[38;5;129;01mis\u001B[39;00m \u001B[38;5;28;01mNone\u001B[39;00m \u001B[38;5;129;01mand\u001B[39;00m object_pairs_hook \u001B[38;5;129;01mis\u001B[39;00m \u001B[38;5;28;01mNone\u001B[39;00m \u001B[38;5;129;01mand\u001B[39;00m \u001B[38;5;129;01mnot\u001B[39;00m kw):\n\u001B[1;32m--> 346\u001B[0m     \u001B[38;5;28;01mreturn\u001B[39;00m \u001B[43m_default_decoder\u001B[49m\u001B[38;5;241;43m.\u001B[39;49m\u001B[43mdecode\u001B[49m\u001B[43m(\u001B[49m\u001B[43ms\u001B[49m\u001B[43m)\u001B[49m\n\u001B[0;32m    347\u001B[0m \u001B[38;5;28;01mif\u001B[39;00m \u001B[38;5;28mcls\u001B[39m \u001B[38;5;129;01mis\u001B[39;00m \u001B[38;5;28;01mNone\u001B[39;00m:\n\u001B[0;32m    348\u001B[0m     \u001B[38;5;28mcls\u001B[39m \u001B[38;5;241m=\u001B[39m JSONDecoder\n",
      "File \u001B[1;32m~\\AppData\\Local\\Programs\\Python\\Python312\\Lib\\json\\decoder.py:337\u001B[0m, in \u001B[0;36mJSONDecoder.decode\u001B[1;34m(self, s, _w)\u001B[0m\n\u001B[0;32m    332\u001B[0m \u001B[38;5;28;01mdef\u001B[39;00m \u001B[38;5;21mdecode\u001B[39m(\u001B[38;5;28mself\u001B[39m, s, _w\u001B[38;5;241m=\u001B[39mWHITESPACE\u001B[38;5;241m.\u001B[39mmatch):\n\u001B[0;32m    333\u001B[0m \u001B[38;5;250m    \u001B[39m\u001B[38;5;124;03m\"\"\"Return the Python representation of ``s`` (a ``str`` instance\u001B[39;00m\n\u001B[0;32m    334\u001B[0m \u001B[38;5;124;03m    containing a JSON document).\u001B[39;00m\n\u001B[0;32m    335\u001B[0m \n\u001B[0;32m    336\u001B[0m \u001B[38;5;124;03m    \"\"\"\u001B[39;00m\n\u001B[1;32m--> 337\u001B[0m     obj, end \u001B[38;5;241m=\u001B[39m \u001B[38;5;28;43mself\u001B[39;49m\u001B[38;5;241;43m.\u001B[39;49m\u001B[43mraw_decode\u001B[49m\u001B[43m(\u001B[49m\u001B[43ms\u001B[49m\u001B[43m,\u001B[49m\u001B[43m \u001B[49m\u001B[43midx\u001B[49m\u001B[38;5;241;43m=\u001B[39;49m\u001B[43m_w\u001B[49m\u001B[43m(\u001B[49m\u001B[43ms\u001B[49m\u001B[43m,\u001B[49m\u001B[43m \u001B[49m\u001B[38;5;241;43m0\u001B[39;49m\u001B[43m)\u001B[49m\u001B[38;5;241;43m.\u001B[39;49m\u001B[43mend\u001B[49m\u001B[43m(\u001B[49m\u001B[43m)\u001B[49m\u001B[43m)\u001B[49m\n\u001B[0;32m    338\u001B[0m     end \u001B[38;5;241m=\u001B[39m _w(s, end)\u001B[38;5;241m.\u001B[39mend()\n\u001B[0;32m    339\u001B[0m     \u001B[38;5;28;01mif\u001B[39;00m end \u001B[38;5;241m!=\u001B[39m \u001B[38;5;28mlen\u001B[39m(s):\n",
      "File \u001B[1;32m~\\AppData\\Local\\Programs\\Python\\Python312\\Lib\\json\\decoder.py:355\u001B[0m, in \u001B[0;36mJSONDecoder.raw_decode\u001B[1;34m(self, s, idx)\u001B[0m\n\u001B[0;32m    353\u001B[0m     obj, end \u001B[38;5;241m=\u001B[39m \u001B[38;5;28mself\u001B[39m\u001B[38;5;241m.\u001B[39mscan_once(s, idx)\n\u001B[0;32m    354\u001B[0m \u001B[38;5;28;01mexcept\u001B[39;00m \u001B[38;5;167;01mStopIteration\u001B[39;00m \u001B[38;5;28;01mas\u001B[39;00m err:\n\u001B[1;32m--> 355\u001B[0m     \u001B[38;5;28;01mraise\u001B[39;00m JSONDecodeError(\u001B[38;5;124m\"\u001B[39m\u001B[38;5;124mExpecting value\u001B[39m\u001B[38;5;124m\"\u001B[39m, s, err\u001B[38;5;241m.\u001B[39mvalue) \u001B[38;5;28;01mfrom\u001B[39;00m \u001B[38;5;28;01mNone\u001B[39;00m\n\u001B[0;32m    356\u001B[0m \u001B[38;5;28;01mreturn\u001B[39;00m obj, end\n",
      "\u001B[1;31mJSONDecodeError\u001B[0m: Expecting value: line 1 column 9 (char 8)"
     ]
    }
   ],
   "source": [
    "import json\n",
    "\n",
    "json_data = '{\"name\":, \"Russia\", \"phone_code\": 7, \"capital\": \"Moscow\", \"currency\": \"RUB\"}'  # строка\n",
    "\n",
    "data = json.loads(json_data)\n",
    "print(type(data))\n",
    "print(data)"
   ],
   "metadata": {
    "collapsed": false,
    "ExecuteTime": {
     "end_time": "2024-10-07T06:32:02.979490700Z",
     "start_time": "2024-10-07T06:32:02.948911200Z"
    }
   },
   "id": "95eccbdd52477574"
  },
  {
   "cell_type": "markdown",
   "source": [
    "Функция load()"
   ],
   "metadata": {
    "collapsed": false
   },
   "id": "346c10ddfce64420"
  },
  {
   "cell_type": "markdown",
   "source": [
    "В отличие от функции loads(), которая в качестве аргумента принимает строку с данными в формате json, функция load() принимает файловый объект и возвращает его десериализованное содержимое."
   ],
   "metadata": {
    "collapsed": false
   },
   "id": "82d200aad33fec4e"
  },
  {
   "cell_type": "markdown",
   "source": [
    "Пусть файл data.json имеет следующее содержимое:"
   ],
   "metadata": {
    "collapsed": false
   },
   "id": "d77c2ae38c7e1daa"
  },
  {
   "cell_type": "code",
   "execution_count": null,
   "outputs": [],
   "source": [
    "{\n",
    "  \"name\": \"Russia\",\n",
    "  \"phone_code\": 7,\n",
    "  \"capital\": \"Moscow\",\n",
    "  \"cities\": [\"Abakan\", \"Almetyevsk\", \"Anadyr\", \"Anapa\", \"Arkhangelsk\", \"Astrakhan\"],\n",
    "  \"currency\": \"RUB\"\n",
    "}"
   ],
   "metadata": {
    "collapsed": false
   },
   "id": "3264b84b4adc5016"
  },
  {
   "cell_type": "code",
   "execution_count": 14,
   "outputs": [
    {
     "name": "stdout",
     "output_type": "stream",
     "text": [
      "name: Russia <class 'str'>\n",
      "phone_code: 7 <class 'int'>\n",
      "capital: Moscow <class 'str'>\n",
      "cities: Abakan, Almetyevsk, Anadyr, Anapa, Arkhangelsk, Astrakhan\n",
      "currency: RUB <class 'str'>\n"
     ]
    }
   ],
   "source": [
    "import json\n",
    "\n",
    "with open('data.json') as file:\n",
    "    data = json.load(file)                # передаем файловый объект\n",
    "    for key, value in data.items():\n",
    "        if type(value) == list:\n",
    "            print(f'{key}: {\", \".join(value)}')\n",
    "        else:\n",
    "            print(f'{key}: {value} {type(value)}')"
   ],
   "metadata": {
    "collapsed": false,
    "ExecuteTime": {
     "end_time": "2024-10-07T06:36:06.156744600Z",
     "start_time": "2024-10-07T06:36:06.153747600Z"
    }
   },
   "id": "5f62156b79d1dbb7"
  },
  {
   "cell_type": "markdown",
   "source": [
    "Типы данных в json"
   ],
   "metadata": {
    "collapsed": false
   },
   "id": "206b8b1b2b0a9d55"
  },
  {
   "cell_type": "code",
   "execution_count": 15,
   "outputs": [
    {
     "name": "stdout",
     "output_type": "stream",
     "text": [
      "<class 'str'>\n",
      "<class 'int'>\n",
      "<class 'float'>\n",
      "<class 'list'>\n",
      "<class 'dict'>\n"
     ]
    }
   ],
   "source": [
    "import json\n",
    "\n",
    "json_data = '''\n",
    "{\n",
    "   \"name\": \"Russia\",\n",
    "   \"phone_code\": 7,\n",
    "   \"latitude\": 60.0,\n",
    "   \"capital\": \"Moscow\",\n",
    "   \"timezones\": [\"Anadyr\", \"Barnaul\", \"Moscow\", \"Kirov\"],\n",
    "   \"translations\": {\n",
    "      \"nl\": \"Rusland\",\n",
    "      \"hr\": \"Rusija\",\n",
    "      \"de\": \"Russland\",\n",
    "      \"es\": \"Rusia\",\n",
    "      \"fr\": \"Russie\",\n",
    "      \"it\": \"Russia\"\n",
    "   }\n",
    "}'''\n",
    "\n",
    "data = json.loads(json_data)\n",
    "\n",
    "print(type(data['name']))\n",
    "print(type(data['phone_code']))\n",
    "print(type(data['latitude']))\n",
    "print(type(data['timezones']))\n",
    "print(type(data['translations']))"
   ],
   "metadata": {
    "collapsed": false,
    "ExecuteTime": {
     "end_time": "2024-10-07T06:37:15.004398100Z",
     "start_time": "2024-10-07T06:37:15.001881100Z"
    }
   },
   "id": "bde90d87b7ba73dd"
  },
  {
   "cell_type": "markdown",
   "source": [
    "Таким образом модуль json автоматически определяет тип значения при десериализации. Такая автоматическая работа с типами данных выгодно отличает json от csv, при работе с которым таких автоматических преобразований нет."
   ],
   "metadata": {
    "collapsed": false
   },
   "id": "7a388b217f0824da"
  },
  {
   "cell_type": "markdown",
   "source": [
    "Изменение типа данных"
   ],
   "metadata": {
    "collapsed": false
   },
   "id": "d093fd568d0ae30b"
  },
  {
   "cell_type": "markdown",
   "source": [
    "Еще один важный аспект преобразования данных в формат JSON: данные не всегда будут того же типа, что исходные данные в Python. Например, кортежи при записи в JSON превращаются в списки."
   ],
   "metadata": {
    "collapsed": false
   },
   "id": "c8fae2f6ae7a005f"
  },
  {
   "cell_type": "code",
   "execution_count": 18,
   "outputs": [
    {
     "name": "stdout",
     "output_type": "stream",
     "text": [
      "False\n"
     ]
    }
   ],
   "source": [
    "import json\n",
    "\n",
    "data = {\n",
    "        'name': 'Russia', \n",
    "        'phone_code': 7,\n",
    "        'latitude': 60.0,\n",
    "        'capital': 'Moscow',\n",
    "        'timezones': ('Anadyr', 'Barnaul', 'Moscow', 'Kirov')\n",
    "       }\n",
    "\n",
    "json_data = json.dumps(data)        # преобразуем dict в json\n",
    "new_data = json.loads(json_data)    # преобразуем json в dict\n",
    "\n",
    "print(data == new_data)"
   ],
   "metadata": {
    "collapsed": false,
    "ExecuteTime": {
     "end_time": "2024-10-07T06:42:25.695635100Z",
     "start_time": "2024-10-07T06:42:25.692184300Z"
    }
   },
   "id": "cb39cf9925fc567f"
  },
  {
   "cell_type": "markdown",
   "source": [
    "Так происходит из-за того, что в JSON используются другие типы данных, и не для всех типов данных Python есть соответствия."
   ],
   "metadata": {
    "collapsed": false
   },
   "id": "482c50fea86119e6"
  },
  {
   "cell_type": "markdown",
   "source": [
    "Таблица конвертации типов данных Python в JSON:\n",
    "\n",
    "Python\tJSON\n",
    "dict\tobject\n",
    "list, tuple\tarray\n",
    "str\tstring\n",
    "int, float\tnumber\n",
    "True\ttrue\n",
    "False\tfalse\n",
    "None\tnull"
   ],
   "metadata": {
    "collapsed": false
   },
   "id": "be02fb87db614d01"
  },
  {
   "cell_type": "markdown",
   "source": [
    "Таблица конвертации JSON в типы данных Python:\n",
    "\n",
    "JSON\tPython\n",
    "object\tdict\n",
    "array\tlist\n",
    "string\tstr\n",
    "number (int)\tint\n",
    "number (real)\tfloat\n",
    "true\tTrue\n",
    "false\tFalse\n",
    "null\tNone"
   ],
   "metadata": {
    "collapsed": false
   },
   "id": "e5907f6e70942693"
  },
  {
   "cell_type": "markdown",
   "source": [
    "Ограничение по типам данных"
   ],
   "metadata": {
    "collapsed": false
   },
   "id": "2833dcf60f331a0"
  },
  {
   "cell_type": "markdown",
   "source": [
    "В формат JSON нельзя записать словарь, у которого ключи – кортежи."
   ],
   "metadata": {
    "collapsed": false
   },
   "id": "a225af34b86da6f4"
  },
  {
   "cell_type": "code",
   "execution_count": 19,
   "outputs": [
    {
     "ename": "TypeError",
     "evalue": "keys must be str, int, float, bool or None, not tuple",
     "output_type": "error",
     "traceback": [
      "\u001B[1;31m---------------------------------------------------------------------------\u001B[0m",
      "\u001B[1;31mTypeError\u001B[0m                                 Traceback (most recent call last)",
      "Cell \u001B[1;32mIn[19], line 10\u001B[0m\n\u001B[0;32m      1\u001B[0m \u001B[38;5;28;01mimport\u001B[39;00m \u001B[38;5;21;01mjson\u001B[39;00m\n\u001B[0;32m      3\u001B[0m data \u001B[38;5;241m=\u001B[39m {\n\u001B[0;32m      4\u001B[0m         \u001B[38;5;124m'\u001B[39m\u001B[38;5;124mbeegeek\u001B[39m\u001B[38;5;124m'\u001B[39m: \u001B[38;5;241m2018\u001B[39m,\n\u001B[0;32m      5\u001B[0m         (\u001B[38;5;124m'\u001B[39m\u001B[38;5;124mTimur\u001B[39m\u001B[38;5;124m'\u001B[39m, \u001B[38;5;124m'\u001B[39m\u001B[38;5;124mGuev\u001B[39m\u001B[38;5;124m'\u001B[39m): \u001B[38;5;241m29\u001B[39m,\n\u001B[0;32m      6\u001B[0m         (\u001B[38;5;124m'\u001B[39m\u001B[38;5;124mArthur\u001B[39m\u001B[38;5;124m'\u001B[39m, \u001B[38;5;124m'\u001B[39m\u001B[38;5;124mKharisov\u001B[39m\u001B[38;5;124m'\u001B[39m): \u001B[38;5;241m20\u001B[39m,\n\u001B[0;32m      7\u001B[0m         \u001B[38;5;124m'\u001B[39m\u001B[38;5;124mstepik\u001B[39m\u001B[38;5;124m'\u001B[39m: \u001B[38;5;241m2013\u001B[39m\n\u001B[0;32m      8\u001B[0m        }\n\u001B[1;32m---> 10\u001B[0m json_data \u001B[38;5;241m=\u001B[39m \u001B[43mjson\u001B[49m\u001B[38;5;241;43m.\u001B[39;49m\u001B[43mdumps\u001B[49m\u001B[43m(\u001B[49m\u001B[43mdata\u001B[49m\u001B[43m)\u001B[49m        \u001B[38;5;66;03m# преобразуем dict в json\u001B[39;00m\n\u001B[0;32m     12\u001B[0m \u001B[38;5;28mprint\u001B[39m(json_data)\n",
      "File \u001B[1;32m~\\AppData\\Local\\Programs\\Python\\Python312\\Lib\\json\\__init__.py:231\u001B[0m, in \u001B[0;36mdumps\u001B[1;34m(obj, skipkeys, ensure_ascii, check_circular, allow_nan, cls, indent, separators, default, sort_keys, **kw)\u001B[0m\n\u001B[0;32m    226\u001B[0m \u001B[38;5;66;03m# cached encoder\u001B[39;00m\n\u001B[0;32m    227\u001B[0m \u001B[38;5;28;01mif\u001B[39;00m (\u001B[38;5;129;01mnot\u001B[39;00m skipkeys \u001B[38;5;129;01mand\u001B[39;00m ensure_ascii \u001B[38;5;129;01mand\u001B[39;00m\n\u001B[0;32m    228\u001B[0m     check_circular \u001B[38;5;129;01mand\u001B[39;00m allow_nan \u001B[38;5;129;01mand\u001B[39;00m\n\u001B[0;32m    229\u001B[0m     \u001B[38;5;28mcls\u001B[39m \u001B[38;5;129;01mis\u001B[39;00m \u001B[38;5;28;01mNone\u001B[39;00m \u001B[38;5;129;01mand\u001B[39;00m indent \u001B[38;5;129;01mis\u001B[39;00m \u001B[38;5;28;01mNone\u001B[39;00m \u001B[38;5;129;01mand\u001B[39;00m separators \u001B[38;5;129;01mis\u001B[39;00m \u001B[38;5;28;01mNone\u001B[39;00m \u001B[38;5;129;01mand\u001B[39;00m\n\u001B[0;32m    230\u001B[0m     default \u001B[38;5;129;01mis\u001B[39;00m \u001B[38;5;28;01mNone\u001B[39;00m \u001B[38;5;129;01mand\u001B[39;00m \u001B[38;5;129;01mnot\u001B[39;00m sort_keys \u001B[38;5;129;01mand\u001B[39;00m \u001B[38;5;129;01mnot\u001B[39;00m kw):\n\u001B[1;32m--> 231\u001B[0m     \u001B[38;5;28;01mreturn\u001B[39;00m \u001B[43m_default_encoder\u001B[49m\u001B[38;5;241;43m.\u001B[39;49m\u001B[43mencode\u001B[49m\u001B[43m(\u001B[49m\u001B[43mobj\u001B[49m\u001B[43m)\u001B[49m\n\u001B[0;32m    232\u001B[0m \u001B[38;5;28;01mif\u001B[39;00m \u001B[38;5;28mcls\u001B[39m \u001B[38;5;129;01mis\u001B[39;00m \u001B[38;5;28;01mNone\u001B[39;00m:\n\u001B[0;32m    233\u001B[0m     \u001B[38;5;28mcls\u001B[39m \u001B[38;5;241m=\u001B[39m JSONEncoder\n",
      "File \u001B[1;32m~\\AppData\\Local\\Programs\\Python\\Python312\\Lib\\json\\encoder.py:200\u001B[0m, in \u001B[0;36mJSONEncoder.encode\u001B[1;34m(self, o)\u001B[0m\n\u001B[0;32m    196\u001B[0m         \u001B[38;5;28;01mreturn\u001B[39;00m encode_basestring(o)\n\u001B[0;32m    197\u001B[0m \u001B[38;5;66;03m# This doesn't pass the iterator directly to ''.join() because the\u001B[39;00m\n\u001B[0;32m    198\u001B[0m \u001B[38;5;66;03m# exceptions aren't as detailed.  The list call should be roughly\u001B[39;00m\n\u001B[0;32m    199\u001B[0m \u001B[38;5;66;03m# equivalent to the PySequence_Fast that ''.join() would do.\u001B[39;00m\n\u001B[1;32m--> 200\u001B[0m chunks \u001B[38;5;241m=\u001B[39m \u001B[38;5;28;43mself\u001B[39;49m\u001B[38;5;241;43m.\u001B[39;49m\u001B[43miterencode\u001B[49m\u001B[43m(\u001B[49m\u001B[43mo\u001B[49m\u001B[43m,\u001B[49m\u001B[43m \u001B[49m\u001B[43m_one_shot\u001B[49m\u001B[38;5;241;43m=\u001B[39;49m\u001B[38;5;28;43;01mTrue\u001B[39;49;00m\u001B[43m)\u001B[49m\n\u001B[0;32m    201\u001B[0m \u001B[38;5;28;01mif\u001B[39;00m \u001B[38;5;129;01mnot\u001B[39;00m \u001B[38;5;28misinstance\u001B[39m(chunks, (\u001B[38;5;28mlist\u001B[39m, \u001B[38;5;28mtuple\u001B[39m)):\n\u001B[0;32m    202\u001B[0m     chunks \u001B[38;5;241m=\u001B[39m \u001B[38;5;28mlist\u001B[39m(chunks)\n",
      "File \u001B[1;32m~\\AppData\\Local\\Programs\\Python\\Python312\\Lib\\json\\encoder.py:258\u001B[0m, in \u001B[0;36mJSONEncoder.iterencode\u001B[1;34m(self, o, _one_shot)\u001B[0m\n\u001B[0;32m    253\u001B[0m \u001B[38;5;28;01melse\u001B[39;00m:\n\u001B[0;32m    254\u001B[0m     _iterencode \u001B[38;5;241m=\u001B[39m _make_iterencode(\n\u001B[0;32m    255\u001B[0m         markers, \u001B[38;5;28mself\u001B[39m\u001B[38;5;241m.\u001B[39mdefault, _encoder, \u001B[38;5;28mself\u001B[39m\u001B[38;5;241m.\u001B[39mindent, floatstr,\n\u001B[0;32m    256\u001B[0m         \u001B[38;5;28mself\u001B[39m\u001B[38;5;241m.\u001B[39mkey_separator, \u001B[38;5;28mself\u001B[39m\u001B[38;5;241m.\u001B[39mitem_separator, \u001B[38;5;28mself\u001B[39m\u001B[38;5;241m.\u001B[39msort_keys,\n\u001B[0;32m    257\u001B[0m         \u001B[38;5;28mself\u001B[39m\u001B[38;5;241m.\u001B[39mskipkeys, _one_shot)\n\u001B[1;32m--> 258\u001B[0m \u001B[38;5;28;01mreturn\u001B[39;00m \u001B[43m_iterencode\u001B[49m\u001B[43m(\u001B[49m\u001B[43mo\u001B[49m\u001B[43m,\u001B[49m\u001B[43m \u001B[49m\u001B[38;5;241;43m0\u001B[39;49m\u001B[43m)\u001B[49m\n",
      "\u001B[1;31mTypeError\u001B[0m: keys must be str, int, float, bool or None, not tuple"
     ]
    }
   ],
   "source": [
    "import json\n",
    "\n",
    "data = {\n",
    "        'beegeek': 2018,\n",
    "        ('Timur', 'Guev'): 29,\n",
    "        ('Arthur', 'Kharisov'): 20,\n",
    "        'stepik': 2013\n",
    "       }\n",
    "\n",
    "json_data = json.dumps(data)        # преобразуем dict в json\n",
    "\n",
    "print(json_data)"
   ],
   "metadata": {
    "collapsed": false,
    "ExecuteTime": {
     "end_time": "2024-10-07T06:44:33.254637600Z",
     "start_time": "2024-10-07T06:44:33.218493800Z"
    }
   },
   "id": "1ec7068203abcfc2"
  },
  {
   "cell_type": "markdown",
   "source": [
    "С помощью необязательного аргумента skipkeys можно игнорировать подобные ключи."
   ],
   "metadata": {
    "collapsed": false
   },
   "id": "83adf4a1a81b2b58"
  },
  {
   "cell_type": "code",
   "execution_count": 20,
   "outputs": [
    {
     "name": "stdout",
     "output_type": "stream",
     "text": [
      "{\"beegeek\": 2018, \"stepik\": 2013}\n"
     ]
    }
   ],
   "source": [
    "import json\n",
    "\n",
    "data = {\n",
    "        'beegeek': 2018,\n",
    "        ('Timur', 'Guev'): 29,\n",
    "        ('Arthur', 'Kharisov'): 20,\n",
    "        'stepik': 2013\n",
    "       }\n",
    "\n",
    "json_data = json.dumps(data, skipkeys=True)        # преобразуем dict в json\n",
    "\n",
    "print(json_data)"
   ],
   "metadata": {
    "collapsed": false,
    "ExecuteTime": {
     "end_time": "2024-10-07T06:45:14.958215700Z",
     "start_time": "2024-10-07T06:45:14.953697900Z"
    }
   },
   "id": "ce1807fe33205b6c"
  },
  {
   "cell_type": "markdown",
   "source": [
    "Кроме того, в JSON ключами словаря могут быть только строки. Но, если в словаре Python использовались числа, булевы значения или None, то ошибки не будет, вместо этого они будут преобразованы в строки."
   ],
   "metadata": {
    "collapsed": false
   },
   "id": "3ff13115c5889e89"
  },
  {
   "cell_type": "code",
   "execution_count": 26,
   "outputs": [
    {
     "name": "stdout",
     "output_type": "stream",
     "text": [
      "{\"1\": \"Timur\", \"false\": \"Arthur\", \"null\": \"Ruslan\"}\n"
     ]
    }
   ],
   "source": [
    "import json\n",
    "\n",
    "data = {1: 'Timur', False: 'Arthur', None: 'Ruslan'}\n",
    "json_data = json.dumps(data)\n",
    "\n",
    "print(json_data)"
   ],
   "metadata": {
    "collapsed": false,
    "ExecuteTime": {
     "end_time": "2024-10-07T06:49:06.127118500Z",
     "start_time": "2024-10-07T06:49:06.123181400Z"
    }
   },
   "id": "6e938d84a085b0cd"
  },
  {
   "cell_type": "markdown",
   "source": [
    "Кириллические символы в json"
   ],
   "metadata": {
    "collapsed": false
   },
   "id": "4a115f89e0809814"
  },
  {
   "cell_type": "code",
   "execution_count": 27,
   "outputs": [
    {
     "name": "stdout",
     "output_type": "stream",
     "text": [
      "{\"firstName\": \"\\u0422\\u0438\\u043c\\u0443\\u0440\", \"lastName\": \"\\u0413\\u0443\\u0435\\u0432\"}\n"
     ]
    }
   ],
   "source": [
    "import json\n",
    "\n",
    "data = {'firstName': 'Тимур', 'lastName': 'Гуев'}\n",
    "s = json.dumps(data)\n",
    "print(s)"
   ],
   "metadata": {
    "collapsed": false,
    "ExecuteTime": {
     "end_time": "2024-10-07T06:49:19.846644300Z",
     "start_time": "2024-10-07T06:49:19.843120500Z"
    }
   },
   "id": "5b2ca578fe89bd1a"
  },
  {
   "cell_type": "markdown",
   "source": [
    "Результат, скорее всего, будет неожиданным. Каждая буква из строк Тимур и Гуев будет заменена на ее код. Эти коды стандартны, и код для каждой из букв индивидуален. Например. 0438 — код буквы и."
   ],
   "metadata": {
    "collapsed": false
   },
   "id": "b0122368d0c2b7df"
  },
  {
   "cell_type": "markdown",
   "source": [
    "Обратное преобразование из строки в словарь вернет закодированное значение в первоначальный вид."
   ],
   "metadata": {
    "collapsed": false
   },
   "id": "c69921de05779e6f"
  },
  {
   "cell_type": "code",
   "execution_count": 28,
   "outputs": [
    {
     "name": "stdout",
     "output_type": "stream",
     "text": [
      "{\"firstName\": \"\\u0422\\u0438\\u043c\\u0443\\u0440\", \"lastName\": \"\\u0413\\u0443\\u0435\\u0432\"}\n",
      "{'firstName': 'Тимур', 'lastName': 'Гуев'}\n"
     ]
    }
   ],
   "source": [
    "import json\n",
    "\n",
    "data = {'firstName': 'Тимур', 'lastName': 'Гуев'}\n",
    "s = json.dumps(data)\n",
    "print(s)\n",
    "result = json.loads(s)\n",
    "print(result)"
   ],
   "metadata": {
    "collapsed": false,
    "ExecuteTime": {
     "end_time": "2024-10-07T06:50:38.548725700Z",
     "start_time": "2024-10-07T06:50:38.540719500Z"
    }
   },
   "id": "148ceeb7d409b296"
  },
  {
   "cell_type": "markdown",
   "source": [
    "Благодаря стандартным кодам, символы будут прочитаны и преобразованы в нужный вид любой программой на любом языке программирования."
   ],
   "metadata": {
    "collapsed": false
   },
   "id": "6b1db25b5e21e7f3"
  },
  {
   "cell_type": "markdown",
   "source": [
    "С помощью необязательного аргумента ensure_ascii функций dumps() и dump() можно отказаться от такого кодирования."
   ],
   "metadata": {
    "collapsed": false
   },
   "id": "315f82bd8eb0ec56"
  },
  {
   "cell_type": "code",
   "execution_count": 30,
   "outputs": [
    {
     "name": "stdout",
     "output_type": "stream",
     "text": [
      "{\"firstName\": \"Тимур\", \"lastName\": \"Гуев\"}\n",
      "<class 'str'>\n",
      "{'firstName': 'Тимур', 'lastName': 'Гуев'}\n",
      "<class 'dict'>\n"
     ]
    }
   ],
   "source": [
    "import json\n",
    "\n",
    "data = {'firstName': 'Тимур', 'lastName': 'Гуев'}\n",
    "s = json.dumps(data, ensure_ascii=False)\n",
    "print(s)\n",
    "print(type(s))\n",
    "result = json.loads(s)\n",
    "print(result)\n",
    "print(type(result))"
   ],
   "metadata": {
    "collapsed": false,
    "ExecuteTime": {
     "end_time": "2024-10-07T06:52:36.692023500Z",
     "start_time": "2024-10-07T06:52:36.688020600Z"
    }
   },
   "id": "1f1715dbd9f71c60"
  },
  {
   "cell_type": "markdown",
   "source": [
    "Python преобразует такую строку обратно в словарь без проблем (поскольку использует Unicode по умолчанию), но нужно помнить, что это может привести к проблемам с преобразованием в программах, написанных на других языках программирования."
   ],
   "metadata": {
    "collapsed": false
   },
   "id": "2e0e9aa45d4ad02d"
  },
  {
   "cell_type": "markdown",
   "source": [
    "Примечание 4. JSON – это текстовый формат, что означает, что мы должны открыть файл в текстовом режиме и указать кодировку. Вы никогда не ошибетесь, используя UTF-8."
   ],
   "metadata": {
    "collapsed": false
   },
   "id": "70974ed96304ee20"
  },
  {
   "cell_type": "markdown",
   "source": [
    "Примечание 5. Мы можем сериализовать любой объект, поддерживаемый форматом json, например число, список, строку и т.д."
   ],
   "metadata": {
    "collapsed": false
   },
   "id": "fab7ebc7448e51d1"
  },
  {
   "cell_type": "code",
   "execution_count": 31,
   "outputs": [],
   "source": [
    "import json\n",
    "\n",
    "colors = ['white', 'red', 'black']\n",
    "\n",
    "with open('list.json', 'w') as file:\n",
    "    json.dump(colors, file, indent='---')"
   ],
   "metadata": {
    "collapsed": false,
    "ExecuteTime": {
     "end_time": "2024-10-07T06:54:07.117747Z",
     "start_time": "2024-10-07T06:54:07.113232Z"
    }
   },
   "id": "4962969c7af0d87a"
  },
  {
   "cell_type": "markdown",
   "source": [
    "создает файл list.json со следующим содержанием:"
   ],
   "metadata": {
    "collapsed": false
   },
   "id": "5374a4ae24f3cd61"
  },
  {
   "cell_type": "code",
   "execution_count": null,
   "outputs": [],
   "source": [
    "[\n",
    "---\"white\",\n",
    "---\"red\",\n",
    "---\"black\"\n",
    "]"
   ],
   "metadata": {
    "collapsed": false
   },
   "id": "6045325434793097"
  },
  {
   "cell_type": "markdown",
   "source": [
    "Примечание 6. В формате json ключом может быть только строка (регистрозависимость не регулируется стандартом, это остаётся на усмотрение программного обеспечения). Как правило, регистр учитывается программами — имена с буквами в разных регистрах считаются разными. Повторяющиеся имена ключей допустимы, но не рекомендуются стандартом; обработка таких ситуаций происходит на усмотрение программного обеспечения, возможные варианты — учитывать только первый такой ключ, учитывать только последний такой ключ, генерировать ошибку."
   ],
   "metadata": {
    "collapsed": false
   },
   "id": "5a44d9c1b65c9010"
  },
  {
   "cell_type": "code",
   "execution_count": 32,
   "outputs": [
    {
     "name": "stdout",
     "output_type": "stream",
     "text": [
      "{\"firstName\": \"Теймур\", \"lastName\": \"Гуев\", \"FirstName\": \"Тим\"}\n"
     ]
    }
   ],
   "source": [
    "import json\n",
    "\n",
    "data = {'firstName': 'Тимур', 'lastName': 'Гуев', 'firstName': 'Теймур', 'FirstName': 'Тим'}\n",
    "s = json.dumps(data, ensure_ascii=False)\n",
    "print(s)"
   ],
   "metadata": {
    "collapsed": false,
    "ExecuteTime": {
     "end_time": "2024-10-07T06:55:48.578330600Z",
     "start_time": "2024-10-07T06:55:48.574809600Z"
    }
   },
   "id": "f7fcb26f8b24e53b"
  },
  {
   "cell_type": "markdown",
   "source": [
    "Примечание 7. JSON обладает рядом преимуществ, которые и сделали его популярным:\n",
    "\n",
    "не занимает много места, является компактным в написании и быстро компилируется\n",
    "создание текстового содержимого понятно человеку, просто в реализации, а чтение со стороны среды разработки не вызывает никаких проблем. Чтение может осуществляться и человеком, поскольку ничего сложного в представлении данных нет\n",
    "структура преобразуется для чтения на любых языках программирования\n",
    "практически все языки имеют соответствующие библиотеки или другие инструменты для чтения данных JSON"
   ],
   "metadata": {
    "collapsed": false
   },
   "id": "930a1982562fc49a"
  },
  {
   "cell_type": "markdown",
   "source": [
    "Примечание 8. Для удобного форматирования json файлов используйте сайт.\n",
    "https://jsonformatter.curiousconcept.com/"
   ],
   "metadata": {
    "collapsed": false
   },
   "id": "26029627ad9ac8cf"
  },
  {
   "cell_type": "markdown",
   "source": [
    "Примечание 9. Оба формата, как csv, так и json, очень популярны. Модули для работы с ними есть практически в каждом языке программирования. Также многие популярные прикладные программы поддерживают импорт и экспорт в эти форматы. Понимать, как устроены и как работать с этими двумя форматами, просто жизненно необходимо современному программисту."
   ],
   "metadata": {
    "collapsed": false
   },
   "id": "cadc85dd2761cb52"
  },
  {
   "cell_type": "markdown",
   "source": [
    "Примечание 11. Мы производили преобразования между объектами языка Python и json объектами. Такие преобразования называются сериализацией (кодирование в json формат, то есть в поток байт) и десериализацией (декодирование в объект языка)."
   ],
   "metadata": {
    "collapsed": false
   },
   "id": "2cbc473aad1dbe1e"
  },
  {
   "cell_type": "markdown",
   "source": [
    "Примечание 12. Есть еще несколько моментов при работе с JSON, о которых стоит помнить:\n",
    "\n",
    "чтобы не возникали проблемы с кодировкой, если в файл передаются данные с русскими буквами, как и во всех других случаях работы с файлом, при открытии нужно принудительно устанавливать кодировку (особенно актуально для OS семейства Windows):"
   ],
   "metadata": {
    "collapsed": false
   },
   "id": "cb2770c513856005"
  },
  {
   "cell_type": "code",
   "execution_count": null,
   "outputs": [],
   "source": [
    "with open('cats_3.json', 'w', encoding='utf8') as cat_file:\n",
    "    cat_file.write(json.dumps(cat_file))"
   ],
   "metadata": {
    "collapsed": false
   },
   "id": "9df067c921bc7682"
  },
  {
   "cell_type": "markdown",
   "source": [
    "при создании json файла «вручную» нужно помнить, что в нем нельзя использовать одинарные кавычки. При создании программными средствами нужные кавычки ставятся автоматически"
   ],
   "metadata": {
    "collapsed": false
   },
   "id": "3e3572e0cbc28b9d"
  },
  {
   "cell_type": "markdown",
   "source": [
    "ключами словаря в json не могут быть кортежи и числа. Но ключ-число не вызовет ошибку при сериализации, он будет просто преобразован в строку"
   ],
   "metadata": {
    "collapsed": false
   },
   "id": "4695d458472b8684"
  },
  {
   "cell_type": "markdown",
   "source": [
    "помните, что при преобразовании данные будут не всегда того же типа, что были в Python"
   ],
   "metadata": {
    "collapsed": false
   },
   "id": "643abdb4033a274b"
  },
  {
   "cell_type": "markdown",
   "source": [
    "Не знаю так ли это на самом деле было задумано, но мне помогает следующее определение: если есть s на конце, то мы имеем дело со строкой, если нет, то с файлом. Dump запись  в файл, dumps - запись в строку, (в данном случае, в json строку), то есть, dump string. То же самое с load и loads, load это десериализация файла или объекта, loads это load string, то есть десериализация строки. "
   ],
   "metadata": {
    "collapsed": false
   },
   "id": "c947c82f5e0e3835"
  },
  {
   "cell_type": "code",
   "execution_count": 38,
   "outputs": [
    {
     "name": "stdout",
     "output_type": "stream",
     "text": [
      "{'true': 97, '2': \"I've been running for a reason\", '3': ['I', 'could', 'never', 'retain'], '4': ['Sweet', 'lips', 'like', 'pink', 'lemonade'], '5.0': \"When he's feeling generous he's gonna give me a taste\", 'six': '10'}\n",
      "\n",
      "true 97 <class 'int'>\n",
      "2 I've been running for a reason <class 'str'>\n",
      "3 ['I', 'could', 'never', 'retain'] <class 'list'>\n",
      "4 ['Sweet', 'lips', 'like', 'pink', 'lemonade'] <class 'list'>\n",
      "5.0 When he's feeling generous he's gonna give me a taste <class 'str'>\n",
      "six 10 <class 'str'>\n"
     ]
    }
   ],
   "source": [
    "import json\n",
    "\n",
    "lines = {\n",
    "         True: 97,\n",
    "         2: \"I've been running for a reason\",\n",
    "         \"3\": (\"I\", \"could\", \"never\", \"retain\"),\n",
    "         4: [\"Sweet\", \"lips\", \"like\", \"pink\", \"lemonade\"],\n",
    "         5.0: \"When he's feeling generous he's gonna give me a taste\",\n",
    "         \"six\": \"10\"\n",
    "        }\n",
    "\n",
    "lines_json = json.dumps(lines)\n",
    "\n",
    "lines = json.loads(lines_json)\n",
    "print(lines)\n",
    "print()\n",
    "for key, value in lines.items():\n",
    "    print(key, value, type(value))"
   ],
   "metadata": {
    "collapsed": false,
    "ExecuteTime": {
     "end_time": "2024-10-07T07:48:51.891173700Z",
     "start_time": "2024-10-07T07:48:51.886004600Z"
    }
   },
   "id": "158177412297ab73"
  }
 ],
 "metadata": {
  "kernelspec": {
   "display_name": "Python 3",
   "language": "python",
   "name": "python3"
  },
  "language_info": {
   "codemirror_mode": {
    "name": "ipython",
    "version": 2
   },
   "file_extension": ".py",
   "mimetype": "text/x-python",
   "name": "python",
   "nbconvert_exporter": "python",
   "pygments_lexer": "ipython2",
   "version": "2.7.6"
  }
 },
 "nbformat": 4,
 "nbformat_minor": 5
}

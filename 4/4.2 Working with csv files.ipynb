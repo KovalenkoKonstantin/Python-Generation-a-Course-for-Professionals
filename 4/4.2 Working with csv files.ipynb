{
 "cells": [
  {
   "cell_type": "markdown",
   "source": [
    "Тема урока: работа с csv файлами\n",
    "Форматы данных csv, tsv, dsv\n",
    "Модуль csv\n",
    "Аннотация. Урок посвящен работе с текстовыми файлами в форматах csv, tsv, dsv."
   ],
   "metadata": {
    "collapsed": false
   },
   "id": "253e8700d8f5a3a3"
  },
  {
   "cell_type": "markdown",
   "source": [
    "Формат CSV"
   ],
   "metadata": {
    "collapsed": false
   },
   "id": "62fe89d5d9ca6374"
  },
  {
   "cell_type": "markdown",
   "source": [
    "CSV (от англ. Comma-Separated Values — значения, разделённые запятыми) — текстовый формат, предназначенный для представления табличных данных. Строка таблицы соответствует строке текста, которая содержит одно или несколько полей, разделенных запятыми."
   ],
   "metadata": {
    "collapsed": false
   },
   "id": "5525ac5c49d9828c"
  },
  {
   "cell_type": "markdown",
   "source": [
    "Например, таблица:\n",
    "\n",
    "    Rank   \t       Language     \t        Share       \n",
    "1\tPython\t31.17%\n",
    "2\tJava\t17.75%\n",
    "3\tJavaScript\t8%\n",
    "4\tC#\t7.05%\n",
    "5\tPHP\t6.09%\n",
    "в формате csv будет выглядеть так:"
   ],
   "metadata": {
    "collapsed": false
   },
   "id": "334234aea3f810e3"
  },
  {
   "cell_type": "markdown",
   "source": [
    "Rank,Language,Share\n",
    "1,Python,31.17%\n",
    "2,Java,17.75%\n",
    "3,JavaScript,8%\n",
    "4,C#,7.05%\n",
    "5,PHP,6.09%"
   ],
   "metadata": {
    "collapsed": false
   },
   "id": "5b820c2f7a5def6f"
  },
  {
   "cell_type": "markdown",
   "source": [
    "Обратите внимание, пробелов после запятой быть не должно."
   ],
   "metadata": {
    "collapsed": false
   },
   "id": "79fbe9b1c01cee0e"
  },
  {
   "cell_type": "markdown",
   "source": [
    "Ручная работа с файлами"
   ],
   "metadata": {
    "collapsed": false
   },
   "id": "88cbcf39fddc8ca3"
  },
  {
   "cell_type": "markdown",
   "source": [
    "Рассмотрим текстовый файл products.csv, содержащий информацию о товарах некоторого интернет магазина. Файл содержит информацию о трех столбцах:\n",
    "\n",
    "keywords (ключевые слова)\n",
    "price (цена)\n",
    "product_name (имя продукта)\n",
    "и имеет следующее содержимое:"
   ],
   "metadata": {
    "collapsed": false
   },
   "id": "9bc79ea6b4b07afb"
  },
  {
   "cell_type": "markdown",
   "source": [
    "keywords,price,product_name\n",
    "Садовый стул,1699,ВЭДДО\n",
    "Садовый стул,2999,ЭПЛАРО\n",
    "Садовый табурет,1699,ЭПЛАРО\n",
    "Садовый стол,1999,ТЭРНО\n",
    "Складной стол,7499,ЭПЛАРО\n",
    "Настил,1299,РУННЕН\n",
    "Стеллаж,1299,ХИЛЛИС\n",
    "Кружка,39,СТЕЛЬНА\n",
    "Молочник,299,ВАРДАГЕН\n",
    "Термос для еды,699,ЭФТЕРФРОГАД\n",
    "Ситечко,59,ИДЕАЛИСК\n",
    "Чайник заварочный,499,РИКЛИГ\n",
    "Кофе-пресс,699,УПХЕТТА\n",
    "Чашка с блюдцем,249,ИКЕА\n",
    "Кружка,249,ЭМНТ\n",
    "Ситечко,199,САККУННИГ\n",
    "Кружка,199,ФИНСТИЛТ\n",
    "Тарелка,269,ЭВЕРЕНС"
   ],
   "metadata": {
    "collapsed": false
   },
   "id": "d2c6516ddf0e23cc"
  },
  {
   "cell_type": "markdown",
   "source": [
    "Разделителем записей был выбран символ новой строки, а разделителем полей — символ запятой.\n",
    "\n",
    "В результате мы получили текстовый файл, который легко читается и человеком и компьютерной программой.\n",
    "\n",
    "Поскольку любой csv файл является текстовым, то нам не составит труда обработать его \"руками\", подобно тому, как мы обрабатываем обычный текстовый файл."
   ],
   "metadata": {
    "collapsed": false
   },
   "id": "67b3f221f65495a9"
  },
  {
   "cell_type": "code",
   "execution_count": 6,
   "outputs": [
    {
     "name": "stdout",
     "output_type": "stream",
     "text": [
      "['keywords', 'price', 'product_name']\n",
      "['Садовый стул', '1699', 'ВЭДДО']\n",
      "['Садовый стул', '2999', 'ЭПЛАРО']\n",
      "['Садовый табурет', '1699', 'ЭПЛАРО']\n",
      "['Садовый стол', '1999', 'ТЭРНО']\n",
      "['Складной стол', '7499', 'ЭПЛАРО']\n",
      "['Настил', '1299', 'РУННЕН']\n",
      "['Стеллаж', '1299', 'ХИЛЛИС']\n",
      "['Кружка', '39', 'СТЕЛЬНА']\n",
      "['Молочник', '299', 'ВАРДАГЕН']\n",
      "['Термос для еды', '699', 'ЭФТЕРФРОГАД']\n",
      "['Ситечко', '59', 'ИДЕАЛИСК']\n",
      "['Чайник заварочный', '499', 'РИКЛИГ']\n",
      "['Кофе-пресс', '699', 'УПХЕТТА']\n",
      "['Чашка с блюдцем', '249', 'ИКЕА']\n",
      "['Кружка', '249', 'ЭМНТ']\n",
      "['Ситечко', '199', 'САККУННИГ']\n",
      "['Кружка', '199', 'ФИНСТИЛТ']\n",
      "['Тарелка', '269', 'ЭВЕРЕНС']\n"
     ]
    }
   ],
   "source": [
    "with open('products.csv', encoding='utf-8') as file:\n",
    "    data = file.read()\n",
    "    for line in data.splitlines():\n",
    "        print(line.split(','))"
   ],
   "metadata": {
    "collapsed": false,
    "ExecuteTime": {
     "end_time": "2024-09-30T06:04:10.320389Z",
     "start_time": "2024-09-30T06:04:10.314637Z"
    }
   },
   "id": "f56fbc5b9b20adb4"
  },
  {
   "cell_type": "markdown",
   "source": [
    "Для построчного разделения текста удобно использовать строковый метод splitlines(), вместо метода split('\\n')"
   ],
   "metadata": {
    "collapsed": false
   },
   "id": "4154c373d08823a1"
  },
  {
   "cell_type": "markdown",
   "source": [
    "Мы также можем создать вложенный список (таблицу) для более удобного взаимодействия с данными:"
   ],
   "metadata": {
    "collapsed": false
   },
   "id": "e58c513e1bba7569"
  },
  {
   "cell_type": "code",
   "execution_count": 12,
   "outputs": [
    {
     "name": "stdout",
     "output_type": "stream",
     "text": [
      "['keywords', 'price', 'product_name']\n",
      "['Садовый стул', '1699', 'ВЭДДО']\n",
      "['Садовый стул', '2999', 'ЭПЛАРО']\n",
      "['Садовый табурет', '1699', 'ЭПЛАРО']\n",
      "['Садовый стол', '1999', 'ТЭРНО']\n",
      "['Складной стол', '7499', 'ЭПЛАРО']\n",
      "['Настил', '1299', 'РУННЕН']\n",
      "['Стеллаж', '1299', 'ХИЛЛИС']\n",
      "['Кружка', '39', 'СТЕЛЬНА']\n",
      "['Молочник', '299', 'ВАРДАГЕН']\n",
      "['Термос для еды', '699', 'ЭФТЕРФРОГАД']\n",
      "['Ситечко', '59', 'ИДЕАЛИСК']\n",
      "['Чайник заварочный', '499', 'РИКЛИГ']\n",
      "['Кофе-пресс', '699', 'УПХЕТТА']\n",
      "['Чашка с блюдцем', '249', 'ИКЕА']\n",
      "['Кружка', '249', 'ЭМНТ']\n",
      "['Ситечко', '199', 'САККУННИГ']\n",
      "['Кружка', '199', 'ФИНСТИЛТ']\n",
      "['Тарелка', '269', 'ЭВЕРЕНС']\n"
     ]
    }
   ],
   "source": [
    "with open('products.csv', encoding='utf-8') as file:\n",
    "    data = file.read()\n",
    "    table = [r.split(',') for r in data.splitlines()]\n",
    "    # print(*table)\n",
    "    for line in table:\n",
    "        print(line)"
   ],
   "metadata": {
    "collapsed": false,
    "ExecuteTime": {
     "end_time": "2024-09-30T06:08:52.932217400Z",
     "start_time": "2024-09-30T06:08:52.927992100Z"
    }
   },
   "id": "12104165c499bc30"
  },
  {
   "cell_type": "markdown",
   "source": [
    "С помощью такой таблицы мы можем обратиться к цене седьмого по счету товара:"
   ],
   "metadata": {
    "collapsed": false
   },
   "id": "bdf871fb132582e8"
  },
  {
   "cell_type": "code",
   "execution_count": 10,
   "outputs": [
    {
     "name": "stdout",
     "output_type": "stream",
     "text": [
      "1299\n"
     ]
    }
   ],
   "source": [
    "print(table[7][1])"
   ],
   "metadata": {
    "collapsed": false,
    "ExecuteTime": {
     "end_time": "2024-09-30T06:07:14.407392200Z",
     "start_time": "2024-09-30T06:07:14.401043600Z"
    }
   },
   "id": "f946f52df080b4e0"
  },
  {
   "cell_type": "markdown",
   "source": [
    "Или мы можем также отсортировать товары по цене и напечатать 5 самых дешевых товаров."
   ],
   "metadata": {
    "collapsed": false
   },
   "id": "fbc5da54f6432155"
  },
  {
   "cell_type": "code",
   "execution_count": 11,
   "outputs": [
    {
     "name": "stdout",
     "output_type": "stream",
     "text": [
      "['Кружка', '39', 'СТЕЛЬНА']\n",
      "['Ситечко', '59', 'ИДЕАЛИСК']\n",
      "['Ситечко', '199', 'САККУННИГ']\n",
      "['Кружка', '199', 'ФИНСТИЛТ']\n",
      "['Чашка с блюдцем', '249', 'ИКЕА']\n"
     ]
    }
   ],
   "source": [
    "with open('products.csv', encoding='utf-8') as file:\n",
    "    data = file.read()\n",
    "    table = [r.split(',') for r in data.splitlines()]\n",
    "    del table[0]                                        # удаляем заголовок\n",
    "    table.sort(key=lambda item: int(item[1]))\n",
    "    for line in table[:5]:\n",
    "        print(line)"
   ],
   "metadata": {
    "collapsed": false,
    "ExecuteTime": {
     "end_time": "2024-09-30T06:08:26.079146500Z",
     "start_time": "2024-09-30T06:08:26.072248300Z"
    }
   },
   "id": "4ef38ec4d0591ee9"
  },
  {
   "cell_type": "markdown",
   "source": [
    "Обратите внимание на то, что мы удалили первый элемент из списка, так как он содержит не данные, а заголовки. Также стоит обратить внимание на то, что в лямбда-функции мы преобразуем элемент item[1] к числовому типу, иначе сортировка будет работать не так, как полагается."
   ],
   "metadata": {
    "collapsed": false
   },
   "id": "933e70aa6b9f69b7"
  },
  {
   "cell_type": "markdown",
   "source": [
    "В приведенном выше файле products.csv символ запятой использовался в качестве разделителя полей. Однако бывают ситуации, в которых сам символ запятой является легитимным символом. Например, столбец keywords может содержать (и как правило на практике содержит) несколько ключевых слов. В таком случае структура файла нарушается. Для решения такой проблемы можно использовать два подхода."
   ],
   "metadata": {
    "collapsed": false
   },
   "id": "a84562b699c021c4"
  },
  {
   "cell_type": "markdown",
   "source": [
    "1 подход. Если поле содержит запятые, то это поле должно быть заключено в двойные кавычки. Если этого не сделать, то данные невозможно будет корректно обработать.\n",
    "\n",
    "Содержимое файла products.csv может иметь вид:"
   ],
   "metadata": {
    "collapsed": false
   },
   "id": "9a3c2a64473ae6a1"
  },
  {
   "cell_type": "markdown",
   "source": [
    "keywords,price,product_name\n",
    "\"Садовый стул, стул для дачи\",1699,ВЭДДО\n",
    "Садовый стул,2999,ЭПЛАРО\n",
    "Садовый табурет,1699,ЭПЛАРО\n",
    "Садовый стол,1999,ТЭРНО\n",
    "\"Складной стол, обеденный стол\",7499,ЭПЛАРО\n",
    "Настил,1299,РУННЕН\n",
    "Стеллаж,1299,ХИЛЛИС\n",
    "\"Кружка, сосуд, стакан с ручкой\",39,СТЕЛЬНА\n",
    "Молочник,299,ВАРДАГЕН\n",
    "Термос для еды,699,ЭФТЕРФРОГАД\n",
    "Ситечко,59,ИДЕАЛИСК\n",
    "Чайник заварочный,499,РИКЛИГ\n",
    "Кофе-пресс,699,УПХЕТТА\n",
    "Чашка с блюдцем,249,ИКЕА\n",
    "\"Кружка, стакан с ручкой\",249,ЭМНТ\n",
    "Ситечко,199,САККУННИГ\n",
    "Кружка,199,ФИНСТИЛТ\n",
    "\"Тарелка, блюдце\",269,ЭВЕРЕНС"
   ],
   "metadata": {
    "collapsed": false
   },
   "id": "66f5ff70422d7afe"
  },
  {
   "cell_type": "markdown",
   "source": [
    "Обратите внимание на записи с номерами 1, 5, 8, 15 и 18. В этих записях в столбце keywords используется символ запятой, и для правильной обработки данных нам необходимо соответствующее поле обрамить символом двойных кавычек."
   ],
   "metadata": {
    "collapsed": false
   },
   "id": "d28c325c14d86b05"
  },
  {
   "cell_type": "markdown",
   "source": [
    "Обратите внимание на то, что при таком содержимом файла products.csv наш код, написанный выше, является нерабочим, так как он разделит каждую строку через символ запятой."
   ],
   "metadata": {
    "collapsed": false
   },
   "id": "a1d5610cd9c88989"
  },
  {
   "cell_type": "markdown",
   "source": [
    "2 подход. Использовать в качестве разделителя другой символ, например, символ табуляции (\\t), который весьма редко встречается в качестве валидного содержимого файла."
   ],
   "metadata": {
    "collapsed": false
   },
   "id": "4c100558587dfbda"
  },
  {
   "cell_type": "markdown",
   "source": [
    "keywords\tprice\tproduct_name\n",
    "Садовый стул, стул для дачи\t1699\tВЭДДО\n",
    "Садовый стул\t2999\tЭПЛАРО\n",
    "Садовый табурет\t1699\tЭПЛАРО\n",
    "Садовый стол\t1999\tТЭРНО\n",
    "Складной стол, обеденный стол\t7499\tЭПЛАРО\n",
    "Настил\t1299\tРУННЕН\n",
    "Стеллаж\t1299\tХИЛЛИС\n",
    "Кружка, сосуд, стакан с ручкой\t39\tСТЕЛЬНА\n",
    "Молочник\t299\tВАРДАГЕН\n",
    "Термос для еды\t699\tЭФТЕРФРОГАД\n",
    "Ситечко\t59\tИДЕАЛИСК\n",
    "Чайник заварочный\t499\tРИКЛИГ\n",
    "Кофе-пресс\t699\tУПХЕТТА\n",
    "Чашка с блюдцем\t249\tИКЕА\n",
    "Кружка, стакан с ручкой\t249\tЭМНТ\n",
    "Ситечко\t199\tСАККУННИГ\n",
    "Кружка\t199\tФИНСТИЛТ\n",
    "Тарелка, блюдце\t269\tЭВЕРЕНС"
   ],
   "metadata": {
    "collapsed": false
   },
   "id": "aab9d0181dfa70cf"
  },
  {
   "cell_type": "markdown",
   "source": [
    "Формат данных csv, в котором разделителем является символ табуляции, называют tsv (англ. tab separated values — «значения, разделенные табуляцией»)."
   ],
   "metadata": {
    "collapsed": false
   },
   "id": "b29b1390a7ff9e43"
  },
  {
   "cell_type": "markdown",
   "source": [
    "tsv — текстовый формат для представления табличных данных. Каждая запись в таблице — строка текстового файла. Каждое поле записи отделяется от других символом табуляции, а точнее — горизонтальной табуляции."
   ],
   "metadata": {
    "collapsed": false
   },
   "id": "7833aa7c6153ef1a"
  },
  {
   "cell_type": "markdown",
   "source": [
    "tsv и csv — формы более общего формата dsv (англ. delimiter separated values — «значения, разграниченные разделителем»)."
   ],
   "metadata": {
    "collapsed": false
   },
   "id": "1ab57d240c840bbe"
  },
  {
   "cell_type": "markdown",
   "source": [
    "Приведенный ниже код правильно обрабатывает файл products.tsv, в котором символом разделителя выбран символ табуляции (\\t):"
   ],
   "metadata": {
    "collapsed": false
   },
   "id": "bbca2ed083205c3b"
  },
  {
   "cell_type": "code",
   "execution_count": 13,
   "outputs": [
    {
     "name": "stdout",
     "output_type": "stream",
     "text": [
      "['Кружка, сосуд, стакан с ручкой', '39', 'СТЕЛЬНА']\n",
      "['Ситечко', '59', 'ИДЕАЛИСК']\n",
      "['Ситечко', '199', 'САККУННИГ']\n",
      "['Кружка', '199', 'ФИНСТИЛТ']\n",
      "['Чашка с блюдцем', '249', 'ИКЕА']\n"
     ]
    }
   ],
   "source": [
    "with open('products.tsv', encoding='utf-8') as file:\n",
    "    data = file.read()\n",
    "    table = [r.split('\\t') for r in data.splitlines()]\n",
    "    del table[0]\n",
    "    table.sort(key=lambda item: int(item[1]))\n",
    "    for line in table[:5]:\n",
    "        print(line)"
   ],
   "metadata": {
    "collapsed": false,
    "ExecuteTime": {
     "end_time": "2024-09-30T06:14:59.806820200Z",
     "start_time": "2024-09-30T06:14:59.793432100Z"
    }
   },
   "id": "fbcc910c7fc5f14a"
  },
  {
   "cell_type": "markdown",
   "source": [
    "Модуль csv"
   ],
   "metadata": {
    "collapsed": false
   },
   "id": "32e7148cef7d5b00"
  },
  {
   "cell_type": "markdown",
   "source": [
    "Несмотря на то что csv формат очень прост и мы можем работать с ним, как с обычным текстовым файлом, на практике используется встроенный модуль csv.\n",
    "\n",
    "В данном модуле есть два основных объекта: reader и writer, созданные, чтобы читать и создавать csv файлы соответственно."
   ],
   "metadata": {
    "collapsed": false
   },
   "id": "91bd9dfe6a09f0ab"
  },
  {
   "cell_type": "markdown",
   "source": [
    "Чтение данных с помощью reader"
   ],
   "metadata": {
    "collapsed": false
   },
   "id": "7692b15e33a7ee02"
  },
  {
   "cell_type": "markdown",
   "source": [
    "Для импорта модуля мы используем строку кода:"
   ],
   "metadata": {
    "collapsed": false
   },
   "id": "b9f72a2724338100"
  },
  {
   "cell_type": "code",
   "execution_count": 14,
   "outputs": [],
   "source": [
    "import csv"
   ],
   "metadata": {
    "collapsed": false,
    "ExecuteTime": {
     "end_time": "2024-09-30T06:16:40.631035500Z",
     "start_time": "2024-09-30T06:16:40.629974800Z"
    }
   },
   "id": "d60ed39ddac7e1a9"
  },
  {
   "cell_type": "markdown",
   "source": [
    "Этот модуль входит в стандартную библиотеку, и его не нужно устанавливать каким‑то особенным способом.\n",
    "\n",
    "Рассмотрим все тот же файл products.csv, содержащий информацию о товарах интернет магазина:"
   ],
   "metadata": {
    "collapsed": false
   },
   "id": "743807ca9203fd34"
  },
  {
   "cell_type": "markdown",
   "source": [
    "keywords,price,product_name\n",
    "Садовый стул,1699,ВЭДДО\n",
    "Садовый стул,2999,ЭПЛАРО\n",
    "Садовый табурет,1699,ЭПЛАРО\n",
    "Садовый стол,1999,ТЭРНО\n",
    "Складной стол,7499,ЭПЛАРО\n",
    "Настил,1299,РУННЕН\n",
    "Стеллаж,1299,ХИЛЛИС\n",
    "Кружка,39,СТЕЛЬНА\n",
    "Молочник,299,ВАРДАГЕН\n",
    "Термос для еды,699,ЭФТЕРФРОГАД\n",
    "Ситечко,59,ИДЕАЛИСК\n",
    "Чайник заварочный,499,РИКЛИГ\n",
    "Кофе-пресс,699,УПХЕТТА\n",
    "Чашка с блюдцем,249,ИКЕА\n",
    "Кружка,249,ЭМНТ\n",
    "Ситечко,199,САККУННИГ\n",
    "Кружка,199,ФИНСТИЛТ\n",
    "Тарелка,269,ЭВЕРЕНС"
   ],
   "metadata": {
    "collapsed": false
   },
   "id": "71ab3cec494a8a54"
  },
  {
   "cell_type": "code",
   "execution_count": 15,
   "outputs": [
    {
     "name": "stdout",
     "output_type": "stream",
     "text": [
      "['keywords', 'price', 'product_name']\n",
      "['Садовый стул', '1699', 'ВЭДДО']\n",
      "['Садовый стул', '2999', 'ЭПЛАРО']\n",
      "['Садовый табурет', '1699', 'ЭПЛАРО']\n",
      "['Садовый стол', '1999', 'ТЭРНО']\n",
      "['Складной стол', '7499', 'ЭПЛАРО']\n",
      "['Настил', '1299', 'РУННЕН']\n",
      "['Стеллаж', '1299', 'ХИЛЛИС']\n",
      "['Кружка', '39', 'СТЕЛЬНА']\n",
      "['Молочник', '299', 'ВАРДАГЕН']\n",
      "['Термос для еды', '699', 'ЭФТЕРФРОГАД']\n",
      "['Ситечко', '59', 'ИДЕАЛИСК']\n",
      "['Чайник заварочный', '499', 'РИКЛИГ']\n",
      "['Кофе-пресс', '699', 'УПХЕТТА']\n",
      "['Чашка с блюдцем', '249', 'ИКЕА']\n",
      "['Кружка', '249', 'ЭМНТ']\n",
      "['Ситечко', '199', 'САККУННИГ']\n",
      "['Кружка', '199', 'ФИНСТИЛТ']\n",
      "['Тарелка', '269', 'ЭВЕРЕНС']\n"
     ]
    }
   ],
   "source": [
    "import csv\n",
    "\n",
    "with open('products.csv', encoding='utf-8') as file:\n",
    "    rows = csv.reader(file)                               # создаем reader объект\n",
    "    for row in rows:\n",
    "        print(row)"
   ],
   "metadata": {
    "collapsed": false,
    "ExecuteTime": {
     "end_time": "2024-09-30T06:17:09.009268800Z",
     "start_time": "2024-09-30T06:17:09.003978200Z"
    }
   },
   "id": "f95b00fd9cacbe6"
  },
  {
   "cell_type": "markdown",
   "source": [
    "Самая важная строка кода в программе — это строка с созданием reader объекта:"
   ],
   "metadata": {
    "collapsed": false
   },
   "id": "1426b925d3e7dca0"
  },
  {
   "cell_type": "code",
   "execution_count": null,
   "outputs": [],
   "source": [
    "rows = csv.reader(file)"
   ],
   "metadata": {
    "collapsed": false
   },
   "id": "681056af9a532bad"
  },
  {
   "cell_type": "markdown",
   "source": [
    "Объект reader дает доступ к построчному итератору, полностью аналогичному работе с файлом или списком."
   ],
   "metadata": {
    "collapsed": false
   },
   "id": "ba3b9fb2179520d1"
  },
  {
   "cell_type": "markdown",
   "source": [
    "После выполнения этой строки в переменную rows будет записан итератор, с помощью которого можно «пробежаться» циклом по файлу. В каждой итерации цикла при этом будет доступна соответствующая строка файла, уже разбитая по запятым и представляющая собой список. При этом автоматически будут учтены все нюансы с запятыми внутри кавычек и самими кавычками."
   ],
   "metadata": {
    "collapsed": false
   },
   "id": "8d15f2011f72a9d1"
  },
  {
   "cell_type": "code",
   "execution_count": 38,
   "outputs": [
    {
     "name": "stdout",
     "output_type": "stream",
     "text": [
      "['keywords', 'price', 'product_name']\n",
      "['Садовый стул, стул для дачи', '1699', 'ВЭДДО']\n",
      "['Садовый стул', '2999', 'ЭПЛАРО']\n",
      "['Садовый табурет', '1699', 'ЭПЛАРО']\n",
      "['Садовый стол', '1999', 'ТЭРНО']\n",
      "['Складной стол, обеденный стол', '7499', 'ЭПЛАРО']\n",
      "['Настил', '1299', 'РУННЕН']\n",
      "['Стеллаж', '1299', 'ХИЛЛИС']\n",
      "['Кружка, сосуд, стакан с ручкой', '39', 'СТЕЛЬНА']\n",
      "['Молочник', '299', 'ВАРДАГЕН']\n",
      "['Термос для еды', '699', 'ЭФТЕРФРОГАД']\n",
      "['Ситечко', '59', 'ИДЕАЛИСК']\n",
      "['Чайник заварочный', '499', 'РИКЛИГ']\n",
      "['Кофе-пресс', '699', 'УПХЕТТА']\n",
      "['Чашка с блюдцем', '249', 'ИКЕА']\n",
      "['Кружка, стакан с ручкой', '249', 'ЭМНТ']\n",
      "['Ситечко', '199', 'САККУННИГ']\n",
      "['Кружка', '199', 'ФИНСТИЛТ']\n",
      "['Тарелка, блюдце', '269', 'ЭВЕРЕНС']\n"
     ]
    }
   ],
   "source": [
    "import csv\n",
    "\n",
    "with open('products1.csv', encoding='utf-8') as file:\n",
    "    rows = csv.reader(file)\n",
    "    # for row in rows:\n",
    "    #     print(row)\n",
    "    # table = [row for row in rows]\n",
    "    table = list(rows)\n",
    "    for row in table:\n",
    "        print(row)"
   ],
   "metadata": {
    "collapsed": false,
    "ExecuteTime": {
     "end_time": "2024-09-30T06:57:29.592613500Z",
     "start_time": "2024-09-30T06:57:29.586842600Z"
    }
   },
   "id": "8844639e0220da2d"
  },
  {
   "cell_type": "code",
   "execution_count": 39,
   "outputs": [
    {
     "name": "stdout",
     "output_type": "stream",
     "text": [
      "Садовый стул, стул для дачи\n",
      "Садовый стул\n"
     ]
    }
   ],
   "source": [
    "print(table[1][0])\n",
    "print(table[2][0])"
   ],
   "metadata": {
    "collapsed": false,
    "ExecuteTime": {
     "end_time": "2024-09-30T06:57:33.377038100Z",
     "start_time": "2024-09-30T06:57:33.370024400Z"
    }
   },
   "id": "cb041f75a29d1ece"
  },
  {
   "cell_type": "markdown",
   "source": [
    "Так как каждая строка файла, полученная из итератора, является списком, к ней можно применять все способы работы со списками."
   ],
   "metadata": {
    "collapsed": false
   },
   "id": "90038227dafd0f64"
  },
  {
   "cell_type": "code",
   "execution_count": 40,
   "outputs": [
    {
     "name": "stdout",
     "output_type": "stream",
     "text": [
      "Ключевые слова: keywords, цена: price, название: product_name\n",
      "Ключевые слова: Садовый стул, цена: 1699, название: ВЭДДО\n",
      "Ключевые слова: Садовый стул, цена: 2999, название: ЭПЛАРО\n",
      "Ключевые слова: Садовый табурет, цена: 1699, название: ЭПЛАРО\n",
      "Ключевые слова: Садовый стол, цена: 1999, название: ТЭРНО\n",
      "Ключевые слова: Складной стол, цена: 7499, название: ЭПЛАРО\n",
      "Ключевые слова: Настил, цена: 1299, название: РУННЕН\n",
      "Ключевые слова: Стеллаж, цена: 1299, название: ХИЛЛИС\n",
      "Ключевые слова: Кружка, цена: 39, название: СТЕЛЬНА\n",
      "Ключевые слова: Молочник, цена: 299, название: ВАРДАГЕН\n",
      "Ключевые слова: Термос для еды, цена: 699, название: ЭФТЕРФРОГАД\n",
      "Ключевые слова: Ситечко, цена: 59, название: ИДЕАЛИСК\n",
      "Ключевые слова: Чайник заварочный, цена: 499, название: РИКЛИГ\n",
      "Ключевые слова: Кофе-пресс, цена: 699, название: УПХЕТТА\n",
      "Ключевые слова: Чашка с блюдцем, цена: 249, название: ИКЕА\n",
      "Ключевые слова: Кружка, цена: 249, название: ЭМНТ\n",
      "Ключевые слова: Ситечко, цена: 199, название: САККУННИГ\n",
      "Ключевые слова: Кружка, цена: 199, название: ФИНСТИЛТ\n",
      "Ключевые слова: Тарелка, цена: 269, название: ЭВЕРЕНС\n"
     ]
    }
   ],
   "source": [
    "import csv\n",
    "\n",
    "with open('products.csv', encoding='utf-8') as file:\n",
    "    rows = csv.reader(file)\n",
    "    for keywords, price, product_name in rows:\n",
    "        print(f'Ключевые слова: {keywords}, цена: {price}, название: {product_name}')"
   ],
   "metadata": {
    "collapsed": false,
    "ExecuteTime": {
     "end_time": "2024-09-30T07:05:08.842174500Z",
     "start_time": "2024-09-30T07:05:08.840615400Z"
    }
   },
   "id": "ba797bb0d7f91a86"
  },
  {
   "cell_type": "markdown",
   "source": [
    "При создании reader объекта мы можем его настраивать, указывая:"
   ],
   "metadata": {
    "collapsed": false
   },
   "id": "970c61bcd7549a41"
  },
  {
   "cell_type": "markdown",
   "source": [
    "аргумент delimiter — односимвольная строка, используемая для разделения полей, по умолчанию имеет значение ','\n",
    "аргумент quotechar — односимвольная строка, используемая для кавычек в полях, содержащих специальные символы, по умолчанию имеет значение '\"'."
   ],
   "metadata": {
    "collapsed": false
   },
   "id": "e4797982493bd47b"
  },
  {
   "cell_type": "markdown",
   "source": [
    "Пусть содержимое файла products.csv имеет вид (в качестве разделителя выбран символ ';'):"
   ],
   "metadata": {
    "collapsed": false
   },
   "id": "3ebf65474f54472b"
  },
  {
   "cell_type": "markdown",
   "source": [
    "keywords;price;product_name\n",
    "\"Садовый стул, стул для дачи\";1699;ВЭДДО\n",
    "Садовый стул;2999;ЭПЛАРО\n",
    "Садовый табурет;1699;ЭПЛАРО\n",
    "Садовый стол;1999;ТЭРНО\n",
    "\"Складной стол, обеденный стол\";7499;ЭПЛАРО\n",
    "Настил;1299;РУННЕН\n",
    "Стеллаж;1299;ХИЛЛИС\n",
    "\"Кружка, сосуд, стакан с ручкой\";39;СТЕЛЬНА\n",
    "Молочник;299;ВАРДАГЕН\n",
    "Термос для еды;699;ЭФТЕРФРОГАД\n",
    "Ситечко;59;ИДЕАЛИСК\n",
    "Чайник заварочный;499;РИКЛИГ\n",
    "Кофе-пресс;699;УПХЕТТА\n",
    "Чашка с блюдцем;249;ИКЕА\n",
    "\"Кружка, стакан с ручкой\";249;ЭМНТ\n",
    "Ситечко;199;САККУННИГ\n",
    "Кружка;199;ФИНСТИЛТ\n",
    "\"Тарелка, блюдце\";269;ЭВЕРЕНС"
   ],
   "metadata": {
    "collapsed": false
   },
   "id": "7fa0430caef27627"
  },
  {
   "cell_type": "code",
   "execution_count": 41,
   "outputs": [
    {
     "name": "stdout",
     "output_type": "stream",
     "text": [
      "['keywords', 'price', 'product_name']\n",
      "['Садовый стул, стул для дачи', '1699', 'ВЭДДО']\n",
      "['Садовый стул', '2999', 'ЭПЛАРО']\n",
      "['Садовый табурет', '1699', 'ЭПЛАРО']\n",
      "['Садовый стол', '1999', 'ТЭРНО']\n",
      "['Складной стол, обеденный стол', '7499', 'ЭПЛАРО']\n"
     ]
    }
   ],
   "source": [
    "import csv\n",
    "\n",
    "with open('products2.csv', encoding='utf-8') as file:\n",
    "    rows = csv.reader(file, delimiter=';', quotechar='\"')\n",
    "    for index, row in enumerate(rows):\n",
    "        if index > 5:\n",
    "            break\n",
    "        print(row)"
   ],
   "metadata": {
    "collapsed": false,
    "ExecuteTime": {
     "end_time": "2024-09-30T07:11:15.032626200Z",
     "start_time": "2024-09-30T07:11:15.031024Z"
    }
   },
   "id": "73988bfe3f0c4838"
  },
  {
   "cell_type": "markdown",
   "source": [
    "При создании reader объекта мы указываем, что символ-разделитель записей delimiter в нашем файле — точка с запятой, а символ кавычек quotechar — двойные кавычки. Кроме того, мы используем встроенную функцию enumerate() для нумерации строк."
   ],
   "metadata": {
    "collapsed": false
   },
   "id": "5668698374243881"
  },
  {
   "cell_type": "markdown",
   "source": [
    "Обратите внимание на то, что для корректной обработки данных мы должны все еще исключить первую строку из обработки, которая содержит названия столбцов."
   ],
   "metadata": {
    "collapsed": false
   },
   "id": "62eb3f69f4012588"
  },
  {
   "cell_type": "markdown",
   "source": [
    "Чтение данных с помощью DictReader"
   ],
   "metadata": {
    "collapsed": false
   },
   "id": "e4231870f861418"
  },
  {
   "cell_type": "markdown",
   "source": [
    "Иcпользовать reader объект не всегда удобно, так как он возвращает сырые списки из строк файла, к тому же первой строкой является строка с названиями столбцов, которая практически всегда удаляется, так как мешает правильной обработке данных.\n",
    "\n",
    "В модуле csv есть специальный объект DictReader, который поддерживает создание объекта-словаря на основе названий столбцов. С помощью DictReader объекта мы можем обращаться к полям не по индексу, а по названию, что делает код более понятным."
   ],
   "metadata": {
    "collapsed": false
   },
   "id": "cdbed65cd67040b0"
  },
  {
   "cell_type": "code",
   "execution_count": 43,
   "outputs": [
    {
     "name": "stdout",
     "output_type": "stream",
     "text": [
      "{'keywords': 'Садовый стул, стул для дачи', 'price': '1699', 'product_name': 'ВЭДДО'}\n",
      "{'keywords': 'Садовый стул', 'price': '2999', 'product_name': 'ЭПЛАРО'}\n",
      "{'keywords': 'Садовый табурет', 'price': '1699', 'product_name': 'ЭПЛАРО'}\n",
      "{'keywords': 'Садовый стол', 'price': '1999', 'product_name': 'ТЭРНО'}\n",
      "{'keywords': 'Складной стол, обеденный стол', 'price': '7499', 'product_name': 'ЭПЛАРО'}\n",
      "{'keywords': 'Настил', 'price': '1299', 'product_name': 'РУННЕН'}\n",
      "{'keywords': 'Стеллаж', 'price': '1299', 'product_name': 'ХИЛЛИС'}\n",
      "{'keywords': 'Кружка, сосуд, стакан с ручкой', 'price': '39', 'product_name': 'СТЕЛЬНА'}\n",
      "{'keywords': 'Молочник', 'price': '299', 'product_name': 'ВАРДАГЕН'}\n",
      "{'keywords': 'Термос для еды', 'price': '699', 'product_name': 'ЭФТЕРФРОГАД'}\n",
      "{'keywords': 'Ситечко', 'price': '59', 'product_name': 'ИДЕАЛИСК'}\n",
      "{'keywords': 'Чайник заварочный', 'price': '499', 'product_name': 'РИКЛИГ'}\n",
      "{'keywords': 'Кофе-пресс', 'price': '699', 'product_name': 'УПХЕТТА'}\n",
      "{'keywords': 'Чашка с блюдцем', 'price': '249', 'product_name': 'ИКЕА'}\n",
      "{'keywords': 'Кружка, стакан с ручкой', 'price': '249', 'product_name': 'ЭМНТ'}\n",
      "{'keywords': 'Ситечко', 'price': '199', 'product_name': 'САККУННИГ'}\n",
      "{'keywords': 'Кружка', 'price': '199', 'product_name': 'ФИНСТИЛТ'}\n",
      "{'keywords': 'Тарелка, блюдце', 'price': '269', 'product_name': 'ЭВЕРЕНС'}\n"
     ]
    }
   ],
   "source": [
    "import csv\n",
    "\n",
    "with open('products3.csv', encoding='utf-8') as file:\n",
    "    rows = csv.DictReader(file, delimiter=';', quotechar='\"')\n",
    "    for row in rows:\n",
    "        print(row)"
   ],
   "metadata": {
    "collapsed": false,
    "ExecuteTime": {
     "end_time": "2024-09-30T07:18:23.580274800Z",
     "start_time": "2024-09-30T07:18:23.572945800Z"
    }
   },
   "id": "55a7f07db2652c86"
  },
  {
   "cell_type": "markdown",
   "source": [
    "Обратите внимание на то, что переменная row имеет тип dict в Python 3.8+. В более ранних версиях переменная row имела тип OrderedDict, который мы изучим чуть позже."
   ],
   "metadata": {
    "collapsed": false
   },
   "id": "2ed1b223e2b8be16"
  },
  {
   "cell_type": "code",
   "execution_count": 44,
   "outputs": [
    {
     "name": "stdout",
     "output_type": "stream",
     "text": [
      "{'keywords': 'Складной стол, обеденный стол', 'price': '7499', 'product_name': 'ЭПЛАРО'}\n",
      "{'keywords': 'Садовый стул', 'price': '2999', 'product_name': 'ЭПЛАРО'}\n",
      "{'keywords': 'Садовый стол', 'price': '1999', 'product_name': 'ТЭРНО'}\n",
      "{'keywords': 'Садовый стул, стул для дачи', 'price': '1699', 'product_name': 'ВЭДДО'}\n",
      "{'keywords': 'Садовый табурет', 'price': '1699', 'product_name': 'ЭПЛАРО'}\n"
     ]
    }
   ],
   "source": [
    "import csv\n",
    "\n",
    "with open('products3.csv', encoding='utf-8') as file:\n",
    "    rows = csv.DictReader(file, delimiter=';', quotechar='\"')\n",
    "    expensive = sorted(rows, key=lambda item: int(item['price']), reverse=True)\n",
    "    for record in expensive[:5]:\n",
    "        print(record)"
   ],
   "metadata": {
    "collapsed": false,
    "ExecuteTime": {
     "end_time": "2024-09-30T07:19:23.967837300Z",
     "start_time": "2024-09-30T07:19:23.958853600Z"
    }
   },
   "id": "39c43c9b917f0d3e"
  },
  {
   "cell_type": "markdown",
   "source": [
    "При создании DictReader объекта значениями по умолчанию для аргументов delimiter и quotechar являются ',' (символ запятой) и '\"' (символ двойной кавычки) соответственно."
   ],
   "metadata": {
    "collapsed": false
   },
   "id": "72f1fa14ecef3eff"
  },
  {
   "cell_type": "markdown",
   "source": [
    "Обратите внимание на то, что при использовании DictReader мы не избавляемся от первой строки, содержащей названия столбцов. Они хранятся в атрибуте fieldnames объекта DictReader. При этом к элементам строк мы обращаемся теперь не по индексам (int(item[1])), а по их названиям (int(item['price'])), что намного удобнее."
   ],
   "metadata": {
    "collapsed": false
   },
   "id": "3a5debc16b5bd00e"
  },
  {
   "cell_type": "markdown",
   "source": [
    "Запись данных с помощью writer"
   ],
   "metadata": {
    "collapsed": false
   },
   "id": "ad3710d38619301"
  },
  {
   "cell_type": "markdown",
   "source": [
    "Для записи данных в csv файл можно использовать специальный writer объект."
   ],
   "metadata": {
    "collapsed": false
   },
   "id": "378e0cf5b3f6d02f"
  },
  {
   "cell_type": "code",
   "execution_count": 45,
   "outputs": [],
   "source": [
    "import csv\n",
    "\n",
    "columns = ['first_name', 'second_name', 'class_number', 'class_letter']\n",
    "data = [['Тимур', 'Гуев', 11, 'А'], ['Руслан', 'Чаниев', 9, 'Б'], ['Артур', 'Харисов', 10, 'В']]\n",
    "\n",
    "with open('students.csv', 'w', encoding='utf-8', newline='') as file:\n",
    "    writer = csv.writer(file)\n",
    "    writer.writerow(columns)                 # запись заголовков\n",
    "    for row in data:                         # запись строк\n",
    "        writer.writerow(row)"
   ],
   "metadata": {
    "collapsed": false,
    "ExecuteTime": {
     "end_time": "2024-09-30T07:23:06.176948600Z",
     "start_time": "2024-09-30T07:23:06.167876700Z"
    }
   },
   "id": "4784e98ab293043a"
  },
  {
   "cell_type": "markdown",
   "source": [
    "создает файл students.csv с содержимым:"
   ],
   "metadata": {
    "collapsed": false
   },
   "id": "32afab795d1528e3"
  },
  {
   "cell_type": "markdown",
   "source": [
    "first_name,second_name,class_number,class_letter\n",
    "Тимур,Гуев,11,А\n",
    "Руслан,Чаниев,9,Б\n",
    "Артур,Харисов,10,В"
   ],
   "metadata": {
    "collapsed": false
   },
   "id": "fa9e2157e5e2eb29"
  },
  {
   "cell_type": "markdown",
   "source": [
    "Обратите внимание на необязательный параметр newline функции open(), который имеет значение '' (пустой строки). Он отвечает за переводы строк при чтении или записи в текстовый файл. По умолчанию имеет значение None, в этом случае все разделители строк преобразуются в '\\n'. Если в файле оказывается лишний перевод строки, то следует использовать этот параметр в режиме newline='', тогда '\\n' будет преобразован в пустую строку."
   ],
   "metadata": {
    "collapsed": false
   },
   "id": "c27b2d7059f4a888"
  },
  {
   "cell_type": "markdown",
   "source": [
    "При создании writer объекта мы так же можем его настраивать, задавая delimiter и многие другие параметры."
   ],
   "metadata": {
    "collapsed": false
   },
   "id": "f71001ea5013131a"
  },
  {
   "cell_type": "code",
   "execution_count": null,
   "outputs": [],
   "source": [
    "import csv\n",
    "\n",
    "columns = ['first_name', 'second_name', 'class_number', 'class_letter']\n",
    "data = [['Тимур', 'Гуев', 11, 'А'], ['Руслан', 'Чаниев', 9, 'Б'], ['Роман', 'Белых', 10, 'В']]\n",
    "\n",
    "with open('students.csv', 'w', encoding='utf-8', newline='') as file:\n",
    "    writer = csv.writer(file, delimiter=';', quoting=csv.QUOTE_NONNUMERIC)\n",
    "    writer.writerow(columns)\n",
    "    for row in data:\n",
    "        writer.writerow(row)"
   ],
   "metadata": {
    "collapsed": false
   },
   "id": "4ec3662d004c329e"
  },
  {
   "cell_type": "markdown",
   "source": [
    "создает файл с содержимым:"
   ],
   "metadata": {
    "collapsed": false
   },
   "id": "fd995c593072122f"
  },
  {
   "cell_type": "markdown",
   "source": [
    "\"first_name\";\"second_name\";\"class_number\";\"class_letter\"\n",
    "\"Тимур\";\"Гуев\";11;\"А\"\n",
    "\"Руслан\";\"Чаниев\";9;\"Б\"\n",
    "\"Роман\";\"Белых\";10;\"В\""
   ],
   "metadata": {
    "collapsed": false
   },
   "id": "e1267eb1ab14c5e3"
  },
  {
   "cell_type": "markdown",
   "source": [
    "Значение аргумента quoting=csv.QUOTE_NONNUMERIC означает, что в кавычки будут браться все нечисловые значения. По умолчанию символом кавычки является \", если нужно поменять символ, то используйте уже знакомый нам именованный аргумент quotechar"
   ],
   "metadata": {
    "collapsed": false
   },
   "id": "45e20a3ca56c6264"
  },
  {
   "cell_type": "markdown",
   "source": [
    "Для задания параметра quoting используются специальные константы из модуля csv:\n",
    "\n",
    "QUOTE_ALL: указывает объектам записи указывать все поля\n",
    "QUOTE_MINIMAL: указывает объектам записи заключать в кавычки только те поля, которые содержат специальные символы, такие как разделитель delimiter, кавычка quotechar или любой из символов в lineterminator\n",
    "QUOTE_NONNUMERIC: указывает объектам записи указывать все нечисловые поля\n",
    "QUOTE_NONE: указывает объектам записи никогда не заключать в кавычки поля"
   ],
   "metadata": {
    "collapsed": false
   },
   "id": "4be3562d0574f59"
  },
  {
   "cell_type": "markdown",
   "source": [
    "Помимо метода writerow() можно использовать и метод writerows(), чтобы записать сразу несколько строк. Единственным аргументом этого метода может быть коллекция коллекций. То есть, каждый элемент списка rows в нашем случае должен быть коллекцией. Если rows будет, например, списком чисел, программа завершится с ошибкой."
   ],
   "metadata": {
    "collapsed": false
   },
   "id": "62b37fb327ebc039"
  },
  {
   "cell_type": "code",
   "execution_count": null,
   "outputs": [],
   "source": [
    "import csv\n",
    "\n",
    "columns = ['first_name', 'second_name', 'class_number', 'class_letter']\n",
    "data = [['Тимур', 'Гуев', 11, 'А'], ['Руслан', 'Чаниев', 9, 'Б'], ['Роман', 'Белых', 10, 'В']]\n",
    "\n",
    "with open('students.csv', 'w', encoding='utf-8', newline='') as file:\n",
    "    writer = csv.writer(file, delimiter=';', quoting=csv.QUOTE_NONNUMERIC)\n",
    "    writer.writerow(columns)\n",
    "    writer.writerows(data)"
   ],
   "metadata": {
    "collapsed": false
   },
   "id": "23170ec9ba8f1f16"
  },
  {
   "cell_type": "markdown",
   "source": [
    "создает файл students.csv с содержимым:"
   ],
   "metadata": {
    "collapsed": false
   },
   "id": "408fa8710a514302"
  },
  {
   "cell_type": "markdown",
   "source": [
    "\"first_name\";\"second_name\";\"class_number\";\"class_letter\"\n",
    "\"Тимур\";\"Гуев\";11;\"А\"\n",
    "\"Руслан\";\"Чаниев\";9;\"Б\"\n",
    "\"Роман\";\"Белых\";10;\"В\""
   ],
   "metadata": {
    "collapsed": false
   },
   "id": "9a360ce0597dd786"
  },
  {
   "cell_type": "markdown",
   "source": [
    "Запись данных с помощью DictWriter"
   ],
   "metadata": {
    "collapsed": false
   },
   "id": "1a227aa92bee426e"
  },
  {
   "cell_type": "markdown",
   "source": [
    "Для записи данных в csv файл также можно использовать DictWriter объект, который позволяет записывать содержимое словаря в файл."
   ],
   "metadata": {
    "collapsed": false
   },
   "id": "470cdfeeeb25670e"
  },
  {
   "cell_type": "code",
   "execution_count": null,
   "outputs": [],
   "source": [
    "import csv\n",
    "\n",
    "data = [{'first_name': 'Тимур', 'second_name': 'Гуев', 'class_number': 11, 'class_letter': 'А'},\n",
    "        {'first_name': 'Руслан', 'second_name': 'Чаниев', 'class_number': 9, 'class_letter': 'Б'},\n",
    "        {'first_name': 'Роман', 'second_name': 'Белых', 'class_number': 10, 'class_letter': 'В'}]\n",
    "\n",
    "columns = ['first_name', 'second_name', 'class_number', 'class_letter']\n",
    "\n",
    "with open('students.csv', 'w', encoding='utf-8', newline='') as file:\n",
    "    writer = csv.DictWriter(file, fieldnames=columns, delimiter=';', quoting=csv.QUOTE_NONNUMERIC)\n",
    "    writer.writeheader()                 # запись заголовков\n",
    "    for row in data:                     # запись строк\n",
    "        writer.writerow(row)"
   ],
   "metadata": {
    "collapsed": false
   },
   "id": "6c55b61a4bffad95"
  },
  {
   "cell_type": "markdown",
   "source": [
    "создает файл students.csv с содержимым:"
   ],
   "metadata": {
    "collapsed": false
   },
   "id": "f65131ccba66eeb3"
  },
  {
   "cell_type": "markdown",
   "source": [
    "\"first_name\";\"second_name\";\"class_number\";\"class_letter\"\n",
    "\"Тимур\";\"Гуев\";11;\"А\"\n",
    "\"Руслан\";\"Чаниев\";9;\"Б\"\n",
    "\"Роман\";\"Белых\";10;\"В\""
   ],
   "metadata": {
    "collapsed": false
   },
   "id": "f92d8875ba0c688b"
  },
  {
   "cell_type": "markdown",
   "source": [
    "Мы также можем использовать метод writerows() объекта DictWriter для записи сразу нескольких строк. Таким образом вместо строк кода:"
   ],
   "metadata": {
    "collapsed": false
   },
   "id": "61cf6b0b825851b9"
  },
  {
   "cell_type": "code",
   "execution_count": null,
   "outputs": [],
   "source": [
    "for row in data:\n",
    "    writer.writerow(row)"
   ],
   "metadata": {
    "collapsed": false
   },
   "id": "5b42849ff710353"
  },
  {
   "cell_type": "markdown",
   "source": [
    "можно написать:"
   ],
   "metadata": {
    "collapsed": false
   },
   "id": "ca9004811a702de5"
  },
  {
   "cell_type": "code",
   "execution_count": null,
   "outputs": [],
   "source": [
    "writer.writerows(data)"
   ],
   "metadata": {
    "collapsed": false
   },
   "id": "e3bc92e09afb142e"
  },
  {
   "cell_type": "markdown",
   "source": [
    "Обратите внимание на то, что ключи словарей, которые записываются в файл, должны совпадать с названиями полей, которые переданы в качестве аргумента fieldnames, иначе будет возникать ошибка ValueError."
   ],
   "metadata": {
    "collapsed": false
   },
   "id": "561f5031000d86"
  },
  {
   "cell_type": "markdown",
   "source": [
    "Примечания"
   ],
   "metadata": {
    "collapsed": false
   },
   "id": "e99d38119daeb79a"
  },
  {
   "cell_type": "markdown",
   "source": [
    "Примечание 1. Спецификация формата csv:\n",
    "\n",
    "каждая строка файла — это одна строка таблицы\n",
    "разделителем (delimiter) значений колонок является символ запятой ,. Однако на практике часто используются другие разделители, например: ; или символ табуляции \\t (формат TSV)\n",
    "значения, содержащие зарезервированные символы (двойная кавычка, запятая, точка с запятой, новая строка), обрамляются двойными кавычками \". Если в значении встречаются кавычки — они представляются в файле в виде двух кавычек подряд"
   ],
   "metadata": {
    "collapsed": false
   },
   "id": "fd6c2be8e308dddf"
  },
  {
   "cell_type": "markdown",
   "source": [
    "Примечание 4. Достаточно распространенная ошибка при чтении данных из csv файла — это передача в csv.reader (csv.DictReader) не файлового объекта, а текстовых данных, считанных из файла. Это не вызывает ошибки, но результат будет отличаться от ожидаемого."
   ],
   "metadata": {
    "collapsed": false
   },
   "id": "3486ea8075cc1b14"
  },
  {
   "cell_type": "markdown",
   "source": [
    "Примечание 5. При создании reader объекта важно, чтобы файл был открыт в режиме чтения ('r'), аналогично при создании writer объекта — в режиме записи ('w')."
   ],
   "metadata": {
    "collapsed": false
   },
   "id": "fa0b94e86dfa2f84"
  },
  {
   "cell_type": "markdown",
   "source": [
    "Примечание 6. Так как reader объект является итератором, мы можем преобразовать его в список или кортеж с помощью встроенных функций list() и tuple() соответственно, но не можем преобразовать в множество, т.к. его элементами могут быть только неизменяемые объекты, которыми списки не являются."
   ],
   "metadata": {
    "collapsed": false
   },
   "id": "12874e781de64b91"
  },
  {
   "cell_type": "markdown",
   "source": [
    "метод  pandas.read_csv  принимает .csv файл и возвращает pandas.DataFrame (это что-то наподобие  экселевской   таблички). Если указать неверный разделитель, ошибки не возникнет -  просто получим винегрет с одной колонкой. Атрибут pandas.shape содержит кортеж из количества строк и столбцов. Идея в том, что  перебирая разделители находим корректный  DataFrame с количеством столбцов  больше одного и добавляем его в список датафреймов."
   ],
   "metadata": {
    "collapsed": false
   },
   "id": "6709c64c8f2836c1"
  },
  {
   "cell_type": "code",
   "execution_count": 50,
   "outputs": [
    {
     "data": {
      "text/plain": "[             keywords  price product_name\n 0        Садовый стул   1699        ВЭДДО\n 1        Садовый стул   2999       ЭПЛАРО\n 2     Садовый табурет   1699       ЭПЛАРО\n 3        Садовый стол   1999        ТЭРНО\n 4       Складной стол   7499       ЭПЛАРО\n 5              Настил   1299       РУННЕН\n 6             Стеллаж   1299       ХИЛЛИС\n 7              Кружка     39      СТЕЛЬНА\n 8            Молочник    299     ВАРДАГЕН\n 9      Термос для еды    699  ЭФТЕРФРОГАД\n 10            Ситечко     59     ИДЕАЛИСК\n 11  Чайник заварочный    499       РИКЛИГ\n 12         Кофе-пресс    699      УПХЕТТА\n 13    Чашка с блюдцем    249         ИКЕА\n 14             Кружка    249         ЭМНТ\n 15            Ситечко    199    САККУННИГ\n 16             Кружка    199     ФИНСТИЛТ\n 17            Тарелка    269      ЭВЕРЕНС]"
     },
     "execution_count": 50,
     "metadata": {},
     "output_type": "execute_result"
    }
   ],
   "source": [
    "import pandas as pd\n",
    "\n",
    "# Функция, которая получает список файлов и возвращает список DataFrames\n",
    "def get_list_df(list_src_topics: list) -> list:\n",
    "    list_df = []  # Инициализируем пустой список для хранения DataFrames\n",
    "    for file in list_src_topics:  # Итерируемся по каждому файлу в переданном списке\n",
    "        for s in [';', ',', '|']:  # Перебираем возможные разделители\n",
    "            # Пытаемся считать файл, используя текущий разделитель\n",
    "            df = pd.read_csv(file, encoding='utf-8-sig', sep=s)\n",
    "            # Проверяем, сформировался ли DataFrame с более чем одной колонкой\n",
    "            if df.shape[1] > 1:  # Если DataFrame имеет более одной колонки\n",
    "                list_df.append(df)  # Добавляем DataFrame в список\n",
    "                break  # Выходим из внутреннего цикла, если успешное считывание\n",
    "    return list_df  # Возвращаем список DataFrames\n",
    "\n",
    "# Пример вызова функции с файлом 'products.csv'\n",
    "get_list_df(['products.csv'])"
   ],
   "metadata": {
    "collapsed": false,
    "ExecuteTime": {
     "end_time": "2024-09-30T09:48:33.076763300Z",
     "start_time": "2024-09-30T09:48:33.066694800Z"
    }
   },
   "id": "688a248702b8f300"
  },
  {
   "cell_type": "markdown",
   "source": [
    "Вам доступен csv файл grades.csv, имеющий следующее содержание:"
   ],
   "metadata": {
    "collapsed": false
   },
   "id": "d9ba63fb5c6f8663"
  },
  {
   "cell_type": "markdown",
   "source": [
    "name;grade\n",
    "Timur;100\n",
    "Ruslan;97"
   ],
   "metadata": {
    "collapsed": false
   },
   "id": "b7bd32cd8e776b18"
  },
  {
   "cell_type": "markdown",
   "source": [
    "Ниже представлена программа, которая должна открывать данный файл и выводить содержимое каждой строки в виде списка. В программе допущена ошибка, поэтому она выводит:"
   ],
   "metadata": {
    "collapsed": false
   },
   "id": "10d35c1a03286ed"
  },
  {
   "cell_type": "markdown",
   "source": [
    "['n']\n",
    "['a']\n",
    "['m']\n",
    "['e']\n",
    "['', '']\n",
    "['g']\n",
    "['r']\n",
    "['a']\n",
    "['d']\n",
    "['e']\n",
    "[]\n",
    "['T']\n",
    "..."
   ],
   "metadata": {
    "collapsed": false
   },
   "id": "7ee793a8ac08d01d"
  },
  {
   "cell_type": "markdown",
   "source": [
    "Найдите и исправьте ее, чтобы результатом работы программы были строки:"
   ],
   "metadata": {
    "collapsed": false
   },
   "id": "1a828c9409068a"
  },
  {
   "cell_type": "markdown",
   "source": [
    "['name', 'grade']\n",
    "['Timur', '100']\n",
    "['Ruslan', '97']"
   ],
   "metadata": {
    "collapsed": false
   },
   "id": "82fb2f943bafa087"
  },
  {
   "cell_type": "code",
   "execution_count": 57,
   "outputs": [
    {
     "name": "stdout",
     "output_type": "stream",
     "text": [
      "['name', 'grade']\n",
      "['Timur', '100']\n",
      "['Ruslan', '97']\n"
     ]
    }
   ],
   "source": [
    "import csv\n",
    "\n",
    "with open('grades.csv', encoding='utf-8') as csv_file:\n",
    "    # считываем содержимое файла\n",
    "    # text = csv_file.read()\n",
    "    # создаем reader объект и указываем в качестве разделителя символ ;\n",
    "    # rows = csv.reader(text, delimiter=';')\n",
    "    rows = csv.reader(csv_file, delimiter=';')\n",
    "    # выводим каждую строку\n",
    "    for row in rows:\n",
    "        print(row)"
   ],
   "metadata": {
    "collapsed": false,
    "ExecuteTime": {
     "end_time": "2024-09-30T10:15:59.620857700Z",
     "start_time": "2024-09-30T10:15:59.618194700Z"
    }
   },
   "id": "e2e21f2f5ecbf0aa"
  },
  {
   "cell_type": "markdown",
   "source": [
    "При попытке выполнить приведенную ниже программу возникает ошибка. Найдите и исправьте ее, чтобы программа создала файл writing_test.csv, имеющий следующее содержание:"
   ],
   "metadata": {
    "collapsed": false
   },
   "id": "1a5725f16581d449"
  },
  {
   "cell_type": "markdown",
   "source": [
    "first_col,second_col\n",
    "value1,value2"
   ],
   "metadata": {
    "collapsed": false
   },
   "id": "641c4122dab7b456"
  },
  {
   "cell_type": "code",
   "execution_count": 62,
   "outputs": [],
   "source": [
    "import csv\n",
    "\n",
    "with open('writing_test.csv', 'w', encoding='utf-8', newline='') as csv_file:\n",
    "    # создаем writer объект и указываем названия столбцов\n",
    "    writer = csv.DictWriter(csv_file, fieldnames=['first_col', 'second_col'])\n",
    "    # записываем первую строку с названиями столбцов\n",
    "    writer.writeheader()\n",
    "    # записываем строку с данными\n",
    "    writer.writerows([{'first_col': 'value1', 'second_col': 'value2'}])"
   ],
   "metadata": {
    "collapsed": false,
    "ExecuteTime": {
     "end_time": "2024-09-30T10:21:45.880742200Z",
     "start_time": "2024-09-30T10:21:45.875832300Z"
    }
   },
   "id": "af3ae220f99fea11"
  },
  {
   "cell_type": "code",
   "execution_count": null,
   "outputs": [],
   "source": [
    "import csv\n",
    "\n",
    "with open('writing_test.csv', 'w', encoding='utf-8') as csv_file:\n",
    "    keys, data = ['first_col', 'second_col'], ['value1', 'value2']\n",
    "    writer = csv.DictWriter(csv_file, fieldnames=keys)\n",
    "    writer.writeheader()\n",
    "    writer.writerow(dict(zip(keys, data)))"
   ],
   "metadata": {
    "collapsed": false
   },
   "id": "cae3710074ca7b46"
  },
  {
   "cell_type": "markdown",
   "source": [
    "Скидки\n",
    "Наступил ноябрь, и во многих магазинах начались распродажи, но как многим известно, зачастую товары со скидкой оказываются дороже, чем без нее. Вам доступен файл sales.csv, который содержит данные о ценообразовании различной бытовой техники. В первом столбце записано название товара, во втором — старая цена, в третьем — новая цена со скидкой:\n",
    "\n",
    "name;old_price;new_price\n",
    "Встраиваемая посудомоечная машина De'Longhi DDW 06S;23089;31862\n",
    "Вытяжка Falmec Afrodite 60/600;27694;18001\n",
    "...\n",
    "Напишите программу, которая выводит названия тех товаров, цена на которые уменьшилась. Товары должны быть расположены в своем исходном порядке, каждый на отдельной строке.\n",
    "\n",
    "Примечание 1. Разделителем в файле sales.csv является точка с запятой, при этом кавычки не используются."
   ],
   "metadata": {
    "collapsed": false
   },
   "id": "6499085fc7cecb1d"
  },
  {
   "cell_type": "markdown",
   "source": [
    "Примечание 3. Начальная часть ответа выглядит так:"
   ],
   "metadata": {
    "collapsed": false
   },
   "id": "e5cdfd2d76d0fc10"
  },
  {
   "cell_type": "markdown",
   "source": [
    "Вытяжка Falmec Afrodite 60/600\n",
    "Духовой шкаф AEG BS 5836600\n",
    "Вытяжка MAUNFELD PLYM 60\n",
    "..."
   ],
   "metadata": {
    "collapsed": false
   },
   "id": "880ab6ca3347e452"
  },
  {
   "cell_type": "markdown",
   "source": [
    "Примечание 4. При открытии файла используйте явное указание кодировки UTF-8."
   ],
   "metadata": {
    "collapsed": false
   },
   "id": "a8e9ec499dfa9955"
  },
  {
   "cell_type": "code",
   "execution_count": 106,
   "outputs": [
    {
     "name": "stdout",
     "output_type": "stream",
     "text": [
      "Вытяжка Falmec Afrodite 60/600\n",
      "Духовой шкаф AEG BS 5836600\n",
      "Вытяжка MAUNFELD PLYM 60\n",
      "Весы Momert 7462\n",
      "Кухонная мойка Blanco Classic Pro 5 S-IF\n",
      "Вакуумный упаковщик Hurakan HKN-V300\n",
      "Морозильная камера Frostor F2000B\n",
      "Холодильник Atlant XM-4210\n",
      "Стиральная машина Bosch WLK 20263\n",
      "Швейная машина, оверлок Toyota JET B 224\n",
      "Весы Mystery MES-1805\n",
      "Винный шкаф Caso WineMaster 38\n",
      "Варочная поверхность Gorenje G6 N40\n",
      "Вытяжка Kuppersberg Onda 50\n",
      "Весы Energy ENM-408\n",
      "Фен Centek CT-2234\n",
      "Встраиваемый холодильник Liebherr ICS 3013\n",
      "Массажер для тела Yamaguchi Axiom Matrix\n",
      "Варочная поверхность Neff N 74TD00N0\n",
      "Духовой шкаф Smeg SF99\n",
      "Вытяжка Korting KHC 6956\n",
      "Варочная поверхность Smeg SR775OT\n",
      "Вытяжка Cata TF 5250\n",
      "Стиральная машина Miele WMV 960 WPS\n",
      "Электрочайник Bugatti VERA\n",
      "Стиральная машина Bosch WAW 24440\n",
      "Тостер Velikie Reki Pyshka-8\n",
      "Пылесос Karcher CV 38/2\n",
      "Вакуумный упаковщик Rommelsbacher VAC 155\n",
      "Швейная машина, оверлок Jaguar EL-109\n",
      "Встраиваемая посудомоечная машина Electrolux ESL 8820\n",
      "Стиральная машина Whirlpool AWOC 8100\n",
      "Духовой шкаф Siemens HB 56LS552\n",
      "Фен Atlanta ATH-882\n",
      "Весы Beurer BF480\n",
      "Вытяжка Kuppersbusch KD 6210.2 E\n",
      "Вытяжка DACH TIFANI 50\n",
      "Утюг Philips Azur Advanced GC 4939\n",
      "Кухонный комбайн First FA-5113\n",
      "Электрочайник Maxwell MW-1014\n",
      "Пылесос Karcher SE 4001\n",
      "Вытяжка Elica Empty Sky Sense F/120\n",
      "Хлебопечка MAXIMA MBM-0219\n",
      "Кофеварка Maxwell MW-1657\n",
      "Варочная поверхность Teka VR TC 95 4I\n",
      "Весы Caso Body Solar\n",
      "Эпилятор Braun SE 9941\n",
      "Весы Sanitas SGS43\n",
      "Встраиваемая посудомоечная машина Electrolux ESI 7510\n",
      "Кулер для воды HotFrost V127B\n",
      "Фен Philips BHB 868\n",
      "Мясорубка Zelmer 987.83\n",
      "Кухонный комбайн Gemlux GL-SM4.5G\n",
      "Плита Beko CSG 62000\n",
      "Электродуховка Redber EO-1810\n",
      "Вытяжка Lex Biston Eco 600\n",
      "Фен Ermila  4430-0040\n",
      "Кухонная мойка Blanco Favos\n",
      "Весы Sima-land 722627\n",
      "Водонагреватель Thermex ID [ID-80 V]\n",
      "Швейная машина, оверлок Janome 5522\n",
      "Варочная поверхность MAUNFELD EGHG 64 33CBG R\n",
      "Фен Centek CT-2017\n",
      "Массажер для тела AMMA Drive 3D\n",
      "Кухонная мойка AquaGranitEx M-14\n",
      "Пылесос Rolsen C-2221 THF\n",
      "Утюг Galaxy GL6107\n",
      "Электрочайник Irit IR-1228\n",
      "Плита Bosch HGA 23W125R\n",
      "Вытяжка Shindo Emi 60\n",
      "Пылесос KITFORT KT-510\n",
      "Духовой шкаф ARDESIA HX 060\n",
      "Холодильник Nord 70\n",
      "Мясорубка Aksion M 33.03\n",
      "Пылесос Redmond RV-329\n",
      "Фен Dewal 03-95\n",
      "Вытяжка Teka DOS 60\n",
      "Вытяжка De'Longhi Monte Pollino 60\n",
      "Электрочайник De'Longhi KBJ 2001\n",
      "Стиральная машина Siemens WM 12E145\n",
      "Фен Ksitex F-1400 ION\n",
      "Весы Delta D9231\n",
      "Холодильник Liebherr T 1710\n",
      "Стиральная машина Candy GV4 137 TC1\n",
      "Вытяжка Lex Mini 600\n",
      "Варочная поверхность Gorenje GHS 64 ORA\n",
      "Швейная машина, оверлок Janome CoverPro D Max\n",
      "Кофеварка Philips Senseo Sarista HD 8030\n",
      "Стиральная машина Siemens WM 14N290\n",
      "Стиральная машина Samsung WF70F5E5W2X\n",
      "Варочная поверхность Franke FHC 604 4C T BP\n",
      "Весы Delta KCE-32\n",
      "Вытяжка Falmec Spring 80/600 Isola\n",
      "Швейная машина, оверлок Jaguar Katty\n",
      "Вытяжка Elikor Epsilon 50\n",
      "Вытяжка Smeg KSED95P\n",
      "Кофемолка Delta DL-93K\n",
      "Весы AEG PW 5571\n",
      "Вытяжка MAUNFELD LONDA 90\n",
      "Картридж для воды Gejzer BAF-10SL\n",
      "Массажер для тела Medisana MC 810\n",
      "Стиральная машина Hotpoint-Ariston AQS70F 05\n",
      "Швейная машина, оверлок Leader VS 320\n",
      "Духовой шкаф Zanussi ZOG-11311\n",
      "Весы Centek CT-2412\n",
      "Электрочайник Centek CT-0038\n",
      "Вытяжка Gorenje DK 6335 X\n",
      "Кофеварка De'Longhi EN 125\n",
      "Духовой шкаф ARDESIA HEN 083\n",
      "Плита Artel Milagro E\n",
      "Вытяжка Whirlpool AKR 773\n",
      "Весы Mayer & Boch MB 21301\n",
      "Утюг Ladomir CA106\n",
      "Вытяжка Best EYE-EYE 80\n",
      "Холодильник Hitachi R-C6200U\n",
      "Встраиваемая посудомоечная машина Bosch SMV 24AX01\n",
      "Вытяжка Elikor Venta 60\n",
      "Электродуховка Artel MD 4212 E\n",
      "Вытяжка Krona Mila 500 3P\n",
      "Пароочиститель Polti Vaporetto SV300\n",
      "Встраиваемая посудомоечная машина De'Longhi DDW 08S\n",
      "Духовой шкаф Neff B45E42 N0\n",
      "Посудомоечная машина Bomann GSP 849\n",
      "Стиральная машина Beko ELB 57021\n",
      "Варочная поверхность Smeg SEFR536X\n",
      "Водонагреватель Austria Email VT FRMR [VT 2500 FRMR]\n",
      "Фен Remington AS 8090 Keratin Therapy Pro\n",
      "Пылесос LG V-K75W02HY\n",
      "Фен Hairway 04090\n",
      "Варочная поверхность Darina 1T16 BGM 341 11\n",
      "Стиральная машина AEG L 16950\n",
      "Весы Kromax Aurora-533\n",
      "Водонагреватель Hajdu AQ [AQ100]\n",
      "Медицинский термометр Maman FDTH-V0-3\n",
      "Пылесос LG V-K75W02HY\n",
      "Массажер для тела Beurer MG 261\n",
      "Весы Supra BSS-6051\n",
      "Духовой шкаф Miele H6260B\n",
      "Варочная поверхность Bosch PPS 816 M91E\n",
      "Духовой шкаф MAUNFELD MEOF 676\n",
      "Духовой шкаф AEG KS 8100001\n",
      "Электробритва Sakura SA-5415\n",
      "Холодильник GRAUDE SBS 180.0\n",
      "Электродуховка Artel MD 3216\n",
      "Микроволновая печь Candy CMW 2070 DW\n",
      "Плита Scarlett SC-HP700S01\n",
      "Весы Unit UBS-2150\n",
      "Кухонная мойка Zorg SZR-4438\n",
      "Пылесос Hammer PIL50A\n",
      "Кухонная мойка Franke Peak PKX 110-34\n",
      "Вытяжка Whirlpool AKR 773\n",
      "Весы Atlanta ATH-6202\n",
      "Швейная машина, оверлок Toyota Super Jeans 34\n",
      "Швейная машина, оверлок Janome 843\n",
      "Весы Eurostek EKS-5000\n",
      "Электробритва Panasonic ES-LT2N\n",
      "Весы Maxwell MW-1477\n",
      "Весы Aresa SK-409\n",
      "Вытяжка Korting KHC 6431\n",
      "Плита Hansa FCGW54001017\n",
      "Кухонная мойка Smeg LSEG860A-2\n",
      "Стиральная машина LG FH0H3NDS1\n",
      "Вытяжка Jet Air Erika 60\n",
      "Гладильная доска Leifheit AirSteam Premium L\n",
      "Стиральная машина Miele WKH 132 WPS\n",
      "Водонагреватель Hajdu IND F [IND 100 F]\n",
      "Встраиваемая пароварка Miele DGC 6805\n",
      "Пылесос Galaxy GL 6256\n",
      "Кухонная мойка Omoikiri Yonaka 61\n",
      "Вытяжка MAUNFELD CLYDE C 50\n",
      "Духовой шкаф Zigmund&Shtain BN 20.504\n",
      "Духовой шкаф Zigmund&Shtain EN 68.511\n",
      "Весы Delta D9238\n",
      "Вытяжка Akpo Dandys 60\n",
      "Посудомоечная машина Hansa ZWM-646\n",
      "Кухонная мойка Elleci Sirex 400\n",
      "Вытяжка Kuppersbusch EDIP 6450.0 E\n",
      "Весы KITFORT KT-802\n",
      "Вытяжка MAUNFELD CORSA LIGHT 60\n",
      "Маникюрный набор Gess GESS-604\n",
      "Вытяжка Krona Natali 900 3P-S\n",
      "Соковыжималка Clatronic ZP 3066\n",
      "Вытяжка Zigmund&Shtain K 326.61\n",
      "Машинка для удаления катышков Luazon LUK-01\n",
      "Кухонный комбайн KitchenAid 5KSM175\n",
      "Варочная поверхность Teka TBR 620\n",
      "Кофеварка Promac Green P161\n",
      "Миксер Eurostek EHM-354\n",
      "Кухонная мойка GranFest Standart GF-S645L\n",
      "Микроволновая печь Caso IMCG 25\n",
      "Духовой шкаф Gorenje BO 637 ST\n",
      "Весы Clatronic KW 3416\n",
      "Холодильник Smeg SBS963N\n",
      "Массажная ванночка для ног Medisana WBB 88373\n",
      "Кухонная мойка Teka Texina 45E TG\n",
      "Духовой шкаф Kaiser EH 6967\n",
      "Водонагреватель Drazice OKCV [OKCV 200]\n",
      "Плита Gorenje EC 57302\n",
      "Фен Philips BHB 876\n",
      "Весы Vigor HX-8221\n",
      "Вибротренажер HANSUN HS311C\n",
      "Встраиваемая пароварка Smeg SC45V2\n",
      "Вытяжка Kaiser AT-6408\n",
      "Духовой шкаф Smeg F610\n",
      "Медицинский термометр Canpol Babies 9/104\n",
      "Электрочайник Energy E-266\n",
      "Электрочайник Sinbo SK-7319\n",
      "Вытяжка MAUNFELD IRWELL G 90\n",
      "Плита Gemlux GL-IC5100PRO\n",
      "Плита Darina 1D1 GM 241-022\n",
      "Пылесос Scarlett SC-VC80C93\n",
      "Духовой шкаф Simfer B 6EM 45001\n",
      "Электрочайник Sinbo SK-7364\n",
      "Соковыжималка Kuvings NS-993\n",
      "Вытяжка Darina UMBRELLA 503\n",
      "Вытяжка Falmec Dora 90/600\n",
      "Холодильник Panasonic NR-BW465V\n",
      "Весы Delta BA-4001\n",
      "Духовой шкаф Kuppersberg HO 657\n",
      "Холодильник Hitachi R-E6800U\n",
      "Весы Yunmai Mini Smart Scale\n",
      "Микроволновая печь BBK 20MWG-738M\n",
      "Вытяжка Exiteq Standard 601\n",
      "Плита Kromax IP-35\n",
      "Посудомоечная машина Zanussi ZDS 3010\n",
      "Плита Vitek VT-3701\n",
      "Фен CoifIn CL5H-R\n",
      "Мясорубка StarWind SMG2521\n",
      "Фен Braun HD 550\n",
      "Варочная поверхность Nardi BH 40 HAV\n",
      "Швейная машина, оверлок Janome DC 4100\n",
      "Миксер Unit UBI 402\n",
      "Стиральная машина Vestfrost VFWM 1041\n",
      "Вытяжка Fulgor Milano CHDD 12010\n",
      "Вытяжка Cata GL 75\n",
      "Холодильник Vestfrost VF 185 MH\n",
      "Кухонная мойка Seaman ECO Glass SMG-730\n",
      "Вытяжка MAUNFELD PLYM LIGHT 90\n",
      "Эпилятор Braun SE 7931\n",
      "Кухонная мойка Florentina Vega 160\n",
      "Вытяжка Elikor Agat 60\n",
      "Пылесос Panda X1\n",
      "Утюг Irit IR-2215\n",
      "Картридж для воды Gejzer RO-25308\n",
      "Электрочайник Supra KES-1709\n",
      "Кухонная мойка AquaGranitEx M-09\n",
      "Эпилятор Braun BD 3003\n",
      "Электрочайник VES 1022\n",
      "Стиральная машина Electrolux EWT 1567\n",
      "Электрочайник LUMME LU-249\n",
      "Утюг Atlanta ATH-5494\n",
      "Варочная поверхность Siemens EH 651FFB1\n",
      "Духовой шкаф Neff B57CS24 N0\n",
      "Швейная машина, оверлок Pfaff Performance 5.0\n",
      "Пылесос Polaris PVC 1617\n",
      "Посудомоечная машина Electrolux ESF 4500\n",
      "Холодильник Liebherr T 1714\n",
      "Духовой шкаф Bosch HBN 211S6\n",
      "Пылесос Karcher CV 30/1\n",
      "Вытяжка MAUNFELD RETRO FRAME 60\n",
      "Весы Scarlett SC-BS33E057\n",
      "Вытяжка Whirlpool AKR 672\n",
      "Электрочайник LUMME LU-134\n",
      "Кухонная мойка Reginox Nevada 30-40\n",
      "Вытяжка Akpo Feniks Isla 90\n",
      "Вытяжка Neff D 76MH52 N0\n",
      "Духовой шкаф Bompani Forno Retro\n",
      "Стиральная машина AEG L 99691\n",
      "Стиральная машина Bosch WAW 28740\n",
      "Духовой шкаф Candy FPP 602/1\n",
      "Электрочайник Midea MK-8052\n",
      "Уборочная машина Cleanfix R 44-120\n",
      "Вытяжка Faber Scrigno Hip A 60\n",
      "Весы Galaxy GL4802\n",
      "Пылесос Dyson V8 Absolute\n",
      "Микроволновая печь Bosch HMT 75M451\n",
      "Швейная машина, оверлок Jaguar 714D\n",
      "Швейная машина, оверлок Pfaff Quilt Expression 3.0\n",
      "Кухонная мойка Omoikiri Manmaru 62\n",
      "Вытяжка Best P 740\n",
      "Весы Dobrynia DO-3004\n",
      "Весы Redmond RS-708\n",
      "Микроволновая печь Samsung ME83ARW\n",
      "Фен Remington AS 8110\n",
      "Вытяжка Krona Seliya 500 Push Button\n",
      "Кухонный комбайн Kenwood KHH 326 MultiOne\n",
      "Плита Indesit KN 1M117\n",
      "Массажер для тела Medisana ITM\n",
      "Винный шкаф IP Industrie C 501\n",
      "Вытяжка Falmec Platinum 97/800\n",
      "Водонагреватель Mora Vega [Vega 16]\n",
      "Йогуртница Maxwell MW-1443\n",
      "Духовой шкаф Hansa BOEI69422\n",
      "Холодильник Kraft BR-50\n",
      "Весы Scarlett SC-1215\n",
      "Вытяжка Zigmund&Shtain K 129.51\n",
      "Вытяжка Krona Ella 600\n",
      "Кухонная мойка Reginox L18 4035\n",
      "Фен Remington D 5219 Your Style\n",
      "Посудомоечная машина Bosch SPS 58M18\n",
      "Вытяжка Schaub Lorenz SLD WB6500\n",
      "Водонагреватель Atlantic Steatite Cube S4CM [Steatite Cube 150 S4CM]\n",
      "Пылесос Dyson V7 Absolute\n",
      "Морозильная камера Gorenje FH 400\n",
      "Вытяжка Krona Kamilla Slim 2M 600 3P\n",
      "Весы SOEHNLE 66160 Flip\n",
      "Весы Smile KSE 3265\n",
      "Пароочиститель Karcher SC 5 Iron Kit\n",
      "Вытяжка Centek CT-1820 60\n",
      "Пылесос Supra VCS-1615\n",
      "Гладильная доска Brabantia 510342\n",
      "Холодильник DON R 291\n",
      "Встраиваемая посудомоечная машина Beko DIS 5831\n",
      "Швейная машина, оверлок Elna 3005\n",
      "Духовой шкаф Midea MO 47000\n",
      "Весы Redmond RS-715\n",
      "Плита Beko FSM 62320\n",
      "Холодильник Samsung RB33J3420EF\n",
      "Весы Delta KCE-41\n",
      "Водонагреватель Garanterm MGR [MGR 30]\n",
      "Холодильник Bosch KGS39XL20\n",
      "Вытяжка Akpo Zefir ECO 90\n",
      "Встраиваемая посудомоечная машина Electrolux ESL 97540\n",
      "Электрочайник Kelli KL-1313\n",
      "Электродуховка Simfer M4297\n",
      "Кухонная мойка Dr. Gans Nika 580\n",
      "Пылесос Scarlett SC-VC80B01\n",
      "Плита Zanussi ZCV965201\n",
      "Вытяжка Bosch DWA 09D651\n",
      "Кухонная мойка RODI Box Line 34\n",
      "Водонагреватель Thermex Ultra Slim [IU-40 V]\n",
      "Вытяжка Whirlpool AKR 759\n",
      "Плита Bosch HGA 23W125R\n",
      "Вытяжка Falmec Iris Piastrelata 120/600\n",
      "Встраиваемый холодильник Liebherr IK 1620\n",
      "Машинка для стрижки волос LUMME LU-2506\n",
      "Фен Centek CT-2020\n",
      "Кухонная мойка Blanco Subline 375-U\n",
      "Микроволновая печь Supra MWS-1806MW\n",
      "Швейная машина, оверлок Brother SL-10\n",
      "Весы Kromax KS-522\n",
      "Весы MAGNIT RMX-6182\n",
      "Пылесос KITFORT KT-517\n",
      "Плита Gefest 3200-05\n",
      "Вытяжка Kaiser A-9414\n",
      "Кухонная мойка Whinstone Mungo 760\n",
      "Вытяжка Falmec Iris Malizia 60/600\n",
      "Микроволновая печь Midea AW 925 EHU\n",
      "Фен Delta DL-0442\n",
      "Вытяжка MAUNFELD CLYDE C 60\n",
      "Электродуховка AVEX TR350BCL\n",
      "Плита Gorenje K 6121\n",
      "Кулер для воды Aqua Work 712-S-W\n",
      "Весы Unit UBS-2153\n",
      "Маникюрный набор Smile MPS 3400\n",
      "Плита Bosch HCA 644150R\n",
      "Мясорубка Apach ATI22UT\n",
      "Маникюрный набор GEZAtone 126D\n",
      "Пылесос Daewoo RGJ-220\n",
      "Плита De Luxe 5040.30\n",
      "Холодильник Shivaki BMR 1881 DNF\n",
      "Вытяжка Falmec Diamante 90/800\n",
      "Вытяжка Falmec Torcello 65/800 Isola\n",
      "Вытяжка Lex Simple 500\n",
      "Швейная машина, оверлок AstraLux SR38\n",
      "Кухонная мойка GranFest Practic GF-P420\n",
      "Вытяжка Faber Lithos A 45\n",
      "Весы Medisana PS 72\n",
      "Варочная поверхность Lex EVH 430\n",
      "Вытяжка Elikor Graphite 60\n",
      "Уборочная машина Ghibli ROLLY 7 1/2 M 33 BC 10 Ah\n",
      "Стиральная машина Siemens WM 12N290\n",
      "Плита Kromax IP-46\n",
      "Швейная машина, оверлок Brother RS-45S\n",
      "Кухонная мойка Mixline ML-GM11\n",
      "Кухонная мойка Blanco Zenar XL 6S\n",
      "Посудомоечная машина Indesit DSG 263\n",
      "Стиральная машина Candy GVS34 116 D2\n",
      "Кухонная мойка Eurodomo BLX-720\n",
      "Пароочиститель Kromax Rimmini-7100\n",
      "Вытяжка Falmec Ellittica 70/800 Isola\n",
      "Фен Supra HSS-1220\n",
      "Фен Irit IR-3162\n",
      "Кухонная мойка Franke Argos AGX 211-86\n",
      "Фен Philips HPS 910\n",
      "Водонагреватель Hotpoint-Ariston ABS PRO ECO PW Slim [ABS PRO ECO PW 30V Slim]\n",
      "Холодильник Electrolux ERF 4162\n",
      "Пылесос Bort BSS-1440-Pro\n",
      "Весы Scarlett SC-BS33ED85\n",
      "Хлебопечка Midea EHS20Q3\n",
      "Пылесос Cleanfix S 20\n",
      "Плита Gorenje GI 532 IN\n",
      "Вытяжка NODOR Icon\n",
      "Вытяжка Elica Cube A/60\n",
      "Встраиваемый винный шкаф Dunavox DX-181.490DBK\n",
      "Холодильник Smeg SMEG500\n",
      "Вытяжка MAUNFELD VENERA 70\n",
      "Холодильник POZIS RD-149\n",
      "Микроволновая печь Gorenje MO-200 MS\n",
      "Вытяжка Faber Life A 80\n",
      "Маникюрный набор Supra MPS-110\n",
      "Духовой шкаф Asko OT 8636\n",
      "Микроволновая печь MAUNFELD MFSMO.20.7 SGW\n",
      "Мультиварка LUMME LU-1450\n",
      "Швейная машина, оверлок Jaguar 145\n",
      "Винный шкаф La Sommeliere LS28\n",
      "Вытяжка Teka DG3 60\n",
      "Холодильник Beko DS 325000\n",
      "Варочная поверхность Leran GH 64521\n",
      "Духовой шкаф Nardi FEX 9758\n",
      "Пароочиститель Polti Vaporetto SV330 Multibrush\n",
      "Пылесос Miele Complete C3\n",
      "Швейная машина, оверлок Toyota Oekaki 50\n",
      "Вытяжка Elikor Onyx 60\n",
      "Электрочайник Polaris PWK 1843CA\n",
      "Вытяжка Krona Kirsa 500 Push Button\n",
      "Вытяжка Elikor Amethyst 50\n",
      "Электрочайник Panasonic NC-EG3000\n",
      "Весы Supra BSS-4077\n",
      "Варочная поверхность Weissgauff HV 6540\n",
      "Холодильник Liebherr CU 3311\n",
      "Варочная поверхность Zigmund&Shtain CNS 302.30\n",
      "Вытяжка Teka NC2 90\n",
      "Электрочайник Zimber ZM-10861\n",
      "Пароочиститель VAX S86-SF-C-R\n",
      "Стиральная машина Hansa AWB510DR\n",
      "Тостер Saturn ST EC7023\n",
      "Фен Polaris PHD 1315T\n",
      "Стиральная машина Indesit IWDC 7105\n",
      "Водонагреватель Hotpoint-Ariston TI STI [TI 500 STI]\n",
      "Встраиваемая микроволновая печь Hansa AMM20BEXH\n",
      "Водонагреватель Bosch Tronic 8000 [ES 035-5E 0 WIR-B]\n",
      "Массажное кресло US Medica Indigo\n",
      "Вытяжка Krona Natali 600 3P-S\n",
      "Стиральная машина LG F14A8TDS\n",
      "Весы Atlanta ATH-6212\n",
      "Вытяжка Kaiser A-9412\n",
      "Весы Sanitas SBF70\n",
      "Весы Aksion BHE-32\n",
      "Винный шкаф Gemlux GL-WC-28C\n",
      "Массажер для тела Medisana HP 620\n",
      "Фен Dewal 03-7728\n",
      "Кухонная мойка Alveus Classic 70\n",
      "Вытяжка Neff D 76B21 N1\n",
      "Электрочайник LUMME LU-139\n",
      "Пылесос Bosch BGL 35SPORT\n",
      "Весы Beurer KS44\n",
      "Кофеварка Aresa CM-144\n",
      "Электродуховка Rommelsbacher BG 1650\n",
      "Стиральная машина Assol XPB45-168\n",
      "Весы Vitek   VT-2406\n",
      "Швейная машина, оверлок Minerva M190\n",
      "Весы US Medica Promo S1\n",
      "Электрочайник Atlanta ATH 2425\n",
      "Посудомоечная машина Bosch SMS 68M52\n",
      "Варочная поверхность Neff T 46BD53N0\n",
      "Вытяжка Siemens LC 91BA582\n",
      "Пылесос Hotpoint-Ariston SL B20 AAO\n",
      "Варочная поверхность Neff T 36FB40X0\n",
      "Стиральная машина Electrolux EWT 1377\n",
      "Вытяжка MAUNFELD CORSA LIGHT 50\n",
      "Пылесос Shop-Vac Pro 60-I\n",
      "Плита Greta 1470-00-07\n",
      "Вытяжка Falmec Spring 80/600 Isola\n",
      "Электрочайник Kromax KR-342\n",
      "Кофемолка Rommelsbacher EKM 200\n",
      "Духовой шкаф Beltratto FSM 6401\n",
      "Весы Beurer GS225\n",
      "Кулер для воды AEL YLR2-5-X 28L-B/B\n",
      "Духовой шкаф Hankel OKB 4228\n",
      "Утюг Bosch TDS 1601\n",
      "Швейная машина, оверлок Brother Hanami 37S\n",
      "Водонагреватель Reflex Storatherm Aqua AB/1 [Storatherm Aqua AB 150/1]\n",
      "Духовой шкаф Electrolux EOC 6851\n",
      "Встраиваемая посудомоечная машина Smeg STA4523\n",
      "Машинка для стрижки волос Philips QG-3327\n",
      "Варочная поверхность Foster Vitroline 7351000\n",
      "Духовой шкаф Korting OKB 9112 CJN\n",
      "Вытяжка Darina FLAP 501\n",
      "Вытяжка AEG X 78263 BV10\n",
      "Вытяжка De'Longhi Argentella 50\n",
      "Холодильник Candy CCPN 6180\n",
      "Вытяжка Elikor Gamma 60\n",
      "Вытяжка Rainford RCH-1502\n",
      "Пылесос Philips FC 8820\n",
      "Духовой шкаф Kaiser EH 6920\n",
      "Варочная поверхность Simfer H 60Q40 O401\n",
      "Кухонная мойка Smeg LMEPB77\n",
      "Кухонная мойка Elleci Easy Round 600\n",
      "Утюг Kelli KL-1633\n",
      "Электродуховка Delta DL-24\n",
      "Варочная поверхность Kuppersberg TS 62\n",
      "Фен Vitek VT-8238\n",
      "Швейная машина, оверлок Janome 1143\n",
      "Холодильник LG GA-B499ZVSP\n",
      "Вытяжка Elica Elite 14 STD A/60\n",
      "Швейная машина, оверлок Brother Innov-is 97E\n",
      "Вытяжка Lex Inbox 500\n",
      "Кулер для воды Ecotronic K1-TN\n",
      "Холодильник Liebherr CNef 3515\n",
      "Духовой шкаф Weissgauff OE 19\n",
      "Плита Galaxy GL 3053\n",
      "Пароочиститель Bradex TD 0064\n"
     ]
    }
   ],
   "source": [
    "import csv\n",
    "\n",
    "with open('sales.csv', encoding='utf-8-sig') as file:\n",
    "    rows = csv.DictReader(file, delimiter=';')\n",
    "    # best = sorted(rows, key=lambda x:int(x['old_price'])-int(x['new_price'])>0, reverse=True)\n",
    "    for row in rows:\n",
    "        if int(row['old_price']) > int(row['new_price']): \n",
    "            print(row['name'])"
   ],
   "metadata": {
    "collapsed": false,
    "ExecuteTime": {
     "end_time": "2024-09-30T12:37:07.875549700Z",
     "start_time": "2024-09-30T12:37:07.870046Z"
    }
   },
   "id": "cf5f0ad9d84f027b"
  },
  {
   "cell_type": "code",
   "execution_count": 102,
   "outputs": [
    {
     "name": "stdout",
     "output_type": "stream",
     "text": [
      "Вытяжка Falmec Afrodite 60/600\n",
      "Духовой шкаф AEG BS 5836600\n",
      "Вытяжка MAUNFELD PLYM 60\n",
      "Весы Momert 7462\n",
      "Кухонная мойка Blanco Classic Pro 5 S-IF\n"
     ]
    }
   ],
   "source": [
    "import csv\n",
    "\n",
    "with open('sales.csv', encoding='utf-8-sig') as file:\n",
    "    data = file.read()\n",
    "    table = [i.split(';') for i in data.splitlines()]\n",
    "    del table[0]\n",
    "    table.sort(key=lambda x: int(x[1]) - int(x[2]) > 0, reverse=True)\n",
    "    for row in table[:5]:\n",
    "        print(row[0])"
   ],
   "metadata": {
    "collapsed": false,
    "ExecuteTime": {
     "end_time": "2024-09-30T12:32:03.714253400Z",
     "start_time": "2024-09-30T12:32:03.708421600Z"
    }
   },
   "id": "7e6f34a4dad0a9e2"
  },
  {
   "cell_type": "markdown",
   "source": [
    "Средняя зарплата\n",
    "Вам доступен файл salary_data.csv, который содержит анонимную информацию о зарплатах сотрудников в различных компаниях. В первом столбце записано название компании, а во втором — зарплата очередного сотрудника:\n",
    "\n",
    "company_name;salary\n",
    "Atos;135000\n",
    "ХайТэк;24400\n",
    "Philax;128600\n",
    "Инлайн Груп;43900\n",
    "IBS;70600\n",
    "Oracle;131600\n",
    "Atos;91000\n",
    "...\n",
    "Напишите программу, которая упорядочивает компании по возрастанию средней зарплаты ее сотрудников и выводит их названия, каждое на отдельной строке. Если две компании имеют одинаковые средние зарплаты, они должны быть расположены в лексикографическом порядке их названий.\n",
    "\n",
    "Примечание 1. Средняя зарплата компании определяется как отношение суммы всех зарплат к их количеству.\n",
    "\n",
    "Примечание 2. Разделителем в файле salary_data.csv является точка с запятой, при этом кавычки не используются."
   ],
   "metadata": {
    "collapsed": false
   },
   "id": "345743de8e2c8645"
  },
  {
   "cell_type": "markdown",
   "source": [
    "Примечание 4. Начальная часть ответа выглядит так:\n",
    "\n",
    "Информзащита\n",
    "Форс\n",
    "OFT group\n",
    "...\n",
    "Примечание 5. При открытии файла используйте явное указание кодировки UTF-8."
   ],
   "metadata": {
    "collapsed": false
   },
   "id": "b5d40a140c3b4902"
  },
  {
   "cell_type": "code",
   "execution_count": 129,
   "outputs": [
    {
     "name": "stdout",
     "output_type": "stream",
     "text": [
      "('Информзащита', {'total_salary': 25626900, 'count': 333})\n",
      "('Форс', {'total_salary': 25669500, 'count': 333})\n",
      "('OFT group', {'total_salary': 28535000, 'count': 367})\n",
      "('Oracle', {'total_salary': 27215700, 'count': 349})\n",
      "('Atos', {'total_salary': 24573800, 'count': 313})\n",
      "('Микрон', {'total_salary': 27246900, 'count': 347})\n",
      "('Гринатом', {'total_salary': 22899700, 'count': 291})\n",
      "('ХайТэк', {'total_salary': 26530200, 'count': 336})\n",
      "('Сател', {'total_salary': 26060100, 'count': 329})\n",
      "('Лига Цифровой Экономики', {'total_salary': 27095200, 'count': 342})\n",
      "('TerraLink', {'total_salary': 27271700, 'count': 341})\n",
      "('АйТеко', {'total_salary': 25771700, 'count': 322})\n",
      "('Itransition', {'total_salary': 26908400, 'count': 336})\n",
      "('Эвотор', {'total_salary': 26689300, 'count': 333})\n",
      "('Angara', {'total_salary': 24971800, 'count': 311})\n",
      "('OCS Distribution', {'total_salary': 27508100, 'count': 342})\n",
      "('Hikvision', {'total_salary': 26626700, 'count': 331})\n",
      "('Тринити', {'total_salary': 27397100, 'count': 339})\n",
      "('iCore', {'total_salary': 25919400, 'count': 320})\n",
      "('Ростелеком', {'total_salary': 27098500, 'count': 334})\n",
      "('Сигма', {'total_salary': 27843400, 'count': 343})\n",
      "('Аквариус', {'total_salary': 27390100, 'count': 337})\n",
      "('Philax', {'total_salary': 26595900, 'count': 326})\n",
      "('Softline', {'total_salary': 25546200, 'count': 312})\n",
      "('IBS', {'total_salary': 29579100, 'count': 359})\n",
      "('Инфосистемы Джет', {'total_salary': 28598200, 'count': 347})\n",
      "('Ситроникс', {'total_salary': 26042100, 'count': 315})\n",
      "('ИнфоТеКС', {'total_salary': 27040100, 'count': 322})\n",
      "('Инлайн Груп', {'total_salary': 31073600, 'count': 370})\n",
      "('Элтекс', {'total_salary': 26935000, 'count': 320})\n"
     ]
    }
   ],
   "source": [
    "import csv\n",
    "\n",
    "best = {}\n",
    "with open('salary_data.csv', encoding='utf-8-sig') as file:\n",
    "    rows = csv.DictReader(file, delimiter=';', quotechar='\"')\n",
    "    for row in rows:\n",
    "        company = row['company_name']\n",
    "        salary = int(row['salary'])\n",
    "        \n",
    "        if company in best:\n",
    "            best[company]['total_salary'] += salary\n",
    "            best[company]['count'] += 1\n",
    "        else:\n",
    "            best[company] = {'total_salary': salary, 'count': 1}\n",
    "            \n",
    "very_best = sorted(best.items(), key=lambda x:x[1]['total_salary']/x[1]['count'])\n",
    "\n",
    "for i in very_best:\n",
    "    print(i)"
   ],
   "metadata": {
    "collapsed": false,
    "ExecuteTime": {
     "end_time": "2024-09-30T13:43:11.121964400Z",
     "start_time": "2024-09-30T13:43:11.088229100Z"
    }
   },
   "id": "9b567f7a2a01edd6"
  },
  {
   "cell_type": "code",
   "execution_count": null,
   "outputs": [],
   "source": [
    "import csv\n",
    "d = {}\n",
    "with open('salary_data.csv', encoding='utf-8') as file:\n",
    "    rows = list(csv.reader(file, delimiter=';'))\n",
    "    for key, value in rows[1:]:\n",
    "        d[key] = d.get(key, []) + [int(value)]\n",
    "\n",
    "    d_sort = sorted(d, key=lambda x: (sum(d[x]) / len(d[x]), x)) # упорядочивает список сначала по средней зарплате, затем лексикографически.\n",
    "    print(*d_sort, sep='\\n')"
   ],
   "metadata": {
    "collapsed": false
   },
   "id": "d64d46a3ba3c3970"
  },
  {
   "cell_type": "markdown",
   "source": [
    "Сортировка по столбцу\n",
    "Вам доступен файл deniro.csv, каждый столбец которого содержит либо только числа, либо строковые значения:\n",
    "\n",
    "Machete,2010,72\n",
    "Marvin's Room,1996,80\n",
    "Raging Bull,1980,97\n",
    "...\n",
    "Напишите программу, которая сортирует содержимое данного файла по указанному столбцу. Причем данные должны быть отсортированы в порядке возрастания чисел, если столбец содержит числа, и в лексикографическом порядке слов, если столбец содержит слова.\n",
    "\n",
    "Формат входных данных\n",
    "На вход программе подается натуральное число — номер столбца файла deniro.csv.\n",
    "\n",
    "Формат выходных данных\n",
    "Программа должна отсортировать содержимое файла deniro.csv по введенному столбцу и вывести полученный результат в исходном формате.\n",
    "\n",
    "Примечание 1. Нумерация столбцов начинается с единицы.\n",
    "\n",
    "Примечание 2. Например, если бы файл deniro.csv имел вид:\n",
    "\n",
    "red,4\n",
    "blue,3\n",
    "green,28\n",
    "purple,1\n",
    "и его требовалось отсортировать по второму столбцу (в порядке возрастания чисел), то программа должна была бы вывести:\n",
    "\n",
    "purple,1\n",
    "blue,3\n",
    "red,4\n",
    "green,28\n",
    "Примечание 3. Если две какие-либо строки имеют одинаковые значения в столбцах, то следует сохранить их исходный порядок следования.\n",
    "\n",
    "Примечание 4. Разделителем в файле deniro.csv является запятая, при этом кавычки не используются."
   ],
   "metadata": {
    "collapsed": false
   },
   "id": "44531725e48f9bd3"
  },
  {
   "cell_type": "code",
   "execution_count": 151,
   "outputs": [
    {
     "name": "stdout",
     "output_type": "stream",
     "text": [
      "15 Minutes,2001,33\n",
      "A Bronx Tale,1993,96\n",
      "Analyze That,2002,27\n",
      "Analyze This,1999,69\n",
      "Angel Heart,1987,78\n",
      "Arthur and the Invisibles,2007,21\n",
      "Awakenings,1990,88\n",
      "Backdraft,1991,71\n",
      "Bang the Drum Slowly,1973,88\n",
      "Being Flynn,2012,51\n",
      "Bloody Mama,1970,17\n",
      "Born to Win,1971,40\n",
      "Brazil,1985,98\n",
      "Cape Fear,1991,76\n",
      "Captain Shakespeare,2007,76\n",
      "Casino,1995,80\n",
      "City by the Sea,2002,48\n",
      "Cop Land,1997,72\n",
      "Dear America: Letters Home From Vietnam,1987,100\n",
      "Dirty Grandpa,2016,11\n",
      "Everybody's Fine,2009,46\n",
      "Falling in Love,1984,60\n",
      "Flawless,1999,43\n",
      "Godsend,2003,4\n",
      "Goodfellas,1990,96\n",
      "Great Expectations,1998,38\n",
      "Greetings,1968,86\n",
      "Grudge Match,2013,29\n",
      "Guilty by Suspicion,1991,65\n",
      "Heat,1995,86\n",
      "Heist,2015,26\n",
      "Hide and Seek,2005,13\n",
      "Jackie Brown,1997,87\n",
      "Jacknife,1989,64\n",
      "Joy,2015,60\n",
      "Killer Elite,2011,25\n",
      "Killing Season,2013,11\n",
      "Last Vegas,2013,46\n",
      "Limitless,2011,70\n",
      "Little Fockers,2010,10\n",
      "Machete,2010,72\n",
      "Mad Dog and Glory,1993,78\n",
      "Marvin's Room,1996,80\n",
      "Mary Shelley's Frankenstein,1994,39\n",
      "Mean Streets,1973,98\n",
      "Meet the Fockers,2004,38\n",
      "Meet the Parents,2000,84\n",
      "Men of Honor,2000,41\n",
      "Midnight Run,1988,96\n",
      "Mistress,1991,69\n",
      "New Year's Eve,2011,7\n",
      "New York,1977,67\n",
      "Night and the City,1992,67\n",
      "Once Upon a Time in America,1984,89\n",
      "Raging Bull,1980,97\n",
      "Red Lights,2012,29\n",
      "Rent,2005,46\n",
      "Righteous Kill,2008,19\n",
      "Ronin,1998,68\n",
      "Shark Tale,2004,35\n",
      "Silver Linings Playbook,2012,92\n",
      "Sleepers,1996,74\n",
      "Stanley & Iris,1990,29\n",
      "Stone,2010,50\n",
      "Taxi Driver,1976,99\n",
      "The Adventures of Rocky & Bullwinkle,2000,43\n",
      "The Bag Man,2014,9\n",
      "The Big Wedding,2013,7\n",
      "The Bridge of San Luis Rey,2005,4\n",
      "The Deer Hunter,1978,93\n",
      "The Fan,1996,38\n",
      "The Good Shepherd,2006,54\n",
      "The Intern,2015,61\n",
      "The King of Comedy,1983,90\n",
      "The Last Tycoon,1976,41\n",
      "The Mission,1986,65\n",
      "The Score,2001,73\n",
      "The Untouchables,1987,80\n",
      "This Boy's Life,1993,75\n",
      "Thunderheart,1992,87\n",
      "True Confessions,1981,75\n",
      "Wag the Dog,1997,85\n",
      "We're No Angels,1989,47\n",
      "What Just Happened?,2008,51\n"
     ]
    }
   ],
   "source": [
    "import csv\n",
    "\n",
    "number = int(input()) - 1\n",
    "\n",
    "with open('deniro.csv', encoding='utf-8-sig') as file:\n",
    "    rows = csv.reader(file)\n",
    "    if number:\n",
    "        rows = sorted(rows, key=lambda x:(int(x[number])))\n",
    "    else:\n",
    "        rows = sorted(rows, key=lambda x:(x[number]))\n",
    "    for row in rows:\n",
    "        print(*row, sep=',')\n"
   ],
   "metadata": {
    "collapsed": false,
    "ExecuteTime": {
     "end_time": "2024-10-01T07:11:20.447397400Z",
     "start_time": "2024-10-01T07:11:18.645772400Z"
    }
   },
   "id": "59f51d9ac00b1b88"
  },
  {
   "cell_type": "code",
   "execution_count": null,
   "outputs": [],
   "source": [
    "import csv\n",
    "\n",
    "i = int(input()) - 1\n",
    "\n",
    "with open('deniro.csv', 'r', encoding='utf-8') as file:\n",
    "    data = list(csv.reader(file))\n",
    "\n",
    "data.sort(key=lambda x: int(x[i]) if x[i].isdigit() else x[i])\n",
    "for lst in data:\n",
    "    print(*lst, sep=',')"
   ],
   "metadata": {
    "collapsed": false
   },
   "id": "7648a01604b7edc1"
  },
  {
   "cell_type": "code",
   "execution_count": 152,
   "outputs": [
    {
     "name": "stdout",
     "output_type": "stream",
     "text": [
      "15 Minutes,2001,33\r\n",
      "A Bronx Tale,1993,96\r\n",
      "Analyze That,2002,27\r\n",
      "Analyze This,1999,69\r\n",
      "Angel Heart,1987,78\r\n",
      "Arthur and the Invisibles,2007,21\r\n",
      "Awakenings,1990,88\r\n",
      "Backdraft,1991,71\r\n",
      "Bang the Drum Slowly,1973,88\r\n",
      "Being Flynn,2012,51\r\n",
      "Bloody Mama,1970,17\r\n",
      "Born to Win,1971,40\r\n",
      "Brazil,1985,98\r\n",
      "Cape Fear,1991,76\r\n",
      "Captain Shakespeare,2007,76\r\n",
      "Casino,1995,80\r\n",
      "City by the Sea,2002,48\r\n",
      "Cop Land,1997,72\r\n",
      "Dear America: Letters Home From Vietnam,1987,100\r\n",
      "Dirty Grandpa,2016,11\r\n",
      "Everybody's Fine,2009,46\r\n",
      "Falling in Love,1984,60\r\n",
      "Flawless,1999,43\r\n",
      "Godsend,2003,4\r\n",
      "Goodfellas,1990,96\r\n",
      "Great Expectations,1998,38\r\n",
      "Greetings,1968,86\r\n",
      "Grudge Match,2013,29\r\n",
      "Guilty by Suspicion,1991,65\r\n",
      "Heat,1995,86\r\n",
      "Heist,2015,26\r\n",
      "Hide and Seek,2005,13\r\n",
      "Jackie Brown,1997,87\r\n",
      "Jacknife,1989,64\r\n",
      "Joy,2015,60\r\n",
      "Killer Elite,2011,25\r\n",
      "Killing Season,2013,11\r\n",
      "Last Vegas,2013,46\r\n",
      "Limitless,2011,70\r\n",
      "Little Fockers,2010,10\r\n",
      "Machete,2010,72\r\n",
      "Mad Dog and Glory,1993,78\r\n",
      "Marvin's Room,1996,80\r\n",
      "Mary Shelley's Frankenstein,1994,39\r\n",
      "Mean Streets,1973,98\r\n",
      "Meet the Fockers,2004,38\r\n",
      "Meet the Parents,2000,84\r\n",
      "Men of Honor,2000,41\r\n",
      "Midnight Run,1988,96\r\n",
      "Mistress,1991,69\r\n",
      "New Year's Eve,2011,7\r\n",
      "New York,1977,67\r\n",
      "Night and the City,1992,67\r\n",
      "Once Upon a Time in America,1984,89\r\n",
      "Raging Bull,1980,97\r\n",
      "Red Lights,2012,29\r\n",
      "Rent,2005,46\r\n",
      "Righteous Kill,2008,19\r\n",
      "Ronin,1998,68\r\n",
      "Shark Tale,2004,35\r\n",
      "Silver Linings Playbook,2012,92\r\n",
      "Sleepers,1996,74\r\n",
      "Stanley & Iris,1990,29\r\n",
      "Stone,2010,50\r\n",
      "Taxi Driver,1976,99\r\n",
      "The Adventures of Rocky & Bullwinkle,2000,43\r\n",
      "The Bag Man,2014,9\r\n",
      "The Big Wedding,2013,7\r\n",
      "The Bridge of San Luis Rey,2005,4\r\n",
      "The Deer Hunter,1978,93\r\n",
      "The Fan,1996,38\r\n",
      "The Good Shepherd,2006,54\r\n",
      "The Intern,2015,61\r\n",
      "The King of Comedy,1983,90\r\n",
      "The Last Tycoon,1976,41\r\n",
      "The Mission,1986,65\r\n",
      "The Score,2001,73\r\n",
      "The Untouchables,1987,80\r\n",
      "This Boy's Life,1993,75\r\n",
      "Thunderheart,1992,87\r\n",
      "True Confessions,1981,75\r\n",
      "Wag the Dog,1997,85\r\n",
      "We're No Angels,1989,47\r\n",
      "What Just Happened?,2008,51\r\n"
     ]
    }
   ],
   "source": [
    "import csv, sys\n",
    "n = int(input())-1\n",
    "with open('deniro.csv') as f:\n",
    "    csv.writer(sys.stdout).writerows(sorted(csv.reader(f), key=lambda i: int(i[n]) if i[n].isdigit() else i[n]))"
   ],
   "metadata": {
    "collapsed": false,
    "ExecuteTime": {
     "end_time": "2024-10-01T07:13:54.431077300Z",
     "start_time": "2024-10-01T07:13:53.002823200Z"
    }
   },
   "id": "7ca60e07ec91ae80"
  },
  {
   "cell_type": "markdown",
   "source": [
    "Функция csv_columns()\n",
    "Реализуйте функцию csv_columns(), которая принимает один аргумент:\n",
    "\n",
    "filename — название csv файла, например, data.csv\n",
    "Функция должна возвращать словарь, в котором ключом является название столбца файла filename, а значением — список элементов этого столбца.\n",
    "\n",
    "Примечание 1. Гарантируется, что в передаваемом в функцию файле разделителем является запятая, при этом кавычки не используются.\n",
    "\n",
    "Примечание 2. Гарантируется, что у передаваемого в функцию файла первая строка содержит названия столбцов.\n",
    "\n",
    "Примечание 3. Например, если бы файл exam.csv имел вид:\n",
    "\n",
    "name,grade\n",
    "Timur,5\n",
    "Arthur,4\n",
    "Anri,5\n",
    "то следующий вызов функции csv_columns():\n",
    "\n",
    "csv_columns('exam.csv')\n",
    "должен был бы вернуть:\n",
    "\n",
    "{'name': ['Timur', 'Arthur', 'Anri'], 'grade': ['5', '4', '5']}\n",
    "Примечание 4. Ключи в словаре, а также элементы в списках должны располагаться в своем исходном порядке.\n",
    "\n",
    "Примечание 5. В тестирующую систему сдайте программу, содержащую только необходимую функцию csv_columns(), но не код, вызывающий ее."
   ],
   "metadata": {
    "collapsed": false
   },
   "id": "bc2eb1e7543d4eb2"
  },
  {
   "cell_type": "code",
   "execution_count": 194,
   "outputs": [
    {
     "data": {
      "text/plain": "{'movie': ['Machete',\n  \"Marvin's Room\",\n  'Raging Bull',\n  \"This Boy's Life\",\n  'Silver Linings Playbook',\n  'Taxi Driver',\n  'Jackie Brown',\n  'Shark Tale',\n  'Bang the Drum Slowly',\n  'Analyze That',\n  'Meet the Parents',\n  'Wag the Dog',\n  'The Big Wedding',\n  'Night and the City',\n  'Backdraft',\n  'The Untouchables',\n  'Cop Land',\n  'Thunderheart',\n  'Being Flynn',\n  \"We're No Angels\",\n  'Limitless',\n  'The Bag Man',\n  'The Good Shepherd',\n  'Jacknife',\n  'Righteous Kill',\n  'Mad Dog and Glory',\n  'Brazil',\n  \"Mary Shelley's Frankenstein\",\n  'Stone',\n  'Killer Elite',\n  'A Bronx Tale',\n  'Falling in Love',\n  'The Adventures of Rocky & Bullwinkle',\n  'Red Lights',\n  'The Score',\n  \"New Year's Eve\",\n  'Ronin',\n  'Midnight Run',\n  'Last Vegas',\n  'Born to Win',\n  'Angel Heart',\n  'City by the Sea',\n  'Cape Fear',\n  \"Everybody's Fine\",\n  'Goodfellas',\n  '15 Minutes',\n  'Mistress',\n  'Hide and Seek',\n  'The Intern',\n  'Awakenings',\n  'Joy',\n  'Mean Streets',\n  'The Deer Hunter',\n  'Great Expectations',\n  'True Confessions',\n  'The Mission',\n  'Killing Season',\n  'The King of Comedy',\n  'New York',\n  'Rent',\n  'Once Upon a Time in America',\n  'Meet the Fockers',\n  'Bloody Mama',\n  'The Last Tycoon',\n  'Grudge Match',\n  'Analyze This',\n  'The Bridge of San Luis Rey',\n  'Guilty by Suspicion',\n  'What Just Happened?',\n  'Heat',\n  'Godsend',\n  'Captain Shakespeare',\n  'Flawless',\n  'Stanley & Iris',\n  'Arthur and the Invisibles',\n  'Greetings',\n  'Little Fockers',\n  'Sleepers',\n  'Dirty Grandpa',\n  'Dear America: Letters Home From Vietnam',\n  'Casino',\n  'The Fan',\n  'Heist',\n  'Men of Honor'],\n 'year': ['2010',\n  '1996',\n  '1980',\n  '1993',\n  '2012',\n  '1976',\n  '1997',\n  '2004',\n  '1973',\n  '2002',\n  '2000',\n  '1997',\n  '2013',\n  '1992',\n  '1991',\n  '1987',\n  '1997',\n  '1992',\n  '2012',\n  '1989',\n  '2011',\n  '2014',\n  '2006',\n  '1989',\n  '2008',\n  '1993',\n  '1985',\n  '1994',\n  '2010',\n  '2011',\n  '1993',\n  '1984',\n  '2000',\n  '2012',\n  '2001',\n  '2011',\n  '1998',\n  '1988',\n  '2013',\n  '1971',\n  '1987',\n  '2002',\n  '1991',\n  '2009',\n  '1990',\n  '2001',\n  '1991',\n  '2005',\n  '2015',\n  '1990',\n  '2015',\n  '1973',\n  '1978',\n  '1998',\n  '1981',\n  '1986',\n  '2013',\n  '1983',\n  '1977',\n  '2005',\n  '1984',\n  '2004',\n  '1970',\n  '1976',\n  '2013',\n  '1999',\n  '2005',\n  '1991',\n  '2008',\n  '1995',\n  '2003',\n  '2007',\n  '1999',\n  '1990',\n  '2007',\n  '1968',\n  '2010',\n  '1996',\n  '2016',\n  '1987',\n  '1995',\n  '1996',\n  '2015',\n  '2000'],\n 'rating': ['72',\n  '80',\n  '97',\n  '75',\n  '92',\n  '99',\n  '87',\n  '35',\n  '88',\n  '27',\n  '84',\n  '85',\n  '7',\n  '67',\n  '71',\n  '80',\n  '72',\n  '87',\n  '51',\n  '47',\n  '70',\n  '9',\n  '54',\n  '64',\n  '19',\n  '78',\n  '98',\n  '39',\n  '50',\n  '25',\n  '96',\n  '60',\n  '43',\n  '29',\n  '73',\n  '7',\n  '68',\n  '96',\n  '46',\n  '40',\n  '78',\n  '48',\n  '76',\n  '46',\n  '96',\n  '33',\n  '69',\n  '13',\n  '61',\n  '88',\n  '60',\n  '98',\n  '93',\n  '38',\n  '75',\n  '65',\n  '11',\n  '90',\n  '67',\n  '46',\n  '89',\n  '38',\n  '17',\n  '41',\n  '29',\n  '69',\n  '4',\n  '65',\n  '51',\n  '86',\n  '4',\n  '76',\n  '43',\n  '29',\n  '21',\n  '86',\n  '10',\n  '74',\n  '11',\n  '100',\n  '80',\n  '38',\n  '26',\n  '41']}"
     },
     "execution_count": 194,
     "metadata": {},
     "output_type": "execute_result"
    }
   ],
   "source": [
    "import csv\n",
    "\n",
    "def csv_columns(filename: str):\n",
    "    with open(filename, encoding='utf-8') as file:\n",
    "        rows = csv.DictReader(file)\n",
    "        # for row in rows:\n",
    "        #     print(row)\n",
    "        \n",
    "        new_dic = {}\n",
    "        for row in rows:\n",
    "            for key, value in row.items():\n",
    "                new_dic[key] = new_dic.get(key, [])  # Используем get для получения списка или инициализируем его\n",
    "                # Метод `get()` используется в Python для получения значения по ключу из словаря. Если ключ не существует в словаре, метод `get()` возвращает значение по умолчанию, которое вы можете задать. Это делает его более безопасным способом доступа к элементам словаря, так как он предотвращает возникновение ошибки `KeyError`, которая возникает, если вы пытаетесь обратиться к ключу, которого нет в словаре.\n",
    "                new_dic[key].append(value)\n",
    "                # Метод `append()` добавляет элемент в конец списка. В данном случае, он добавляет `value` в список, соответствующий ключу `key`.\n",
    "            \n",
    "        return new_dic\n",
    "csv_columns('exam.csv')"
   ],
   "metadata": {
    "collapsed": false,
    "ExecuteTime": {
     "end_time": "2024-10-01T10:30:38.635352400Z",
     "start_time": "2024-10-01T10:30:38.620459900Z"
    }
   },
   "id": "66c9a5d827ac026"
  },
  {
   "cell_type": "code",
   "execution_count": null,
   "outputs": [],
   "source": [
    "import csv\n",
    "\n",
    "def csv_columns(filename):\n",
    "\n",
    "    with open(filename, encoding=\"utf-8\") as file_in:\n",
    "        rows = list(csv.reader(file_in))\n",
    "        return {key: value for key, *value in zip(*rows)}"
   ],
   "metadata": {
    "collapsed": false
   },
   "id": "a182a7feb81c975f"
  },
  {
   "cell_type": "markdown",
   "source": [
    "Популярные домены\n",
    "Вам доступен файл data.csv, который содержит неповторяющиеся данные о пользователях некоторого ресурса. В первом столбце записано имя пользователя, во втором — фамилия, в третьем — адрес электронной почты:\n",
    "\n",
    "first_name,surname,email\n",
    "John,Wilson,johnwilson@outlook.com\n",
    "Mary,Wilson,marywilson@list.ru\n",
    "...\n",
    "Напишите программу, которая создает файл domain_usage.csv, имеющий следующее содержание:\n",
    "\n",
    "domain,count\n",
    "rambler.ru,24\n",
    "iCloud.com,29\n",
    "...\n",
    "где в первом столбце записано название почтового домена, а во втором — количество пользователей, использующих данный домен. Домены в файле должны быть расположены в порядке возрастания количества их использований, при совпадении количества использований — в лексикографическом порядке.\n",
    "\n",
    "Примечание 1. Разделителем в файле data.csv является запятая, при этом кавычки не используются.\n",
    "\n",
    "Примечание 3. Начальная часть файла domain_usage.csv выглядит так:\n",
    "\n",
    "domain,count\n",
    "rambler.ru,24\n",
    "iCloud.com,29\n",
    "...\n",
    "Примечание 4. При открытии файла используйте явное указание кодировки UTF-8."
   ],
   "metadata": {
    "collapsed": false
   },
   "id": "9a39aa42bd05190e"
  },
  {
   "cell_type": "code",
   "execution_count": 270,
   "outputs": [
    {
     "name": "stdout",
     "output_type": "stream",
     "text": [
      "['outlook.com', 'list.ru', 'yahoo.com', 'bk.ru', 'mail.ru', 'bk.ru', 'rambler.ru', 'iCloud.com', 'mail.ru', 'mail.ru', 'mail.ru', 'list.ru', 'rambler.ru', 'rambler.ru', 'internet.ru', 'inbox.ru', 'yandex.ru', 'gmail.com', 'yandex.ru', 'internet.ru', 'internet.ru', 'yandex.ru', 'rambler.ru', 'rambler.ru', 'mail.ru', 'yahoo.com', 'internet.ru', 'gmail.com', 'yahoo.com', 'gmail.com', 'gmail.com', 'aol.com', 'internet.ru', 'yandex.ru', 'yahoo.com', 'inbox.ru', 'gmail.com', 'outlook.com', 'gmail.com', 'yandex.ru', 'yandex.ru', 'internet.ru', 'mail.ru', 'gmail.com', 'mail.ru', 'yahoo.com', 'list.ru', 'aol.com', 'inbox.ru', 'iCloud.com', 'bk.ru', 'list.ru', 'gmail.com', 'iCloud.com', 'gmail.com', 'outlook.com', 'mail.ru', 'outlook.com', 'inbox.ru', 'rambler.ru', 'yahoo.com', 'gmail.com', 'inbox.ru', 'bk.ru', 'yahoo.com', 'yandex.ru', 'outlook.com', 'gmail.com', 'inbox.ru', 'outlook.com', 'list.ru', 'outlook.com', 'yandex.ru', 'list.ru', 'list.ru', 'yandex.ru', 'list.ru', 'gmail.com', 'iCloud.com', 'outlook.com', 'bk.ru', 'aol.com', 'list.ru', 'inbox.ru', 'yandex.ru', 'yahoo.com', 'inbox.ru', 'internet.ru', 'aol.com', 'iCloud.com', 'yahoo.com', 'outlook.com', 'iCloud.com', 'rambler.ru', 'mail.ru', 'mail.ru', 'inbox.ru', 'mail.ru', 'rambler.ru', 'internet.ru', 'list.ru', 'aol.com', 'yahoo.com', 'aol.com', 'list.ru', 'list.ru', 'inbox.ru', 'outlook.com', 'bk.ru', 'gmail.com', 'bk.ru', 'outlook.com', 'yahoo.com', 'internet.ru', 'rambler.ru', 'gmail.com', 'inbox.ru', 'internet.ru', 'iCloud.com', 'bk.ru', 'inbox.ru', 'yahoo.com', 'iCloud.com', 'yandex.ru', 'internet.ru', 'yandex.ru', 'internet.ru', 'yandex.ru', 'gmail.com', 'bk.ru', 'outlook.com', 'yandex.ru', 'outlook.com', 'iCloud.com', 'yahoo.com', 'iCloud.com', 'list.ru', 'bk.ru', 'list.ru', 'aol.com', 'internet.ru', 'internet.ru', 'iCloud.com', 'yahoo.com', 'aol.com', 'internet.ru', 'internet.ru', 'aol.com', 'mail.ru', 'gmail.com', 'gmail.com', 'rambler.ru', 'aol.com', 'iCloud.com', 'yahoo.com', 'yandex.ru', 'mail.ru', 'yandex.ru', 'aol.com', 'bk.ru', 'aol.com', 'inbox.ru', 'bk.ru', 'rambler.ru', 'iCloud.com', 'yahoo.com', 'list.ru', 'outlook.com', 'bk.ru', 'aol.com', 'mail.ru', 'yandex.ru', 'yahoo.com', 'rambler.ru', 'bk.ru', 'outlook.com', 'mail.ru', 'outlook.com', 'bk.ru', 'aol.com', 'rambler.ru', 'yandex.ru', 'bk.ru', 'yahoo.com', 'inbox.ru', 'yandex.ru', 'gmail.com', 'gmail.com', 'iCloud.com', 'list.ru', 'yahoo.com', 'mail.ru', 'yandex.ru', 'list.ru', 'internet.ru', 'yandex.ru', 'yandex.ru', 'mail.ru', 'outlook.com', 'yahoo.com', 'gmail.com', 'inbox.ru', 'internet.ru', 'iCloud.com', 'yandex.ru', 'list.ru', 'rambler.ru', 'aol.com', 'outlook.com', 'bk.ru', 'outlook.com', 'list.ru', 'list.ru', 'bk.ru', 'aol.com', 'iCloud.com', 'internet.ru', 'internet.ru', 'mail.ru', 'yahoo.com', 'bk.ru', 'inbox.ru', 'iCloud.com', 'rambler.ru', 'aol.com', 'gmail.com', 'outlook.com', 'iCloud.com', 'inbox.ru', 'iCloud.com', 'inbox.ru', 'aol.com', 'bk.ru', 'yahoo.com', 'aol.com', 'inbox.ru', 'gmail.com', 'yandex.ru', 'gmail.com', 'mail.ru', 'gmail.com', 'mail.ru', 'internet.ru', 'internet.ru', 'inbox.ru', 'yahoo.com', 'gmail.com', 'outlook.com', 'yahoo.com', 'gmail.com', 'yahoo.com', 'mail.ru', 'bk.ru', 'gmail.com', 'list.ru', 'mail.ru', 'gmail.com', 'mail.ru', 'yandex.ru', 'mail.ru', 'iCloud.com', 'outlook.com', 'iCloud.com', 'inbox.ru', 'bk.ru', 'rambler.ru', 'internet.ru', 'aol.com', 'mail.ru', 'yandex.ru', 'inbox.ru', 'outlook.com', 'bk.ru', 'rambler.ru', 'outlook.com', 'aol.com', 'bk.ru', 'mail.ru', 'internet.ru', 'outlook.com', 'aol.com', 'bk.ru', 'yahoo.com', 'internet.ru', 'list.ru', 'yandex.ru', 'bk.ru', 'outlook.com', 'gmail.com', 'bk.ru', 'bk.ru', 'gmail.com', 'outlook.com', 'rambler.ru', 'internet.ru', 'yahoo.com', 'mail.ru', 'yandex.ru', 'mail.ru', 'outlook.com', 'iCloud.com', 'internet.ru', 'bk.ru', 'outlook.com', 'outlook.com', 'gmail.com', 'inbox.ru', 'list.ru', 'gmail.com', 'inbox.ru', 'inbox.ru', 'iCloud.com', 'bk.ru', 'gmail.com', 'gmail.com', 'aol.com', 'mail.ru', 'yandex.ru', 'aol.com', 'gmail.com', 'yahoo.com', 'yandex.ru', 'aol.com', 'mail.ru', 'inbox.ru', 'outlook.com', 'internet.ru', 'yahoo.com', 'list.ru', 'yandex.ru', 'mail.ru', 'bk.ru', 'list.ru', 'bk.ru', 'iCloud.com', 'gmail.com', 'gmail.com', 'rambler.ru', 'rambler.ru', 'gmail.com', 'iCloud.com', 'yahoo.com', 'aol.com', 'aol.com', 'mail.ru', 'bk.ru', 'inbox.ru', 'yandex.ru', 'bk.ru', 'iCloud.com', 'iCloud.com', 'gmail.com', 'list.ru', 'yahoo.com', 'mail.ru', 'iCloud.com', 'list.ru', 'list.ru', 'mail.ru', 'outlook.com', 'outlook.com', 'rambler.ru', 'inbox.ru', 'mail.ru', 'rambler.ru', 'inbox.ru', 'list.ru', 'bk.ru', 'yandex.ru', 'aol.com', 'yahoo.com', 'mail.ru', 'inbox.ru', 'bk.ru', 'mail.ru', 'bk.ru', 'inbox.ru', 'internet.ru', 'rambler.ru', 'internet.ru', 'mail.ru', 'aol.com', 'internet.ru', 'rambler.ru', 'bk.ru', 'yahoo.com', 'iCloud.com', 'gmail.com', 'yandex.ru', 'yahoo.com', 'outlook.com', 'yahoo.com', 'internet.ru', 'gmail.com', 'gmail.com', 'aol.com', 'gmail.com', 'gmail.com', 'aol.com', 'yahoo.com']\n",
      "{'domain': 'rambler.ru', 'count': 24} {'domain': 'iCloud.com', 'count': 29} {'domain': 'list.ru', 'count': 29} {'domain': 'aol.com', 'count': 31} {'domain': 'inbox.ru', 'count': 31} {'domain': 'internet.ru', 'count': 32} {'domain': 'outlook.com', 'count': 34} {'domain': 'yandex.ru', 'count': 34} {'domain': 'yahoo.com', 'count': 36} {'domain': 'bk.ru', 'count': 38} {'domain': 'mail.ru', 'count': 38} {'domain': 'gmail.com', 'count': 44}\n",
      "iCloud.com\n",
      "29\n"
     ]
    }
   ],
   "source": [
    "import csv\n",
    "\n",
    "with open('data.csv', encoding='utf-8-sig') as file:\n",
    "    table = [r.split(',')[2] for r in file.read().splitlines()]\n",
    "    del table[0]\n",
    "    lst = [i.split('@')[1] for i in table]\n",
    "    print(lst)\n",
    "\n",
    "    dic ={}\n",
    "    for domain in lst:\n",
    "        if domain not in dic:\n",
    "            dic[domain] = 1\n",
    "        else:\n",
    "            dic[domain] += 1        \n",
    "        \n",
    "    # print(dic)\n",
    "    \n",
    "    result = [{'domain': k, 'count': v} for k, v in dic.items()]\n",
    "    result = sorted(result, key=lambda x:(x['count'],x['domain']))\n",
    "    print(*result)\n",
    "    print(result[1]['domain'])\n",
    "    print(result[1]['count'])\n",
    "\n",
    "with open('domain_usage.csv', 'w', encoding='utf-8', newline='') as file2:\n",
    "    writer = csv.writer(file2)\n",
    "    writer.writerow(['domain', 'count'])\n",
    "    for item in result:\n",
    "        l = [item['domain'], item['count']]\n",
    "        writer.writerow(l)"
   ],
   "metadata": {
    "collapsed": false,
    "ExecuteTime": {
     "end_time": "2024-10-01T12:44:20.926463700Z",
     "start_time": "2024-10-01T12:44:20.907641500Z"
    }
   },
   "id": "34ddd9f9ab2bb9c8"
  },
  {
   "cell_type": "code",
   "execution_count": null,
   "outputs": [],
   "source": [
    "import csv\n",
    "\n",
    "domens = dict()\n",
    "\n",
    "with open('data.csv', encoding='utf-8') as f:\n",
    "    for *n,d in csv.reader(f):\n",
    "        key = d.split('@')[-1]\n",
    "        domens[key] = domens.get(key, 0) + 1\n",
    "        \n",
    "del domens['email']\n",
    "\n",
    "with open('domain_usage.csv', 'w', encoding='utf-8', newline='') as f:\n",
    "    writer = csv.writer(f)\n",
    "    writer.writerow(['domain','count'])\n",
    "    for row in sorted(domens.items(), key=lambda x: (x[1], x[0])):\n",
    "        writer.writerow(row)"
   ],
   "metadata": {
    "collapsed": false
   },
   "id": "a65842020d0804af"
  },
  {
   "cell_type": "markdown",
   "source": [
    "Wi-Fi Москвы\n",
    "Вам доступен файл wifi.csv, который содержит данные о городском Wi-Fi Москвы. В первом столбце записано название округа, во втором — название района, в третьем — адрес, в четвертом — количество точек доступа по этому адресу:\n",
    "\n",
    "adm_area;district;location;number_of_access_points\n",
    "Центральный административный округ;район Якиманка;город Москва, улица Серафимовича, дом 5/16;5\n",
    "Центральный административный округ;район Якиманка;город Москва, Болотная набережная, дом 11, строение 1;2\n",
    "...\n",
    "Напишите программу, которая определяет количество точек доступа в каждом районе Москвы и выводит названия всех районов, для каждого указывая соответствующее количество точек доступа, каждое на отдельной строке, в следующем формате:\n",
    "\n",
    "<название района>: <количество точек доступа>\n",
    "Названия районов должны быть расположены в порядке убывания количества точек доступа, при совпадении количества точек доступа — в лексикографическом порядке.\n",
    "\n",
    "Примечание 1. Разделителем в файле wifi.csv является точка с запятой, при этом кавычки не используются.\n",
    "\n",
    "Примечание 2. При сортировке названия районов должны быть использованы именно в том виде, в котором они указаны в исходном файле. Выполнять какие-либо дополнительные преобразования не нужно.\n",
    "\n",
    "Примечание 4. Начальная часть ответа выглядит так:\n",
    "\n",
    "Тверской район: 480\n",
    "район Хамовники: 386\n",
    "Пресненский район: 349\n",
    "...\n",
    "Примечание 5. При открытии файла используйте явное указание кодировки UTF-8."
   ],
   "metadata": {
    "collapsed": false
   },
   "id": "e057edd25e5a9af0"
  },
  {
   "cell_type": "code",
   "execution_count": 302,
   "outputs": [
    {
     "name": "stdout",
     "output_type": "stream",
     "text": [
      "Тверской район: 480\n",
      "район Хамовники: 386\n",
      "Пресненский район: 349\n",
      "Басманный район: 343\n",
      "район Замоскворечье: 308\n",
      "Мещанский район: 228\n",
      "Таганский район: 212\n",
      "район Якиманка: 201\n",
      "район Арбат: 184\n",
      "Красносельский район: 142\n",
      "район Дорогомилово: 92\n",
      "Донской район: 51\n",
      "Даниловский район: 47\n",
      "район Беговой: 35\n",
      "район Марьина Роща: 18\n",
      "Южнопортовый район: 6\n",
      "Гагаринский район: 4\n",
      "Хорошёвский район: 4\n",
      "район Марьино: 4\n",
      "район Проспект Вернадского: 2\n",
      "район Лефортово: 1\n"
     ]
    }
   ],
   "source": [
    "import csv\n",
    "from collections import defaultdict\n",
    "\n",
    "'''one way'''\n",
    "dic_first = {}\n",
    "with open('wifi.csv', encoding='utf-8') as f:\n",
    "    rows = csv.DictReader(f, delimiter=';')\n",
    "    for row in rows:\n",
    "        # print(row)\n",
    "        district = row['district']\n",
    "        number_of_access_points = int(row['number_of_access_points'])\n",
    "        if district not in dic_first.keys():\n",
    "            dic_first[district] = number_of_access_points\n",
    "        else:\n",
    "            dic_first[district] += number_of_access_points\n",
    "    dic_first = dict(sorted(dic_first.items(), key=lambda x:(-x[1], x[0]), reverse=False))\n",
    "    # print(dic_first)\n",
    "    # for key, value in dic_first.items():\n",
    "    #     print(f'{key}: {value}', sep='')\n",
    "\n",
    "'''second way'''\n",
    "dic_second = {}\n",
    "with open('wifi.csv', encoding='utf-8') as f:\n",
    "    rows = list(csv.DictReader(f, delimiter=';'))\n",
    "    dic_second = {\n",
    "    district: sum(int(row['number_of_access_points']) for row in rows if row['district'] == district)\n",
    "    for district in {row['district'] for row in rows}  # Уникальные районы\n",
    "}\n",
    "    dic_second = dict(sorted(dic_second.items(), key=lambda x:(-x[1], x[0]), reverse=False))\n",
    "    # print(dic_second)\n",
    "    # for key, value in dic_second.items():\n",
    "    #     print(f'{key}: {value}', sep='')\n",
    "      \n",
    "'''third way'''\n",
    "dic_default = defaultdict(int)\n",
    "with open('wifi.csv', encoding='utf-8') as f:\n",
    "    rows = csv.DictReader(f, delimiter=';')\n",
    "    for row in rows:\n",
    "        dic_default[row['district']] += int(row['number_of_access_points'])\n",
    "    dic_default = dict(sorted(dic_default.items(), key=lambda x:(-x[1], x[0]), reverse=False))\n",
    "    # print(dic_default)\n",
    "    for key, value in dic_default.items():\n",
    "        print(f'{key}: {value}', sep='')"
   ],
   "metadata": {
    "collapsed": false,
    "ExecuteTime": {
     "end_time": "2024-10-02T05:21:30.670854100Z",
     "start_time": "2024-10-02T05:21:30.637083700Z"
    }
   },
   "id": "5f1c43d86e669769"
  },
  {
   "cell_type": "code",
   "execution_count": 303,
   "outputs": [
    {
     "name": "stdout",
     "output_type": "stream",
     "text": [
      "Тверской район: 480\n",
      "район Хамовники: 386\n",
      "Пресненский район: 349\n",
      "Басманный район: 343\n",
      "район Замоскворечье: 308\n",
      "Мещанский район: 228\n",
      "Таганский район: 212\n",
      "район Якиманка: 201\n",
      "район Арбат: 184\n",
      "Красносельский район: 142\n",
      "район Дорогомилово: 92\n",
      "Донской район: 51\n",
      "Даниловский район: 47\n",
      "район Беговой: 35\n",
      "район Марьина Роща: 18\n",
      "Южнопортовый район: 6\n",
      "Гагаринский район: 4\n",
      "Хорошёвский район: 4\n",
      "район Марьино: 4\n",
      "район Проспект Вернадского: 2\n",
      "район Лефортово: 1\n"
     ]
    }
   ],
   "source": [
    "import csv\n",
    "\n",
    "with open('wifi.csv', encoding='UTF-8') as f:\n",
    "    d = {}\n",
    "    for r in [*csv.reader(f, delimiter=';')][1:]:\n",
    "        d[r[1]] = d.get(r[1], 0) + int(r[3])\n",
    "\n",
    "for i in sorted(d, key=lambda x:(-d[x], x)):\n",
    "    print(f'{i}: {d[i]}')"
   ],
   "metadata": {
    "collapsed": false,
    "ExecuteTime": {
     "end_time": "2024-10-02T05:46:16.526615700Z",
     "start_time": "2024-10-02T05:46:16.501084800Z"
    }
   },
   "id": "9539781a026aab71"
  },
  {
   "cell_type": "markdown",
   "source": [
    "Последний день на Титанике\n",
    "Вам доступен файл titanic.csv, который содержит данные о пассажирах, присутствовавших на борту парохода Титаник. В первом столбце указана единица, если пассажир выжил, и ноль в противном случае, во втором столбце записано полное имя пассажира, в третьем — пол, в четвертом — возраст:\n",
    "\n",
    "survived;name;sex;age\n",
    "0;Mr. Owen Harris Braund;male;22\n",
    "1;Mrs. John Bradley (Florence Briggs Thayer) Cumings;female;38\n",
    "...\n",
    "Напишите программу, которая выводит имена выживших пассажиров, которым было менее \n",
    "18\n",
    "18 лет, каждое на отдельной строке. Причем сначала должны быть расположены имена всех пассажиров мужского пола, а затем — женского, имена же непосредственно в мужском и женском списках должны быть расположены в своем исходном порядке.\n",
    "\n",
    "Примечание 1. Разделителем в файле titanic.csv является точка с запятой, при этом кавычки не используются.\n",
    "\n",
    "Примечание 3. Часть ответа выглядит так:\n",
    "\n",
    "Master. Gerios Moubarek\n",
    "Master. Alden Gates Caldwell\n",
    "...\n",
    "Master. Harold Theodor Johnson\n",
    "Mrs. Nicholas (Adele Achem) Nasser\n",
    "Miss. Marguerite Rut Sandstrom\n",
    "...\n",
    "Примечание 4. При открытии файла используйте явное указание кодировки UTF-8."
   ],
   "metadata": {
    "collapsed": false
   },
   "id": "2f1068ed75fc31cd"
  },
  {
   "cell_type": "code",
   "execution_count": 314,
   "outputs": [
    {
     "name": "stdout",
     "output_type": "stream",
     "text": [
      "Master. Gerios Moubarek\n",
      "Master. Alden Gates Caldwell\n",
      "Master. Elias Nicola-Yarred\n",
      "Master. Frank John William Goldsmith\n",
      "Master. Richard F Becker\n",
      "Master. Michel M Navratil\n",
      "Mr. Victor Francis Sunderland\n",
      "Master. Edvin Rojj Felix Asplund\n",
      "Master. Hudson Trevor Allison\n",
      "Master. Edmond Roger Navratil\n",
      "Master. William Loch Coutts\n",
      "Master. William Rowe Richards\n",
      "Master. Washington Dodge\n",
      "Master. Eden Leslie Coutts\n",
      "Master. John Morgan Jr Davies\n",
      "Mr. John Borland Jr Thayer\n",
      "Master. Halim Gonios Moubarek\n",
      "Master. Meier Moor\n",
      "Master. Viljo Hamalainen\n",
      "Master. Bertram Vere Dean\n",
      "Master. William Thornton II Carter\n",
      "Master. Assad Alexander Thomas\n",
      "Master. Andre Mallet\n",
      "Master. George Sibley Richards\n",
      "Master. Harold Theodor Johnson\n",
      "Mrs. Nicholas (Adele Achem) Nasser\n",
      "Miss. Marguerite Rut Sandstrom\n",
      "Miss. Anna McGowan\n",
      "Miss. Jamila Nicola-Yarred\n",
      "Miss. Simonne Marie Anne Andree Laroche\n",
      "Miss. Constance Mirium West\n",
      "Miss. Erna Alexandra Andersson\n",
      "Miss. Bertha Ilett\n",
      "Miss. Anna Peter\n",
      "Miss. Katherine Gilnagh\n",
      "Miss. Eleanor Ileen Johnson\n",
      "Miss. Luise Gretchen Kink-Heilmann\n",
      "Miss. Helen Carr\n",
      "Miss. Lillian Gertrud Asplund\n",
      "Miss. Marjorie Collyer\n",
      "Mrs. Victor de Satode (Maria Josefa Perez de Soto y Vallejo) Penasco y Castellana\n",
      "Miss. Jean Gertrude Hippach\n",
      "Miss. Maria Nakid\n",
      "Miss. Bertha Lehmann\n",
      "Miss. Lucile Polk Carter\n",
      "Miss. Madeleine Violet Mellinger\n",
      "Miss. Marie Catherine Baclini\n",
      "Miss. Helene Barbara Baclini\n",
      "Miss. Hildur E Hirvonen\n",
      "Miss. Roberta Maioni\n",
      "Miss. Phyllis May Quick\n",
      "Miss. Eva Miriam Hart\n",
      "Miss. Marion Louise Becker\n",
      "Miss. Eugenie Baclini\n",
      "Miss. Hanora O'Leary\n",
      "Miss. Georgette Alexandra Madill\n",
      "Miss. Manca Karun\n",
      "Miss. Annie Jessie Harper\n",
      "Miss. Joan Wells\n",
      "Miss. Virginia Ethel Emanuel\n",
      "Miss. Banoura Ayoub\n",
      "Mrs. Albert Adrian (Vera Gillespie) Dick\n",
      "Mrs. Antoni (Selini Alexander) Yasbeck\n",
      "Miss. Mary Conover Lines\n",
      "Miss. Adele Kiamie Najib\n"
     ]
    }
   ],
   "source": [
    "import csv\n",
    "\n",
    "with open('titanic.csv', encoding='utf-8') as f:\n",
    "    rows = csv.DictReader(f, delimiter=';')\n",
    "    filtered_rows = filter(lambda x:x['survived']=='1' and float(x['age'])<18, rows)\n",
    "    sorted_rows = sorted(filtered_rows, key=lambda x:len(x['sex']))\n",
    "    for row in sorted_rows:\n",
    "        print(row['name'])"
   ],
   "metadata": {
    "collapsed": false,
    "ExecuteTime": {
     "end_time": "2024-10-02T06:51:30.375929700Z",
     "start_time": "2024-10-02T06:51:30.366315800Z"
    }
   },
   "id": "e35e25b03102b5b1"
  },
  {
   "cell_type": "code",
   "execution_count": 316,
   "outputs": [
    {
     "name": "stdout",
     "output_type": "stream",
     "text": [
      "     survived                                               name     sex   age\n",
      "0           0                             Mr. Owen Harris Braund    male  22.0\n",
      "1           1  Mrs. John Bradley (Florence Briggs Thayer) Cum...  female  38.0\n",
      "2           1                              Miss. Laina Heikkinen  female  26.0\n",
      "3           1        Mrs. Jacques Heath (Lily May Peel) Futrelle  female  35.0\n",
      "4           0                            Mr. William Henry Allen    male  35.0\n",
      "..        ...                                                ...     ...   ...\n",
      "882         0                               Rev. Juozas Montvila    male  27.0\n",
      "883         1                        Miss. Margaret Edith Graham  female  19.0\n",
      "884         0                     Miss. Catherine Helen Johnston  female   7.0\n",
      "885         1                               Mr. Karl Howell Behr    male  26.0\n",
      "886         0                                 Mr. Patrick Dooley    male  32.0\n",
      "\n",
      "[887 rows x 4 columns]\n"
     ]
    }
   ],
   "source": [
    "import pandas as pd\n",
    "\n",
    "df = pd.read_csv('titanic.csv', delimiter=';')\n",
    "# print(df)\n",
    "df_new = df.loc[(df.age < 18) & (df.survived == 1)]\n",
    "\n",
    "print(*df_new.loc[df.sex == 'male'].name, sep='\\n')\n",
    "print(*df_new.loc[df.sex == 'female'].name, sep='\\n')"
   ],
   "metadata": {
    "collapsed": false,
    "ExecuteTime": {
     "end_time": "2024-10-02T07:14:03.754951200Z",
     "start_time": "2024-10-02T07:14:03.746059800Z"
    }
   },
   "id": "e549e60f93aaa3bd"
  },
  {
   "cell_type": "code",
   "execution_count": 23,
   "outputs": [
    {
     "name": "stdout",
     "output_type": "stream",
     "text": [
      "Master. Gerios Moubarek\n",
      "Master. Alden Gates Caldwell\n",
      "Master. Elias Nicola-Yarred\n",
      "Master. Frank John William Goldsmith\n",
      "Master. Richard F Becker\n",
      "Master. Michel M Navratil\n",
      "Mr. Victor Francis Sunderland\n",
      "Master. Edvin Rojj Felix Asplund\n",
      "Master. Hudson Trevor Allison\n",
      "Master. Edmond Roger Navratil\n",
      "Master. William Loch Coutts\n",
      "Master. William Rowe Richards\n",
      "Master. Washington Dodge\n",
      "Master. Eden Leslie Coutts\n",
      "Master. John Morgan Jr Davies\n",
      "Mr. John Borland Jr Thayer\n",
      "Master. Halim Gonios Moubarek\n",
      "Master. Meier Moor\n",
      "Master. Viljo Hamalainen\n",
      "Master. Bertram Vere Dean\n",
      "Master. William Thornton II Carter\n",
      "Master. Assad Alexander Thomas\n",
      "Master. Andre Mallet\n",
      "Master. George Sibley Richards\n",
      "Master. Harold Theodor Johnson\n",
      "Mrs. Nicholas (Adele Achem) Nasser\n",
      "Miss. Marguerite Rut Sandstrom\n",
      "Miss. Anna McGowan\n",
      "Miss. Jamila Nicola-Yarred\n",
      "Miss. Simonne Marie Anne Andree Laroche\n",
      "Miss. Constance Mirium West\n",
      "Miss. Erna Alexandra Andersson\n",
      "Miss. Bertha Ilett\n",
      "Miss. Anna Peter\n",
      "Miss. Katherine Gilnagh\n",
      "Miss. Eleanor Ileen Johnson\n",
      "Miss. Luise Gretchen Kink-Heilmann\n",
      "Miss. Helen Carr\n",
      "Miss. Lillian Gertrud Asplund\n",
      "Miss. Marjorie Collyer\n",
      "Mrs. Victor de Satode (Maria Josefa Perez de Soto y Vallejo) Penasco y Castellana\n",
      "Miss. Jean Gertrude Hippach\n",
      "Miss. Maria Nakid\n",
      "Miss. Bertha Lehmann\n",
      "Miss. Lucile Polk Carter\n",
      "Miss. Madeleine Violet Mellinger\n",
      "Miss. Marie Catherine Baclini\n",
      "Miss. Helene Barbara Baclini\n",
      "Miss. Hildur E Hirvonen\n",
      "Miss. Roberta Maioni\n",
      "Miss. Phyllis May Quick\n",
      "Miss. Eva Miriam Hart\n",
      "Miss. Marion Louise Becker\n",
      "Miss. Eugenie Baclini\n",
      "Miss. Hanora O'Leary\n",
      "Miss. Georgette Alexandra Madill\n",
      "Miss. Manca Karun\n",
      "Miss. Annie Jessie Harper\n",
      "Miss. Joan Wells\n",
      "Miss. Virginia Ethel Emanuel\n",
      "Miss. Banoura Ayoub\n",
      "Mrs. Albert Adrian (Vera Gillespie) Dick\n",
      "Mrs. Antoni (Selini Alexander) Yasbeck\n",
      "Miss. Mary Conover Lines\n",
      "Miss. Adele Kiamie Najib\n"
     ]
    }
   ],
   "source": [
    "import pandas as pd\n",
    "\n",
    "df = pd.read_csv('titanic.csv', delimiter=';')\n",
    "df = df[(df.survived == 1) & (df.age < 18)]\n",
    "print(*df[df.sex == 'male'].name, sep='\\n')\n",
    "print(*df[df.sex == 'female'].name, sep='\\n')"
   ],
   "metadata": {
    "collapsed": false,
    "ExecuteTime": {
     "end_time": "2024-10-02T10:26:49.150678Z",
     "start_time": "2024-10-02T10:26:49.134971200Z"
    }
   },
   "id": "d93055da3f353dec"
  },
  {
   "cell_type": "markdown",
   "source": [
    "Лог-файл\n",
    "Вам доступен файл name_log.csv, в котором находятся логи изменения имени пользователя. В первом столбце записано измененное имя пользователя, во втором — адрес электронной почты, в третьем — дата и время изменения. При этом email пользователь менять не может, только имя:\n",
    "\n",
    "username,email,dtime\n",
    "rare_charles6,charlesthompson@inbox.ru,15/11/2021 08:15\n",
    "busy_patricia5,patriciasmith@bk.ru,07/11/2021 08:07\n",
    "...\n",
    "Напишите программу, которая отбирает из файла name_log.csv только самые свежие записи для каждого пользователя и записывает их в файл new_name_log.csv. В файле new_name_log.csv первой строкой должны быть заголовки столбцов такие же, как в файле name_log.csv. Логи в итоговом файле должны быть расположены в лексикографическом порядке названий электронных ящиков пользователей.\n",
    "\n",
    "Примечание 1. Для части пользователей в исходном файле запись только одна, и тогда в итоговый файл следует записать только ее, для некоторых пользователей есть несколько записей с разными именами.\n",
    "\n",
    "Например, пользователь с электронной почтой c3po@gmail.com несколько раз менял имя:\n",
    "\n",
    "C=3PO,c3po@gmail.com,16/11/2021 17:10\n",
    "C3PO,c3po@gmail.com,16/11/2021 17:15\n",
    "C-3PO,c3po@gmail.com,16/11/2021 17:24\n",
    "Из этих трех записей в итоговый файл должна быть записана только одна — самая свежая:\n",
    "\n",
    "C-3PO,c3po@gmail.com,16/11/2021 17:24\n",
    "Примечание 2. Разделителем в файле name_log.csv является запятая, при этом кавычки не используются.\n",
    "\n",
    "Примечание 4. Начальная часть файла new_name_log.csv выглядит так:\n",
    "\n",
    "username,email,dtime\n",
    "angry-barbara2,barbaraanderson@bk.ru,17/11/2021 01:17\n",
    "dead-barbara6,barbarabrown@rambler.ru,27/11/2021 08:27\n",
    "busy_barbara7,barbaradavis@aol.com,24/11/2021 08:24\n",
    "...\n",
    "Примечание 5. При открытии файла используйте явное указание кодировки UTF-8."
   ],
   "metadata": {
    "collapsed": false
   },
   "id": "949d8c47361bd202"
  },
  {
   "cell_type": "code",
   "execution_count": 73,
   "outputs": [],
   "source": [
    "import csv\n",
    "from itertools import islice\n",
    "from datetime import datetime\n",
    "\n",
    "list_of_dic = []\n",
    "with open('name_log.csv', encoding='utf-8') as f:\n",
    "    rows = csv.DictReader(f)\n",
    "    # получаю строки для понимания структуры\n",
    "    # for row in islice(rows, 2):\n",
    "    for row in rows:\n",
    "        # print(row)\n",
    "        \n",
    "        # Преобразуем строку в объект datetime\n",
    "        row['dtime'] = datetime.strptime(row['dtime'], '%d/%m/%Y %H:%M')\n",
    "        # print(row)\n",
    "        \n",
    "        list_of_dic.append(row)\n",
    "    \n",
    "# print(list_of_dic)\n",
    "\n",
    "sorted_list = sorted(list_of_dic, key=lambda x:x['dtime'], reverse=True)\n",
    "sorted_list = sorted(sorted_list, key=lambda x:x['email'])\n",
    "# print(sorted_list)\n",
    "\n",
    "temp = []\n",
    "final = []\n",
    "for row in sorted_list:\n",
    "    if row['email'] not in temp:\n",
    "        temp.append(row['email'])\n",
    "        final.append((row['username'], row['email'], datetime.strftime(row['dtime'], '%d/%m/%Y %H:%M')))\n",
    "        \n",
    "# print(final)\n",
    "title = list((sorted_list[0]).keys())\n",
    "# print(title)\n",
    "\n",
    "with open('new_name_log.csv', 'w', encoding='utf-8', newline='') as f:\n",
    "    writer = csv.writer(f)\n",
    "    writer.writerow(title)\n",
    "    for row in final:\n",
    "        writer.writerow(row)"
   ],
   "metadata": {
    "collapsed": false,
    "ExecuteTime": {
     "end_time": "2024-10-03T07:05:39.516477900Z",
     "start_time": "2024-10-03T07:05:39.476214400Z"
    }
   },
   "id": "1eaa51025e396a8a"
  },
  {
   "cell_type": "code",
   "execution_count": null,
   "outputs": [],
   "source": [
    "import csv\n",
    "from datetime import datetime\n",
    "\n",
    "with open('name_log.csv', encoding='UTF-8') as f:\n",
    "\theader, *rows = csv.reader(f)\n",
    "\n",
    "d = {i[1]:i for i in sorted(rows, key=lambda x: datetime.strptime(x[2], '%d/%m/%Y %H:%M'))}\n",
    "\n",
    "with open('new_name_log.csv', 'w', encoding='UTF-8', newline='') as f:\n",
    "\tw = csv.writer(f)\n",
    "\tw.writerow(header)\n",
    "\tw.writerows(sorted(d.values(), key=lambda x: x[1]))"
   ],
   "metadata": {
    "collapsed": false
   },
   "id": "48bd33f8db8fd20c"
  },
  {
   "cell_type": "markdown",
   "source": [
    "Проще, чем кажется 🌶️\n",
    "Рассмотрим следующий текстовый фрагмент:\n",
    "\n",
    "ball,color,purple\n",
    "ball,size,4\n",
    "ball,notes,it's round\n",
    "cup,color,blue\n",
    "cup,size,1\n",
    "cup,notes,none\n",
    "Каждая строка этого фрагмента содержит три значения через запятую: имя объекта, свойство этого объекта, значение свойства. Например, в первой строке указан объект ball, имеющий свойство color, значение которого равно purple. Также у объекта ball есть свойства size и notes, имеющие значения 4 и it's round соответственно. Помимо объекта ball имеется объект cup, имеющий те же свойства и в том же количестве. Дадим этим объектам общее название object и сгруппируем строки данного текстового фрагмента по первому столбцу:\n",
    "\n",
    "object,color,size,notes\n",
    "ball,purple,4,it's round\n",
    "cup,blue,1,none\n",
    "Мы получили запись в привычном CSV формате, в котором в первом столбце указывается имя объекта, а в последующих — значения соответствующих свойств этого объекта.\n",
    "\n",
    "Реализуйте функцию condense_csv(), которая принимает два аргумента в следующем формате:\n",
    "\n",
    "filename — название csv файла, например, data.csv; формат содержимого файла аналогичен формату текстового фрагмента, рассмотренного в условии задачи: каждая строка файла содержит три значения через запятую, а именно имя объекта, свойство этого объекта, значение свойства; все объекты имеют равные свойства и в равных количествах\n",
    "id_name — общее название для объектов\n",
    "Функция должна привести содержимое файла в привычный CSV формат, сгруппировав строки по первому столбцу и назвав первый столбец id_name. Полученный результат функция должна записать в файл condensed.csv.\n",
    "\n",
    "Примечание 1. Например, если бы файл data.csv имел следующий вид:\n",
    "\n",
    "01,Title,Ran So Hard the Sun Went Down\n",
    "02,Title,Honky Tonk Heroes (Like Me)\n",
    "то вызов функции condense_csv():\n",
    "\n",
    "condense_csv('data.csv', id_name='ID')\n",
    "должен был бы создать файл condensed.csv со следующим содержанием:\n",
    "\n",
    "ID,Title\n",
    "01,Ran So Hard the Sun Went Down\n",
    "02,Honky Tonk Heroes (Like Me)\n",
    "Примечание 2. Гарантируется, что в передаваемом в функцию csv файле разделителем является запятая, при этом кавычки не используются.\n",
    "\n",
    "Примечание 3. При открытии файла используйте явное указание кодировки UTF-8.\n",
    "\n",
    "Примечание 4. В тестирующую систему сдайте программу, содержащую только необходимую функцию condense_csv(), но не код, вызывающий ее."
   ],
   "metadata": {
    "collapsed": false
   },
   "id": "b822ad89aa0d83fc"
  },
  {
   "cell_type": "code",
   "execution_count": 118,
   "outputs": [
    {
     "name": "stdout",
     "output_type": "stream",
     "text": [
      "Position,Artist,Title,Time\n",
      "01,Otis Taylor,Ran So Hard the Sun Went Down,3:52\n",
      "02,Waylon Jennings,Honky Tonk Heroes (Like Me),3:29\n",
      "03,David Allan Coe,Willie Waylon And Me,3:26\n"
     ]
    }
   ],
   "source": [
    "import csv\n",
    "\n",
    "\n",
    "# берём текст\n",
    "text = '''01,Artist,Otis Taylor\n",
    "01,Title,Ran So Hard the Sun Went Down\n",
    "01,Time,3:52\n",
    "02,Artist,Waylon Jennings\n",
    "02,Title,Honky Tonk Heroes (Like Me)\n",
    "02,Time,3:29\n",
    "03,Artist,David Allan Coe\n",
    "03,Title,Willie Waylon And Me\n",
    "03,Time,3:26'''\n",
    "\n",
    "# записываем текст в файл\n",
    "with open('data1.csv', 'w', encoding='utf-8') as file:\n",
    "    file.write(text)\n",
    "\n",
    "def condense_csv(filename: str, id_name: str):\n",
    "    header = []\n",
    "    with open(filename, encoding='utf-8') as file:\n",
    "        rows = csv.reader(file)\n",
    "        for row in rows:\n",
    "            if row[1] not in header:\n",
    "                header.append(row[1])\n",
    "    header.insert(0, id_name)\n",
    "    # print(header)\n",
    "    # print()\n",
    "    \n",
    "    lst = []\n",
    "    dic = {}\n",
    "    with open(filename, encoding='utf-8') as file:\n",
    "        rows = csv.reader(file)\n",
    "        for row in rows:\n",
    "            lst.append(row)\n",
    "            if row[0] not in dic.keys():\n",
    "                dic[row[0]] = {row[1]:row[2]}\n",
    "            else:\n",
    "                # Обновим существующий словарь.\n",
    "                dic[row[0]].update({row[1]: row[2]})\n",
    "    # print(lst)\n",
    "    # print()\n",
    "    # print(dic)\n",
    "    # print()\n",
    "    \n",
    "    final_list = []\n",
    "    for key, value in dic.items():\n",
    "        # print(key, *value.values(), sep=',')\n",
    "        s = (key, *value.values())\n",
    "        final_list.append(s)\n",
    "    \n",
    "    with open('condensed.csv', 'w', encoding='utf-8', newline='') as file:\n",
    "        writer = csv.writer(file)\n",
    "        writer.writerow(header)\n",
    "        for row in final_list:         \n",
    "            writer.writerow(row)\n",
    "\n",
    "# создаём новый файл condensed.csv\n",
    "condense_csv('data1.csv', id_name='Position')\n",
    "\n",
    "# выводим на печать получившийся текст из созданного файла\n",
    "with open('condensed.csv', encoding='utf-8') as file:\n",
    "    print(file.read().strip())"
   ],
   "metadata": {
    "collapsed": false,
    "ExecuteTime": {
     "end_time": "2024-10-03T10:06:50.157159700Z",
     "start_time": "2024-10-03T10:06:50.133469900Z"
    }
   },
   "id": "8bd1198c879d4d4d"
  },
  {
   "cell_type": "code",
   "execution_count": null,
   "outputs": [],
   "source": [
    "import csv\n",
    "\n",
    "def condense_csv(filename, id_name):\n",
    "    with open(filename, encoding='utf-8') as file:\n",
    "        objects = {}\n",
    "        for obj, attr, value in csv.reader(file):\n",
    "            if obj not in objects:\n",
    "                objects[obj] = {id_name: obj}\n",
    "            objects[obj][attr] = value\n",
    "    \n",
    "    with open('condensed.csv', 'w', encoding='utf-8') as file:\n",
    "        writer = csv.DictWriter(file, fieldnames=objects[obj])\n",
    "        writer.writeheader()\n",
    "        writer.writerows(objects.values())"
   ],
   "metadata": {
    "collapsed": false
   },
   "id": "492737b457e10b40"
  },
  {
   "cell_type": "markdown",
   "source": [
    "Возрастание классов 🌶️\n",
    "Вам доступен файл student_counts.csv, который содержит данные о количестве учеников в некотором учебном заведении за период \n",
    "2000\n",
    "2000 — \n",
    "2021\n",
    "2021 г. В первом столбце записан год, в последующих столбцах записан класс и количество учеников в данном классе в этом году:\n",
    "\n",
    "year,5-Б,3-Б,8-А,2-Г,7-Б,1-Б,3-Г,3-А,2-В,6-Б,6-А,8-Б,8-Г,11-А,2-А,7-А,5-А,2-Б,10-А,11-Б,8-В,4-А,7-В,3-В,1-А,9-А,11-В\n",
    "2000,19,15,18,29,19,17,26,29,28,30,26,27,27,22,29,19,27,20,16,18,15,27,19,29,22,20,23\n",
    "2001,21,30,22,19,26,20,24,27,20,30,24,30,29,21,20,19,29,27,23,25,30,30,23,22,22,18,22\n",
    "...\n",
    "Напишите программу, которая записывает данную таблицу в файл sorted_student_counts.csv, располагая все столбцы в порядке возрастания классов, при совпадении классов — в порядке возрастания букв.\n",
    "\n",
    "Примечание 1. Каждый класс содержит номер и букву и записывается в следующем формате:\n",
    "\n",
    "<номер класса>-<буква класса>\n",
    "Примечание 2. Разделителем в файле student_counts.csv является запятая, при этом кавычки не используются.\n",
    "\n",
    "Примечание 4. Начальная часть файла sorted_student_counts.csv выглядит так:\n",
    "\n",
    "year,1-А,1-Б,2-А,2-Б,...\n",
    "2000,22,17,29,20,...\n",
    "2001,22,20,20,27,...\n",
    "...\n",
    "Примечание 5. При открытии файла используйте явное указание кодировки UTF-8."
   ],
   "metadata": {
    "collapsed": false
   },
   "id": "3aea88adb24fc5cf"
  },
  {
   "cell_type": "code",
   "execution_count": 1,
   "outputs": [
    {
     "name": "stdout",
     "output_type": "stream",
     "text": [
      "['year', '5-Б', '3-Б', '8-А', '2-Г', '7-Б', '1-Б', '3-Г', '3-А', '2-В', '6-Б', '6-А', '8-Б', '8-Г', '11-А', '2-А', '7-А', '5-А', '2-Б', '10-А', '11-Б', '8-В', '4-А', '7-В', '3-В', '1-А', '9-А', '11-В']\n"
     ]
    }
   ],
   "source": [
    "import csv\n",
    "\n",
    "with open('student_counts.csv', encoding='utf-8') as file:\n",
    "    reader = csv.DictReader(file)\n",
    "    # Метод list(reader) считывает все данные из CSV-файла и переводит их в список, но после этого объект reader больше не имеет данных для чтения.\n",
    "    records = list(reader)\n",
    "    header = reader.fieldnames\n",
    "    # print(header)\n",
    "    # print()\n",
    "    # print(records)\n",
    "    # print()\n",
    "    columns = [i for i in records[0]]\n",
    "    # print(columns)\n",
    "    # print(header==columns)\n",
    "    # print()\n",
    "    # Мысль такая: в методе записи DictWriter - Обязательный аргумент - fieldnames (название столбцов), в словарях ключом является - название столбца. Т.е. если в DictWriter - аргумент fieldnames = отсортированному списку названий столбцов и загрузить в writerows(тот же словарь из DictReader) - то получим отсортированную по наименованию столбцов таблицу.\n",
    "    header = [reader.fieldnames[0]] + sorted(reader.fieldnames[1:], key=lambda x: (int(x.split('-')[0]), x[2]))\n",
    "    # print(header)\n",
    "    # print()\n",
    "\n",
    "with open('sorted_student_counts.csv', 'w', encoding='utf-8', newline='') as file:\n",
    "    writer = csv.DictWriter(file, fieldnames=header)\n",
    "    writer.writeheader()\n",
    "    for row in records:\n",
    "        writer.writerow(row)"
   ],
   "metadata": {
    "collapsed": false,
    "ExecuteTime": {
     "end_time": "2024-10-22T13:16:28.425194100Z",
     "start_time": "2024-10-22T13:16:28.408850900Z"
    }
   },
   "id": "af0496e2cb80aafe"
  },
  {
   "cell_type": "code",
   "execution_count": 3,
   "outputs": [],
   "source": [
    "import csv\n",
    "\n",
    "def key_func(grade):\n",
    "    number, letter = grade.split('-')\n",
    "    return int(number), letter\n",
    "\n",
    "with open('student_counts.csv', encoding='utf-8') as file:\n",
    "    reader = csv.DictReader(file)\n",
    "    columns = ['year'] + sorted(reader.fieldnames[1:], key=key_func)\n",
    "    rows = list(reader)\n",
    "\n",
    "with open('sorted_student_counts.csv', 'w', encoding='utf-8') as file:\n",
    "    writer = csv.DictWriter(file, fieldnames=columns)\n",
    "    writer.writeheader()\n",
    "    writer.writerows(rows)"
   ],
   "metadata": {
    "collapsed": false,
    "ExecuteTime": {
     "end_time": "2024-10-22T13:20:12.224696Z",
     "start_time": "2024-10-22T13:20:12.205572700Z"
    }
   },
   "id": "7e646f4f13e32961"
  },
  {
   "cell_type": "markdown",
   "source": [
    "Голодный студент 🌶️\n",
    "Дима очень хочет поесть, но денег у него мало. Помогите ему определить самый дешевый продукт, а также магазин, в котором он продается. Вам доступен файл prices.csv, который содержит информацию о ценах продуктов в различных магазинах. В первом столбце записано название магазина, а в последующих — цена на соответствующий товар в этом магазине:\n",
    "\n",
    "Магазин;Творог;Гречка;Рис;Бородинский хлеб;Яблоки;Пельмени;Овсяное печенье;Спагетти;Печеная фасоль;Мороженое;Фарш;Вареники;Картофель;Батончик\n",
    "Пятерочка;69;133;129;83;141;90;72;123;149;89;88;106;54;84\n",
    "Магнит;102;87;95;75;109;112;97;82;101;134;69;61;141;79\n",
    "...\n",
    "Напишите программу, которая определяет и выводит самый дешевый продукт и название магазина, в котором он продается, в следующем формате:\n",
    "\n",
    "<название продукта>: <название магазина>\n",
    "Если имеется несколько самых дешевых товаров, то следует вывести тот товар, чье название меньше в лексикографическом сравнении. Если один товар продается в нескольких магазинах по одной минимальной цене, то следует вывести тот магазин, чье название меньше в лексикографическом сравнении.\n",
    "\n",
    "Примечание 1. Разделителем в файле prices.csv является точка с запятой, при этом кавычки не используются.\n",
    "\n",
    "Примечание 3. Пример вывода:\n",
    "\n",
    "Клубничный йогурт: ВкусВилл\n",
    "Примечание 4. При открытии файла используйте явное указание кодировки UTF-8."
   ],
   "metadata": {
    "collapsed": false
   },
   "id": "abbbb49ab4e57848"
  },
  {
   "cell_type": "code",
   "execution_count": 35,
   "outputs": [
    {
     "name": "stdout",
     "output_type": "stream",
     "text": [
      "Вареники: Дикси\n"
     ]
    }
   ],
   "source": [
    "import csv\n",
    "\n",
    "with open('prices.csv', encoding='utf-8') as file:\n",
    "    reader = csv.DictReader(file, delimiter=';')\n",
    "    # header = reader.fieldnames\n",
    "    # print(header)\n",
    "    # print(len(header))\n",
    "    # print()\n",
    "    records = list(reader)\n",
    "    # print(records)\n",
    "    # print()\n",
    "    \n",
    "    new_dic = {}\n",
    "    for dic in records:\n",
    "        store = dic['Магазин']  # Название магазина\n",
    "        keys = list(dic.keys())\n",
    "        # print(keys)\n",
    "        # Находим ключ с минимальным значением, приводя значения к типу int\n",
    "        min_product_name = min(keys[1:], key=lambda k: int(dic[k]))\n",
    "        # print(min_product_name)\n",
    "        min_product_value = dic[min_product_name]\n",
    "        # print(min_product_value)\n",
    "        # if store not in new_dic:\n",
    "        # new_dic[min_product_name] = (store, int(min_product_value))\n",
    "        new_dic[store] = (min_product_name, int(min_product_value))\n",
    "\n",
    "            \n",
    "    # print()\n",
    "    # print(new_dic)\n",
    "    # print()\n",
    "    final_dic = sorted(new_dic.items(), key= lambda i: (i[1][1], i[1][0]))\n",
    "    # print(final_dic[0])\n",
    "    print(f'{final_dic[0][1][0]}: {final_dic[0][0]}')"
   ],
   "metadata": {
    "collapsed": false,
    "ExecuteTime": {
     "end_time": "2024-10-05T19:58:16.760620300Z",
     "start_time": "2024-10-05T19:58:16.752450800Z"
    }
   },
   "id": "3bf6f1ae776bde76"
  }
 ],
 "metadata": {
  "kernelspec": {
   "display_name": "Python 3",
   "language": "python",
   "name": "python3"
  },
  "language_info": {
   "codemirror_mode": {
    "name": "ipython",
    "version": 2
   },
   "file_extension": ".py",
   "mimetype": "text/x-python",
   "name": "python",
   "nbconvert_exporter": "python",
   "pygments_lexer": "ipython2",
   "version": "2.7.6"
  }
 },
 "nbformat": 4,
 "nbformat_minor": 5
}

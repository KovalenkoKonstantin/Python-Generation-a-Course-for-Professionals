{
 "cells": [
  {
   "cell_type": "markdown",
   "source": [
    "Тема урока: потоковый ввод stdin и вывод stdout\n",
    "Потоковый ввод stdin\n",
    "Потоковый вывод stdout\n",
    "Аннотация. Урок посвящен потоковому вводу и выводу."
   ],
   "metadata": {
    "collapsed": false
   },
   "id": "323848d4df6516a2"
  },
  {
   "cell_type": "markdown",
   "source": [
    "Тема урока: потоковый ввод stdin и вывод stdout"
   ],
   "metadata": {
    "collapsed": false
   },
   "id": "72466c24a62e611"
  },
  {
   "cell_type": "markdown",
   "source": [
    "Потоковый ввод"
   ],
   "metadata": {
    "collapsed": false
   },
   "id": "b8c768b789d5ee78"
  },
  {
   "cell_type": "markdown",
   "source": [
    "В Python существует один очень полезный встроенный объект, который называется поток ввода (sys.stdin).\n",
    "\n",
    "Поток ввода (sys.stdin) — это специальный объект в программе, куда попадает весь текст, который ввёл пользователь. Потоком его называют потому, что данные хранятся в нем до тех пор, пока программа их не прочитала. Таким образом, данные поступают в программу и временно сохраняются в потоке ввода (sys.stdin), а программа может забрать их оттуда, например, с помощью встроенной функции input(). В момент прочтения данные пропадают из потока ввода, так как он хранит их до тех пор, пока они не будут прочитаны."
   ],
   "metadata": {
    "collapsed": false
   },
   "id": "bddc23c84a40e89d"
  },
  {
   "cell_type": "markdown",
   "source": [
    "Поток ввода (sys.stdin) — является итератором, который невозможно перезапустить. Как и любой итератор, он может двигаться только вперёд. Как только данные прочитаны, они удаляются из потока ввода безвозвратно.\n",
    "\n",
    "Элементы, которые выдает этот итератор — это строки, введённые пользователем. Если пользовательский ввод закончен, то итератор прекращает работу. Пока пользователь не ввёл последнюю строку, мы не знаем, сколько элементов в итераторе.\n",
    "\n",
    "Мы с вами уже работали с итераторами, когда изучали встроенные функции map(), filter(), zip(). Итераторы будут подробно рассмотрены в этом курсе, но чуть позже. Пока достаточно помнить, что итератор — это специальный объект, элементы которого можно перебирать циклом for.\n",
    "\n",
    "Чтобы работать с потоком ввода (sys.stdin), необходимо подключить модуль sys стандартной командой import sys"
   ],
   "metadata": {
    "collapsed": false
   },
   "id": "67e1d20c2c10b2a9"
  },
  {
   "cell_type": "code",
   "execution_count": 1,
   "outputs": [],
   "source": [
    "import sys\n",
    "\n",
    "for line in sys.stdin:\n",
    "    print(line.strip('\\n'))"
   ],
   "metadata": {
    "collapsed": false,
    "ExecuteTime": {
     "end_time": "2024-09-26T11:30:33.187563100Z",
     "start_time": "2024-09-26T11:30:33.184274500Z"
    }
   },
   "id": "6e2bc0ef233cf468"
  },
  {
   "cell_type": "markdown",
   "source": [
    "Строковый метод strip('\\n') отрезает от строки line символ перевода строки, поскольку функция print сама переводит строку.\n",
    "\n",
    "Пока есть данные в потоке ввода sys.stdin (то есть пока пользователь их вводит) программа будет записывать вводимые строки в переменную line, убирать символы перевода строки и выводить их на печать.\n",
    "\n",
    "Если запустить такую программу, то она будет работать вечно. Чтобы показать, что ввод закончен, недостаточно нажать Enter — компьютер не знает, завершил ли пользователь работу или будет ещё что-то вводить (при этом Enter превратится в пустую строку). Для завершения ввода необходимо ввести Ctrl + D (если работаете в консоли Linux или IDE PyCharm), либо Ctrl + Z, затем Enter (если работаете в консоли Windows).\n",
    "\n",
    "Если вы работаете в IDE Wing, кликните правой кнопкой мыши и выберите Send EOF, затем нажмите Enter. Это запишет в поток ввода специальный символ EOF (end of file), который отмечает конец ввода."
   ],
   "metadata": {
    "collapsed": false
   },
   "id": "da6837b64f0f11a"
  },
  {
   "cell_type": "markdown",
   "source": [
    "Читаем входные данные в одну строку"
   ],
   "metadata": {
    "collapsed": false
   },
   "id": "307452611931392f"
  },
  {
   "cell_type": "markdown",
   "source": [
    "С помощью потока ввода (sys.stdin) можно в одну строчку кода прочитать весь пользовательский ввод в список."
   ],
   "metadata": {
    "collapsed": false
   },
   "id": "6a26049fba23c658"
  },
  {
   "cell_type": "code",
   "execution_count": null,
   "outputs": [],
   "source": [
    "import sys\n",
    "\n",
    "data = [line.strip() for line in sys.stdin]"
   ],
   "metadata": {
    "collapsed": false
   },
   "id": "f493b7209ad00b7e"
  },
  {
   "cell_type": "markdown",
   "source": [
    "или с помощью функции высшего порядка map():"
   ],
   "metadata": {
    "collapsed": false
   },
   "id": "ced08ba401878039"
  },
  {
   "cell_type": "code",
   "execution_count": null,
   "outputs": [],
   "source": [
    "import sys\n",
    "\n",
    "data = list(map(str.strip, sys.stdin))"
   ],
   "metadata": {
    "collapsed": false
   },
   "id": "75d3e7c3f63f1891"
  },
  {
   "cell_type": "markdown",
   "source": [
    "Обратите внимание, что мы ничего не знаем о количестве введенных строк. Раньше приходилось в задачах сначала указывать количество строк, а уже затем сами строки."
   ],
   "metadata": {
    "collapsed": false
   },
   "id": "2971fe891c9a00d4"
  },
  {
   "cell_type": "markdown",
   "source": [
    "Методы read() и readlines()"
   ],
   "metadata": {
    "collapsed": false
   },
   "id": "8ab3e296ac6d8503"
  },
  {
   "cell_type": "markdown",
   "source": [
    "Как уже было сказано выше, мы можем обойти циклом for итератор sys.stdin. Кроме того, можно считать все строки из итератора (с сохранением символов перевода строки) в список с помощью метода readlines():"
   ],
   "metadata": {
    "collapsed": false
   },
   "id": "48a2bf2995f133c0"
  },
  {
   "cell_type": "code",
   "execution_count": null,
   "outputs": [],
   "source": [
    "import sys\n",
    "\n",
    "data = sys.stdin.readlines()"
   ],
   "metadata": {
    "collapsed": false
   },
   "id": "83d8858384941efb"
  },
  {
   "cell_type": "markdown",
   "source": [
    "Обратите внимание на то, что символ перехода на новую строку (\\n) сохраняется в считанных строках.\n",
    "\n",
    "Если разделять на строки нет необходимости, то считать многострочный текст из стандартного потока ввода в текстовую переменную можно с помощью метода read()"
   ],
   "metadata": {
    "collapsed": false
   },
   "id": "92543b003dc4f558"
  },
  {
   "cell_type": "code",
   "execution_count": null,
   "outputs": [],
   "source": [
    "import sys\n",
    "\n",
    "data = sys.stdin.read()"
   ],
   "metadata": {
    "collapsed": false
   },
   "id": "b088ca14ebca4748"
  },
  {
   "cell_type": "markdown",
   "source": [
    "Потоковый вывод"
   ],
   "metadata": {
    "collapsed": false
   },
   "id": "24b0ec6ce02bf9dc"
  },
  {
   "cell_type": "markdown",
   "source": [
    "Аналогичным образом можно работать с потоковым выводом (sys.stdout). По умолчанию функция print() перенаправляет вывод данных именно в sys.stdout, хотя нам ничего не мешает самостоятельно писать в него."
   ],
   "metadata": {
    "collapsed": false
   },
   "id": "d9d19ff8a4922f85"
  },
  {
   "cell_type": "code",
   "execution_count": 2,
   "outputs": [
    {
     "name": "stdout",
     "output_type": "stream",
     "text": [
      "Hello\n",
      "world!from\n",
      "python\n",
      "Bye-bye\n"
     ]
    }
   ],
   "source": [
    "import sys\n",
    "\n",
    "print('Hello')\n",
    "sys.stdout.write('world!')\n",
    "print('from')\n",
    "sys.stdout.write('python\\n')\n",
    "print('Bye-bye')"
   ],
   "metadata": {
    "collapsed": false,
    "ExecuteTime": {
     "end_time": "2024-09-26T11:39:08.816802300Z",
     "start_time": "2024-09-26T11:39:08.810982400Z"
    }
   },
   "id": "ac89d4c133b749ec"
  },
  {
   "cell_type": "markdown",
   "source": [
    "Обратите внимание на то, что функция print() добавляет перевод на новую строку, а явная запись данных в sys.stdout с помощью метода write() нет. Чтобы добавить перевод на новую строку, мы используем стандартный символ \\n.\n",
    "\n",
    "Также нужно иметь в виду, что при использовании потока вывода sys.stdout нам нужно самостоятельно преобразовывать данные к строковому типу данных (функция print() это делает автоматически)."
   ],
   "metadata": {
    "collapsed": false
   },
   "id": "b3842866c753e4ca"
  },
  {
   "cell_type": "code",
   "execution_count": 3,
   "outputs": [
    {
     "ename": "TypeError",
     "evalue": "write() argument must be str, not <class 'int'>",
     "output_type": "error",
     "traceback": [
      "\u001B[1;31m---------------------------------------------------------------------------\u001B[0m",
      "\u001B[1;31mTypeError\u001B[0m                                 Traceback (most recent call last)",
      "Cell \u001B[1;32mIn[3], line 3\u001B[0m\n\u001B[0;32m      1\u001B[0m \u001B[38;5;28;01mimport\u001B[39;00m \u001B[38;5;21;01msys\u001B[39;00m\n\u001B[1;32m----> 3\u001B[0m \u001B[43msys\u001B[49m\u001B[38;5;241;43m.\u001B[39;49m\u001B[43mstdout\u001B[49m\u001B[38;5;241;43m.\u001B[39;49m\u001B[43mwrite\u001B[49m\u001B[43m(\u001B[49m\u001B[38;5;241;43m17\u001B[39;49m\u001B[43m)\u001B[49m\n",
      "File \u001B[1;32m~\\AppData\\Local\\Programs\\Python\\Python311\\Lib\\site-packages\\ipykernel\\iostream.py:668\u001B[0m, in \u001B[0;36mOutStream.write\u001B[1;34m(self, string)\u001B[0m\n\u001B[0;32m    666\u001B[0m \u001B[38;5;28;01mif\u001B[39;00m \u001B[38;5;129;01mnot\u001B[39;00m \u001B[38;5;28misinstance\u001B[39m(string, \u001B[38;5;28mstr\u001B[39m):\n\u001B[0;32m    667\u001B[0m     msg \u001B[38;5;241m=\u001B[39m \u001B[38;5;124mf\u001B[39m\u001B[38;5;124m\"\u001B[39m\u001B[38;5;124mwrite() argument must be str, not \u001B[39m\u001B[38;5;132;01m{\u001B[39;00m\u001B[38;5;28mtype\u001B[39m(string)\u001B[38;5;132;01m}\u001B[39;00m\u001B[38;5;124m\"\u001B[39m  \u001B[38;5;66;03m# type:ignore[unreachable]\u001B[39;00m\n\u001B[1;32m--> 668\u001B[0m     \u001B[38;5;28;01mraise\u001B[39;00m \u001B[38;5;167;01mTypeError\u001B[39;00m(msg)\n\u001B[0;32m    670\u001B[0m \u001B[38;5;28;01mif\u001B[39;00m \u001B[38;5;28mself\u001B[39m\u001B[38;5;241m.\u001B[39mecho \u001B[38;5;129;01mis\u001B[39;00m \u001B[38;5;129;01mnot\u001B[39;00m \u001B[38;5;28;01mNone\u001B[39;00m:\n\u001B[0;32m    671\u001B[0m     \u001B[38;5;28;01mtry\u001B[39;00m:\n",
      "\u001B[1;31mTypeError\u001B[0m: write() argument must be str, not <class 'int'>"
     ]
    }
   ],
   "source": [
    "import sys\n",
    "\n",
    "sys.stdout.write(17)"
   ],
   "metadata": {
    "collapsed": false,
    "ExecuteTime": {
     "end_time": "2024-09-26T11:42:06.118736800Z",
     "start_time": "2024-09-26T11:42:05.810733600Z"
    }
   },
   "id": "3d5050088c7caa3b"
  },
  {
   "cell_type": "code",
   "execution_count": 13,
   "outputs": [
    {
     "name": "stdout",
     "output_type": "stream",
     "text": [
      "17"
     ]
    },
    {
     "data": {
      "text/plain": "2"
     },
     "execution_count": 13,
     "metadata": {},
     "output_type": "execute_result"
    }
   ],
   "source": [
    "import sys\n",
    "\n",
    "sys.stdout.write(str(17))     # преобразуем данные в строку"
   ],
   "metadata": {
    "collapsed": false,
    "ExecuteTime": {
     "end_time": "2024-09-26T11:42:42.811190700Z",
     "start_time": "2024-09-26T11:42:42.806302500Z"
    }
   },
   "id": "63cdec7c3d01c2ad"
  },
  {
   "cell_type": "markdown",
   "source": [
    "Примечания"
   ],
   "metadata": {
    "collapsed": false
   },
   "id": "8d1bdfb8819d9be3"
  },
  {
   "cell_type": "markdown",
   "source": [
    "Примечание 1. По умолчанию функция input() читает данные из потока ввода sys.stdin, а функция print() печатает данные в поток вывода sys.stdout.\n",
    "\n",
    "Примечание 2. Функция print() — это удобная обертка (wrapper) вокруг метода sys.stdout.write(). Функцию input() часто можно рассматривать как обертку (wrapper) вокруг sys.stdin.readline().\n",
    "\n",
    "Примечание 3. Объекты sys.stdin и sys.stdout являются файловыми объектами, предоставляемыми ОС. Им доступны все соответствующие методы (read(), readline(), readlines(), write(), writelines()). В общем случае, когда программа запускается в интерактивном сеансе, stdin является клавиатурным вводом, а stdout является выводом на экран, но оболочка может использоваться для перенаправления из обычных файлов или вывода на канал и ввода в другие программы."
   ],
   "metadata": {
    "collapsed": false
   },
   "id": "24671db93aabfd4a"
  },
  {
   "cell_type": "code",
   "execution_count": 14,
   "outputs": [
    {
     "name": "stdout",
     "output_type": "stream",
     "text": [
      "back to normal\n"
     ]
    }
   ],
   "source": [
    "import sys\n",
    "\n",
    "temp = sys.stdout                         # сохраняем исходный потоковый вывод\n",
    "sys.stdout = open('log.txt', 'w')         # перенаправляем потоковый вывод в файл\n",
    "print('testing123')\n",
    "print('another line')\n",
    "sys.stdout.close()\n",
    "sys.stdout = temp                         # восстанавливаем исходный потоковый вывод\n",
    "print('back to normal')"
   ],
   "metadata": {
    "collapsed": false,
    "ExecuteTime": {
     "end_time": "2024-09-26T11:52:47.648808200Z",
     "start_time": "2024-09-26T11:52:47.643283100Z"
    }
   },
   "id": "9861ad1607756ed9"
  },
  {
   "cell_type": "code",
   "execution_count": 15,
   "outputs": [
    {
     "name": "stdout",
     "output_type": "stream",
     "text": [
      "Read from file: testing123\n",
      "Read from file: another line\n"
     ]
    }
   ],
   "source": [
    "import sys\n",
    "\n",
    "# Перенаправляем стандартный ввод из файла\n",
    "with open('log.txt', 'r') as file:\n",
    "    sys.stdin = file\n",
    "    for line in sys.stdin:\n",
    "        print('Read from file:', line.strip())  # Читаем строки из input.txt и выводим их"
   ],
   "metadata": {
    "collapsed": false,
    "ExecuteTime": {
     "end_time": "2024-09-26T12:30:53.264064600Z",
     "start_time": "2024-09-26T12:30:53.257059700Z"
    }
   },
   "id": "881b0d6281f69847"
  },
  {
   "cell_type": "markdown",
   "source": [
    "Обратный порядок\n",
    "Напишите программу, которая принимает произвольное количество строк и в каждой введенной строке располагает все символы в обратном порядке.\n",
    "\n",
    "Формат входных данных\n",
    "На вход программе подается произвольное количество строк.\n",
    "\n",
    "Формат выходных данных\n",
    "Программа должна вывести все введенные строки, предварительно расположив в каждой строке все символы в обратном порядке.\n",
    "\n",
    "Примечание 1. Порядок вывода строк должен совпадать с порядком их ввода.\n",
    "\n",
    "Примечание 2. Если на вход программе ничего не подается, то она ничего не должна выводить."
   ],
   "metadata": {
    "collapsed": false
   },
   "id": "a862d8de83d498fa"
  },
  {
   "cell_type": "code",
   "execution_count": null,
   "outputs": [],
   "source": [
    "import sys\n",
    "\n",
    "print(*[i[::-1].strip('\\n') for i in sys.stdin.readlines()], sep='\\n')"
   ],
   "metadata": {
    "collapsed": false
   },
   "id": "8596c8435b14eb29"
  },
  {
   "cell_type": "markdown",
   "source": [
    "Размах данных\n",
    "Дана последовательность дат. Напишите программу, которая выводит количество дней между максимальной и минимальной датами данной последовательности.\n",
    "\n",
    "Формат входных данных\n",
    "На вход программе подается произвольное количество строк, в каждой строке записана дата в ISO формате (YYYY-MM-DD).\n",
    "\n",
    "Формат выходных данных\n",
    "Программа должна вывести единственное число — количество дней между максимальной и минимальной датами введенной последовательности."
   ],
   "metadata": {
    "collapsed": false
   },
   "id": "a34409b0a1c4a543"
  },
  {
   "cell_type": "code",
   "execution_count": null,
   "outputs": [],
   "source": [
    "import sys\n",
    "from datetime import datetime, timedelta\n",
    "\n",
    "pattern = '%Y-%m-%d'\n",
    "\n",
    "v = [i.strip() for i in sys.stdin]\n",
    "print(v)\n",
    "\n",
    "ma = datetime.strptime(max(v), pattern)\n",
    "mi = datetime.strptime(min(v), pattern)\n",
    "\n",
    "print((ma - mi).days)"
   ],
   "metadata": {
    "collapsed": false
   },
   "id": "4ab9e22c3d5ed772"
  },
  {
   "cell_type": "code",
   "execution_count": null,
   "outputs": [],
   "source": [
    "import sys\n",
    "from datetime import datetime\n",
    "date = [datetime.fromisoformat(i.strip()) for i in sys.stdin]\n",
    "                              \n",
    "print((max(date) - min(date)).days)"
   ],
   "metadata": {
    "collapsed": false
   },
   "id": "8611526bac9ebfb7"
  },
  {
   "cell_type": "code",
   "execution_count": null,
   "outputs": [],
   "source": [
    "from datetime import date\n",
    "\n",
    "dates = [date(*map(int, d.split('-'))) for d in open(0)]\n",
    "\n",
    "print((max(dates) - min(dates)).days)"
   ],
   "metadata": {
    "collapsed": false
   },
   "id": "bcb46911ed98d485"
  },
  {
   "cell_type": "code",
   "execution_count": null,
   "outputs": [],
   "source": [
    "import sys\n",
    "from datetime import date\n",
    "\n",
    "dates = list(map(date.fromisoformat, sys.stdin.read().split()))\n",
    "print((max(dates) - min(dates)).days)"
   ],
   "metadata": {
    "collapsed": false
   },
   "id": "2b076ad11f94246f"
  },
  {
   "cell_type": "markdown",
   "source": [
    "Лемма о трёх носках\n",
    "Анри и Дима, имея на руках ящик с бесконечным количеством носков, решили сыграть в игру. Ребята по очереди достают из ящика произвольное количество носков, и после неопределенного числа ходов игра заканчивается. Если тот, кто сделал последний ход, вытащил четное количество носков — он побеждает, в противном случае проигрывает.\n",
    "\n",
    "Напишите программу, которая определяет победителя в данной игре, если первый ход делает Анри.\n",
    "\n",
    "Формат входных данных\n",
    "На вход программе подается произвольное количество строк, в каждой строке записано натуральное число — количество носков, которые вытащил один из игроков.\n",
    "\n",
    "Формат выходных данных\n",
    "Программа должна определить победителя в игре, правила которой представлены в условии задачи, и вывести его имя.\n",
    "\n",
    "Примечание 1. Рассмотрим первый тест. Распишем ходы игроков:\n",
    "\n",
    "Анри — 1\n",
    "Дима — 3\n",
    "Анри — 5\n",
    "Дима — 10\n",
    "Анри — 3\n",
    "Дима — 2\n",
    "Анри — 12\n",
    "Побеждает Анри, так как он делает последний ход и при этом достает четное количество носков. Причем общее количество не важно, важно лишь количество в последнем ходе."
   ],
   "metadata": {
    "collapsed": false
   },
   "id": "7a341547e6004f8"
  },
  {
   "cell_type": "code",
   "execution_count": null,
   "outputs": [],
   "source": [
    "dic = tuple((i, int(j.strip())) for i, j in enumerate(open(0)))\n",
    "print(dic)\n",
    "print(dic[-1])\n",
    "l = tuple(('Анри', 'Дима') if dic[-1][0] % 2 == 0 else ('Дима', 'Анри'))\n",
    "print(l)\n",
    "print(l[0] if dic[-1][1] % 2 == 0 else l[1])"
   ],
   "metadata": {
    "collapsed": false
   },
   "id": "df4858cc1ed43998"
  },
  {
   "cell_type": "code",
   "execution_count": null,
   "outputs": [],
   "source": [
    "t = tuple(int(i.strip()) for i in open(0))\n",
    "print(('Дима', 'Анри')[(len(t) - 1) % 2 == t[-1] % 2])"
   ],
   "metadata": {
    "collapsed": false
   },
   "id": "e01744c87f1e2e7c"
  },
  {
   "cell_type": "markdown",
   "source": [
    "Урок статистики\n",
    "Дан список чисел, каждое из которых — рост очередного ученика онлайн-школы BEEGEEK. Напишите программу, которая определяет рост самого низкого и самого высокого учеников, а также средний рост среди всех учеников.\n",
    "\n",
    "Формат входных данных\n",
    "На вход программе подается произвольное количество строк, в каждой строке записано натуральное число — рост очередного ученика онлайн-школы BEEGEEK.\n",
    "\n",
    "Формат выходных данных\n",
    "Программа должна определить рост самого низкого и самого высокого учеников, а также средний рост среди всех учеников.\n",
    "\n",
    "Полученные результаты должны быть выведены в следующем формате:\n",
    "\n",
    "Рост самого низкого ученика: <рост самого низкого ученика>\n",
    "Рост самого высокого ученика: <рост самого высокого ученика>\n",
    "Средний рост: <средний рост среди всех учеников>\n",
    "Примечание 1. Если на вход программе ничего не подается, то она должна выводить текст нет учеников."
   ],
   "metadata": {
    "collapsed": false
   },
   "id": "921e19fb52705bf1"
  },
  {
   "cell_type": "code",
   "execution_count": null,
   "outputs": [],
   "source": [
    "t = tuple(int(i.strip()) for i in open(0))\n",
    "\n",
    "if t:\n",
    "    l = len(t)\n",
    "    mi = min(t)\n",
    "    ma = max(t)\n",
    "    s = sum(t)\n",
    "    print(f'Рост самого низкого ученика: {mi}')\n",
    "    print(f'Рост самого высокого ученика: {ma}')\n",
    "    print(f'Средний рост: {s/l}')\n",
    "else:\n",
    "    print('нет учеников')"
   ],
   "metadata": {
    "collapsed": false
   },
   "id": "30f885fe3f5fe88"
  },
  {
   "cell_type": "code",
   "execution_count": null,
   "outputs": [],
   "source": [
    "import sys\n",
    "\n",
    "\n",
    "numbers = [int(i) for i in sys.stdin]\n",
    "try:\n",
    "    print(f'Рост самого низкого ученика: {min(numbers)}')\n",
    "    print(f'Рост самого высокого ученика: {max(numbers)}')\n",
    "    print(f'Средний рост: {sum(numbers)//len(numbers)}')\n",
    "except:\n",
    "    print('нет учеников')"
   ],
   "metadata": {
    "collapsed": false
   },
   "id": "126c84ee4fce5364"
  },
  {
   "cell_type": "markdown",
   "source": [
    "Комментатор\n",
    "Дан блок кода на языке Python. Напишите программу, которая определяет количество строк в данном коде, которые содержат в себе только комментарии. Если в строке помимо комментария имеется что-то еще, то такую строку учитывать не нужно.\n",
    "\n",
    "Формат входных данных\n",
    "На вход программе подается произвольное количество строк, в совокупности представляющих блок кода на языке Python.\n",
    "\n",
    "Формат выходных данных\n",
    "Программа должна вывести единственное число — количество строк в введенном коде, которые содержат в себе только комментарии."
   ],
   "metadata": {
    "collapsed": false
   },
   "id": "5cb058178206ef4b"
  },
  {
   "cell_type": "code",
   "execution_count": null,
   "outputs": [],
   "source": [
    "print(len(tuple(i.strip() for i in open(0) if i.strip().startswith('#'))))"
   ],
   "metadata": {
    "collapsed": false
   },
   "id": "a3a32dc33007039c"
  },
  {
   "cell_type": "code",
   "execution_count": null,
   "outputs": [],
   "source": [
    "import sys\n",
    "\n",
    "print(sum(line.lstrip().startswith('#') for line in sys.stdin))"
   ],
   "metadata": {
    "collapsed": false
   },
   "id": "d038ad6a371b3357"
  },
  {
   "cell_type": "code",
   "execution_count": null,
   "outputs": [],
   "source": [
    "from sys import stdin\n",
    "\n",
    "print(sum(1 for row in stdin if row.lstrip().startswith('#')))"
   ],
   "metadata": {
    "collapsed": false
   },
   "id": "6fa6f3795c64f2a1"
  },
  {
   "cell_type": "markdown",
   "source": [
    "Без комментариев\n",
    "Дан блок кода на языке Python. Напишите программу, которая удаляет все строки в данном коде, которые содержат в себе только комментарии. Если в строке помимо комментария имеется что-то еще, то такую строку учитывать не нужно.\n",
    "\n",
    "Формат входных данных\n",
    "На вход программе подается произвольное количество строк, в совокупности представляющих блок кода на языке Python.\n",
    "\n",
    "Формат выходных данных\n",
    "Программа должна вывести введенный блок кода, предварительно удалив из него все строки которые содержат в себе только комментарии.\n",
    "\n",
    "Примечание 1. Порядок вывода строк кода должен совпадать с порядком их ввода."
   ],
   "metadata": {
    "collapsed": false
   },
   "id": "9fd10265aa68b9f"
  },
  {
   "cell_type": "code",
   "execution_count": null,
   "outputs": [],
   "source": [
    "print(*tuple(i for i in open(0) if not i.strip().startswith('#')), sep='')"
   ],
   "metadata": {
    "collapsed": false
   },
   "id": "e18e0378854c50fc"
  },
  {
   "cell_type": "code",
   "execution_count": null,
   "outputs": [],
   "source": [
    "import sys\n",
    "\n",
    "for line in sys.stdin:\n",
    "    if not line.lstrip().startswith('#'):\n",
    "        print(line.rstrip())"
   ],
   "metadata": {
    "collapsed": false
   },
   "id": "436791908f35ff97"
  },
  {
   "cell_type": "code",
   "execution_count": null,
   "outputs": [],
   "source": [
    "import sys\n",
    "\n",
    "[sys.stdout.write(i) for i in sys.stdin if not i.lstrip().startswith('#')]"
   ],
   "metadata": {
    "collapsed": false
   },
   "id": "f4f42f69f1c37c39"
  },
  {
   "cell_type": "markdown",
   "source": [
    "Панорамное агентство\n",
    "По чатам одного немалоизвестного мессенджера начали появляться новости сомнительного содержания. Оказалось, что некий молодежный клуб решил подшутить, распространяя всякие глупости. Однако подобное хулиганство мешает доверчивым людям, особенно пенсионного возраста, поэтому группа независимых программистов решила разработать бота, который мог бы оценить степень достоверности новости, а также отнести её к какой-либо категории.\n",
    "\n",
    "Напишите программу, которая выводит все новости заданной категории, располагая их по возрастанию степени достоверности.\n",
    "\n",
    "Формат входных данных\n",
    "На вход программе подается произвольное количество строк, в каждой строке, кроме последней, записана новость, категория, к которой она относится, и ее достоверность в следующем формате:\n",
    "\n",
    "<новость> / <категория> / <достоверность>\n",
    "В последней строке подается одиночная категория.\n",
    "\n",
    "Формат выходных данных\n",
    "Программа должна вывести все новости, которые относятся к введенной категории. Новости должны быть расположены в порядке возрастания степени достоверности, а при совпадении степеней достоверности — в лексикографическом порядке самих новостей."
   ],
   "metadata": {
    "collapsed": false
   },
   "id": "7b51b58ad2b9f5f8"
  },
  {
   "cell_type": "code",
   "execution_count": null,
   "outputs": [],
   "source": [
    "t = tuple(i.strip().split('/') for i in open(0))\n",
    "search = str(*t[-1])\n",
    "l = [i for i in t[:-1] if search in i[1]]\n",
    "print(l)\n",
    "print()\n",
    "\n",
    "l = sorted(l, key= lambda x:x[0].strip())\n",
    "l = sorted(l, key= lambda x:float(x[-1].strip()))\n",
    "print(*l)\n",
    "print()\n",
    "\n",
    "for i in l:\n",
    "    print(i[0].strip())"
   ],
   "metadata": {
    "collapsed": false
   },
   "id": "528d1b10e43379"
  },
  {
   "cell_type": "markdown",
   "source": [
    "Это точно Python?\n",
    "Дана последовательность дат. Напишите программу, которая определяет, в каком порядке расположены даты в данной последовательности.\n",
    "\n",
    "Формат входных данных\n",
    "На вход программе подается произвольное количество строк (две или более), в каждой строке записана дата в формате DD.MM.YYYY.\n",
    "\n",
    "Формат выходных данных\n",
    "Программа должны вывести текст:\n",
    "\n",
    "ASC, если даты в введенной последовательности расположены строго в порядке возрастания\n",
    "DESC, если даты в введенной последовательности расположены строго в порядке убывания\n",
    "MIX, если даты в введенной последовательности расположены ни в порядке возрастания, ни в порядке убывания\n",
    "    Параметры ASC и DESC используются в языке SQL для сортировки по возрастанию и по убыванию соответственно."
   ],
   "metadata": {
    "collapsed": false
   },
   "id": "2e4dce831275c586"
  },
  {
   "cell_type": "code",
   "execution_count": null,
   "outputs": [],
   "source": [
    "from datetime import datetime\n",
    "from sys import stdin\n",
    "\n",
    "pattern = '%d.%m.%Y'\n",
    "initial = list(datetime.strptime(i.strip(), pattern) for i in stdin.readlines())\n",
    "print('MIX' if len(set(initial)) != len(initial) else 'ASC' if initial == sorted(initial) else 'DESC' if initial == sorted(initial, reverse=True) else 'MIX')"
   ],
   "metadata": {
    "collapsed": false
   },
   "id": "3d04e68e51300e62"
  },
  {
   "cell_type": "markdown",
   "source": [
    "Гуру прогрессий\n",
    "Дана последовательность целых чисел. Напишите программу, которая определяет, является ли данная последовательность прогрессией, и если да, то определяет её вид.\n",
    "\n",
    "Формат входных данных\n",
    "На вход программе подается произвольное количество строк (не менее трёх), в каждой строке записано натуральное число — очередной член последовательности.\n",
    "\n",
    "Формат выходных данных\n",
    "Программа должна вывести текст:\n",
    "\n",
    "Арифметическая прогрессия, если введенная последовательность чисел является арифметической прогрессией\n",
    "Геометрическая прогрессия, если введенная последовательность чисел является геометрической прогрессией\n",
    "Не прогрессия, если введенная последовательность чисел не является прогрессией\n",
    "Примечание 1. Гарантируется, что вид прогрессии определяется однозначно."
   ],
   "metadata": {
    "collapsed": false
   },
   "id": "f6f93ce860ed3c9a"
  },
  {
   "cell_type": "code",
   "execution_count": null,
   "outputs": [],
   "source": [
    "from sys import stdin\n",
    "\n",
    "initial = list(int(i) for i in stdin.readlines())\n",
    "print(initial)\n",
    "\n",
    "tup = len(set(initial))\n",
    "ln = len(initial)\n",
    "first = initial[0]\n",
    "second = initial[1]\n",
    "last = initial[-1]\n",
    "progression_difference = second - first\n",
    "progression_denominator = second / first\n",
    "\n",
    "def geometric_progression(a1, r, n):\n",
    "    return [a1 * (r ** i) for i in range(n)]\n",
    "\n",
    "def arithmetic_progression(a1, d, n):\n",
    "    return [a1 + (d * i) for i in range(n)]\n",
    "\n",
    "arithmetic_progression = arithmetic_progression(first, progression_difference, ln)\n",
    "print(arithmetic_progression)\n",
    "\n",
    "geometric_progression = geometric_progression(first, progression_denominator, ln)\n",
    "print(geometric_progression)\n",
    "\n",
    "first_check = arithmetic_progression == initial\n",
    "second_check = geometric_progression == initial\n",
    "print(first_check)\n",
    "print(second_check)\n",
    "\n",
    "print('Не прогрессия' if tup != ln \n",
    "      else 'Арифметическая прогрессия' if first_check \n",
    "else 'Геометрическая прогрессия' if second_check else 'Не прогрессия')"
   ],
   "metadata": {
    "collapsed": false
   },
   "id": "6cd6abe71df95055"
  },
  {
   "cell_type": "code",
   "execution_count": null,
   "outputs": [],
   "source": [
    "import sys\n",
    "\n",
    "def is_arithmetic_progression(seq: list) -> bool:\n",
    "    for i in range(1, len(seq)-1):\n",
    "        if seq[i-1] + seq[i+1] != 2 * seq[i]:\n",
    "            return False\n",
    "    return True\n",
    "\n",
    "def is_geometric_progression(seq: list) -> bool:\n",
    "    for i in range(1, len(seq)-1):\n",
    "        if seq[i-1] * seq[i+1] != seq[i] ** 2:\n",
    "            return False\n",
    "    return True\n",
    "\n",
    "numbers = list(map(int, sys.stdin))\n",
    "if is_arithmetic_progression(numbers):\n",
    "    print(\"Арифметическая прогрессия\")\n",
    "elif is_geometric_progression(numbers):\n",
    "    print(\"Геометрическая прогрессия\")\n",
    "else:\n",
    "    print(\"Не прогрессия\")"
   ],
   "metadata": {
    "collapsed": false
   },
   "id": "c2c5173a7b7a0c63"
  }
 ],
 "metadata": {
  "kernelspec": {
   "display_name": "Python 3",
   "language": "python",
   "name": "python3"
  },
  "language_info": {
   "codemirror_mode": {
    "name": "ipython",
    "version": 2
   },
   "file_extension": ".py",
   "mimetype": "text/x-python",
   "name": "python",
   "nbconvert_exporter": "python",
   "pygments_lexer": "ipython2",
   "version": "2.7.6"
  }
 },
 "nbformat": 4,
 "nbformat_minor": 5
}

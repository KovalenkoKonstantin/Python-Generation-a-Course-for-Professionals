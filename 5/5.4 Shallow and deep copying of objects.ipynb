{
 "cells": [
  {
   "cell_type": "markdown",
   "source": [
    "Тема урока: поверхностное и глубокое копирование объектов\n",
    "Создание копий объектов\n",
    "Модуль copy\n",
    "Поверхностное копирование\n",
    "Глубокое копирование\n",
    "Аннотация. Урок посвящен созданию копий объектов и работе с модулем copy."
   ],
   "metadata": {
    "collapsed": false
   },
   "id": "16c73e42525bb2a9"
  },
  {
   "cell_type": "markdown",
   "source": [
    "Создание копий объектов"
   ],
   "metadata": {
    "collapsed": false
   },
   "id": "61d329ba6a162c7"
  },
  {
   "cell_type": "markdown",
   "source": [
    "Как мы уже знаем, оператор присваивания в Python не создает копию объекта, он лишь связывает имя переменной с объектом. Для неизменяемых объектов это обычно не имеет значения, но для работы с изменяемыми объектами часто требуется создавать реальные копии."
   ],
   "metadata": {
    "collapsed": false
   },
   "id": "63056e178f887afc"
  },
  {
   "cell_type": "code",
   "execution_count": 7,
   "outputs": [
    {
     "name": "stdout",
     "output_type": "stream",
     "text": [
      "2993872157632 [1, 2, 3, 4]\n",
      "2993872157632 [1, 2, 3, 4]\n"
     ]
    }
   ],
   "source": [
    "data1 = [1, 2, 3]\n",
    "data2 = data1\n",
    "data1.append(4)\n",
    "\n",
    "print(id(data1), data1)\n",
    "print(id(data2), data2)"
   ],
   "metadata": {
    "collapsed": false,
    "ExecuteTime": {
     "end_time": "2024-10-31T10:09:15.258986700Z",
     "start_time": "2024-10-31T10:09:15.255145Z"
    }
   },
   "id": "84010432bad173c"
  },
  {
   "cell_type": "markdown",
   "source": [
    "Поскольку списки (тип list) являются изменяемыми, то изменения в data1, также видны в data2"
   ],
   "metadata": {
    "collapsed": false
   },
   "id": "481e5c512ff6fc22"
  },
  {
   "cell_type": "markdown",
   "source": [
    "Для создания реальных копий объектов в Python используют модуль copy"
   ],
   "metadata": {
    "collapsed": false
   },
   "id": "df5254744ef8419c"
  },
  {
   "cell_type": "markdown",
   "source": [
    "Модуль copy"
   ],
   "metadata": {
    "collapsed": false
   },
   "id": "e1930160e51668cc"
  },
  {
   "cell_type": "markdown",
   "source": [
    "Модуль copy содержит две функции:\n",
    "\n",
    "copy(): копирует объект и возвращает его поверхностную копию\n",
    "deepcopy(): копирует объект и возвращает его глубокую копию"
   ],
   "metadata": {
    "collapsed": false
   },
   "id": "93ad42eecfd02e"
  },
  {
   "cell_type": "markdown",
   "source": [
    "Поверхностное копирование"
   ],
   "metadata": {
    "collapsed": false
   },
   "id": "a28993677523f185"
  },
  {
   "cell_type": "markdown",
   "source": [
    "Поверхностное копирование создает отдельный новый объект, но вместо копирования дочерних элементов в новый объект, оно просто копирует ссылки на их адреса памяти."
   ],
   "metadata": {
    "collapsed": false
   },
   "id": "e6c90803ecbfba4d"
  },
  {
   "cell_type": "code",
   "execution_count": 8,
   "outputs": [
    {
     "name": "stdout",
     "output_type": "stream",
     "text": [
      "2993871089984 [1, 2, 3, 4]\n",
      "2993871090304 [1, 2, 3]\n"
     ]
    }
   ],
   "source": [
    "import copy\n",
    "\n",
    "data1 = [1, 2, 3]\n",
    "data2 = copy.copy(data1)\n",
    "data1.append(4)\n",
    "\n",
    "print(id(data1), data1)\n",
    "print(id(data2), data2)"
   ],
   "metadata": {
    "collapsed": false,
    "ExecuteTime": {
     "end_time": "2024-10-31T10:10:47.784339100Z",
     "start_time": "2024-10-31T10:10:47.778480600Z"
    }
   },
   "id": "858470fa71593672"
  },
  {
   "cell_type": "markdown",
   "source": [
    "так как переменная data2 ссылается на новый объект, который представляют копию списка [1, 2, 3]. В данном примере элементами списка являются целые числа (неизменяемый тип int), поэтому изменение одного списка не отражается на другом. Если бы элементами списка были бы изменяемые типы, то поверхностное копирование скопировало бы лишь ссылки на их адреса памяти. Следовательно, любое изменение элементов одного объекта отразилось бы также и на элементах другого объекта."
   ],
   "metadata": {
    "collapsed": false
   },
   "id": "b62c71ee8d1bb22c"
  },
  {
   "cell_type": "code",
   "execution_count": 9,
   "outputs": [
    {
     "name": "stdout",
     "output_type": "stream",
     "text": [
      "2993872035840 [[1, 2, 3], [4, 5, 6], [7, 8, 9]]\n",
      "2993871088320 [[1, 2, 3], [4, 5, 6]]\n"
     ]
    }
   ],
   "source": [
    "import copy\n",
    "\n",
    "data1 = [[1, 2, 3], [4, 5, 6]]\n",
    "data2 = copy.copy(data1)\n",
    "\n",
    "data1.append([7, 8, 9])\n",
    "\n",
    "print(id(data1), data1)\n",
    "print(id(data2), data2)"
   ],
   "metadata": {
    "collapsed": false,
    "ExecuteTime": {
     "end_time": "2024-10-31T10:12:15.048061100Z",
     "start_time": "2024-10-31T10:12:15.041057200Z"
    }
   },
   "id": "eb7e18c55e33b334"
  },
  {
   "cell_type": "markdown",
   "source": [
    "В то время как приведенный ниже код:"
   ],
   "metadata": {
    "collapsed": false
   },
   "id": "fe160ed9586af03"
  },
  {
   "cell_type": "code",
   "execution_count": 10,
   "outputs": [
    {
     "name": "stdout",
     "output_type": "stream",
     "text": [
      "2993870116352 [[1, 2, 3, 7], [4, 5, 6, 8]]\n",
      "2993870249088 [[1, 2, 3, 7], [4, 5, 6, 8]]\n"
     ]
    }
   ],
   "source": [
    "import copy\n",
    "\n",
    "data1 = [[1, 2, 3], [4, 5, 6]]\n",
    "data2 = copy.copy(data1)\n",
    "\n",
    "data1[0].append(7)\n",
    "data2[1].append(8)\n",
    "\n",
    "print(id(data1), data1)\n",
    "print(id(data2), data2)"
   ],
   "metadata": {
    "collapsed": false,
    "ExecuteTime": {
     "end_time": "2024-10-31T10:13:11.864271Z",
     "start_time": "2024-10-31T10:13:11.846224500Z"
    }
   },
   "id": "247f95e3167879fd"
  },
  {
   "cell_type": "markdown",
   "source": [
    "Изменения затронули оба списка, потому что оба они содержат ссылки на один и тот же вложенный объект. Так работает поверхностное копирование."
   ],
   "metadata": {
    "collapsed": false
   },
   "id": "fb34802380343238"
  },
  {
   "cell_type": "markdown",
   "source": [
    "Поверхностное копирование создает отдельный новый объект, но вместо того чтобы копировать дочерние элементы в новый объект, оно копирует ссылки на их адреса памяти."
   ],
   "metadata": {
    "collapsed": false
   },
   "id": "50a32a48cd1df3a7"
  },
  {
   "cell_type": "markdown",
   "source": [
    "Глубокое копирование"
   ],
   "metadata": {
    "collapsed": false
   },
   "id": "d33a3a561cfe883e"
  },
  {
   "cell_type": "markdown",
   "source": [
    "Глубокое копирование создает новую и отдельную копию всего объекта со своим уникальным адресом памяти. Это означает, что любые изменения, внесенные вами в новую копию объекта, не будут отражаться в исходной, и наоборот."
   ],
   "metadata": {
    "collapsed": false
   },
   "id": "d81843565357435a"
  },
  {
   "cell_type": "code",
   "execution_count": 11,
   "outputs": [
    {
     "name": "stdout",
     "output_type": "stream",
     "text": [
      "2993869952256 [[1, 2, 3, 7], [4, 5, 6]]\n",
      "2993870147648 [[1, 2, 3], [4, 5, 6, 8]]\n"
     ]
    }
   ],
   "source": [
    "import copy\n",
    "\n",
    "data1 = [[1, 2, 3], [4, 5, 6]]\n",
    "data2 = copy.deepcopy(data1)\n",
    "\n",
    "data1[0].append(7)\n",
    "data2[1].append(8)\n",
    "\n",
    "print(id(data1), data1)\n",
    "print(id(data2), data2)"
   ],
   "metadata": {
    "collapsed": false,
    "ExecuteTime": {
     "end_time": "2024-10-31T10:15:54.984356600Z",
     "start_time": "2024-10-31T10:15:54.976882300Z"
    }
   },
   "id": "ce38f8f9a831a271"
  },
  {
   "cell_type": "markdown",
   "source": [
    "При глубоком копировании временные затраты на создание копии, очевидно выше чем при создании поверхностной копии. Если копируемый объект имеет сложную вложенную структуру, то глубокое копирование может тратить много времени."
   ],
   "metadata": {
    "collapsed": false
   },
   "id": "1d53ac91cdfcc03c"
  },
  {
   "cell_type": "markdown",
   "source": [
    "Примечания"
   ],
   "metadata": {
    "collapsed": false
   },
   "id": "55ca7125023c1f46"
  },
  {
   "cell_type": "markdown",
   "source": [
    "Примечание 1. У списков, множеств и словарей есть метод copy(), создающий их поверхностную копию."
   ],
   "metadata": {
    "collapsed": false
   },
   "id": "c376918a2f77943"
  },
  {
   "cell_type": "code",
   "execution_count": 12,
   "outputs": [
    {
     "name": "stdout",
     "output_type": "stream",
     "text": [
      "False True\n",
      "False True\n",
      "[1, 2, 3, 4]\n",
      "[[100, 2], [3, 4]]\n"
     ]
    }
   ],
   "source": [
    "data1 = [1, 2, 3, 4]\n",
    "data2 = [[1, 2], [3, 4]]\n",
    "\n",
    "new_data1 = data1.copy()\n",
    "new_data2 = data2.copy()\n",
    "\n",
    "print(data1 is new_data1, data1 == new_data1)\n",
    "print(data2 is new_data2, data2 == new_data2)\n",
    "\n",
    "new_data1[0] = 100 # 1 неизменяем\n",
    "new_data2[0][0] = 100 # список изменяем\n",
    "\n",
    "print(data1)\n",
    "print(data2)"
   ],
   "metadata": {
    "collapsed": false,
    "ExecuteTime": {
     "end_time": "2024-10-31T10:16:57.955676500Z",
     "start_time": "2024-10-31T10:16:57.949588900Z"
    }
   },
   "id": "a874b08712b1350f"
  },
  {
   "cell_type": "markdown",
   "source": [
    "Оператор is проверяет, ссылаются ли две переменные на один объект, оператор == проверяет равенство значений."
   ],
   "metadata": {
    "collapsed": false
   },
   "id": "6d9c0fe29ef4f6bb"
  },
  {
   "cell_type": "markdown",
   "source": [
    "Примечание 2. Встроенные функции, используемые при создании коллекций (list, set, dict, ...), также могут быть использованы для создания поверхностной копии объектов."
   ],
   "metadata": {
    "collapsed": false
   },
   "id": "d134739d96dc700"
  },
  {
   "cell_type": "code",
   "execution_count": 13,
   "outputs": [
    {
     "name": "stdout",
     "output_type": "stream",
     "text": [
      "False True\n",
      "False True\n",
      "False True\n"
     ]
    }
   ],
   "source": [
    "data1 = [1, 2, 3, 4]\n",
    "data2 = {'a': 1, 'b': 2}\n",
    "data3 = {1, 2, 3, 4}\n",
    "\n",
    "new_data1 = list(data1)\n",
    "new_data2 = dict(data2)\n",
    "new_data3 = set(data3)\n",
    "\n",
    "print(data1 is new_data1, data1 == new_data1)\n",
    "print(data2 is new_data2, data2 == new_data2)\n",
    "print(data3 is new_data3, data3 == new_data3)"
   ],
   "metadata": {
    "collapsed": false,
    "ExecuteTime": {
     "end_time": "2024-10-31T10:25:36.570222500Z",
     "start_time": "2024-10-31T10:25:36.564169200Z"
    }
   },
   "id": "74fbd95ad82bfe70"
  },
  {
   "cell_type": "markdown",
   "source": [
    "Примечание 3. Поверхностную копию списка также можно создать с помощью среза всего списка."
   ],
   "metadata": {
    "collapsed": false
   },
   "id": "87d324e6cf55c58e"
  },
  {
   "cell_type": "code",
   "execution_count": 14,
   "outputs": [
    {
     "name": "stdout",
     "output_type": "stream",
     "text": [
      "False True\n"
     ]
    }
   ],
   "source": [
    "data = [1, 2, 3, 4]\n",
    "\n",
    "new_data = data[:]\n",
    "\n",
    "print(data is new_data, data == new_data)"
   ],
   "metadata": {
    "collapsed": false,
    "ExecuteTime": {
     "end_time": "2024-10-31T10:26:43.874238Z",
     "start_time": "2024-10-31T10:26:43.870446200Z"
    }
   },
   "id": "42159d600d9fd780"
  },
  {
   "cell_type": "markdown",
   "source": [
    "Однако не стоит забывать, что такая копия является поверхностной."
   ],
   "metadata": {
    "collapsed": false
   },
   "id": "5a4899e715aee2f9"
  },
  {
   "cell_type": "code",
   "execution_count": 15,
   "outputs": [
    {
     "name": "stdout",
     "output_type": "stream",
     "text": [
      "[[10, 2], [3, 40]]\n",
      "[[10, 2], [3, 40]]\n"
     ]
    }
   ],
   "source": [
    "data = [[1, 2], [3, 4]]\n",
    "\n",
    "new_data = data[:]\n",
    "\n",
    "data[0][0] = 10\n",
    "new_data[1][1] = 40\n",
    " \n",
    "print(data)\n",
    "print(new_data)"
   ],
   "metadata": {
    "collapsed": false,
    "ExecuteTime": {
     "end_time": "2024-10-31T10:26:59.659430500Z",
     "start_time": "2024-10-31T10:26:59.645428700Z"
    }
   },
   "id": "46a4ea1ecb5d7d49"
  },
  {
   "cell_type": "markdown",
   "source": [
    "Примечание 5. Для определения размера объектов встроенных типов можно использовать функцию getsizeof() модуля sys. Данная функция возвращает размер объекта в байтах."
   ],
   "metadata": {
    "collapsed": false
   },
   "id": "e5e6919e2a812b59"
  },
  {
   "cell_type": "code",
   "execution_count": 16,
   "outputs": [
    {
     "name": "stdout",
     "output_type": "stream",
     "text": [
      "28\n",
      "28\n",
      "16\n",
      "41\n",
      "48\n"
     ]
    }
   ],
   "source": [
    "import sys\n",
    "\n",
    "print(sys.getsizeof(10))\n",
    "print(sys.getsizeof(True))\n",
    "print(sys.getsizeof(None))\n",
    "print(sys.getsizeof(''))\n",
    "print(sys.getsizeof('beegeek'))"
   ],
   "metadata": {
    "collapsed": false,
    "ExecuteTime": {
     "end_time": "2024-10-31T10:27:52.085441900Z",
     "start_time": "2024-10-31T10:27:52.077841100Z"
    }
   },
   "id": "5fd0fd1188b4b58d"
  },
  {
   "cell_type": "markdown",
   "source": [
    "Обратите внимание на то, что с помощью функции getsizeof() нельзя вычислять размер сложных объектов, содержащих вложенные структуры (списки списков и т.д.). Для того чтобы правильно определять размер абсолютно любого объекта (включая пользовательские) в Python используется функция asizeof() модуля asizeof, который находится в библиотеке pympler."
   ],
   "metadata": {
    "collapsed": false
   },
   "id": "a041dd9547f094fe"
  },
  {
   "cell_type": "code",
   "execution_count": null,
   "outputs": [],
   "source": [
    "import pympler"
   ],
   "metadata": {
    "collapsed": false
   },
   "id": "6bd7a113673473fb"
  },
  {
   "cell_type": "code",
   "execution_count": 17,
   "outputs": [],
   "source": [
    "from pympler import asizeof"
   ],
   "metadata": {
    "collapsed": false,
    "ExecuteTime": {
     "end_time": "2024-10-31T10:29:47.824617200Z",
     "start_time": "2024-10-31T10:29:47.609948500Z"
    }
   },
   "id": "c8c19597e61b2575"
  },
  {
   "cell_type": "code",
   "execution_count": 18,
   "outputs": [
    {
     "name": "stdout",
     "output_type": "stream",
     "text": [
      "Size of List l1              : 504 bytes\n",
      "Size of List l1              : 48 bytes\n",
      "Size of List l1,l2 Combined  : 552 bytes\n",
      "Size of List l1 & l2         : 504 bytes, 48 bytes\n"
     ]
    }
   ],
   "source": [
    "l1 = [i for i in range(10)]\n",
    "l2 = range(10)\n",
    "\n",
    "print(\"Size of List l1              : %d bytes\"%asizeof.asizeof(l1))\n",
    "print(\"Size of List l1              : %d bytes\"%asizeof.asizeof(l2))\n",
    "print(\"Size of List l1,l2 Combined  : %d bytes\"%asizeof.asizeof(l1,l2))\n",
    "print(\"Size of List l1 & l2         : %d bytes, %d bytes\"%asizeof.asizesof(l1, l2))"
   ],
   "metadata": {
    "collapsed": false,
    "ExecuteTime": {
     "end_time": "2024-10-31T10:29:53.550146300Z",
     "start_time": "2024-10-31T10:29:53.547446900Z"
    }
   },
   "id": "e8fdaa38b561ab22"
  },
  {
   "cell_type": "code",
   "execution_count": 19,
   "outputs": [
    {
     "name": "stdout",
     "output_type": "stream",
     "text": [
      "Object Type :  <class 'pympler.asizeof.Asized'>\n",
      "size 504, flat 184, refs[0], name '[0, 1, 2, 3, 4, 5, 6, 7, 8, 9]'\n",
      "Flat Size : 184, Total Size : 504\n",
      "\n",
      "[0, 1, 2, 3, 4, 5, 6, 7, 8, 9] size=504 flat=184\n",
      "range(0, 10) size=48 flat=48\n",
      "\n",
      "Object Stats : \n",
      "\r\n",
      "asized(detail=0, stats=1): size 504, flat 184, refs[0], name '[0, 1, 2, 3, 4, 5, 6, 7, 8, 9]'\n",
      " 504 bytes\n",
      "   8 byte aligned\n",
      "   8 byte sizeof(void*)\n",
      "   1 object given\n",
      "  11 objects sized\n",
      "  11 objects seen\n",
      "   0 objects missed\n",
      "   0 duplicates\n",
      "   1 deepest recursion\n",
      "[0, 1, 2, 3, 4, 5, 6, 7, 8, 9] size=504 flat=184\n",
      "\n",
      "Object Details : \n",
      "[0, 1, 2, 3, 4, 5, 6, 7, 8, 9] size=504 flat=184\n",
      "    0 size=32 flat=32\n",
      "    1 size=32 flat=32\n",
      "    2 size=32 flat=32\n",
      "    3 size=32 flat=32\n",
      "    4 size=32 flat=32\n",
      "    5 size=32 flat=32\n",
      "    6 size=32 flat=32\n",
      "    7 size=32 flat=32\n",
      "    8 size=32 flat=32\n",
      "    9 size=32 flat=32\n"
     ]
    }
   ],
   "source": [
    "asized = asizeof.asized(l1)\n",
    "print(\"Object Type : \", type(asized))\n",
    "print(asized)\n",
    "print(\"Flat Size : %d, Total Size : %d\\n\"%(asized.flat, asized.size))\n",
    "\n",
    "asized_objs = asizeof.asized(l1,l2)\n",
    "print(asized_objs[0].format())\n",
    "print(asized_objs[1].format())\n",
    "\n",
    "print(\"\\nObject Stats : \")\n",
    "print(asizeof.asized(l1, detail=0, stats=1).format())\n",
    "print(\"\\nObject Details : \")\n",
    "print(asizeof.asized(l1, detail=1).format())"
   ],
   "metadata": {
    "collapsed": false,
    "ExecuteTime": {
     "end_time": "2024-10-31T10:32:50.531051400Z",
     "start_time": "2024-10-31T10:32:50.520599200Z"
    }
   },
   "id": "3ce6d6222e06ea78"
  },
  {
   "cell_type": "code",
   "execution_count": 20,
   "outputs": [
    {
     "name": "stdout",
     "output_type": "stream",
     "text": [
      "Size of Single Item in a List : 8 bytes\n",
      "Basic Size of Object          : 72 bytes\n",
      "Flat Size of Object           : 184 bytes\n",
      "List of Objects Referred by an Object :  [0, 1, 2, 3, 4, 5, 6, 7, 8, 9]\n"
     ]
    }
   ],
   "source": [
    "print(\"Size of Single Item in a List : %d bytes\"%asizeof.itemsize(l1))\n",
    "print(\"Basic Size of Object          : %d bytes\"%asizeof.basicsize(l1))\n",
    "print(\"Flat Size of Object           : %d bytes\"%asizeof.flatsize(l1))\n",
    "print(\"List of Objects Referred by an Object : \", asizeof.refs(l1))"
   ],
   "metadata": {
    "collapsed": false,
    "ExecuteTime": {
     "end_time": "2024-10-31T10:35:05.555052600Z",
     "start_time": "2024-10-31T10:35:05.551013800Z"
    }
   },
   "id": "b72dc4537e2a6729"
  },
  {
   "cell_type": "code",
   "execution_count": 21,
   "outputs": [
    {
     "name": "stdout",
     "output_type": "stream",
     "text": [
      "Is Object Class    :  False\n",
      "Is Object Builtin  :  False\n",
      "Is Object Code     :  False\n",
      "Is Object Frame    :  False\n",
      "Is Object Function :  False\n",
      "Is Object method   :  False\n",
      "Is Object Module   :  False\n",
      "\n",
      "Is Object Module   :  True\n",
      "\n",
      "\n",
      "Is Object Function :  False\n",
      "Is Object method   :  True\n",
      "\n",
      "Is Object Function :  True\n",
      "Is Object method   :  False\n",
      "Is Object Class    :  True\n",
      "\n",
      "Is Object Builtin  :  True\n",
      "Is Object Builtin  :  True\n",
      "Is Object Builtin  :  True\n"
     ]
    }
   ],
   "source": [
    "print(\"Is Object Class    : \",asizeof.isclass(l1))\n",
    "print(\"Is Object Builtin  : \",asizeof.isbuiltin(l1))\n",
    "print(\"Is Object Code     : \",asizeof.iscode(l1))\n",
    "print(\"Is Object Frame    : \",asizeof.isframe(l1))\n",
    "print(\"Is Object Function : \",asizeof.isfunction(l1))\n",
    "print(\"Is Object method   : \",asizeof.ismethod(l1))\n",
    "print(\"Is Object Module   : \",asizeof.ismodule(l1))\n",
    "\n",
    "print()\n",
    "import random\n",
    "\n",
    "print(\"Is Object Module   : \",asizeof.ismodule(random))\n",
    "\n",
    "print()\n",
    "def method_test():\n",
    "    return random.randint(1,100)\n",
    "\n",
    "print()\n",
    "print(\"Is Object Function : \",asizeof.ismethod(method_test))\n",
    "print(\"Is Object method   : \",asizeof.isfunction(method_test))\n",
    "\n",
    "class Testing:\n",
    "    def __init__(self):\n",
    "        pass\n",
    "\n",
    "    def test_print(self):\n",
    "        print(\"Testing Class\")\n",
    "\n",
    "testing  = Testing()\n",
    "\n",
    "print()\n",
    "print(\"Is Object Function : \",asizeof.ismethod(testing.test_print))\n",
    "print(\"Is Object method   : \",asizeof.isfunction(testing.test_print))\n",
    "print(\"Is Object Class    : \",asizeof.isclass(Testing))\n",
    "\n",
    "print()\n",
    "print(\"Is Object Builtin  : \",asizeof.isbuiltin(min))\n",
    "print(\"Is Object Builtin  : \",asizeof.isbuiltin(sum))\n",
    "print(\"Is Object Builtin  : \",asizeof.isbuiltin(max))"
   ],
   "metadata": {
    "collapsed": false,
    "ExecuteTime": {
     "end_time": "2024-10-31T10:35:45.008416100Z",
     "start_time": "2024-10-31T10:35:44.999466500Z"
    }
   },
   "id": "db20d7f3f655ba63"
  }
 ],
 "metadata": {
  "kernelspec": {
   "display_name": "Python 3",
   "language": "python",
   "name": "python3"
  },
  "language_info": {
   "codemirror_mode": {
    "name": "ipython",
    "version": 2
   },
   "file_extension": ".py",
   "mimetype": "text/x-python",
   "name": "python",
   "nbconvert_exporter": "python",
   "pygments_lexer": "ipython2",
   "version": "2.7.6"
  }
 },
 "nbformat": 4,
 "nbformat_minor": 5
}

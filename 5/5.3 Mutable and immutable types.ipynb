{
 "cells": [
  {
   "cell_type": "markdown",
   "source": [
    "Тема урока: изменяемые и неизменяемые типы\n",
    "Изменяемые и неизменяемые типы\n",
    "Изменение объектов VS оператор присваивания\n",
    "Аннотация. Урок посвящен изменяемым и неизменяемым типам в Python."
   ],
   "metadata": {
    "collapsed": false
   },
   "id": "9c0ad0994ff49fff"
  },
  {
   "cell_type": "markdown",
   "source": [
    "Изменяемые и неизменяемые типы данных"
   ],
   "metadata": {
    "collapsed": false
   },
   "id": "19a89263798ad074"
  },
  {
   "cell_type": "markdown",
   "source": [
    "Типы данных в Python делятся на две категории:\n",
    "\n",
    "изменяемые (list, set, dict, Массивы (array.array): Предоставляют возможность хранить элементы фиксированного типа и изменять их, Объекты пользовательских классов: Объекты, созданные на основе классов, могут быть изменяемыми, если они содержат изменяемые атрибуты.)\n",
    "неизменяемые (int, float, bool, tuple, str, complex, frozenset, bytes)"
   ],
   "metadata": {
    "collapsed": false
   },
   "id": "c0448ce0c2849c9b"
  },
  {
   "cell_type": "markdown",
   "source": [
    "Приведенный ниже код:\n",
    "приводит к возникновению ошибки:"
   ],
   "metadata": {
    "collapsed": false
   },
   "id": "c4ccdfcdb88b2f9b"
  },
  {
   "cell_type": "code",
   "execution_count": 1,
   "outputs": [
    {
     "ename": "TypeError",
     "evalue": "'str' object does not support item assignment",
     "output_type": "error",
     "traceback": [
      "\u001B[1;31m---------------------------------------------------------------------------\u001B[0m",
      "\u001B[1;31mTypeError\u001B[0m                                 Traceback (most recent call last)",
      "Cell \u001B[1;32mIn[1], line 2\u001B[0m\n\u001B[0;32m      1\u001B[0m data \u001B[38;5;241m=\u001B[39m \u001B[38;5;124m'\u001B[39m\u001B[38;5;124mbeegeek\u001B[39m\u001B[38;5;124m'\u001B[39m\n\u001B[1;32m----> 2\u001B[0m \u001B[43mdata\u001B[49m\u001B[43m[\u001B[49m\u001B[38;5;241;43m0\u001B[39;49m\u001B[43m]\u001B[49m \u001B[38;5;241m=\u001B[39m \u001B[38;5;124m'\u001B[39m\u001B[38;5;124mB\u001B[39m\u001B[38;5;124m'\u001B[39m\n\u001B[0;32m      4\u001B[0m \u001B[38;5;28mprint\u001B[39m(data)\n",
      "\u001B[1;31mTypeError\u001B[0m: 'str' object does not support item assignment"
     ]
    }
   ],
   "source": [
    "data = 'beegeek'\n",
    "data[0] = 'B'\n",
    "\n",
    "print(data)"
   ],
   "metadata": {
    "collapsed": false,
    "ExecuteTime": {
     "end_time": "2024-10-31T07:37:06.560830Z",
     "start_time": "2024-10-31T07:37:06.324944200Z"
    }
   },
   "id": "51d1c95f5a20fed2"
  },
  {
   "cell_type": "markdown",
   "source": [
    "поскольку строки (тип str) являются неизменяемыми."
   ],
   "metadata": {
    "collapsed": false
   },
   "id": "9dffcc28d0e58877"
  },
  {
   "cell_type": "markdown",
   "source": [
    "Не забывайте, что все строковые методы возвращают новые объекты, а не изменяют исходные. Аналогичным образом работают методы других неизменяемых типов данных."
   ],
   "metadata": {
    "collapsed": false
   },
   "id": "66878f3f0a2f778d"
  },
  {
   "cell_type": "code",
   "execution_count": 2,
   "outputs": [
    {
     "name": "stdout",
     "output_type": "stream",
     "text": [
      "['B', 'e', 'e', 'g', 'e', 'e', 'k']\n"
     ]
    }
   ],
   "source": [
    "data = ['b', 'e', 'e', 'g', 'e', 'e', 'k']\n",
    "data[0] = 'B'\n",
    "\n",
    "print(data)"
   ],
   "metadata": {
    "collapsed": false,
    "ExecuteTime": {
     "end_time": "2024-10-31T07:37:44.394226900Z",
     "start_time": "2024-10-31T07:37:44.390693600Z"
    }
   },
   "id": "511d61f051630243"
  },
  {
   "cell_type": "markdown",
   "source": [
    "поскольку списки (тип list) являются изменяемыми."
   ],
   "metadata": {
    "collapsed": false
   },
   "id": "1d8cb705a1f7beac"
  },
  {
   "cell_type": "markdown",
   "source": [
    "Изменение объектов VS оператор присваивания"
   ],
   "metadata": {
    "collapsed": false
   },
   "id": "8a9afca32e3f0464"
  },
  {
   "cell_type": "markdown",
   "source": [
    "В Python существует два типа изменения:\n",
    "\n",
    "присвоение переменной нового значения\n",
    "непосредственное изменение объекта"
   ],
   "metadata": {
    "collapsed": false
   },
   "id": "79779a041e52f613"
  },
  {
   "cell_type": "code",
   "execution_count": 3,
   "outputs": [
    {
     "name": "stdout",
     "output_type": "stream",
     "text": [
      "[1, 2, 3]\n",
      "1591533505344\n",
      "[1, 2, 3, 4]\n",
      "1591533381888\n"
     ]
    }
   ],
   "source": [
    "nums = [1, 2, 3]\n",
    "\n",
    "print(nums)\n",
    "print(id(nums))\n",
    "\n",
    "nums = [1, 2, 3] + [4]\n",
    "\n",
    "print(nums)\n",
    "print(id(nums))"
   ],
   "metadata": {
    "collapsed": false,
    "ExecuteTime": {
     "end_time": "2024-10-31T08:35:48.314265900Z",
     "start_time": "2024-10-31T08:35:48.306413400Z"
    }
   },
   "id": "3b1997d0e83e8770"
  },
  {
   "cell_type": "markdown",
   "source": [
    "так как мы не изменяем исходный список, а создаем новый и присваиваем его прежней переменной."
   ],
   "metadata": {
    "collapsed": false
   },
   "id": "26be3c9efcc5b7a1"
  },
  {
   "cell_type": "code",
   "execution_count": 4,
   "outputs": [
    {
     "name": "stdout",
     "output_type": "stream",
     "text": [
      "1591533505152\n",
      "[1, 2, 3]\n",
      "1591533505152\n",
      "[1, 2, 3, 4]\n"
     ]
    }
   ],
   "source": [
    "nums = [1, 2, 3]\n",
    "\n",
    "print(id(nums))\n",
    "print(nums)\n",
    "\n",
    "nums.append(4)\n",
    "\n",
    "print(id(nums))\n",
    "print(nums)"
   ],
   "metadata": {
    "collapsed": false,
    "ExecuteTime": {
     "end_time": "2024-10-31T08:36:39.634277400Z",
     "start_time": "2024-10-31T08:36:39.631447100Z"
    }
   },
   "id": "6e757b8be6b18565"
  },
  {
   "cell_type": "markdown",
   "source": [
    "так как мы единожды создаем список, а после изменяем его, добавляя в него новый элемент."
   ],
   "metadata": {
    "collapsed": false
   },
   "id": "b44ee80d66283e20"
  },
  {
   "cell_type": "markdown",
   "source": [
    "Таким образом, в первом случае мы изменяем переменную, то есть изменяем то, на какой объект она ссылается. Во втором случае мы изменяем сам объект, на который может ссылаться любое количество переменных."
   ],
   "metadata": {
    "collapsed": false
   },
   "id": "c4dbcbb35eed8547"
  },
  {
   "cell_type": "markdown",
   "source": [
    "Важно понимать, что во время изменения объекта, мы изменяем именно объект, а не переменные. Другими словами, если какая-либо другая переменная указывает на объект, который мы изменили, эта переменная также отразит это изменение, но не потому что изменилась переменная, а потому что изменился объект, на который она ссылается."
   ],
   "metadata": {
    "collapsed": false
   },
   "id": "3e0c49fb48e1069c"
  },
  {
   "cell_type": "code",
   "execution_count": 5,
   "outputs": [
    {
     "name": "stdout",
     "output_type": "stream",
     "text": [
      "[1, 2, 3, 4]\n",
      "[1, 2, 3, 4]\n"
     ]
    }
   ],
   "source": [
    "nums1 = [1, 2, 3]\n",
    "nums2 = nums1\n",
    "\n",
    "nums1.append(4)\n",
    "\n",
    "print(nums1)\n",
    "print(nums2)"
   ],
   "metadata": {
    "collapsed": false,
    "ExecuteTime": {
     "end_time": "2024-10-31T08:38:20.728861600Z",
     "start_time": "2024-10-31T08:38:20.723350Z"
    }
   },
   "id": "bedb60b1eac13d1a"
  },
  {
   "cell_type": "markdown",
   "source": [
    "Оператор присваивания в Python не создает копию объекта, он лишь связывает имя переменной с объектом. Для неизменяемых объектов это обычно не имеет значения, но для работы с изменяемыми объектами часто требуется создавать реальные копии."
   ],
   "metadata": {
    "collapsed": false
   },
   "id": "1f215776a1a8e7d7"
  },
  {
   "cell_type": "markdown",
   "source": [
    "Примечания"
   ],
   "metadata": {
    "collapsed": false
   },
   "id": "137f509f20ab097d"
  },
  {
   "cell_type": "markdown",
   "source": [
    "Примечание 1. Кортежи (тип tuple) являются неизменяемыми, однако если элементами кортежа являются изменяемые объекты, то мы можем изменить эти объекты."
   ],
   "metadata": {
    "collapsed": false
   },
   "id": "4b3d9b695be74ed2"
  },
  {
   "cell_type": "code",
   "execution_count": 11,
   "outputs": [
    {
     "name": "stdout",
     "output_type": "stream",
     "text": [
      "(1, 'bee', [1, 2, 3], {'a': 1})\n",
      "0x1728ed14180\n",
      "(1, 'bee', [1, 2, 30], {'a': 1, 'b': 2})\n",
      "0x1728ed14180\n",
      "True\n"
     ]
    }
   ],
   "source": [
    "data = (1, 'bee', [1, 2, 3], {'a': 1})\n",
    "\n",
    "print(data)\n",
    "print(hex(id(data)))\n",
    "a = hex(id(data))\n",
    "\n",
    "data[2][2] = 30\n",
    "data[3]['b'] = 2\n",
    "\n",
    "print(data)\n",
    "print(hex(id(data)))\n",
    "b = hex(id(data))\n",
    "print(a == b)"
   ],
   "metadata": {
    "collapsed": false,
    "ExecuteTime": {
     "end_time": "2024-10-31T08:43:01.108291400Z",
     "start_time": "2024-10-31T08:43:01.098116500Z"
    }
   },
   "id": "80c99ba478a6b36c"
  },
  {
   "cell_type": "markdown",
   "source": [
    "При этом важно понимать: меняются объекты, являющиеся элементами кортежа, а не кортеж. Кортеж лишь содержит ссылки на эти объекты, которые остаются прежними при изменении самих объектов."
   ],
   "metadata": {
    "collapsed": false
   },
   "id": "d4756bcf806c7c5c"
  },
  {
   "cell_type": "markdown",
   "source": [
    "Примечание 2. Python по-разному обрабатывает сложение списков с помощью операторов + и +="
   ],
   "metadata": {
    "collapsed": false
   },
   "id": "652646a8664ca41"
  },
  {
   "cell_type": "code",
   "execution_count": 12,
   "outputs": [
    {
     "name": "stdout",
     "output_type": "stream",
     "text": [
      "[1, 2, 3, 4, 5]\n",
      "[1, 2, 3]\n"
     ]
    }
   ],
   "source": [
    "nums1 = [1, 2, 3]\n",
    "nums2 = nums1\n",
    "\n",
    "nums1 = nums1 + [4, 5]\n",
    "\n",
    "print(nums1)\n",
    "print(nums2)"
   ],
   "metadata": {
    "collapsed": false,
    "ExecuteTime": {
     "end_time": "2024-10-31T08:44:28.934228300Z",
     "start_time": "2024-10-31T08:44:28.931876900Z"
    }
   },
   "id": "8845f8444a548554"
  },
  {
   "cell_type": "markdown",
   "source": [
    "В данном случае оператор + создал новый список [1, 2, 3, 4, 5], который был присвоен переменной nums1, при этом nums2 по-прежнему указывает на старый список [1, 2, 3]."
   ],
   "metadata": {
    "collapsed": false
   },
   "id": "c82c1a6a5da70d56"
  },
  {
   "cell_type": "code",
   "execution_count": 13,
   "outputs": [
    {
     "name": "stdout",
     "output_type": "stream",
     "text": [
      "[1, 2, 3, 4, 5]\n",
      "[1, 2, 3, 4, 5]\n"
     ]
    }
   ],
   "source": [
    "nums1 = [1, 2, 3]\n",
    "nums2 = nums1\n",
    "\n",
    "nums1 += [4, 5]\n",
    "\n",
    "print(nums1)\n",
    "print(nums2)"
   ],
   "metadata": {
    "collapsed": false,
    "ExecuteTime": {
     "end_time": "2024-10-31T08:45:11.237181300Z",
     "start_time": "2024-10-31T08:45:11.230661400Z"
    }
   },
   "id": "b47f6e8d2e5bb22a"
  },
  {
   "cell_type": "markdown",
   "source": [
    "В данном случае оператор += изменил текущий список, и эти изменения также видны в nums2. По сути, оператор += для списков работает как списочный метод extend()."
   ],
   "metadata": {
    "collapsed": false
   },
   "id": "952efdaaf69b0402"
  },
  {
   "cell_type": "markdown",
   "source": [
    "Примечание 3. Считается плохой практикой использование изменяемых типов данных в качестве значений параметров по умолчанию, так как значение по умолчанию для параметра создается единожды при определении функции (обычно при загрузке модуля) и становится атрибутом (свойством) функции. Поэтому если значением по умолчанию является изменяемый объект, то его изменение повлияет на каждый следующий вызов функции."
   ],
   "metadata": {
    "collapsed": false
   },
   "id": "14a223f971830eb3"
  },
  {
   "cell_type": "code",
   "execution_count": 14,
   "outputs": [
    {
     "name": "stdout",
     "output_type": "stream",
     "text": [
      "[10]\n",
      "[10, 5]\n",
      "[10, 5, 1]\n",
      "[10, 5, 1, 3]\n"
     ]
    }
   ],
   "source": [
    "def append(element, seq=[]):\n",
    "    seq.append(element)\n",
    "    return seq\n",
    "\n",
    "print(append(10))\n",
    "print(append(5))\n",
    "print(append(1))\n",
    "print(append(3))"
   ],
   "metadata": {
    "collapsed": false,
    "ExecuteTime": {
     "end_time": "2024-10-31T08:46:44.311977700Z",
     "start_time": "2024-10-31T08:46:44.301147200Z"
    }
   },
   "id": "ddd908e5f2a27c0c"
  },
  {
   "cell_type": "markdown",
   "source": [
    "Для решения проблемы можно использовать константу None в качестве значения параметра по умолчанию, а в теле функции устанавливать нужное значение:"
   ],
   "metadata": {
    "collapsed": false
   },
   "id": "3dabc933a73908e1"
  },
  {
   "cell_type": "code",
   "execution_count": 15,
   "outputs": [
    {
     "name": "stdout",
     "output_type": "stream",
     "text": [
      "[10]\n",
      "[5]\n",
      "[1]\n"
     ]
    }
   ],
   "source": [
    "def append(element, seq=None):\n",
    "    if seq is None:\n",
    "        seq = []\n",
    "    seq.append(element)\n",
    "    return seq\n",
    "\n",
    "print(append(10))\n",
    "print(append(5))\n",
    "print(append(1))"
   ],
   "metadata": {
    "collapsed": false,
    "ExecuteTime": {
     "end_time": "2024-10-31T08:48:40.000386600Z",
     "start_time": "2024-10-31T08:48:39.993215400Z"
    }
   },
   "id": "76e47115bc01f2be"
  },
  {
   "cell_type": "code",
   "execution_count": 16,
   "outputs": [
    {
     "data": {
      "image/png": "[encoded data removed]",
      "text/plain": "<IPython.core.display.Image object>"
     },
     "metadata": {},
     "output_type": "display_data"
    }
   ],
   "source": [
    "from functions import picture\n",
    "picture('Без имени1.png')"
   ],
   "metadata": {
    "collapsed": false,
    "ExecuteTime": {
     "end_time": "2024-10-31T08:52:34.606242300Z",
     "start_time": "2024-10-31T08:52:34.598565300Z"
    }
   },
   "id": "b841234decdf70a0"
  }
 ],
 "metadata": {
  "kernelspec": {
   "display_name": "Python 3",
   "language": "python",
   "name": "python3"
  },
  "language_info": {
   "codemirror_mode": {
    "name": "ipython",
    "version": 2
   },
   "file_extension": ".py",
   "mimetype": "text/x-python",
   "name": "python",
   "nbconvert_exporter": "python",
   "pygments_lexer": "ipython2",
   "version": "2.7.6"
  }
 },
 "nbformat": 4,
 "nbformat_minor": 5
}

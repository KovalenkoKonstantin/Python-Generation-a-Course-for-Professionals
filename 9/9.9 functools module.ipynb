{
 "cells": [
  {
   "cell_type": "markdown",
   "source": [
    "Тема урока: модуль functools\n",
    "Модуль functools\n",
    "Функция partial()\n",
    "Функция update_wrapper()\n",
    "Декоратор wraps\n",
    "Кэширование и мемоизация\n",
    "Декоратор lru_cache\n",
    "Декоратор cache\n",
    "Аннотация. Урок посвящен модулю functools."
   ],
   "metadata": {
    "collapsed": false
   },
   "id": "141933d26ce0207f"
  },
  {
   "cell_type": "markdown",
   "source": [
    "Модуль functools"
   ],
   "metadata": {
    "collapsed": false
   },
   "id": "2cdd3c6a39990647"
  },
  {
   "cell_type": "markdown",
   "source": [
    "В рамках прошлого курса мы рассматривали функцию reduce() из модуля functools. "
   ],
   "metadata": {
    "collapsed": false
   },
   "id": "d84e99fefb9071ed"
  },
  {
   "cell_type": "markdown",
   "source": [
    "Функция reduce() из модуля functools в Python используется для применения функции к элементам последовательности (например, списка) с целью свертки (редукции) этой последовательности в одно значение. Она итеративно применяет функцию к паре элементов, затем к результату и следующему элементу, и так далее, пока не останется единственный результат."
   ],
   "metadata": {
    "collapsed": false
   },
   "id": "f25890418e86f8ed"
  },
  {
   "cell_type": "markdown",
   "source": [
    "Вот базовый синтаксис функции:"
   ],
   "metadata": {
    "collapsed": false
   },
   "id": "24a93bf2def37f3a"
  },
  {
   "cell_type": "markdown",
   "source": [
    "functools.reduce(function, iterable[, initializer])"
   ],
   "metadata": {
    "collapsed": false
   },
   "id": "169955f06c6da83d"
  },
  {
   "cell_type": "markdown",
   "source": [
    "function: функция, которая принимает два аргумента и возвращает одно значение.\n",
    "iterable: последовательность (например, список, кортеж), по которой будет производиться свертка.\n",
    "initializer (необязательный аргумент): начальное значение, которое будет использовано в качестве первого аргумента функции при первом вызове."
   ],
   "metadata": {
    "collapsed": false
   },
   "id": "96a095a8fd31245f"
  },
  {
   "cell_type": "code",
   "execution_count": 1,
   "outputs": [
    {
     "name": "stdout",
     "output_type": "stream",
     "text": [
      "24\n"
     ]
    }
   ],
   "source": [
    "from functools import reduce\n",
    "\n",
    "numbers = [1, 2, 3, 4]\n",
    "\n",
    "result = reduce(lambda x, y: x * y, numbers)\n",
    "print(result)  # Вывод: 24"
   ],
   "metadata": {
    "collapsed": false,
    "ExecuteTime": {
     "end_time": "2025-02-14T11:53:04.960123100Z",
     "start_time": "2025-02-14T11:53:04.954116500Z"
    }
   },
   "id": "6e23a8cbd3315f58"
  },
  {
   "cell_type": "markdown",
   "source": [
    "reduce() применяет функцию к первым двум элементам (1 и 2), затем результат умножает на 3, и потом на 4, в итоге получаем 24."
   ],
   "metadata": {
    "collapsed": false
   },
   "id": "e86d715d4a6d1f90"
  },
  {
   "cell_type": "markdown",
   "source": [
    "Если мы добавим начальное значение, то оно будет использовано как первый аргумент функции в первой итерации:"
   ],
   "metadata": {
    "collapsed": false
   },
   "id": "b82cba4500d2fdf6"
  },
  {
   "cell_type": "code",
   "execution_count": null,
   "outputs": [],
   "source": [
    "result = reduce(lambda x, y: x + y, numbers, 10)\n",
    "print(result)  # Вывод: 20"
   ],
   "metadata": {
    "collapsed": false
   },
   "id": "172cd57a3ae31a99"
  },
  {
   "cell_type": "markdown",
   "source": [
    "Функция начинает с того, что прибавляет 10 к первому элементу списка, затем результат прибавляется ко второму, и так далее."
   ],
   "metadata": {
    "collapsed": false
   },
   "id": "fbd7c5339560881"
  },
  {
   "cell_type": "markdown",
   "source": [
    "Помимо данной функции модуль functools предоставляет множество других полезных функций высшего порядка, которые можно использовать для кэширования, перегрузки, создания декораторов и в целом для того, чтобы делать код более функциональным."
   ],
   "metadata": {
    "collapsed": false
   },
   "id": "635947d71c92baba"
  },
  {
   "cell_type": "markdown",
   "source": [
    "Функция partial()"
   ],
   "metadata": {
    "collapsed": false
   },
   "id": "dbc4a7941a4bba89"
  },
  {
   "cell_type": "markdown",
   "source": [
    "Частичное применение функций — это техника, основанная на возможности возвращать функции из других функций. Предположим, мы написали функцию multiply(), которая перемножает два числа:"
   ],
   "metadata": {
    "collapsed": false
   },
   "id": "33097704af431305"
  },
  {
   "cell_type": "code",
   "execution_count": 2,
   "outputs": [
    {
     "name": "stdout",
     "output_type": "stream",
     "text": [
      "6\n"
     ]
    }
   ],
   "source": [
    "def multiply(a, b):\n",
    "    return a * b\n",
    "\n",
    "\n",
    "print(multiply(2, 3))"
   ],
   "metadata": {
    "collapsed": false,
    "ExecuteTime": {
     "end_time": "2025-02-14T11:56:05.875386Z",
     "start_time": "2025-02-14T11:56:05.872629800Z"
    }
   },
   "id": "9312a6659e605d64"
  },
  {
   "cell_type": "markdown",
   "source": [
    "Пусть нам теперь нужны функции, которые удваивают и утраивают некоторое число. Такие функции могут быть определены на основе уже существующей функции multiply() следующим образом:"
   ],
   "metadata": {
    "collapsed": false
   },
   "id": "81f9cd40caf11aa2"
  },
  {
   "cell_type": "code",
   "execution_count": 3,
   "outputs": [],
   "source": [
    "def double(num):\n",
    "    return multiply(2, num)\n",
    "\n",
    "\n",
    "def triple(num):\n",
    "    return multiply(3, num)"
   ],
   "metadata": {
    "collapsed": false,
    "ExecuteTime": {
     "end_time": "2025-02-14T11:56:31.707976Z",
     "start_time": "2025-02-14T11:56:31.705225200Z"
    }
   },
   "id": "ec8e10149b645693"
  },
  {
   "cell_type": "markdown",
   "source": [
    "Когда сценариев работы функции всего несколько, конечно, логичнее сделать, как показано выше, то есть явно определить новые функции. Но когда нужно написать очень много новых функций, то смысла переписывать один и тот же код столько раз нет. Здесь нам на помощь приходит частичное применение функций."
   ],
   "metadata": {
    "collapsed": false
   },
   "id": "e0351c3dcc6b308b"
  },
  {
   "cell_type": "markdown",
   "source": [
    "Частичное применение позволяет на основе старой функции создать новую, которая \"частично применена\"."
   ],
   "metadata": {
    "collapsed": false
   },
   "id": "4dcfdde455d0e7a6"
  },
  {
   "cell_type": "markdown",
   "source": [
    "В Python для использования частичного применения используется функция partial() из модуля functools.\n",
    "\n",
    "Сигнатура функции следующая: partial(func, *args, **kwargs). Данная функция возвращает специальный partial объект, который при вызове вызывается как функция func, в которую дополнительно передаются позиционные аргументы args и именованные аргументы kwargs"
   ],
   "metadata": {
    "collapsed": false
   },
   "id": "d044640340a19b18"
  },
  {
   "cell_type": "markdown",
   "source": [
    "Функция partial() возвращает partial объект, который при вызове ведет себя как функция."
   ],
   "metadata": {
    "collapsed": false
   },
   "id": "e3f44a60a9e93dbe"
  },
  {
   "cell_type": "markdown",
   "source": [
    "Приведенный выше код можно переписать с использованием функции partial() в виде:"
   ],
   "metadata": {
    "collapsed": false
   },
   "id": "916bc7e6d3b135c3"
  },
  {
   "cell_type": "code",
   "execution_count": 4,
   "outputs": [
    {
     "name": "stdout",
     "output_type": "stream",
     "text": [
      "10\n",
      "30\n"
     ]
    }
   ],
   "source": [
    "from functools import partial\n",
    "\n",
    "\n",
    "def multiply(a, b):\n",
    "    return a * b\n",
    "\n",
    "\n",
    "double = partial(multiply, 2)\n",
    "triple = partial(multiply, 3)\n",
    "\n",
    "print(double(5))  # 2 * 5\n",
    "print(triple(10))  # 3 * 10"
   ],
   "metadata": {
    "collapsed": false,
    "ExecuteTime": {
     "end_time": "2025-02-14T11:59:07.450850Z",
     "start_time": "2025-02-14T11:59:07.447932700Z"
    }
   },
   "id": "6bccdaaafc6ba14f"
  },
  {
   "cell_type": "markdown",
   "source": [
    "Обратите внимание на то, что мы зафиксировали только один аргумент, поэтому новые partial объекты теперь ожидают только один аргумент. Если мы попытаемся передать более одного аргумента, то получим ошибку."
   ],
   "metadata": {
    "collapsed": false
   },
   "id": "3a370c70370caccb"
  },
  {
   "cell_type": "code",
   "execution_count": 5,
   "outputs": [
    {
     "ename": "TypeError",
     "evalue": "multiply() takes 2 positional arguments but 3 were given",
     "output_type": "error",
     "traceback": [
      "\u001B[1;31m---------------------------------------------------------------------------\u001B[0m",
      "\u001B[1;31mTypeError\u001B[0m                                 Traceback (most recent call last)",
      "Cell \u001B[1;32mIn[5], line 1\u001B[0m\n\u001B[1;32m----> 1\u001B[0m \u001B[38;5;28mprint\u001B[39m(\u001B[43mdouble\u001B[49m\u001B[43m(\u001B[49m\u001B[38;5;241;43m5\u001B[39;49m\u001B[43m,\u001B[49m\u001B[43m \u001B[49m\u001B[38;5;241;43m6\u001B[39;49m\u001B[43m)\u001B[49m)\n",
      "\u001B[1;31mTypeError\u001B[0m: multiply() takes 2 positional arguments but 3 were given"
     ]
    }
   ],
   "source": [
    "print(double(5, 6))"
   ],
   "metadata": {
    "collapsed": false,
    "ExecuteTime": {
     "end_time": "2025-02-14T12:00:05.403097600Z",
     "start_time": "2025-02-14T12:00:05.168534200Z"
    }
   },
   "id": "8b53cd2f1c74afd7"
  },
  {
   "cell_type": "markdown",
   "source": [
    "Мы можем также зафиксировать оба аргумента в функции multiply()"
   ],
   "metadata": {
    "collapsed": false
   },
   "id": "e63866748006af92"
  },
  {
   "cell_type": "code",
   "execution_count": 6,
   "outputs": [
    {
     "name": "stdout",
     "output_type": "stream",
     "text": [
      "10\n"
     ]
    }
   ],
   "source": [
    "multiply_two_and_five = partial(multiply, 2, 5)\n",
    "\n",
    "print(multiply_two_and_five())  # вызываем уже без аргументов"
   ],
   "metadata": {
    "collapsed": false,
    "ExecuteTime": {
     "end_time": "2025-02-14T12:01:18.914995600Z",
     "start_time": "2025-02-14T12:01:18.907496400Z"
    }
   },
   "id": "837d24878d596845"
  },
  {
   "cell_type": "markdown",
   "source": [
    "При формировании новой функции с использованием partial() мы можем передавать не только позиционные аргументы, но и именованные. Вспомним, что встроенная функция int(), помимо конвертируемого значения, также принимает именованный аргумент base, имеющий по умолчанию значение 10. Данный аргумент отвечает за основание системы счисления конвертируемого значения."
   ],
   "metadata": {
    "collapsed": false
   },
   "id": "8294a8651fcf4b57"
  },
  {
   "cell_type": "code",
   "execution_count": 7,
   "outputs": [
    {
     "name": "stdout",
     "output_type": "stream",
     "text": [
      "123\n",
      "38\n",
      "9\n",
      "41259\n"
     ]
    }
   ],
   "source": [
    "print(int('123'))\n",
    "print(int('123', base=5))\n",
    "print(int('1001', base=2))\n",
    "print(int('A12B', base=16))"
   ],
   "metadata": {
    "collapsed": false,
    "ExecuteTime": {
     "end_time": "2025-02-14T12:02:13.537549500Z",
     "start_time": "2025-02-14T12:02:13.534821400Z"
    }
   },
   "id": "f52a4781d768bc6b"
  },
  {
   "cell_type": "markdown",
   "source": [
    "Зафиксировав значение именованного аргумента base, мы можем получить функцию basetwo(), которая переводит число из двоичной системы счисления в десятичную."
   ],
   "metadata": {
    "collapsed": false
   },
   "id": "c360b7ade6140bbb"
  },
  {
   "cell_type": "code",
   "execution_count": 8,
   "outputs": [
    {
     "name": "stdout",
     "output_type": "stream",
     "text": [
      "5\n",
      "8\n",
      "31\n"
     ]
    }
   ],
   "source": [
    "from functools import partial\n",
    "\n",
    "basetwo = partial(int, base=2)\n",
    "\n",
    "print(basetwo('101'))\n",
    "print(basetwo('1000'))\n",
    "print(basetwo('11111'))"
   ],
   "metadata": {
    "collapsed": false,
    "ExecuteTime": {
     "end_time": "2025-02-14T12:02:54.752679100Z",
     "start_time": "2025-02-14T12:02:54.750043300Z"
    }
   },
   "id": "41c03e5ab22c09b4"
  },
  {
   "cell_type": "markdown",
   "source": [
    "Если другие аргументы передаются при вызове функции, то позиционные добавляются в конец, а именованные расширяются и перезаписываются."
   ],
   "metadata": {
    "collapsed": false
   },
   "id": "31a547ef975cd1a1"
  },
  {
   "cell_type": "markdown",
   "source": [
    "функция partial() лишь запоминает функцию и набор позиционных и именованных аргументов для нее, тем самым позволяя вызывать исходную функцию с меньшим количеством аргументов. Когда мы вызываем полученный объект partial, он вызывает исходную функцию, сначала передавая все сохраненные позиционные аргументы, затем все позиционные аргументы, указанные при текущем вызове, затем все сохраненные именованные аргументы, затем все именованные аргументы, указанные при текущем вызове:"
   ],
   "metadata": {
    "collapsed": false
   },
   "id": "67da595129689de0"
  },
  {
   "cell_type": "code",
   "execution_count": null,
   "outputs": [],
   "source": [
    "from functools import partial\n",
    "\n",
    "\n",
    "def func1(a, b, c, d, e):\n",
    "    return a + b + c + d + e\n",
    "\n",
    "\n",
    "func2 = partial(func1, 1, 2)\n",
    "func2(3, 4, 5)  # эквивалентно func1(1, 2, 3, 4, 5)\n",
    "\n",
    "func3 = partial(func1, d=4, e=5)\n",
    "func3(1, 2, 3)  # эквивалентно func1(1, 2, 3, d=4, e=5)\n",
    "\n",
    "func4 = partial(func1, 1, e=5)\n",
    "func4(2, 3, d=4)  # эквивалентно func1(1, 2, 3, d=4, e=5)\n",
    "\n",
    "func5 = partial(func1, a=1, b=2)\n",
    "func5(3, 4, 5)  # эквивалентно func1(3, 4, 5, a=1, b=2), что приводит к ошибке, так как a и b переданы дважды"
   ],
   "metadata": {
    "collapsed": false
   },
   "id": "a2b637e6f137cb09"
  },
  {
   "cell_type": "markdown",
   "source": [
    "Объекты, возвращаемые функцией partial()"
   ],
   "metadata": {
    "collapsed": false
   },
   "id": "9ea1452492dc4ed5"
  },
  {
   "cell_type": "markdown",
   "source": [
    "Как уже было сказано выше, функция partial() возвращает специальные partial объекты, которые при вызове ведут себя как функции. Такие объекты содержат три полезных атрибута:\n",
    "\n",
    "func — исходная функция\n",
    "args — зафиксированные позиционные аргументы (тип tuple)\n",
    "keywords — зафиксированные именованные аргументы (тип dict)\n",
    "При необходимости к ним можно получить доступ с помощью стандартной точечной нотации."
   ],
   "metadata": {
    "collapsed": false
   },
   "id": "5fd482d77439ea28"
  },
  {
   "cell_type": "code",
   "execution_count": 20,
   "outputs": [
    {
     "name": "stdout",
     "output_type": "stream",
     "text": [
      "*******\n",
      "Hi!!!\n",
      "*******\n",
      "('Hi!!!',)\n",
      "{'symbol': '*'}\n",
      "~~~~~~~~~~~~~~~~~~~~\n",
      "Исходная функция\n",
      "~~~~~~~~~~~~~~~~~~~~\n"
     ]
    }
   ],
   "source": [
    "from functools import partial\n",
    "\n",
    "\n",
    "def pretty_print(text, symbol, count):\n",
    "    print(symbol * count)\n",
    "    print(text)\n",
    "    print(symbol * count)\n",
    "\n",
    "\n",
    "star_pretty_print = partial(pretty_print, 'Hi!!!', symbol='*')\n",
    "\n",
    "star_pretty_print(count=7)\n",
    "\n",
    "print(star_pretty_print.args)  # кортеж\n",
    "print(star_pretty_print.keywords)  # словарь\n",
    "\n",
    "star_pretty_print.func('Исходная функция', symbol='~', count=20)"
   ],
   "metadata": {
    "collapsed": false,
    "ExecuteTime": {
     "end_time": "2025-02-14T12:29:44.738554900Z",
     "start_time": "2025-02-14T12:29:44.734789Z"
    }
   },
   "id": "2a992991adad433f"
  },
  {
   "cell_type": "markdown",
   "source": [
    "Функция update_wrapper()"
   ],
   "metadata": {
    "collapsed": false
   },
   "id": "1b77108133fc0d40"
  },
  {
   "cell_type": "markdown",
   "source": [
    "Как несложно заметить, частичное применение с помощью функции partial() работает подобно декоратору. При этом у partial объекта нет явных атрибутов __name__ и __doc__ от начальной функции. Доступ к этим атрибутам возможен только через исходную функцию с помощью атрибута func"
   ],
   "metadata": {
    "collapsed": false
   },
   "id": "936586e92fff4103"
  },
  {
   "cell_type": "code",
   "execution_count": 21,
   "outputs": [
    {
     "name": "stdout",
     "output_type": "stream",
     "text": [
      "multiply\n",
      "Функция перемножает два числа и возвращает вычисленное значение.\n"
     ]
    }
   ],
   "source": [
    "from functools import partial\n",
    "\n",
    "\n",
    "def multiply(a, b):\n",
    "    '''Функция перемножает два числа и возвращает вычисленное значение.'''\n",
    "    return a * b\n",
    "\n",
    "\n",
    "double = partial(multiply, 2)\n",
    "\n",
    "print(double.func.__name__)\n",
    "print(double.func.__doc__)"
   ],
   "metadata": {
    "collapsed": false,
    "ExecuteTime": {
     "end_time": "2025-02-14T12:48:41.763866300Z",
     "start_time": "2025-02-14T12:48:41.760424900Z"
    }
   },
   "id": "d39a72f601c1bf4d"
  },
  {
   "cell_type": "markdown",
   "source": [
    "С помощью функции update_wrapper() из модуля functools можно скопировать и добавить атрибуты __name__ и __doc__ из исходной функции в partial объект."
   ],
   "metadata": {
    "collapsed": false
   },
   "id": "3c602a24a3b6ed1d"
  },
  {
   "cell_type": "code",
   "execution_count": 22,
   "outputs": [
    {
     "name": "stdout",
     "output_type": "stream",
     "text": [
      "multiply\n",
      "Функция перемножает два числа и возвращает вычисленное значение.\n"
     ]
    }
   ],
   "source": [
    "from functools import partial, update_wrapper\n",
    "\n",
    "\n",
    "def multiply(a, b):\n",
    "    '''Функция перемножает два числа и возвращает вычисленное значение.'''\n",
    "    return a * b\n",
    "\n",
    "\n",
    "double = partial(multiply, 2)\n",
    "\n",
    "update_wrapper(double, multiply)  # копируем информацию из функции multiply в partial объект double\n",
    "\n",
    "print(double.__name__)\n",
    "print(double.__doc__)"
   ],
   "metadata": {
    "collapsed": false,
    "ExecuteTime": {
     "end_time": "2025-02-14T12:50:00.050045500Z",
     "start_time": "2025-02-14T12:50:00.046822400Z"
    }
   },
   "id": "9b6ae02aebfb2563"
  },
  {
   "cell_type": "markdown",
   "source": [
    "Примечания"
   ],
   "metadata": {
    "collapsed": false
   },
   "id": "1a35893bf5e13ced"
  },
  {
   "cell_type": "markdown",
   "source": [
    "Примечание 4. Функция partial() возвращает partial объект, который при вызове ведет себя как функция."
   ],
   "metadata": {
    "collapsed": false
   },
   "id": "67f253520dbc8f11"
  },
  {
   "cell_type": "code",
   "execution_count": 23,
   "outputs": [
    {
     "name": "stdout",
     "output_type": "stream",
     "text": [
      "<class 'functools.partial'>\n"
     ]
    }
   ],
   "source": [
    "from functools import partial\n",
    "\n",
    "\n",
    "def multiply(a, b):\n",
    "    return a * b\n",
    "\n",
    "\n",
    "double = partial(multiply, 2)\n",
    "\n",
    "print(type(double))"
   ],
   "metadata": {
    "collapsed": false,
    "ExecuteTime": {
     "end_time": "2025-02-14T12:53:39.945467Z",
     "start_time": "2025-02-14T12:53:39.940566900Z"
    }
   },
   "id": "35120e7dd140a58"
  },
  {
   "cell_type": "markdown",
   "source": [
    "Примечание 6. Декоратор functools.wraps уже изучался нами в рамках одного из прошлых уроков. Данный декоратор использует функцию update_wrapper() для копирования атрибутов __name__ и __doc__."
   ],
   "metadata": {
    "collapsed": false
   },
   "id": "6b58bb383144bb6b"
  },
  {
   "cell_type": "code",
   "execution_count": 26,
   "outputs": [
    {
     "name": "stdout",
     "output_type": "stream",
     "text": [
      "['__call__', '__class__', '__class_getitem__', '__delattr__', '__dict__', '__dir__', '__doc__', '__eq__', '__format__', '__ge__', '__getattribute__', '__getstate__', '__gt__', '__hash__', '__init__', '__init_subclass__', '__le__', '__lt__', '__module__', '__ne__', '__new__', '__reduce__', '__reduce_ex__', '__repr__', '__setattr__', '__setstate__', '__sizeof__', '__str__', '__subclasshook__', '__vectorcalloffset__', 'args', 'func', 'keywords']\n"
     ]
    }
   ],
   "source": [
    "from functools import partial\n",
    "\n",
    "\n",
    "def add(a, b):\n",
    "    '''documentation'''\n",
    "    return a + b\n",
    "\n",
    "\n",
    "add_one = partial(add, 1)\n",
    "\n",
    "print(dir(add_one))\n",
    "# print(add_one.__name__)\n",
    "# print(add_one.__doc__)"
   ],
   "metadata": {
    "collapsed": false,
    "ExecuteTime": {
     "end_time": "2025-02-14T13:30:11.993143900Z",
     "start_time": "2025-02-14T13:30:11.988009700Z"
    }
   },
   "id": "2c0759241133c658"
  },
  {
   "cell_type": "code",
   "execution_count": 27,
   "outputs": [
    {
     "name": "stdout",
     "output_type": "stream",
     "text": [
      "add\n",
      "5\n"
     ]
    }
   ],
   "source": [
    "from functools import partial\n",
    "\n",
    "\n",
    "def add(a, b):\n",
    "    return a + b\n",
    "\n",
    "\n",
    "add_one = partial(add, 1)\n",
    "\n",
    "print(add_one.func.__name__)\n",
    "print(add_one.func(2, 3))"
   ],
   "metadata": {
    "collapsed": false,
    "ExecuteTime": {
     "end_time": "2025-02-14T13:33:11.510363700Z",
     "start_time": "2025-02-14T13:33:11.506646900Z"
    }
   },
   "id": "f994afd8cec08091"
  },
  {
   "cell_type": "code",
   "execution_count": 28,
   "outputs": [
    {
     "name": "stdout",
     "output_type": "stream",
     "text": [
      "beegeek stepik python\n"
     ]
    }
   ],
   "source": [
    "from functools import partial\n",
    "\n",
    "beegeek = partial(print, 'beegeek')\n",
    "\n",
    "beegeek('stepik', 'python')"
   ],
   "metadata": {
    "collapsed": false,
    "ExecuteTime": {
     "end_time": "2025-02-14T13:36:54.572260200Z",
     "start_time": "2025-02-14T13:36:54.566411Z"
    }
   },
   "id": "93c39ecb10fc5904"
  },
  {
   "cell_type": "code",
   "execution_count": 29,
   "outputs": [
    {
     "name": "stdout",
     "output_type": "stream",
     "text": [
      "beegeek-stepik-python\n"
     ]
    }
   ],
   "source": [
    "from functools import partial\n",
    "\n",
    "beegeek = partial(print, sep=', ')\n",
    "\n",
    "beegeek('beegeek', 'stepik', 'python', sep='-')"
   ],
   "metadata": {
    "collapsed": false,
    "ExecuteTime": {
     "end_time": "2025-02-14T13:38:45.011207600Z",
     "start_time": "2025-02-14T13:38:45.005992900Z"
    }
   },
   "id": "57e52c8372f7d3fb"
  },
  {
   "cell_type": "markdown",
   "source": [
    "Две функции\n",
    "Вам доступна уже реализованная функция send_email(), которая принимает три аргумента в следующем порядке:\n",
    "\n",
    "name — имя\n",
    "email_address — адрес электронной почты\n",
    "text — содержание письма\n",
    "Функция отправляет письмо пользователю с именем name на адрес email_address с содержанием text.\n",
    "\n",
    "1. Реализуйте функцию to_Timur() с помощью функции partial(), которая принимает один аргумент:\n",
    "\n",
    "text — содержание письма\n",
    "Функция должна отправлять письмо пользователю с именем Тимур на адрес timyrik20@beegeek.ru с содержанием text.\n",
    "\n",
    "2. Реализуйте функцию send_an_invitation() с помощью функции partial(), которая принимает два аргумента в следующем порядке:\n",
    "\n",
    "name — имя\n",
    "email_address — адрес электронной почты\n",
    "Функция должна отправлять письмо на имя name и на адрес email_address со следующим содержанием:\n",
    "\n",
    "Школа BEEGEEK приглашает Вас на новый курс по программированию на языке Python. тутут....\n",
    "Примечание 1. Функции to_Timur() и send_an_invitation() должны являться partial объектами.\n",
    "\n",
    "Примечание 2. В тестирующую систему сдайте программу, содержащую только необходимые функции to_Timur() и send_an_invitation(), но не код, вызывающий их."
   ],
   "metadata": {
    "collapsed": false
   },
   "id": "6984ca1f36efd6fa"
  },
  {
   "cell_type": "code",
   "execution_count": 40,
   "outputs": [
    {
     "data": {
      "text/plain": "'В письме для Тимур на адрес timyrik20@beegeek.ru сказано следующее: Школа BEEGEEK приглашает Вас на новый курс по программированию на языке Python. тутут....'"
     },
     "execution_count": 40,
     "metadata": {},
     "output_type": "execute_result"
    }
   ],
   "source": [
    "from functools import partial\n",
    "\n",
    "\n",
    "def send_email(name, email_address, text):\n",
    "    return f'В письме для {name} на адрес {email_address} сказано следующее: {text}'\n",
    "\n",
    "\n",
    "to_Timur = partial(send_email, 'Тимур', 'timyrik20@beegeek.ru')\n",
    "send_an_invitation = partial(send_email,\n",
    "                             text='Школа BEEGEEK приглашает Вас на новый курс по программированию на языке Python. тутут....')\n",
    "\n",
    "to_Timur('nnn')\n",
    "send_an_invitation('Тимур', 'timyrik20@beegeek.ru')"
   ],
   "metadata": {
    "collapsed": false,
    "ExecuteTime": {
     "end_time": "2025-02-17T05:30:08.336816400Z",
     "start_time": "2025-02-17T05:30:08.331827Z"
    }
   },
   "id": "299c3c8539283602"
  },
  {
   "cell_type": "code",
   "execution_count": null,
   "outputs": [],
   "source": [
    "from functools import partial, update_wrapper\n",
    "\n",
    "to_Timur = partial(send_email, 'Тимур', 'timyrik20@beegeek.ru')\n",
    "update_wrapper(to_Timur, send_email)\n",
    "send_an_invitation = partial(send_email,\n",
    "                             text='Школа BEEGEEK приглашает Вас на новый курс по программированию на языке Python. тутут....')\n",
    "update_wrapper(send_an_invitation, send_email)"
   ],
   "metadata": {
    "collapsed": false
   },
   "id": "7a46b17cc69e526e"
  },
  {
   "cell_type": "markdown",
   "source": [
    "Кэширование и мемоизация"
   ],
   "metadata": {
    "collapsed": false
   },
   "id": "2d2adbc88d8cc898"
  },
  {
   "cell_type": "markdown",
   "source": [
    "Кэширование – это способ оптимизации хранения данных, при котором операции с данными производятся эффективнее."
   ],
   "metadata": {
    "collapsed": false
   },
   "id": "7592f32d7dac75e3"
  },
  {
   "cell_type": "markdown",
   "source": [
    "Мемоизация — это разновидность кэширования. Обычно под кэшированием понимают довольно широкий набор способов сохранения чего-либо для последующего использования. Мемоизация же означает кэширование возвращаемых значений функций."
   ],
   "metadata": {
    "collapsed": false
   },
   "id": "427361df9fee0d2b"
  },
  {
   "cell_type": "markdown",
   "source": [
    "Вот некоторые соображения, касающиеся использования мемоизации:\n",
    "\n",
    "для того чтобы функцию можно было подвергнуть мемоизации, она должна быть чистой (см. примечание 7)\n",
    "мемоизация — это компромисс между производительностью и потреблением памяти\n",
    "мемоизация хороша для функций, имеющих сравнительно небольшой диапазон входных значений, что позволяет достаточно часто, при повторных вызовах функций, задействовать значения, найденные ранее, не тратя на хранение данных слишком много памяти\n",
    "лучше всего функции с мемоизацией показывают себя там, где выполняются сложные, ресурсоёмкие вычисления"
   ],
   "metadata": {
    "collapsed": false
   },
   "id": "3d98b8602deb4632"
  },
  {
   "cell_type": "markdown",
   "source": [
    "Примечание 7. Чистая функция — это функция, которая:\n",
    "\n",
    "является детерминированной\n",
    "не обладает побочными эффектами\n",
    "Наличия только одного из свойств недостаточно для того, чтобы функция была чистой.\n",
    "\n",
    "Функция является детерминированной, если для одного и того же набора входных значений она возвращает одинаковый результат. В большинстве языков программирования функции в процессе выполнения своих вычислений могут модифицировать значения глобальных переменных, осуществлять операции ввода-вывода, реагировать на исключительные ситуации, вызывая их обработчики. Такие функции называются функциями с побочными эффектами. Другим видом побочных эффектов является модификация переданных в функцию аргументов, когда в процессе вычисления результирующего значения функции изменяется и значение входного аргумента."
   ],
   "metadata": {
    "collapsed": false
   },
   "id": "3c3f04875c4005c2"
  },
  {
   "cell_type": "markdown",
   "source": [
    "Чистые функции не производят никаких наблюдаемых побочных эффектов, только возвращают результат. Не меняют глобальных переменных, ничего никуда не посылают и не печатают, не трогают объектов, и так далее. Принимают данные, что-то вычисляют, учитывая только аргументы, и возвращают новые данные."
   ],
   "metadata": {
    "collapsed": false
   },
   "id": "ac8ec54bee5134c1"
  },
  {
   "cell_type": "markdown",
   "source": [
    "Мы уже сталкивались с мемоизацией в рамках урока по изучению рекурсии."
   ],
   "metadata": {
    "collapsed": false
   },
   "id": "35901bc6bfe693e6"
  },
  {
   "cell_type": "code",
   "execution_count": null,
   "outputs": [],
   "source": [
    "def fib(n):\n",
    "    cache = {1: 1, 2: 1}\n",
    "\n",
    "    def fib_rec(n):\n",
    "        result = cache.get(n)\n",
    "        if result is None:\n",
    "            result = fib_rec(n - 2) + fib_rec(n - 1)\n",
    "            cache[n] = result\n",
    "        return result\n",
    "\n",
    "    return fib_rec(n)"
   ],
   "metadata": {
    "collapsed": false
   },
   "id": "412da3444e2faf4b"
  },
  {
   "cell_type": "markdown",
   "source": [
    "демонстрирует применение мемоизации к функции вычисления чисел Фибоначчи. При такой реализации функции fib() сначала происходит проверка на наличие уже вычисленного элемента, и если он находится, то сразу возвращается его значение."
   ],
   "metadata": {
    "collapsed": false
   },
   "id": "8f806115e8a520d0"
  },
  {
   "cell_type": "markdown",
   "source": [
    "Несложно написать и декоратор общего типа, мемоизирующий любую чистую функцию:"
   ],
   "metadata": {
    "collapsed": false
   },
   "id": "75bb108b55946373"
  },
  {
   "cell_type": "code",
   "execution_count": null,
   "outputs": [],
   "source": [
    "import functools\n",
    "\n",
    "\n",
    "def cached(func):\n",
    "    cache = {}\n",
    "\n",
    "    @functools.wraps(func)\n",
    "    def wrapper(*args, **kwargs):\n",
    "        key = args + tuple(kwargs.items())\n",
    "        result = cache.get(key)\n",
    "        if result is None:\n",
    "            result = func(*args, **kwargs)\n",
    "            cache[key] = result\n",
    "        return result\n",
    "\n",
    "    return wrapper"
   ],
   "metadata": {
    "collapsed": false
   },
   "id": "a0ef9d21ef876d60"
  },
  {
   "cell_type": "markdown",
   "source": [
    "В этой простой реализации мемоизации есть очевидная проблема: содержимое словаря cache будет неограниченно расти при каждом вызове декорируемой функции с новыми аргументами.\n",
    "\n",
    "Для решения такого рода проблемы существуют различные стратегии кэширования."
   ],
   "metadata": {
    "collapsed": false
   },
   "id": "a65481a081a27591"
  },
  {
   "cell_type": "markdown",
   "source": [
    "Стратегии кэширования"
   ],
   "metadata": {
    "collapsed": false
   },
   "id": "35d83363d077066f"
  },
  {
   "cell_type": "markdown",
   "source": [
    "Существует несколько различных стратегий, которые можно использовать для удаления элементов из кэша и предотвращения превышения его максимального размера. Пять самых популярных перечислены в таблице ниже."
   ],
   "metadata": {
    "collapsed": false
   },
   "id": "dd935a759c3091"
  },
  {
   "cell_type": "code",
   "execution_count": 41,
   "outputs": [
    {
     "data": {
      "image/png": "[encoded data removed]",
      "text/plain": "<IPython.core.display.Image object>"
     },
     "metadata": {},
     "output_type": "display_data"
    }
   ],
   "source": [
    "from functions import picture\n",
    "\n",
    "picture('fgjhjkyhk.png')"
   ],
   "metadata": {
    "collapsed": false,
    "ExecuteTime": {
     "end_time": "2025-02-17T05:49:08.495087400Z",
     "start_time": "2025-02-17T05:49:08.425344200Z"
    }
   },
   "id": "cf0e47c8b14c4746"
  },
  {
   "cell_type": "markdown",
   "source": [
    "Стратегия LRU представляет собой метод управления кэшем, в котором данные, которые дольше всего не использовались, считаются наименее ценными, и они удаляются из кэша в первую очередь при необходимости освободить место для новых данных. Кэш, реализованный посредством стратегии LRU, упорядочивает элементы в порядке их использования. Каждый раз, когда мы обращаемся к записи, алгоритм LRU перемещает ее в верхнюю часть кэша. Таким образом, алгоритм может быстро определить запись, которая дольше всех не использовалась, проверив конец списка."
   ],
   "metadata": {
    "collapsed": false
   },
   "id": "46a77bb5026a0425"
  },
  {
   "cell_type": "markdown",
   "source": [
    "Декоратор lru_cache"
   ],
   "metadata": {
    "collapsed": false
   },
   "id": "9407e296bb833261"
  },
  {
   "cell_type": "markdown",
   "source": [
    "В модуле functools уже реализован декоратор lru_cache, дающий возможность кэшировать результат вычисления функции, используя стратегию Least Recently Used. Это простой, но мощный метод, который позволяет использовать в коде возможности кэширования."
   ],
   "metadata": {
    "collapsed": false
   },
   "id": "7ff3f63db892858d"
  },
  {
   "cell_type": "markdown",
   "source": [
    "Декоратор lru_cache доступен начиная с Python 3.2."
   ],
   "metadata": {
    "collapsed": false
   },
   "id": "d2325d75c46d80e8"
  },
  {
   "cell_type": "code",
   "execution_count": null,
   "outputs": [],
   "source": [
    "from functools import lru_cache\n",
    "\n",
    "\n",
    "@lru_cache()\n",
    "def fibonacci(n):\n",
    "    if n <= 2:\n",
    "        return 1\n",
    "    else:\n",
    "        return fibonacci(n - 1) + fibonacci(n - 2)"
   ],
   "metadata": {
    "collapsed": false
   },
   "id": "4bfe7edc48eda90c"
  },
  {
   "cell_type": "markdown",
   "source": [
    "добавляет кэширование к функции fibonacci(). Декоратор lru_cache сохраняет результаты вызова fibonacci() для каждого уникального значения аргумента."
   ],
   "metadata": {
    "collapsed": false
   },
   "id": "150abb8cb921ff39"
  },
  {
   "cell_type": "markdown",
   "source": [
    "В Python 3.8 и выше, если мы не передаем никаких аргументов, то можно использовать декоратор lru_cache без скобок. В более ранних версиях необходимо добавить круглые скобки: lru_cache()"
   ],
   "metadata": {
    "collapsed": false
   },
   "id": "f9064134cca1fcd5"
  },
  {
   "cell_type": "markdown",
   "source": [
    "Аргументы декоратора lru_cache"
   ],
   "metadata": {
    "collapsed": false
   },
   "id": "f11b82caed84de38"
  },
  {
   "cell_type": "markdown",
   "source": [
    "При декорировании функций с помощью декоратора lru_cache мы можем использовать следующие аргументы:\n",
    "\n",
    "maxsize=128 — максимальный размер кэша (тип int)\n",
    "typed=False — как кэшировать при разных типах аргументов (тип bool)"
   ],
   "metadata": {
    "collapsed": false
   },
   "id": "942fa6e4d1d36af3"
  },
  {
   "cell_type": "markdown",
   "source": [
    "Если для параметра maxsize установлено значение None, то кэш может расти без ограничений."
   ],
   "metadata": {
    "collapsed": false
   },
   "id": "f1dfcb2bcef44cc4"
  },
  {
   "cell_type": "markdown",
   "source": [
    "Если для typed задано значение True, то результаты вызовов функции для аргументов разных типов будут кэшироваться отдельно. Например, f(3) и f(3.0) будут рассматриваться как отдельные вызовы с разными результатами. Если для typed задано значение False, то вызовы будут рассматриваться как одинаковые."
   ],
   "metadata": {
    "collapsed": false
   },
   "id": "d55a3b4e638e2f1"
  },
  {
   "cell_type": "code",
   "execution_count": 42,
   "outputs": [
    {
     "name": "stdout",
     "output_type": "stream",
     "text": [
      "beegeek 4\n",
      "beegeek 5.0\n",
      "beegeek 4\n"
     ]
    }
   ],
   "source": [
    "from functools import lru_cache\n",
    "\n",
    "\n",
    "@lru_cache(typed=False)\n",
    "def concat(text, num):\n",
    "    return text + ' ' + str(num)\n",
    "\n",
    "\n",
    "print(concat('beegeek', 4))\n",
    "print(concat('beegeek', 5.0))\n",
    "print(concat('beegeek', 4.0))"
   ],
   "metadata": {
    "collapsed": false,
    "ExecuteTime": {
     "end_time": "2025-02-17T06:23:38.080582300Z",
     "start_time": "2025-02-17T06:23:38.074894800Z"
    }
   },
   "id": "a04442be193b196c"
  },
  {
   "cell_type": "markdown",
   "source": [
    "Как мы видим, третий вызов функции с аргументами ('beegeek', 4.0) использует закэшированный результат первого вызова с аргументами ('beegeek', 4)."
   ],
   "metadata": {
    "collapsed": false
   },
   "id": "f4eea6de3c419526"
  },
  {
   "cell_type": "code",
   "execution_count": 43,
   "outputs": [
    {
     "name": "stdout",
     "output_type": "stream",
     "text": [
      "beegeek 4\n",
      "beegeek 5.0\n",
      "beegeek 4.0\n"
     ]
    }
   ],
   "source": [
    "from functools import lru_cache\n",
    "\n",
    "\n",
    "@lru_cache(typed=True)\n",
    "def concat(text, num):\n",
    "    return text + ' ' + str(num)\n",
    "\n",
    "\n",
    "print(concat('beegeek', 4))\n",
    "print(concat('beegeek', 5.0))\n",
    "print(concat('beegeek', 4.0))"
   ],
   "metadata": {
    "collapsed": false,
    "ExecuteTime": {
     "end_time": "2025-02-17T06:25:46.553012Z",
     "start_time": "2025-02-17T06:25:46.546066200Z"
    }
   },
   "id": "899a0a3aa1ddd3ad"
  },
  {
   "cell_type": "markdown",
   "source": [
    "Дополнительные методы декоратора lru_cache"
   ],
   "metadata": {
    "collapsed": false
   },
   "id": "24dc4ae33b0dd97b"
  },
  {
   "cell_type": "markdown",
   "source": [
    "Чтобы помочь измерить эффективность кэша и настроить параметр maxsize, декорированная функция имеет метод cache_info(), который возвращает именованный кортеж, показывающий hits, misses, maxsize и currsize"
   ],
   "metadata": {
    "collapsed": false
   },
   "id": "aac92984c1da2adf"
  },
  {
   "cell_type": "markdown",
   "source": [
    "Мы можем использовать информацию, возвращаемую cache_info(), чтобы понять, как работает кэш, и настроить его, чтобы найти подходящий баланс между скоростью работы и объемом памяти:"
   ],
   "metadata": {
    "collapsed": false
   },
   "id": "534b4bda4cbeef90"
  },
  {
   "cell_type": "markdown",
   "source": [
    "hits – количество значений, которые lru_cache вернул непосредственно из памяти, поскольку они присутствовали в кэше\n",
    "misses – количество значений, которые были вычислены, а не взяты из памяти\n",
    "maxsize – это размер кэша, который мы определили, передав его декоратору\n",
    "currsize – текущий размер кэша"
   ],
   "metadata": {
    "collapsed": false
   },
   "id": "a58311c50e43cee0"
  },
  {
   "cell_type": "code",
   "execution_count": 44,
   "outputs": [
    {
     "name": "stdout",
     "output_type": "stream",
     "text": [
      "beegeek 1\n",
      "beegeek 1\n",
      "beegeek 1\n",
      "beegeek 4.0\n",
      "beegeek 5\n",
      "CacheInfo(hits=2, misses=3, maxsize=128, currsize=3)\n"
     ]
    }
   ],
   "source": [
    "from functools import lru_cache\n",
    "\n",
    "\n",
    "@lru_cache(typed=False)\n",
    "def concat(text, num):\n",
    "    return text + ' ' + str(num)\n",
    "\n",
    "\n",
    "print(concat('beegeek', 1))\n",
    "print(concat('beegeek', 1.0))\n",
    "print(concat('beegeek', True))\n",
    "print(concat('beegeek', 4.0))\n",
    "print(concat('beegeek', 5))\n",
    "\n",
    "print(concat.cache_info())"
   ],
   "metadata": {
    "collapsed": false,
    "ExecuteTime": {
     "end_time": "2025-02-17T07:01:57.810598Z",
     "start_time": "2025-02-17T07:01:57.802377900Z"
    }
   },
   "id": "8cc7ff5f4a8b1692"
  },
  {
   "cell_type": "markdown",
   "source": [
    "Декоратор lru_cache также предоставляет метод cache_clear() для очистки кэша."
   ],
   "metadata": {
    "collapsed": false
   },
   "id": "46a453c1013356ae"
  },
  {
   "cell_type": "code",
   "execution_count": 45,
   "outputs": [
    {
     "name": "stdout",
     "output_type": "stream",
     "text": [
      "beegeek 1\n",
      "beegeek 1\n",
      "beegeek 1\n",
      "beegeek 4.0\n",
      "beegeek 5\n",
      "CacheInfo(hits=2, misses=3, maxsize=128, currsize=3)\n",
      "CacheInfo(hits=0, misses=0, maxsize=128, currsize=0)\n"
     ]
    }
   ],
   "source": [
    "from functools import lru_cache\n",
    "\n",
    "\n",
    "@lru_cache(typed=False)\n",
    "def concat(text, num):\n",
    "    return text + ' ' + str(num)\n",
    "\n",
    "\n",
    "print(concat('beegeek', 1))\n",
    "print(concat('beegeek', 1.0))\n",
    "print(concat('beegeek', True))\n",
    "print(concat('beegeek', 4.0))\n",
    "print(concat('beegeek', 5))\n",
    "\n",
    "print(concat.cache_info())\n",
    "concat.cache_clear()\n",
    "print(concat.cache_info())"
   ],
   "metadata": {
    "collapsed": false,
    "ExecuteTime": {
     "end_time": "2025-02-17T07:03:18.986309400Z",
     "start_time": "2025-02-17T07:03:18.979692900Z"
    }
   },
   "id": "e295dbf10de1df79"
  },
  {
   "cell_type": "markdown",
   "source": [
    "Максимальный размер кэша можно задать вручную через параметр maxsize в @lru_cache(maxsize=N)"
   ],
   "metadata": {
    "collapsed": false
   },
   "id": "91c8696c68f14"
  },
  {
   "cell_type": "markdown",
   "source": [
    "Если maxsize=None, кэш будет бесконечным, то есть хранить все вычисленные значения, пока работает программа"
   ],
   "metadata": {
    "collapsed": false
   },
   "id": "faeca7c4f1a285ce"
  },
  {
   "cell_type": "markdown",
   "source": [
    "Примечание 3. Кэширование – один из подходов, который при правильном использовании значительно ускоряет работу и снижает нагрузку на вычислительные ресурсы. Кэширование очень часто используется в реальных проектах."
   ],
   "metadata": {
    "collapsed": false
   },
   "id": "5c8f2221ccdaed6e"
  },
  {
   "cell_type": "markdown",
   "source": [
    "Примечание 4. Будьте осторожны с мемоизацией функций, которые принимают изменяемые типы данных в качестве аргументов. Встроенный декоратор lru_cache не позволяет работать с нехэшируемыми объектами, так как за кулисами использует словарь."
   ],
   "metadata": {
    "collapsed": false
   },
   "id": "dc45fde086cab320"
  },
  {
   "cell_type": "markdown",
   "source": [
    "Примечание 6. В Python 3.9 появился декоратор cache, который работает так же, как и lru_cache, но без ограничений на размер кэша. По сути, применение декоратора cache равнозначно применению декоратору lru_cache(maxsize=None). Такой декоратор работает быстрее чем lru_cache c заданным maxsize, но потребляет больше памяти."
   ],
   "metadata": {
    "collapsed": false
   },
   "id": "bb8ceb0aa00308e2"
  },
  {
   "cell_type": "code",
   "execution_count": 49,
   "outputs": [
    {
     "name": "stdout",
     "output_type": "stream",
     "text": [
      "Вычисляем(10)...\n",
      "Вычисляем(9)...\n",
      "Вычисляем(8)...\n",
      "Вычисляем(7)...\n",
      "Вычисляем(6)...\n",
      "Вычисляем(5)...\n",
      "Вычисляем(4)...\n",
      "Вычисляем(3)...\n",
      "Вычисляем(2)...\n",
      "Вычисляем(1)...\n",
      "55\n",
      "55\n",
      "CacheInfo(hits=8, misses=10, maxsize=None, currsize=10)\n"
     ]
    }
   ],
   "source": [
    "from functools import cache\n",
    "\n",
    "\n",
    "@cache\n",
    "def fibonacci(n):\n",
    "    print(f\"Вычисляем({n})...\")\n",
    "    if n <= 2:\n",
    "        return 1\n",
    "    return fibonacci(n - 1) + fibonacci(n - 2)\n",
    "\n",
    "\n",
    "# Вызываем функцию\n",
    "print(fibonacci(10))  # Первый раз вычисляет с выводом\n",
    "print(fibonacci(10))  # Второй раз берёт из кэша (без вычислений)\n",
    "\n",
    "print(fibonacci.cache_info())"
   ],
   "metadata": {
    "collapsed": false,
    "ExecuteTime": {
     "end_time": "2025-02-17T07:12:35.986872500Z",
     "start_time": "2025-02-17T07:12:35.979336Z"
    }
   },
   "id": "d1b0652c96c84088"
  },
  {
   "cell_type": "code",
   "execution_count": null,
   "outputs": [],
   "source": [
    "from functools import lru_cache\n",
    "\n",
    "\n",
    "@lru_cache()\n",
    "def add_one(number):\n",
    "    print(number + 1, end=' ')\n",
    "\n",
    "\n",
    "numbers = [1, 2, 3, 1, 3, 4, 4, 1]\n",
    "\n",
    "for i in numbers:\n",
    "    add_one(i)"
   ],
   "metadata": {
    "collapsed": false
   },
   "id": "7354f6f1011f4c08"
  },
  {
   "cell_type": "markdown",
   "source": [
    "функция идет по элементам списка, попутно записывая значение None в словарь:\n",
    "\n",
    "1-я итерация. Кэш: {1: None} :\n",
    "\n",
    "принтит 2\n",
    "\n",
    "возвращает None\n",
    "\n",
    "Строка вывода: 2 \n",
    "\n",
    "2-я итерация. Кэш: {1: None, 2: None} :\n",
    "\n",
    "принтит 3\n",
    "\n",
    "Возвращает None\n",
    "\n",
    "Строка вывода: 2 3 \n",
    "\n",
    "3-я итерация. Кэш: {1: None, 2: None, 3: None} :\n",
    "\n",
    "принтит 4\n",
    "\n",
    "Возвращает None\n",
    "\n",
    "Строка вывода: 2 3 4 \n",
    "\n",
    "4-я итерация. Кэш: {1: None, 2: None, 3: None} :\n",
    "\n",
    "принт НЕ выполняется, так как функция берет значение из кэша и сразу возвращает None, не доходя до строки с инструкцией print\n",
    "\n",
    "Строка вывода: 2 3 4 \n",
    "\n",
    "5-я итерация. Кэш: {1: None, 2: None, 3: None} :\n",
    "\n",
    "принт НЕ выполняется, так как функция берет значение из кэша и сразу возвращает None, не доходя до строки с инструкцией print\n",
    "\n",
    "Строка вывода: 2 3 4 \n",
    "\n",
    "6-я итерация. Кэш: {1: None, 2: None, 3: None, 4: None} :\n",
    "\n",
    "принтит 5 \n",
    "\n",
    "Возвращает None\n",
    "\n",
    "Строка вывода: 2 3 4 5  \n",
    "\n",
    "7-я итерация. Кэш: {1: None, 2: None, 3: None, 4: None} :\n",
    "\n",
    "принт НЕ выполняется, так как функция берет значение из кэша и сразу возвращает None, не доходя до строки с инструкцией print\n",
    "\n",
    "Строка вывода: 2 3 4 5 \n",
    "\n",
    "8-я итерация. Кэш: {1: None, 2: None, 3: None, 4: None} :\n",
    "\n",
    "принт НЕ выполняется, так как функция берет значение из кэша и сразу возвращает None, не доходя до строки с инструкцией print\n",
    "\n",
    "Строка вывода: 2 3 4 5 "
   ],
   "metadata": {
    "collapsed": false
   },
   "id": "fb430294b840a485"
  },
  {
   "cell_type": "code",
   "execution_count": null,
   "outputs": [],
   "source": [
    "from functools import lru_cache\n",
    "\n",
    "\n",
    "@lru_cache()\n",
    "def average(numbers):\n",
    "    return sum(numbers) / len(numbers)\n",
    "\n",
    "\n",
    "numbers = [1, 2, 3, 4, 5]\n",
    "\n",
    "print(average(numbers))\n",
    "print(average(numbers))"
   ],
   "metadata": {
    "collapsed": false
   },
   "id": "61007de6cb08ae1d"
  },
  {
   "cell_type": "markdown",
   "source": [
    "Код даже не доходит до выполнения sum(numbers) / len(numbers), так как проблема возникает в механизме кэширования lru_cache"
   ],
   "metadata": {
    "collapsed": false
   },
   "id": "89fa762ab77c5ce8"
  },
  {
   "cell_type": "markdown",
   "source": [
    "Функция lru_cache() требует, чтобы все аргументы были хешируемыми типами данных, так как она использует их в качестве ключей для кэша."
   ],
   "metadata": {
    "collapsed": false
   },
   "id": "f4af79269b97d75"
  },
  {
   "cell_type": "markdown",
   "source": [
    "Но list не является хешируемым (потому что списки изменяемые)."
   ],
   "metadata": {
    "collapsed": false
   },
   "id": "a568d2b1e24fd402"
  },
  {
   "cell_type": "markdown",
   "source": [
    "Когда вызывается average(numbers), Python пытается закэшировать numbers, но список нельзя использовать в качестве ключа словаря, что и вызывает ошибку."
   ],
   "metadata": {
    "collapsed": false
   },
   "id": "66c131fd2211813c"
  },
  {
   "cell_type": "markdown",
   "source": [
    "Рассмотрим, что делает Python при первом вызове average(numbers):\n",
    "\n",
    "Шаг 1: lru_cache() проверяет, есть ли аргумент numbers в кэше.\n",
    "Шаг 2: Так как кэш пустой, lru_cache() пытается сохранить numbers как ключ в своём словаре.\n",
    "Шаг 3: Python пытается хешировать numbers с помощью hash(numbers), но list не поддерживает хеширование, потому что он изменяемый.\n",
    "Шаг 4: Это вызывает TypeError: unhashable type: 'list'"
   ],
   "metadata": {
    "collapsed": false
   },
   "id": "cee10e7f078625c"
  },
  {
   "cell_type": "markdown",
   "source": [
    "Фактически lru_cache пытается выполнить:"
   ],
   "metadata": {
    "collapsed": false
   },
   "id": "fa9c046c60bf3c9a"
  },
  {
   "cell_type": "code",
   "execution_count": null,
   "outputs": [],
   "source": [
    "cache[([1, 2, 3, 4, 5],)] = 3.0  # Ошибка!"
   ],
   "metadata": {
    "collapsed": false
   },
   "id": "b9711bea70140dee"
  },
  {
   "cell_type": "markdown",
   "source": [
    "список нельзя использовать как ключ словаря, поэтому и возникает ошибка TypeError: unhashable type: 'list'."
   ],
   "metadata": {
    "collapsed": false
   },
   "id": "16e8cd240ef1b520"
  },
  {
   "cell_type": "markdown",
   "source": [
    "Просто Дима 🙂\n",
    "Дима решил выучить английский алфавит, и чтобы изучение шло быстрее, он придумал упражнение: он берет произвольное английское слово и расставляет в нем все буквы в лексикографическом порядке. Иногда Дима берет слова повторно, так как не помнит, брал ли их раньше.\n",
    "\n",
    "Напишите программу, которая принимает на вход произвольное количество английских слов и в каждом расставляет буквы в лексикографическом порядке.\n",
    "\n",
    "Форматы входных данных\n",
    "На вход программе подается произвольное количество английских слов, каждое на отдельной строке. \n",
    "\n",
    "Форматы выходных данных\n",
    "Программа должна в каждом введенном слове расположить все буквы в лексикографическом порядке и вывести полученный результат. Слова должны быть расположены в исходном порядке, каждое на отдельной строке.\n",
    "\n",
    "Примечание 1. Обратите внимание, что в задаче установлено ограничение по времени в одну секунду."
   ],
   "metadata": {
    "collapsed": false
   },
   "id": "b9c30a0e2ec589fb"
  },
  {
   "cell_type": "code",
   "execution_count": null,
   "outputs": [],
   "source": [
    "from sys import stdin\n",
    "from functools import lru_cache\n",
    "\n",
    "\n",
    "@lru_cache()\n",
    "def self_print(in_str: str):\n",
    "    return ''.join(sorted(in_str)).strip()\n",
    "\n",
    "\n",
    "for i in stdin.readlines():\n",
    "    print(self_print(i))"
   ],
   "metadata": {
    "collapsed": false
   },
   "id": "da9fe41514a004c7"
  },
  {
   "cell_type": "code",
   "execution_count": null,
   "outputs": [],
   "source": [
    "from functools import lru_cache\n",
    "\n",
    "\n",
    "@lru_cache\n",
    "def sort_string(string):\n",
    "    return ''.join(sorted(string.strip()))\n",
    "\n",
    "\n",
    "for l in open(0):\n",
    "    print(sort_string(l))"
   ],
   "metadata": {
    "collapsed": false
   },
   "id": "d5652cc1258c5c11"
  },
  {
   "cell_type": "markdown",
   "source": [
    "Просто Дима 🙃\n",
    "Дима любит учиться, но не любит получать низкие оценки, больше всего его огорчают двойки. Поэтому, когда Дима добирается до квартиры по лестнице, он поднимается исключительно на одну, три или четыре ступени, но не на две.\n",
    "\n",
    "Реализуйте функцию ways(), которая принимает один аргумент:\n",
    "\n",
    "n — натуральное число (n≤ 100)\n",
    "Функция должна возвращать единственное число — количество способов, которыми можно забраться на n-ую ступень. Путь начинается с первой ступени, подниматься можно исключительно на одну, три или четыре ступени.\n",
    "\n",
    "Примечание 1. Рассмотрим первый тест. На пятую ступень можно забраться следующими четырьмя способами:\n",
    "\n",
    "1→2→3→4→5\n",
    "1→4→5\n",
    "1→2→5\n",
    "1→5\n",
    "Примечание 2. В тестирующую систему сдайте программу, содержащую только необходимую функцию ways(), но не код, вызывающий её.\n",
    "\n",
    "Примечание 3. Обратите внимание, что в задаче установлено ограничение по времени в одну секунду."
   ],
   "metadata": {
    "collapsed": false
   },
   "id": "108d299f6927f151"
  },
  {
   "cell_type": "code",
   "execution_count": 55,
   "outputs": [
    {
     "name": "stdout",
     "output_type": "stream",
     "text": [
      "4\n",
      "1\n",
      "1\n"
     ]
    }
   ],
   "source": [
    "from functools import lru_cache\n",
    "\n",
    "\n",
    "@lru_cache()\n",
    "def ways(n: int) -> int:\n",
    "    if n == 1:\n",
    "        return 1\n",
    "    if n < 1:\n",
    "        return 0\n",
    "    if n > 4:\n",
    "        return ways(n - 1) + ways(n - 3) + ways(n - 4)\n",
    "    if n > 3:\n",
    "        return ways(n - 1) + ways(n - 3)\n",
    "    if n > 1:\n",
    "        return ways(n - 1)\n",
    "\n",
    "\n",
    "print(ways(5))\n",
    "print(ways(1))\n",
    "print(ways(2))"
   ],
   "metadata": {
    "collapsed": false,
    "ExecuteTime": {
     "end_time": "2025-02-18T05:44:04.863141200Z",
     "start_time": "2025-02-18T05:44:04.855614900Z"
    }
   },
   "id": "98f439fb1ec015a5"
  },
  {
   "cell_type": "code",
   "execution_count": null,
   "outputs": [],
   "source": [
    "from functools import lru_cache\n",
    "\n",
    "@lru_cache\n",
    "def ways(n):\n",
    "    return ways(n - 1) + ways(n - 3) + ways(n - 4) if n > 1 else int(n == 1)"
   ],
   "metadata": {
    "collapsed": false
   },
   "id": "870206dbd31a59cd"
  },
  {
   "cell_type": "code",
   "execution_count": null,
   "outputs": [],
   "source": [
    "from functools import lru_cache\n",
    "\n",
    "@lru_cache()\n",
    "def ways(n):\n",
    "    if n > 1:\n",
    "        return ways(n - 1) + ways(n - 3) + ways(n - 4)\n",
    "    else:\n",
    "        return [1, 0][n < 1]"
   ],
   "metadata": {
    "collapsed": false
   },
   "id": "d097987bfde72b7f"
  },
  {
   "cell_type": "markdown",
   "source": [
    "n < 1 - это булево выражение, если оно истинно, то получаем True (а True для Python равнозначно 1); если же выражение ложно, то получаем False (иными словами 0). Таким образом, конструкция [n < 1] является всего-навсего индексом и превращается в [1], если n меньше единицы и в [0] в противном случае. Далее, этот индекс применяется к списку из 2 элементов [1, 0] после чего возвращается соответствующее значение."
   ],
   "metadata": {
    "collapsed": false
   },
   "id": "afe661f6c2b4271a"
  },
  {
   "cell_type": "code",
   "execution_count": null,
   "outputs": [],
   "source": [
    "from functools import lru_cache\n",
    "\n",
    "\n",
    "@lru_cache\n",
    "def ways(n: int):\n",
    "    cache = {1: 1, 2: 1, 3: 1, 4: 2}\n",
    "    if n <= 4:\n",
    "        return cache[n]\n",
    "    return ways(n - 1) + ways(n - 3) + ways(n - 4)"
   ],
   "metadata": {
    "collapsed": false
   },
   "id": "7d34457c9b60006e"
  }
 ],
 "metadata": {
  "kernelspec": {
   "display_name": "Python 3",
   "language": "python",
   "name": "python3"
  },
  "language_info": {
   "codemirror_mode": {
    "name": "ipython",
    "version": 2
   },
   "file_extension": ".py",
   "mimetype": "text/x-python",
   "name": "python",
   "nbconvert_exporter": "python",
   "pygments_lexer": "ipython2",
   "version": "2.7.6"
  }
 },
 "nbformat": 4,
 "nbformat_minor": 5
}

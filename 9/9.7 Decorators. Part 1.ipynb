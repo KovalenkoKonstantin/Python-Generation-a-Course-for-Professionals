{
 "cells": [
  {
   "cell_type": "markdown",
   "source": [
    "Тема урока: декораторы\n",
    "Определение декоратора\n",
    "Специальный синтаксис применения декораторов\n",
    "Изменение поведения функции\n",
    "Применение нескольких декораторов\n",
    "Декорирование функций, принимающих аргументы\n",
    "Возврат значений из декорируемой функции\n",
    "Аннотация. Урок посвящен декораторам."
   ],
   "metadata": {
    "collapsed": false
   },
   "id": "6ef018d176033d7e"
  },
  {
   "cell_type": "markdown",
   "source": [
    "Определение декоратора"
   ],
   "metadata": {
    "collapsed": false
   },
   "id": "eb8eda965f54e08f"
  },
  {
   "cell_type": "markdown",
   "source": [
    "Иногда нам нужно модифицировать существующую функцию, не меняя при этом ее исходный код.\n",
    "\n",
    "Декоратор — это функция, которая принимает другую функцию, расширяет ее поведение, не изменяя ее явно, и возвращает новую функцию."
   ],
   "metadata": {
    "collapsed": false
   },
   "id": "8cb8ed60709065f5"
  },
  {
   "cell_type": "markdown",
   "source": [
    "Прежде чем понять, как работают декораторы и начать создавать их, вспомним некоторые важные особенности функций:\n",
    "\n",
    "функции являются объектами первого класса, то есть функции можно передавать и использовать в качестве аргументов;\n",
    "функции можно определять внутри других функций;\n",
    "вложенные функции могут использовать локальные переменные родительских функций;\n",
    "функции могут возвращать другие функции в качестве результата."
   ],
   "metadata": {
    "collapsed": false
   },
   "id": "1d0c480bb7ca662f"
  },
  {
   "cell_type": "markdown",
   "source": [
    "Теперь, владея этими знаниями, создадим простой декоратор null_decorator(), который возвращает исходную функцию без каких-либо изменений:"
   ],
   "metadata": {
    "collapsed": false
   },
   "id": "5be924e9dd8f5ffa"
  },
  {
   "cell_type": "code",
   "execution_count": 1,
   "outputs": [],
   "source": [
    "def null_decorator(func):\n",
    "    return func"
   ],
   "metadata": {
    "collapsed": false,
    "ExecuteTime": {
     "end_time": "2025-01-29T05:10:25.506064600Z",
     "start_time": "2025-01-29T05:10:25.499111100Z"
    }
   },
   "id": "4c37b78ec16e4625"
  },
  {
   "cell_type": "markdown",
   "source": [
    "Как мы видим, null_decorator() — это функция высшего порядка, которая принимает другую функцию в качестве аргумента и возвращает эту же функцию, не изменяя ее.\n",
    "\n",
    "Применим данный декоратор для декорирования функции say()."
   ],
   "metadata": {
    "collapsed": false
   },
   "id": "f3759a5ea754adce"
  },
  {
   "cell_type": "code",
   "execution_count": 2,
   "outputs": [
    {
     "name": "stdout",
     "output_type": "stream",
     "text": [
      "Привет Мир!\n"
     ]
    }
   ],
   "source": [
    "def say():\n",
    "    print('Привет Мир!')\n",
    "\n",
    "\n",
    "say = null_decorator(say)  # декорируем функцию\n",
    "\n",
    "say()  # вызываем декорированную функцию"
   ],
   "metadata": {
    "collapsed": false,
    "ExecuteTime": {
     "end_time": "2025-01-29T05:10:27.417423400Z",
     "start_time": "2025-01-29T05:10:27.413288700Z"
    }
   },
   "id": "b55524e19831d9a8"
  },
  {
   "cell_type": "markdown",
   "source": [
    "Приведенный выше null_decorator() пока что не выглядит особо полезным, однако можно написать более интересный декоратор, который меняет поведение декорируемой функции."
   ],
   "metadata": {
    "collapsed": false
   },
   "id": "788846ac2afe6253"
  },
  {
   "cell_type": "code",
   "execution_count": 9,
   "outputs": [
    {
     "name": "stdout",
     "output_type": "stream",
     "text": [
      "Начало функции\n",
      "Привет Мир!\n",
      "Конец функции\n"
     ]
    }
   ],
   "source": [
    "def sample_decorator(func):  # определяем декоратор\n",
    "    def wrapper():\n",
    "        print('Начало функции')\n",
    "        func()\n",
    "        print('Конец функции')\n",
    "\n",
    "    return wrapper\n",
    "\n",
    "\n",
    "def say():\n",
    "    print('Привет Мир!')\n",
    "\n",
    "\n",
    "say = sample_decorator(say)  # декорируем функцию\n",
    "\n",
    "say()  # вызываем декорированную функцию"
   ],
   "metadata": {
    "collapsed": false,
    "ExecuteTime": {
     "end_time": "2025-01-29T05:16:00.796624700Z",
     "start_time": "2025-01-29T05:16:00.787591Z"
    }
   },
   "id": "303d235e890f04b7"
  },
  {
   "cell_type": "markdown",
   "source": [
    "Здесь sample_decorator() является функцией-декоратором. Как можно заметить, она является функцией высшего порядка, так как принимает функцию в качестве аргумента, а также возвращает функцию. Внутри sample_decorator() мы определили другую функцию — обёртку, которая обёртывает передаваемую функцию say() и затем изменяет её поведение. Декоратор возвращает эту обёртку."
   ],
   "metadata": {
    "collapsed": false
   },
   "id": "b8e1ca21acdabf70"
  },
  {
   "cell_type": "markdown",
   "source": [
    "После декорирования переменная say указывает на внутреннюю функцию wrapper(). Важно понимать то, что при вызове функции sample_decorator(say) с переданной в качестве аргумента функцией say() возвращается вложенная функция wrapper() в качестве результата. Функция wrapper(), в свою очередь, имеет ссылку на переданную в качестве аргумента функцию say() и вызывает эту функцию между двумя вызовами встроенной функции print()."
   ],
   "metadata": {
    "collapsed": false
   },
   "id": "4ed272898d476470"
  },
  {
   "cell_type": "code",
   "execution_count": 10,
   "outputs": [
    {
     "name": "stdout",
     "output_type": "stream",
     "text": [
      "<function sample_decorator.<locals>.wrapper at 0x000002DB09214C20>\n",
      "<function sample_decorator.<locals>.wrapper at 0x000002DB09215940>\n"
     ]
    }
   ],
   "source": [
    "print(say)  # до декорирования\n",
    "say = sample_decorator(say)\n",
    "print(say)  # после декорирования"
   ],
   "metadata": {
    "collapsed": false,
    "ExecuteTime": {
     "end_time": "2025-01-29T05:17:38.363264100Z",
     "start_time": "2025-01-29T05:17:38.357359600Z"
    }
   },
   "id": "5bd40b0c68c6524f"
  },
  {
   "cell_type": "markdown",
   "source": [
    "Таким образом, после декорирования мы получаем совершено другую функцию, которая расширяет функционал начальной функции."
   ],
   "metadata": {
    "collapsed": false
   },
   "id": "35c23c2c259c60e7"
  },
  {
   "cell_type": "markdown",
   "source": [
    "Проще говоря: декораторы обертывают функцию, изменяя ее поведение."
   ],
   "metadata": {
    "collapsed": false
   },
   "id": "52c5d4cafb1ae053"
  },
  {
   "cell_type": "markdown",
   "source": [
    "Декоратор — это функция, которая позволяет обернуть другую функцию для расширения её функциональности без непосредственного изменения её кода."
   ],
   "metadata": {
    "collapsed": false
   },
   "id": "5a7238225e964160"
  },
  {
   "cell_type": "markdown",
   "source": [
    "Специальный синтаксис применения декораторов"
   ],
   "metadata": {
    "collapsed": false
   },
   "id": "388658668bd4960b"
  },
  {
   "cell_type": "markdown",
   "source": [
    "Способ, который декорирует функцию say(), — многословен, приходится набирать имя функции несколько раз. Кроме того, декорирование скрывается под определением функции. Вместо этого Python позволяет использовать декораторы более простым способом с помощью символа @."
   ],
   "metadata": {
    "collapsed": false
   },
   "id": "94d377b82bd142ad"
  },
  {
   "cell_type": "code",
   "execution_count": 11,
   "outputs": [
    {
     "data": {
      "image/png": "[encoded data removed]",
      "text/plain": "<IPython.core.display.Image object>"
     },
     "metadata": {},
     "output_type": "display_data"
    }
   ],
   "source": [
    "from functions import picture\n",
    "\n",
    "picture('Новый проект (2) (4).png')"
   ],
   "metadata": {
    "collapsed": false,
    "ExecuteTime": {
     "end_time": "2025-01-29T05:19:57.594211200Z",
     "start_time": "2025-01-29T05:19:57.565199800Z"
    }
   },
   "id": "1fefa9af590277fe"
  },
  {
   "cell_type": "code",
   "execution_count": null,
   "outputs": [],
   "source": [
    "def null_decorator(func):\n",
    "    return func\n",
    "\n",
    "\n",
    "def say():\n",
    "    print('Привет Мир!')\n",
    "\n",
    "\n",
    "say = null_decorator(say)  # декорируем функцию\n",
    "\n",
    "say()"
   ],
   "metadata": {
    "collapsed": false
   },
   "id": "faae03342b62f95a"
  },
  {
   "cell_type": "code",
   "execution_count": null,
   "outputs": [],
   "source": [
    "def null_decorator(func):\n",
    "    return func\n",
    "\n",
    "\n",
    "@null_decorator  # декорируем функцию\n",
    "def say():\n",
    "    print('Привет Мир!')\n",
    "\n",
    "\n",
    "say()"
   ],
   "metadata": {
    "collapsed": false
   },
   "id": "3f80ec75ddae49a3"
  },
  {
   "cell_type": "code",
   "execution_count": null,
   "outputs": [],
   "source": [
    "def sample_decorator(func):  # определяем декоратор\n",
    "    def wrapper():\n",
    "        print('Начало функции')\n",
    "        func()\n",
    "        print('Конец функции')\n",
    "\n",
    "    return wrapper\n",
    "\n",
    "\n",
    "def say():\n",
    "    print('Привет Мир!')\n",
    "\n",
    "\n",
    "say = sample_decorator(say)  # декорируем функцию\n",
    "\n",
    "say()  # вызываем декорированную функцию"
   ],
   "metadata": {
    "collapsed": false
   },
   "id": "203e666b833f88e4"
  },
  {
   "cell_type": "code",
   "execution_count": null,
   "outputs": [],
   "source": [
    "def sample_decorator(func):  # определяем декоратор\n",
    "    def wrapper():\n",
    "        print('Начало функции')\n",
    "        func()\n",
    "        print('Конец функции')\n",
    "\n",
    "    return wrapper\n",
    "\n",
    "\n",
    "@sample_decorator  # декорируем функцию\n",
    "def say():\n",
    "    print('Привет Мир!')\n",
    "\n",
    "\n",
    "say()"
   ],
   "metadata": {
    "collapsed": false
   },
   "id": "9945efa13fa60e2d"
  },
  {
   "cell_type": "markdown",
   "source": [
    "Просто добавив @sample_decorator перед определением функции say(), мы модифицировали её поведение. Однако, как вы уже могли догадаться, запись с @ является всего лишь синтаксическим сахаром для записи:"
   ],
   "metadata": {
    "collapsed": false
   },
   "id": "848998411e3fd3dd"
  },
  {
   "cell_type": "code",
   "execution_count": null,
   "outputs": [],
   "source": [
    "say = sample_decorator(say)"
   ],
   "metadata": {
    "collapsed": false
   },
   "id": "14604cb0e1970979"
  },
  {
   "cell_type": "markdown",
   "source": [
    "Иными словами, выражение @sample_decorator вызывает функцию sample_decorator() с say в качестве аргумента и присваивает имени say возвращаемую функцию."
   ],
   "metadata": {
    "collapsed": false
   },
   "id": "c289e4f5e982930"
  },
  {
   "cell_type": "markdown",
   "source": [
    "Обратите внимание, что использование синтаксиса @ декорирует функцию сразу во время определения. Это затрудняет доступ к недекорированной функции. Поэтому мы можем декорировать некоторые функции вручную, чтобы сохранить возможность вызывать и недекорированную версию функции."
   ],
   "metadata": {
    "collapsed": false
   },
   "id": "ac488ebf962b294d"
  },
  {
   "cell_type": "markdown",
   "source": [
    "Изменение поведения функции"
   ],
   "metadata": {
    "collapsed": false
   },
   "id": "1bccf5b61f312df4"
  },
  {
   "cell_type": "markdown",
   "source": [
    "Декоратор может менять поведение декорируемой функции. Напишем декоратор, который преобразует строковый результат декорированной функции в верхний регистр."
   ],
   "metadata": {
    "collapsed": false
   },
   "id": "7aabff5a9d3d1fb0"
  },
  {
   "cell_type": "code",
   "execution_count": 13,
   "outputs": [],
   "source": [
    "def uppercase_decorator(func):\n",
    "    def wrapper():\n",
    "        original_result = func()\n",
    "        modified_result = original_result.upper()\n",
    "        return modified_result\n",
    "\n",
    "    return wrapper"
   ],
   "metadata": {
    "collapsed": false,
    "ExecuteTime": {
     "end_time": "2025-01-29T10:08:33.684280600Z",
     "start_time": "2025-01-29T10:08:33.680753700Z"
    }
   },
   "id": "c9209679e4bce19a"
  },
  {
   "cell_type": "markdown",
   "source": [
    "Вместо того чтобы просто возвращать исходную функцию, как это делал null_decorator(), декоратор uppercase_decorator() определяет и возвращает новую функцию wrapper(). Функция wrapper(), являясь замыканием, имеет доступ к недекорированной функции func и может выполнять дополнительный код до и после вызова функции func"
   ],
   "metadata": {
    "collapsed": false
   },
   "id": "a4b73b7f38227e8c"
  },
  {
   "cell_type": "code",
   "execution_count": 14,
   "outputs": [
    {
     "name": "stdout",
     "output_type": "stream",
     "text": [
      "HELLO WORLD!\n"
     ]
    }
   ],
   "source": [
    "@uppercase_decorator\n",
    "def greet():\n",
    "    return 'Hello world!'\n",
    "\n",
    "\n",
    "print(greet())"
   ],
   "metadata": {
    "collapsed": false,
    "ExecuteTime": {
     "end_time": "2025-01-29T10:08:37.044223800Z",
     "start_time": "2025-01-29T10:08:37.040319900Z"
    }
   },
   "id": "e5e702b399784f30"
  },
  {
   "cell_type": "markdown",
   "source": [
    "В отличие от null_decorator(), наш новый декоратор uppercase_decorator() возвращает другой объект функции, в чем несложно убедиться."
   ],
   "metadata": {
    "collapsed": false
   },
   "id": "d29807e60d5f18e4"
  },
  {
   "cell_type": "code",
   "execution_count": 15,
   "outputs": [
    {
     "name": "stdout",
     "output_type": "stream",
     "text": [
      "<function greet at 0x000002DB09217C40>\n",
      "<function uppercase_decorator.<locals>.wrapper at 0x000002DB092177E0>\n"
     ]
    }
   ],
   "source": [
    "def greet():\n",
    "    return 'Hello world!'\n",
    "\n",
    "\n",
    "print(greet)\n",
    "greet = uppercase_decorator(greet)  # ручное декорирование\n",
    "print(greet)"
   ],
   "metadata": {
    "collapsed": false,
    "ExecuteTime": {
     "end_time": "2025-01-29T10:09:50.787994200Z",
     "start_time": "2025-01-29T10:09:50.782012300Z"
    }
   },
   "id": "870c76a06cb173a2"
  },
  {
   "cell_type": "markdown",
   "source": [
    "Декоратор uppercase_decorator() сам по себе является функцией. Единственный способ повлиять на новое поведение функции, которую он декорирует, — это заменить исходную функцию замыканием. Вот почему декоратор uppercase_decorator() определяет и возвращает другую функцию wrapper(), которую затем можно вызвать позже, запустить исходную функцию и изменить ее результат."
   ],
   "metadata": {
    "collapsed": false
   },
   "id": "4bdb287d79089760"
  },
  {
   "cell_type": "markdown",
   "source": [
    "Применение нескольких декораторов"
   ],
   "metadata": {
    "collapsed": false
   },
   "id": "da9ce48412e2a2e4"
  },
  {
   "cell_type": "markdown",
   "source": [
    "Мы можем без каких-либо проблем применять к функции несколько различных декораторов. Это накапливает их эффекты, и делает декораторы очень полезными на практике.\n",
    "\n",
    "Рассмотрим два декоратора bold() и italic(), которые заключают результат вызова функции в HTML-теги:"
   ],
   "metadata": {
    "collapsed": false
   },
   "id": "902d79e895b88430"
  },
  {
   "cell_type": "code",
   "execution_count": 16,
   "outputs": [],
   "source": [
    "def bold(func):\n",
    "    def wrapper():\n",
    "        return '<b>' + func() + '</b>'\n",
    "\n",
    "    return wrapper\n",
    "\n",
    "\n",
    "def italic(func):\n",
    "    def wrapper():\n",
    "        return '<i>' + func() + '</i>'\n",
    "\n",
    "    return wrapper"
   ],
   "metadata": {
    "collapsed": false,
    "ExecuteTime": {
     "end_time": "2025-01-29T10:11:23.802786700Z",
     "start_time": "2025-01-29T10:11:23.796610300Z"
    }
   },
   "id": "2e358d7182451e73"
  },
  {
   "cell_type": "markdown",
   "source": [
    "Применим их к функции greet()."
   ],
   "metadata": {
    "collapsed": false
   },
   "id": "f8e0285c085e54d0"
  },
  {
   "cell_type": "code",
   "execution_count": 17,
   "outputs": [
    {
     "name": "stdout",
     "output_type": "stream",
     "text": [
      "<b><i>Hello world!</i></b>\n"
     ]
    }
   ],
   "source": [
    "@bold\n",
    "@italic\n",
    "def greet():\n",
    "    return 'Hello world!'\n",
    "\n",
    "\n",
    "print(greet())"
   ],
   "metadata": {
    "collapsed": false,
    "ExecuteTime": {
     "end_time": "2025-01-29T10:11:31.018783200Z",
     "start_time": "2025-01-29T10:11:31.014433900Z"
    }
   },
   "id": "1c52171fde883177"
  },
  {
   "cell_type": "markdown",
   "source": [
    "Декораторы применяются в порядке снизу вверх. Таким образом, мы можем явно использовать декорирование, обойдясь без специального синтаксиса. В таком случае цепочка вызовов функций декораторов будет выглядеть так:"
   ],
   "metadata": {
    "collapsed": false
   },
   "id": "d27bd408e3bc185b"
  },
  {
   "cell_type": "code",
   "execution_count": 18,
   "outputs": [],
   "source": [
    "greet = bold(italic(greet))"
   ],
   "metadata": {
    "collapsed": false,
    "ExecuteTime": {
     "end_time": "2025-01-29T10:11:59.716197700Z",
     "start_time": "2025-01-29T10:11:59.709859700Z"
    }
   },
   "id": "46a63c17b54202cc"
  },
  {
   "cell_type": "markdown",
   "source": [
    "Таким образом, сначала применяется декоратор italic(), который оборачивает результат вызова декорируемой функции в теги <i></i>, а затем результирующая обернутая функция снова обертывается декоратором bold(), который оборачивает результат вызова декорируемой функции в теги <b></b>."
   ],
   "metadata": {
    "collapsed": false
   },
   "id": "9839f0c8cde01859"
  },
  {
   "cell_type": "markdown",
   "source": [
    "Глубокие уровни наложения декораторов в итоге могут повлиять на производительность, поскольку они продолжают добавлять вложенные вызовы функций. Обычно на практике это не создает проблем, но об этом следует помнить, если вы работаете с кодом, требующим высокой производительности."
   ],
   "metadata": {
    "collapsed": false
   },
   "id": "11f3ef53c753ff16"
  },
  {
   "cell_type": "markdown",
   "source": [
    "Декорирование функций, принимающих аргументы"
   ],
   "metadata": {
    "collapsed": false
   },
   "id": "bd8a3141dee4ee2f"
  },
  {
   "cell_type": "markdown",
   "source": [
    "Изменим функцию greet() так, чтобы она принимала аргумент name:"
   ],
   "metadata": {
    "collapsed": false
   },
   "id": "e6a2703273592c43"
  },
  {
   "cell_type": "code",
   "execution_count": 19,
   "outputs": [],
   "source": [
    "def greet(name):\n",
    "    return f'Hello {name}!'"
   ],
   "metadata": {
    "collapsed": false,
    "ExecuteTime": {
     "end_time": "2025-01-29T10:12:57.141468700Z",
     "start_time": "2025-01-29T10:12:57.134952400Z"
    }
   },
   "id": "acc7313db012a4a8"
  },
  {
   "cell_type": "code",
   "execution_count": 20,
   "outputs": [
    {
     "name": "stdout",
     "output_type": "stream",
     "text": [
      "Hello Timur!\n"
     ]
    }
   ],
   "source": [
    "print(greet('Timur'))"
   ],
   "metadata": {
    "collapsed": false,
    "ExecuteTime": {
     "end_time": "2025-01-29T10:13:03.171847700Z",
     "start_time": "2025-01-29T10:13:03.165328900Z"
    }
   },
   "id": "c71777e16839a988"
  },
  {
   "cell_type": "markdown",
   "source": [
    "Попробуем применить наш декоратор bold() к новой функции greet()."
   ],
   "metadata": {
    "collapsed": false
   },
   "id": "51005e437214cdc4"
  },
  {
   "cell_type": "code",
   "execution_count": 21,
   "outputs": [
    {
     "ename": "TypeError",
     "evalue": "bold.<locals>.wrapper() takes 0 positional arguments but 1 was given",
     "output_type": "error",
     "traceback": [
      "\u001B[1;31m---------------------------------------------------------------------------\u001B[0m",
      "\u001B[1;31mTypeError\u001B[0m                                 Traceback (most recent call last)",
      "Cell \u001B[1;32mIn[21], line 5\u001B[0m\n\u001B[0;32m      1\u001B[0m \u001B[38;5;129m@bold\u001B[39m\n\u001B[0;32m      2\u001B[0m \u001B[38;5;28;01mdef\u001B[39;00m \u001B[38;5;21mgreet\u001B[39m(name):\n\u001B[0;32m      3\u001B[0m     \u001B[38;5;28;01mreturn\u001B[39;00m \u001B[38;5;124mf\u001B[39m\u001B[38;5;124m'\u001B[39m\u001B[38;5;124mHello \u001B[39m\u001B[38;5;132;01m{\u001B[39;00mname\u001B[38;5;132;01m}\u001B[39;00m\u001B[38;5;124m!\u001B[39m\u001B[38;5;124m'\u001B[39m\n\u001B[1;32m----> 5\u001B[0m \u001B[38;5;28mprint\u001B[39m(\u001B[43mgreet\u001B[49m\u001B[43m(\u001B[49m\u001B[38;5;124;43m'\u001B[39;49m\u001B[38;5;124;43mTimur\u001B[39;49m\u001B[38;5;124;43m'\u001B[39;49m\u001B[43m)\u001B[49m)\n",
      "\u001B[1;31mTypeError\u001B[0m: bold.<locals>.wrapper() takes 0 positional arguments but 1 was given"
     ]
    }
   ],
   "source": [
    "@bold\n",
    "def greet(name):\n",
    "    return f'Hello {name}!'\n",
    "\n",
    "\n",
    "print(greet('Timur'))"
   ],
   "metadata": {
    "collapsed": false,
    "ExecuteTime": {
     "end_time": "2025-01-29T10:13:28.275217Z",
     "start_time": "2025-01-29T10:13:28.259108600Z"
    }
   },
   "id": "f7278919d45966c1"
  },
  {
   "cell_type": "markdown",
   "source": [
    "Проблема в том, что внутренняя функция wrapper() не принимает никаких аргументов, а мы пытались ей передать один аргумент Timur. Эту проблему можно исправить, позволив wrapper() принять один аргумент, но тогда она не будет работать для функций, которые не принимают аргументов или принимают больше одного аргумента.\n",
    "\n",
    "Решение заключается в использовании *args и **kwargs во внутренней функции, что позволит ей принимать произвольное число позиционных и именованных аргументов:"
   ],
   "metadata": {
    "collapsed": false
   },
   "id": "d52b74c0a75fce1d"
  },
  {
   "cell_type": "code",
   "execution_count": 22,
   "outputs": [],
   "source": [
    "def bold(func):\n",
    "    def wrapper(*args, **kwargs):\n",
    "        return '<b>' + func(*args, **kwargs) + '</b>'\n",
    "\n",
    "    return wrapper"
   ],
   "metadata": {
    "collapsed": false,
    "ExecuteTime": {
     "end_time": "2025-01-29T10:14:38.681084400Z",
     "start_time": "2025-01-29T10:14:38.675565400Z"
    }
   },
   "id": "b993dc0a2958fd84"
  },
  {
   "cell_type": "code",
   "execution_count": 23,
   "outputs": [
    {
     "name": "stdout",
     "output_type": "stream",
     "text": [
      "<b>Hello Timur!</b>\n",
      "<b>Hello world!</b>\n",
      "<b>Hello Timur Guev!</b>\n"
     ]
    }
   ],
   "source": [
    "@bold\n",
    "def greet1(name):\n",
    "    return f'Hello {name}!'\n",
    "\n",
    "\n",
    "@bold\n",
    "def greet2():\n",
    "    return 'Hello world!'\n",
    "\n",
    "\n",
    "@bold\n",
    "def greet3(name, surname):\n",
    "    return f'Hello {name} {surname}!'\n",
    "\n",
    "\n",
    "print(greet1('Timur'))\n",
    "print(greet2())\n",
    "print(greet3('Timur', 'Guev'))"
   ],
   "metadata": {
    "collapsed": false,
    "ExecuteTime": {
     "end_time": "2025-01-29T10:14:46.099032800Z",
     "start_time": "2025-01-29T10:14:46.092571600Z"
    }
   },
   "id": "4c831e42b60a6262"
  },
  {
   "cell_type": "markdown",
   "source": [
    "В примере выше вложенная функция wrapper() принимает произвольное число позиционных и именованных аргументов и передает их в декорируемую функцию func(). Теперь декоратор @bold будет работать как для функций, которые вообще не принимают аргументы, так и для функций которые принимают произвольное количество позиционных и именованных аргументов."
   ],
   "metadata": {
    "collapsed": false
   },
   "id": "a67eaaaa101d88a0"
  },
  {
   "cell_type": "markdown",
   "source": [
    "Возврат значений из декорируемой функции"
   ],
   "metadata": {
    "collapsed": false
   },
   "id": "ac143f7570b1a55e"
  },
  {
   "cell_type": "markdown",
   "source": [
    "В Python все функции возвращают значение. Даже если тело функции не содержит явно инструкции return, она вернет значение None. Нужно быть очень внимательным к декорированию функций, которые возвращают значения, которые затем используются."
   ],
   "metadata": {
    "collapsed": false
   },
   "id": "cdaa9eb4d14517ed"
  },
  {
   "cell_type": "markdown",
   "source": [
    "Допустим, мы написали следующий декоратор:"
   ],
   "metadata": {
    "collapsed": false
   },
   "id": "ae3383d5b194862b"
  },
  {
   "cell_type": "code",
   "execution_count": 24,
   "outputs": [],
   "source": [
    "def talk(func):\n",
    "    def wrapper(*args, **kwargs):\n",
    "        dash = '-' * 15\n",
    "        print(dash)\n",
    "        func(*args, **kwargs)  # вызываем декорируемую функцию\n",
    "        print(dash)\n",
    "\n",
    "    return wrapper"
   ],
   "metadata": {
    "collapsed": false,
    "ExecuteTime": {
     "end_time": "2025-02-03T08:33:36.485874500Z",
     "start_time": "2025-02-03T08:33:36.480344400Z"
    }
   },
   "id": "4d7db33624d733fb"
  },
  {
   "cell_type": "markdown",
   "source": [
    "И мы хотим декорировать простую функцию, которая возвращает значение:"
   ],
   "metadata": {
    "collapsed": false
   },
   "id": "209f6ded20987322"
  },
  {
   "cell_type": "code",
   "execution_count": 25,
   "outputs": [],
   "source": [
    "@talk\n",
    "def greet(name):\n",
    "    return f'Hello {name}!'"
   ],
   "metadata": {
    "collapsed": false,
    "ExecuteTime": {
     "end_time": "2025-02-03T08:33:44.184119Z",
     "start_time": "2025-02-03T08:33:44.177035600Z"
    }
   },
   "id": "ba66d69ae7f68497"
  },
  {
   "cell_type": "code",
   "execution_count": 26,
   "outputs": [
    {
     "name": "stdout",
     "output_type": "stream",
     "text": [
      "---------------\n",
      "---------------\n",
      "None\n"
     ]
    }
   ],
   "source": [
    "print(greet('Timur'))"
   ],
   "metadata": {
    "collapsed": false,
    "ExecuteTime": {
     "end_time": "2025-02-03T08:33:51.717301Z",
     "start_time": "2025-02-03T08:33:51.709746900Z"
    }
   },
   "id": "33d8d4d0abec228b"
  },
  {
   "cell_type": "markdown",
   "source": [
    "Декоратор съел возвращаемое значение из функции greet(), так как вложенная функция wrapper() явно не возвращает какого-либо значения, и в итоге вызов декорируемой функции greet('Timur') в примере выше вернул значение None."
   ],
   "metadata": {
    "collapsed": false
   },
   "id": "d610bfbe4e9595fc"
  },
  {
   "cell_type": "markdown",
   "source": [
    "Чтобы исправить этот недочет, необходимо сделать так, чтобы вложенная функция wrapper() возвращала задекорированное значение, которое, в свою очередь, возвращает функция. Изменим декоратор talk() следующим образом:"
   ],
   "metadata": {
    "collapsed": false
   },
   "id": "574f97c437bad81e"
  },
  {
   "cell_type": "code",
   "execution_count": 27,
   "outputs": [],
   "source": [
    "def talk(func):\n",
    "    def wrapper(*args, **kwargs):\n",
    "        dash = '-' * 15\n",
    "        result = func(*args, **kwargs)\n",
    "        return dash + '\\n' + result + '\\n' + dash\n",
    "\n",
    "    return wrapper"
   ],
   "metadata": {
    "collapsed": false,
    "ExecuteTime": {
     "end_time": "2025-02-03T08:36:52.744969700Z",
     "start_time": "2025-02-03T08:36:52.737422200Z"
    }
   },
   "id": "870bd9f276342713"
  },
  {
   "cell_type": "code",
   "execution_count": 28,
   "outputs": [
    {
     "name": "stdout",
     "output_type": "stream",
     "text": [
      "---------------\n",
      "Hello Timur!\n",
      "---------------\n"
     ]
    }
   ],
   "source": [
    "@talk\n",
    "def greet(name):\n",
    "    return f'Hello {name}!'\n",
    "\n",
    "\n",
    "print(greet('Timur'))"
   ],
   "metadata": {
    "collapsed": false,
    "ExecuteTime": {
     "end_time": "2025-02-03T08:36:59.657911Z",
     "start_time": "2025-02-03T08:36:59.648212600Z"
    }
   },
   "id": "315b55b097aa2074"
  },
  {
   "cell_type": "markdown",
   "source": [
    "Примечания"
   ],
   "metadata": {
    "collapsed": false
   },
   "id": "888e47c6756e90ac"
  },
  {
   "cell_type": "markdown",
   "source": [
    "Примечание 2. Преимущество ручного декорирования (без использования @) в том, что оно позволяет использовать обе версии функции: начальную и декорированную."
   ],
   "metadata": {
    "collapsed": false
   },
   "id": "d65c177857bbca73"
  },
  {
   "cell_type": "markdown",
   "source": [
    "Примечание 4. Наглядное представление декоратора:"
   ],
   "metadata": {
    "collapsed": false
   },
   "id": "3ce1887c124785c0"
  },
  {
   "cell_type": "code",
   "execution_count": 29,
   "outputs": [
    {
     "data": {
      "image/png": "[encoded data removed]",
      "text/plain": "<IPython.core.display.Image object>"
     },
     "metadata": {},
     "output_type": "display_data"
    }
   ],
   "source": [
    "picture('image (2).png')"
   ],
   "metadata": {
    "collapsed": false,
    "ExecuteTime": {
     "end_time": "2025-02-03T08:39:00.776939500Z",
     "start_time": "2025-02-03T08:39:00.770024600Z"
    }
   },
   "id": "ade990e0c01a72c8"
  },
  {
   "cell_type": "code",
   "execution_count": 32,
   "outputs": [
    {
     "name": "stdout",
     "output_type": "stream",
     "text": [
      "beegeek\n",
      "BEEGEEK\n"
     ]
    }
   ],
   "source": [
    "def make_upper(func):\n",
    "    def wrapper():\n",
    "        return func().upper()\n",
    "\n",
    "    return wrapper\n",
    "\n",
    "\n",
    "def beegeek():\n",
    "    return 'beegeek'\n",
    "\n",
    "\n",
    "new_beegeek = make_upper(beegeek)\n",
    "\n",
    "print(beegeek())\n",
    "print(new_beegeek())"
   ],
   "metadata": {
    "collapsed": false,
    "ExecuteTime": {
     "end_time": "2025-02-03T08:59:38.959667100Z",
     "start_time": "2025-02-03T08:59:38.948661100Z"
    }
   },
   "id": "e41b81a79eb010cf"
  },
  {
   "cell_type": "code",
   "execution_count": 33,
   "outputs": [
    {
     "name": "stdout",
     "output_type": "stream",
     "text": [
      "beegeek\n"
     ]
    }
   ],
   "source": [
    "def make_lower(func):\n",
    "    def wrapper():\n",
    "        return func().lower()\n",
    "\n",
    "    return wrapper\n",
    "\n",
    "\n",
    "def make_capitalize(func):\n",
    "    def wrapper():\n",
    "        return func().capitalize()\n",
    "\n",
    "    return wrapper\n",
    "\n",
    "\n",
    "def beegeek():\n",
    "    return 'BEEGEEK'\n",
    "\n",
    "\n",
    "beegeek = make_lower(make_capitalize(beegeek))\n",
    "\n",
    "print(beegeek())"
   ],
   "metadata": {
    "collapsed": false,
    "ExecuteTime": {
     "end_time": "2025-02-03T09:10:53.773371700Z",
     "start_time": "2025-02-03T09:10:53.562062300Z"
    }
   },
   "id": "a0500200578d8fa7"
  },
  {
   "cell_type": "code",
   "execution_count": 34,
   "outputs": [
    {
     "name": "stdout",
     "output_type": "stream",
     "text": [
      "eegeekeegeek\n"
     ]
    }
   ],
   "source": [
    "def double(func):\n",
    "    def wrapper():\n",
    "        return func() * 2\n",
    "\n",
    "    return wrapper\n",
    "\n",
    "\n",
    "def del_first_char(func):\n",
    "    def wrapper():\n",
    "        return func()[1:]\n",
    "\n",
    "    return wrapper\n",
    "\n",
    "\n",
    "@double\n",
    "@del_first_char\n",
    "def beegeek():\n",
    "    return 'beegeek'\n",
    "\n",
    "\n",
    "print(beegeek())"
   ],
   "metadata": {
    "collapsed": false,
    "ExecuteTime": {
     "end_time": "2025-02-03T09:11:51.043002300Z",
     "start_time": "2025-02-03T09:11:50.871720300Z"
    }
   },
   "id": "b62c9ac873e0fe69"
  },
  {
   "cell_type": "code",
   "execution_count": 35,
   "outputs": [
    {
     "ename": "TypeError",
     "evalue": "add_dollar_prefix.<locals>.wrapper() takes 0 positional arguments but 1 was given",
     "output_type": "error",
     "traceback": [
      "\u001B[1;31m---------------------------------------------------------------------------\u001B[0m",
      "\u001B[1;31mTypeError\u001B[0m                                 Traceback (most recent call last)",
      "Cell \u001B[1;32mIn[35], line 13\u001B[0m\n\u001B[0;32m     10\u001B[0m     prices \u001B[38;5;241m=\u001B[39m {\u001B[38;5;124m'\u001B[39m\u001B[38;5;124mcomic book\u001B[39m\u001B[38;5;124m'\u001B[39m: \u001B[38;5;241m5\u001B[39m, \u001B[38;5;124m'\u001B[39m\u001B[38;5;124mpuzzle\u001B[39m\u001B[38;5;124m'\u001B[39m: \u001B[38;5;241m15\u001B[39m}\n\u001B[0;32m     11\u001B[0m     \u001B[38;5;28;01mreturn\u001B[39;00m prices[item]\n\u001B[1;32m---> 13\u001B[0m \u001B[38;5;28mprint\u001B[39m(\u001B[43mget_price\u001B[49m\u001B[43m(\u001B[49m\u001B[38;5;124;43m'\u001B[39;49m\u001B[38;5;124;43mcomic book\u001B[39;49m\u001B[38;5;124;43m'\u001B[39;49m\u001B[43m)\u001B[49m)\n",
      "\u001B[1;31mTypeError\u001B[0m: add_dollar_prefix.<locals>.wrapper() takes 0 positional arguments but 1 was given"
     ]
    }
   ],
   "source": [
    "def add_dollar_prefix(func):\n",
    "    def wrapper():\n",
    "        result = str(func())\n",
    "        return '$' + result\n",
    "\n",
    "    return wrapper\n",
    "\n",
    "\n",
    "@add_dollar_prefix\n",
    "def get_price(item):\n",
    "    prices = {'comic book': 5, 'puzzle': 15}\n",
    "    return prices[item]\n",
    "\n",
    "\n",
    "print(get_price('comic book'))"
   ],
   "metadata": {
    "collapsed": false,
    "ExecuteTime": {
     "end_time": "2025-02-03T09:52:15.643910200Z",
     "start_time": "2025-02-03T09:52:15.631371200Z"
    }
   },
   "id": "2de0fbfa815aa2aa"
  },
  {
   "cell_type": "code",
   "execution_count": 38,
   "outputs": [
    {
     "name": "stdout",
     "output_type": "stream",
     "text": [
      "$16\n"
     ]
    }
   ],
   "source": [
    "def add_dollar_prefix(func):\n",
    "    def wrapper(*args, **kwargs):\n",
    "        result = str(func(*args, **kwargs))\n",
    "        return '$' + result\n",
    "\n",
    "    return wrapper\n",
    "\n",
    "\n",
    "@add_dollar_prefix\n",
    "def get_price(item, discount=0):\n",
    "    prices = {'comic book': 5, 'puzzle': 20}\n",
    "    return prices[item] - discount\n",
    "\n",
    "\n",
    "print(get_price('puzzle', discount=4))"
   ],
   "metadata": {
    "collapsed": false,
    "ExecuteTime": {
     "end_time": "2025-02-03T10:00:44.359240Z",
     "start_time": "2025-02-03T10:00:44.338405100Z"
    }
   },
   "id": "d3896f1f6c37eab9"
  },
  {
   "cell_type": "markdown",
   "source": [
    "Декоратор sandwich\n",
    "Реализуйте декоратор sandwich, который выводит тексты:\n",
    "\n",
    "---- Верхний ломтик хлеба ----\n",
    "---- Нижний ломтик хлеба ----\n",
    "до и после вызова декорируемой функции соответственно.\n",
    "\n",
    "Примечание 1. Не забывайте про то, что декоратор не должен поглощать возвращаемое значение декорируемой функции, а также должен уметь декорировать функции с произвольным количеством позиционных и именованных аргументов.\n",
    "\n",
    "Примечание 2. В тестирующую систему сдайте программу, содержащую только необходимый декоратор sandwich, но не код, вызывающий его."
   ],
   "metadata": {
    "collapsed": false
   },
   "id": "7d782eb8a951bc47"
  },
  {
   "cell_type": "code",
   "execution_count": 46,
   "outputs": [
    {
     "name": "stdout",
     "output_type": "stream",
     "text": [
      "---- Верхний ломтик хлеба ----\n",
      "томат | салат | сыр | бекон\n",
      "---- Нижний ломтик хлеба ----\n",
      "---- Верхний ломтик хлеба ----\n",
      "---- Нижний ломтик хлеба ----\n",
      "beegeek\n"
     ]
    }
   ],
   "source": [
    "def sandwich(func):\n",
    "    def wrapper(*args, **kwargs):\n",
    "        print('---- Верхний ломтик хлеба ----')\n",
    "        result = func(*args, **kwargs)\n",
    "        print('---- Нижний ломтик хлеба ----')\n",
    "        return result\n",
    "\n",
    "    return wrapper\n",
    "\n",
    "\n",
    "@sandwich\n",
    "def add_ingredients(ingredients):\n",
    "    print(' | '.join(ingredients))\n",
    "\n",
    "\n",
    "add_ingredients(['томат', 'салат', 'сыр', 'бекон'])\n",
    "\n",
    "\n",
    "@sandwich\n",
    "def beegeek():\n",
    "    return 'beegeek'\n",
    "\n",
    "\n",
    "print(beegeek())"
   ],
   "metadata": {
    "collapsed": false,
    "ExecuteTime": {
     "end_time": "2025-02-03T14:03:57.342910300Z",
     "start_time": "2025-02-03T14:03:57.324997100Z"
    }
   },
   "id": "2015d0344168f59a"
  },
  {
   "cell_type": "markdown",
   "source": [
    "Новый print"
   ],
   "metadata": {
    "collapsed": false
   },
   "id": "de3d29c898025f6b"
  },
  {
   "cell_type": "markdown",
   "source": [
    "Напишите программу с использованием декоратора, которая переопределяет функцию print() так, чтобы она печатала весь текст в верхнем регистре.\n",
    "\n",
    "Формат входных данных\n",
    "На вход программе ничего не подается.\n",
    "\n",
    "Формат выходных данных\n",
    "Программа должна задекорировать функцию print() так, чтобы она печатала весь текст в верхнем регистре.\n",
    "\n",
    "Примечание 1. Значения sep и end также должны переводиться в верхний регистр.\n",
    "\n",
    "Примечание 2. Не забывайте про то, что декоратор не должен поглощать возвращаемое значение декорируемой функции, а также должен уметь декорировать функции с произвольным количеством позиционных и именованных аргументов."
   ],
   "metadata": {
    "collapsed": false
   },
   "id": "cd2ac974bd77bd2e"
  },
  {
   "cell_type": "code",
   "execution_count": null,
   "outputs": [],
   "source": [
    "# wrapper возвращает None, но в процессе при присвоении result = func(*args, **kwargs) вызывает print, который печатает строку\n",
    "def new_print(func):\n",
    "    def wrapper(*args, **kwargs):\n",
    "        new_args = (i.upper() if isinstance(i, str) else i for i in args)\n",
    "        new_kwargs = {k: v.upper() if isinstance(v, str) else v for k, v in kwargs.items()}\n",
    "        result = func(*new_args, **new_kwargs)\n",
    "        return result\n",
    "\n",
    "    return wrapper\n",
    "\n",
    "\n",
    "print = new_print(print)\n",
    "\n",
    "print('hi', 'there', end='!')"
   ],
   "metadata": {
    "collapsed": false
   },
   "id": "5023c03f753771cd"
  },
  {
   "cell_type": "markdown",
   "source": [
    "Декоратор do_twice\n",
    "Реализуйте декоратор do_twice, вызывающий декорируемую функцию два раза.\n",
    "\n",
    "Примечание 1. Не забывайте про то, что декоратор не должен поглощать возвращаемое значение декорируемой функции, а также должен уметь декорировать функции с произвольным количеством позиционных и именованных аргументов.\n",
    "\n",
    "Примечание 2. В тестирующую систему сдайте программу, содержащую только необходимый декоратор do_twice, но не код, вызывающий его. "
   ],
   "metadata": {
    "collapsed": false
   },
   "id": "9bb888a8b5c3ba13"
  },
  {
   "cell_type": "code",
   "execution_count": 60,
   "outputs": [
    {
     "name": "stdout",
     "output_type": "stream",
     "text": [
      "13\n",
      "13\n"
     ]
    }
   ],
   "source": [
    "def do_twice(func):\n",
    "    def wrapper(*args, **kwargs):\n",
    "        func(*args, **kwargs)\n",
    "        # func(*args, **kwargs)\n",
    "        return func(*args, **kwargs)\n",
    "\n",
    "    return wrapper\n",
    "\n",
    "\n",
    "# @do_twice\n",
    "# def beegeek():\n",
    "#     print('beegeek')\n",
    "# \n",
    "# beegeek()\n",
    "\n",
    "# @do_twice\n",
    "# def beegeek():\n",
    "#     print('beegeek')\n",
    "# \n",
    "# print(beegeek())\n",
    "\n",
    "@do_twice\n",
    "def beegeek(a, b, sep):\n",
    "    print(a + b + sep)\n",
    "\n",
    "\n",
    "beegeek(1, 2, sep=10)"
   ],
   "metadata": {
    "collapsed": false,
    "ExecuteTime": {
     "end_time": "2025-02-11T07:39:58.288537600Z",
     "start_time": "2025-02-11T07:39:58.270537Z"
    }
   },
   "id": "c8b9030b16ceb15a"
  },
  {
   "cell_type": "markdown",
   "source": [
    "Декоратор reverse_args\n",
    "Реализуйте декоратор reverse_args, который передает все позиционные аргументы в декорируемую функцию func в обратном порядке.\n",
    "\n",
    "Примечание 1. Не забывайте про то, что декоратор не должен поглощать возвращаемое значение декорируемой функции, а также должен уметь декорировать функции с произвольным количеством позиционных и именованных аргументов.\n",
    "\n",
    "Примечание 2. В тестирующую систему сдайте программу, содержащую только необходимый декоратор reverse_args, но не код, вызывающий его"
   ],
   "metadata": {
    "collapsed": false
   },
   "id": "790b1428c56b80eb"
  },
  {
   "cell_type": "code",
   "execution_count": 64,
   "outputs": [
    {
     "name": "stdout",
     "output_type": "stream",
     "text": [
      "9\n"
     ]
    }
   ],
   "source": [
    "def reverse_args(func):\n",
    "    def wrapper(*args, **kwargs):\n",
    "        args = args[::-1]\n",
    "        return func(*args, **kwargs)\n",
    "\n",
    "    return wrapper\n",
    "\n",
    "\n",
    "@reverse_args\n",
    "def power(a, n):\n",
    "    return a ** n\n",
    "\n",
    "\n",
    "print(power(2, 3))"
   ],
   "metadata": {
    "collapsed": false,
    "ExecuteTime": {
     "end_time": "2025-02-11T08:41:48.004983800Z",
     "start_time": "2025-02-11T08:41:47.985962500Z"
    }
   },
   "id": "1785277879a9d5ce"
  },
  {
   "cell_type": "markdown",
   "source": [
    "Декоратор exception_decorator\n",
    "Реализуйте декоратор exception_decorator, который возвращает\n",
    "\n",
    "кортеж (value, 'Функция выполнилась без ошибок'), если декорируемая функция завершила свою работу без ошибок, где value — возвращаемое значение декорируемой функции\n",
    "кортеж (None, 'При вызове функции произошла ошибка'), если при выполнении декорируемой функции возникла ошибка\n",
    "Примечание 1. Не забывайте про то, что декоратор не должен поглощать возвращаемое значение декорируемой функции, а также должен уметь декорировать функции с произвольным количеством позиционных и именованных аргументов.\n",
    "\n",
    "Примечание 2. В тестирующую систему сдайте программу, содержащую только необходимый декоратор exception_decorator, но не код, вызывающий его. "
   ],
   "metadata": {
    "collapsed": false
   },
   "id": "742c919178fe8b7a"
  },
  {
   "cell_type": "code",
   "execution_count": 1,
   "outputs": [
    {
     "name": "stdout",
     "output_type": "stream",
     "text": [
      "(64, 'Функция выполнилась без ошибок')\n",
      "(None, 'При вызове функции произошла ошибка')\n"
     ]
    }
   ],
   "source": [
    "def exception_decorator(func):\n",
    "    def wrapper(*args, **kwargs):\n",
    "        try:\n",
    "            return func(*args, **kwargs), 'Функция выполнилась без ошибок'\n",
    "        except TypeError:\n",
    "            return (None, 'При вызове функции произошла ошибка')\n",
    "\n",
    "    return wrapper\n",
    "\n",
    "\n",
    "@exception_decorator\n",
    "def f(x):\n",
    "    return x ** 2 + 2 * x + 1\n",
    "\n",
    "\n",
    "print(f(7))\n",
    "\n",
    "sum = exception_decorator(sum)\n",
    "\n",
    "print(sum(['199', '1', 187]))"
   ],
   "metadata": {
    "collapsed": false,
    "ExecuteTime": {
     "end_time": "2025-02-11T08:52:58.762496900Z",
     "start_time": "2025-02-11T08:52:58.759432100Z"
    }
   },
   "id": "127d387a0abe09fe"
  },
  {
   "cell_type": "markdown",
   "source": [
    "Декоратор takes_positive\n",
    "Реализуйте декоратор takes_positive, который проверяет, что все аргументы, передаваемые в декорируемую функцию, являются положительными целыми числами.\n",
    "\n",
    "Если хотя бы один аргумент не удовлетворяет данному условию, декоратор должен возбуждать исключение:\n",
    "\n",
    "TypeError, если аргумент не является целым числом\n",
    "ValueError, если аргумент является целым числом, но отрицательным или равным нулю\n",
    "Примечание 1. Приоритет возбуждения исключений при несоответствии аргумента обоим условиям или при наличии разных аргументов, несоответствующих разным условиям: TypeError, затем ValueError.\n",
    "\n",
    "Примечание 2. Не забывайте про то, что декоратор не должен поглощать возвращаемое значение декорируемой функции, а также должен уметь декорировать функции с произвольным количеством позиционных и именованных аргументов.\n",
    "\n",
    "Примечание 3. В тестирующую систему сдайте программу, содержащую только необходимый декоратор takes_positive, но не код, вызывающий его."
   ],
   "metadata": {
    "collapsed": false
   },
   "id": "4d76b2ca434bb658"
  },
  {
   "cell_type": "code",
   "execution_count": 4,
   "outputs": [
    {
     "name": "stdout",
     "output_type": "stream",
     "text": [
      "60\n"
     ]
    }
   ],
   "source": [
    "def takes_positive(func):\n",
    "    def wrapper(*args, **kwargs):\n",
    "        if not all(isinstance(i, int) for i in args):\n",
    "            raise TypeError\n",
    "        if not all(isinstance(i, int) for i in kwargs.values()):\n",
    "            raise TypeError\n",
    "        elif any(i <= 0 for i in args) or any(i <= 0 for i in kwargs.values()):\n",
    "            raise ValueError\n",
    "        else:\n",
    "            return func(*args, **kwargs)\n",
    "\n",
    "    return wrapper\n",
    "\n",
    "\n",
    "# @takes_positive\n",
    "# def positive_sum(*args):\n",
    "#     return sum(args)\n",
    "# \n",
    "# \n",
    "# print(positive_sum(1, 2, 3, 4, 5, 6, 7, 8, 9, 10))\n",
    "# \n",
    "# @takes_positive\n",
    "# def positive_sum(*args):\n",
    "#     return sum(args)\n",
    "#     \n",
    "# try:\n",
    "#     print(positive_sum(-3, -2, -1, 0, 1, 2, 3))\n",
    "# except Exception as err:\n",
    "#     print(type(err))\n",
    "#     \n",
    "# @takes_positive\n",
    "# def positive_sum(*args):\n",
    "#     return sum(args)\n",
    "#     \n",
    "# try:\n",
    "#     print(positive_sum('10', 20, 10))\n",
    "# except Exception as err:\n",
    "#     print(type(err))\n",
    "    \n",
    "# @takes_positive\n",
    "# def positive_sum(*args, **kwargs):\n",
    "#     return sum(args) + sum(kwargs.values())\n",
    "#     \n",
    "# try:\n",
    "#     print(positive_sum(1, 2, 3, 4, 5, 6, 7, 8, 9, 10, par1=1, sep=-40))\n",
    "# except Exception as err:\n",
    "#     print(type(err))\n",
    "\n",
    "@takes_positive\n",
    "def positive_sum(*args, **kwargs):\n",
    "    return sum(args) + sum(kwargs.values())\n",
    "    \n",
    "print(positive_sum(1, 2, 3, 4, 5, 6, 7, 8, 9, 10, par1=1, sep=4))"
   ],
   "metadata": {
    "collapsed": false,
    "ExecuteTime": {
     "end_time": "2025-02-11T09:11:35.851290Z",
     "start_time": "2025-02-11T09:11:35.832045200Z"
    }
   },
   "id": "e470e880c4ef2094"
  },
  {
   "cell_type": "code",
   "execution_count": null,
   "outputs": [],
   "source": [
    "def takes_positive(func):\n",
    "    def wrapper(*args, **kwargs):\n",
    "        for i in [*args, *kwargs.values()]:\n",
    "            if not type(i) is int:\n",
    "                raise TypeError\n",
    "            elif i <= 0:\n",
    "                raise ValueError\n",
    "        return func(*args, **kwargs)\n",
    "    return wrapper"
   ],
   "metadata": {
    "collapsed": false
   },
   "id": "3fb7343b25a8419a"
  }
 ],
 "metadata": {
  "kernelspec": {
   "display_name": "Python 3",
   "language": "python",
   "name": "python3"
  },
  "language_info": {
   "codemirror_mode": {
    "name": "ipython",
    "version": 2
   },
   "file_extension": ".py",
   "mimetype": "text/x-python",
   "name": "python",
   "nbconvert_exporter": "python",
   "pygments_lexer": "ipython2",
   "version": "2.7.6"
  }
 },
 "nbformat": 4,
 "nbformat_minor": 5
}

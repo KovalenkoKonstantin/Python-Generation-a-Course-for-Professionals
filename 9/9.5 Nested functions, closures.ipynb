{
 "cells": [
  {
   "cell_type": "markdown",
   "source": [
    "Тема урока: вложенные функции, замыкания\n",
    "Вложенные функции\n",
    "Замыкания\n",
    "Ключевое слово nonlocal\n",
    "Атрибут __closure__\n",
    "Аннотация. Урок посвящен вложенным функциям и замыканиям."
   ],
   "metadata": {
    "collapsed": false
   },
   "id": "db9645032486503"
  },
  {
   "cell_type": "markdown",
   "source": [
    "Вложенные функции"
   ],
   "metadata": {
    "collapsed": false
   },
   "id": "e5c2f2773303f005"
  },
  {
   "cell_type": "code",
   "execution_count": 4,
   "outputs": [
    {
     "data": {
      "text/plain": "['ArithmeticError',\n 'AssertionError',\n 'AttributeError',\n 'BaseException',\n 'BaseExceptionGroup',\n 'BlockingIOError',\n 'BrokenPipeError',\n 'BufferError',\n 'BytesWarning',\n 'ChildProcessError',\n 'ConnectionAbortedError',\n 'ConnectionError',\n 'ConnectionRefusedError',\n 'ConnectionResetError',\n 'DeprecationWarning',\n 'EOFError',\n 'Ellipsis',\n 'EncodingWarning',\n 'EnvironmentError',\n 'Exception',\n 'ExceptionGroup',\n 'False',\n 'FileExistsError',\n 'FileNotFoundError',\n 'FloatingPointError',\n 'FutureWarning',\n 'GeneratorExit',\n 'IOError',\n 'ImportError',\n 'ImportWarning',\n 'IndentationError',\n 'IndexError',\n 'InterruptedError',\n 'IsADirectoryError',\n 'KeyError',\n 'KeyboardInterrupt',\n 'LookupError',\n 'MemoryError',\n 'ModuleNotFoundError',\n 'NameError',\n 'None',\n 'NotADirectoryError',\n 'NotImplemented',\n 'NotImplementedError',\n 'OSError',\n 'OverflowError',\n 'PendingDeprecationWarning',\n 'PermissionError',\n 'ProcessLookupError',\n 'RecursionError',\n 'ReferenceError',\n 'ResourceWarning',\n 'RuntimeError',\n 'RuntimeWarning',\n 'StopAsyncIteration',\n 'StopIteration',\n 'SyntaxError',\n 'SyntaxWarning',\n 'SystemError',\n 'SystemExit',\n 'TabError',\n 'TimeoutError',\n 'True',\n 'TypeError',\n 'UnboundLocalError',\n 'UnicodeDecodeError',\n 'UnicodeEncodeError',\n 'UnicodeError',\n 'UnicodeTranslateError',\n 'UnicodeWarning',\n 'UserWarning',\n 'ValueError',\n 'Warning',\n 'WindowsError',\n 'ZeroDivisionError',\n '__IPYTHON__',\n '__build_class__',\n '__debug__',\n '__doc__',\n '__import__',\n '__loader__',\n '__name__',\n '__package__',\n '__spec__',\n 'abs',\n 'aiter',\n 'all',\n 'anext',\n 'any',\n 'ascii',\n 'bin',\n 'bool',\n 'breakpoint',\n 'bytearray',\n 'bytes',\n 'callable',\n 'chr',\n 'classmethod',\n 'compile',\n 'complex',\n 'copyright',\n 'credits',\n 'delattr',\n 'dict',\n 'dir',\n 'display',\n 'divmod',\n 'enumerate',\n 'eval',\n 'exec',\n 'execfile',\n 'filter',\n 'float',\n 'format',\n 'frozenset',\n 'get_ipython',\n 'getattr',\n 'globals',\n 'hasattr',\n 'hash',\n 'help',\n 'hex',\n 'id',\n 'input',\n 'int',\n 'isinstance',\n 'issubclass',\n 'iter',\n 'len',\n 'license',\n 'list',\n 'locals',\n 'map',\n 'max',\n 'memoryview',\n 'min',\n 'next',\n 'object',\n 'oct',\n 'open',\n 'ord',\n 'pow',\n 'print',\n 'property',\n 'range',\n 'repr',\n 'reversed',\n 'round',\n 'runfile',\n 'set',\n 'setattr',\n 'slice',\n 'sorted',\n 'staticmethod',\n 'str',\n 'sum',\n 'super',\n 'tuple',\n 'type',\n 'vars',\n 'zip']"
     },
     "execution_count": 4,
     "metadata": {},
     "output_type": "execute_result"
    }
   ],
   "source": [
    "dir(__builtin__)"
   ],
   "metadata": {
    "collapsed": false,
    "ExecuteTime": {
     "end_time": "2025-01-27T06:29:27.064842600Z",
     "start_time": "2025-01-27T06:29:27.060076300Z"
    }
   },
   "id": "9d865e90f1464d32"
  },
  {
   "cell_type": "code",
   "execution_count": 5,
   "outputs": [
    {
     "data": {
      "text/plain": "100"
     },
     "execution_count": 5,
     "metadata": {},
     "output_type": "execute_result"
    }
   ],
   "source": [
    "def power_factory(exp):\n",
    "    def power(base):\n",
    "        return base ** exp\n",
    "\n",
    "    return power\n",
    "\n",
    "\n",
    "square = power_factory(2)\n",
    "square(10)"
   ],
   "metadata": {
    "collapsed": false,
    "ExecuteTime": {
     "end_time": "2025-01-27T07:13:32.438163400Z",
     "start_time": "2025-01-27T07:13:32.412438800Z"
    }
   },
   "id": "1876d001a1dd1ec"
  },
  {
   "cell_type": "markdown",
   "source": [
    "Функция power является замыканием (closure). Это значит, что она сохраняет ссылку на значение переменной exp из окружающей области видимости, когда она была создана. Даже после того как выполнение покидает область power_factory, функция power продолжает иметь доступ к значению exp, которое было передано при её создании."
   ],
   "metadata": {
    "collapsed": false
   },
   "id": "6e5a091671b13158"
  },
  {
   "cell_type": "code",
   "execution_count": 7,
   "outputs": [
    {
     "name": "stdout",
     "output_type": "stream",
     "text": [
      "he:llo world ?!\n",
      "hello world\n"
     ]
    }
   ],
   "source": [
    "def strip_string(strip_chars=' '):\n",
    "    def do_strip(string):\n",
    "        return string.strip(strip_chars)\n",
    "\n",
    "    return do_strip\n",
    "\n",
    "\n",
    "strip1 = strip_string()\n",
    "strip2 = strip_string(' !&,.?;:')\n",
    "\n",
    "print(strip1(' he:llo world ?!'))\n",
    "print(strip2(' hello world ?!'))"
   ],
   "metadata": {
    "collapsed": false,
    "ExecuteTime": {
     "end_time": "2025-01-27T08:49:21.232787600Z",
     "start_time": "2025-01-27T08:49:21.228267800Z"
    }
   },
   "id": "f88c3df5410edf6c"
  },
  {
   "cell_type": "code",
   "execution_count": 12,
   "outputs": [
    {
     "data": {
      "text/plain": "12.25"
     },
     "execution_count": 12,
     "metadata": {},
     "output_type": "execute_result"
    }
   ],
   "source": [
    "def mean():\n",
    "    total = 0\n",
    "    length = 0\n",
    "\n",
    "    def _mean(number):\n",
    "        nonlocal total, length\n",
    "        total += number\n",
    "        length += 1\n",
    "        return total / length\n",
    "\n",
    "    return _mean\n",
    "\n",
    "\n",
    "current_mean = mean()\n",
    "current_mean(10)\n",
    "current_mean(15)\n",
    "current_mean(11)\n",
    "current_mean(13)"
   ],
   "metadata": {
    "collapsed": false,
    "ExecuteTime": {
     "end_time": "2025-01-27T08:52:21.367101900Z",
     "start_time": "2025-01-27T08:52:21.354119Z"
    }
   },
   "id": "7e0a1a3e45a763b6"
  },
  {
   "cell_type": "code",
   "execution_count": 29,
   "outputs": [
    {
     "name": "stdout",
     "output_type": "stream",
     "text": [
      "0 __name__ __main__\n",
      "1 __doc__ Automatically created module for IPython interactive environment\n",
      "2 __package__ None\n",
      "3 __loader__ None\n",
      "4 __spec__ None\n",
      "5 __builtin__ <module 'builtins' (built-in)>\n",
      "6 __builtins__ <module 'builtins' (built-in)>\n",
      "\n",
      "('_i29', 'g = globals().items()\\nfor i, (k, v) in enumerate(g):\\n    print(i, k, v)\\n    if i > 5:\\n        break\\nprint()\\nlast_item = list(g)[-1]\\nprint(last_item)')\n"
     ]
    }
   ],
   "source": [
    "g = globals().items()\n",
    "for i, (k, v) in enumerate(g):\n",
    "    print(i, k, v)\n",
    "    if i > 5:\n",
    "        break\n",
    "print()\n",
    "last_item = list(g)[-1]\n",
    "print(last_item)"
   ],
   "metadata": {
    "collapsed": false,
    "ExecuteTime": {
     "end_time": "2025-01-27T09:11:38.133865500Z",
     "start_time": "2025-01-27T09:11:38.127982Z"
    }
   },
   "id": "7cff338f777c523d"
  },
  {
   "cell_type": "code",
   "execution_count": 33,
   "outputs": [
    {
     "name": "stdout",
     "output_type": "stream",
     "text": [
      "{'arg': 300, 'var': 100}\n"
     ]
    }
   ],
   "source": [
    "def func(arg):\n",
    "    var = 100\n",
    "    print(locals())\n",
    "    another = 200\n",
    "\n",
    "\n",
    "func(300)"
   ],
   "metadata": {
    "collapsed": false,
    "ExecuteTime": {
     "end_time": "2025-01-27T09:15:05.480273600Z",
     "start_time": "2025-01-27T09:15:05.478271800Z"
    }
   },
   "id": "45d0de6493abc053"
  },
  {
   "cell_type": "code",
   "execution_count": 35,
   "outputs": [
    {
     "data": {
      "text/plain": "['In', 'Out', '_', '_1', '_10', '_11', '_12', '_13', '_16', '_2']"
     },
     "execution_count": 35,
     "metadata": {},
     "output_type": "execute_result"
    }
   ],
   "source": [
    "dir()[:10]"
   ],
   "metadata": {
    "collapsed": false,
    "ExecuteTime": {
     "end_time": "2025-01-27T09:18:40.315133500Z",
     "start_time": "2025-01-27T09:18:40.308226900Z"
    }
   },
   "id": "627fc08a348768fe"
  },
  {
   "cell_type": "code",
   "execution_count": 36,
   "outputs": [
    {
     "name": "stdout",
     "output_type": "stream",
     "text": [
      "['var']\n"
     ]
    }
   ],
   "source": [
    "def func():\n",
    "    var = 100\n",
    "    print(dir())\n",
    "    verr = 200\n",
    "\n",
    "\n",
    "func()"
   ],
   "metadata": {
    "collapsed": false,
    "ExecuteTime": {
     "end_time": "2025-01-27T09:19:52.518516100Z",
     "start_time": "2025-01-27T09:19:52.512995600Z"
    }
   },
   "id": "a43567877d8b0ca"
  },
  {
   "cell_type": "markdown",
   "source": [
    "Python позволяет определять функции внутри других функций. Их называют вложенными функциями или внутренними функциями."
   ],
   "metadata": {
    "collapsed": false
   },
   "id": "c55003d1452f25d4"
  },
  {
   "cell_type": "code",
   "execution_count": 37,
   "outputs": [
    {
     "name": "stdout",
     "output_type": "stream",
     "text": [
      "hello, world...\n"
     ]
    }
   ],
   "source": [
    "def speak(text):\n",
    "    def whisper(t):  # объявляем вложенную функцию\n",
    "        return t.lower() + '...'\n",
    "\n",
    "    return whisper(text)  # вызываем вложенную функцию и возвращаем ее результат\n",
    "\n",
    "\n",
    "print(speak('Hello, World'))"
   ],
   "metadata": {
    "collapsed": false,
    "ExecuteTime": {
     "end_time": "2025-01-27T09:21:43.678891800Z",
     "start_time": "2025-01-27T09:21:43.671379500Z"
    }
   },
   "id": "b7b71cb312951b56"
  },
  {
   "cell_type": "markdown",
   "source": [
    "Каждый раз, когда мы вызываем функцию speak(), она определяет новую внутреннюю функцию whisper(), а затем вызывает ее. При этом функция whisper() не существует вне родительской функции speak()."
   ],
   "metadata": {
    "collapsed": false
   },
   "id": "5f8c43560a3add17"
  },
  {
   "cell_type": "code",
   "execution_count": 38,
   "outputs": [
    {
     "ename": "NameError",
     "evalue": "name 'whisper' is not defined",
     "output_type": "error",
     "traceback": [
      "\u001B[1;31m---------------------------------------------------------------------------\u001B[0m",
      "\u001B[1;31mNameError\u001B[0m                                 Traceback (most recent call last)",
      "Cell \u001B[1;32mIn[38], line 1\u001B[0m\n\u001B[1;32m----> 1\u001B[0m \u001B[43mwhisper\u001B[49m(\u001B[38;5;124m'\u001B[39m\u001B[38;5;124mHello\u001B[39m\u001B[38;5;124m'\u001B[39m)\n",
      "\u001B[1;31mNameError\u001B[0m: name 'whisper' is not defined"
     ]
    }
   ],
   "source": [
    "whisper('Hello')"
   ],
   "metadata": {
    "collapsed": false,
    "ExecuteTime": {
     "end_time": "2025-01-27T09:22:18.403989900Z",
     "start_time": "2025-01-27T09:22:18.390299300Z"
    }
   },
   "id": "f98992c97286a8d1"
  },
  {
   "cell_type": "code",
   "execution_count": 39,
   "outputs": [
    {
     "ename": "AttributeError",
     "evalue": "'function' object has no attribute 'whisper'",
     "output_type": "error",
     "traceback": [
      "\u001B[1;31m---------------------------------------------------------------------------\u001B[0m",
      "\u001B[1;31mAttributeError\u001B[0m                            Traceback (most recent call last)",
      "Cell \u001B[1;32mIn[39], line 1\u001B[0m\n\u001B[1;32m----> 1\u001B[0m \u001B[43mspeak\u001B[49m\u001B[38;5;241;43m.\u001B[39;49m\u001B[43mwhisper\u001B[49m(\u001B[38;5;124m'\u001B[39m\u001B[38;5;124mHello\u001B[39m\u001B[38;5;124m'\u001B[39m)\n",
      "\u001B[1;31mAttributeError\u001B[0m: 'function' object has no attribute 'whisper'"
     ]
    }
   ],
   "source": [
    "speak.whisper('Hello')"
   ],
   "metadata": {
    "collapsed": false,
    "ExecuteTime": {
     "end_time": "2025-01-27T09:22:28.085474900Z",
     "start_time": "2025-01-27T09:22:28.077434500Z"
    }
   },
   "id": "ffacacd39e167cd1"
  },
  {
   "cell_type": "markdown",
   "source": [
    "Если нам нужно получить доступ к вложенной функции whisper() извне, то мы можем вернуть ее (вложенную функцию) вызывающей стороне родительской функции."
   ],
   "metadata": {
    "collapsed": false
   },
   "id": "4d3358acb1e95375"
  },
  {
   "cell_type": "markdown",
   "source": [
    "Функция высшего порядка get_speak_func() определяет две вложенные функции whisper() и yell(). В зависимости от аргумента volume, переданного родительской функции get_speak_func(), она выбирает и возвращает вызывающей стороне одну из вложенных функций:"
   ],
   "metadata": {
    "collapsed": false
   },
   "id": "7c691497ea97d804"
  },
  {
   "cell_type": "code",
   "execution_count": 40,
   "outputs": [],
   "source": [
    "def get_speak_func(volume):\n",
    "    def whisper(text):\n",
    "        return text.lower() + '...'\n",
    "\n",
    "    def yell(text):\n",
    "        return text.upper() + '!'\n",
    "\n",
    "    if volume > 0.5:\n",
    "        return yell\n",
    "    else:\n",
    "        return whisper"
   ],
   "metadata": {
    "collapsed": false,
    "ExecuteTime": {
     "end_time": "2025-01-27T09:23:10.233473800Z",
     "start_time": "2025-01-27T09:23:10.225952800Z"
    }
   },
   "id": "c4b4a2890ee34d3"
  },
  {
   "cell_type": "markdown",
   "source": [
    "Обратите внимание на то, что функция get_speak_func() на самом деле не вызывает одну из своих вложенных функций — она просто выбирает подходящую функцию на основе аргумента volume, а затем возвращает объект этой функции."
   ],
   "metadata": {
    "collapsed": false
   },
   "id": "7a4f406c988d9280"
  },
  {
   "cell_type": "code",
   "execution_count": 41,
   "outputs": [
    {
     "name": "stdout",
     "output_type": "stream",
     "text": [
      "hello...\n",
      "HELLO!\n"
     ]
    }
   ],
   "source": [
    "whisper = get_speak_func(0.3)  # функция whisper()\n",
    "yell = get_speak_func(0.7)  # функция yell()\n",
    "\n",
    "print(whisper('Hello'))  # говорим шепотом\n",
    "print(yell('Hello'))  # кричим"
   ],
   "metadata": {
    "collapsed": false,
    "ExecuteTime": {
     "end_time": "2025-01-27T09:23:57.641264600Z",
     "start_time": "2025-01-27T09:23:57.639747Z"
    }
   },
   "id": "e53e24db6a085024"
  },
  {
   "cell_type": "markdown",
   "source": [
    "Таким образом, функции не только могут принимать поведение через аргументы, но также могут возвращать поведение."
   ],
   "metadata": {
    "collapsed": false
   },
   "id": "17817ea301e4f639"
  },
  {
   "cell_type": "markdown",
   "source": [
    "Замыкания"
   ],
   "metadata": {
    "collapsed": false
   },
   "id": "24591b2c2df6c02f"
  },
  {
   "cell_type": "markdown",
   "source": [
    "Вложенные функции могут захватывать и переносить с собой часть состояния родительской функции.\n",
    "\n",
    "Перепишем немного функцию get_speak_func(), чтобы новая версия сразу принимала два аргумента volume и text:"
   ],
   "metadata": {
    "collapsed": false
   },
   "id": "29869a29d5175d37"
  },
  {
   "cell_type": "code",
   "execution_count": 42,
   "outputs": [],
   "source": [
    "def get_speak_func(text, volume):\n",
    "    def whisper():\n",
    "        return text.lower() + '...'\n",
    "\n",
    "    def yell():\n",
    "        return text.upper() + '!'\n",
    "\n",
    "    if volume > 0.5:\n",
    "        return yell\n",
    "    else:\n",
    "        return whisper"
   ],
   "metadata": {
    "collapsed": false,
    "ExecuteTime": {
     "end_time": "2025-01-27T09:24:49.328628500Z",
     "start_time": "2025-01-27T09:24:49.320402400Z"
    }
   },
   "id": "ccd9f46a978c9cb4"
  },
  {
   "cell_type": "code",
   "execution_count": 43,
   "outputs": [
    {
     "name": "stdout",
     "output_type": "stream",
     "text": [
      "HELLO, WORLD!\n"
     ]
    }
   ],
   "source": [
    "yell = get_speak_func('Hello, World', 0.7)\n",
    "\n",
    "print(yell())"
   ],
   "metadata": {
    "collapsed": false,
    "ExecuteTime": {
     "end_time": "2025-01-27T09:25:14.504523100Z",
     "start_time": "2025-01-27T09:25:14.501997300Z"
    }
   },
   "id": "cda7d65d4173478c"
  },
  {
   "cell_type": "markdown",
   "source": [
    "Теперь вложенные функции whisper() и yell() не имеют параметра text. Они его получают и используют через родительскую функцию get_speak_func(). Функции, которые делают это, называются замыканиями. Замыкание запоминает значения из включающей его области, даже если поток программы больше не находится в этой области."
   ],
   "metadata": {
    "collapsed": false
   },
   "id": "a45372690e432a92"
  },
  {
   "cell_type": "markdown",
   "source": [
    "Таким образом, замыкание — это особый вид функции. Она определена в теле другой функции и создаётся каждый раз во время её выполнения. Синтаксически это выглядит как функция, находящаяся целиком в теле другой функции. При этом вложенная функция содержит ссылки на локальные переменные внешней функции. Каждый раз при выполнении внешней функции происходит создание нового экземпляра внутренней функции, с новыми ссылками на переменные внешней функции."
   ],
   "metadata": {
    "collapsed": false
   },
   "id": "7e6eca315f39e2ea"
  },
  {
   "cell_type": "code",
   "execution_count": 44,
   "outputs": [
    {
     "name": "stdout",
     "output_type": "stream",
     "text": [
      "1\n",
      "2\n",
      "1\n",
      "3\n"
     ]
    }
   ],
   "source": [
    "def closure():\n",
    "    count = 0\n",
    "\n",
    "    def inner():\n",
    "        nonlocal count\n",
    "        count += 1\n",
    "        print(count)\n",
    "\n",
    "    return inner\n",
    "\n",
    "\n",
    "start = closure()\n",
    "another = closure()  # другое замыкание, со своими локальными значениями\n",
    "\n",
    "start()  # выводит 1\n",
    "start()  # выводит 2\n",
    "\n",
    "another()  # выводит 1\n",
    "\n",
    "start()  # выводит 3"
   ],
   "metadata": {
    "collapsed": false,
    "ExecuteTime": {
     "end_time": "2025-01-27T09:26:42.396135400Z",
     "start_time": "2025-01-27T09:26:42.393606900Z"
    }
   },
   "id": "bdf5f2cb89ae0249"
  },
  {
   "cell_type": "markdown",
   "source": [
    "Замыкания очень полезны при решении многих задач. С их помощью функции могут не только возвращать поведение, но и предварительно настраивать это поведение."
   ],
   "metadata": {
    "collapsed": false
   },
   "id": "8173bf5664abb930"
  },
  {
   "cell_type": "markdown",
   "source": [
    "Пример 1. В этом примере функция greeting_creator() служит фабрикой для создания и настройки функции приветствия. Обратите внимание на то, что вложенная функция greet() может обращаться к аргументу greeting_word своей родительской функции greeting_creator()"
   ],
   "metadata": {
    "collapsed": false
   },
   "id": "9636ebb4362f13df"
  },
  {
   "cell_type": "code",
   "execution_count": 45,
   "outputs": [],
   "source": [
    "def greeting_creator(greeting_word):\n",
    "    def greet(name):\n",
    "        return f'{greeting_word}, {name}'\n",
    "\n",
    "    return greet"
   ],
   "metadata": {
    "collapsed": false,
    "ExecuteTime": {
     "end_time": "2025-01-27T09:27:22.800171200Z",
     "start_time": "2025-01-27T09:27:22.797655900Z"
    }
   },
   "id": "66b891afa79328b3"
  },
  {
   "cell_type": "code",
   "execution_count": 46,
   "outputs": [
    {
     "name": "stdout",
     "output_type": "stream",
     "text": [
      "Hi, Timur\n",
      "Hello, Soslan\n"
     ]
    }
   ],
   "source": [
    "say_hi = greeting_creator('Hi')\n",
    "say_hello = greeting_creator('Hello')\n",
    "\n",
    "print(say_hi('Timur'))\n",
    "print(say_hello('Soslan'))"
   ],
   "metadata": {
    "collapsed": false,
    "ExecuteTime": {
     "end_time": "2025-01-27T09:27:51.790291600Z",
     "start_time": "2025-01-27T09:27:51.787763200Z"
    }
   },
   "id": "d90000c0e26633f9"
  },
  {
   "cell_type": "markdown",
   "source": [
    "Пример 2. В этом примере функции make_adder() и multiplier_of() служат фабриками для создания и настройки функций «сумматора» и «мультипликатора». Обратите внимание на то, что вложенные функции add() и mult() могут обращаться к аргументу n своих родительских функций make_adder() и multiplier_of()."
   ],
   "metadata": {
    "collapsed": false
   },
   "id": "f6e678b2dbe9365f"
  },
  {
   "cell_type": "code",
   "execution_count": 47,
   "outputs": [],
   "source": [
    "def make_adder(n):\n",
    "    def add(x):\n",
    "        return x + n\n",
    "\n",
    "    return add\n",
    "\n",
    "\n",
    "def multiplier_of(n):\n",
    "    def mult(x):\n",
    "        return x * n\n",
    "\n",
    "    return mult"
   ],
   "metadata": {
    "collapsed": false,
    "ExecuteTime": {
     "end_time": "2025-01-27T09:30:53.526978200Z",
     "start_time": "2025-01-27T09:30:53.523756900Z"
    }
   },
   "id": "f4e4a12edb04f9c7"
  },
  {
   "cell_type": "code",
   "execution_count": 48,
   "outputs": [
    {
     "name": "stdout",
     "output_type": "stream",
     "text": [
      "13 103\n",
      "15 105\n",
      "30 300\n",
      "50 500\n"
     ]
    }
   ],
   "source": [
    "plus_3 = make_adder(3)\n",
    "plus_5 = make_adder(5)\n",
    "multiply_3 = multiplier_of(3)\n",
    "multiply_5 = multiplier_of(5)\n",
    "\n",
    "print(plus_3(10), plus_3(100))\n",
    "print(plus_5(10), plus_5(100))\n",
    "print(multiply_3(10), multiply_3(100))\n",
    "print(multiply_5(10), multiply_5(100))"
   ],
   "metadata": {
    "collapsed": false,
    "ExecuteTime": {
     "end_time": "2025-01-27T09:31:02.382148900Z",
     "start_time": "2025-01-27T09:31:02.377706500Z"
    }
   },
   "id": "fb018f7d43cb04d1"
  },
  {
   "cell_type": "markdown",
   "source": [
    "Имейте в виду, что вложенные функции, которые возвращает родительская функция, могут быть анонимными. Приведенный выше код можно переписать в виде:"
   ],
   "metadata": {
    "collapsed": false
   },
   "id": "e8cabb501ccec4d5"
  },
  {
   "cell_type": "code",
   "execution_count": 49,
   "outputs": [],
   "source": [
    "def make_adder(n):\n",
    "    return lambda x: x + n\n",
    "\n",
    "\n",
    "def multiplier_of(n):\n",
    "    return lambda x: x * n"
   ],
   "metadata": {
    "collapsed": false,
    "ExecuteTime": {
     "end_time": "2025-01-27T09:33:48.258417400Z",
     "start_time": "2025-01-27T09:33:48.254988700Z"
    }
   },
   "id": "5efa8be755b29786"
  },
  {
   "cell_type": "markdown",
   "source": [
    "Пример 3. В этом примере функция line_generator() служит фабрикой для создания и настройки линейной функции вида y=kx+b. Обратите внимание на то, что вложенная функция func() может обращаться к аргументам k и b своей родительской функции line_generator()."
   ],
   "metadata": {
    "collapsed": false
   },
   "id": "de2f771c4f37a04a"
  },
  {
   "cell_type": "code",
   "execution_count": 50,
   "outputs": [],
   "source": [
    "def line_generator(k, b):\n",
    "    def func(x):\n",
    "        return k * x + b\n",
    "\n",
    "    return func"
   ],
   "metadata": {
    "collapsed": false,
    "ExecuteTime": {
     "end_time": "2025-01-27T09:35:05.638292700Z",
     "start_time": "2025-01-27T09:35:05.635281300Z"
    }
   },
   "id": "b3f27487302219b4"
  },
  {
   "cell_type": "code",
   "execution_count": 51,
   "outputs": [
    {
     "name": "stdout",
     "output_type": "stream",
     "text": [
      "25\n",
      "-15\n"
     ]
    }
   ],
   "source": [
    "line_func_1 = line_generator(2, 5)  # получаем функцию y = 2*x + 5\n",
    "line_func_2 = line_generator(-6, 9)  # получаем функцию y = -6*x + 9\n",
    "\n",
    "print(line_func_1(10))  # печатаем значение 2*10 + 5\n",
    "print(line_func_2(4))  # печатаем значение -6*4 + 9"
   ],
   "metadata": {
    "collapsed": false,
    "ExecuteTime": {
     "end_time": "2025-01-27T09:35:11.201164Z",
     "start_time": "2025-01-27T09:35:11.197641200Z"
    }
   },
   "id": "a491c18c79f51748"
  },
  {
   "cell_type": "markdown",
   "source": [
    "Обратите внимание на то, что во всех предыдущих примерах наши вложенные функции (замыкания) использовали нелокальные переменные, которые являлись параметрическими для родительской функции. Вложенные функции могут обращаться ко всем локальным переменным родительской функции, независимо от того, были они определены во внешней функции или пришли из аргументов внешней функции."
   ],
   "metadata": {
    "collapsed": false
   },
   "id": "b2370fcf01e57225"
  },
  {
   "cell_type": "markdown",
   "source": [
    "Параметрические переменные тоже считаются локальными переменными."
   ],
   "metadata": {
    "collapsed": false
   },
   "id": "a96b1de0bacecb7d"
  },
  {
   "cell_type": "code",
   "execution_count": 52,
   "outputs": [
    {
     "name": "stdout",
     "output_type": "stream",
     "text": [
      "11\n"
     ]
    }
   ],
   "source": [
    "def f(x):\n",
    "    z = 2\n",
    "\n",
    "    def g(y):\n",
    "        return z * x + y  # обращение к нелокальной переменной z и параметрической переменной x\n",
    "\n",
    "    return g\n",
    "\n",
    "\n",
    "h = f(5)\n",
    "print(h(1))"
   ],
   "metadata": {
    "collapsed": false,
    "ExecuteTime": {
     "end_time": "2025-01-27T09:37:18.248777300Z",
     "start_time": "2025-01-27T09:37:18.245252900Z"
    }
   },
   "id": "ce54cbe738f13525"
  },
  {
   "cell_type": "markdown",
   "source": [
    "Нелокальные переменные"
   ],
   "metadata": {
    "collapsed": false
   },
   "id": "b812946227da4120"
  },
  {
   "cell_type": "markdown",
   "source": [
    "При поиске переменной с указанным именем приоритет (правило разрешения имен) следующий:\n",
    "\n",
    "сначала ищем локальную переменную\n",
    "если не нашли локальную, ищем нелокальную\n",
    "если не нашли нелокальную, ищем глобальную\n",
    "и в самом конце — встроенную в язык\n",
    "Промежуточная область видимости, которая доступна вложенным функциям, называется нелокальной. Если вложенность функций больше двух уровней, нелокальная переменная ищет в «ближайшей» области видимости, т. е. в функции вложенностью на один меньше. Если не находит, поиск переходит в самую ближнюю из внешних областей видимости, затем в чуть более далекую — и так далее, пока не найдется нужное имя. Фактически интерпретатор ищет там, «где поближе»."
   ],
   "metadata": {
    "collapsed": false
   },
   "id": "b52a0eef0f811dc0"
  },
  {
   "cell_type": "markdown",
   "source": [
    "Ключевое слово nonlocal"
   ],
   "metadata": {
    "collapsed": false
   },
   "id": "43feaa0dad0affc8"
  },
  {
   "cell_type": "markdown",
   "source": [
    "Как мы уже знаем, вложенная функция видит переменные в родительской функции, которые называются нелокальными или свободными переменными."
   ],
   "metadata": {
    "collapsed": false
   },
   "id": "88b29281dec9ce31"
  },
  {
   "cell_type": "code",
   "execution_count": 54,
   "outputs": [
    {
     "ename": "UnboundLocalError",
     "evalue": "cannot access local variable 'num' where it is not associated with a value",
     "output_type": "error",
     "traceback": [
      "\u001B[1;31m---------------------------------------------------------------------------\u001B[0m",
      "\u001B[1;31mUnboundLocalError\u001B[0m                         Traceback (most recent call last)",
      "Cell \u001B[1;32mIn[54], line 8\u001B[0m\n\u001B[0;32m      5\u001B[0m         \u001B[38;5;28mprint\u001B[39m(num)\n\u001B[0;32m      6\u001B[0m     inner_function()           \u001B[38;5;66;03m# вызываем вложенную функцию\u001B[39;00m\n\u001B[1;32m----> 8\u001B[0m \u001B[43mouter_function\u001B[49m\u001B[43m(\u001B[49m\u001B[43m)\u001B[49m\n",
      "Cell \u001B[1;32mIn[54], line 6\u001B[0m, in \u001B[0;36mouter_function\u001B[1;34m()\u001B[0m\n\u001B[0;32m      4\u001B[0m     num \u001B[38;5;241m+\u001B[39m\u001B[38;5;241m=\u001B[39m \u001B[38;5;241m10\u001B[39m\n\u001B[0;32m      5\u001B[0m     \u001B[38;5;28mprint\u001B[39m(num)\n\u001B[1;32m----> 6\u001B[0m \u001B[43minner_function\u001B[49m\u001B[43m(\u001B[49m\u001B[43m)\u001B[49m\n",
      "Cell \u001B[1;32mIn[54], line 4\u001B[0m, in \u001B[0;36mouter_function.<locals>.inner_function\u001B[1;34m()\u001B[0m\n\u001B[0;32m      3\u001B[0m \u001B[38;5;28;01mdef\u001B[39;00m \u001B[38;5;21minner_function\u001B[39m():      \u001B[38;5;66;03m# определяем вложенную функцию\u001B[39;00m\n\u001B[1;32m----> 4\u001B[0m     \u001B[43mnum\u001B[49m \u001B[38;5;241m+\u001B[39m\u001B[38;5;241m=\u001B[39m \u001B[38;5;241m10\u001B[39m\n\u001B[0;32m      5\u001B[0m     \u001B[38;5;28mprint\u001B[39m(num)\n",
      "\u001B[1;31mUnboundLocalError\u001B[0m: cannot access local variable 'num' where it is not associated with a value"
     ]
    }
   ],
   "source": [
    "def outer_function():\n",
    "    num = 5\n",
    "\n",
    "    def inner_function():  # определяем вложенную функцию\n",
    "        num += 10\n",
    "        print(num)\n",
    "\n",
    "    inner_function()  # вызываем вложенную функцию\n",
    "\n",
    "\n",
    "outer_function()"
   ],
   "metadata": {
    "collapsed": false,
    "ExecuteTime": {
     "end_time": "2025-01-27T09:48:27.091303Z",
     "start_time": "2025-01-27T09:48:27.059235100Z"
    }
   },
   "id": "6fe53f29b1d6fc59"
  },
  {
   "cell_type": "markdown",
   "source": [
    "Дело в том, что вложенная функция не просто обращается (получает значение) к переменной num, но и пытается его изменить! Внутренняя функция видит переменные в объемлющей функции, но, если она хочет такую переменную изменить, должна объявить ее nonlocal"
   ],
   "metadata": {
    "collapsed": false
   },
   "id": "c4ffc2a091b93b53"
  },
  {
   "cell_type": "code",
   "execution_count": 55,
   "outputs": [
    {
     "name": "stdout",
     "output_type": "stream",
     "text": [
      "15\n"
     ]
    }
   ],
   "source": [
    "def outer_function():\n",
    "    num = 5\n",
    "\n",
    "    def inner_function():  # определяем вложенную функцию\n",
    "        nonlocal num\n",
    "        num += 10\n",
    "        print(num)\n",
    "\n",
    "    inner_function()  # вызываем вложенную функцию\n",
    "\n",
    "\n",
    "outer_function()"
   ],
   "metadata": {
    "collapsed": false,
    "ExecuteTime": {
     "end_time": "2025-01-27T09:49:07.625021300Z",
     "start_time": "2025-01-27T09:49:07.620281600Z"
    }
   },
   "id": "cf372e50a7edebb4"
  },
  {
   "cell_type": "markdown",
   "source": [
    "Атрибут __closure__"
   ],
   "metadata": {
    "collapsed": false
   },
   "id": "812d4d2126536446"
  },
  {
   "cell_type": "markdown",
   "source": [
    "Все функции содержат специальный атрибут __closure__, который представляет из себя кортеж, содержащий данные, связанные с вложенными областями видимости, то есть с нелокальными переменными."
   ],
   "metadata": {
    "collapsed": false
   },
   "id": "dd4101c5a8713d70"
  },
  {
   "cell_type": "code",
   "execution_count": 69,
   "outputs": [
    {
     "name": "stdout",
     "output_type": "stream",
     "text": [
      "python\n",
      "5\n",
      "[1, 2, 3]\n",
      "Словарь локальных переменных из outer_function: {'arg': 'python', 'name': 'Timur', 'num': 5, 'numbers': [1, 2, 3]}\n"
     ]
    }
   ],
   "source": [
    "def outer_function(arg):\n",
    "    num = 5\n",
    "    name = 'Timur'\n",
    "    numbers = [1, 2, 3]\n",
    "\n",
    "    # Сохраняем локальные переменные в словарь\n",
    "    outer_locals = locals()\n",
    "\n",
    "    # print(\"Локальные переменные в outer_function:\", outer_locals)\n",
    "\n",
    "    def inner_function():  # определяем вложенную функцию\n",
    "        print(arg)\n",
    "        print(num)\n",
    "        print(numbers)\n",
    "\n",
    "    return inner_function, outer_locals  # Возвращаем и функцию, и словарь локальных переменных\n",
    "\n",
    "\n",
    "# Вызов outer_function\n",
    "inner, outer_locals = outer_function('python')\n",
    "\n",
    "for var in inner.__closure__:\n",
    "    print(var.cell_contents)\n",
    "\n",
    "# Печать сохранённых локальных переменных\n",
    "print(\"Словарь локальных переменных из outer_function:\", outer_locals)"
   ],
   "metadata": {
    "collapsed": false,
    "ExecuteTime": {
     "end_time": "2025-01-27T10:01:49.192937600Z",
     "start_time": "2025-01-27T10:01:49.188724900Z"
    }
   },
   "id": "6d9ff8b300cde93"
  },
  {
   "cell_type": "markdown",
   "source": [
    "Обратите внимание на то, что кортеж __closure__ содержит внутри себя специальный тип данных. Для получения самого значения захваченной переменной нужно использовать атрибут cell_contents."
   ],
   "metadata": {
    "collapsed": false
   },
   "id": "65203c3b687f3c33"
  },
  {
   "cell_type": "markdown",
   "source": [
    "Когда использовать замыкания"
   ],
   "metadata": {
    "collapsed": false
   },
   "id": "9f6fb3fc1a71cc28"
  },
  {
   "cell_type": "markdown",
   "source": [
    "Концепция замыканий, то есть функций, захватывающих нелокальные переменные, находят много применений при написании кода. Замыкания хороши для:\n",
    "\n",
    "воздержания от жестко закодированных констант\n",
    "воздержания от использования глобальных переменных\n",
    "воздержания от создания ненужных типов данных (классов)\n",
    "замыкания нужны для реализации декораторов, о которых мы поговорим чуть позже\n",
    "Сокрытие данных основное преимущество замыканий."
   ],
   "metadata": {
    "collapsed": false
   },
   "id": "eef391af00ad382f"
  },
  {
   "cell_type": "markdown",
   "source": [
    "Примечания"
   ],
   "metadata": {
    "collapsed": false
   },
   "id": "b84eb36d286cbaad"
  },
  {
   "cell_type": "markdown",
   "source": [
    "https://realpython.com/python-scope-legb-rule/#using-enclosing-scopes-as-closures"
   ],
   "metadata": {
    "collapsed": false
   },
   "id": "534f52c540a0de9"
  },
  {
   "cell_type": "markdown",
   "source": [
    "Примечание 3. Вложенные (внутренние) функции позволяют избавиться от глобальных переменных. Такая техника позволяет сделать внешнюю для функции переменную, но при этом спрятанную от посторонних глаз, в отличие от глобальной. Такие переменные нужны в первую очередь для того, чтобы хранить какие-то данные, относящиеся к функции, между вызовами функции. Локальные переменные стираются при выходе из функции, глобальные — сохраняются, но видны всему свету, а нелокальные — идеальное сочетание закрытости и «сохраняемости»."
   ],
   "metadata": {
    "collapsed": false
   },
   "id": "8ea4137ff68e9b4"
  },
  {
   "cell_type": "markdown",
   "source": [
    "Примечание 4. Если функция использует глобальные переменные, это тоже замыкание. Но чаще всего замыканием называют все-таки функцию, которая использует нелокальные переменные. Такая функция как бы «таскает за собой» свои внешние переменные, но никому их не показывает."
   ],
   "metadata": {
    "collapsed": false
   },
   "id": "893880b948e329af"
  },
  {
   "cell_type": "code",
   "execution_count": 70,
   "outputs": [
    {
     "name": "stdout",
     "output_type": "stream",
     "text": [
      "x = 5\n",
      "z = 20\n",
      "x = 5\n",
      "y = 6\n",
      "z = 10\n"
     ]
    }
   ],
   "source": [
    "def outer(x):\n",
    "    y = 5\n",
    "    z = 10\n",
    "\n",
    "    def inner():\n",
    "        nonlocal y\n",
    "        y += 1\n",
    "        z = 20\n",
    "        print('x =', x)\n",
    "        print('z =', z)\n",
    "\n",
    "    inner()\n",
    "    print('x =', x)\n",
    "    print('y =', y)\n",
    "    print('z =', z)\n",
    "\n",
    "\n",
    "outer(5)"
   ],
   "metadata": {
    "collapsed": false,
    "ExecuteTime": {
     "end_time": "2025-01-27T10:19:01.164601900Z",
     "start_time": "2025-01-27T10:19:01.160605400Z"
    }
   },
   "id": "c2d5ac389d23a3b1"
  },
  {
   "cell_type": "code",
   "execution_count": 71,
   "outputs": [
    {
     "name": "stdout",
     "output_type": "stream",
     "text": [
      "10\n",
      "20\n"
     ]
    }
   ],
   "source": [
    "def outer(x):\n",
    "    y = 20\n",
    "\n",
    "    def inner(z):\n",
    "        t = 30\n",
    "        return x + y + z + t\n",
    "\n",
    "    return inner\n",
    "\n",
    "\n",
    "func = outer(10)\n",
    "\n",
    "for var in func.__closure__:\n",
    "    print(var.cell_contents)"
   ],
   "metadata": {
    "collapsed": false,
    "ExecuteTime": {
     "end_time": "2025-01-27T11:55:05.633740900Z",
     "start_time": "2025-01-27T11:55:05.628280Z"
    }
   },
   "id": "63676a3cee9fb1fe"
  },
  {
   "cell_type": "code",
   "execution_count": 72,
   "outputs": [
    {
     "name": "stdout",
     "output_type": "stream",
     "text": [
      "None\n"
     ]
    }
   ],
   "source": [
    "def outer(x):\n",
    "    def inner():\n",
    "        return x\n",
    "\n",
    "    x = None\n",
    "    return inner()\n",
    "\n",
    "\n",
    "print(outer(10))"
   ],
   "metadata": {
    "collapsed": false,
    "ExecuteTime": {
     "end_time": "2025-01-27T12:04:53.150099200Z",
     "start_time": "2025-01-27T12:04:53.145577400Z"
    }
   },
   "id": "f53e5a61b480d609"
  },
  {
   "cell_type": "code",
   "execution_count": 73,
   "outputs": [
    {
     "name": "stdout",
     "output_type": "stream",
     "text": [
      "None\n"
     ]
    }
   ],
   "source": [
    "def outer(x):\n",
    "    def inner():\n",
    "        return x\n",
    "\n",
    "    x = None\n",
    "    return inner\n",
    "\n",
    "\n",
    "print(outer(10)())"
   ],
   "metadata": {
    "collapsed": false,
    "ExecuteTime": {
     "end_time": "2025-01-27T12:04:54.024634500Z",
     "start_time": "2025-01-27T12:04:54.016120Z"
    }
   },
   "id": "886e3b9b4a1e4997"
  },
  {
   "cell_type": "code",
   "execution_count": 74,
   "outputs": [
    {
     "name": "stdout",
     "output_type": "stream",
     "text": [
      "101 102\n",
      "201 202\n"
     ]
    }
   ],
   "source": [
    "def make_counter(i):\n",
    "    def counter():\n",
    "        nonlocal i\n",
    "        i += 1\n",
    "        return i\n",
    "\n",
    "    return counter\n",
    "\n",
    "\n",
    "counter1 = make_counter(100)\n",
    "counter2 = make_counter(200)\n",
    "\n",
    "print(counter1(), counter1())\n",
    "print(counter2(), counter2())"
   ],
   "metadata": {
    "collapsed": false,
    "ExecuteTime": {
     "end_time": "2025-01-27T12:21:58.620877200Z",
     "start_time": "2025-01-27T12:21:58.615860700Z"
    }
   },
   "id": "6d6606397e0d154a"
  },
  {
   "cell_type": "code",
   "execution_count": 75,
   "outputs": [
    {
     "name": "stdout",
     "output_type": "stream",
     "text": [
      "Bonjour!\n"
     ]
    }
   ],
   "source": [
    "def greeting(language):\n",
    "    def greeting_ru():\n",
    "        print('Привет!')\n",
    "\n",
    "    def greeting_fr():\n",
    "        print('Bonjour!')\n",
    "\n",
    "    if language == 'ru':\n",
    "        return greeting_ru\n",
    "    if language == 'fr':\n",
    "        return greeting_fr\n",
    "\n",
    "\n",
    "func = greeting('fr')\n",
    "func()"
   ],
   "metadata": {
    "collapsed": false,
    "ExecuteTime": {
     "end_time": "2025-01-27T12:23:08.454081500Z",
     "start_time": "2025-01-27T12:23:08.449563Z"
    }
   },
   "id": "59adb156e9ef7392"
  },
  {
   "cell_type": "markdown",
   "source": [
    "Функция power()\n",
    "Реализуйте функцию power(), которая принимает один аргумент:\n",
    "\n",
    "degree — целое число\n",
    "Функция power() должна возвращать функцию, которая принимает в качестве аргумента целое число x и возвращает значение x в степени degree.\n",
    "\n",
    "Примечание 1. Рассмотрим пример из первого теста. Вызов power(2) возвращает функцию, которая принимает в качестве аргумента число и возводит его во вторую степень. Функция присваивается переменной square. Далее полученная функция вызывается с аргументом 5 и возвращает значение 5 в степени 2 =25.\n",
    "\n",
    "Примечание 2. В тестирующую систему сдайте программу, содержащую только необходимую функцию power(), но не код, вызывающий ее."
   ],
   "metadata": {
    "collapsed": false
   },
   "id": "202cd6bdb0b032a3"
  },
  {
   "cell_type": "code",
   "execution_count": 80,
   "outputs": [
    {
     "name": "stdout",
     "output_type": "stream",
     "text": [
      "25\n"
     ]
    }
   ],
   "source": [
    "def power(degree):\n",
    "    def inner(number):\n",
    "        return number ** degree\n",
    "\n",
    "    return inner\n",
    "\n",
    "\n",
    "square = power(2)\n",
    "print(square(5))"
   ],
   "metadata": {
    "collapsed": false,
    "ExecuteTime": {
     "end_time": "2025-01-27T12:26:23.847440800Z",
     "start_time": "2025-01-27T12:26:23.844432300Z"
    }
   },
   "id": "67e7ec4fa7bfd904"
  },
  {
   "cell_type": "code",
   "execution_count": null,
   "outputs": [],
   "source": [
    "def power(degree):\n",
    "    return lambda x: x ** degree"
   ],
   "metadata": {
    "collapsed": false
   },
   "id": "5e8b19c2c6eceb93"
  },
  {
   "cell_type": "markdown",
   "source": [
    "Функция generator_square_polynom()\n",
    "Рассмотрим семейство функций — квадратных трехчленов. Все эти функции имеют один и тот же вид:f(x)=ax 2 +bx+c\n",
    "Реализуйте функцию generator_square_polynom(), которая принимает три аргумента в следующем порядке:\n",
    "a — вещественное число, коэффициент \n",
    "b — вещественное число, коэффициент \n",
    "c — вещественное число, коэффициент \n",
    "Функция generator_square_polynom() должна возвращать функцию, которая принимает в качестве аргумента вещественное число x и возвращает значение выражения \n",
    "ax 2 +bx+c.\n",
    "\n",
    "Примечание 1. Рассмотрим пример из первого теста. Вызов generator_square_polynom(1, 2, 1) возвращает функцию, соответствующую квадратному трехчлену\n",
    "x 2 +2x+1.  Функция присваивается переменной f. Далее полученная функция вызывается с аргументом 5 и возвращает значение \n",
    "5 2 +5⋅2+1=36.\n",
    "\n",
    "Примечание 2. В тестирующую систему сдайте программу, содержащую только необходимую функцию generator_square_polynom(), но не код, вызывающий ее."
   ],
   "metadata": {
    "collapsed": false
   },
   "id": "d79a9b021cb13051"
  },
  {
   "cell_type": "code",
   "execution_count": 83,
   "outputs": [
    {
     "name": "stdout",
     "output_type": "stream",
     "text": [
      "36\n",
      "1056\n",
      "83237\n"
     ]
    }
   ],
   "source": [
    "def generator_square_polynom(a, b, c):\n",
    "    def inner_function(x):\n",
    "        return a * x ** 2 + b * x + c\n",
    "\n",
    "    return inner_function\n",
    "\n",
    "\n",
    "f = generator_square_polynom(1, 2, 1)\n",
    "print(f(5))\n",
    "\n",
    "print(generator_square_polynom(9, 52, 64)(8))\n",
    "\n",
    "f = generator_square_polynom(26, 83, 22)\n",
    "print(f(55))"
   ],
   "metadata": {
    "collapsed": false,
    "ExecuteTime": {
     "end_time": "2025-01-28T05:46:40.676085100Z",
     "start_time": "2025-01-28T05:46:40.669926300Z"
    }
   },
   "id": "962542946708ab22"
  },
  {
   "cell_type": "markdown",
   "source": [
    "Функция sourcetemplate()\n",
    "Строка запроса (query string) — часть URL адреса, содержащая ключи и их значения. Она начинается после вопросительного знака и идет до конца адреса. Например:\n",
    "\n",
    "https://beegeek.ru?name=timur     # строка запроса: name=timur\n",
    "Если параметров в строке запроса несколько, то они отделяются символом амперсанда &:\n",
    "\n",
    "https://beegeek.ru?name=timur&color=green     # строка запроса: name=timur&color=green \n",
    "Реализуйте функцию sourcetemplate(), которая принимает один аргумент:\n",
    "\n",
    "url — URL адрес\n",
    "Функция sourcetemplate() должна возвращать функцию, которая принимает произвольное количество именованных аргументов и возвращает url адрес, объединенный со строкой запроса, сформированной из переданных аргументов. При вызове без аргументов она должна возвращать исходный url адрес без изменений.\n",
    "\n",
    "Примечание 1. Параметры в строке запроса должны располагаться в лексикографическом порядке ключей.\n",
    "\n",
    "Примечание 2. В тестирующую систему сдайте программу, содержащую только необходимую функцию sourcetemplate(), но не код, вызывающий ее."
   ],
   "metadata": {
    "collapsed": false
   },
   "id": "481727a8b87594ab"
  },
  {
   "cell_type": "code",
   "execution_count": 95,
   "outputs": [
    {
     "name": "stdout",
     "output_type": "stream",
     "text": [
      "https://beegeek.ru?name=timur\n",
      "https://stepik.org/lesson/651459/step/14?thread=solutions&unit=648165\n",
      "https://beegeek.ru\n",
      "https://all_for_comfort_life.com?notebook=huawei&sale=True&smartphone=iPhone\n"
     ]
    }
   ],
   "source": [
    "def sourcetemplate(url: str):\n",
    "    def inner_function(**kwargs):\n",
    "        if len(kwargs) == 0:\n",
    "            return url\n",
    "        query_params = [f'{k}={v}' for k, v in sorted(kwargs.items())]\n",
    "        return f'{url}?{'&'.join(query_params)}'\n",
    "\n",
    "    return inner_function\n",
    "\n",
    "\n",
    "url = 'https://beegeek.ru'\n",
    "load = sourcetemplate(url)\n",
    "print(load(name='timur'))\n",
    "\n",
    "url = 'https://stepik.org/lesson/651459/step/14'\n",
    "load = sourcetemplate(url)\n",
    "print(load(thread='solutions', unit=648165))\n",
    "\n",
    "url = 'https://beegeek.ru'\n",
    "load = sourcetemplate(url)\n",
    "print(load())\n",
    "\n",
    "url = 'https://all_for_comfort_life.com'\n",
    "load = sourcetemplate(url)\n",
    "print(load(smartphone='iPhone', notebook='huawei', sale=True))"
   ],
   "metadata": {
    "collapsed": false,
    "ExecuteTime": {
     "end_time": "2025-01-28T06:06:02.558986200Z",
     "start_time": "2025-01-28T06:06:02.553986800Z"
    }
   },
   "id": "66c36ede67e6e8f6"
  },
  {
   "cell_type": "markdown",
   "source": [
    "Функция date_formatter()\n",
    "Нередко в разных странах используются разные форматы дат. Рассмотрим часть из них:\n",
    "\n",
    "код страны\tформат даты\n",
    "ru\tDD.MM.YYYY\n",
    "us\tMM-DD-YYYY\n",
    "ca\tYYYY-MM-DD\n",
    "br\tDD/MM/YYYY\n",
    "fr\tDD.MM.YYYY\n",
    "pt\tDD-MM-YYYY\n",
    "Реализуйте функцию date_formatter(), которая принимает один аргумент:\n",
    "\n",
    "country_code — код страны\n",
    "Функция date_formatter() должна возвращать функцию, которая принимает в качестве аргумента дату (тип date) и возвращает строку с данной датой в формате страны с кодом country_code.\n",
    "\n",
    "Примечание 1. Гарантируется, что в функцию date_formatter() передаются только те коды стран, что перечислены в приведенной выше таблице.\n",
    "\n",
    "Примечание 2. В тестирующую систему сдайте программу, содержащую только необходимую функцию date_formatter(), но не код, вызывающий ее"
   ],
   "metadata": {
    "collapsed": false
   },
   "id": "cab64164d95bf947"
  },
  {
   "cell_type": "code",
   "execution_count": 8,
   "outputs": [
    {
     "name": "stdout",
     "output_type": "stream",
     "text": [
      "25.01.2022\n",
      "01-05-2025\n",
      "2015-12-07\n"
     ]
    }
   ],
   "source": [
    "from datetime import date\n",
    "\n",
    "GLOBAL_DIC = {'ru': '%d.%m.%Y',\n",
    "              'us': '%m-%d-%Y',\n",
    "              'ca': '%Y-%m-%d',\n",
    "              'br': '%d/%m/%Y',\n",
    "              'fr': '%d.%m.%Y',\n",
    "              'pt': '%d-%m-%Y', }\n",
    "\n",
    "\n",
    "def date_formatter(country_code: str):\n",
    "    def inner(arg):\n",
    "        return date.strftime(arg, GLOBAL_DIC.get(country_code))\n",
    "\n",
    "    return inner\n",
    "\n",
    "\n",
    "date_ru = date_formatter('ru')\n",
    "today = date(2022, 1, 25)\n",
    "print(date_ru(today))\n",
    "\n",
    "date_ru = date_formatter('us')\n",
    "today = date(2025, 1, 5)\n",
    "print(date_ru(today))\n",
    "\n",
    "date_ru = date_formatter('ca')\n",
    "today = date(2015, 12, 7)\n",
    "print(date_ru(today))"
   ],
   "metadata": {
    "collapsed": false,
    "ExecuteTime": {
     "end_time": "2025-01-28T06:55:57.127926700Z",
     "start_time": "2025-01-28T06:55:57.121914800Z"
    }
   },
   "id": "9da6ffaef5acb347"
  },
  {
   "cell_type": "code",
   "execution_count": null,
   "outputs": [],
   "source": [
    "from datetime import date\n",
    "\n",
    "def date_formatter(country_code):\n",
    "    def date_form(data):\n",
    "        d = {'ru': '%d.%m.%Y', 'us': '%m-%d-%Y',\n",
    "             'ca': '%Y-%m-%d', 'br': '%d/%m/%Y',\n",
    "             'fr': '%d.%m.%Y', 'pt': '%d-%m-%Y', }\n",
    "        return date.strftime(data, d[country_code])\n",
    "    return date_form"
   ],
   "metadata": {
    "collapsed": false
   },
   "id": "89f48a662f375d02"
  },
  {
   "cell_type": "markdown",
   "source": [
    "Функция sort_priority() 🌶️\n",
    "Реализуйте функцию sort_priority(), которая принимает два аргумента в следующем порядке:\n",
    "\n",
    "values — список чисел\n",
    "group — список, кортеж или множество чисел\n",
    "Функция должна сортировать по неубыванию список чисел values, делая при этом приоритетной группу чисел из group, которая должна следовать первой.\n",
    "\n",
    "Примечание 1. В тестирующую систему сдайте программу, содержащую только необходимую функцию sort_priority(), но не код, вызывающий ее."
   ],
   "metadata": {
    "collapsed": false
   },
   "id": "6922f24ea8edbb34"
  },
  {
   "cell_type": "code",
   "execution_count": 52,
   "outputs": [
    {
     "name": "stdout",
     "output_type": "stream",
     "text": [
      "[2, 3, 5, 7, 1, 4, 6, 8]\n",
      "[200, 300, 50, 150, 1000, 20000]\n",
      "[1, 2, 3, 4, 5, 6, 7, 8, 9]\n"
     ]
    }
   ],
   "source": [
    "def sort_priority(values: list, group):\n",
    "    def inner():\n",
    "        nonlocal values\n",
    "        nonlocal group\n",
    "        sorted_group = sorted([v for v in values if v in group])\n",
    "        sorted_others = sorted([v for v in values if v not in group])\n",
    "        values[:] = sorted_group + sorted_others\n",
    "        return values\n",
    "    inner()\n",
    "\n",
    "\n",
    "numbers = [8, 3, 1, 2, 5, 4, 7, 6]\n",
    "group = {5, 7, 2, 3}\n",
    "sort_priority(numbers, group)\n",
    "\n",
    "print(numbers)\n",
    "\n",
    "numbers = [150, 200, 300, 1000, 50, 20000]\n",
    "sort_priority(numbers, [300, 100, 200])\n",
    "\n",
    "print(numbers)\n",
    "\n",
    "numbers = [9, 8, 7, 6, 5, 4, 3, 2, 1]\n",
    "sort_priority(numbers, (300, 100, 200))\n",
    "\n",
    "print(numbers)"
   ],
   "metadata": {
    "collapsed": false,
    "ExecuteTime": {
     "end_time": "2025-01-28T07:36:57.969346300Z",
     "start_time": "2025-01-28T07:36:57.962368Z"
    }
   },
   "id": "149d97eae6e37bd3"
  },
  {
   "cell_type": "code",
   "execution_count": null,
   "outputs": [],
   "source": [
    "def sort_priority(numbers, group):\n",
    "    numbers.sort(key=lambda x: (x not in group, x))"
   ],
   "metadata": {
    "collapsed": false
   },
   "id": "f2352e08d722b70"
  },
  {
   "cell_type": "code",
   "execution_count": null,
   "outputs": [],
   "source": [
    "def sort_priority(values, group):\n",
    "    first = set(group) & set(values)\n",
    "    second = set(values) - set(group)\n",
    "    values[:] = sorted(first) + sorted(second)"
   ],
   "metadata": {
    "collapsed": false
   },
   "id": "b5b962600b0bc4a"
  },
  {
   "cell_type": "code",
   "execution_count": null,
   "outputs": [],
   "source": [
    "def sort_priority(values, group):\n",
    "    new_group = set(values).intersection(set(group))\n",
    "    new_values = set(values).difference(new_group)\n",
    "    values[:] = sorted(list(new_group)) + sorted(list(new_values))"
   ],
   "metadata": {
    "collapsed": false
   },
   "id": "f1255bb10c4ed95d"
  }
 ],
 "metadata": {
  "kernelspec": {
   "display_name": "Python 3",
   "language": "python",
   "name": "python3"
  },
  "language_info": {
   "codemirror_mode": {
    "name": "ipython",
    "version": 2
   },
   "file_extension": ".py",
   "mimetype": "text/x-python",
   "name": "python",
   "nbconvert_exporter": "python",
   "pygments_lexer": "ipython2",
   "version": "2.7.6"
  }
 },
 "nbformat": 4,
 "nbformat_minor": 5
}

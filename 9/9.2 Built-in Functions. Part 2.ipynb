{
 "cells": [
  {
   "cell_type": "markdown",
   "source": [
    "Тема урока: встроенные функции\n",
    "Функции callable(), hasattr()\n",
    "Функции help(), repr()\n",
    "Функция hash()\n",
    "Функции eval(), exec()\n",
    "Аннотация. Урок посвящен полезным встроенным функциям."
   ],
   "metadata": {
    "collapsed": false
   },
   "id": "75f3fe2e7a57425e"
  },
  {
   "cell_type": "markdown",
   "source": [
    "Функция callable()"
   ],
   "metadata": {
    "collapsed": false
   },
   "id": "8e9cf60e760438ef"
  },
  {
   "cell_type": "markdown",
   "source": [
    "Функция callable() принимает в качестве аргумента некоторый объект и возвращает True, если переданный объект является вызываемым, или False в противном случае."
   ],
   "metadata": {
    "collapsed": false
   },
   "id": "5a878c2f0fc1760f"
  },
  {
   "cell_type": "code",
   "execution_count": 2,
   "outputs": [
    {
     "name": "stdout",
     "output_type": "stream",
     "text": [
      "True\n",
      "True\n",
      "False\n",
      "False\n"
     ]
    }
   ],
   "source": [
    "print(callable(int))\n",
    "print(callable(list))\n",
    "print(callable(100))\n",
    "print(callable([1, 2, 3]))"
   ],
   "metadata": {
    "collapsed": false,
    "ExecuteTime": {
     "end_time": "2024-12-10T12:47:13.358966100Z",
     "start_time": "2024-12-10T12:47:13.353960600Z"
    }
   },
   "id": "6058f5e73c336af0"
  },
  {
   "cell_type": "markdown",
   "source": [
    "Функция hasattr()"
   ],
   "metadata": {
    "collapsed": false
   },
   "id": "18ae94e53f4bbd55"
  },
  {
   "cell_type": "markdown",
   "source": [
    "Функция hasattr() используется для проверки существования атрибута. Она принимает два аргумента:\n",
    "\n",
    "object — объект, в котором нужно проверить существование атрибута\n",
    "name — имя проверяемого атрибута\n",
    "Функция возвращает True, если object имеет атрибут name, или False в противном случае. "
   ],
   "metadata": {
    "collapsed": false
   },
   "id": "bed7ab33dfec1fb7"
  },
  {
   "cell_type": "code",
   "execution_count": 3,
   "outputs": [
    {
     "name": "stdout",
     "output_type": "stream",
     "text": [
      "True\n",
      "True\n",
      "False\n"
     ]
    }
   ],
   "source": [
    "print(hasattr('stepik', 'isalpha'))\n",
    "print(hasattr([1, 2, 3], 'sort'))\n",
    "print(hasattr(13, 'to_str'))"
   ],
   "metadata": {
    "collapsed": false,
    "ExecuteTime": {
     "end_time": "2024-12-10T12:48:16.467736300Z",
     "start_time": "2024-12-10T12:48:16.462698600Z"
    }
   },
   "id": "a74448db6e9827a0"
  },
  {
   "cell_type": "code",
   "execution_count": 8,
   "outputs": [
    {
     "data": {
      "text/plain": "<function list.sort(*, key=None, reverse=False)>"
     },
     "execution_count": 8,
     "metadata": {},
     "output_type": "execute_result"
    }
   ],
   "source": [
    "[1, 2, 3].sort"
   ],
   "metadata": {
    "collapsed": false,
    "ExecuteTime": {
     "end_time": "2024-12-10T12:49:45.290452500Z",
     "start_time": "2024-12-10T12:49:45.283796300Z"
    }
   },
   "id": "1a74e9676908c3c2"
  },
  {
   "cell_type": "markdown",
   "source": [
    "Функция hash()"
   ],
   "metadata": {
    "collapsed": false
   },
   "id": "79243bff622780a3"
  },
  {
   "cell_type": "markdown",
   "source": [
    "Функция hash() принимает в качестве аргумента некоторый объект и возвращает целое число, представляющее хеш-значение переданного объекта. Большинство неизменяемых встроенных объектов Python являются хешируемыми и имеют хеш-значение. Изменяемые коллекции, такие как списки, множества и словари, не имеют хеш-значений."
   ],
   "metadata": {
    "collapsed": false
   },
   "id": "a62488b7c3981fdb"
  },
  {
   "cell_type": "code",
   "execution_count": 9,
   "outputs": [
    {
     "name": "stdout",
     "output_type": "stream",
     "text": [
      "899\n",
      "69\n",
      "4577087807938559375\n",
      "529344067295497451\n",
      "0\n",
      "1\n"
     ]
    }
   ],
   "source": [
    "print(hash(899))\n",
    "print(hash(69.0))\n",
    "print(hash('timyrik'))\n",
    "print(hash((1, 2, 3)))\n",
    "print(hash(False))\n",
    "print(hash(True))"
   ],
   "metadata": {
    "collapsed": false,
    "ExecuteTime": {
     "end_time": "2024-12-10T12:50:22.204399800Z",
     "start_time": "2024-12-10T12:50:22.197295200Z"
    }
   },
   "id": "ae124d0dc9973409"
  },
  {
   "cell_type": "markdown",
   "source": [
    "Обратите внимание на то, что хеш-значения целых чисел совпадают с самим числом, за исключением числа −1."
   ],
   "metadata": {
    "collapsed": false
   },
   "id": "70999779a3f90105"
  },
  {
   "cell_type": "code",
   "execution_count": 10,
   "outputs": [
    {
     "name": "stdout",
     "output_type": "stream",
     "text": [
      "-5\n",
      "-4\n",
      "-3\n",
      "-2\n",
      "-2\n",
      "0\n",
      "1\n",
      "2\n",
      "3\n",
      "4\n",
      "5\n"
     ]
    }
   ],
   "source": [
    "for i in range(-5, 6):\n",
    "    print(hash(i))"
   ],
   "metadata": {
    "collapsed": false,
    "ExecuteTime": {
     "end_time": "2024-12-10T12:50:48.878182100Z",
     "start_time": "2024-12-10T12:50:48.870614Z"
    }
   },
   "id": "5068460d8c4ca4c2"
  },
  {
   "cell_type": "markdown",
   "source": [
    "Приведем ниже таблицу хешируемости встроенных в Python типов данных:"
   ],
   "metadata": {
    "collapsed": false
   },
   "id": "e620ce1af12bd95f"
  },
  {
   "cell_type": "code",
   "execution_count": 11,
   "outputs": [
    {
     "data": {
      "image/png": "[encoded data removed]",
      "text/plain": "<IPython.core.display.Image object>"
     },
     "metadata": {},
     "output_type": "display_data"
    }
   ],
   "source": [
    "from functions import picture\n",
    "\n",
    "picture('dsfhdsfjБез имени.png')"
   ],
   "metadata": {
    "collapsed": false,
    "ExecuteTime": {
     "end_time": "2024-12-10T12:52:06.229641700Z",
     "start_time": "2024-12-10T12:52:06.210722Z"
    }
   },
   "id": "d502e909347dba4"
  },
  {
   "cell_type": "markdown",
   "source": [
    "Кортежи (тип tuple) хешируемы только при условии, что их элементы являются хешируемыми."
   ],
   "metadata": {
    "collapsed": false
   },
   "id": "424025334f887a24"
  },
  {
   "cell_type": "code",
   "execution_count": 12,
   "outputs": [
    {
     "name": "stdout",
     "output_type": "stream",
     "text": [
      "2494012287842468277\n"
     ]
    }
   ],
   "source": [
    "tpl = (1, 2, True, 'python')\n",
    "\n",
    "print(hash(tpl))"
   ],
   "metadata": {
    "collapsed": false,
    "ExecuteTime": {
     "end_time": "2024-12-10T12:52:41.529954900Z",
     "start_time": "2024-12-10T12:52:41.520763800Z"
    }
   },
   "id": "b267df2028880556"
  },
  {
   "cell_type": "code",
   "execution_count": 13,
   "outputs": [
    {
     "ename": "TypeError",
     "evalue": "unhashable type: 'list'",
     "output_type": "error",
     "traceback": [
      "\u001B[1;31m---------------------------------------------------------------------------\u001B[0m",
      "\u001B[1;31mTypeError\u001B[0m                                 Traceback (most recent call last)",
      "Cell \u001B[1;32mIn[13], line 3\u001B[0m\n\u001B[0;32m      1\u001B[0m tpl \u001B[38;5;241m=\u001B[39m (\u001B[38;5;241m1\u001B[39m, \u001B[38;5;241m2\u001B[39m, [\u001B[38;5;28;01mTrue\u001B[39;00m, \u001B[38;5;124m'\u001B[39m\u001B[38;5;124mpython\u001B[39m\u001B[38;5;124m'\u001B[39m])\n\u001B[1;32m----> 3\u001B[0m \u001B[38;5;28mprint\u001B[39m(\u001B[38;5;28;43mhash\u001B[39;49m\u001B[43m(\u001B[49m\u001B[43mtpl\u001B[49m\u001B[43m)\u001B[49m)\n",
      "\u001B[1;31mTypeError\u001B[0m: unhashable type: 'list'"
     ]
    }
   ],
   "source": [
    "tpl = (1, 2, [True, 'python'])\n",
    "\n",
    "print(hash(tpl))"
   ],
   "metadata": {
    "collapsed": false,
    "ExecuteTime": {
     "end_time": "2024-12-10T12:53:01.611721400Z",
     "start_time": "2024-12-10T12:53:01.597248700Z"
    }
   },
   "id": "bf509161d21a8e8d"
  },
  {
   "cell_type": "markdown",
   "source": [
    "Функция help()"
   ],
   "metadata": {
    "collapsed": false
   },
   "id": "6d7fd74b2259185c"
  },
  {
   "cell_type": "markdown",
   "source": [
    "Функция help() используется для получения документации по указанному модулю, функции или другому объекту. Она принимает в качестве аргумента либо сам объект, либо строку с именем объекта. Вызов без аргументов запускает интерактивную справочную систему в консоли интерпретатора (для выхода используйте quit)"
   ],
   "metadata": {
    "collapsed": false
   },
   "id": "20aa41d942ac64e6"
  },
  {
   "cell_type": "code",
   "execution_count": 14,
   "outputs": [
    {
     "name": "stdout",
     "output_type": "stream",
     "text": [
      "Help on built-in function print in module builtins:\n",
      "\n",
      "print(*args, sep=' ', end='\\n', file=None, flush=False)\n",
      "    Prints the values to a stream, or to sys.stdout by default.\n",
      "\n",
      "    sep\n",
      "      string inserted between values, default a space.\n",
      "    end\n",
      "      string appended after the last value, default a newline.\n",
      "    file\n",
      "      a file-like object (stream); defaults to the current sys.stdout.\n",
      "    flush\n",
      "      whether to forcibly flush the stream.\n",
      "\n",
      "Help on built-in function sorted in module builtins:\n",
      "\n",
      "sorted(iterable, /, *, key=None, reverse=False)\n",
      "    Return a new list containing all items from the iterable in ascending order.\n",
      "\n",
      "    A custom key function can be supplied to customize the sort order, and the\n",
      "    reverse flag can be set to request the result in descending order.\n"
     ]
    }
   ],
   "source": [
    "help(print)\n",
    "help('sorted')"
   ],
   "metadata": {
    "collapsed": false,
    "ExecuteTime": {
     "end_time": "2024-12-10T12:53:39.498306800Z",
     "start_time": "2024-12-10T12:53:39.488625800Z"
    }
   },
   "id": "f698aeec4fdd0fdb"
  },
  {
   "cell_type": "markdown",
   "source": [
    "Функция repr()"
   ],
   "metadata": {
    "collapsed": false
   },
   "id": "5d0f0b20368ae440"
  },
  {
   "cell_type": "markdown",
   "source": [
    "Функция repr() принимает в качестве аргумента некоторый объект и возвращает строку, содержащую формальное (понятное интерпретатору) представление переданного объекта."
   ],
   "metadata": {
    "collapsed": false
   },
   "id": "47dca3d33f5a3141"
  },
  {
   "cell_type": "code",
   "execution_count": 15,
   "outputs": [
    {
     "name": "stdout",
     "output_type": "stream",
     "text": [
      "'stepik'\n",
      "[1, 2, 3, 4]\n",
      "datetime.date(2022, 1, 16)\n"
     ]
    }
   ],
   "source": [
    "from datetime import date\n",
    "\n",
    "print(repr('stepik'))\n",
    "print(repr([1, 2, 3, 4]))\n",
    "print(repr(date(2022, 1, 16)))"
   ],
   "metadata": {
    "collapsed": false,
    "ExecuteTime": {
     "end_time": "2024-12-10T12:56:49.789082400Z",
     "start_time": "2024-12-10T12:56:49.786213400Z"
    }
   },
   "id": "f90522e0f622cb60"
  },
  {
   "cell_type": "markdown",
   "source": [
    "Примечание 2. Имейте в виду, что хеш-функция может меняться в новых версиях языка Python. Поэтому всегда является плохой идеей сохранять хеш-значения, которые генерирует встроенная функция hash()  в базу данных или на диск."
   ],
   "metadata": {
    "collapsed": false
   },
   "id": "75d3448a1eb70f17"
  },
  {
   "cell_type": "markdown",
   "source": [
    "Примечание 3. В настоящий момент в Python встроенная функция hash() использует алгоритм SipHash. SipHash – это семейство псевдослучайных функций на основе add-rotate-xor (ARX). Алгоритм создан Дэниелом Дж. Бернстайном в 2012 году."
   ],
   "metadata": {
    "collapsed": false
   },
   "id": "1c5f300ba288623a"
  },
  {
   "cell_type": "markdown",
   "source": [
    "Примечание 4. Существуют общепринятые и криптостойкие алгоритмы хеширования, такие как MD5 или SHA. Для их использования в Python есть специальный модуль hashlib. "
   ],
   "metadata": {
    "collapsed": false
   },
   "id": "d769c6e3f02c0580"
  },
  {
   "cell_type": "markdown",
   "source": [
    "Функция hash_as_key()\n",
    "Реализуйте функцию hash_as_key(), которая принимает один аргумент:\n",
    "\n",
    "objects — список хешируемых объектов\n",
    "Функция должна возвращать словарь, ключом в котором является хеш-значение объекта из списка objects, а значением — сам объект. Если хеш-значения некоторых объектов совпадают, их следует объединить в список.\n",
    "\n",
    "Примечание 1. Элементы в возвращаемом функцией словаре, а также объекты в списке, имеющие равные хеш-значения, должны располагаться в своем исходном порядке.\n",
    "\n",
    "Примечание 2. В тестирующую систему сдайте программу, содержащую только необходимую функцию hash_as_key(), но не код, вызывающий ее."
   ],
   "metadata": {
    "collapsed": false
   },
   "id": "753f3fe7a821cd95"
  },
  {
   "cell_type": "code",
   "execution_count": 34,
   "outputs": [
    {
     "name": "stdout",
     "output_type": "stream",
     "text": [
      "{1: 1, 2: 2, 3: 3, 4: 4, 5: [5, 5]}\n",
      "{-2: [-1, -2], -3: -3, -4: -4, -5: -5}\n"
     ]
    }
   ],
   "source": [
    "def hash_as_key(objects: list):\n",
    "    result = dict()\n",
    "    for i in objects:\n",
    "        result.setdefault(hash(i), []).append(i)\n",
    "    for k, v in result.items():\n",
    "        if len(v) == 1:\n",
    "            result[k] = v[0]\n",
    "    return result\n",
    "\n",
    "\n",
    "data = [1, 2, 3, 4, 5, 5]\n",
    "\n",
    "print(hash_as_key(data))\n",
    "\n",
    "data = [-1, -2, -3, -4, -5]\n",
    "\n",
    "print(hash_as_key(data))"
   ],
   "metadata": {
    "collapsed": false,
    "ExecuteTime": {
     "end_time": "2024-12-11T05:56:21.264220100Z",
     "start_time": "2024-12-11T05:56:21.261592900Z"
    }
   },
   "id": "2f455514f2d9c1dd"
  },
  {
   "cell_type": "code",
   "execution_count": 36,
   "outputs": [
    {
     "name": "stdout",
     "output_type": "stream",
     "text": [
      "{1: 1, 2: 2, 3: 3, 4: 4, 5: [5, 5]}\n",
      "{-2: [-1, -2], -3: -3, -4: -4, -5: -5}\n"
     ]
    }
   ],
   "source": [
    "from collections import defaultdict\n",
    "\n",
    "\n",
    "def hash_as_key(objects: list):\n",
    "    result = defaultdict(list)  # Используем defaultdict для списков\n",
    "    for i in objects:\n",
    "        result[hash(i)].append(i)  # Добавляем элемент в список по хешу\n",
    "    # Если список содержит только один элемент, заменяем его на сам элемент\n",
    "    for k, v in result.items():\n",
    "        if len(v) == 1:\n",
    "            result[k] = v[0]\n",
    "    return dict(result)\n",
    "\n",
    "\n",
    "data = [1, 2, 3, 4, 5, 5]\n",
    "\n",
    "print(hash_as_key(data))\n",
    "\n",
    "data = [-1, -2, -3, -4, -5]\n",
    "\n",
    "print(hash_as_key(data))"
   ],
   "metadata": {
    "collapsed": false,
    "ExecuteTime": {
     "end_time": "2024-12-11T05:59:37.894329400Z",
     "start_time": "2024-12-11T05:59:37.885305300Z"
    }
   },
   "id": "a15762283129c35"
  },
  {
   "cell_type": "markdown",
   "source": [
    "Функция eval()"
   ],
   "metadata": {
    "collapsed": false
   },
   "id": "40656f22cd6a306e"
  },
  {
   "cell_type": "markdown",
   "source": [
    "Функция eval() выполняет строку-выражение, переданную ей в качестве обязательного аргумента, и возвращает результат выполнения этой строки. Аргумент функции:\n",
    "\n",
    "expression — строка-выражение, которую требуется исполнить\n",
    "Для выполнения строки-выражения, функция eval() совершает следующие шаги:\n",
    "\n",
    "Парсит (parse) выражение\n",
    "Компилирует (compile) выражение в байт-код\n",
    "Вычисляет (evaluate) значение выражения\n",
    "Возвращает (return) результат вычисления"
   ],
   "metadata": {
    "collapsed": false
   },
   "id": "ea8d6e3a8c8e03af"
  },
  {
   "cell_type": "code",
   "execution_count": 37,
   "outputs": [
    {
     "name": "stdout",
     "output_type": "stream",
     "text": [
      "<class 'int'>\n",
      "17\n"
     ]
    }
   ],
   "source": [
    "expression = '7 + 10'\n",
    "\n",
    "result = eval(expression)\n",
    "\n",
    "print(type(result))\n",
    "print(result)"
   ],
   "metadata": {
    "collapsed": false,
    "ExecuteTime": {
     "end_time": "2024-12-11T06:06:54.074301800Z",
     "start_time": "2024-12-11T06:06:54.070273200Z"
    }
   },
   "id": "b8324a00ebeae6f8"
  },
  {
   "cell_type": "markdown",
   "source": [
    "Выражения, передаваемые в качестве аргумента функции eval(), имеют доступ ко всем встроенным функциям Python."
   ],
   "metadata": {
    "collapsed": false
   },
   "id": "29ff3e4dcf65a084"
  },
  {
   "cell_type": "code",
   "execution_count": 45,
   "outputs": [
    {
     "name": "stdout",
     "output_type": "stream",
     "text": [
      "Привет из функции eval()\n",
      "None\n",
      "5\n"
     ]
    }
   ],
   "source": [
    "expression1 = \"print('Привет из функции eval()')\"\n",
    "expression2 = \"len([1, 1, 1, 1, 1])\"\n",
    "\n",
    "result1 = eval(expression1)\n",
    "result2 = eval(expression2)\n",
    "\n",
    "print(result1)\n",
    "print(result2)"
   ],
   "metadata": {
    "collapsed": false,
    "ExecuteTime": {
     "end_time": "2024-12-11T06:10:34.594519800Z",
     "start_time": "2024-12-11T06:10:34.590890800Z"
    }
   },
   "id": "2cdd54e7fed8bd19"
  },
  {
   "cell_type": "markdown",
   "source": [
    "Выражения, передаваемые в качестве аргумента функции eval(), имеют доступ ко всем локальным и глобальным переменным."
   ],
   "metadata": {
    "collapsed": false
   },
   "id": "227d8f8d880a1297"
  },
  {
   "cell_type": "code",
   "execution_count": 49,
   "outputs": [
    {
     "name": "stdout",
     "output_type": "stream",
     "text": [
      "17\n",
      "[1, 4, 9, 16, 25]\n",
      "1.5707963267948966\n"
     ]
    }
   ],
   "source": [
    "from math import pi\n",
    "\n",
    "n = 10\n",
    "nums = [1, 2, 3, 4, 5]\n",
    "\n",
    "expression1 = \"n + 7\"\n",
    "expression2 = \"[i**2 for i in nums]\"\n",
    "expression3 = \"pi / 2\"\n",
    "\n",
    "result1 = eval(expression1)\n",
    "result2 = eval(expression2)\n",
    "result3 = eval(expression3)\n",
    "\n",
    "print(result1)\n",
    "print(result2)\n",
    "print(result3)"
   ],
   "metadata": {
    "collapsed": false,
    "ExecuteTime": {
     "end_time": "2024-12-11T06:11:26.431538800Z",
     "start_time": "2024-12-11T06:11:26.427985600Z"
    }
   },
   "id": "2bbb449d23136fa7"
  },
  {
   "cell_type": "code",
   "execution_count": 1,
   "outputs": [
    {
     "ename": "NameError",
     "evalue": "name 'pi' is not defined",
     "output_type": "error",
     "traceback": [
      "\u001B[1;31m---------------------------------------------------------------------------\u001B[0m",
      "\u001B[1;31mNameError\u001B[0m                                 Traceback (most recent call last)",
      "Cell \u001B[1;32mIn[1], line 3\u001B[0m\n\u001B[0;32m      1\u001B[0m expression3 \u001B[38;5;241m=\u001B[39m \u001B[38;5;124m\"\u001B[39m\u001B[38;5;124mpi / 2\u001B[39m\u001B[38;5;124m\"\u001B[39m\n\u001B[1;32m----> 3\u001B[0m result3 \u001B[38;5;241m=\u001B[39m \u001B[38;5;28;43meval\u001B[39;49m\u001B[43m(\u001B[49m\u001B[43mexpression3\u001B[49m\u001B[43m)\u001B[49m\n\u001B[0;32m      5\u001B[0m \u001B[38;5;28mprint\u001B[39m(result3)\n",
      "File \u001B[1;32m<string>:1\u001B[0m\n",
      "\u001B[1;31mNameError\u001B[0m: name 'pi' is not defined"
     ]
    }
   ],
   "source": [
    "expression3 = \"pi / 2\"\n",
    "\n",
    "result3 = eval(expression3)\n",
    "\n",
    "print(result3)"
   ],
   "metadata": {
    "collapsed": false,
    "ExecuteTime": {
     "end_time": "2024-12-11T10:57:16.362541300Z",
     "start_time": "2024-12-11T10:57:16.132915300Z"
    }
   },
   "id": "5ccbf5a87cc28e34"
  },
  {
   "cell_type": "markdown",
   "source": [
    "Имейте в виду, что не все языковые конструкции являются выражениями (expression). Операторами, которые нельзя использовать в качестве выражений, являются, например, while, for, if, def, import, class, raise и т."
   ],
   "metadata": {
    "collapsed": false
   },
   "id": "d360efc865f6a6df"
  },
  {
   "cell_type": "code",
   "execution_count": 52,
   "outputs": [
    {
     "ename": "SyntaxError",
     "evalue": "invalid syntax (<string>, line 1)",
     "output_type": "error",
     "traceback": [
      "Traceback \u001B[1;36m(most recent call last)\u001B[0m:\n",
      "\u001B[0m  File \u001B[0;32m~\\AppData\\Local\\Programs\\Python\\Python312\\Lib\\site-packages\\IPython\\core\\interactiveshell.py:3577\u001B[0m in \u001B[0;35mrun_code\u001B[0m\n    exec(code_obj, self.user_global_ns, self.user_ns)\u001B[0m\n",
      "\u001B[1;36m  Cell \u001B[1;32mIn[52], line 3\u001B[1;36m\n\u001B[1;33m    eval('if num == 10: print(num)')\u001B[1;36m\n",
      "\u001B[1;36m  File \u001B[1;32m<string>:1\u001B[1;36m\u001B[0m\n\u001B[1;33m    if num == 10: print(num)\u001B[0m\n\u001B[1;37m    ^\u001B[0m\n\u001B[1;31mSyntaxError\u001B[0m\u001B[1;31m:\u001B[0m invalid syntax\n"
     ]
    }
   ],
   "source": [
    "num = 17\n",
    "\n",
    "eval('if num == 10: print(num)')"
   ],
   "metadata": {
    "collapsed": false,
    "ExecuteTime": {
     "end_time": "2024-12-11T06:22:31.459352600Z",
     "start_time": "2024-12-11T06:22:31.456726700Z"
    }
   },
   "id": "88835ebba5216995"
  },
  {
   "cell_type": "markdown",
   "source": [
    "Если ключевое слово for используется в списочном выражении, то функция eval() может его вычислить."
   ],
   "metadata": {
    "collapsed": false
   },
   "id": "551d759b0fe7010b"
  },
  {
   "cell_type": "code",
   "execution_count": 53,
   "outputs": [
    {
     "name": "stdout",
     "output_type": "stream",
     "text": [
      "[0, 1, 4, 9, 16]\n"
     ]
    }
   ],
   "source": [
    "expression = \"[x**2 for x in range(5)]\"\n",
    "result = eval(expression)\n",
    "print(result)"
   ],
   "metadata": {
    "collapsed": false,
    "ExecuteTime": {
     "end_time": "2024-12-11T06:23:16.418195500Z",
     "start_time": "2024-12-11T06:23:16.414736600Z"
    }
   },
   "id": "12891daad779f0a1"
  },
  {
   "cell_type": "code",
   "execution_count": null,
   "outputs": [],
   "source": [
    "num = 17\n",
    "\n",
    "eval(\"print(num) if num == 10 else print('AZAZA')\")"
   ],
   "metadata": {
    "collapsed": false
   },
   "id": "7f7cdf51f93c572b"
  },
  {
   "cell_type": "markdown",
   "source": [
    "Здесь, как и в случае со списочным выражением и оператором for, тернарное выражение допускает применение операторов if и else"
   ],
   "metadata": {
    "collapsed": false
   },
   "id": "d95167bb9bd9684b"
  },
  {
   "cell_type": "markdown",
   "source": [
    " Несмотря на то, что eval() не поддерживает прямой импорт с использованием конструкции import, вызов __import__('math') — это допустимый вызов Python-функции, который возвращает модуль math. После этого можно использовать его атрибуты, например, pi."
   ],
   "metadata": {
    "collapsed": false
   },
   "id": "5ba4aa346f9cf1a4"
  },
  {
   "cell_type": "code",
   "execution_count": null,
   "outputs": [],
   "source": [
    "print(eval(\"__import__('math').pi / 2\"))"
   ],
   "metadata": {
    "collapsed": false
   },
   "id": "87787cd5b525ac35"
  },
  {
   "cell_type": "markdown",
   "source": [
    "Парсинг объектов"
   ],
   "metadata": {
    "collapsed": false
   },
   "id": "ce93b2543851eb2e"
  },
  {
   "cell_type": "markdown",
   "source": [
    "С помощью функции eval() можно парсить объекты, то есть преобразовывать из строки в реальные Python объекты."
   ],
   "metadata": {
    "collapsed": false
   },
   "id": "224c2224ba197e94"
  },
  {
   "cell_type": "code",
   "execution_count": 54,
   "outputs": [
    {
     "name": "stdout",
     "output_type": "stream",
     "text": [
      "<class 'list'> 3\n",
      "<class 'tuple'> 5\n",
      "<class 'dict'> February\n"
     ]
    }
   ],
   "source": [
    "list_data = eval(\"['Python', 'C#', 'Java']\")\n",
    "tuple_data = eval('(1, 2, 3, 4, 5)')\n",
    "dict_data = eval(\"{1: 'January', 2: 'February'}\")\n",
    "\n",
    "print(type(list_data), len(list_data))\n",
    "print(type(tuple_data), max(tuple_data))\n",
    "print(type(dict_data), dict_data[2])"
   ],
   "metadata": {
    "collapsed": false,
    "ExecuteTime": {
     "end_time": "2024-12-11T06:24:12.979592700Z",
     "start_time": "2024-12-11T06:24:12.974420500Z"
    }
   },
   "id": "2acd7159d96baee9"
  },
  {
   "cell_type": "markdown",
   "source": [
    "Функция exec()"
   ],
   "metadata": {
    "collapsed": false
   },
   "id": "92ab407308676dca"
  },
  {
   "cell_type": "markdown",
   "source": [
    "Функция exec(), в отличие от eval(), принимает блок кода и выполняет его, возвращая значение None. Аргумент функции:\n",
    "\n",
    "code — строка, представляющая собой корректный блок кода"
   ],
   "metadata": {
    "collapsed": false
   },
   "id": "c63450b1e1e4a4c5"
  },
  {
   "cell_type": "code",
   "execution_count": 57,
   "outputs": [
    {
     "name": "stdout",
     "output_type": "stream",
     "text": [
      "30\n"
     ]
    }
   ],
   "source": [
    "code = '''a = 10\n",
    "b = 20\n",
    "print(a + b)'''\n",
    "\n",
    "exec(code)"
   ],
   "metadata": {
    "collapsed": false,
    "ExecuteTime": {
     "end_time": "2024-12-11T06:36:54.036530400Z",
     "start_time": "2024-12-11T06:36:54.025521800Z"
    }
   },
   "id": "20eaf8a01f70a9aa"
  },
  {
   "cell_type": "markdown",
   "source": [
    "Важно понимать, что функция exec() именно выполняет переданный блок кода и всегда возвращает значение None."
   ],
   "metadata": {
    "collapsed": false
   },
   "id": "6aa65d7b266164a4"
  },
  {
   "cell_type": "code",
   "execution_count": 58,
   "outputs": [
    {
     "name": "stdout",
     "output_type": "stream",
     "text": [
      "None\n"
     ]
    }
   ],
   "source": [
    "code = '100 + 10*7 - 14'\n",
    "\n",
    "result = exec(code)\n",
    "\n",
    "print(result)"
   ],
   "metadata": {
    "collapsed": false,
    "ExecuteTime": {
     "end_time": "2024-12-11T06:37:35.455408300Z",
     "start_time": "2024-12-11T06:37:35.450295200Z"
    }
   },
   "id": "4ecd55db0c3d5f63"
  },
  {
   "cell_type": "markdown",
   "source": [
    "Блок кода, передаваемый в качестве аргумента функции exec(), имеет доступ ко всем встроенным функциям Python."
   ],
   "metadata": {
    "collapsed": false
   },
   "id": "ba3edbb09bdde486"
  },
  {
   "cell_type": "code",
   "execution_count": 59,
   "outputs": [
    {
     "name": "stdout",
     "output_type": "stream",
     "text": [
      "[1, 2, 3, 4, 5]\n",
      "15\n",
      "5\n"
     ]
    }
   ],
   "source": [
    "code1 = 'print(sorted([3, 5, 4, 1, 2]))'\n",
    "code2 = 'print(sum([3, 5, 4, 1, 2]))'\n",
    "code3 = 'print(len([3, 5, 4, 1, 2]))'\n",
    "\n",
    "exec(code1)\n",
    "exec(code2)\n",
    "exec(code3)"
   ],
   "metadata": {
    "collapsed": false,
    "ExecuteTime": {
     "end_time": "2024-12-11T06:41:30.801570400Z",
     "start_time": "2024-12-11T06:41:30.770554Z"
    }
   },
   "id": "fd052418406bea0b"
  },
  {
   "cell_type": "markdown",
   "source": [
    "Блок кода, передаваемый в качестве аргумента функции exec(), имеет доступ ко всем локальным и глобальным переменным."
   ],
   "metadata": {
    "collapsed": false
   },
   "id": "ce3108d076258189"
  },
  {
   "cell_type": "code",
   "execution_count": 60,
   "outputs": [
    {
     "name": "stdout",
     "output_type": "stream",
     "text": [
      "15\n",
      "Timur Guev\n"
     ]
    }
   ],
   "source": [
    "numbers = [1, 2, 3, 4, 5]\n",
    "info = {'name': 'Timur', 'surname': 'Guev'}\n",
    "\n",
    "code1 = '''total = 0\n",
    "for i in numbers:\n",
    "    total += i\n",
    "print(total)'''\n",
    "code2 = 'print(info[\"name\"], info[\"surname\"])'\n",
    "\n",
    "exec(code1)\n",
    "exec(code2)"
   ],
   "metadata": {
    "collapsed": false,
    "ExecuteTime": {
     "end_time": "2024-12-11T06:41:33.248171700Z",
     "start_time": "2024-12-11T06:41:33.240652100Z"
    }
   },
   "id": "1929bd45f3da8b5b"
  },
  {
   "cell_type": "markdown",
   "source": [
    "Примечание 3. Использовать функции eval() и exec() нужно аккуратно, поскольку они являются небезопасными, так как выполняют произвольный код. Выполняемый код должен быть надежным и не содержать потенциальных угроз."
   ],
   "metadata": {
    "collapsed": false
   },
   "id": "b84b1ddd17f28893"
  },
  {
   "cell_type": "markdown",
   "source": [
    "Коллекции\n",
    "Напишите программу, которая принимает на вход корректный непустой список, корректный непустой кортеж или корректное множество произвольной длины, и выполняет следующее:\n",
    "\n",
    "если введен список, выводит его последний элемент\n",
    "если введен кортеж, выводит его первый элемент\n",
    "если введено множество, выводит количество его элементов\n",
    "Формат входных данных\n",
    "На вход программе подается корректный непустой список, кортеж или корректное произвольной длины множество.\n",
    "\n",
    "Формат выходных данных\n",
    "Программа должна вывести определенное значение, в зависимости от типа введенной коллекции."
   ],
   "metadata": {
    "collapsed": false
   },
   "id": "5edf96ec8dc2824b"
  },
  {
   "cell_type": "code",
   "execution_count": 114,
   "outputs": [
    {
     "name": "stdout",
     "output_type": "stream",
     "text": [
      "black\n"
     ]
    }
   ],
   "source": [
    "s = eval(input())\n",
    "# s = eval('[[1, 2], [3, 4], [5, 6]]')\n",
    "# s = eval(\"{'Arthur', 'Timur', 'Anri', 'Ruslan', 'Dima'}\")\n",
    "# s = eval(\"('black', 'blue', 'red', 'orange', 'green', 'gray')\")\n",
    "\n",
    "if type(s) == list:\n",
    "    print(s[-1])\n",
    "elif type(s) == tuple:\n",
    "    print(s[0])\n",
    "elif type(s) == set:\n",
    "    print(len(s))"
   ],
   "metadata": {
    "collapsed": false,
    "ExecuteTime": {
     "end_time": "2024-12-11T09:36:42.338633400Z",
     "start_time": "2024-12-11T09:36:42.333452400Z"
    }
   },
   "id": "35632432cea707e5"
  },
  {
   "cell_type": "markdown",
   "source": [
    "Математические выражения\n",
    "Напишите программу, которая принимает на вход произвольное количество строк, содержащих корректные математические выражения, и выводит значение наибольшего из них.\n",
    "\n",
    "Формат входных данных\n",
    "На вход программе подается произвольное количество строк, каждое из которых содержит корректное математическое выражение.\n",
    "\n",
    "Формат выходных данных\n",
    "Программа должна вычислить значения введенных выражений и вывести наибольшее.\n",
    "\n",
    "Примечание 1. Под корректным математическим выражением подразумевается выражение, полностью соответствующее синтаксису языка Python."
   ],
   "metadata": {
    "collapsed": false
   },
   "id": "407ed01eafad06a9"
  },
  {
   "cell_type": "code",
   "execution_count": null,
   "outputs": [],
   "source": [
    "from sys import stdin\n",
    "\n",
    "print(max((eval(i) for i in stdin)))"
   ],
   "metadata": {
    "collapsed": false
   },
   "id": "f513cec0b0174ec9"
  },
  {
   "cell_type": "code",
   "execution_count": null,
   "outputs": [],
   "source": [
    "import sys\n",
    "\n",
    "print(max(map(eval, sys.stdin)))"
   ],
   "metadata": {
    "collapsed": false
   },
   "id": "9c941c7ce64f127a"
  },
  {
   "cell_type": "code",
   "execution_count": null,
   "outputs": [],
   "source": [
    "print(max(map(eval, open(0))))"
   ],
   "metadata": {
    "collapsed": false
   },
   "id": "292259454d21b811"
  },
  {
   "cell_type": "markdown",
   "source": [
    "Минимум и максимум\n",
    "Напишите программу, которая определяет минимальное и максимальное значения функции на отрезке в целых точках.\n",
    "\n",
    "Формат входных данных\n",
    "На вход программе в первой строке подается корректная функция f(x), в следующей строке вводятся два целых числа a и b, разделенные пробелом, которые представляют границы отрезка [a;b].\n",
    "\n",
    "Формат выходных данных\n",
    "Программа должна определить минимальное и максимальное значения функции f(x) на отрезке [a;b] в целых точках и вывести полученный результат в следующем формате:\n",
    "\n",
    "Минимальное значение функции <функция f(x)> на отрезке <отрезок> равно <мин. значение>\n",
    "Максимальное значение функции <функция f(x)> на отрезке <отрезок> равно <макс. значение>\n",
    "Примечание 1. Под корректной функцией подразумевается выражение, полностью соответствующее синтаксису языка Python."
   ],
   "metadata": {
    "collapsed": false
   },
   "id": "c86755d1f84070"
  },
  {
   "cell_type": "code",
   "execution_count": null,
   "outputs": [],
   "source": [
    "f = input()\n",
    "a, b = input().split()\n",
    "\n",
    "l = [eval(f) for x in range(int(a), int(b) + 1)]\n",
    "print(f\"Минимальное значение функции {f} на отрезке [{a}; {b}] равно {min(l)}\")\n",
    "print(f\"Максимальное значение функции {f} на отрезке [{a}; {b}] равно {max(l)}\")"
   ],
   "metadata": {
    "collapsed": false
   },
   "id": "985220e74412f6a2"
  }
 ],
 "metadata": {
  "kernelspec": {
   "display_name": "Python 3",
   "language": "python",
   "name": "python3"
  },
  "language_info": {
   "codemirror_mode": {
    "name": "ipython",
    "version": 2
   },
   "file_extension": ".py",
   "mimetype": "text/x-python",
   "name": "python",
   "nbconvert_exporter": "python",
   "pygments_lexer": "ipython2",
   "version": "2.7.6"
  }
 },
 "nbformat": 4,
 "nbformat_minor": 5
}

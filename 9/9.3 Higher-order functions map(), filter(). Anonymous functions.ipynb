{
 "cells": [
  {
   "cell_type": "markdown",
   "source": [
    "Тема урока: анонимные функции, функции map(), filter()\n",
    "Анонимные функции\n",
    "Функция map()\n",
    "Функция filter()\n",
    "Аннотация. Урок посвящен повторению анонимных функций и функций высшего порядка map() и filter(), которые были нами изучены в рамках прошлого курса."
   ],
   "metadata": {
    "collapsed": false
   },
   "id": "69556bb486587c06"
  },
  {
   "cell_type": "markdown",
   "source": [
    "Анонимные функции"
   ],
   "metadata": {
    "collapsed": false
   },
   "id": "5d55d504c0c5865d"
  },
  {
   "cell_type": "markdown",
   "source": [
    "В языке Python для определения функций используется ключевое слово def. Приведенный ниже код определяет функцию hello(), принимающую один аргумент name:"
   ],
   "metadata": {
    "collapsed": false
   },
   "id": "d70a656c8de50348"
  },
  {
   "cell_type": "code",
   "execution_count": 1,
   "outputs": [
    {
     "name": "stdout",
     "output_type": "stream",
     "text": [
      "Привет, Гвидо!\n"
     ]
    }
   ],
   "source": [
    "def hello(name):\n",
    "    print(f'Привет, {name}!')\n",
    "\n",
    "\n",
    "hello('Гвидо')"
   ],
   "metadata": {
    "collapsed": false,
    "ExecuteTime": {
     "end_time": "2024-12-11T12:35:32.813942300Z",
     "start_time": "2024-12-11T12:35:32.808139700Z"
    }
   },
   "id": "80da815b0a6d0d86"
  },
  {
   "cell_type": "markdown",
   "source": [
    "Иногда, бывают ситуации, когда определяемые нами функции используются единственный раз. Для таких функций можно использовать синтаксис анонимных функций (лямбда-функций) с помощью ключевого слова lambda. Определенную выше функцию hello() можно записать следующим образом:"
   ],
   "metadata": {
    "collapsed": false
   },
   "id": "aebca566639febf8"
  },
  {
   "cell_type": "code",
   "execution_count": 2,
   "outputs": [
    {
     "name": "stdout",
     "output_type": "stream",
     "text": [
      "Привет, Деннис!\n"
     ]
    }
   ],
   "source": [
    "hello = lambda name: print(f'Привет, {name}!')\n",
    "hello('Деннис')"
   ],
   "metadata": {
    "collapsed": false,
    "ExecuteTime": {
     "end_time": "2024-12-11T12:36:05.138949300Z",
     "start_time": "2024-12-11T12:36:05.135642200Z"
    }
   },
   "id": "67b2c26a2d2ea750"
  },
  {
   "cell_type": "markdown",
   "source": [
    "Общий формат определения анонимной функции: lambda список_параметров: выражение. \n",
    "\n",
    "Тут список_параметров – список параметров через запятую, выражение – значение, либо код, дающий значение.\n",
    "\n",
    "   Параметры анонимных функций, в отличие от обычных, не нужно заключать в скобки."
   ],
   "metadata": {
    "collapsed": false
   },
   "id": "ab20a72e89cac71d"
  },
  {
   "cell_type": "code",
   "execution_count": 3,
   "outputs": [
    {
     "name": "stdout",
     "output_type": "stream",
     "text": [
      "17\n",
      "100\n",
      "1500\n"
     ]
    }
   ],
   "source": [
    "f1 = lambda: 17  # функция без параметров\n",
    "f2 = lambda х, у: х ** 2 + у ** 2  # функция с двумя параметрами\n",
    "f3 = lambda х, у, z: х * у * z  # функция с тремя параметрами\n",
    "\n",
    "print(f1())\n",
    "print(f2(6, 8))\n",
    "print(f3(5, 10, 30))"
   ],
   "metadata": {
    "collapsed": false,
    "ExecuteTime": {
     "end_time": "2024-12-11T12:36:38.596231700Z",
     "start_time": "2024-12-11T12:36:38.592079400Z"
    }
   },
   "id": "a263a7824059717b"
  },
  {
   "cell_type": "markdown",
   "source": [
    "Обратите внимание на то, что анонимные функции ограничены всегда одним выражением и не содержат инструкции return."
   ],
   "metadata": {
    "collapsed": false
   },
   "id": "22ce8685717d62b3"
  },
  {
   "cell_type": "markdown",
   "source": [
    "Применение анонимных функций, как правило, оправдано в следующих ситуациях:\n",
    "\n",
    "однократное использование функции\n",
    "передача функций в качестве аргументов другим функциям\n",
    "возвращение функции в качестве результата другой функции"
   ],
   "metadata": {
    "collapsed": false
   },
   "id": "d0c885b1c8c0520b"
  },
  {
   "cell_type": "markdown",
   "source": [
    "Функции высшего порядка"
   ],
   "metadata": {
    "collapsed": false
   },
   "id": "5e671801b085a2df"
  },
  {
   "cell_type": "markdown",
   "source": [
    "Функции высшего порядка – это функции, которые принимают или/и возвращают другие функции."
   ],
   "metadata": {
    "collapsed": false
   },
   "id": "6a2c9e82b1d36ca9"
  },
  {
   "cell_type": "markdown",
   "source": [
    "Например, встроенные функции min(), max(), sorted() – функции высшего порядка, так как принимают в качестве необязательного аргумента key функцию сравнения элементов."
   ],
   "metadata": {
    "collapsed": false
   },
   "id": "f5f513f2f2b9c496"
  },
  {
   "cell_type": "code",
   "execution_count": 4,
   "outputs": [
    {
     "name": "stdout",
     "output_type": "stream",
     "text": [
      "-210\n",
      "-7\n",
      "[117, 87, 32, 10, 8, -7, -50, -100, -210]\n"
     ]
    }
   ],
   "source": [
    "numbers = [10, -7, 8, -100, -50, 32, 87, 117, -210]\n",
    "\n",
    "print(max(numbers, key=abs))  #  указываем функцию abs в качестве компаратора\n",
    "print(min(numbers, key=lambda x: x ** 2))  #  указываем анонимную функцию в качестве компаратора\n",
    "print(sorted(numbers, key=lambda x: -x))  #  сортировка чисел по убыванию"
   ],
   "metadata": {
    "collapsed": false,
    "ExecuteTime": {
     "end_time": "2024-12-11T12:47:23.139363100Z",
     "start_time": "2024-12-11T12:47:23.134262Z"
    }
   },
   "id": "ddd45adc4399d1c8"
  },
  {
   "cell_type": "markdown",
   "source": [
    "Другим важным примером встроенных функций высшего порядка являются функции map() и filter(), которые принимают обязательный аргумент func, представляющий из себя функцию преобразования, либо фильтрации элементов."
   ],
   "metadata": {
    "collapsed": false
   },
   "id": "8ee3477a38de51cb"
  },
  {
   "cell_type": "markdown",
   "source": [
    "Функция map()"
   ],
   "metadata": {
    "collapsed": false
   },
   "id": "670bc7e663e776f7"
  },
  {
   "cell_type": "markdown",
   "source": [
    "Встроенная функция map() преобразует элементы переданного итерируемого объекта в соответствии с некоторой функцией и возвращает объект итератора."
   ],
   "metadata": {
    "collapsed": false
   },
   "id": "9fee00d1968bd527"
  },
  {
   "cell_type": "markdown",
   "source": [
    "Аргументы функции:\n",
    "\n",
    "func — функция, которая вызывается для каждого элемента итерируемого объекта\n",
    "iterable — итерируемый объект"
   ],
   "metadata": {
    "collapsed": false
   },
   "id": "f3cad5fb33f64cb1"
  },
  {
   "cell_type": "markdown",
   "source": [
    "Функция map() выполняет пользовательскую функцию func для каждого элемента последовательности iterable. Каждый элемент iterable отправляется в функцию func в качестве аргумента."
   ],
   "metadata": {
    "collapsed": false
   },
   "id": "cd723dd0b27d7ada"
  },
  {
   "cell_type": "code",
   "execution_count": 5,
   "outputs": [
    {
     "name": "stdout",
     "output_type": "stream",
     "text": [
      "1 4 9 16 25 36 49 64 81\n",
      "5 6 7 90 34 54 21\n",
      "123 -453 34 3490\n",
      "Timur Artur Ruslan\n"
     ]
    }
   ],
   "source": [
    "squares = map(lambda x: x ** 2, range(1, 10))\n",
    "absolute = map(abs, [-5, 6, 7, -90, 34, 54, -21])\n",
    "numbers = map(lambda s: s.replace('.', ''), ['12.3', '-45.3', '34', '34...90'])\n",
    "capitals = map(lambda s: s.capitalize(), ['timur', 'artur', 'ruslan'])\n",
    "\n",
    "print(*squares)\n",
    "print(*absolute)\n",
    "print(*numbers)\n",
    "print(*capitals)"
   ],
   "metadata": {
    "collapsed": false,
    "ExecuteTime": {
     "end_time": "2024-12-11T12:52:04.710596900Z",
     "start_time": "2024-12-11T12:52:04.705183Z"
    }
   },
   "id": "37e09cbac4dd524a"
  },
  {
   "cell_type": "markdown",
   "source": [
    "Обратите внимание на то, что функция map() возвращает специальный объект, который называется итератором. По итераторам можно пройтись циклом for или распаковать их. Итераторы будут изучаться позже."
   ],
   "metadata": {
    "collapsed": false
   },
   "id": "ae4c90d90ca76489"
  },
  {
   "cell_type": "markdown",
   "source": [
    "Если в функцию map() передаётся несколько iterable, то функция func должна принимать количество аргументов, соответствующее количеству переданных итерируемых объектов, при этом func будет применяться к элементам всех итерируемых объектов параллельно"
   ],
   "metadata": {
    "collapsed": false
   },
   "id": "fe00e00ce552a46f"
  },
  {
   "cell_type": "code",
   "execution_count": 6,
   "outputs": [
    {
     "name": "stdout",
     "output_type": "stream",
     "text": [
      "9 12\n",
      "16 9 64\n"
     ]
    }
   ],
   "source": [
    "summa = map(lambda x, y, z: x + y + z, [1, 2], [3, 4], [5, 6])\n",
    "powers = map(pow, [2, 3, 4], [4, 2, 3])\n",
    "\n",
    "print(*summa)\n",
    "print(*powers)"
   ],
   "metadata": {
    "collapsed": false,
    "ExecuteTime": {
     "end_time": "2024-12-11T12:53:55.931363700Z",
     "start_time": "2024-12-11T12:53:55.920268700Z"
    }
   },
   "id": "be3f37d40b7bafe1"
  },
  {
   "cell_type": "markdown",
   "source": [
    "При использовании нескольких последовательностей функция map() останавливается, когда исчерпывается самый короткий итерируемый объект."
   ],
   "metadata": {
    "collapsed": false
   },
   "id": "d77acc755f5199e6"
  },
  {
   "cell_type": "code",
   "execution_count": 7,
   "outputs": [
    {
     "name": "stdout",
     "output_type": "stream",
     "text": [
      "('a', 3) ('b', 4)\n"
     ]
    }
   ],
   "source": [
    "pairs = map(lambda x, y: (x, y), ['a', 'b'], [3, 4, 5, 6, 7])\n",
    "\n",
    "print(*pairs)"
   ],
   "metadata": {
    "collapsed": false,
    "ExecuteTime": {
     "end_time": "2024-12-11T12:55:54.140959Z",
     "start_time": "2024-12-11T12:55:54.133532800Z"
    }
   },
   "id": "d936c691abae8b7"
  },
  {
   "cell_type": "markdown",
   "source": [
    "Функция filter()"
   ],
   "metadata": {
    "collapsed": false
   },
   "id": "9d3e4e7a49bd21f6"
  },
  {
   "cell_type": "markdown",
   "source": [
    "Встроенная функция filter() фильтрует элементы переданного итерируемого объекта в соответствии с некоторой функцией и возвращает объект итератора.\n",
    "\n",
    "Аргументы функции:\n",
    "\n",
    "func — функция, которая принимает элемент последовательности и возвращает bool значение\n",
    "iterable — итерируемый объект\n",
    "Функция filter() фильтрует элементы переданного объекта iterable при помощи функции func. Если фильтрующая функция func вернёт False, то элемент последовательности iterable не попадёт в результирующий итератор."
   ],
   "metadata": {
    "collapsed": false
   },
   "id": "aef4ca3ce3b80590"
  },
  {
   "cell_type": "code",
   "execution_count": 8,
   "outputs": [
    {
     "name": "stdout",
     "output_type": "stream",
     "text": [
      "12 90 12\n",
      "45 67 87 45 67\n",
      "anton Alana Alika\n"
     ]
    }
   ],
   "source": [
    "nums = [9, 3, 45, 67, 12, 90, 87, 12, 45, 67]\n",
    "names = ['timur', 'anton', 'Alana', 'ruslan', '', 'Gvido', 'Alika']\n",
    "\n",
    "filter1 = filter(lambda x: x % 2 == 0, nums)\n",
    "filter2 = filter(lambda x: x % 2 == 1 and x > 10, nums)\n",
    "filter3 = filter(lambda x: len(x) > 0 and x[0].lower() == 'a', names)\n",
    "\n",
    "print(*filter1)\n",
    "print(*filter2)\n",
    "print(*filter3)"
   ],
   "metadata": {
    "collapsed": false,
    "ExecuteTime": {
     "end_time": "2024-12-11T12:57:17.356230200Z",
     "start_time": "2024-12-11T12:57:17.348779400Z"
    }
   },
   "id": "ad932532932975bf"
  },
  {
   "cell_type": "markdown",
   "source": [
    "При несложной фильтрации вместо аргумента func часто подставляют анонимную функцию, используя в ней стандартные функции или методы, возвращающие bool значения:\n",
    "\n",
    "операции сравнения\n",
    "оператор вхождения in\n",
    "оператор идентичности is\n",
    "и т.д.\n",
    "Если необходимо произвести более сложную фильтрацию, то для этого необходимо определить обычную функцию с помощью ключевого слова def и передать ее в качестве первого аргумента функции filter()."
   ],
   "metadata": {
    "collapsed": false
   },
   "id": "d99f6e02edff05e8"
  },
  {
   "cell_type": "markdown",
   "source": [
    "Примечания"
   ],
   "metadata": {
    "collapsed": false
   },
   "id": "f6fb5adff4c0739d"
  },
  {
   "cell_type": "markdown",
   "source": [
    "Примечание 2. Анонимные функции являются выражениями, то есть их можно сразу вызывать в момент определения."
   ],
   "metadata": {
    "collapsed": false
   },
   "id": "31e95098490c190"
  },
  {
   "cell_type": "code",
   "execution_count": 9,
   "outputs": [
    {
     "name": "stdout",
     "output_type": "stream",
     "text": [
      "17\n",
      "49\n"
     ]
    }
   ],
   "source": [
    "print((lambda x, y: x + y)(10, 7))\n",
    "print(eval('(lambda num: num ** 2)(7)'))"
   ],
   "metadata": {
    "collapsed": false,
    "ExecuteTime": {
     "end_time": "2024-12-11T13:00:06.524088900Z",
     "start_time": "2024-12-11T13:00:06.522575Z"
    }
   },
   "id": "66ca57b623f1509e"
  },
  {
   "cell_type": "markdown",
   "source": [
    "Примечание 3. В анонимных функциях может быть использована рекурсия."
   ],
   "metadata": {
    "collapsed": false
   },
   "id": "2eee3ba913e10677"
  },
  {
   "cell_type": "code",
   "execution_count": 10,
   "outputs": [
    {
     "name": "stdout",
     "output_type": "stream",
     "text": [
      "1\n",
      "1\n",
      "2\n",
      "6\n",
      "24\n",
      "120\n",
      "720\n",
      "5040\n",
      "40320\n",
      "362880\n"
     ]
    }
   ],
   "source": [
    "fact = lambda n: 1 if n == 0 else n * fact(n - 1)\n",
    "\n",
    "for i in range(10):\n",
    "    print(fact(i))"
   ],
   "metadata": {
    "collapsed": false,
    "ExecuteTime": {
     "end_time": "2024-12-11T13:01:39.094231Z",
     "start_time": "2024-12-11T13:01:39.090708Z"
    }
   },
   "id": "5cdaf344dcd093cb"
  },
  {
   "cell_type": "markdown",
   "source": [
    "Примечания 4. Чтобы не писать каждый раз функции, определяющие стандартные операции, можно использовать уже реализованные функции из модуля operator. Документация по данному модулю доступна по ссылке\n",
    "https://docs-python.ru/standart-library/modul-operator-python/"
   ],
   "metadata": {
    "collapsed": false
   },
   "id": "aa27941bb4831926"
  },
  {
   "cell_type": "markdown",
   "source": [
    "Примечание 5. Функции map() и filter() написаны на языке C и хорошо оптимизированы, их внутренний цикл более эффективный, чем обычный цикл for в Python."
   ],
   "metadata": {
    "collapsed": false
   },
   "id": "173f3bb6ef4b742"
  },
  {
   "cell_type": "markdown",
   "source": [
    "Примечание 6. Функция map() и filter() потребляют мало памяти, так как элементы последовательности извлекаются по запросу, следовательно, в памяти системы находится и обрабатывается только один элемент последовательности."
   ],
   "metadata": {
    "collapsed": false
   },
   "id": "914de1a90c84134d"
  },
  {
   "cell_type": "markdown",
   "source": [
    "Примечание 7. Обратите внимание на то, что итераторы, которые возвращают функции map() и filter(), можно обойти только один раз. То есть при вторичной итерации мы будем получать уже пустой итератор."
   ],
   "metadata": {
    "collapsed": false
   },
   "id": "4979cba6b85f5a42"
  },
  {
   "cell_type": "code",
   "execution_count": 11,
   "outputs": [
    {
     "name": "stdout",
     "output_type": "stream",
     "text": [
      "Первичная распаковка (итерация):  1 4 9 16 25 36 49 64 81\n",
      "Вторичная распаковка (итерация): \n",
      "Первичное преобразование в список (итерация):  [12, 90, 12]\n",
      "Вторичное преобразование в список (итерация):  []\n"
     ]
    }
   ],
   "source": [
    "squares = map(lambda x: x ** 2, range(1, 10))\n",
    "evens = filter(lambda x: x % 2 == 0, [9, 3, 45, 67, 12, 90, 87, 12, 45, 67])\n",
    "\n",
    "print('Первичная распаковка (итерация): ', *squares)\n",
    "print('Вторичная распаковка (итерация): ', *squares)\n",
    "\n",
    "print('Первичное преобразование в список (итерация): ', list(evens))\n",
    "print('Вторичное преобразование в список (итерация): ', list(evens))"
   ],
   "metadata": {
    "collapsed": false,
    "ExecuteTime": {
     "end_time": "2024-12-11T13:04:46.151436700Z",
     "start_time": "2024-12-11T13:04:46.144469900Z"
    }
   },
   "id": "c8dae54393201752"
  },
  {
   "cell_type": "markdown",
   "source": [
    "Если нужна множественная итерация, то итератор следует преобразовать в список."
   ],
   "metadata": {
    "collapsed": false
   },
   "id": "30678127ad173c0b"
  },
  {
   "cell_type": "code",
   "execution_count": 12,
   "outputs": [
    {
     "name": "stdout",
     "output_type": "stream",
     "text": [
      "1 2 -3\n"
     ]
    }
   ],
   "source": [
    "positive = [1, 2, 3, 4, 5]\n",
    "negative = [-1, -2, -3]\n",
    "combined = [1, 2, -3, 4]\n",
    "\n",
    "result = map(lambda a, b, c: a + b + c, positive, negative, combined)\n",
    "\n",
    "print(*result)"
   ],
   "metadata": {
    "collapsed": false,
    "ExecuteTime": {
     "end_time": "2024-12-11T13:33:42.877944Z",
     "start_time": "2024-12-11T13:33:42.875957500Z"
    }
   },
   "id": "c0faaaa7d7f63fa4"
  },
  {
   "cell_type": "markdown",
   "source": [
    "Вам доступен список data, содержащий произвольные объекты. Дополните приведенный ниже код, чтобы он вывел все числа (тип int и float), находящиеся в данном списке, отбрасывая дробную часть у вещественных чисел. Числа должны быть расположены в своем исходном порядке, каждое на отдельной строке.\n",
    "\n",
    "Примечание 1. Начальная часть ответа выглядит так:\n",
    "\n",
    "-16\n",
    "-202\n",
    "883\n",
    "...\n",
    "Примечание 2. В задаче удобно воспользоваться функциями map() и filter()"
   ],
   "metadata": {
    "collapsed": false
   },
   "id": "634e07a5f6ed0cc0"
  },
  {
   "cell_type": "code",
   "execution_count": 16,
   "outputs": [
    {
     "name": "stdout",
     "output_type": "stream",
     "text": [
      "-16\n",
      "-202\n",
      "883\n",
      "-765\n",
      "-105\n",
      "976\n",
      "-308\n",
      "458\n",
      "479\n",
      "-87\n",
      "-71\n",
      "112\n",
      "-621\n",
      "-715\n",
      "229\n",
      "729\n",
      "-358\n",
      "-974\n",
      "882\n",
      "-894\n",
      "323\n",
      "-224\n",
      "431\n",
      "170\n",
      "-343\n",
      "104\n",
      "-353\n",
      "-113\n",
      "288\n",
      "-708\n"
     ]
    }
   ],
   "source": [
    "data = ['Timur', -16.648911695768902, 'six', -202, 883.0093275936454, -765, (3, 4), -105.10718000213546, 976,\n",
    "        -308.96857946288094, 458, ['one', 'two'], 479.92207220345927, -87, -71, 'twelve', 112, -621, -715.0179551194733,\n",
    "        'seven', 229, 729, -358, [1, 2, 3], -974, 882, -894.4709033242768, '', 323.7720806756133, 'beegeek', -224, 431,\n",
    "        170.6353248658936, -343.0016746052049, 'number', 104.17133679352878, [], -353.5964777099863, 'zero', -113, 288,\n",
    "        None, -708.3036176571618]\n",
    "\n",
    "result = filter(lambda x: isinstance(x, int) or isinstance(x, float), data)\n",
    "result = map(int, result)\n",
    "print(*result, sep='\\n')"
   ],
   "metadata": {
    "collapsed": false,
    "ExecuteTime": {
     "end_time": "2024-12-12T06:24:39.987896200Z",
     "start_time": "2024-12-12T06:24:39.985242200Z"
    }
   },
   "id": "cc432e155c652751"
  },
  {
   "cell_type": "markdown",
   "source": [
    "Вам доступен список numbers, содержащий целые числа. Дополните приведенный ниже код, чтобы он вывел сумму квадратов всех двузначных чисел из данного списка, которые делятся на 9 без остатка.\n",
    "\n",
    "Примечание 1. Обратите внимание, на 9 должно делиться само число, а не его квадрат.\n",
    "\n",
    "Примечание 2. В задаче удобно воспользоваться функциями map() и filter()."
   ],
   "metadata": {
    "collapsed": false
   },
   "id": "b17b3d8c528eaf2a"
  },
  {
   "cell_type": "code",
   "execution_count": 46,
   "outputs": [
    {
     "name": "stdout",
     "output_type": "stream",
     "text": [
      "8100\n"
     ]
    }
   ],
   "source": [
    "numbers = [4754, -4895, -364, -4764, 4683, 1639, -43, 228, -2701, -1503, 1223, 4340, -1296, 3939, -345, 623, -3275,\n",
    "           1003, 4367, -1739, 550, -1217, -1334, 1526, -4359, -3028, -4663, 3356, 3887, 4297, -1982, 1013, 3299, 3556,\n",
    "           -3324, 417, 3531, -3134, 1782, 4439, 1652, -985, 4327, 1517, 1225, -915, 2808, -3851, -1005, 3396, 2842,\n",
    "           -3879, -3824, -3805, 1609, -4741, -3072, 3573, 4680, 588, -1430, 2378, -1095, -343, 4357, -2164, -3304, 4354,\n",
    "           4926, -352, -1187, -3313, 2741, 4786, -2689, 741, 4558, 1442, 62, -1099, -2201, -16, -3115, 1862, 2384, 4072,\n",
    "           -90, 204, 1158, -3134, -2512, 756, 4148, 4370, 1756, 3609, -1148, -3909, 4123, -2906, 69, 96, 1111]\n",
    "\n",
    "result = filter(lambda x: x % 9 == 0, numbers)\n",
    "# print(*result)\n",
    "result = filter(lambda x: abs(x) // 10 < 10, numbers)\n",
    "# print(*result)\n",
    "\n",
    "result = filter(lambda x: abs(x) // 10 < 10 and x % 9 == 0, numbers)\n",
    "# print(*result)\n",
    "\n",
    "result = map(lambda x:x**2, result)\n",
    "print(*result)\n",
    "\n",
    "print(sum(map(lambda i: i**2 if abs(i) in range(10, 100) and i % 9 == 0 else 0, numbers)))"
   ],
   "metadata": {
    "collapsed": false,
    "ExecuteTime": {
     "end_time": "2024-12-12T07:02:52.195986800Z",
     "start_time": "2024-12-12T07:02:52.180596Z"
    }
   },
   "id": "babd6a5b5fb6c056"
  },
  {
   "cell_type": "markdown",
   "source": [
    "Вам доступен список names, содержащий имена на русском языке. Дополните приведенный ниже код, чтобы он вывел все имена, которые начинаются на буквы А и М (независимо от регистра) и имеют длину больше 4. Имена должны быть расположены в лексикографическом порядке, через пробел, каждое с заглавной буквы.\n",
    "\n",
    "Примечание 1. Начальная часть ответа выглядит так:\n",
    "\n",
    "Аделина Айлин Александр ...\n",
    "Примечание 2. В задаче удобно воспользоваться функциями map() и filter()."
   ],
   "metadata": {
    "collapsed": false
   },
   "id": "25b2bbcb009445fa"
  },
  {
   "cell_type": "code",
   "execution_count": 54,
   "outputs": [
    {
     "name": "stdout",
     "output_type": "stream",
     "text": [
      "Аделина Айлин Александр Александра Алексей Алина Алиса Алёна Амелия Анастасия Андрей Арина Арсен Артемий Артём Мадина Максим Марат Маргарита Мария Матвей Милана Мирон Мирослава\n"
     ]
    }
   ],
   "source": [
    "names = ['ульяна', 'арина', 'Дмитрий', 'Сергей', 'Яна', 'мила', 'Ольга', 'софья', 'семён', 'Никита', 'маргарита', 'Василиса', 'Кирилл', 'александр', 'александра', 'Иван', 'андрей', 'Родион', 'максим', 'алиса', 'Артём', 'софия', 'владимир', 'дамир', 'Валерий', 'степан', 'Алексей', 'Марк', 'олег', 'ирина', 'Милана', 'мия', 'денис', 'Фёдор', 'Елизавета', 'айлин', 'Варвара', 'валерия', 'Алёна', 'Николь', 'юлия', 'Ксения', 'пётр', 'георгий', 'Мария', 'глеб', 'илья', 'Захар', 'Дарья', 'Евгения', 'матвей', 'Серафим', 'екатерина', 'Тимофей', 'виктор', 'Егор', 'Ника', 'анна', 'даниил', 'тихон', 'вера', 'кира', 'Эмилия', 'Виктория', 'Игорь', 'полина', 'алина', 'Давид', 'анастасия', 'Вероника', 'ярослав', 'Руслан', 'татьяна', 'Демид', 'амелия', 'Элина', 'Арсен', 'евгений', 'мадина', 'дарина', 'Савелий', 'Платон', 'Аделина', 'диана', 'Айша', 'павел', 'Стефания', 'Тимур', 'Ева', 'Елисей', 'Артемий', 'григорий', 'Мирон', 'Мирослава', 'Мира', 'Марат', 'Лилия', 'роман', 'владислав', 'Леонид']\n",
    "re_names = map(lambda x: x.capitalize(), names)\n",
    "re_filter = filter(lambda x:(x[0] == 'А' or x[0] == 'М') and len(x) > 4, re_names)\n",
    "sorted_re = sorted(re_filter)\n",
    "print(*sorted_re)"
   ],
   "metadata": {
    "collapsed": false,
    "ExecuteTime": {
     "end_time": "2024-12-12T07:19:50.081168100Z",
     "start_time": "2024-12-12T07:19:50.070664200Z"
    }
   },
   "id": "b72eb8ff8619175f"
  },
  {
   "cell_type": "markdown",
   "source": [
    "Функция fib()\n",
    "Используя синтаксис анонимных функций, реализуйте рекурсивную функцию fib(), которая принимает один аргумент:\n",
    "\n",
    "n — натуральное число\n",
    "Функция должна возвращать n-ый член последовательности Фибоначчи.\n",
    "\n",
    "Примечание 1. Последовательность Фибоначчи – последовательность натуральных чисел, где каждое последующее число является суммой двух предыдущих: \n",
    "1,1,2,3,5,8,13,21,34,55,89,144,233,...\n",
    "Примечание 2. В тестирующую систему сдайте программу, содержащую только необходимую функцию fib(), но не код, вызывающий ее."
   ],
   "metadata": {
    "collapsed": false
   },
   "id": "c7262eb90ef72899"
  },
  {
   "cell_type": "code",
   "execution_count": 55,
   "outputs": [
    {
     "name": "stdout",
     "output_type": "stream",
     "text": [
      "5\n"
     ]
    }
   ],
   "source": [
    "def fib(n):\n",
    "    if n <= 2:\n",
    "        return 1  # базовый случай\n",
    "    else:\n",
    "        return fib(n - 1) + fib(n - 2)  # рекурсивный случай\n",
    "\n",
    "\n",
    "print(fib(5))"
   ],
   "metadata": {
    "collapsed": false,
    "ExecuteTime": {
     "end_time": "2024-12-12T07:43:09.763474800Z",
     "start_time": "2024-12-12T07:43:09.760959200Z"
    }
   },
   "id": "7255767a31300a9"
  },
  {
   "cell_type": "code",
   "execution_count": null,
   "outputs": [],
   "source": [
    "d = {1: 1, 2: 1}\n",
    "fib = lambda x: d[x] if x in d else d.setdefault(x, fib(x - 1) + fib(x - 2))"
   ],
   "metadata": {
    "collapsed": false
   },
   "id": "23a456342c7a3b33"
  },
  {
   "cell_type": "code",
   "execution_count": null,
   "outputs": [],
   "source": [
    "fib = lambda n: 1 if n <= 2 else fib(n - 1) + fib(n - 2)"
   ],
   "metadata": {
    "collapsed": false
   },
   "id": "a317550c96705375"
  },
  {
   "cell_type": "markdown",
   "source": [
    "Функция print_operation_table()\n",
    "Реализуйте функцию print_operation_table(), которая принимает три аргумента в следующем порядке:\n",
    "\n",
    "operation — функция, характеризующая некоторую бинарную операцию\n",
    "rows — натуральное число\n",
    "cols — натуральное число\n",
    "Функция должна составлять и выводить таблицу из rows строк и cols столбцов, в которой элемент со строкой n и столбцом m имеет значение operation(n, m).\n",
    "\n",
    "Примечание 1. Нумерация строк и столбцов в таблице начинается с единицы.\n",
    "\n",
    "Примечание 2. Элементы в строках таблицы должны быть разделены одним пробелом, причем выравнивать таблицу необязательно.\n",
    "\n",
    "Примечание 3. Бинарная операция — математическая операция, принимающая два аргумента и возвращающая один результат.\n",
    "\n",
    "Примечание 4. В тестирующую систему сдайте программу, содержащую только необходимую функцию print_operation_table(), но не код, вызывающий ее."
   ],
   "metadata": {
    "collapsed": false
   },
   "id": "41ec08743e2aa051"
  },
  {
   "cell_type": "code",
   "execution_count": 58,
   "outputs": [
    {
     "name": "stdout",
     "output_type": "stream",
     "text": [
      "1   2   3   4   5   \n",
      "2   4   6   8   10  \n",
      "3   6   9   12  15  \n",
      "4   8   12  16  20  \n",
      "5   10  15  20  25  \n",
      "1   1   1   1   \n",
      "2   4   8   16  \n",
      "3   9   27  81  \n",
      "4   16  64  256 \n",
      "5   25  125 625 \n"
     ]
    }
   ],
   "source": [
    "def print_operation_table(operation, rows: int, cols: int):\n",
    "    # Создаем таблицу, где для каждой ячейки будет результат операции с соответствующими параметрами\n",
    "    for i in range(1, rows + 1):  # Начинаем с 1, так как индексы часто начинаются с 1\n",
    "        for j in range(1, cols + 1):  # Также начинаем с 1\n",
    "            # Выводим результат операции с отступом 3 символа\n",
    "            print(str(operation(i, j)).ljust(3), end=' ')\n",
    "        print()  # Переход на новую строку после вывода всех столбцов\n",
    "\n",
    "\n",
    "print_operation_table(lambda a, b: a * b, 5, 5)\n",
    "print_operation_table(pow, 5, 4)"
   ],
   "metadata": {
    "collapsed": false,
    "ExecuteTime": {
     "end_time": "2024-12-12T09:53:27.575668600Z",
     "start_time": "2024-12-12T09:53:27.571320Z"
    }
   },
   "id": "ce1cbc780287cf33"
  },
  {
   "cell_type": "code",
   "execution_count": null,
   "outputs": [],
   "source": [
    "def print_operation_table(operation, rows, cols):\n",
    "    for i in range(1, rows + 1):\n",
    "        print(*map(operation, [i] * cols, range(1, cols + 1)))"
   ],
   "metadata": {
    "collapsed": false
   },
   "id": "4648cba9abc7d435"
  },
  {
   "cell_type": "markdown",
   "source": [
    "Функция verification()\n",
    "Реализуйте функцию verification(), которая проверяет правильность введенного пароля. Она должна принимать четыре аргумента в следующем порядке:\n",
    "\n",
    "login — логин пользователя\n",
    "password — пароль пользователя\n",
    "success — некоторая функция\n",
    "failure — некоторая функция\n",
    "Пароль считается правильным, если в нем присутствует, хотя бы одна заглавная латинская буква, хотя бы одна строчная латинская буква и хотя бы одна цифра. Функция verification() должна вызывать функцию success() с аргументом login, если переданный пароль является правильным, иначе — функцию failure() с аргументами login и строкой-сообщением об ошибке:\n",
    "\n",
    "в пароле нет ни одной буквы, если в пароле отсутствуют латинские буквы\n",
    "в пароле нет ни одной заглавной буквы, если в пароле отсутствуют заглавные латинские буквы\n",
    "в пароле нет ни одной строчной буквы, если в пароле отсутствуют строчные латинские буквы\n",
    "в пароле нет ни одной цифры, если в пароле отсутствуют цифры\n",
    "Примечание 1. Если пароль не удовлетворяет нескольким условиям, то приоритеты выбора строки-сообщения об ошибке являются следующими:\n",
    "\n",
    "в пароле нет ни одной буквы\n",
    "в пароле нет ни одной заглавной буквы\n",
    "в пароле нет ни одной строчной буквы\n",
    "в пароле нет ни одной цифры"
   ],
   "metadata": {
    "collapsed": false
   },
   "id": "f0857d17c2d6ac7b"
  },
  {
   "cell_type": "code",
   "execution_count": 63,
   "outputs": [
    {
     "name": "stdout",
     "output_type": "stream",
     "text": [
      "Arthur_Davletov, попробуйте снова. Текст ошибки: в пароле нет ни одной строчной буквы\n"
     ]
    }
   ],
   "source": [
    "def verification(login, password, success, failure):\n",
    "    # Проверка на наличие хотя бы одной латинской буквы\n",
    "    if not any(c.isalpha() and c.isascii() for c in password):  # Проверяем на латинские буквы\n",
    "        failure(login, \"в пароле нет ни одной буквы\")\n",
    "        return\n",
    "    \n",
    "    # Проверка на наличие хотя бы одной заглавной латинской буквы\n",
    "    if not any(c.isupper() and c.isascii() for c in password):  # Проверяем на заглавную латинскую букву\n",
    "        failure(login, \"в пароле нет ни одной заглавной буквы\")\n",
    "        return\n",
    "    \n",
    "    # Проверка на наличие хотя бы одной строчной латинской буквы\n",
    "    if not any(c.islower() and c.isascii() for c in password):  # Проверяем на строчную латинскую букву\n",
    "        failure(login, \"в пароле нет ни одной строчной буквы\")\n",
    "        return\n",
    "    \n",
    "    # Проверка на наличие хотя бы одной цифры\n",
    "    if not any(c.isdigit() for c in password):  # Проверка на цифры\n",
    "        failure(login, \"в пароле нет ни одной цифры\")\n",
    "        return\n",
    "    \n",
    "    # Если все проверки пройдены, вызываем функцию success\n",
    "    success(login)\n",
    "\n",
    "\n",
    "def success(login):\n",
    "    print(f'Здравствуйте, {login}!')\n",
    "\n",
    "\n",
    "def failure(login, text):\n",
    "    print(f'{login}, попробуйте снова. Текст ошибки: {text}')\n",
    "\n",
    "\n",
    "verification('Arthur_Davletov', 'мойпарольBEE123', success, failure)"
   ],
   "metadata": {
    "collapsed": false,
    "ExecuteTime": {
     "end_time": "2024-12-12T10:04:14.286351300Z",
     "start_time": "2024-12-12T10:04:14.277502900Z"
    }
   },
   "id": "6114b12b05474d9b"
  },
  {
   "cell_type": "code",
   "execution_count": null,
   "outputs": [],
   "source": [
    "def verification(login, password, success, failure):\n",
    "    vd = {str.isalpha: 'в пароле нет ни одной буквы', \n",
    "          str.islower: 'в пароле нет ни одной строчной буквы',\n",
    "          str.isupper: 'в пароле нет ни одной заглавной буквы',\n",
    "          str.isdigit: 'в пароле нет ни одной цифры'}\n",
    "    for f in vd:\n",
    "        if not any(f(i) for i in password):\n",
    "            return failure(login, vd[f])\n",
    "    success(login)"
   ],
   "metadata": {
    "collapsed": false
   },
   "id": "cb17e6ce297dc17c"
  },
  {
   "cell_type": "code",
   "execution_count": null,
   "outputs": [],
   "source": [
    "def verification(login, password, success, failure):\n",
    "    checks = [\n",
    "        (lambda p: any(c.isalpha() and c.isascii() for c in p), \"в пароле нет ни одной буквы\"),\n",
    "        (lambda p: any(c.isupper() and c.isascii() for c in p), \"в пароле нет ни одной заглавной буквы\"),\n",
    "        (lambda p: any(c.islower() and c.isascii() for c in p), \"в пароле нет ни одной строчной буквы\"),\n",
    "        (lambda p: any(c.isdigit() for c in p), \"в пароле нет ни одной цифры\")\n",
    "    ]\n",
    "    \n",
    "    for check, msg in checks:\n",
    "        if not check(password):\n",
    "            failure(login, msg)\n",
    "            return\n",
    "    \n",
    "    success(login)"
   ],
   "metadata": {
    "collapsed": false
   },
   "id": "6570518b1944e177"
  }
 ],
 "metadata": {
  "kernelspec": {
   "display_name": "Python 3",
   "language": "python",
   "name": "python3"
  },
  "language_info": {
   "codemirror_mode": {
    "name": "ipython",
    "version": 2
   },
   "file_extension": ".py",
   "mimetype": "text/x-python",
   "name": "python",
   "nbconvert_exporter": "python",
   "pygments_lexer": "ipython2",
   "version": "2.7.6"
  }
 },
 "nbformat": 4,
 "nbformat_minor": 5
}

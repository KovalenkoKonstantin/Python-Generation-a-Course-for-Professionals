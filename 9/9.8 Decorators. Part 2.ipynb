{
 "cells": [
  {
   "cell_type": "markdown",
   "source": [
    "Тема урока: декораторы\n",
    "Сохранение атрибутов __name__ и __doc__ для декорируемой функции\n",
    "Применение декоратора functools.wraps\n",
    "Шаблон декоратора общего назначения\n",
    "Декоратор, измеряющий время выполнения функции\n",
    "Декоратор отслеживания количества вызовов функции\n",
    "Декоратор замедления времени выполнения функции\n",
    "Декораторы с аргументами\n",
    "Аннотация. Урок посвящен декораторам."
   ],
   "metadata": {
    "collapsed": false
   },
   "id": "8c047495aac1c653"
  },
  {
   "cell_type": "markdown",
   "source": [
    "Сохранение атрибутов __name__ и __doc__ для декорируемой функции"
   ],
   "metadata": {
    "collapsed": false
   },
   "id": "839a7ef393125a78"
  },
  {
   "cell_type": "markdown",
   "source": [
    "Как мы уже знаем, все функции содержат специальные атрибуты __name__ и __doc__, которые содержат полезную информацию:\n",
    "\n",
    "__name__ — имя функции\n",
    "__doc__ — строка документации"
   ],
   "metadata": {
    "collapsed": false
   },
   "id": "b95a2adffb7f9d3a"
  },
  {
   "cell_type": "code",
   "execution_count": 1,
   "outputs": [
    {
     "name": "stdout",
     "output_type": "stream",
     "text": [
      "greet\n",
      "Функция приветствия пользователя.\n"
     ]
    }
   ],
   "source": [
    "from typing import Callable, Any, Tuple, Dict\n",
    "\n",
    "\n",
    "def greet(name):\n",
    "    '''Функция приветствия пользователя.'''\n",
    "    return f'Hello {name}!'\n",
    "\n",
    "print(greet.__name__)\n",
    "print(greet.__doc__)"
   ],
   "metadata": {
    "collapsed": false,
    "ExecuteTime": {
     "end_time": "2025-02-11T10:27:35.841006300Z",
     "start_time": "2025-02-11T10:27:35.837488900Z"
    }
   },
   "id": "87a7d07594558396"
  },
  {
   "cell_type": "markdown",
   "source": [
    "Рассмотрим применение декоратора bold к функции greet()."
   ],
   "metadata": {
    "collapsed": false
   },
   "id": "2b4d8f4dac44d45d"
  },
  {
   "cell_type": "code",
   "execution_count": 2,
   "outputs": [
    {
     "name": "stdout",
     "output_type": "stream",
     "text": [
      "wrapper\n",
      "None\n"
     ]
    }
   ],
   "source": [
    "def bold(func):\n",
    "    def wrapper(*args, **kwargs):\n",
    "        return '<b>' + func(*args, **kwargs) + '</b>'\n",
    "    return wrapper\n",
    "\n",
    "@bold\n",
    "def greet(name):\n",
    "    '''Функция приветствия пользователя.'''\n",
    "    return f'Hello {name}!'\n",
    "\n",
    "print(greet.__name__)\n",
    "print(greet.__doc__)"
   ],
   "metadata": {
    "collapsed": false,
    "ExecuteTime": {
     "end_time": "2025-02-11T10:28:01.880207400Z",
     "start_time": "2025-02-11T10:28:01.875343800Z"
    }
   },
   "id": "8dac060605999359"
  },
  {
   "cell_type": "markdown",
   "source": [
    "После того как к функции greet() был применен декоратор, её атрибуты __name__ и __doc__ изменились на имя и строку документации внутренней функции wrapper() декоратора bold. Хотя чисто технически это верно, это не очень хорошо."
   ],
   "metadata": {
    "collapsed": false
   },
   "id": "4ba2242efd647ffe"
  },
  {
   "cell_type": "markdown",
   "source": [
    "Одно из решений такой проблемы выглядит следующим образом:"
   ],
   "metadata": {
    "collapsed": false
   },
   "id": "dd4abcaf286b0f9"
  },
  {
   "cell_type": "code",
   "execution_count": 3,
   "outputs": [
    {
     "name": "stdout",
     "output_type": "stream",
     "text": [
      "greet\n",
      "Функция приветствия пользователя.\n"
     ]
    }
   ],
   "source": [
    "def bold(func):\n",
    "    def wrapper(*args, **kwargs):\n",
    "        return '<b>' + func(*args, **kwargs) + '</b>'\n",
    "    wrapper.__name__ = func.__name__\n",
    "    wrapper.__doc__ = func.__doc__\n",
    "    return wrapper\n",
    "\n",
    "@bold\n",
    "def greet(name):\n",
    "    '''Функция приветствия пользователя.'''\n",
    "    return f'Hello {name}!'\n",
    "\n",
    "print(greet.__name__)\n",
    "print(greet.__doc__)"
   ],
   "metadata": {
    "collapsed": false,
    "ExecuteTime": {
     "end_time": "2025-02-11T10:32:49.535458Z",
     "start_time": "2025-02-11T10:32:49.529511800Z"
    }
   },
   "id": "b1570bc06a2ba412"
  },
  {
   "cell_type": "markdown",
   "source": [
    "Теперь у функции greet() атрибуты __name__ и __doc__ не перетираются после применения декоратора."
   ],
   "metadata": {
    "collapsed": false
   },
   "id": "accfa61232a00e9c"
  },
  {
   "cell_type": "markdown",
   "source": [
    "Применение декоратора functools.wraps"
   ],
   "metadata": {
    "collapsed": false
   },
   "id": "15aa6b1773bd7430"
  },
  {
   "cell_type": "markdown",
   "source": [
    "Решение проблемы связанное с перетиранием атрибутов __name__ и __doc__ является рабочим, однако каждый раз писать в декораторе строки кода, которые восстанавливают значения данных атрибутов, не очень хорошо."
   ],
   "metadata": {
    "collapsed": false
   },
   "id": "67dffddf83bfeade"
  },
  {
   "cell_type": "markdown",
   "source": [
    "Для решения проблемы перетирания данных атрибутов на практике используют другой декоратор, который находится в модуле functools и называется wraps. Таким образом, чтобы предотвратить перетирание атрибутов __name__ и __doc__ декорируемой функции, декораторы должны использовать декоратор functools.wraps, который сохраняет информацию о первоначальной функции."
   ],
   "metadata": {
    "collapsed": false
   },
   "id": "bcc4731106aa1969"
  },
  {
   "cell_type": "code",
   "execution_count": 4,
   "outputs": [
    {
     "name": "stdout",
     "output_type": "stream",
     "text": [
      "greet\n",
      "Функция приветствие пользователя.\n"
     ]
    }
   ],
   "source": [
    "import functools\n",
    "\n",
    "def bold(func):\n",
    "    @functools.wraps(func)\n",
    "    def wrapper(*args, **kwargs):\n",
    "        return '<b>' + func(*args, **kwargs) + '</b>'\n",
    "    return wrapper\n",
    "\n",
    "@bold\n",
    "def greet(name):\n",
    "    '''Функция приветствие пользователя.'''\n",
    "    return f'Hello {name}!'\n",
    "\n",
    "print(greet.__name__)\n",
    "print(greet.__doc__)"
   ],
   "metadata": {
    "collapsed": false,
    "ExecuteTime": {
     "end_time": "2025-02-11T10:34:59.685855800Z",
     "start_time": "2025-02-11T10:34:59.678518700Z"
    }
   },
   "id": "c2d0dd582790076a"
  },
  {
   "cell_type": "markdown",
   "source": [
    "еперь у функции greet() атрибуты __name__ и __doc__ не перетираются после применения декоратора bold."
   ],
   "metadata": {
    "collapsed": false
   },
   "id": "d8b11c6633ee83e8"
  },
  {
   "cell_type": "markdown",
   "source": [
    "Шаблон декоратора общего назначения"
   ],
   "metadata": {
    "collapsed": false
   },
   "id": "165e7d3165e3eacf"
  },
  {
   "cell_type": "markdown",
   "source": [
    "Все декораторы в большинстве случаев делают примерно одно и то же. Наиболее частый шаблон декоратора выглядит следующим образом:"
   ],
   "metadata": {
    "collapsed": false
   },
   "id": "3a6ac1b60083d7"
  },
  {
   "cell_type": "code",
   "execution_count": null,
   "outputs": [],
   "source": [
    "import functools\n",
    "\n",
    "def decorator(func):\n",
    "    @functools.wraps(func)\n",
    "    def wrapper(*args, **kwargs):\n",
    "        # Что-то выполняется до вызова декорируемой функции\n",
    "        value = func(*args, **kwargs)\n",
    "        # декорируется возвращаемое значение функции\n",
    "        # или что-то выполняется после вызова декорируемой функции\n",
    "        return value\n",
    "    return wrapper"
   ],
   "metadata": {
    "collapsed": false
   },
   "id": "f14b814c6f4b5e39"
  },
  {
   "cell_type": "markdown",
   "source": [
    " На основе этого шаблона можно строить декораторы общего назначения."
   ],
   "metadata": {
    "collapsed": false
   },
   "id": "925cfcf99c0725e3"
  },
  {
   "cell_type": "markdown",
   "source": [
    "Декоратор измерения времени работы функции"
   ],
   "metadata": {
    "collapsed": false
   },
   "id": "da620bb8c42fcec0"
  },
  {
   "cell_type": "markdown",
   "source": [
    "Следующий декоратор измеряет и выводит время выполнения декорируемой функции. Декоратор вычисляет время непосредственно перед запуском функции и сразу после ее завершения и выводит разницу подсчитанных времен."
   ],
   "metadata": {
    "collapsed": false
   },
   "id": "42a4b9d6e367bcd2"
  },
  {
   "cell_type": "code",
   "execution_count": 5,
   "outputs": [
    {
     "name": "stdout",
     "output_type": "stream",
     "text": [
      "Время выполнения test: 0.0014 сек.\n",
      "Время выполнения sleep: 4.0003 сек.\n",
      "Результат функции test = 34005033.67003367\n",
      "Результат функции sleep = None\n"
     ]
    }
   ],
   "source": [
    "import functools, time\n",
    "\n",
    "def timer(func):\n",
    "    @functools.wraps(func)\n",
    "    def wrapper(*args, **kwargs):\n",
    "        start = time.perf_counter()\n",
    "        val = func(*args, **kwargs)\n",
    "        end = time.perf_counter()\n",
    "        work_time = end - start\n",
    "        print(f'Время выполнения {func.__name__}: {round(work_time, 4)} сек.')\n",
    "        return val\n",
    "    return wrapper\n",
    "\n",
    "@timer\n",
    "def test(n):\n",
    "    return sum([(i/99)**2 for i in range(n)])\n",
    "\n",
    "@timer\n",
    "def sleep(n):\n",
    "    time.sleep(n)\n",
    "\n",
    "res1 = test(10000)\n",
    "res2 = sleep(4)\n",
    "\n",
    "print(f'Результат функции test = {res1}')\n",
    "print(f'Результат функции sleep = {res2}')"
   ],
   "metadata": {
    "collapsed": false,
    "ExecuteTime": {
     "end_time": "2025-02-11T12:30:21.208977800Z",
     "start_time": "2025-02-11T12:30:17.200425300Z"
    }
   },
   "id": "41cb63d28029062e"
  },
  {
   "cell_type": "markdown",
   "source": [
    "Декоратор отслеживания количества вызовов функции"
   ],
   "metadata": {
    "collapsed": false
   },
   "id": "aae033bedd551b79"
  },
  {
   "cell_type": "markdown",
   "source": [
    "Иногда полезно иметь декоратор, который может отслеживать состояние вызова функции. Создадим декоратор, который подсчитывает, сколько раз вызывается функция. Для сохранения состояния счетчика будем использовать пользовательский атрибут функции."
   ],
   "metadata": {
    "collapsed": false
   },
   "id": "e0b0efbb3a15273a"
  },
  {
   "cell_type": "code",
   "execution_count": 8,
   "outputs": [
    {
     "name": "stdout",
     "output_type": "stream",
     "text": [
      "Вызов greet: 1\n",
      "Hello Timur!\n",
      "Вызов greet: 2\n",
      "Hello Ruslan!\n",
      "Вызов greet: 3\n",
      "Hello Arthur!\n",
      "Вызов greet: 4\n",
      "Hello Gvido!\n"
     ]
    }
   ],
   "source": [
    "import functools\n",
    "\n",
    "def counter(func):\n",
    "    @functools.wraps(func)\n",
    "    def wrapper(*args, **kwargs):\n",
    "        wrapper.num += 1\n",
    "        print(f'Вызов {func.__name__}: {wrapper.num}')\n",
    "        val = func(*args, **kwargs)\n",
    "        return val\n",
    "    wrapper.num = 0 # Когда создается функция wrapper внутри декоратора, мы добавляем к ней атрибут num, инициализируя его значением 0\n",
    "    return wrapper\n",
    "\n",
    "@counter\n",
    "def greet(name):\n",
    "    return f'Hello {name}!'\n",
    "\n",
    "print(greet('Timur'))\n",
    "print(greet('Ruslan'))\n",
    "print(greet('Arthur'))\n",
    "print(greet('Gvido'))"
   ],
   "metadata": {
    "collapsed": false,
    "ExecuteTime": {
     "end_time": "2025-02-11T12:34:51.107148400Z",
     "start_time": "2025-02-11T12:34:51.100786500Z"
    }
   },
   "id": "9fffb10f676f22de"
  },
  {
   "cell_type": "markdown",
   "source": [
    "Поскольку атрибут num сохраняется в объекте wrapper, он поддерживает состояние между вызовами. Это означает, что каждый вызов функции, декорированной с помощью counter, будет увеличивать этот счетчик, даже если сами вызовы происходят в разных местах или при разных аргументах."
   ],
   "metadata": {
    "collapsed": false
   },
   "id": "145ab9c81fa6b9d4"
  },
  {
   "cell_type": "markdown",
   "source": [
    "Атрибут num можно добавлять к функции после её определения."
   ],
   "metadata": {
    "collapsed": false
   },
   "id": "c3711da5e6fbcce3"
  },
  {
   "cell_type": "markdown",
   "source": [
    "Предположим, если бы вы попытались инициализировать num до функции wrapper, это привело бы к ошибке, так как вы не можете присваивать атрибут функции, которая ещё не существует в момент выполнения"
   ],
   "metadata": {
    "collapsed": false
   },
   "id": "febe6678c5035962"
  },
  {
   "cell_type": "markdown",
   "source": [
    "в Python атрибуты можно создавать и изменять через точечную нотацию, и это работает как для объектов, так и для функций. Атрибуты объекта (включая функции) можно добавить, обновить или удалить с помощью точки."
   ],
   "metadata": {
    "collapsed": false
   },
   "id": "cebb967271823610"
  },
  {
   "cell_type": "markdown",
   "source": [
    "Когда мы говорим о создании атрибутов у функции, мы используем точечную нотацию, чтобы динамически добавлять атрибуты к функции, поскольку функции в Python — это объекты первого класса, которые могут иметь свои атрибуты."
   ],
   "metadata": {
    "collapsed": false
   },
   "id": "527d52144bcb4c25"
  },
  {
   "cell_type": "markdown",
   "source": [
    "Атрибуты добавляются и обновляются с использованием точечной нотации, т.е. wrapper.num = 0. Если атрибут не существует, Python создаст его; если существует — просто обновит значение."
   ],
   "metadata": {
    "collapsed": false
   },
   "id": "afcd915d3d73a72e"
  },
  {
   "cell_type": "markdown",
   "source": [
    "Декоратор замедления времени выполнения функции"
   ],
   "metadata": {
    "collapsed": false
   },
   "id": "30a433b2bab9a8c7"
  },
  {
   "cell_type": "markdown",
   "source": [
    "Иногда полезно иметь декоратор, который замедляет время выполнения функции. Создадим декоратор slow_down, который будет добавлять задержку выполнения программы в 1 секунду, прежде чем вызовет декорируемую функцию."
   ],
   "metadata": {
    "collapsed": false
   },
   "id": "fe97ada62ecfd6cc"
  },
  {
   "cell_type": "code",
   "execution_count": 4,
   "outputs": [
    {
     "name": "stdout",
     "output_type": "stream",
     "text": [
      "5\n",
      "4\n",
      "3\n",
      "2\n",
      "1\n",
      "Конец!\n"
     ]
    }
   ],
   "source": [
    "import functools\n",
    "import time\n",
    "\n",
    "def slow_down(func):\n",
    "    @functools.wraps(func)\n",
    "    def wrapper(*args, **kwargs):\n",
    "        time.sleep(1)\n",
    "        return func(*args, **kwargs)\n",
    "    return wrapper\n",
    "\n",
    "@slow_down\n",
    "def countdown(number):\n",
    "    if number < 1:\n",
    "        print('Конец!')\n",
    "    else:\n",
    "        print(number)\n",
    "        countdown(number - 1)   # Рекурсивный вызов\n",
    "        \n",
    "countdown(5)"
   ],
   "metadata": {
    "collapsed": false,
    "ExecuteTime": {
     "end_time": "2025-02-11T12:53:35.257558800Z",
     "start_time": "2025-02-11T12:53:29.245354900Z"
    }
   },
   "id": "4e4125af2c6ca7e5"
  },
  {
   "cell_type": "markdown",
   "source": [
    "Декоратор square\n",
    "Реализуйте декоратор square, который возводит возвращаемое значение декорируемой функции во вторую степень. \n",
    "\n",
    "Также декоратор должен сохранять имя и строку документации декорируемой функции.\n",
    "\n",
    "Примечание 1. Гарантируется, что возвращаемым значением декорируемой функции является объект типа int или float.\n",
    "\n",
    "Примечание 2. Не забывайте про то, что декоратор не должен поглощать возвращаемое значение декорируемой функции, а также должен уметь декорировать функции с произвольным количеством позиционных и именованных аргументов.\n",
    "\n",
    "Примечание 3. В тестирующую систему сдайте программу, содержащую только необходимый декоратор square, но не код, вызывающий его."
   ],
   "metadata": {
    "collapsed": false
   },
   "id": "78a7afea7beba77e"
  },
  {
   "cell_type": "code",
   "execution_count": 2,
   "outputs": [
    {
     "name": "stdout",
     "output_type": "stream",
     "text": [
      "100\n",
      "4\n",
      "add\n",
      "прекрасная функция\n"
     ]
    }
   ],
   "source": [
    "import functools\n",
    "\n",
    "def square(func):\n",
    "    @functools.wraps(func)\n",
    "    def wrapper(*args, **kwargs):\n",
    "        return func(*args, **kwargs) ** 2\n",
    "    return wrapper\n",
    "\n",
    "@square\n",
    "def add(a, b):\n",
    "    return a + b\n",
    "\n",
    "print(add(3, 7))\n",
    "\n",
    "@square\n",
    "def add(a, b):\n",
    "    '''прекрасная функция'''\n",
    "    return a + b\n",
    "\n",
    "print(add(1, 1))\n",
    "print(add.__name__)\n",
    "print(add.__doc__)"
   ],
   "metadata": {
    "collapsed": false,
    "ExecuteTime": {
     "end_time": "2025-02-12T12:16:35.731870200Z",
     "start_time": "2025-02-12T12:16:35.727473500Z"
    }
   },
   "id": "5b0771cacb58f217"
  },
  {
   "cell_type": "markdown",
   "source": [
    "Декоратор returns_string\n",
    "Реализуйте декоратор returns_string, который проверяет, что возвращаемое значение декорируемой функции принадлежит типу str. Если возвращаемое значение принадлежит какому-либо другому типу, декоратор должен возбуждать исключение TypeError.\n",
    "\n",
    "Также декоратор должен сохранять имя и строку документации декорируемой функции.\n",
    "\n",
    "Примечание 1. Не забывайте про то, что декоратор не должен поглощать возвращаемое значение декорируемой функции, а также должен уметь декорировать функции с произвольным количеством позиционных и именованных аргументов.\n",
    "\n",
    "Примечание 2. В тестирующую систему сдайте программу, содержащую только необходимый декоратор returns_string, но не код, вызывающий его."
   ],
   "metadata": {
    "collapsed": false
   },
   "id": "2f26bba4f11eb14c"
  },
  {
   "cell_type": "code",
   "execution_count": 4,
   "outputs": [
    {
     "name": "stdout",
     "output_type": "stream",
     "text": [
      "beegeek\n",
      "<class 'TypeError'>\n"
     ]
    }
   ],
   "source": [
    "import functools\n",
    "\n",
    "def returns_string(func):\n",
    "    @functools.wraps(func)\n",
    "    def wrapper(*args, **kwargs):\n",
    "        result = func(*args, **kwargs)\n",
    "        if isinstance(result, str):\n",
    "            return result\n",
    "        else:\n",
    "            raise TypeError\n",
    "    return wrapper\n",
    "\n",
    "@returns_string\n",
    "def beegeek():\n",
    "    return 'beegeek'\n",
    "    \n",
    "print(beegeek())\n",
    "\n",
    "@returns_string\n",
    "def add(a, b):\n",
    "    return a + b\n",
    "\n",
    "try:\n",
    "    print(add(3, 7))\n",
    "except TypeError as e:\n",
    "    print(type(e))"
   ],
   "metadata": {
    "collapsed": false,
    "ExecuteTime": {
     "end_time": "2025-02-12T12:34:23.788056100Z",
     "start_time": "2025-02-12T12:34:23.785037400Z"
    }
   },
   "id": "925e35d70825059d"
  },
  {
   "cell_type": "markdown",
   "source": [
    "Декоратор trace\n",
    "Реализуйте декоратор trace, который выводит отладочную информацию о декорируемой функции во время ее выполнения, а именно: имя функции, переданные аргументы и возвращаемое значение в следующем формате:\n",
    "\n",
    "TRACE: вызов <имя функции>() с аргументами: <кортеж позиционных аргументов>, <словарь именованных аргументов>\n",
    "TRACE: возвращаемое значение <имя функции>(): <возвращаемое значение>\n",
    "Также декоратор должен сохранять имя и строку документации декорируемой функции.\n",
    "\n",
    "Примечание 1. Не забывайте про то, что декоратор не должен поглощать возвращаемое значение декорируемой функции, а также должен уметь декорировать функции с произвольным количеством позиционных и именованных аргументов.\n",
    "\n",
    "Примечание 2. В тестирующую систему сдайте программу, содержащую только необходимый декоратор trace, но не код, вызывающий его."
   ],
   "metadata": {
    "collapsed": false
   },
   "id": "526ee9a3ee61ec39"
  },
  {
   "cell_type": "code",
   "execution_count": 18,
   "outputs": [
    {
     "name": "stdout",
     "output_type": "stream",
     "text": [
      "TRACE: вызов say() с аргументами: ('Jane', 'Hello, World'), {}\n",
      "TRACE: возвращаемое значение say(): 'Jane: Hello, World'\n",
      "sub\n",
      "прекрасная функция\n",
      "TRACE: вызов sub() с аргументами: (20, 5), {'c': 10}\n",
      "TRACE: возвращаемое значение sub(): 25\n",
      "TRACE: вызов beegeek() с аргументами: (), {}\n",
      "TRACE: возвращаемое значение beegeek(): 'beegeek'\n",
      "beegeek\n",
      "beegeek\n",
      "beegeek docs\n"
     ]
    }
   ],
   "source": [
    "import functools\n",
    "\n",
    "def trace(func):\n",
    "    @functools.wraps(func)\n",
    "    def wrapper(*args, **kwargs):\n",
    "        print(f'TRACE: вызов {func.__name__}() с аргументами: {args}, {kwargs}')\n",
    "        result = func(*args, **kwargs)\n",
    "        print(f\"TRACE: возвращаемое значение {func.__name__}(): {f\"'{result}'\" if isinstance(result, str) else result}\")\n",
    "        return result\n",
    "    return wrapper\n",
    "\n",
    "@trace\n",
    "def say(name, line):\n",
    "    return f'{name}: {line}'\n",
    "    \n",
    "say('Jane', 'Hello, World')\n",
    "\n",
    "@trace\n",
    "def sub(a, b, c):\n",
    "    '''прекрасная функция'''\n",
    "    return a - b + c\n",
    "    \n",
    "print(sub.__name__)\n",
    "print(sub.__doc__)\n",
    "sub(20, 5, c=10)\n",
    "\n",
    "@trace\n",
    "def beegeek():\n",
    "    '''beegeek docs'''\n",
    "    return 'beegeek'\n",
    "\n",
    "print(beegeek())    \n",
    "print(beegeek.__name__)\n",
    "print(beegeek.__doc__)"
   ],
   "metadata": {
    "collapsed": false,
    "ExecuteTime": {
     "end_time": "2025-02-12T13:05:26.635944Z",
     "start_time": "2025-02-12T13:05:26.628791800Z"
    }
   },
   "id": "86f70028681c4370"
  },
  {
   "cell_type": "code",
   "execution_count": null,
   "outputs": [],
   "source": [
    "import functools\n",
    "\n",
    "def trace(func):\n",
    "    @functools.wraps(func)\n",
    "    def wrapper(*args, **kwargs):\n",
    "        print(f'TRACE: вызов {func.__name__}() с аргументами: {args}, {kwargs}')\n",
    "        f = func(*args, **kwargs)\n",
    "        print(f'TRACE: возращаемое значение {func.__name__}(): {repr(f)}')\n",
    "        return f\n",
    "    return wrapper"
   ],
   "metadata": {
    "collapsed": false
   },
   "id": "8889934423f168b2"
  },
  {
   "cell_type": "markdown",
   "source": [
    "Декораторы с аргументами"
   ],
   "metadata": {
    "collapsed": false
   },
   "id": "5c3a479dd36a975f"
  },
  {
   "cell_type": "markdown",
   "source": [
    "Назовем рассматриваемые до сих пор декораторы стандартными. Стандартный декоратор — это функция, которая принимает в качестве аргумента функцию и возвращает другую функцию, подменяющую исходную."
   ],
   "metadata": {
    "collapsed": false
   },
   "id": "ab3d69a0d65aa6eb"
  },
  {
   "cell_type": "markdown",
   "source": [
    "Рассмотрим определение трех декораторов stars, lines и equals:"
   ],
   "metadata": {
    "collapsed": false
   },
   "id": "c2302c5090e35b74"
  },
  {
   "cell_type": "code",
   "execution_count": 19,
   "outputs": [],
   "source": [
    "import functools\n",
    "\n",
    "def stars(func):\n",
    "    @functools.wraps(func)\n",
    "    def wrapper(*args, **kwargs):\n",
    "        print('*' * 30)\n",
    "        return func(*args, **kwargs)\n",
    "    return wrapper\n",
    "\n",
    "def lines(func):\n",
    "    @functools.wraps(func)\n",
    "    def wrapper(*args, **kwargs):\n",
    "        print('-' * 10)\n",
    "        return func(*args, **kwargs)\n",
    "    return wrapper\n",
    "\n",
    "def equals(func):\n",
    "    @functools.wraps(func)\n",
    "    def wrapper(*args, **kwargs):\n",
    "        print('=' * 40)\n",
    "        return func(*args, **kwargs)\n",
    "    return wrapper"
   ],
   "metadata": {
    "collapsed": false,
    "ExecuteTime": {
     "end_time": "2025-02-12T13:50:42.043558900Z",
     "start_time": "2025-02-12T13:50:42.040848100Z"
    }
   },
   "id": "8a6d151f98c694d7"
  },
  {
   "cell_type": "code",
   "execution_count": 20,
   "outputs": [
    {
     "name": "stdout",
     "output_type": "stream",
     "text": [
      "******************************\n",
      "12\n",
      "----------\n",
      "200\n",
      "========================================\n",
      "99\n"
     ]
    }
   ],
   "source": [
    "@stars\n",
    "def add(a, b):\n",
    "    return a + b\n",
    "\n",
    "@lines\n",
    "def mult(a, b):\n",
    "    return a * b\n",
    "\n",
    "@equals\n",
    "def diff(a, b):\n",
    "    return a - b\n",
    "\n",
    "print(add(3, 9))\n",
    "print(mult(10, 20))\n",
    "print(diff(100, 1))"
   ],
   "metadata": {
    "collapsed": false,
    "ExecuteTime": {
     "end_time": "2025-02-12T13:50:44.080738400Z",
     "start_time": "2025-02-12T13:50:44.076969500Z"
    }
   },
   "id": "cedcd720583a49dd"
  },
  {
   "cell_type": "markdown",
   "source": [
    "Несложно заметить, что все три декоратора выполняют примерно одно и то же. Куда удобнее иметь один декоратор, который можно настраивать, передавая ему соответствующие аргументы. Для того чтобы создать декоратор, принимающий аргументы, необходимо добавить еще один уровень вложенности, то есть создать функцию, которая возвращает нужный декоратор:"
   ],
   "metadata": {
    "collapsed": false
   },
   "id": "a3ab94a1c7315391"
  },
  {
   "cell_type": "code",
   "execution_count": 22,
   "outputs": [],
   "source": [
    "def print_symbols(symbol, length):\n",
    "    def decorator(func):\n",
    "        def wrapper(*args, **kwargs):\n",
    "            print(symbol * length)\n",
    "            return func(*args, **kwargs)\n",
    "        return wrapper\n",
    "    return decorator"
   ],
   "metadata": {
    "collapsed": false,
    "ExecuteTime": {
     "end_time": "2025-02-12T13:57:34.141467300Z",
     "start_time": "2025-02-12T13:57:34.137145700Z"
    }
   },
   "id": "56ca92203f27e056"
  },
  {
   "cell_type": "code",
   "execution_count": 23,
   "outputs": [
    {
     "name": "stdout",
     "output_type": "stream",
     "text": [
      "******************************\n",
      "12\n",
      "----------\n",
      "200\n",
      "========================================\n",
      "99\n"
     ]
    }
   ],
   "source": [
    "@print_symbols('*', 30)\n",
    "def add(a, b):\n",
    "    return a + b\n",
    "\n",
    "@print_symbols('-', 10)\n",
    "def mult(a, b):\n",
    "    return a * b\n",
    "\n",
    "@print_symbols('=', 40)\n",
    "def diff(a, b):\n",
    "    return a - b\n",
    "\n",
    "print(add(3, 9))\n",
    "print(mult(10, 20))\n",
    "print(diff(100, 1))"
   ],
   "metadata": {
    "collapsed": false,
    "ExecuteTime": {
     "end_time": "2025-02-12T13:57:35.397256Z",
     "start_time": "2025-02-12T13:57:35.392400300Z"
    }
   },
   "id": "bf7b38529a775723"
  },
  {
   "cell_type": "markdown",
   "source": [
    "Функция print_symbols() на первый взгляд может показаться декоратором, но на самом деле таковым не является. Это обычная функция, которая принимает аргументы symbol и length, а затем возвращает декоратор. В свою очередь, он декорирует функции add(), mult() и diff()"
   ],
   "metadata": {
    "collapsed": false
   },
   "id": "2d5a3985754eac1f"
  },
  {
   "cell_type": "markdown",
   "source": [
    "Нужно помнить, что декоратором является функция, которая принимает функцию в качестве аргумента и возвращает функцию. В нашем примере функция print_symbols() не удовлетворяет этому условию, так как она не принимает функцию в качестве аргумента. В то время как функция decorator(), которая возвращает функцию wrapper(), является декоратором."
   ],
   "metadata": {
    "collapsed": false
   },
   "id": "9a25b9b110c1439e"
  },
  {
   "cell_type": "markdown",
   "source": [
    "Несмотря на то что функция print_symbols() декоратором как таковым не является, мы все равно называем ее декоратором с аргументами."
   ],
   "metadata": {
    "collapsed": false
   },
   "id": "fe7266847a595c9e"
  },
  {
   "cell_type": "markdown",
   "source": [
    "Рассмотрим еще несколько примеров декораторов с аргументами."
   ],
   "metadata": {
    "collapsed": false
   },
   "id": "b93c77767a69c3e0"
  },
  {
   "cell_type": "markdown",
   "source": [
    "Декоратор delayed"
   ],
   "metadata": {
    "collapsed": false
   },
   "id": "18bb67aaeceed34c"
  },
  {
   "cell_type": "markdown",
   "source": [
    "Реализуем декоратор delayed, который создает требуемую задержку выполнения кода. Такое поведение иногда требуется для мониторинга доступности какого-нибудь ресурса."
   ],
   "metadata": {
    "collapsed": false
   },
   "id": "ae3ebaa35eb2566f"
  },
  {
   "cell_type": "code",
   "execution_count": 24,
   "outputs": [],
   "source": [
    "import functools\n",
    "import time\n",
    "\n",
    "def delayed(delay=2):\n",
    "    def decorator(func):\n",
    "        @functools.wraps(func)\n",
    "        def wrapper(*args, **kwargs):\n",
    "            print(f'Спим {delay} сек.')\n",
    "            time.sleep(delay)\n",
    "            value = func(*args, **kwargs)\n",
    "            return value\n",
    "        return wrapper\n",
    "    return decorator"
   ],
   "metadata": {
    "collapsed": false,
    "ExecuteTime": {
     "end_time": "2025-02-13T05:06:36.878514100Z",
     "start_time": "2025-02-13T05:06:36.874706700Z"
    }
   },
   "id": "75756157c1086630"
  },
  {
   "cell_type": "markdown",
   "source": [
    "Задекорируем данным декоратором рекурсивную функцию обратного отсчета."
   ],
   "metadata": {
    "collapsed": false
   },
   "id": "4bdee762018475ed"
  },
  {
   "cell_type": "code",
   "execution_count": 25,
   "outputs": [
    {
     "name": "stdout",
     "output_type": "stream",
     "text": [
      "Спим 1 сек.\n",
      "5\n",
      "Спим 1 сек.\n",
      "4\n",
      "Спим 1 сек.\n",
      "3\n",
      "Спим 1 сек.\n",
      "2\n",
      "Спим 1 сек.\n",
      "1\n",
      "Спим 1 сек.\n",
      "Конец!\n"
     ]
    }
   ],
   "source": [
    "@delayed(1)\n",
    "def countdown(number):\n",
    "    if number < 1:\n",
    "        print('Конец!')\n",
    "    else:\n",
    "        print(number)\n",
    "        countdown(number - 1)\n",
    "        \n",
    "countdown(5)"
   ],
   "metadata": {
    "collapsed": false,
    "ExecuteTime": {
     "end_time": "2025-02-13T05:06:45.821902900Z",
     "start_time": "2025-02-13T05:06:39.814207400Z"
    }
   },
   "id": "d8aecb21c73df836"
  },
  {
   "cell_type": "markdown",
   "source": [
    "Функция delayed() не является декоратором. Это обычная функция, которая принимает аргумент delay, а затем возвращает декоратор. В свою очередь, он декорирует функцию countdown()"
   ],
   "metadata": {
    "collapsed": false
   },
   "id": "2af4988c41680886"
  },
  {
   "cell_type": "markdown",
   "source": [
    "Декоратор timer"
   ],
   "metadata": {
    "collapsed": false
   },
   "id": "75f434d6044fa429"
  },
  {
   "cell_type": "markdown",
   "source": [
    "Рассмотрим декоратор timer, который подсчитывает время выполнения функции. Для более точного подсчета декоратор принимает аргумент iters, который задает количество измерений."
   ],
   "metadata": {
    "collapsed": false
   },
   "id": "2ea375e7dfd7e020"
  },
  {
   "cell_type": "code",
   "execution_count": 26,
   "outputs": [],
   "source": [
    "import functools, time\n",
    "\n",
    "def timer(iters=1):\n",
    "    def decorator(func):   \n",
    "        @functools.wraps(func)\n",
    "        def wrapper(*args, **kwargs):\n",
    "            total = 0\n",
    "            for i in range(iters):\n",
    "                start = time.perf_counter()\n",
    "                value = func(*args, **kwargs)\n",
    "                end = time.perf_counter()\n",
    "                total += end - start\n",
    "            print(f'Среднее время выполнения {func.__name__}: {round(total/iters, 4)} сек.')\n",
    "            return value\n",
    "        return wrapper\n",
    "    return decorator"
   ],
   "metadata": {
    "collapsed": false,
    "ExecuteTime": {
     "end_time": "2025-02-13T05:11:12.399651600Z",
     "start_time": "2025-02-13T05:11:12.395676500Z"
    }
   },
   "id": "ba704e088ec72f0d"
  },
  {
   "cell_type": "code",
   "execution_count": 27,
   "outputs": [
    {
     "name": "stdout",
     "output_type": "stream",
     "text": [
      "Среднее время выполнения test: 0.0015 сек.\n",
      "Среднее время выполнения sleep: 4.0003 сек.\n",
      "Результат функции test = 34005033.67003367\n",
      "Результат функции sleep = None\n"
     ]
    }
   ],
   "source": [
    "@timer(iters=1000)\n",
    "def test(n):\n",
    "    return sum([(i/99)**2 for i in range(n)])\n",
    "\n",
    "@timer(iters=3)\n",
    "def sleep(n):\n",
    "    time.sleep(n)\n",
    "\n",
    "res1 = test(10000)\n",
    "res2 = sleep(4)\n",
    "\n",
    "print(f'Результат функции test = {res1}')\n",
    "print(f'Результат функции sleep = {res2}')"
   ],
   "metadata": {
    "collapsed": false,
    "ExecuteTime": {
     "end_time": "2025-02-13T05:11:33.607447900Z",
     "start_time": "2025-02-13T05:11:20.050225400Z"
    }
   },
   "id": "fa2248d981cf88c3"
  },
  {
   "cell_type": "markdown",
   "source": [
    "Функция timer() не является декоратором. Это обычная функция, которая принимает аргумент iters, а затем возвращает декоратор. В свою очередь, он декорирует функции test() и sleep()"
   ],
   "metadata": {
    "collapsed": false
   },
   "id": "115e1108bdefad16"
  },
  {
   "cell_type": "markdown",
   "source": [
    "Декоратор repeater"
   ],
   "metadata": {
    "collapsed": false
   },
   "id": "5a3384473f7a8f07"
  },
  {
   "cell_type": "markdown",
   "source": [
    "Рассмотрим декоратор repeater, который вызывает декорируемую функцию переданное в качестве аргумента количество раз."
   ],
   "metadata": {
    "collapsed": false
   },
   "id": "8135531667d74af6"
  },
  {
   "cell_type": "code",
   "execution_count": 28,
   "outputs": [],
   "source": [
    "import functools\n",
    "\n",
    "def repeater(repeat=1):\n",
    "    def decorator(func):\n",
    "        @functools.wraps(func)\n",
    "        def wrapper(*args, **kwargs):\n",
    "            for i in range(1, repeat + 1):\n",
    "                print(f'{i}-й запуск функции.')\n",
    "                value = func(*args, **kwargs)\n",
    "            return value\n",
    "        return wrapper\n",
    "    return decorator"
   ],
   "metadata": {
    "collapsed": false,
    "ExecuteTime": {
     "end_time": "2025-02-13T05:12:57.702556600Z",
     "start_time": "2025-02-13T05:12:57.698341200Z"
    }
   },
   "id": "808209a089a1fcf2"
  },
  {
   "cell_type": "code",
   "execution_count": 29,
   "outputs": [
    {
     "name": "stdout",
     "output_type": "stream",
     "text": [
      "1-й запуск функции.\n",
      "beegeek\n",
      "2-й запуск функции.\n",
      "beegeek\n",
      "3-й запуск функции.\n",
      "beegeek\n",
      "4-й запуск функции.\n",
      "beegeek\n",
      "5-й запуск функции.\n",
      "beegeek\n"
     ]
    }
   ],
   "source": [
    "@repeater(repeat=5)\n",
    "def beegeek():\n",
    "    print('beegeek')\n",
    "\n",
    "beegeek()"
   ],
   "metadata": {
    "collapsed": false,
    "ExecuteTime": {
     "end_time": "2025-02-13T05:13:33.885800500Z",
     "start_time": "2025-02-13T05:13:33.880053100Z"
    }
   },
   "id": "6c3003377d0d90e5"
  },
  {
   "cell_type": "markdown",
   "source": [
    "Несмотря на то что декоратор repeater имеет значение по умолчанию для аргумента repeat, применить его как стандартный декоратор, не указав скобки, мы не можем. "
   ],
   "metadata": {
    "collapsed": false
   },
   "id": "7536c51c69256069"
  },
  {
   "cell_type": "code",
   "execution_count": 30,
   "outputs": [
    {
     "ename": "TypeError",
     "evalue": "repeater.<locals>.decorator() missing 1 required positional argument: 'func'",
     "output_type": "error",
     "traceback": [
      "\u001B[1;31m---------------------------------------------------------------------------\u001B[0m",
      "\u001B[1;31mTypeError\u001B[0m                                 Traceback (most recent call last)",
      "Cell \u001B[1;32mIn[30], line 5\u001B[0m\n\u001B[0;32m      1\u001B[0m \u001B[38;5;129m@repeater\u001B[39m\n\u001B[0;32m      2\u001B[0m \u001B[38;5;28;01mdef\u001B[39;00m \u001B[38;5;21mbeegeek\u001B[39m():\n\u001B[0;32m      3\u001B[0m     \u001B[38;5;28mprint\u001B[39m(\u001B[38;5;124m'\u001B[39m\u001B[38;5;124mbeegeek\u001B[39m\u001B[38;5;124m'\u001B[39m)\n\u001B[1;32m----> 5\u001B[0m \u001B[43mbeegeek\u001B[49m\u001B[43m(\u001B[49m\u001B[43m)\u001B[49m\n",
      "\u001B[1;31mTypeError\u001B[0m: repeater.<locals>.decorator() missing 1 required positional argument: 'func'"
     ]
    }
   ],
   "source": [
    "@repeater\n",
    "def beegeek():\n",
    "    print('beegeek')\n",
    "\n",
    "beegeek()"
   ],
   "metadata": {
    "collapsed": false,
    "ExecuteTime": {
     "end_time": "2025-02-13T05:14:16.229042Z",
     "start_time": "2025-02-13T05:14:16.208865Z"
    }
   },
   "id": "34cdcc6f867eb4e1"
  },
  {
   "cell_type": "markdown",
   "source": [
    "Правильная версия кода имеет вид:"
   ],
   "metadata": {
    "collapsed": false
   },
   "id": "81b1a9e742b192ef"
  },
  {
   "cell_type": "code",
   "execution_count": 31,
   "outputs": [
    {
     "name": "stdout",
     "output_type": "stream",
     "text": [
      "1-й запуск функции.\n",
      "beegeek\n"
     ]
    }
   ],
   "source": [
    "@repeater()                       # используется значение по умолчанию repeat=1\n",
    "def beegeek():\n",
    "    print('beegeek')\n",
    "\n",
    "beegeek()"
   ],
   "metadata": {
    "collapsed": false,
    "ExecuteTime": {
     "end_time": "2025-02-13T05:14:39.540526400Z",
     "start_time": "2025-02-13T05:14:39.535640400Z"
    }
   },
   "id": "bf980ef33cb414e8"
  },
  {
   "cell_type": "markdown",
   "source": [
    "Примечания"
   ],
   "metadata": {
    "collapsed": false
   },
   "id": "835b33b27ec5253"
  },
  {
   "cell_type": "markdown",
   "source": [
    "Примечание 1. Напомним, что к одной функции можно применять несколько декораторов. При использовании этой возможности каждый декоратор должен указываться на отдельной строке. Несколько декораторов, следующих подряд, не декорируют друг друга. Они изменяют функцию и ее измененный вариант в качестве аргумента передают друг другу в порядке следования.\n",
    "\n",
    "Возьмем декораторы repeater и delayed"
   ],
   "metadata": {
    "collapsed": false
   },
   "id": "98928b2d28f19fbe"
  },
  {
   "cell_type": "code",
   "execution_count": 1,
   "outputs": [],
   "source": [
    "import functools\n",
    "import time\n",
    "\n",
    "def repeater(repeat=1):\n",
    "    def decorator(func):\n",
    "        @functools.wraps(func)\n",
    "        def wrapper(*args, **kwargs):\n",
    "            for i in range(1, repeat + 1):\n",
    "                print(f'{i}-й запуск функции.')\n",
    "                value = func(*args, **kwargs)\n",
    "            return value\n",
    "        return wrapper\n",
    "    return decorator\n",
    "\n",
    "def delayed(delay=2):\n",
    "    def decorator(func):\n",
    "        @functools.wraps(func)\n",
    "        def wrapper(*args, **kwargs):\n",
    "            print(f'Спим {delay} сек.')\n",
    "            time.sleep(delay)\n",
    "            value = func(*args, **kwargs)\n",
    "            return value\n",
    "        return wrapper\n",
    "    return decorator"
   ],
   "metadata": {
    "collapsed": false,
    "ExecuteTime": {
     "end_time": "2025-02-13T05:18:19.794350400Z",
     "start_time": "2025-02-13T05:18:19.786331500Z"
    }
   },
   "id": "2c30dcc9a2fbc8f2"
  },
  {
   "cell_type": "markdown",
   "source": [
    "и применим их к функции monitor(), которая имитирует проверку сайта на доступность"
   ],
   "metadata": {
    "collapsed": false
   },
   "id": "6d4c61226f71bf9"
  },
  {
   "cell_type": "code",
   "execution_count": 2,
   "outputs": [
    {
     "name": "stdout",
     "output_type": "stream",
     "text": [
      "1-й запуск функции.\n",
      "Спим 1 сек.\n",
      "Проверка https://stepik.org/ на доступность.\n",
      "2-й запуск функции.\n",
      "Спим 1 сек.\n",
      "Проверка https://stepik.org/ на доступность.\n",
      "3-й запуск функции.\n",
      "Спим 1 сек.\n",
      "Проверка https://stepik.org/ на доступность.\n",
      "4-й запуск функции.\n",
      "Спим 1 сек.\n",
      "Проверка https://stepik.org/ на доступность.\n",
      "5-й запуск функции.\n",
      "Спим 1 сек.\n",
      "Проверка https://stepik.org/ на доступность.\n"
     ]
    }
   ],
   "source": [
    "@repeater(repeat=5)\n",
    "@delayed(delay=1)\n",
    "def monitor(url):\n",
    "    print(f'Проверка {url} на доступность.')\n",
    "    \n",
    "monitor('https://stepik.org/')\n",
    "\n",
    "# Два декоратора сверху эквивалетны записи ниже\n",
    "monitor = repeater(repeat=5)(delayed(delay=1)(monitor))"
   ],
   "metadata": {
    "collapsed": false,
    "ExecuteTime": {
     "end_time": "2025-02-13T05:18:27.753866300Z",
     "start_time": "2025-02-13T05:18:22.741523700Z"
    }
   },
   "id": "d65046d65ff1f3fa"
  },
  {
   "cell_type": "markdown",
   "source": [
    "Обратите внимание, в какой последовательности выполняются декораторы. Сначала выполняется декоратор delayed – происходит задержка выполнения на 1 секунду, а затем выполняется декоратор repeater, который повторяет предыдущую операцию 5 раз."
   ],
   "metadata": {
    "collapsed": false
   },
   "id": "71b71c65e665d4df"
  },
  {
   "cell_type": "markdown",
   "source": [
    "Если изменить очередность декораторов в коде, то логика выполнения поменяется."
   ],
   "metadata": {
    "collapsed": false
   },
   "id": "bc32ea00070cac27"
  },
  {
   "cell_type": "code",
   "execution_count": 3,
   "outputs": [
    {
     "name": "stdout",
     "output_type": "stream",
     "text": [
      "Спим 1 сек.\n",
      "1-й запуск функции.\n",
      "Проверка https://stepik.org/ на доступность.\n",
      "2-й запуск функции.\n",
      "Проверка https://stepik.org/ на доступность.\n",
      "3-й запуск функции.\n",
      "Проверка https://stepik.org/ на доступность.\n",
      "4-й запуск функции.\n",
      "Проверка https://stepik.org/ на доступность.\n",
      "5-й запуск функции.\n",
      "Проверка https://stepik.org/ на доступность.\n"
     ]
    }
   ],
   "source": [
    "@delayed(delay=1)\n",
    "@repeater(repeat=5)\n",
    "def monitor(url):\n",
    "    print(f'Проверка {url} на доступность.')\n",
    "    \n",
    "monitor('https://stepik.org/')\n",
    "\n",
    "# Два декоратора сверху эквивалетны записи ниже\n",
    "monitor = delayed(delay=1)(repeater(repeat=5)(monitor))"
   ],
   "metadata": {
    "collapsed": false,
    "ExecuteTime": {
     "end_time": "2025-02-13T05:20:24.729941500Z",
     "start_time": "2025-02-13T05:20:23.724364100Z"
    }
   },
   "id": "b4af7557c83424a4"
  },
  {
   "cell_type": "markdown",
   "source": [
    "Когда мы применяем декораторы к функции, они действительно применяются снизу вверх, то есть сначала самый нижний оборачивает исходную функцию, затем следующий оборачивает функцию, обернутую первым декоратором, затем следующий оборачивает уже эту обертку, и так до самого верхнего декоратора.\n",
    "\n",
    "В этом можно убедиться, запустив следующий код:"
   ],
   "metadata": {
    "collapsed": false
   },
   "id": "8b7926a9504dfe42"
  },
  {
   "cell_type": "code",
   "execution_count": 10,
   "outputs": [
    {
     "name": "stdout",
     "output_type": "stream",
     "text": [
      "Выполняется декоратор 1\n",
      "Выполняется декоратор 2\n"
     ]
    }
   ],
   "source": [
    "def decorator1(func):\n",
    "    print(\"Выполняется декоратор 1\")\n",
    "\n",
    "    def inner(*args, **kwargs):\n",
    "        print('Обертка 1')\n",
    "        return func(*args, **kwargs)\n",
    "\n",
    "    return inner\n",
    "\n",
    "\n",
    "def decorator2(func):\n",
    "    print(\"Выполняется декоратор 2\")\n",
    "\n",
    "    def inner(*args, **kwargs):\n",
    "        print('Обертка 2')\n",
    "        return func(*args, **kwargs)\n",
    "\n",
    "    return inner\n",
    "\n",
    "\n",
    "@decorator2\n",
    "@decorator1\n",
    "def func():\n",
    "    print(\"Выполняется функция\")"
   ],
   "metadata": {
    "collapsed": false,
    "ExecuteTime": {
     "end_time": "2025-02-13T05:39:25.262491Z",
     "start_time": "2025-02-13T05:39:25.251860300Z"
    }
   },
   "id": "ea7d918d6dfc9f81"
  },
  {
   "cell_type": "markdown",
   "source": [
    "А вот когда мы вызываем функцию, обернутую несколькими декораторами, то работа выполняется уже наоборот, сверху вниз. Сначала выполняется функция внутри самого верхнего декоратора, она вызывает функцию, которую обернула до этого, то есть вложенную функцию следующего декоратора. Она в свою очередь вызывает функцию, которую обернула до этого, то есть вложенную функцию очередного декоратора по порядку, и так до тех пор, пока не будет выполнена исходная функция.\n",
    "\n",
    "В этом можно убедиться, запустив следующий код:"
   ],
   "metadata": {
    "collapsed": false
   },
   "id": "e988a4570697347f"
  },
  {
   "cell_type": "code",
   "execution_count": 7,
   "outputs": [
    {
     "name": "stdout",
     "output_type": "stream",
     "text": [
      "Выполняется декоратор 1\n",
      "Выполняется декоратор 2\n",
      "Обертка 2\n",
      "Обертка 1\n",
      "Выполняется функция\n"
     ]
    }
   ],
   "source": [
    "def decorator1(func):\n",
    "    print(\"Выполняется декоратор 1\")\n",
    "\n",
    "    def inner(*args, **kwargs):\n",
    "        print('Обертка 1')\n",
    "        return func(*args, **kwargs)\n",
    "\n",
    "    return inner\n",
    "\n",
    "\n",
    "def decorator2(func):\n",
    "    print(\"Выполняется декоратор 2\")\n",
    "\n",
    "    def inner(*args, **kwargs):\n",
    "        print('Обертка 2')\n",
    "        return func(*args, **kwargs)\n",
    "\n",
    "    return inner\n",
    "\n",
    "\n",
    "@decorator2\n",
    "@decorator1\n",
    "def func():\n",
    "    print(\"Выполняется функция\")\n",
    "\n",
    "func()"
   ],
   "metadata": {
    "collapsed": false,
    "ExecuteTime": {
     "end_time": "2025-02-13T05:36:06.953609600Z",
     "start_time": "2025-02-13T05:36:06.943267200Z"
    }
   },
   "id": "f011c68dbea362a1"
  },
  {
   "cell_type": "markdown",
   "source": [
    "Декоратор prefix\n",
    "Реализуйте декоратор prefix, который принимает два аргумента в следующем порядке:\n",
    "\n",
    "string — произвольная строка\n",
    "to_the_end — булево значение, по умолчанию равное False\n",
    "Декоратор должен добавлять строку string к возвращаемому значению декорируемой функции. Если to_the_end имеет значение True, строка string добавляется в конец, если False — в начало.\n",
    "\n",
    "Также декоратор должен сохранять имя и строку документации декорируемой функции.\n",
    "\n",
    "Примечание 1. Гарантируется, что возвращаемым значением декорируемой функции является объект типа str.\n",
    "\n",
    "Примечание 2. Не забывайте про то, что декоратор не должен поглощать возвращаемое значение декорируемой функции, а также должен уметь декорировать функции с произвольным количеством позиционных и именованных аргументов.\n",
    "\n",
    "Примечание 3. В тестирующую систему сдайте программу, содержащую только необходимый декоратор prefix, но не код, вызывающий его."
   ],
   "metadata": {
    "collapsed": false
   },
   "id": "59cf237665199b49"
  },
  {
   "cell_type": "code",
   "execution_count": 12,
   "outputs": [
    {
     "name": "stdout",
     "output_type": "stream",
     "text": [
      "€2000\n",
      "2000$$$\n"
     ]
    }
   ],
   "source": [
    "import functools\n",
    "\n",
    "def prefix(string: str, to_the_end = False):\n",
    "    def decorator(func):\n",
    "        @functools.wraps(func)\n",
    "        def wrapper(*args, **kwargs):\n",
    "            value = func(*args, **kwargs)\n",
    "            if to_the_end:\n",
    "                return value + string   \n",
    "            else:\n",
    "                return string + value\n",
    "        return wrapper\n",
    "    return decorator\n",
    "\n",
    "@prefix('€')\n",
    "def get_bonus():\n",
    "    return '2000'\n",
    "    \n",
    "print(get_bonus())\n",
    "\n",
    "@prefix('$$$', to_the_end=True)\n",
    "def get_bonus():\n",
    "    return '2000'\n",
    "       \n",
    "print(get_bonus())"
   ],
   "metadata": {
    "collapsed": false,
    "ExecuteTime": {
     "end_time": "2025-02-13T06:17:56.805405700Z",
     "start_time": "2025-02-13T06:17:56.799465Z"
    }
   },
   "id": "7f34dc32d9c37656"
  },
  {
   "cell_type": "markdown",
   "source": [
    "Декоратор make_html\n",
    "Тег — элемент языка разметки, используемый для форматирования текста. Например, текст, заключённый между начальным тегом <small> и конечным тегом </small>, отображается с меньшим размером, чем основной текст, а текст между тегами <big> и </big> отображается с большим размером.\n",
    "\n",
    "Реализуйте декоратор make_html(), который принимает один аргумент:\n",
    "\n",
    "tag — HTML-тег, например, del\n",
    "Декоратор должен обрамлять возвращаемое значение декорируемой функции в HTML-тег tag.\n",
    "\n",
    "Также декоратор должен сохранять имя и строку документации декорируемой функции.\n",
    "\n",
    "Примечание 1. Гарантируется, что возвращаемым значением декорируемой функции является объект типа str.\n",
    "\n",
    "Примечание 2. Не забывайте про то, что декоратор не должен поглощать возвращаемое значение декорируемой функции, а также должен уметь декорировать функции с произвольным количеством позиционных и именованных аргументов.\n",
    "\n",
    "Примечание 3. В тестирующую систему сдайте программу, содержащую только необходимый декоратор make_html, но не код, вызывающий его"
   ],
   "metadata": {
    "collapsed": false
   },
   "id": "12c3a0cd23b853d0"
  },
  {
   "cell_type": "code",
   "execution_count": 14,
   "outputs": [
    {
     "name": "stdout",
     "output_type": "stream",
     "text": [
      "<del>Python</del>\n",
      "<i><del>decorators are so cool!</del></i>\n"
     ]
    }
   ],
   "source": [
    "import functools\n",
    "\n",
    "def make_html(tag: str):\n",
    "    def decorator(func):\n",
    "        @functools.wraps(func)\n",
    "        def wrapper(*args, **kwargs):\n",
    "            value = func(*args, **kwargs)\n",
    "            return f'<{tag}>' + value + f'</{tag}>'\n",
    "        return wrapper\n",
    "    return decorator\n",
    "\n",
    "@make_html('del')\n",
    "def get_text(text):\n",
    "    return text\n",
    "    \n",
    "print(get_text('Python'))\n",
    "\n",
    "@make_html('i')\n",
    "@make_html('del')\n",
    "def get_text(text):\n",
    "    return text\n",
    "    \n",
    "print(get_text(text='decorators are so cool!'))"
   ],
   "metadata": {
    "collapsed": false,
    "ExecuteTime": {
     "end_time": "2025-02-13T07:14:10.802408400Z",
     "start_time": "2025-02-13T07:14:10.790308700Z"
    }
   },
   "id": "8dda12a81b5aceb3"
  },
  {
   "cell_type": "markdown",
   "source": [
    "Декоратор repeat\n",
    "Реализуйте декоратор repeat, который принимает один аргумент:\n",
    "\n",
    "times — натуральное число\n",
    "Декоратор должен вызывать декорируемую функцию times раз.\n",
    "\n",
    "Также декоратор должен сохранять имя и строку документации декорируемой функции.\n",
    "\n",
    "Примечание 1. Не забывайте про то, что декоратор не должен поглощать возвращаемое значение декорируемой функции, а также должен уметь декорировать функции с произвольным количеством позиционных и именованных аргументов.\n",
    "\n",
    "Примечание 2. В тестирующую систему сдайте программу, содержащую только необходимый декоратор repeat, но не код, вызывающий его."
   ],
   "metadata": {
    "collapsed": false
   },
   "id": "890e7e66e7f36576"
  },
  {
   "cell_type": "code",
   "execution_count": 17,
   "outputs": [
    {
     "name": "stdout",
     "output_type": "stream",
     "text": [
      "beegeek\n",
      "beegeek\n",
      "beegeek\n",
      "say_beegeek\n",
      "documentation\n"
     ]
    }
   ],
   "source": [
    "import functools\n",
    "\n",
    "def repeat(times: int):\n",
    "    def decorator(func):\n",
    "        @functools.wraps(func)\n",
    "        def wrapper(*args, **kwargs):\n",
    "            for _ in range(times):\n",
    "                value = func(*args, **kwargs)\n",
    "            return value\n",
    "        return wrapper\n",
    "    return decorator\n",
    "\n",
    "@repeat(3)\n",
    "def say_beegeek():\n",
    "    '''documentation'''\n",
    "    print('beegeek')\n",
    "    \n",
    "say_beegeek()\n",
    "\n",
    "@repeat(4)\n",
    "def say_beegeek():\n",
    "    '''documentation'''\n",
    "    print('beegeek')\n",
    "    \n",
    "print(say_beegeek.__name__)\n",
    "print(say_beegeek.__doc__)"
   ],
   "metadata": {
    "collapsed": false,
    "ExecuteTime": {
     "end_time": "2025-02-13T07:26:15.185685400Z",
     "start_time": "2025-02-13T07:26:15.179828800Z"
    }
   },
   "id": "6f79ce4389770a"
  },
  {
   "cell_type": "markdown",
   "source": [
    "Декоратор strip_range\n",
    "Реализуйте декоратор strip_range, который принимает три аргумента в следующем порядке:\n",
    "\n",
    "start — неотрицательное целое число\n",
    "end — неотрицательное целое число\n",
    "char — одиночный символ, по умолчанию равный точке .\n",
    "Декоратор должен изменять возвращаемое значение декорируемой функции, заменяя все символы в диапазоне индексов от start (включительно) до end (не включительно) на символ char.\n",
    "\n",
    "Также декоратор должен сохранять имя и строку документации декорируемой функции.\n",
    "\n",
    "Примечание 1. Гарантируется, что возвращаемым значением декорируемой функции является объект типа str.\n",
    "\n",
    "Примечание 2. Гарантируется, что start < end.\n",
    "\n",
    "Примечание 3. Не забывайте про то, что декоратор не должен поглощать возвращаемое значение декорируемой функции, а также должен уметь декорировать функции с произвольным количеством позиционных и именованных аргументов.\n",
    "\n",
    "Примечание 4. В тестирующую систему сдайте программу, содержащую только необходимый декоратор strip_range, но не код, вызывающий его."
   ],
   "metadata": {
    "collapsed": false
   },
   "id": "419ea7b0892d1be0"
  },
  {
   "cell_type": "code",
   "execution_count": 20,
   "outputs": [
    {
     "name": "stdout",
     "output_type": "stream",
     "text": [
      "bee..ek\n",
      "bee____\n",
      "beegeek\n"
     ]
    }
   ],
   "source": [
    "import functools\n",
    "\n",
    "def strip_range(start: int, end: int, char='.'):\n",
    "    def decorator(func):\n",
    "        @functools.wraps(func)\n",
    "        def wrapper(*args, **kwargs):\n",
    "            value = func(*args, **kwargs)\n",
    "            length = len(value)\n",
    "            new_start = min(start, length)\n",
    "            new_end = min(end, length)\n",
    "            return value[:new_start] + char * (new_end - new_start) + value[new_end:]\n",
    "        return wrapper\n",
    "    return decorator\n",
    "\n",
    "@strip_range(3, 5)\n",
    "def beegeek():\n",
    "    return 'beegeek'\n",
    "    \n",
    "print(beegeek())\n",
    "\n",
    "@strip_range(3, 20, '_')\n",
    "def beegeek():\n",
    "    return 'beegeek'\n",
    "    \n",
    "print(beegeek())\n",
    "\n",
    "@strip_range(20, 30)\n",
    "def beegeek():\n",
    "    return 'beegeek'\n",
    "    \n",
    "print(beegeek())"
   ],
   "metadata": {
    "collapsed": false,
    "ExecuteTime": {
     "end_time": "2025-02-13T08:17:33.253671100Z",
     "start_time": "2025-02-13T08:17:33.248080800Z"
    }
   },
   "id": "b14cb1532cd94534"
  },
  {
   "cell_type": "markdown",
   "source": [
    "Декоратор returns 🌶️\n",
    "Реализуйте декоратор returns, который принимает один аргумент:\n",
    "\n",
    "datatype — тип данных\n",
    "Декоратор должен проверять, что возвращаемое значение декорируемой функции принадлежит типу datatype. Если возвращаемое значение принадлежит какому-либо другому типу, декоратор должен возбуждать исключение TypeError.\n",
    "\n",
    "Также декоратор должен сохранять имя и строку документации декорируемой функции.\n",
    "\n",
    "Примечание 1. Не забывайте про то, что декоратор не должен поглощать возвращаемое значение декорируемой функции, а также должен уметь декорировать функции с произвольным количеством позиционных и именованных аргументов.\n",
    "\n",
    "Примечание 2. В тестирующую систему сдайте программу, содержащую только необходимый декоратор returns, но не код, вызывающий его."
   ],
   "metadata": {
    "collapsed": false
   },
   "id": "d60085d4139306ab"
  },
  {
   "cell_type": "code",
   "execution_count": 24,
   "outputs": [
    {
     "name": "stdout",
     "output_type": "stream",
     "text": [
      "15\n",
      "<class 'TypeError'>\n",
      "beegeek\n",
      "beegeek docs\n",
      "<class 'TypeError'>\n",
      "append_this\n",
      "append_this docs\n",
      "[1, 2, 3, 4]\n"
     ]
    }
   ],
   "source": [
    "import functools\n",
    "\n",
    "def returns(datatype):\n",
    "    def decorator(func):\n",
    "        @functools.wraps(func)\n",
    "        def wrapper(*args, **kwargs):\n",
    "            value = func(*args, **kwargs)\n",
    "            if isinstance(value, datatype):\n",
    "                return value\n",
    "            else:\n",
    "                raise TypeError\n",
    "        return wrapper\n",
    "    return decorator\n",
    "\n",
    "@returns(int)\n",
    "def add(a, b):\n",
    "    return a + b\n",
    "\n",
    "print(add(10, 5))\n",
    "\n",
    "@returns(int)\n",
    "def add(a, b):\n",
    "    return a + b\n",
    "\n",
    "try:\n",
    "    print(add('199', '1'))\n",
    "except TypeError as e:\n",
    "    print(type(e))\n",
    "    \n",
    "@returns(list)\n",
    "def beegeek():\n",
    "    '''beegeek docs'''\n",
    "    return 'beegeek'\n",
    "\n",
    "print(beegeek.__name__)\n",
    "print(beegeek.__doc__)\n",
    "\n",
    "try:\n",
    "    print(beegeek())\n",
    "except TypeError as e:\n",
    "    print(type(e))\n",
    "    \n",
    "@returns(list)\n",
    "def append_this(li, elem):\n",
    "    '''append_this docs'''\n",
    "    return li + [elem]\n",
    "\n",
    "print(append_this.__name__)\n",
    "print(append_this.__doc__)\n",
    "print(append_this([1, 2, 3], elem=4))"
   ],
   "metadata": {
    "collapsed": false,
    "ExecuteTime": {
     "end_time": "2025-02-13T08:53:10.200177600Z",
     "start_time": "2025-02-13T08:53:10.184947400Z"
    }
   },
   "id": "7353082f2fb40299"
  },
  {
   "cell_type": "markdown",
   "source": [
    "Декоратор takes 🌶️\n",
    "Реализуйте декоратор takes, который принимает произвольное количество позиционных аргументов, каждый из которых является типом данных.\n",
    "\n",
    "Декоратор должен проверять, что аргументы, передаваемые в декорируемую функцию, принадлежат одному из этих типов. Если хотя бы один аргумент не принадлежит одному из данных типов, декоратор должен возбуждать исключение TypeError.\n",
    "\n",
    "Также декоратор должен сохранять имя и строку документации декорируемой функции.\n",
    "\n",
    "Примечание 1. Не забывайте про то, что декоратор не должен поглощать возвращаемое значение декорируемой функции, а также должен уметь декорировать функции с произвольным количеством позиционных и именованных аргументов.\n",
    "\n",
    "Примечание 2. В тестирующую систему сдайте программу, содержащую только необходимый декоратор takes, но не код, вызывающий его."
   ],
   "metadata": {
    "collapsed": false
   },
   "id": "ba12fe0a3b5e6322"
  },
  {
   "cell_type": "code",
   "execution_count": 33,
   "outputs": [
    {
     "name": "stdout",
     "output_type": "stream",
     "text": [
      "<class 'TypeError'>\n"
     ]
    }
   ],
   "source": [
    "import functools\n",
    "\n",
    "def takes(*args_s):\n",
    "    def decorator(func):\n",
    "        @functools.wraps(func)\n",
    "        def wrapper(*args, **kwargs):\n",
    "            value = func(*args, **kwargs)\n",
    "            if not all(isinstance(i, args_s) for i in args):\n",
    "                return TypeError\n",
    "            if not all(isinstance(i, args_s) for i in kwargs.values()):\n",
    "                return TypeError\n",
    "            return value                \n",
    "        return wrapper\n",
    "    return decorator\n",
    "\n",
    "# @takes(int, str)\n",
    "# def repeat_string(string, times):\n",
    "#     return string * times\n",
    "# \n",
    "# print(repeat_string('bee', 3))\n",
    "# \n",
    "# @takes(list, bool, float, int)\n",
    "# def repeat_string(string, times):\n",
    "#     return string * times\n",
    "# \n",
    "# try:\n",
    "#     print(repeat_string('bee', 4))\n",
    "# except TypeError as e:\n",
    "#     print(type(e))\n",
    "    \n",
    "# @takes(list)\n",
    "# def append_this(li, elem):\n",
    "#     '''append_this docs'''\n",
    "#     return li + [elem]\n",
    "# \n",
    "# print(append_this.__name__)\n",
    "# print(append_this.__doc__)\n",
    "# \n",
    "# try:\n",
    "#     print(append_this([1, 2], 3))\n",
    "# except TypeError as e:\n",
    "#     print(type(e))\n",
    "    \n",
    "@takes(str)\n",
    "def beegeek(word, repeat):\n",
    "    return word * repeat\n",
    "    \n",
    "try:\n",
    "    print(beegeek('beegeek', repeat=2))\n",
    "except TypeError as e:\n",
    "    print(type(e))"
   ],
   "metadata": {
    "collapsed": false,
    "ExecuteTime": {
     "end_time": "2025-02-14T06:15:43.963704700Z",
     "start_time": "2025-02-14T06:15:43.956631700Z"
    }
   },
   "id": "d831a8a879bb569c"
  },
  {
   "cell_type": "markdown",
   "source": [
    "Декоратор add_attrs 🌶️\n",
    "Реализуйте декоратор add_attrs, который принимает произвольное количество именованных аргументов и устанавливает их в качестве атрибутов декорируемой функции. Названием атрибута должно являться имя аргумента, значением атрибута — значение аргумента.\n",
    "\n",
    "Также декоратор должен сохранять имя и строку документации декорируемой функции.\n",
    "\n",
    "Примечание 1. Вспомните про атрибут функции __dict__.\n",
    "\n",
    "Примечание 2. Не забывайте про то, что декоратор не должен поглощать возвращаемое значение декорируемой функции, а также должен уметь декорировать функции с произвольным количеством позиционных и именованных аргументов.\n",
    "\n",
    "Примечание 3. В тестирующую систему сдайте программу, содержащую только необходимый декоратор add_attrs, но не код, вызывающий его."
   ],
   "metadata": {
    "collapsed": false
   },
   "id": "c2fa868fd3801460"
  },
  {
   "cell_type": "code",
   "execution_count": 37,
   "outputs": [
    {
     "name": "stdout",
     "output_type": "stream",
     "text": [
      "bee\n",
      "geek\n"
     ]
    }
   ],
   "source": [
    "import functools\n",
    "\n",
    "def add_attrs(**kwargs_s):\n",
    "    def decorator(func):\n",
    "        for k, v in kwargs_s.items():\n",
    "            func.__dict__[k] = v\n",
    "        @functools.wraps(func)\n",
    "        def wrapper(*args, **kwargs):\n",
    "            value = func(*args, **kwargs)            \n",
    "            return value                \n",
    "        return wrapper\n",
    "    return decorator\n",
    "\n",
    "@add_attrs(attr1='bee', attr2='geek')\n",
    "def beegeek():\n",
    "    return 'beegeek'\n",
    "    \n",
    "print(beegeek.attr1)\n",
    "print(beegeek.attr2)"
   ],
   "metadata": {
    "collapsed": false,
    "ExecuteTime": {
     "end_time": "2025-02-14T06:50:41.955033600Z",
     "start_time": "2025-02-14T06:50:41.947232300Z"
    }
   },
   "id": "2d5f4764ca072e11"
  },
  {
   "cell_type": "markdown",
   "source": [
    "Не требуется делать ровным счётом ничего при вызове декорируемой функции, значит и декорировать её нет смысла – пусть остаётся как есть"
   ],
   "metadata": {
    "collapsed": false
   },
   "id": "81fda7329867f800"
  },
  {
   "cell_type": "code",
   "execution_count": null,
   "outputs": [],
   "source": [
    "def add_attrs(**kwargs):\n",
    "    return lambda fun: [fun.__dict__.update(kwargs), fun][1]"
   ],
   "metadata": {
    "collapsed": false
   },
   "id": "ae0814086d8e204"
  },
  {
   "cell_type": "markdown",
   "source": [
    "Декоратор ignore_exception 🌶️\n",
    "Реализуйте декоратор ignore_exception, который принимает произвольное количество позиционных аргументов — типов исключений, и выводит текст:\n",
    "\n",
    "Исключение <тип исключения> обработано\n",
    "если во время выполнения декорируемой функции было возбуждено исключение, принадлежащее одному из переданных типов.\n",
    "\n",
    "Если возбужденное исключение не принадлежит ни одному из переданных типов, оно должно быть возбуждено снова.\n",
    "\n",
    "Также декоратор должен сохранять имя и строку документации декорируемой функции.\n",
    "\n",
    "Примечание 1. Не забывайте про то, что декоратор не должен поглощать возвращаемое значение декорируемой функции, а также должен уметь декорировать функции с произвольным количеством позиционных и именованных аргументов.\n",
    "\n",
    "Примечание 2. В тестирующую систему сдайте программу, содержащую только необходимый декоратор ignore_exception, но не код, вызывающий его."
   ],
   "metadata": {
    "collapsed": false
   },
   "id": "3372ca0f10c1bc13"
  },
  {
   "cell_type": "code",
   "execution_count": 20,
   "outputs": [
    {
     "name": "stdout",
     "output_type": "stream",
     "text": [
      "None\n"
     ]
    }
   ],
   "source": [
    "import functools\n",
    "\n",
    "def ignore_exception(*args_s):\n",
    "    def decorator(func):\n",
    "        @functools.wraps(func)\n",
    "        def wrapper(*args, **kwargs):\n",
    "            try:\n",
    "                value = func(*args, **kwargs)\n",
    "                return value\n",
    "            except Exception as e:\n",
    "                if any(isinstance(e, exc) for exc in args_s):\n",
    "                    print(f'Исключение {type(e).__name__} обработано')\n",
    "                    return None  # Возвращаем None, чтобы избежать повторного выброса\n",
    "                else:\n",
    "                    raise e\n",
    "        return wrapper\n",
    "    return decorator\n",
    "\n",
    "\n",
    "# @ignore_exception(ZeroDivisionError, TypeError, ValueError)\n",
    "# def f(x):\n",
    "#     return 1 / x\n",
    "# \n",
    "# f(0)\n",
    "\n",
    "min = ignore_exception(ZeroDivisionError)(min)\n",
    "\n",
    "try:\n",
    "    print(min(1, '2', 3, [4, 5]))\n",
    "except Exception as e:\n",
    "    print(type(e))"
   ],
   "metadata": {
    "collapsed": false,
    "ExecuteTime": {
     "end_time": "2025-02-14T08:33:38.265837600Z",
     "start_time": "2025-02-14T08:33:38.251999700Z"
    }
   },
   "id": "740e888ca3f3969d"
  },
  {
   "cell_type": "code",
   "execution_count": null,
   "outputs": [],
   "source": [
    "import functools\n",
    "\n",
    "def ignore_exception(*exceptions):\n",
    "    def decorator(func):\n",
    "        @functools.wraps(func)\n",
    "        def wrapper(*args, **kwargs):\n",
    "            try:\n",
    "                return func(*args, **kwargs)\n",
    "            except exceptions as e:\n",
    "                print(f\"Исключение {type(e).__name__} обработано\")\n",
    "        return wrapper\n",
    "    return decorator"
   ],
   "metadata": {
    "collapsed": false
   },
   "id": "9f7328c8eb603bad"
  },
  {
   "cell_type": "markdown",
   "source": [
    "Декоратор retry 🌶️\n",
    "Реализуйте декоратор retry, который принимает один аргумент:\n",
    "\n",
    "times — натуральное число\n",
    "Декоратор должен выполнять повторную попытку вызова декорируемой функции, если во время ее выполнения возникает ошибка. Декоратор должен вызывать ее до тех пор, пока не исчерпает количество попыток times, после чего должен возбуждать исключение MaxRetriesException.\n",
    "\n",
    "Также декоратор должен сохранять имя и строку документации декорируемой функции.\n",
    "\n",
    "Примечание 1. Не забывайте про то, что декоратор не должен поглощать возвращаемое значение декорируемой функции, а также должен уметь декорировать функции с произвольным количеством позиционных и именованных аргументов. \n",
    "\n",
    "Примечание 2. В тестирующую систему сдайте программу, содержащую только необходимый декоратор retry, но не код, вызывающий его. "
   ],
   "metadata": {
    "collapsed": false
   },
   "id": "3204d7792d32089f"
  },
  {
   "cell_type": "code",
   "execution_count": 19,
   "outputs": [
    {
     "name": "stdout",
     "output_type": "stream",
     "text": [
      "<class '__main__.MaxRetriesException'>\n",
      "beegeek\n"
     ]
    }
   ],
   "source": [
    "class MaxRetriesException(Exception):\n",
    "    pass\n",
    "\n",
    "import functools\n",
    "\n",
    "def retry(times: int):\n",
    "    def decorator(func):        \n",
    "        @functools.wraps(func)\n",
    "        def wrapper(*args, **kwargs):\n",
    "            for _ in range(times):\n",
    "                try:\n",
    "                    return func(*args, **kwargs)\n",
    "                except:\n",
    "                    pass\n",
    "            raise MaxRetriesException\n",
    "        return wrapper\n",
    "    return decorator\n",
    "\n",
    "@retry(3)\n",
    "def no_way():\n",
    "    raise ValueError\n",
    "\n",
    "try:\n",
    "    no_way()\n",
    "except Exception as e:\n",
    "    print(type(e))\n",
    "    \n",
    "@retry(8)\n",
    "def beegeek():\n",
    "    beegeek.calls = beegeek.__dict__.get('calls', 0) + 1\n",
    "    if beegeek.calls < 5:\n",
    "        raise ValueError\n",
    "    print('beegeek')\n",
    "    \n",
    "beegeek()"
   ],
   "metadata": {
    "collapsed": false,
    "ExecuteTime": {
     "end_time": "2025-02-14T11:01:03.183800Z",
     "start_time": "2025-02-14T11:01:03.172129200Z"
    }
   },
   "id": "8cf103700af80d44"
  },
  {
   "cell_type": "code",
   "execution_count": null,
   "outputs": [],
   "source": [
    "import functools\n",
    "\n",
    "\n",
    "class MaxRetriesException(Exception):\n",
    "    pass\n",
    "\n",
    "\n",
    "def retry(times):\n",
    "    def decorator(func):\n",
    "        @functools.wraps(func)\n",
    "        def wrapper(*args, **kwargs):\n",
    "            if times == 0:\n",
    "                raise MaxRetriesException\n",
    "            else:\n",
    "                try:\n",
    "                    return func(*args, **kwargs)\n",
    "                except:\n",
    "                    return retry(times-1)(func)(*args, **kwargs)\n",
    "\n",
    "        return wrapper\n",
    "\n",
    "    return decorator"
   ],
   "metadata": {
    "collapsed": false
   },
   "id": "1813312c4fa5075d"
  }
 ],
 "metadata": {
  "kernelspec": {
   "display_name": "Python 3",
   "language": "python",
   "name": "python3"
  },
  "language_info": {
   "codemirror_mode": {
    "name": "ipython",
    "version": 2
   },
   "file_extension": ".py",
   "mimetype": "text/x-python",
   "name": "python",
   "nbconvert_exporter": "python",
   "pygments_lexer": "ipython2",
   "version": "2.7.6"
  }
 },
 "nbformat": 4,
 "nbformat_minor": 5
}

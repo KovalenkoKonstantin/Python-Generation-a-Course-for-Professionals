{
 "cells": [
  {
   "cell_type": "markdown",
   "source": [
    "Тема урока: рекурсия\n",
    "Рекурсивный обход коллекций\n",
    "Настройка глубины рекурсии в Python\n",
    "Аннотация. Урок посвящен рекурсии."
   ],
   "metadata": {
    "collapsed": false
   },
   "id": "c3ed7ace05d13317"
  },
  {
   "cell_type": "markdown",
   "source": [
    "Рекурсивный обход коллекций"
   ],
   "metadata": {
    "collapsed": false
   },
   "id": "fd72983b46e5e1c4"
  },
  {
   "cell_type": "markdown",
   "source": [
    "Рекурсия является незаменимым помощником при работе с вложенными структурами данных. Рассмотрим несколько задач."
   ],
   "metadata": {
    "collapsed": false
   },
   "id": "256754f6f4697c6e"
  },
  {
   "cell_type": "markdown",
   "source": [
    "Задача 1. Дан список, элементами которого могут быть только строки или аналогичные списки, содержащие строки и вложенные списки. Необходимо вывести все строки из данного списка и из всех вложенных, разделив пробелом."
   ],
   "metadata": {
    "collapsed": false
   },
   "id": "f7739dfb3e400a61"
  },
  {
   "cell_type": "markdown",
   "source": [
    "Решение. Реализуем рекурсивную функцию get_all_str(), которая принимает в качестве аргумента указанный список и выводит его содержимое в соответствии с условием задачи."
   ],
   "metadata": {
    "collapsed": false
   },
   "id": "e5369cdcd186bae9"
  },
  {
   "cell_type": "markdown",
   "source": [
    "Итак, для начала определимся с базовым случаем. Он простой: если элемент является строкой, вернем ее саму."
   ],
   "metadata": {
    "collapsed": false
   },
   "id": "7796bae8a5a8f079"
  },
  {
   "cell_type": "markdown",
   "source": [
    "В противном случае нам нужно с помощью цикла for пройтись по всем элементам списка, чтобы понять, есть ли среди них вложенные списки. И если есть, то мы используем рекурсию: вызываем нашу же функцию и передаем ей в качестве аргумента новый список."
   ],
   "metadata": {
    "collapsed": false
   },
   "id": "eb0a36eb420bfb9a"
  },
  {
   "cell_type": "markdown",
   "source": [
    "Рекурсивная реализация функции get_all_str():"
   ],
   "metadata": {
    "collapsed": false
   },
   "id": "7f1277ad28b6cbd7"
  },
  {
   "cell_type": "code",
   "execution_count": 1,
   "outputs": [],
   "source": [
    "def get_all_str(data):\n",
    "    if type(data) == str:\n",
    "        print(data, end=' ')            # базовый случай\n",
    "    if type(data) == list:\n",
    "        for i in data:\n",
    "            get_all_str(i)              # рекурсивный случай"
   ],
   "metadata": {
    "collapsed": false,
    "ExecuteTime": {
     "end_time": "2024-12-06T12:56:55.609683200Z",
     "start_time": "2024-12-06T12:56:55.606640400Z"
    }
   },
   "id": "ac7b9ca1a9d11531"
  },
  {
   "cell_type": "code",
   "execution_count": 2,
   "outputs": [
    {
     "name": "stdout",
     "output_type": "stream",
     "text": [
      "1 2 3 4 5 6 7 "
     ]
    }
   ],
   "source": [
    "numbers = ['1', ['2', '3', ['4'], ['5', ['6', '7']]]]\n",
    "get_all_str(numbers)"
   ],
   "metadata": {
    "collapsed": false,
    "ExecuteTime": {
     "end_time": "2024-12-06T12:57:04.744491600Z",
     "start_time": "2024-12-06T12:57:04.740466500Z"
    }
   },
   "id": "ba5b6fb160d6350e"
  },
  {
   "cell_type": "markdown",
   "source": [
    "Задача 2. Дан словарь произвольной вложенности, то есть значениями в словаре могут быть другие словари. Необходимо определить значение, которое соответствует заданному ключу, и вернуть его. При этом гарантируется, что такой ключ имеется в словаре, причем он единственный. "
   ],
   "metadata": {
    "collapsed": false
   },
   "id": "f787bf09d03101a6"
  },
  {
   "cell_type": "markdown",
   "source": [
    "Решение. Реализуем рекурсивную функцию find_key(), которая принимает два аргумента в следующем порядке:\n",
    "\n",
    "data — словарь произвольной вложенности\n",
    "key — ключ, значение которого нужно вернуть"
   ],
   "metadata": {
    "collapsed": false
   },
   "id": "516fa06c1a13407f"
  },
  {
   "cell_type": "markdown",
   "source": [
    "Итак, для начала определимся с базовым случаем. Он простой: если ключ есть в словаре, вернем его значение.\n",
    "\n",
    "В противном случае нам нужно с помощью цикла for пройтись по всем ключам и значениям словаря, чтобы понять, есть ли среди значений вложенные словари. И если значением является вложенный словарь, то мы используем рекурсию: вызываем нашу же функцию и передаем ей в качестве аргумента новый словарь. \n",
    "\n",
    " Рекурсивная реализация функции find_key():"
   ],
   "metadata": {
    "collapsed": false
   },
   "id": "bf204f58a69782da"
  },
  {
   "cell_type": "code",
   "execution_count": 4,
   "outputs": [],
   "source": [
    "def find_key(data, key):\n",
    "    if key in data:\n",
    "        return data[key]                # базовый случай\n",
    "    \n",
    "    for v in data.values():\n",
    "        if type(v) == dict:\n",
    "            value = find_key(v, key)    # рекурсивный случай\n",
    "            if value is not None:\n",
    "                return value"
   ],
   "metadata": {
    "collapsed": false,
    "ExecuteTime": {
     "end_time": "2024-12-06T13:00:02.210299100Z",
     "start_time": "2024-12-06T13:00:02.207786400Z"
    }
   },
   "id": "420103e5ddca4baf"
  },
  {
   "cell_type": "code",
   "execution_count": 5,
   "outputs": [
    {
     "name": "stdout",
     "output_type": "stream",
     "text": [
      "1974\n",
      "Alan Hannigan\n"
     ]
    }
   ],
   "source": [
    "info = {'name': 'Alyson', \n",
    "        'surname': 'Hannigan', \n",
    "        'birthday': {'day': 24, 'month': 'March', 'year': 1974},\n",
    "        'family': {'parents': {'mother': 'Emilie Posner', 'father': 'Alan Hannigan'}}}\n",
    "\n",
    "print(find_key(info, 'year'))\n",
    "print(find_key(info, 'father'))"
   ],
   "metadata": {
    "collapsed": false,
    "ExecuteTime": {
     "end_time": "2024-12-06T13:00:03.213074800Z",
     "start_time": "2024-12-06T13:00:03.207952700Z"
    }
   },
   "id": "82940ce30e7ea572"
  },
  {
   "cell_type": "markdown",
   "source": [
    "Настройка глубины рекурсии в Python"
   ],
   "metadata": {
    "collapsed": false
   },
   "id": "e690d695a9c159f9"
  },
  {
   "cell_type": "markdown",
   "source": [
    "По умолчанию Python имеет ограничение на максимальную глубину рекурсивных вызовов. Это ограничение не позволяет бесконечной рекурсии вызывать переполнение стека.\n",
    "\n",
    "Получить значение по умолчанию для максимальной глубины рекурсии можно с помощью функции getrecursionlimit() из модуля sys."
   ],
   "metadata": {
    "collapsed": false
   },
   "id": "ad143791c2e47882"
  },
  {
   "cell_type": "code",
   "execution_count": 6,
   "outputs": [
    {
     "name": "stdout",
     "output_type": "stream",
     "text": [
      "3000\n"
     ]
    }
   ],
   "source": [
    "from sys import getrecursionlimit\n",
    "\n",
    "limit = getrecursionlimit()\n",
    "\n",
    "print(limit)"
   ],
   "metadata": {
    "collapsed": false,
    "ExecuteTime": {
     "end_time": "2024-12-06T13:00:39.536627Z",
     "start_time": "2024-12-06T13:00:39.529604700Z"
    }
   },
   "id": "6ab1c6c6aac6e9e8"
  },
  {
   "cell_type": "markdown",
   "source": [
    "Мы также можем явно установить значение максимальной глубины рекурсии. Для этого используется функция setrecursionlimit() из модуля sys."
   ],
   "metadata": {
    "collapsed": false
   },
   "id": "fc2449611a1248b7"
  },
  {
   "cell_type": "code",
   "execution_count": null,
   "outputs": [],
   "source": [
    "import sys\n",
    "\n",
    "limit = sys.getrecursionlimit()\n",
    "print(limit)\n",
    "\n",
    "sys.setrecursionlimit(6000)\n",
    "new_limit = sys.getrecursionlimit()\n",
    "print(new_limit)"
   ],
   "metadata": {
    "collapsed": false
   },
   "id": "fd596db0af11e55a"
  },
  {
   "cell_type": "markdown",
   "source": [
    "Зачастую значения по умолчанию хватает для любых задач, и изменять его следует с осторожностью, потому что слишком высокий предел может привести к сбою. Если текущего значения глубины не хватает, то имеет смысл для безопасности использовать итеративный алгоритм, а не рекурсивный."
   ],
   "metadata": {
    "collapsed": false
   },
   "id": "c20999bd3fa57256"
  },
  {
   "cell_type": "markdown",
   "source": [
    "Примечание\n",
    "Примечание. Рекомендуемые книги для дальнейшего углубленного изучения рекурсии:\n",
    "\n",
    "Рубио-Санчес М. \"Введение в рекурсивное программирование\"\n",
    "Eric S. Roberts \"Thinking Recursively\""
   ],
   "metadata": {
    "collapsed": false
   },
   "id": "54b1a3e49c220cab"
  },
  {
   "cell_type": "markdown",
   "source": [
    "Функция recursive_sum()\n",
    "Реализуйте recursive_sum() с использованием рекурсии, которая принимает один аргумент:\n",
    "\n",
    "nested_lists — список, элементами которого являются целые числа или списки, элементами которых, в свою очередь, также являются либо целые числа, либо списки; вложенность может быть произвольной\n",
    "Функция должна вычислять сумму всех чисел во всех списках и возвращать полученный результат. Если список nested_lists пуст, функция должна вернуть число 0."
   ],
   "metadata": {
    "collapsed": false
   },
   "id": "208ff5419cfc55dd"
  },
  {
   "cell_type": "code",
   "execution_count": 27,
   "outputs": [
    {
     "name": "stdout",
     "output_type": "stream",
     "text": [
      "0\n"
     ]
    }
   ],
   "source": [
    "l = []\n",
    "def recursive_sum(data: list):\n",
    "    if isinstance(data, int):\n",
    "        l.append(data)\n",
    "    if isinstance(data, list):\n",
    "        for i in data:\n",
    "            recursive_sum(i)              # рекурсивный случай\n",
    "    return sum(l)\n",
    "\n",
    "# my_list = [1, [4, 4], 2, [1, [2, 10]]]\n",
    "# \n",
    "# print(recursive_sum(my_list))\n",
    "\n",
    "my_list = []\n",
    "\n",
    "print(recursive_sum(my_list))"
   ],
   "metadata": {
    "collapsed": false,
    "ExecuteTime": {
     "end_time": "2024-12-06T13:14:54.546975200Z",
     "start_time": "2024-12-06T13:14:54.539809200Z"
    }
   },
   "id": "11d1989521390328"
  },
  {
   "cell_type": "code",
   "execution_count": null,
   "outputs": [],
   "source": [
    "def recursive_sum(nested_lists):\n",
    "    total = 0\n",
    "    for elem in nested_lists:\n",
    "        if isinstance(elem, list):\n",
    "            total += recursive_sum(elem)\n",
    "        else:\n",
    "            total += elem\n",
    "    return total"
   ],
   "metadata": {
    "collapsed": false
   },
   "id": "52d585e33449f131"
  },
  {
   "cell_type": "code",
   "execution_count": 24,
   "outputs": [
    {
     "name": "stdout",
     "output_type": "stream",
     "text": [
      "1\n",
      "4\n",
      "4\n",
      "2\n",
      "1\n",
      "2\n",
      "10\n",
      "None\n"
     ]
    }
   ],
   "source": [
    "def get_all_str(data):\n",
    "    if type(data) == str:\n",
    "        print(data, end=' ')            # базовый случай\n",
    "    if type(data) == list:\n",
    "        for i in data:\n",
    "            get_all_str(i)              # рекурсивный случай\n",
    "            \n",
    "my_list = [1, [4, 4], 2, [1, [2, 10]]]\n",
    "\n",
    "print(get_all_str(my_list))"
   ],
   "metadata": {
    "collapsed": false,
    "ExecuteTime": {
     "end_time": "2024-12-06T13:12:23.377663600Z",
     "start_time": "2024-12-06T13:12:23.374357500Z"
    }
   },
   "id": "a87ed21bf0346506"
  },
  {
   "cell_type": "markdown",
   "source": [
    "Функция linear()\n",
    "Линеаризация — это процесс преобразования списка, который может содержать несколько уровней вложенных списков, в список, содержащий все те же элементы без какой-либо вложенности.\n",
    "\n",
    "Например, список:\n",
    "\n",
    "[1, [2, 3], [4, [5, 6, [7, 8, 9]]]]\n",
    "после линеаризации будет иметь вид:\n",
    "\n",
    "[1, 2, 3, 4, 5, 6, 7, 8, 9]\n",
    "Реализуйте linear() с использованием рекурсии, которая принимает один аргумент:\n",
    "\n",
    "nested_lists — список, элементами которого являются целые числа или списки, элементами которых, в свою очередь, также являются либо целые числа, либо списки; вложенность может быть произвольной\n",
    "Функция должна возвращать новый список, представляющий собой линеаризованный список nested_lists"
   ],
   "metadata": {
    "collapsed": false
   },
   "id": "db990eef338cf7f5"
  },
  {
   "cell_type": "code",
   "execution_count": 45,
   "outputs": [
    {
     "name": "stdout",
     "output_type": "stream",
     "text": [
      "[3, 4, 5, 6, 7, 8]\n",
      "[3, 4, 5, 6, 7, 8]\n"
     ]
    }
   ],
   "source": [
    "def linear(nested_lists: list) -> list:\n",
    "    l = []\n",
    "    def inner(data):\n",
    "        if isinstance(data, int):\n",
    "            l.append(data)\n",
    "        elif isinstance(data, list):\n",
    "            for i in data:\n",
    "                inner(i)\n",
    "    inner(nested_lists)\n",
    "    return l\n",
    "\n",
    "my_list = [3, [4], [5, [6, [7, 8]]]]\n",
    "print(linear(my_list))\n",
    "\n",
    "my_list = [3, [4], [5, [6, [7, 8]]]]\n",
    "print(linear(my_list))"
   ],
   "metadata": {
    "collapsed": false,
    "ExecuteTime": {
     "end_time": "2024-12-06T13:44:33.520337700Z",
     "start_time": "2024-12-06T13:44:33.512395400Z"
    }
   },
   "id": "ddafb5dcb00ab546"
  },
  {
   "cell_type": "markdown",
   "source": [
    "Функция get_value()\n",
    "Реализуйте функцию get_value(), которая принимает два аргумента в следующем порядке:\n",
    "\n",
    "nested_dicts — словарь, содержащий в качестве значений произвольные объекты или словари, которые, в свою очередь, так же содержат в качестве значений произвольные объекты или словари; вложенность может быть произвольной\n",
    "key — хешируемый объект\n",
    "Функция должна определять значение, которое соответствует ключу key в словаре nested_dicts или в одном из его вложенных словарей, и возвращать полученный результат.\n",
    "\n",
    "Примечание 1. Гарантируется, что ключ key присутствует в словаре nested_dicts или в одном из его вложенных словарей, причем в единственном экземпляре."
   ],
   "metadata": {
    "collapsed": false
   },
   "id": "6dd8e398b5f2b1f"
  },
  {
   "cell_type": "code",
   "execution_count": 48,
   "outputs": [
    {
     "name": "stdout",
     "output_type": "stream",
     "text": [
      "Москва\n"
     ]
    }
   ],
   "source": [
    "def get_value(nested_dicts: dict, key):\n",
    "    if key in nested_dicts:\n",
    "        return nested_dicts[key]\n",
    "    \n",
    "    for i in nested_dicts.values():\n",
    "        if isinstance(i, dict):\n",
    "            value = get_value(i, key)\n",
    "            if value is not None:\n",
    "                return value\n",
    "\n",
    "\n",
    "data = {'firstName': 'Тимур', 'lastName': 'Гуев', 'birthDate': {'day': 10, 'month': 'October', 'year': 1993}, 'address': {'streetAddress': 'Часовая 25, кв. 127', 'city': {'region': 'Московская область', 'type': 'город', 'cityName': 'Москва'}, 'postalCode': '125315'}}\n",
    "\n",
    "print(get_value(data, 'cityName'))"
   ],
   "metadata": {
    "collapsed": false,
    "ExecuteTime": {
     "end_time": "2024-12-09T06:19:35.228792800Z",
     "start_time": "2024-12-09T06:19:35.225633Z"
    }
   },
   "id": "ed8f354edd3de517"
  },
  {
   "cell_type": "code",
   "execution_count": null,
   "outputs": [],
   "source": [
    "from collections import ChainMap\n",
    "\n",
    "def get_value(nested_dicts, key):\n",
    "    if key in nested_dicts:\n",
    "        return nested_dicts[key]\n",
    "\n",
    "    return get_value(ChainMap(*[v for v in nested_dicts.values() if isinstance(v, dict)]), key)"
   ],
   "metadata": {
    "collapsed": false
   },
   "id": "43ca2307d8dd3abf"
  },
  {
   "cell_type": "markdown",
   "source": [
    "Функция get_all_values() 🌶️\n",
    "Реализуйте функцию get_all_values(), которая принимает два аргумента в следующем порядке:\n",
    "\n",
    "nested_dicts — словарь, содержащий в качестве значений произвольные объекты или словари, которые, в свою очередь, так же содержат в качестве значений произвольные объекты или словари; вложенность может быть произвольной\n",
    "key — хешируемый объект\n",
    "Функция должна определять все значения, которые соответствуют ключу key в словаре nested_dicts и всех его вложенных словарях, и возвращать их в виде множества. Если ключа key нет ни в одном словаре, функция должна вернуть пустое множество.\n",
    "\n",
    "Примечание 1. Гарантируется, что все искомые значения являются хешируемыми объектами, т.е. могут быть элементами множества."
   ],
   "metadata": {
    "collapsed": false
   },
   "id": "883f67c147f7c1a9"
  },
  {
   "cell_type": "code",
   "execution_count": 51,
   "outputs": [
    {
     "name": "stdout",
     "output_type": "stream",
     "text": [
      "4 5\n",
      "math videogames\n"
     ]
    }
   ],
   "source": [
    "def get_all_values(nested_dicts: dict, key):\n",
    "    st = set()\n",
    "    for k, v in nested_dicts.items():\n",
    "        if key == k:\n",
    "            st.add(v)\n",
    "            \n",
    "    for i in nested_dicts.values():\n",
    "        if isinstance(i, dict):\n",
    "            value = get_all_values(i, key)\n",
    "            if value is not None:\n",
    "                st.update(value)\n",
    "    return st\n",
    "\n",
    "my_dict = {'users': {'Arthur': {'grades': [4, 4, 3], 'top_grade': 4}, 'Timur': {'grades': [5, 5, 5], 'top_grade': 5}}}\n",
    "result = get_all_values(my_dict, 'top_grade')\n",
    "\n",
    "print(*sorted(result))\n",
    "\n",
    "my_dict = {'Arthur': {'hobby': 'videogames', 'drink': 'cacao'}, 'Timur': {'hobby': 'math'}}\n",
    "result = get_all_values(my_dict, 'hobby')\n",
    "\n",
    "print(*sorted(result))"
   ],
   "metadata": {
    "collapsed": false,
    "ExecuteTime": {
     "end_time": "2024-12-09T06:39:42.298539100Z",
     "start_time": "2024-12-09T06:39:42.295243300Z"
    }
   },
   "id": "60a11f47dfae6226"
  },
  {
   "cell_type": "code",
   "execution_count": null,
   "outputs": [],
   "source": [
    "def get_all_values(nested_dicts, key, res=()):\n",
    "    res=set()\n",
    "    for k,v in nested_dicts.items():\n",
    "        if key in nested_dicts:\n",
    "            res.add(nested_dicts[key])\n",
    "        if type(v)==dict:\n",
    "            res.update(get_all_values(v,key))\n",
    "    return res"
   ],
   "metadata": {
    "collapsed": false
   },
   "id": "b8737833f0e1f53a"
  },
  {
   "cell_type": "markdown",
   "source": [
    "можно даже не проверять наличие ключа... просто в конце - вычесть None из сета"
   ],
   "metadata": {
    "collapsed": false
   },
   "id": "feb677bd1b4d6c2e"
  },
  {
   "cell_type": "code",
   "execution_count": null,
   "outputs": [],
   "source": [
    "def get_all_values(nested_dict: dict, key: object) -> set:\n",
    "    res = {nested_dict.get(key)}\n",
    "    for v in nested_dict.values():\n",
    "        if isinstance(v, dict):\n",
    "            res.update(get_all_values(v, key))\n",
    "    return res - {None}"
   ],
   "metadata": {
    "collapsed": false
   },
   "id": "fa54b86841c9378f"
  },
  {
   "cell_type": "markdown",
   "source": [
    "Функция dict_travel() 🌶️🌶️\n",
    "Реализуйте функцию dict_travel(), которая принимает один аргумент:\n",
    "\n",
    "nested_dicts — словарь, содержащий в качестве значений числа, строки или словари, которые, в свою очередь, так же содержат в качестве значений числа, строки или словари; вложенность может быть произвольной\n",
    "Функция должна выводить все пары ключ-значение словаря nested_dicts, а также значения всех его дочерних словарей. При выводе значений дочерних словарей необходимо перечислять имена всех ключей, начиная с верхнего уровня, разделяя их точками.\n",
    "\n",
    "Например, в словаре:\n",
    "\n",
    "{'name': 'Arthur', 'grades': {'math': 4, 'chemistry': 3}}\n",
    "значение 4 должно быть выведено в следующем формате:\n",
    "\n",
    "grades.math: 4\n",
    "Все пары ключ-значение должны быть расположены в лексикографическом порядке, каждая на отдельной строке.\n",
    "\n",
    "Примечание 1. Гарантируется, что ключами в подаваемом в функцию словаре являются строки, содержащие только латинские буквы в нижнем регистре.\n",
    "\n",
    "Примечание 2. Гарантируется, что ни один ключ в подаваемом в функцию словаре не является последовательностью других ключей. Другими словами, словарь не может иметь, например, следующий вид:\n",
    "\n",
    "{'b.c': 1, 'b': {'c': 30, 'a': 10, 'b': 20}}"
   ],
   "metadata": {
    "collapsed": false
   },
   "id": "686caa19c0b032a5"
  },
  {
   "cell_type": "code",
   "execution_count": 129,
   "outputs": [
    {
     "name": "stdout",
     "output_type": "stream",
     "text": [
      "a: 1\n",
      "b.a: 10\n",
      "b.b: 20\n",
      "b.c: 30\n"
     ]
    }
   ],
   "source": [
    "def dict_travel(nested_dicts: dict, path = None):\n",
    "\n",
    "    def inner_function(nested_dicts: dict, path = None):\n",
    "        if path is None:\n",
    "            path = list()\n",
    "            \n",
    "        final_list = list()\n",
    "        for k, v in nested_dicts.items():\n",
    "            if isinstance(v, dict):\n",
    "                result = inner_function(v, path + [k])\n",
    "                if result:\n",
    "                    final_list.extend(result)\n",
    "            else:\n",
    "                final_list.append(f\"{'.'.join(path + [k])}: {v}\")\n",
    "        \n",
    "        final_list.sort()    \n",
    "\n",
    "        return final_list\n",
    "    result = inner_function(nested_dicts, path)\n",
    "    \n",
    "    for i in result:\n",
    "        print(i)\n",
    "\n",
    "data = {'a': 1, 'b': {'c': 30, 'a': 10, 'b': 20}}\n",
    "\n",
    "dict_travel(data)"
   ],
   "metadata": {
    "collapsed": false,
    "ExecuteTime": {
     "end_time": "2024-12-09T08:10:20.848675100Z",
     "start_time": "2024-12-09T08:10:20.845271500Z"
    }
   },
   "id": "b11095ce84be1064"
  },
  {
   "cell_type": "code",
   "execution_count": null,
   "outputs": [],
   "source": [
    "def dict_travel(data):\n",
    "    \n",
    "    for k, v in sorted(data.items()):\n",
    "        if isinstance(v, dict):\n",
    "            dict_travel({f'{k}.{key}': val for key, val in v.items()})\n",
    "        else:\n",
    "            print(f'{k}: {v}') "
   ],
   "metadata": {
    "collapsed": false
   },
   "id": "bb7605b6285a800c"
  },
  {
   "cell_type": "code",
   "execution_count": null,
   "outputs": [],
   "source": [
    "def dict_travel(data, path=''):\n",
    "\n",
    "    for k, v in sorted(data.items()):\n",
    "        if type(v) == dict:\n",
    "            dict_travel(v, path + '.' + k)\n",
    "        else:\n",
    "            print(f\"{(path + '.' + k)[1:]}: {v}\")"
   ],
   "metadata": {
    "collapsed": false
   },
   "id": "83fd397f26a9cd5a"
  }
 ],
 "metadata": {
  "kernelspec": {
   "display_name": "Python 3",
   "language": "python",
   "name": "python3"
  },
  "language_info": {
   "codemirror_mode": {
    "name": "ipython",
    "version": 2
   },
   "file_extension": ".py",
   "mimetype": "text/x-python",
   "name": "python",
   "nbconvert_exporter": "python",
   "pygments_lexer": "ipython2",
   "version": "2.7.6"
  }
 },
 "nbformat": 4,
 "nbformat_minor": 5
}
